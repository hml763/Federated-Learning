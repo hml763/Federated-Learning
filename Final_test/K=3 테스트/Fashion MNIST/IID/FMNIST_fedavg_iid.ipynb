{
 "cells": [
  {
   "cell_type": "code",
   "execution_count": 1,
   "metadata": {
    "executionInfo": {
     "elapsed": 4865,
     "status": "ok",
     "timestamp": 1628007801700,
     "user": {
      "displayName": "이훈민",
      "photoUrl": "",
      "userId": "00157268181097362793"
     },
     "user_tz": 240
    },
    "id": "cg7gm5FVyA3r"
   },
   "outputs": [],
   "source": [
    "import numpy as np\n",
    "import tensorflow as tf\n",
    "import matplotlib.pyplot as plt\n",
    "import sys\n",
    "import time\n",
    "import math\n",
    "import random\n",
    "import copy\n",
    "import warnings\n",
    "warnings.simplefilter(action='ignore', category=FutureWarning)\n",
    "\n",
    "import keras\n",
    "from tensorflow import keras\n",
    "from keras.models import Sequential\n",
    "from keras.layers import Dense, Dropout, Flatten\n",
    "from tensorflow.keras import datasets, layers, models\n",
    "from keras.layers.convolutional import Conv2D, MaxPooling2D\n",
    "from keras.layers import Dense, Activation, Flatten, Conv2D, MaxPooling2D\n",
    "from keras.utils.np_utils import to_categorical\n",
    "from sklearn.cluster import KMeans, AgglomerativeClustering\n",
    "#from tensorflow.keras.datasets import cifar10 \n",
    "from keras.datasets import fashion_mnist \n",
    "from sklearn.metrics import silhouette_samples, silhouette_score\n",
    "\n",
    "mod = sys.modules[__name__]"
   ]
  },
  {
   "cell_type": "code",
   "execution_count": 2,
   "metadata": {
    "executionInfo": {
     "elapsed": 77,
     "status": "ok",
     "timestamp": 1628007801775,
     "user": {
      "displayName": "이훈민",
      "photoUrl": "",
      "userId": "00157268181097362793"
     },
     "user_tz": 240
    },
    "id": "-gn3HoNnyGdo"
   },
   "outputs": [],
   "source": [
    "def distribution_check(dataset):\n",
    "        #분포가 다름;\n",
    "    one,two,three,four,five,six,seven,eight,nine,ten=0,0,0,0,0,0,0,0,0,0\n",
    "\n",
    "    for i in range(len(dataset)):\n",
    "        if(dataset[i]==1):    one+=1\n",
    "        elif(dataset[i]==2):  two+=1\n",
    "        elif(dataset[i]==3):  three+=1\n",
    "        elif(dataset[i]==4):  four+=1\n",
    "        elif(dataset[i]==5):  five+=1\n",
    "        elif(dataset[i]==6):  six+=1\n",
    "        elif(dataset[i]==7):  seven+=1\n",
    "        elif(dataset[i]==8):  eight+=1\n",
    "        elif(dataset[i]==9):  nine+=1\n",
    "        elif(dataset[i]==0):  ten+=1\n",
    "\n",
    "    #print(one,two,three,four,five,six,seven,eight,nine,ten)\n",
    "    #print(\"Sum : \", one+two+three+four+five+six+seven+eight+nine+ten)\n",
    "    sums = one+two+three+four+five+six+seven+eight+nine+ten\n",
    "    for_graph=[one,two,three,four,five,six,seven,eight,nine,ten]\n",
    "    \n",
    "    return for_graph, sums\n",
    "\n",
    "def local_model_generate(model): #초기 모델 생성\n",
    "    model = models.Sequential()\n",
    "    model.add(layers.Conv2D(32, (3, 3), activation='relu', input_shape=(28, 28, 1)))\n",
    "    model.add(layers.MaxPooling2D((2, 2)))\n",
    "    model.add(layers.Conv2D(64, (3, 3), activation='relu'))\n",
    "    model.add(layers.MaxPooling2D((2, 2)))\n",
    "    model.add(layers.Conv2D(64, (3, 3), activation='relu'))\n",
    "    model.add(layers.Flatten())\n",
    "    model.add(layers.Dense(64, activation='relu'))\n",
    "    model.add(layers.Dense(10, activation='softmax'))\n",
    "    \n",
    "    return model\n",
    "\n",
    "def step_function(data):\n",
    "    if data > 0:\n",
    "        return 1\n",
    "    else:\n",
    "        return 0\n",
    "\n",
    "def sigmoid(data):\n",
    "    return 1/(1+np.exp(-data))\n",
    "\n",
    "def relu(data):\n",
    "    return np.maximum(0,data)\n",
    "\n",
    "def random_check(local, train_data, test_data):\n",
    "    check_distribution_train_data, check_distribution_test_data, y_train_tmp, y_test_tmp = [], [], [], []\n",
    "    sum1, sum2, data_index = 0,0, np.arange(0,10)\n",
    "\n",
    "    for j in range(len(train_data)):\n",
    "        y_train_tmp.append(np.argmax(train_data[j])) #원핫인코딩에서 다시 0~9 레이블로 변환\n",
    "\n",
    "    for j in range(len(test_data)):\n",
    "        y_test_tmp.append(np.argmax(test_data[j]))\n",
    "\n",
    "    check_distribution_train_data, sum_train = distribution_check(y_train_tmp) #한번 밖에 실행 못함\n",
    "    check_distribution_test_data, sum_test = distribution_check(y_test_tmp)\n",
    "    sum1, sum2 = (sum1 + sum_train), (sum2 + sum_test)\n",
    "    \n",
    "    return check_distribution_train_data, check_distribution_test_data\n"
   ]
  },
  {
   "cell_type": "code",
   "execution_count": 3,
   "metadata": {
    "colab": {
     "base_uri": "https://localhost:8080/"
    },
    "executionInfo": {
     "elapsed": 1248,
     "status": "ok",
     "timestamp": 1628007803022,
     "user": {
      "displayName": "이훈민",
      "photoUrl": "",
      "userId": "00157268181097362793"
     },
     "user_tz": 240
    },
    "id": "i7g0ECm9tiiT",
    "outputId": "9f51e297-4dc7-4661-84fd-8f681f664222"
   },
   "outputs": [
    {
     "name": "stdout",
     "output_type": "stream",
     "text": [
      "(60000, 28, 28) (10000, 28, 28)\n"
     ]
    }
   ],
   "source": [
    "(x_train, y_train), (x_test, y_test) = fashion_mnist.load_data()\n",
    "print(x_train.shape, x_test.shape)\n",
    "num_train, num_test = len(x_train),  len(x_test) "
   ]
  },
  {
   "cell_type": "code",
   "execution_count": 4,
   "metadata": {
    "executionInfo": {
     "elapsed": 69,
     "status": "ok",
     "timestamp": 1628007805573,
     "user": {
      "displayName": "이훈민",
      "photoUrl": "",
      "userId": "00157268181097362793"
     },
     "user_tz": 240
    },
    "id": "XkIYZrvplXU0"
   },
   "outputs": [],
   "source": [
    "local = 10 # 10개 : 1~10 => 11은 포함 안됨\n",
    "batch_size, epochs = 32, 3\n",
    "global_epoch = 0\n",
    "num_layers = 8"
   ]
  },
  {
   "cell_type": "code",
   "execution_count": 5,
   "metadata": {
    "colab": {
     "base_uri": "https://localhost:8080/"
    },
    "executionInfo": {
     "elapsed": 164,
     "status": "ok",
     "timestamp": 1628007806858,
     "user": {
      "displayName": "이훈민",
      "photoUrl": "",
      "userId": "00157268181097362793"
     },
     "user_tz": 240
    },
    "id": "h3lM8ImZlYqW",
    "outputId": "9cdf3d16-898b-4cbd-af62-4ba9015a318c"
   },
   "outputs": [
    {
     "name": "stdout",
     "output_type": "stream",
     "text": [
      "Step 1 x_train shape: (60000, 28, 28)\n",
      "Step 2 x_train shape: (60000, 28, 28, 1)\n",
      "60000 train samples\n",
      "10000 test samples\n"
     ]
    }
   ],
   "source": [
    "# Model / data parameters\n",
    "num_classes = 10\n",
    "input_shape = (28, 28, 1)\n",
    "\n",
    "# Scale images to the [0, 1] range\n",
    "x_train = x_train.astype(\"float32\") / 255\n",
    "x_test = x_test.astype(\"float32\") / 255\n",
    "\n",
    "print(\"Step 1 x_train shape:\", x_train.shape)\n",
    "\n",
    "x_train = x_train.reshape((num_train, 28, 28, 1))\n",
    "x_test = x_test.reshape((num_test, 28, 28, 1))\n",
    "\n",
    "print(\"Step 2 x_train shape:\", x_train.shape)\n",
    "print(x_train.shape[0], \"train samples\")\n",
    "print(x_test.shape[0], \"test samples\")\n",
    "# convert class vectors to binary class matrices => one hot encoding 지금은 [3,6,2,5,4,8..] 섞여있음 \n",
    "\n",
    "y_train = keras.utils.to_categorical(y_train, num_classes)\n",
    "y_test = keras.utils.to_categorical(y_test, num_classes)"
   ]
  },
  {
   "cell_type": "code",
   "execution_count": 6,
   "metadata": {
    "colab": {
     "base_uri": "https://localhost:8080/"
    },
    "executionInfo": {
     "elapsed": 379,
     "status": "ok",
     "timestamp": 1628007810103,
     "user": {
      "displayName": "이훈민",
      "photoUrl": "",
      "userId": "00157268181097362793"
     },
     "user_tz": 240
    },
    "id": "xiMagvhYlZ_B",
    "outputId": "35a21b62-52d5-4d4d-dba2-4455296ae5be"
   },
   "outputs": [
    {
     "name": "stdout",
     "output_type": "stream",
     "text": [
      "0  번째 global_epoch 데이터 랜덤하게 준비!!\n",
      "check=>: should be 0 ==  60000\n",
      "0  번째 global_epoch 데이터 랜덤 준비완료!!\n"
     ]
    }
   ],
   "source": [
    "#랜덤 비복원추출, 동등하게 10% 씩 =  로컬 데이터 추출 ------------------------------------------------------------------------------\n",
    "\n",
    "global_epoch = 0\n",
    "\n",
    "print(global_epoch, \" 번째 global_epoch 데이터 랜덤하게 준비!!\")\n",
    "\n",
    "for i in range(1,local): #데이터 변수 선언, 빈 리스트로 초기화\n",
    "    globals()['L{}_x_train'.format(i)], globals()['L{}_x_test'.format(i)] = [], []  \n",
    "    globals()['L{}_y_train'.format(i)], globals()['L{}_y_test'.format(i)] = [], []  \n",
    "\n",
    "x_train_range = list(np.arange(0,len(x_train)))  #0~59,999\n",
    "x_test_range = list(np.arange(0,len(x_test)))  #0~9,999\n",
    "\n",
    "for n in range(1,local): #Data_x_train_range, 잘 작동함 => 확인 완료\n",
    "    tmp, tmp2 = [], []\n",
    "    tmp = random.sample(list(x_train_range), int(num_train/(local-1)))  #1/10개 만큼 인덱스 랜덤 비복원 추출 => 랜덤으로 해야함\n",
    "    tmp2 = random.sample(list(x_test_range), int(num_test/(local-1)))\n",
    "\n",
    "    for i in range(len(tmp)):\n",
    "        globals()['L{}_x_train'.format(n)].append(x_train[tmp[i]])  #n번째 Cluster에 분할한 실제 x_train 데이터 저장\n",
    "        globals()['L{}_y_train'.format(n)].append(y_train[tmp[i]]) \n",
    "        #x_train_range.remove(tmp[i])  #랜덤 하게 뽑힌 원소 6000개 추출했으니 안에서 삭제 => 비복원 추출\n",
    "\n",
    "    for j in range(len(tmp2)):\n",
    "        globals()['L{}_x_test'.format(n)].append(x_test[tmp2[j]])\n",
    "        globals()['L{}_y_test'.format(n)].append(y_test[tmp2[j]])\n",
    "        #x_test_range.remove(tmp2[j])  #랜덤 하게 뽑힌 원소 6000개 추출했으니 안에서 삭제 => 비복원 추출\n",
    "\n",
    "print(\"check=>: should be 0 == \", len(x_train_range))  #원소 하나도 없어야 함. 확인.\n",
    "\n",
    "print(global_epoch, \" 번째 global_epoch 데이터 랜덤 준비완료!!\")"
   ]
  },
  {
   "cell_type": "code",
   "execution_count": 7,
   "metadata": {
    "colab": {
     "base_uri": "https://localhost:8080/"
    },
    "executionInfo": {
     "elapsed": 222997,
     "status": "ok",
     "timestamp": 1627964939312,
     "user": {
      "displayName": "이훈민",
      "photoUrl": "",
      "userId": "00157268181097362793"
     },
     "user_tz": 240
    },
    "id": "gmU6gEQ3lbpD",
    "outputId": "c9ebbf36-8f43-4106-87b6-3c64198b0c25"
   },
   "outputs": [
    {
     "name": "stdout",
     "output_type": "stream",
     "text": [
      "\n",
      "\n",
      " 0 번째 global epoch에서 로컬 클라이언트 학습시작!\n",
      "\n",
      "학습 중 ...\n",
      "\n",
      "35/35 - 0s - loss: 0.4505 - accuracy: 0.8254\n",
      "35/35 - 0s - loss: 0.5307 - accuracy: 0.8101\n",
      "35/35 - 0s - loss: 0.5644 - accuracy: 0.7930\n",
      "35/35 - 0s - loss: 0.5478 - accuracy: 0.8047\n",
      "35/35 - 0s - loss: 0.5279 - accuracy: 0.8155\n",
      "35/35 - 0s - loss: 0.5554 - accuracy: 0.7984\n",
      "35/35 - 0s - loss: 0.5231 - accuracy: 0.7921\n",
      "35/35 - 0s - loss: 0.5661 - accuracy: 0.7741\n",
      "35/35 - 0s - loss: 0.5468 - accuracy: 0.8047\n",
      "0 번째 global epoch 로컬 클라이언트 학습완료!,  Total Training time :  62.210936546325684 \n",
      "\n",
      "\n"
     ]
    },
    {
     "name": "stderr",
     "output_type": "stream",
     "text": [
      "<ipython-input-7-f20c5e2bd164>:63: VisibleDeprecationWarning: Creating an ndarray from ragged nested sequences (which is a list-or-tuple of lists-or-tuples-or ndarrays with different lengths or shapes) is deprecated. If you meant to do this, you must specify 'dtype=object' when creating the ndarray\n",
      "  globals()['G{}_w_layer{}'.format(global_epoch, layer_index)] = globals()['G{}_w_layer{}'.format(global_epoch, layer_index)] + (np.array(globals()['L{}_layer{}_w'.format(i,layer_index)]) * w_scaler)\n"
     ]
    }
   ],
   "source": [
    "#준비된 데이터 (IID / NON-IID) np.array로\n",
    "\n",
    "global_epoch = 0\n",
    "acc, loss = 0, 0\n",
    "FedAvg_ACC, FedAvg_LOSS, fedavg_acc, fedavg_loss, acc, loss = [], [], [], [], 0, 0\n",
    "num_layers_list = [0,2,4,6,7]\n",
    "label_list = []\n",
    "VAR_final_list_w, VAR_final_list_b = [], []\n",
    "\n",
    "\n",
    "for i in range(1,local):\n",
    "    globals()['L{}_x_train'.format(i)] = np.array(globals()['L{}_x_train'.format(i)])\n",
    "    globals()['L{}_x_test'.format(i)] = np.array(globals()['L{}_x_test'.format(i)])\n",
    "    globals()['L{}_y_train'.format(i)] = np.array(globals()['L{}_y_train'.format(i)])\n",
    "    globals()['L{}_y_test'.format(i)] = np.array(globals()['L{}_y_test'.format(i)])\n",
    "\n",
    "\n",
    "print(\"\\n\\n\",global_epoch, \"번째 global epoch에서 로컬 클라이언트 학습시작!\\n\\n학습 중 ...\\n\")\n",
    "now = time.time()\n",
    "\n",
    "for i in range(1,local):\n",
    "    globals()['FedAvg_L{}_iter{}_model'.format(i, global_epoch)] = models.Sequential()  ##!!!!!!! 이게 글로벌 epoch에서는 2번째 부터 들어가면 안됨\n",
    "    globals()['FedAvg_L{}_iter{}_model'.format(i, global_epoch)] = local_model_generate(globals()['FedAvg_L{}_iter{}_model'.format(i, global_epoch)])      # initialize 필요 => 모델 프레임 구축\n",
    "\n",
    "    globals()['FedAvg_L{}_iter{}_model'.format(i, global_epoch)].compile(loss=\"categorical_crossentropy\", optimizer=\"adam\", metrics=[\"accuracy\"])\n",
    "\n",
    "    globals()['FedAvg_L{}_iter{}_model'.format(i, global_epoch)].fit(globals()['L{}_x_train'.format(i)], globals()['L{}_y_train'.format(i)], batch_size=batch_size, epochs=epochs, validation_split=0.1, verbose=0)\n",
    "\n",
    "    loss, acc = globals()['FedAvg_L{}_iter{}_model'.format(i, global_epoch)].evaluate(globals()['L{}_x_test'.format(i,global_epoch)], globals()['L{}_y_test'.format(i)], verbose=2)\n",
    "    \n",
    "    fedavg_acc.append(acc)  #acc 넣기\n",
    "    fedavg_loss.append(loss)  #loss 넣기\n",
    "\n",
    "\n",
    "\n",
    "print(global_epoch, \"번째 global epoch 로컬 클라이언트 학습완료!,  Total Training time : \", time.time()-now,\"\\n\\n\")\n",
    "\n",
    "# 로컬 모델들 학습 완료하였고 로컬모델에서 weight, bias 추출 -------------------------------------------------------------------------------------\n",
    "\n",
    "for i in range(1, local):\n",
    "    for layer_index in num_layers_list:\n",
    "        w = globals()['FedAvg_L{}_iter{}_model'.format(i, global_epoch)].layers[layer_index].get_weights() #get_weights = w[0],b[1]로 구성\n",
    "\n",
    "        globals()['L{}_layer{}_w_tmp'.format(i,layer_index)] = w      # 클러스터링 용도\n",
    "        globals()['L{}_layer{}_w'.format(i,layer_index)] = w          # weight aggregation 용도\n",
    "            \n",
    "\n",
    "for layer_index in num_layers_list:\n",
    "\n",
    "    globals()['layer{}_W_tmp'.format(layer_index)] = []\n",
    "    globals()['G{}_w_layer{}'.format(global_epoch, layer_index)] = 0  #FedAvg 용도\n",
    "    \n",
    "    globals()['var_list_layer{}_w'.format(layer_index)] = []\n",
    "    globals()['var_list_layer{}_b'.format(layer_index)] = []\n",
    "  \n",
    "    w_scaler = 0\n",
    "    #------------------------------------------------FedAvg--------------------------------------------------------\n",
    "    for i in range(1, local):\n",
    "        globals()['var_list_layer{}_w'.format(layer_index)].append(np.var(globals()['L{}_layer{}_w'.format(i,layer_index)][0]))\n",
    "        globals()['var_list_layer{}_b'.format(layer_index)].append(np.var(globals()['L{}_layer{}_w'.format(i,layer_index)][1]))\n",
    "      \n",
    "        w_scaler = len(globals()['L{}_x_train'.format(i)]) / 60000\n",
    "        globals()['G{}_w_layer{}'.format(global_epoch, layer_index)] = globals()['G{}_w_layer{}'.format(global_epoch, layer_index)] + (np.array(globals()['L{}_layer{}_w'.format(i,layer_index)]) * w_scaler)\n",
    "    \n",
    "    globals()['G{}_w_layer{}'.format(global_epoch, layer_index)] = np.array(globals()['G{}_w_layer{}'.format(global_epoch, layer_index)]) / (local-1)   #np.array로 변함\n",
    "    \n",
    "    VAR_final_list_w.append(globals()['var_list_layer{}_w'.format(layer_index)])\n",
    "    VAR_final_list_b.append(globals()['var_list_layer{}_b'.format(layer_index)])\n",
    "    \n",
    "#---------------------------------------------------------메모리 삭제-------------------------------------------------------------------\n",
    "\n",
    "\n",
    "FedAvg_ACC.append(fedavg_acc)\n",
    "FedAvg_LOSS.append(fedavg_loss)\n",
    "    \n",
    "#---------------------------------------------------------메모리 삭제-------------------------------------------------------------------\n",
    "\n",
    "transformed = 0\n",
    "\n",
    "## G{}_num_clusters_in_layer{}_w 에 속하는 거 말고 삭제 = 메모리 낭비\n",
    "\n",
    "# Weight, bias 합친 것\n",
    " # FedAvg                   :  G{}_w_layer\n",
    " # 일반 클러스터링          :  G{}_c{}_w_layer{}               클러스터 갯수 파악 : G{}_num_clusters_in_layer{}_w\n",
    " # Actiavtion + 클러스터링  :  G{}_c{}_w_layer{}_Act           클러스터 갯수 파악 : G{}_num_clusters_in_layer{}_w_c_a"
   ]
  },
  {
   "cell_type": "code",
   "execution_count": 8,
   "metadata": {
    "colab": {
     "base_uri": "https://localhost:8080/"
    },
    "id": "fGKddODnldWw",
    "outputId": "7b4852cf-0747-4f03-bdde-ddf306dc6d69",
    "scrolled": true
   },
   "outputs": [
    {
     "name": "stdout",
     "output_type": "stream",
     "text": [
      "1  번째 global_epoch 데이터 랜덤하게 준비!!\n",
      "1  번째 global_epoch 데이터 랜덤 준비완료!!\n",
      "\n",
      "\n",
      "1  번째 global epoch에서 로컬 클라이언트 들 학습시작!\n",
      "\n",
      "학습 중 ...\n",
      "\n",
      "35/35 - 0s - loss: 0.8948 - accuracy: 0.6625\n",
      "35/35 - 0s - loss: 0.7514 - accuracy: 0.7309\n",
      "35/35 - 0s - loss: 0.9460 - accuracy: 0.6391\n",
      "35/35 - 0s - loss: 0.6677 - accuracy: 0.7606\n",
      "35/35 - 0s - loss: 0.9349 - accuracy: 0.6607\n",
      "35/35 - 0s - loss: 2.3026 - accuracy: 0.1071\n",
      "35/35 - 0s - loss: 0.8597 - accuracy: 0.6859\n",
      "35/35 - 0s - loss: 2.3025 - accuracy: 0.1161\n",
      "35/35 - 0s - loss: 0.8928 - accuracy: 0.6670\n",
      "------------    1  번째 global epoch < FedAVG > 로컬 클라이언트 학습 완료!,  Total Training time :  58.77109432220459 ---------------------------\n",
      "\n",
      "\n",
      "\n",
      "\n",
      "====================================================== One Global Epoch =====================================================================\n",
      "\n",
      "\n",
      "2  번째 global_epoch 데이터 랜덤하게 준비!!\n"
     ]
    },
    {
     "name": "stderr",
     "output_type": "stream",
     "text": [
      "<ipython-input-8-fe768ad032fb>:87: VisibleDeprecationWarning: Creating an ndarray from ragged nested sequences (which is a list-or-tuple of lists-or-tuples-or ndarrays with different lengths or shapes) is deprecated. If you meant to do this, you must specify 'dtype=object' when creating the ndarray\n",
      "  globals()['G{}_w_layer{}'.format(global_epoch, layer_index)] = globals()['G{}_w_layer{}'.format(global_epoch, layer_index)] + (np.array(globals()['L{}_layer{}_w_tmp'.format(i,layer_index)])*w_scaler)\n"
     ]
    },
    {
     "name": "stdout",
     "output_type": "stream",
     "text": [
      "2  번째 global_epoch 데이터 랜덤 준비완료!!\n",
      "\n",
      "\n",
      "2  번째 global epoch에서 로컬 클라이언트 들 학습시작!\n",
      "\n",
      "학습 중 ...\n",
      "\n",
      "35/35 - 0s - loss: 0.8307 - accuracy: 0.6841\n",
      "35/35 - 0s - loss: 0.7946 - accuracy: 0.7021\n",
      "35/35 - 0s - loss: 0.9560 - accuracy: 0.6229\n",
      "35/35 - 0s - loss: 0.7783 - accuracy: 0.6886\n",
      "35/35 - 0s - loss: 0.7601 - accuracy: 0.7102\n",
      "35/35 - 0s - loss: 0.8346 - accuracy: 0.6931\n",
      "35/35 - 0s - loss: 0.8240 - accuracy: 0.6823\n",
      "35/35 - 0s - loss: 0.7642 - accuracy: 0.7192\n",
      "35/35 - 0s - loss: 0.8174 - accuracy: 0.6832\n",
      "------------    2  번째 global epoch < FedAVG > 로컬 클라이언트 학습 완료!,  Total Training time :  59.03969955444336 ---------------------------\n",
      "\n",
      "\n",
      "\n",
      "\n",
      "====================================================== One Global Epoch =====================================================================\n",
      "\n",
      "\n",
      "3  번째 global_epoch 데이터 랜덤하게 준비!!\n",
      "3  번째 global_epoch 데이터 랜덤 준비완료!!\n",
      "\n",
      "\n",
      "3  번째 global epoch에서 로컬 클라이언트 들 학습시작!\n",
      "\n",
      "학습 중 ...\n",
      "\n",
      "35/35 - 0s - loss: 0.7194 - accuracy: 0.7435\n",
      "35/35 - 0s - loss: 0.6957 - accuracy: 0.7300\n",
      "35/35 - 0s - loss: 0.7399 - accuracy: 0.7111\n",
      "35/35 - 0s - loss: 0.6992 - accuracy: 0.7273\n",
      "35/35 - 0s - loss: 0.6890 - accuracy: 0.7336\n",
      "35/35 - 0s - loss: 0.6480 - accuracy: 0.7489\n",
      "35/35 - 0s - loss: 0.6664 - accuracy: 0.7426\n",
      "35/35 - 0s - loss: 0.6721 - accuracy: 0.7408\n",
      "35/35 - 0s - loss: 0.6766 - accuracy: 0.7354\n",
      "------------    3  번째 global epoch < FedAVG > 로컬 클라이언트 학습 완료!,  Total Training time :  59.82117247581482 ---------------------------\n",
      "\n",
      "\n",
      "\n",
      "\n",
      "====================================================== One Global Epoch =====================================================================\n",
      "\n",
      "\n",
      "4  번째 global_epoch 데이터 랜덤하게 준비!!\n",
      "4  번째 global_epoch 데이터 랜덤 준비완료!!\n",
      "\n",
      "\n",
      "4  번째 global epoch에서 로컬 클라이언트 들 학습시작!\n",
      "\n",
      "학습 중 ...\n",
      "\n",
      "35/35 - 0s - loss: 0.6411 - accuracy: 0.7498\n",
      "35/35 - 0s - loss: 0.6275 - accuracy: 0.7723\n",
      "35/35 - 0s - loss: 0.6567 - accuracy: 0.7606\n",
      "35/35 - 0s - loss: 0.6448 - accuracy: 0.7696\n",
      "35/35 - 0s - loss: 0.7001 - accuracy: 0.7237\n",
      "35/35 - 0s - loss: 0.6086 - accuracy: 0.7822\n",
      "35/35 - 0s - loss: 0.6166 - accuracy: 0.7750\n",
      "35/35 - 0s - loss: 0.6560 - accuracy: 0.7696\n",
      "35/35 - 0s - loss: 0.6295 - accuracy: 0.7543\n",
      "------------    4  번째 global epoch < FedAVG > 로컬 클라이언트 학습 완료!,  Total Training time :  59.013630867004395 ---------------------------\n",
      "\n",
      "\n",
      "\n",
      "\n",
      "====================================================== One Global Epoch =====================================================================\n",
      "\n",
      "\n",
      "5  번째 global_epoch 데이터 랜덤하게 준비!!\n",
      "5  번째 global_epoch 데이터 랜덤 준비완료!!\n",
      "\n",
      "\n",
      "5  번째 global epoch에서 로컬 클라이언트 들 학습시작!\n",
      "\n",
      "학습 중 ...\n",
      "\n",
      "35/35 - 0s - loss: 0.5743 - accuracy: 0.7930\n",
      "35/35 - 0s - loss: 0.6185 - accuracy: 0.7777\n",
      "35/35 - 0s - loss: 0.5635 - accuracy: 0.7948\n",
      "35/35 - 0s - loss: 0.5971 - accuracy: 0.7723\n",
      "35/35 - 0s - loss: 0.6213 - accuracy: 0.7678\n",
      "35/35 - 0s - loss: 0.5950 - accuracy: 0.7966\n",
      "35/35 - 0s - loss: 0.5682 - accuracy: 0.7930\n",
      "35/35 - 0s - loss: 0.6020 - accuracy: 0.7642\n",
      "35/35 - 0s - loss: 0.5500 - accuracy: 0.7984\n",
      "------------    5  번째 global epoch < FedAVG > 로컬 클라이언트 학습 완료!,  Total Training time :  60.232062101364136 ---------------------------\n",
      "\n",
      "\n",
      "\n",
      "\n",
      "====================================================== One Global Epoch =====================================================================\n",
      "\n",
      "\n",
      "6  번째 global_epoch 데이터 랜덤하게 준비!!\n",
      "6  번째 global_epoch 데이터 랜덤 준비완료!!\n",
      "\n",
      "\n",
      "6  번째 global epoch에서 로컬 클라이언트 들 학습시작!\n",
      "\n",
      "학습 중 ...\n",
      "\n",
      "35/35 - 0s - loss: 0.5196 - accuracy: 0.8011\n",
      "35/35 - 0s - loss: 0.5186 - accuracy: 0.8164\n",
      "35/35 - 0s - loss: 0.5497 - accuracy: 0.8047\n",
      "35/35 - 0s - loss: 0.5171 - accuracy: 0.8209\n",
      "35/35 - 0s - loss: 0.5230 - accuracy: 0.8092\n",
      "35/35 - 0s - loss: 0.5055 - accuracy: 0.8092\n",
      "35/35 - 0s - loss: 0.4871 - accuracy: 0.8164\n",
      "35/35 - 0s - loss: 0.5352 - accuracy: 0.7894\n",
      "35/35 - 0s - loss: 0.5030 - accuracy: 0.8119\n",
      "------------    6  번째 global epoch < FedAVG > 로컬 클라이언트 학습 완료!,  Total Training time :  60.74033522605896 ---------------------------\n",
      "\n",
      "\n",
      "\n",
      "\n",
      "====================================================== One Global Epoch =====================================================================\n",
      "\n",
      "\n",
      "7  번째 global_epoch 데이터 랜덤하게 준비!!\n",
      "7  번째 global_epoch 데이터 랜덤 준비완료!!\n",
      "\n",
      "\n",
      "7  번째 global epoch에서 로컬 클라이언트 들 학습시작!\n",
      "\n",
      "학습 중 ...\n",
      "\n",
      "35/35 - 0s - loss: 0.4677 - accuracy: 0.8299\n",
      "35/35 - 0s - loss: 0.4606 - accuracy: 0.8227\n",
      "35/35 - 0s - loss: 0.4799 - accuracy: 0.8101\n",
      "35/35 - 0s - loss: 0.4730 - accuracy: 0.8182\n",
      "35/35 - 0s - loss: 0.4578 - accuracy: 0.8263\n",
      "35/35 - 0s - loss: 0.4840 - accuracy: 0.8191\n",
      "35/35 - 0s - loss: 0.4897 - accuracy: 0.8200\n",
      "35/35 - 0s - loss: 0.4486 - accuracy: 0.8470\n",
      "35/35 - 0s - loss: 0.4729 - accuracy: 0.8299\n",
      "------------    7  번째 global epoch < FedAVG > 로컬 클라이언트 학습 완료!,  Total Training time :  61.27970600128174 ---------------------------\n",
      "\n",
      "\n",
      "\n",
      "\n",
      "====================================================== One Global Epoch =====================================================================\n",
      "\n",
      "\n",
      "8  번째 global_epoch 데이터 랜덤하게 준비!!\n",
      "8  번째 global_epoch 데이터 랜덤 준비완료!!\n",
      "\n",
      "\n",
      "8  번째 global epoch에서 로컬 클라이언트 들 학습시작!\n",
      "\n",
      "학습 중 ...\n",
      "\n",
      "35/35 - 0s - loss: 0.4894 - accuracy: 0.8254\n",
      "35/35 - 0s - loss: 0.4909 - accuracy: 0.8389\n",
      "35/35 - 0s - loss: 0.4628 - accuracy: 0.8056\n",
      "35/35 - 0s - loss: 0.4589 - accuracy: 0.8416\n",
      "35/35 - 0s - loss: 0.4469 - accuracy: 0.8335\n",
      "35/35 - 0s - loss: 0.4370 - accuracy: 0.8389\n",
      "35/35 - 0s - loss: 0.4548 - accuracy: 0.8245\n",
      "35/35 - 0s - loss: 0.4361 - accuracy: 0.8317\n",
      "35/35 - 0s - loss: 0.4762 - accuracy: 0.8227\n",
      "------------    8  번째 global epoch < FedAVG > 로컬 클라이언트 학습 완료!,  Total Training time :  59.89246392250061 ---------------------------\n",
      "\n",
      "\n",
      "\n",
      "\n",
      "====================================================== One Global Epoch =====================================================================\n",
      "\n",
      "\n",
      "9  번째 global_epoch 데이터 랜덤하게 준비!!\n",
      "9  번째 global_epoch 데이터 랜덤 준비완료!!\n",
      "\n",
      "\n",
      "9  번째 global epoch에서 로컬 클라이언트 들 학습시작!\n",
      "\n",
      "학습 중 ...\n",
      "\n",
      "35/35 - 0s - loss: 0.4037 - accuracy: 0.8506\n",
      "35/35 - 0s - loss: 0.3896 - accuracy: 0.8488\n",
      "35/35 - 0s - loss: 0.4105 - accuracy: 0.8479\n",
      "35/35 - 0s - loss: 0.4123 - accuracy: 0.8452\n",
      "35/35 - 0s - loss: 0.4003 - accuracy: 0.8659\n",
      "35/35 - 0s - loss: 0.4532 - accuracy: 0.8335\n",
      "35/35 - 0s - loss: 0.4000 - accuracy: 0.8596\n",
      "35/35 - 0s - loss: 0.4360 - accuracy: 0.8362\n",
      "35/35 - 0s - loss: 0.4234 - accuracy: 0.8488\n",
      "------------    9  번째 global epoch < FedAVG > 로컬 클라이언트 학습 완료!,  Total Training time :  61.59225416183472 ---------------------------\n",
      "\n",
      "\n",
      "\n",
      "\n",
      "====================================================== One Global Epoch =====================================================================\n",
      "\n",
      "\n",
      "10  번째 global_epoch 데이터 랜덤하게 준비!!\n",
      "10  번째 global_epoch 데이터 랜덤 준비완료!!\n",
      "\n",
      "\n",
      "10  번째 global epoch에서 로컬 클라이언트 들 학습시작!\n",
      "\n",
      "학습 중 ...\n",
      "\n",
      "35/35 - 0s - loss: 0.4166 - accuracy: 0.8497\n",
      "35/35 - 0s - loss: 0.4493 - accuracy: 0.8362\n",
      "35/35 - 0s - loss: 0.4131 - accuracy: 0.8425\n",
      "35/35 - 0s - loss: 0.4496 - accuracy: 0.8362\n",
      "35/35 - 0s - loss: 0.4263 - accuracy: 0.8425\n",
      "35/35 - 0s - loss: 0.4224 - accuracy: 0.8353\n",
      "35/35 - 0s - loss: 0.4163 - accuracy: 0.8362\n",
      "35/35 - 0s - loss: 0.3917 - accuracy: 0.8578\n",
      "35/35 - 0s - loss: 0.3679 - accuracy: 0.8650\n",
      "------------    10  번째 global epoch < FedAVG > 로컬 클라이언트 학습 완료!,  Total Training time :  60.79012131690979 ---------------------------\n",
      "\n",
      "\n",
      "\n",
      "\n",
      "====================================================== One Global Epoch =====================================================================\n",
      "\n",
      "\n"
     ]
    }
   ],
   "source": [
    "G_epoch = 11\n",
    "\n",
    "for global_epoch in range(1, G_epoch):\n",
    "\n",
    "    for layer_index in num_layers_list:\n",
    "        for i in range(1, local):  #FedAvg\n",
    "            globals()['FedAvg_L{}_iter{}_model'.format(i,global_epoch)] = globals()['FedAvg_L{}_iter{}_model'.format(i,global_epoch-1)]   #구조만 필요\n",
    "\n",
    "            globals()['FedAvg_L{}_iter{}_model'.format(i,global_epoch)].layers[layer_index].set_weights(globals()['G{}_w_layer{}'.format(global_epoch-1, layer_index)])  #set_weights\n",
    "        \n",
    "           \n",
    "    #----------------------------------------------------------------데이터 새로 준비----------------------------------------------------------------------------------\n",
    "    print(global_epoch, \" 번째 global_epoch 데이터 랜덤하게 준비!!\")\n",
    "\n",
    "    for i in range(1,local): #데이터 변수 선언, 빈 리스트로 초기화\n",
    "        globals()['L{}_x_train'.format(i)], globals()['L{}_x_test'.format(i)] = [], []  \n",
    "        globals()['L{}_y_train'.format(i)], globals()['L{}_y_test'.format(i)] = [], []  \n",
    "\n",
    "    x_train_range = list(np.arange(0,len(x_train)))  #0~59,999\n",
    "    x_test_range = list(np.arange(0,len(x_test)))  #0~9,999\n",
    "\n",
    "    for n in range(1,local): #Data_x_train_range, 잘 작동함 => 확인 완료\n",
    "        tmp, tmp2 = [], []\n",
    "        tmp = random.sample(list(x_train_range), int(num_train/(local-1)))  #1/10개 만큼 인덱스 랜덤 비복원 추출 => 랜덤으로 해야함\n",
    "        tmp2 = random.sample(list(x_test_range), int(num_test/(local-1)))\n",
    "\n",
    "        for i in range(len(tmp)):\n",
    "            globals()['L{}_x_train'.format(n)].append(x_train[tmp[i]])  #n번째 Cluster에 분할한 실제 x_train 데이터 저장\n",
    "            globals()['L{}_y_train'.format(n)].append(y_train[tmp[i]]) \n",
    "            #x_train_range.remove(tmp[i])  #랜덤 하게 뽑힌 원소 6000개 추출했으니 안에서 삭제 => 비복원 추출\n",
    "\n",
    "        for j in range(len(tmp2)):\n",
    "            globals()['L{}_x_test'.format(n)].append(x_test[tmp2[j]])\n",
    "            globals()['L{}_y_test'.format(n)].append(y_test[tmp2[j]])\n",
    "            #x_test_range.remove(tmp2[j])  #랜덤 하게 뽑힌 원소 6000개 추출했으니 안에서 삭제 => 비복원 추출\n",
    "\n",
    "    for i in range(1,local):\n",
    "        globals()['L{}_x_train'.format(i)] = np.array(globals()['L{}_x_train'.format(i)])\n",
    "        globals()['L{}_x_test'.format(i)] = np.array(globals()['L{}_x_test'.format(i)])\n",
    "        globals()['L{}_y_train'.format(i)] = np.array(globals()['L{}_y_train'.format(i)])\n",
    "        globals()['L{}_y_test'.format(i)] = np.array(globals()['L{}_y_test'.format(i)])\n",
    "\n",
    "\n",
    "    print(global_epoch, \" 번째 global_epoch 데이터 랜덤 준비완료!!\\n\\n\")\n",
    "\n",
    "    print(global_epoch, \" 번째 global epoch에서 로컬 클라이언트 들 학습시작!\\n\\n학습 중 ...\\n\")\n",
    "    \n",
    "\n",
    "    #-------------------------------------------------------------------여기가 핵심, 알고리즘 3개 따로 학습시켜야 함--------------------------------------------------------------------\n",
    "\n",
    "\n",
    "    #======================================================================== FedAvg ========================================================================\n",
    "\n",
    "    fedavg_acc, fedavg_loss, now = [],[], time.time()\n",
    "\n",
    "    for i in range(1,local):\n",
    "        # 아까 옮겨줘서 모델 그대로 compile, train 시키면 됨      \n",
    "        globals()['FedAvg_L{}_iter{}_model'.format(i, global_epoch)].compile(loss=\"categorical_crossentropy\", optimizer=\"adam\", metrics=[\"accuracy\"])\n",
    "\n",
    "        globals()['FedAvg_L{}_iter{}_model'.format(i, global_epoch)].fit(globals()['L{}_x_train'.format(i)], globals()['L{}_y_train'.format(i)], batch_size=batch_size, epochs=epochs, validation_split=0.1, verbose=0)\n",
    "\n",
    "        loss, acc = globals()['FedAvg_L{}_iter{}_model'.format(i, global_epoch)].evaluate(globals()['L{}_x_test'.format(i)], globals()['L{}_y_test'.format(i)], verbose=2)\n",
    "        \n",
    "        fedavg_acc.append(acc)  #acc 넣기\n",
    "        fedavg_loss.append(loss)  #loss 넣기\n",
    "\n",
    "    print(\"------------   \", global_epoch, \" 번째 global epoch < FedAVG > 로컬 클라이언트 학습 완료!,  Total Training time : \", time.time()-now,\"---------------------------\\n\\n\")\n",
    "\n",
    "\n",
    "# 로컬 모델들 학습 완료, 로컬모델에서 weight, bias 추출 -------------------------------------------------------------------------------------\n",
    "\n",
    "\n",
    "    for i in range(1, local):        \n",
    "        for layer_index in num_layers_list:\n",
    "            globals()['L{}_layer{}_w_tmp'.format(i,layer_index)] = globals()['FedAvg_L{}_iter{}_model'.format(i, global_epoch)].layers[layer_index].get_weights() #get_weights = w[0],b[1]로 구성, FedAvg\n",
    "            \n",
    "    #------------------------------------------------FedAvg--------------------------------------------------------바로 Fedavg 시키기\n",
    "    \n",
    "    for layer_index in num_layers_list:\n",
    "        globals()['G{}_w_layer{}'.format(global_epoch, layer_index)] = 0\n",
    "\n",
    "        globals()['var_list_layer{}_w'.format(layer_index)] = []\n",
    "        globals()['var_list_layer{}_b'.format(layer_index)] = []\n",
    "        w_scaler = len(globals()['L{}_x_train'.format(i)]) / 60000\n",
    "        \n",
    "        for i in range(1, local):\n",
    "            globals()['G{}_w_layer{}'.format(global_epoch, layer_index)] = globals()['G{}_w_layer{}'.format(global_epoch, layer_index)] + (np.array(globals()['L{}_layer{}_w_tmp'.format(i,layer_index)])*w_scaler)\n",
    "\n",
    "        for i in range(1, local):\n",
    "            globals()['var_list_layer{}_w'.format(layer_index)].append(np.var(globals()['G{}_w_layer{}'.format(global_epoch, layer_index)][0]))            \n",
    "            globals()['var_list_layer{}_b'.format(layer_index)].append(np.var(globals()['G{}_w_layer{}'.format(global_epoch, layer_index)][1]))\n",
    "            \n",
    "          \n",
    "        VAR_final_list_w.append(globals()['var_list_layer{}_w'.format(layer_index)])\n",
    "        VAR_final_list_b.append(globals()['var_list_layer{}_b'.format(layer_index)])\n",
    "    \n",
    "\n",
    "    FedAvg_ACC.append(fedavg_acc)\n",
    "    FedAvg_LOSS.append(fedavg_loss)\n",
    "\n",
    "    print(\"\\n\\n====================================================== One Global Epoch =====================================================================\\n\\n\")"
   ]
  },
  {
   "cell_type": "code",
   "execution_count": 9,
   "metadata": {
    "id": "zyIlPPiUlh8v"
   },
   "outputs": [
    {
     "name": "stdout",
     "output_type": "stream",
     "text": [
      "Variance Accumulate Layer 0,2,4,6,7\n",
      "--------------------------------------------------------------------------------------------------\n",
      "\n",
      "\n",
      "Var Accumulate Weight\n",
      "--------------------------------------\n",
      "[1.6692522e-05, 0.0007335895, 0.0031021019, 0.005330468, 0.0076241037, 0.010318192, 0.012661811, 0.01444378, 0.016239949]\n",
      "[6.0630864e-06, 0.0002880764, 0.0032454608, 0.005200832, 0.006117856, 0.00711296, 0.008094383, 0.008936839, 0.009735817]\n",
      "[3.607579e-06, 8.5929525e-05, 0.00054666563, 0.0012233739, 0.0019283773, 0.002622195, 0.0033248889, 0.00394237, 0.004498681]\n",
      "[4.911204e-06, 2.8961504e-05, 0.0002114353, 0.00046035534, 0.00075407553, 0.0010498967, 0.0013688883, 0.0016782159, 0.001978447]\n",
      "[4.3375352e-05, 0.00018945988, 0.0006814597, 0.0016897923, 0.0030727363, 0.0046809306, 0.0064688176, 0.008317484, 0.010416382]\n",
      "\n",
      "Var Accumulate Bias\n",
      "--------------------------------------\n",
      "[6.0382615e-07, 1.6046935e-05, 0.00032771108, 0.00033007906, 0.00031830333, 0.0004964668, 0.00096709654, 0.0018103181, 0.0025005806]\n",
      "[3.0779768e-07, 2.5163228e-05, 0.0001108197, 0.00081268756, 0.001737409, 0.0026360548, 0.003664835, 0.004875345, 0.00641556]\n",
      "[5.109167e-07, 3.4114957e-05, 0.00057320914, 0.0034475194, 0.0061845835, 0.0071165534, 0.007612245, 0.007875668, 0.008161515]\n",
      "[4.1926197e-07, 0.00015392467, 0.0013703549, 0.0044213235, 0.006754056, 0.007947808, 0.0087721795, 0.009295447, 0.009606341]\n",
      "[4.3095506e-06, 0.0018367994, 0.0097643435, 0.02006172, 0.025852565, 0.028461915, 0.03006132, 0.03090184, 0.031227842]\n",
      "\n",
      "\n",
      "Variance Change Layer 0,2,4,6,7\n",
      "--------------------------------------------------------------------------------------------------\n",
      "\n",
      "\n",
      "Var Changes Weight\n",
      "--------------------------------------\n",
      "[0.000716897, 0.0023685123, 0.0022283662, 0.0022936356, 0.002694088, 0.0023436192, 0.0017819693, 0.0017961683, 0.0014872346]\n",
      "[0.00028201332, 0.0029573843, 0.0019553714, 0.000917024, 0.0009951037, 0.0009814235, 0.0008424558, 0.0007989779, 0.00077718403]\n",
      "[8.2321945e-05, 0.0004607361, 0.0006767083, 0.0007050034, 0.00069381774, 0.0007026938, 0.00061748107, 0.0005563111, 0.0005407431]\n",
      "[2.40503e-05, 0.0001824738, 0.00024892006, 0.0002937202, 0.00029582117, 0.0003189916, 0.00030932762, 0.00030023104, 0.00029393542]\n",
      "[0.00014608452, 0.00049199985, 0.0010083325, 0.001382944, 0.0016081943, 0.001787887, 0.001848666, 0.0020988984, 0.0021058703]\n",
      "\n",
      "Var Changes Bias\n",
      "--------------------------------------\n",
      "[1.5443109e-05, 0.00031166413, 2.367975e-06, -1.177573e-05, 0.0001781635, 0.00047062972, 0.00084322155, 0.00069026253, 0.0003157938]\n",
      "[2.485543e-05, 8.565647e-05, 0.00070186786, 0.0009247215, 0.0008986457, 0.0010287801, 0.0012105103, 0.0015402148, 0.0012769494]\n",
      "[3.360404e-05, 0.0005390942, 0.0028743101, 0.0027370641, 0.00093196984, 0.0004956918, 0.00026342273, 0.0002858471, -9.182189e-05]\n",
      "[0.00015350542, 0.0012164302, 0.0030509685, 0.0023327325, 0.001193752, 0.00082437135, 0.0005232673, 0.0003108941, 4.8339367e-05]\n",
      "[0.0018324899, 0.007927544, 0.010297377, 0.0057908446, 0.0026093498, 0.001599405, 0.0008405205, 0.00032600202, 0.00026401132]\n",
      "\n",
      "Now Check the graph\n",
      "\n"
     ]
    },
    {
     "data": {
      "image/png": "[encoded data removed]",
      "text/plain": [
       "<Figure size 360x216 with 1 Axes>"
      ]
     },
     "metadata": {
      "needs_background": "light"
     },
     "output_type": "display_data"
    },
    {
     "data": {
      "image/png": "[encoded data removed]",
      "text/plain": [
       "<Figure size 360x216 with 1 Axes>"
      ]
     },
     "metadata": {
      "needs_background": "light"
     },
     "output_type": "display_data"
    },
    {
     "data": {
      "image/png": "[encoded data removed]",
      "text/plain": [
       "<Figure size 360x216 with 1 Axes>"
      ]
     },
     "metadata": {
      "needs_background": "light"
     },
     "output_type": "display_data"
    },
    {
     "data": {
      "image/png": "[encoded data removed]",
      "text/plain": [
       "<Figure size 360x216 with 1 Axes>"
      ]
     },
     "metadata": {
      "needs_background": "light"
     },
     "output_type": "display_data"
    }
   ],
   "source": [
    "var_changes_L0_w, var_changes_L2_w, var_changes_L4_w, var_changes_L6_w, var_changes_L7_w = [], [], [], [], [] \n",
    "var_accumulate_L0_w, var_accumulate_L2_w, var_accumulate_L4_w, var_accumulate_L6_w, var_accumulate_L7_w = [], [], [], [], [] \n",
    "\n",
    "var_changes_L0_b, var_changes_L2_b, var_changes_L4_b, var_changes_L6_b, var_changes_L7_b = [], [], [], [], [] \n",
    "var_accumulate_L0_b, var_accumulate_L2_b, var_accumulate_L4_b, var_accumulate_L6_b, var_accumulate_L7_b = [], [], [], [], [] \n",
    "\n",
    "\n",
    "for global_epoch in range(G_epoch-2):\n",
    "    for layer_index in num_layers_list:\n",
    "        globals()['var_accumulate_L{}_w'.format(layer_index)].append(np.var(globals()['G{}_w_layer{}'.format(global_epoch, layer_index)][0]))\n",
    "        globals()['var_changes_L{}_w'.format(layer_index)].append(np.var(globals()['G{}_w_layer{}'.format(global_epoch+1, layer_index)][0]) - np.var(globals()['G{}_w_layer{}'.format(global_epoch, layer_index)][0]))\n",
    "        \n",
    "        globals()['var_accumulate_L{}_b'.format(layer_index)].append(np.var(globals()['G{}_w_layer{}'.format(global_epoch, layer_index)][1]))\n",
    "        globals()['var_changes_L{}_b'.format(layer_index)].append(np.var(globals()['G{}_w_layer{}'.format(global_epoch+1, layer_index)][1]) - np.var(globals()['G{}_w_layer{}'.format(global_epoch, layer_index)][1]))\n",
    "        \n",
    "\n",
    "print(\"Variance Accumulate Layer 0,2,4,6,7\\n--------------------------------------------------------------------------------------------------\\n\")\n",
    "\n",
    "print(\"\\nVar Accumulate Weight\\n--------------------------------------\")\n",
    "for j in num_layers_list:\n",
    "    print(globals()['var_accumulate_L{}_w'.format(j)])\n",
    "\n",
    "print(\"\\nVar Accumulate Bias\\n--------------------------------------\")\n",
    "for j in num_layers_list:\n",
    "    print(globals()['var_accumulate_L{}_b'.format(j)])\n",
    "\n",
    "print(\"\\n\\nVariance Change Layer 0,2,4,6,7\\n--------------------------------------------------------------------------------------------------\\n\")\n",
    "\n",
    "print(\"\\nVar Changes Weight\\n--------------------------------------\")\n",
    "for j in num_layers_list:\n",
    "    print(globals()['var_changes_L{}_w'.format(j)])\n",
    "\n",
    "print(\"\\nVar Changes Bias\\n--------------------------------------\")\n",
    "for j in num_layers_list:\n",
    "    print(globals()['var_changes_L{}_b'.format(j)])\n",
    "\n",
    "\n",
    "\n",
    "print(\"\\nNow Check the graph\\n\")\n",
    "\n",
    "plt.figure(figsize=(5,3))\n",
    "for j in num_layers_list:\n",
    "    plt.plot(globals()['var_accumulate_L{}_w'.format(j)])\n",
    "\n",
    "plt.figure(figsize=(5,3))\n",
    "for j in num_layers_list:\n",
    "    plt.plot(globals()['var_accumulate_L{}_b'.format(j)])\n",
    "\n",
    "plt.figure(figsize=(5,3))\n",
    "for j in num_layers_list:\n",
    "    plt.plot(globals()['var_changes_L{}_b'.format(j)])\n",
    "\n",
    "plt.figure(figsize=(5,3))\n",
    "for j in num_layers_list:\n",
    "    plt.plot(globals()['var_changes_L{}_b'.format(j)])\n"
   ]
  },
  {
   "cell_type": "code",
   "execution_count": 10,
   "metadata": {
    "id": "b2lKZ6AZlkSb"
   },
   "outputs": [
    {
     "name": "stdout",
     "output_type": "stream",
     "text": [
      "Distance Layer 0,2,4,6,7\n",
      "--------------------------------------------------------------------------------------------------\n",
      "[0.040025175, 0.0354133, 0.03098584, 0.02009949, 0.015865386, 0.017039044, 0.020885397, 0.018490085, 0.014186374]\n",
      "[0.025755528, 0.03326778, 0.039414246, 0.031221602, 0.023806684, 0.019203637, 0.016661964, 0.015742796, 0.0133994995]\n",
      "[0.0084561445, 0.024674153, 0.038982794, 0.025495896, 0.016122876, 0.012460157, 0.00935507, 0.008591181, 0.007464824]\n",
      "[0.011179638, 0.022754854, 0.02431574, 0.016083553, 0.011010526, 0.009133248, 0.0071498835, 0.0056299744, 0.005158173]\n",
      "[0.038184196, 0.049970824, 0.042635657, 0.027051356, 0.0226376, 0.01985013, 0.014156172, 0.011067418, 0.010479453] \n",
      "\n",
      "Check the graph\n",
      "\n"
     ]
    },
    {
     "data": {
      "image/png": "[encoded data removed]",
      "text/plain": [
       "<Figure size 432x288 with 1 Axes>"
      ]
     },
     "metadata": {
      "needs_background": "light"
     },
     "output_type": "display_data"
    }
   ],
   "source": [
    "from scipy.spatial import distance\n",
    "\n",
    "dist_0, dist_2, dist_4, dist_6, dist_7  = [], [], [], [], []\n",
    "\n",
    "for global_epoch in range(G_epoch-2):\n",
    "    for layer_index in num_layers_list:\n",
    "        globals()['dist_{}'.format(layer_index)].append(np.mean(distance.euclidean(globals()['G{}_w_layer{}'.format(global_epoch, layer_index)], globals()['G{}_w_layer{}'.format(global_epoch+1, layer_index)])))\n",
    "\n",
    "\n",
    "\n",
    "print(\"Distance Layer 0,2,4,6,7\\n--------------------------------------------------------------------------------------------------\")\n",
    "print(dist_0)\n",
    "print(dist_2)\n",
    "print(dist_4)\n",
    "print(dist_6)\n",
    "print(dist_7, \"\\n\\nCheck the graph\\n\")\n",
    "\n",
    "plt.plot(dist_0)\n",
    "plt.plot(dist_2)\n",
    "plt.plot(dist_4)\n",
    "plt.plot(dist_6)\n",
    "plt.plot(dist_7)\n",
    "\n",
    "plt.show()"
   ]
  },
  {
   "cell_type": "code",
   "execution_count": 14,
   "metadata": {},
   "outputs": [
    {
     "name": "stdout",
     "output_type": "stream",
     "text": [
      "Distance Layer 0,2,4,6,7\n",
      "--------------------------------------------------------------------------------------------------\n",
      "[0.0040020975, 0.042250674, 0.06984115, 0.076007165, 0.08544001, 0.08892772, 0.08900338, 0.090758175, 0.097327515]\n",
      "[0.0022735363, 0.026637025, 0.051209543, 0.064297356, 0.082218796, 0.09869627, 0.112111725, 0.123526625, 0.13146298]\n",
      "[0.0018186314, 0.008962873, 0.030177096, 0.0660928, 0.08987344, 0.10115623, 0.10778969, 0.11211704, 0.11607051]\n",
      "[0.0019623768, 0.01143699, 0.031048961, 0.053678792, 0.06668627, 0.07273159, 0.0768315, 0.07959637, 0.081913315]\n",
      "[0.00593604, 0.04045681, 0.08900184, 0.12879989, 0.150471, 0.16191459, 0.17036113, 0.17664006, 0.1826623] \n",
      "\n",
      "Check the graph\n",
      "\n"
     ]
    },
    {
     "data": {
      "image/png": "[encoded data removed]",
      "text/plain": [
       "<Figure size 432x288 with 1 Axes>"
      ]
     },
     "metadata": {
      "needs_background": "light"
     },
     "output_type": "display_data"
    }
   ],
   "source": [
    "from scipy.spatial import distance\n",
    "\n",
    "dist_0, dist_2, dist_4, dist_6, dist_7  = [], [], [], [], []\n",
    "\n",
    "for global_epoch in range(G_epoch-2):\n",
    "    for layer_index in num_layers_list:\n",
    "        globals()['dist_{}'.format(layer_index)].append(np.mean(distance.euclidean(globals()['G{}_w_layer{}'.format(global_epoch, layer_index)],0)))\n",
    "\n",
    "\n",
    "\n",
    "print(\"Distance Layer 0,2,4,6,7\\n--------------------------------------------------------------------------------------------------\")\n",
    "print(dist_0)\n",
    "print(dist_2)\n",
    "print(dist_4)\n",
    "print(dist_6)\n",
    "print(dist_7, \"\\n\\nCheck the graph\\n\")\n",
    "\n",
    "plt.plot(dist_0)\n",
    "plt.plot(dist_2)\n",
    "plt.plot(dist_4)\n",
    "plt.plot(dist_6)\n",
    "plt.plot(dist_7)\n",
    "\n",
    "plt.show()"
   ]
  },
  {
   "cell_type": "code",
   "execution_count": 11,
   "metadata": {
    "id": "SCRUegHzlz1_"
   },
   "outputs": [
    {
     "name": "stdout",
     "output_type": "stream",
     "text": [
      "Average Acc and Loss Layer 0,2,4,6,7\n",
      "--------------------------------------------------------------------------------------------------\n",
      "[[0.8253825306892395, 0.8100810050964355, 0.7929793000221252, 0.8046804666519165, 0.8154815435409546, 0.7983798384666443, 0.7920792102813721, 0.7740774154663086, 0.8046804666519165], [0.6624662280082703, 0.7308731079101562, 0.6390638947486877, 0.760576069355011, 0.6606660485267639, 0.10711070895195007, 0.6858685612678528, 0.11611161381006241, 0.6669666767120361], [0.6840683817863464, 0.7020702362060547, 0.6228622794151306, 0.6885688304901123, 0.7101710438728333, 0.6930692791938782, 0.6822682023048401, 0.719171941280365, 0.6831682920455933], [0.7434743642807007, 0.7299730181694031, 0.7110711336135864, 0.7272727489471436, 0.7335733771324158, 0.7488749027252197, 0.7425742745399475, 0.7407740950584412, 0.7353735566139221], [0.7497749924659729, 0.7722772359848022, 0.760576069355011, 0.7695769667625427, 0.7236723899841309, 0.7821782231330872, 0.7749775052070618, 0.7695769667625427, 0.7542754411697388], [0.7929793000221252, 0.7776777744293213, 0.7947794795036316, 0.7722772359848022, 0.7677767872810364, 0.7965796589851379, 0.7929793000221252, 0.7641764283180237, 0.7983798384666443], [0.8010801076889038, 0.8163816332817078, 0.8046804666519165, 0.8208820819854736, 0.8091809153556824, 0.8091809153556824, 0.8163816332817078, 0.7893789410591125, 0.8118811845779419], [0.8298829793930054, 0.82268226146698, 0.8100810050964355, 0.8181818127632141, 0.8262826204299927, 0.8190819025039673, 0.8199819922447205, 0.8469846844673157, 0.8298829793930054], [0.8253825306892395, 0.8388838768005371, 0.8055805563926697, 0.8415841460227966, 0.8334833383560181, 0.8388838768005371, 0.8244824409484863, 0.8316831588745117, 0.82268226146698], [0.8505850434303284, 0.848784863948822, 0.8478847742080688, 0.8451845049858093, 0.8658865690231323, 0.8334833383560181, 0.8595859408378601, 0.8361836075782776, 0.848784863948822], [0.8496849536895752, 0.8361836075782776, 0.8424842357635498, 0.8361836075782776, 0.8424842357635498, 0.8352835178375244, 0.8361836075782776, 0.8577857613563538, 0.8649864792823792]]\n",
      "[[0.45052310824394226, 0.5307173728942871, 0.5644413828849792, 0.5477696061134338, 0.527929961681366, 0.5553845763206482, 0.5230649709701538, 0.566148042678833, 0.5468233823776245], [0.8948493599891663, 0.7513859868049622, 0.9460129737854004, 0.6677396893501282, 0.9348757863044739, 2.3026039600372314, 0.8597003817558289, 2.3024802207946777, 0.892845869064331], [0.8306913375854492, 0.794567346572876, 0.9560152292251587, 0.7782698273658752, 0.7601078748703003, 0.8346337080001831, 0.8239880800247192, 0.76423180103302, 0.8173705339431763], [0.7193933725357056, 0.695727527141571, 0.7399176955223083, 0.6992127299308777, 0.6890450716018677, 0.6479541659355164, 0.6663581132888794, 0.6720938682556152, 0.6766219735145569], [0.6411393880844116, 0.6275158524513245, 0.6566864252090454, 0.6448304653167725, 0.7001134157180786, 0.6086223125457764, 0.6166235208511353, 0.6559798717498779, 0.6294912695884705], [0.5742539167404175, 0.618493914604187, 0.5634812116622925, 0.5971270799636841, 0.6213381290435791, 0.595027506351471, 0.5682297348976135, 0.6019672751426697, 0.5499938130378723], [0.5195570588111877, 0.5186058878898621, 0.5497228503227234, 0.5171425342559814, 0.5229967832565308, 0.5055042505264282, 0.4871383309364319, 0.5351676344871521, 0.5030298829078674], [0.4676694869995117, 0.46055740118026733, 0.4799058735370636, 0.47297823429107666, 0.45781517028808594, 0.48403140902519226, 0.4896674156188965, 0.44862625002861023, 0.4729449450969696], [0.4893887937068939, 0.4909108281135559, 0.4627607464790344, 0.45887595415115356, 0.4469204545021057, 0.4370454251766205, 0.4547531008720398, 0.4360824227333069, 0.4762292504310608], [0.4037492275238037, 0.3895624577999115, 0.4104534685611725, 0.41227462887763977, 0.4003370404243469, 0.4531663656234741, 0.40000978112220764, 0.4359535276889801, 0.4234364926815033], [0.4166194796562195, 0.4493364095687866, 0.4130553901195526, 0.44955408573150635, 0.4262940287590027, 0.4224061369895935, 0.416277676820755, 0.39168789982795715, 0.36787962913513184]]\n",
      "\n",
      "\n",
      " Now Check the graph\n",
      "\n"
     ]
    },
    {
     "data": {
      "image/png": "[encoded data removed]",
      "text/plain": [
       "<Figure size 720x432 with 1 Axes>"
      ]
     },
     "metadata": {
      "needs_background": "light"
     },
     "output_type": "display_data"
    }
   ],
   "source": [
    "average_acc_list, average_loss_list = [], []\n",
    "\n",
    "\n",
    "for i in range(len(FedAvg_ACC)):\n",
    "    average_acc_list.append(np.mean(FedAvg_ACC[i]))\n",
    "    average_loss_list.append(np.mean(FedAvg_LOSS[i]))\n",
    "    \n",
    "\n",
    "print(\"Average Acc and Loss Layer 0,2,4,6,7\\n--------------------------------------------------------------------------------------------------\")\n",
    "print(FedAvg_ACC)\n",
    "print(FedAvg_LOSS)\n",
    "print(\"\\n\\n Now Check the graph\\n\")\n",
    "\n",
    "plt.figure(figsize=(10,6))\n",
    "plt.plot(average_acc_list, label='FedAvg Acc')\n",
    "\n",
    "plt.plot(average_loss_list, label='Fedavg Loss')\n",
    "\n",
    "plt.grid(True)\n",
    "plt.legend()\n",
    "plt.show()\n"
   ]
  },
  {
   "cell_type": "code",
   "execution_count": null,
   "metadata": {
    "id": "iAd7lQy9l1nE"
   },
   "outputs": [],
   "source": []
  },
  {
   "cell_type": "code",
   "execution_count": null,
   "metadata": {
    "id": "9UbiN31Zl2-X"
   },
   "outputs": [],
   "source": []
  }
 ],
 "metadata": {
  "accelerator": "GPU",
  "colab": {
   "authorship_tag": "ABX9TyMeLICr8WZPT9fBkA8KiAvj",
   "collapsed_sections": [],
   "name": "FMNIST_fedavg_iid.ipynb",
   "provenance": []
  },
  "kernelspec": {
   "display_name": "Python 3",
   "language": "python",
   "name": "python3"
  },
  "language_info": {
   "codemirror_mode": {
    "name": "ipython",
    "version": 3
   },
   "file_extension": ".py",
   "mimetype": "text/x-python",
   "name": "python",
   "nbconvert_exporter": "python",
   "pygments_lexer": "ipython3",
   "version": "3.8.10"
  }
 },
 "nbformat": 4,
 "nbformat_minor": 1
}
