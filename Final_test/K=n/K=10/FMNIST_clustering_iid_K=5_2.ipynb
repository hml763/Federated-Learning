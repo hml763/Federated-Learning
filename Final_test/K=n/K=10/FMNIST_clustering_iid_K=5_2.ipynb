{
 "cells": [
  {
   "cell_type": "code",
   "execution_count": 1,
   "metadata": {
    "id": "cg7gm5FVyA3r"
   },
   "outputs": [],
   "source": [
    "import numpy as np\n",
    "import tensorflow as tf\n",
    "import matplotlib.pyplot as plt\n",
    "import sys\n",
    "import time\n",
    "import math\n",
    "import random\n",
    "import copy\n",
    "import warnings\n",
    "warnings.simplefilter(action='ignore', category=FutureWarning)\n",
    "\n",
    "import keras\n",
    "from tensorflow import keras\n",
    "from keras.models import Sequential\n",
    "from keras.layers import Dense, Dropout, Flatten\n",
    "from tensorflow.keras import datasets, layers, models\n",
    "from keras.layers.convolutional import Conv2D, MaxPooling2D\n",
    "from keras.layers import Dense, Activation, Flatten, Conv2D, MaxPooling2D\n",
    "from keras.utils.np_utils import to_categorical\n",
    "from sklearn.cluster import KMeans, AgglomerativeClustering\n",
    "#from tensorflow.keras.datasets import cifar10 \n",
    "from keras.datasets import fashion_mnist \n",
    "#from sklearn.metrics import silhouette_samples, silhouette_score\n",
    "\n",
    "mod = sys.modules[__name__]"
   ]
  },
  {
   "cell_type": "code",
   "execution_count": 2,
   "metadata": {
    "id": "-gn3HoNnyGdo"
   },
   "outputs": [],
   "source": [
    "def distribution_check(dataset):\n",
    "        #분포가 다름;\n",
    "    one,two,three,four,five,six,seven,eight,nine,ten=0,0,0,0,0,0,0,0,0,0\n",
    "\n",
    "    for i in range(len(dataset)):\n",
    "        if(dataset[i]==1):    one+=1\n",
    "        elif(dataset[i]==2):  two+=1\n",
    "        elif(dataset[i]==3):  three+=1\n",
    "        elif(dataset[i]==4):  four+=1\n",
    "        elif(dataset[i]==5):  five+=1\n",
    "        elif(dataset[i]==6):  six+=1\n",
    "        elif(dataset[i]==7):  seven+=1\n",
    "        elif(dataset[i]==8):  eight+=1\n",
    "        elif(dataset[i]==9):  nine+=1\n",
    "        elif(dataset[i]==0):  ten+=1\n",
    "\n",
    "    #print(one,two,three,four,five,six,seven,eight,nine,ten)\n",
    "    #print(\"Sum : \", one+two+three+four+five+six+seven+eight+nine+ten)\n",
    "    sums = one+two+three+four+five+six+seven+eight+nine+ten\n",
    "    for_graph=[one,two,three,four,five,six,seven,eight,nine,ten]\n",
    "    \n",
    "    return for_graph, sums\n",
    "\n",
    "def local_model_generate(model): #초기 모델 생성\n",
    "    model = models.Sequential()\n",
    "    model.add(layers.Conv2D(32, (3, 3), activation='relu', input_shape=(28, 28, 1)))\n",
    "    model.add(layers.MaxPooling2D((2, 2)))\n",
    "    model.add(layers.Conv2D(64, (3, 3), activation='relu'))\n",
    "    model.add(layers.MaxPooling2D((2, 2)))\n",
    "    model.add(layers.Conv2D(64, (3, 3), activation='relu'))\n",
    "    model.add(layers.Flatten())\n",
    "    model.add(layers.Dense(64, activation='relu'))\n",
    "    model.add(layers.Dense(10, activation='softmax'))\n",
    "    \n",
    "    return model\n",
    "\n",
    "def step_function(data):\n",
    "    if data > 0:\n",
    "        return 1\n",
    "    else:\n",
    "        return 0\n",
    "\n",
    "def sigmoid(data):\n",
    "    return 1/(1+np.exp(-data))\n",
    "\n",
    "def relu(data):\n",
    "    return np.maximum(0,data)\n",
    "\n",
    "def random_check(local, train_data, test_data):\n",
    "    check_distribution_train_data, check_distribution_test_data, y_train_tmp, y_test_tmp = [], [], [], []\n",
    "    sum1, sum2, data_index = 0,0, np.arange(0,10)\n",
    "\n",
    "    for j in range(len(train_data)):\n",
    "        y_train_tmp.append(np.argmax(train_data[j])) #원핫인코딩에서 다시 0~9 레이블로 변환\n",
    "\n",
    "    for j in range(len(test_data)):\n",
    "        y_test_tmp.append(np.argmax(test_data[j]))\n",
    "\n",
    "    check_distribution_train_data, sum_train = distribution_check(y_train_tmp) #한번 밖에 실행 못함\n",
    "    check_distribution_test_data, sum_test = distribution_check(y_test_tmp)\n",
    "    sum1, sum2 = (sum1 + sum_train), (sum2 + sum_test)\n",
    "    \n",
    "    return check_distribution_train_data, check_distribution_test_data\n"
   ]
  },
  {
   "cell_type": "code",
   "execution_count": 3,
   "metadata": {
    "colab": {
     "base_uri": "https://localhost:8080/"
    },
    "executionInfo": {
     "elapsed": 1211,
     "status": "ok",
     "timestamp": 1628349189139,
     "user": {
      "displayName": "이훈민",
      "photoUrl": "",
      "userId": "00157268181097362793"
     },
     "user_tz": 240
    },
    "id": "i7g0ECm9tiiT",
    "outputId": "25f636dd-3e91-407f-9690-a0c77a7272d8"
   },
   "outputs": [
    {
     "name": "stdout",
     "output_type": "stream",
     "text": [
      "(60000, 28, 28) (10000, 28, 28)\n"
     ]
    }
   ],
   "source": [
    "(x_train, y_train), (x_test, y_test) = fashion_mnist.load_data()\n",
    "print(x_train.shape, x_test.shape)\n",
    "num_train, num_test = len(x_train),  len(x_test) "
   ]
  },
  {
   "cell_type": "code",
   "execution_count": 4,
   "metadata": {
    "id": "XkIYZrvplXU0"
   },
   "outputs": [],
   "source": [
    "local = 10 # 10개 : 1~10 => 11은 포함 안됨\n",
    "batch_size, epochs = 32, 3\n",
    "global_epoch = 0\n",
    "num_layers = 8"
   ]
  },
  {
   "cell_type": "code",
   "execution_count": 5,
   "metadata": {
    "colab": {
     "base_uri": "https://localhost:8080/"
    },
    "executionInfo": {
     "elapsed": 218,
     "status": "ok",
     "timestamp": 1628349200079,
     "user": {
      "displayName": "이훈민",
      "photoUrl": "",
      "userId": "00157268181097362793"
     },
     "user_tz": 240
    },
    "id": "h3lM8ImZlYqW",
    "outputId": "17900a3f-5803-4967-8747-89bca33d7804"
   },
   "outputs": [
    {
     "name": "stdout",
     "output_type": "stream",
     "text": [
      "Step 1 x_train shape: (60000, 28, 28)\n",
      "Step 2 x_train shape: (60000, 28, 28, 1)\n",
      "60000 train samples\n",
      "10000 test samples\n"
     ]
    }
   ],
   "source": [
    "# Model / data parameters\n",
    "num_classes = 10\n",
    "input_shape = (28, 28, 1)\n",
    "\n",
    "# Scale images to the [0, 1] range\n",
    "x_train = x_train.astype(\"float32\") / 255\n",
    "x_test = x_test.astype(\"float32\") / 255\n",
    "\n",
    "print(\"Step 1 x_train shape:\", x_train.shape)\n",
    "\n",
    "x_train = x_train.reshape((num_train, 28, 28, 1))\n",
    "x_test = x_test.reshape((num_test, 28, 28, 1))\n",
    "\n",
    "print(\"Step 2 x_train shape:\", x_train.shape)\n",
    "print(x_train.shape[0], \"train samples\")\n",
    "print(x_test.shape[0], \"test samples\")\n",
    "# convert class vectors to binary class matrices => one hot encoding 지금은 [3,6,2,5,4,8..] 섞여있음 \n",
    "\n",
    "y_train = keras.utils.to_categorical(y_train, num_classes)\n",
    "y_test = keras.utils.to_categorical(y_test, num_classes)"
   ]
  },
  {
   "cell_type": "code",
   "execution_count": 6,
   "metadata": {
    "colab": {
     "base_uri": "https://localhost:8080/"
    },
    "executionInfo": {
     "elapsed": 336,
     "status": "ok",
     "timestamp": 1628349205594,
     "user": {
      "displayName": "이훈민",
      "photoUrl": "",
      "userId": "00157268181097362793"
     },
     "user_tz": 240
    },
    "id": "xiMagvhYlZ_B",
    "outputId": "a0b900ac-2b53-4a57-ee6a-fd8744737027"
   },
   "outputs": [
    {
     "name": "stdout",
     "output_type": "stream",
     "text": [
      "0  번째 global_epoch 데이터 랜덤하게 준비!!\n",
      "check=>: should be 0 ==  60000\n",
      "0  번째 global_epoch 데이터 랜덤 준비완료!!\n"
     ]
    }
   ],
   "source": [
    "#랜덤 비복원추출, 동등하게 10% 씩 =  로컬 데이터 추출 ------------------------------------------------------------------------------\n",
    "\n",
    "global_epoch = 0\n",
    "\n",
    "\n",
    "print(global_epoch, \" 번째 global_epoch 데이터 랜덤하게 준비!!\")\n",
    "\n",
    "for i in range(1,local): #데이터 변수 선언, 빈 리스트로 초기화\n",
    "    globals()['L{}_x_train'.format(i)], globals()['L{}_x_test'.format(i)] = [], []  \n",
    "    globals()['L{}_y_train'.format(i)], globals()['L{}_y_test'.format(i)] = [], []  \n",
    "\n",
    "x_train_range = list(np.arange(0,len(x_train)))  #0~59,999\n",
    "x_test_range = list(np.arange(0,len(x_test)))  #0~9,999\n",
    "\n",
    "for n in range(1,local): #Data_x_train_range, 잘 작동함 => 확인 완료\n",
    "    tmp, tmp2 = [], []\n",
    "    tmp = random.sample(list(x_train_range), int(num_train/(local-1)))  #1/10개 만큼 인덱스 랜덤 비복원 추출 => 랜덤으로 해야함\n",
    "    tmp2 = random.sample(list(x_test_range), int(num_test/(local-1)))\n",
    "\n",
    "    for i in range(len(tmp)):\n",
    "        globals()['L{}_x_train'.format(n)].append(x_train[tmp[i]])  #n번째 Cluster에 분할한 실제 x_train 데이터 저장\n",
    "        globals()['L{}_y_train'.format(n)].append(y_train[tmp[i]]) \n",
    "        #x_train_range.remove(tmp[i])  #랜덤 하게 뽑힌 원소 6000개 추출했으니 안에서 삭제 => 비복원 추출\n",
    "\n",
    "    for j in range(len(tmp2)):\n",
    "        globals()['L{}_x_test'.format(n)].append(x_test[tmp2[j]])\n",
    "        globals()['L{}_y_test'.format(n)].append(y_test[tmp2[j]])\n",
    "        #x_test_range.remove(tmp2[j])  #랜덤 하게 뽑힌 원소 6000개 추출했으니 안에서 삭제 => 비복원 추출\n",
    "\n",
    "print(\"check=>: should be 0 == \", len(x_train_range))  #원소 하나도 없어야 함. 확인.\n",
    "\n",
    "print(global_epoch, \" 번째 global_epoch 데이터 랜덤 준비완료!!\")"
   ]
  },
  {
   "cell_type": "code",
   "execution_count": 7,
   "metadata": {
    "colab": {
     "base_uri": "https://localhost:8080/"
    },
    "id": "gmU6gEQ3lbpD",
    "outputId": "deb36e37-2bcd-499d-dacb-b167da94dbc9"
   },
   "outputs": [
    {
     "name": "stdout",
     "output_type": "stream",
     "text": [
      "\n",
      "\n",
      " 0 번째 global epoch에서 로컬 클라이언트 학습시작!\n",
      "\n",
      "학습 중 ...\n",
      "\n",
      "35/35 - 0s - loss: 0.5791 - accuracy: 0.7660\n",
      "35/35 - 0s - loss: 0.5004 - accuracy: 0.8137\n",
      "35/35 - 0s - loss: 0.5202 - accuracy: 0.8146\n",
      "35/35 - 0s - loss: 0.4778 - accuracy: 0.8245\n",
      "35/35 - 0s - loss: 0.4545 - accuracy: 0.8281\n",
      "35/35 - 0s - loss: 0.4905 - accuracy: 0.8146\n",
      "35/35 - 0s - loss: 0.4814 - accuracy: 0.8299\n",
      "35/35 - 0s - loss: 0.4937 - accuracy: 0.8218\n",
      "35/35 - 0s - loss: 0.5141 - accuracy: 0.8164\n",
      "0 번째 global epoch 로컬 클라이언트 학습완료!,  Total Training time :  64.29129719734192 \n",
      "\n",
      "\n"
     ]
    },
    {
     "name": "stderr",
     "output_type": "stream",
     "text": [
      "<ipython-input-7-43d7c2eb9f99>:93: VisibleDeprecationWarning: Creating an ndarray from ragged nested sequences (which is a list-or-tuple of lists-or-tuples-or ndarrays with different lengths or shapes) is deprecated. If you meant to do this, you must specify 'dtype=object' when creating the ndarray\n",
      "  globals()['G{}_c{}_w_layer{}'.format(global_epoch, num_c_w, layer_index)] = globals()['G{}_c{}_w_layer{}'.format(global_epoch, num_c_w, layer_index)] + np.array(globals()['L{}_layer{}_w'.format(i,layer_index)])          # 일반 클러스터링\n",
      "<ipython-input-7-43d7c2eb9f99>:93: VisibleDeprecationWarning: Creating an ndarray from ragged nested sequences (which is a list-or-tuple of lists-or-tuples-or ndarrays with different lengths or shapes) is deprecated. If you meant to do this, you must specify 'dtype=object' when creating the ndarray\n",
      "  globals()['G{}_c{}_w_layer{}'.format(global_epoch, num_c_w, layer_index)] = globals()['G{}_c{}_w_layer{}'.format(global_epoch, num_c_w, layer_index)] + np.array(globals()['L{}_layer{}_w'.format(i,layer_index)])          # 일반 클러스터링\n",
      "<ipython-input-7-43d7c2eb9f99>:93: VisibleDeprecationWarning: Creating an ndarray from ragged nested sequences (which is a list-or-tuple of lists-or-tuples-or ndarrays with different lengths or shapes) is deprecated. If you meant to do this, you must specify 'dtype=object' when creating the ndarray\n",
      "  globals()['G{}_c{}_w_layer{}'.format(global_epoch, num_c_w, layer_index)] = globals()['G{}_c{}_w_layer{}'.format(global_epoch, num_c_w, layer_index)] + np.array(globals()['L{}_layer{}_w'.format(i,layer_index)])          # 일반 클러스터링\n",
      "<ipython-input-7-43d7c2eb9f99>:93: VisibleDeprecationWarning: Creating an ndarray from ragged nested sequences (which is a list-or-tuple of lists-or-tuples-or ndarrays with different lengths or shapes) is deprecated. If you meant to do this, you must specify 'dtype=object' when creating the ndarray\n",
      "  globals()['G{}_c{}_w_layer{}'.format(global_epoch, num_c_w, layer_index)] = globals()['G{}_c{}_w_layer{}'.format(global_epoch, num_c_w, layer_index)] + np.array(globals()['L{}_layer{}_w'.format(i,layer_index)])          # 일반 클러스터링\n",
      "<ipython-input-7-43d7c2eb9f99>:93: VisibleDeprecationWarning: Creating an ndarray from ragged nested sequences (which is a list-or-tuple of lists-or-tuples-or ndarrays with different lengths or shapes) is deprecated. If you meant to do this, you must specify 'dtype=object' when creating the ndarray\n",
      "  globals()['G{}_c{}_w_layer{}'.format(global_epoch, num_c_w, layer_index)] = globals()['G{}_c{}_w_layer{}'.format(global_epoch, num_c_w, layer_index)] + np.array(globals()['L{}_layer{}_w'.format(i,layer_index)])          # 일반 클러스터링\n"
     ]
    }
   ],
   "source": [
    "#준비된 데이터 (IID / NON-IID) np.array로\n",
    "\n",
    "\n",
    "global_epoch = 0\n",
    "acc, loss = 0, 0\n",
    "cluster_acc, cluster_loss, Cluster_ACC, Cluster_LOSS = [], [], [], [] \n",
    "num_layers_list = [0,2,4,6,7]\n",
    "label_list = []\n",
    "VAR_final_list_w, VAR_final_list_b = [], []\n",
    "\n",
    "\n",
    "for i in range(1,local):\n",
    "    globals()['L{}_x_train'.format(i)] = np.array(globals()['L{}_x_train'.format(i)])\n",
    "    globals()['L{}_x_test'.format(i)] = np.array(globals()['L{}_x_test'.format(i)])\n",
    "    globals()['L{}_y_train'.format(i)] = np.array(globals()['L{}_y_train'.format(i)])\n",
    "    globals()['L{}_y_test'.format(i)] = np.array(globals()['L{}_y_test'.format(i)])\n",
    "\n",
    "\n",
    "print(\"\\n\\n\",global_epoch, \"번째 global epoch에서 로컬 클라이언트 학습시작!\\n\\n학습 중 ...\\n\")\n",
    "now = time.time()\n",
    "\n",
    "for i in range(1,local):\n",
    "    globals()['FedAvg_L{}_iter{}_model'.format(i, global_epoch)] = models.Sequential()  ##!!!!!!! 이게 글로벌 epoch에서는 2번째 부터 들어가면 안됨\n",
    "    globals()['FedAvg_L{}_iter{}_model'.format(i, global_epoch)] = local_model_generate(globals()['FedAvg_L{}_iter{}_model'.format(i, global_epoch)])      # initialize 필요 => 모델 프레임 구축\n",
    "\n",
    "    globals()['FedAvg_L{}_iter{}_model'.format(i, global_epoch)].compile(loss=\"categorical_crossentropy\", optimizer=\"adam\", metrics=[\"accuracy\"])\n",
    "\n",
    "    globals()['FedAvg_L{}_iter{}_model'.format(i, global_epoch)].fit(globals()['L{}_x_train'.format(i)], globals()['L{}_y_train'.format(i)], batch_size=batch_size, epochs=epochs, validation_split=0.1, verbose=0)\n",
    "\n",
    "    loss, acc = globals()['FedAvg_L{}_iter{}_model'.format(i, global_epoch)].evaluate(globals()['L{}_x_test'.format(i,global_epoch)], globals()['L{}_y_test'.format(i)], verbose=2)\n",
    "    \n",
    "    cluster_acc.append(acc)  #acc 넣기\n",
    "    cluster_loss.append(loss)  #loss 넣기\n",
    "\n",
    "\n",
    "print(global_epoch, \"번째 global epoch 로컬 클라이언트 학습완료!,  Total Training time : \", time.time()-now,\"\\n\\n\")\n",
    "\n",
    "# 로컬 모델들 학습 완료하였고 로컬모델에서 weight, bias 추출 -------------------------------------------------------------------------------------\n",
    "\n",
    "for i in range(1, local):\n",
    "    for layer_index in num_layers_list:\n",
    "        w = globals()['FedAvg_L{}_iter{}_model'.format(i, global_epoch)].layers[layer_index].get_weights() #get_weights = w[0],b[1]로 구성\n",
    "\n",
    "        globals()['L{}_layer{}_w_tmp'.format(i,layer_index)] = w      # 클러스터링 용도\n",
    "        globals()['L{}_layer{}_w'.format(i,layer_index)] = w          # weight aggregation 용도\n",
    "            \n",
    "# 클러스터에 넣을 변수 선언\n",
    "\n",
    "for layer_index in num_layers_list:\n",
    "\n",
    "    globals()['layer{}_W_tmp'.format(layer_index)] = []\n",
    "    globals()['var_list_layer{}_w'.format(layer_index)] = []\n",
    "    globals()['var_list_layer{}_b'.format(layer_index)] = []\n",
    "  \n",
    "    for i in range(1, local):\n",
    "        globals()['var_list_layer{}_w'.format(layer_index)].append(np.var(globals()['L{}_layer{}_w'.format(i,layer_index)][0]))\n",
    "        globals()['var_list_layer{}_b'.format(layer_index)].append(np.var(globals()['L{}_layer{}_w'.format(i,layer_index)][1]))\n",
    "      \n",
    "        TMP_w = list(np.array(globals()['L{}_layer{}_w_tmp'.format(i,layer_index)][0]).reshape(-1))\n",
    "        TMP_b = list(np.array(globals()['L{}_layer{}_w_tmp'.format(i,layer_index)][1]).reshape(-1))\n",
    "        \n",
    "        TMP_w.extend(TMP_b) ##append 말고 더해야함..\n",
    "\n",
    "        TMP_w = np.array(TMP_w)\n",
    "        TMP_w = list(TMP_w.reshape(-1))\n",
    "        globals()['layer{}_W_tmp'.format(layer_index)].append(TMP_w)  #클러스터링 용도\n",
    "  \n",
    "\n",
    "    #----------------------------------------------------클러스터링 실시 -------------------------------------------------------------\n",
    "    transformed = globals()['layer{}_W_tmp'.format(layer_index)]\n",
    "\n",
    "    kmeans_model_w = KMeans(n_clusters = 5)   # 0, 1은 silhouette 에 안먹힘  \n",
    "\n",
    "    globals()['w_layer{}_label'.format(layer_index)] = kmeans_model_w.fit_predict(transformed)       # 가장 적합한 클러스터로 레이어에 속한 로컬들 레이블 정의 \n",
    "\n",
    "    globals()['G{}_num_clusters_in_layer{}_w'.format(global_epoch, layer_index)] = 5  #나중에 몇개로 나뉘었는지 알아야 함 = num_clusters_for_w이거 그대로 하면 밑에 저게 쓸일이 많아서 global 쓰면 코딩이 너무 번잡해짐;; \n",
    "    \n",
    "    label_list.append(globals()['w_layer{}_label'.format(layer_index)])                 \n",
    "\n",
    "    # ==========> 클러스터 갯수 정해짐\n",
    "\n",
    "\n",
    "    #----------------------------------------------- 스케일링  ---------------------------------------------------------------------\n",
    "    for num_c_w in range(5): #클러스터 갯수 (num_clusters_for_w) 만큼 클러스터용 = 클러스터 갯수가 3이 나왔으면 3개를 만들어야 함\n",
    "        globals()['G{}_c{}_w_layer{}'.format(global_epoch, num_c_w, layer_index)] = 0  #각각 cluster, Act+cluster 용도  \n",
    "        \n",
    "        globals()['w_scaler_c{}_sum'.format(num_c_w)], globals()['int_c{}_w'.format(num_c_w)] = 0, 0 #초기화\n",
    "    \n",
    "        for i in range(1, local):\n",
    "            if globals()['w_layer{}_label'.format(layer_index)][i-1] == num_c_w  : # 클러스터 레이블에 맞게 (0 or 1 or 2 ..) \n",
    "                globals()['w_scaler_c{}_sum'.format(num_c_w)] = globals()['w_scaler_c{}_sum'.format(num_c_w)] + len(globals()['L{}_x_train'.format(i)])\n",
    "\n",
    "                globals()['G{}_c{}_w_layer{}'.format(global_epoch, num_c_w, layer_index)] = globals()['G{}_c{}_w_layer{}'.format(global_epoch, num_c_w, layer_index)] + np.array(globals()['L{}_layer{}_w'.format(i,layer_index)])          # 일반 클러스터링\n",
    "                \n",
    "                globals()['int_c{}_w'.format(num_c_w)] = globals()['int_c{}_w'.format(num_c_w)] + 1\n",
    "\n",
    "        globals()['w_scaler{}'.format(num_c_w)] = len(globals()['L{}_x_train'.format(i)]) / globals()['w_scaler_c{}_sum'.format(num_c_w)]\n",
    "        globals()['G{}_c{}_w_layer{}'.format(global_epoch, num_c_w, layer_index)] = globals()['G{}_c{}_w_layer{}'.format(global_epoch, num_c_w, layer_index)] / globals()['int_c{}_w'.format(num_c_w)] #레이어 별 클러스터 자기 갯수만큼 나눠주기=평균\n",
    "\n",
    "\n",
    "#---------------------------------------------------------메모리 삭제-------------------------------------------------------------------\n",
    "\n",
    "transformed = 0\n",
    "Cluster_ACC.append(cluster_acc)\n",
    "Cluster_LOSS.append(cluster_loss)"
   ]
  },
  {
   "cell_type": "code",
   "execution_count": 8,
   "metadata": {
    "id": "fGKddODnldWw"
   },
   "outputs": [
    {
     "name": "stdout",
     "output_type": "stream",
     "text": [
      "1  번째 global_epoch 데이터 랜덤하게 준비!!\n",
      "1  번째 global_epoch 데이터 랜덤 준비완료!!\n",
      "\n",
      "\n",
      "1  번째 global epoch에서 로컬 클라이언트 들 학습시작!\n",
      "\n",
      "학습 중 ...\n",
      "\n",
      "35/35 - 0s - loss: 0.4890 - accuracy: 0.8272\n",
      "35/35 - 0s - loss: 0.4870 - accuracy: 0.8191\n",
      "35/35 - 0s - loss: 0.4936 - accuracy: 0.8353\n",
      "35/35 - 0s - loss: 0.4482 - accuracy: 0.8290\n",
      "35/35 - 0s - loss: 0.4507 - accuracy: 0.8326\n",
      "35/35 - 0s - loss: 0.4496 - accuracy: 0.8254\n",
      "35/35 - 0s - loss: 0.4874 - accuracy: 0.8227\n",
      "35/35 - 0s - loss: 0.4548 - accuracy: 0.8398\n",
      "35/35 - 0s - loss: 0.5481 - accuracy: 0.7876\n",
      "------------    1  번째 global epoch < Clustering > 로컬 클라이언트 학습 완료!,  Total Training time :  63.32311224937439 ---------------------------\n",
      "\n",
      "\n"
     ]
    },
    {
     "name": "stderr",
     "output_type": "stream",
     "text": [
      "<ipython-input-8-8808d52ee2cd>:119: VisibleDeprecationWarning: Creating an ndarray from ragged nested sequences (which is a list-or-tuple of lists-or-tuples-or ndarrays with different lengths or shapes) is deprecated. If you meant to do this, you must specify 'dtype=object' when creating the ndarray\n",
      "  globals()['G{}_c{}_w_layer{}'.format(global_epoch, num_c_w, layer_index)] = globals()['G{}_c{}_w_layer{}'.format(global_epoch, num_c_w, layer_index)] + np.array(globals()['L{}_layer{}_w_c'.format(i,layer_index)])   # 일반 클러스터링\n",
      "<ipython-input-8-8808d52ee2cd>:119: VisibleDeprecationWarning: Creating an ndarray from ragged nested sequences (which is a list-or-tuple of lists-or-tuples-or ndarrays with different lengths or shapes) is deprecated. If you meant to do this, you must specify 'dtype=object' when creating the ndarray\n",
      "  globals()['G{}_c{}_w_layer{}'.format(global_epoch, num_c_w, layer_index)] = globals()['G{}_c{}_w_layer{}'.format(global_epoch, num_c_w, layer_index)] + np.array(globals()['L{}_layer{}_w_c'.format(i,layer_index)])   # 일반 클러스터링\n",
      "<ipython-input-8-8808d52ee2cd>:119: VisibleDeprecationWarning: Creating an ndarray from ragged nested sequences (which is a list-or-tuple of lists-or-tuples-or ndarrays with different lengths or shapes) is deprecated. If you meant to do this, you must specify 'dtype=object' when creating the ndarray\n",
      "  globals()['G{}_c{}_w_layer{}'.format(global_epoch, num_c_w, layer_index)] = globals()['G{}_c{}_w_layer{}'.format(global_epoch, num_c_w, layer_index)] + np.array(globals()['L{}_layer{}_w_c'.format(i,layer_index)])   # 일반 클러스터링\n",
      "<ipython-input-8-8808d52ee2cd>:119: VisibleDeprecationWarning: Creating an ndarray from ragged nested sequences (which is a list-or-tuple of lists-or-tuples-or ndarrays with different lengths or shapes) is deprecated. If you meant to do this, you must specify 'dtype=object' when creating the ndarray\n",
      "  globals()['G{}_c{}_w_layer{}'.format(global_epoch, num_c_w, layer_index)] = globals()['G{}_c{}_w_layer{}'.format(global_epoch, num_c_w, layer_index)] + np.array(globals()['L{}_layer{}_w_c'.format(i,layer_index)])   # 일반 클러스터링\n",
      "<ipython-input-8-8808d52ee2cd>:119: VisibleDeprecationWarning: Creating an ndarray from ragged nested sequences (which is a list-or-tuple of lists-or-tuples-or ndarrays with different lengths or shapes) is deprecated. If you meant to do this, you must specify 'dtype=object' when creating the ndarray\n",
      "  globals()['G{}_c{}_w_layer{}'.format(global_epoch, num_c_w, layer_index)] = globals()['G{}_c{}_w_layer{}'.format(global_epoch, num_c_w, layer_index)] + np.array(globals()['L{}_layer{}_w_c'.format(i,layer_index)])   # 일반 클러스터링\n"
     ]
    },
    {
     "name": "stdout",
     "output_type": "stream",
     "text": [
      "\n",
      "\n",
      "====================================================== One Global Epoch =====================================================================\n",
      "\n",
      "\n",
      "2  번째 global_epoch 데이터 랜덤하게 준비!!\n",
      "2  번째 global_epoch 데이터 랜덤 준비완료!!\n",
      "\n",
      "\n",
      "2  번째 global epoch에서 로컬 클라이언트 들 학습시작!\n",
      "\n",
      "학습 중 ...\n",
      "\n",
      "35/35 - 0s - loss: 0.4590 - accuracy: 0.8371\n",
      "35/35 - 0s - loss: 0.4681 - accuracy: 0.8434\n",
      "35/35 - 0s - loss: 0.4949 - accuracy: 0.8110\n",
      "35/35 - 0s - loss: 0.4183 - accuracy: 0.8524\n",
      "35/35 - 0s - loss: 0.4331 - accuracy: 0.8317\n",
      "35/35 - 0s - loss: 0.4465 - accuracy: 0.8488\n",
      "35/35 - 0s - loss: 0.4786 - accuracy: 0.8227\n",
      "35/35 - 0s - loss: 0.4011 - accuracy: 0.8506\n",
      "35/35 - 0s - loss: 0.4767 - accuracy: 0.8227\n",
      "------------    2  번째 global epoch < Clustering > 로컬 클라이언트 학습 완료!,  Total Training time :  63.334749937057495 ---------------------------\n",
      "\n",
      "\n"
     ]
    },
    {
     "name": "stderr",
     "output_type": "stream",
     "text": [
      "<ipython-input-8-8808d52ee2cd>:119: VisibleDeprecationWarning: Creating an ndarray from ragged nested sequences (which is a list-or-tuple of lists-or-tuples-or ndarrays with different lengths or shapes) is deprecated. If you meant to do this, you must specify 'dtype=object' when creating the ndarray\n",
      "  globals()['G{}_c{}_w_layer{}'.format(global_epoch, num_c_w, layer_index)] = globals()['G{}_c{}_w_layer{}'.format(global_epoch, num_c_w, layer_index)] + np.array(globals()['L{}_layer{}_w_c'.format(i,layer_index)])   # 일반 클러스터링\n",
      "<ipython-input-8-8808d52ee2cd>:119: VisibleDeprecationWarning: Creating an ndarray from ragged nested sequences (which is a list-or-tuple of lists-or-tuples-or ndarrays with different lengths or shapes) is deprecated. If you meant to do this, you must specify 'dtype=object' when creating the ndarray\n",
      "  globals()['G{}_c{}_w_layer{}'.format(global_epoch, num_c_w, layer_index)] = globals()['G{}_c{}_w_layer{}'.format(global_epoch, num_c_w, layer_index)] + np.array(globals()['L{}_layer{}_w_c'.format(i,layer_index)])   # 일반 클러스터링\n",
      "<ipython-input-8-8808d52ee2cd>:119: VisibleDeprecationWarning: Creating an ndarray from ragged nested sequences (which is a list-or-tuple of lists-or-tuples-or ndarrays with different lengths or shapes) is deprecated. If you meant to do this, you must specify 'dtype=object' when creating the ndarray\n",
      "  globals()['G{}_c{}_w_layer{}'.format(global_epoch, num_c_w, layer_index)] = globals()['G{}_c{}_w_layer{}'.format(global_epoch, num_c_w, layer_index)] + np.array(globals()['L{}_layer{}_w_c'.format(i,layer_index)])   # 일반 클러스터링\n",
      "<ipython-input-8-8808d52ee2cd>:119: VisibleDeprecationWarning: Creating an ndarray from ragged nested sequences (which is a list-or-tuple of lists-or-tuples-or ndarrays with different lengths or shapes) is deprecated. If you meant to do this, you must specify 'dtype=object' when creating the ndarray\n",
      "  globals()['G{}_c{}_w_layer{}'.format(global_epoch, num_c_w, layer_index)] = globals()['G{}_c{}_w_layer{}'.format(global_epoch, num_c_w, layer_index)] + np.array(globals()['L{}_layer{}_w_c'.format(i,layer_index)])   # 일반 클러스터링\n",
      "<ipython-input-8-8808d52ee2cd>:119: VisibleDeprecationWarning: Creating an ndarray from ragged nested sequences (which is a list-or-tuple of lists-or-tuples-or ndarrays with different lengths or shapes) is deprecated. If you meant to do this, you must specify 'dtype=object' when creating the ndarray\n",
      "  globals()['G{}_c{}_w_layer{}'.format(global_epoch, num_c_w, layer_index)] = globals()['G{}_c{}_w_layer{}'.format(global_epoch, num_c_w, layer_index)] + np.array(globals()['L{}_layer{}_w_c'.format(i,layer_index)])   # 일반 클러스터링\n"
     ]
    },
    {
     "name": "stdout",
     "output_type": "stream",
     "text": [
      "\n",
      "\n",
      "====================================================== One Global Epoch =====================================================================\n",
      "\n",
      "\n",
      "3  번째 global_epoch 데이터 랜덤하게 준비!!\n",
      "3  번째 global_epoch 데이터 랜덤 준비완료!!\n",
      "\n",
      "\n",
      "3  번째 global epoch에서 로컬 클라이언트 들 학습시작!\n",
      "\n",
      "학습 중 ...\n",
      "\n",
      "35/35 - 0s - loss: 0.4058 - accuracy: 0.8605\n",
      "35/35 - 0s - loss: 0.4494 - accuracy: 0.8362\n",
      "35/35 - 0s - loss: 0.4263 - accuracy: 0.8371\n",
      "35/35 - 0s - loss: 0.3904 - accuracy: 0.8488\n",
      "35/35 - 0s - loss: 0.4280 - accuracy: 0.8452\n",
      "35/35 - 0s - loss: 0.4958 - accuracy: 0.8236\n",
      "35/35 - 0s - loss: 0.3813 - accuracy: 0.8497\n",
      "35/35 - 0s - loss: 0.3974 - accuracy: 0.8488\n",
      "35/35 - 0s - loss: 0.4796 - accuracy: 0.8092\n",
      "------------    3  번째 global epoch < Clustering > 로컬 클라이언트 학습 완료!,  Total Training time :  64.45329189300537 ---------------------------\n",
      "\n",
      "\n"
     ]
    },
    {
     "name": "stderr",
     "output_type": "stream",
     "text": [
      "<ipython-input-8-8808d52ee2cd>:119: VisibleDeprecationWarning: Creating an ndarray from ragged nested sequences (which is a list-or-tuple of lists-or-tuples-or ndarrays with different lengths or shapes) is deprecated. If you meant to do this, you must specify 'dtype=object' when creating the ndarray\n",
      "  globals()['G{}_c{}_w_layer{}'.format(global_epoch, num_c_w, layer_index)] = globals()['G{}_c{}_w_layer{}'.format(global_epoch, num_c_w, layer_index)] + np.array(globals()['L{}_layer{}_w_c'.format(i,layer_index)])   # 일반 클러스터링\n",
      "<ipython-input-8-8808d52ee2cd>:119: VisibleDeprecationWarning: Creating an ndarray from ragged nested sequences (which is a list-or-tuple of lists-or-tuples-or ndarrays with different lengths or shapes) is deprecated. If you meant to do this, you must specify 'dtype=object' when creating the ndarray\n",
      "  globals()['G{}_c{}_w_layer{}'.format(global_epoch, num_c_w, layer_index)] = globals()['G{}_c{}_w_layer{}'.format(global_epoch, num_c_w, layer_index)] + np.array(globals()['L{}_layer{}_w_c'.format(i,layer_index)])   # 일반 클러스터링\n",
      "<ipython-input-8-8808d52ee2cd>:119: VisibleDeprecationWarning: Creating an ndarray from ragged nested sequences (which is a list-or-tuple of lists-or-tuples-or ndarrays with different lengths or shapes) is deprecated. If you meant to do this, you must specify 'dtype=object' when creating the ndarray\n",
      "  globals()['G{}_c{}_w_layer{}'.format(global_epoch, num_c_w, layer_index)] = globals()['G{}_c{}_w_layer{}'.format(global_epoch, num_c_w, layer_index)] + np.array(globals()['L{}_layer{}_w_c'.format(i,layer_index)])   # 일반 클러스터링\n",
      "<ipython-input-8-8808d52ee2cd>:119: VisibleDeprecationWarning: Creating an ndarray from ragged nested sequences (which is a list-or-tuple of lists-or-tuples-or ndarrays with different lengths or shapes) is deprecated. If you meant to do this, you must specify 'dtype=object' when creating the ndarray\n",
      "  globals()['G{}_c{}_w_layer{}'.format(global_epoch, num_c_w, layer_index)] = globals()['G{}_c{}_w_layer{}'.format(global_epoch, num_c_w, layer_index)] + np.array(globals()['L{}_layer{}_w_c'.format(i,layer_index)])   # 일반 클러스터링\n",
      "<ipython-input-8-8808d52ee2cd>:119: VisibleDeprecationWarning: Creating an ndarray from ragged nested sequences (which is a list-or-tuple of lists-or-tuples-or ndarrays with different lengths or shapes) is deprecated. If you meant to do this, you must specify 'dtype=object' when creating the ndarray\n",
      "  globals()['G{}_c{}_w_layer{}'.format(global_epoch, num_c_w, layer_index)] = globals()['G{}_c{}_w_layer{}'.format(global_epoch, num_c_w, layer_index)] + np.array(globals()['L{}_layer{}_w_c'.format(i,layer_index)])   # 일반 클러스터링\n"
     ]
    },
    {
     "name": "stdout",
     "output_type": "stream",
     "text": [
      "\n",
      "\n",
      "====================================================== One Global Epoch =====================================================================\n",
      "\n",
      "\n",
      "4  번째 global_epoch 데이터 랜덤하게 준비!!\n",
      "4  번째 global_epoch 데이터 랜덤 준비완료!!\n",
      "\n",
      "\n",
      "4  번째 global epoch에서 로컬 클라이언트 들 학습시작!\n",
      "\n",
      "학습 중 ...\n",
      "\n",
      "35/35 - 0s - loss: 0.4002 - accuracy: 0.8578\n",
      "35/35 - 0s - loss: 0.3588 - accuracy: 0.8731\n",
      "35/35 - 0s - loss: 0.4301 - accuracy: 0.8434\n",
      "35/35 - 0s - loss: 0.3756 - accuracy: 0.8803\n",
      "35/35 - 0s - loss: 0.3809 - accuracy: 0.8695\n",
      "35/35 - 0s - loss: 0.4019 - accuracy: 0.8479\n",
      "35/35 - 0s - loss: 0.4263 - accuracy: 0.8470\n",
      "35/35 - 0s - loss: 0.4075 - accuracy: 0.8542\n",
      "35/35 - 0s - loss: 0.4308 - accuracy: 0.8380\n",
      "------------    4  번째 global epoch < Clustering > 로컬 클라이언트 학습 완료!,  Total Training time :  63.78925919532776 ---------------------------\n",
      "\n",
      "\n"
     ]
    },
    {
     "name": "stderr",
     "output_type": "stream",
     "text": [
      "<ipython-input-8-8808d52ee2cd>:119: VisibleDeprecationWarning: Creating an ndarray from ragged nested sequences (which is a list-or-tuple of lists-or-tuples-or ndarrays with different lengths or shapes) is deprecated. If you meant to do this, you must specify 'dtype=object' when creating the ndarray\n",
      "  globals()['G{}_c{}_w_layer{}'.format(global_epoch, num_c_w, layer_index)] = globals()['G{}_c{}_w_layer{}'.format(global_epoch, num_c_w, layer_index)] + np.array(globals()['L{}_layer{}_w_c'.format(i,layer_index)])   # 일반 클러스터링\n",
      "<ipython-input-8-8808d52ee2cd>:119: VisibleDeprecationWarning: Creating an ndarray from ragged nested sequences (which is a list-or-tuple of lists-or-tuples-or ndarrays with different lengths or shapes) is deprecated. If you meant to do this, you must specify 'dtype=object' when creating the ndarray\n",
      "  globals()['G{}_c{}_w_layer{}'.format(global_epoch, num_c_w, layer_index)] = globals()['G{}_c{}_w_layer{}'.format(global_epoch, num_c_w, layer_index)] + np.array(globals()['L{}_layer{}_w_c'.format(i,layer_index)])   # 일반 클러스터링\n",
      "<ipython-input-8-8808d52ee2cd>:119: VisibleDeprecationWarning: Creating an ndarray from ragged nested sequences (which is a list-or-tuple of lists-or-tuples-or ndarrays with different lengths or shapes) is deprecated. If you meant to do this, you must specify 'dtype=object' when creating the ndarray\n",
      "  globals()['G{}_c{}_w_layer{}'.format(global_epoch, num_c_w, layer_index)] = globals()['G{}_c{}_w_layer{}'.format(global_epoch, num_c_w, layer_index)] + np.array(globals()['L{}_layer{}_w_c'.format(i,layer_index)])   # 일반 클러스터링\n",
      "<ipython-input-8-8808d52ee2cd>:119: VisibleDeprecationWarning: Creating an ndarray from ragged nested sequences (which is a list-or-tuple of lists-or-tuples-or ndarrays with different lengths or shapes) is deprecated. If you meant to do this, you must specify 'dtype=object' when creating the ndarray\n",
      "  globals()['G{}_c{}_w_layer{}'.format(global_epoch, num_c_w, layer_index)] = globals()['G{}_c{}_w_layer{}'.format(global_epoch, num_c_w, layer_index)] + np.array(globals()['L{}_layer{}_w_c'.format(i,layer_index)])   # 일반 클러스터링\n",
      "<ipython-input-8-8808d52ee2cd>:119: VisibleDeprecationWarning: Creating an ndarray from ragged nested sequences (which is a list-or-tuple of lists-or-tuples-or ndarrays with different lengths or shapes) is deprecated. If you meant to do this, you must specify 'dtype=object' when creating the ndarray\n",
      "  globals()['G{}_c{}_w_layer{}'.format(global_epoch, num_c_w, layer_index)] = globals()['G{}_c{}_w_layer{}'.format(global_epoch, num_c_w, layer_index)] + np.array(globals()['L{}_layer{}_w_c'.format(i,layer_index)])   # 일반 클러스터링\n"
     ]
    },
    {
     "name": "stdout",
     "output_type": "stream",
     "text": [
      "\n",
      "\n",
      "====================================================== One Global Epoch =====================================================================\n",
      "\n",
      "\n",
      "5  번째 global_epoch 데이터 랜덤하게 준비!!\n",
      "5  번째 global_epoch 데이터 랜덤 준비완료!!\n",
      "\n",
      "\n",
      "5  번째 global epoch에서 로컬 클라이언트 들 학습시작!\n",
      "\n",
      "학습 중 ...\n",
      "\n",
      "35/35 - 0s - loss: 0.3458 - accuracy: 0.8803\n",
      "35/35 - 0s - loss: 0.3126 - accuracy: 0.8857\n",
      "35/35 - 0s - loss: 0.4037 - accuracy: 0.8569\n",
      "35/35 - 0s - loss: 0.3841 - accuracy: 0.8641\n",
      "35/35 - 0s - loss: 0.4069 - accuracy: 0.8434\n",
      "35/35 - 0s - loss: 0.4269 - accuracy: 0.8506\n",
      "35/35 - 0s - loss: 0.4613 - accuracy: 0.8479\n",
      "35/35 - 0s - loss: 0.3761 - accuracy: 0.8641\n",
      "35/35 - 0s - loss: 0.3727 - accuracy: 0.8695\n",
      "------------    5  번째 global epoch < Clustering > 로컬 클라이언트 학습 완료!,  Total Training time :  64.56356453895569 ---------------------------\n",
      "\n",
      "\n"
     ]
    },
    {
     "name": "stderr",
     "output_type": "stream",
     "text": [
      "<ipython-input-8-8808d52ee2cd>:119: VisibleDeprecationWarning: Creating an ndarray from ragged nested sequences (which is a list-or-tuple of lists-or-tuples-or ndarrays with different lengths or shapes) is deprecated. If you meant to do this, you must specify 'dtype=object' when creating the ndarray\n",
      "  globals()['G{}_c{}_w_layer{}'.format(global_epoch, num_c_w, layer_index)] = globals()['G{}_c{}_w_layer{}'.format(global_epoch, num_c_w, layer_index)] + np.array(globals()['L{}_layer{}_w_c'.format(i,layer_index)])   # 일반 클러스터링\n",
      "<ipython-input-8-8808d52ee2cd>:119: VisibleDeprecationWarning: Creating an ndarray from ragged nested sequences (which is a list-or-tuple of lists-or-tuples-or ndarrays with different lengths or shapes) is deprecated. If you meant to do this, you must specify 'dtype=object' when creating the ndarray\n",
      "  globals()['G{}_c{}_w_layer{}'.format(global_epoch, num_c_w, layer_index)] = globals()['G{}_c{}_w_layer{}'.format(global_epoch, num_c_w, layer_index)] + np.array(globals()['L{}_layer{}_w_c'.format(i,layer_index)])   # 일반 클러스터링\n",
      "<ipython-input-8-8808d52ee2cd>:119: VisibleDeprecationWarning: Creating an ndarray from ragged nested sequences (which is a list-or-tuple of lists-or-tuples-or ndarrays with different lengths or shapes) is deprecated. If you meant to do this, you must specify 'dtype=object' when creating the ndarray\n",
      "  globals()['G{}_c{}_w_layer{}'.format(global_epoch, num_c_w, layer_index)] = globals()['G{}_c{}_w_layer{}'.format(global_epoch, num_c_w, layer_index)] + np.array(globals()['L{}_layer{}_w_c'.format(i,layer_index)])   # 일반 클러스터링\n",
      "<ipython-input-8-8808d52ee2cd>:119: VisibleDeprecationWarning: Creating an ndarray from ragged nested sequences (which is a list-or-tuple of lists-or-tuples-or ndarrays with different lengths or shapes) is deprecated. If you meant to do this, you must specify 'dtype=object' when creating the ndarray\n",
      "  globals()['G{}_c{}_w_layer{}'.format(global_epoch, num_c_w, layer_index)] = globals()['G{}_c{}_w_layer{}'.format(global_epoch, num_c_w, layer_index)] + np.array(globals()['L{}_layer{}_w_c'.format(i,layer_index)])   # 일반 클러스터링\n",
      "<ipython-input-8-8808d52ee2cd>:119: VisibleDeprecationWarning: Creating an ndarray from ragged nested sequences (which is a list-or-tuple of lists-or-tuples-or ndarrays with different lengths or shapes) is deprecated. If you meant to do this, you must specify 'dtype=object' when creating the ndarray\n",
      "  globals()['G{}_c{}_w_layer{}'.format(global_epoch, num_c_w, layer_index)] = globals()['G{}_c{}_w_layer{}'.format(global_epoch, num_c_w, layer_index)] + np.array(globals()['L{}_layer{}_w_c'.format(i,layer_index)])   # 일반 클러스터링\n"
     ]
    },
    {
     "name": "stdout",
     "output_type": "stream",
     "text": [
      "\n",
      "\n",
      "====================================================== One Global Epoch =====================================================================\n",
      "\n",
      "\n",
      "6  번째 global_epoch 데이터 랜덤하게 준비!!\n",
      "6  번째 global_epoch 데이터 랜덤 준비완료!!\n",
      "\n",
      "\n",
      "6  번째 global epoch에서 로컬 클라이언트 들 학습시작!\n",
      "\n",
      "학습 중 ...\n",
      "\n",
      "35/35 - 0s - loss: 0.3477 - accuracy: 0.8587\n",
      "35/35 - 0s - loss: 0.3489 - accuracy: 0.8686\n",
      "35/35 - 0s - loss: 0.3712 - accuracy: 0.8515\n",
      "35/35 - 0s - loss: 0.3640 - accuracy: 0.8578\n",
      "35/35 - 0s - loss: 0.3945 - accuracy: 0.8668\n",
      "35/35 - 0s - loss: 0.3773 - accuracy: 0.8713\n",
      "35/35 - 0s - loss: 0.3434 - accuracy: 0.8668\n",
      "35/35 - 0s - loss: 0.3307 - accuracy: 0.8758\n",
      "35/35 - 0s - loss: 0.3954 - accuracy: 0.8650\n",
      "------------    6  번째 global epoch < Clustering > 로컬 클라이언트 학습 완료!,  Total Training time :  66.41735410690308 ---------------------------\n",
      "\n",
      "\n"
     ]
    },
    {
     "name": "stderr",
     "output_type": "stream",
     "text": [
      "<ipython-input-8-8808d52ee2cd>:119: VisibleDeprecationWarning: Creating an ndarray from ragged nested sequences (which is a list-or-tuple of lists-or-tuples-or ndarrays with different lengths or shapes) is deprecated. If you meant to do this, you must specify 'dtype=object' when creating the ndarray\n",
      "  globals()['G{}_c{}_w_layer{}'.format(global_epoch, num_c_w, layer_index)] = globals()['G{}_c{}_w_layer{}'.format(global_epoch, num_c_w, layer_index)] + np.array(globals()['L{}_layer{}_w_c'.format(i,layer_index)])   # 일반 클러스터링\n",
      "<ipython-input-8-8808d52ee2cd>:119: VisibleDeprecationWarning: Creating an ndarray from ragged nested sequences (which is a list-or-tuple of lists-or-tuples-or ndarrays with different lengths or shapes) is deprecated. If you meant to do this, you must specify 'dtype=object' when creating the ndarray\n",
      "  globals()['G{}_c{}_w_layer{}'.format(global_epoch, num_c_w, layer_index)] = globals()['G{}_c{}_w_layer{}'.format(global_epoch, num_c_w, layer_index)] + np.array(globals()['L{}_layer{}_w_c'.format(i,layer_index)])   # 일반 클러스터링\n",
      "<ipython-input-8-8808d52ee2cd>:119: VisibleDeprecationWarning: Creating an ndarray from ragged nested sequences (which is a list-or-tuple of lists-or-tuples-or ndarrays with different lengths or shapes) is deprecated. If you meant to do this, you must specify 'dtype=object' when creating the ndarray\n",
      "  globals()['G{}_c{}_w_layer{}'.format(global_epoch, num_c_w, layer_index)] = globals()['G{}_c{}_w_layer{}'.format(global_epoch, num_c_w, layer_index)] + np.array(globals()['L{}_layer{}_w_c'.format(i,layer_index)])   # 일반 클러스터링\n",
      "<ipython-input-8-8808d52ee2cd>:119: VisibleDeprecationWarning: Creating an ndarray from ragged nested sequences (which is a list-or-tuple of lists-or-tuples-or ndarrays with different lengths or shapes) is deprecated. If you meant to do this, you must specify 'dtype=object' when creating the ndarray\n",
      "  globals()['G{}_c{}_w_layer{}'.format(global_epoch, num_c_w, layer_index)] = globals()['G{}_c{}_w_layer{}'.format(global_epoch, num_c_w, layer_index)] + np.array(globals()['L{}_layer{}_w_c'.format(i,layer_index)])   # 일반 클러스터링\n",
      "<ipython-input-8-8808d52ee2cd>:119: VisibleDeprecationWarning: Creating an ndarray from ragged nested sequences (which is a list-or-tuple of lists-or-tuples-or ndarrays with different lengths or shapes) is deprecated. If you meant to do this, you must specify 'dtype=object' when creating the ndarray\n",
      "  globals()['G{}_c{}_w_layer{}'.format(global_epoch, num_c_w, layer_index)] = globals()['G{}_c{}_w_layer{}'.format(global_epoch, num_c_w, layer_index)] + np.array(globals()['L{}_layer{}_w_c'.format(i,layer_index)])   # 일반 클러스터링\n"
     ]
    },
    {
     "name": "stdout",
     "output_type": "stream",
     "text": [
      "\n",
      "\n",
      "====================================================== One Global Epoch =====================================================================\n",
      "\n",
      "\n",
      "7  번째 global_epoch 데이터 랜덤하게 준비!!\n",
      "7  번째 global_epoch 데이터 랜덤 준비완료!!\n",
      "\n",
      "\n",
      "7  번째 global epoch에서 로컬 클라이언트 들 학습시작!\n",
      "\n",
      "학습 중 ...\n",
      "\n",
      "35/35 - 0s - loss: 0.3895 - accuracy: 0.8668\n",
      "35/35 - 0s - loss: 0.3494 - accuracy: 0.8830\n",
      "35/35 - 0s - loss: 0.3742 - accuracy: 0.8605\n",
      "35/35 - 0s - loss: 0.3257 - accuracy: 0.8776\n",
      "35/35 - 0s - loss: 0.4422 - accuracy: 0.8632\n",
      "35/35 - 0s - loss: 0.3650 - accuracy: 0.8722\n",
      "35/35 - 0s - loss: 0.3455 - accuracy: 0.8830\n",
      "35/35 - 0s - loss: 0.3280 - accuracy: 0.8830\n",
      "35/35 - 0s - loss: 0.3626 - accuracy: 0.8668\n",
      "------------    7  번째 global epoch < Clustering > 로컬 클라이언트 학습 완료!,  Total Training time :  66.32605624198914 ---------------------------\n",
      "\n",
      "\n"
     ]
    },
    {
     "name": "stderr",
     "output_type": "stream",
     "text": [
      "<ipython-input-8-8808d52ee2cd>:119: VisibleDeprecationWarning: Creating an ndarray from ragged nested sequences (which is a list-or-tuple of lists-or-tuples-or ndarrays with different lengths or shapes) is deprecated. If you meant to do this, you must specify 'dtype=object' when creating the ndarray\n",
      "  globals()['G{}_c{}_w_layer{}'.format(global_epoch, num_c_w, layer_index)] = globals()['G{}_c{}_w_layer{}'.format(global_epoch, num_c_w, layer_index)] + np.array(globals()['L{}_layer{}_w_c'.format(i,layer_index)])   # 일반 클러스터링\n",
      "<ipython-input-8-8808d52ee2cd>:119: VisibleDeprecationWarning: Creating an ndarray from ragged nested sequences (which is a list-or-tuple of lists-or-tuples-or ndarrays with different lengths or shapes) is deprecated. If you meant to do this, you must specify 'dtype=object' when creating the ndarray\n",
      "  globals()['G{}_c{}_w_layer{}'.format(global_epoch, num_c_w, layer_index)] = globals()['G{}_c{}_w_layer{}'.format(global_epoch, num_c_w, layer_index)] + np.array(globals()['L{}_layer{}_w_c'.format(i,layer_index)])   # 일반 클러스터링\n",
      "<ipython-input-8-8808d52ee2cd>:119: VisibleDeprecationWarning: Creating an ndarray from ragged nested sequences (which is a list-or-tuple of lists-or-tuples-or ndarrays with different lengths or shapes) is deprecated. If you meant to do this, you must specify 'dtype=object' when creating the ndarray\n",
      "  globals()['G{}_c{}_w_layer{}'.format(global_epoch, num_c_w, layer_index)] = globals()['G{}_c{}_w_layer{}'.format(global_epoch, num_c_w, layer_index)] + np.array(globals()['L{}_layer{}_w_c'.format(i,layer_index)])   # 일반 클러스터링\n",
      "<ipython-input-8-8808d52ee2cd>:119: VisibleDeprecationWarning: Creating an ndarray from ragged nested sequences (which is a list-or-tuple of lists-or-tuples-or ndarrays with different lengths or shapes) is deprecated. If you meant to do this, you must specify 'dtype=object' when creating the ndarray\n",
      "  globals()['G{}_c{}_w_layer{}'.format(global_epoch, num_c_w, layer_index)] = globals()['G{}_c{}_w_layer{}'.format(global_epoch, num_c_w, layer_index)] + np.array(globals()['L{}_layer{}_w_c'.format(i,layer_index)])   # 일반 클러스터링\n",
      "<ipython-input-8-8808d52ee2cd>:119: VisibleDeprecationWarning: Creating an ndarray from ragged nested sequences (which is a list-or-tuple of lists-or-tuples-or ndarrays with different lengths or shapes) is deprecated. If you meant to do this, you must specify 'dtype=object' when creating the ndarray\n",
      "  globals()['G{}_c{}_w_layer{}'.format(global_epoch, num_c_w, layer_index)] = globals()['G{}_c{}_w_layer{}'.format(global_epoch, num_c_w, layer_index)] + np.array(globals()['L{}_layer{}_w_c'.format(i,layer_index)])   # 일반 클러스터링\n"
     ]
    },
    {
     "name": "stdout",
     "output_type": "stream",
     "text": [
      "\n",
      "\n",
      "====================================================== One Global Epoch =====================================================================\n",
      "\n",
      "\n",
      "8  번째 global_epoch 데이터 랜덤하게 준비!!\n",
      "8  번째 global_epoch 데이터 랜덤 준비완료!!\n",
      "\n",
      "\n",
      "8  번째 global epoch에서 로컬 클라이언트 들 학습시작!\n",
      "\n",
      "학습 중 ...\n",
      "\n",
      "35/35 - 0s - loss: 0.3629 - accuracy: 0.8695\n",
      "35/35 - 0s - loss: 0.3280 - accuracy: 0.8857\n",
      "35/35 - 0s - loss: 0.3917 - accuracy: 0.8506\n",
      "35/35 - 0s - loss: 0.3667 - accuracy: 0.8632\n",
      "35/35 - 0s - loss: 0.4225 - accuracy: 0.8416\n",
      "35/35 - 0s - loss: 0.3581 - accuracy: 0.8713\n",
      "35/35 - 0s - loss: 0.3340 - accuracy: 0.8749\n",
      "35/35 - 0s - loss: 0.3428 - accuracy: 0.8812\n",
      "35/35 - 0s - loss: 0.4065 - accuracy: 0.8596\n",
      "------------    8  번째 global epoch < Clustering > 로컬 클라이언트 학습 완료!,  Total Training time :  65.10976505279541 ---------------------------\n",
      "\n",
      "\n"
     ]
    },
    {
     "name": "stderr",
     "output_type": "stream",
     "text": [
      "<ipython-input-8-8808d52ee2cd>:119: VisibleDeprecationWarning: Creating an ndarray from ragged nested sequences (which is a list-or-tuple of lists-or-tuples-or ndarrays with different lengths or shapes) is deprecated. If you meant to do this, you must specify 'dtype=object' when creating the ndarray\n",
      "  globals()['G{}_c{}_w_layer{}'.format(global_epoch, num_c_w, layer_index)] = globals()['G{}_c{}_w_layer{}'.format(global_epoch, num_c_w, layer_index)] + np.array(globals()['L{}_layer{}_w_c'.format(i,layer_index)])   # 일반 클러스터링\n",
      "<ipython-input-8-8808d52ee2cd>:119: VisibleDeprecationWarning: Creating an ndarray from ragged nested sequences (which is a list-or-tuple of lists-or-tuples-or ndarrays with different lengths or shapes) is deprecated. If you meant to do this, you must specify 'dtype=object' when creating the ndarray\n",
      "  globals()['G{}_c{}_w_layer{}'.format(global_epoch, num_c_w, layer_index)] = globals()['G{}_c{}_w_layer{}'.format(global_epoch, num_c_w, layer_index)] + np.array(globals()['L{}_layer{}_w_c'.format(i,layer_index)])   # 일반 클러스터링\n",
      "<ipython-input-8-8808d52ee2cd>:119: VisibleDeprecationWarning: Creating an ndarray from ragged nested sequences (which is a list-or-tuple of lists-or-tuples-or ndarrays with different lengths or shapes) is deprecated. If you meant to do this, you must specify 'dtype=object' when creating the ndarray\n",
      "  globals()['G{}_c{}_w_layer{}'.format(global_epoch, num_c_w, layer_index)] = globals()['G{}_c{}_w_layer{}'.format(global_epoch, num_c_w, layer_index)] + np.array(globals()['L{}_layer{}_w_c'.format(i,layer_index)])   # 일반 클러스터링\n",
      "<ipython-input-8-8808d52ee2cd>:119: VisibleDeprecationWarning: Creating an ndarray from ragged nested sequences (which is a list-or-tuple of lists-or-tuples-or ndarrays with different lengths or shapes) is deprecated. If you meant to do this, you must specify 'dtype=object' when creating the ndarray\n",
      "  globals()['G{}_c{}_w_layer{}'.format(global_epoch, num_c_w, layer_index)] = globals()['G{}_c{}_w_layer{}'.format(global_epoch, num_c_w, layer_index)] + np.array(globals()['L{}_layer{}_w_c'.format(i,layer_index)])   # 일반 클러스터링\n",
      "<ipython-input-8-8808d52ee2cd>:119: VisibleDeprecationWarning: Creating an ndarray from ragged nested sequences (which is a list-or-tuple of lists-or-tuples-or ndarrays with different lengths or shapes) is deprecated. If you meant to do this, you must specify 'dtype=object' when creating the ndarray\n",
      "  globals()['G{}_c{}_w_layer{}'.format(global_epoch, num_c_w, layer_index)] = globals()['G{}_c{}_w_layer{}'.format(global_epoch, num_c_w, layer_index)] + np.array(globals()['L{}_layer{}_w_c'.format(i,layer_index)])   # 일반 클러스터링\n"
     ]
    },
    {
     "name": "stdout",
     "output_type": "stream",
     "text": [
      "\n",
      "\n",
      "====================================================== One Global Epoch =====================================================================\n",
      "\n",
      "\n",
      "9  번째 global_epoch 데이터 랜덤하게 준비!!\n",
      "9  번째 global_epoch 데이터 랜덤 준비완료!!\n",
      "\n",
      "\n",
      "9  번째 global epoch에서 로컬 클라이언트 들 학습시작!\n",
      "\n",
      "학습 중 ...\n",
      "\n",
      "35/35 - 0s - loss: 0.3908 - accuracy: 0.8641\n",
      "35/35 - 0s - loss: 0.3309 - accuracy: 0.8830\n",
      "35/35 - 0s - loss: 0.3820 - accuracy: 0.8641\n",
      "35/35 - 0s - loss: 0.3435 - accuracy: 0.8740\n",
      "35/35 - 0s - loss: 0.3271 - accuracy: 0.8830\n",
      "35/35 - 0s - loss: 0.3640 - accuracy: 0.8812\n",
      "35/35 - 0s - loss: 0.3730 - accuracy: 0.8713\n",
      "35/35 - 0s - loss: 0.3323 - accuracy: 0.8848\n",
      "35/35 - 0s - loss: 0.3186 - accuracy: 0.8866\n",
      "------------    9  번째 global epoch < Clustering > 로컬 클라이언트 학습 완료!,  Total Training time :  66.54425072669983 ---------------------------\n",
      "\n",
      "\n"
     ]
    },
    {
     "name": "stderr",
     "output_type": "stream",
     "text": [
      "<ipython-input-8-8808d52ee2cd>:119: VisibleDeprecationWarning: Creating an ndarray from ragged nested sequences (which is a list-or-tuple of lists-or-tuples-or ndarrays with different lengths or shapes) is deprecated. If you meant to do this, you must specify 'dtype=object' when creating the ndarray\n",
      "  globals()['G{}_c{}_w_layer{}'.format(global_epoch, num_c_w, layer_index)] = globals()['G{}_c{}_w_layer{}'.format(global_epoch, num_c_w, layer_index)] + np.array(globals()['L{}_layer{}_w_c'.format(i,layer_index)])   # 일반 클러스터링\n",
      "<ipython-input-8-8808d52ee2cd>:119: VisibleDeprecationWarning: Creating an ndarray from ragged nested sequences (which is a list-or-tuple of lists-or-tuples-or ndarrays with different lengths or shapes) is deprecated. If you meant to do this, you must specify 'dtype=object' when creating the ndarray\n",
      "  globals()['G{}_c{}_w_layer{}'.format(global_epoch, num_c_w, layer_index)] = globals()['G{}_c{}_w_layer{}'.format(global_epoch, num_c_w, layer_index)] + np.array(globals()['L{}_layer{}_w_c'.format(i,layer_index)])   # 일반 클러스터링\n",
      "<ipython-input-8-8808d52ee2cd>:119: VisibleDeprecationWarning: Creating an ndarray from ragged nested sequences (which is a list-or-tuple of lists-or-tuples-or ndarrays with different lengths or shapes) is deprecated. If you meant to do this, you must specify 'dtype=object' when creating the ndarray\n",
      "  globals()['G{}_c{}_w_layer{}'.format(global_epoch, num_c_w, layer_index)] = globals()['G{}_c{}_w_layer{}'.format(global_epoch, num_c_w, layer_index)] + np.array(globals()['L{}_layer{}_w_c'.format(i,layer_index)])   # 일반 클러스터링\n",
      "<ipython-input-8-8808d52ee2cd>:119: VisibleDeprecationWarning: Creating an ndarray from ragged nested sequences (which is a list-or-tuple of lists-or-tuples-or ndarrays with different lengths or shapes) is deprecated. If you meant to do this, you must specify 'dtype=object' when creating the ndarray\n",
      "  globals()['G{}_c{}_w_layer{}'.format(global_epoch, num_c_w, layer_index)] = globals()['G{}_c{}_w_layer{}'.format(global_epoch, num_c_w, layer_index)] + np.array(globals()['L{}_layer{}_w_c'.format(i,layer_index)])   # 일반 클러스터링\n",
      "<ipython-input-8-8808d52ee2cd>:119: VisibleDeprecationWarning: Creating an ndarray from ragged nested sequences (which is a list-or-tuple of lists-or-tuples-or ndarrays with different lengths or shapes) is deprecated. If you meant to do this, you must specify 'dtype=object' when creating the ndarray\n",
      "  globals()['G{}_c{}_w_layer{}'.format(global_epoch, num_c_w, layer_index)] = globals()['G{}_c{}_w_layer{}'.format(global_epoch, num_c_w, layer_index)] + np.array(globals()['L{}_layer{}_w_c'.format(i,layer_index)])   # 일반 클러스터링\n"
     ]
    },
    {
     "name": "stdout",
     "output_type": "stream",
     "text": [
      "\n",
      "\n",
      "====================================================== One Global Epoch =====================================================================\n",
      "\n",
      "\n",
      "10  번째 global_epoch 데이터 랜덤하게 준비!!\n",
      "10  번째 global_epoch 데이터 랜덤 준비완료!!\n",
      "\n",
      "\n",
      "10  번째 global epoch에서 로컬 클라이언트 들 학습시작!\n",
      "\n",
      "학습 중 ...\n",
      "\n",
      "35/35 - 0s - loss: 0.3681 - accuracy: 0.8722\n",
      "35/35 - 0s - loss: 0.3414 - accuracy: 0.8812\n",
      "35/35 - 0s - loss: 0.3553 - accuracy: 0.8749\n",
      "35/35 - 0s - loss: 0.4089 - accuracy: 0.8659\n",
      "35/35 - 0s - loss: 0.3388 - accuracy: 0.8722\n",
      "35/35 - 0s - loss: 0.3291 - accuracy: 0.8947\n",
      "35/35 - 0s - loss: 0.3576 - accuracy: 0.8650\n",
      "35/35 - 0s - loss: 0.3888 - accuracy: 0.8668\n",
      "35/35 - 0s - loss: 0.3061 - accuracy: 0.8875\n",
      "------------    10  번째 global epoch < Clustering > 로컬 클라이언트 학습 완료!,  Total Training time :  66.45234704017639 ---------------------------\n",
      "\n",
      "\n"
     ]
    },
    {
     "name": "stderr",
     "output_type": "stream",
     "text": [
      "<ipython-input-8-8808d52ee2cd>:119: VisibleDeprecationWarning: Creating an ndarray from ragged nested sequences (which is a list-or-tuple of lists-or-tuples-or ndarrays with different lengths or shapes) is deprecated. If you meant to do this, you must specify 'dtype=object' when creating the ndarray\n",
      "  globals()['G{}_c{}_w_layer{}'.format(global_epoch, num_c_w, layer_index)] = globals()['G{}_c{}_w_layer{}'.format(global_epoch, num_c_w, layer_index)] + np.array(globals()['L{}_layer{}_w_c'.format(i,layer_index)])   # 일반 클러스터링\n",
      "<ipython-input-8-8808d52ee2cd>:119: VisibleDeprecationWarning: Creating an ndarray from ragged nested sequences (which is a list-or-tuple of lists-or-tuples-or ndarrays with different lengths or shapes) is deprecated. If you meant to do this, you must specify 'dtype=object' when creating the ndarray\n",
      "  globals()['G{}_c{}_w_layer{}'.format(global_epoch, num_c_w, layer_index)] = globals()['G{}_c{}_w_layer{}'.format(global_epoch, num_c_w, layer_index)] + np.array(globals()['L{}_layer{}_w_c'.format(i,layer_index)])   # 일반 클러스터링\n",
      "<ipython-input-8-8808d52ee2cd>:119: VisibleDeprecationWarning: Creating an ndarray from ragged nested sequences (which is a list-or-tuple of lists-or-tuples-or ndarrays with different lengths or shapes) is deprecated. If you meant to do this, you must specify 'dtype=object' when creating the ndarray\n",
      "  globals()['G{}_c{}_w_layer{}'.format(global_epoch, num_c_w, layer_index)] = globals()['G{}_c{}_w_layer{}'.format(global_epoch, num_c_w, layer_index)] + np.array(globals()['L{}_layer{}_w_c'.format(i,layer_index)])   # 일반 클러스터링\n",
      "<ipython-input-8-8808d52ee2cd>:119: VisibleDeprecationWarning: Creating an ndarray from ragged nested sequences (which is a list-or-tuple of lists-or-tuples-or ndarrays with different lengths or shapes) is deprecated. If you meant to do this, you must specify 'dtype=object' when creating the ndarray\n",
      "  globals()['G{}_c{}_w_layer{}'.format(global_epoch, num_c_w, layer_index)] = globals()['G{}_c{}_w_layer{}'.format(global_epoch, num_c_w, layer_index)] + np.array(globals()['L{}_layer{}_w_c'.format(i,layer_index)])   # 일반 클러스터링\n",
      "<ipython-input-8-8808d52ee2cd>:119: VisibleDeprecationWarning: Creating an ndarray from ragged nested sequences (which is a list-or-tuple of lists-or-tuples-or ndarrays with different lengths or shapes) is deprecated. If you meant to do this, you must specify 'dtype=object' when creating the ndarray\n",
      "  globals()['G{}_c{}_w_layer{}'.format(global_epoch, num_c_w, layer_index)] = globals()['G{}_c{}_w_layer{}'.format(global_epoch, num_c_w, layer_index)] + np.array(globals()['L{}_layer{}_w_c'.format(i,layer_index)])   # 일반 클러스터링\n"
     ]
    },
    {
     "name": "stdout",
     "output_type": "stream",
     "text": [
      "\n",
      "\n",
      "====================================================== One Global Epoch =====================================================================\n",
      "\n",
      "\n",
      "11  번째 global_epoch 데이터 랜덤하게 준비!!\n",
      "11  번째 global_epoch 데이터 랜덤 준비완료!!\n",
      "\n",
      "\n",
      "11  번째 global epoch에서 로컬 클라이언트 들 학습시작!\n",
      "\n",
      "학습 중 ...\n",
      "\n",
      "35/35 - 0s - loss: 0.3371 - accuracy: 0.8848\n",
      "35/35 - 0s - loss: 0.3418 - accuracy: 0.8785\n",
      "35/35 - 0s - loss: 0.3475 - accuracy: 0.8749\n",
      "35/35 - 0s - loss: 0.3250 - accuracy: 0.8812\n",
      "35/35 - 0s - loss: 0.3490 - accuracy: 0.8731\n",
      "35/35 - 0s - loss: 0.3048 - accuracy: 0.8938\n",
      "35/35 - 0s - loss: 0.3824 - accuracy: 0.8713\n",
      "35/35 - 0s - loss: 0.2866 - accuracy: 0.8956\n",
      "35/35 - 0s - loss: 0.3196 - accuracy: 0.8866\n",
      "------------    11  번째 global epoch < Clustering > 로컬 클라이언트 학습 완료!,  Total Training time :  68.50197982788086 ---------------------------\n",
      "\n",
      "\n"
     ]
    },
    {
     "name": "stderr",
     "output_type": "stream",
     "text": [
      "<ipython-input-8-8808d52ee2cd>:119: VisibleDeprecationWarning: Creating an ndarray from ragged nested sequences (which is a list-or-tuple of lists-or-tuples-or ndarrays with different lengths or shapes) is deprecated. If you meant to do this, you must specify 'dtype=object' when creating the ndarray\n",
      "  globals()['G{}_c{}_w_layer{}'.format(global_epoch, num_c_w, layer_index)] = globals()['G{}_c{}_w_layer{}'.format(global_epoch, num_c_w, layer_index)] + np.array(globals()['L{}_layer{}_w_c'.format(i,layer_index)])   # 일반 클러스터링\n",
      "<ipython-input-8-8808d52ee2cd>:119: VisibleDeprecationWarning: Creating an ndarray from ragged nested sequences (which is a list-or-tuple of lists-or-tuples-or ndarrays with different lengths or shapes) is deprecated. If you meant to do this, you must specify 'dtype=object' when creating the ndarray\n",
      "  globals()['G{}_c{}_w_layer{}'.format(global_epoch, num_c_w, layer_index)] = globals()['G{}_c{}_w_layer{}'.format(global_epoch, num_c_w, layer_index)] + np.array(globals()['L{}_layer{}_w_c'.format(i,layer_index)])   # 일반 클러스터링\n",
      "<ipython-input-8-8808d52ee2cd>:119: VisibleDeprecationWarning: Creating an ndarray from ragged nested sequences (which is a list-or-tuple of lists-or-tuples-or ndarrays with different lengths or shapes) is deprecated. If you meant to do this, you must specify 'dtype=object' when creating the ndarray\n",
      "  globals()['G{}_c{}_w_layer{}'.format(global_epoch, num_c_w, layer_index)] = globals()['G{}_c{}_w_layer{}'.format(global_epoch, num_c_w, layer_index)] + np.array(globals()['L{}_layer{}_w_c'.format(i,layer_index)])   # 일반 클러스터링\n",
      "<ipython-input-8-8808d52ee2cd>:119: VisibleDeprecationWarning: Creating an ndarray from ragged nested sequences (which is a list-or-tuple of lists-or-tuples-or ndarrays with different lengths or shapes) is deprecated. If you meant to do this, you must specify 'dtype=object' when creating the ndarray\n",
      "  globals()['G{}_c{}_w_layer{}'.format(global_epoch, num_c_w, layer_index)] = globals()['G{}_c{}_w_layer{}'.format(global_epoch, num_c_w, layer_index)] + np.array(globals()['L{}_layer{}_w_c'.format(i,layer_index)])   # 일반 클러스터링\n",
      "<ipython-input-8-8808d52ee2cd>:119: VisibleDeprecationWarning: Creating an ndarray from ragged nested sequences (which is a list-or-tuple of lists-or-tuples-or ndarrays with different lengths or shapes) is deprecated. If you meant to do this, you must specify 'dtype=object' when creating the ndarray\n",
      "  globals()['G{}_c{}_w_layer{}'.format(global_epoch, num_c_w, layer_index)] = globals()['G{}_c{}_w_layer{}'.format(global_epoch, num_c_w, layer_index)] + np.array(globals()['L{}_layer{}_w_c'.format(i,layer_index)])   # 일반 클러스터링\n"
     ]
    },
    {
     "name": "stdout",
     "output_type": "stream",
     "text": [
      "\n",
      "\n",
      "====================================================== One Global Epoch =====================================================================\n",
      "\n",
      "\n",
      "12  번째 global_epoch 데이터 랜덤하게 준비!!\n",
      "12  번째 global_epoch 데이터 랜덤 준비완료!!\n",
      "\n",
      "\n",
      "12  번째 global epoch에서 로컬 클라이언트 들 학습시작!\n",
      "\n",
      "학습 중 ...\n",
      "\n",
      "35/35 - 0s - loss: 0.3583 - accuracy: 0.8857\n",
      "35/35 - 0s - loss: 0.3228 - accuracy: 0.8812\n",
      "35/35 - 0s - loss: 0.3555 - accuracy: 0.8767\n",
      "35/35 - 0s - loss: 0.3055 - accuracy: 0.8983\n",
      "35/35 - 0s - loss: 0.3462 - accuracy: 0.8794\n",
      "35/35 - 0s - loss: 0.3516 - accuracy: 0.8884\n",
      "35/35 - 0s - loss: 0.3217 - accuracy: 0.8929\n",
      "35/35 - 0s - loss: 0.3660 - accuracy: 0.8632\n",
      "35/35 - 0s - loss: 0.3138 - accuracy: 0.8956\n",
      "------------    12  번째 global epoch < Clustering > 로컬 클라이언트 학습 완료!,  Total Training time :  67.7143886089325 ---------------------------\n",
      "\n",
      "\n"
     ]
    },
    {
     "name": "stderr",
     "output_type": "stream",
     "text": [
      "<ipython-input-8-8808d52ee2cd>:119: VisibleDeprecationWarning: Creating an ndarray from ragged nested sequences (which is a list-or-tuple of lists-or-tuples-or ndarrays with different lengths or shapes) is deprecated. If you meant to do this, you must specify 'dtype=object' when creating the ndarray\n",
      "  globals()['G{}_c{}_w_layer{}'.format(global_epoch, num_c_w, layer_index)] = globals()['G{}_c{}_w_layer{}'.format(global_epoch, num_c_w, layer_index)] + np.array(globals()['L{}_layer{}_w_c'.format(i,layer_index)])   # 일반 클러스터링\n",
      "<ipython-input-8-8808d52ee2cd>:119: VisibleDeprecationWarning: Creating an ndarray from ragged nested sequences (which is a list-or-tuple of lists-or-tuples-or ndarrays with different lengths or shapes) is deprecated. If you meant to do this, you must specify 'dtype=object' when creating the ndarray\n",
      "  globals()['G{}_c{}_w_layer{}'.format(global_epoch, num_c_w, layer_index)] = globals()['G{}_c{}_w_layer{}'.format(global_epoch, num_c_w, layer_index)] + np.array(globals()['L{}_layer{}_w_c'.format(i,layer_index)])   # 일반 클러스터링\n",
      "<ipython-input-8-8808d52ee2cd>:119: VisibleDeprecationWarning: Creating an ndarray from ragged nested sequences (which is a list-or-tuple of lists-or-tuples-or ndarrays with different lengths or shapes) is deprecated. If you meant to do this, you must specify 'dtype=object' when creating the ndarray\n",
      "  globals()['G{}_c{}_w_layer{}'.format(global_epoch, num_c_w, layer_index)] = globals()['G{}_c{}_w_layer{}'.format(global_epoch, num_c_w, layer_index)] + np.array(globals()['L{}_layer{}_w_c'.format(i,layer_index)])   # 일반 클러스터링\n",
      "<ipython-input-8-8808d52ee2cd>:119: VisibleDeprecationWarning: Creating an ndarray from ragged nested sequences (which is a list-or-tuple of lists-or-tuples-or ndarrays with different lengths or shapes) is deprecated. If you meant to do this, you must specify 'dtype=object' when creating the ndarray\n",
      "  globals()['G{}_c{}_w_layer{}'.format(global_epoch, num_c_w, layer_index)] = globals()['G{}_c{}_w_layer{}'.format(global_epoch, num_c_w, layer_index)] + np.array(globals()['L{}_layer{}_w_c'.format(i,layer_index)])   # 일반 클러스터링\n",
      "<ipython-input-8-8808d52ee2cd>:119: VisibleDeprecationWarning: Creating an ndarray from ragged nested sequences (which is a list-or-tuple of lists-or-tuples-or ndarrays with different lengths or shapes) is deprecated. If you meant to do this, you must specify 'dtype=object' when creating the ndarray\n",
      "  globals()['G{}_c{}_w_layer{}'.format(global_epoch, num_c_w, layer_index)] = globals()['G{}_c{}_w_layer{}'.format(global_epoch, num_c_w, layer_index)] + np.array(globals()['L{}_layer{}_w_c'.format(i,layer_index)])   # 일반 클러스터링\n"
     ]
    },
    {
     "name": "stdout",
     "output_type": "stream",
     "text": [
      "\n",
      "\n",
      "====================================================== One Global Epoch =====================================================================\n",
      "\n",
      "\n",
      "13  번째 global_epoch 데이터 랜덤하게 준비!!\n",
      "13  번째 global_epoch 데이터 랜덤 준비완료!!\n",
      "\n",
      "\n",
      "13  번째 global epoch에서 로컬 클라이언트 들 학습시작!\n",
      "\n",
      "학습 중 ...\n",
      "\n",
      "35/35 - 0s - loss: 0.3890 - accuracy: 0.8758\n",
      "35/35 - 0s - loss: 0.3398 - accuracy: 0.8938\n",
      "35/35 - 0s - loss: 0.3330 - accuracy: 0.8875\n",
      "35/35 - 0s - loss: 0.3092 - accuracy: 0.9055\n",
      "35/35 - 0s - loss: 0.3643 - accuracy: 0.8776\n",
      "35/35 - 0s - loss: 0.3008 - accuracy: 0.8893\n",
      "35/35 - 0s - loss: 0.3496 - accuracy: 0.8659\n",
      "35/35 - 0s - loss: 0.3234 - accuracy: 0.8731\n",
      "35/35 - 0s - loss: 0.3460 - accuracy: 0.8677\n",
      "------------    13  번째 global epoch < Clustering > 로컬 클라이언트 학습 완료!,  Total Training time :  68.47837543487549 ---------------------------\n",
      "\n",
      "\n"
     ]
    },
    {
     "name": "stderr",
     "output_type": "stream",
     "text": [
      "<ipython-input-8-8808d52ee2cd>:119: VisibleDeprecationWarning: Creating an ndarray from ragged nested sequences (which is a list-or-tuple of lists-or-tuples-or ndarrays with different lengths or shapes) is deprecated. If you meant to do this, you must specify 'dtype=object' when creating the ndarray\n",
      "  globals()['G{}_c{}_w_layer{}'.format(global_epoch, num_c_w, layer_index)] = globals()['G{}_c{}_w_layer{}'.format(global_epoch, num_c_w, layer_index)] + np.array(globals()['L{}_layer{}_w_c'.format(i,layer_index)])   # 일반 클러스터링\n",
      "<ipython-input-8-8808d52ee2cd>:119: VisibleDeprecationWarning: Creating an ndarray from ragged nested sequences (which is a list-or-tuple of lists-or-tuples-or ndarrays with different lengths or shapes) is deprecated. If you meant to do this, you must specify 'dtype=object' when creating the ndarray\n",
      "  globals()['G{}_c{}_w_layer{}'.format(global_epoch, num_c_w, layer_index)] = globals()['G{}_c{}_w_layer{}'.format(global_epoch, num_c_w, layer_index)] + np.array(globals()['L{}_layer{}_w_c'.format(i,layer_index)])   # 일반 클러스터링\n",
      "<ipython-input-8-8808d52ee2cd>:119: VisibleDeprecationWarning: Creating an ndarray from ragged nested sequences (which is a list-or-tuple of lists-or-tuples-or ndarrays with different lengths or shapes) is deprecated. If you meant to do this, you must specify 'dtype=object' when creating the ndarray\n",
      "  globals()['G{}_c{}_w_layer{}'.format(global_epoch, num_c_w, layer_index)] = globals()['G{}_c{}_w_layer{}'.format(global_epoch, num_c_w, layer_index)] + np.array(globals()['L{}_layer{}_w_c'.format(i,layer_index)])   # 일반 클러스터링\n",
      "<ipython-input-8-8808d52ee2cd>:119: VisibleDeprecationWarning: Creating an ndarray from ragged nested sequences (which is a list-or-tuple of lists-or-tuples-or ndarrays with different lengths or shapes) is deprecated. If you meant to do this, you must specify 'dtype=object' when creating the ndarray\n",
      "  globals()['G{}_c{}_w_layer{}'.format(global_epoch, num_c_w, layer_index)] = globals()['G{}_c{}_w_layer{}'.format(global_epoch, num_c_w, layer_index)] + np.array(globals()['L{}_layer{}_w_c'.format(i,layer_index)])   # 일반 클러스터링\n",
      "<ipython-input-8-8808d52ee2cd>:119: VisibleDeprecationWarning: Creating an ndarray from ragged nested sequences (which is a list-or-tuple of lists-or-tuples-or ndarrays with different lengths or shapes) is deprecated. If you meant to do this, you must specify 'dtype=object' when creating the ndarray\n",
      "  globals()['G{}_c{}_w_layer{}'.format(global_epoch, num_c_w, layer_index)] = globals()['G{}_c{}_w_layer{}'.format(global_epoch, num_c_w, layer_index)] + np.array(globals()['L{}_layer{}_w_c'.format(i,layer_index)])   # 일반 클러스터링\n"
     ]
    },
    {
     "name": "stdout",
     "output_type": "stream",
     "text": [
      "\n",
      "\n",
      "====================================================== One Global Epoch =====================================================================\n",
      "\n",
      "\n",
      "14  번째 global_epoch 데이터 랜덤하게 준비!!\n",
      "14  번째 global_epoch 데이터 랜덤 준비완료!!\n",
      "\n",
      "\n",
      "14  번째 global epoch에서 로컬 클라이언트 들 학습시작!\n",
      "\n",
      "학습 중 ...\n",
      "\n",
      "35/35 - 0s - loss: 0.3555 - accuracy: 0.8785\n",
      "35/35 - 0s - loss: 0.3169 - accuracy: 0.8893\n",
      "35/35 - 0s - loss: 0.3813 - accuracy: 0.8614\n",
      "35/35 - 0s - loss: 0.2916 - accuracy: 0.9001\n",
      "35/35 - 0s - loss: 0.3067 - accuracy: 0.8956\n",
      "35/35 - 0s - loss: 0.3156 - accuracy: 0.8911\n",
      "35/35 - 0s - loss: 0.3110 - accuracy: 0.8839\n",
      "35/35 - 0s - loss: 0.3349 - accuracy: 0.8857\n",
      "35/35 - 0s - loss: 0.3592 - accuracy: 0.8812\n",
      "------------    14  번째 global epoch < Clustering > 로컬 클라이언트 학습 완료!,  Total Training time :  70.19171738624573 ---------------------------\n",
      "\n",
      "\n"
     ]
    },
    {
     "name": "stderr",
     "output_type": "stream",
     "text": [
      "<ipython-input-8-8808d52ee2cd>:119: VisibleDeprecationWarning: Creating an ndarray from ragged nested sequences (which is a list-or-tuple of lists-or-tuples-or ndarrays with different lengths or shapes) is deprecated. If you meant to do this, you must specify 'dtype=object' when creating the ndarray\n",
      "  globals()['G{}_c{}_w_layer{}'.format(global_epoch, num_c_w, layer_index)] = globals()['G{}_c{}_w_layer{}'.format(global_epoch, num_c_w, layer_index)] + np.array(globals()['L{}_layer{}_w_c'.format(i,layer_index)])   # 일반 클러스터링\n",
      "<ipython-input-8-8808d52ee2cd>:119: VisibleDeprecationWarning: Creating an ndarray from ragged nested sequences (which is a list-or-tuple of lists-or-tuples-or ndarrays with different lengths or shapes) is deprecated. If you meant to do this, you must specify 'dtype=object' when creating the ndarray\n",
      "  globals()['G{}_c{}_w_layer{}'.format(global_epoch, num_c_w, layer_index)] = globals()['G{}_c{}_w_layer{}'.format(global_epoch, num_c_w, layer_index)] + np.array(globals()['L{}_layer{}_w_c'.format(i,layer_index)])   # 일반 클러스터링\n",
      "<ipython-input-8-8808d52ee2cd>:119: VisibleDeprecationWarning: Creating an ndarray from ragged nested sequences (which is a list-or-tuple of lists-or-tuples-or ndarrays with different lengths or shapes) is deprecated. If you meant to do this, you must specify 'dtype=object' when creating the ndarray\n",
      "  globals()['G{}_c{}_w_layer{}'.format(global_epoch, num_c_w, layer_index)] = globals()['G{}_c{}_w_layer{}'.format(global_epoch, num_c_w, layer_index)] + np.array(globals()['L{}_layer{}_w_c'.format(i,layer_index)])   # 일반 클러스터링\n",
      "<ipython-input-8-8808d52ee2cd>:119: VisibleDeprecationWarning: Creating an ndarray from ragged nested sequences (which is a list-or-tuple of lists-or-tuples-or ndarrays with different lengths or shapes) is deprecated. If you meant to do this, you must specify 'dtype=object' when creating the ndarray\n",
      "  globals()['G{}_c{}_w_layer{}'.format(global_epoch, num_c_w, layer_index)] = globals()['G{}_c{}_w_layer{}'.format(global_epoch, num_c_w, layer_index)] + np.array(globals()['L{}_layer{}_w_c'.format(i,layer_index)])   # 일반 클러스터링\n",
      "<ipython-input-8-8808d52ee2cd>:119: VisibleDeprecationWarning: Creating an ndarray from ragged nested sequences (which is a list-or-tuple of lists-or-tuples-or ndarrays with different lengths or shapes) is deprecated. If you meant to do this, you must specify 'dtype=object' when creating the ndarray\n",
      "  globals()['G{}_c{}_w_layer{}'.format(global_epoch, num_c_w, layer_index)] = globals()['G{}_c{}_w_layer{}'.format(global_epoch, num_c_w, layer_index)] + np.array(globals()['L{}_layer{}_w_c'.format(i,layer_index)])   # 일반 클러스터링\n"
     ]
    },
    {
     "name": "stdout",
     "output_type": "stream",
     "text": [
      "\n",
      "\n",
      "====================================================== One Global Epoch =====================================================================\n",
      "\n",
      "\n",
      "15  번째 global_epoch 데이터 랜덤하게 준비!!\n",
      "15  번째 global_epoch 데이터 랜덤 준비완료!!\n",
      "\n",
      "\n",
      "15  번째 global epoch에서 로컬 클라이언트 들 학습시작!\n",
      "\n",
      "학습 중 ...\n",
      "\n",
      "35/35 - 0s - loss: 0.4011 - accuracy: 0.8722\n",
      "35/35 - 0s - loss: 0.3134 - accuracy: 0.8929\n",
      "35/35 - 0s - loss: 0.3414 - accuracy: 0.8803\n",
      "35/35 - 0s - loss: 0.3314 - accuracy: 0.8893\n",
      "35/35 - 0s - loss: 0.3670 - accuracy: 0.8650\n",
      "35/35 - 0s - loss: 0.3826 - accuracy: 0.8839\n",
      "35/35 - 0s - loss: 0.2833 - accuracy: 0.8929\n",
      "35/35 - 0s - loss: 0.3247 - accuracy: 0.8866\n",
      "35/35 - 0s - loss: 0.3214 - accuracy: 0.8857\n",
      "------------    15  번째 global epoch < Clustering > 로컬 클라이언트 학습 완료!,  Total Training time :  69.58793139457703 ---------------------------\n",
      "\n",
      "\n"
     ]
    },
    {
     "name": "stderr",
     "output_type": "stream",
     "text": [
      "<ipython-input-8-8808d52ee2cd>:119: VisibleDeprecationWarning: Creating an ndarray from ragged nested sequences (which is a list-or-tuple of lists-or-tuples-or ndarrays with different lengths or shapes) is deprecated. If you meant to do this, you must specify 'dtype=object' when creating the ndarray\n",
      "  globals()['G{}_c{}_w_layer{}'.format(global_epoch, num_c_w, layer_index)] = globals()['G{}_c{}_w_layer{}'.format(global_epoch, num_c_w, layer_index)] + np.array(globals()['L{}_layer{}_w_c'.format(i,layer_index)])   # 일반 클러스터링\n",
      "<ipython-input-8-8808d52ee2cd>:119: VisibleDeprecationWarning: Creating an ndarray from ragged nested sequences (which is a list-or-tuple of lists-or-tuples-or ndarrays with different lengths or shapes) is deprecated. If you meant to do this, you must specify 'dtype=object' when creating the ndarray\n",
      "  globals()['G{}_c{}_w_layer{}'.format(global_epoch, num_c_w, layer_index)] = globals()['G{}_c{}_w_layer{}'.format(global_epoch, num_c_w, layer_index)] + np.array(globals()['L{}_layer{}_w_c'.format(i,layer_index)])   # 일반 클러스터링\n",
      "<ipython-input-8-8808d52ee2cd>:119: VisibleDeprecationWarning: Creating an ndarray from ragged nested sequences (which is a list-or-tuple of lists-or-tuples-or ndarrays with different lengths or shapes) is deprecated. If you meant to do this, you must specify 'dtype=object' when creating the ndarray\n",
      "  globals()['G{}_c{}_w_layer{}'.format(global_epoch, num_c_w, layer_index)] = globals()['G{}_c{}_w_layer{}'.format(global_epoch, num_c_w, layer_index)] + np.array(globals()['L{}_layer{}_w_c'.format(i,layer_index)])   # 일반 클러스터링\n",
      "<ipython-input-8-8808d52ee2cd>:119: VisibleDeprecationWarning: Creating an ndarray from ragged nested sequences (which is a list-or-tuple of lists-or-tuples-or ndarrays with different lengths or shapes) is deprecated. If you meant to do this, you must specify 'dtype=object' when creating the ndarray\n",
      "  globals()['G{}_c{}_w_layer{}'.format(global_epoch, num_c_w, layer_index)] = globals()['G{}_c{}_w_layer{}'.format(global_epoch, num_c_w, layer_index)] + np.array(globals()['L{}_layer{}_w_c'.format(i,layer_index)])   # 일반 클러스터링\n",
      "<ipython-input-8-8808d52ee2cd>:119: VisibleDeprecationWarning: Creating an ndarray from ragged nested sequences (which is a list-or-tuple of lists-or-tuples-or ndarrays with different lengths or shapes) is deprecated. If you meant to do this, you must specify 'dtype=object' when creating the ndarray\n",
      "  globals()['G{}_c{}_w_layer{}'.format(global_epoch, num_c_w, layer_index)] = globals()['G{}_c{}_w_layer{}'.format(global_epoch, num_c_w, layer_index)] + np.array(globals()['L{}_layer{}_w_c'.format(i,layer_index)])   # 일반 클러스터링\n"
     ]
    },
    {
     "name": "stdout",
     "output_type": "stream",
     "text": [
      "\n",
      "\n",
      "====================================================== One Global Epoch =====================================================================\n",
      "\n",
      "\n",
      "16  번째 global_epoch 데이터 랜덤하게 준비!!\n",
      "16  번째 global_epoch 데이터 랜덤 준비완료!!\n",
      "\n",
      "\n",
      "16  번째 global epoch에서 로컬 클라이언트 들 학습시작!\n",
      "\n",
      "학습 중 ...\n",
      "\n",
      "35/35 - 0s - loss: 0.2751 - accuracy: 0.9001\n",
      "35/35 - 0s - loss: 0.3114 - accuracy: 0.8983\n",
      "35/35 - 0s - loss: 0.3193 - accuracy: 0.8857\n",
      "35/35 - 0s - loss: 0.3530 - accuracy: 0.8740\n",
      "35/35 - 0s - loss: 0.3688 - accuracy: 0.8785\n",
      "35/35 - 0s - loss: 0.3061 - accuracy: 0.8884\n",
      "35/35 - 0s - loss: 0.3046 - accuracy: 0.8875\n",
      "35/35 - 0s - loss: 0.3244 - accuracy: 0.8992\n",
      "35/35 - 0s - loss: 0.3283 - accuracy: 0.8974\n",
      "------------    16  번째 global epoch < Clustering > 로컬 클라이언트 학습 완료!,  Total Training time :  69.44874906539917 ---------------------------\n",
      "\n",
      "\n"
     ]
    },
    {
     "name": "stderr",
     "output_type": "stream",
     "text": [
      "<ipython-input-8-8808d52ee2cd>:119: VisibleDeprecationWarning: Creating an ndarray from ragged nested sequences (which is a list-or-tuple of lists-or-tuples-or ndarrays with different lengths or shapes) is deprecated. If you meant to do this, you must specify 'dtype=object' when creating the ndarray\n",
      "  globals()['G{}_c{}_w_layer{}'.format(global_epoch, num_c_w, layer_index)] = globals()['G{}_c{}_w_layer{}'.format(global_epoch, num_c_w, layer_index)] + np.array(globals()['L{}_layer{}_w_c'.format(i,layer_index)])   # 일반 클러스터링\n",
      "<ipython-input-8-8808d52ee2cd>:119: VisibleDeprecationWarning: Creating an ndarray from ragged nested sequences (which is a list-or-tuple of lists-or-tuples-or ndarrays with different lengths or shapes) is deprecated. If you meant to do this, you must specify 'dtype=object' when creating the ndarray\n",
      "  globals()['G{}_c{}_w_layer{}'.format(global_epoch, num_c_w, layer_index)] = globals()['G{}_c{}_w_layer{}'.format(global_epoch, num_c_w, layer_index)] + np.array(globals()['L{}_layer{}_w_c'.format(i,layer_index)])   # 일반 클러스터링\n",
      "<ipython-input-8-8808d52ee2cd>:119: VisibleDeprecationWarning: Creating an ndarray from ragged nested sequences (which is a list-or-tuple of lists-or-tuples-or ndarrays with different lengths or shapes) is deprecated. If you meant to do this, you must specify 'dtype=object' when creating the ndarray\n",
      "  globals()['G{}_c{}_w_layer{}'.format(global_epoch, num_c_w, layer_index)] = globals()['G{}_c{}_w_layer{}'.format(global_epoch, num_c_w, layer_index)] + np.array(globals()['L{}_layer{}_w_c'.format(i,layer_index)])   # 일반 클러스터링\n",
      "<ipython-input-8-8808d52ee2cd>:119: VisibleDeprecationWarning: Creating an ndarray from ragged nested sequences (which is a list-or-tuple of lists-or-tuples-or ndarrays with different lengths or shapes) is deprecated. If you meant to do this, you must specify 'dtype=object' when creating the ndarray\n",
      "  globals()['G{}_c{}_w_layer{}'.format(global_epoch, num_c_w, layer_index)] = globals()['G{}_c{}_w_layer{}'.format(global_epoch, num_c_w, layer_index)] + np.array(globals()['L{}_layer{}_w_c'.format(i,layer_index)])   # 일반 클러스터링\n",
      "<ipython-input-8-8808d52ee2cd>:119: VisibleDeprecationWarning: Creating an ndarray from ragged nested sequences (which is a list-or-tuple of lists-or-tuples-or ndarrays with different lengths or shapes) is deprecated. If you meant to do this, you must specify 'dtype=object' when creating the ndarray\n",
      "  globals()['G{}_c{}_w_layer{}'.format(global_epoch, num_c_w, layer_index)] = globals()['G{}_c{}_w_layer{}'.format(global_epoch, num_c_w, layer_index)] + np.array(globals()['L{}_layer{}_w_c'.format(i,layer_index)])   # 일반 클러스터링\n"
     ]
    },
    {
     "name": "stdout",
     "output_type": "stream",
     "text": [
      "\n",
      "\n",
      "====================================================== One Global Epoch =====================================================================\n",
      "\n",
      "\n",
      "17  번째 global_epoch 데이터 랜덤하게 준비!!\n",
      "17  번째 global_epoch 데이터 랜덤 준비완료!!\n",
      "\n",
      "\n",
      "17  번째 global epoch에서 로컬 클라이언트 들 학습시작!\n",
      "\n",
      "학습 중 ...\n",
      "\n",
      "35/35 - 0s - loss: 0.3896 - accuracy: 0.8839\n",
      "35/35 - 0s - loss: 0.3323 - accuracy: 0.8956\n",
      "35/35 - 0s - loss: 0.4024 - accuracy: 0.8623\n",
      "35/35 - 0s - loss: 0.3054 - accuracy: 0.9055\n",
      "35/35 - 0s - loss: 0.3325 - accuracy: 0.8785\n",
      "35/35 - 0s - loss: 0.3407 - accuracy: 0.8857\n",
      "35/35 - 0s - loss: 0.3846 - accuracy: 0.8929\n",
      "35/35 - 0s - loss: 0.3430 - accuracy: 0.8839\n",
      "35/35 - 0s - loss: 0.3022 - accuracy: 0.8947\n",
      "------------    17  번째 global epoch < Clustering > 로컬 클라이언트 학습 완료!,  Total Training time :  73.25300526618958 ---------------------------\n",
      "\n",
      "\n"
     ]
    },
    {
     "name": "stderr",
     "output_type": "stream",
     "text": [
      "<ipython-input-8-8808d52ee2cd>:119: VisibleDeprecationWarning: Creating an ndarray from ragged nested sequences (which is a list-or-tuple of lists-or-tuples-or ndarrays with different lengths or shapes) is deprecated. If you meant to do this, you must specify 'dtype=object' when creating the ndarray\n",
      "  globals()['G{}_c{}_w_layer{}'.format(global_epoch, num_c_w, layer_index)] = globals()['G{}_c{}_w_layer{}'.format(global_epoch, num_c_w, layer_index)] + np.array(globals()['L{}_layer{}_w_c'.format(i,layer_index)])   # 일반 클러스터링\n",
      "<ipython-input-8-8808d52ee2cd>:119: VisibleDeprecationWarning: Creating an ndarray from ragged nested sequences (which is a list-or-tuple of lists-or-tuples-or ndarrays with different lengths or shapes) is deprecated. If you meant to do this, you must specify 'dtype=object' when creating the ndarray\n",
      "  globals()['G{}_c{}_w_layer{}'.format(global_epoch, num_c_w, layer_index)] = globals()['G{}_c{}_w_layer{}'.format(global_epoch, num_c_w, layer_index)] + np.array(globals()['L{}_layer{}_w_c'.format(i,layer_index)])   # 일반 클러스터링\n",
      "<ipython-input-8-8808d52ee2cd>:119: VisibleDeprecationWarning: Creating an ndarray from ragged nested sequences (which is a list-or-tuple of lists-or-tuples-or ndarrays with different lengths or shapes) is deprecated. If you meant to do this, you must specify 'dtype=object' when creating the ndarray\n",
      "  globals()['G{}_c{}_w_layer{}'.format(global_epoch, num_c_w, layer_index)] = globals()['G{}_c{}_w_layer{}'.format(global_epoch, num_c_w, layer_index)] + np.array(globals()['L{}_layer{}_w_c'.format(i,layer_index)])   # 일반 클러스터링\n",
      "<ipython-input-8-8808d52ee2cd>:119: VisibleDeprecationWarning: Creating an ndarray from ragged nested sequences (which is a list-or-tuple of lists-or-tuples-or ndarrays with different lengths or shapes) is deprecated. If you meant to do this, you must specify 'dtype=object' when creating the ndarray\n",
      "  globals()['G{}_c{}_w_layer{}'.format(global_epoch, num_c_w, layer_index)] = globals()['G{}_c{}_w_layer{}'.format(global_epoch, num_c_w, layer_index)] + np.array(globals()['L{}_layer{}_w_c'.format(i,layer_index)])   # 일반 클러스터링\n",
      "<ipython-input-8-8808d52ee2cd>:119: VisibleDeprecationWarning: Creating an ndarray from ragged nested sequences (which is a list-or-tuple of lists-or-tuples-or ndarrays with different lengths or shapes) is deprecated. If you meant to do this, you must specify 'dtype=object' when creating the ndarray\n",
      "  globals()['G{}_c{}_w_layer{}'.format(global_epoch, num_c_w, layer_index)] = globals()['G{}_c{}_w_layer{}'.format(global_epoch, num_c_w, layer_index)] + np.array(globals()['L{}_layer{}_w_c'.format(i,layer_index)])   # 일반 클러스터링\n"
     ]
    },
    {
     "name": "stdout",
     "output_type": "stream",
     "text": [
      "\n",
      "\n",
      "====================================================== One Global Epoch =====================================================================\n",
      "\n",
      "\n",
      "18  번째 global_epoch 데이터 랜덤하게 준비!!\n",
      "18  번째 global_epoch 데이터 랜덤 준비완료!!\n",
      "\n",
      "\n",
      "18  번째 global epoch에서 로컬 클라이언트 들 학습시작!\n",
      "\n",
      "학습 중 ...\n",
      "\n",
      "35/35 - 0s - loss: 0.3232 - accuracy: 0.8875\n",
      "35/35 - 0s - loss: 0.3199 - accuracy: 0.8965\n",
      "35/35 - 0s - loss: 0.3842 - accuracy: 0.8776\n",
      "35/35 - 0s - loss: 0.3921 - accuracy: 0.8740\n",
      "35/35 - 0s - loss: 0.3934 - accuracy: 0.8839\n",
      "35/35 - 0s - loss: 0.3329 - accuracy: 0.8884\n",
      "35/35 - 0s - loss: 0.3130 - accuracy: 0.8875\n",
      "35/35 - 0s - loss: 0.2962 - accuracy: 0.9109\n",
      "35/35 - 0s - loss: 0.3670 - accuracy: 0.8875\n",
      "------------    18  번째 global epoch < Clustering > 로컬 클라이언트 학습 완료!,  Total Training time :  73.02574706077576 ---------------------------\n",
      "\n",
      "\n"
     ]
    },
    {
     "name": "stderr",
     "output_type": "stream",
     "text": [
      "<ipython-input-8-8808d52ee2cd>:119: VisibleDeprecationWarning: Creating an ndarray from ragged nested sequences (which is a list-or-tuple of lists-or-tuples-or ndarrays with different lengths or shapes) is deprecated. If you meant to do this, you must specify 'dtype=object' when creating the ndarray\n",
      "  globals()['G{}_c{}_w_layer{}'.format(global_epoch, num_c_w, layer_index)] = globals()['G{}_c{}_w_layer{}'.format(global_epoch, num_c_w, layer_index)] + np.array(globals()['L{}_layer{}_w_c'.format(i,layer_index)])   # 일반 클러스터링\n",
      "<ipython-input-8-8808d52ee2cd>:119: VisibleDeprecationWarning: Creating an ndarray from ragged nested sequences (which is a list-or-tuple of lists-or-tuples-or ndarrays with different lengths or shapes) is deprecated. If you meant to do this, you must specify 'dtype=object' when creating the ndarray\n",
      "  globals()['G{}_c{}_w_layer{}'.format(global_epoch, num_c_w, layer_index)] = globals()['G{}_c{}_w_layer{}'.format(global_epoch, num_c_w, layer_index)] + np.array(globals()['L{}_layer{}_w_c'.format(i,layer_index)])   # 일반 클러스터링\n",
      "<ipython-input-8-8808d52ee2cd>:119: VisibleDeprecationWarning: Creating an ndarray from ragged nested sequences (which is a list-or-tuple of lists-or-tuples-or ndarrays with different lengths or shapes) is deprecated. If you meant to do this, you must specify 'dtype=object' when creating the ndarray\n",
      "  globals()['G{}_c{}_w_layer{}'.format(global_epoch, num_c_w, layer_index)] = globals()['G{}_c{}_w_layer{}'.format(global_epoch, num_c_w, layer_index)] + np.array(globals()['L{}_layer{}_w_c'.format(i,layer_index)])   # 일반 클러스터링\n",
      "<ipython-input-8-8808d52ee2cd>:119: VisibleDeprecationWarning: Creating an ndarray from ragged nested sequences (which is a list-or-tuple of lists-or-tuples-or ndarrays with different lengths or shapes) is deprecated. If you meant to do this, you must specify 'dtype=object' when creating the ndarray\n",
      "  globals()['G{}_c{}_w_layer{}'.format(global_epoch, num_c_w, layer_index)] = globals()['G{}_c{}_w_layer{}'.format(global_epoch, num_c_w, layer_index)] + np.array(globals()['L{}_layer{}_w_c'.format(i,layer_index)])   # 일반 클러스터링\n",
      "<ipython-input-8-8808d52ee2cd>:119: VisibleDeprecationWarning: Creating an ndarray from ragged nested sequences (which is a list-or-tuple of lists-or-tuples-or ndarrays with different lengths or shapes) is deprecated. If you meant to do this, you must specify 'dtype=object' when creating the ndarray\n",
      "  globals()['G{}_c{}_w_layer{}'.format(global_epoch, num_c_w, layer_index)] = globals()['G{}_c{}_w_layer{}'.format(global_epoch, num_c_w, layer_index)] + np.array(globals()['L{}_layer{}_w_c'.format(i,layer_index)])   # 일반 클러스터링\n"
     ]
    },
    {
     "name": "stdout",
     "output_type": "stream",
     "text": [
      "\n",
      "\n",
      "====================================================== One Global Epoch =====================================================================\n",
      "\n",
      "\n",
      "19  번째 global_epoch 데이터 랜덤하게 준비!!\n",
      "19  번째 global_epoch 데이터 랜덤 준비완료!!\n",
      "\n",
      "\n",
      "19  번째 global epoch에서 로컬 클라이언트 들 학습시작!\n",
      "\n",
      "학습 중 ...\n",
      "\n",
      "35/35 - 0s - loss: 0.3131 - accuracy: 0.8920\n",
      "35/35 - 0s - loss: 0.3028 - accuracy: 0.8875\n",
      "35/35 - 0s - loss: 0.3861 - accuracy: 0.8641\n",
      "35/35 - 0s - loss: 0.3543 - accuracy: 0.8983\n",
      "35/35 - 0s - loss: 0.3735 - accuracy: 0.8785\n",
      "35/35 - 0s - loss: 0.3117 - accuracy: 0.9010\n",
      "35/35 - 0s - loss: 0.3365 - accuracy: 0.8938\n",
      "35/35 - 0s - loss: 0.3126 - accuracy: 0.9118\n",
      "35/35 - 0s - loss: 0.4163 - accuracy: 0.8704\n",
      "------------    19  번째 global epoch < Clustering > 로컬 클라이언트 학습 완료!,  Total Training time :  74.20215344429016 ---------------------------\n",
      "\n",
      "\n"
     ]
    },
    {
     "name": "stderr",
     "output_type": "stream",
     "text": [
      "<ipython-input-8-8808d52ee2cd>:119: VisibleDeprecationWarning: Creating an ndarray from ragged nested sequences (which is a list-or-tuple of lists-or-tuples-or ndarrays with different lengths or shapes) is deprecated. If you meant to do this, you must specify 'dtype=object' when creating the ndarray\n",
      "  globals()['G{}_c{}_w_layer{}'.format(global_epoch, num_c_w, layer_index)] = globals()['G{}_c{}_w_layer{}'.format(global_epoch, num_c_w, layer_index)] + np.array(globals()['L{}_layer{}_w_c'.format(i,layer_index)])   # 일반 클러스터링\n",
      "<ipython-input-8-8808d52ee2cd>:119: VisibleDeprecationWarning: Creating an ndarray from ragged nested sequences (which is a list-or-tuple of lists-or-tuples-or ndarrays with different lengths or shapes) is deprecated. If you meant to do this, you must specify 'dtype=object' when creating the ndarray\n",
      "  globals()['G{}_c{}_w_layer{}'.format(global_epoch, num_c_w, layer_index)] = globals()['G{}_c{}_w_layer{}'.format(global_epoch, num_c_w, layer_index)] + np.array(globals()['L{}_layer{}_w_c'.format(i,layer_index)])   # 일반 클러스터링\n",
      "<ipython-input-8-8808d52ee2cd>:119: VisibleDeprecationWarning: Creating an ndarray from ragged nested sequences (which is a list-or-tuple of lists-or-tuples-or ndarrays with different lengths or shapes) is deprecated. If you meant to do this, you must specify 'dtype=object' when creating the ndarray\n",
      "  globals()['G{}_c{}_w_layer{}'.format(global_epoch, num_c_w, layer_index)] = globals()['G{}_c{}_w_layer{}'.format(global_epoch, num_c_w, layer_index)] + np.array(globals()['L{}_layer{}_w_c'.format(i,layer_index)])   # 일반 클러스터링\n",
      "<ipython-input-8-8808d52ee2cd>:119: VisibleDeprecationWarning: Creating an ndarray from ragged nested sequences (which is a list-or-tuple of lists-or-tuples-or ndarrays with different lengths or shapes) is deprecated. If you meant to do this, you must specify 'dtype=object' when creating the ndarray\n",
      "  globals()['G{}_c{}_w_layer{}'.format(global_epoch, num_c_w, layer_index)] = globals()['G{}_c{}_w_layer{}'.format(global_epoch, num_c_w, layer_index)] + np.array(globals()['L{}_layer{}_w_c'.format(i,layer_index)])   # 일반 클러스터링\n",
      "<ipython-input-8-8808d52ee2cd>:119: VisibleDeprecationWarning: Creating an ndarray from ragged nested sequences (which is a list-or-tuple of lists-or-tuples-or ndarrays with different lengths or shapes) is deprecated. If you meant to do this, you must specify 'dtype=object' when creating the ndarray\n",
      "  globals()['G{}_c{}_w_layer{}'.format(global_epoch, num_c_w, layer_index)] = globals()['G{}_c{}_w_layer{}'.format(global_epoch, num_c_w, layer_index)] + np.array(globals()['L{}_layer{}_w_c'.format(i,layer_index)])   # 일반 클러스터링\n"
     ]
    },
    {
     "name": "stdout",
     "output_type": "stream",
     "text": [
      "\n",
      "\n",
      "====================================================== One Global Epoch =====================================================================\n",
      "\n",
      "\n",
      "20  번째 global_epoch 데이터 랜덤하게 준비!!\n",
      "20  번째 global_epoch 데이터 랜덤 준비완료!!\n",
      "\n",
      "\n",
      "20  번째 global epoch에서 로컬 클라이언트 들 학습시작!\n",
      "\n",
      "학습 중 ...\n",
      "\n",
      "35/35 - 0s - loss: 0.3620 - accuracy: 0.8776\n",
      "35/35 - 0s - loss: 0.3114 - accuracy: 0.8974\n",
      "35/35 - 0s - loss: 0.3638 - accuracy: 0.8641\n",
      "35/35 - 0s - loss: 0.3356 - accuracy: 0.9010\n",
      "35/35 - 0s - loss: 0.2802 - accuracy: 0.9019\n",
      "35/35 - 0s - loss: 0.3263 - accuracy: 0.9019\n",
      "35/35 - 0s - loss: 0.3554 - accuracy: 0.8956\n",
      "35/35 - 0s - loss: 0.2880 - accuracy: 0.9064\n",
      "35/35 - 0s - loss: 0.3579 - accuracy: 0.8857\n",
      "------------    20  번째 global epoch < Clustering > 로컬 클라이언트 학습 완료!,  Total Training time :  77.40710473060608 ---------------------------\n",
      "\n",
      "\n"
     ]
    },
    {
     "name": "stderr",
     "output_type": "stream",
     "text": [
      "<ipython-input-8-8808d52ee2cd>:119: VisibleDeprecationWarning: Creating an ndarray from ragged nested sequences (which is a list-or-tuple of lists-or-tuples-or ndarrays with different lengths or shapes) is deprecated. If you meant to do this, you must specify 'dtype=object' when creating the ndarray\n",
      "  globals()['G{}_c{}_w_layer{}'.format(global_epoch, num_c_w, layer_index)] = globals()['G{}_c{}_w_layer{}'.format(global_epoch, num_c_w, layer_index)] + np.array(globals()['L{}_layer{}_w_c'.format(i,layer_index)])   # 일반 클러스터링\n",
      "<ipython-input-8-8808d52ee2cd>:119: VisibleDeprecationWarning: Creating an ndarray from ragged nested sequences (which is a list-or-tuple of lists-or-tuples-or ndarrays with different lengths or shapes) is deprecated. If you meant to do this, you must specify 'dtype=object' when creating the ndarray\n",
      "  globals()['G{}_c{}_w_layer{}'.format(global_epoch, num_c_w, layer_index)] = globals()['G{}_c{}_w_layer{}'.format(global_epoch, num_c_w, layer_index)] + np.array(globals()['L{}_layer{}_w_c'.format(i,layer_index)])   # 일반 클러스터링\n",
      "<ipython-input-8-8808d52ee2cd>:119: VisibleDeprecationWarning: Creating an ndarray from ragged nested sequences (which is a list-or-tuple of lists-or-tuples-or ndarrays with different lengths or shapes) is deprecated. If you meant to do this, you must specify 'dtype=object' when creating the ndarray\n",
      "  globals()['G{}_c{}_w_layer{}'.format(global_epoch, num_c_w, layer_index)] = globals()['G{}_c{}_w_layer{}'.format(global_epoch, num_c_w, layer_index)] + np.array(globals()['L{}_layer{}_w_c'.format(i,layer_index)])   # 일반 클러스터링\n"
     ]
    },
    {
     "name": "stdout",
     "output_type": "stream",
     "text": [
      "\n",
      "\n",
      "====================================================== One Global Epoch =====================================================================\n",
      "\n",
      "\n"
     ]
    },
    {
     "name": "stderr",
     "output_type": "stream",
     "text": [
      "<ipython-input-8-8808d52ee2cd>:119: VisibleDeprecationWarning: Creating an ndarray from ragged nested sequences (which is a list-or-tuple of lists-or-tuples-or ndarrays with different lengths or shapes) is deprecated. If you meant to do this, you must specify 'dtype=object' when creating the ndarray\n",
      "  globals()['G{}_c{}_w_layer{}'.format(global_epoch, num_c_w, layer_index)] = globals()['G{}_c{}_w_layer{}'.format(global_epoch, num_c_w, layer_index)] + np.array(globals()['L{}_layer{}_w_c'.format(i,layer_index)])   # 일반 클러스터링\n",
      "<ipython-input-8-8808d52ee2cd>:119: VisibleDeprecationWarning: Creating an ndarray from ragged nested sequences (which is a list-or-tuple of lists-or-tuples-or ndarrays with different lengths or shapes) is deprecated. If you meant to do this, you must specify 'dtype=object' when creating the ndarray\n",
      "  globals()['G{}_c{}_w_layer{}'.format(global_epoch, num_c_w, layer_index)] = globals()['G{}_c{}_w_layer{}'.format(global_epoch, num_c_w, layer_index)] + np.array(globals()['L{}_layer{}_w_c'.format(i,layer_index)])   # 일반 클러스터링\n"
     ]
    }
   ],
   "source": [
    "G_epoch = 21\n",
    "\n",
    "for global_epoch in range(1, G_epoch):\n",
    "\n",
    "    for i in range(1, local):\n",
    "        if global_epoch == 1:\n",
    "            globals()['G{}_c_L{}_model'.format(global_epoch, i)] = globals()['FedAvg_L{}_iter{}_model'.format(i,global_epoch-1)]   #모델 넣어줌 (우리는 구조만 필요한 것)\n",
    "        else:\n",
    "            globals()['G{}_c_L{}_model'.format(global_epoch, i)] = globals()['G{}_c_L{}_model'.format(global_epoch-1, i)]   #모델 넣어줌 (우리는 구조만 필요한 것)\n",
    "\n",
    "        for layer_index in num_layers_list: \n",
    "            num_c = globals()['G{}_num_clusters_in_layer{}_w'.format(global_epoch-1, layer_index)]   \n",
    "    \n",
    "            for ccc in range(num_c):\n",
    "                if globals()['w_layer{}_label'.format(layer_index)][i-1] == ccc:    #현재 로컬 레이어의 군집 결과 == ccc\n",
    "                    globals()['G{}_c_L{}_model'.format(global_epoch, i)].layers[layer_index].set_weights(globals()['G{}_c{}_w_layer{}'.format(global_epoch-1, ccc, layer_index) ])  # 클러스터용 로컬 모델 선언\n",
    "                    \n",
    "                  \n",
    "    #----------------------------------------------------------------데이터 새로 준비----------------------------------------------------------------------------------\n",
    "    print(global_epoch, \" 번째 global_epoch 데이터 랜덤하게 준비!!\")\n",
    "\n",
    "    for i in range(1,local): #데이터 변수 선언, 빈 리스트로 초기화\n",
    "        globals()['L{}_x_train'.format(i)], globals()['L{}_x_test'.format(i)] = [], []  \n",
    "        globals()['L{}_y_train'.format(i)], globals()['L{}_y_test'.format(i)] = [], []  \n",
    "\n",
    "    x_train_range = list(np.arange(0,len(x_train)))  #0~59,999\n",
    "    x_test_range = list(np.arange(0,len(x_test)))  #0~9,999\n",
    "\n",
    "    for n in range(1,local): #Data_x_train_range, 잘 작동함 => 확인 완료\n",
    "        tmp, tmp2 = [], []\n",
    "        tmp = random.sample(list(x_train_range), int(num_train/(local-1)))  #1/10개 만큼 인덱스 랜덤 비복원 추출 => 랜덤으로 해야함\n",
    "        tmp2 = random.sample(list(x_test_range), int(num_test/(local-1)))\n",
    "\n",
    "        for i in range(len(tmp)):\n",
    "            globals()['L{}_x_train'.format(n)].append(x_train[tmp[i]])  #n번째 Cluster에 분할한 실제 x_train 데이터 저장\n",
    "            globals()['L{}_y_train'.format(n)].append(y_train[tmp[i]]) \n",
    "            #x_train_range.remove(tmp[i])  #랜덤 하게 뽑힌 원소 6000개 추출했으니 안에서 삭제 => 비복원 추출\n",
    "\n",
    "        for j in range(len(tmp2)):\n",
    "            globals()['L{}_x_test'.format(n)].append(x_test[tmp2[j]])\n",
    "            globals()['L{}_y_test'.format(n)].append(y_test[tmp2[j]])\n",
    "            #x_test_range.remove(tmp2[j])  #랜덤 하게 뽑힌 원소 6000개 추출했으니 안에서 삭제 => 비복원 추출\n",
    "\n",
    "    for i in range(1,local):\n",
    "        globals()['L{}_x_train'.format(i)] = np.array(globals()['L{}_x_train'.format(i)])\n",
    "        globals()['L{}_x_test'.format(i)] = np.array(globals()['L{}_x_test'.format(i)])\n",
    "        globals()['L{}_y_train'.format(i)] = np.array(globals()['L{}_y_train'.format(i)])\n",
    "        globals()['L{}_y_test'.format(i)] = np.array(globals()['L{}_y_test'.format(i)])\n",
    "\n",
    "\n",
    "    print(global_epoch, \" 번째 global_epoch 데이터 랜덤 준비완료!!\\n\\n\")\n",
    "\n",
    "    print(global_epoch, \" 번째 global epoch에서 로컬 클라이언트 들 학습시작!\\n\\n학습 중 ...\\n\")\n",
    "    \n",
    "\n",
    "    #-------------------------------------------------------------------여기가 핵심, 알고리즘 3개 따로 학습시켜야 함--------------------------------------------------------------------\n",
    "\n",
    "\n",
    "    #======================================================================== Cluster  ========================================================================  같이 했음. 왜냐면 cluster 하고 나서 activation 을 씌우는 거라 cluster까지는 같음\n",
    "\n",
    "    cluster_acc, cluster_loss, cluster_act_acc, cluster_act_loss, now = [], [], [], [], time.time()\n",
    "    \n",
    "    for i in range(1, local):\n",
    "        globals()['G{}_c_L{}_model'.format(global_epoch, i)].compile(loss=\"categorical_crossentropy\", optimizer=\"adam\", metrics=[\"accuracy\"])  #Cluster => 알맞는 클러스터에 넣기\n",
    "        globals()['G{}_c_L{}_model'.format(global_epoch, i)].fit(globals()['L{}_x_train'.format(i)], globals()['L{}_y_train'.format(i)], batch_size=batch_size, epochs=epochs, validation_split=0.1, verbose=0)\n",
    "        loss, acc = globals()['G{}_c_L{}_model'.format(global_epoch, i)].evaluate(globals()['L{}_x_test'.format(i)], globals()['L{}_y_test'.format(i)], verbose=2)\n",
    "        \n",
    "        cluster_acc.append(acc)  #acc 넣기\n",
    "        cluster_loss.append(loss)  #loss 넣기\n",
    "\n",
    "    print(\"------------   \", global_epoch, \" 번째 global epoch < Clustering > 로컬 클라이언트 학습 완료!,  Total Training time : \", time.time()-now,\"---------------------------\\n\\n\")\n",
    "\n",
    "\n",
    "# 로컬 모델들 학습 완료, 로컬모델에서 weight, bias 추출 -------------------------------------------------------------------------------------\n",
    "\n",
    "\n",
    "    for i in range(1, local):        \n",
    "        for layer_index in num_layers_list:\n",
    "            \n",
    "            globals()['L{}_layer{}_w_c'.format(i,layer_index)]   = globals()['G{}_c_L{}_model'.format(global_epoch, i)].layers[layer_index].get_weights() # Clustering \n",
    "            globals()['L{}_layer{}_w_c_tmp'.format(i,layer_index)]   = globals()['G{}_c_L{}_model'.format(global_epoch, i)].layers[layer_index].get_weights() # Clustering \n",
    "\n",
    "    #------------------------------------------------ 클러스터링만 한 값들 Clustering --------------------------------------------------------\n",
    "    for layer_index in num_layers_list:\n",
    "        globals()['layer{}_W_c_tmp'.format(layer_index)] = []\n",
    "\n",
    "        for i in range(1, local):\n",
    "            TMP_w = list(np.array(globals()['L{}_layer{}_w_c_tmp'.format(i,layer_index)][0]).reshape(-1))\n",
    "            TMP_b = list(np.array(globals()['L{}_layer{}_w_c_tmp'.format(i,layer_index)][1]).reshape(-1))\n",
    "            \n",
    "            TMP_w.extend(TMP_b) ##append 말고 더해야함..\n",
    "\n",
    "            TMP_w = np.array(TMP_w)\n",
    "            TMP_w = list(TMP_w.reshape(-1))\n",
    "            globals()['layer{}_W_c_tmp'.format(layer_index)].append(TMP_w)  #클러스터링 용도\n",
    "\n",
    "        #---------------------------------------------------- 실루엣 기반 클러스터링 실시 -------------------------------------------------------------\n",
    "        transformed = globals()['layer{}_W_c_tmp'.format(layer_index)]\n",
    "\n",
    "        kmeans_model_w = KMeans(n_clusters = 5)   # 0, 1은 silhouette 에 안먹힘  \n",
    "\n",
    "        globals()['w_layer{}_label'.format(layer_index)] = kmeans_model_w.fit_predict(transformed)       # 가장 적합한 클러스터로 레이어에 속한 로컬들 레이블 정의 \n",
    "        label_list.append(globals()['w_layer{}_label'.format(layer_index)])\n",
    "\n",
    "        globals()['G{}_num_clusters_in_layer{}_w'.format(global_epoch, layer_index)] = 5  #나중에 몇개로 나뉘었는지 알아야 함 = num_clusters_for_w이거 그대로 하면 밑에 저게 쓸일이 많아서 global 쓰면 코딩이 너무 번잡해짐;; \n",
    "        \n",
    "\n",
    "        #----------------------------------------------- 스케일링 및 업데이트 ---------------------------------------------------------------------\n",
    "        for num_c_w in range(5): #클러스터 갯수 (num_clusters_for_w) 만큼 클러스터용 = 클러스터 갯수가 3이 나왔으면 3개를 만들어야 함\n",
    "            globals()['G{}_c{}_w_layer{}'.format(global_epoch, num_c_w, layer_index)] = 0 \n",
    "            \n",
    "            globals()['w_scaler_c{}_sum'.format(num_c_w)], globals()['int_c{}_w'.format(num_c_w)] = 0, 0 #초기화\n",
    "        \n",
    "            for i in range(1, local):\n",
    "\n",
    "                if globals()['w_layer{}_label'.format(layer_index)][i-1] == num_c_w  : # 클러스터 레이블에 맞게 (0 or 1 or 2 ..) \n",
    "                    globals()['w_scaler_c{}_sum'.format(num_c_w)] = globals()['w_scaler_c{}_sum'.format(num_c_w)] + len(globals()['L{}_x_train'.format(i)])\n",
    "\n",
    "                    globals()['G{}_c{}_w_layer{}'.format(global_epoch, num_c_w, layer_index)] = globals()['G{}_c{}_w_layer{}'.format(global_epoch, num_c_w, layer_index)] + np.array(globals()['L{}_layer{}_w_c'.format(i,layer_index)])   # 일반 클러스터링\n",
    "                  \n",
    "                    globals()['int_c{}_w'.format(num_c_w)] = globals()['int_c{}_w'.format(num_c_w)] + 1\n",
    "\n",
    "            globals()['w_scaler{}'.format(num_c_w)] = len(globals()['L{}_x_train'.format(i)]) / globals()['w_scaler_c{}_sum'.format(num_c_w)]\n",
    "            globals()['G{}_c{}_w_layer{}'.format(global_epoch, num_c_w, layer_index)] = globals()['G{}_c{}_w_layer{}'.format(global_epoch, num_c_w, layer_index)] / globals()['int_c{}_w'.format(num_c_w)] #레이어 별 클러스터 자기 갯수만큼 나눠주기=평균\n",
    "\n",
    "\n",
    "    Cluster_ACC.append(cluster_acc)\n",
    "    Cluster_LOSS.append(cluster_loss)\n",
    "\n",
    "    print(\"\\n\\n====================================================== One Global Epoch =====================================================================\\n\\n\")"
   ]
  },
  {
   "cell_type": "code",
   "execution_count": 9,
   "metadata": {
    "colab": {
     "base_uri": "https://localhost:8080/"
    },
    "executionInfo": {
     "elapsed": 23,
     "status": "ok",
     "timestamp": 1628301262719,
     "user": {
      "displayName": "이훈민",
      "photoUrl": "",
      "userId": "00157268181097362793"
     },
     "user_tz": 240
    },
    "id": "zyIlPPiUlh8v",
    "outputId": "ea566d8e-1b2d-4d5e-8e9f-a9b4327e7be6"
   },
   "outputs": [
    {
     "name": "stdout",
     "output_type": "stream",
     "text": [
      "Layer 0  ==> label 0, 1, 2 갯수 :  43 59 45\n",
      "Layer 2  ==> label 0, 1, 2 갯수 :  50 56 37\n",
      "Layer 4  ==> label 0, 1, 2 갯수 :  69 53 25\n",
      "Layer 6  ==> label 0, 1, 2 갯수 :  49 65 33\n",
      "Layer 7  ==> label 0, 1, 2 갯수 :  45 52 41\n"
     ]
    }
   ],
   "source": [
    "L0_label0, L0_label1, L0_label2 = 0, 0, 0 \n",
    "L1_label0, L1_label1, L1_label2 = 0, 0, 0 \n",
    "L2_label0, L2_label1, L2_label2 = 0, 0, 0 \n",
    "L3_label0, L3_label1, L3_label2 = 0, 0, 0 \n",
    "L4_label0, L4_label1, L4_label2 = 0, 0, 0 \n",
    "\n",
    "\n",
    "for i in range(int(len(label_list)/5)):\n",
    "    for k in range(5):\n",
    "        for j in range(len(label_list[0])):\n",
    "            if label_list[i*5 + k][j] == 0:\n",
    "                  globals()['L{}_label0'.format(k)] = globals()['L{}_label0'.format(k)] + 1 \n",
    "\n",
    "            elif label_list[i*5 + k][j] == 1:\n",
    "                globals()['L{}_label1'.format(k)] = globals()['L{}_label1'.format(k)] + 1\n",
    "\n",
    "            elif label_list[i*5 + k][j] == 2:\n",
    "                globals()['L{}_label2'.format(k)] = globals()['L{}_label2'.format(k)] + 1\n",
    "\n",
    "\n",
    "print(\"Layer 0  ==> label 0, 1, 2 갯수 : \", L0_label0, L0_label1, L0_label2)\n",
    "print(\"Layer 2  ==> label 0, 1, 2 갯수 : \", L1_label0, L1_label1, L1_label2)\n",
    "print(\"Layer 4  ==> label 0, 1, 2 갯수 : \", L2_label0, L2_label1, L2_label2)\n",
    "print(\"Layer 6  ==> label 0, 1, 2 갯수 : \", L3_label0, L3_label1, L3_label2)\n",
    "print(\"Layer 7  ==> label 0, 1, 2 갯수 : \", L4_label0, L4_label1, L4_label2)"
   ]
  },
  {
   "cell_type": "code",
   "execution_count": 10,
   "metadata": {},
   "outputs": [],
   "source": [
    "num_cluster = 5"
   ]
  },
  {
   "cell_type": "code",
   "execution_count": 11,
   "metadata": {
    "colab": {
     "base_uri": "https://localhost:8080/",
     "height": 1000
    },
    "executionInfo": {
     "elapsed": 1324,
     "status": "ok",
     "timestamp": 1628301717427,
     "user": {
      "displayName": "이훈민",
      "photoUrl": "",
      "userId": "00157268181097362793"
     },
     "user_tz": 240
    },
    "id": "b2lKZ6AZlkSb",
    "outputId": "85ef1e2c-4db1-4229-8781-7ba32c54bfb9",
    "scrolled": true
   },
   "outputs": [
    {
     "name": "stdout",
     "output_type": "stream",
     "text": [
      "Variance Accumulate Layer 0,2,4,6,7\n",
      "--------------------------------------------------------------------------------------------------\n",
      "\n",
      "\n",
      "Var Accumulate Weight\n",
      "--------------------------------------\n",
      "[0.0019123225, 0.0033795496, 0.0051104105, 0.006857489, 0.008609111, 0.010228186, 0.011787447, 0.013443502, 0.014969464, 0.01631056, 0.017610077, 0.01882407, 0.020107502, 0.02138961, 0.022702279, 0.023733657, 0.024679473, 0.02557697, 0.026407877, 0.027535602]\n",
      "[0.00068257295, 0.0010687346, 0.0014052354, 0.0016837599, 0.0019263974, 0.002128251, 0.0023254766, 0.002516252, 0.0026740497, 0.002853278, 0.0030017202, 0.0031394204, 0.0032703942, 0.0034065438, 0.003547728, 0.0036968265, 0.0038209015, 0.0039460906, 0.004077593, 0.0042068237]\n",
      "[0.00045575754, 0.0005987769, 0.00071663375, 0.00083368714, 0.00095115945, 0.0010657269, 0.0011716961, 0.0012772976, 0.0013835503, 0.001489527, 0.0015917233, 0.0016962144, 0.0017868808, 0.0018846124, 0.0019784798, 0.00206912, 0.002158574, 0.0022552535, 0.002340684, 0.0024289393]\n",
      "[0.0006137886, 0.00070171093, 0.00078960275, 0.00089003716, 0.0009897095, 0.0010933261, 0.001193585, 0.0013021342, 0.0014012882, 0.001508859, 0.001612307, 0.0017168613, 0.0018188887, 0.0019287082, 0.002035018, 0.0021337846, 0.0022380431, 0.0023429424, 0.0024523214, 0.0025569291]\n",
      "[0.0036373585, 0.003947175, 0.004354627, 0.0048372326, 0.0053639156, 0.005959779, 0.0066616824, 0.007371416, 0.008081718, 0.008921331, 0.009715249, 0.010487879, 0.011281357, 0.011944823, 0.012910423, 0.013579944, 0.014370525, 0.015274793, 0.016069971, 0.016954979]\n",
      "\n",
      "Var Accumulate Bias\n",
      "--------------------------------------\n",
      "[8.874749e-05, 0.00029707295, 0.000540444, 0.00074070436, 0.000938203, 0.0010933974, 0.001288313, 0.0013825137, 0.0014741485, 0.0016079107, 0.0017000136, 0.0018236508, 0.0018943344, 0.0020095604, 0.0020948173, 0.0021656705, 0.002205487, 0.0022927132, 0.0024245842, 0.0024564816]\n",
      "[4.549536e-05, 0.00012308397, 0.0002368917, 0.00031835982, 0.00043042775, 0.00060935377, 0.0007207973, 0.00082887616, 0.0010055336, 0.0011833742, 0.0014038346, 0.0015143135, 0.001667386, 0.0018136182, 0.0020206477, 0.002181766, 0.0023567844, 0.002484878, 0.0025791656, 0.002739748]\n",
      "[3.997507e-05, 0.00011953779, 0.00022298419, 0.00030731317, 0.0004197725, 0.00051459356, 0.00064357696, 0.000725479, 0.00080755283, 0.0008812124, 0.00097512954, 0.0010842663, 0.0011414062, 0.0011367188, 0.0012308673, 0.0013142638, 0.0013672801, 0.0014446978, 0.0014869745, 0.001524193]\n",
      "[4.6529996e-05, 0.00013042742, 0.00022767727, 0.00033277227, 0.00044827117, 0.0005425406, 0.0006449895, 0.00071940734, 0.0008119661, 0.00085643877, 0.00089660776, 0.0009434925, 0.0009804554, 0.0010129379, 0.001063317, 0.0011590753, 0.0012646681, 0.0012667524, 0.0012815283, 0.0013317338]\n",
      "[0.0003513121, 0.0010833944, 0.0019182581, 0.0027218878, 0.0035279852, 0.0044383565, 0.005144762, 0.0056914687, 0.0063093253, 0.006917429, 0.0076103495, 0.008030178, 0.008475745, 0.008867351, 0.009412641, 0.009980249, 0.010415027, 0.010859482, 0.011034752, 0.011467134]\n",
      "\n",
      "\n",
      "Variance Change Layer 0,2,4,6,7\n",
      "--------------------------------------------------------------------------------------------------\n",
      "\n",
      "\n",
      "Var Changes Weight\n",
      "--------------------------------------\n",
      "[0.0014672271, 0.0017308609, 0.0017470783, 0.0017516227, 0.0016190745, 0.0015592612, 0.0016560545, 0.0015259627, 0.0013410952, 0.0012995172, 0.0012139939, 0.0012834314, 0.0012821071, 0.0013126694, 0.0010313783, 0.0009458158, 0.00089749694, 0.0008309074, 0.0011277255]\n",
      "[0.0003861616, 0.00033650082, 0.00027852447, 0.00024263759, 0.00020185346, 0.00019722572, 0.00019077538, 0.00015779771, 0.00017922837, 0.00014844211, 0.00013770023, 0.00013097376, 0.00013614958, 0.00014118431, 0.00014909846, 0.00012407498, 0.00012518908, 0.00013150228, 0.00012923079]\n",
      "[0.00014301937, 0.000117856835, 0.000117053394, 0.000117472315, 0.0001145674, 0.00010596926, 0.0001056015, 0.00010625273, 0.00010597671, 0.00010219624, 0.00010449113, 9.066635e-05, 9.7731594e-05, 9.386742e-05, 9.064027e-05, 8.9454e-05, 9.667943e-05, 8.543045e-05, 8.825539e-05]\n",
      "[8.792232e-05, 8.789182e-05, 0.00010043441, 9.9672354e-05, 0.00010361662, 0.000100258854, 0.000108549255, 9.915396e-05, 0.000107570784, 0.00010344805, 0.00010455423, 0.000102027436, 0.00010981946, 0.00010630989, 9.8766526e-05, 0.000104258535, 0.000104899285, 0.00010937895, 0.00010460778]\n",
      "[0.00030981656, 0.00040745176, 0.00048260577, 0.00052668294, 0.00059586344, 0.00070190337, 0.00070973346, 0.0007103025, 0.00083961245, 0.00079391804, 0.00077262986, 0.00079347845, 0.0006634658, 0.0009655999, 0.0006695213, 0.0007905811, 0.00090426765, 0.0007951781, 0.0008850079]\n",
      "\n",
      "Var Changes Bias\n",
      "--------------------------------------\n",
      "[0.00020832547, 0.00024337103, 0.00020026037, 0.00019749865, 0.00015519437, 0.00019491557, 9.420072e-05, 9.163481e-05, 0.00013376225, 9.210291e-05, 0.00012363715, 7.068366e-05, 0.00011522591, 8.5256994e-05, 7.085316e-05, 3.98166e-05, 8.722604e-05, 0.00013187109, 3.1897333e-05]\n",
      "[7.7588615e-05, 0.000113807735, 8.146811e-05, 0.00011206794, 0.00017892601, 0.000111443514, 0.00010807888, 0.00017665746, 0.00017784059, 0.00022046035, 0.000110478955, 0.00015307253, 0.0001462322, 0.00020702952, 0.00016111834, 0.00017501833, 0.00012809364, 9.428756e-05, 0.00016058236]\n",
      "[7.956272e-05, 0.0001034464, 8.4328974e-05, 0.000112459325, 9.4821065e-05, 0.0001289834, 8.190202e-05, 8.207385e-05, 7.365958e-05, 9.391713e-05, 0.0001091368, 5.71399e-05, -4.687463e-06, 9.414856e-05, 8.3396444e-05, 5.3016352e-05, 7.74177e-05, 4.227669e-05, 3.7218444e-05]\n",
      "[8.389742e-05, 9.724985e-05, 0.000105094994, 0.0001154989, 9.426946e-05, 0.00010244886, 7.4417854e-05, 9.255874e-05, 4.447269e-05, 4.016899e-05, 4.6884757e-05, 3.6962912e-05, 3.2482436e-05, 5.037908e-05, 9.5758354e-05, 0.00010559277, 2.0843e-06, 1.4775898e-05, 5.0205505e-05]\n",
      "[0.0007320823, 0.00083486375, 0.00080362963, 0.0008060974, 0.0009103713, 0.0007064054, 0.00054670684, 0.0006178566, 0.0006081038, 0.0006929203, 0.00041982858, 0.00044556707, 0.00039160624, 0.00054528937, 0.0005676085, 0.0004347777, 0.00044445507, 0.00017527025, 0.0004323814]\n",
      "\n",
      "Now Check the graph\n",
      "\n"
     ]
    },
    {
     "data": {
      "image/png": "[encoded data removed]",
      "text/plain": [
       "<Figure size 360x216 with 1 Axes>"
      ]
     },
     "metadata": {
      "needs_background": "light"
     },
     "output_type": "display_data"
    },
    {
     "data": {
      "image/png": "[encoded data removed]",
      "text/plain": [
       "<Figure size 360x216 with 1 Axes>"
      ]
     },
     "metadata": {
      "needs_background": "light"
     },
     "output_type": "display_data"
    },
    {
     "data": {
      "image/png": "[encoded data removed]",
      "text/plain": [
       "<Figure size 360x216 with 1 Axes>"
      ]
     },
     "metadata": {
      "needs_background": "light"
     },
     "output_type": "display_data"
    },
    {
     "data": {
      "image/png": "[encoded data removed]",
      "text/plain": [
       "<Figure size 360x216 with 1 Axes>"
      ]
     },
     "metadata": {
      "needs_background": "light"
     },
     "output_type": "display_data"
    }
   ],
   "source": [
    "var_changes_L0_w, var_changes_L2_w, var_changes_L4_w, var_changes_L6_w, var_changes_L7_w = [], [], [], [], [] \n",
    "var_accumulate_L0_w, var_accumulate_L2_w, var_accumulate_L4_w, var_accumulate_L6_w, var_accumulate_L7_w = [], [], [], [], [] \n",
    "\n",
    "var_changes_L0_b, var_changes_L2_b, var_changes_L4_b, var_changes_L6_b, var_changes_L7_b = [], [], [], [], [] \n",
    "var_accumulate_L0_b, var_accumulate_L2_b, var_accumulate_L4_b, var_accumulate_L6_b, var_accumulate_L7_b = [], [], [], [], [] \n",
    "\n",
    "\n",
    "for global_epoch in range(G_epoch-1):\n",
    "    for layer_index in num_layers_list:\n",
    "        sumss_w, sumss_b = 0, 0\n",
    "        for sks in range(num_cluster):\n",
    "            sumss_w = sumss_w + globals()['G{}_c{}_w_layer{}'.format(global_epoch, sks, layer_index)][0] \n",
    "            sumss_b = sumss_b + globals()['G{}_c{}_w_layer{}'.format(global_epoch, sks, layer_index)][1]\n",
    "\n",
    "        sumss_w = sumss_w/num_cluster\n",
    "        sumss_b = sumss_b/num_cluster\n",
    "\n",
    "        globals()['var_accumulate_L{}_w'.format(layer_index)].append(np.var( sumss_w ))\n",
    "        \n",
    "        globals()['var_accumulate_L{}_b'.format(layer_index)].append(np.var( sumss_b ))\n",
    "        \n",
    "        \n",
    "\n",
    "for layer_index in num_layers_list:\n",
    "    for tmp_int in range(len(globals()['var_accumulate_L{}_w'.format(layer_index)])-1):\n",
    "        minus_w = globals()['var_accumulate_L{}_w'.format(layer_index)][tmp_int + 1] - globals()['var_accumulate_L{}_w'.format(layer_index)][tmp_int]\n",
    "        minus_b = globals()['var_accumulate_L{}_b'.format(layer_index)][tmp_int + 1] - globals()['var_accumulate_L{}_b'.format(layer_index)][tmp_int]        \n",
    "        globals()['var_changes_L{}_w'.format(layer_index)].append( minus_w )\n",
    "        globals()['var_changes_L{}_b'.format(layer_index)].append( minus_b )\n",
    "        \n",
    "\n",
    "print(\"Variance Accumulate Layer 0,2,4,6,7\\n--------------------------------------------------------------------------------------------------\\n\")\n",
    "\n",
    "print(\"\\nVar Accumulate Weight\\n--------------------------------------\")\n",
    "for j in num_layers_list:\n",
    "    print(globals()['var_accumulate_L{}_w'.format(j)])\n",
    "\n",
    "print(\"\\nVar Accumulate Bias\\n--------------------------------------\")\n",
    "for j in num_layers_list:\n",
    "    print(globals()['var_accumulate_L{}_b'.format(j)])\n",
    "\n",
    "print(\"\\n\\nVariance Change Layer 0,2,4,6,7\\n--------------------------------------------------------------------------------------------------\\n\")\n",
    "\n",
    "print(\"\\nVar Changes Weight\\n--------------------------------------\")\n",
    "for j in num_layers_list:\n",
    "    print(globals()['var_changes_L{}_w'.format(j)])\n",
    "\n",
    "print(\"\\nVar Changes Bias\\n--------------------------------------\")\n",
    "for j in num_layers_list:\n",
    "    print(globals()['var_changes_L{}_b'.format(j)])\n",
    "\n",
    "\n",
    "\n",
    "print(\"\\nNow Check the graph\\n\")\n",
    "\n",
    "plt.figure(figsize=(5,3))\n",
    "for j in num_layers_list:\n",
    "    plt.plot(globals()['var_accumulate_L{}_w'.format(j)])\n",
    "\n",
    "plt.figure(figsize=(5,3))\n",
    "for j in num_layers_list:\n",
    "    plt.plot(globals()['var_accumulate_L{}_b'.format(j)])\n",
    "\n",
    "plt.figure(figsize=(5,3))\n",
    "for j in num_layers_list:\n",
    "    plt.plot(globals()['var_changes_L{}_w'.format(j)])\n",
    "\n",
    "plt.figure(figsize=(5,3))\n",
    "for j in num_layers_list:\n",
    "    plt.plot(globals()['var_changes_L{}_b'.format(j)])\n"
   ]
  },
  {
   "cell_type": "code",
   "execution_count": 12,
   "metadata": {},
   "outputs": [
    {
     "name": "stdout",
     "output_type": "stream",
     "text": [
      "Distance Layer 0,2,4,6,7\n",
      "--------------------------------------------------------------------------------------------------\n",
      "[0.017612474, 0.01396557, 0.011983098, 0.01184918, 0.009145483, 0.008655184, 0.007491001, 0.006404917, 0.006320489, 0.00585496, 0.006238267, 0.0052776113, 0.0054034325, 0.005460642, 0.0049412507, 0.004898681, 0.0046055866, 0.0044983295, 0.0050567333, 0.004663822]\n",
      "[0.012183278, 0.009492403, 0.008556857, 0.008284926, 0.008647155, 0.007632773, 0.0074017113, 0.007690357, 0.007622378, 0.0076133534, 0.0073472657, 0.00746336, 0.007275278, 0.007343732, 0.0070593324, 0.0073531005, 0.0071806377, 0.006930223, 0.0067380946, 0.0069842166]\n",
      "[0.009071168, 0.008216558, 0.0075606904, 0.0075604585, 0.0074030194, 0.0070333076, 0.0066448334, 0.0068607987, 0.006531213, 0.0065208236, 0.006827267, 0.0064320555, 0.0064345724, 0.006552447, 0.0063649705, 0.006530108, 0.0065969154, 0.006325829, 0.0064818948, 0.006664869]\n",
      "[0.007731234, 0.006521018, 0.0064475294, 0.0063673034, 0.0061046053, 0.00619979, 0.005757492, 0.006140662, 0.0061546895, 0.006194271, 0.005903064, 0.0060831844, 0.006045034, 0.006469398, 0.006189519, 0.006397769, 0.006313927, 0.006449136, 0.006129497, 0.006179751]\n",
      "[0.017214447, 0.0138133, 0.012149711, 0.011195909, 0.011689989, 0.0105953235, 0.009242902, 0.00948516, 0.009251034, 0.009024483, 0.008151345, 0.007991521, 0.0074265585, 0.0084713325, 0.007372399, 0.007120023, 0.007896145, 0.0071838773, 0.0076886555, 0.0076482533] \n",
      "\n",
      "Check the graph\n",
      "\n"
     ]
    },
    {
     "data": {
      "image/png": "[encoded data removed]",
      "text/plain": [
       "<Figure size 432x288 with 1 Axes>"
      ]
     },
     "metadata": {
      "needs_background": "light"
     },
     "output_type": "display_data"
    }
   ],
   "source": [
    "from scipy.spatial import distance\n",
    "\n",
    "dist_0, dist_2, dist_4, dist_6, dist_7  = [], [], [], [], []\n",
    "\n",
    "for global_epoch in range(G_epoch): #1이 맞음 = 바꾸지 말기\n",
    "    for layer_index in num_layers_list:\n",
    "        globals()['G{}_w_layer{}'.format(global_epoch, layer_index)] = 0    \n",
    "\n",
    "\n",
    "for global_epoch in range(G_epoch):    #2가 맞음 = 바꾸지 말기\n",
    "    for layer_index in num_layers_list:\n",
    "        var_w = 0\n",
    "        for sks in range(globals()['G{}_num_clusters_in_layer{}_w'.format(global_epoch, layer_index)]):\n",
    "            var_w = var_w + globals()['G{}_c{}_w_layer{}'.format(global_epoch, sks, layer_index)]\n",
    "\n",
    "        var_w = var_w/globals()['G{}_num_clusters_in_layer{}_w'.format(global_epoch, layer_index)]\n",
    "\n",
    "        globals()['G{}_w_layer{}'.format(global_epoch, layer_index)] = var_w\n",
    "        if global_epoch>0:\n",
    "            globals()['dist_{}'.format(layer_index)].append(np.mean(distance.euclidean(globals()['G{}_w_layer{}'.format(global_epoch-1, layer_index)], globals()['G{}_w_layer{}'.format(global_epoch, layer_index)])))\n",
    "\n",
    "print(\"Distance Layer 0,2,4,6,7\\n--------------------------------------------------------------------------------------------------\")\n",
    "print(dist_0)\n",
    "print(dist_2)\n",
    "print(dist_4)\n",
    "print(dist_6)\n",
    "print(dist_7, \"\\n\\nCheck the graph\\n\")\n",
    "\n",
    "plt.plot(dist_0)\n",
    "plt.plot(dist_2)\n",
    "plt.plot(dist_4)\n",
    "plt.plot(dist_6)\n",
    "plt.plot(dist_7)\n",
    "\n",
    "plt.show()"
   ]
  },
  {
   "cell_type": "code",
   "execution_count": 13,
   "metadata": {
    "colab": {
     "base_uri": "https://localhost:8080/",
     "height": 462
    },
    "executionInfo": {
     "elapsed": 626,
     "status": "ok",
     "timestamp": 1628301264540,
     "user": {
      "displayName": "이훈민",
      "photoUrl": "",
      "userId": "00157268181097362793"
     },
     "user_tz": 240
    },
    "id": "SCRUegHzlz1_",
    "outputId": "650ab27e-2afc-4dc4-f749-85f9bb2f81c3"
   },
   "outputs": [
    {
     "name": "stdout",
     "output_type": "stream",
     "text": [
      "Distance Layer 0,2,4,6,7\n",
      "--------------------------------------------------------------------------------------------------\n",
      "[0.040755127, 0.055163804, 0.06543431, 0.07323385, 0.07991682, 0.08531107, 0.090030275, 0.09438713, 0.09813492, 0.10139967, 0.104462564, 0.10721469, 0.10993964, 0.11274968, 0.11497137, 0.11736986, 0.11898945, 0.12099486, 0.12301428, 0.124713555]\n",
      "[0.024092054, 0.031607483, 0.036065675, 0.038933404, 0.042033758, 0.045281276, 0.04783358, 0.05016993, 0.05306575, 0.055917338, 0.058812875, 0.06066405, 0.06276441, 0.06475767, 0.06699236, 0.068983056, 0.07077466, 0.072428055, 0.0737174, 0.07521396]\n",
      "[0.019748308, 0.025252437, 0.029751804, 0.034005594, 0.03827015, 0.0422118, 0.045551617, 0.048315622, 0.051153895, 0.053037148, 0.055105757, 0.057595745, 0.05916591, 0.059927326, 0.061477646, 0.06293986, 0.0637051, 0.064949006, 0.06542734, 0.06617326]\n",
      "[0.021956263, 0.025659308, 0.028890746, 0.03221926, 0.035218786, 0.037657782, 0.040102016, 0.041767307, 0.043790534, 0.045035142, 0.04633328, 0.04774256, 0.048974667, 0.04962268, 0.05088323, 0.052268103, 0.053324774, 0.053825516, 0.0544179, 0.05548821]\n",
      "[0.055193633, 0.06521762, 0.075132295, 0.08396754, 0.09207527, 0.100250125, 0.10750864, 0.11406884, 0.12065774, 0.1273493, 0.13386402, 0.13945735, 0.14503065, 0.14997664, 0.15615135, 0.16126451, 0.16623506, 0.17147206, 0.17581463, 0.18110526] \n",
      "\n",
      "Check the graph\n",
      "\n"
     ]
    },
    {
     "data": {
      "image/png": "[encoded data removed]",
      "text/plain": [
       "<Figure size 432x288 with 1 Axes>"
      ]
     },
     "metadata": {
      "needs_background": "light"
     },
     "output_type": "display_data"
    }
   ],
   "source": [
    "from scipy.spatial import distance\n",
    "\n",
    "dist_0, dist_2, dist_4, dist_6, dist_7  = [], [], [], [], []\n",
    "\n",
    "for global_epoch in range(G_epoch): #1이 맞음 = 바꾸지 말기\n",
    "    for layer_index in num_layers_list:\n",
    "        globals()['G{}_w_layer{}'.format(global_epoch, layer_index)] = 0    \n",
    "\n",
    "\n",
    "for global_epoch in range(G_epoch-1):    #2가 맞음 = 바꾸지 말기\n",
    "    for layer_index in num_layers_list:\n",
    "        var_w = 0\n",
    "        for sks in range(globals()['G{}_num_clusters_in_layer{}_w'.format(global_epoch, layer_index)]):\n",
    "            var_w = var_w + globals()['G{}_c{}_w_layer{}'.format(global_epoch, sks, layer_index)]\n",
    "\n",
    "        var_w = var_w/globals()['G{}_num_clusters_in_layer{}_w'.format(global_epoch, layer_index)]\n",
    "\n",
    "        globals()['G{}_w_layer{}'.format(global_epoch, layer_index)] = var_w\n",
    "        globals()['dist_{}'.format(layer_index)].append(np.mean(distance.euclidean(globals()['G{}_w_layer{}'.format(global_epoch, layer_index)], globals()['G{}_w_layer{}'.format(global_epoch+1, layer_index)])))\n",
    "\n",
    "print(\"Distance Layer 0,2,4,6,7\\n--------------------------------------------------------------------------------------------------\")\n",
    "print(dist_0)\n",
    "print(dist_2)\n",
    "print(dist_4)\n",
    "print(dist_6)\n",
    "print(dist_7, \"\\n\\nCheck the graph\\n\")\n",
    "\n",
    "plt.plot(dist_0)\n",
    "plt.plot(dist_2)\n",
    "plt.plot(dist_4)\n",
    "plt.plot(dist_6)\n",
    "plt.plot(dist_7)\n",
    "\n",
    "plt.show()"
   ]
  },
  {
   "cell_type": "code",
   "execution_count": null,
   "metadata": {},
   "outputs": [],
   "source": []
  },
  {
   "cell_type": "code",
   "execution_count": 14,
   "metadata": {},
   "outputs": [
    {
     "data": {
      "text/plain": [
       "[<matplotlib.lines.Line2D at 0x22929d8c040>]"
      ]
     },
     "execution_count": 14,
     "metadata": {},
     "output_type": "execute_result"
    },
    {
     "data": {
      "image/png": "[encoded data removed]",
      "text/plain": [
       "<Figure size 432x288 with 1 Axes>"
      ]
     },
     "metadata": {
      "needs_background": "light"
     },
     "output_type": "display_data"
    }
   ],
   "source": [
    "import matplotlib.pyplot as plt\n",
    "\n",
    "s0 = [0.03816259, 0.049954828, 0.05839124, 0.064700775, 0.06971041, 0.0741404, 0.077761225, 0.08153339, 0.08453675, 0.08762905]\n",
    "s1 = [0.024162421, 0.031494323, 0.03528573, 0.03830675, 0.04111191, 0.043931704, 0.047161903, 0.049466535, 0.051878963, 0.05448903]\n",
    "s2 = [0.01956714, 0.025637958, 0.0308718, 0.03560023, 0.04032951, 0.04385295, 0.04648755, 0.048837766, 0.050667282, 0.053590864]\n",
    "s3 = [0.019333946, 0.022454707, 0.02575476, 0.028483696, 0.031227252, 0.03382232, 0.035698745, 0.0378526, 0.039400153, 0.041637827]\n",
    "s4 = [0.052715402, 0.06290237, 0.072936855, 0.082642555, 0.091957666, 0.1001937, 0.10743759, 0.11495273, 0.122246265, 0.12968615] \n",
    "\n",
    "s0_diff, s1_diff, s2_diff, s3_diff, s4_diff = [], [], [], [], []\n",
    "\n",
    "for i in range(len(s0)-1):\n",
    "    s0_diff.append(s0[i+1] - s0[i])\n",
    "    s1_diff.append(s1[i+1] - s1[i])\n",
    "    s2_diff.append(s2[i+1] - s2[i])\n",
    "    s3_diff.append(s3[i+1] - s3[i])\n",
    "    s4_diff.append(s4[i+1] - s4[i])\n",
    "\n",
    "\n",
    "plt.plot(s0_diff)\n",
    "plt.plot(s1_diff)\n",
    "plt.plot(s2_diff)\n",
    "plt.plot(s3_diff)\n",
    "plt.plot(s4_diff)"
   ]
  },
  {
   "cell_type": "code",
   "execution_count": 15,
   "metadata": {
    "colab": {
     "base_uri": "https://localhost:8080/",
     "height": 592
    },
    "executionInfo": {
     "elapsed": 682,
     "status": "ok",
     "timestamp": 1628308916901,
     "user": {
      "displayName": "이훈민",
      "photoUrl": "",
      "userId": "00157268181097362793"
     },
     "user_tz": 240
    },
    "id": "iAd7lQy9l1nE",
    "outputId": "afc3cad1-7e2d-4731-dad0-bbfeb5304d4d",
    "scrolled": true
   },
   "outputs": [
    {
     "name": "stdout",
     "output_type": "stream",
     "text": [
      "[[0.76597660779953, 0.8136813640594482, 0.8145814538002014, 0.8244824409484863, 0.828082799911499, 0.8145814538002014, 0.8298829793930054, 0.8217821717262268, 0.8163816332817078], [0.8271827101707458, 0.8190819025039673, 0.8352835178375244, 0.8289828896522522, 0.8325832486152649, 0.8253825306892395, 0.82268226146698, 0.8397839665412903, 0.7875787615776062], [0.8370836973190308, 0.843384325504303, 0.8109810948371887, 0.8523852229118347, 0.8316831588745117, 0.848784863948822, 0.82268226146698, 0.8505850434303284, 0.82268226146698], [0.8604860305786133, 0.8361836075782776, 0.8370836973190308, 0.848784863948822, 0.8451845049858093, 0.8235823512077332, 0.8496849536895752, 0.848784863948822, 0.8091809153556824], [0.8577857613563538, 0.8730872869491577, 0.843384325504303, 0.8802880048751831, 0.869486927986145, 0.8478847742080688, 0.8469846844673157, 0.8541854023933411, 0.8379837870597839], [0.8802880048751831, 0.8856885433197021, 0.8568856716156006, 0.864086389541626, 0.843384325504303, 0.8505850434303284, 0.8478847742080688, 0.864086389541626, 0.869486927986145], [0.8586858510971069, 0.8685868382453918, 0.8514851331710815, 0.8577857613563538, 0.8667866587638855, 0.8712871074676514, 0.8667866587638855, 0.8757875561714172, 0.8649864792823792], [0.8667866587638855, 0.8829882740974426, 0.8604860305786133, 0.8775877356529236, 0.8631862998008728, 0.8721871972084045, 0.8829882740974426, 0.8829882740974426, 0.8667866587638855], [0.869486927986145, 0.8856885433197021, 0.8505850434303284, 0.8631862998008728, 0.8415841460227966, 0.8712871074676514, 0.8748874664306641, 0.8811880946159363, 0.8595859408378601], [0.864086389541626, 0.8829882740974426, 0.864086389541626, 0.8739873766899109, 0.8829882740974426, 0.8811880946159363, 0.8712871074676514, 0.884788453578949, 0.8865886330604553], [0.8721871972084045, 0.8811880946159363, 0.8748874664306641, 0.8658865690231323, 0.8721871972084045, 0.8946894407272339, 0.8649864792823792, 0.8667866587638855, 0.8874887228012085], [0.884788453578949, 0.8784878253936768, 0.8748874664306641, 0.8811880946159363, 0.8730872869491577, 0.8937893509864807, 0.8712871074676514, 0.8955895304679871, 0.8865886330604553], [0.8856885433197021, 0.8811880946159363, 0.8766876459121704, 0.8982897996902466, 0.8793879151344299, 0.8883888125419617, 0.8928892612457275, 0.8631862998008728, 0.8955895304679871], [0.8757875561714172, 0.8937893509864807, 0.8874887228012085, 0.9054905772209167, 0.8775877356529236, 0.8892889022827148, 0.8658865690231323, 0.8730872869491577, 0.8676867485046387], [0.8784878253936768, 0.8892889022827148, 0.8613861203193665, 0.9000900387763977, 0.8955895304679871, 0.8910890817642212, 0.8838883638381958, 0.8856885433197021, 0.8811880946159363], [0.8721871972084045, 0.8928892612457275, 0.8802880048751831, 0.8892889022827148, 0.8649864792823792, 0.8838883638381958, 0.8928892612457275, 0.8865886330604553, 0.8856885433197021], [0.9000900387763977, 0.8982897996902466, 0.8856885433197021, 0.8739873766899109, 0.8784878253936768, 0.8883888125419617, 0.8874887228012085, 0.8991898894309998, 0.8973897099494934], [0.8838883638381958, 0.8955895304679871, 0.8622862100601196, 0.9054905772209167, 0.8784878253936768, 0.8856885433197021, 0.8928892612457275, 0.8838883638381958, 0.8946894407272339], [0.8874887228012085, 0.8964896202087402, 0.8775877356529236, 0.8739873766899109, 0.8838883638381958, 0.8883888125419617, 0.8874887228012085, 0.9108911156654358, 0.8874887228012085], [0.8919891715049744, 0.8874887228012085, 0.864086389541626, 0.8982897996902466, 0.8784878253936768, 0.9009901285171509, 0.8937893509864807, 0.911791205406189, 0.8703870177268982], [0.8775877356529236, 0.8973897099494934, 0.864086389541626, 0.9009901285171509, 0.901890218257904, 0.901890218257904, 0.8955895304679871, 0.9063906669616699, 0.8856885433197021]]\n",
      "[[0.5791333913803101, 0.5004000663757324, 0.520236074924469, 0.4777565598487854, 0.4545386731624603, 0.4905385673046112, 0.4814433753490448, 0.4936698079109192, 0.5141076445579529], [0.4890308678150177, 0.4869801700115204, 0.49364542961120605, 0.44820550084114075, 0.450709730386734, 0.4495972990989685, 0.4874172508716583, 0.45477741956710815, 0.5481210350990295], [0.45895737409591675, 0.4680778384208679, 0.4949255585670471, 0.4182562530040741, 0.43312519788742065, 0.4464608430862427, 0.4786040782928467, 0.4011046886444092, 0.47672829031944275], [0.40581655502319336, 0.4494088590145111, 0.4263370931148529, 0.3903908431529999, 0.4279886782169342, 0.4957523047924042, 0.3813234865665436, 0.3973581790924072, 0.4796474874019623], [0.4001891613006592, 0.35875004529953003, 0.43010959029197693, 0.3756122589111328, 0.38093188405036926, 0.4018714725971222, 0.42629528045654297, 0.40752533078193665, 0.43075212836265564], [0.3457697927951813, 0.312572717666626, 0.40372803807258606, 0.3841416537761688, 0.40693381428718567, 0.4269125759601593, 0.46125590801239014, 0.3760748505592346, 0.37274977564811707], [0.34774038195610046, 0.34888893365859985, 0.3711879253387451, 0.36400774121284485, 0.39454221725463867, 0.37729382514953613, 0.3434394598007202, 0.33074527978897095, 0.3954191207885742], [0.3895428478717804, 0.34935998916625977, 0.37420961260795593, 0.3256513476371765, 0.44224265217781067, 0.36499279737472534, 0.34554025530815125, 0.32801151275634766, 0.3625654876232147], [0.3629078269004822, 0.3279540240764618, 0.3917291462421417, 0.366725355386734, 0.4224812090396881, 0.35809144377708435, 0.3340061902999878, 0.3427830934524536, 0.4065423607826233], [0.3907909095287323, 0.33090999722480774, 0.38201233744621277, 0.3435327708721161, 0.32706210017204285, 0.36399561166763306, 0.3729529082775116, 0.3322867751121521, 0.3185504376888275], [0.3681192398071289, 0.34140971302986145, 0.3552912175655365, 0.4088742733001709, 0.33880507946014404, 0.32910075783729553, 0.3576493561267853, 0.38876113295555115, 0.30607885122299194], [0.3370676636695862, 0.3417995870113373, 0.3475073575973511, 0.32504212856292725, 0.34901732206344604, 0.30475321412086487, 0.3823739290237427, 0.2866016924381256, 0.3196027874946594], [0.35828444361686707, 0.3227783143520355, 0.35554414987564087, 0.30553969740867615, 0.34620410203933716, 0.35155102610588074, 0.3217298686504364, 0.36595967411994934, 0.3137848675251007], [0.38895079493522644, 0.3398286998271942, 0.3330455422401428, 0.3091917932033539, 0.36431777477264404, 0.3007681667804718, 0.34960395097732544, 0.3233770728111267, 0.34599053859710693], [0.35554641485214233, 0.3168591558933258, 0.3812941610813141, 0.2916387915611267, 0.3067074418067932, 0.31563520431518555, 0.3110477030277252, 0.3348557651042938, 0.35923731327056885], [0.40111011266708374, 0.3134269714355469, 0.3413774073123932, 0.331350177526474, 0.3670240044593811, 0.38264280557632446, 0.2832877039909363, 0.32468003034591675, 0.32143253087997437], [0.2751309871673584, 0.3113822937011719, 0.3193448781967163, 0.35298576951026917, 0.3688359558582306, 0.30607911944389343, 0.3046376407146454, 0.3244234025478363, 0.3282999098300934], [0.38962388038635254, 0.3322505056858063, 0.40243762731552124, 0.3054279386997223, 0.33250880241394043, 0.34067094326019287, 0.38457179069519043, 0.34301215410232544, 0.3022155165672302], [0.32322847843170166, 0.31989872455596924, 0.3842170834541321, 0.3920663297176361, 0.39335182309150696, 0.33286428451538086, 0.31304943561553955, 0.2961835265159607, 0.36700674891471863], [0.31307435035705566, 0.30284324288368225, 0.38612014055252075, 0.3542866110801697, 0.37354159355163574, 0.3116675317287445, 0.33649370074272156, 0.3125808537006378, 0.4163438677787781], [0.36201488971710205, 0.31143203377723694, 0.3638015687465668, 0.3355749249458313, 0.28023210167884827, 0.32629460096359253, 0.35539430379867554, 0.2879635989665985, 0.357856422662735]] \n",
      "\n",
      "\n",
      "\n"
     ]
    },
    {
     "data": {
      "image/png": "[encoded data removed]",
      "text/plain": [
       "<Figure size 1152x576 with 1 Axes>"
      ]
     },
     "metadata": {
      "needs_background": "light"
     },
     "output_type": "display_data"
    }
   ],
   "source": [
    "average_acc_cluster_list, average_loss_cluster_list = [], []\n",
    "\n",
    "\n",
    "for i in range(len(Cluster_ACC)):    \n",
    "    average_acc_cluster_list.append(np.mean(Cluster_ACC[i]))\n",
    "    average_loss_cluster_list.append(np.mean(Cluster_LOSS[i]))\n",
    "\n",
    "    \n",
    "plt.figure(figsize=(16,8))\n",
    "plt.plot(average_acc_cluster_list, label='Cluster Acc')\n",
    "print(Cluster_ACC)\n",
    "print(Cluster_LOSS,\"\\n\\n\\n\")\n",
    "plt.plot(average_loss_cluster_list, label='Cluster Loss')\n",
    "\n",
    "plt.grid(True)\n",
    "plt.legend()\n",
    "plt.show()\n"
   ]
  },
  {
   "cell_type": "code",
   "execution_count": 16,
   "metadata": {
    "colab": {
     "base_uri": "https://localhost:8080/",
     "height": 282
    },
    "executionInfo": {
     "elapsed": 877,
     "status": "ok",
     "timestamp": 1628301741974,
     "user": {
      "displayName": "이훈민",
      "photoUrl": "",
      "userId": "00157268181097362793"
     },
     "user_tz": 240
    },
    "id": "9UbiN31Zl2-X",
    "outputId": "5c8c1d0b-468f-401e-d893-5dfcabd696d5"
   },
   "outputs": [
    {
     "data": {
      "text/plain": [
       "[<matplotlib.lines.Line2D at 0x22929e5ff40>]"
      ]
     },
     "execution_count": 16,
     "metadata": {},
     "output_type": "execute_result"
    },
    {
     "data": {
      "image/png": "[encoded data removed]",
      "text/plain": [
       "<Figure size 432x288 with 1 Axes>"
      ]
     },
     "metadata": {
      "needs_background": "light"
     },
     "output_type": "display_data"
    }
   ],
   "source": [
    "import matplotlib.pyplot as plt\n",
    "\n",
    "a0 = [0.0011118075, 0.0011493629, 0.0011595851, 0.001068295, 0.0010115909, 0.000962107, 0.0010388568, 0.0010048598, 0.00086098537]\n",
    "a1 = [0.00035538804, 0.00029569992, 0.00025488355, 0.00022374024, 0.00021976803, 0.00018393015, 0.00018013362, 0.00016829604, 0.00016443385]\n",
    "a2 = [0.00014433713, 0.00012264616, 0.00011167268, 0.000116544776, 0.000108291744, 0.00010650931, 0.00010749325, 0.0001006478, 9.950774e-05]\n",
    "a3 = [6.7980174e-05, 7.459603e-05, 8.2309765e-05, 8.568674e-05, 8.772226e-05, 9.193615e-05, 9.037618e-05, 8.637598e-05, 9.127823e-05]\n",
    "a4 = [0.00042647775, 0.00049344497, 0.0006499863, 0.00079632876, 0.00083886366, 0.0008116751, 0.0008941223, 0.00092098955, 0.0010488406]\n",
    "\n",
    "\n",
    "plt.plot(a0)\n",
    "plt.plot(a1)\n",
    "plt.plot(a2)\n",
    "plt.plot(a3)\n",
    "plt.plot(a4)"
   ]
  },
  {
   "cell_type": "code",
   "execution_count": null,
   "metadata": {
    "id": "iG_mPUvvWCmX"
   },
   "outputs": [],
   "source": []
  }
 ],
 "metadata": {
  "colab": {
   "authorship_tag": "ABX9TyNKIicFYuLmZhh9QzTo33uH",
   "collapsed_sections": [],
   "name": "FMNIST_clustering_iid_K=2.ipynb",
   "provenance": []
  },
  "kernelspec": {
   "display_name": "Python 3",
   "language": "python",
   "name": "python3"
  },
  "language_info": {
   "codemirror_mode": {
    "name": "ipython",
    "version": 3
   },
   "file_extension": ".py",
   "mimetype": "text/x-python",
   "name": "python",
   "nbconvert_exporter": "python",
   "pygments_lexer": "ipython3",
   "version": "3.8.8"
  }
 },
 "nbformat": 4,
 "nbformat_minor": 1
}
