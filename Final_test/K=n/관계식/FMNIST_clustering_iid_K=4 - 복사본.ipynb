{
 "cells": [
  {
   "cell_type": "code",
   "execution_count": 1,
   "metadata": {
    "id": "cg7gm5FVyA3r"
   },
   "outputs": [],
   "source": [
    "import numpy as np\n",
    "import tensorflow as tf\n",
    "import matplotlib.pyplot as plt\n",
    "import sys\n",
    "import time\n",
    "import math\n",
    "import random\n",
    "import copy\n",
    "import warnings\n",
    "warnings.simplefilter(action='ignore', category=FutureWarning)\n",
    "\n",
    "import keras\n",
    "from tensorflow import keras\n",
    "from keras.models import Sequential\n",
    "from keras.layers import Dense, Dropout, Flatten\n",
    "from tensorflow.keras import datasets, layers, models\n",
    "from keras.layers.convolutional import Conv2D, MaxPooling2D\n",
    "from keras.layers import Dense, Activation, Flatten, Conv2D, MaxPooling2D\n",
    "from keras.utils.np_utils import to_categorical\n",
    "from sklearn.cluster import KMeans, AgglomerativeClustering\n",
    "#from tensorflow.keras.datasets import cifar10 \n",
    "from keras.datasets import fashion_mnist \n",
    "#from sklearn.metrics import silhouette_samples, silhouette_score\n",
    "\n",
    "mod = sys.modules[__name__]"
   ]
  },
  {
   "cell_type": "code",
   "execution_count": 2,
   "metadata": {
    "id": "-gn3HoNnyGdo"
   },
   "outputs": [],
   "source": [
    "def distribution_check(dataset):\n",
    "        #분포가 다름;\n",
    "    one,two,three,four,five,six,seven,eight,nine,ten=0,0,0,0,0,0,0,0,0,0\n",
    "\n",
    "    for i in range(len(dataset)):\n",
    "        if(dataset[i]==1):    one+=1\n",
    "        elif(dataset[i]==2):  two+=1\n",
    "        elif(dataset[i]==3):  three+=1\n",
    "        elif(dataset[i]==4):  four+=1\n",
    "        elif(dataset[i]==5):  five+=1\n",
    "        elif(dataset[i]==6):  six+=1\n",
    "        elif(dataset[i]==7):  seven+=1\n",
    "        elif(dataset[i]==8):  eight+=1\n",
    "        elif(dataset[i]==9):  nine+=1\n",
    "        elif(dataset[i]==0):  ten+=1\n",
    "\n",
    "    #print(one,two,three,four,five,six,seven,eight,nine,ten)\n",
    "    #print(\"Sum : \", one+two+three+four+five+six+seven+eight+nine+ten)\n",
    "    sums = one+two+three+four+five+six+seven+eight+nine+ten\n",
    "    for_graph=[one,two,three,four,five,six,seven,eight,nine,ten]\n",
    "    \n",
    "    return for_graph, sums\n",
    "\n",
    "def local_model_generate(model): #초기 모델 생성\n",
    "    model = models.Sequential()\n",
    "    model.add(layers.Conv2D(32, (3, 3), activation='relu', input_shape=(28, 28, 1)))\n",
    "    model.add(layers.MaxPooling2D((2, 2)))\n",
    "    model.add(layers.Conv2D(64, (3, 3), activation='relu'))\n",
    "    model.add(layers.MaxPooling2D((2, 2)))\n",
    "    model.add(layers.Conv2D(64, (3, 3), activation='relu'))\n",
    "    model.add(layers.Flatten())\n",
    "    model.add(layers.Dense(64, activation='relu'))\n",
    "    model.add(layers.Dense(10, activation='softmax'))\n",
    "    \n",
    "    return model\n",
    "\n",
    "def step_function(data):\n",
    "    if data > 0:\n",
    "        return 1\n",
    "    else:\n",
    "        return 0\n",
    "\n",
    "def sigmoid(data):\n",
    "    return 1/(1+np.exp(-data))\n",
    "\n",
    "def relu(data):\n",
    "    return np.maximum(0,data)\n",
    "\n",
    "def random_check(local, train_data, test_data):\n",
    "    check_distribution_train_data, check_distribution_test_data, y_train_tmp, y_test_tmp = [], [], [], []\n",
    "    sum1, sum2, data_index = 0,0, np.arange(0,10)\n",
    "\n",
    "    for j in range(len(train_data)):\n",
    "        y_train_tmp.append(np.argmax(train_data[j])) #원핫인코딩에서 다시 0~9 레이블로 변환\n",
    "\n",
    "    for j in range(len(test_data)):\n",
    "        y_test_tmp.append(np.argmax(test_data[j]))\n",
    "\n",
    "    check_distribution_train_data, sum_train = distribution_check(y_train_tmp) #한번 밖에 실행 못함\n",
    "    check_distribution_test_data, sum_test = distribution_check(y_test_tmp)\n",
    "    sum1, sum2 = (sum1 + sum_train), (sum2 + sum_test)\n",
    "    \n",
    "    return check_distribution_train_data, check_distribution_test_data\n"
   ]
  },
  {
   "cell_type": "code",
   "execution_count": 3,
   "metadata": {
    "colab": {
     "base_uri": "https://localhost:8080/"
    },
    "executionInfo": {
     "elapsed": 1211,
     "status": "ok",
     "timestamp": 1628349189139,
     "user": {
      "displayName": "이훈민",
      "photoUrl": "",
      "userId": "00157268181097362793"
     },
     "user_tz": 240
    },
    "id": "i7g0ECm9tiiT",
    "outputId": "25f636dd-3e91-407f-9690-a0c77a7272d8"
   },
   "outputs": [
    {
     "name": "stdout",
     "output_type": "stream",
     "text": [
      "(60000, 28, 28) (10000, 28, 28)\n"
     ]
    }
   ],
   "source": [
    "(x_train, y_train), (x_test, y_test) = fashion_mnist.load_data()\n",
    "print(x_train.shape, x_test.shape)\n",
    "num_train, num_test = len(x_train),  len(x_test) "
   ]
  },
  {
   "cell_type": "code",
   "execution_count": 4,
   "metadata": {
    "id": "XkIYZrvplXU0"
   },
   "outputs": [],
   "source": [
    "local = 12 # 10개 : 1~10 => 11은 포함 안됨\n",
    "batch_size, epochs = 32, 4\n",
    "global_epoch = 0\n",
    "num_layers = 8\n",
    "\n",
    "num_clusters = 4"
   ]
  },
  {
   "cell_type": "code",
   "execution_count": 5,
   "metadata": {
    "colab": {
     "base_uri": "https://localhost:8080/"
    },
    "executionInfo": {
     "elapsed": 218,
     "status": "ok",
     "timestamp": 1628349200079,
     "user": {
      "displayName": "이훈민",
      "photoUrl": "",
      "userId": "00157268181097362793"
     },
     "user_tz": 240
    },
    "id": "h3lM8ImZlYqW",
    "outputId": "17900a3f-5803-4967-8747-89bca33d7804"
   },
   "outputs": [
    {
     "name": "stdout",
     "output_type": "stream",
     "text": [
      "Step 1 x_train shape: (60000, 28, 28)\n",
      "Step 2 x_train shape: (60000, 28, 28, 1)\n",
      "60000 train samples\n",
      "10000 test samples\n"
     ]
    }
   ],
   "source": [
    "# Model / data parameters\n",
    "num_classes = 10\n",
    "input_shape = (28, 28, 1)\n",
    "\n",
    "# Scale images to the [0, 1] range\n",
    "x_train = x_train.astype(\"float32\") / 255\n",
    "x_test = x_test.astype(\"float32\") / 255\n",
    "\n",
    "print(\"Step 1 x_train shape:\", x_train.shape)\n",
    "\n",
    "x_train = x_train.reshape((num_train, 28, 28, 1))\n",
    "x_test = x_test.reshape((num_test, 28, 28, 1))\n",
    "\n",
    "print(\"Step 2 x_train shape:\", x_train.shape)\n",
    "print(x_train.shape[0], \"train samples\")\n",
    "print(x_test.shape[0], \"test samples\")\n",
    "# convert class vectors to binary class matrices => one hot encoding 지금은 [3,6,2,5,4,8..] 섞여있음 \n",
    "\n",
    "y_train = keras.utils.to_categorical(y_train, num_classes)\n",
    "y_test = keras.utils.to_categorical(y_test, num_classes)"
   ]
  },
  {
   "cell_type": "code",
   "execution_count": 6,
   "metadata": {
    "colab": {
     "base_uri": "https://localhost:8080/"
    },
    "executionInfo": {
     "elapsed": 336,
     "status": "ok",
     "timestamp": 1628349205594,
     "user": {
      "displayName": "이훈민",
      "photoUrl": "",
      "userId": "00157268181097362793"
     },
     "user_tz": 240
    },
    "id": "xiMagvhYlZ_B",
    "outputId": "a0b900ac-2b53-4a57-ee6a-fd8744737027"
   },
   "outputs": [
    {
     "name": "stdout",
     "output_type": "stream",
     "text": [
      "0  번째 global_epoch 데이터 랜덤하게 준비!!\n",
      "check=>: should be 0 ==  60000\n",
      "0  번째 global_epoch 데이터 랜덤 준비완료!!\n"
     ]
    }
   ],
   "source": [
    "#랜덤 비복원추출, 동등하게 10% 씩 =  로컬 데이터 추출 ------------------------------------------------------------------------------\n",
    "\n",
    "global_epoch = 0\n",
    "\n",
    "\n",
    "print(global_epoch, \" 번째 global_epoch 데이터 랜덤하게 준비!!\")\n",
    "\n",
    "for i in range(1,local): #데이터 변수 선언, 빈 리스트로 초기화\n",
    "    globals()['L{}_x_train'.format(i)], globals()['L{}_x_test'.format(i)] = [], []  \n",
    "    globals()['L{}_y_train'.format(i)], globals()['L{}_y_test'.format(i)] = [], []  \n",
    "\n",
    "x_train_range = list(np.arange(0,len(x_train)))  #0~59,999\n",
    "x_test_range = list(np.arange(0,len(x_test)))  #0~9,999\n",
    "\n",
    "for n in range(1,local): #Data_x_train_range, 잘 작동함 => 확인 완료\n",
    "    tmp, tmp2 = [], []\n",
    "    tmp = random.sample(list(x_train_range), int(num_train/(local-1)))  #1/10개 만큼 인덱스 랜덤 비복원 추출 => 랜덤으로 해야함\n",
    "    tmp2 = random.sample(list(x_test_range), int(num_test/(local-1)))\n",
    "\n",
    "    for i in range(len(tmp)):\n",
    "        globals()['L{}_x_train'.format(n)].append(x_train[tmp[i]])  #n번째 Cluster에 분할한 실제 x_train 데이터 저장\n",
    "        globals()['L{}_y_train'.format(n)].append(y_train[tmp[i]]) \n",
    "        #x_train_range.remove(tmp[i])  #랜덤 하게 뽑힌 원소 6000개 추출했으니 안에서 삭제 => 비복원 추출\n",
    "\n",
    "    for j in range(len(tmp2)):\n",
    "        globals()['L{}_x_test'.format(n)].append(x_test[tmp2[j]])\n",
    "        globals()['L{}_y_test'.format(n)].append(y_test[tmp2[j]])\n",
    "        #x_test_range.remove(tmp2[j])  #랜덤 하게 뽑힌 원소 6000개 추출했으니 안에서 삭제 => 비복원 추출\n",
    "\n",
    "print(\"check=>: should be 0 == \", len(x_train_range))  #원소 하나도 없어야 함. 확인.\n",
    "\n",
    "print(global_epoch, \" 번째 global_epoch 데이터 랜덤 준비완료!!\")"
   ]
  },
  {
   "cell_type": "code",
   "execution_count": 7,
   "metadata": {
    "colab": {
     "base_uri": "https://localhost:8080/"
    },
    "id": "gmU6gEQ3lbpD",
    "outputId": "deb36e37-2bcd-499d-dacb-b167da94dbc9"
   },
   "outputs": [
    {
     "name": "stdout",
     "output_type": "stream",
     "text": [
      "\n",
      "\n",
      " 0 번째 global epoch에서 로컬 클라이언트 학습시작!\n",
      "\n",
      "학습 중 ...\n",
      "\n",
      "29/29 - 0s - loss: 0.4611 - accuracy: 0.8383\n",
      "29/29 - 0s - loss: 0.4793 - accuracy: 0.8207\n",
      "29/29 - 0s - loss: 0.4759 - accuracy: 0.8152\n",
      "29/29 - 0s - loss: 0.5609 - accuracy: 0.7910\n",
      "29/29 - 0s - loss: 0.5253 - accuracy: 0.8152\n",
      "29/29 - 0s - loss: 0.5062 - accuracy: 0.8174\n",
      "29/29 - 0s - loss: 0.5168 - accuracy: 0.8075\n",
      "29/29 - 0s - loss: 0.4748 - accuracy: 0.8317\n",
      "29/29 - 0s - loss: 0.5325 - accuracy: 0.7998\n",
      "29/29 - 0s - loss: 0.4829 - accuracy: 0.8141\n",
      "29/29 - 0s - loss: 0.5336 - accuracy: 0.7954\n",
      "0 번째 global epoch 로컬 클라이언트 학습완료!,  Total Training time :  147.0108871459961 \n",
      "\n",
      "\n"
     ]
    },
    {
     "name": "stderr",
     "output_type": "stream",
     "text": [
      "<ipython-input-7-62086c157ead>:93: VisibleDeprecationWarning: Creating an ndarray from ragged nested sequences (which is a list-or-tuple of lists-or-tuples-or ndarrays with different lengths or shapes) is deprecated. If you meant to do this, you must specify 'dtype=object' when creating the ndarray\n",
      "  globals()['G{}_c{}_w_layer{}'.format(global_epoch, num_c_w, layer_index)] = globals()['G{}_c{}_w_layer{}'.format(global_epoch, num_c_w, layer_index)] + np.array(globals()['L{}_layer{}_w'.format(i,layer_index)])          # 일반 클러스터링\n",
      "<ipython-input-7-62086c157ead>:93: VisibleDeprecationWarning: Creating an ndarray from ragged nested sequences (which is a list-or-tuple of lists-or-tuples-or ndarrays with different lengths or shapes) is deprecated. If you meant to do this, you must specify 'dtype=object' when creating the ndarray\n",
      "  globals()['G{}_c{}_w_layer{}'.format(global_epoch, num_c_w, layer_index)] = globals()['G{}_c{}_w_layer{}'.format(global_epoch, num_c_w, layer_index)] + np.array(globals()['L{}_layer{}_w'.format(i,layer_index)])          # 일반 클러스터링\n",
      "<ipython-input-7-62086c157ead>:93: VisibleDeprecationWarning: Creating an ndarray from ragged nested sequences (which is a list-or-tuple of lists-or-tuples-or ndarrays with different lengths or shapes) is deprecated. If you meant to do this, you must specify 'dtype=object' when creating the ndarray\n",
      "  globals()['G{}_c{}_w_layer{}'.format(global_epoch, num_c_w, layer_index)] = globals()['G{}_c{}_w_layer{}'.format(global_epoch, num_c_w, layer_index)] + np.array(globals()['L{}_layer{}_w'.format(i,layer_index)])          # 일반 클러스터링\n",
      "<ipython-input-7-62086c157ead>:93: VisibleDeprecationWarning: Creating an ndarray from ragged nested sequences (which is a list-or-tuple of lists-or-tuples-or ndarrays with different lengths or shapes) is deprecated. If you meant to do this, you must specify 'dtype=object' when creating the ndarray\n",
      "  globals()['G{}_c{}_w_layer{}'.format(global_epoch, num_c_w, layer_index)] = globals()['G{}_c{}_w_layer{}'.format(global_epoch, num_c_w, layer_index)] + np.array(globals()['L{}_layer{}_w'.format(i,layer_index)])          # 일반 클러스터링\n",
      "<ipython-input-7-62086c157ead>:93: VisibleDeprecationWarning: Creating an ndarray from ragged nested sequences (which is a list-or-tuple of lists-or-tuples-or ndarrays with different lengths or shapes) is deprecated. If you meant to do this, you must specify 'dtype=object' when creating the ndarray\n",
      "  globals()['G{}_c{}_w_layer{}'.format(global_epoch, num_c_w, layer_index)] = globals()['G{}_c{}_w_layer{}'.format(global_epoch, num_c_w, layer_index)] + np.array(globals()['L{}_layer{}_w'.format(i,layer_index)])          # 일반 클러스터링\n"
     ]
    }
   ],
   "source": [
    "#준비된 데이터 (IID / NON-IID) np.array로\n",
    "\n",
    "\n",
    "global_epoch = 0\n",
    "acc, loss = 0, 0\n",
    "cluster_acc, cluster_loss, Cluster_ACC, Cluster_LOSS = [], [], [], [] \n",
    "num_layers_list = [0,2,4,6,7]\n",
    "label_list = []\n",
    "VAR_final_list_w, VAR_final_list_b = [], []\n",
    "\n",
    "\n",
    "for i in range(1,local):\n",
    "    globals()['L{}_x_train'.format(i)] = np.array(globals()['L{}_x_train'.format(i)])\n",
    "    globals()['L{}_x_test'.format(i)] = np.array(globals()['L{}_x_test'.format(i)])\n",
    "    globals()['L{}_y_train'.format(i)] = np.array(globals()['L{}_y_train'.format(i)])\n",
    "    globals()['L{}_y_test'.format(i)] = np.array(globals()['L{}_y_test'.format(i)])\n",
    "\n",
    "\n",
    "print(\"\\n\\n\",global_epoch, \"번째 global epoch에서 로컬 클라이언트 학습시작!\\n\\n학습 중 ...\\n\")\n",
    "now = time.time()\n",
    "\n",
    "for i in range(1,local):\n",
    "    globals()['FedAvg_L{}_iter{}_model'.format(i, global_epoch)] = models.Sequential()  ##!!!!!!! 이게 글로벌 epoch에서는 2번째 부터 들어가면 안됨\n",
    "    globals()['FedAvg_L{}_iter{}_model'.format(i, global_epoch)] = local_model_generate(globals()['FedAvg_L{}_iter{}_model'.format(i, global_epoch)])      # initialize 필요 => 모델 프레임 구축\n",
    "\n",
    "    globals()['FedAvg_L{}_iter{}_model'.format(i, global_epoch)].compile(loss=\"categorical_crossentropy\", optimizer=\"adam\", metrics=[\"accuracy\"])\n",
    "\n",
    "    globals()['FedAvg_L{}_iter{}_model'.format(i, global_epoch)].fit(globals()['L{}_x_train'.format(i)], globals()['L{}_y_train'.format(i)], batch_size=batch_size, epochs=epochs, validation_split=0.1, verbose=0)\n",
    "\n",
    "    loss, acc = globals()['FedAvg_L{}_iter{}_model'.format(i, global_epoch)].evaluate(globals()['L{}_x_test'.format(i,global_epoch)], globals()['L{}_y_test'.format(i)], verbose=2)\n",
    "    \n",
    "    cluster_acc.append(acc)  #acc 넣기\n",
    "    cluster_loss.append(loss)  #loss 넣기\n",
    "\n",
    "\n",
    "print(global_epoch, \"번째 global epoch 로컬 클라이언트 학습완료!,  Total Training time : \", time.time()-now,\"\\n\\n\")\n",
    "\n",
    "# 로컬 모델들 학습 완료하였고 로컬모델에서 weight, bias 추출 -------------------------------------------------------------------------------------\n",
    "\n",
    "for i in range(1, local):\n",
    "    for layer_index in num_layers_list:\n",
    "        w = globals()['FedAvg_L{}_iter{}_model'.format(i, global_epoch)].layers[layer_index].get_weights() #get_weights = w[0],b[1]로 구성\n",
    "\n",
    "        globals()['L{}_layer{}_w_tmp'.format(i,layer_index)] = w      # 클러스터링 용도\n",
    "        globals()['L{}_layer{}_w'.format(i,layer_index)] = w          # weight aggregation 용도\n",
    "            \n",
    "# 클러스터에 넣을 변수 선언\n",
    "\n",
    "for layer_index in num_layers_list:\n",
    "\n",
    "    globals()['layer{}_W_tmp'.format(layer_index)] = []\n",
    "    globals()['var_list_layer{}_w'.format(layer_index)] = []\n",
    "    globals()['var_list_layer{}_b'.format(layer_index)] = []\n",
    "  \n",
    "    for i in range(1, local):\n",
    "        globals()['var_list_layer{}_w'.format(layer_index)].append(np.var(globals()['L{}_layer{}_w'.format(i,layer_index)][0]))\n",
    "        globals()['var_list_layer{}_b'.format(layer_index)].append(np.var(globals()['L{}_layer{}_w'.format(i,layer_index)][1]))\n",
    "      \n",
    "        TMP_w = list(np.array(globals()['L{}_layer{}_w_tmp'.format(i,layer_index)][0]).reshape(-1))\n",
    "        TMP_b = list(np.array(globals()['L{}_layer{}_w_tmp'.format(i,layer_index)][1]).reshape(-1))\n",
    "        \n",
    "        TMP_w.extend(TMP_b) ##append 말고 더해야함..\n",
    "\n",
    "        TMP_w = np.array(TMP_w)\n",
    "        TMP_w = list(TMP_w.reshape(-1))\n",
    "        globals()['layer{}_W_tmp'.format(layer_index)].append(TMP_w)  #클러스터링 용도\n",
    "  \n",
    "\n",
    "    #----------------------------------------------------클러스터링 실시 -------------------------------------------------------------\n",
    "    transformed = globals()['layer{}_W_tmp'.format(layer_index)]\n",
    "\n",
    "    kmeans_model_w = KMeans(n_clusters = num_clusters)   # 0, 1은 silhouette 에 안먹힘  \n",
    "\n",
    "    globals()['w_layer{}_label'.format(layer_index)] = kmeans_model_w.fit_predict(transformed)       # 가장 적합한 클러스터로 레이어에 속한 로컬들 레이블 정의 \n",
    "\n",
    "    globals()['G{}_num_clusters_in_layer{}_w'.format(global_epoch, layer_index)] = num_clusters  #나중에 몇개로 나뉘었는지 알아야 함 = num_clusters_for_w이거 그대로 하면 밑에 저게 쓸일이 많아서 global 쓰면 코딩이 너무 번잡해짐;; \n",
    "    \n",
    "    label_list.append(globals()['w_layer{}_label'.format(layer_index)])                 \n",
    "\n",
    "    # ==========> 클러스터 갯수 정해짐\n",
    "\n",
    "\n",
    "    #----------------------------------------------- 스케일링  ---------------------------------------------------------------------\n",
    "    for num_c_w in range(num_clusters): #클러스터 갯수 (num_clusters_for_w) 만큼 클러스터용 = 클러스터 갯수가 3이 나왔으면 3개를 만들어야 함\n",
    "        globals()['G{}_c{}_w_layer{}'.format(global_epoch, num_c_w, layer_index)] = 0  #각각 cluster, Act+cluster 용도  \n",
    "        \n",
    "        globals()['w_scaler_c{}_sum'.format(num_c_w)], globals()['int_c{}_w'.format(num_c_w)] = 0, 0 #초기화\n",
    "    \n",
    "        for i in range(1, local):\n",
    "            if globals()['w_layer{}_label'.format(layer_index)][i-1] == num_c_w  : # 클러스터 레이블에 맞게 (0 or 1 or 2 ..) \n",
    "                globals()['w_scaler_c{}_sum'.format(num_c_w)] = globals()['w_scaler_c{}_sum'.format(num_c_w)] + len(globals()['L{}_x_train'.format(i)])\n",
    "\n",
    "                globals()['G{}_c{}_w_layer{}'.format(global_epoch, num_c_w, layer_index)] = globals()['G{}_c{}_w_layer{}'.format(global_epoch, num_c_w, layer_index)] + np.array(globals()['L{}_layer{}_w'.format(i,layer_index)])          # 일반 클러스터링\n",
    "                \n",
    "                globals()['int_c{}_w'.format(num_c_w)] = globals()['int_c{}_w'.format(num_c_w)] + 1\n",
    "\n",
    "        globals()['w_scaler{}'.format(num_c_w)] = len(globals()['L{}_x_train'.format(i)]) / globals()['w_scaler_c{}_sum'.format(num_c_w)]\n",
    "        globals()['G{}_c{}_w_layer{}'.format(global_epoch, num_c_w, layer_index)] = globals()['G{}_c{}_w_layer{}'.format(global_epoch, num_c_w, layer_index)] / globals()['int_c{}_w'.format(num_c_w)] #레이어 별 클러스터 자기 갯수만큼 나눠주기=평균\n",
    "\n",
    "\n",
    "#---------------------------------------------------------메모리 삭제-------------------------------------------------------------------\n",
    "\n",
    "transformed = 0\n",
    "Cluster_ACC.append(cluster_acc)\n",
    "Cluster_LOSS.append(cluster_loss)"
   ]
  },
  {
   "cell_type": "code",
   "execution_count": 8,
   "metadata": {
    "id": "fGKddODnldWw",
    "scrolled": true
   },
   "outputs": [
    {
     "name": "stdout",
     "output_type": "stream",
     "text": [
      "1  번째 global_epoch 데이터 랜덤하게 준비!!\n",
      "1  번째 global_epoch 데이터 랜덤 준비완료!!\n",
      "\n",
      "\n",
      "1  번째 global epoch에서 로컬 클라이언트 들 학습시작!\n",
      "\n",
      "학습 중 ...\n",
      "\n",
      "29/29 - 0s - loss: 0.5540 - accuracy: 0.7756\n",
      "29/29 - 0s - loss: 0.5843 - accuracy: 0.7855\n",
      "29/29 - 0s - loss: 0.4885 - accuracy: 0.8141\n",
      "29/29 - 0s - loss: 0.4970 - accuracy: 0.8317\n",
      "29/29 - 0s - loss: 0.4895 - accuracy: 0.8152\n",
      "29/29 - 0s - loss: 0.5777 - accuracy: 0.7712\n",
      "29/29 - 0s - loss: 0.4970 - accuracy: 0.8119\n",
      "29/29 - 0s - loss: 0.4593 - accuracy: 0.8295\n",
      "29/29 - 0s - loss: 0.4979 - accuracy: 0.8196\n",
      "29/29 - 0s - loss: 0.4450 - accuracy: 0.8394\n",
      "29/29 - 0s - loss: 0.5551 - accuracy: 0.8031\n",
      "------------    1  번째 global epoch < Clustering > 로컬 클라이언트 학습 완료!,  Total Training time :  156.59510493278503 ---------------------------\n",
      "\n",
      "\n"
     ]
    },
    {
     "name": "stderr",
     "output_type": "stream",
     "text": [
      "<ipython-input-8-4f353143b752>:119: VisibleDeprecationWarning: Creating an ndarray from ragged nested sequences (which is a list-or-tuple of lists-or-tuples-or ndarrays with different lengths or shapes) is deprecated. If you meant to do this, you must specify 'dtype=object' when creating the ndarray\n",
      "  globals()['G{}_c{}_w_layer{}'.format(global_epoch, num_c_w, layer_index)] = globals()['G{}_c{}_w_layer{}'.format(global_epoch, num_c_w, layer_index)] + np.array(globals()['L{}_layer{}_w_c'.format(i,layer_index)])   # 일반 클러스터링\n",
      "<ipython-input-8-4f353143b752>:119: VisibleDeprecationWarning: Creating an ndarray from ragged nested sequences (which is a list-or-tuple of lists-or-tuples-or ndarrays with different lengths or shapes) is deprecated. If you meant to do this, you must specify 'dtype=object' when creating the ndarray\n",
      "  globals()['G{}_c{}_w_layer{}'.format(global_epoch, num_c_w, layer_index)] = globals()['G{}_c{}_w_layer{}'.format(global_epoch, num_c_w, layer_index)] + np.array(globals()['L{}_layer{}_w_c'.format(i,layer_index)])   # 일반 클러스터링\n",
      "<ipython-input-8-4f353143b752>:119: VisibleDeprecationWarning: Creating an ndarray from ragged nested sequences (which is a list-or-tuple of lists-or-tuples-or ndarrays with different lengths or shapes) is deprecated. If you meant to do this, you must specify 'dtype=object' when creating the ndarray\n",
      "  globals()['G{}_c{}_w_layer{}'.format(global_epoch, num_c_w, layer_index)] = globals()['G{}_c{}_w_layer{}'.format(global_epoch, num_c_w, layer_index)] + np.array(globals()['L{}_layer{}_w_c'.format(i,layer_index)])   # 일반 클러스터링\n",
      "<ipython-input-8-4f353143b752>:119: VisibleDeprecationWarning: Creating an ndarray from ragged nested sequences (which is a list-or-tuple of lists-or-tuples-or ndarrays with different lengths or shapes) is deprecated. If you meant to do this, you must specify 'dtype=object' when creating the ndarray\n",
      "  globals()['G{}_c{}_w_layer{}'.format(global_epoch, num_c_w, layer_index)] = globals()['G{}_c{}_w_layer{}'.format(global_epoch, num_c_w, layer_index)] + np.array(globals()['L{}_layer{}_w_c'.format(i,layer_index)])   # 일반 클러스터링\n",
      "<ipython-input-8-4f353143b752>:119: VisibleDeprecationWarning: Creating an ndarray from ragged nested sequences (which is a list-or-tuple of lists-or-tuples-or ndarrays with different lengths or shapes) is deprecated. If you meant to do this, you must specify 'dtype=object' when creating the ndarray\n",
      "  globals()['G{}_c{}_w_layer{}'.format(global_epoch, num_c_w, layer_index)] = globals()['G{}_c{}_w_layer{}'.format(global_epoch, num_c_w, layer_index)] + np.array(globals()['L{}_layer{}_w_c'.format(i,layer_index)])   # 일반 클러스터링\n"
     ]
    },
    {
     "name": "stdout",
     "output_type": "stream",
     "text": [
      "\n",
      "\n",
      "====================================================== One Global Epoch =====================================================================\n",
      "\n",
      "\n",
      "2  번째 global_epoch 데이터 랜덤하게 준비!!\n",
      "2  번째 global_epoch 데이터 랜덤 준비완료!!\n",
      "\n",
      "\n",
      "2  번째 global epoch에서 로컬 클라이언트 들 학습시작!\n",
      "\n",
      "학습 중 ...\n",
      "\n",
      "29/29 - 0s - loss: 0.4805 - accuracy: 0.8086\n",
      "29/29 - 0s - loss: 0.4196 - accuracy: 0.8570\n",
      "29/29 - 0s - loss: 0.5050 - accuracy: 0.8053\n",
      "29/29 - 0s - loss: 0.5075 - accuracy: 0.8251\n",
      "29/29 - 0s - loss: 0.4786 - accuracy: 0.8328\n",
      "29/29 - 0s - loss: 0.5150 - accuracy: 0.8130\n",
      "29/29 - 0s - loss: 0.4544 - accuracy: 0.8339\n",
      "29/29 - 0s - loss: 0.3913 - accuracy: 0.8636\n",
      "29/29 - 0s - loss: 0.5216 - accuracy: 0.8284\n",
      "29/29 - 0s - loss: 0.4774 - accuracy: 0.8273\n",
      "29/29 - 0s - loss: 0.5261 - accuracy: 0.8108\n",
      "------------    2  번째 global epoch < Clustering > 로컬 클라이언트 학습 완료!,  Total Training time :  160.5537269115448 ---------------------------\n",
      "\n",
      "\n"
     ]
    },
    {
     "name": "stderr",
     "output_type": "stream",
     "text": [
      "<ipython-input-8-4f353143b752>:119: VisibleDeprecationWarning: Creating an ndarray from ragged nested sequences (which is a list-or-tuple of lists-or-tuples-or ndarrays with different lengths or shapes) is deprecated. If you meant to do this, you must specify 'dtype=object' when creating the ndarray\n",
      "  globals()['G{}_c{}_w_layer{}'.format(global_epoch, num_c_w, layer_index)] = globals()['G{}_c{}_w_layer{}'.format(global_epoch, num_c_w, layer_index)] + np.array(globals()['L{}_layer{}_w_c'.format(i,layer_index)])   # 일반 클러스터링\n",
      "<ipython-input-8-4f353143b752>:119: VisibleDeprecationWarning: Creating an ndarray from ragged nested sequences (which is a list-or-tuple of lists-or-tuples-or ndarrays with different lengths or shapes) is deprecated. If you meant to do this, you must specify 'dtype=object' when creating the ndarray\n",
      "  globals()['G{}_c{}_w_layer{}'.format(global_epoch, num_c_w, layer_index)] = globals()['G{}_c{}_w_layer{}'.format(global_epoch, num_c_w, layer_index)] + np.array(globals()['L{}_layer{}_w_c'.format(i,layer_index)])   # 일반 클러스터링\n",
      "<ipython-input-8-4f353143b752>:119: VisibleDeprecationWarning: Creating an ndarray from ragged nested sequences (which is a list-or-tuple of lists-or-tuples-or ndarrays with different lengths or shapes) is deprecated. If you meant to do this, you must specify 'dtype=object' when creating the ndarray\n",
      "  globals()['G{}_c{}_w_layer{}'.format(global_epoch, num_c_w, layer_index)] = globals()['G{}_c{}_w_layer{}'.format(global_epoch, num_c_w, layer_index)] + np.array(globals()['L{}_layer{}_w_c'.format(i,layer_index)])   # 일반 클러스터링\n",
      "<ipython-input-8-4f353143b752>:119: VisibleDeprecationWarning: Creating an ndarray from ragged nested sequences (which is a list-or-tuple of lists-or-tuples-or ndarrays with different lengths or shapes) is deprecated. If you meant to do this, you must specify 'dtype=object' when creating the ndarray\n",
      "  globals()['G{}_c{}_w_layer{}'.format(global_epoch, num_c_w, layer_index)] = globals()['G{}_c{}_w_layer{}'.format(global_epoch, num_c_w, layer_index)] + np.array(globals()['L{}_layer{}_w_c'.format(i,layer_index)])   # 일반 클러스터링\n",
      "<ipython-input-8-4f353143b752>:119: VisibleDeprecationWarning: Creating an ndarray from ragged nested sequences (which is a list-or-tuple of lists-or-tuples-or ndarrays with different lengths or shapes) is deprecated. If you meant to do this, you must specify 'dtype=object' when creating the ndarray\n",
      "  globals()['G{}_c{}_w_layer{}'.format(global_epoch, num_c_w, layer_index)] = globals()['G{}_c{}_w_layer{}'.format(global_epoch, num_c_w, layer_index)] + np.array(globals()['L{}_layer{}_w_c'.format(i,layer_index)])   # 일반 클러스터링\n"
     ]
    },
    {
     "name": "stdout",
     "output_type": "stream",
     "text": [
      "\n",
      "\n",
      "====================================================== One Global Epoch =====================================================================\n",
      "\n",
      "\n",
      "3  번째 global_epoch 데이터 랜덤하게 준비!!\n",
      "3  번째 global_epoch 데이터 랜덤 준비완료!!\n",
      "\n",
      "\n",
      "3  번째 global epoch에서 로컬 클라이언트 들 학습시작!\n",
      "\n",
      "학습 중 ...\n",
      "\n",
      "29/29 - 0s - loss: 0.5043 - accuracy: 0.8229\n",
      "29/29 - 0s - loss: 0.4618 - accuracy: 0.8350\n",
      "29/29 - 0s - loss: 0.3882 - accuracy: 0.8614\n",
      "29/29 - 0s - loss: 0.4195 - accuracy: 0.8350\n",
      "29/29 - 0s - loss: 0.4445 - accuracy: 0.8306\n",
      "29/29 - 0s - loss: 0.4990 - accuracy: 0.8141\n",
      "29/29 - 0s - loss: 0.5079 - accuracy: 0.8229\n",
      "29/29 - 0s - loss: 0.4222 - accuracy: 0.8394\n",
      "29/29 - 0s - loss: 0.3909 - accuracy: 0.8625\n",
      "29/29 - 0s - loss: 0.4102 - accuracy: 0.8515\n",
      "29/29 - 0s - loss: 0.4627 - accuracy: 0.8174\n",
      "------------    3  번째 global epoch < Clustering > 로컬 클라이언트 학습 완료!,  Total Training time :  155.61449766159058 ---------------------------\n",
      "\n",
      "\n"
     ]
    },
    {
     "name": "stderr",
     "output_type": "stream",
     "text": [
      "<ipython-input-8-4f353143b752>:119: VisibleDeprecationWarning: Creating an ndarray from ragged nested sequences (which is a list-or-tuple of lists-or-tuples-or ndarrays with different lengths or shapes) is deprecated. If you meant to do this, you must specify 'dtype=object' when creating the ndarray\n",
      "  globals()['G{}_c{}_w_layer{}'.format(global_epoch, num_c_w, layer_index)] = globals()['G{}_c{}_w_layer{}'.format(global_epoch, num_c_w, layer_index)] + np.array(globals()['L{}_layer{}_w_c'.format(i,layer_index)])   # 일반 클러스터링\n",
      "<ipython-input-8-4f353143b752>:119: VisibleDeprecationWarning: Creating an ndarray from ragged nested sequences (which is a list-or-tuple of lists-or-tuples-or ndarrays with different lengths or shapes) is deprecated. If you meant to do this, you must specify 'dtype=object' when creating the ndarray\n",
      "  globals()['G{}_c{}_w_layer{}'.format(global_epoch, num_c_w, layer_index)] = globals()['G{}_c{}_w_layer{}'.format(global_epoch, num_c_w, layer_index)] + np.array(globals()['L{}_layer{}_w_c'.format(i,layer_index)])   # 일반 클러스터링\n",
      "<ipython-input-8-4f353143b752>:119: VisibleDeprecationWarning: Creating an ndarray from ragged nested sequences (which is a list-or-tuple of lists-or-tuples-or ndarrays with different lengths or shapes) is deprecated. If you meant to do this, you must specify 'dtype=object' when creating the ndarray\n",
      "  globals()['G{}_c{}_w_layer{}'.format(global_epoch, num_c_w, layer_index)] = globals()['G{}_c{}_w_layer{}'.format(global_epoch, num_c_w, layer_index)] + np.array(globals()['L{}_layer{}_w_c'.format(i,layer_index)])   # 일반 클러스터링\n"
     ]
    },
    {
     "name": "stdout",
     "output_type": "stream",
     "text": [
      "\n",
      "\n",
      "====================================================== One Global Epoch =====================================================================\n",
      "\n",
      "\n"
     ]
    },
    {
     "name": "stderr",
     "output_type": "stream",
     "text": [
      "<ipython-input-8-4f353143b752>:119: VisibleDeprecationWarning: Creating an ndarray from ragged nested sequences (which is a list-or-tuple of lists-or-tuples-or ndarrays with different lengths or shapes) is deprecated. If you meant to do this, you must specify 'dtype=object' when creating the ndarray\n",
      "  globals()['G{}_c{}_w_layer{}'.format(global_epoch, num_c_w, layer_index)] = globals()['G{}_c{}_w_layer{}'.format(global_epoch, num_c_w, layer_index)] + np.array(globals()['L{}_layer{}_w_c'.format(i,layer_index)])   # 일반 클러스터링\n",
      "<ipython-input-8-4f353143b752>:119: VisibleDeprecationWarning: Creating an ndarray from ragged nested sequences (which is a list-or-tuple of lists-or-tuples-or ndarrays with different lengths or shapes) is deprecated. If you meant to do this, you must specify 'dtype=object' when creating the ndarray\n",
      "  globals()['G{}_c{}_w_layer{}'.format(global_epoch, num_c_w, layer_index)] = globals()['G{}_c{}_w_layer{}'.format(global_epoch, num_c_w, layer_index)] + np.array(globals()['L{}_layer{}_w_c'.format(i,layer_index)])   # 일반 클러스터링\n"
     ]
    }
   ],
   "source": [
    "G_epoch = 4\n",
    "\n",
    "for global_epoch in range(1, G_epoch):\n",
    "\n",
    "    for i in range(1, local):\n",
    "        if global_epoch == 1:\n",
    "            globals()['G{}_c_L{}_model'.format(global_epoch, i)] = globals()['FedAvg_L{}_iter{}_model'.format(i,global_epoch-1)]   #모델 넣어줌 (우리는 구조만 필요한 것)\n",
    "        else:\n",
    "            globals()['G{}_c_L{}_model'.format(global_epoch, i)] = globals()['G{}_c_L{}_model'.format(global_epoch-1, i)]   #모델 넣어줌 (우리는 구조만 필요한 것)\n",
    "\n",
    "        for layer_index in num_layers_list: \n",
    "            num_c = globals()['G{}_num_clusters_in_layer{}_w'.format(global_epoch-1, layer_index)]   \n",
    "    \n",
    "            for ccc in range(num_c):\n",
    "                if globals()['w_layer{}_label'.format(layer_index)][i-1] == ccc:    #현재 로컬 레이어의 군집 결과 == ccc\n",
    "                    globals()['G{}_c_L{}_model'.format(global_epoch, i)].layers[layer_index].set_weights(globals()['G{}_c{}_w_layer{}'.format(global_epoch-1, ccc, layer_index) ])  # 클러스터용 로컬 모델 선언\n",
    "                    \n",
    "                  \n",
    "    #----------------------------------------------------------------데이터 새로 준비----------------------------------------------------------------------------------\n",
    "    print(global_epoch, \" 번째 global_epoch 데이터 랜덤하게 준비!!\")\n",
    "\n",
    "    for i in range(1,local): #데이터 변수 선언, 빈 리스트로 초기화\n",
    "        globals()['L{}_x_train'.format(i)], globals()['L{}_x_test'.format(i)] = [], []  \n",
    "        globals()['L{}_y_train'.format(i)], globals()['L{}_y_test'.format(i)] = [], []  \n",
    "\n",
    "    x_train_range = list(np.arange(0,len(x_train)))  #0~59,999\n",
    "    x_test_range = list(np.arange(0,len(x_test)))  #0~9,999\n",
    "\n",
    "    for n in range(1,local): #Data_x_train_range, 잘 작동함 => 확인 완료\n",
    "        tmp, tmp2 = [], []\n",
    "        tmp = random.sample(list(x_train_range), int(num_train/(local-1)))  #1/10개 만큼 인덱스 랜덤 비복원 추출 => 랜덤으로 해야함\n",
    "        tmp2 = random.sample(list(x_test_range), int(num_test/(local-1)))\n",
    "\n",
    "        for i in range(len(tmp)):\n",
    "            globals()['L{}_x_train'.format(n)].append(x_train[tmp[i]])  #n번째 Cluster에 분할한 실제 x_train 데이터 저장\n",
    "            globals()['L{}_y_train'.format(n)].append(y_train[tmp[i]]) \n",
    "            #x_train_range.remove(tmp[i])  #랜덤 하게 뽑힌 원소 6000개 추출했으니 안에서 삭제 => 비복원 추출\n",
    "\n",
    "        for j in range(len(tmp2)):\n",
    "            globals()['L{}_x_test'.format(n)].append(x_test[tmp2[j]])\n",
    "            globals()['L{}_y_test'.format(n)].append(y_test[tmp2[j]])\n",
    "            #x_test_range.remove(tmp2[j])  #랜덤 하게 뽑힌 원소 6000개 추출했으니 안에서 삭제 => 비복원 추출\n",
    "\n",
    "    for i in range(1,local):\n",
    "        globals()['L{}_x_train'.format(i)] = np.array(globals()['L{}_x_train'.format(i)])\n",
    "        globals()['L{}_x_test'.format(i)] = np.array(globals()['L{}_x_test'.format(i)])\n",
    "        globals()['L{}_y_train'.format(i)] = np.array(globals()['L{}_y_train'.format(i)])\n",
    "        globals()['L{}_y_test'.format(i)] = np.array(globals()['L{}_y_test'.format(i)])\n",
    "\n",
    "\n",
    "    print(global_epoch, \" 번째 global_epoch 데이터 랜덤 준비완료!!\\n\\n\")\n",
    "\n",
    "    print(global_epoch, \" 번째 global epoch에서 로컬 클라이언트 들 학습시작!\\n\\n학습 중 ...\\n\")\n",
    "    \n",
    "\n",
    "    #-------------------------------------------------------------------여기가 핵심, 알고리즘 3개 따로 학습시켜야 함--------------------------------------------------------------------\n",
    "\n",
    "\n",
    "    #======================================================================== Cluster  ========================================================================  같이 했음. 왜냐면 cluster 하고 나서 activation 을 씌우는 거라 cluster까지는 같음\n",
    "\n",
    "    cluster_acc, cluster_loss, cluster_act_acc, cluster_act_loss, now = [], [], [], [], time.time()\n",
    "    \n",
    "    for i in range(1, local):\n",
    "        globals()['G{}_c_L{}_model'.format(global_epoch, i)].compile(loss=\"categorical_crossentropy\", optimizer=\"adam\", metrics=[\"accuracy\"])  #Cluster => 알맞는 클러스터에 넣기\n",
    "        globals()['G{}_c_L{}_model'.format(global_epoch, i)].fit(globals()['L{}_x_train'.format(i)], globals()['L{}_y_train'.format(i)], batch_size=batch_size, epochs=epochs, validation_split=0.1, verbose=0)\n",
    "        loss, acc = globals()['G{}_c_L{}_model'.format(global_epoch, i)].evaluate(globals()['L{}_x_test'.format(i)], globals()['L{}_y_test'.format(i)], verbose=2)\n",
    "        \n",
    "        cluster_acc.append(acc)  #acc 넣기\n",
    "        cluster_loss.append(loss)  #loss 넣기\n",
    "\n",
    "    print(\"------------   \", global_epoch, \" 번째 global epoch < Clustering > 로컬 클라이언트 학습 완료!,  Total Training time : \", time.time()-now,\"---------------------------\\n\\n\")\n",
    "\n",
    "\n",
    "# 로컬 모델들 학습 완료, 로컬모델에서 weight, bias 추출 -------------------------------------------------------------------------------------\n",
    "\n",
    "\n",
    "    for i in range(1, local):        \n",
    "        for layer_index in num_layers_list:\n",
    "            \n",
    "            globals()['L{}_layer{}_w_c'.format(i,layer_index)]   = globals()['G{}_c_L{}_model'.format(global_epoch, i)].layers[layer_index].get_weights() # Clustering \n",
    "            globals()['L{}_layer{}_w_c_tmp'.format(i,layer_index)]   = globals()['G{}_c_L{}_model'.format(global_epoch, i)].layers[layer_index].get_weights() # Clustering \n",
    "\n",
    "    #------------------------------------------------ 클러스터링만 한 값들 Clustering --------------------------------------------------------\n",
    "    for layer_index in num_layers_list:\n",
    "        globals()['layer{}_W_c_tmp'.format(layer_index)] = []\n",
    "\n",
    "        for i in range(1, local):\n",
    "            TMP_w = list(np.array(globals()['L{}_layer{}_w_c_tmp'.format(i,layer_index)][0]).reshape(-1))\n",
    "            TMP_b = list(np.array(globals()['L{}_layer{}_w_c_tmp'.format(i,layer_index)][1]).reshape(-1))\n",
    "            \n",
    "            TMP_w.extend(TMP_b) ##append 말고 더해야함..\n",
    "\n",
    "            TMP_w = np.array(TMP_w)\n",
    "            TMP_w = list(TMP_w.reshape(-1))\n",
    "            globals()['layer{}_W_c_tmp'.format(layer_index)].append(TMP_w)  #클러스터링 용도\n",
    "\n",
    "        #---------------------------------------------------- 실루엣 기반 클러스터링 실시 -------------------------------------------------------------\n",
    "        transformed = globals()['layer{}_W_c_tmp'.format(layer_index)]\n",
    "\n",
    "        kmeans_model_w = KMeans(n_clusters = num_clusters)   # 0, 1은 silhouette 에 안먹힘  \n",
    "\n",
    "        globals()['w_layer{}_label'.format(layer_index)] = kmeans_model_w.fit_predict(transformed)       # 가장 적합한 클러스터로 레이어에 속한 로컬들 레이블 정의 \n",
    "        label_list.append(globals()['w_layer{}_label'.format(layer_index)])\n",
    "\n",
    "        globals()['G{}_num_clusters_in_layer{}_w'.format(global_epoch, layer_index)] = num_clusters  #나중에 몇개로 나뉘었는지 알아야 함 = num_clusters_for_w이거 그대로 하면 밑에 저게 쓸일이 많아서 global 쓰면 코딩이 너무 번잡해짐;; \n",
    "        \n",
    "\n",
    "        #----------------------------------------------- 스케일링 및 업데이트 ---------------------------------------------------------------------\n",
    "        for num_c_w in range(num_clusters): #클러스터 갯수 (num_clusters_for_w) 만큼 클러스터용 = 클러스터 갯수가 3이 나왔으면 3개를 만들어야 함\n",
    "            globals()['G{}_c{}_w_layer{}'.format(global_epoch, num_c_w, layer_index)] = 0 \n",
    "            \n",
    "            globals()['w_scaler_c{}_sum'.format(num_c_w)], globals()['int_c{}_w'.format(num_c_w)] = 0, 0 #초기화\n",
    "        \n",
    "            for i in range(1, local):\n",
    "\n",
    "                if globals()['w_layer{}_label'.format(layer_index)][i-1] == num_c_w  : # 클러스터 레이블에 맞게 (0 or 1 or 2 ..) \n",
    "                    globals()['w_scaler_c{}_sum'.format(num_c_w)] = globals()['w_scaler_c{}_sum'.format(num_c_w)] + len(globals()['L{}_x_train'.format(i)])\n",
    "\n",
    "                    globals()['G{}_c{}_w_layer{}'.format(global_epoch, num_c_w, layer_index)] = globals()['G{}_c{}_w_layer{}'.format(global_epoch, num_c_w, layer_index)] + np.array(globals()['L{}_layer{}_w_c'.format(i,layer_index)])   # 일반 클러스터링\n",
    "                  \n",
    "                    globals()['int_c{}_w'.format(num_c_w)] = globals()['int_c{}_w'.format(num_c_w)] + 1\n",
    "\n",
    "            globals()['w_scaler{}'.format(num_c_w)] = len(globals()['L{}_x_train'.format(i)]) / globals()['w_scaler_c{}_sum'.format(num_c_w)]\n",
    "            globals()['G{}_c{}_w_layer{}'.format(global_epoch, num_c_w, layer_index)] = globals()['G{}_c{}_w_layer{}'.format(global_epoch, num_c_w, layer_index)] / globals()['int_c{}_w'.format(num_c_w)] #레이어 별 클러스터 자기 갯수만큼 나눠주기=평균\n",
    "\n",
    "\n",
    "    Cluster_ACC.append(cluster_acc)\n",
    "    Cluster_LOSS.append(cluster_loss)\n",
    "\n",
    "    print(\"\\n\\n====================================================== One Global Epoch =====================================================================\\n\\n\")"
   ]
  },
  {
   "cell_type": "code",
   "execution_count": 9,
   "metadata": {
    "colab": {
     "base_uri": "https://localhost:8080/"
    },
    "executionInfo": {
     "elapsed": 23,
     "status": "ok",
     "timestamp": 1628301262719,
     "user": {
      "displayName": "이훈민",
      "photoUrl": "",
      "userId": "00157268181097362793"
     },
     "user_tz": 240
    },
    "id": "zyIlPPiUlh8v",
    "outputId": "ea566d8e-1b2d-4d5e-8e9f-a9b4327e7be6"
   },
   "outputs": [
    {
     "name": "stdout",
     "output_type": "stream",
     "text": [
      "Layer 0  ==> label 0, 1, 2 갯수 :  12 13 11\n",
      "Layer 2  ==> label 0, 1, 2 갯수 :  32 4 4\n",
      "Layer 4  ==> label 0, 1, 2 갯수 :  19 10 6\n",
      "Layer 6  ==> label 0, 1, 2 갯수 :  11 19 8\n",
      "Layer 7  ==> label 0, 1, 2 갯수 :  13 11 12\n"
     ]
    }
   ],
   "source": [
    "L0_label0, L0_label1, L0_label2 = 0, 0, 0 \n",
    "L1_label0, L1_label1, L1_label2 = 0, 0, 0 \n",
    "L2_label0, L2_label1, L2_label2 = 0, 0, 0 \n",
    "L3_label0, L3_label1, L3_label2 = 0, 0, 0 \n",
    "L4_label0, L4_label1, L4_label2 = 0, 0, 0 \n",
    "\n",
    "\n",
    "for i in range(int(len(label_list)/5)):\n",
    "    for k in range(5):\n",
    "        for j in range(len(label_list[0])):\n",
    "            if label_list[i*5 + k][j] == 0:\n",
    "                  globals()['L{}_label0'.format(k)] = globals()['L{}_label0'.format(k)] + 1 \n",
    "\n",
    "            elif label_list[i*5 + k][j] == 1:\n",
    "                globals()['L{}_label1'.format(k)] = globals()['L{}_label1'.format(k)] + 1\n",
    "\n",
    "            elif label_list[i*5 + k][j] == 2:\n",
    "                globals()['L{}_label2'.format(k)] = globals()['L{}_label2'.format(k)] + 1\n",
    "\n",
    "\n",
    "print(\"Layer 0  ==> label 0, 1, 2 갯수 : \", L0_label0, L0_label1, L0_label2)\n",
    "print(\"Layer 2  ==> label 0, 1, 2 갯수 : \", L1_label0, L1_label1, L1_label2)\n",
    "print(\"Layer 4  ==> label 0, 1, 2 갯수 : \", L2_label0, L2_label1, L2_label2)\n",
    "print(\"Layer 6  ==> label 0, 1, 2 갯수 : \", L3_label0, L3_label1, L3_label2)\n",
    "print(\"Layer 7  ==> label 0, 1, 2 갯수 : \", L4_label0, L4_label1, L4_label2)"
   ]
  },
  {
   "cell_type": "code",
   "execution_count": 10,
   "metadata": {},
   "outputs": [],
   "source": [
    "num_cluster = 4"
   ]
  },
  {
   "cell_type": "code",
   "execution_count": 11,
   "metadata": {
    "colab": {
     "base_uri": "https://localhost:8080/",
     "height": 1000
    },
    "executionInfo": {
     "elapsed": 1324,
     "status": "ok",
     "timestamp": 1628301717427,
     "user": {
      "displayName": "이훈민",
      "photoUrl": "",
      "userId": "00157268181097362793"
     },
     "user_tz": 240
    },
    "id": "b2lKZ6AZlkSb",
    "outputId": "85ef1e2c-4db1-4229-8781-7ba32c54bfb9",
    "scrolled": true
   },
   "outputs": [
    {
     "name": "stdout",
     "output_type": "stream",
     "text": [
      "Variance Accumulate Layer 0,2,4,6,7\n",
      "--------------------------------------------------------------------------------------------------\n",
      "\n",
      "\n",
      "Var Accumulate Weight\n",
      "--------------------------------------\n",
      "[0.0013454563, 0.0030853248, 0.0056539862]\n",
      "[0.00095318526, 0.0016484204, 0.0023119769]\n",
      "[0.00043315234, 0.0006093436, 0.00076092733]\n",
      "[0.00057664065, 0.0006582843, 0.000743631]\n",
      "[0.0037844398, 0.0042785318, 0.004826209]\n",
      "\n",
      "Var Accumulate Bias\n",
      "--------------------------------------\n",
      "[9.7615906e-05, 0.00026513264, 0.00060504803]\n",
      "[5.7424782e-05, 0.00016983926, 0.00031446567]\n",
      "[4.700937e-05, 0.00010899978, 0.00019879855]\n",
      "[3.9802682e-05, 0.00011787418, 0.0002784728]\n",
      "[0.00029198063, 0.0009449568, 0.0019424945]\n",
      "\n",
      "\n",
      "Variance Change Layer 0,2,4,6,7\n",
      "--------------------------------------------------------------------------------------------------\n",
      "\n",
      "\n",
      "Var Changes Weight\n",
      "--------------------------------------\n",
      "[0.0017398684, 0.0025686615]\n",
      "[0.0006952351, 0.0006635565]\n",
      "[0.00017619124, 0.00015158375]\n",
      "[8.164364e-05, 8.534669e-05]\n",
      "[0.000494092, 0.0005476773]\n",
      "\n",
      "Var Changes Bias\n",
      "--------------------------------------\n",
      "[0.00016751673, 0.0003399154]\n",
      "[0.00011241448, 0.0001446264]\n",
      "[6.199042e-05, 8.979876e-05]\n",
      "[7.80715e-05, 0.00016059863]\n",
      "[0.00065297616, 0.0009975377]\n",
      "\n",
      "Now Check the graph\n",
      "\n"
     ]
    },
    {
     "data": {
      "image/png": "[encoded data removed]",
      "text/plain": [
       "<Figure size 360x216 with 1 Axes>"
      ]
     },
     "metadata": {
      "needs_background": "light"
     },
     "output_type": "display_data"
    },
    {
     "data": {
      "image/png": "[encoded data removed]",
      "text/plain": [
       "<Figure size 360x216 with 1 Axes>"
      ]
     },
     "metadata": {
      "needs_background": "light"
     },
     "output_type": "display_data"
    },
    {
     "data": {
      "image/png": "[encoded data removed]",
      "text/plain": [
       "<Figure size 360x216 with 1 Axes>"
      ]
     },
     "metadata": {
      "needs_background": "light"
     },
     "output_type": "display_data"
    },
    {
     "data": {
      "image/png": "[encoded data removed]",
      "text/plain": [
       "<Figure size 360x216 with 1 Axes>"
      ]
     },
     "metadata": {
      "needs_background": "light"
     },
     "output_type": "display_data"
    }
   ],
   "source": [
    "var_changes_L0_w, var_changes_L2_w, var_changes_L4_w, var_changes_L6_w, var_changes_L7_w = [], [], [], [], [] \n",
    "var_accumulate_L0_w, var_accumulate_L2_w, var_accumulate_L4_w, var_accumulate_L6_w, var_accumulate_L7_w = [], [], [], [], [] \n",
    "\n",
    "var_changes_L0_b, var_changes_L2_b, var_changes_L4_b, var_changes_L6_b, var_changes_L7_b = [], [], [], [], [] \n",
    "var_accumulate_L0_b, var_accumulate_L2_b, var_accumulate_L4_b, var_accumulate_L6_b, var_accumulate_L7_b = [], [], [], [], [] \n",
    "\n",
    "\n",
    "for global_epoch in range(G_epoch-1):\n",
    "    for layer_index in num_layers_list:\n",
    "        sumss_w, sumss_b = 0, 0\n",
    "        for sks in range(num_cluster):\n",
    "            sumss_w = sumss_w + globals()['G{}_c{}_w_layer{}'.format(global_epoch, sks, layer_index)][0] \n",
    "            sumss_b = sumss_b + globals()['G{}_c{}_w_layer{}'.format(global_epoch, sks, layer_index)][1]\n",
    "\n",
    "        sumss_w = sumss_w/num_cluster\n",
    "        sumss_b = sumss_b/num_cluster\n",
    "\n",
    "        globals()['var_accumulate_L{}_w'.format(layer_index)].append(np.var( sumss_w ))\n",
    "        \n",
    "        globals()['var_accumulate_L{}_b'.format(layer_index)].append(np.var( sumss_b ))\n",
    "        \n",
    "        \n",
    "\n",
    "for layer_index in num_layers_list:\n",
    "    for tmp_int in range(len(globals()['var_accumulate_L{}_w'.format(layer_index)])-1):\n",
    "        minus_w = globals()['var_accumulate_L{}_w'.format(layer_index)][tmp_int + 1] - globals()['var_accumulate_L{}_w'.format(layer_index)][tmp_int]\n",
    "        minus_b = globals()['var_accumulate_L{}_b'.format(layer_index)][tmp_int + 1] - globals()['var_accumulate_L{}_b'.format(layer_index)][tmp_int]        \n",
    "        globals()['var_changes_L{}_w'.format(layer_index)].append( minus_w )\n",
    "        globals()['var_changes_L{}_b'.format(layer_index)].append( minus_b )\n",
    "        \n",
    "\n",
    "print(\"Variance Accumulate Layer 0,2,4,6,7\\n--------------------------------------------------------------------------------------------------\\n\")\n",
    "\n",
    "print(\"\\nVar Accumulate Weight\\n--------------------------------------\")\n",
    "for j in num_layers_list:\n",
    "    print(globals()['var_accumulate_L{}_w'.format(j)])\n",
    "\n",
    "print(\"\\nVar Accumulate Bias\\n--------------------------------------\")\n",
    "for j in num_layers_list:\n",
    "    print(globals()['var_accumulate_L{}_b'.format(j)])\n",
    "\n",
    "print(\"\\n\\nVariance Change Layer 0,2,4,6,7\\n--------------------------------------------------------------------------------------------------\\n\")\n",
    "\n",
    "print(\"\\nVar Changes Weight\\n--------------------------------------\")\n",
    "for j in num_layers_list:\n",
    "    print(globals()['var_changes_L{}_w'.format(j)])\n",
    "\n",
    "print(\"\\nVar Changes Bias\\n--------------------------------------\")\n",
    "for j in num_layers_list:\n",
    "    print(globals()['var_changes_L{}_b'.format(j)])\n",
    "\n",
    "\n",
    "\n",
    "print(\"\\nNow Check the graph\\n\")\n",
    "\n",
    "plt.figure(figsize=(5,3))\n",
    "for j in num_layers_list:\n",
    "    plt.plot(globals()['var_accumulate_L{}_w'.format(j)])\n",
    "\n",
    "plt.figure(figsize=(5,3))\n",
    "for j in num_layers_list:\n",
    "    plt.plot(globals()['var_accumulate_L{}_b'.format(j)])\n",
    "\n",
    "plt.figure(figsize=(5,3))\n",
    "for j in num_layers_list:\n",
    "    plt.plot(globals()['var_changes_L{}_w'.format(j)])\n",
    "\n",
    "plt.figure(figsize=(5,3))\n",
    "for j in num_layers_list:\n",
    "    plt.plot(globals()['var_changes_L{}_b'.format(j)])\n"
   ]
  },
  {
   "cell_type": "code",
   "execution_count": 12,
   "metadata": {},
   "outputs": [
    {
     "name": "stdout",
     "output_type": "stream",
     "text": [
      "Distance Layer 0,2,4,6,7\n",
      "--------------------------------------------------------------------------------------------------\n",
      "[0.022091538, 0.019046651, 0.016104612]\n",
      "[0.017216766, 0.0126381675, 0.0118085155]\n",
      "[0.009764565, 0.0090861935, 0.008922223]\n",
      "[0.0080198515, 0.008219416, 0.0073429397]\n",
      "[0.016934281, 0.015679652, 0.012314105] \n",
      "\n",
      "Check the graph\n",
      "\n"
     ]
    },
    {
     "data": {
      "image/png": "[encoded data removed]",
      "text/plain": [
       "<Figure size 432x288 with 1 Axes>"
      ]
     },
     "metadata": {
      "needs_background": "light"
     },
     "output_type": "display_data"
    }
   ],
   "source": [
    "from scipy.spatial import distance\n",
    "\n",
    "dist_0, dist_2, dist_4, dist_6, dist_7  = [], [], [], [], []\n",
    "\n",
    "for global_epoch in range(G_epoch): #1이 맞음 = 바꾸지 말기\n",
    "    for layer_index in num_layers_list:\n",
    "        globals()['G{}_w_layer{}'.format(global_epoch, layer_index)] = 0    \n",
    "\n",
    "\n",
    "for global_epoch in range(G_epoch):    #2가 맞음 = 바꾸지 말기\n",
    "    for layer_index in num_layers_list:\n",
    "        var_w = 0\n",
    "        for sks in range(globals()['G{}_num_clusters_in_layer{}_w'.format(global_epoch, layer_index)]):\n",
    "            var_w = var_w + globals()['G{}_c{}_w_layer{}'.format(global_epoch, sks, layer_index)]\n",
    "\n",
    "        var_w = var_w/globals()['G{}_num_clusters_in_layer{}_w'.format(global_epoch, layer_index)]\n",
    "\n",
    "        globals()['G{}_w_layer{}'.format(global_epoch, layer_index)] = var_w\n",
    "        if global_epoch>0:\n",
    "            globals()['dist_{}'.format(layer_index)].append(np.mean(distance.euclidean(globals()['G{}_w_layer{}'.format(global_epoch-1, layer_index)], globals()['G{}_w_layer{}'.format(global_epoch, layer_index)])))\n",
    "\n",
    "print(\"Distance Layer 0,2,4,6,7\\n--------------------------------------------------------------------------------------------------\")\n",
    "print(dist_0)\n",
    "print(dist_2)\n",
    "print(dist_4)\n",
    "print(dist_6)\n",
    "print(dist_7, \"\\n\\nCheck the graph\\n\")\n",
    "\n",
    "plt.plot(dist_0)\n",
    "plt.plot(dist_2)\n",
    "plt.plot(dist_4)\n",
    "plt.plot(dist_6)\n",
    "plt.plot(dist_7)\n",
    "\n",
    "plt.show()"
   ]
  },
  {
   "cell_type": "code",
   "execution_count": 13,
   "metadata": {
    "colab": {
     "base_uri": "https://localhost:8080/",
     "height": 462
    },
    "executionInfo": {
     "elapsed": 626,
     "status": "ok",
     "timestamp": 1628301264540,
     "user": {
      "displayName": "이훈민",
      "photoUrl": "",
      "userId": "00157268181097362793"
     },
     "user_tz": 240
    },
    "id": "SCRUegHzlz1_",
    "outputId": "650ab27e-2afc-4dc4-f749-85f9bb2f81c3"
   },
   "outputs": [
    {
     "name": "stdout",
     "output_type": "stream",
     "text": [
      "Distance Layer 0,2,4,6,7\n",
      "--------------------------------------------------------------------------------------------------\n",
      "[0.036842957, 0.05463021, 0.07082577]\n",
      "[0.02739393, 0.037636466, 0.044473033]\n",
      "[0.019932695, 0.02558449, 0.031437952]\n",
      "[0.021167992, 0.024567945, 0.028929226]\n",
      "[0.05520121, 0.06555551, 0.077015474] \n",
      "\n",
      "Check the graph\n",
      "\n"
     ]
    },
    {
     "data": {
      "image/png": "[encoded data removed]",
      "text/plain": [
       "<Figure size 432x288 with 1 Axes>"
      ]
     },
     "metadata": {
      "needs_background": "light"
     },
     "output_type": "display_data"
    }
   ],
   "source": [
    "from scipy.spatial import distance\n",
    "\n",
    "dist_0, dist_2, dist_4, dist_6, dist_7  = [], [], [], [], []\n",
    "\n",
    "for global_epoch in range(G_epoch): #1이 맞음 = 바꾸지 말기\n",
    "    for layer_index in num_layers_list:\n",
    "        globals()['G{}_w_layer{}'.format(global_epoch, layer_index)] = 0    \n",
    "\n",
    "\n",
    "for global_epoch in range(G_epoch-1):    #2가 맞음 = 바꾸지 말기\n",
    "    for layer_index in num_layers_list:\n",
    "        var_w = 0\n",
    "        for sks in range(globals()['G{}_num_clusters_in_layer{}_w'.format(global_epoch, layer_index)]):\n",
    "            var_w = var_w + globals()['G{}_c{}_w_layer{}'.format(global_epoch, sks, layer_index)]\n",
    "\n",
    "        var_w = var_w/globals()['G{}_num_clusters_in_layer{}_w'.format(global_epoch, layer_index)]\n",
    "\n",
    "        globals()['G{}_w_layer{}'.format(global_epoch, layer_index)] = var_w\n",
    "        globals()['dist_{}'.format(layer_index)].append(np.mean(distance.euclidean(globals()['G{}_w_layer{}'.format(global_epoch, layer_index)], globals()['G{}_w_layer{}'.format(global_epoch+1, layer_index)])))\n",
    "\n",
    "print(\"Distance Layer 0,2,4,6,7\\n--------------------------------------------------------------------------------------------------\")\n",
    "print(dist_0)\n",
    "print(dist_2)\n",
    "print(dist_4)\n",
    "print(dist_6)\n",
    "print(dist_7, \"\\n\\nCheck the graph\\n\")\n",
    "\n",
    "plt.plot(dist_0)\n",
    "plt.plot(dist_2)\n",
    "plt.plot(dist_4)\n",
    "plt.plot(dist_6)\n",
    "plt.plot(dist_7)\n",
    "\n",
    "plt.show()"
   ]
  },
  {
   "cell_type": "code",
   "execution_count": null,
   "metadata": {},
   "outputs": [],
   "source": []
  },
  {
   "cell_type": "code",
   "execution_count": 15,
   "metadata": {
    "colab": {
     "base_uri": "https://localhost:8080/",
     "height": 592
    },
    "executionInfo": {
     "elapsed": 682,
     "status": "ok",
     "timestamp": 1628308916901,
     "user": {
      "displayName": "이훈민",
      "photoUrl": "",
      "userId": "00157268181097362793"
     },
     "user_tz": 240
    },
    "id": "iAd7lQy9l1nE",
    "outputId": "afc3cad1-7e2d-4731-dad0-bbfeb5304d4d",
    "scrolled": true
   },
   "outputs": [
    {
     "name": "stdout",
     "output_type": "stream",
     "text": [
      "[[0.8382838368415833, 0.8206820487976074, 0.8151814937591553, 0.7909790873527527, 0.8151814937591553, 0.817381739616394, 0.8074807524681091, 0.8316831588745117, 0.7997799515724182, 0.8140814304351807, 0.7953795194625854], [0.7755775451660156, 0.7854785323143005, 0.8140814304351807, 0.8316831588745117, 0.8151814937591553, 0.7711771130561829, 0.8118811845779419, 0.8294829726219177, 0.8195819854736328, 0.8393839597702026, 0.8030803203582764], [0.8085808753967285, 0.8569856882095337, 0.8052805066108704, 0.8250824809074402, 0.8327832818031311, 0.8129813075065613, 0.8338834047317505, 0.8635863661766052, 0.8283828496932983, 0.827282726764679, 0.8107810616493225], [0.8228822946548462, 0.8349835276603699, 0.8613861203193665, 0.8349835276603699, 0.8305830359458923, 0.8140814304351807, 0.8228822946548462, 0.8393839597702026, 0.8624862432479858, 0.8514851331710815, 0.817381739616394]]\n",
      "[[0.4611123204231262, 0.4792535901069641, 0.4759257733821869, 0.5609350204467773, 0.5253103971481323, 0.5061956644058228, 0.516789436340332, 0.47484877705574036, 0.5324744582176208, 0.4828760325908661, 0.5336477756500244], [0.5540034174919128, 0.5842671990394592, 0.4885236918926239, 0.49699363112449646, 0.4895328879356384, 0.5777390599250793, 0.49696069955825806, 0.45931893587112427, 0.4979381263256073, 0.44503599405288696, 0.5550679564476013], [0.48048195242881775, 0.41956600546836853, 0.5050196051597595, 0.5074865818023682, 0.47863179445266724, 0.5149667859077454, 0.4544198215007782, 0.3912813663482666, 0.5216343998908997, 0.4774348735809326, 0.5260905027389526], [0.5043169856071472, 0.4618026316165924, 0.3881603479385376, 0.41953757405281067, 0.44448167085647583, 0.4989502429962158, 0.5079358220100403, 0.42221570014953613, 0.39094746112823486, 0.41016685962677, 0.4627160131931305]] \n",
      "\n",
      "\n",
      "\n"
     ]
    },
    {
     "data": {
      "image/png": "[encoded data removed]",
      "text/plain": [
       "<Figure size 1152x576 with 1 Axes>"
      ]
     },
     "metadata": {
      "needs_background": "light"
     },
     "output_type": "display_data"
    }
   ],
   "source": [
    "average_acc_cluster_list, average_loss_cluster_list = [], []\n",
    "\n",
    "\n",
    "for i in range(len(Cluster_ACC)):    \n",
    "    average_acc_cluster_list.append(np.mean(Cluster_ACC[i]))\n",
    "    average_loss_cluster_list.append(np.mean(Cluster_LOSS[i]))\n",
    "\n",
    "    \n",
    "plt.figure(figsize=(16,8))\n",
    "plt.plot(average_acc_cluster_list, label='Cluster Acc')\n",
    "print(Cluster_ACC)\n",
    "print(Cluster_LOSS,\"\\n\\n\\n\")\n",
    "plt.plot(average_loss_cluster_list, label='Cluster Loss')\n",
    "\n",
    "plt.grid(True)\n",
    "plt.legend()\n",
    "plt.show()\n"
   ]
  },
  {
   "cell_type": "code",
   "execution_count": null,
   "metadata": {
    "id": "iG_mPUvvWCmX"
   },
   "outputs": [],
   "source": []
  },
  {
   "cell_type": "code",
   "execution_count": null,
   "metadata": {},
   "outputs": [],
   "source": []
  }
 ],
 "metadata": {
  "colab": {
   "authorship_tag": "ABX9TyNKIicFYuLmZhh9QzTo33uH",
   "collapsed_sections": [],
   "name": "FMNIST_clustering_iid_K=2.ipynb",
   "provenance": []
  },
  "kernelspec": {
   "display_name": "Python 3",
   "language": "python",
   "name": "python3"
  },
  "language_info": {
   "codemirror_mode": {
    "name": "ipython",
    "version": 3
   },
   "file_extension": ".py",
   "mimetype": "text/x-python",
   "name": "python",
   "nbconvert_exporter": "python",
   "pygments_lexer": "ipython3",
   "version": "3.8.8"
  }
 },
 "nbformat": 4,
 "nbformat_minor": 1
}
