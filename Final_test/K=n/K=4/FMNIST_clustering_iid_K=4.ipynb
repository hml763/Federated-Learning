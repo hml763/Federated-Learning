{
 "cells": [
  {
   "cell_type": "code",
   "execution_count": 1,
   "metadata": {
    "id": "cg7gm5FVyA3r"
   },
   "outputs": [],
   "source": [
    "import numpy as np\n",
    "import tensorflow as tf\n",
    "import matplotlib.pyplot as plt\n",
    "import sys\n",
    "import time\n",
    "import math\n",
    "import random\n",
    "import copy\n",
    "import warnings\n",
    "warnings.simplefilter(action='ignore', category=FutureWarning)\n",
    "\n",
    "import keras\n",
    "from tensorflow import keras\n",
    "from keras.models import Sequential\n",
    "from keras.layers import Dense, Dropout, Flatten\n",
    "from tensorflow.keras import datasets, layers, models\n",
    "from keras.layers.convolutional import Conv2D, MaxPooling2D\n",
    "from keras.layers import Dense, Activation, Flatten, Conv2D, MaxPooling2D\n",
    "from keras.utils.np_utils import to_categorical\n",
    "from sklearn.cluster import KMeans, AgglomerativeClustering\n",
    "#from tensorflow.keras.datasets import cifar10 \n",
    "from keras.datasets import fashion_mnist \n",
    "#from sklearn.metrics import silhouette_samples, silhouette_score\n",
    "\n",
    "mod = sys.modules[__name__]"
   ]
  },
  {
   "cell_type": "code",
   "execution_count": 2,
   "metadata": {
    "id": "-gn3HoNnyGdo"
   },
   "outputs": [],
   "source": [
    "def distribution_check(dataset):\n",
    "        #분포가 다름;\n",
    "    one,two,three,four,five,six,seven,eight,nine,ten=0,0,0,0,0,0,0,0,0,0\n",
    "\n",
    "    for i in range(len(dataset)):\n",
    "        if(dataset[i]==1):    one+=1\n",
    "        elif(dataset[i]==2):  two+=1\n",
    "        elif(dataset[i]==3):  three+=1\n",
    "        elif(dataset[i]==4):  four+=1\n",
    "        elif(dataset[i]==5):  five+=1\n",
    "        elif(dataset[i]==6):  six+=1\n",
    "        elif(dataset[i]==7):  seven+=1\n",
    "        elif(dataset[i]==8):  eight+=1\n",
    "        elif(dataset[i]==9):  nine+=1\n",
    "        elif(dataset[i]==0):  ten+=1\n",
    "\n",
    "    #print(one,two,three,four,five,six,seven,eight,nine,ten)\n",
    "    #print(\"Sum : \", one+two+three+four+five+six+seven+eight+nine+ten)\n",
    "    sums = one+two+three+four+five+six+seven+eight+nine+ten\n",
    "    for_graph=[one,two,three,four,five,six,seven,eight,nine,ten]\n",
    "    \n",
    "    return for_graph, sums\n",
    "\n",
    "def local_model_generate(model): #초기 모델 생성\n",
    "    model = models.Sequential()\n",
    "    model.add(layers.Conv2D(32, (3, 3), activation='relu', input_shape=(28, 28, 1)))\n",
    "    model.add(layers.MaxPooling2D((2, 2)))\n",
    "    model.add(layers.Conv2D(64, (3, 3), activation='relu'))\n",
    "    model.add(layers.MaxPooling2D((2, 2)))\n",
    "    model.add(layers.Conv2D(64, (3, 3), activation='relu'))\n",
    "    model.add(layers.Flatten())\n",
    "    model.add(layers.Dense(64, activation='relu'))\n",
    "    model.add(layers.Dense(10, activation='softmax'))\n",
    "    \n",
    "    return model\n",
    "\n",
    "def step_function(data):\n",
    "    if data > 0:\n",
    "        return 1\n",
    "    else:\n",
    "        return 0\n",
    "\n",
    "def sigmoid(data):\n",
    "    return 1/(1+np.exp(-data))\n",
    "\n",
    "def relu(data):\n",
    "    return np.maximum(0,data)\n",
    "\n",
    "def random_check(local, train_data, test_data):\n",
    "    check_distribution_train_data, check_distribution_test_data, y_train_tmp, y_test_tmp = [], [], [], []\n",
    "    sum1, sum2, data_index = 0,0, np.arange(0,10)\n",
    "\n",
    "    for j in range(len(train_data)):\n",
    "        y_train_tmp.append(np.argmax(train_data[j])) #원핫인코딩에서 다시 0~9 레이블로 변환\n",
    "\n",
    "    for j in range(len(test_data)):\n",
    "        y_test_tmp.append(np.argmax(test_data[j]))\n",
    "\n",
    "    check_distribution_train_data, sum_train = distribution_check(y_train_tmp) #한번 밖에 실행 못함\n",
    "    check_distribution_test_data, sum_test = distribution_check(y_test_tmp)\n",
    "    sum1, sum2 = (sum1 + sum_train), (sum2 + sum_test)\n",
    "    \n",
    "    return check_distribution_train_data, check_distribution_test_data\n"
   ]
  },
  {
   "cell_type": "code",
   "execution_count": 3,
   "metadata": {
    "colab": {
     "base_uri": "https://localhost:8080/"
    },
    "executionInfo": {
     "elapsed": 1211,
     "status": "ok",
     "timestamp": 1628349189139,
     "user": {
      "displayName": "이훈민",
      "photoUrl": "",
      "userId": "00157268181097362793"
     },
     "user_tz": 240
    },
    "id": "i7g0ECm9tiiT",
    "outputId": "25f636dd-3e91-407f-9690-a0c77a7272d8"
   },
   "outputs": [
    {
     "name": "stdout",
     "output_type": "stream",
     "text": [
      "(60000, 28, 28) (10000, 28, 28)\n"
     ]
    }
   ],
   "source": [
    "(x_train, y_train), (x_test, y_test) = fashion_mnist.load_data()\n",
    "print(x_train.shape, x_test.shape)\n",
    "num_train, num_test = len(x_train),  len(x_test) "
   ]
  },
  {
   "cell_type": "code",
   "execution_count": 4,
   "metadata": {
    "id": "XkIYZrvplXU0"
   },
   "outputs": [],
   "source": [
    "local = 10 # 10개 : 1~10 => 11은 포함 안됨\n",
    "batch_size, epochs = 32, 3\n",
    "global_epoch = 0\n",
    "num_layers = 8"
   ]
  },
  {
   "cell_type": "code",
   "execution_count": 5,
   "metadata": {
    "colab": {
     "base_uri": "https://localhost:8080/"
    },
    "executionInfo": {
     "elapsed": 218,
     "status": "ok",
     "timestamp": 1628349200079,
     "user": {
      "displayName": "이훈민",
      "photoUrl": "",
      "userId": "00157268181097362793"
     },
     "user_tz": 240
    },
    "id": "h3lM8ImZlYqW",
    "outputId": "17900a3f-5803-4967-8747-89bca33d7804"
   },
   "outputs": [
    {
     "name": "stdout",
     "output_type": "stream",
     "text": [
      "Step 1 x_train shape: (60000, 28, 28)\n",
      "Step 2 x_train shape: (60000, 28, 28, 1)\n",
      "60000 train samples\n",
      "10000 test samples\n"
     ]
    }
   ],
   "source": [
    "# Model / data parameters\n",
    "num_classes = 10\n",
    "input_shape = (28, 28, 1)\n",
    "\n",
    "# Scale images to the [0, 1] range\n",
    "x_train = x_train.astype(\"float32\") / 255\n",
    "x_test = x_test.astype(\"float32\") / 255\n",
    "\n",
    "print(\"Step 1 x_train shape:\", x_train.shape)\n",
    "\n",
    "x_train = x_train.reshape((num_train, 28, 28, 1))\n",
    "x_test = x_test.reshape((num_test, 28, 28, 1))\n",
    "\n",
    "print(\"Step 2 x_train shape:\", x_train.shape)\n",
    "print(x_train.shape[0], \"train samples\")\n",
    "print(x_test.shape[0], \"test samples\")\n",
    "# convert class vectors to binary class matrices => one hot encoding 지금은 [3,6,2,5,4,8..] 섞여있음 \n",
    "\n",
    "y_train = keras.utils.to_categorical(y_train, num_classes)\n",
    "y_test = keras.utils.to_categorical(y_test, num_classes)"
   ]
  },
  {
   "cell_type": "code",
   "execution_count": 6,
   "metadata": {
    "colab": {
     "base_uri": "https://localhost:8080/"
    },
    "executionInfo": {
     "elapsed": 336,
     "status": "ok",
     "timestamp": 1628349205594,
     "user": {
      "displayName": "이훈민",
      "photoUrl": "",
      "userId": "00157268181097362793"
     },
     "user_tz": 240
    },
    "id": "xiMagvhYlZ_B",
    "outputId": "a0b900ac-2b53-4a57-ee6a-fd8744737027"
   },
   "outputs": [
    {
     "name": "stdout",
     "output_type": "stream",
     "text": [
      "0  번째 global_epoch 데이터 랜덤하게 준비!!\n",
      "check=>: should be 0 ==  60000\n",
      "0  번째 global_epoch 데이터 랜덤 준비완료!!\n"
     ]
    }
   ],
   "source": [
    "#랜덤 비복원추출, 동등하게 10% 씩 =  로컬 데이터 추출 ------------------------------------------------------------------------------\n",
    "\n",
    "global_epoch = 0\n",
    "\n",
    "\n",
    "print(global_epoch, \" 번째 global_epoch 데이터 랜덤하게 준비!!\")\n",
    "\n",
    "for i in range(1,local): #데이터 변수 선언, 빈 리스트로 초기화\n",
    "    globals()['L{}_x_train'.format(i)], globals()['L{}_x_test'.format(i)] = [], []  \n",
    "    globals()['L{}_y_train'.format(i)], globals()['L{}_y_test'.format(i)] = [], []  \n",
    "\n",
    "x_train_range = list(np.arange(0,len(x_train)))  #0~59,999\n",
    "x_test_range = list(np.arange(0,len(x_test)))  #0~9,999\n",
    "\n",
    "for n in range(1,local): #Data_x_train_range, 잘 작동함 => 확인 완료\n",
    "    tmp, tmp2 = [], []\n",
    "    tmp = random.sample(list(x_train_range), int(num_train/(local-1)))  #1/10개 만큼 인덱스 랜덤 비복원 추출 => 랜덤으로 해야함\n",
    "    tmp2 = random.sample(list(x_test_range), int(num_test/(local-1)))\n",
    "\n",
    "    for i in range(len(tmp)):\n",
    "        globals()['L{}_x_train'.format(n)].append(x_train[tmp[i]])  #n번째 Cluster에 분할한 실제 x_train 데이터 저장\n",
    "        globals()['L{}_y_train'.format(n)].append(y_train[tmp[i]]) \n",
    "        #x_train_range.remove(tmp[i])  #랜덤 하게 뽑힌 원소 6000개 추출했으니 안에서 삭제 => 비복원 추출\n",
    "\n",
    "    for j in range(len(tmp2)):\n",
    "        globals()['L{}_x_test'.format(n)].append(x_test[tmp2[j]])\n",
    "        globals()['L{}_y_test'.format(n)].append(y_test[tmp2[j]])\n",
    "        #x_test_range.remove(tmp2[j])  #랜덤 하게 뽑힌 원소 6000개 추출했으니 안에서 삭제 => 비복원 추출\n",
    "\n",
    "print(\"check=>: should be 0 == \", len(x_train_range))  #원소 하나도 없어야 함. 확인.\n",
    "\n",
    "print(global_epoch, \" 번째 global_epoch 데이터 랜덤 준비완료!!\")"
   ]
  },
  {
   "cell_type": "code",
   "execution_count": 7,
   "metadata": {
    "colab": {
     "base_uri": "https://localhost:8080/"
    },
    "id": "gmU6gEQ3lbpD",
    "outputId": "deb36e37-2bcd-499d-dacb-b167da94dbc9"
   },
   "outputs": [
    {
     "name": "stdout",
     "output_type": "stream",
     "text": [
      "\n",
      "\n",
      " 0 번째 global epoch에서 로컬 클라이언트 학습시작!\n",
      "\n",
      "학습 중 ...\n",
      "\n",
      "35/35 - 0s - loss: 0.4947 - accuracy: 0.8155\n",
      "35/35 - 0s - loss: 0.5280 - accuracy: 0.7966\n",
      "35/35 - 0s - loss: 0.5099 - accuracy: 0.8074\n",
      "35/35 - 0s - loss: 0.5405 - accuracy: 0.7966\n",
      "35/35 - 0s - loss: 0.5373 - accuracy: 0.7939\n",
      "35/35 - 0s - loss: 0.5386 - accuracy: 0.7930\n",
      "35/35 - 0s - loss: 0.4897 - accuracy: 0.8308\n",
      "35/35 - 0s - loss: 0.5347 - accuracy: 0.8020\n",
      "35/35 - 0s - loss: 0.4893 - accuracy: 0.8173\n",
      "0 번째 global epoch 로컬 클라이언트 학습완료!,  Total Training time :  59.50689363479614 \n",
      "\n",
      "\n"
     ]
    },
    {
     "name": "stderr",
     "output_type": "stream",
     "text": [
      "<ipython-input-7-988f6242aa34>:93: VisibleDeprecationWarning: Creating an ndarray from ragged nested sequences (which is a list-or-tuple of lists-or-tuples-or ndarrays with different lengths or shapes) is deprecated. If you meant to do this, you must specify 'dtype=object' when creating the ndarray\n",
      "  globals()['G{}_c{}_w_layer{}'.format(global_epoch, num_c_w, layer_index)] = globals()['G{}_c{}_w_layer{}'.format(global_epoch, num_c_w, layer_index)] + np.array(globals()['L{}_layer{}_w'.format(i,layer_index)])          # 일반 클러스터링\n",
      "<ipython-input-7-988f6242aa34>:93: VisibleDeprecationWarning: Creating an ndarray from ragged nested sequences (which is a list-or-tuple of lists-or-tuples-or ndarrays with different lengths or shapes) is deprecated. If you meant to do this, you must specify 'dtype=object' when creating the ndarray\n",
      "  globals()['G{}_c{}_w_layer{}'.format(global_epoch, num_c_w, layer_index)] = globals()['G{}_c{}_w_layer{}'.format(global_epoch, num_c_w, layer_index)] + np.array(globals()['L{}_layer{}_w'.format(i,layer_index)])          # 일반 클러스터링\n",
      "<ipython-input-7-988f6242aa34>:93: VisibleDeprecationWarning: Creating an ndarray from ragged nested sequences (which is a list-or-tuple of lists-or-tuples-or ndarrays with different lengths or shapes) is deprecated. If you meant to do this, you must specify 'dtype=object' when creating the ndarray\n",
      "  globals()['G{}_c{}_w_layer{}'.format(global_epoch, num_c_w, layer_index)] = globals()['G{}_c{}_w_layer{}'.format(global_epoch, num_c_w, layer_index)] + np.array(globals()['L{}_layer{}_w'.format(i,layer_index)])          # 일반 클러스터링\n",
      "<ipython-input-7-988f6242aa34>:93: VisibleDeprecationWarning: Creating an ndarray from ragged nested sequences (which is a list-or-tuple of lists-or-tuples-or ndarrays with different lengths or shapes) is deprecated. If you meant to do this, you must specify 'dtype=object' when creating the ndarray\n",
      "  globals()['G{}_c{}_w_layer{}'.format(global_epoch, num_c_w, layer_index)] = globals()['G{}_c{}_w_layer{}'.format(global_epoch, num_c_w, layer_index)] + np.array(globals()['L{}_layer{}_w'.format(i,layer_index)])          # 일반 클러스터링\n",
      "<ipython-input-7-988f6242aa34>:93: VisibleDeprecationWarning: Creating an ndarray from ragged nested sequences (which is a list-or-tuple of lists-or-tuples-or ndarrays with different lengths or shapes) is deprecated. If you meant to do this, you must specify 'dtype=object' when creating the ndarray\n",
      "  globals()['G{}_c{}_w_layer{}'.format(global_epoch, num_c_w, layer_index)] = globals()['G{}_c{}_w_layer{}'.format(global_epoch, num_c_w, layer_index)] + np.array(globals()['L{}_layer{}_w'.format(i,layer_index)])          # 일반 클러스터링\n"
     ]
    }
   ],
   "source": [
    "#준비된 데이터 (IID / NON-IID) np.array로\n",
    "\n",
    "\n",
    "global_epoch = 0\n",
    "acc, loss = 0, 0\n",
    "cluster_acc, cluster_loss, Cluster_ACC, Cluster_LOSS = [], [], [], [] \n",
    "num_layers_list = [0,2,4,6,7]\n",
    "label_list = []\n",
    "VAR_final_list_w, VAR_final_list_b = [], []\n",
    "\n",
    "\n",
    "for i in range(1,local):\n",
    "    globals()['L{}_x_train'.format(i)] = np.array(globals()['L{}_x_train'.format(i)])\n",
    "    globals()['L{}_x_test'.format(i)] = np.array(globals()['L{}_x_test'.format(i)])\n",
    "    globals()['L{}_y_train'.format(i)] = np.array(globals()['L{}_y_train'.format(i)])\n",
    "    globals()['L{}_y_test'.format(i)] = np.array(globals()['L{}_y_test'.format(i)])\n",
    "\n",
    "\n",
    "print(\"\\n\\n\",global_epoch, \"번째 global epoch에서 로컬 클라이언트 학습시작!\\n\\n학습 중 ...\\n\")\n",
    "now = time.time()\n",
    "\n",
    "for i in range(1,local):\n",
    "    globals()['FedAvg_L{}_iter{}_model'.format(i, global_epoch)] = models.Sequential()  ##!!!!!!! 이게 글로벌 epoch에서는 2번째 부터 들어가면 안됨\n",
    "    globals()['FedAvg_L{}_iter{}_model'.format(i, global_epoch)] = local_model_generate(globals()['FedAvg_L{}_iter{}_model'.format(i, global_epoch)])      # initialize 필요 => 모델 프레임 구축\n",
    "\n",
    "    globals()['FedAvg_L{}_iter{}_model'.format(i, global_epoch)].compile(loss=\"categorical_crossentropy\", optimizer=\"adam\", metrics=[\"accuracy\"])\n",
    "\n",
    "    globals()['FedAvg_L{}_iter{}_model'.format(i, global_epoch)].fit(globals()['L{}_x_train'.format(i)], globals()['L{}_y_train'.format(i)], batch_size=batch_size, epochs=epochs, validation_split=0.1, verbose=0)\n",
    "\n",
    "    loss, acc = globals()['FedAvg_L{}_iter{}_model'.format(i, global_epoch)].evaluate(globals()['L{}_x_test'.format(i,global_epoch)], globals()['L{}_y_test'.format(i)], verbose=2)\n",
    "    \n",
    "    cluster_acc.append(acc)  #acc 넣기\n",
    "    cluster_loss.append(loss)  #loss 넣기\n",
    "\n",
    "\n",
    "print(global_epoch, \"번째 global epoch 로컬 클라이언트 학습완료!,  Total Training time : \", time.time()-now,\"\\n\\n\")\n",
    "\n",
    "# 로컬 모델들 학습 완료하였고 로컬모델에서 weight, bias 추출 -------------------------------------------------------------------------------------\n",
    "\n",
    "for i in range(1, local):\n",
    "    for layer_index in num_layers_list:\n",
    "        w = globals()['FedAvg_L{}_iter{}_model'.format(i, global_epoch)].layers[layer_index].get_weights() #get_weights = w[0],b[1]로 구성\n",
    "\n",
    "        globals()['L{}_layer{}_w_tmp'.format(i,layer_index)] = w      # 클러스터링 용도\n",
    "        globals()['L{}_layer{}_w'.format(i,layer_index)] = w          # weight aggregation 용도\n",
    "            \n",
    "# 클러스터에 넣을 변수 선언\n",
    "\n",
    "for layer_index in num_layers_list:\n",
    "\n",
    "    globals()['layer{}_W_tmp'.format(layer_index)] = []\n",
    "    globals()['var_list_layer{}_w'.format(layer_index)] = []\n",
    "    globals()['var_list_layer{}_b'.format(layer_index)] = []\n",
    "  \n",
    "    for i in range(1, local):\n",
    "        globals()['var_list_layer{}_w'.format(layer_index)].append(np.var(globals()['L{}_layer{}_w'.format(i,layer_index)][0]))\n",
    "        globals()['var_list_layer{}_b'.format(layer_index)].append(np.var(globals()['L{}_layer{}_w'.format(i,layer_index)][1]))\n",
    "      \n",
    "        TMP_w = list(np.array(globals()['L{}_layer{}_w_tmp'.format(i,layer_index)][0]).reshape(-1))\n",
    "        TMP_b = list(np.array(globals()['L{}_layer{}_w_tmp'.format(i,layer_index)][1]).reshape(-1))\n",
    "        \n",
    "        TMP_w.extend(TMP_b) ##append 말고 더해야함..\n",
    "\n",
    "        TMP_w = np.array(TMP_w)\n",
    "        TMP_w = list(TMP_w.reshape(-1))\n",
    "        globals()['layer{}_W_tmp'.format(layer_index)].append(TMP_w)  #클러스터링 용도\n",
    "  \n",
    "\n",
    "    #----------------------------------------------------클러스터링 실시 -------------------------------------------------------------\n",
    "    transformed = globals()['layer{}_W_tmp'.format(layer_index)]\n",
    "\n",
    "    kmeans_model_w = KMeans(n_clusters = 4)   # 0, 1은 silhouette 에 안먹힘  \n",
    "\n",
    "    globals()['w_layer{}_label'.format(layer_index)] = kmeans_model_w.fit_predict(transformed)       # 가장 적합한 클러스터로 레이어에 속한 로컬들 레이블 정의 \n",
    "\n",
    "    globals()['G{}_num_clusters_in_layer{}_w'.format(global_epoch, layer_index)] = 4  #나중에 몇개로 나뉘었는지 알아야 함 = num_clusters_for_w이거 그대로 하면 밑에 저게 쓸일이 많아서 global 쓰면 코딩이 너무 번잡해짐;; \n",
    "    \n",
    "    label_list.append(globals()['w_layer{}_label'.format(layer_index)])                 \n",
    "\n",
    "    # ==========> 클러스터 갯수 정해짐\n",
    "\n",
    "\n",
    "    #----------------------------------------------- 스케일링  ---------------------------------------------------------------------\n",
    "    for num_c_w in range(4): #클러스터 갯수 (num_clusters_for_w) 만큼 클러스터용 = 클러스터 갯수가 3이 나왔으면 3개를 만들어야 함\n",
    "        globals()['G{}_c{}_w_layer{}'.format(global_epoch, num_c_w, layer_index)] = 0  #각각 cluster, Act+cluster 용도  \n",
    "        \n",
    "        globals()['w_scaler_c{}_sum'.format(num_c_w)], globals()['int_c{}_w'.format(num_c_w)] = 0, 0 #초기화\n",
    "    \n",
    "        for i in range(1, local):\n",
    "            if globals()['w_layer{}_label'.format(layer_index)][i-1] == num_c_w  : # 클러스터 레이블에 맞게 (0 or 1 or 2 ..) \n",
    "                globals()['w_scaler_c{}_sum'.format(num_c_w)] = globals()['w_scaler_c{}_sum'.format(num_c_w)] + len(globals()['L{}_x_train'.format(i)])\n",
    "\n",
    "                globals()['G{}_c{}_w_layer{}'.format(global_epoch, num_c_w, layer_index)] = globals()['G{}_c{}_w_layer{}'.format(global_epoch, num_c_w, layer_index)] + np.array(globals()['L{}_layer{}_w'.format(i,layer_index)])          # 일반 클러스터링\n",
    "                \n",
    "                globals()['int_c{}_w'.format(num_c_w)] = globals()['int_c{}_w'.format(num_c_w)] + 1\n",
    "\n",
    "        globals()['w_scaler{}'.format(num_c_w)] = len(globals()['L{}_x_train'.format(i)]) / globals()['w_scaler_c{}_sum'.format(num_c_w)]\n",
    "        globals()['G{}_c{}_w_layer{}'.format(global_epoch, num_c_w, layer_index)] = globals()['G{}_c{}_w_layer{}'.format(global_epoch, num_c_w, layer_index)] / globals()['int_c{}_w'.format(num_c_w)] #레이어 별 클러스터 자기 갯수만큼 나눠주기=평균\n",
    "\n",
    "\n",
    "#---------------------------------------------------------메모리 삭제-------------------------------------------------------------------\n",
    "\n",
    "transformed = 0\n",
    "Cluster_ACC.append(cluster_acc)\n",
    "Cluster_LOSS.append(cluster_loss)"
   ]
  },
  {
   "cell_type": "code",
   "execution_count": 8,
   "metadata": {
    "id": "fGKddODnldWw"
   },
   "outputs": [
    {
     "name": "stdout",
     "output_type": "stream",
     "text": [
      "1  번째 global_epoch 데이터 랜덤하게 준비!!\n",
      "1  번째 global_epoch 데이터 랜덤 준비완료!!\n",
      "\n",
      "\n",
      "1  번째 global epoch에서 로컬 클라이언트 들 학습시작!\n",
      "\n",
      "학습 중 ...\n",
      "\n",
      "35/35 - 0s - loss: 0.4976 - accuracy: 0.8047\n",
      "35/35 - 0s - loss: 0.4969 - accuracy: 0.8029\n",
      "35/35 - 0s - loss: 0.5033 - accuracy: 0.8227\n",
      "35/35 - 0s - loss: 0.4641 - accuracy: 0.8362\n",
      "35/35 - 0s - loss: 0.5064 - accuracy: 0.8164\n",
      "35/35 - 0s - loss: 0.5006 - accuracy: 0.8164\n",
      "35/35 - 0s - loss: 0.4741 - accuracy: 0.8317\n",
      "35/35 - 0s - loss: 0.4301 - accuracy: 0.8443\n",
      "35/35 - 0s - loss: 0.5301 - accuracy: 0.8110\n",
      "------------    1  번째 global epoch < Clustering > 로컬 클라이언트 학습 완료!,  Total Training time :  59.34663224220276 ---------------------------\n",
      "\n",
      "\n"
     ]
    },
    {
     "name": "stderr",
     "output_type": "stream",
     "text": [
      "<ipython-input-8-89081ed6d7fc>:119: VisibleDeprecationWarning: Creating an ndarray from ragged nested sequences (which is a list-or-tuple of lists-or-tuples-or ndarrays with different lengths or shapes) is deprecated. If you meant to do this, you must specify 'dtype=object' when creating the ndarray\n",
      "  globals()['G{}_c{}_w_layer{}'.format(global_epoch, num_c_w, layer_index)] = globals()['G{}_c{}_w_layer{}'.format(global_epoch, num_c_w, layer_index)] + np.array(globals()['L{}_layer{}_w_c'.format(i,layer_index)])   # 일반 클러스터링\n",
      "<ipython-input-8-89081ed6d7fc>:119: VisibleDeprecationWarning: Creating an ndarray from ragged nested sequences (which is a list-or-tuple of lists-or-tuples-or ndarrays with different lengths or shapes) is deprecated. If you meant to do this, you must specify 'dtype=object' when creating the ndarray\n",
      "  globals()['G{}_c{}_w_layer{}'.format(global_epoch, num_c_w, layer_index)] = globals()['G{}_c{}_w_layer{}'.format(global_epoch, num_c_w, layer_index)] + np.array(globals()['L{}_layer{}_w_c'.format(i,layer_index)])   # 일반 클러스터링\n",
      "<ipython-input-8-89081ed6d7fc>:119: VisibleDeprecationWarning: Creating an ndarray from ragged nested sequences (which is a list-or-tuple of lists-or-tuples-or ndarrays with different lengths or shapes) is deprecated. If you meant to do this, you must specify 'dtype=object' when creating the ndarray\n",
      "  globals()['G{}_c{}_w_layer{}'.format(global_epoch, num_c_w, layer_index)] = globals()['G{}_c{}_w_layer{}'.format(global_epoch, num_c_w, layer_index)] + np.array(globals()['L{}_layer{}_w_c'.format(i,layer_index)])   # 일반 클러스터링\n",
      "<ipython-input-8-89081ed6d7fc>:119: VisibleDeprecationWarning: Creating an ndarray from ragged nested sequences (which is a list-or-tuple of lists-or-tuples-or ndarrays with different lengths or shapes) is deprecated. If you meant to do this, you must specify 'dtype=object' when creating the ndarray\n",
      "  globals()['G{}_c{}_w_layer{}'.format(global_epoch, num_c_w, layer_index)] = globals()['G{}_c{}_w_layer{}'.format(global_epoch, num_c_w, layer_index)] + np.array(globals()['L{}_layer{}_w_c'.format(i,layer_index)])   # 일반 클러스터링\n",
      "<ipython-input-8-89081ed6d7fc>:119: VisibleDeprecationWarning: Creating an ndarray from ragged nested sequences (which is a list-or-tuple of lists-or-tuples-or ndarrays with different lengths or shapes) is deprecated. If you meant to do this, you must specify 'dtype=object' when creating the ndarray\n",
      "  globals()['G{}_c{}_w_layer{}'.format(global_epoch, num_c_w, layer_index)] = globals()['G{}_c{}_w_layer{}'.format(global_epoch, num_c_w, layer_index)] + np.array(globals()['L{}_layer{}_w_c'.format(i,layer_index)])   # 일반 클러스터링\n"
     ]
    },
    {
     "name": "stdout",
     "output_type": "stream",
     "text": [
      "\n",
      "\n",
      "====================================================== One Global Epoch =====================================================================\n",
      "\n",
      "\n",
      "2  번째 global_epoch 데이터 랜덤하게 준비!!\n",
      "2  번째 global_epoch 데이터 랜덤 준비완료!!\n",
      "\n",
      "\n",
      "2  번째 global epoch에서 로컬 클라이언트 들 학습시작!\n",
      "\n",
      "학습 중 ...\n",
      "\n",
      "35/35 - 0s - loss: 0.4217 - accuracy: 0.8317\n",
      "35/35 - 0s - loss: 0.4933 - accuracy: 0.8155\n",
      "35/35 - 0s - loss: 0.4850 - accuracy: 0.8200\n",
      "35/35 - 0s - loss: 0.4788 - accuracy: 0.8191\n",
      "35/35 - 0s - loss: 0.5673 - accuracy: 0.7984\n",
      "35/35 - 0s - loss: 0.4408 - accuracy: 0.8344\n",
      "35/35 - 0s - loss: 0.4909 - accuracy: 0.8317\n",
      "35/35 - 0s - loss: 0.4226 - accuracy: 0.8452\n",
      "35/35 - 0s - loss: 0.5586 - accuracy: 0.8137\n",
      "------------    2  번째 global epoch < Clustering > 로컬 클라이언트 학습 완료!,  Total Training time :  58.860814571380615 ---------------------------\n",
      "\n",
      "\n"
     ]
    },
    {
     "name": "stderr",
     "output_type": "stream",
     "text": [
      "<ipython-input-8-89081ed6d7fc>:119: VisibleDeprecationWarning: Creating an ndarray from ragged nested sequences (which is a list-or-tuple of lists-or-tuples-or ndarrays with different lengths or shapes) is deprecated. If you meant to do this, you must specify 'dtype=object' when creating the ndarray\n",
      "  globals()['G{}_c{}_w_layer{}'.format(global_epoch, num_c_w, layer_index)] = globals()['G{}_c{}_w_layer{}'.format(global_epoch, num_c_w, layer_index)] + np.array(globals()['L{}_layer{}_w_c'.format(i,layer_index)])   # 일반 클러스터링\n",
      "<ipython-input-8-89081ed6d7fc>:119: VisibleDeprecationWarning: Creating an ndarray from ragged nested sequences (which is a list-or-tuple of lists-or-tuples-or ndarrays with different lengths or shapes) is deprecated. If you meant to do this, you must specify 'dtype=object' when creating the ndarray\n",
      "  globals()['G{}_c{}_w_layer{}'.format(global_epoch, num_c_w, layer_index)] = globals()['G{}_c{}_w_layer{}'.format(global_epoch, num_c_w, layer_index)] + np.array(globals()['L{}_layer{}_w_c'.format(i,layer_index)])   # 일반 클러스터링\n",
      "<ipython-input-8-89081ed6d7fc>:119: VisibleDeprecationWarning: Creating an ndarray from ragged nested sequences (which is a list-or-tuple of lists-or-tuples-or ndarrays with different lengths or shapes) is deprecated. If you meant to do this, you must specify 'dtype=object' when creating the ndarray\n",
      "  globals()['G{}_c{}_w_layer{}'.format(global_epoch, num_c_w, layer_index)] = globals()['G{}_c{}_w_layer{}'.format(global_epoch, num_c_w, layer_index)] + np.array(globals()['L{}_layer{}_w_c'.format(i,layer_index)])   # 일반 클러스터링\n",
      "<ipython-input-8-89081ed6d7fc>:119: VisibleDeprecationWarning: Creating an ndarray from ragged nested sequences (which is a list-or-tuple of lists-or-tuples-or ndarrays with different lengths or shapes) is deprecated. If you meant to do this, you must specify 'dtype=object' when creating the ndarray\n",
      "  globals()['G{}_c{}_w_layer{}'.format(global_epoch, num_c_w, layer_index)] = globals()['G{}_c{}_w_layer{}'.format(global_epoch, num_c_w, layer_index)] + np.array(globals()['L{}_layer{}_w_c'.format(i,layer_index)])   # 일반 클러스터링\n",
      "<ipython-input-8-89081ed6d7fc>:119: VisibleDeprecationWarning: Creating an ndarray from ragged nested sequences (which is a list-or-tuple of lists-or-tuples-or ndarrays with different lengths or shapes) is deprecated. If you meant to do this, you must specify 'dtype=object' when creating the ndarray\n",
      "  globals()['G{}_c{}_w_layer{}'.format(global_epoch, num_c_w, layer_index)] = globals()['G{}_c{}_w_layer{}'.format(global_epoch, num_c_w, layer_index)] + np.array(globals()['L{}_layer{}_w_c'.format(i,layer_index)])   # 일반 클러스터링\n"
     ]
    },
    {
     "name": "stdout",
     "output_type": "stream",
     "text": [
      "\n",
      "\n",
      "====================================================== One Global Epoch =====================================================================\n",
      "\n",
      "\n",
      "3  번째 global_epoch 데이터 랜덤하게 준비!!\n",
      "3  번째 global_epoch 데이터 랜덤 준비완료!!\n",
      "\n",
      "\n",
      "3  번째 global epoch에서 로컬 클라이언트 들 학습시작!\n",
      "\n",
      "학습 중 ...\n",
      "\n",
      "35/35 - 0s - loss: 0.4249 - accuracy: 0.8398\n",
      "35/35 - 0s - loss: 0.5200 - accuracy: 0.8119\n",
      "35/35 - 0s - loss: 0.4388 - accuracy: 0.8398\n",
      "35/35 - 0s - loss: 0.4417 - accuracy: 0.8344\n",
      "35/35 - 0s - loss: 0.4428 - accuracy: 0.8362\n",
      "35/35 - 0s - loss: 0.4030 - accuracy: 0.8398\n",
      "35/35 - 0s - loss: 0.4441 - accuracy: 0.8380\n",
      "35/35 - 0s - loss: 0.4565 - accuracy: 0.8263\n",
      "35/35 - 0s - loss: 0.4484 - accuracy: 0.8470\n",
      "------------    3  번째 global epoch < Clustering > 로컬 클라이언트 학습 완료!,  Total Training time :  59.3159544467926 ---------------------------\n",
      "\n",
      "\n"
     ]
    },
    {
     "name": "stderr",
     "output_type": "stream",
     "text": [
      "<ipython-input-8-89081ed6d7fc>:119: VisibleDeprecationWarning: Creating an ndarray from ragged nested sequences (which is a list-or-tuple of lists-or-tuples-or ndarrays with different lengths or shapes) is deprecated. If you meant to do this, you must specify 'dtype=object' when creating the ndarray\n",
      "  globals()['G{}_c{}_w_layer{}'.format(global_epoch, num_c_w, layer_index)] = globals()['G{}_c{}_w_layer{}'.format(global_epoch, num_c_w, layer_index)] + np.array(globals()['L{}_layer{}_w_c'.format(i,layer_index)])   # 일반 클러스터링\n",
      "<ipython-input-8-89081ed6d7fc>:119: VisibleDeprecationWarning: Creating an ndarray from ragged nested sequences (which is a list-or-tuple of lists-or-tuples-or ndarrays with different lengths or shapes) is deprecated. If you meant to do this, you must specify 'dtype=object' when creating the ndarray\n",
      "  globals()['G{}_c{}_w_layer{}'.format(global_epoch, num_c_w, layer_index)] = globals()['G{}_c{}_w_layer{}'.format(global_epoch, num_c_w, layer_index)] + np.array(globals()['L{}_layer{}_w_c'.format(i,layer_index)])   # 일반 클러스터링\n",
      "<ipython-input-8-89081ed6d7fc>:119: VisibleDeprecationWarning: Creating an ndarray from ragged nested sequences (which is a list-or-tuple of lists-or-tuples-or ndarrays with different lengths or shapes) is deprecated. If you meant to do this, you must specify 'dtype=object' when creating the ndarray\n",
      "  globals()['G{}_c{}_w_layer{}'.format(global_epoch, num_c_w, layer_index)] = globals()['G{}_c{}_w_layer{}'.format(global_epoch, num_c_w, layer_index)] + np.array(globals()['L{}_layer{}_w_c'.format(i,layer_index)])   # 일반 클러스터링\n",
      "<ipython-input-8-89081ed6d7fc>:119: VisibleDeprecationWarning: Creating an ndarray from ragged nested sequences (which is a list-or-tuple of lists-or-tuples-or ndarrays with different lengths or shapes) is deprecated. If you meant to do this, you must specify 'dtype=object' when creating the ndarray\n",
      "  globals()['G{}_c{}_w_layer{}'.format(global_epoch, num_c_w, layer_index)] = globals()['G{}_c{}_w_layer{}'.format(global_epoch, num_c_w, layer_index)] + np.array(globals()['L{}_layer{}_w_c'.format(i,layer_index)])   # 일반 클러스터링\n",
      "<ipython-input-8-89081ed6d7fc>:119: VisibleDeprecationWarning: Creating an ndarray from ragged nested sequences (which is a list-or-tuple of lists-or-tuples-or ndarrays with different lengths or shapes) is deprecated. If you meant to do this, you must specify 'dtype=object' when creating the ndarray\n",
      "  globals()['G{}_c{}_w_layer{}'.format(global_epoch, num_c_w, layer_index)] = globals()['G{}_c{}_w_layer{}'.format(global_epoch, num_c_w, layer_index)] + np.array(globals()['L{}_layer{}_w_c'.format(i,layer_index)])   # 일반 클러스터링\n"
     ]
    },
    {
     "name": "stdout",
     "output_type": "stream",
     "text": [
      "\n",
      "\n",
      "====================================================== One Global Epoch =====================================================================\n",
      "\n",
      "\n",
      "4  번째 global_epoch 데이터 랜덤하게 준비!!\n",
      "4  번째 global_epoch 데이터 랜덤 준비완료!!\n",
      "\n",
      "\n",
      "4  번째 global epoch에서 로컬 클라이언트 들 학습시작!\n",
      "\n",
      "학습 중 ...\n",
      "\n",
      "35/35 - 0s - loss: 0.4217 - accuracy: 0.8362\n",
      "35/35 - 0s - loss: 0.3778 - accuracy: 0.8659\n",
      "35/35 - 0s - loss: 0.3829 - accuracy: 0.8533\n",
      "35/35 - 0s - loss: 0.4497 - accuracy: 0.8389\n",
      "35/35 - 0s - loss: 0.4643 - accuracy: 0.8290\n",
      "35/35 - 0s - loss: 0.4068 - accuracy: 0.8497\n",
      "35/35 - 0s - loss: 0.4208 - accuracy: 0.8479\n",
      "35/35 - 0s - loss: 0.4050 - accuracy: 0.8488\n",
      "35/35 - 0s - loss: 0.4466 - accuracy: 0.8425\n",
      "------------    4  번째 global epoch < Clustering > 로컬 클라이언트 학습 완료!,  Total Training time :  58.71787929534912 ---------------------------\n",
      "\n",
      "\n"
     ]
    },
    {
     "name": "stderr",
     "output_type": "stream",
     "text": [
      "<ipython-input-8-89081ed6d7fc>:119: VisibleDeprecationWarning: Creating an ndarray from ragged nested sequences (which is a list-or-tuple of lists-or-tuples-or ndarrays with different lengths or shapes) is deprecated. If you meant to do this, you must specify 'dtype=object' when creating the ndarray\n",
      "  globals()['G{}_c{}_w_layer{}'.format(global_epoch, num_c_w, layer_index)] = globals()['G{}_c{}_w_layer{}'.format(global_epoch, num_c_w, layer_index)] + np.array(globals()['L{}_layer{}_w_c'.format(i,layer_index)])   # 일반 클러스터링\n",
      "<ipython-input-8-89081ed6d7fc>:119: VisibleDeprecationWarning: Creating an ndarray from ragged nested sequences (which is a list-or-tuple of lists-or-tuples-or ndarrays with different lengths or shapes) is deprecated. If you meant to do this, you must specify 'dtype=object' when creating the ndarray\n",
      "  globals()['G{}_c{}_w_layer{}'.format(global_epoch, num_c_w, layer_index)] = globals()['G{}_c{}_w_layer{}'.format(global_epoch, num_c_w, layer_index)] + np.array(globals()['L{}_layer{}_w_c'.format(i,layer_index)])   # 일반 클러스터링\n",
      "<ipython-input-8-89081ed6d7fc>:119: VisibleDeprecationWarning: Creating an ndarray from ragged nested sequences (which is a list-or-tuple of lists-or-tuples-or ndarrays with different lengths or shapes) is deprecated. If you meant to do this, you must specify 'dtype=object' when creating the ndarray\n",
      "  globals()['G{}_c{}_w_layer{}'.format(global_epoch, num_c_w, layer_index)] = globals()['G{}_c{}_w_layer{}'.format(global_epoch, num_c_w, layer_index)] + np.array(globals()['L{}_layer{}_w_c'.format(i,layer_index)])   # 일반 클러스터링\n",
      "<ipython-input-8-89081ed6d7fc>:119: VisibleDeprecationWarning: Creating an ndarray from ragged nested sequences (which is a list-or-tuple of lists-or-tuples-or ndarrays with different lengths or shapes) is deprecated. If you meant to do this, you must specify 'dtype=object' when creating the ndarray\n",
      "  globals()['G{}_c{}_w_layer{}'.format(global_epoch, num_c_w, layer_index)] = globals()['G{}_c{}_w_layer{}'.format(global_epoch, num_c_w, layer_index)] + np.array(globals()['L{}_layer{}_w_c'.format(i,layer_index)])   # 일반 클러스터링\n",
      "<ipython-input-8-89081ed6d7fc>:119: VisibleDeprecationWarning: Creating an ndarray from ragged nested sequences (which is a list-or-tuple of lists-or-tuples-or ndarrays with different lengths or shapes) is deprecated. If you meant to do this, you must specify 'dtype=object' when creating the ndarray\n",
      "  globals()['G{}_c{}_w_layer{}'.format(global_epoch, num_c_w, layer_index)] = globals()['G{}_c{}_w_layer{}'.format(global_epoch, num_c_w, layer_index)] + np.array(globals()['L{}_layer{}_w_c'.format(i,layer_index)])   # 일반 클러스터링\n"
     ]
    },
    {
     "name": "stdout",
     "output_type": "stream",
     "text": [
      "\n",
      "\n",
      "====================================================== One Global Epoch =====================================================================\n",
      "\n",
      "\n",
      "5  번째 global_epoch 데이터 랜덤하게 준비!!\n",
      "5  번째 global_epoch 데이터 랜덤 준비완료!!\n",
      "\n",
      "\n",
      "5  번째 global epoch에서 로컬 클라이언트 들 학습시작!\n",
      "\n",
      "학습 중 ...\n",
      "\n",
      "35/35 - 0s - loss: 0.3719 - accuracy: 0.8668\n",
      "35/35 - 0s - loss: 0.3637 - accuracy: 0.8623\n",
      "35/35 - 0s - loss: 0.3956 - accuracy: 0.8695\n",
      "35/35 - 0s - loss: 0.4183 - accuracy: 0.8380\n",
      "35/35 - 0s - loss: 0.3975 - accuracy: 0.8578\n",
      "35/35 - 0s - loss: 0.3508 - accuracy: 0.8686\n",
      "35/35 - 0s - loss: 0.3782 - accuracy: 0.8650\n",
      "35/35 - 0s - loss: 0.3877 - accuracy: 0.8650\n",
      "35/35 - 0s - loss: 0.4054 - accuracy: 0.8488\n",
      "------------    5  번째 global epoch < Clustering > 로컬 클라이언트 학습 완료!,  Total Training time :  59.732377767562866 ---------------------------\n",
      "\n",
      "\n"
     ]
    },
    {
     "name": "stderr",
     "output_type": "stream",
     "text": [
      "<ipython-input-8-89081ed6d7fc>:119: VisibleDeprecationWarning: Creating an ndarray from ragged nested sequences (which is a list-or-tuple of lists-or-tuples-or ndarrays with different lengths or shapes) is deprecated. If you meant to do this, you must specify 'dtype=object' when creating the ndarray\n",
      "  globals()['G{}_c{}_w_layer{}'.format(global_epoch, num_c_w, layer_index)] = globals()['G{}_c{}_w_layer{}'.format(global_epoch, num_c_w, layer_index)] + np.array(globals()['L{}_layer{}_w_c'.format(i,layer_index)])   # 일반 클러스터링\n",
      "<ipython-input-8-89081ed6d7fc>:119: VisibleDeprecationWarning: Creating an ndarray from ragged nested sequences (which is a list-or-tuple of lists-or-tuples-or ndarrays with different lengths or shapes) is deprecated. If you meant to do this, you must specify 'dtype=object' when creating the ndarray\n",
      "  globals()['G{}_c{}_w_layer{}'.format(global_epoch, num_c_w, layer_index)] = globals()['G{}_c{}_w_layer{}'.format(global_epoch, num_c_w, layer_index)] + np.array(globals()['L{}_layer{}_w_c'.format(i,layer_index)])   # 일반 클러스터링\n",
      "<ipython-input-8-89081ed6d7fc>:119: VisibleDeprecationWarning: Creating an ndarray from ragged nested sequences (which is a list-or-tuple of lists-or-tuples-or ndarrays with different lengths or shapes) is deprecated. If you meant to do this, you must specify 'dtype=object' when creating the ndarray\n",
      "  globals()['G{}_c{}_w_layer{}'.format(global_epoch, num_c_w, layer_index)] = globals()['G{}_c{}_w_layer{}'.format(global_epoch, num_c_w, layer_index)] + np.array(globals()['L{}_layer{}_w_c'.format(i,layer_index)])   # 일반 클러스터링\n",
      "<ipython-input-8-89081ed6d7fc>:119: VisibleDeprecationWarning: Creating an ndarray from ragged nested sequences (which is a list-or-tuple of lists-or-tuples-or ndarrays with different lengths or shapes) is deprecated. If you meant to do this, you must specify 'dtype=object' when creating the ndarray\n",
      "  globals()['G{}_c{}_w_layer{}'.format(global_epoch, num_c_w, layer_index)] = globals()['G{}_c{}_w_layer{}'.format(global_epoch, num_c_w, layer_index)] + np.array(globals()['L{}_layer{}_w_c'.format(i,layer_index)])   # 일반 클러스터링\n",
      "<ipython-input-8-89081ed6d7fc>:119: VisibleDeprecationWarning: Creating an ndarray from ragged nested sequences (which is a list-or-tuple of lists-or-tuples-or ndarrays with different lengths or shapes) is deprecated. If you meant to do this, you must specify 'dtype=object' when creating the ndarray\n",
      "  globals()['G{}_c{}_w_layer{}'.format(global_epoch, num_c_w, layer_index)] = globals()['G{}_c{}_w_layer{}'.format(global_epoch, num_c_w, layer_index)] + np.array(globals()['L{}_layer{}_w_c'.format(i,layer_index)])   # 일반 클러스터링\n"
     ]
    },
    {
     "name": "stdout",
     "output_type": "stream",
     "text": [
      "\n",
      "\n",
      "====================================================== One Global Epoch =====================================================================\n",
      "\n",
      "\n",
      "6  번째 global_epoch 데이터 랜덤하게 준비!!\n",
      "6  번째 global_epoch 데이터 랜덤 준비완료!!\n",
      "\n",
      "\n",
      "6  번째 global epoch에서 로컬 클라이언트 들 학습시작!\n",
      "\n",
      "학습 중 ...\n",
      "\n",
      "35/35 - 0s - loss: 0.3775 - accuracy: 0.8668\n",
      "35/35 - 0s - loss: 0.3554 - accuracy: 0.8794\n",
      "35/35 - 0s - loss: 0.3671 - accuracy: 0.8758\n",
      "35/35 - 0s - loss: 0.3819 - accuracy: 0.8632\n",
      "35/35 - 0s - loss: 0.3802 - accuracy: 0.8632\n",
      "35/35 - 0s - loss: 0.3560 - accuracy: 0.8758\n",
      "35/35 - 0s - loss: 0.3959 - accuracy: 0.8659\n",
      "35/35 - 0s - loss: 0.3501 - accuracy: 0.8749\n",
      "35/35 - 0s - loss: 0.3834 - accuracy: 0.8659\n",
      "------------    6  번째 global epoch < Clustering > 로컬 클라이언트 학습 완료!,  Total Training time :  58.971759557724 ---------------------------\n",
      "\n",
      "\n"
     ]
    },
    {
     "name": "stderr",
     "output_type": "stream",
     "text": [
      "<ipython-input-8-89081ed6d7fc>:119: VisibleDeprecationWarning: Creating an ndarray from ragged nested sequences (which is a list-or-tuple of lists-or-tuples-or ndarrays with different lengths or shapes) is deprecated. If you meant to do this, you must specify 'dtype=object' when creating the ndarray\n",
      "  globals()['G{}_c{}_w_layer{}'.format(global_epoch, num_c_w, layer_index)] = globals()['G{}_c{}_w_layer{}'.format(global_epoch, num_c_w, layer_index)] + np.array(globals()['L{}_layer{}_w_c'.format(i,layer_index)])   # 일반 클러스터링\n",
      "<ipython-input-8-89081ed6d7fc>:119: VisibleDeprecationWarning: Creating an ndarray from ragged nested sequences (which is a list-or-tuple of lists-or-tuples-or ndarrays with different lengths or shapes) is deprecated. If you meant to do this, you must specify 'dtype=object' when creating the ndarray\n",
      "  globals()['G{}_c{}_w_layer{}'.format(global_epoch, num_c_w, layer_index)] = globals()['G{}_c{}_w_layer{}'.format(global_epoch, num_c_w, layer_index)] + np.array(globals()['L{}_layer{}_w_c'.format(i,layer_index)])   # 일반 클러스터링\n",
      "<ipython-input-8-89081ed6d7fc>:119: VisibleDeprecationWarning: Creating an ndarray from ragged nested sequences (which is a list-or-tuple of lists-or-tuples-or ndarrays with different lengths or shapes) is deprecated. If you meant to do this, you must specify 'dtype=object' when creating the ndarray\n",
      "  globals()['G{}_c{}_w_layer{}'.format(global_epoch, num_c_w, layer_index)] = globals()['G{}_c{}_w_layer{}'.format(global_epoch, num_c_w, layer_index)] + np.array(globals()['L{}_layer{}_w_c'.format(i,layer_index)])   # 일반 클러스터링\n",
      "<ipython-input-8-89081ed6d7fc>:119: VisibleDeprecationWarning: Creating an ndarray from ragged nested sequences (which is a list-or-tuple of lists-or-tuples-or ndarrays with different lengths or shapes) is deprecated. If you meant to do this, you must specify 'dtype=object' when creating the ndarray\n",
      "  globals()['G{}_c{}_w_layer{}'.format(global_epoch, num_c_w, layer_index)] = globals()['G{}_c{}_w_layer{}'.format(global_epoch, num_c_w, layer_index)] + np.array(globals()['L{}_layer{}_w_c'.format(i,layer_index)])   # 일반 클러스터링\n",
      "<ipython-input-8-89081ed6d7fc>:119: VisibleDeprecationWarning: Creating an ndarray from ragged nested sequences (which is a list-or-tuple of lists-or-tuples-or ndarrays with different lengths or shapes) is deprecated. If you meant to do this, you must specify 'dtype=object' when creating the ndarray\n",
      "  globals()['G{}_c{}_w_layer{}'.format(global_epoch, num_c_w, layer_index)] = globals()['G{}_c{}_w_layer{}'.format(global_epoch, num_c_w, layer_index)] + np.array(globals()['L{}_layer{}_w_c'.format(i,layer_index)])   # 일반 클러스터링\n"
     ]
    },
    {
     "name": "stdout",
     "output_type": "stream",
     "text": [
      "\n",
      "\n",
      "====================================================== One Global Epoch =====================================================================\n",
      "\n",
      "\n",
      "7  번째 global_epoch 데이터 랜덤하게 준비!!\n",
      "7  번째 global_epoch 데이터 랜덤 준비완료!!\n",
      "\n",
      "\n",
      "7  번째 global epoch에서 로컬 클라이언트 들 학습시작!\n",
      "\n",
      "학습 중 ...\n",
      "\n",
      "35/35 - 0s - loss: 0.3227 - accuracy: 0.8821\n",
      "35/35 - 0s - loss: 0.3758 - accuracy: 0.8605\n",
      "35/35 - 0s - loss: 0.3009 - accuracy: 0.9028\n",
      "35/35 - 0s - loss: 0.3759 - accuracy: 0.8695\n",
      "35/35 - 0s - loss: 0.4393 - accuracy: 0.8587\n",
      "35/35 - 0s - loss: 0.3329 - accuracy: 0.8830\n",
      "35/35 - 0s - loss: 0.3568 - accuracy: 0.8758\n",
      "35/35 - 0s - loss: 0.3522 - accuracy: 0.8884\n",
      "35/35 - 0s - loss: 0.3557 - accuracy: 0.8713\n",
      "------------    7  번째 global epoch < Clustering > 로컬 클라이언트 학습 완료!,  Total Training time :  60.43792390823364 ---------------------------\n",
      "\n",
      "\n"
     ]
    },
    {
     "name": "stderr",
     "output_type": "stream",
     "text": [
      "<ipython-input-8-89081ed6d7fc>:119: VisibleDeprecationWarning: Creating an ndarray from ragged nested sequences (which is a list-or-tuple of lists-or-tuples-or ndarrays with different lengths or shapes) is deprecated. If you meant to do this, you must specify 'dtype=object' when creating the ndarray\n",
      "  globals()['G{}_c{}_w_layer{}'.format(global_epoch, num_c_w, layer_index)] = globals()['G{}_c{}_w_layer{}'.format(global_epoch, num_c_w, layer_index)] + np.array(globals()['L{}_layer{}_w_c'.format(i,layer_index)])   # 일반 클러스터링\n",
      "<ipython-input-8-89081ed6d7fc>:119: VisibleDeprecationWarning: Creating an ndarray from ragged nested sequences (which is a list-or-tuple of lists-or-tuples-or ndarrays with different lengths or shapes) is deprecated. If you meant to do this, you must specify 'dtype=object' when creating the ndarray\n",
      "  globals()['G{}_c{}_w_layer{}'.format(global_epoch, num_c_w, layer_index)] = globals()['G{}_c{}_w_layer{}'.format(global_epoch, num_c_w, layer_index)] + np.array(globals()['L{}_layer{}_w_c'.format(i,layer_index)])   # 일반 클러스터링\n",
      "<ipython-input-8-89081ed6d7fc>:119: VisibleDeprecationWarning: Creating an ndarray from ragged nested sequences (which is a list-or-tuple of lists-or-tuples-or ndarrays with different lengths or shapes) is deprecated. If you meant to do this, you must specify 'dtype=object' when creating the ndarray\n",
      "  globals()['G{}_c{}_w_layer{}'.format(global_epoch, num_c_w, layer_index)] = globals()['G{}_c{}_w_layer{}'.format(global_epoch, num_c_w, layer_index)] + np.array(globals()['L{}_layer{}_w_c'.format(i,layer_index)])   # 일반 클러스터링\n",
      "<ipython-input-8-89081ed6d7fc>:119: VisibleDeprecationWarning: Creating an ndarray from ragged nested sequences (which is a list-or-tuple of lists-or-tuples-or ndarrays with different lengths or shapes) is deprecated. If you meant to do this, you must specify 'dtype=object' when creating the ndarray\n",
      "  globals()['G{}_c{}_w_layer{}'.format(global_epoch, num_c_w, layer_index)] = globals()['G{}_c{}_w_layer{}'.format(global_epoch, num_c_w, layer_index)] + np.array(globals()['L{}_layer{}_w_c'.format(i,layer_index)])   # 일반 클러스터링\n",
      "<ipython-input-8-89081ed6d7fc>:119: VisibleDeprecationWarning: Creating an ndarray from ragged nested sequences (which is a list-or-tuple of lists-or-tuples-or ndarrays with different lengths or shapes) is deprecated. If you meant to do this, you must specify 'dtype=object' when creating the ndarray\n",
      "  globals()['G{}_c{}_w_layer{}'.format(global_epoch, num_c_w, layer_index)] = globals()['G{}_c{}_w_layer{}'.format(global_epoch, num_c_w, layer_index)] + np.array(globals()['L{}_layer{}_w_c'.format(i,layer_index)])   # 일반 클러스터링\n"
     ]
    },
    {
     "name": "stdout",
     "output_type": "stream",
     "text": [
      "\n",
      "\n",
      "====================================================== One Global Epoch =====================================================================\n",
      "\n",
      "\n",
      "8  번째 global_epoch 데이터 랜덤하게 준비!!\n",
      "8  번째 global_epoch 데이터 랜덤 준비완료!!\n",
      "\n",
      "\n",
      "8  번째 global epoch에서 로컬 클라이언트 들 학습시작!\n",
      "\n",
      "학습 중 ...\n",
      "\n",
      "35/35 - 0s - loss: 0.3686 - accuracy: 0.8641\n",
      "35/35 - 0s - loss: 0.3516 - accuracy: 0.8704\n",
      "35/35 - 0s - loss: 0.3774 - accuracy: 0.8695\n",
      "35/35 - 0s - loss: 0.3231 - accuracy: 0.8767\n",
      "35/35 - 0s - loss: 0.2935 - accuracy: 0.8956\n",
      "35/35 - 0s - loss: 0.3941 - accuracy: 0.8650\n",
      "35/35 - 0s - loss: 0.3739 - accuracy: 0.8767\n",
      "35/35 - 0s - loss: 0.3737 - accuracy: 0.8731\n",
      "35/35 - 0s - loss: 0.3747 - accuracy: 0.8623\n",
      "------------    8  번째 global epoch < Clustering > 로컬 클라이언트 학습 완료!,  Total Training time :  60.19599199295044 ---------------------------\n",
      "\n",
      "\n"
     ]
    },
    {
     "name": "stderr",
     "output_type": "stream",
     "text": [
      "<ipython-input-8-89081ed6d7fc>:119: VisibleDeprecationWarning: Creating an ndarray from ragged nested sequences (which is a list-or-tuple of lists-or-tuples-or ndarrays with different lengths or shapes) is deprecated. If you meant to do this, you must specify 'dtype=object' when creating the ndarray\n",
      "  globals()['G{}_c{}_w_layer{}'.format(global_epoch, num_c_w, layer_index)] = globals()['G{}_c{}_w_layer{}'.format(global_epoch, num_c_w, layer_index)] + np.array(globals()['L{}_layer{}_w_c'.format(i,layer_index)])   # 일반 클러스터링\n",
      "<ipython-input-8-89081ed6d7fc>:119: VisibleDeprecationWarning: Creating an ndarray from ragged nested sequences (which is a list-or-tuple of lists-or-tuples-or ndarrays with different lengths or shapes) is deprecated. If you meant to do this, you must specify 'dtype=object' when creating the ndarray\n",
      "  globals()['G{}_c{}_w_layer{}'.format(global_epoch, num_c_w, layer_index)] = globals()['G{}_c{}_w_layer{}'.format(global_epoch, num_c_w, layer_index)] + np.array(globals()['L{}_layer{}_w_c'.format(i,layer_index)])   # 일반 클러스터링\n",
      "<ipython-input-8-89081ed6d7fc>:119: VisibleDeprecationWarning: Creating an ndarray from ragged nested sequences (which is a list-or-tuple of lists-or-tuples-or ndarrays with different lengths or shapes) is deprecated. If you meant to do this, you must specify 'dtype=object' when creating the ndarray\n",
      "  globals()['G{}_c{}_w_layer{}'.format(global_epoch, num_c_w, layer_index)] = globals()['G{}_c{}_w_layer{}'.format(global_epoch, num_c_w, layer_index)] + np.array(globals()['L{}_layer{}_w_c'.format(i,layer_index)])   # 일반 클러스터링\n",
      "<ipython-input-8-89081ed6d7fc>:119: VisibleDeprecationWarning: Creating an ndarray from ragged nested sequences (which is a list-or-tuple of lists-or-tuples-or ndarrays with different lengths or shapes) is deprecated. If you meant to do this, you must specify 'dtype=object' when creating the ndarray\n",
      "  globals()['G{}_c{}_w_layer{}'.format(global_epoch, num_c_w, layer_index)] = globals()['G{}_c{}_w_layer{}'.format(global_epoch, num_c_w, layer_index)] + np.array(globals()['L{}_layer{}_w_c'.format(i,layer_index)])   # 일반 클러스터링\n",
      "<ipython-input-8-89081ed6d7fc>:119: VisibleDeprecationWarning: Creating an ndarray from ragged nested sequences (which is a list-or-tuple of lists-or-tuples-or ndarrays with different lengths or shapes) is deprecated. If you meant to do this, you must specify 'dtype=object' when creating the ndarray\n",
      "  globals()['G{}_c{}_w_layer{}'.format(global_epoch, num_c_w, layer_index)] = globals()['G{}_c{}_w_layer{}'.format(global_epoch, num_c_w, layer_index)] + np.array(globals()['L{}_layer{}_w_c'.format(i,layer_index)])   # 일반 클러스터링\n"
     ]
    },
    {
     "name": "stdout",
     "output_type": "stream",
     "text": [
      "\n",
      "\n",
      "====================================================== One Global Epoch =====================================================================\n",
      "\n",
      "\n",
      "9  번째 global_epoch 데이터 랜덤하게 준비!!\n",
      "9  번째 global_epoch 데이터 랜덤 준비완료!!\n",
      "\n",
      "\n",
      "9  번째 global epoch에서 로컬 클라이언트 들 학습시작!\n",
      "\n",
      "학습 중 ...\n",
      "\n",
      "35/35 - 0s - loss: 0.3197 - accuracy: 0.8857\n",
      "35/35 - 0s - loss: 0.3680 - accuracy: 0.8767\n",
      "35/35 - 0s - loss: 0.3476 - accuracy: 0.8722\n",
      "35/35 - 0s - loss: 0.4177 - accuracy: 0.8632\n",
      "35/35 - 0s - loss: 0.3384 - accuracy: 0.8713\n",
      "35/35 - 0s - loss: 0.4146 - accuracy: 0.8722\n",
      "35/35 - 0s - loss: 0.3860 - accuracy: 0.8713\n",
      "35/35 - 0s - loss: 0.3469 - accuracy: 0.8704\n",
      "35/35 - 0s - loss: 0.3612 - accuracy: 0.8785\n",
      "------------    9  번째 global epoch < Clustering > 로컬 클라이언트 학습 완료!,  Total Training time :  61.84639120101929 ---------------------------\n",
      "\n",
      "\n"
     ]
    },
    {
     "name": "stderr",
     "output_type": "stream",
     "text": [
      "<ipython-input-8-89081ed6d7fc>:119: VisibleDeprecationWarning: Creating an ndarray from ragged nested sequences (which is a list-or-tuple of lists-or-tuples-or ndarrays with different lengths or shapes) is deprecated. If you meant to do this, you must specify 'dtype=object' when creating the ndarray\n",
      "  globals()['G{}_c{}_w_layer{}'.format(global_epoch, num_c_w, layer_index)] = globals()['G{}_c{}_w_layer{}'.format(global_epoch, num_c_w, layer_index)] + np.array(globals()['L{}_layer{}_w_c'.format(i,layer_index)])   # 일반 클러스터링\n",
      "<ipython-input-8-89081ed6d7fc>:119: VisibleDeprecationWarning: Creating an ndarray from ragged nested sequences (which is a list-or-tuple of lists-or-tuples-or ndarrays with different lengths or shapes) is deprecated. If you meant to do this, you must specify 'dtype=object' when creating the ndarray\n",
      "  globals()['G{}_c{}_w_layer{}'.format(global_epoch, num_c_w, layer_index)] = globals()['G{}_c{}_w_layer{}'.format(global_epoch, num_c_w, layer_index)] + np.array(globals()['L{}_layer{}_w_c'.format(i,layer_index)])   # 일반 클러스터링\n",
      "<ipython-input-8-89081ed6d7fc>:119: VisibleDeprecationWarning: Creating an ndarray from ragged nested sequences (which is a list-or-tuple of lists-or-tuples-or ndarrays with different lengths or shapes) is deprecated. If you meant to do this, you must specify 'dtype=object' when creating the ndarray\n",
      "  globals()['G{}_c{}_w_layer{}'.format(global_epoch, num_c_w, layer_index)] = globals()['G{}_c{}_w_layer{}'.format(global_epoch, num_c_w, layer_index)] + np.array(globals()['L{}_layer{}_w_c'.format(i,layer_index)])   # 일반 클러스터링\n",
      "<ipython-input-8-89081ed6d7fc>:119: VisibleDeprecationWarning: Creating an ndarray from ragged nested sequences (which is a list-or-tuple of lists-or-tuples-or ndarrays with different lengths or shapes) is deprecated. If you meant to do this, you must specify 'dtype=object' when creating the ndarray\n",
      "  globals()['G{}_c{}_w_layer{}'.format(global_epoch, num_c_w, layer_index)] = globals()['G{}_c{}_w_layer{}'.format(global_epoch, num_c_w, layer_index)] + np.array(globals()['L{}_layer{}_w_c'.format(i,layer_index)])   # 일반 클러스터링\n",
      "<ipython-input-8-89081ed6d7fc>:119: VisibleDeprecationWarning: Creating an ndarray from ragged nested sequences (which is a list-or-tuple of lists-or-tuples-or ndarrays with different lengths or shapes) is deprecated. If you meant to do this, you must specify 'dtype=object' when creating the ndarray\n",
      "  globals()['G{}_c{}_w_layer{}'.format(global_epoch, num_c_w, layer_index)] = globals()['G{}_c{}_w_layer{}'.format(global_epoch, num_c_w, layer_index)] + np.array(globals()['L{}_layer{}_w_c'.format(i,layer_index)])   # 일반 클러스터링\n"
     ]
    },
    {
     "name": "stdout",
     "output_type": "stream",
     "text": [
      "\n",
      "\n",
      "====================================================== One Global Epoch =====================================================================\n",
      "\n",
      "\n",
      "10  번째 global_epoch 데이터 랜덤하게 준비!!\n",
      "10  번째 global_epoch 데이터 랜덤 준비완료!!\n",
      "\n",
      "\n",
      "10  번째 global epoch에서 로컬 클라이언트 들 학습시작!\n",
      "\n",
      "학습 중 ...\n",
      "\n",
      "35/35 - 0s - loss: 0.3630 - accuracy: 0.8794\n",
      "35/35 - 0s - loss: 0.3907 - accuracy: 0.8677\n",
      "35/35 - 0s - loss: 0.3094 - accuracy: 0.8920\n",
      "35/35 - 0s - loss: 0.3873 - accuracy: 0.8614\n",
      "35/35 - 0s - loss: 0.3789 - accuracy: 0.8713\n",
      "35/35 - 0s - loss: 0.3159 - accuracy: 0.8938\n",
      "35/35 - 0s - loss: 0.3581 - accuracy: 0.8686\n",
      "35/35 - 0s - loss: 0.3422 - accuracy: 0.8848\n",
      "35/35 - 0s - loss: 0.3296 - accuracy: 0.8794\n",
      "------------    10  번째 global epoch < Clustering > 로컬 클라이언트 학습 완료!,  Total Training time :  61.410290241241455 ---------------------------\n",
      "\n",
      "\n"
     ]
    },
    {
     "name": "stderr",
     "output_type": "stream",
     "text": [
      "<ipython-input-8-89081ed6d7fc>:119: VisibleDeprecationWarning: Creating an ndarray from ragged nested sequences (which is a list-or-tuple of lists-or-tuples-or ndarrays with different lengths or shapes) is deprecated. If you meant to do this, you must specify 'dtype=object' when creating the ndarray\n",
      "  globals()['G{}_c{}_w_layer{}'.format(global_epoch, num_c_w, layer_index)] = globals()['G{}_c{}_w_layer{}'.format(global_epoch, num_c_w, layer_index)] + np.array(globals()['L{}_layer{}_w_c'.format(i,layer_index)])   # 일반 클러스터링\n",
      "<ipython-input-8-89081ed6d7fc>:119: VisibleDeprecationWarning: Creating an ndarray from ragged nested sequences (which is a list-or-tuple of lists-or-tuples-or ndarrays with different lengths or shapes) is deprecated. If you meant to do this, you must specify 'dtype=object' when creating the ndarray\n",
      "  globals()['G{}_c{}_w_layer{}'.format(global_epoch, num_c_w, layer_index)] = globals()['G{}_c{}_w_layer{}'.format(global_epoch, num_c_w, layer_index)] + np.array(globals()['L{}_layer{}_w_c'.format(i,layer_index)])   # 일반 클러스터링\n",
      "<ipython-input-8-89081ed6d7fc>:119: VisibleDeprecationWarning: Creating an ndarray from ragged nested sequences (which is a list-or-tuple of lists-or-tuples-or ndarrays with different lengths or shapes) is deprecated. If you meant to do this, you must specify 'dtype=object' when creating the ndarray\n",
      "  globals()['G{}_c{}_w_layer{}'.format(global_epoch, num_c_w, layer_index)] = globals()['G{}_c{}_w_layer{}'.format(global_epoch, num_c_w, layer_index)] + np.array(globals()['L{}_layer{}_w_c'.format(i,layer_index)])   # 일반 클러스터링\n",
      "<ipython-input-8-89081ed6d7fc>:119: VisibleDeprecationWarning: Creating an ndarray from ragged nested sequences (which is a list-or-tuple of lists-or-tuples-or ndarrays with different lengths or shapes) is deprecated. If you meant to do this, you must specify 'dtype=object' when creating the ndarray\n",
      "  globals()['G{}_c{}_w_layer{}'.format(global_epoch, num_c_w, layer_index)] = globals()['G{}_c{}_w_layer{}'.format(global_epoch, num_c_w, layer_index)] + np.array(globals()['L{}_layer{}_w_c'.format(i,layer_index)])   # 일반 클러스터링\n",
      "<ipython-input-8-89081ed6d7fc>:119: VisibleDeprecationWarning: Creating an ndarray from ragged nested sequences (which is a list-or-tuple of lists-or-tuples-or ndarrays with different lengths or shapes) is deprecated. If you meant to do this, you must specify 'dtype=object' when creating the ndarray\n",
      "  globals()['G{}_c{}_w_layer{}'.format(global_epoch, num_c_w, layer_index)] = globals()['G{}_c{}_w_layer{}'.format(global_epoch, num_c_w, layer_index)] + np.array(globals()['L{}_layer{}_w_c'.format(i,layer_index)])   # 일반 클러스터링\n"
     ]
    },
    {
     "name": "stdout",
     "output_type": "stream",
     "text": [
      "\n",
      "\n",
      "====================================================== One Global Epoch =====================================================================\n",
      "\n",
      "\n",
      "11  번째 global_epoch 데이터 랜덤하게 준비!!\n",
      "11  번째 global_epoch 데이터 랜덤 준비완료!!\n",
      "\n",
      "\n",
      "11  번째 global epoch에서 로컬 클라이언트 들 학습시작!\n",
      "\n",
      "학습 중 ...\n",
      "\n",
      "35/35 - 0s - loss: 0.3138 - accuracy: 0.8884\n",
      "35/35 - 0s - loss: 0.3371 - accuracy: 0.8785\n",
      "35/35 - 0s - loss: 0.3316 - accuracy: 0.8920\n",
      "35/35 - 0s - loss: 0.3127 - accuracy: 0.8920\n",
      "35/35 - 0s - loss: 0.3025 - accuracy: 0.8812\n",
      "35/35 - 0s - loss: 0.3194 - accuracy: 0.8821\n",
      "35/35 - 0s - loss: 0.3482 - accuracy: 0.8830\n",
      "35/35 - 0s - loss: 0.2843 - accuracy: 0.9046\n",
      "35/35 - 0s - loss: 0.3735 - accuracy: 0.8731\n",
      "------------    11  번째 global epoch < Clustering > 로컬 클라이언트 학습 완료!,  Total Training time :  62.027496576309204 ---------------------------\n",
      "\n",
      "\n"
     ]
    },
    {
     "name": "stderr",
     "output_type": "stream",
     "text": [
      "<ipython-input-8-89081ed6d7fc>:119: VisibleDeprecationWarning: Creating an ndarray from ragged nested sequences (which is a list-or-tuple of lists-or-tuples-or ndarrays with different lengths or shapes) is deprecated. If you meant to do this, you must specify 'dtype=object' when creating the ndarray\n",
      "  globals()['G{}_c{}_w_layer{}'.format(global_epoch, num_c_w, layer_index)] = globals()['G{}_c{}_w_layer{}'.format(global_epoch, num_c_w, layer_index)] + np.array(globals()['L{}_layer{}_w_c'.format(i,layer_index)])   # 일반 클러스터링\n",
      "<ipython-input-8-89081ed6d7fc>:119: VisibleDeprecationWarning: Creating an ndarray from ragged nested sequences (which is a list-or-tuple of lists-or-tuples-or ndarrays with different lengths or shapes) is deprecated. If you meant to do this, you must specify 'dtype=object' when creating the ndarray\n",
      "  globals()['G{}_c{}_w_layer{}'.format(global_epoch, num_c_w, layer_index)] = globals()['G{}_c{}_w_layer{}'.format(global_epoch, num_c_w, layer_index)] + np.array(globals()['L{}_layer{}_w_c'.format(i,layer_index)])   # 일반 클러스터링\n",
      "<ipython-input-8-89081ed6d7fc>:119: VisibleDeprecationWarning: Creating an ndarray from ragged nested sequences (which is a list-or-tuple of lists-or-tuples-or ndarrays with different lengths or shapes) is deprecated. If you meant to do this, you must specify 'dtype=object' when creating the ndarray\n",
      "  globals()['G{}_c{}_w_layer{}'.format(global_epoch, num_c_w, layer_index)] = globals()['G{}_c{}_w_layer{}'.format(global_epoch, num_c_w, layer_index)] + np.array(globals()['L{}_layer{}_w_c'.format(i,layer_index)])   # 일반 클러스터링\n",
      "<ipython-input-8-89081ed6d7fc>:119: VisibleDeprecationWarning: Creating an ndarray from ragged nested sequences (which is a list-or-tuple of lists-or-tuples-or ndarrays with different lengths or shapes) is deprecated. If you meant to do this, you must specify 'dtype=object' when creating the ndarray\n",
      "  globals()['G{}_c{}_w_layer{}'.format(global_epoch, num_c_w, layer_index)] = globals()['G{}_c{}_w_layer{}'.format(global_epoch, num_c_w, layer_index)] + np.array(globals()['L{}_layer{}_w_c'.format(i,layer_index)])   # 일반 클러스터링\n",
      "<ipython-input-8-89081ed6d7fc>:119: VisibleDeprecationWarning: Creating an ndarray from ragged nested sequences (which is a list-or-tuple of lists-or-tuples-or ndarrays with different lengths or shapes) is deprecated. If you meant to do this, you must specify 'dtype=object' when creating the ndarray\n",
      "  globals()['G{}_c{}_w_layer{}'.format(global_epoch, num_c_w, layer_index)] = globals()['G{}_c{}_w_layer{}'.format(global_epoch, num_c_w, layer_index)] + np.array(globals()['L{}_layer{}_w_c'.format(i,layer_index)])   # 일반 클러스터링\n"
     ]
    },
    {
     "name": "stdout",
     "output_type": "stream",
     "text": [
      "\n",
      "\n",
      "====================================================== One Global Epoch =====================================================================\n",
      "\n",
      "\n",
      "12  번째 global_epoch 데이터 랜덤하게 준비!!\n",
      "12  번째 global_epoch 데이터 랜덤 준비완료!!\n",
      "\n",
      "\n",
      "12  번째 global epoch에서 로컬 클라이언트 들 학습시작!\n",
      "\n",
      "학습 중 ...\n",
      "\n",
      "35/35 - 0s - loss: 0.3503 - accuracy: 0.8803\n",
      "35/35 - 0s - loss: 0.3858 - accuracy: 0.8515\n",
      "35/35 - 0s - loss: 0.3296 - accuracy: 0.8902\n",
      "35/35 - 0s - loss: 0.3137 - accuracy: 0.8839\n",
      "35/35 - 0s - loss: 0.3152 - accuracy: 0.8794\n",
      "35/35 - 0s - loss: 0.3608 - accuracy: 0.8848\n",
      "35/35 - 0s - loss: 0.3859 - accuracy: 0.8614\n",
      "35/35 - 0s - loss: 0.3083 - accuracy: 0.8929\n",
      "35/35 - 0s - loss: 0.3082 - accuracy: 0.8929\n",
      "------------    12  번째 global epoch < Clustering > 로컬 클라이언트 학습 완료!,  Total Training time :  63.57740569114685 ---------------------------\n",
      "\n",
      "\n"
     ]
    },
    {
     "name": "stderr",
     "output_type": "stream",
     "text": [
      "<ipython-input-8-89081ed6d7fc>:119: VisibleDeprecationWarning: Creating an ndarray from ragged nested sequences (which is a list-or-tuple of lists-or-tuples-or ndarrays with different lengths or shapes) is deprecated. If you meant to do this, you must specify 'dtype=object' when creating the ndarray\n",
      "  globals()['G{}_c{}_w_layer{}'.format(global_epoch, num_c_w, layer_index)] = globals()['G{}_c{}_w_layer{}'.format(global_epoch, num_c_w, layer_index)] + np.array(globals()['L{}_layer{}_w_c'.format(i,layer_index)])   # 일반 클러스터링\n",
      "<ipython-input-8-89081ed6d7fc>:119: VisibleDeprecationWarning: Creating an ndarray from ragged nested sequences (which is a list-or-tuple of lists-or-tuples-or ndarrays with different lengths or shapes) is deprecated. If you meant to do this, you must specify 'dtype=object' when creating the ndarray\n",
      "  globals()['G{}_c{}_w_layer{}'.format(global_epoch, num_c_w, layer_index)] = globals()['G{}_c{}_w_layer{}'.format(global_epoch, num_c_w, layer_index)] + np.array(globals()['L{}_layer{}_w_c'.format(i,layer_index)])   # 일반 클러스터링\n",
      "<ipython-input-8-89081ed6d7fc>:119: VisibleDeprecationWarning: Creating an ndarray from ragged nested sequences (which is a list-or-tuple of lists-or-tuples-or ndarrays with different lengths or shapes) is deprecated. If you meant to do this, you must specify 'dtype=object' when creating the ndarray\n",
      "  globals()['G{}_c{}_w_layer{}'.format(global_epoch, num_c_w, layer_index)] = globals()['G{}_c{}_w_layer{}'.format(global_epoch, num_c_w, layer_index)] + np.array(globals()['L{}_layer{}_w_c'.format(i,layer_index)])   # 일반 클러스터링\n",
      "<ipython-input-8-89081ed6d7fc>:119: VisibleDeprecationWarning: Creating an ndarray from ragged nested sequences (which is a list-or-tuple of lists-or-tuples-or ndarrays with different lengths or shapes) is deprecated. If you meant to do this, you must specify 'dtype=object' when creating the ndarray\n",
      "  globals()['G{}_c{}_w_layer{}'.format(global_epoch, num_c_w, layer_index)] = globals()['G{}_c{}_w_layer{}'.format(global_epoch, num_c_w, layer_index)] + np.array(globals()['L{}_layer{}_w_c'.format(i,layer_index)])   # 일반 클러스터링\n",
      "<ipython-input-8-89081ed6d7fc>:119: VisibleDeprecationWarning: Creating an ndarray from ragged nested sequences (which is a list-or-tuple of lists-or-tuples-or ndarrays with different lengths or shapes) is deprecated. If you meant to do this, you must specify 'dtype=object' when creating the ndarray\n",
      "  globals()['G{}_c{}_w_layer{}'.format(global_epoch, num_c_w, layer_index)] = globals()['G{}_c{}_w_layer{}'.format(global_epoch, num_c_w, layer_index)] + np.array(globals()['L{}_layer{}_w_c'.format(i,layer_index)])   # 일반 클러스터링\n"
     ]
    },
    {
     "name": "stdout",
     "output_type": "stream",
     "text": [
      "\n",
      "\n",
      "====================================================== One Global Epoch =====================================================================\n",
      "\n",
      "\n",
      "13  번째 global_epoch 데이터 랜덤하게 준비!!\n",
      "13  번째 global_epoch 데이터 랜덤 준비완료!!\n",
      "\n",
      "\n",
      "13  번째 global epoch에서 로컬 클라이언트 들 학습시작!\n",
      "\n",
      "학습 중 ...\n",
      "\n",
      "35/35 - 0s - loss: 0.3329 - accuracy: 0.8749\n",
      "35/35 - 0s - loss: 0.3343 - accuracy: 0.8731\n",
      "35/35 - 0s - loss: 0.2943 - accuracy: 0.8893\n",
      "35/35 - 0s - loss: 0.3815 - accuracy: 0.8695\n",
      "35/35 - 0s - loss: 0.3637 - accuracy: 0.8740\n",
      "35/35 - 0s - loss: 0.3456 - accuracy: 0.8920\n",
      "35/35 - 0s - loss: 0.3256 - accuracy: 0.8794\n",
      "35/35 - 0s - loss: 0.3106 - accuracy: 0.8749\n",
      "35/35 - 0s - loss: 0.3617 - accuracy: 0.8875\n",
      "------------    13  번째 global epoch < Clustering > 로컬 클라이언트 학습 완료!,  Total Training time :  65.22903227806091 ---------------------------\n",
      "\n",
      "\n"
     ]
    },
    {
     "name": "stderr",
     "output_type": "stream",
     "text": [
      "<ipython-input-8-89081ed6d7fc>:119: VisibleDeprecationWarning: Creating an ndarray from ragged nested sequences (which is a list-or-tuple of lists-or-tuples-or ndarrays with different lengths or shapes) is deprecated. If you meant to do this, you must specify 'dtype=object' when creating the ndarray\n",
      "  globals()['G{}_c{}_w_layer{}'.format(global_epoch, num_c_w, layer_index)] = globals()['G{}_c{}_w_layer{}'.format(global_epoch, num_c_w, layer_index)] + np.array(globals()['L{}_layer{}_w_c'.format(i,layer_index)])   # 일반 클러스터링\n",
      "<ipython-input-8-89081ed6d7fc>:119: VisibleDeprecationWarning: Creating an ndarray from ragged nested sequences (which is a list-or-tuple of lists-or-tuples-or ndarrays with different lengths or shapes) is deprecated. If you meant to do this, you must specify 'dtype=object' when creating the ndarray\n",
      "  globals()['G{}_c{}_w_layer{}'.format(global_epoch, num_c_w, layer_index)] = globals()['G{}_c{}_w_layer{}'.format(global_epoch, num_c_w, layer_index)] + np.array(globals()['L{}_layer{}_w_c'.format(i,layer_index)])   # 일반 클러스터링\n",
      "<ipython-input-8-89081ed6d7fc>:119: VisibleDeprecationWarning: Creating an ndarray from ragged nested sequences (which is a list-or-tuple of lists-or-tuples-or ndarrays with different lengths or shapes) is deprecated. If you meant to do this, you must specify 'dtype=object' when creating the ndarray\n",
      "  globals()['G{}_c{}_w_layer{}'.format(global_epoch, num_c_w, layer_index)] = globals()['G{}_c{}_w_layer{}'.format(global_epoch, num_c_w, layer_index)] + np.array(globals()['L{}_layer{}_w_c'.format(i,layer_index)])   # 일반 클러스터링\n",
      "<ipython-input-8-89081ed6d7fc>:119: VisibleDeprecationWarning: Creating an ndarray from ragged nested sequences (which is a list-or-tuple of lists-or-tuples-or ndarrays with different lengths or shapes) is deprecated. If you meant to do this, you must specify 'dtype=object' when creating the ndarray\n",
      "  globals()['G{}_c{}_w_layer{}'.format(global_epoch, num_c_w, layer_index)] = globals()['G{}_c{}_w_layer{}'.format(global_epoch, num_c_w, layer_index)] + np.array(globals()['L{}_layer{}_w_c'.format(i,layer_index)])   # 일반 클러스터링\n",
      "<ipython-input-8-89081ed6d7fc>:119: VisibleDeprecationWarning: Creating an ndarray from ragged nested sequences (which is a list-or-tuple of lists-or-tuples-or ndarrays with different lengths or shapes) is deprecated. If you meant to do this, you must specify 'dtype=object' when creating the ndarray\n",
      "  globals()['G{}_c{}_w_layer{}'.format(global_epoch, num_c_w, layer_index)] = globals()['G{}_c{}_w_layer{}'.format(global_epoch, num_c_w, layer_index)] + np.array(globals()['L{}_layer{}_w_c'.format(i,layer_index)])   # 일반 클러스터링\n"
     ]
    },
    {
     "name": "stdout",
     "output_type": "stream",
     "text": [
      "\n",
      "\n",
      "====================================================== One Global Epoch =====================================================================\n",
      "\n",
      "\n",
      "14  번째 global_epoch 데이터 랜덤하게 준비!!\n",
      "14  번째 global_epoch 데이터 랜덤 준비완료!!\n",
      "\n",
      "\n",
      "14  번째 global epoch에서 로컬 클라이언트 들 학습시작!\n",
      "\n",
      "학습 중 ...\n",
      "\n",
      "35/35 - 0s - loss: 0.3144 - accuracy: 0.8875\n",
      "35/35 - 0s - loss: 0.3316 - accuracy: 0.8992\n",
      "35/35 - 0s - loss: 0.3717 - accuracy: 0.8785\n",
      "35/35 - 0s - loss: 0.3744 - accuracy: 0.8686\n",
      "35/35 - 0s - loss: 0.3408 - accuracy: 0.8857\n",
      "35/35 - 0s - loss: 0.3127 - accuracy: 0.8911\n",
      "35/35 - 0s - loss: 0.3863 - accuracy: 0.8731\n",
      "35/35 - 0s - loss: 0.3149 - accuracy: 0.8893\n",
      "35/35 - 0s - loss: 0.3032 - accuracy: 0.8911\n",
      "------------    14  번째 global epoch < Clustering > 로컬 클라이언트 학습 완료!,  Total Training time :  66.3699631690979 ---------------------------\n",
      "\n",
      "\n"
     ]
    },
    {
     "name": "stderr",
     "output_type": "stream",
     "text": [
      "<ipython-input-8-89081ed6d7fc>:119: VisibleDeprecationWarning: Creating an ndarray from ragged nested sequences (which is a list-or-tuple of lists-or-tuples-or ndarrays with different lengths or shapes) is deprecated. If you meant to do this, you must specify 'dtype=object' when creating the ndarray\n",
      "  globals()['G{}_c{}_w_layer{}'.format(global_epoch, num_c_w, layer_index)] = globals()['G{}_c{}_w_layer{}'.format(global_epoch, num_c_w, layer_index)] + np.array(globals()['L{}_layer{}_w_c'.format(i,layer_index)])   # 일반 클러스터링\n",
      "<ipython-input-8-89081ed6d7fc>:119: VisibleDeprecationWarning: Creating an ndarray from ragged nested sequences (which is a list-or-tuple of lists-or-tuples-or ndarrays with different lengths or shapes) is deprecated. If you meant to do this, you must specify 'dtype=object' when creating the ndarray\n",
      "  globals()['G{}_c{}_w_layer{}'.format(global_epoch, num_c_w, layer_index)] = globals()['G{}_c{}_w_layer{}'.format(global_epoch, num_c_w, layer_index)] + np.array(globals()['L{}_layer{}_w_c'.format(i,layer_index)])   # 일반 클러스터링\n",
      "<ipython-input-8-89081ed6d7fc>:119: VisibleDeprecationWarning: Creating an ndarray from ragged nested sequences (which is a list-or-tuple of lists-or-tuples-or ndarrays with different lengths or shapes) is deprecated. If you meant to do this, you must specify 'dtype=object' when creating the ndarray\n",
      "  globals()['G{}_c{}_w_layer{}'.format(global_epoch, num_c_w, layer_index)] = globals()['G{}_c{}_w_layer{}'.format(global_epoch, num_c_w, layer_index)] + np.array(globals()['L{}_layer{}_w_c'.format(i,layer_index)])   # 일반 클러스터링\n",
      "<ipython-input-8-89081ed6d7fc>:119: VisibleDeprecationWarning: Creating an ndarray from ragged nested sequences (which is a list-or-tuple of lists-or-tuples-or ndarrays with different lengths or shapes) is deprecated. If you meant to do this, you must specify 'dtype=object' when creating the ndarray\n",
      "  globals()['G{}_c{}_w_layer{}'.format(global_epoch, num_c_w, layer_index)] = globals()['G{}_c{}_w_layer{}'.format(global_epoch, num_c_w, layer_index)] + np.array(globals()['L{}_layer{}_w_c'.format(i,layer_index)])   # 일반 클러스터링\n",
      "<ipython-input-8-89081ed6d7fc>:119: VisibleDeprecationWarning: Creating an ndarray from ragged nested sequences (which is a list-or-tuple of lists-or-tuples-or ndarrays with different lengths or shapes) is deprecated. If you meant to do this, you must specify 'dtype=object' when creating the ndarray\n",
      "  globals()['G{}_c{}_w_layer{}'.format(global_epoch, num_c_w, layer_index)] = globals()['G{}_c{}_w_layer{}'.format(global_epoch, num_c_w, layer_index)] + np.array(globals()['L{}_layer{}_w_c'.format(i,layer_index)])   # 일반 클러스터링\n"
     ]
    },
    {
     "name": "stdout",
     "output_type": "stream",
     "text": [
      "\n",
      "\n",
      "====================================================== One Global Epoch =====================================================================\n",
      "\n",
      "\n",
      "15  번째 global_epoch 데이터 랜덤하게 준비!!\n",
      "15  번째 global_epoch 데이터 랜덤 준비완료!!\n",
      "\n",
      "\n",
      "15  번째 global epoch에서 로컬 클라이언트 들 학습시작!\n",
      "\n",
      "학습 중 ...\n",
      "\n",
      "35/35 - 0s - loss: 0.3316 - accuracy: 0.8902\n",
      "35/35 - 0s - loss: 0.3251 - accuracy: 0.8839\n",
      "35/35 - 0s - loss: 0.2988 - accuracy: 0.8911\n",
      "35/35 - 0s - loss: 0.3122 - accuracy: 0.8938\n",
      "35/35 - 0s - loss: 0.3575 - accuracy: 0.8758\n",
      "35/35 - 0s - loss: 0.3416 - accuracy: 0.8794\n",
      "35/35 - 0s - loss: 0.4096 - accuracy: 0.8731\n",
      "35/35 - 0s - loss: 0.3059 - accuracy: 0.8875\n",
      "35/35 - 0s - loss: 0.3817 - accuracy: 0.8722\n",
      "------------    15  번째 global epoch < Clustering > 로컬 클라이언트 학습 완료!,  Total Training time :  68.14386081695557 ---------------------------\n",
      "\n",
      "\n"
     ]
    },
    {
     "name": "stderr",
     "output_type": "stream",
     "text": [
      "<ipython-input-8-89081ed6d7fc>:119: VisibleDeprecationWarning: Creating an ndarray from ragged nested sequences (which is a list-or-tuple of lists-or-tuples-or ndarrays with different lengths or shapes) is deprecated. If you meant to do this, you must specify 'dtype=object' when creating the ndarray\n",
      "  globals()['G{}_c{}_w_layer{}'.format(global_epoch, num_c_w, layer_index)] = globals()['G{}_c{}_w_layer{}'.format(global_epoch, num_c_w, layer_index)] + np.array(globals()['L{}_layer{}_w_c'.format(i,layer_index)])   # 일반 클러스터링\n",
      "<ipython-input-8-89081ed6d7fc>:119: VisibleDeprecationWarning: Creating an ndarray from ragged nested sequences (which is a list-or-tuple of lists-or-tuples-or ndarrays with different lengths or shapes) is deprecated. If you meant to do this, you must specify 'dtype=object' when creating the ndarray\n",
      "  globals()['G{}_c{}_w_layer{}'.format(global_epoch, num_c_w, layer_index)] = globals()['G{}_c{}_w_layer{}'.format(global_epoch, num_c_w, layer_index)] + np.array(globals()['L{}_layer{}_w_c'.format(i,layer_index)])   # 일반 클러스터링\n",
      "<ipython-input-8-89081ed6d7fc>:119: VisibleDeprecationWarning: Creating an ndarray from ragged nested sequences (which is a list-or-tuple of lists-or-tuples-or ndarrays with different lengths or shapes) is deprecated. If you meant to do this, you must specify 'dtype=object' when creating the ndarray\n",
      "  globals()['G{}_c{}_w_layer{}'.format(global_epoch, num_c_w, layer_index)] = globals()['G{}_c{}_w_layer{}'.format(global_epoch, num_c_w, layer_index)] + np.array(globals()['L{}_layer{}_w_c'.format(i,layer_index)])   # 일반 클러스터링\n",
      "<ipython-input-8-89081ed6d7fc>:119: VisibleDeprecationWarning: Creating an ndarray from ragged nested sequences (which is a list-or-tuple of lists-or-tuples-or ndarrays with different lengths or shapes) is deprecated. If you meant to do this, you must specify 'dtype=object' when creating the ndarray\n",
      "  globals()['G{}_c{}_w_layer{}'.format(global_epoch, num_c_w, layer_index)] = globals()['G{}_c{}_w_layer{}'.format(global_epoch, num_c_w, layer_index)] + np.array(globals()['L{}_layer{}_w_c'.format(i,layer_index)])   # 일반 클러스터링\n",
      "<ipython-input-8-89081ed6d7fc>:119: VisibleDeprecationWarning: Creating an ndarray from ragged nested sequences (which is a list-or-tuple of lists-or-tuples-or ndarrays with different lengths or shapes) is deprecated. If you meant to do this, you must specify 'dtype=object' when creating the ndarray\n",
      "  globals()['G{}_c{}_w_layer{}'.format(global_epoch, num_c_w, layer_index)] = globals()['G{}_c{}_w_layer{}'.format(global_epoch, num_c_w, layer_index)] + np.array(globals()['L{}_layer{}_w_c'.format(i,layer_index)])   # 일반 클러스터링\n"
     ]
    },
    {
     "name": "stdout",
     "output_type": "stream",
     "text": [
      "\n",
      "\n",
      "====================================================== One Global Epoch =====================================================================\n",
      "\n",
      "\n",
      "16  번째 global_epoch 데이터 랜덤하게 준비!!\n",
      "16  번째 global_epoch 데이터 랜덤 준비완료!!\n",
      "\n",
      "\n",
      "16  번째 global epoch에서 로컬 클라이언트 들 학습시작!\n",
      "\n",
      "학습 중 ...\n",
      "\n",
      "35/35 - 0s - loss: 0.3469 - accuracy: 0.8740\n",
      "35/35 - 0s - loss: 0.3875 - accuracy: 0.8731\n",
      "35/35 - 0s - loss: 0.3221 - accuracy: 0.8803\n",
      "35/35 - 0s - loss: 0.3382 - accuracy: 0.8767\n",
      "35/35 - 0s - loss: 0.3102 - accuracy: 0.8983\n",
      "35/35 - 0s - loss: 0.3453 - accuracy: 0.8821\n",
      "35/35 - 0s - loss: 0.3270 - accuracy: 0.8848\n",
      "35/35 - 0s - loss: 0.3314 - accuracy: 0.9010\n",
      "35/35 - 0s - loss: 0.3191 - accuracy: 0.8929\n",
      "------------    16  번째 global epoch < Clustering > 로컬 클라이언트 학습 완료!,  Total Training time :  68.01843333244324 ---------------------------\n",
      "\n",
      "\n"
     ]
    },
    {
     "name": "stderr",
     "output_type": "stream",
     "text": [
      "<ipython-input-8-89081ed6d7fc>:119: VisibleDeprecationWarning: Creating an ndarray from ragged nested sequences (which is a list-or-tuple of lists-or-tuples-or ndarrays with different lengths or shapes) is deprecated. If you meant to do this, you must specify 'dtype=object' when creating the ndarray\n",
      "  globals()['G{}_c{}_w_layer{}'.format(global_epoch, num_c_w, layer_index)] = globals()['G{}_c{}_w_layer{}'.format(global_epoch, num_c_w, layer_index)] + np.array(globals()['L{}_layer{}_w_c'.format(i,layer_index)])   # 일반 클러스터링\n",
      "<ipython-input-8-89081ed6d7fc>:119: VisibleDeprecationWarning: Creating an ndarray from ragged nested sequences (which is a list-or-tuple of lists-or-tuples-or ndarrays with different lengths or shapes) is deprecated. If you meant to do this, you must specify 'dtype=object' when creating the ndarray\n",
      "  globals()['G{}_c{}_w_layer{}'.format(global_epoch, num_c_w, layer_index)] = globals()['G{}_c{}_w_layer{}'.format(global_epoch, num_c_w, layer_index)] + np.array(globals()['L{}_layer{}_w_c'.format(i,layer_index)])   # 일반 클러스터링\n",
      "<ipython-input-8-89081ed6d7fc>:119: VisibleDeprecationWarning: Creating an ndarray from ragged nested sequences (which is a list-or-tuple of lists-or-tuples-or ndarrays with different lengths or shapes) is deprecated. If you meant to do this, you must specify 'dtype=object' when creating the ndarray\n",
      "  globals()['G{}_c{}_w_layer{}'.format(global_epoch, num_c_w, layer_index)] = globals()['G{}_c{}_w_layer{}'.format(global_epoch, num_c_w, layer_index)] + np.array(globals()['L{}_layer{}_w_c'.format(i,layer_index)])   # 일반 클러스터링\n",
      "<ipython-input-8-89081ed6d7fc>:119: VisibleDeprecationWarning: Creating an ndarray from ragged nested sequences (which is a list-or-tuple of lists-or-tuples-or ndarrays with different lengths or shapes) is deprecated. If you meant to do this, you must specify 'dtype=object' when creating the ndarray\n",
      "  globals()['G{}_c{}_w_layer{}'.format(global_epoch, num_c_w, layer_index)] = globals()['G{}_c{}_w_layer{}'.format(global_epoch, num_c_w, layer_index)] + np.array(globals()['L{}_layer{}_w_c'.format(i,layer_index)])   # 일반 클러스터링\n",
      "<ipython-input-8-89081ed6d7fc>:119: VisibleDeprecationWarning: Creating an ndarray from ragged nested sequences (which is a list-or-tuple of lists-or-tuples-or ndarrays with different lengths or shapes) is deprecated. If you meant to do this, you must specify 'dtype=object' when creating the ndarray\n",
      "  globals()['G{}_c{}_w_layer{}'.format(global_epoch, num_c_w, layer_index)] = globals()['G{}_c{}_w_layer{}'.format(global_epoch, num_c_w, layer_index)] + np.array(globals()['L{}_layer{}_w_c'.format(i,layer_index)])   # 일반 클러스터링\n"
     ]
    },
    {
     "name": "stdout",
     "output_type": "stream",
     "text": [
      "\n",
      "\n",
      "====================================================== One Global Epoch =====================================================================\n",
      "\n",
      "\n",
      "17  번째 global_epoch 데이터 랜덤하게 준비!!\n",
      "17  번째 global_epoch 데이터 랜덤 준비완료!!\n",
      "\n",
      "\n",
      "17  번째 global epoch에서 로컬 클라이언트 들 학습시작!\n",
      "\n",
      "학습 중 ...\n",
      "\n",
      "35/35 - 0s - loss: 0.3239 - accuracy: 0.8911\n",
      "35/35 - 0s - loss: 0.3500 - accuracy: 0.8992\n",
      "35/35 - 0s - loss: 0.2933 - accuracy: 0.8938\n",
      "35/35 - 0s - loss: 0.3370 - accuracy: 0.8920\n",
      "35/35 - 0s - loss: 0.3200 - accuracy: 0.8902\n",
      "35/35 - 0s - loss: 0.3248 - accuracy: 0.8839\n",
      "35/35 - 0s - loss: 0.3345 - accuracy: 0.8875\n",
      "35/35 - 0s - loss: 0.2754 - accuracy: 0.9046\n",
      "35/35 - 0s - loss: 0.3026 - accuracy: 0.8947\n",
      "------------    17  번째 global epoch < Clustering > 로컬 클라이언트 학습 완료!,  Total Training time :  68.39421820640564 ---------------------------\n",
      "\n",
      "\n"
     ]
    },
    {
     "name": "stderr",
     "output_type": "stream",
     "text": [
      "<ipython-input-8-89081ed6d7fc>:119: VisibleDeprecationWarning: Creating an ndarray from ragged nested sequences (which is a list-or-tuple of lists-or-tuples-or ndarrays with different lengths or shapes) is deprecated. If you meant to do this, you must specify 'dtype=object' when creating the ndarray\n",
      "  globals()['G{}_c{}_w_layer{}'.format(global_epoch, num_c_w, layer_index)] = globals()['G{}_c{}_w_layer{}'.format(global_epoch, num_c_w, layer_index)] + np.array(globals()['L{}_layer{}_w_c'.format(i,layer_index)])   # 일반 클러스터링\n",
      "<ipython-input-8-89081ed6d7fc>:119: VisibleDeprecationWarning: Creating an ndarray from ragged nested sequences (which is a list-or-tuple of lists-or-tuples-or ndarrays with different lengths or shapes) is deprecated. If you meant to do this, you must specify 'dtype=object' when creating the ndarray\n",
      "  globals()['G{}_c{}_w_layer{}'.format(global_epoch, num_c_w, layer_index)] = globals()['G{}_c{}_w_layer{}'.format(global_epoch, num_c_w, layer_index)] + np.array(globals()['L{}_layer{}_w_c'.format(i,layer_index)])   # 일반 클러스터링\n",
      "<ipython-input-8-89081ed6d7fc>:119: VisibleDeprecationWarning: Creating an ndarray from ragged nested sequences (which is a list-or-tuple of lists-or-tuples-or ndarrays with different lengths or shapes) is deprecated. If you meant to do this, you must specify 'dtype=object' when creating the ndarray\n",
      "  globals()['G{}_c{}_w_layer{}'.format(global_epoch, num_c_w, layer_index)] = globals()['G{}_c{}_w_layer{}'.format(global_epoch, num_c_w, layer_index)] + np.array(globals()['L{}_layer{}_w_c'.format(i,layer_index)])   # 일반 클러스터링\n",
      "<ipython-input-8-89081ed6d7fc>:119: VisibleDeprecationWarning: Creating an ndarray from ragged nested sequences (which is a list-or-tuple of lists-or-tuples-or ndarrays with different lengths or shapes) is deprecated. If you meant to do this, you must specify 'dtype=object' when creating the ndarray\n",
      "  globals()['G{}_c{}_w_layer{}'.format(global_epoch, num_c_w, layer_index)] = globals()['G{}_c{}_w_layer{}'.format(global_epoch, num_c_w, layer_index)] + np.array(globals()['L{}_layer{}_w_c'.format(i,layer_index)])   # 일반 클러스터링\n",
      "<ipython-input-8-89081ed6d7fc>:119: VisibleDeprecationWarning: Creating an ndarray from ragged nested sequences (which is a list-or-tuple of lists-or-tuples-or ndarrays with different lengths or shapes) is deprecated. If you meant to do this, you must specify 'dtype=object' when creating the ndarray\n",
      "  globals()['G{}_c{}_w_layer{}'.format(global_epoch, num_c_w, layer_index)] = globals()['G{}_c{}_w_layer{}'.format(global_epoch, num_c_w, layer_index)] + np.array(globals()['L{}_layer{}_w_c'.format(i,layer_index)])   # 일반 클러스터링\n"
     ]
    },
    {
     "name": "stdout",
     "output_type": "stream",
     "text": [
      "\n",
      "\n",
      "====================================================== One Global Epoch =====================================================================\n",
      "\n",
      "\n",
      "18  번째 global_epoch 데이터 랜덤하게 준비!!\n",
      "18  번째 global_epoch 데이터 랜덤 준비완료!!\n",
      "\n",
      "\n",
      "18  번째 global epoch에서 로컬 클라이언트 들 학습시작!\n",
      "\n",
      "학습 중 ...\n",
      "\n",
      "35/35 - 0s - loss: 0.3301 - accuracy: 0.8875\n",
      "35/35 - 0s - loss: 0.3229 - accuracy: 0.8902\n",
      "35/35 - 0s - loss: 0.3676 - accuracy: 0.8857\n",
      "35/35 - 0s - loss: 0.3576 - accuracy: 0.8785\n",
      "35/35 - 0s - loss: 0.3482 - accuracy: 0.8749\n",
      "35/35 - 0s - loss: 0.3286 - accuracy: 0.8911\n",
      "35/35 - 0s - loss: 0.3330 - accuracy: 0.8821\n",
      "35/35 - 0s - loss: 0.2888 - accuracy: 0.9136\n",
      "35/35 - 0s - loss: 0.3781 - accuracy: 0.8767\n",
      "------------    18  번째 global epoch < Clustering > 로컬 클라이언트 학습 완료!,  Total Training time :  69.12296915054321 ---------------------------\n",
      "\n",
      "\n"
     ]
    },
    {
     "name": "stderr",
     "output_type": "stream",
     "text": [
      "<ipython-input-8-89081ed6d7fc>:119: VisibleDeprecationWarning: Creating an ndarray from ragged nested sequences (which is a list-or-tuple of lists-or-tuples-or ndarrays with different lengths or shapes) is deprecated. If you meant to do this, you must specify 'dtype=object' when creating the ndarray\n",
      "  globals()['G{}_c{}_w_layer{}'.format(global_epoch, num_c_w, layer_index)] = globals()['G{}_c{}_w_layer{}'.format(global_epoch, num_c_w, layer_index)] + np.array(globals()['L{}_layer{}_w_c'.format(i,layer_index)])   # 일반 클러스터링\n",
      "<ipython-input-8-89081ed6d7fc>:119: VisibleDeprecationWarning: Creating an ndarray from ragged nested sequences (which is a list-or-tuple of lists-or-tuples-or ndarrays with different lengths or shapes) is deprecated. If you meant to do this, you must specify 'dtype=object' when creating the ndarray\n",
      "  globals()['G{}_c{}_w_layer{}'.format(global_epoch, num_c_w, layer_index)] = globals()['G{}_c{}_w_layer{}'.format(global_epoch, num_c_w, layer_index)] + np.array(globals()['L{}_layer{}_w_c'.format(i,layer_index)])   # 일반 클러스터링\n",
      "<ipython-input-8-89081ed6d7fc>:119: VisibleDeprecationWarning: Creating an ndarray from ragged nested sequences (which is a list-or-tuple of lists-or-tuples-or ndarrays with different lengths or shapes) is deprecated. If you meant to do this, you must specify 'dtype=object' when creating the ndarray\n",
      "  globals()['G{}_c{}_w_layer{}'.format(global_epoch, num_c_w, layer_index)] = globals()['G{}_c{}_w_layer{}'.format(global_epoch, num_c_w, layer_index)] + np.array(globals()['L{}_layer{}_w_c'.format(i,layer_index)])   # 일반 클러스터링\n",
      "<ipython-input-8-89081ed6d7fc>:119: VisibleDeprecationWarning: Creating an ndarray from ragged nested sequences (which is a list-or-tuple of lists-or-tuples-or ndarrays with different lengths or shapes) is deprecated. If you meant to do this, you must specify 'dtype=object' when creating the ndarray\n",
      "  globals()['G{}_c{}_w_layer{}'.format(global_epoch, num_c_w, layer_index)] = globals()['G{}_c{}_w_layer{}'.format(global_epoch, num_c_w, layer_index)] + np.array(globals()['L{}_layer{}_w_c'.format(i,layer_index)])   # 일반 클러스터링\n",
      "<ipython-input-8-89081ed6d7fc>:119: VisibleDeprecationWarning: Creating an ndarray from ragged nested sequences (which is a list-or-tuple of lists-or-tuples-or ndarrays with different lengths or shapes) is deprecated. If you meant to do this, you must specify 'dtype=object' when creating the ndarray\n",
      "  globals()['G{}_c{}_w_layer{}'.format(global_epoch, num_c_w, layer_index)] = globals()['G{}_c{}_w_layer{}'.format(global_epoch, num_c_w, layer_index)] + np.array(globals()['L{}_layer{}_w_c'.format(i,layer_index)])   # 일반 클러스터링\n"
     ]
    },
    {
     "name": "stdout",
     "output_type": "stream",
     "text": [
      "\n",
      "\n",
      "====================================================== One Global Epoch =====================================================================\n",
      "\n",
      "\n",
      "19  번째 global_epoch 데이터 랜덤하게 준비!!\n",
      "19  번째 global_epoch 데이터 랜덤 준비완료!!\n",
      "\n",
      "\n",
      "19  번째 global epoch에서 로컬 클라이언트 들 학습시작!\n",
      "\n",
      "학습 중 ...\n",
      "\n",
      "35/35 - 0s - loss: 0.2885 - accuracy: 0.8920\n",
      "35/35 - 0s - loss: 0.3161 - accuracy: 0.8902\n",
      "35/35 - 0s - loss: 0.3496 - accuracy: 0.8911\n",
      "35/35 - 0s - loss: 0.3324 - accuracy: 0.8812\n",
      "35/35 - 0s - loss: 0.2876 - accuracy: 0.9037\n",
      "35/35 - 0s - loss: 0.3539 - accuracy: 0.8920\n",
      "35/35 - 0s - loss: 0.3116 - accuracy: 0.8875\n",
      "35/35 - 0s - loss: 0.3041 - accuracy: 0.9019\n",
      "35/35 - 0s - loss: 0.3604 - accuracy: 0.8884\n",
      "------------    19  번째 global epoch < Clustering > 로컬 클라이언트 학습 완료!,  Total Training time :  70.32592153549194 ---------------------------\n",
      "\n",
      "\n"
     ]
    },
    {
     "name": "stderr",
     "output_type": "stream",
     "text": [
      "<ipython-input-8-89081ed6d7fc>:119: VisibleDeprecationWarning: Creating an ndarray from ragged nested sequences (which is a list-or-tuple of lists-or-tuples-or ndarrays with different lengths or shapes) is deprecated. If you meant to do this, you must specify 'dtype=object' when creating the ndarray\n",
      "  globals()['G{}_c{}_w_layer{}'.format(global_epoch, num_c_w, layer_index)] = globals()['G{}_c{}_w_layer{}'.format(global_epoch, num_c_w, layer_index)] + np.array(globals()['L{}_layer{}_w_c'.format(i,layer_index)])   # 일반 클러스터링\n",
      "<ipython-input-8-89081ed6d7fc>:119: VisibleDeprecationWarning: Creating an ndarray from ragged nested sequences (which is a list-or-tuple of lists-or-tuples-or ndarrays with different lengths or shapes) is deprecated. If you meant to do this, you must specify 'dtype=object' when creating the ndarray\n",
      "  globals()['G{}_c{}_w_layer{}'.format(global_epoch, num_c_w, layer_index)] = globals()['G{}_c{}_w_layer{}'.format(global_epoch, num_c_w, layer_index)] + np.array(globals()['L{}_layer{}_w_c'.format(i,layer_index)])   # 일반 클러스터링\n",
      "<ipython-input-8-89081ed6d7fc>:119: VisibleDeprecationWarning: Creating an ndarray from ragged nested sequences (which is a list-or-tuple of lists-or-tuples-or ndarrays with different lengths or shapes) is deprecated. If you meant to do this, you must specify 'dtype=object' when creating the ndarray\n",
      "  globals()['G{}_c{}_w_layer{}'.format(global_epoch, num_c_w, layer_index)] = globals()['G{}_c{}_w_layer{}'.format(global_epoch, num_c_w, layer_index)] + np.array(globals()['L{}_layer{}_w_c'.format(i,layer_index)])   # 일반 클러스터링\n",
      "<ipython-input-8-89081ed6d7fc>:119: VisibleDeprecationWarning: Creating an ndarray from ragged nested sequences (which is a list-or-tuple of lists-or-tuples-or ndarrays with different lengths or shapes) is deprecated. If you meant to do this, you must specify 'dtype=object' when creating the ndarray\n",
      "  globals()['G{}_c{}_w_layer{}'.format(global_epoch, num_c_w, layer_index)] = globals()['G{}_c{}_w_layer{}'.format(global_epoch, num_c_w, layer_index)] + np.array(globals()['L{}_layer{}_w_c'.format(i,layer_index)])   # 일반 클러스터링\n",
      "<ipython-input-8-89081ed6d7fc>:119: VisibleDeprecationWarning: Creating an ndarray from ragged nested sequences (which is a list-or-tuple of lists-or-tuples-or ndarrays with different lengths or shapes) is deprecated. If you meant to do this, you must specify 'dtype=object' when creating the ndarray\n",
      "  globals()['G{}_c{}_w_layer{}'.format(global_epoch, num_c_w, layer_index)] = globals()['G{}_c{}_w_layer{}'.format(global_epoch, num_c_w, layer_index)] + np.array(globals()['L{}_layer{}_w_c'.format(i,layer_index)])   # 일반 클러스터링\n"
     ]
    },
    {
     "name": "stdout",
     "output_type": "stream",
     "text": [
      "\n",
      "\n",
      "====================================================== One Global Epoch =====================================================================\n",
      "\n",
      "\n",
      "20  번째 global_epoch 데이터 랜덤하게 준비!!\n",
      "20  번째 global_epoch 데이터 랜덤 준비완료!!\n",
      "\n",
      "\n",
      "20  번째 global epoch에서 로컬 클라이언트 들 학습시작!\n",
      "\n",
      "학습 중 ...\n",
      "\n",
      "35/35 - 0s - loss: 0.3257 - accuracy: 0.8920\n",
      "35/35 - 0s - loss: 0.3660 - accuracy: 0.8848\n",
      "35/35 - 0s - loss: 0.3706 - accuracy: 0.8929\n",
      "35/35 - 0s - loss: 0.3296 - accuracy: 0.8938\n",
      "35/35 - 0s - loss: 0.2950 - accuracy: 0.9019\n",
      "35/35 - 0s - loss: 0.4099 - accuracy: 0.8821\n",
      "35/35 - 0s - loss: 0.3833 - accuracy: 0.8830\n",
      "35/35 - 0s - loss: 0.3200 - accuracy: 0.8992\n",
      "35/35 - 0s - loss: 0.3193 - accuracy: 0.8929\n",
      "------------    20  번째 global epoch < Clustering > 로컬 클라이언트 학습 완료!,  Total Training time :  69.89035868644714 ---------------------------\n",
      "\n",
      "\n"
     ]
    },
    {
     "name": "stderr",
     "output_type": "stream",
     "text": [
      "<ipython-input-8-89081ed6d7fc>:119: VisibleDeprecationWarning: Creating an ndarray from ragged nested sequences (which is a list-or-tuple of lists-or-tuples-or ndarrays with different lengths or shapes) is deprecated. If you meant to do this, you must specify 'dtype=object' when creating the ndarray\n",
      "  globals()['G{}_c{}_w_layer{}'.format(global_epoch, num_c_w, layer_index)] = globals()['G{}_c{}_w_layer{}'.format(global_epoch, num_c_w, layer_index)] + np.array(globals()['L{}_layer{}_w_c'.format(i,layer_index)])   # 일반 클러스터링\n",
      "<ipython-input-8-89081ed6d7fc>:119: VisibleDeprecationWarning: Creating an ndarray from ragged nested sequences (which is a list-or-tuple of lists-or-tuples-or ndarrays with different lengths or shapes) is deprecated. If you meant to do this, you must specify 'dtype=object' when creating the ndarray\n",
      "  globals()['G{}_c{}_w_layer{}'.format(global_epoch, num_c_w, layer_index)] = globals()['G{}_c{}_w_layer{}'.format(global_epoch, num_c_w, layer_index)] + np.array(globals()['L{}_layer{}_w_c'.format(i,layer_index)])   # 일반 클러스터링\n",
      "<ipython-input-8-89081ed6d7fc>:119: VisibleDeprecationWarning: Creating an ndarray from ragged nested sequences (which is a list-or-tuple of lists-or-tuples-or ndarrays with different lengths or shapes) is deprecated. If you meant to do this, you must specify 'dtype=object' when creating the ndarray\n",
      "  globals()['G{}_c{}_w_layer{}'.format(global_epoch, num_c_w, layer_index)] = globals()['G{}_c{}_w_layer{}'.format(global_epoch, num_c_w, layer_index)] + np.array(globals()['L{}_layer{}_w_c'.format(i,layer_index)])   # 일반 클러스터링\n"
     ]
    },
    {
     "name": "stdout",
     "output_type": "stream",
     "text": [
      "\n",
      "\n",
      "====================================================== One Global Epoch =====================================================================\n",
      "\n",
      "\n"
     ]
    },
    {
     "name": "stderr",
     "output_type": "stream",
     "text": [
      "<ipython-input-8-89081ed6d7fc>:119: VisibleDeprecationWarning: Creating an ndarray from ragged nested sequences (which is a list-or-tuple of lists-or-tuples-or ndarrays with different lengths or shapes) is deprecated. If you meant to do this, you must specify 'dtype=object' when creating the ndarray\n",
      "  globals()['G{}_c{}_w_layer{}'.format(global_epoch, num_c_w, layer_index)] = globals()['G{}_c{}_w_layer{}'.format(global_epoch, num_c_w, layer_index)] + np.array(globals()['L{}_layer{}_w_c'.format(i,layer_index)])   # 일반 클러스터링\n",
      "<ipython-input-8-89081ed6d7fc>:119: VisibleDeprecationWarning: Creating an ndarray from ragged nested sequences (which is a list-or-tuple of lists-or-tuples-or ndarrays with different lengths or shapes) is deprecated. If you meant to do this, you must specify 'dtype=object' when creating the ndarray\n",
      "  globals()['G{}_c{}_w_layer{}'.format(global_epoch, num_c_w, layer_index)] = globals()['G{}_c{}_w_layer{}'.format(global_epoch, num_c_w, layer_index)] + np.array(globals()['L{}_layer{}_w_c'.format(i,layer_index)])   # 일반 클러스터링\n"
     ]
    }
   ],
   "source": [
    "G_epoch = 21\n",
    "\n",
    "for global_epoch in range(1, G_epoch):\n",
    "\n",
    "    for i in range(1, local):\n",
    "        if global_epoch == 1:\n",
    "            globals()['G{}_c_L{}_model'.format(global_epoch, i)] = globals()['FedAvg_L{}_iter{}_model'.format(i,global_epoch-1)]   #모델 넣어줌 (우리는 구조만 필요한 것)\n",
    "        else:\n",
    "            globals()['G{}_c_L{}_model'.format(global_epoch, i)] = globals()['G{}_c_L{}_model'.format(global_epoch-1, i)]   #모델 넣어줌 (우리는 구조만 필요한 것)\n",
    "\n",
    "        for layer_index in num_layers_list: \n",
    "            num_c = globals()['G{}_num_clusters_in_layer{}_w'.format(global_epoch-1, layer_index)]   \n",
    "    \n",
    "            for ccc in range(num_c):\n",
    "                if globals()['w_layer{}_label'.format(layer_index)][i-1] == ccc:    #현재 로컬 레이어의 군집 결과 == ccc\n",
    "                    globals()['G{}_c_L{}_model'.format(global_epoch, i)].layers[layer_index].set_weights(globals()['G{}_c{}_w_layer{}'.format(global_epoch-1, ccc, layer_index) ])  # 클러스터용 로컬 모델 선언\n",
    "                    \n",
    "                  \n",
    "    #----------------------------------------------------------------데이터 새로 준비----------------------------------------------------------------------------------\n",
    "    print(global_epoch, \" 번째 global_epoch 데이터 랜덤하게 준비!!\")\n",
    "\n",
    "    for i in range(1,local): #데이터 변수 선언, 빈 리스트로 초기화\n",
    "        globals()['L{}_x_train'.format(i)], globals()['L{}_x_test'.format(i)] = [], []  \n",
    "        globals()['L{}_y_train'.format(i)], globals()['L{}_y_test'.format(i)] = [], []  \n",
    "\n",
    "    x_train_range = list(np.arange(0,len(x_train)))  #0~59,999\n",
    "    x_test_range = list(np.arange(0,len(x_test)))  #0~9,999\n",
    "\n",
    "    for n in range(1,local): #Data_x_train_range, 잘 작동함 => 확인 완료\n",
    "        tmp, tmp2 = [], []\n",
    "        tmp = random.sample(list(x_train_range), int(num_train/(local-1)))  #1/10개 만큼 인덱스 랜덤 비복원 추출 => 랜덤으로 해야함\n",
    "        tmp2 = random.sample(list(x_test_range), int(num_test/(local-1)))\n",
    "\n",
    "        for i in range(len(tmp)):\n",
    "            globals()['L{}_x_train'.format(n)].append(x_train[tmp[i]])  #n번째 Cluster에 분할한 실제 x_train 데이터 저장\n",
    "            globals()['L{}_y_train'.format(n)].append(y_train[tmp[i]]) \n",
    "            #x_train_range.remove(tmp[i])  #랜덤 하게 뽑힌 원소 6000개 추출했으니 안에서 삭제 => 비복원 추출\n",
    "\n",
    "        for j in range(len(tmp2)):\n",
    "            globals()['L{}_x_test'.format(n)].append(x_test[tmp2[j]])\n",
    "            globals()['L{}_y_test'.format(n)].append(y_test[tmp2[j]])\n",
    "            #x_test_range.remove(tmp2[j])  #랜덤 하게 뽑힌 원소 6000개 추출했으니 안에서 삭제 => 비복원 추출\n",
    "\n",
    "    for i in range(1,local):\n",
    "        globals()['L{}_x_train'.format(i)] = np.array(globals()['L{}_x_train'.format(i)])\n",
    "        globals()['L{}_x_test'.format(i)] = np.array(globals()['L{}_x_test'.format(i)])\n",
    "        globals()['L{}_y_train'.format(i)] = np.array(globals()['L{}_y_train'.format(i)])\n",
    "        globals()['L{}_y_test'.format(i)] = np.array(globals()['L{}_y_test'.format(i)])\n",
    "\n",
    "\n",
    "    print(global_epoch, \" 번째 global_epoch 데이터 랜덤 준비완료!!\\n\\n\")\n",
    "\n",
    "    print(global_epoch, \" 번째 global epoch에서 로컬 클라이언트 들 학습시작!\\n\\n학습 중 ...\\n\")\n",
    "    \n",
    "\n",
    "    #-------------------------------------------------------------------여기가 핵심, 알고리즘 3개 따로 학습시켜야 함--------------------------------------------------------------------\n",
    "\n",
    "\n",
    "    #======================================================================== Cluster  ========================================================================  같이 했음. 왜냐면 cluster 하고 나서 activation 을 씌우는 거라 cluster까지는 같음\n",
    "\n",
    "    cluster_acc, cluster_loss, cluster_act_acc, cluster_act_loss, now = [], [], [], [], time.time()\n",
    "    \n",
    "    for i in range(1, local):\n",
    "        globals()['G{}_c_L{}_model'.format(global_epoch, i)].compile(loss=\"categorical_crossentropy\", optimizer=\"adam\", metrics=[\"accuracy\"])  #Cluster => 알맞는 클러스터에 넣기\n",
    "        globals()['G{}_c_L{}_model'.format(global_epoch, i)].fit(globals()['L{}_x_train'.format(i)], globals()['L{}_y_train'.format(i)], batch_size=batch_size, epochs=epochs, validation_split=0.1, verbose=0)\n",
    "        loss, acc = globals()['G{}_c_L{}_model'.format(global_epoch, i)].evaluate(globals()['L{}_x_test'.format(i)], globals()['L{}_y_test'.format(i)], verbose=2)\n",
    "        \n",
    "        cluster_acc.append(acc)  #acc 넣기\n",
    "        cluster_loss.append(loss)  #loss 넣기\n",
    "\n",
    "    print(\"------------   \", global_epoch, \" 번째 global epoch < Clustering > 로컬 클라이언트 학습 완료!,  Total Training time : \", time.time()-now,\"---------------------------\\n\\n\")\n",
    "\n",
    "\n",
    "# 로컬 모델들 학습 완료, 로컬모델에서 weight, bias 추출 -------------------------------------------------------------------------------------\n",
    "\n",
    "\n",
    "    for i in range(1, local):        \n",
    "        for layer_index in num_layers_list:\n",
    "            \n",
    "            globals()['L{}_layer{}_w_c'.format(i,layer_index)]   = globals()['G{}_c_L{}_model'.format(global_epoch, i)].layers[layer_index].get_weights() # Clustering \n",
    "            globals()['L{}_layer{}_w_c_tmp'.format(i,layer_index)]   = globals()['G{}_c_L{}_model'.format(global_epoch, i)].layers[layer_index].get_weights() # Clustering \n",
    "\n",
    "    #------------------------------------------------ 클러스터링만 한 값들 Clustering --------------------------------------------------------\n",
    "    for layer_index in num_layers_list:\n",
    "        globals()['layer{}_W_c_tmp'.format(layer_index)] = []\n",
    "\n",
    "        for i in range(1, local):\n",
    "            TMP_w = list(np.array(globals()['L{}_layer{}_w_c_tmp'.format(i,layer_index)][0]).reshape(-1))\n",
    "            TMP_b = list(np.array(globals()['L{}_layer{}_w_c_tmp'.format(i,layer_index)][1]).reshape(-1))\n",
    "            \n",
    "            TMP_w.extend(TMP_b) ##append 말고 더해야함..\n",
    "\n",
    "            TMP_w = np.array(TMP_w)\n",
    "            TMP_w = list(TMP_w.reshape(-1))\n",
    "            globals()['layer{}_W_c_tmp'.format(layer_index)].append(TMP_w)  #클러스터링 용도\n",
    "\n",
    "        #---------------------------------------------------- 실루엣 기반 클러스터링 실시 -------------------------------------------------------------\n",
    "        transformed = globals()['layer{}_W_c_tmp'.format(layer_index)]\n",
    "\n",
    "        kmeans_model_w = KMeans(n_clusters = 4)   # 0, 1은 silhouette 에 안먹힘  \n",
    "\n",
    "        globals()['w_layer{}_label'.format(layer_index)] = kmeans_model_w.fit_predict(transformed)       # 가장 적합한 클러스터로 레이어에 속한 로컬들 레이블 정의 \n",
    "        label_list.append(globals()['w_layer{}_label'.format(layer_index)])\n",
    "\n",
    "        globals()['G{}_num_clusters_in_layer{}_w'.format(global_epoch, layer_index)] = 4  #나중에 몇개로 나뉘었는지 알아야 함 = num_clusters_for_w이거 그대로 하면 밑에 저게 쓸일이 많아서 global 쓰면 코딩이 너무 번잡해짐;; \n",
    "        \n",
    "\n",
    "        #----------------------------------------------- 스케일링 및 업데이트 ---------------------------------------------------------------------\n",
    "        for num_c_w in range(4): #클러스터 갯수 (num_clusters_for_w) 만큼 클러스터용 = 클러스터 갯수가 3이 나왔으면 3개를 만들어야 함\n",
    "            globals()['G{}_c{}_w_layer{}'.format(global_epoch, num_c_w, layer_index)] = 0 \n",
    "            \n",
    "            globals()['w_scaler_c{}_sum'.format(num_c_w)], globals()['int_c{}_w'.format(num_c_w)] = 0, 0 #초기화\n",
    "        \n",
    "            for i in range(1, local):\n",
    "\n",
    "                if globals()['w_layer{}_label'.format(layer_index)][i-1] == num_c_w  : # 클러스터 레이블에 맞게 (0 or 1 or 2 ..) \n",
    "                    globals()['w_scaler_c{}_sum'.format(num_c_w)] = globals()['w_scaler_c{}_sum'.format(num_c_w)] + len(globals()['L{}_x_train'.format(i)])\n",
    "\n",
    "                    globals()['G{}_c{}_w_layer{}'.format(global_epoch, num_c_w, layer_index)] = globals()['G{}_c{}_w_layer{}'.format(global_epoch, num_c_w, layer_index)] + np.array(globals()['L{}_layer{}_w_c'.format(i,layer_index)])   # 일반 클러스터링\n",
    "                  \n",
    "                    globals()['int_c{}_w'.format(num_c_w)] = globals()['int_c{}_w'.format(num_c_w)] + 1\n",
    "\n",
    "            globals()['w_scaler{}'.format(num_c_w)] = len(globals()['L{}_x_train'.format(i)]) / globals()['w_scaler_c{}_sum'.format(num_c_w)]\n",
    "            globals()['G{}_c{}_w_layer{}'.format(global_epoch, num_c_w, layer_index)] = globals()['G{}_c{}_w_layer{}'.format(global_epoch, num_c_w, layer_index)] / globals()['int_c{}_w'.format(num_c_w)] #레이어 별 클러스터 자기 갯수만큼 나눠주기=평균\n",
    "\n",
    "\n",
    "    Cluster_ACC.append(cluster_acc)\n",
    "    Cluster_LOSS.append(cluster_loss)\n",
    "\n",
    "    print(\"\\n\\n====================================================== One Global Epoch =====================================================================\\n\\n\")"
   ]
  },
  {
   "cell_type": "code",
   "execution_count": 9,
   "metadata": {
    "colab": {
     "base_uri": "https://localhost:8080/"
    },
    "executionInfo": {
     "elapsed": 23,
     "status": "ok",
     "timestamp": 1628301262719,
     "user": {
      "displayName": "이훈민",
      "photoUrl": "",
      "userId": "00157268181097362793"
     },
     "user_tz": 240
    },
    "id": "zyIlPPiUlh8v",
    "outputId": "ea566d8e-1b2d-4d5e-8e9f-a9b4327e7be6"
   },
   "outputs": [
    {
     "name": "stdout",
     "output_type": "stream",
     "text": [
      "Layer 0  ==> label 0, 1, 2 갯수 :  59 72 37\n",
      "Layer 2  ==> label 0, 1, 2 갯수 :  81 56 31\n",
      "Layer 4  ==> label 0, 1, 2 갯수 :  53 71 40\n",
      "Layer 6  ==> label 0, 1, 2 갯수 :  57 68 38\n",
      "Layer 7  ==> label 0, 1, 2 갯수 :  55 72 37\n"
     ]
    }
   ],
   "source": [
    "L0_label0, L0_label1, L0_label2 = 0, 0, 0 \n",
    "L1_label0, L1_label1, L1_label2 = 0, 0, 0 \n",
    "L2_label0, L2_label1, L2_label2 = 0, 0, 0 \n",
    "L3_label0, L3_label1, L3_label2 = 0, 0, 0 \n",
    "L4_label0, L4_label1, L4_label2 = 0, 0, 0 \n",
    "\n",
    "\n",
    "for i in range(int(len(label_list)/5)):\n",
    "    for k in range(5):\n",
    "        for j in range(len(label_list[0])):\n",
    "            if label_list[i*5 + k][j] == 0:\n",
    "                  globals()['L{}_label0'.format(k)] = globals()['L{}_label0'.format(k)] + 1 \n",
    "\n",
    "            elif label_list[i*5 + k][j] == 1:\n",
    "                globals()['L{}_label1'.format(k)] = globals()['L{}_label1'.format(k)] + 1\n",
    "\n",
    "            elif label_list[i*5 + k][j] == 2:\n",
    "                globals()['L{}_label2'.format(k)] = globals()['L{}_label2'.format(k)] + 1\n",
    "\n",
    "\n",
    "print(\"Layer 0  ==> label 0, 1, 2 갯수 : \", L0_label0, L0_label1, L0_label2)\n",
    "print(\"Layer 2  ==> label 0, 1, 2 갯수 : \", L1_label0, L1_label1, L1_label2)\n",
    "print(\"Layer 4  ==> label 0, 1, 2 갯수 : \", L2_label0, L2_label1, L2_label2)\n",
    "print(\"Layer 6  ==> label 0, 1, 2 갯수 : \", L3_label0, L3_label1, L3_label2)\n",
    "print(\"Layer 7  ==> label 0, 1, 2 갯수 : \", L4_label0, L4_label1, L4_label2)"
   ]
  },
  {
   "cell_type": "code",
   "execution_count": 10,
   "metadata": {},
   "outputs": [],
   "source": [
    "num_cluster = 4"
   ]
  },
  {
   "cell_type": "code",
   "execution_count": 11,
   "metadata": {
    "colab": {
     "base_uri": "https://localhost:8080/",
     "height": 1000
    },
    "executionInfo": {
     "elapsed": 1324,
     "status": "ok",
     "timestamp": 1628301717427,
     "user": {
      "displayName": "이훈민",
      "photoUrl": "",
      "userId": "00157268181097362793"
     },
     "user_tz": 240
    },
    "id": "b2lKZ6AZlkSb",
    "outputId": "85ef1e2c-4db1-4229-8781-7ba32c54bfb9",
    "scrolled": true
   },
   "outputs": [
    {
     "name": "stdout",
     "output_type": "stream",
     "text": [
      "Variance Accumulate Layer 0,2,4,6,7\n",
      "--------------------------------------------------------------------------------------------------\n",
      "\n",
      "\n",
      "Var Accumulate Weight\n",
      "--------------------------------------\n",
      "[0.0019298824, 0.0033399698, 0.0048693344, 0.006424841, 0.0076628807, 0.008977414, 0.00992041, 0.010987396, 0.012131206, 0.013203019, 0.0141705405, 0.014943712, 0.01571861, 0.016587099, 0.017409567, 0.018308809, 0.019046864, 0.019717852, 0.020384291, 0.020800162]\n",
      "[0.00090598274, 0.0015474088, 0.002060813, 0.0025004707, 0.0028430403, 0.0031555193, 0.0034005502, 0.0036614675, 0.0039108093, 0.0041223643, 0.0043311594, 0.0045324694, 0.0047458014, 0.004950536, 0.00514046, 0.0052921562, 0.0054797027, 0.005651054, 0.0058284868, 0.0059815533]\n",
      "[0.00043829158, 0.00059353927, 0.00073158613, 0.0008680064, 0.0009977225, 0.0011265087, 0.001257201, 0.0013769361, 0.0014987994, 0.0016225118, 0.0017485389, 0.0018663241, 0.001979154, 0.0020860007, 0.002196553, 0.0023001411, 0.0024103664, 0.002518504, 0.002625293, 0.0027279581]\n",
      "[0.0005004108, 0.0005746364, 0.0006523815, 0.0007471848, 0.0008508632, 0.0009596248, 0.0010701283, 0.0011875635, 0.0013082013, 0.0014256391, 0.0015513693, 0.0016739739, 0.001796513, 0.00191826, 0.0020456733, 0.0021743933, 0.0023055738, 0.0024323442, 0.0025523175, 0.0026812206]\n",
      "[0.0050411946, 0.0056283856, 0.0063093705, 0.007003081, 0.007767004, 0.008622455, 0.0095640775, 0.010521291, 0.0115850875, 0.012743208, 0.013906678, 0.015059424, 0.016126944, 0.017212328, 0.018304847, 0.019307856, 0.020442912, 0.021540985, 0.022619497, 0.023644162]\n",
      "\n",
      "Var Accumulate Bias\n",
      "--------------------------------------\n",
      "[6.709178e-05, 0.0002500493, 0.00045674347, 0.00061719446, 0.0007986625, 0.00095354463, 0.0010538385, 0.001218575, 0.0012576876, 0.0013793074, 0.0014691022, 0.0015401501, 0.001601702, 0.0015908277, 0.0016390826, 0.0017319989, 0.0017626188, 0.0017826739, 0.0017960363, 0.0019012085]\n",
      "[3.9546394e-05, 0.00014692698, 0.00027953484, 0.00043442525, 0.00059923274, 0.00079340907, 0.0010002233, 0.0011945125, 0.0014983926, 0.0017905068, 0.0019948508, 0.002284621, 0.002427035, 0.0026330822, 0.0029341434, 0.0031891305, 0.0033703526, 0.003697624, 0.0038061377, 0.0040974207]\n",
      "[4.8334357e-05, 0.00012805121, 0.00026254228, 0.00041616964, 0.00055439223, 0.00073439704, 0.0009500758, 0.0011445624, 0.0012918354, 0.0014212633, 0.001529684, 0.0016157005, 0.0017477588, 0.0017949844, 0.0019056988, 0.0019494186, 0.001989561, 0.0020377547, 0.00210083, 0.0021760103]\n",
      "[3.9474202e-05, 0.00013138675, 0.00024445826, 0.00039904233, 0.00056237006, 0.0006849875, 0.0008237199, 0.00095941295, 0.0010811205, 0.0012374616, 0.0013628121, 0.0014491992, 0.0015940446, 0.0016866903, 0.0018137197, 0.0019498267, 0.0020151692, 0.0021032614, 0.0022204388, 0.0022398815]\n",
      "[0.0002783478, 0.00086344534, 0.0015668111, 0.0023667435, 0.0033432287, 0.004230599, 0.005220135, 0.0061108875, 0.0068862243, 0.007885489, 0.008502207, 0.009102367, 0.009986482, 0.010648969, 0.011342929, 0.011837585, 0.0122927595, 0.012947559, 0.013742881, 0.014461172]\n",
      "\n",
      "\n",
      "Variance Change Layer 0,2,4,6,7\n",
      "--------------------------------------------------------------------------------------------------\n",
      "\n",
      "\n",
      "Var Changes Weight\n",
      "--------------------------------------\n",
      "[0.0014100873, 0.0015293646, 0.0015555066, 0.0012380397, 0.0013145334, 0.0009429958, 0.0010669865, 0.0011438094, 0.0010718135, 0.0009675212, 0.0007731719, 0.0007748967, 0.00086848997, 0.00082246773, 0.00089924224, 0.0007380545, 0.0006709881, 0.00066643953, 0.00041587092]\n",
      "[0.000641426, 0.00051340414, 0.00043965783, 0.00034256955, 0.00031247898, 0.00024503097, 0.00026091724, 0.00024934183, 0.00021155505, 0.00020879507, 0.00020131003, 0.00021333201, 0.0002047345, 0.00018992415, 0.00015169615, 0.00018754648, 0.00017135125, 0.00017743278, 0.00015306659]\n",
      "[0.00015524769, 0.00013804686, 0.00013642025, 0.00012971612, 0.0001287862, 0.00013069226, 0.00011973514, 0.000121863326, 0.00012371235, 0.00012602715, 0.00011778518, 0.00011282996, 0.00010684668, 0.00011055218, 0.000103588216, 0.000110225286, 0.000108137494, 0.00010678917, 0.00010266504]\n",
      "[7.4225594e-05, 7.774512e-05, 9.480328e-05, 0.00010367838, 0.000108761655, 0.00011050346, 0.00011743524, 0.00012063782, 0.0001174378, 0.00012573018, 0.00012260454, 0.00012253912, 0.00012174703, 0.00012741331, 0.00012871996, 0.00013118051, 0.00012677046, 0.00011997321, 0.0001289032]\n",
      "[0.00058719097, 0.00068098493, 0.0006937105, 0.00076392293, 0.00085545145, 0.0009416221, 0.00095721334, 0.0010637967, 0.0011581201, 0.0011634706, 0.0011527454, 0.0010675201, 0.0010853838, 0.0010925196, 0.0010030083, 0.0011350568, 0.0010980722, 0.0010785125, 0.0010246653]\n",
      "\n",
      "Var Changes Bias\n",
      "--------------------------------------\n",
      "[0.00018295753, 0.00020669415, 0.00016045099, 0.00018146803, 0.00015488215, 0.000100293895, 0.00016473653, 3.911252e-05, 0.000121619785, 8.979486e-05, 7.104792e-05, 6.155181e-05, -1.0874239e-05, 4.825485e-05, 9.291631e-05, 3.0619907e-05, 2.00551e-05, 1.33623835e-05, 0.00010517228]\n",
      "[0.00010738058, 0.00013260786, 0.00015489041, 0.00016480748, 0.00019417633, 0.00020681426, 0.00019428914, 0.00030388008, 0.00029211421, 0.00020434405, 0.00028977008, 0.00014241412, 0.0002060472, 0.0003010612, 0.00025498704, 0.0001812221, 0.0003272714, 0.00010851375, 0.000291283]\n",
      "[7.971685e-05, 0.00013449107, 0.00015362736, 0.00013822259, 0.0001800048, 0.00021567877, 0.00019448658, 0.00014727307, 0.00012942788, 0.00010842073, 8.601649e-05, 0.00013205828, 4.722562e-05, 0.00011071435, 4.3719774e-05, 4.014233e-05, 4.8193848e-05, 6.307522e-05, 7.5180316e-05]\n",
      "[9.191255e-05, 0.00011307151, 0.00015458406, 0.00016332773, 0.00012261746, 0.00013873237, 0.00013569306, 0.000121707504, 0.00015634112, 0.00012535055, 8.638704e-05, 0.00014484546, 9.264564e-05, 0.00012702949, 0.00013610697, 6.534252e-05, 8.809217e-05, 0.00011717738, 1.9442756e-05]\n",
      "[0.0005850975, 0.0007033658, 0.0007999324, 0.0009764852, 0.0008873702, 0.0009895363, 0.0008907523, 0.00077533675, 0.0009992644, 0.0006167181, 0.0006001601, 0.00088411476, 0.000662487, 0.0006939601, 0.00049465615, 0.0004551746, 0.00065479986, 0.00079532154, 0.0007182909]\n",
      "\n",
      "Now Check the graph\n",
      "\n"
     ]
    },
    {
     "data": {
      "image/png": "[encoded data removed]",
      "text/plain": [
       "<Figure size 360x216 with 1 Axes>"
      ]
     },
     "metadata": {
      "needs_background": "light"
     },
     "output_type": "display_data"
    },
    {
     "data": {
      "image/png": "[encoded data removed]",
      "text/plain": [
       "<Figure size 360x216 with 1 Axes>"
      ]
     },
     "metadata": {
      "needs_background": "light"
     },
     "output_type": "display_data"
    },
    {
     "data": {
      "image/png": "[encoded data removed]",
      "text/plain": [
       "<Figure size 360x216 with 1 Axes>"
      ]
     },
     "metadata": {
      "needs_background": "light"
     },
     "output_type": "display_data"
    },
    {
     "data": {
      "image/png": "[encoded data removed]",
      "text/plain": [
       "<Figure size 360x216 with 1 Axes>"
      ]
     },
     "metadata": {
      "needs_background": "light"
     },
     "output_type": "display_data"
    }
   ],
   "source": [
    "var_changes_L0_w, var_changes_L2_w, var_changes_L4_w, var_changes_L6_w, var_changes_L7_w = [], [], [], [], [] \n",
    "var_accumulate_L0_w, var_accumulate_L2_w, var_accumulate_L4_w, var_accumulate_L6_w, var_accumulate_L7_w = [], [], [], [], [] \n",
    "\n",
    "var_changes_L0_b, var_changes_L2_b, var_changes_L4_b, var_changes_L6_b, var_changes_L7_b = [], [], [], [], [] \n",
    "var_accumulate_L0_b, var_accumulate_L2_b, var_accumulate_L4_b, var_accumulate_L6_b, var_accumulate_L7_b = [], [], [], [], [] \n",
    "\n",
    "\n",
    "for global_epoch in range(G_epoch-1):\n",
    "    for layer_index in num_layers_list:\n",
    "        sumss_w, sumss_b = 0, 0\n",
    "        for sks in range(num_cluster):\n",
    "            sumss_w = sumss_w + globals()['G{}_c{}_w_layer{}'.format(global_epoch, sks, layer_index)][0] \n",
    "            sumss_b = sumss_b + globals()['G{}_c{}_w_layer{}'.format(global_epoch, sks, layer_index)][1]\n",
    "\n",
    "        sumss_w = sumss_w/num_cluster\n",
    "        sumss_b = sumss_b/num_cluster\n",
    "\n",
    "        globals()['var_accumulate_L{}_w'.format(layer_index)].append(np.var( sumss_w ))\n",
    "        \n",
    "        globals()['var_accumulate_L{}_b'.format(layer_index)].append(np.var( sumss_b ))\n",
    "        \n",
    "        \n",
    "\n",
    "for layer_index in num_layers_list:\n",
    "    for tmp_int in range(len(globals()['var_accumulate_L{}_w'.format(layer_index)])-1):\n",
    "        minus_w = globals()['var_accumulate_L{}_w'.format(layer_index)][tmp_int + 1] - globals()['var_accumulate_L{}_w'.format(layer_index)][tmp_int]\n",
    "        minus_b = globals()['var_accumulate_L{}_b'.format(layer_index)][tmp_int + 1] - globals()['var_accumulate_L{}_b'.format(layer_index)][tmp_int]        \n",
    "        globals()['var_changes_L{}_w'.format(layer_index)].append( minus_w )\n",
    "        globals()['var_changes_L{}_b'.format(layer_index)].append( minus_b )\n",
    "        \n",
    "\n",
    "print(\"Variance Accumulate Layer 0,2,4,6,7\\n--------------------------------------------------------------------------------------------------\\n\")\n",
    "\n",
    "print(\"\\nVar Accumulate Weight\\n--------------------------------------\")\n",
    "for j in num_layers_list:\n",
    "    print(globals()['var_accumulate_L{}_w'.format(j)])\n",
    "\n",
    "print(\"\\nVar Accumulate Bias\\n--------------------------------------\")\n",
    "for j in num_layers_list:\n",
    "    print(globals()['var_accumulate_L{}_b'.format(j)])\n",
    "\n",
    "print(\"\\n\\nVariance Change Layer 0,2,4,6,7\\n--------------------------------------------------------------------------------------------------\\n\")\n",
    "\n",
    "print(\"\\nVar Changes Weight\\n--------------------------------------\")\n",
    "for j in num_layers_list:\n",
    "    print(globals()['var_changes_L{}_w'.format(j)])\n",
    "\n",
    "print(\"\\nVar Changes Bias\\n--------------------------------------\")\n",
    "for j in num_layers_list:\n",
    "    print(globals()['var_changes_L{}_b'.format(j)])\n",
    "\n",
    "\n",
    "\n",
    "print(\"\\nNow Check the graph\\n\")\n",
    "\n",
    "plt.figure(figsize=(5,3))\n",
    "for j in num_layers_list:\n",
    "    plt.plot(globals()['var_accumulate_L{}_w'.format(j)])\n",
    "\n",
    "plt.figure(figsize=(5,3))\n",
    "for j in num_layers_list:\n",
    "    plt.plot(globals()['var_accumulate_L{}_b'.format(j)])\n",
    "\n",
    "plt.figure(figsize=(5,3))\n",
    "for j in num_layers_list:\n",
    "    plt.plot(globals()['var_changes_L{}_w'.format(j)])\n",
    "\n",
    "plt.figure(figsize=(5,3))\n",
    "for j in num_layers_list:\n",
    "    plt.plot(globals()['var_changes_L{}_b'.format(j)])\n"
   ]
  },
  {
   "cell_type": "code",
   "execution_count": 12,
   "metadata": {},
   "outputs": [
    {
     "name": "stdout",
     "output_type": "stream",
     "text": [
      "Distance Layer 0,2,4,6,7\n",
      "--------------------------------------------------------------------------------------------------\n",
      "[0.018367305, 0.01379758, 0.011915472, 0.01034757, 0.009084795, 0.0074340543, 0.0074805967, 0.006172087, 0.00668253, 0.006254303, 0.00532366, 0.004630075, 0.0052202097, 0.0053223763, 0.0057887593, 0.0049743876, 0.0046476964, 0.004981992, 0.0050021764, 0.00476803]\n",
      "[0.015718302, 0.011170251, 0.010486679, 0.010010343, 0.009459083, 0.009487579, 0.0094232075, 0.009185325, 0.008856298, 0.00864553, 0.008466837, 0.008440835, 0.008457274, 0.008423569, 0.007992681, 0.007982928, 0.008096656, 0.0078528775, 0.008051762, 0.008076289]\n",
      "[0.009748812, 0.008943965, 0.009084072, 0.008146372, 0.00815082, 0.007906226, 0.0074488, 0.0062446464, 0.0066241105, 0.0064232456, 0.006320214, 0.006546648, 0.0061240564, 0.0065192967, 0.006073533, 0.006310122, 0.0064052804, 0.0061358633, 0.006398038, 0.006368156]\n",
      "[0.008293619, 0.006826433, 0.0068662595, 0.0067790365, 0.0060301134, 0.0060818642, 0.0061549046, 0.0060208132, 0.0060910084, 0.0061215064, 0.0057583675, 0.006235971, 0.0064661214, 0.0063060117, 0.006127647, 0.0058456864, 0.0060076662, 0.006047742, 0.005900733, 0.0059260973]\n",
      "[0.015521998, 0.01462016, 0.012459569, 0.013785484, 0.0116171865, 0.012297843, 0.011446571, 0.010331112, 0.01126084, 0.009132759, 0.009101163, 0.009860738, 0.009222576, 0.009665224, 0.008318999, 0.008739179, 0.008555705, 0.0085507305, 0.008066012, 0.008455241] \n",
      "\n",
      "Check the graph\n",
      "\n"
     ]
    },
    {
     "data": {
      "image/png": "[encoded data removed]",
      "text/plain": [
       "<Figure size 432x288 with 1 Axes>"
      ]
     },
     "metadata": {
      "needs_background": "light"
     },
     "output_type": "display_data"
    }
   ],
   "source": [
    "from scipy.spatial import distance\n",
    "\n",
    "dist_0, dist_2, dist_4, dist_6, dist_7  = [], [], [], [], []\n",
    "\n",
    "for global_epoch in range(G_epoch): #1이 맞음 = 바꾸지 말기\n",
    "    for layer_index in num_layers_list:\n",
    "        globals()['G{}_w_layer{}'.format(global_epoch, layer_index)] = 0    \n",
    "\n",
    "\n",
    "for global_epoch in range(G_epoch):    #2가 맞음 = 바꾸지 말기\n",
    "    for layer_index in num_layers_list:\n",
    "        var_w = 0\n",
    "        for sks in range(globals()['G{}_num_clusters_in_layer{}_w'.format(global_epoch, layer_index)]):\n",
    "            var_w = var_w + globals()['G{}_c{}_w_layer{}'.format(global_epoch, sks, layer_index)]\n",
    "\n",
    "        var_w = var_w/globals()['G{}_num_clusters_in_layer{}_w'.format(global_epoch, layer_index)]\n",
    "\n",
    "        globals()['G{}_w_layer{}'.format(global_epoch, layer_index)] = var_w\n",
    "        if global_epoch > 0:\n",
    "            globals()['dist_{}'.format(layer_index)].append(np.mean(distance.euclidean(globals()['G{}_w_layer{}'.format(global_epoch-1, layer_index)], globals()['G{}_w_layer{}'.format(global_epoch, layer_index)])))\n",
    "\n",
    "print(\"Distance Layer 0,2,4,6,7\\n--------------------------------------------------------------------------------------------------\")\n",
    "print(dist_0)\n",
    "print(dist_2)\n",
    "print(dist_4)\n",
    "print(dist_6)\n",
    "print(dist_7, \"\\n\\nCheck the graph\\n\")\n",
    "\n",
    "plt.plot(dist_0)\n",
    "plt.plot(dist_2)\n",
    "plt.plot(dist_4)\n",
    "plt.plot(dist_6)\n",
    "plt.plot(dist_7)\n",
    "\n",
    "plt.show()"
   ]
  },
  {
   "cell_type": "code",
   "execution_count": 13,
   "metadata": {
    "colab": {
     "base_uri": "https://localhost:8080/",
     "height": 462
    },
    "executionInfo": {
     "elapsed": 626,
     "status": "ok",
     "timestamp": 1628301264540,
     "user": {
      "displayName": "이훈민",
      "photoUrl": "",
      "userId": "00157268181097362793"
     },
     "user_tz": 240
    },
    "id": "SCRUegHzlz1_",
    "outputId": "650ab27e-2afc-4dc4-f749-85f9bb2f81c3"
   },
   "outputs": [
    {
     "name": "stdout",
     "output_type": "stream",
     "text": [
      "Distance Layer 0,2,4,6,7\n",
      "--------------------------------------------------------------------------------------------------\n",
      "[0.04131476, 0.05598076, 0.06554487, 0.07314345, 0.0780355, 0.08238109, 0.085691415, 0.089124136, 0.09211926, 0.09473773, 0.09693762, 0.09858232, 0.10031163, 0.10160734, 0.10362133, 0.105716415, 0.10746454, 0.108747035, 0.11042872, 0.11186382]\n",
      "[0.026736446, 0.03619411, 0.042126704, 0.04686232, 0.05064084, 0.054263286, 0.057526603, 0.06071399, 0.064475596, 0.06797737, 0.07034703, 0.073213786, 0.07532143, 0.07769998, 0.08049654, 0.082911775, 0.0844873, 0.0870496, 0.08860468, 0.090700544]\n",
      "[0.019323984, 0.025062641, 0.030995809, 0.037118085, 0.042447966, 0.047697354, 0.052730262, 0.057077665, 0.05979685, 0.06309494, 0.06524626, 0.06776813, 0.06985262, 0.071365185, 0.07347984, 0.07541637, 0.07660977, 0.07842943, 0.07924474, 0.080105424]\n",
      "[0.019728601, 0.023678266, 0.027282892, 0.031178087, 0.03511583, 0.03829068, 0.041094426, 0.04393129, 0.04643575, 0.049036995, 0.05122826, 0.052897856, 0.055124234, 0.05659839, 0.058513336, 0.060090974, 0.06126829, 0.062648445, 0.063994244, 0.06476926]\n",
      "[0.06235432, 0.07164422, 0.08118972, 0.09011535, 0.09987526, 0.10840789, 0.11744169, 0.12580577, 0.13363555, 0.14235005, 0.14914148, 0.15554461, 0.16258064, 0.16866508, 0.17557809, 0.18129769, 0.18692246, 0.19292097, 0.19912243, 0.20482127] \n",
      "\n",
      "Check the graph\n",
      "\n"
     ]
    },
    {
     "data": {
      "image/png": "[encoded data removed]",
      "text/plain": [
       "<Figure size 432x288 with 1 Axes>"
      ]
     },
     "metadata": {
      "needs_background": "light"
     },
     "output_type": "display_data"
    }
   ],
   "source": [
    "from scipy.spatial import distance\n",
    "\n",
    "dist_0, dist_2, dist_4, dist_6, dist_7  = [], [], [], [], []\n",
    "\n",
    "for global_epoch in range(G_epoch): #1이 맞음 = 바꾸지 말기\n",
    "    for layer_index in num_layers_list:\n",
    "        globals()['G{}_w_layer{}'.format(global_epoch, layer_index)] = 0    \n",
    "\n",
    "\n",
    "for global_epoch in range(G_epoch-1):    #2가 맞음 = 바꾸지 말기\n",
    "    for layer_index in num_layers_list:\n",
    "        var_w = 0\n",
    "        for sks in range(globals()['G{}_num_clusters_in_layer{}_w'.format(global_epoch, layer_index)]):\n",
    "            var_w = var_w + globals()['G{}_c{}_w_layer{}'.format(global_epoch, sks, layer_index)]\n",
    "\n",
    "        var_w = var_w/globals()['G{}_num_clusters_in_layer{}_w'.format(global_epoch, layer_index)]\n",
    "\n",
    "        globals()['G{}_w_layer{}'.format(global_epoch, layer_index)] = var_w\n",
    "        globals()['dist_{}'.format(layer_index)].append(np.mean(distance.euclidean(globals()['G{}_w_layer{}'.format(global_epoch, layer_index)], globals()['G{}_w_layer{}'.format(global_epoch+1, layer_index)])))\n",
    "\n",
    "print(\"Distance Layer 0,2,4,6,7\\n--------------------------------------------------------------------------------------------------\")\n",
    "print(dist_0)\n",
    "print(dist_2)\n",
    "print(dist_4)\n",
    "print(dist_6)\n",
    "print(dist_7, \"\\n\\nCheck the graph\\n\")\n",
    "\n",
    "plt.plot(dist_0)\n",
    "plt.plot(dist_2)\n",
    "plt.plot(dist_4)\n",
    "plt.plot(dist_6)\n",
    "plt.plot(dist_7)\n",
    "\n",
    "plt.show()"
   ]
  },
  {
   "cell_type": "code",
   "execution_count": 14,
   "metadata": {},
   "outputs": [
    {
     "data": {
      "text/plain": [
       "[<matplotlib.lines.Line2D at 0x1b536128c70>]"
      ]
     },
     "execution_count": 14,
     "metadata": {},
     "output_type": "execute_result"
    },
    {
     "data": {
      "image/png": "[encoded data removed]",
      "text/plain": [
       "<Figure size 432x288 with 1 Axes>"
      ]
     },
     "metadata": {
      "needs_background": "light"
     },
     "output_type": "display_data"
    }
   ],
   "source": [
    "import matplotlib.pyplot as plt\n",
    "\n",
    "s0 = [0.041273266, 0.05607507, 0.06903227, 0.07981361, 0.0883555, 0.095089175, 0.100769155, 0.10536322, 0.109405264, 0.11345538]\n",
    "s1 = [0.026931666, 0.03723261, 0.044212263, 0.05045517, 0.055997353, 0.06086777, 0.06547525, 0.0698912, 0.07447831, 0.07871834]\n",
    "s2 = [0.021296015, 0.027471159, 0.033371523, 0.03935382, 0.044641282, 0.049096975, 0.05324344, 0.056276992, 0.059519213, 0.0627354]\n",
    "s3 = [0.023896286, 0.028254863, 0.032993034, 0.037480477, 0.04067334, 0.04354221, 0.046818543, 0.049183395, 0.051163897, 0.05301495]\n",
    "s4 = [0.06304041, 0.07246897, 0.08166669, 0.090785936, 0.099014804, 0.10712341, 0.11486602, 0.12237307, 0.12918471, 0.13616474] \n",
    "\n",
    "s0_diff, s1_diff, s2_diff, s3_diff, s4_diff = [], [], [], [], []\n",
    "\n",
    "for i in range(len(s0)-1):\n",
    "    s0_diff.append(s0[i+1] - s0[i])\n",
    "    s1_diff.append(s1[i+1] - s1[i])\n",
    "    s2_diff.append(s2[i+1] - s2[i])\n",
    "    s3_diff.append(s3[i+1] - s3[i])\n",
    "    s4_diff.append(s4[i+1] - s4[i])\n",
    "\n",
    "\n",
    "plt.plot(s0_diff)\n",
    "plt.plot(s1_diff)\n",
    "plt.plot(s2_diff)\n",
    "plt.plot(s3_diff)\n",
    "plt.plot(s4_diff)"
   ]
  },
  {
   "cell_type": "code",
   "execution_count": 15,
   "metadata": {
    "colab": {
     "base_uri": "https://localhost:8080/",
     "height": 592
    },
    "executionInfo": {
     "elapsed": 682,
     "status": "ok",
     "timestamp": 1628308916901,
     "user": {
      "displayName": "이훈민",
      "photoUrl": "",
      "userId": "00157268181097362793"
     },
     "user_tz": 240
    },
    "id": "iAd7lQy9l1nE",
    "outputId": "afc3cad1-7e2d-4731-dad0-bbfeb5304d4d",
    "scrolled": true
   },
   "outputs": [
    {
     "name": "stdout",
     "output_type": "stream",
     "text": [
      "[[0.8154815435409546, 0.7965796589851379, 0.807380735874176, 0.7965796589851379, 0.7938793897628784, 0.7929793000221252, 0.8307830691337585, 0.801980197429657, 0.8172817230224609], [0.8046804666519165, 0.8028802871704102, 0.82268226146698, 0.8361836075782776, 0.8163816332817078, 0.8163816332817078, 0.8316831588745117, 0.8442844152450562, 0.8109810948371887], [0.8316831588745117, 0.8154815435409546, 0.8199819922447205, 0.8190819025039673, 0.7983798384666443, 0.8343834280967712, 0.8316831588745117, 0.8451845049858093, 0.8136813640594482], [0.8397839665412903, 0.8118811845779419, 0.8397839665412903, 0.8343834280967712, 0.8361836075782776, 0.8397839665412903, 0.8379837870597839, 0.8262826204299927, 0.8469846844673157], [0.8361836075782776, 0.8658865690231323, 0.8532853126525879, 0.8388838768005371, 0.8289828896522522, 0.8496849536895752, 0.8478847742080688, 0.848784863948822, 0.8424842357635498], [0.8667866587638855, 0.8622862100601196, 0.869486927986145, 0.8379837870597839, 0.8577857613563538, 0.8685868382453918, 0.8649864792823792, 0.8649864792823792, 0.848784863948822], [0.8667866587638855, 0.8793879151344299, 0.8757875561714172, 0.8631862998008728, 0.8631862998008728, 0.8757875561714172, 0.8658865690231323, 0.8748874664306641, 0.8658865690231323], [0.8820881843566895, 0.8604860305786133, 0.9027903079986572, 0.869486927986145, 0.8586858510971069, 0.8829882740974426, 0.8757875561714172, 0.8883888125419617, 0.8712871074676514], [0.864086389541626, 0.8703870177268982, 0.869486927986145, 0.8766876459121704, 0.8955895304679871, 0.8649864792823792, 0.8766876459121704, 0.8730872869491577, 0.8622862100601196], [0.8856885433197021, 0.8766876459121704, 0.8721871972084045, 0.8631862998008728, 0.8712871074676514, 0.8721871972084045, 0.8712871074676514, 0.8703870177268982, 0.8784878253936768], [0.8793879151344299, 0.8676867485046387, 0.8919891715049744, 0.8613861203193665, 0.8712871074676514, 0.8937893509864807, 0.8685868382453918, 0.884788453578949, 0.8793879151344299], [0.8883888125419617, 0.8784878253936768, 0.8919891715049744, 0.8919891715049744, 0.8811880946159363, 0.8820881843566895, 0.8829882740974426, 0.9045904874801636, 0.8730872869491577], [0.8802880048751831, 0.8514851331710815, 0.890188992023468, 0.8838883638381958, 0.8793879151344299, 0.884788453578949, 0.8613861203193665, 0.8928892612457275, 0.8928892612457275], [0.8748874664306641, 0.8730872869491577, 0.8892889022827148, 0.869486927986145, 0.8739873766899109, 0.8919891715049744, 0.8793879151344299, 0.8748874664306641, 0.8874887228012085], [0.8874887228012085, 0.8991898894309998, 0.8784878253936768, 0.8685868382453918, 0.8856885433197021, 0.8910890817642212, 0.8730872869491577, 0.8892889022827148, 0.8910890817642212], [0.890188992023468, 0.8838883638381958, 0.8910890817642212, 0.8937893509864807, 0.8757875561714172, 0.8793879151344299, 0.8730872869491577, 0.8874887228012085, 0.8721871972084045], [0.8739873766899109, 0.8730872869491577, 0.8802880048751831, 0.8766876459121704, 0.8982897996902466, 0.8820881843566895, 0.884788453578949, 0.9009901285171509, 0.8928892612457275], [0.8910890817642212, 0.8991898894309998, 0.8937893509864807, 0.8919891715049744, 0.890188992023468, 0.8838883638381958, 0.8874887228012085, 0.9045904874801636, 0.8946894407272339], [0.8874887228012085, 0.890188992023468, 0.8856885433197021, 0.8784878253936768, 0.8748874664306641, 0.8910890817642212, 0.8820881843566895, 0.9135913848876953, 0.8766876459121704], [0.8919891715049744, 0.890188992023468, 0.8910890817642212, 0.8811880946159363, 0.9036903977394104, 0.8919891715049744, 0.8874887228012085, 0.901890218257904, 0.8883888125419617], [0.8919891715049744, 0.884788453578949, 0.8928892612457275, 0.8937893509864807, 0.901890218257904, 0.8820881843566895, 0.8829882740974426, 0.8991898894309998, 0.8928892612457275]]\n",
      "[[0.49467918276786804, 0.5280136466026306, 0.509938657283783, 0.5405104756355286, 0.5373269319534302, 0.5386343002319336, 0.48969659209251404, 0.5347244739532471, 0.4892857074737549], [0.4976043701171875, 0.49687373638153076, 0.5033129453659058, 0.4640953838825226, 0.5063869953155518, 0.5005511045455933, 0.47412702441215515, 0.4300524890422821, 0.5300846695899963], [0.42170193791389465, 0.4933316707611084, 0.48495954275131226, 0.4788241982460022, 0.5673452019691467, 0.4408448338508606, 0.4909391701221466, 0.42262399196624756, 0.5585914254188538], [0.42494067549705505, 0.5200181007385254, 0.4388001561164856, 0.44173482060432434, 0.44275593757629395, 0.4029708802700043, 0.44412076473236084, 0.456533282995224, 0.4483831226825714], [0.42165347933769226, 0.3778309226036072, 0.382919043302536, 0.44968661665916443, 0.46425580978393555, 0.4068062901496887, 0.4208451807498932, 0.4050195813179016, 0.44659337401390076], [0.37192821502685547, 0.3637402355670929, 0.39562004804611206, 0.4182831645011902, 0.3974754512310028, 0.35084909200668335, 0.3781712055206299, 0.3877383768558502, 0.40539616346359253], [0.3775232136249542, 0.3553626835346222, 0.3671315908432007, 0.3819092810153961, 0.3802036941051483, 0.3559705317020416, 0.3958670496940613, 0.3501026928424835, 0.38344648480415344], [0.3226911425590515, 0.3757961690425873, 0.3009004294872284, 0.37585318088531494, 0.4392741918563843, 0.33286094665527344, 0.35678747296333313, 0.35221052169799805, 0.35567209124565125], [0.36855360865592957, 0.35157346725463867, 0.3774275779724121, 0.32309433817863464, 0.2935214936733246, 0.3940942883491516, 0.37387463450431824, 0.3736875355243683, 0.3747061491012573], [0.31974124908447266, 0.36804860830307007, 0.3476327955722809, 0.41766542196273804, 0.3384338319301605, 0.41459161043167114, 0.38598668575286865, 0.34691208600997925, 0.3612172305583954], [0.3630468249320984, 0.39068150520324707, 0.3094266653060913, 0.38727352023124695, 0.3789476156234741, 0.3159448802471161, 0.35812655091285706, 0.34215816855430603, 0.3295544683933258], [0.31379541754722595, 0.3370695114135742, 0.33163008093833923, 0.31270718574523926, 0.3024561107158661, 0.3194098174571991, 0.3481902778148651, 0.2842542827129364, 0.37350764870643616], [0.35033082962036133, 0.38580670952796936, 0.32959315180778503, 0.3136747479438782, 0.31518250703811646, 0.36081555485725403, 0.3859444260597229, 0.30831530690193176, 0.308198481798172], [0.3329414427280426, 0.3343437910079956, 0.2942911386489868, 0.38146254420280457, 0.3636920750141144, 0.34561899304389954, 0.3255833685398102, 0.3105504810810089, 0.3616538941860199], [0.31436634063720703, 0.3315896689891815, 0.3716593384742737, 0.3744250237941742, 0.34084177017211914, 0.31265199184417725, 0.3862747848033905, 0.31485626101493835, 0.3031970262527466], [0.3316262364387512, 0.32511603832244873, 0.29875507950782776, 0.3122362792491913, 0.3574899733066559, 0.3416224420070648, 0.40964704751968384, 0.3058905601501465, 0.38169044256210327], [0.3469163477420807, 0.38745415210723877, 0.3221382200717926, 0.3381804823875427, 0.3102147579193115, 0.3452600836753845, 0.3269743323326111, 0.33140286803245544, 0.319089412689209], [0.3238939344882965, 0.35002636909484863, 0.29333192110061646, 0.3369903862476349, 0.32002395391464233, 0.3247859477996826, 0.3345494270324707, 0.27543991804122925, 0.30259037017822266], [0.3300839364528656, 0.32293418049812317, 0.36756405234336853, 0.357638418674469, 0.34815287590026855, 0.32861652970314026, 0.3329605460166931, 0.2887825071811676, 0.3781285285949707], [0.28852763772010803, 0.3161051869392395, 0.34956619143486023, 0.3324471712112427, 0.28755778074264526, 0.35392072796821594, 0.3115725815296173, 0.3040803372859955, 0.3603980243206024], [0.3257235288619995, 0.36603114008903503, 0.370621919631958, 0.3295656442642212, 0.2949618101119995, 0.40987077355384827, 0.3832912743091583, 0.31997716426849365, 0.31933605670928955]] \n",
      "\n",
      "\n",
      "\n"
     ]
    },
    {
     "data": {
      "image/png": "[encoded data removed]",
      "text/plain": [
       "<Figure size 1152x576 with 1 Axes>"
      ]
     },
     "metadata": {
      "needs_background": "light"
     },
     "output_type": "display_data"
    }
   ],
   "source": [
    "average_acc_cluster_list, average_loss_cluster_list = [], []\n",
    "\n",
    "\n",
    "for i in range(len(Cluster_ACC)):    \n",
    "    average_acc_cluster_list.append(np.mean(Cluster_ACC[i]))\n",
    "    average_loss_cluster_list.append(np.mean(Cluster_LOSS[i]))\n",
    "\n",
    "    \n",
    "plt.figure(figsize=(16,8))\n",
    "plt.plot(average_acc_cluster_list, label='Cluster Acc')\n",
    "print(Cluster_ACC)\n",
    "print(Cluster_LOSS,\"\\n\\n\\n\")\n",
    "plt.plot(average_loss_cluster_list, label='Cluster Loss')\n",
    "\n",
    "plt.grid(True)\n",
    "plt.legend()\n",
    "plt.show()\n"
   ]
  },
  {
   "cell_type": "code",
   "execution_count": 2,
   "metadata": {},
   "outputs": [
    {
     "data": {
      "text/plain": [
       "[<matplotlib.lines.Line2D at 0x1c176431250>]"
      ]
     },
     "execution_count": 2,
     "metadata": {},
     "output_type": "execute_result"
    },
    {
     "data": {
      "image/png": "[encoded data removed]",
      "text/plain": [
       "<Figure size 432x288 with 1 Axes>"
      ]
     },
     "metadata": {
      "needs_background": "light"
     },
     "output_type": "display_data"
    }
   ],
   "source": [
    "import matplotlib.pyplot as plt\n",
    "\n",
    "a0 = [0.0014100873, 0.0015293646, 0.0015555066, 0.0012380397, 0.0013145334, 0.0009429958, 0.0010669865, 0.0011438094, 0.0010718135, 0.0009675212, 0.0007731719, 0.0007748967, 0.00086848997, 0.00082246773, 0.00089924224, 0.0007380545, 0.0006709881, 0.00066643953, 0.00041587092]\n",
    "a1 = [0.000641426, 0.00051340414, 0.00043965783, 0.00034256955, 0.00031247898, 0.00024503097, 0.00026091724, 0.00024934183, 0.00021155505, 0.00020879507, 0.00020131003, 0.00021333201, 0.0002047345, 0.00018992415, 0.00015169615, 0.00018754648, 0.00017135125, 0.00017743278, 0.00015306659]\n",
    "a2 = [0.00015524769, 0.00013804686, 0.00013642025, 0.00012971612, 0.0001287862, 0.00013069226, 0.00011973514, 0.000121863326, 0.00012371235, 0.00012602715, 0.00011778518, 0.00011282996, 0.00010684668, 0.00011055218, 0.000103588216, 0.000110225286, 0.000108137494, 0.00010678917, 0.00010266504]\n",
    "a3 = [7.4225594e-05, 7.774512e-05, 9.480328e-05, 0.00010367838, 0.000108761655, 0.00011050346, 0.00011743524, 0.00012063782, 0.0001174378, 0.00012573018, 0.00012260454, 0.00012253912, 0.00012174703, 0.00012741331, 0.00012871996, 0.00013118051, 0.00012677046, 0.00011997321, 0.0001289032]\n",
    "a4 = [0.00058719097, 0.00068098493, 0.0006937105, 0.00076392293, 0.00085545145, 0.0009416221, 0.00095721334, 0.0010637967, 0.0011581201, 0.0011634706, 0.0011527454, 0.0010675201, 0.0010853838, 0.0010925196, 0.0010030083, 0.0011350568, 0.0010980722, 0.0010785125, 0.0010246653]\n",
    "\n",
    "\n",
    "plt.plot(a0)\n",
    "plt.plot(a1)\n",
    "plt.plot(a2)\n",
    "plt.plot(a3)\n",
    "plt.plot(a4)"
   ]
  },
  {
   "cell_type": "code",
   "execution_count": null,
   "metadata": {
    "id": "iG_mPUvvWCmX"
   },
   "outputs": [],
   "source": []
  },
  {
   "cell_type": "code",
   "execution_count": null,
   "metadata": {},
   "outputs": [],
   "source": []
  }
 ],
 "metadata": {
  "colab": {
   "authorship_tag": "ABX9TyNKIicFYuLmZhh9QzTo33uH",
   "collapsed_sections": [],
   "name": "FMNIST_clustering_iid_K=2.ipynb",
   "provenance": []
  },
  "kernelspec": {
   "display_name": "Python 3",
   "language": "python",
   "name": "python3"
  },
  "language_info": {
   "codemirror_mode": {
    "name": "ipython",
    "version": 3
   },
   "file_extension": ".py",
   "mimetype": "text/x-python",
   "name": "python",
   "nbconvert_exporter": "python",
   "pygments_lexer": "ipython3",
   "version": "3.8.10"
  }
 },
 "nbformat": 4,
 "nbformat_minor": 1
}
