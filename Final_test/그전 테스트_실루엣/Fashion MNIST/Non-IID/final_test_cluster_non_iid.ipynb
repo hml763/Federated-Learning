{
 "cells": [
  {
   "cell_type": "code",
   "execution_count": 1,
   "metadata": {
    "executionInfo": {
     "elapsed": 3787,
     "status": "ok",
     "timestamp": 1627658864261,
     "user": {
      "displayName": "이훈민",
      "photoUrl": "",
      "userId": "00157268181097362793"
     },
     "user_tz": 240
    },
    "id": "cg7gm5FVyA3r"
   },
   "outputs": [],
   "source": [
    "import numpy as np\n",
    "import tensorflow as tf\n",
    "import matplotlib.pyplot as plt\n",
    "import sys\n",
    "import time\n",
    "import math\n",
    "import random\n",
    "import copy\n",
    "import warnings\n",
    "warnings.simplefilter(action='ignore', category=FutureWarning)\n",
    "\n",
    "import keras\n",
    "from tensorflow import keras\n",
    "from keras.models import Sequential\n",
    "from keras.layers import Dense, Dropout, Flatten\n",
    "from tensorflow.keras import datasets, layers, models\n",
    "from keras.layers.convolutional import Conv2D, MaxPooling2D\n",
    "from keras.layers import Dense, Activation, Flatten, Conv2D, MaxPooling2D\n",
    "from keras.utils.np_utils import to_categorical\n",
    "from sklearn.cluster import KMeans, AgglomerativeClustering\n",
    "from tensorflow.keras.datasets import cifar10 \n",
    "from keras.datasets import fashion_mnist \n",
    "from sklearn.metrics import silhouette_samples, silhouette_score\n",
    "\n",
    "mod = sys.modules[__name__]"
   ]
  },
  {
   "cell_type": "code",
   "execution_count": 2,
   "metadata": {
    "executionInfo": {
     "elapsed": 29,
     "status": "ok",
     "timestamp": 1627658864287,
     "user": {
      "displayName": "이훈민",
      "photoUrl": "",
      "userId": "00157268181097362793"
     },
     "user_tz": 240
    },
    "id": "-gn3HoNnyGdo"
   },
   "outputs": [],
   "source": [
    "def distribution_check(dataset):\n",
    "        #분포가 다름;\n",
    "    one,two,three,four,five,six,seven,eight,nine,ten=0,0,0,0,0,0,0,0,0,0\n",
    "\n",
    "    for i in range(len(dataset)):\n",
    "        if(dataset[i]==1):    one+=1\n",
    "        elif(dataset[i]==2):  two+=1\n",
    "        elif(dataset[i]==3):  three+=1\n",
    "        elif(dataset[i]==4):  four+=1\n",
    "        elif(dataset[i]==5):  five+=1\n",
    "        elif(dataset[i]==6):  six+=1\n",
    "        elif(dataset[i]==7):  seven+=1\n",
    "        elif(dataset[i]==8):  eight+=1\n",
    "        elif(dataset[i]==9):  nine+=1\n",
    "        elif(dataset[i]==0):  ten+=1\n",
    "\n",
    "    #print(one,two,three,four,five,six,seven,eight,nine,ten)\n",
    "    #print(\"Sum : \", one+two+three+four+five+six+seven+eight+nine+ten)\n",
    "    sums = one+two+three+four+five+six+seven+eight+nine+ten\n",
    "    for_graph=[one,two,three,four,five,six,seven,eight,nine,ten]\n",
    "    \n",
    "    return for_graph, sums\n",
    "\n",
    "def local_model_generate(model): #초기 모델 생성\n",
    "    model = models.Sequential()\n",
    "    model.add(layers.Conv2D(32, (3, 3), activation='relu', input_shape=(28, 28, 1)))\n",
    "    model.add(layers.MaxPooling2D((2, 2)))\n",
    "    model.add(layers.Conv2D(64, (3, 3), activation='relu'))\n",
    "    model.add(layers.MaxPooling2D((2, 2)))\n",
    "    model.add(layers.Conv2D(64, (3, 3), activation='relu'))\n",
    "    model.add(layers.Flatten())\n",
    "    model.add(layers.Dense(64, activation='relu'))\n",
    "    model.add(layers.Dense(10, activation='softmax'))\n",
    "    \n",
    "    return model\n",
    "\n",
    "def step_function(data):\n",
    "    if data > 0:\n",
    "        return 1\n",
    "    else:\n",
    "        return 0\n",
    "\n",
    "def sigmoid(data):\n",
    "    return 1/(1+np.exp(-data))\n",
    "\n",
    "def relu(data):\n",
    "    return np.maximum(0,data)\n",
    "\n",
    "def random_check(local, train_data, test_data):\n",
    "    check_distribution_train_data, check_distribution_test_data, y_train_tmp, y_test_tmp = [], [], [], []\n",
    "    sum1, sum2, data_index = 0,0, np.arange(0,10)\n",
    "\n",
    "    for j in range(len(train_data)):\n",
    "        y_train_tmp.append(np.argmax(train_data[j])) #원핫인코딩에서 다시 0~9 레이블로 변환\n",
    "\n",
    "    for j in range(len(test_data)):\n",
    "        y_test_tmp.append(np.argmax(test_data[j]))\n",
    "\n",
    "    check_distribution_train_data, sum_train = distribution_check(y_train_tmp) #한번 밖에 실행 못함\n",
    "    check_distribution_test_data, sum_test = distribution_check(y_test_tmp)\n",
    "    sum1, sum2 = (sum1 + sum_train), (sum2 + sum_test)\n",
    "    \n",
    "    return check_distribution_train_data, check_distribution_test_data\n"
   ]
  },
  {
   "cell_type": "code",
   "execution_count": 3,
   "metadata": {
    "colab": {
     "base_uri": "https://localhost:8080/"
    },
    "executionInfo": {
     "elapsed": 1990,
     "status": "ok",
     "timestamp": 1627658866249,
     "user": {
      "displayName": "이훈민",
      "photoUrl": "",
      "userId": "00157268181097362793"
     },
     "user_tz": 240
    },
    "id": "CSRQl-noyHx9",
    "outputId": "caa9e16f-3624-4192-907b-6a4530663e7e"
   },
   "outputs": [
    {
     "name": "stdout",
     "output_type": "stream",
     "text": [
      "(60000, 28, 28) (10000, 28, 28)\n"
     ]
    }
   ],
   "source": [
    "(x_train, y_train), (x_test, y_test) = fashion_mnist.load_data()\n",
    "print(x_train.shape, x_test.shape)\n",
    "num_train, num_test = len(x_train),  len(x_test) "
   ]
  },
  {
   "cell_type": "code",
   "execution_count": 4,
   "metadata": {
    "executionInfo": {
     "elapsed": 6,
     "status": "ok",
     "timestamp": 1627658866250,
     "user": {
      "displayName": "이훈민",
      "photoUrl": "",
      "userId": "00157268181097362793"
     },
     "user_tz": 240
    },
    "id": "YvgMHy1ByI7c"
   },
   "outputs": [],
   "source": [
    "local = 21 # 10개 : 1~10 => 11은 포함 안됨\n",
    "batch_size, epochs = 32, 10\n",
    "global_epoch = 0\n",
    "num_layers = 8"
   ]
  },
  {
   "cell_type": "code",
   "execution_count": 5,
   "metadata": {
    "colab": {
     "base_uri": "https://localhost:8080/"
    },
    "executionInfo": {
     "elapsed": 5,
     "status": "ok",
     "timestamp": 1627658866250,
     "user": {
      "displayName": "이훈민",
      "photoUrl": "",
      "userId": "00157268181097362793"
     },
     "user_tz": 240
    },
    "id": "NtlWlG2EyKwJ",
    "outputId": "13d78e48-942e-469a-b62b-408c864761b2"
   },
   "outputs": [
    {
     "name": "stdout",
     "output_type": "stream",
     "text": [
      "Step 1 x_train shape: (60000, 28, 28)\n",
      "Step 2 x_train shape: (60000, 28, 28, 1)\n",
      "60000 train samples\n",
      "10000 test samples\n"
     ]
    }
   ],
   "source": [
    "# Model / data parameters\n",
    "num_classes = 10\n",
    "input_shape = (28, 28, 1)\n",
    "\n",
    "# Scale images to the [0, 1] range\n",
    "x_train = x_train.astype(\"float32\") / 255\n",
    "x_test = x_test.astype(\"float32\") / 255\n",
    "\n",
    "print(\"Step 1 x_train shape:\", x_train.shape)\n",
    "\n",
    "x_train = x_train.reshape((num_train, 28, 28, 1))\n",
    "x_test = x_test.reshape((num_test, 28, 28, 1))\n",
    "\n",
    "print(\"Step 2 x_train shape:\", x_train.shape)\n",
    "print(x_train.shape[0], \"train samples\")\n",
    "print(x_test.shape[0], \"test samples\")\n",
    "# convert class vectors to binary class matrices => one hot encoding 지금은 [3,6,2,5,4,8..] 섞여있음 \n",
    "\n",
    "y_train = keras.utils.to_categorical(y_train, num_classes)\n",
    "y_test = keras.utils.to_categorical(y_test, num_classes)"
   ]
  },
  {
   "cell_type": "code",
   "execution_count": 6,
   "metadata": {
    "colab": {
     "base_uri": "https://localhost:8080/"
    },
    "executionInfo": {
     "elapsed": 966,
     "status": "ok",
     "timestamp": 1627662382510,
     "user": {
      "displayName": "이훈민",
      "photoUrl": "",
      "userId": "00157268181097362793"
     },
     "user_tz": 240
    },
    "id": "I2uyTUGiyaSd",
    "outputId": "9701b3af-beec-4180-ce33-198e018376bd"
   },
   "outputs": [
    {
     "name": "stdout",
     "output_type": "stream",
     "text": [
      "0  번째 global_epoch 데이터 랜덤하게 준비!!\n",
      "CHECK : 1  번째 로컬 클라이언트 Number of Training sets :  2881    Number of Training sets :  476\n",
      "CHECK : 2  번째 로컬 클라이언트 Number of Training sets :  2871    Number of Training sets :  476\n",
      "CHECK : 3  번째 로컬 클라이언트 Number of Training sets :  3339    Number of Training sets :  476\n",
      "CHECK : 4  번째 로컬 클라이언트 Number of Training sets :  2912    Number of Training sets :  476\n",
      "CHECK : 5  번째 로컬 클라이언트 Number of Training sets :  2142    Number of Training sets :  476\n",
      "CHECK : 6  번째 로컬 클라이언트 Number of Training sets :  2053    Number of Training sets :  476\n",
      "CHECK : 7  번째 로컬 클라이언트 Number of Training sets :  1796    Number of Training sets :  476\n",
      "CHECK : 8  번째 로컬 클라이언트 Number of Training sets :  4795    Number of Training sets :  476\n",
      "CHECK : 9  번째 로컬 클라이언트 Number of Training sets :  4312    Number of Training sets :  476\n",
      "CHECK : 10  번째 로컬 클라이언트 Number of Training sets :  3985    Number of Training sets :  476\n",
      "CHECK : 11  번째 로컬 클라이언트 Number of Training sets :  1996    Number of Training sets :  476\n",
      "CHECK : 12  번째 로컬 클라이언트 Number of Training sets :  1333    Number of Training sets :  476\n",
      "CHECK : 13  번째 로컬 클라이언트 Number of Training sets :  2059    Number of Training sets :  476\n",
      "CHECK : 14  번째 로컬 클라이언트 Number of Training sets :  3592    Number of Training sets :  476\n",
      "CHECK : 15  번째 로컬 클라이언트 Number of Training sets :  3895    Number of Training sets :  476\n",
      "CHECK : 16  번째 로컬 클라이언트 Number of Training sets :  2005    Number of Training sets :  476\n",
      "CHECK : 17  번째 로컬 클라이언트 Number of Training sets :  2835    Number of Training sets :  476\n",
      "CHECK : 18  번째 로컬 클라이언트 Number of Training sets :  2457    Number of Training sets :  476\n",
      "CHECK : 19  번째 로컬 클라이언트 Number of Training sets :  4408    Number of Training sets :  476\n",
      "CHECK : 20  번째 로컬 클라이언트 Number of Training sets :  3634    Number of Training sets :  476\n",
      "check=>: should be 0 ==  60000\n",
      "0  번째 global_epoch 데이터 랜덤 준비완료!!\n"
     ]
    }
   ],
   "source": [
    "global_epoch = 0\n",
    "\n",
    "print(global_epoch, \" 번째 global_epoch 데이터 랜덤하게 준비!!\")\n",
    "\n",
    "for i in range(1,local): #데이터 변수 선언, 빈 리스트로 초기화\n",
    "    globals()['L{}_x_train'.format(i)], globals()['L{}_x_test'.format(i)] = [],[]  \n",
    "    globals()['L{}_y_train'.format(i)], globals()['L{}_y_test'.format(i)] = [],[]  \n",
    "\n",
    "\n",
    "for n in range(1,local): #x_train_range, 잘 작동함 => 확인 완료\n",
    "\n",
    "    x_train_range = list(np.arange(0,len(x_train)))  #0~59,999\n",
    "    x_test_range = list(np.arange(0,len(x_test)))  #0~9,999\n",
    "\n",
    "    tmp, tmp2 = [], []\n",
    "\n",
    "    num_pick = random.randint(1000, 5000 ) #변동 사항 #int(len(list(x_train_range))/local)\n",
    "    num_pick2 = int(len(x_test_range)/local) #test 데이터는 원래대로 항상 일정한 비율로 주면 될듯 => 어느정도 분량 이상 있어야 함\n",
    "    \n",
    "    tmp = random.sample(list(x_train_range), num_pick)  #1/10개 만큼 인덱스 랜덤 비복원 추출 => 랜덤으로 해야함\n",
    "    tmp2 = random.sample(list(x_test_range), num_pick2)\n",
    "\n",
    "    for i in range(len(tmp)):\n",
    "        globals()['L{}_x_train'.format(n)].append(x_train[tmp[i]])  #n번째 Cluster에 분할한 실제 x_train 데이터 저장\n",
    "        globals()['L{}_y_train'.format(n)].append(y_train[tmp[i]]) \n",
    "        #x_train_range.remove(tmp[i])  #랜덤 하게 뽑힌 원소갯수들 추출했으니 안에서 삭제  => 오래걸림\n",
    "\n",
    "    for j in range(len(tmp2)):\n",
    "        globals()['L{}_x_test'.format(n)].append(x_test[tmp2[j]])\n",
    "        globals()['L{}_y_test'.format(n)].append(y_test[tmp2[j]])\n",
    "        #x_test_range.remove(tmp2[j])  #랜덤 하게 뽑힌 원소 1000개 추출했으니 안에서 삭제  => 오래걸림\n",
    "    \n",
    "    print(\"CHECK :\", n,\" 번째 로컬 클라이언트 Number of Training sets : \", len(globals()['L{}_x_train'.format(n)]), \"   Number of Training sets : \", len(globals()['L{}_x_test'.format(n)]))\n",
    "\n",
    "print(\"check=>: should be 0 == \", len(x_train_range))  #원소 하나도 없어야 함. 확인.\n",
    "print(global_epoch, \" 번째 global_epoch 데이터 랜덤 준비완료!!\")"
   ]
  },
  {
   "cell_type": "code",
   "execution_count": 7,
   "metadata": {
    "colab": {
     "base_uri": "https://localhost:8080/"
    },
    "executionInfo": {
     "elapsed": 24199,
     "status": "ok",
     "timestamp": 1627662407910,
     "user": {
      "displayName": "이훈민",
      "photoUrl": "",
      "userId": "00157268181097362793"
     },
     "user_tz": 240
    },
    "id": "LztCjgrY1OxS",
    "outputId": "cb761dc5-55c2-4118-93b3-7833cd8f4629",
    "scrolled": true
   },
   "outputs": [
    {
     "name": "stdout",
     "output_type": "stream",
     "text": [
      "\n",
      "\n",
      " 0 번째 global epoch에서 로컬 클라이언트 학습시작!\n",
      "\n",
      "학습 중 ...\n",
      "\n",
      "15/15 - 0s - loss: 0.5434 - accuracy: 0.8256\n",
      "15/15 - 0s - loss: 0.5523 - accuracy: 0.8088\n",
      "15/15 - 0s - loss: 0.4732 - accuracy: 0.8235\n",
      "15/15 - 0s - loss: 0.5222 - accuracy: 0.8235\n",
      "15/15 - 0s - loss: 0.6126 - accuracy: 0.7983\n",
      "15/15 - 0s - loss: 0.5459 - accuracy: 0.7983\n",
      "15/15 - 0s - loss: 0.6124 - accuracy: 0.7899\n",
      "15/15 - 0s - loss: 0.4912 - accuracy: 0.8193\n",
      "15/15 - 0s - loss: 0.5381 - accuracy: 0.8277\n",
      "15/15 - 0s - loss: 0.4547 - accuracy: 0.8445\n",
      "15/15 - 0s - loss: 0.4990 - accuracy: 0.8214\n",
      "15/15 - 0s - loss: 0.6158 - accuracy: 0.7563\n",
      "15/15 - 0s - loss: 0.5718 - accuracy: 0.8046\n",
      "15/15 - 0s - loss: 0.4602 - accuracy: 0.8382\n",
      "15/15 - 0s - loss: 0.5051 - accuracy: 0.8361\n",
      "15/15 - 0s - loss: 0.6212 - accuracy: 0.7941\n",
      "15/15 - 0s - loss: 0.5347 - accuracy: 0.8151\n",
      "15/15 - 0s - loss: 0.5546 - accuracy: 0.8004\n",
      "15/15 - 0s - loss: 0.5241 - accuracy: 0.8172\n",
      "15/15 - 0s - loss: 0.5396 - accuracy: 0.8172\n",
      "0 번째 global epoch 로컬 클라이언트 학습완료!,  Total Training time :  196.62276196479797 \n",
      "\n",
      "\n",
      "Layer :  0   클러스터 갯수 정해짐!  갯수 :  2 0\n"
     ]
    },
    {
     "name": "stderr",
     "output_type": "stream",
     "text": [
      "<ipython-input-7-32b596a4692c>:108: VisibleDeprecationWarning: Creating an ndarray from ragged nested sequences (which is a list-or-tuple of lists-or-tuples-or ndarrays with different lengths or shapes) is deprecated. If you meant to do this, you must specify 'dtype=object' when creating the ndarray\n",
      "  globals()['G{}_c{}_w_layer{}'.format(global_epoch, num_c_w, layer_index)] = globals()['G{}_c{}_w_layer{}'.format(global_epoch, num_c_w, layer_index)] + np.array(globals()['L{}_layer{}_w'.format(i,layer_index)])          # 일반 클러스터링\n"
     ]
    },
    {
     "name": "stdout",
     "output_type": "stream",
     "text": [
      "Layer :  2   클러스터 갯수 정해짐!  갯수 :  2 0\n"
     ]
    },
    {
     "name": "stderr",
     "output_type": "stream",
     "text": [
      "<ipython-input-7-32b596a4692c>:108: VisibleDeprecationWarning: Creating an ndarray from ragged nested sequences (which is a list-or-tuple of lists-or-tuples-or ndarrays with different lengths or shapes) is deprecated. If you meant to do this, you must specify 'dtype=object' when creating the ndarray\n",
      "  globals()['G{}_c{}_w_layer{}'.format(global_epoch, num_c_w, layer_index)] = globals()['G{}_c{}_w_layer{}'.format(global_epoch, num_c_w, layer_index)] + np.array(globals()['L{}_layer{}_w'.format(i,layer_index)])          # 일반 클러스터링\n"
     ]
    },
    {
     "name": "stdout",
     "output_type": "stream",
     "text": [
      "Layer :  4   클러스터 갯수 정해짐!  갯수 :  2 0\n"
     ]
    },
    {
     "name": "stderr",
     "output_type": "stream",
     "text": [
      "<ipython-input-7-32b596a4692c>:108: VisibleDeprecationWarning: Creating an ndarray from ragged nested sequences (which is a list-or-tuple of lists-or-tuples-or ndarrays with different lengths or shapes) is deprecated. If you meant to do this, you must specify 'dtype=object' when creating the ndarray\n",
      "  globals()['G{}_c{}_w_layer{}'.format(global_epoch, num_c_w, layer_index)] = globals()['G{}_c{}_w_layer{}'.format(global_epoch, num_c_w, layer_index)] + np.array(globals()['L{}_layer{}_w'.format(i,layer_index)])          # 일반 클러스터링\n"
     ]
    },
    {
     "name": "stdout",
     "output_type": "stream",
     "text": [
      "Layer :  6   클러스터 갯수 정해짐!  갯수 :  2 0\n"
     ]
    },
    {
     "name": "stderr",
     "output_type": "stream",
     "text": [
      "<ipython-input-7-32b596a4692c>:108: VisibleDeprecationWarning: Creating an ndarray from ragged nested sequences (which is a list-or-tuple of lists-or-tuples-or ndarrays with different lengths or shapes) is deprecated. If you meant to do this, you must specify 'dtype=object' when creating the ndarray\n",
      "  globals()['G{}_c{}_w_layer{}'.format(global_epoch, num_c_w, layer_index)] = globals()['G{}_c{}_w_layer{}'.format(global_epoch, num_c_w, layer_index)] + np.array(globals()['L{}_layer{}_w'.format(i,layer_index)])          # 일반 클러스터링\n"
     ]
    },
    {
     "name": "stdout",
     "output_type": "stream",
     "text": [
      "Layer :  7   클러스터 갯수 정해짐!  갯수 :  2 0\n"
     ]
    },
    {
     "name": "stderr",
     "output_type": "stream",
     "text": [
      "<ipython-input-7-32b596a4692c>:108: VisibleDeprecationWarning: Creating an ndarray from ragged nested sequences (which is a list-or-tuple of lists-or-tuples-or ndarrays with different lengths or shapes) is deprecated. If you meant to do this, you must specify 'dtype=object' when creating the ndarray\n",
      "  globals()['G{}_c{}_w_layer{}'.format(global_epoch, num_c_w, layer_index)] = globals()['G{}_c{}_w_layer{}'.format(global_epoch, num_c_w, layer_index)] + np.array(globals()['L{}_layer{}_w'.format(i,layer_index)])          # 일반 클러스터링\n"
     ]
    }
   ],
   "source": [
    "#준비된 데이터 (IID / NON-IID) np.array로\n",
    "\n",
    "local = 21\n",
    "best_Sil_score_c = []\n",
    "Silhouette_sc_c = []\n",
    "\n",
    "global_epoch = 0\n",
    "acc, loss = 0, 0\n",
    "cluster_acc, cluster_loss, Cluster_ACC, Cluster_LOSS = [], [], [], [] \n",
    "num_layers_list = [0,2,4,6,7]\n",
    "label_list = []\n",
    "VAR_final_list_w, VAR_final_list_b = [], []\n",
    "\n",
    "\n",
    "for i in range(1,local):\n",
    "    globals()['L{}_x_train'.format(i)] = np.array(globals()['L{}_x_train'.format(i)])\n",
    "    globals()['L{}_x_test'.format(i)] = np.array(globals()['L{}_x_test'.format(i)])\n",
    "    globals()['L{}_y_train'.format(i)] = np.array(globals()['L{}_y_train'.format(i)])\n",
    "    globals()['L{}_y_test'.format(i)] = np.array(globals()['L{}_y_test'.format(i)])\n",
    "\n",
    "\n",
    "print(\"\\n\\n\",global_epoch, \"번째 global epoch에서 로컬 클라이언트 학습시작!\\n\\n학습 중 ...\\n\")\n",
    "now = time.time()\n",
    "\n",
    "for i in range(1,local):\n",
    "    globals()['FedAvg_L{}_iter{}_model'.format(i, global_epoch)] = models.Sequential()  ##!!!!!!! 이게 글로벌 epoch에서는 2번째 부터 들어가면 안됨\n",
    "    globals()['FedAvg_L{}_iter{}_model'.format(i, global_epoch)] = local_model_generate(globals()['FedAvg_L{}_iter{}_model'.format(i, global_epoch)])      # initialize 필요 => 모델 프레임 구축\n",
    "\n",
    "    globals()['FedAvg_L{}_iter{}_model'.format(i, global_epoch)].compile(loss=\"categorical_crossentropy\", optimizer=\"adam\", metrics=[\"accuracy\"])\n",
    "\n",
    "    globals()['FedAvg_L{}_iter{}_model'.format(i, global_epoch)].fit(globals()['L{}_x_train'.format(i)], globals()['L{}_y_train'.format(i)], batch_size=batch_size, epochs=epochs, validation_split=0.1, verbose=0)\n",
    "\n",
    "    loss, acc = globals()['FedAvg_L{}_iter{}_model'.format(i, global_epoch)].evaluate(globals()['L{}_x_test'.format(i,global_epoch)], globals()['L{}_y_test'.format(i)], verbose=2)\n",
    "    \n",
    "    cluster_acc.append(acc)  #acc 넣기\n",
    "    cluster_loss.append(loss)  #loss 넣기\n",
    "\n",
    "\n",
    "print(global_epoch, \"번째 global epoch 로컬 클라이언트 학습완료!,  Total Training time : \", time.time()-now,\"\\n\\n\")\n",
    "\n",
    "# 로컬 모델들 학습 완료하였고 로컬모델에서 weight, bias 추출 -------------------------------------------------------------------------------------\n",
    "\n",
    "for i in range(1, local):\n",
    "    for layer_index in num_layers_list:\n",
    "        w = globals()['FedAvg_L{}_iter{}_model'.format(i, global_epoch)].layers[layer_index].get_weights() #get_weights = w[0],b[1]로 구성\n",
    "\n",
    "        globals()['L{}_layer{}_w_tmp'.format(i,layer_index)] = w      # 클러스터링 용도\n",
    "        globals()['L{}_layer{}_w'.format(i,layer_index)] = w          # weight aggregation 용도\n",
    "            \n",
    "# 클러스터에 넣을 변수 선언\n",
    "\n",
    "for layer_index in num_layers_list:\n",
    "\n",
    "    globals()['layer{}_W_tmp'.format(layer_index)] = []\n",
    "    globals()['var_list_layer{}_w'.format(layer_index)] = []\n",
    "    globals()['var_list_layer{}_b'.format(layer_index)] = []\n",
    "  \n",
    "    for i in range(1, local):\n",
    "        globals()['var_list_layer{}_w'.format(layer_index)].append(np.var(globals()['L{}_layer{}_w'.format(i,layer_index)][0]))\n",
    "        globals()['var_list_layer{}_b'.format(layer_index)].append(np.var(globals()['L{}_layer{}_w'.format(i,layer_index)][1]))\n",
    "      \n",
    "        TMP_w = list(np.array(globals()['L{}_layer{}_w_tmp'.format(i,layer_index)][0]).reshape(-1))\n",
    "        TMP_b = list(np.array(globals()['L{}_layer{}_w_tmp'.format(i,layer_index)][1]).reshape(-1))\n",
    "        \n",
    "        TMP_w.extend(TMP_b) ##append 말고 더해야함..\n",
    "\n",
    "        TMP_w = np.array(TMP_w)\n",
    "        TMP_w = list(TMP_w.reshape(-1))\n",
    "        globals()['layer{}_W_tmp'.format(layer_index)].append(TMP_w)  #클러스터링 용도\n",
    "  \n",
    "\n",
    "    #----------------------------------------------------클러스터링 실시 -------------------------------------------------------------\n",
    "    silhoutte_score_w = []\n",
    "    transformed = globals()['layer{}_W_tmp'.format(layer_index)]\n",
    "\n",
    "    for clusters in range((int(local/2)-1)):       ####=>  이 범위 : 클러스터 갯수, 밑에 보면 cluster+2 있음 = 총 10개 => (0,11) = 10                                                       \n",
    "        kmeans_model_w = KMeans(n_clusters=clusters+2)   # 0, 1은 silhouette 에 안먹힘  \n",
    "\n",
    "        kmeans_model_w.fit(transformed)       #레이블 정의 \n",
    "\n",
    "        silhoutte_score_w.append(silhouette_score(globals()['layer{}_W_tmp'.format(layer_index)], kmeans_model_w.labels_, metric='euclidean'))  \n",
    "\n",
    "    num_clusters_for_w = np.argmax(silhoutte_score_w) \n",
    "    best_Sil_score_c.append(silhoutte_score_w[num_clusters_for_w])  # 처음에는 둘 다 넣어줌\n",
    "\n",
    "    kmeans_model_w = KMeans(n_clusters=num_clusters_for_w+2)   # 0, 1은 silhouette 에 안먹힘  \n",
    "\n",
    "    globals()['w_layer{}_label'.format(layer_index)] = kmeans_model_w.fit_predict(transformed)       # 가장 적합한 클러스터로 레이어에 속한 로컬들 레이블 정의 \n",
    "\n",
    "    globals()['G{}_num_clusters_in_layer{}_w'.format(global_epoch, layer_index)] = num_clusters_for_w + 2  #나중에 몇개로 나뉘었는지 알아야 함 = num_clusters_for_w이거 그대로 하면 밑에 저게 쓸일이 많아서 global 쓰면 코딩이 너무 번잡해짐;; \n",
    "    \n",
    "    label_list.append(globals()['w_layer{}_label'.format(layer_index)])                 \n",
    "    print(\"Layer : \", layer_index, \"  클러스터 갯수 정해짐!  갯수 : \", globals()['G{}_num_clusters_in_layer{}_w'.format(global_epoch, layer_index)], num_clusters_for_w) ########################################################******************************************\n",
    "\n",
    "    # ==========> 클러스터 갯수 정해짐\n",
    "\n",
    "\n",
    "    #----------------------------------------------- 스케일링  ---------------------------------------------------------------------\n",
    "    for num_c_w in range(num_clusters_for_w+2): #클러스터 갯수 (num_clusters_for_w) 만큼 클러스터용 = 클러스터 갯수가 3이 나왔으면 3개를 만들어야 함\n",
    "        globals()['G{}_c{}_w_layer{}'.format(global_epoch, num_c_w, layer_index)] = 0  #각각 cluster, Act+cluster 용도  \n",
    "        \n",
    "        globals()['w_scaler_c{}_sum'.format(num_c_w)], globals()['int_c{}_w'.format(num_c_w)] = 0, 0 #초기화\n",
    "    \n",
    "        for i in range(1, local):\n",
    "            if globals()['w_layer{}_label'.format(layer_index)][i-1] == num_c_w  : # 클러스터 레이블에 맞게 (0 or 1 or 2 ..) \n",
    "                globals()['w_scaler_c{}_sum'.format(num_c_w)] = globals()['w_scaler_c{}_sum'.format(num_c_w)] + len(globals()['L{}_x_train'.format(i)])\n",
    "\n",
    "                globals()['G{}_c{}_w_layer{}'.format(global_epoch, num_c_w, layer_index)] = globals()['G{}_c{}_w_layer{}'.format(global_epoch, num_c_w, layer_index)] + np.array(globals()['L{}_layer{}_w'.format(i,layer_index)])          # 일반 클러스터링\n",
    "                \n",
    "                globals()['int_c{}_w'.format(num_c_w)] = globals()['int_c{}_w'.format(num_c_w)] + 1\n",
    "\n",
    "        globals()['w_scaler{}'.format(num_c_w)] = len(globals()['L{}_x_train'.format(i)]) / globals()['w_scaler_c{}_sum'.format(num_c_w)]\n",
    "        globals()['G{}_c{}_w_layer{}'.format(global_epoch, num_c_w, layer_index)] = globals()['G{}_c{}_w_layer{}'.format(global_epoch, num_c_w, layer_index)] / globals()['int_c{}_w'.format(num_c_w)] #레이어 별 클러스터 자기 갯수만큼 나눠주기=평균\n",
    "\n",
    "    \n",
    "    VAR_final_list_w.append(globals()['var_list_layer{}_w'.format(layer_index)])\n",
    "    VAR_final_list_b.append(globals()['var_list_layer{}_b'.format(layer_index)])\n",
    "\n",
    "#---------------------------------------------------------메모리 삭제-------------------------------------------------------------------\n",
    "\n",
    "transformed = 0\n",
    "Silhouette_sc_c.append(best_Sil_score_c)\n",
    "Cluster_ACC.append(cluster_acc)\n",
    "Cluster_LOSS.append(cluster_loss)\n",
    "\n",
    "## G{}_num_clusters_in_layer{}_w 에 속하는 거 말고 삭제 = 메모리 낭비\n",
    "\n",
    "# Weight, bias 합친 것\n",
    " # FedAvg                   :  G{}_w_layer\n",
    " # 일반 클러스터링          :  G{}_c{}_w_layer{}               클러스터 갯수 파악 : G{}_num_clusters_in_layer{}_w\n",
    " # Actiavtion + 클러스터링  :  G{}_c{}_w_layer{}_Act           클러스터 갯수 파악 : G{}_num_clusters_in_layer{}_w_c_a"
   ]
  },
  {
   "cell_type": "code",
   "execution_count": 8,
   "metadata": {
    "colab": {
     "base_uri": "https://localhost:8080/"
    },
    "executionInfo": {
     "elapsed": 984240,
     "status": "ok",
     "timestamp": 1627663392148,
     "user": {
      "displayName": "이훈민",
      "photoUrl": "",
      "userId": "00157268181097362793"
     },
     "user_tz": 240
    },
    "id": "T6GDN301TefI",
    "outputId": "b41f1360-a8db-4f78-9d68-708195e50031",
    "scrolled": true
   },
   "outputs": [
    {
     "name": "stdout",
     "output_type": "stream",
     "text": [
      "1  번째 global_epoch 데이터 랜덤하게 준비!!\n",
      "1  번째 global_epoch 데이터 랜덤 준비완료!!\n",
      "\n",
      "\n",
      "1  번째 global epoch에서 로컬 클라이언트 들 학습시작!\n",
      "\n",
      "학습 중 ...\n",
      "\n",
      "15/15 - 0s - loss: 0.6422 - accuracy: 0.7500\n",
      "15/15 - 0s - loss: 0.7067 - accuracy: 0.7416\n",
      "15/15 - 0s - loss: 0.7958 - accuracy: 0.7080\n",
      "15/15 - 0s - loss: 0.6958 - accuracy: 0.7416\n",
      "15/15 - 0s - loss: 0.6970 - accuracy: 0.7416\n",
      "15/15 - 0s - loss: 0.8576 - accuracy: 0.6387\n",
      "15/15 - 0s - loss: 0.8759 - accuracy: 0.6786\n",
      "15/15 - 0s - loss: 0.6181 - accuracy: 0.7479\n",
      "15/15 - 0s - loss: 0.5424 - accuracy: 0.8256\n",
      "15/15 - 0s - loss: 0.6568 - accuracy: 0.7710\n",
      "15/15 - 0s - loss: 0.7818 - accuracy: 0.7206\n",
      "15/15 - 0s - loss: 0.7427 - accuracy: 0.7164\n",
      "15/15 - 0s - loss: 0.9164 - accuracy: 0.6576\n",
      "15/15 - 0s - loss: 0.8299 - accuracy: 0.6807\n",
      "15/15 - 0s - loss: 0.7815 - accuracy: 0.7143\n",
      "15/15 - 0s - loss: 0.7598 - accuracy: 0.7080\n",
      "15/15 - 0s - loss: 0.8998 - accuracy: 0.6534\n",
      "15/15 - 0s - loss: 0.7745 - accuracy: 0.6933\n",
      "15/15 - 0s - loss: 0.7314 - accuracy: 0.7332\n",
      "15/15 - 0s - loss: 0.7910 - accuracy: 0.6891\n",
      "------------    1  번째 global epoch < Clustering > 로컬 클라이언트 학습 완료!,  Total Training time :  121.786700963974 ---------------------------\n",
      "\n",
      "\n",
      "Layer :  0   클러스터 갯수 정해짐!  갯수 :  2 0\n"
     ]
    },
    {
     "name": "stderr",
     "output_type": "stream",
     "text": [
      "<ipython-input-8-cf8b57b41ddb>:143: VisibleDeprecationWarning: Creating an ndarray from ragged nested sequences (which is a list-or-tuple of lists-or-tuples-or ndarrays with different lengths or shapes) is deprecated. If you meant to do this, you must specify 'dtype=object' when creating the ndarray\n",
      "  globals()['G{}_c{}_w_layer{}'.format(global_epoch, num_c_w, layer_index)] = globals()['G{}_c{}_w_layer{}'.format(global_epoch, num_c_w, layer_index)] + np.array(globals()['L{}_layer{}_w_c'.format(i,layer_index)])   # 일반 클러스터링\n"
     ]
    },
    {
     "name": "stdout",
     "output_type": "stream",
     "text": [
      "Layer :  2   클러스터 갯수 정해짐!  갯수 :  2 0\n"
     ]
    },
    {
     "name": "stderr",
     "output_type": "stream",
     "text": [
      "<ipython-input-8-cf8b57b41ddb>:143: VisibleDeprecationWarning: Creating an ndarray from ragged nested sequences (which is a list-or-tuple of lists-or-tuples-or ndarrays with different lengths or shapes) is deprecated. If you meant to do this, you must specify 'dtype=object' when creating the ndarray\n",
      "  globals()['G{}_c{}_w_layer{}'.format(global_epoch, num_c_w, layer_index)] = globals()['G{}_c{}_w_layer{}'.format(global_epoch, num_c_w, layer_index)] + np.array(globals()['L{}_layer{}_w_c'.format(i,layer_index)])   # 일반 클러스터링\n"
     ]
    },
    {
     "name": "stdout",
     "output_type": "stream",
     "text": [
      "Layer :  4   클러스터 갯수 정해짐!  갯수 :  2 0\n"
     ]
    },
    {
     "name": "stderr",
     "output_type": "stream",
     "text": [
      "<ipython-input-8-cf8b57b41ddb>:143: VisibleDeprecationWarning: Creating an ndarray from ragged nested sequences (which is a list-or-tuple of lists-or-tuples-or ndarrays with different lengths or shapes) is deprecated. If you meant to do this, you must specify 'dtype=object' when creating the ndarray\n",
      "  globals()['G{}_c{}_w_layer{}'.format(global_epoch, num_c_w, layer_index)] = globals()['G{}_c{}_w_layer{}'.format(global_epoch, num_c_w, layer_index)] + np.array(globals()['L{}_layer{}_w_c'.format(i,layer_index)])   # 일반 클러스터링\n"
     ]
    },
    {
     "name": "stdout",
     "output_type": "stream",
     "text": [
      "Layer :  6   클러스터 갯수 정해짐!  갯수 :  2 0\n"
     ]
    },
    {
     "name": "stderr",
     "output_type": "stream",
     "text": [
      "<ipython-input-8-cf8b57b41ddb>:143: VisibleDeprecationWarning: Creating an ndarray from ragged nested sequences (which is a list-or-tuple of lists-or-tuples-or ndarrays with different lengths or shapes) is deprecated. If you meant to do this, you must specify 'dtype=object' when creating the ndarray\n",
      "  globals()['G{}_c{}_w_layer{}'.format(global_epoch, num_c_w, layer_index)] = globals()['G{}_c{}_w_layer{}'.format(global_epoch, num_c_w, layer_index)] + np.array(globals()['L{}_layer{}_w_c'.format(i,layer_index)])   # 일반 클러스터링\n"
     ]
    },
    {
     "name": "stdout",
     "output_type": "stream",
     "text": [
      "Layer :  7   클러스터 갯수 정해짐!  갯수 :  2 0\n",
      "\n",
      "\n",
      "====================================================== One Global Epoch =====================================================================\n",
      "\n",
      "\n",
      "2  번째 global_epoch 데이터 랜덤하게 준비!!\n"
     ]
    },
    {
     "name": "stderr",
     "output_type": "stream",
     "text": [
      "<ipython-input-8-cf8b57b41ddb>:143: VisibleDeprecationWarning: Creating an ndarray from ragged nested sequences (which is a list-or-tuple of lists-or-tuples-or ndarrays with different lengths or shapes) is deprecated. If you meant to do this, you must specify 'dtype=object' when creating the ndarray\n",
      "  globals()['G{}_c{}_w_layer{}'.format(global_epoch, num_c_w, layer_index)] = globals()['G{}_c{}_w_layer{}'.format(global_epoch, num_c_w, layer_index)] + np.array(globals()['L{}_layer{}_w_c'.format(i,layer_index)])   # 일반 클러스터링\n"
     ]
    },
    {
     "name": "stdout",
     "output_type": "stream",
     "text": [
      "2  번째 global_epoch 데이터 랜덤 준비완료!!\n",
      "\n",
      "\n",
      "2  번째 global epoch에서 로컬 클라이언트 들 학습시작!\n",
      "\n",
      "학습 중 ...\n",
      "\n",
      "15/15 - 0s - loss: 0.6275 - accuracy: 0.7815\n",
      "15/15 - 0s - loss: 0.6979 - accuracy: 0.7542\n",
      "15/15 - 0s - loss: 0.5963 - accuracy: 0.7815\n",
      "15/15 - 0s - loss: 0.6206 - accuracy: 0.7794\n",
      "15/15 - 0s - loss: 0.6447 - accuracy: 0.7626\n",
      "15/15 - 0s - loss: 0.6779 - accuracy: 0.7584\n",
      "15/15 - 0s - loss: 0.5618 - accuracy: 0.7941\n",
      "15/15 - 0s - loss: 0.6848 - accuracy: 0.7164\n",
      "15/15 - 0s - loss: 0.6492 - accuracy: 0.7584\n",
      "15/15 - 0s - loss: 0.6536 - accuracy: 0.7584\n",
      "15/15 - 0s - loss: 0.5948 - accuracy: 0.7920\n",
      "15/15 - 0s - loss: 0.8015 - accuracy: 0.7458\n",
      "15/15 - 0s - loss: 0.6539 - accuracy: 0.7479\n",
      "15/15 - 0s - loss: 0.6930 - accuracy: 0.7374\n",
      "15/15 - 0s - loss: 0.6929 - accuracy: 0.7395\n",
      "15/15 - 0s - loss: 0.6871 - accuracy: 0.7731\n",
      "15/15 - 0s - loss: 0.7031 - accuracy: 0.7227\n",
      "15/15 - 0s - loss: 0.6418 - accuracy: 0.7689\n",
      "15/15 - 0s - loss: 0.6010 - accuracy: 0.7857\n",
      "15/15 - 0s - loss: 0.6183 - accuracy: 0.7689\n",
      "------------    2  번째 global epoch < Clustering > 로컬 클라이언트 학습 완료!,  Total Training time :  124.23323464393616 ---------------------------\n",
      "\n",
      "\n",
      "Layer :  0   클러스터 갯수 정해짐!  갯수 :  2 0\n"
     ]
    },
    {
     "name": "stderr",
     "output_type": "stream",
     "text": [
      "<ipython-input-8-cf8b57b41ddb>:143: VisibleDeprecationWarning: Creating an ndarray from ragged nested sequences (which is a list-or-tuple of lists-or-tuples-or ndarrays with different lengths or shapes) is deprecated. If you meant to do this, you must specify 'dtype=object' when creating the ndarray\n",
      "  globals()['G{}_c{}_w_layer{}'.format(global_epoch, num_c_w, layer_index)] = globals()['G{}_c{}_w_layer{}'.format(global_epoch, num_c_w, layer_index)] + np.array(globals()['L{}_layer{}_w_c'.format(i,layer_index)])   # 일반 클러스터링\n"
     ]
    },
    {
     "name": "stdout",
     "output_type": "stream",
     "text": [
      "Layer :  2   클러스터 갯수 정해짐!  갯수 :  2 0\n"
     ]
    },
    {
     "name": "stderr",
     "output_type": "stream",
     "text": [
      "<ipython-input-8-cf8b57b41ddb>:143: VisibleDeprecationWarning: Creating an ndarray from ragged nested sequences (which is a list-or-tuple of lists-or-tuples-or ndarrays with different lengths or shapes) is deprecated. If you meant to do this, you must specify 'dtype=object' when creating the ndarray\n",
      "  globals()['G{}_c{}_w_layer{}'.format(global_epoch, num_c_w, layer_index)] = globals()['G{}_c{}_w_layer{}'.format(global_epoch, num_c_w, layer_index)] + np.array(globals()['L{}_layer{}_w_c'.format(i,layer_index)])   # 일반 클러스터링\n"
     ]
    },
    {
     "name": "stdout",
     "output_type": "stream",
     "text": [
      "Layer :  4   클러스터 갯수 정해짐!  갯수 :  2 0\n"
     ]
    },
    {
     "name": "stderr",
     "output_type": "stream",
     "text": [
      "<ipython-input-8-cf8b57b41ddb>:143: VisibleDeprecationWarning: Creating an ndarray from ragged nested sequences (which is a list-or-tuple of lists-or-tuples-or ndarrays with different lengths or shapes) is deprecated. If you meant to do this, you must specify 'dtype=object' when creating the ndarray\n",
      "  globals()['G{}_c{}_w_layer{}'.format(global_epoch, num_c_w, layer_index)] = globals()['G{}_c{}_w_layer{}'.format(global_epoch, num_c_w, layer_index)] + np.array(globals()['L{}_layer{}_w_c'.format(i,layer_index)])   # 일반 클러스터링\n"
     ]
    },
    {
     "name": "stdout",
     "output_type": "stream",
     "text": [
      "Layer :  6   클러스터 갯수 정해짐!  갯수 :  2 0\n"
     ]
    },
    {
     "name": "stderr",
     "output_type": "stream",
     "text": [
      "<ipython-input-8-cf8b57b41ddb>:143: VisibleDeprecationWarning: Creating an ndarray from ragged nested sequences (which is a list-or-tuple of lists-or-tuples-or ndarrays with different lengths or shapes) is deprecated. If you meant to do this, you must specify 'dtype=object' when creating the ndarray\n",
      "  globals()['G{}_c{}_w_layer{}'.format(global_epoch, num_c_w, layer_index)] = globals()['G{}_c{}_w_layer{}'.format(global_epoch, num_c_w, layer_index)] + np.array(globals()['L{}_layer{}_w_c'.format(i,layer_index)])   # 일반 클러스터링\n"
     ]
    },
    {
     "name": "stdout",
     "output_type": "stream",
     "text": [
      "Layer :  7   클러스터 갯수 정해짐!  갯수 :  2 0\n",
      "\n",
      "\n",
      "====================================================== One Global Epoch =====================================================================\n",
      "\n",
      "\n",
      "3  번째 global_epoch 데이터 랜덤하게 준비!!\n"
     ]
    },
    {
     "name": "stderr",
     "output_type": "stream",
     "text": [
      "<ipython-input-8-cf8b57b41ddb>:143: VisibleDeprecationWarning: Creating an ndarray from ragged nested sequences (which is a list-or-tuple of lists-or-tuples-or ndarrays with different lengths or shapes) is deprecated. If you meant to do this, you must specify 'dtype=object' when creating the ndarray\n",
      "  globals()['G{}_c{}_w_layer{}'.format(global_epoch, num_c_w, layer_index)] = globals()['G{}_c{}_w_layer{}'.format(global_epoch, num_c_w, layer_index)] + np.array(globals()['L{}_layer{}_w_c'.format(i,layer_index)])   # 일반 클러스터링\n"
     ]
    },
    {
     "name": "stdout",
     "output_type": "stream",
     "text": [
      "3  번째 global_epoch 데이터 랜덤 준비완료!!\n",
      "\n",
      "\n",
      "3  번째 global epoch에서 로컬 클라이언트 들 학습시작!\n",
      "\n",
      "학습 중 ...\n",
      "\n",
      "15/15 - 0s - loss: 0.6551 - accuracy: 0.7773\n",
      "15/15 - 0s - loss: 0.7539 - accuracy: 0.7227\n",
      "15/15 - 0s - loss: 0.7231 - accuracy: 0.7584\n",
      "15/15 - 0s - loss: 0.6313 - accuracy: 0.8046\n",
      "15/15 - 0s - loss: 0.5695 - accuracy: 0.8004\n",
      "15/15 - 0s - loss: 0.5841 - accuracy: 0.7962\n",
      "15/15 - 0s - loss: 0.6773 - accuracy: 0.7710\n",
      "15/15 - 0s - loss: 0.7281 - accuracy: 0.7437\n",
      "15/15 - 0s - loss: 0.5996 - accuracy: 0.7794\n",
      "15/15 - 0s - loss: 0.6873 - accuracy: 0.7626\n",
      "15/15 - 0s - loss: 0.6681 - accuracy: 0.7815\n",
      "15/15 - 0s - loss: 0.5908 - accuracy: 0.7773\n",
      "15/15 - 0s - loss: 0.6351 - accuracy: 0.7710\n",
      "15/15 - 0s - loss: 0.5519 - accuracy: 0.7857\n",
      "15/15 - 0s - loss: 0.5445 - accuracy: 0.8004\n",
      "15/15 - 0s - loss: 0.6238 - accuracy: 0.7710\n",
      "15/15 - 0s - loss: 0.4717 - accuracy: 0.8235\n",
      "15/15 - 0s - loss: 0.7126 - accuracy: 0.7731\n",
      "15/15 - 0s - loss: 0.6253 - accuracy: 0.7878\n",
      "15/15 - 0s - loss: 0.6128 - accuracy: 0.7731\n",
      "------------    3  번째 global epoch < Clustering > 로컬 클라이언트 학습 완료!,  Total Training time :  125.8141040802002 ---------------------------\n",
      "\n",
      "\n",
      "Layer :  0   클러스터 갯수 정해짐!  갯수 :  2 0\n"
     ]
    },
    {
     "name": "stderr",
     "output_type": "stream",
     "text": [
      "<ipython-input-8-cf8b57b41ddb>:143: VisibleDeprecationWarning: Creating an ndarray from ragged nested sequences (which is a list-or-tuple of lists-or-tuples-or ndarrays with different lengths or shapes) is deprecated. If you meant to do this, you must specify 'dtype=object' when creating the ndarray\n",
      "  globals()['G{}_c{}_w_layer{}'.format(global_epoch, num_c_w, layer_index)] = globals()['G{}_c{}_w_layer{}'.format(global_epoch, num_c_w, layer_index)] + np.array(globals()['L{}_layer{}_w_c'.format(i,layer_index)])   # 일반 클러스터링\n"
     ]
    },
    {
     "name": "stdout",
     "output_type": "stream",
     "text": [
      "Layer :  2   클러스터 갯수 정해짐!  갯수 :  2 0\n"
     ]
    },
    {
     "name": "stderr",
     "output_type": "stream",
     "text": [
      "<ipython-input-8-cf8b57b41ddb>:143: VisibleDeprecationWarning: Creating an ndarray from ragged nested sequences (which is a list-or-tuple of lists-or-tuples-or ndarrays with different lengths or shapes) is deprecated. If you meant to do this, you must specify 'dtype=object' when creating the ndarray\n",
      "  globals()['G{}_c{}_w_layer{}'.format(global_epoch, num_c_w, layer_index)] = globals()['G{}_c{}_w_layer{}'.format(global_epoch, num_c_w, layer_index)] + np.array(globals()['L{}_layer{}_w_c'.format(i,layer_index)])   # 일반 클러스터링\n"
     ]
    },
    {
     "name": "stdout",
     "output_type": "stream",
     "text": [
      "Layer :  4   클러스터 갯수 정해짐!  갯수 :  2 0\n"
     ]
    },
    {
     "name": "stderr",
     "output_type": "stream",
     "text": [
      "<ipython-input-8-cf8b57b41ddb>:143: VisibleDeprecationWarning: Creating an ndarray from ragged nested sequences (which is a list-or-tuple of lists-or-tuples-or ndarrays with different lengths or shapes) is deprecated. If you meant to do this, you must specify 'dtype=object' when creating the ndarray\n",
      "  globals()['G{}_c{}_w_layer{}'.format(global_epoch, num_c_w, layer_index)] = globals()['G{}_c{}_w_layer{}'.format(global_epoch, num_c_w, layer_index)] + np.array(globals()['L{}_layer{}_w_c'.format(i,layer_index)])   # 일반 클러스터링\n"
     ]
    },
    {
     "name": "stdout",
     "output_type": "stream",
     "text": [
      "Layer :  6   클러스터 갯수 정해짐!  갯수 :  2 0\n"
     ]
    },
    {
     "name": "stderr",
     "output_type": "stream",
     "text": [
      "<ipython-input-8-cf8b57b41ddb>:143: VisibleDeprecationWarning: Creating an ndarray from ragged nested sequences (which is a list-or-tuple of lists-or-tuples-or ndarrays with different lengths or shapes) is deprecated. If you meant to do this, you must specify 'dtype=object' when creating the ndarray\n",
      "  globals()['G{}_c{}_w_layer{}'.format(global_epoch, num_c_w, layer_index)] = globals()['G{}_c{}_w_layer{}'.format(global_epoch, num_c_w, layer_index)] + np.array(globals()['L{}_layer{}_w_c'.format(i,layer_index)])   # 일반 클러스터링\n"
     ]
    },
    {
     "name": "stdout",
     "output_type": "stream",
     "text": [
      "Layer :  7   클러스터 갯수 정해짐!  갯수 :  2 0\n",
      "\n",
      "\n",
      "====================================================== One Global Epoch =====================================================================\n",
      "\n",
      "\n",
      "4  번째 global_epoch 데이터 랜덤하게 준비!!\n"
     ]
    },
    {
     "name": "stderr",
     "output_type": "stream",
     "text": [
      "<ipython-input-8-cf8b57b41ddb>:143: VisibleDeprecationWarning: Creating an ndarray from ragged nested sequences (which is a list-or-tuple of lists-or-tuples-or ndarrays with different lengths or shapes) is deprecated. If you meant to do this, you must specify 'dtype=object' when creating the ndarray\n",
      "  globals()['G{}_c{}_w_layer{}'.format(global_epoch, num_c_w, layer_index)] = globals()['G{}_c{}_w_layer{}'.format(global_epoch, num_c_w, layer_index)] + np.array(globals()['L{}_layer{}_w_c'.format(i,layer_index)])   # 일반 클러스터링\n"
     ]
    },
    {
     "name": "stdout",
     "output_type": "stream",
     "text": [
      "4  번째 global_epoch 데이터 랜덤 준비완료!!\n",
      "\n",
      "\n",
      "4  번째 global epoch에서 로컬 클라이언트 들 학습시작!\n",
      "\n",
      "학습 중 ...\n",
      "\n",
      "15/15 - 0s - loss: 0.6234 - accuracy: 0.7899\n",
      "15/15 - 0s - loss: 0.6864 - accuracy: 0.7878\n",
      "15/15 - 0s - loss: 0.6709 - accuracy: 0.8046\n",
      "15/15 - 0s - loss: 0.5737 - accuracy: 0.8172\n",
      "15/15 - 0s - loss: 0.5693 - accuracy: 0.8109\n",
      "15/15 - 0s - loss: 0.6328 - accuracy: 0.7668\n",
      "15/15 - 0s - loss: 0.5973 - accuracy: 0.7899\n",
      "15/15 - 0s - loss: 0.4962 - accuracy: 0.8256\n",
      "15/15 - 0s - loss: 0.6075 - accuracy: 0.8004\n",
      "15/15 - 0s - loss: 0.6228 - accuracy: 0.8067\n",
      "15/15 - 0s - loss: 0.6013 - accuracy: 0.8004\n",
      "15/15 - 0s - loss: 0.6182 - accuracy: 0.7920\n",
      "15/15 - 0s - loss: 0.6066 - accuracy: 0.7899\n",
      "15/15 - 0s - loss: 0.5180 - accuracy: 0.8151\n",
      "15/15 - 0s - loss: 0.6093 - accuracy: 0.7899\n",
      "15/15 - 0s - loss: 0.5738 - accuracy: 0.7773\n",
      "15/15 - 0s - loss: 0.6109 - accuracy: 0.8151\n",
      "15/15 - 0s - loss: 0.6507 - accuracy: 0.7815\n",
      "15/15 - 0s - loss: 0.6455 - accuracy: 0.7752\n",
      "15/15 - 0s - loss: 0.6315 - accuracy: 0.7857\n",
      "------------    4  번째 global epoch < Clustering > 로컬 클라이언트 학습 완료!,  Total Training time :  122.79803609848022 ---------------------------\n",
      "\n",
      "\n",
      "Layer :  0   클러스터 갯수 정해짐!  갯수 :  2 0\n"
     ]
    },
    {
     "name": "stderr",
     "output_type": "stream",
     "text": [
      "<ipython-input-8-cf8b57b41ddb>:143: VisibleDeprecationWarning: Creating an ndarray from ragged nested sequences (which is a list-or-tuple of lists-or-tuples-or ndarrays with different lengths or shapes) is deprecated. If you meant to do this, you must specify 'dtype=object' when creating the ndarray\n",
      "  globals()['G{}_c{}_w_layer{}'.format(global_epoch, num_c_w, layer_index)] = globals()['G{}_c{}_w_layer{}'.format(global_epoch, num_c_w, layer_index)] + np.array(globals()['L{}_layer{}_w_c'.format(i,layer_index)])   # 일반 클러스터링\n"
     ]
    },
    {
     "name": "stdout",
     "output_type": "stream",
     "text": [
      "Layer :  2   클러스터 갯수 정해짐!  갯수 :  2 0\n"
     ]
    },
    {
     "name": "stderr",
     "output_type": "stream",
     "text": [
      "<ipython-input-8-cf8b57b41ddb>:143: VisibleDeprecationWarning: Creating an ndarray from ragged nested sequences (which is a list-or-tuple of lists-or-tuples-or ndarrays with different lengths or shapes) is deprecated. If you meant to do this, you must specify 'dtype=object' when creating the ndarray\n",
      "  globals()['G{}_c{}_w_layer{}'.format(global_epoch, num_c_w, layer_index)] = globals()['G{}_c{}_w_layer{}'.format(global_epoch, num_c_w, layer_index)] + np.array(globals()['L{}_layer{}_w_c'.format(i,layer_index)])   # 일반 클러스터링\n"
     ]
    },
    {
     "name": "stdout",
     "output_type": "stream",
     "text": [
      "Layer :  4   클러스터 갯수 정해짐!  갯수 :  3 1\n"
     ]
    },
    {
     "name": "stderr",
     "output_type": "stream",
     "text": [
      "<ipython-input-8-cf8b57b41ddb>:143: VisibleDeprecationWarning: Creating an ndarray from ragged nested sequences (which is a list-or-tuple of lists-or-tuples-or ndarrays with different lengths or shapes) is deprecated. If you meant to do this, you must specify 'dtype=object' when creating the ndarray\n",
      "  globals()['G{}_c{}_w_layer{}'.format(global_epoch, num_c_w, layer_index)] = globals()['G{}_c{}_w_layer{}'.format(global_epoch, num_c_w, layer_index)] + np.array(globals()['L{}_layer{}_w_c'.format(i,layer_index)])   # 일반 클러스터링\n"
     ]
    },
    {
     "name": "stdout",
     "output_type": "stream",
     "text": [
      "Layer :  6   클러스터 갯수 정해짐!  갯수 :  2 0\n"
     ]
    },
    {
     "name": "stderr",
     "output_type": "stream",
     "text": [
      "<ipython-input-8-cf8b57b41ddb>:143: VisibleDeprecationWarning: Creating an ndarray from ragged nested sequences (which is a list-or-tuple of lists-or-tuples-or ndarrays with different lengths or shapes) is deprecated. If you meant to do this, you must specify 'dtype=object' when creating the ndarray\n",
      "  globals()['G{}_c{}_w_layer{}'.format(global_epoch, num_c_w, layer_index)] = globals()['G{}_c{}_w_layer{}'.format(global_epoch, num_c_w, layer_index)] + np.array(globals()['L{}_layer{}_w_c'.format(i,layer_index)])   # 일반 클러스터링\n"
     ]
    },
    {
     "name": "stdout",
     "output_type": "stream",
     "text": [
      "Layer :  7   클러스터 갯수 정해짐!  갯수 :  2 0\n",
      "\n",
      "\n",
      "====================================================== One Global Epoch =====================================================================\n",
      "\n",
      "\n",
      "5  번째 global_epoch 데이터 랜덤하게 준비!!\n"
     ]
    },
    {
     "name": "stderr",
     "output_type": "stream",
     "text": [
      "<ipython-input-8-cf8b57b41ddb>:143: VisibleDeprecationWarning: Creating an ndarray from ragged nested sequences (which is a list-or-tuple of lists-or-tuples-or ndarrays with different lengths or shapes) is deprecated. If you meant to do this, you must specify 'dtype=object' when creating the ndarray\n",
      "  globals()['G{}_c{}_w_layer{}'.format(global_epoch, num_c_w, layer_index)] = globals()['G{}_c{}_w_layer{}'.format(global_epoch, num_c_w, layer_index)] + np.array(globals()['L{}_layer{}_w_c'.format(i,layer_index)])   # 일반 클러스터링\n"
     ]
    },
    {
     "name": "stdout",
     "output_type": "stream",
     "text": [
      "5  번째 global_epoch 데이터 랜덤 준비완료!!\n",
      "\n",
      "\n",
      "5  번째 global epoch에서 로컬 클라이언트 들 학습시작!\n",
      "\n",
      "학습 중 ...\n",
      "\n",
      "15/15 - 0s - loss: 0.6760 - accuracy: 0.7815\n",
      "15/15 - 0s - loss: 0.6117 - accuracy: 0.7689\n",
      "15/15 - 0s - loss: 0.4872 - accuracy: 0.8361\n",
      "15/15 - 0s - loss: 0.5739 - accuracy: 0.8130\n",
      "15/15 - 0s - loss: 0.6433 - accuracy: 0.7710\n",
      "15/15 - 0s - loss: 0.5564 - accuracy: 0.8067\n",
      "15/15 - 0s - loss: 0.5883 - accuracy: 0.7899\n",
      "15/15 - 0s - loss: 0.5062 - accuracy: 0.8151\n",
      "15/15 - 0s - loss: 0.5005 - accuracy: 0.8193\n",
      "15/15 - 0s - loss: 0.6418 - accuracy: 0.7857\n",
      "15/15 - 0s - loss: 0.5948 - accuracy: 0.8130\n",
      "15/15 - 0s - loss: 0.5972 - accuracy: 0.8193\n",
      "15/15 - 0s - loss: 0.6291 - accuracy: 0.8046\n",
      "15/15 - 0s - loss: 0.6779 - accuracy: 0.7920\n",
      "15/15 - 0s - loss: 0.6746 - accuracy: 0.7815\n",
      "15/15 - 0s - loss: 0.6172 - accuracy: 0.8193\n",
      "15/15 - 0s - loss: 0.5587 - accuracy: 0.8340\n",
      "15/15 - 0s - loss: 0.7576 - accuracy: 0.7647\n",
      "15/15 - 0s - loss: 0.6058 - accuracy: 0.7815\n",
      "15/15 - 0s - loss: 0.5615 - accuracy: 0.8151\n",
      "------------    5  번째 global epoch < Clustering > 로컬 클라이언트 학습 완료!,  Total Training time :  124.13962602615356 ---------------------------\n",
      "\n",
      "\n",
      "Layer :  0   클러스터 갯수 정해짐!  갯수 :  2 0\n"
     ]
    },
    {
     "name": "stderr",
     "output_type": "stream",
     "text": [
      "<ipython-input-8-cf8b57b41ddb>:143: VisibleDeprecationWarning: Creating an ndarray from ragged nested sequences (which is a list-or-tuple of lists-or-tuples-or ndarrays with different lengths or shapes) is deprecated. If you meant to do this, you must specify 'dtype=object' when creating the ndarray\n",
      "  globals()['G{}_c{}_w_layer{}'.format(global_epoch, num_c_w, layer_index)] = globals()['G{}_c{}_w_layer{}'.format(global_epoch, num_c_w, layer_index)] + np.array(globals()['L{}_layer{}_w_c'.format(i,layer_index)])   # 일반 클러스터링\n"
     ]
    },
    {
     "name": "stdout",
     "output_type": "stream",
     "text": [
      "Layer :  2   클러스터 갯수 정해짐!  갯수 :  2 0\n"
     ]
    },
    {
     "name": "stderr",
     "output_type": "stream",
     "text": [
      "<ipython-input-8-cf8b57b41ddb>:143: VisibleDeprecationWarning: Creating an ndarray from ragged nested sequences (which is a list-or-tuple of lists-or-tuples-or ndarrays with different lengths or shapes) is deprecated. If you meant to do this, you must specify 'dtype=object' when creating the ndarray\n",
      "  globals()['G{}_c{}_w_layer{}'.format(global_epoch, num_c_w, layer_index)] = globals()['G{}_c{}_w_layer{}'.format(global_epoch, num_c_w, layer_index)] + np.array(globals()['L{}_layer{}_w_c'.format(i,layer_index)])   # 일반 클러스터링\n"
     ]
    },
    {
     "name": "stdout",
     "output_type": "stream",
     "text": [
      "Layer :  4   클러스터 갯수 정해짐!  갯수 :  3 1\n"
     ]
    },
    {
     "name": "stderr",
     "output_type": "stream",
     "text": [
      "<ipython-input-8-cf8b57b41ddb>:143: VisibleDeprecationWarning: Creating an ndarray from ragged nested sequences (which is a list-or-tuple of lists-or-tuples-or ndarrays with different lengths or shapes) is deprecated. If you meant to do this, you must specify 'dtype=object' when creating the ndarray\n",
      "  globals()['G{}_c{}_w_layer{}'.format(global_epoch, num_c_w, layer_index)] = globals()['G{}_c{}_w_layer{}'.format(global_epoch, num_c_w, layer_index)] + np.array(globals()['L{}_layer{}_w_c'.format(i,layer_index)])   # 일반 클러스터링\n"
     ]
    },
    {
     "name": "stdout",
     "output_type": "stream",
     "text": [
      "Layer :  6   클러스터 갯수 정해짐!  갯수 :  2 0\n"
     ]
    },
    {
     "name": "stderr",
     "output_type": "stream",
     "text": [
      "<ipython-input-8-cf8b57b41ddb>:143: VisibleDeprecationWarning: Creating an ndarray from ragged nested sequences (which is a list-or-tuple of lists-or-tuples-or ndarrays with different lengths or shapes) is deprecated. If you meant to do this, you must specify 'dtype=object' when creating the ndarray\n",
      "  globals()['G{}_c{}_w_layer{}'.format(global_epoch, num_c_w, layer_index)] = globals()['G{}_c{}_w_layer{}'.format(global_epoch, num_c_w, layer_index)] + np.array(globals()['L{}_layer{}_w_c'.format(i,layer_index)])   # 일반 클러스터링\n"
     ]
    },
    {
     "name": "stdout",
     "output_type": "stream",
     "text": [
      "Layer :  7   클러스터 갯수 정해짐!  갯수 :  2 0\n",
      "\n",
      "\n",
      "====================================================== One Global Epoch =====================================================================\n",
      "\n",
      "\n",
      "6  번째 global_epoch 데이터 랜덤하게 준비!!\n"
     ]
    },
    {
     "name": "stderr",
     "output_type": "stream",
     "text": [
      "<ipython-input-8-cf8b57b41ddb>:143: VisibleDeprecationWarning: Creating an ndarray from ragged nested sequences (which is a list-or-tuple of lists-or-tuples-or ndarrays with different lengths or shapes) is deprecated. If you meant to do this, you must specify 'dtype=object' when creating the ndarray\n",
      "  globals()['G{}_c{}_w_layer{}'.format(global_epoch, num_c_w, layer_index)] = globals()['G{}_c{}_w_layer{}'.format(global_epoch, num_c_w, layer_index)] + np.array(globals()['L{}_layer{}_w_c'.format(i,layer_index)])   # 일반 클러스터링\n"
     ]
    },
    {
     "name": "stdout",
     "output_type": "stream",
     "text": [
      "6  번째 global_epoch 데이터 랜덤 준비완료!!\n",
      "\n",
      "\n",
      "6  번째 global epoch에서 로컬 클라이언트 들 학습시작!\n",
      "\n",
      "학습 중 ...\n",
      "\n",
      "15/15 - 0s - loss: 0.5099 - accuracy: 0.8193\n",
      "15/15 - 0s - loss: 0.5112 - accuracy: 0.8235\n",
      "15/15 - 0s - loss: 0.5682 - accuracy: 0.8193\n",
      "15/15 - 0s - loss: 0.5796 - accuracy: 0.8298\n",
      "15/15 - 0s - loss: 0.5808 - accuracy: 0.7983\n",
      "15/15 - 0s - loss: 0.6008 - accuracy: 0.8235\n",
      "15/15 - 0s - loss: 0.6688 - accuracy: 0.8046\n",
      "15/15 - 0s - loss: 0.6992 - accuracy: 0.8151\n",
      "15/15 - 0s - loss: 0.5729 - accuracy: 0.8130\n",
      "15/15 - 0s - loss: 0.7707 - accuracy: 0.7836\n",
      "15/15 - 0s - loss: 0.6029 - accuracy: 0.8046\n",
      "15/15 - 0s - loss: 0.6671 - accuracy: 0.8256\n",
      "15/15 - 0s - loss: 0.7690 - accuracy: 0.7878\n",
      "15/15 - 0s - loss: 0.7634 - accuracy: 0.7815\n",
      "15/15 - 0s - loss: 0.5224 - accuracy: 0.8172\n",
      "15/15 - 0s - loss: 0.8595 - accuracy: 0.7752\n",
      "15/15 - 0s - loss: 0.6463 - accuracy: 0.8088\n",
      "15/15 - 0s - loss: 0.6193 - accuracy: 0.8403\n",
      "15/15 - 0s - loss: 0.7074 - accuracy: 0.8193\n",
      "15/15 - 0s - loss: 0.5669 - accuracy: 0.8109\n",
      "------------    6  번째 global epoch < Clustering > 로컬 클라이언트 학습 완료!,  Total Training time :  132.18248319625854 ---------------------------\n",
      "\n",
      "\n",
      "Layer :  0   클러스터 갯수 정해짐!  갯수 :  2 0\n"
     ]
    },
    {
     "name": "stderr",
     "output_type": "stream",
     "text": [
      "<ipython-input-8-cf8b57b41ddb>:143: VisibleDeprecationWarning: Creating an ndarray from ragged nested sequences (which is a list-or-tuple of lists-or-tuples-or ndarrays with different lengths or shapes) is deprecated. If you meant to do this, you must specify 'dtype=object' when creating the ndarray\n",
      "  globals()['G{}_c{}_w_layer{}'.format(global_epoch, num_c_w, layer_index)] = globals()['G{}_c{}_w_layer{}'.format(global_epoch, num_c_w, layer_index)] + np.array(globals()['L{}_layer{}_w_c'.format(i,layer_index)])   # 일반 클러스터링\n"
     ]
    },
    {
     "name": "stdout",
     "output_type": "stream",
     "text": [
      "Layer :  2   클러스터 갯수 정해짐!  갯수 :  2 0\n"
     ]
    },
    {
     "name": "stderr",
     "output_type": "stream",
     "text": [
      "<ipython-input-8-cf8b57b41ddb>:143: VisibleDeprecationWarning: Creating an ndarray from ragged nested sequences (which is a list-or-tuple of lists-or-tuples-or ndarrays with different lengths or shapes) is deprecated. If you meant to do this, you must specify 'dtype=object' when creating the ndarray\n",
      "  globals()['G{}_c{}_w_layer{}'.format(global_epoch, num_c_w, layer_index)] = globals()['G{}_c{}_w_layer{}'.format(global_epoch, num_c_w, layer_index)] + np.array(globals()['L{}_layer{}_w_c'.format(i,layer_index)])   # 일반 클러스터링\n"
     ]
    },
    {
     "name": "stdout",
     "output_type": "stream",
     "text": [
      "Layer :  4   클러스터 갯수 정해짐!  갯수 :  3 1\n"
     ]
    },
    {
     "name": "stderr",
     "output_type": "stream",
     "text": [
      "<ipython-input-8-cf8b57b41ddb>:143: VisibleDeprecationWarning: Creating an ndarray from ragged nested sequences (which is a list-or-tuple of lists-or-tuples-or ndarrays with different lengths or shapes) is deprecated. If you meant to do this, you must specify 'dtype=object' when creating the ndarray\n",
      "  globals()['G{}_c{}_w_layer{}'.format(global_epoch, num_c_w, layer_index)] = globals()['G{}_c{}_w_layer{}'.format(global_epoch, num_c_w, layer_index)] + np.array(globals()['L{}_layer{}_w_c'.format(i,layer_index)])   # 일반 클러스터링\n"
     ]
    },
    {
     "name": "stdout",
     "output_type": "stream",
     "text": [
      "Layer :  6   클러스터 갯수 정해짐!  갯수 :  2 0\n"
     ]
    },
    {
     "name": "stderr",
     "output_type": "stream",
     "text": [
      "<ipython-input-8-cf8b57b41ddb>:143: VisibleDeprecationWarning: Creating an ndarray from ragged nested sequences (which is a list-or-tuple of lists-or-tuples-or ndarrays with different lengths or shapes) is deprecated. If you meant to do this, you must specify 'dtype=object' when creating the ndarray\n",
      "  globals()['G{}_c{}_w_layer{}'.format(global_epoch, num_c_w, layer_index)] = globals()['G{}_c{}_w_layer{}'.format(global_epoch, num_c_w, layer_index)] + np.array(globals()['L{}_layer{}_w_c'.format(i,layer_index)])   # 일반 클러스터링\n"
     ]
    },
    {
     "name": "stdout",
     "output_type": "stream",
     "text": [
      "Layer :  7   클러스터 갯수 정해짐!  갯수 :  2 0\n",
      "\n",
      "\n",
      "====================================================== One Global Epoch =====================================================================\n",
      "\n",
      "\n",
      "7  번째 global_epoch 데이터 랜덤하게 준비!!\n"
     ]
    },
    {
     "name": "stderr",
     "output_type": "stream",
     "text": [
      "<ipython-input-8-cf8b57b41ddb>:143: VisibleDeprecationWarning: Creating an ndarray from ragged nested sequences (which is a list-or-tuple of lists-or-tuples-or ndarrays with different lengths or shapes) is deprecated. If you meant to do this, you must specify 'dtype=object' when creating the ndarray\n",
      "  globals()['G{}_c{}_w_layer{}'.format(global_epoch, num_c_w, layer_index)] = globals()['G{}_c{}_w_layer{}'.format(global_epoch, num_c_w, layer_index)] + np.array(globals()['L{}_layer{}_w_c'.format(i,layer_index)])   # 일반 클러스터링\n"
     ]
    },
    {
     "name": "stdout",
     "output_type": "stream",
     "text": [
      "7  번째 global_epoch 데이터 랜덤 준비완료!!\n",
      "\n",
      "\n",
      "7  번째 global epoch에서 로컬 클라이언트 들 학습시작!\n",
      "\n",
      "학습 중 ...\n",
      "\n",
      "15/15 - 0s - loss: 0.5254 - accuracy: 0.8235\n",
      "15/15 - 0s - loss: 0.6881 - accuracy: 0.8046\n",
      "15/15 - 0s - loss: 0.5633 - accuracy: 0.8445\n",
      "15/15 - 0s - loss: 0.5935 - accuracy: 0.8319\n",
      "15/15 - 0s - loss: 0.4377 - accuracy: 0.8592\n",
      "15/15 - 0s - loss: 0.6548 - accuracy: 0.8088\n",
      "15/15 - 0s - loss: 0.6012 - accuracy: 0.8340\n",
      "15/15 - 0s - loss: 0.4465 - accuracy: 0.8803\n",
      "15/15 - 0s - loss: 0.6385 - accuracy: 0.8046\n",
      "15/15 - 0s - loss: 0.5821 - accuracy: 0.8382\n",
      "15/15 - 0s - loss: 0.9331 - accuracy: 0.7920\n",
      "15/15 - 0s - loss: 0.5670 - accuracy: 0.8214\n",
      "15/15 - 0s - loss: 0.6548 - accuracy: 0.8067\n",
      "15/15 - 0s - loss: 0.6053 - accuracy: 0.8109\n",
      "15/15 - 0s - loss: 0.6006 - accuracy: 0.8193\n",
      "15/15 - 0s - loss: 0.6377 - accuracy: 0.8067\n",
      "15/15 - 0s - loss: 0.6402 - accuracy: 0.8088\n",
      "15/15 - 0s - loss: 0.5170 - accuracy: 0.8424\n",
      "15/15 - 0s - loss: 0.6184 - accuracy: 0.8193\n",
      "15/15 - 0s - loss: 0.6655 - accuracy: 0.7941\n",
      "------------    7  번째 global epoch < Clustering > 로컬 클라이언트 학습 완료!,  Total Training time :  133.40675258636475 ---------------------------\n",
      "\n",
      "\n",
      "Layer :  0   클러스터 갯수 정해짐!  갯수 :  2 0\n"
     ]
    },
    {
     "name": "stderr",
     "output_type": "stream",
     "text": [
      "<ipython-input-8-cf8b57b41ddb>:143: VisibleDeprecationWarning: Creating an ndarray from ragged nested sequences (which is a list-or-tuple of lists-or-tuples-or ndarrays with different lengths or shapes) is deprecated. If you meant to do this, you must specify 'dtype=object' when creating the ndarray\n",
      "  globals()['G{}_c{}_w_layer{}'.format(global_epoch, num_c_w, layer_index)] = globals()['G{}_c{}_w_layer{}'.format(global_epoch, num_c_w, layer_index)] + np.array(globals()['L{}_layer{}_w_c'.format(i,layer_index)])   # 일반 클러스터링\n"
     ]
    },
    {
     "name": "stdout",
     "output_type": "stream",
     "text": [
      "Layer :  2   클러스터 갯수 정해짐!  갯수 :  2 0\n"
     ]
    },
    {
     "name": "stderr",
     "output_type": "stream",
     "text": [
      "<ipython-input-8-cf8b57b41ddb>:143: VisibleDeprecationWarning: Creating an ndarray from ragged nested sequences (which is a list-or-tuple of lists-or-tuples-or ndarrays with different lengths or shapes) is deprecated. If you meant to do this, you must specify 'dtype=object' when creating the ndarray\n",
      "  globals()['G{}_c{}_w_layer{}'.format(global_epoch, num_c_w, layer_index)] = globals()['G{}_c{}_w_layer{}'.format(global_epoch, num_c_w, layer_index)] + np.array(globals()['L{}_layer{}_w_c'.format(i,layer_index)])   # 일반 클러스터링\n"
     ]
    },
    {
     "name": "stdout",
     "output_type": "stream",
     "text": [
      "Layer :  4   클러스터 갯수 정해짐!  갯수 :  3 1\n"
     ]
    },
    {
     "name": "stderr",
     "output_type": "stream",
     "text": [
      "<ipython-input-8-cf8b57b41ddb>:143: VisibleDeprecationWarning: Creating an ndarray from ragged nested sequences (which is a list-or-tuple of lists-or-tuples-or ndarrays with different lengths or shapes) is deprecated. If you meant to do this, you must specify 'dtype=object' when creating the ndarray\n",
      "  globals()['G{}_c{}_w_layer{}'.format(global_epoch, num_c_w, layer_index)] = globals()['G{}_c{}_w_layer{}'.format(global_epoch, num_c_w, layer_index)] + np.array(globals()['L{}_layer{}_w_c'.format(i,layer_index)])   # 일반 클러스터링\n"
     ]
    },
    {
     "name": "stdout",
     "output_type": "stream",
     "text": [
      "Layer :  6   클러스터 갯수 정해짐!  갯수 :  2 0\n"
     ]
    },
    {
     "name": "stderr",
     "output_type": "stream",
     "text": [
      "<ipython-input-8-cf8b57b41ddb>:143: VisibleDeprecationWarning: Creating an ndarray from ragged nested sequences (which is a list-or-tuple of lists-or-tuples-or ndarrays with different lengths or shapes) is deprecated. If you meant to do this, you must specify 'dtype=object' when creating the ndarray\n",
      "  globals()['G{}_c{}_w_layer{}'.format(global_epoch, num_c_w, layer_index)] = globals()['G{}_c{}_w_layer{}'.format(global_epoch, num_c_w, layer_index)] + np.array(globals()['L{}_layer{}_w_c'.format(i,layer_index)])   # 일반 클러스터링\n"
     ]
    },
    {
     "name": "stdout",
     "output_type": "stream",
     "text": [
      "Layer :  7   클러스터 갯수 정해짐!  갯수 :  2 0\n",
      "\n",
      "\n",
      "====================================================== One Global Epoch =====================================================================\n",
      "\n",
      "\n",
      "8  번째 global_epoch 데이터 랜덤하게 준비!!\n"
     ]
    },
    {
     "name": "stderr",
     "output_type": "stream",
     "text": [
      "<ipython-input-8-cf8b57b41ddb>:143: VisibleDeprecationWarning: Creating an ndarray from ragged nested sequences (which is a list-or-tuple of lists-or-tuples-or ndarrays with different lengths or shapes) is deprecated. If you meant to do this, you must specify 'dtype=object' when creating the ndarray\n",
      "  globals()['G{}_c{}_w_layer{}'.format(global_epoch, num_c_w, layer_index)] = globals()['G{}_c{}_w_layer{}'.format(global_epoch, num_c_w, layer_index)] + np.array(globals()['L{}_layer{}_w_c'.format(i,layer_index)])   # 일반 클러스터링\n"
     ]
    },
    {
     "name": "stdout",
     "output_type": "stream",
     "text": [
      "8  번째 global_epoch 데이터 랜덤 준비완료!!\n",
      "\n",
      "\n",
      "8  번째 global epoch에서 로컬 클라이언트 들 학습시작!\n",
      "\n",
      "학습 중 ...\n",
      "\n",
      "15/15 - 0s - loss: 0.6404 - accuracy: 0.8193\n",
      "15/15 - 0s - loss: 0.6289 - accuracy: 0.8298\n",
      "15/15 - 0s - loss: 0.6788 - accuracy: 0.8277\n",
      "15/15 - 0s - loss: 0.6274 - accuracy: 0.8445\n",
      "15/15 - 0s - loss: 0.7924 - accuracy: 0.8067\n",
      "15/15 - 0s - loss: 0.5990 - accuracy: 0.8298\n",
      "15/15 - 0s - loss: 0.6311 - accuracy: 0.8214\n",
      "15/15 - 0s - loss: 0.5978 - accuracy: 0.8466\n",
      "15/15 - 0s - loss: 0.6057 - accuracy: 0.8382\n",
      "15/15 - 0s - loss: 0.5656 - accuracy: 0.8529\n",
      "15/15 - 0s - loss: 0.6680 - accuracy: 0.8046\n",
      "15/15 - 0s - loss: 0.6589 - accuracy: 0.8403\n",
      "15/15 - 0s - loss: 0.6009 - accuracy: 0.8382\n",
      "15/15 - 0s - loss: 0.5528 - accuracy: 0.8361\n",
      "15/15 - 0s - loss: 0.6129 - accuracy: 0.8445\n",
      "15/15 - 0s - loss: 0.8290 - accuracy: 0.7962\n",
      "15/15 - 0s - loss: 0.6404 - accuracy: 0.8298\n",
      "15/15 - 0s - loss: 0.6591 - accuracy: 0.8319\n",
      "15/15 - 0s - loss: 0.6503 - accuracy: 0.8382\n",
      "15/15 - 0s - loss: 0.5248 - accuracy: 0.8487\n",
      "------------    8  번째 global epoch < Clustering > 로컬 클라이언트 학습 완료!,  Total Training time :  139.67949652671814 ---------------------------\n",
      "\n",
      "\n",
      "Layer :  0   클러스터 갯수 정해짐!  갯수 :  2 0\n"
     ]
    },
    {
     "name": "stderr",
     "output_type": "stream",
     "text": [
      "<ipython-input-8-cf8b57b41ddb>:143: VisibleDeprecationWarning: Creating an ndarray from ragged nested sequences (which is a list-or-tuple of lists-or-tuples-or ndarrays with different lengths or shapes) is deprecated. If you meant to do this, you must specify 'dtype=object' when creating the ndarray\n",
      "  globals()['G{}_c{}_w_layer{}'.format(global_epoch, num_c_w, layer_index)] = globals()['G{}_c{}_w_layer{}'.format(global_epoch, num_c_w, layer_index)] + np.array(globals()['L{}_layer{}_w_c'.format(i,layer_index)])   # 일반 클러스터링\n"
     ]
    },
    {
     "name": "stdout",
     "output_type": "stream",
     "text": [
      "Layer :  2   클러스터 갯수 정해짐!  갯수 :  2 0\n"
     ]
    },
    {
     "name": "stderr",
     "output_type": "stream",
     "text": [
      "<ipython-input-8-cf8b57b41ddb>:143: VisibleDeprecationWarning: Creating an ndarray from ragged nested sequences (which is a list-or-tuple of lists-or-tuples-or ndarrays with different lengths or shapes) is deprecated. If you meant to do this, you must specify 'dtype=object' when creating the ndarray\n",
      "  globals()['G{}_c{}_w_layer{}'.format(global_epoch, num_c_w, layer_index)] = globals()['G{}_c{}_w_layer{}'.format(global_epoch, num_c_w, layer_index)] + np.array(globals()['L{}_layer{}_w_c'.format(i,layer_index)])   # 일반 클러스터링\n"
     ]
    },
    {
     "name": "stdout",
     "output_type": "stream",
     "text": [
      "Layer :  4   클러스터 갯수 정해짐!  갯수 :  4 2\n"
     ]
    },
    {
     "name": "stderr",
     "output_type": "stream",
     "text": [
      "<ipython-input-8-cf8b57b41ddb>:143: VisibleDeprecationWarning: Creating an ndarray from ragged nested sequences (which is a list-or-tuple of lists-or-tuples-or ndarrays with different lengths or shapes) is deprecated. If you meant to do this, you must specify 'dtype=object' when creating the ndarray\n",
      "  globals()['G{}_c{}_w_layer{}'.format(global_epoch, num_c_w, layer_index)] = globals()['G{}_c{}_w_layer{}'.format(global_epoch, num_c_w, layer_index)] + np.array(globals()['L{}_layer{}_w_c'.format(i,layer_index)])   # 일반 클러스터링\n"
     ]
    },
    {
     "name": "stdout",
     "output_type": "stream",
     "text": [
      "Layer :  6   클러스터 갯수 정해짐!  갯수 :  2 0\n"
     ]
    },
    {
     "name": "stderr",
     "output_type": "stream",
     "text": [
      "<ipython-input-8-cf8b57b41ddb>:143: VisibleDeprecationWarning: Creating an ndarray from ragged nested sequences (which is a list-or-tuple of lists-or-tuples-or ndarrays with different lengths or shapes) is deprecated. If you meant to do this, you must specify 'dtype=object' when creating the ndarray\n",
      "  globals()['G{}_c{}_w_layer{}'.format(global_epoch, num_c_w, layer_index)] = globals()['G{}_c{}_w_layer{}'.format(global_epoch, num_c_w, layer_index)] + np.array(globals()['L{}_layer{}_w_c'.format(i,layer_index)])   # 일반 클러스터링\n"
     ]
    },
    {
     "name": "stdout",
     "output_type": "stream",
     "text": [
      "Layer :  7   클러스터 갯수 정해짐!  갯수 :  2 0\n",
      "\n",
      "\n",
      "====================================================== One Global Epoch =====================================================================\n",
      "\n",
      "\n",
      "9  번째 global_epoch 데이터 랜덤하게 준비!!\n"
     ]
    },
    {
     "name": "stderr",
     "output_type": "stream",
     "text": [
      "<ipython-input-8-cf8b57b41ddb>:143: VisibleDeprecationWarning: Creating an ndarray from ragged nested sequences (which is a list-or-tuple of lists-or-tuples-or ndarrays with different lengths or shapes) is deprecated. If you meant to do this, you must specify 'dtype=object' when creating the ndarray\n",
      "  globals()['G{}_c{}_w_layer{}'.format(global_epoch, num_c_w, layer_index)] = globals()['G{}_c{}_w_layer{}'.format(global_epoch, num_c_w, layer_index)] + np.array(globals()['L{}_layer{}_w_c'.format(i,layer_index)])   # 일반 클러스터링\n"
     ]
    },
    {
     "name": "stdout",
     "output_type": "stream",
     "text": [
      "9  번째 global_epoch 데이터 랜덤 준비완료!!\n",
      "\n",
      "\n",
      "9  번째 global epoch에서 로컬 클라이언트 들 학습시작!\n",
      "\n",
      "학습 중 ...\n",
      "\n",
      "15/15 - 0s - loss: 0.6155 - accuracy: 0.8403\n",
      "15/15 - 0s - loss: 0.5739 - accuracy: 0.8319\n",
      "15/15 - 0s - loss: 0.7540 - accuracy: 0.8298\n",
      "15/15 - 0s - loss: 0.6144 - accuracy: 0.8508\n",
      "15/15 - 0s - loss: 0.4540 - accuracy: 0.8508\n",
      "15/15 - 0s - loss: 0.7674 - accuracy: 0.8403\n",
      "15/15 - 0s - loss: 0.6945 - accuracy: 0.8319\n",
      "15/15 - 0s - loss: 0.6155 - accuracy: 0.8214\n",
      "15/15 - 0s - loss: 0.7232 - accuracy: 0.8088\n",
      "15/15 - 0s - loss: 0.5852 - accuracy: 0.8529\n",
      "15/15 - 0s - loss: 0.6540 - accuracy: 0.8319\n",
      "15/15 - 0s - loss: 0.6320 - accuracy: 0.8256\n",
      "15/15 - 0s - loss: 0.6552 - accuracy: 0.8046\n",
      "15/15 - 0s - loss: 0.6268 - accuracy: 0.8424\n",
      "15/15 - 0s - loss: 0.7785 - accuracy: 0.8109\n",
      "15/15 - 0s - loss: 0.4869 - accuracy: 0.8634\n",
      "15/15 - 0s - loss: 0.5718 - accuracy: 0.8487\n",
      "15/15 - 0s - loss: 0.7422 - accuracy: 0.8277\n",
      "15/15 - 0s - loss: 0.6988 - accuracy: 0.8151\n",
      "15/15 - 0s - loss: 0.7502 - accuracy: 0.7773\n",
      "------------    9  번째 global epoch < Clustering > 로컬 클라이언트 학습 완료!,  Total Training time :  139.95551657676697 ---------------------------\n",
      "\n",
      "\n",
      "Layer :  0   클러스터 갯수 정해짐!  갯수 :  2 0\n"
     ]
    },
    {
     "name": "stderr",
     "output_type": "stream",
     "text": [
      "<ipython-input-8-cf8b57b41ddb>:143: VisibleDeprecationWarning: Creating an ndarray from ragged nested sequences (which is a list-or-tuple of lists-or-tuples-or ndarrays with different lengths or shapes) is deprecated. If you meant to do this, you must specify 'dtype=object' when creating the ndarray\n",
      "  globals()['G{}_c{}_w_layer{}'.format(global_epoch, num_c_w, layer_index)] = globals()['G{}_c{}_w_layer{}'.format(global_epoch, num_c_w, layer_index)] + np.array(globals()['L{}_layer{}_w_c'.format(i,layer_index)])   # 일반 클러스터링\n"
     ]
    },
    {
     "name": "stdout",
     "output_type": "stream",
     "text": [
      "Layer :  2   클러스터 갯수 정해짐!  갯수 :  2 0\n"
     ]
    },
    {
     "name": "stderr",
     "output_type": "stream",
     "text": [
      "<ipython-input-8-cf8b57b41ddb>:143: VisibleDeprecationWarning: Creating an ndarray from ragged nested sequences (which is a list-or-tuple of lists-or-tuples-or ndarrays with different lengths or shapes) is deprecated. If you meant to do this, you must specify 'dtype=object' when creating the ndarray\n",
      "  globals()['G{}_c{}_w_layer{}'.format(global_epoch, num_c_w, layer_index)] = globals()['G{}_c{}_w_layer{}'.format(global_epoch, num_c_w, layer_index)] + np.array(globals()['L{}_layer{}_w_c'.format(i,layer_index)])   # 일반 클러스터링\n"
     ]
    },
    {
     "name": "stdout",
     "output_type": "stream",
     "text": [
      "Layer :  4   클러스터 갯수 정해짐!  갯수 :  4 2\n"
     ]
    },
    {
     "name": "stderr",
     "output_type": "stream",
     "text": [
      "<ipython-input-8-cf8b57b41ddb>:143: VisibleDeprecationWarning: Creating an ndarray from ragged nested sequences (which is a list-or-tuple of lists-or-tuples-or ndarrays with different lengths or shapes) is deprecated. If you meant to do this, you must specify 'dtype=object' when creating the ndarray\n",
      "  globals()['G{}_c{}_w_layer{}'.format(global_epoch, num_c_w, layer_index)] = globals()['G{}_c{}_w_layer{}'.format(global_epoch, num_c_w, layer_index)] + np.array(globals()['L{}_layer{}_w_c'.format(i,layer_index)])   # 일반 클러스터링\n"
     ]
    },
    {
     "name": "stdout",
     "output_type": "stream",
     "text": [
      "Layer :  6   클러스터 갯수 정해짐!  갯수 :  2 0\n"
     ]
    },
    {
     "name": "stderr",
     "output_type": "stream",
     "text": [
      "<ipython-input-8-cf8b57b41ddb>:143: VisibleDeprecationWarning: Creating an ndarray from ragged nested sequences (which is a list-or-tuple of lists-or-tuples-or ndarrays with different lengths or shapes) is deprecated. If you meant to do this, you must specify 'dtype=object' when creating the ndarray\n",
      "  globals()['G{}_c{}_w_layer{}'.format(global_epoch, num_c_w, layer_index)] = globals()['G{}_c{}_w_layer{}'.format(global_epoch, num_c_w, layer_index)] + np.array(globals()['L{}_layer{}_w_c'.format(i,layer_index)])   # 일반 클러스터링\n"
     ]
    },
    {
     "name": "stdout",
     "output_type": "stream",
     "text": [
      "Layer :  7   클러스터 갯수 정해짐!  갯수 :  2 0\n",
      "\n",
      "\n",
      "====================================================== One Global Epoch =====================================================================\n",
      "\n",
      "\n",
      "10  번째 global_epoch 데이터 랜덤하게 준비!!\n"
     ]
    },
    {
     "name": "stderr",
     "output_type": "stream",
     "text": [
      "<ipython-input-8-cf8b57b41ddb>:143: VisibleDeprecationWarning: Creating an ndarray from ragged nested sequences (which is a list-or-tuple of lists-or-tuples-or ndarrays with different lengths or shapes) is deprecated. If you meant to do this, you must specify 'dtype=object' when creating the ndarray\n",
      "  globals()['G{}_c{}_w_layer{}'.format(global_epoch, num_c_w, layer_index)] = globals()['G{}_c{}_w_layer{}'.format(global_epoch, num_c_w, layer_index)] + np.array(globals()['L{}_layer{}_w_c'.format(i,layer_index)])   # 일반 클러스터링\n"
     ]
    },
    {
     "name": "stdout",
     "output_type": "stream",
     "text": [
      "10  번째 global_epoch 데이터 랜덤 준비완료!!\n",
      "\n",
      "\n",
      "10  번째 global epoch에서 로컬 클라이언트 들 학습시작!\n",
      "\n",
      "학습 중 ...\n",
      "\n",
      "15/15 - 0s - loss: 0.5618 - accuracy: 0.8403\n",
      "15/15 - 0s - loss: 0.7241 - accuracy: 0.8340\n",
      "15/15 - 0s - loss: 0.6161 - accuracy: 0.8130\n",
      "15/15 - 0s - loss: 0.6864 - accuracy: 0.8445\n",
      "15/15 - 0s - loss: 0.5363 - accuracy: 0.8571\n",
      "15/15 - 0s - loss: 0.6354 - accuracy: 0.8403\n",
      "15/15 - 0s - loss: 0.5955 - accuracy: 0.8508\n",
      "15/15 - 0s - loss: 0.5506 - accuracy: 0.8592\n",
      "15/15 - 0s - loss: 0.7580 - accuracy: 0.7878\n",
      "15/15 - 0s - loss: 0.5889 - accuracy: 0.8613\n",
      "15/15 - 0s - loss: 0.6965 - accuracy: 0.8445\n",
      "15/15 - 0s - loss: 0.7509 - accuracy: 0.7941\n",
      "15/15 - 0s - loss: 0.5508 - accuracy: 0.8529\n",
      "15/15 - 0s - loss: 0.7073 - accuracy: 0.8298\n",
      "15/15 - 0s - loss: 0.5946 - accuracy: 0.8235\n",
      "15/15 - 0s - loss: 0.8146 - accuracy: 0.8130\n",
      "15/15 - 0s - loss: 0.7110 - accuracy: 0.8235\n",
      "15/15 - 0s - loss: 0.5582 - accuracy: 0.8697\n",
      "15/15 - 0s - loss: 0.5891 - accuracy: 0.8340\n",
      "15/15 - 0s - loss: 0.7798 - accuracy: 0.8508\n",
      "------------    10  번째 global epoch < Clustering > 로컬 클라이언트 학습 완료!,  Total Training time :  143.27773928642273 ---------------------------\n",
      "\n",
      "\n",
      "Layer :  0   클러스터 갯수 정해짐!  갯수 :  2 0\n"
     ]
    },
    {
     "name": "stderr",
     "output_type": "stream",
     "text": [
      "<ipython-input-8-cf8b57b41ddb>:143: VisibleDeprecationWarning: Creating an ndarray from ragged nested sequences (which is a list-or-tuple of lists-or-tuples-or ndarrays with different lengths or shapes) is deprecated. If you meant to do this, you must specify 'dtype=object' when creating the ndarray\n",
      "  globals()['G{}_c{}_w_layer{}'.format(global_epoch, num_c_w, layer_index)] = globals()['G{}_c{}_w_layer{}'.format(global_epoch, num_c_w, layer_index)] + np.array(globals()['L{}_layer{}_w_c'.format(i,layer_index)])   # 일반 클러스터링\n"
     ]
    },
    {
     "name": "stdout",
     "output_type": "stream",
     "text": [
      "Layer :  2   클러스터 갯수 정해짐!  갯수 :  2 0\n"
     ]
    },
    {
     "name": "stderr",
     "output_type": "stream",
     "text": [
      "<ipython-input-8-cf8b57b41ddb>:143: VisibleDeprecationWarning: Creating an ndarray from ragged nested sequences (which is a list-or-tuple of lists-or-tuples-or ndarrays with different lengths or shapes) is deprecated. If you meant to do this, you must specify 'dtype=object' when creating the ndarray\n",
      "  globals()['G{}_c{}_w_layer{}'.format(global_epoch, num_c_w, layer_index)] = globals()['G{}_c{}_w_layer{}'.format(global_epoch, num_c_w, layer_index)] + np.array(globals()['L{}_layer{}_w_c'.format(i,layer_index)])   # 일반 클러스터링\n"
     ]
    },
    {
     "name": "stdout",
     "output_type": "stream",
     "text": [
      "Layer :  4   클러스터 갯수 정해짐!  갯수 :  4 2\n"
     ]
    },
    {
     "name": "stderr",
     "output_type": "stream",
     "text": [
      "<ipython-input-8-cf8b57b41ddb>:143: VisibleDeprecationWarning: Creating an ndarray from ragged nested sequences (which is a list-or-tuple of lists-or-tuples-or ndarrays with different lengths or shapes) is deprecated. If you meant to do this, you must specify 'dtype=object' when creating the ndarray\n",
      "  globals()['G{}_c{}_w_layer{}'.format(global_epoch, num_c_w, layer_index)] = globals()['G{}_c{}_w_layer{}'.format(global_epoch, num_c_w, layer_index)] + np.array(globals()['L{}_layer{}_w_c'.format(i,layer_index)])   # 일반 클러스터링\n"
     ]
    },
    {
     "name": "stdout",
     "output_type": "stream",
     "text": [
      "Layer :  6   클러스터 갯수 정해짐!  갯수 :  2 0\n"
     ]
    },
    {
     "name": "stderr",
     "output_type": "stream",
     "text": [
      "<ipython-input-8-cf8b57b41ddb>:143: VisibleDeprecationWarning: Creating an ndarray from ragged nested sequences (which is a list-or-tuple of lists-or-tuples-or ndarrays with different lengths or shapes) is deprecated. If you meant to do this, you must specify 'dtype=object' when creating the ndarray\n",
      "  globals()['G{}_c{}_w_layer{}'.format(global_epoch, num_c_w, layer_index)] = globals()['G{}_c{}_w_layer{}'.format(global_epoch, num_c_w, layer_index)] + np.array(globals()['L{}_layer{}_w_c'.format(i,layer_index)])   # 일반 클러스터링\n"
     ]
    },
    {
     "name": "stdout",
     "output_type": "stream",
     "text": [
      "Layer :  7   클러스터 갯수 정해짐!  갯수 :  2 0\n",
      "\n",
      "\n",
      "====================================================== One Global Epoch =====================================================================\n",
      "\n",
      "\n",
      "11  번째 global_epoch 데이터 랜덤하게 준비!!\n"
     ]
    },
    {
     "name": "stderr",
     "output_type": "stream",
     "text": [
      "<ipython-input-8-cf8b57b41ddb>:143: VisibleDeprecationWarning: Creating an ndarray from ragged nested sequences (which is a list-or-tuple of lists-or-tuples-or ndarrays with different lengths or shapes) is deprecated. If you meant to do this, you must specify 'dtype=object' when creating the ndarray\n",
      "  globals()['G{}_c{}_w_layer{}'.format(global_epoch, num_c_w, layer_index)] = globals()['G{}_c{}_w_layer{}'.format(global_epoch, num_c_w, layer_index)] + np.array(globals()['L{}_layer{}_w_c'.format(i,layer_index)])   # 일반 클러스터링\n"
     ]
    },
    {
     "name": "stdout",
     "output_type": "stream",
     "text": [
      "11  번째 global_epoch 데이터 랜덤 준비완료!!\n",
      "\n",
      "\n",
      "11  번째 global epoch에서 로컬 클라이언트 들 학습시작!\n",
      "\n",
      "학습 중 ...\n",
      "\n",
      "15/15 - 0s - loss: 0.7920 - accuracy: 0.8340\n",
      "15/15 - 0s - loss: 0.5388 - accuracy: 0.8634\n",
      "15/15 - 0s - loss: 0.5979 - accuracy: 0.8592\n",
      "15/15 - 0s - loss: 0.6009 - accuracy: 0.8550\n",
      "15/15 - 0s - loss: 0.5922 - accuracy: 0.8361\n",
      "15/15 - 0s - loss: 0.6287 - accuracy: 0.8529\n",
      "15/15 - 0s - loss: 0.5056 - accuracy: 0.8487\n",
      "15/15 - 0s - loss: 0.6875 - accuracy: 0.8571\n",
      "15/15 - 0s - loss: 0.7985 - accuracy: 0.8109\n",
      "15/15 - 0s - loss: 0.7549 - accuracy: 0.8256\n",
      "15/15 - 0s - loss: 0.5185 - accuracy: 0.8571\n",
      "15/15 - 0s - loss: 0.7114 - accuracy: 0.8277\n",
      "15/15 - 0s - loss: 0.6518 - accuracy: 0.8550\n",
      "15/15 - 0s - loss: 0.5540 - accuracy: 0.8592\n",
      "15/15 - 0s - loss: 0.8246 - accuracy: 0.8319\n",
      "15/15 - 0s - loss: 0.6892 - accuracy: 0.8088\n",
      "15/15 - 0s - loss: 0.5765 - accuracy: 0.8487\n",
      "15/15 - 0s - loss: 0.4642 - accuracy: 0.8655\n",
      "15/15 - 0s - loss: 0.5812 - accuracy: 0.8550\n",
      "15/15 - 0s - loss: 0.6060 - accuracy: 0.8235\n",
      "------------    11  번째 global epoch < Clustering > 로컬 클라이언트 학습 완료!,  Total Training time :  155.82326745986938 ---------------------------\n",
      "\n",
      "\n",
      "Layer :  0   클러스터 갯수 정해짐!  갯수 :  2 0\n"
     ]
    },
    {
     "name": "stderr",
     "output_type": "stream",
     "text": [
      "<ipython-input-8-cf8b57b41ddb>:143: VisibleDeprecationWarning: Creating an ndarray from ragged nested sequences (which is a list-or-tuple of lists-or-tuples-or ndarrays with different lengths or shapes) is deprecated. If you meant to do this, you must specify 'dtype=object' when creating the ndarray\n",
      "  globals()['G{}_c{}_w_layer{}'.format(global_epoch, num_c_w, layer_index)] = globals()['G{}_c{}_w_layer{}'.format(global_epoch, num_c_w, layer_index)] + np.array(globals()['L{}_layer{}_w_c'.format(i,layer_index)])   # 일반 클러스터링\n"
     ]
    },
    {
     "name": "stdout",
     "output_type": "stream",
     "text": [
      "Layer :  2   클러스터 갯수 정해짐!  갯수 :  2 0\n"
     ]
    },
    {
     "name": "stderr",
     "output_type": "stream",
     "text": [
      "<ipython-input-8-cf8b57b41ddb>:143: VisibleDeprecationWarning: Creating an ndarray from ragged nested sequences (which is a list-or-tuple of lists-or-tuples-or ndarrays with different lengths or shapes) is deprecated. If you meant to do this, you must specify 'dtype=object' when creating the ndarray\n",
      "  globals()['G{}_c{}_w_layer{}'.format(global_epoch, num_c_w, layer_index)] = globals()['G{}_c{}_w_layer{}'.format(global_epoch, num_c_w, layer_index)] + np.array(globals()['L{}_layer{}_w_c'.format(i,layer_index)])   # 일반 클러스터링\n"
     ]
    },
    {
     "name": "stdout",
     "output_type": "stream",
     "text": [
      "Layer :  4   클러스터 갯수 정해짐!  갯수 :  3 1\n"
     ]
    },
    {
     "name": "stderr",
     "output_type": "stream",
     "text": [
      "<ipython-input-8-cf8b57b41ddb>:143: VisibleDeprecationWarning: Creating an ndarray from ragged nested sequences (which is a list-or-tuple of lists-or-tuples-or ndarrays with different lengths or shapes) is deprecated. If you meant to do this, you must specify 'dtype=object' when creating the ndarray\n",
      "  globals()['G{}_c{}_w_layer{}'.format(global_epoch, num_c_w, layer_index)] = globals()['G{}_c{}_w_layer{}'.format(global_epoch, num_c_w, layer_index)] + np.array(globals()['L{}_layer{}_w_c'.format(i,layer_index)])   # 일반 클러스터링\n"
     ]
    },
    {
     "name": "stdout",
     "output_type": "stream",
     "text": [
      "Layer :  6   클러스터 갯수 정해짐!  갯수 :  2 0\n"
     ]
    },
    {
     "name": "stderr",
     "output_type": "stream",
     "text": [
      "<ipython-input-8-cf8b57b41ddb>:143: VisibleDeprecationWarning: Creating an ndarray from ragged nested sequences (which is a list-or-tuple of lists-or-tuples-or ndarrays with different lengths or shapes) is deprecated. If you meant to do this, you must specify 'dtype=object' when creating the ndarray\n",
      "  globals()['G{}_c{}_w_layer{}'.format(global_epoch, num_c_w, layer_index)] = globals()['G{}_c{}_w_layer{}'.format(global_epoch, num_c_w, layer_index)] + np.array(globals()['L{}_layer{}_w_c'.format(i,layer_index)])   # 일반 클러스터링\n"
     ]
    },
    {
     "name": "stdout",
     "output_type": "stream",
     "text": [
      "Layer :  7   클러스터 갯수 정해짐!  갯수 :  2 0\n",
      "\n",
      "\n",
      "====================================================== One Global Epoch =====================================================================\n",
      "\n",
      "\n",
      "12  번째 global_epoch 데이터 랜덤하게 준비!!\n"
     ]
    },
    {
     "name": "stderr",
     "output_type": "stream",
     "text": [
      "<ipython-input-8-cf8b57b41ddb>:143: VisibleDeprecationWarning: Creating an ndarray from ragged nested sequences (which is a list-or-tuple of lists-or-tuples-or ndarrays with different lengths or shapes) is deprecated. If you meant to do this, you must specify 'dtype=object' when creating the ndarray\n",
      "  globals()['G{}_c{}_w_layer{}'.format(global_epoch, num_c_w, layer_index)] = globals()['G{}_c{}_w_layer{}'.format(global_epoch, num_c_w, layer_index)] + np.array(globals()['L{}_layer{}_w_c'.format(i,layer_index)])   # 일반 클러스터링\n"
     ]
    },
    {
     "name": "stdout",
     "output_type": "stream",
     "text": [
      "12  번째 global_epoch 데이터 랜덤 준비완료!!\n",
      "\n",
      "\n",
      "12  번째 global epoch에서 로컬 클라이언트 들 학습시작!\n",
      "\n",
      "학습 중 ...\n",
      "\n",
      "15/15 - 0s - loss: 0.6786 - accuracy: 0.8382\n",
      "15/15 - 0s - loss: 0.5983 - accuracy: 0.8508\n",
      "15/15 - 0s - loss: 0.6577 - accuracy: 0.8487\n",
      "15/15 - 0s - loss: 0.7602 - accuracy: 0.8508\n",
      "15/15 - 0s - loss: 0.7082 - accuracy: 0.8382\n",
      "15/15 - 0s - loss: 0.5074 - accuracy: 0.8445\n",
      "15/15 - 0s - loss: 0.5216 - accuracy: 0.8613\n",
      "15/15 - 0s - loss: 0.7881 - accuracy: 0.8403\n",
      "15/15 - 0s - loss: 0.7583 - accuracy: 0.8403\n",
      "15/15 - 0s - loss: 0.7910 - accuracy: 0.8508\n",
      "15/15 - 0s - loss: 0.7386 - accuracy: 0.8445\n",
      "15/15 - 0s - loss: 0.4973 - accuracy: 0.8803\n",
      "15/15 - 0s - loss: 0.5803 - accuracy: 0.8676\n",
      "15/15 - 0s - loss: 0.5789 - accuracy: 0.8445\n",
      "15/15 - 0s - loss: 0.5594 - accuracy: 0.8550\n",
      "15/15 - 0s - loss: 0.7827 - accuracy: 0.8109\n",
      "15/15 - 0s - loss: 0.6777 - accuracy: 0.8487\n",
      "15/15 - 0s - loss: 0.7066 - accuracy: 0.8340\n",
      "15/15 - 0s - loss: 0.7736 - accuracy: 0.8214\n",
      "15/15 - 0s - loss: 0.6689 - accuracy: 0.8382\n",
      "------------    12  번째 global epoch < Clustering > 로컬 클라이언트 학습 완료!,  Total Training time :  145.2945544719696 ---------------------------\n",
      "\n",
      "\n",
      "Layer :  0   클러스터 갯수 정해짐!  갯수 :  2 0\n"
     ]
    },
    {
     "name": "stderr",
     "output_type": "stream",
     "text": [
      "<ipython-input-8-cf8b57b41ddb>:143: VisibleDeprecationWarning: Creating an ndarray from ragged nested sequences (which is a list-or-tuple of lists-or-tuples-or ndarrays with different lengths or shapes) is deprecated. If you meant to do this, you must specify 'dtype=object' when creating the ndarray\n",
      "  globals()['G{}_c{}_w_layer{}'.format(global_epoch, num_c_w, layer_index)] = globals()['G{}_c{}_w_layer{}'.format(global_epoch, num_c_w, layer_index)] + np.array(globals()['L{}_layer{}_w_c'.format(i,layer_index)])   # 일반 클러스터링\n"
     ]
    },
    {
     "name": "stdout",
     "output_type": "stream",
     "text": [
      "Layer :  2   클러스터 갯수 정해짐!  갯수 :  2 0\n"
     ]
    },
    {
     "name": "stderr",
     "output_type": "stream",
     "text": [
      "<ipython-input-8-cf8b57b41ddb>:143: VisibleDeprecationWarning: Creating an ndarray from ragged nested sequences (which is a list-or-tuple of lists-or-tuples-or ndarrays with different lengths or shapes) is deprecated. If you meant to do this, you must specify 'dtype=object' when creating the ndarray\n",
      "  globals()['G{}_c{}_w_layer{}'.format(global_epoch, num_c_w, layer_index)] = globals()['G{}_c{}_w_layer{}'.format(global_epoch, num_c_w, layer_index)] + np.array(globals()['L{}_layer{}_w_c'.format(i,layer_index)])   # 일반 클러스터링\n"
     ]
    },
    {
     "name": "stdout",
     "output_type": "stream",
     "text": [
      "Layer :  4   클러스터 갯수 정해짐!  갯수 :  3 1\n"
     ]
    },
    {
     "name": "stderr",
     "output_type": "stream",
     "text": [
      "<ipython-input-8-cf8b57b41ddb>:143: VisibleDeprecationWarning: Creating an ndarray from ragged nested sequences (which is a list-or-tuple of lists-or-tuples-or ndarrays with different lengths or shapes) is deprecated. If you meant to do this, you must specify 'dtype=object' when creating the ndarray\n",
      "  globals()['G{}_c{}_w_layer{}'.format(global_epoch, num_c_w, layer_index)] = globals()['G{}_c{}_w_layer{}'.format(global_epoch, num_c_w, layer_index)] + np.array(globals()['L{}_layer{}_w_c'.format(i,layer_index)])   # 일반 클러스터링\n"
     ]
    },
    {
     "name": "stdout",
     "output_type": "stream",
     "text": [
      "Layer :  6   클러스터 갯수 정해짐!  갯수 :  2 0\n"
     ]
    },
    {
     "name": "stderr",
     "output_type": "stream",
     "text": [
      "<ipython-input-8-cf8b57b41ddb>:143: VisibleDeprecationWarning: Creating an ndarray from ragged nested sequences (which is a list-or-tuple of lists-or-tuples-or ndarrays with different lengths or shapes) is deprecated. If you meant to do this, you must specify 'dtype=object' when creating the ndarray\n",
      "  globals()['G{}_c{}_w_layer{}'.format(global_epoch, num_c_w, layer_index)] = globals()['G{}_c{}_w_layer{}'.format(global_epoch, num_c_w, layer_index)] + np.array(globals()['L{}_layer{}_w_c'.format(i,layer_index)])   # 일반 클러스터링\n"
     ]
    },
    {
     "name": "stdout",
     "output_type": "stream",
     "text": [
      "Layer :  7   클러스터 갯수 정해짐!  갯수 :  2 0\n",
      "\n",
      "\n",
      "====================================================== One Global Epoch =====================================================================\n",
      "\n",
      "\n",
      "13  번째 global_epoch 데이터 랜덤하게 준비!!\n"
     ]
    },
    {
     "name": "stderr",
     "output_type": "stream",
     "text": [
      "<ipython-input-8-cf8b57b41ddb>:143: VisibleDeprecationWarning: Creating an ndarray from ragged nested sequences (which is a list-or-tuple of lists-or-tuples-or ndarrays with different lengths or shapes) is deprecated. If you meant to do this, you must specify 'dtype=object' when creating the ndarray\n",
      "  globals()['G{}_c{}_w_layer{}'.format(global_epoch, num_c_w, layer_index)] = globals()['G{}_c{}_w_layer{}'.format(global_epoch, num_c_w, layer_index)] + np.array(globals()['L{}_layer{}_w_c'.format(i,layer_index)])   # 일반 클러스터링\n"
     ]
    },
    {
     "name": "stdout",
     "output_type": "stream",
     "text": [
      "13  번째 global_epoch 데이터 랜덤 준비완료!!\n",
      "\n",
      "\n",
      "13  번째 global epoch에서 로컬 클라이언트 들 학습시작!\n",
      "\n",
      "학습 중 ...\n",
      "\n",
      "15/15 - 0s - loss: 0.5978 - accuracy: 0.8445\n",
      "15/15 - 0s - loss: 0.5848 - accuracy: 0.8529\n",
      "15/15 - 0s - loss: 0.4579 - accuracy: 0.8950\n",
      "15/15 - 0s - loss: 0.6436 - accuracy: 0.8613\n",
      "15/15 - 0s - loss: 0.6000 - accuracy: 0.8676\n",
      "15/15 - 0s - loss: 0.5319 - accuracy: 0.8613\n",
      "15/15 - 0s - loss: 0.6286 - accuracy: 0.8466\n",
      "15/15 - 0s - loss: 0.6516 - accuracy: 0.8256\n",
      "15/15 - 0s - loss: 0.5495 - accuracy: 0.8613\n",
      "15/15 - 0s - loss: 0.7274 - accuracy: 0.8382\n",
      "15/15 - 0s - loss: 0.5422 - accuracy: 0.8655\n",
      "15/15 - 0s - loss: 0.5125 - accuracy: 0.8655\n",
      "15/15 - 0s - loss: 0.7652 - accuracy: 0.8550\n",
      "15/15 - 0s - loss: 0.7362 - accuracy: 0.8403\n",
      "15/15 - 0s - loss: 0.6913 - accuracy: 0.8424\n",
      "15/15 - 0s - loss: 0.4831 - accuracy: 0.8803\n",
      "15/15 - 0s - loss: 0.8204 - accuracy: 0.8340\n",
      "15/15 - 0s - loss: 0.5340 - accuracy: 0.8718\n",
      "15/15 - 0s - loss: 0.7333 - accuracy: 0.8277\n",
      "15/15 - 0s - loss: 0.5123 - accuracy: 0.8718\n",
      "------------    13  번째 global epoch < Clustering > 로컬 클라이언트 학습 완료!,  Total Training time :  164.88774800300598 ---------------------------\n",
      "\n",
      "\n",
      "Layer :  0   클러스터 갯수 정해짐!  갯수 :  2 0\n"
     ]
    },
    {
     "name": "stderr",
     "output_type": "stream",
     "text": [
      "<ipython-input-8-cf8b57b41ddb>:143: VisibleDeprecationWarning: Creating an ndarray from ragged nested sequences (which is a list-or-tuple of lists-or-tuples-or ndarrays with different lengths or shapes) is deprecated. If you meant to do this, you must specify 'dtype=object' when creating the ndarray\n",
      "  globals()['G{}_c{}_w_layer{}'.format(global_epoch, num_c_w, layer_index)] = globals()['G{}_c{}_w_layer{}'.format(global_epoch, num_c_w, layer_index)] + np.array(globals()['L{}_layer{}_w_c'.format(i,layer_index)])   # 일반 클러스터링\n"
     ]
    },
    {
     "name": "stdout",
     "output_type": "stream",
     "text": [
      "Layer :  2   클러스터 갯수 정해짐!  갯수 :  2 0\n"
     ]
    },
    {
     "name": "stderr",
     "output_type": "stream",
     "text": [
      "<ipython-input-8-cf8b57b41ddb>:143: VisibleDeprecationWarning: Creating an ndarray from ragged nested sequences (which is a list-or-tuple of lists-or-tuples-or ndarrays with different lengths or shapes) is deprecated. If you meant to do this, you must specify 'dtype=object' when creating the ndarray\n",
      "  globals()['G{}_c{}_w_layer{}'.format(global_epoch, num_c_w, layer_index)] = globals()['G{}_c{}_w_layer{}'.format(global_epoch, num_c_w, layer_index)] + np.array(globals()['L{}_layer{}_w_c'.format(i,layer_index)])   # 일반 클러스터링\n"
     ]
    },
    {
     "name": "stdout",
     "output_type": "stream",
     "text": [
      "Layer :  4   클러스터 갯수 정해짐!  갯수 :  3 1\n"
     ]
    },
    {
     "name": "stderr",
     "output_type": "stream",
     "text": [
      "<ipython-input-8-cf8b57b41ddb>:143: VisibleDeprecationWarning: Creating an ndarray from ragged nested sequences (which is a list-or-tuple of lists-or-tuples-or ndarrays with different lengths or shapes) is deprecated. If you meant to do this, you must specify 'dtype=object' when creating the ndarray\n",
      "  globals()['G{}_c{}_w_layer{}'.format(global_epoch, num_c_w, layer_index)] = globals()['G{}_c{}_w_layer{}'.format(global_epoch, num_c_w, layer_index)] + np.array(globals()['L{}_layer{}_w_c'.format(i,layer_index)])   # 일반 클러스터링\n"
     ]
    },
    {
     "name": "stdout",
     "output_type": "stream",
     "text": [
      "Layer :  6   클러스터 갯수 정해짐!  갯수 :  2 0\n"
     ]
    },
    {
     "name": "stderr",
     "output_type": "stream",
     "text": [
      "<ipython-input-8-cf8b57b41ddb>:143: VisibleDeprecationWarning: Creating an ndarray from ragged nested sequences (which is a list-or-tuple of lists-or-tuples-or ndarrays with different lengths or shapes) is deprecated. If you meant to do this, you must specify 'dtype=object' when creating the ndarray\n",
      "  globals()['G{}_c{}_w_layer{}'.format(global_epoch, num_c_w, layer_index)] = globals()['G{}_c{}_w_layer{}'.format(global_epoch, num_c_w, layer_index)] + np.array(globals()['L{}_layer{}_w_c'.format(i,layer_index)])   # 일반 클러스터링\n"
     ]
    },
    {
     "name": "stdout",
     "output_type": "stream",
     "text": [
      "Layer :  7   클러스터 갯수 정해짐!  갯수 :  2 0\n",
      "\n",
      "\n",
      "====================================================== One Global Epoch =====================================================================\n",
      "\n",
      "\n",
      "14  번째 global_epoch 데이터 랜덤하게 준비!!\n"
     ]
    },
    {
     "name": "stderr",
     "output_type": "stream",
     "text": [
      "<ipython-input-8-cf8b57b41ddb>:143: VisibleDeprecationWarning: Creating an ndarray from ragged nested sequences (which is a list-or-tuple of lists-or-tuples-or ndarrays with different lengths or shapes) is deprecated. If you meant to do this, you must specify 'dtype=object' when creating the ndarray\n",
      "  globals()['G{}_c{}_w_layer{}'.format(global_epoch, num_c_w, layer_index)] = globals()['G{}_c{}_w_layer{}'.format(global_epoch, num_c_w, layer_index)] + np.array(globals()['L{}_layer{}_w_c'.format(i,layer_index)])   # 일반 클러스터링\n"
     ]
    },
    {
     "name": "stdout",
     "output_type": "stream",
     "text": [
      "14  번째 global_epoch 데이터 랜덤 준비완료!!\n",
      "\n",
      "\n",
      "14  번째 global epoch에서 로컬 클라이언트 들 학습시작!\n",
      "\n",
      "학습 중 ...\n",
      "\n",
      "15/15 - 0s - loss: 0.6252 - accuracy: 0.8277\n",
      "15/15 - 0s - loss: 0.5497 - accuracy: 0.8655\n",
      "15/15 - 0s - loss: 0.7494 - accuracy: 0.8487\n",
      "15/15 - 0s - loss: 0.8524 - accuracy: 0.8256\n",
      "15/15 - 0s - loss: 0.6446 - accuracy: 0.8487\n",
      "15/15 - 0s - loss: 0.6397 - accuracy: 0.8592\n",
      "15/15 - 0s - loss: 0.8141 - accuracy: 0.8172\n",
      "15/15 - 0s - loss: 0.7983 - accuracy: 0.8340\n",
      "15/15 - 0s - loss: 0.7746 - accuracy: 0.8298\n",
      "15/15 - 0s - loss: 0.8028 - accuracy: 0.8634\n",
      "15/15 - 0s - loss: 0.7534 - accuracy: 0.8403\n",
      "15/15 - 0s - loss: 0.7175 - accuracy: 0.8508\n",
      "15/15 - 0s - loss: 0.5104 - accuracy: 0.8761\n",
      "15/15 - 0s - loss: 0.5879 - accuracy: 0.8634\n",
      "15/15 - 0s - loss: 0.6307 - accuracy: 0.8634\n",
      "15/15 - 0s - loss: 0.7792 - accuracy: 0.7920\n",
      "15/15 - 0s - loss: 0.8609 - accuracy: 0.8151\n",
      "15/15 - 0s - loss: 0.6152 - accuracy: 0.8529\n",
      "15/15 - 0s - loss: 0.6011 - accuracy: 0.8634\n",
      "15/15 - 0s - loss: 0.7378 - accuracy: 0.8319\n",
      "------------    14  번째 global epoch < Clustering > 로컬 클라이언트 학습 완료!,  Total Training time :  177.01960253715515 ---------------------------\n",
      "\n",
      "\n",
      "Layer :  0   클러스터 갯수 정해짐!  갯수 :  2 0\n"
     ]
    },
    {
     "name": "stderr",
     "output_type": "stream",
     "text": [
      "<ipython-input-8-cf8b57b41ddb>:143: VisibleDeprecationWarning: Creating an ndarray from ragged nested sequences (which is a list-or-tuple of lists-or-tuples-or ndarrays with different lengths or shapes) is deprecated. If you meant to do this, you must specify 'dtype=object' when creating the ndarray\n",
      "  globals()['G{}_c{}_w_layer{}'.format(global_epoch, num_c_w, layer_index)] = globals()['G{}_c{}_w_layer{}'.format(global_epoch, num_c_w, layer_index)] + np.array(globals()['L{}_layer{}_w_c'.format(i,layer_index)])   # 일반 클러스터링\n"
     ]
    },
    {
     "name": "stdout",
     "output_type": "stream",
     "text": [
      "Layer :  2   클러스터 갯수 정해짐!  갯수 :  2 0\n"
     ]
    },
    {
     "name": "stderr",
     "output_type": "stream",
     "text": [
      "<ipython-input-8-cf8b57b41ddb>:143: VisibleDeprecationWarning: Creating an ndarray from ragged nested sequences (which is a list-or-tuple of lists-or-tuples-or ndarrays with different lengths or shapes) is deprecated. If you meant to do this, you must specify 'dtype=object' when creating the ndarray\n",
      "  globals()['G{}_c{}_w_layer{}'.format(global_epoch, num_c_w, layer_index)] = globals()['G{}_c{}_w_layer{}'.format(global_epoch, num_c_w, layer_index)] + np.array(globals()['L{}_layer{}_w_c'.format(i,layer_index)])   # 일반 클러스터링\n"
     ]
    },
    {
     "name": "stdout",
     "output_type": "stream",
     "text": [
      "Layer :  4   클러스터 갯수 정해짐!  갯수 :  3 1\n"
     ]
    },
    {
     "name": "stderr",
     "output_type": "stream",
     "text": [
      "<ipython-input-8-cf8b57b41ddb>:143: VisibleDeprecationWarning: Creating an ndarray from ragged nested sequences (which is a list-or-tuple of lists-or-tuples-or ndarrays with different lengths or shapes) is deprecated. If you meant to do this, you must specify 'dtype=object' when creating the ndarray\n",
      "  globals()['G{}_c{}_w_layer{}'.format(global_epoch, num_c_w, layer_index)] = globals()['G{}_c{}_w_layer{}'.format(global_epoch, num_c_w, layer_index)] + np.array(globals()['L{}_layer{}_w_c'.format(i,layer_index)])   # 일반 클러스터링\n"
     ]
    },
    {
     "name": "stdout",
     "output_type": "stream",
     "text": [
      "Layer :  6   클러스터 갯수 정해짐!  갯수 :  2 0\n"
     ]
    },
    {
     "name": "stderr",
     "output_type": "stream",
     "text": [
      "<ipython-input-8-cf8b57b41ddb>:143: VisibleDeprecationWarning: Creating an ndarray from ragged nested sequences (which is a list-or-tuple of lists-or-tuples-or ndarrays with different lengths or shapes) is deprecated. If you meant to do this, you must specify 'dtype=object' when creating the ndarray\n",
      "  globals()['G{}_c{}_w_layer{}'.format(global_epoch, num_c_w, layer_index)] = globals()['G{}_c{}_w_layer{}'.format(global_epoch, num_c_w, layer_index)] + np.array(globals()['L{}_layer{}_w_c'.format(i,layer_index)])   # 일반 클러스터링\n"
     ]
    },
    {
     "name": "stdout",
     "output_type": "stream",
     "text": [
      "Layer :  7   클러스터 갯수 정해짐!  갯수 :  2 0\n",
      "\n",
      "\n",
      "====================================================== One Global Epoch =====================================================================\n",
      "\n",
      "\n",
      "15  번째 global_epoch 데이터 랜덤하게 준비!!\n"
     ]
    },
    {
     "name": "stderr",
     "output_type": "stream",
     "text": [
      "<ipython-input-8-cf8b57b41ddb>:143: VisibleDeprecationWarning: Creating an ndarray from ragged nested sequences (which is a list-or-tuple of lists-or-tuples-or ndarrays with different lengths or shapes) is deprecated. If you meant to do this, you must specify 'dtype=object' when creating the ndarray\n",
      "  globals()['G{}_c{}_w_layer{}'.format(global_epoch, num_c_w, layer_index)] = globals()['G{}_c{}_w_layer{}'.format(global_epoch, num_c_w, layer_index)] + np.array(globals()['L{}_layer{}_w_c'.format(i,layer_index)])   # 일반 클러스터링\n"
     ]
    },
    {
     "name": "stdout",
     "output_type": "stream",
     "text": [
      "15  번째 global_epoch 데이터 랜덤 준비완료!!\n",
      "\n",
      "\n",
      "15  번째 global epoch에서 로컬 클라이언트 들 학습시작!\n",
      "\n",
      "학습 중 ...\n",
      "\n",
      "15/15 - 0s - loss: 0.5812 - accuracy: 0.8655\n",
      "15/15 - 0s - loss: 0.6295 - accuracy: 0.8445\n",
      "15/15 - 0s - loss: 0.5811 - accuracy: 0.8592\n",
      "15/15 - 0s - loss: 0.7736 - accuracy: 0.8487\n",
      "15/15 - 0s - loss: 0.6517 - accuracy: 0.8718\n",
      "15/15 - 0s - loss: 0.5641 - accuracy: 0.8697\n",
      "15/15 - 0s - loss: 0.5704 - accuracy: 0.8571\n",
      "15/15 - 0s - loss: 0.6128 - accuracy: 0.8508\n",
      "15/15 - 0s - loss: 0.7188 - accuracy: 0.8403\n",
      "15/15 - 0s - loss: 0.5942 - accuracy: 0.8782\n",
      "15/15 - 0s - loss: 0.5866 - accuracy: 0.8592\n",
      "15/15 - 0s - loss: 0.5955 - accuracy: 0.8655\n",
      "15/15 - 0s - loss: 0.6694 - accuracy: 0.8466\n",
      "15/15 - 0s - loss: 0.7764 - accuracy: 0.8151\n",
      "15/15 - 0s - loss: 0.6758 - accuracy: 0.8403\n",
      "15/15 - 0s - loss: 0.6717 - accuracy: 0.8655\n",
      "15/15 - 0s - loss: 0.6822 - accuracy: 0.8466\n",
      "15/15 - 0s - loss: 0.5016 - accuracy: 0.8739\n",
      "15/15 - 0s - loss: 0.6359 - accuracy: 0.8571\n",
      "15/15 - 0s - loss: 0.5240 - accuracy: 0.8508\n",
      "------------    15  번째 global epoch < Clustering > 로컬 클라이언트 학습 완료!,  Total Training time :  170.14100813865662 ---------------------------\n",
      "\n",
      "\n",
      "Layer :  0   클러스터 갯수 정해짐!  갯수 :  2 0\n"
     ]
    },
    {
     "name": "stderr",
     "output_type": "stream",
     "text": [
      "<ipython-input-8-cf8b57b41ddb>:143: VisibleDeprecationWarning: Creating an ndarray from ragged nested sequences (which is a list-or-tuple of lists-or-tuples-or ndarrays with different lengths or shapes) is deprecated. If you meant to do this, you must specify 'dtype=object' when creating the ndarray\n",
      "  globals()['G{}_c{}_w_layer{}'.format(global_epoch, num_c_w, layer_index)] = globals()['G{}_c{}_w_layer{}'.format(global_epoch, num_c_w, layer_index)] + np.array(globals()['L{}_layer{}_w_c'.format(i,layer_index)])   # 일반 클러스터링\n"
     ]
    },
    {
     "name": "stdout",
     "output_type": "stream",
     "text": [
      "Layer :  2   클러스터 갯수 정해짐!  갯수 :  2 0\n"
     ]
    },
    {
     "name": "stderr",
     "output_type": "stream",
     "text": [
      "<ipython-input-8-cf8b57b41ddb>:143: VisibleDeprecationWarning: Creating an ndarray from ragged nested sequences (which is a list-or-tuple of lists-or-tuples-or ndarrays with different lengths or shapes) is deprecated. If you meant to do this, you must specify 'dtype=object' when creating the ndarray\n",
      "  globals()['G{}_c{}_w_layer{}'.format(global_epoch, num_c_w, layer_index)] = globals()['G{}_c{}_w_layer{}'.format(global_epoch, num_c_w, layer_index)] + np.array(globals()['L{}_layer{}_w_c'.format(i,layer_index)])   # 일반 클러스터링\n"
     ]
    },
    {
     "name": "stdout",
     "output_type": "stream",
     "text": [
      "Layer :  4   클러스터 갯수 정해짐!  갯수 :  3 1\n"
     ]
    },
    {
     "name": "stderr",
     "output_type": "stream",
     "text": [
      "<ipython-input-8-cf8b57b41ddb>:143: VisibleDeprecationWarning: Creating an ndarray from ragged nested sequences (which is a list-or-tuple of lists-or-tuples-or ndarrays with different lengths or shapes) is deprecated. If you meant to do this, you must specify 'dtype=object' when creating the ndarray\n",
      "  globals()['G{}_c{}_w_layer{}'.format(global_epoch, num_c_w, layer_index)] = globals()['G{}_c{}_w_layer{}'.format(global_epoch, num_c_w, layer_index)] + np.array(globals()['L{}_layer{}_w_c'.format(i,layer_index)])   # 일반 클러스터링\n"
     ]
    },
    {
     "name": "stdout",
     "output_type": "stream",
     "text": [
      "Layer :  6   클러스터 갯수 정해짐!  갯수 :  3 1\n"
     ]
    },
    {
     "name": "stderr",
     "output_type": "stream",
     "text": [
      "<ipython-input-8-cf8b57b41ddb>:143: VisibleDeprecationWarning: Creating an ndarray from ragged nested sequences (which is a list-or-tuple of lists-or-tuples-or ndarrays with different lengths or shapes) is deprecated. If you meant to do this, you must specify 'dtype=object' when creating the ndarray\n",
      "  globals()['G{}_c{}_w_layer{}'.format(global_epoch, num_c_w, layer_index)] = globals()['G{}_c{}_w_layer{}'.format(global_epoch, num_c_w, layer_index)] + np.array(globals()['L{}_layer{}_w_c'.format(i,layer_index)])   # 일반 클러스터링\n"
     ]
    },
    {
     "name": "stdout",
     "output_type": "stream",
     "text": [
      "Layer :  7   클러스터 갯수 정해짐!  갯수 :  2 0\n",
      "\n",
      "\n",
      "====================================================== One Global Epoch =====================================================================\n",
      "\n",
      "\n",
      "16  번째 global_epoch 데이터 랜덤하게 준비!!\n"
     ]
    },
    {
     "name": "stderr",
     "output_type": "stream",
     "text": [
      "<ipython-input-8-cf8b57b41ddb>:143: VisibleDeprecationWarning: Creating an ndarray from ragged nested sequences (which is a list-or-tuple of lists-or-tuples-or ndarrays with different lengths or shapes) is deprecated. If you meant to do this, you must specify 'dtype=object' when creating the ndarray\n",
      "  globals()['G{}_c{}_w_layer{}'.format(global_epoch, num_c_w, layer_index)] = globals()['G{}_c{}_w_layer{}'.format(global_epoch, num_c_w, layer_index)] + np.array(globals()['L{}_layer{}_w_c'.format(i,layer_index)])   # 일반 클러스터링\n"
     ]
    },
    {
     "name": "stdout",
     "output_type": "stream",
     "text": [
      "16  번째 global_epoch 데이터 랜덤 준비완료!!\n",
      "\n",
      "\n",
      "16  번째 global epoch에서 로컬 클라이언트 들 학습시작!\n",
      "\n",
      "학습 중 ...\n",
      "\n",
      "15/15 - 0s - loss: 0.8823 - accuracy: 0.8508\n",
      "15/15 - 0s - loss: 0.7738 - accuracy: 0.8382\n",
      "15/15 - 0s - loss: 0.6769 - accuracy: 0.8655\n",
      "15/15 - 0s - loss: 0.5902 - accuracy: 0.8718\n",
      "15/15 - 0s - loss: 0.6703 - accuracy: 0.8697\n",
      "15/15 - 0s - loss: 0.6373 - accuracy: 0.8571\n",
      "15/15 - 0s - loss: 0.5030 - accuracy: 0.8655\n",
      "15/15 - 0s - loss: 0.7216 - accuracy: 0.8550\n",
      "15/15 - 0s - loss: 0.6602 - accuracy: 0.8403\n",
      "15/15 - 0s - loss: 0.9754 - accuracy: 0.8172\n",
      "15/15 - 0s - loss: 0.8219 - accuracy: 0.8361\n",
      "15/15 - 0s - loss: 0.5714 - accuracy: 0.8445\n",
      "15/15 - 0s - loss: 0.5662 - accuracy: 0.8803\n",
      "15/15 - 0s - loss: 0.8595 - accuracy: 0.8193\n",
      "15/15 - 0s - loss: 0.6517 - accuracy: 0.8319\n",
      "15/15 - 0s - loss: 0.5907 - accuracy: 0.8550\n",
      "15/15 - 0s - loss: 0.8475 - accuracy: 0.8382\n",
      "15/15 - 0s - loss: 0.8246 - accuracy: 0.8424\n",
      "15/15 - 0s - loss: 0.6512 - accuracy: 0.8571\n",
      "15/15 - 0s - loss: 0.6521 - accuracy: 0.8529\n",
      "------------    16  번째 global epoch < Clustering > 로컬 클라이언트 학습 완료!,  Total Training time :  196.0555305480957 ---------------------------\n",
      "\n",
      "\n",
      "Layer :  0   클러스터 갯수 정해짐!  갯수 :  2 0\n"
     ]
    },
    {
     "name": "stderr",
     "output_type": "stream",
     "text": [
      "<ipython-input-8-cf8b57b41ddb>:143: VisibleDeprecationWarning: Creating an ndarray from ragged nested sequences (which is a list-or-tuple of lists-or-tuples-or ndarrays with different lengths or shapes) is deprecated. If you meant to do this, you must specify 'dtype=object' when creating the ndarray\n",
      "  globals()['G{}_c{}_w_layer{}'.format(global_epoch, num_c_w, layer_index)] = globals()['G{}_c{}_w_layer{}'.format(global_epoch, num_c_w, layer_index)] + np.array(globals()['L{}_layer{}_w_c'.format(i,layer_index)])   # 일반 클러스터링\n"
     ]
    },
    {
     "name": "stdout",
     "output_type": "stream",
     "text": [
      "Layer :  2   클러스터 갯수 정해짐!  갯수 :  2 0\n"
     ]
    },
    {
     "name": "stderr",
     "output_type": "stream",
     "text": [
      "<ipython-input-8-cf8b57b41ddb>:143: VisibleDeprecationWarning: Creating an ndarray from ragged nested sequences (which is a list-or-tuple of lists-or-tuples-or ndarrays with different lengths or shapes) is deprecated. If you meant to do this, you must specify 'dtype=object' when creating the ndarray\n",
      "  globals()['G{}_c{}_w_layer{}'.format(global_epoch, num_c_w, layer_index)] = globals()['G{}_c{}_w_layer{}'.format(global_epoch, num_c_w, layer_index)] + np.array(globals()['L{}_layer{}_w_c'.format(i,layer_index)])   # 일반 클러스터링\n"
     ]
    },
    {
     "name": "stdout",
     "output_type": "stream",
     "text": [
      "Layer :  4   클러스터 갯수 정해짐!  갯수 :  3 1\n"
     ]
    },
    {
     "name": "stderr",
     "output_type": "stream",
     "text": [
      "<ipython-input-8-cf8b57b41ddb>:143: VisibleDeprecationWarning: Creating an ndarray from ragged nested sequences (which is a list-or-tuple of lists-or-tuples-or ndarrays with different lengths or shapes) is deprecated. If you meant to do this, you must specify 'dtype=object' when creating the ndarray\n",
      "  globals()['G{}_c{}_w_layer{}'.format(global_epoch, num_c_w, layer_index)] = globals()['G{}_c{}_w_layer{}'.format(global_epoch, num_c_w, layer_index)] + np.array(globals()['L{}_layer{}_w_c'.format(i,layer_index)])   # 일반 클러스터링\n"
     ]
    },
    {
     "name": "stdout",
     "output_type": "stream",
     "text": [
      "Layer :  6   클러스터 갯수 정해짐!  갯수 :  2 0\n"
     ]
    },
    {
     "name": "stderr",
     "output_type": "stream",
     "text": [
      "<ipython-input-8-cf8b57b41ddb>:143: VisibleDeprecationWarning: Creating an ndarray from ragged nested sequences (which is a list-or-tuple of lists-or-tuples-or ndarrays with different lengths or shapes) is deprecated. If you meant to do this, you must specify 'dtype=object' when creating the ndarray\n",
      "  globals()['G{}_c{}_w_layer{}'.format(global_epoch, num_c_w, layer_index)] = globals()['G{}_c{}_w_layer{}'.format(global_epoch, num_c_w, layer_index)] + np.array(globals()['L{}_layer{}_w_c'.format(i,layer_index)])   # 일반 클러스터링\n"
     ]
    },
    {
     "name": "stdout",
     "output_type": "stream",
     "text": [
      "Layer :  7   클러스터 갯수 정해짐!  갯수 :  2 0\n",
      "\n",
      "\n",
      "====================================================== One Global Epoch =====================================================================\n",
      "\n",
      "\n",
      "17  번째 global_epoch 데이터 랜덤하게 준비!!\n"
     ]
    },
    {
     "name": "stderr",
     "output_type": "stream",
     "text": [
      "<ipython-input-8-cf8b57b41ddb>:143: VisibleDeprecationWarning: Creating an ndarray from ragged nested sequences (which is a list-or-tuple of lists-or-tuples-or ndarrays with different lengths or shapes) is deprecated. If you meant to do this, you must specify 'dtype=object' when creating the ndarray\n",
      "  globals()['G{}_c{}_w_layer{}'.format(global_epoch, num_c_w, layer_index)] = globals()['G{}_c{}_w_layer{}'.format(global_epoch, num_c_w, layer_index)] + np.array(globals()['L{}_layer{}_w_c'.format(i,layer_index)])   # 일반 클러스터링\n"
     ]
    },
    {
     "name": "stdout",
     "output_type": "stream",
     "text": [
      "17  번째 global_epoch 데이터 랜덤 준비완료!!\n",
      "\n",
      "\n",
      "17  번째 global epoch에서 로컬 클라이언트 들 학습시작!\n",
      "\n",
      "학습 중 ...\n",
      "\n",
      "15/15 - 0s - loss: 0.8141 - accuracy: 0.8361\n",
      "15/15 - 0s - loss: 0.6740 - accuracy: 0.8487\n",
      "15/15 - 0s - loss: 0.6684 - accuracy: 0.8697\n",
      "15/15 - 0s - loss: 0.7538 - accuracy: 0.8382\n",
      "15/15 - 0s - loss: 0.6675 - accuracy: 0.8466\n",
      "15/15 - 0s - loss: 0.7307 - accuracy: 0.8634\n",
      "15/15 - 0s - loss: 0.6938 - accuracy: 0.8634\n",
      "15/15 - 0s - loss: 0.8493 - accuracy: 0.8424\n",
      "15/15 - 0s - loss: 0.7022 - accuracy: 0.8550\n",
      "15/15 - 0s - loss: 0.7504 - accuracy: 0.8761\n",
      "15/15 - 0s - loss: 0.7688 - accuracy: 0.8403\n",
      "15/15 - 0s - loss: 0.6669 - accuracy: 0.8487\n",
      "15/15 - 0s - loss: 0.7948 - accuracy: 0.8718\n",
      "15/15 - 0s - loss: 0.8365 - accuracy: 0.8655\n",
      "15/15 - 0s - loss: 0.9875 - accuracy: 0.8214\n",
      "15/15 - 0s - loss: 0.7568 - accuracy: 0.8739\n",
      "15/15 - 0s - loss: 0.6854 - accuracy: 0.8676\n",
      "15/15 - 0s - loss: 0.6608 - accuracy: 0.8550\n",
      "15/15 - 0s - loss: 0.6017 - accuracy: 0.8655\n",
      "15/15 - 0s - loss: 0.6606 - accuracy: 0.8592\n",
      "------------    17  번째 global epoch < Clustering > 로컬 클라이언트 학습 완료!,  Total Training time :  191.0085151195526 ---------------------------\n",
      "\n",
      "\n",
      "Layer :  0   클러스터 갯수 정해짐!  갯수 :  2 0\n"
     ]
    },
    {
     "name": "stderr",
     "output_type": "stream",
     "text": [
      "<ipython-input-8-cf8b57b41ddb>:143: VisibleDeprecationWarning: Creating an ndarray from ragged nested sequences (which is a list-or-tuple of lists-or-tuples-or ndarrays with different lengths or shapes) is deprecated. If you meant to do this, you must specify 'dtype=object' when creating the ndarray\n",
      "  globals()['G{}_c{}_w_layer{}'.format(global_epoch, num_c_w, layer_index)] = globals()['G{}_c{}_w_layer{}'.format(global_epoch, num_c_w, layer_index)] + np.array(globals()['L{}_layer{}_w_c'.format(i,layer_index)])   # 일반 클러스터링\n"
     ]
    },
    {
     "name": "stdout",
     "output_type": "stream",
     "text": [
      "Layer :  2   클러스터 갯수 정해짐!  갯수 :  2 0\n"
     ]
    },
    {
     "name": "stderr",
     "output_type": "stream",
     "text": [
      "<ipython-input-8-cf8b57b41ddb>:143: VisibleDeprecationWarning: Creating an ndarray from ragged nested sequences (which is a list-or-tuple of lists-or-tuples-or ndarrays with different lengths or shapes) is deprecated. If you meant to do this, you must specify 'dtype=object' when creating the ndarray\n",
      "  globals()['G{}_c{}_w_layer{}'.format(global_epoch, num_c_w, layer_index)] = globals()['G{}_c{}_w_layer{}'.format(global_epoch, num_c_w, layer_index)] + np.array(globals()['L{}_layer{}_w_c'.format(i,layer_index)])   # 일반 클러스터링\n"
     ]
    },
    {
     "name": "stdout",
     "output_type": "stream",
     "text": [
      "Layer :  4   클러스터 갯수 정해짐!  갯수 :  3 1\n"
     ]
    },
    {
     "name": "stderr",
     "output_type": "stream",
     "text": [
      "<ipython-input-8-cf8b57b41ddb>:143: VisibleDeprecationWarning: Creating an ndarray from ragged nested sequences (which is a list-or-tuple of lists-or-tuples-or ndarrays with different lengths or shapes) is deprecated. If you meant to do this, you must specify 'dtype=object' when creating the ndarray\n",
      "  globals()['G{}_c{}_w_layer{}'.format(global_epoch, num_c_w, layer_index)] = globals()['G{}_c{}_w_layer{}'.format(global_epoch, num_c_w, layer_index)] + np.array(globals()['L{}_layer{}_w_c'.format(i,layer_index)])   # 일반 클러스터링\n"
     ]
    },
    {
     "name": "stdout",
     "output_type": "stream",
     "text": [
      "Layer :  6   클러스터 갯수 정해짐!  갯수 :  2 0\n"
     ]
    },
    {
     "name": "stderr",
     "output_type": "stream",
     "text": [
      "<ipython-input-8-cf8b57b41ddb>:143: VisibleDeprecationWarning: Creating an ndarray from ragged nested sequences (which is a list-or-tuple of lists-or-tuples-or ndarrays with different lengths or shapes) is deprecated. If you meant to do this, you must specify 'dtype=object' when creating the ndarray\n",
      "  globals()['G{}_c{}_w_layer{}'.format(global_epoch, num_c_w, layer_index)] = globals()['G{}_c{}_w_layer{}'.format(global_epoch, num_c_w, layer_index)] + np.array(globals()['L{}_layer{}_w_c'.format(i,layer_index)])   # 일반 클러스터링\n"
     ]
    },
    {
     "name": "stdout",
     "output_type": "stream",
     "text": [
      "Layer :  7   클러스터 갯수 정해짐!  갯수 :  2 0\n",
      "\n",
      "\n",
      "====================================================== One Global Epoch =====================================================================\n",
      "\n",
      "\n",
      "18  번째 global_epoch 데이터 랜덤하게 준비!!\n"
     ]
    },
    {
     "name": "stderr",
     "output_type": "stream",
     "text": [
      "<ipython-input-8-cf8b57b41ddb>:143: VisibleDeprecationWarning: Creating an ndarray from ragged nested sequences (which is a list-or-tuple of lists-or-tuples-or ndarrays with different lengths or shapes) is deprecated. If you meant to do this, you must specify 'dtype=object' when creating the ndarray\n",
      "  globals()['G{}_c{}_w_layer{}'.format(global_epoch, num_c_w, layer_index)] = globals()['G{}_c{}_w_layer{}'.format(global_epoch, num_c_w, layer_index)] + np.array(globals()['L{}_layer{}_w_c'.format(i,layer_index)])   # 일반 클러스터링\n"
     ]
    },
    {
     "name": "stdout",
     "output_type": "stream",
     "text": [
      "18  번째 global_epoch 데이터 랜덤 준비완료!!\n",
      "\n",
      "\n",
      "18  번째 global epoch에서 로컬 클라이언트 들 학습시작!\n",
      "\n",
      "학습 중 ...\n",
      "\n",
      "15/15 - 0s - loss: 0.7821 - accuracy: 0.8466\n",
      "15/15 - 0s - loss: 0.8869 - accuracy: 0.8508\n",
      "15/15 - 0s - loss: 0.9134 - accuracy: 0.8214\n",
      "15/15 - 0s - loss: 0.8417 - accuracy: 0.8424\n",
      "15/15 - 0s - loss: 0.7473 - accuracy: 0.8214\n",
      "15/15 - 0s - loss: 0.7849 - accuracy: 0.8550\n",
      "15/15 - 0s - loss: 0.8386 - accuracy: 0.8445\n",
      "15/15 - 0s - loss: 0.9591 - accuracy: 0.8340\n",
      "15/15 - 0s - loss: 0.6980 - accuracy: 0.8466\n",
      "15/15 - 0s - loss: 0.6145 - accuracy: 0.8256\n",
      "15/15 - 0s - loss: 0.6975 - accuracy: 0.8466\n",
      "15/15 - 0s - loss: 0.7317 - accuracy: 0.8529\n",
      "15/15 - 0s - loss: 0.5578 - accuracy: 0.8824\n",
      "15/15 - 0s - loss: 0.6628 - accuracy: 0.8487\n",
      "15/15 - 0s - loss: 0.5716 - accuracy: 0.8508\n",
      "15/15 - 0s - loss: 0.6123 - accuracy: 0.8739\n",
      "15/15 - 0s - loss: 0.7950 - accuracy: 0.8067\n",
      "15/15 - 0s - loss: 0.6419 - accuracy: 0.8718\n",
      "15/15 - 0s - loss: 0.6938 - accuracy: 0.8340\n",
      "15/15 - 0s - loss: 0.7599 - accuracy: 0.8697\n",
      "------------    18  번째 global epoch < Clustering > 로컬 클라이언트 학습 완료!,  Total Training time :  214.33845949172974 ---------------------------\n",
      "\n",
      "\n",
      "Layer :  0   클러스터 갯수 정해짐!  갯수 :  2 0\n"
     ]
    },
    {
     "name": "stderr",
     "output_type": "stream",
     "text": [
      "<ipython-input-8-cf8b57b41ddb>:143: VisibleDeprecationWarning: Creating an ndarray from ragged nested sequences (which is a list-or-tuple of lists-or-tuples-or ndarrays with different lengths or shapes) is deprecated. If you meant to do this, you must specify 'dtype=object' when creating the ndarray\n",
      "  globals()['G{}_c{}_w_layer{}'.format(global_epoch, num_c_w, layer_index)] = globals()['G{}_c{}_w_layer{}'.format(global_epoch, num_c_w, layer_index)] + np.array(globals()['L{}_layer{}_w_c'.format(i,layer_index)])   # 일반 클러스터링\n"
     ]
    },
    {
     "name": "stdout",
     "output_type": "stream",
     "text": [
      "Layer :  2   클러스터 갯수 정해짐!  갯수 :  2 0\n"
     ]
    },
    {
     "name": "stderr",
     "output_type": "stream",
     "text": [
      "<ipython-input-8-cf8b57b41ddb>:143: VisibleDeprecationWarning: Creating an ndarray from ragged nested sequences (which is a list-or-tuple of lists-or-tuples-or ndarrays with different lengths or shapes) is deprecated. If you meant to do this, you must specify 'dtype=object' when creating the ndarray\n",
      "  globals()['G{}_c{}_w_layer{}'.format(global_epoch, num_c_w, layer_index)] = globals()['G{}_c{}_w_layer{}'.format(global_epoch, num_c_w, layer_index)] + np.array(globals()['L{}_layer{}_w_c'.format(i,layer_index)])   # 일반 클러스터링\n"
     ]
    },
    {
     "name": "stdout",
     "output_type": "stream",
     "text": [
      "Layer :  4   클러스터 갯수 정해짐!  갯수 :  3 1\n"
     ]
    },
    {
     "name": "stderr",
     "output_type": "stream",
     "text": [
      "<ipython-input-8-cf8b57b41ddb>:143: VisibleDeprecationWarning: Creating an ndarray from ragged nested sequences (which is a list-or-tuple of lists-or-tuples-or ndarrays with different lengths or shapes) is deprecated. If you meant to do this, you must specify 'dtype=object' when creating the ndarray\n",
      "  globals()['G{}_c{}_w_layer{}'.format(global_epoch, num_c_w, layer_index)] = globals()['G{}_c{}_w_layer{}'.format(global_epoch, num_c_w, layer_index)] + np.array(globals()['L{}_layer{}_w_c'.format(i,layer_index)])   # 일반 클러스터링\n"
     ]
    },
    {
     "name": "stdout",
     "output_type": "stream",
     "text": [
      "Layer :  6   클러스터 갯수 정해짐!  갯수 :  2 0\n"
     ]
    },
    {
     "name": "stderr",
     "output_type": "stream",
     "text": [
      "<ipython-input-8-cf8b57b41ddb>:143: VisibleDeprecationWarning: Creating an ndarray from ragged nested sequences (which is a list-or-tuple of lists-or-tuples-or ndarrays with different lengths or shapes) is deprecated. If you meant to do this, you must specify 'dtype=object' when creating the ndarray\n",
      "  globals()['G{}_c{}_w_layer{}'.format(global_epoch, num_c_w, layer_index)] = globals()['G{}_c{}_w_layer{}'.format(global_epoch, num_c_w, layer_index)] + np.array(globals()['L{}_layer{}_w_c'.format(i,layer_index)])   # 일반 클러스터링\n"
     ]
    },
    {
     "name": "stdout",
     "output_type": "stream",
     "text": [
      "Layer :  7   클러스터 갯수 정해짐!  갯수 :  2 0\n",
      "\n",
      "\n",
      "====================================================== One Global Epoch =====================================================================\n",
      "\n",
      "\n",
      "19  번째 global_epoch 데이터 랜덤하게 준비!!\n"
     ]
    },
    {
     "name": "stderr",
     "output_type": "stream",
     "text": [
      "<ipython-input-8-cf8b57b41ddb>:143: VisibleDeprecationWarning: Creating an ndarray from ragged nested sequences (which is a list-or-tuple of lists-or-tuples-or ndarrays with different lengths or shapes) is deprecated. If you meant to do this, you must specify 'dtype=object' when creating the ndarray\n",
      "  globals()['G{}_c{}_w_layer{}'.format(global_epoch, num_c_w, layer_index)] = globals()['G{}_c{}_w_layer{}'.format(global_epoch, num_c_w, layer_index)] + np.array(globals()['L{}_layer{}_w_c'.format(i,layer_index)])   # 일반 클러스터링\n"
     ]
    },
    {
     "name": "stdout",
     "output_type": "stream",
     "text": [
      "19  번째 global_epoch 데이터 랜덤 준비완료!!\n",
      "\n",
      "\n",
      "19  번째 global epoch에서 로컬 클라이언트 들 학습시작!\n",
      "\n",
      "학습 중 ...\n",
      "\n",
      "15/15 - 0s - loss: 0.6999 - accuracy: 0.8655\n",
      "15/15 - 0s - loss: 0.7699 - accuracy: 0.8676\n",
      "15/15 - 0s - loss: 0.6687 - accuracy: 0.8487\n",
      "15/15 - 0s - loss: 0.7516 - accuracy: 0.8508\n",
      "15/15 - 0s - loss: 0.4698 - accuracy: 0.8824\n",
      "15/15 - 0s - loss: 0.7169 - accuracy: 0.8445\n",
      "15/15 - 0s - loss: 0.6851 - accuracy: 0.8424\n",
      "15/15 - 0s - loss: 0.5636 - accuracy: 0.8592\n",
      "15/15 - 0s - loss: 0.6517 - accuracy: 0.8508\n",
      "15/15 - 0s - loss: 0.7298 - accuracy: 0.8445\n",
      "15/15 - 0s - loss: 0.8017 - accuracy: 0.8592\n",
      "15/15 - 0s - loss: 0.6498 - accuracy: 0.8718\n",
      "15/15 - 0s - loss: 0.9297 - accuracy: 0.8676\n",
      "15/15 - 0s - loss: 0.7883 - accuracy: 0.8655\n",
      "15/15 - 0s - loss: 0.5377 - accuracy: 0.8761\n",
      "15/15 - 0s - loss: 0.7689 - accuracy: 0.8340\n",
      "15/15 - 0s - loss: 0.5982 - accuracy: 0.8592\n",
      "15/15 - 0s - loss: 0.5029 - accuracy: 0.8929\n",
      "15/15 - 0s - loss: 0.6514 - accuracy: 0.8445\n",
      "15/15 - 0s - loss: 0.6490 - accuracy: 0.8592\n",
      "------------    19  번째 global epoch < Clustering > 로컬 클라이언트 학습 완료!,  Total Training time :  218.28329157829285 ---------------------------\n",
      "\n",
      "\n",
      "Layer :  0   클러스터 갯수 정해짐!  갯수 :  2 0\n"
     ]
    },
    {
     "name": "stderr",
     "output_type": "stream",
     "text": [
      "<ipython-input-8-cf8b57b41ddb>:143: VisibleDeprecationWarning: Creating an ndarray from ragged nested sequences (which is a list-or-tuple of lists-or-tuples-or ndarrays with different lengths or shapes) is deprecated. If you meant to do this, you must specify 'dtype=object' when creating the ndarray\n",
      "  globals()['G{}_c{}_w_layer{}'.format(global_epoch, num_c_w, layer_index)] = globals()['G{}_c{}_w_layer{}'.format(global_epoch, num_c_w, layer_index)] + np.array(globals()['L{}_layer{}_w_c'.format(i,layer_index)])   # 일반 클러스터링\n"
     ]
    },
    {
     "name": "stdout",
     "output_type": "stream",
     "text": [
      "Layer :  2   클러스터 갯수 정해짐!  갯수 :  2 0\n"
     ]
    },
    {
     "name": "stderr",
     "output_type": "stream",
     "text": [
      "<ipython-input-8-cf8b57b41ddb>:143: VisibleDeprecationWarning: Creating an ndarray from ragged nested sequences (which is a list-or-tuple of lists-or-tuples-or ndarrays with different lengths or shapes) is deprecated. If you meant to do this, you must specify 'dtype=object' when creating the ndarray\n",
      "  globals()['G{}_c{}_w_layer{}'.format(global_epoch, num_c_w, layer_index)] = globals()['G{}_c{}_w_layer{}'.format(global_epoch, num_c_w, layer_index)] + np.array(globals()['L{}_layer{}_w_c'.format(i,layer_index)])   # 일반 클러스터링\n"
     ]
    },
    {
     "name": "stdout",
     "output_type": "stream",
     "text": [
      "Layer :  4   클러스터 갯수 정해짐!  갯수 :  3 1\n"
     ]
    },
    {
     "name": "stderr",
     "output_type": "stream",
     "text": [
      "<ipython-input-8-cf8b57b41ddb>:143: VisibleDeprecationWarning: Creating an ndarray from ragged nested sequences (which is a list-or-tuple of lists-or-tuples-or ndarrays with different lengths or shapes) is deprecated. If you meant to do this, you must specify 'dtype=object' when creating the ndarray\n",
      "  globals()['G{}_c{}_w_layer{}'.format(global_epoch, num_c_w, layer_index)] = globals()['G{}_c{}_w_layer{}'.format(global_epoch, num_c_w, layer_index)] + np.array(globals()['L{}_layer{}_w_c'.format(i,layer_index)])   # 일반 클러스터링\n"
     ]
    },
    {
     "name": "stdout",
     "output_type": "stream",
     "text": [
      "Layer :  6   클러스터 갯수 정해짐!  갯수 :  2 0\n"
     ]
    },
    {
     "name": "stderr",
     "output_type": "stream",
     "text": [
      "<ipython-input-8-cf8b57b41ddb>:143: VisibleDeprecationWarning: Creating an ndarray from ragged nested sequences (which is a list-or-tuple of lists-or-tuples-or ndarrays with different lengths or shapes) is deprecated. If you meant to do this, you must specify 'dtype=object' when creating the ndarray\n",
      "  globals()['G{}_c{}_w_layer{}'.format(global_epoch, num_c_w, layer_index)] = globals()['G{}_c{}_w_layer{}'.format(global_epoch, num_c_w, layer_index)] + np.array(globals()['L{}_layer{}_w_c'.format(i,layer_index)])   # 일반 클러스터링\n"
     ]
    },
    {
     "name": "stdout",
     "output_type": "stream",
     "text": [
      "Layer :  7   클러스터 갯수 정해짐!  갯수 :  2 0\n",
      "\n",
      "\n",
      "====================================================== One Global Epoch =====================================================================\n",
      "\n",
      "\n",
      "20  번째 global_epoch 데이터 랜덤하게 준비!!\n"
     ]
    },
    {
     "name": "stderr",
     "output_type": "stream",
     "text": [
      "<ipython-input-8-cf8b57b41ddb>:143: VisibleDeprecationWarning: Creating an ndarray from ragged nested sequences (which is a list-or-tuple of lists-or-tuples-or ndarrays with different lengths or shapes) is deprecated. If you meant to do this, you must specify 'dtype=object' when creating the ndarray\n",
      "  globals()['G{}_c{}_w_layer{}'.format(global_epoch, num_c_w, layer_index)] = globals()['G{}_c{}_w_layer{}'.format(global_epoch, num_c_w, layer_index)] + np.array(globals()['L{}_layer{}_w_c'.format(i,layer_index)])   # 일반 클러스터링\n"
     ]
    },
    {
     "name": "stdout",
     "output_type": "stream",
     "text": [
      "20  번째 global_epoch 데이터 랜덤 준비완료!!\n",
      "\n",
      "\n",
      "20  번째 global epoch에서 로컬 클라이언트 들 학습시작!\n",
      "\n",
      "학습 중 ...\n",
      "\n",
      "15/15 - 0s - loss: 0.8459 - accuracy: 0.8550\n",
      "15/15 - 0s - loss: 0.5045 - accuracy: 0.8782\n",
      "15/15 - 0s - loss: 0.5605 - accuracy: 0.8613\n",
      "15/15 - 0s - loss: 0.6482 - accuracy: 0.8424\n",
      "15/15 - 0s - loss: 0.6952 - accuracy: 0.8697\n",
      "15/15 - 0s - loss: 0.6612 - accuracy: 0.8655\n",
      "15/15 - 0s - loss: 0.5531 - accuracy: 0.8739\n",
      "15/15 - 0s - loss: 0.5405 - accuracy: 0.8803\n",
      "15/15 - 0s - loss: 0.6552 - accuracy: 0.8361\n",
      "15/15 - 0s - loss: 0.6918 - accuracy: 0.8592\n",
      "15/15 - 0s - loss: 0.6810 - accuracy: 0.8571\n",
      "15/15 - 0s - loss: 0.7834 - accuracy: 0.8193\n",
      "15/15 - 0s - loss: 0.5272 - accuracy: 0.8971\n",
      "15/15 - 0s - loss: 0.5310 - accuracy: 0.8550\n",
      "15/15 - 0s - loss: 0.7884 - accuracy: 0.8571\n",
      "15/15 - 0s - loss: 0.7436 - accuracy: 0.8782\n",
      "15/15 - 0s - loss: 0.7359 - accuracy: 0.8382\n",
      "15/15 - 0s - loss: 0.5471 - accuracy: 0.8487\n",
      "15/15 - 0s - loss: 0.5968 - accuracy: 0.8761\n",
      "15/15 - 0s - loss: 0.5741 - accuracy: 0.8761\n",
      "------------    20  번째 global epoch < Clustering > 로컬 클라이언트 학습 완료!,  Total Training time :  252.25378823280334 ---------------------------\n",
      "\n",
      "\n",
      "Layer :  0   클러스터 갯수 정해짐!  갯수 :  2 0\n"
     ]
    },
    {
     "name": "stderr",
     "output_type": "stream",
     "text": [
      "<ipython-input-8-cf8b57b41ddb>:143: VisibleDeprecationWarning: Creating an ndarray from ragged nested sequences (which is a list-or-tuple of lists-or-tuples-or ndarrays with different lengths or shapes) is deprecated. If you meant to do this, you must specify 'dtype=object' when creating the ndarray\n",
      "  globals()['G{}_c{}_w_layer{}'.format(global_epoch, num_c_w, layer_index)] = globals()['G{}_c{}_w_layer{}'.format(global_epoch, num_c_w, layer_index)] + np.array(globals()['L{}_layer{}_w_c'.format(i,layer_index)])   # 일반 클러스터링\n"
     ]
    },
    {
     "name": "stdout",
     "output_type": "stream",
     "text": [
      "Layer :  2   클러스터 갯수 정해짐!  갯수 :  2 0\n"
     ]
    },
    {
     "name": "stderr",
     "output_type": "stream",
     "text": [
      "<ipython-input-8-cf8b57b41ddb>:143: VisibleDeprecationWarning: Creating an ndarray from ragged nested sequences (which is a list-or-tuple of lists-or-tuples-or ndarrays with different lengths or shapes) is deprecated. If you meant to do this, you must specify 'dtype=object' when creating the ndarray\n",
      "  globals()['G{}_c{}_w_layer{}'.format(global_epoch, num_c_w, layer_index)] = globals()['G{}_c{}_w_layer{}'.format(global_epoch, num_c_w, layer_index)] + np.array(globals()['L{}_layer{}_w_c'.format(i,layer_index)])   # 일반 클러스터링\n"
     ]
    },
    {
     "name": "stdout",
     "output_type": "stream",
     "text": [
      "Layer :  4   클러스터 갯수 정해짐!  갯수 :  3 1\n"
     ]
    },
    {
     "name": "stderr",
     "output_type": "stream",
     "text": [
      "<ipython-input-8-cf8b57b41ddb>:143: VisibleDeprecationWarning: Creating an ndarray from ragged nested sequences (which is a list-or-tuple of lists-or-tuples-or ndarrays with different lengths or shapes) is deprecated. If you meant to do this, you must specify 'dtype=object' when creating the ndarray\n",
      "  globals()['G{}_c{}_w_layer{}'.format(global_epoch, num_c_w, layer_index)] = globals()['G{}_c{}_w_layer{}'.format(global_epoch, num_c_w, layer_index)] + np.array(globals()['L{}_layer{}_w_c'.format(i,layer_index)])   # 일반 클러스터링\n"
     ]
    },
    {
     "name": "stdout",
     "output_type": "stream",
     "text": [
      "Layer :  6   클러스터 갯수 정해짐!  갯수 :  2 0\n"
     ]
    },
    {
     "name": "stderr",
     "output_type": "stream",
     "text": [
      "<ipython-input-8-cf8b57b41ddb>:143: VisibleDeprecationWarning: Creating an ndarray from ragged nested sequences (which is a list-or-tuple of lists-or-tuples-or ndarrays with different lengths or shapes) is deprecated. If you meant to do this, you must specify 'dtype=object' when creating the ndarray\n",
      "  globals()['G{}_c{}_w_layer{}'.format(global_epoch, num_c_w, layer_index)] = globals()['G{}_c{}_w_layer{}'.format(global_epoch, num_c_w, layer_index)] + np.array(globals()['L{}_layer{}_w_c'.format(i,layer_index)])   # 일반 클러스터링\n"
     ]
    },
    {
     "name": "stdout",
     "output_type": "stream",
     "text": [
      "Layer :  7   클러스터 갯수 정해짐!  갯수 :  2 0\n",
      "\n",
      "\n",
      "====================================================== One Global Epoch =====================================================================\n",
      "\n",
      "\n",
      "21  번째 global_epoch 데이터 랜덤하게 준비!!\n"
     ]
    },
    {
     "name": "stderr",
     "output_type": "stream",
     "text": [
      "<ipython-input-8-cf8b57b41ddb>:143: VisibleDeprecationWarning: Creating an ndarray from ragged nested sequences (which is a list-or-tuple of lists-or-tuples-or ndarrays with different lengths or shapes) is deprecated. If you meant to do this, you must specify 'dtype=object' when creating the ndarray\n",
      "  globals()['G{}_c{}_w_layer{}'.format(global_epoch, num_c_w, layer_index)] = globals()['G{}_c{}_w_layer{}'.format(global_epoch, num_c_w, layer_index)] + np.array(globals()['L{}_layer{}_w_c'.format(i,layer_index)])   # 일반 클러스터링\n"
     ]
    },
    {
     "name": "stdout",
     "output_type": "stream",
     "text": [
      "21  번째 global_epoch 데이터 랜덤 준비완료!!\n",
      "\n",
      "\n",
      "21  번째 global epoch에서 로컬 클라이언트 들 학습시작!\n",
      "\n",
      "학습 중 ...\n",
      "\n",
      "15/15 - 0s - loss: 0.8045 - accuracy: 0.8445\n",
      "15/15 - 0s - loss: 0.5979 - accuracy: 0.8571\n",
      "15/15 - 0s - loss: 0.7692 - accuracy: 0.8508\n",
      "15/15 - 0s - loss: 0.6789 - accuracy: 0.8445\n",
      "15/15 - 0s - loss: 0.8587 - accuracy: 0.8508\n",
      "15/15 - 0s - loss: 0.6835 - accuracy: 0.8803\n",
      "15/15 - 0s - loss: 0.9035 - accuracy: 0.8403\n",
      "15/15 - 0s - loss: 0.7463 - accuracy: 0.8676\n",
      "15/15 - 0s - loss: 0.6627 - accuracy: 0.8592\n",
      "15/15 - 0s - loss: 0.6200 - accuracy: 0.8655\n",
      "15/15 - 0s - loss: 0.4786 - accuracy: 0.8761\n",
      "15/15 - 0s - loss: 0.7198 - accuracy: 0.8824\n",
      "15/15 - 0s - loss: 0.7376 - accuracy: 0.8634\n",
      "15/15 - 0s - loss: 0.7399 - accuracy: 0.8697\n",
      "15/15 - 0s - loss: 0.6280 - accuracy: 0.8676\n",
      "15/15 - 0s - loss: 0.7778 - accuracy: 0.8655\n",
      "15/15 - 0s - loss: 0.6148 - accuracy: 0.8761\n",
      "15/15 - 0s - loss: 0.6943 - accuracy: 0.8761\n",
      "15/15 - 0s - loss: 0.8927 - accuracy: 0.8403\n",
      "15/15 - 0s - loss: 0.5581 - accuracy: 0.8782\n",
      "------------    21  번째 global epoch < Clustering > 로컬 클라이언트 학습 완료!,  Total Training time :  250.89959979057312 ---------------------------\n",
      "\n",
      "\n",
      "Layer :  0   클러스터 갯수 정해짐!  갯수 :  2 0\n"
     ]
    },
    {
     "name": "stderr",
     "output_type": "stream",
     "text": [
      "<ipython-input-8-cf8b57b41ddb>:143: VisibleDeprecationWarning: Creating an ndarray from ragged nested sequences (which is a list-or-tuple of lists-or-tuples-or ndarrays with different lengths or shapes) is deprecated. If you meant to do this, you must specify 'dtype=object' when creating the ndarray\n",
      "  globals()['G{}_c{}_w_layer{}'.format(global_epoch, num_c_w, layer_index)] = globals()['G{}_c{}_w_layer{}'.format(global_epoch, num_c_w, layer_index)] + np.array(globals()['L{}_layer{}_w_c'.format(i,layer_index)])   # 일반 클러스터링\n"
     ]
    },
    {
     "name": "stdout",
     "output_type": "stream",
     "text": [
      "Layer :  2   클러스터 갯수 정해짐!  갯수 :  2 0\n"
     ]
    },
    {
     "name": "stderr",
     "output_type": "stream",
     "text": [
      "<ipython-input-8-cf8b57b41ddb>:143: VisibleDeprecationWarning: Creating an ndarray from ragged nested sequences (which is a list-or-tuple of lists-or-tuples-or ndarrays with different lengths or shapes) is deprecated. If you meant to do this, you must specify 'dtype=object' when creating the ndarray\n",
      "  globals()['G{}_c{}_w_layer{}'.format(global_epoch, num_c_w, layer_index)] = globals()['G{}_c{}_w_layer{}'.format(global_epoch, num_c_w, layer_index)] + np.array(globals()['L{}_layer{}_w_c'.format(i,layer_index)])   # 일반 클러스터링\n"
     ]
    },
    {
     "name": "stdout",
     "output_type": "stream",
     "text": [
      "Layer :  4   클러스터 갯수 정해짐!  갯수 :  3 1\n"
     ]
    },
    {
     "name": "stderr",
     "output_type": "stream",
     "text": [
      "<ipython-input-8-cf8b57b41ddb>:143: VisibleDeprecationWarning: Creating an ndarray from ragged nested sequences (which is a list-or-tuple of lists-or-tuples-or ndarrays with different lengths or shapes) is deprecated. If you meant to do this, you must specify 'dtype=object' when creating the ndarray\n",
      "  globals()['G{}_c{}_w_layer{}'.format(global_epoch, num_c_w, layer_index)] = globals()['G{}_c{}_w_layer{}'.format(global_epoch, num_c_w, layer_index)] + np.array(globals()['L{}_layer{}_w_c'.format(i,layer_index)])   # 일반 클러스터링\n"
     ]
    },
    {
     "name": "stdout",
     "output_type": "stream",
     "text": [
      "Layer :  6   클러스터 갯수 정해짐!  갯수 :  2 0\n"
     ]
    },
    {
     "name": "stderr",
     "output_type": "stream",
     "text": [
      "<ipython-input-8-cf8b57b41ddb>:143: VisibleDeprecationWarning: Creating an ndarray from ragged nested sequences (which is a list-or-tuple of lists-or-tuples-or ndarrays with different lengths or shapes) is deprecated. If you meant to do this, you must specify 'dtype=object' when creating the ndarray\n",
      "  globals()['G{}_c{}_w_layer{}'.format(global_epoch, num_c_w, layer_index)] = globals()['G{}_c{}_w_layer{}'.format(global_epoch, num_c_w, layer_index)] + np.array(globals()['L{}_layer{}_w_c'.format(i,layer_index)])   # 일반 클러스터링\n"
     ]
    },
    {
     "name": "stdout",
     "output_type": "stream",
     "text": [
      "Layer :  7   클러스터 갯수 정해짐!  갯수 :  2 0\n",
      "\n",
      "\n",
      "====================================================== One Global Epoch =====================================================================\n",
      "\n",
      "\n",
      "22  번째 global_epoch 데이터 랜덤하게 준비!!\n"
     ]
    },
    {
     "name": "stderr",
     "output_type": "stream",
     "text": [
      "<ipython-input-8-cf8b57b41ddb>:143: VisibleDeprecationWarning: Creating an ndarray from ragged nested sequences (which is a list-or-tuple of lists-or-tuples-or ndarrays with different lengths or shapes) is deprecated. If you meant to do this, you must specify 'dtype=object' when creating the ndarray\n",
      "  globals()['G{}_c{}_w_layer{}'.format(global_epoch, num_c_w, layer_index)] = globals()['G{}_c{}_w_layer{}'.format(global_epoch, num_c_w, layer_index)] + np.array(globals()['L{}_layer{}_w_c'.format(i,layer_index)])   # 일반 클러스터링\n"
     ]
    },
    {
     "name": "stdout",
     "output_type": "stream",
     "text": [
      "22  번째 global_epoch 데이터 랜덤 준비완료!!\n",
      "\n",
      "\n",
      "22  번째 global epoch에서 로컬 클라이언트 들 학습시작!\n",
      "\n",
      "학습 중 ...\n",
      "\n",
      "15/15 - 0s - loss: 0.7090 - accuracy: 0.8697\n",
      "15/15 - 0s - loss: 0.9191 - accuracy: 0.8403\n",
      "15/15 - 0s - loss: 0.7623 - accuracy: 0.8550\n",
      "15/15 - 0s - loss: 0.6607 - accuracy: 0.8508\n",
      "15/15 - 0s - loss: 0.6817 - accuracy: 0.8382\n",
      "15/15 - 0s - loss: 0.7386 - accuracy: 0.8403\n",
      "15/15 - 0s - loss: 0.5548 - accuracy: 0.8761\n",
      "15/15 - 0s - loss: 0.7423 - accuracy: 0.8508\n",
      "15/15 - 0s - loss: 0.6330 - accuracy: 0.8634\n",
      "15/15 - 0s - loss: 0.7736 - accuracy: 0.8613\n",
      "15/15 - 0s - loss: 0.8085 - accuracy: 0.8424\n",
      "15/15 - 0s - loss: 1.0092 - accuracy: 0.8340\n",
      "15/15 - 0s - loss: 0.7388 - accuracy: 0.8613\n",
      "15/15 - 0s - loss: 0.6544 - accuracy: 0.8718\n",
      "15/15 - 0s - loss: 0.7331 - accuracy: 0.8403\n",
      "15/15 - 0s - loss: 0.7381 - accuracy: 0.8761\n",
      "15/15 - 0s - loss: 0.7292 - accuracy: 0.8529\n",
      "15/15 - 0s - loss: 0.7359 - accuracy: 0.8824\n",
      "15/15 - 0s - loss: 0.7563 - accuracy: 0.8592\n",
      "15/15 - 0s - loss: 0.6592 - accuracy: 0.8655\n",
      "------------    22  번째 global epoch < Clustering > 로컬 클라이언트 학습 완료!,  Total Training time :  327.7540626525879 ---------------------------\n",
      "\n",
      "\n",
      "Layer :  0   클러스터 갯수 정해짐!  갯수 :  2 0\n"
     ]
    },
    {
     "name": "stderr",
     "output_type": "stream",
     "text": [
      "<ipython-input-8-cf8b57b41ddb>:143: VisibleDeprecationWarning: Creating an ndarray from ragged nested sequences (which is a list-or-tuple of lists-or-tuples-or ndarrays with different lengths or shapes) is deprecated. If you meant to do this, you must specify 'dtype=object' when creating the ndarray\n",
      "  globals()['G{}_c{}_w_layer{}'.format(global_epoch, num_c_w, layer_index)] = globals()['G{}_c{}_w_layer{}'.format(global_epoch, num_c_w, layer_index)] + np.array(globals()['L{}_layer{}_w_c'.format(i,layer_index)])   # 일반 클러스터링\n"
     ]
    },
    {
     "name": "stdout",
     "output_type": "stream",
     "text": [
      "Layer :  2   클러스터 갯수 정해짐!  갯수 :  2 0\n"
     ]
    },
    {
     "name": "stderr",
     "output_type": "stream",
     "text": [
      "<ipython-input-8-cf8b57b41ddb>:143: VisibleDeprecationWarning: Creating an ndarray from ragged nested sequences (which is a list-or-tuple of lists-or-tuples-or ndarrays with different lengths or shapes) is deprecated. If you meant to do this, you must specify 'dtype=object' when creating the ndarray\n",
      "  globals()['G{}_c{}_w_layer{}'.format(global_epoch, num_c_w, layer_index)] = globals()['G{}_c{}_w_layer{}'.format(global_epoch, num_c_w, layer_index)] + np.array(globals()['L{}_layer{}_w_c'.format(i,layer_index)])   # 일반 클러스터링\n"
     ]
    },
    {
     "name": "stdout",
     "output_type": "stream",
     "text": [
      "Layer :  4   클러스터 갯수 정해짐!  갯수 :  3 1\n"
     ]
    },
    {
     "name": "stderr",
     "output_type": "stream",
     "text": [
      "<ipython-input-8-cf8b57b41ddb>:143: VisibleDeprecationWarning: Creating an ndarray from ragged nested sequences (which is a list-or-tuple of lists-or-tuples-or ndarrays with different lengths or shapes) is deprecated. If you meant to do this, you must specify 'dtype=object' when creating the ndarray\n",
      "  globals()['G{}_c{}_w_layer{}'.format(global_epoch, num_c_w, layer_index)] = globals()['G{}_c{}_w_layer{}'.format(global_epoch, num_c_w, layer_index)] + np.array(globals()['L{}_layer{}_w_c'.format(i,layer_index)])   # 일반 클러스터링\n"
     ]
    },
    {
     "name": "stdout",
     "output_type": "stream",
     "text": [
      "Layer :  6   클러스터 갯수 정해짐!  갯수 :  2 0\n"
     ]
    },
    {
     "name": "stderr",
     "output_type": "stream",
     "text": [
      "<ipython-input-8-cf8b57b41ddb>:143: VisibleDeprecationWarning: Creating an ndarray from ragged nested sequences (which is a list-or-tuple of lists-or-tuples-or ndarrays with different lengths or shapes) is deprecated. If you meant to do this, you must specify 'dtype=object' when creating the ndarray\n",
      "  globals()['G{}_c{}_w_layer{}'.format(global_epoch, num_c_w, layer_index)] = globals()['G{}_c{}_w_layer{}'.format(global_epoch, num_c_w, layer_index)] + np.array(globals()['L{}_layer{}_w_c'.format(i,layer_index)])   # 일반 클러스터링\n"
     ]
    },
    {
     "name": "stdout",
     "output_type": "stream",
     "text": [
      "Layer :  7   클러스터 갯수 정해짐!  갯수 :  2 0\n",
      "\n",
      "\n",
      "====================================================== One Global Epoch =====================================================================\n",
      "\n",
      "\n",
      "23  번째 global_epoch 데이터 랜덤하게 준비!!\n"
     ]
    },
    {
     "name": "stderr",
     "output_type": "stream",
     "text": [
      "<ipython-input-8-cf8b57b41ddb>:143: VisibleDeprecationWarning: Creating an ndarray from ragged nested sequences (which is a list-or-tuple of lists-or-tuples-or ndarrays with different lengths or shapes) is deprecated. If you meant to do this, you must specify 'dtype=object' when creating the ndarray\n",
      "  globals()['G{}_c{}_w_layer{}'.format(global_epoch, num_c_w, layer_index)] = globals()['G{}_c{}_w_layer{}'.format(global_epoch, num_c_w, layer_index)] + np.array(globals()['L{}_layer{}_w_c'.format(i,layer_index)])   # 일반 클러스터링\n"
     ]
    },
    {
     "name": "stdout",
     "output_type": "stream",
     "text": [
      "23  번째 global_epoch 데이터 랜덤 준비완료!!\n",
      "\n",
      "\n",
      "23  번째 global epoch에서 로컬 클라이언트 들 학습시작!\n",
      "\n",
      "학습 중 ...\n",
      "\n",
      "15/15 - 0s - loss: 0.7816 - accuracy: 0.8508\n",
      "15/15 - 0s - loss: 0.5646 - accuracy: 0.8655\n",
      "15/15 - 0s - loss: 0.8050 - accuracy: 0.8487\n",
      "15/15 - 0s - loss: 0.8821 - accuracy: 0.8361\n",
      "15/15 - 0s - loss: 0.6684 - accuracy: 0.8739\n",
      "15/15 - 0s - loss: 0.5944 - accuracy: 0.8634\n",
      "15/15 - 0s - loss: 0.7005 - accuracy: 0.8803\n",
      "15/15 - 0s - loss: 0.7205 - accuracy: 0.8550\n",
      "15/15 - 0s - loss: 0.5433 - accuracy: 0.8634\n",
      "15/15 - 0s - loss: 0.7590 - accuracy: 0.8319\n",
      "15/15 - 0s - loss: 0.5393 - accuracy: 0.8761\n",
      "15/15 - 0s - loss: 0.7544 - accuracy: 0.8655\n",
      "15/15 - 0s - loss: 0.8079 - accuracy: 0.8697\n",
      "15/15 - 0s - loss: 0.6683 - accuracy: 0.8445\n",
      "15/15 - 0s - loss: 0.9765 - accuracy: 0.8382\n",
      "15/15 - 0s - loss: 0.5286 - accuracy: 0.8782\n",
      "15/15 - 0s - loss: 0.8008 - accuracy: 0.8655\n",
      "15/15 - 0s - loss: 0.7407 - accuracy: 0.8487\n",
      "15/15 - 0s - loss: 0.8160 - accuracy: 0.8529\n",
      "15/15 - 0s - loss: 0.7289 - accuracy: 0.8382\n",
      "------------    23  번째 global epoch < Clustering > 로컬 클라이언트 학습 완료!,  Total Training time :  306.83667826652527 ---------------------------\n",
      "\n",
      "\n",
      "Layer :  0   클러스터 갯수 정해짐!  갯수 :  2 0\n"
     ]
    },
    {
     "name": "stderr",
     "output_type": "stream",
     "text": [
      "<ipython-input-8-cf8b57b41ddb>:143: VisibleDeprecationWarning: Creating an ndarray from ragged nested sequences (which is a list-or-tuple of lists-or-tuples-or ndarrays with different lengths or shapes) is deprecated. If you meant to do this, you must specify 'dtype=object' when creating the ndarray\n",
      "  globals()['G{}_c{}_w_layer{}'.format(global_epoch, num_c_w, layer_index)] = globals()['G{}_c{}_w_layer{}'.format(global_epoch, num_c_w, layer_index)] + np.array(globals()['L{}_layer{}_w_c'.format(i,layer_index)])   # 일반 클러스터링\n"
     ]
    },
    {
     "name": "stdout",
     "output_type": "stream",
     "text": [
      "Layer :  2   클러스터 갯수 정해짐!  갯수 :  2 0\n"
     ]
    },
    {
     "name": "stderr",
     "output_type": "stream",
     "text": [
      "<ipython-input-8-cf8b57b41ddb>:143: VisibleDeprecationWarning: Creating an ndarray from ragged nested sequences (which is a list-or-tuple of lists-or-tuples-or ndarrays with different lengths or shapes) is deprecated. If you meant to do this, you must specify 'dtype=object' when creating the ndarray\n",
      "  globals()['G{}_c{}_w_layer{}'.format(global_epoch, num_c_w, layer_index)] = globals()['G{}_c{}_w_layer{}'.format(global_epoch, num_c_w, layer_index)] + np.array(globals()['L{}_layer{}_w_c'.format(i,layer_index)])   # 일반 클러스터링\n"
     ]
    },
    {
     "name": "stdout",
     "output_type": "stream",
     "text": [
      "Layer :  4   클러스터 갯수 정해짐!  갯수 :  3 1\n"
     ]
    },
    {
     "name": "stderr",
     "output_type": "stream",
     "text": [
      "<ipython-input-8-cf8b57b41ddb>:143: VisibleDeprecationWarning: Creating an ndarray from ragged nested sequences (which is a list-or-tuple of lists-or-tuples-or ndarrays with different lengths or shapes) is deprecated. If you meant to do this, you must specify 'dtype=object' when creating the ndarray\n",
      "  globals()['G{}_c{}_w_layer{}'.format(global_epoch, num_c_w, layer_index)] = globals()['G{}_c{}_w_layer{}'.format(global_epoch, num_c_w, layer_index)] + np.array(globals()['L{}_layer{}_w_c'.format(i,layer_index)])   # 일반 클러스터링\n"
     ]
    },
    {
     "name": "stdout",
     "output_type": "stream",
     "text": [
      "Layer :  6   클러스터 갯수 정해짐!  갯수 :  2 0\n"
     ]
    },
    {
     "name": "stderr",
     "output_type": "stream",
     "text": [
      "<ipython-input-8-cf8b57b41ddb>:143: VisibleDeprecationWarning: Creating an ndarray from ragged nested sequences (which is a list-or-tuple of lists-or-tuples-or ndarrays with different lengths or shapes) is deprecated. If you meant to do this, you must specify 'dtype=object' when creating the ndarray\n",
      "  globals()['G{}_c{}_w_layer{}'.format(global_epoch, num_c_w, layer_index)] = globals()['G{}_c{}_w_layer{}'.format(global_epoch, num_c_w, layer_index)] + np.array(globals()['L{}_layer{}_w_c'.format(i,layer_index)])   # 일반 클러스터링\n"
     ]
    },
    {
     "name": "stdout",
     "output_type": "stream",
     "text": [
      "Layer :  7   클러스터 갯수 정해짐!  갯수 :  2 0\n",
      "\n",
      "\n",
      "====================================================== One Global Epoch =====================================================================\n",
      "\n",
      "\n",
      "24  번째 global_epoch 데이터 랜덤하게 준비!!\n"
     ]
    },
    {
     "name": "stderr",
     "output_type": "stream",
     "text": [
      "<ipython-input-8-cf8b57b41ddb>:143: VisibleDeprecationWarning: Creating an ndarray from ragged nested sequences (which is a list-or-tuple of lists-or-tuples-or ndarrays with different lengths or shapes) is deprecated. If you meant to do this, you must specify 'dtype=object' when creating the ndarray\n",
      "  globals()['G{}_c{}_w_layer{}'.format(global_epoch, num_c_w, layer_index)] = globals()['G{}_c{}_w_layer{}'.format(global_epoch, num_c_w, layer_index)] + np.array(globals()['L{}_layer{}_w_c'.format(i,layer_index)])   # 일반 클러스터링\n"
     ]
    },
    {
     "name": "stdout",
     "output_type": "stream",
     "text": [
      "24  번째 global_epoch 데이터 랜덤 준비완료!!\n",
      "\n",
      "\n",
      "24  번째 global epoch에서 로컬 클라이언트 들 학습시작!\n",
      "\n",
      "학습 중 ...\n",
      "\n",
      "15/15 - 0s - loss: 0.6542 - accuracy: 0.8697\n",
      "15/15 - 0s - loss: 0.8928 - accuracy: 0.8466\n",
      "15/15 - 0s - loss: 0.7988 - accuracy: 0.8761\n",
      "15/15 - 0s - loss: 0.6791 - accuracy: 0.8613\n",
      "15/15 - 0s - loss: 0.6399 - accuracy: 0.8782\n",
      "15/15 - 0s - loss: 0.6238 - accuracy: 0.8761\n",
      "15/15 - 0s - loss: 0.7896 - accuracy: 0.8529\n",
      "15/15 - 0s - loss: 0.5630 - accuracy: 0.8887\n",
      "15/15 - 0s - loss: 0.7086 - accuracy: 0.8529\n",
      "15/15 - 0s - loss: 0.7315 - accuracy: 0.8424\n",
      "15/15 - 0s - loss: 0.7340 - accuracy: 0.8866\n",
      "15/15 - 0s - loss: 0.5711 - accuracy: 0.8739\n",
      "15/15 - 0s - loss: 0.5011 - accuracy: 0.9118\n",
      "15/15 - 0s - loss: 0.7113 - accuracy: 0.8634\n",
      "15/15 - 0s - loss: 0.8582 - accuracy: 0.8424\n",
      "15/15 - 0s - loss: 0.6839 - accuracy: 0.8466\n",
      "15/15 - 0s - loss: 0.8185 - accuracy: 0.8550\n",
      "15/15 - 0s - loss: 0.9356 - accuracy: 0.8508\n",
      "15/15 - 0s - loss: 0.8801 - accuracy: 0.8382\n",
      "15/15 - 0s - loss: 0.7654 - accuracy: 0.8803\n",
      "------------    24  번째 global epoch < Clustering > 로컬 클라이언트 학습 완료!,  Total Training time :  273.34245109558105 ---------------------------\n",
      "\n",
      "\n",
      "Layer :  0   클러스터 갯수 정해짐!  갯수 :  2 0\n"
     ]
    },
    {
     "name": "stderr",
     "output_type": "stream",
     "text": [
      "<ipython-input-8-cf8b57b41ddb>:143: VisibleDeprecationWarning: Creating an ndarray from ragged nested sequences (which is a list-or-tuple of lists-or-tuples-or ndarrays with different lengths or shapes) is deprecated. If you meant to do this, you must specify 'dtype=object' when creating the ndarray\n",
      "  globals()['G{}_c{}_w_layer{}'.format(global_epoch, num_c_w, layer_index)] = globals()['G{}_c{}_w_layer{}'.format(global_epoch, num_c_w, layer_index)] + np.array(globals()['L{}_layer{}_w_c'.format(i,layer_index)])   # 일반 클러스터링\n"
     ]
    },
    {
     "name": "stdout",
     "output_type": "stream",
     "text": [
      "Layer :  2   클러스터 갯수 정해짐!  갯수 :  2 0\n"
     ]
    },
    {
     "name": "stderr",
     "output_type": "stream",
     "text": [
      "<ipython-input-8-cf8b57b41ddb>:143: VisibleDeprecationWarning: Creating an ndarray from ragged nested sequences (which is a list-or-tuple of lists-or-tuples-or ndarrays with different lengths or shapes) is deprecated. If you meant to do this, you must specify 'dtype=object' when creating the ndarray\n",
      "  globals()['G{}_c{}_w_layer{}'.format(global_epoch, num_c_w, layer_index)] = globals()['G{}_c{}_w_layer{}'.format(global_epoch, num_c_w, layer_index)] + np.array(globals()['L{}_layer{}_w_c'.format(i,layer_index)])   # 일반 클러스터링\n"
     ]
    },
    {
     "name": "stdout",
     "output_type": "stream",
     "text": [
      "Layer :  4   클러스터 갯수 정해짐!  갯수 :  3 1\n"
     ]
    },
    {
     "name": "stderr",
     "output_type": "stream",
     "text": [
      "<ipython-input-8-cf8b57b41ddb>:143: VisibleDeprecationWarning: Creating an ndarray from ragged nested sequences (which is a list-or-tuple of lists-or-tuples-or ndarrays with different lengths or shapes) is deprecated. If you meant to do this, you must specify 'dtype=object' when creating the ndarray\n",
      "  globals()['G{}_c{}_w_layer{}'.format(global_epoch, num_c_w, layer_index)] = globals()['G{}_c{}_w_layer{}'.format(global_epoch, num_c_w, layer_index)] + np.array(globals()['L{}_layer{}_w_c'.format(i,layer_index)])   # 일반 클러스터링\n"
     ]
    },
    {
     "name": "stdout",
     "output_type": "stream",
     "text": [
      "Layer :  6   클러스터 갯수 정해짐!  갯수 :  2 0\n"
     ]
    },
    {
     "name": "stderr",
     "output_type": "stream",
     "text": [
      "<ipython-input-8-cf8b57b41ddb>:143: VisibleDeprecationWarning: Creating an ndarray from ragged nested sequences (which is a list-or-tuple of lists-or-tuples-or ndarrays with different lengths or shapes) is deprecated. If you meant to do this, you must specify 'dtype=object' when creating the ndarray\n",
      "  globals()['G{}_c{}_w_layer{}'.format(global_epoch, num_c_w, layer_index)] = globals()['G{}_c{}_w_layer{}'.format(global_epoch, num_c_w, layer_index)] + np.array(globals()['L{}_layer{}_w_c'.format(i,layer_index)])   # 일반 클러스터링\n"
     ]
    },
    {
     "name": "stdout",
     "output_type": "stream",
     "text": [
      "Layer :  7   클러스터 갯수 정해짐!  갯수 :  2 0\n",
      "\n",
      "\n",
      "====================================================== One Global Epoch =====================================================================\n",
      "\n",
      "\n",
      "25  번째 global_epoch 데이터 랜덤하게 준비!!\n"
     ]
    },
    {
     "name": "stderr",
     "output_type": "stream",
     "text": [
      "<ipython-input-8-cf8b57b41ddb>:143: VisibleDeprecationWarning: Creating an ndarray from ragged nested sequences (which is a list-or-tuple of lists-or-tuples-or ndarrays with different lengths or shapes) is deprecated. If you meant to do this, you must specify 'dtype=object' when creating the ndarray\n",
      "  globals()['G{}_c{}_w_layer{}'.format(global_epoch, num_c_w, layer_index)] = globals()['G{}_c{}_w_layer{}'.format(global_epoch, num_c_w, layer_index)] + np.array(globals()['L{}_layer{}_w_c'.format(i,layer_index)])   # 일반 클러스터링\n"
     ]
    },
    {
     "name": "stdout",
     "output_type": "stream",
     "text": [
      "25  번째 global_epoch 데이터 랜덤 준비완료!!\n",
      "\n",
      "\n",
      "25  번째 global epoch에서 로컬 클라이언트 들 학습시작!\n",
      "\n",
      "학습 중 ...\n",
      "\n",
      "15/15 - 0s - loss: 0.9588 - accuracy: 0.8845\n",
      "15/15 - 0s - loss: 0.7203 - accuracy: 0.8592\n",
      "15/15 - 0s - loss: 0.6209 - accuracy: 0.8824\n",
      "15/15 - 0s - loss: 0.5750 - accuracy: 0.8950\n",
      "15/15 - 0s - loss: 0.7232 - accuracy: 0.8655\n",
      "15/15 - 0s - loss: 0.7481 - accuracy: 0.8424\n",
      "15/15 - 0s - loss: 0.6329 - accuracy: 0.8887\n",
      "15/15 - 0s - loss: 0.6524 - accuracy: 0.8718\n",
      "15/15 - 0s - loss: 0.6368 - accuracy: 0.8634\n",
      "15/15 - 0s - loss: 0.7508 - accuracy: 0.8571\n",
      "15/15 - 0s - loss: 0.7503 - accuracy: 0.8550\n",
      "15/15 - 0s - loss: 0.6965 - accuracy: 0.8782\n",
      "15/15 - 0s - loss: 0.6976 - accuracy: 0.8676\n",
      "15/15 - 0s - loss: 0.5929 - accuracy: 0.8761\n",
      "15/15 - 0s - loss: 0.8614 - accuracy: 0.8613\n",
      "15/15 - 0s - loss: 0.4304 - accuracy: 0.9055\n",
      "15/15 - 0s - loss: 0.8297 - accuracy: 0.8592\n",
      "15/15 - 0s - loss: 0.5976 - accuracy: 0.8887\n",
      "15/15 - 0s - loss: 0.7915 - accuracy: 0.8487\n",
      "15/15 - 0s - loss: 0.6263 - accuracy: 0.8908\n",
      "------------    25  번째 global epoch < Clustering > 로컬 클라이언트 학습 완료!,  Total Training time :  345.4439914226532 ---------------------------\n",
      "\n",
      "\n",
      "Layer :  0   클러스터 갯수 정해짐!  갯수 :  2 0\n"
     ]
    },
    {
     "name": "stderr",
     "output_type": "stream",
     "text": [
      "<ipython-input-8-cf8b57b41ddb>:143: VisibleDeprecationWarning: Creating an ndarray from ragged nested sequences (which is a list-or-tuple of lists-or-tuples-or ndarrays with different lengths or shapes) is deprecated. If you meant to do this, you must specify 'dtype=object' when creating the ndarray\n",
      "  globals()['G{}_c{}_w_layer{}'.format(global_epoch, num_c_w, layer_index)] = globals()['G{}_c{}_w_layer{}'.format(global_epoch, num_c_w, layer_index)] + np.array(globals()['L{}_layer{}_w_c'.format(i,layer_index)])   # 일반 클러스터링\n"
     ]
    },
    {
     "name": "stdout",
     "output_type": "stream",
     "text": [
      "Layer :  2   클러스터 갯수 정해짐!  갯수 :  2 0\n"
     ]
    },
    {
     "name": "stderr",
     "output_type": "stream",
     "text": [
      "<ipython-input-8-cf8b57b41ddb>:143: VisibleDeprecationWarning: Creating an ndarray from ragged nested sequences (which is a list-or-tuple of lists-or-tuples-or ndarrays with different lengths or shapes) is deprecated. If you meant to do this, you must specify 'dtype=object' when creating the ndarray\n",
      "  globals()['G{}_c{}_w_layer{}'.format(global_epoch, num_c_w, layer_index)] = globals()['G{}_c{}_w_layer{}'.format(global_epoch, num_c_w, layer_index)] + np.array(globals()['L{}_layer{}_w_c'.format(i,layer_index)])   # 일반 클러스터링\n"
     ]
    },
    {
     "name": "stdout",
     "output_type": "stream",
     "text": [
      "Layer :  4   클러스터 갯수 정해짐!  갯수 :  3 1\n"
     ]
    },
    {
     "name": "stderr",
     "output_type": "stream",
     "text": [
      "<ipython-input-8-cf8b57b41ddb>:143: VisibleDeprecationWarning: Creating an ndarray from ragged nested sequences (which is a list-or-tuple of lists-or-tuples-or ndarrays with different lengths or shapes) is deprecated. If you meant to do this, you must specify 'dtype=object' when creating the ndarray\n",
      "  globals()['G{}_c{}_w_layer{}'.format(global_epoch, num_c_w, layer_index)] = globals()['G{}_c{}_w_layer{}'.format(global_epoch, num_c_w, layer_index)] + np.array(globals()['L{}_layer{}_w_c'.format(i,layer_index)])   # 일반 클러스터링\n"
     ]
    },
    {
     "name": "stdout",
     "output_type": "stream",
     "text": [
      "Layer :  6   클러스터 갯수 정해짐!  갯수 :  2 0\n"
     ]
    },
    {
     "name": "stderr",
     "output_type": "stream",
     "text": [
      "<ipython-input-8-cf8b57b41ddb>:143: VisibleDeprecationWarning: Creating an ndarray from ragged nested sequences (which is a list-or-tuple of lists-or-tuples-or ndarrays with different lengths or shapes) is deprecated. If you meant to do this, you must specify 'dtype=object' when creating the ndarray\n",
      "  globals()['G{}_c{}_w_layer{}'.format(global_epoch, num_c_w, layer_index)] = globals()['G{}_c{}_w_layer{}'.format(global_epoch, num_c_w, layer_index)] + np.array(globals()['L{}_layer{}_w_c'.format(i,layer_index)])   # 일반 클러스터링\n"
     ]
    },
    {
     "name": "stdout",
     "output_type": "stream",
     "text": [
      "Layer :  7   클러스터 갯수 정해짐!  갯수 :  2 0\n",
      "\n",
      "\n",
      "====================================================== One Global Epoch =====================================================================\n",
      "\n",
      "\n",
      "26  번째 global_epoch 데이터 랜덤하게 준비!!\n"
     ]
    },
    {
     "name": "stderr",
     "output_type": "stream",
     "text": [
      "<ipython-input-8-cf8b57b41ddb>:143: VisibleDeprecationWarning: Creating an ndarray from ragged nested sequences (which is a list-or-tuple of lists-or-tuples-or ndarrays with different lengths or shapes) is deprecated. If you meant to do this, you must specify 'dtype=object' when creating the ndarray\n",
      "  globals()['G{}_c{}_w_layer{}'.format(global_epoch, num_c_w, layer_index)] = globals()['G{}_c{}_w_layer{}'.format(global_epoch, num_c_w, layer_index)] + np.array(globals()['L{}_layer{}_w_c'.format(i,layer_index)])   # 일반 클러스터링\n"
     ]
    },
    {
     "name": "stdout",
     "output_type": "stream",
     "text": [
      "26  번째 global_epoch 데이터 랜덤 준비완료!!\n",
      "\n",
      "\n",
      "26  번째 global epoch에서 로컬 클라이언트 들 학습시작!\n",
      "\n",
      "학습 중 ...\n",
      "\n",
      "15/15 - 0s - loss: 0.8261 - accuracy: 0.8529\n",
      "15/15 - 0s - loss: 0.6641 - accuracy: 0.8655\n",
      "15/15 - 0s - loss: 0.5714 - accuracy: 0.8487\n",
      "15/15 - 0s - loss: 0.7478 - accuracy: 0.8697\n",
      "15/15 - 0s - loss: 0.7291 - accuracy: 0.8445\n",
      "15/15 - 0s - loss: 0.8166 - accuracy: 0.8487\n",
      "15/15 - 0s - loss: 0.7234 - accuracy: 0.8571\n",
      "15/15 - 0s - loss: 0.7952 - accuracy: 0.8298\n",
      "15/15 - 0s - loss: 0.8866 - accuracy: 0.8151\n",
      "15/15 - 0s - loss: 0.4950 - accuracy: 0.8761\n",
      "15/15 - 0s - loss: 0.7670 - accuracy: 0.8571\n",
      "15/15 - 0s - loss: 0.8978 - accuracy: 0.8466\n",
      "15/15 - 0s - loss: 0.7404 - accuracy: 0.8739\n",
      "15/15 - 0s - loss: 0.7636 - accuracy: 0.8592\n",
      "15/15 - 0s - loss: 0.7875 - accuracy: 0.8697\n",
      "15/15 - 0s - loss: 0.5316 - accuracy: 0.8824\n",
      "15/15 - 0s - loss: 0.9161 - accuracy: 0.8613\n",
      "15/15 - 0s - loss: 0.6856 - accuracy: 0.8718\n",
      "15/15 - 0s - loss: 0.8566 - accuracy: 0.8403\n",
      "15/15 - 0s - loss: 0.7000 - accuracy: 0.8655\n",
      "------------    26  번째 global epoch < Clustering > 로컬 클라이언트 학습 완료!,  Total Training time :  333.4223475456238 ---------------------------\n",
      "\n",
      "\n",
      "Layer :  0   클러스터 갯수 정해짐!  갯수 :  2 0\n"
     ]
    },
    {
     "name": "stderr",
     "output_type": "stream",
     "text": [
      "<ipython-input-8-cf8b57b41ddb>:143: VisibleDeprecationWarning: Creating an ndarray from ragged nested sequences (which is a list-or-tuple of lists-or-tuples-or ndarrays with different lengths or shapes) is deprecated. If you meant to do this, you must specify 'dtype=object' when creating the ndarray\n",
      "  globals()['G{}_c{}_w_layer{}'.format(global_epoch, num_c_w, layer_index)] = globals()['G{}_c{}_w_layer{}'.format(global_epoch, num_c_w, layer_index)] + np.array(globals()['L{}_layer{}_w_c'.format(i,layer_index)])   # 일반 클러스터링\n"
     ]
    },
    {
     "name": "stdout",
     "output_type": "stream",
     "text": [
      "Layer :  2   클러스터 갯수 정해짐!  갯수 :  2 0\n"
     ]
    },
    {
     "name": "stderr",
     "output_type": "stream",
     "text": [
      "<ipython-input-8-cf8b57b41ddb>:143: VisibleDeprecationWarning: Creating an ndarray from ragged nested sequences (which is a list-or-tuple of lists-or-tuples-or ndarrays with different lengths or shapes) is deprecated. If you meant to do this, you must specify 'dtype=object' when creating the ndarray\n",
      "  globals()['G{}_c{}_w_layer{}'.format(global_epoch, num_c_w, layer_index)] = globals()['G{}_c{}_w_layer{}'.format(global_epoch, num_c_w, layer_index)] + np.array(globals()['L{}_layer{}_w_c'.format(i,layer_index)])   # 일반 클러스터링\n"
     ]
    },
    {
     "name": "stdout",
     "output_type": "stream",
     "text": [
      "Layer :  4   클러스터 갯수 정해짐!  갯수 :  4 2\n"
     ]
    },
    {
     "name": "stderr",
     "output_type": "stream",
     "text": [
      "<ipython-input-8-cf8b57b41ddb>:143: VisibleDeprecationWarning: Creating an ndarray from ragged nested sequences (which is a list-or-tuple of lists-or-tuples-or ndarrays with different lengths or shapes) is deprecated. If you meant to do this, you must specify 'dtype=object' when creating the ndarray\n",
      "  globals()['G{}_c{}_w_layer{}'.format(global_epoch, num_c_w, layer_index)] = globals()['G{}_c{}_w_layer{}'.format(global_epoch, num_c_w, layer_index)] + np.array(globals()['L{}_layer{}_w_c'.format(i,layer_index)])   # 일반 클러스터링\n"
     ]
    },
    {
     "name": "stdout",
     "output_type": "stream",
     "text": [
      "Layer :  6   클러스터 갯수 정해짐!  갯수 :  2 0\n"
     ]
    },
    {
     "name": "stderr",
     "output_type": "stream",
     "text": [
      "<ipython-input-8-cf8b57b41ddb>:143: VisibleDeprecationWarning: Creating an ndarray from ragged nested sequences (which is a list-or-tuple of lists-or-tuples-or ndarrays with different lengths or shapes) is deprecated. If you meant to do this, you must specify 'dtype=object' when creating the ndarray\n",
      "  globals()['G{}_c{}_w_layer{}'.format(global_epoch, num_c_w, layer_index)] = globals()['G{}_c{}_w_layer{}'.format(global_epoch, num_c_w, layer_index)] + np.array(globals()['L{}_layer{}_w_c'.format(i,layer_index)])   # 일반 클러스터링\n"
     ]
    },
    {
     "name": "stdout",
     "output_type": "stream",
     "text": [
      "Layer :  7   클러스터 갯수 정해짐!  갯수 :  2 0\n",
      "\n",
      "\n",
      "====================================================== One Global Epoch =====================================================================\n",
      "\n",
      "\n",
      "27  번째 global_epoch 데이터 랜덤하게 준비!!\n"
     ]
    },
    {
     "name": "stderr",
     "output_type": "stream",
     "text": [
      "<ipython-input-8-cf8b57b41ddb>:143: VisibleDeprecationWarning: Creating an ndarray from ragged nested sequences (which is a list-or-tuple of lists-or-tuples-or ndarrays with different lengths or shapes) is deprecated. If you meant to do this, you must specify 'dtype=object' when creating the ndarray\n",
      "  globals()['G{}_c{}_w_layer{}'.format(global_epoch, num_c_w, layer_index)] = globals()['G{}_c{}_w_layer{}'.format(global_epoch, num_c_w, layer_index)] + np.array(globals()['L{}_layer{}_w_c'.format(i,layer_index)])   # 일반 클러스터링\n"
     ]
    },
    {
     "name": "stdout",
     "output_type": "stream",
     "text": [
      "27  번째 global_epoch 데이터 랜덤 준비완료!!\n",
      "\n",
      "\n",
      "27  번째 global epoch에서 로컬 클라이언트 들 학습시작!\n",
      "\n",
      "학습 중 ...\n",
      "\n",
      "15/15 - 0s - loss: 0.7835 - accuracy: 0.8950\n",
      "15/15 - 0s - loss: 0.8753 - accuracy: 0.8761\n",
      "15/15 - 0s - loss: 0.7094 - accuracy: 0.8655\n",
      "15/15 - 0s - loss: 0.7822 - accuracy: 0.8634\n",
      "15/15 - 0s - loss: 0.9190 - accuracy: 0.8466\n",
      "15/15 - 0s - loss: 0.6149 - accuracy: 0.8971\n",
      "15/15 - 0s - loss: 0.7785 - accuracy: 0.8718\n",
      "15/15 - 0s - loss: 0.8263 - accuracy: 0.8445\n",
      "15/15 - 0s - loss: 0.8176 - accuracy: 0.8655\n",
      "15/15 - 0s - loss: 0.8120 - accuracy: 0.8676\n",
      "15/15 - 0s - loss: 0.6717 - accuracy: 0.8887\n",
      "15/15 - 0s - loss: 0.5847 - accuracy: 0.8803\n",
      "15/15 - 0s - loss: 0.7045 - accuracy: 0.8613\n",
      "15/15 - 0s - loss: 0.7974 - accuracy: 0.8634\n",
      "15/15 - 0s - loss: 1.0086 - accuracy: 0.8676\n",
      "15/15 - 0s - loss: 0.8093 - accuracy: 0.8761\n",
      "15/15 - 0s - loss: 0.6496 - accuracy: 0.8697\n",
      "15/15 - 0s - loss: 0.6065 - accuracy: 0.8761\n",
      "15/15 - 0s - loss: 0.6427 - accuracy: 0.8739\n",
      "15/15 - 0s - loss: 0.7226 - accuracy: 0.8550\n",
      "------------    27  번째 global epoch < Clustering > 로컬 클라이언트 학습 완료!,  Total Training time :  384.57272720336914 ---------------------------\n",
      "\n",
      "\n",
      "Layer :  0   클러스터 갯수 정해짐!  갯수 :  2 0\n"
     ]
    },
    {
     "name": "stderr",
     "output_type": "stream",
     "text": [
      "<ipython-input-8-cf8b57b41ddb>:143: VisibleDeprecationWarning: Creating an ndarray from ragged nested sequences (which is a list-or-tuple of lists-or-tuples-or ndarrays with different lengths or shapes) is deprecated. If you meant to do this, you must specify 'dtype=object' when creating the ndarray\n",
      "  globals()['G{}_c{}_w_layer{}'.format(global_epoch, num_c_w, layer_index)] = globals()['G{}_c{}_w_layer{}'.format(global_epoch, num_c_w, layer_index)] + np.array(globals()['L{}_layer{}_w_c'.format(i,layer_index)])   # 일반 클러스터링\n"
     ]
    },
    {
     "name": "stdout",
     "output_type": "stream",
     "text": [
      "Layer :  2   클러스터 갯수 정해짐!  갯수 :  2 0\n"
     ]
    },
    {
     "name": "stderr",
     "output_type": "stream",
     "text": [
      "<ipython-input-8-cf8b57b41ddb>:143: VisibleDeprecationWarning: Creating an ndarray from ragged nested sequences (which is a list-or-tuple of lists-or-tuples-or ndarrays with different lengths or shapes) is deprecated. If you meant to do this, you must specify 'dtype=object' when creating the ndarray\n",
      "  globals()['G{}_c{}_w_layer{}'.format(global_epoch, num_c_w, layer_index)] = globals()['G{}_c{}_w_layer{}'.format(global_epoch, num_c_w, layer_index)] + np.array(globals()['L{}_layer{}_w_c'.format(i,layer_index)])   # 일반 클러스터링\n"
     ]
    },
    {
     "name": "stdout",
     "output_type": "stream",
     "text": [
      "Layer :  4   클러스터 갯수 정해짐!  갯수 :  3 1\n"
     ]
    },
    {
     "name": "stderr",
     "output_type": "stream",
     "text": [
      "<ipython-input-8-cf8b57b41ddb>:143: VisibleDeprecationWarning: Creating an ndarray from ragged nested sequences (which is a list-or-tuple of lists-or-tuples-or ndarrays with different lengths or shapes) is deprecated. If you meant to do this, you must specify 'dtype=object' when creating the ndarray\n",
      "  globals()['G{}_c{}_w_layer{}'.format(global_epoch, num_c_w, layer_index)] = globals()['G{}_c{}_w_layer{}'.format(global_epoch, num_c_w, layer_index)] + np.array(globals()['L{}_layer{}_w_c'.format(i,layer_index)])   # 일반 클러스터링\n"
     ]
    },
    {
     "name": "stdout",
     "output_type": "stream",
     "text": [
      "Layer :  6   클러스터 갯수 정해짐!  갯수 :  2 0\n"
     ]
    },
    {
     "name": "stderr",
     "output_type": "stream",
     "text": [
      "<ipython-input-8-cf8b57b41ddb>:143: VisibleDeprecationWarning: Creating an ndarray from ragged nested sequences (which is a list-or-tuple of lists-or-tuples-or ndarrays with different lengths or shapes) is deprecated. If you meant to do this, you must specify 'dtype=object' when creating the ndarray\n",
      "  globals()['G{}_c{}_w_layer{}'.format(global_epoch, num_c_w, layer_index)] = globals()['G{}_c{}_w_layer{}'.format(global_epoch, num_c_w, layer_index)] + np.array(globals()['L{}_layer{}_w_c'.format(i,layer_index)])   # 일반 클러스터링\n"
     ]
    },
    {
     "name": "stdout",
     "output_type": "stream",
     "text": [
      "Layer :  7   클러스터 갯수 정해짐!  갯수 :  2 0\n",
      "\n",
      "\n",
      "====================================================== One Global Epoch =====================================================================\n",
      "\n",
      "\n",
      "28  번째 global_epoch 데이터 랜덤하게 준비!!\n"
     ]
    },
    {
     "name": "stderr",
     "output_type": "stream",
     "text": [
      "<ipython-input-8-cf8b57b41ddb>:143: VisibleDeprecationWarning: Creating an ndarray from ragged nested sequences (which is a list-or-tuple of lists-or-tuples-or ndarrays with different lengths or shapes) is deprecated. If you meant to do this, you must specify 'dtype=object' when creating the ndarray\n",
      "  globals()['G{}_c{}_w_layer{}'.format(global_epoch, num_c_w, layer_index)] = globals()['G{}_c{}_w_layer{}'.format(global_epoch, num_c_w, layer_index)] + np.array(globals()['L{}_layer{}_w_c'.format(i,layer_index)])   # 일반 클러스터링\n"
     ]
    },
    {
     "name": "stdout",
     "output_type": "stream",
     "text": [
      "28  번째 global_epoch 데이터 랜덤 준비완료!!\n",
      "\n",
      "\n",
      "28  번째 global epoch에서 로컬 클라이언트 들 학습시작!\n",
      "\n",
      "학습 중 ...\n",
      "\n",
      "15/15 - 0s - loss: 0.7663 - accuracy: 0.8550\n",
      "15/15 - 0s - loss: 0.8858 - accuracy: 0.8403\n",
      "15/15 - 0s - loss: 0.7802 - accuracy: 0.8613\n",
      "15/15 - 0s - loss: 0.6910 - accuracy: 0.8676\n",
      "15/15 - 0s - loss: 0.8602 - accuracy: 0.8550\n",
      "15/15 - 0s - loss: 0.7977 - accuracy: 0.8340\n",
      "15/15 - 0s - loss: 0.6937 - accuracy: 0.8718\n",
      "15/15 - 0s - loss: 0.8063 - accuracy: 0.8571\n",
      "15/15 - 0s - loss: 0.7494 - accuracy: 0.8466\n",
      "15/15 - 0s - loss: 0.7297 - accuracy: 0.8613\n",
      "15/15 - 0s - loss: 0.8610 - accuracy: 0.8466\n",
      "15/15 - 0s - loss: 0.6383 - accuracy: 0.8845\n",
      "15/15 - 0s - loss: 0.7383 - accuracy: 0.8613\n",
      "15/15 - 0s - loss: 0.8050 - accuracy: 0.8634\n",
      "15/15 - 0s - loss: 0.5180 - accuracy: 0.8824\n",
      "15/15 - 0s - loss: 0.6880 - accuracy: 0.8676\n",
      "15/15 - 0s - loss: 0.7541 - accuracy: 0.8697\n",
      "15/15 - 0s - loss: 0.7047 - accuracy: 0.8550\n",
      "15/15 - 0s - loss: 0.5773 - accuracy: 0.8887\n",
      "15/15 - 0s - loss: 0.6310 - accuracy: 0.8718\n",
      "------------    28  번째 global epoch < Clustering > 로컬 클라이언트 학습 완료!,  Total Training time :  424.4420487880707 ---------------------------\n",
      "\n",
      "\n",
      "Layer :  0   클러스터 갯수 정해짐!  갯수 :  2 0\n"
     ]
    },
    {
     "name": "stderr",
     "output_type": "stream",
     "text": [
      "<ipython-input-8-cf8b57b41ddb>:143: VisibleDeprecationWarning: Creating an ndarray from ragged nested sequences (which is a list-or-tuple of lists-or-tuples-or ndarrays with different lengths or shapes) is deprecated. If you meant to do this, you must specify 'dtype=object' when creating the ndarray\n",
      "  globals()['G{}_c{}_w_layer{}'.format(global_epoch, num_c_w, layer_index)] = globals()['G{}_c{}_w_layer{}'.format(global_epoch, num_c_w, layer_index)] + np.array(globals()['L{}_layer{}_w_c'.format(i,layer_index)])   # 일반 클러스터링\n"
     ]
    },
    {
     "name": "stdout",
     "output_type": "stream",
     "text": [
      "Layer :  2   클러스터 갯수 정해짐!  갯수 :  2 0\n"
     ]
    },
    {
     "name": "stderr",
     "output_type": "stream",
     "text": [
      "<ipython-input-8-cf8b57b41ddb>:143: VisibleDeprecationWarning: Creating an ndarray from ragged nested sequences (which is a list-or-tuple of lists-or-tuples-or ndarrays with different lengths or shapes) is deprecated. If you meant to do this, you must specify 'dtype=object' when creating the ndarray\n",
      "  globals()['G{}_c{}_w_layer{}'.format(global_epoch, num_c_w, layer_index)] = globals()['G{}_c{}_w_layer{}'.format(global_epoch, num_c_w, layer_index)] + np.array(globals()['L{}_layer{}_w_c'.format(i,layer_index)])   # 일반 클러스터링\n"
     ]
    },
    {
     "name": "stdout",
     "output_type": "stream",
     "text": [
      "Layer :  4   클러스터 갯수 정해짐!  갯수 :  3 1\n"
     ]
    },
    {
     "name": "stderr",
     "output_type": "stream",
     "text": [
      "<ipython-input-8-cf8b57b41ddb>:143: VisibleDeprecationWarning: Creating an ndarray from ragged nested sequences (which is a list-or-tuple of lists-or-tuples-or ndarrays with different lengths or shapes) is deprecated. If you meant to do this, you must specify 'dtype=object' when creating the ndarray\n",
      "  globals()['G{}_c{}_w_layer{}'.format(global_epoch, num_c_w, layer_index)] = globals()['G{}_c{}_w_layer{}'.format(global_epoch, num_c_w, layer_index)] + np.array(globals()['L{}_layer{}_w_c'.format(i,layer_index)])   # 일반 클러스터링\n"
     ]
    },
    {
     "name": "stdout",
     "output_type": "stream",
     "text": [
      "Layer :  6   클러스터 갯수 정해짐!  갯수 :  2 0\n"
     ]
    },
    {
     "name": "stderr",
     "output_type": "stream",
     "text": [
      "<ipython-input-8-cf8b57b41ddb>:143: VisibleDeprecationWarning: Creating an ndarray from ragged nested sequences (which is a list-or-tuple of lists-or-tuples-or ndarrays with different lengths or shapes) is deprecated. If you meant to do this, you must specify 'dtype=object' when creating the ndarray\n",
      "  globals()['G{}_c{}_w_layer{}'.format(global_epoch, num_c_w, layer_index)] = globals()['G{}_c{}_w_layer{}'.format(global_epoch, num_c_w, layer_index)] + np.array(globals()['L{}_layer{}_w_c'.format(i,layer_index)])   # 일반 클러스터링\n"
     ]
    },
    {
     "name": "stdout",
     "output_type": "stream",
     "text": [
      "Layer :  7   클러스터 갯수 정해짐!  갯수 :  2 0\n",
      "\n",
      "\n",
      "====================================================== One Global Epoch =====================================================================\n",
      "\n",
      "\n",
      "29  번째 global_epoch 데이터 랜덤하게 준비!!\n"
     ]
    },
    {
     "name": "stderr",
     "output_type": "stream",
     "text": [
      "<ipython-input-8-cf8b57b41ddb>:143: VisibleDeprecationWarning: Creating an ndarray from ragged nested sequences (which is a list-or-tuple of lists-or-tuples-or ndarrays with different lengths or shapes) is deprecated. If you meant to do this, you must specify 'dtype=object' when creating the ndarray\n",
      "  globals()['G{}_c{}_w_layer{}'.format(global_epoch, num_c_w, layer_index)] = globals()['G{}_c{}_w_layer{}'.format(global_epoch, num_c_w, layer_index)] + np.array(globals()['L{}_layer{}_w_c'.format(i,layer_index)])   # 일반 클러스터링\n"
     ]
    },
    {
     "name": "stdout",
     "output_type": "stream",
     "text": [
      "29  번째 global_epoch 데이터 랜덤 준비완료!!\n",
      "\n",
      "\n",
      "29  번째 global epoch에서 로컬 클라이언트 들 학습시작!\n",
      "\n",
      "학습 중 ...\n",
      "\n",
      "15/15 - 0s - loss: 0.7592 - accuracy: 0.8697\n",
      "15/15 - 0s - loss: 0.7930 - accuracy: 0.8655\n",
      "15/15 - 0s - loss: 0.9868 - accuracy: 0.8487\n",
      "15/15 - 0s - loss: 0.6682 - accuracy: 0.8613\n",
      "15/15 - 0s - loss: 0.6213 - accuracy: 0.8866\n",
      "15/15 - 0s - loss: 0.7114 - accuracy: 0.8487\n",
      "15/15 - 0s - loss: 0.7990 - accuracy: 0.8529\n",
      "15/15 - 0s - loss: 1.1040 - accuracy: 0.8319\n",
      "15/15 - 0s - loss: 0.9775 - accuracy: 0.8340\n",
      "15/15 - 0s - loss: 0.9029 - accuracy: 0.8571\n",
      "15/15 - 0s - loss: 0.7680 - accuracy: 0.8739\n",
      "15/15 - 0s - loss: 0.6985 - accuracy: 0.8866\n",
      "15/15 - 0s - loss: 0.9461 - accuracy: 0.8697\n",
      "15/15 - 0s - loss: 0.7500 - accuracy: 0.8634\n",
      "15/15 - 0s - loss: 0.7111 - accuracy: 0.8718\n",
      "15/15 - 0s - loss: 0.8774 - accuracy: 0.8718\n",
      "15/15 - 0s - loss: 1.0510 - accuracy: 0.8424\n",
      "15/15 - 0s - loss: 0.6124 - accuracy: 0.8508\n",
      "15/15 - 0s - loss: 0.7943 - accuracy: 0.8676\n",
      "15/15 - 0s - loss: 0.7089 - accuracy: 0.8592\n",
      "------------    29  번째 global epoch < Clustering > 로컬 클라이언트 학습 완료!,  Total Training time :  382.26356053352356 ---------------------------\n",
      "\n",
      "\n",
      "Layer :  0   클러스터 갯수 정해짐!  갯수 :  2 0\n"
     ]
    },
    {
     "name": "stderr",
     "output_type": "stream",
     "text": [
      "<ipython-input-8-cf8b57b41ddb>:143: VisibleDeprecationWarning: Creating an ndarray from ragged nested sequences (which is a list-or-tuple of lists-or-tuples-or ndarrays with different lengths or shapes) is deprecated. If you meant to do this, you must specify 'dtype=object' when creating the ndarray\n",
      "  globals()['G{}_c{}_w_layer{}'.format(global_epoch, num_c_w, layer_index)] = globals()['G{}_c{}_w_layer{}'.format(global_epoch, num_c_w, layer_index)] + np.array(globals()['L{}_layer{}_w_c'.format(i,layer_index)])   # 일반 클러스터링\n"
     ]
    },
    {
     "name": "stdout",
     "output_type": "stream",
     "text": [
      "Layer :  2   클러스터 갯수 정해짐!  갯수 :  2 0\n"
     ]
    },
    {
     "name": "stderr",
     "output_type": "stream",
     "text": [
      "<ipython-input-8-cf8b57b41ddb>:143: VisibleDeprecationWarning: Creating an ndarray from ragged nested sequences (which is a list-or-tuple of lists-or-tuples-or ndarrays with different lengths or shapes) is deprecated. If you meant to do this, you must specify 'dtype=object' when creating the ndarray\n",
      "  globals()['G{}_c{}_w_layer{}'.format(global_epoch, num_c_w, layer_index)] = globals()['G{}_c{}_w_layer{}'.format(global_epoch, num_c_w, layer_index)] + np.array(globals()['L{}_layer{}_w_c'.format(i,layer_index)])   # 일반 클러스터링\n"
     ]
    },
    {
     "name": "stdout",
     "output_type": "stream",
     "text": [
      "Layer :  4   클러스터 갯수 정해짐!  갯수 :  3 1\n"
     ]
    },
    {
     "name": "stderr",
     "output_type": "stream",
     "text": [
      "<ipython-input-8-cf8b57b41ddb>:143: VisibleDeprecationWarning: Creating an ndarray from ragged nested sequences (which is a list-or-tuple of lists-or-tuples-or ndarrays with different lengths or shapes) is deprecated. If you meant to do this, you must specify 'dtype=object' when creating the ndarray\n",
      "  globals()['G{}_c{}_w_layer{}'.format(global_epoch, num_c_w, layer_index)] = globals()['G{}_c{}_w_layer{}'.format(global_epoch, num_c_w, layer_index)] + np.array(globals()['L{}_layer{}_w_c'.format(i,layer_index)])   # 일반 클러스터링\n"
     ]
    },
    {
     "name": "stdout",
     "output_type": "stream",
     "text": [
      "Layer :  6   클러스터 갯수 정해짐!  갯수 :  2 0\n"
     ]
    },
    {
     "name": "stderr",
     "output_type": "stream",
     "text": [
      "<ipython-input-8-cf8b57b41ddb>:143: VisibleDeprecationWarning: Creating an ndarray from ragged nested sequences (which is a list-or-tuple of lists-or-tuples-or ndarrays with different lengths or shapes) is deprecated. If you meant to do this, you must specify 'dtype=object' when creating the ndarray\n",
      "  globals()['G{}_c{}_w_layer{}'.format(global_epoch, num_c_w, layer_index)] = globals()['G{}_c{}_w_layer{}'.format(global_epoch, num_c_w, layer_index)] + np.array(globals()['L{}_layer{}_w_c'.format(i,layer_index)])   # 일반 클러스터링\n"
     ]
    },
    {
     "name": "stdout",
     "output_type": "stream",
     "text": [
      "Layer :  7   클러스터 갯수 정해짐!  갯수 :  2 0\n",
      "\n",
      "\n",
      "====================================================== One Global Epoch =====================================================================\n",
      "\n",
      "\n",
      "30  번째 global_epoch 데이터 랜덤하게 준비!!\n"
     ]
    },
    {
     "name": "stderr",
     "output_type": "stream",
     "text": [
      "<ipython-input-8-cf8b57b41ddb>:143: VisibleDeprecationWarning: Creating an ndarray from ragged nested sequences (which is a list-or-tuple of lists-or-tuples-or ndarrays with different lengths or shapes) is deprecated. If you meant to do this, you must specify 'dtype=object' when creating the ndarray\n",
      "  globals()['G{}_c{}_w_layer{}'.format(global_epoch, num_c_w, layer_index)] = globals()['G{}_c{}_w_layer{}'.format(global_epoch, num_c_w, layer_index)] + np.array(globals()['L{}_layer{}_w_c'.format(i,layer_index)])   # 일반 클러스터링\n"
     ]
    },
    {
     "name": "stdout",
     "output_type": "stream",
     "text": [
      "30  번째 global_epoch 데이터 랜덤 준비완료!!\n",
      "\n",
      "\n",
      "30  번째 global epoch에서 로컬 클라이언트 들 학습시작!\n",
      "\n",
      "학습 중 ...\n",
      "\n",
      "15/15 - 0s - loss: 0.6402 - accuracy: 0.8634\n",
      "15/15 - 0s - loss: 0.8571 - accuracy: 0.8676\n",
      "15/15 - 0s - loss: 0.5815 - accuracy: 0.8971\n",
      "15/15 - 0s - loss: 0.7017 - accuracy: 0.8887\n",
      "15/15 - 0s - loss: 0.7581 - accuracy: 0.8761\n",
      "15/15 - 0s - loss: 0.5951 - accuracy: 0.8761\n",
      "15/15 - 0s - loss: 0.8764 - accuracy: 0.8529\n",
      "15/15 - 0s - loss: 0.8375 - accuracy: 0.8529\n",
      "15/15 - 0s - loss: 0.6456 - accuracy: 0.8676\n",
      "15/15 - 0s - loss: 0.6650 - accuracy: 0.8929\n",
      "15/15 - 0s - loss: 0.8718 - accuracy: 0.8508\n",
      "15/15 - 0s - loss: 0.7101 - accuracy: 0.8824\n",
      "15/15 - 0s - loss: 0.9708 - accuracy: 0.8361\n",
      "15/15 - 0s - loss: 0.6136 - accuracy: 0.8866\n",
      "15/15 - 0s - loss: 0.5922 - accuracy: 0.8908\n",
      "15/15 - 0s - loss: 0.8695 - accuracy: 0.8487\n",
      "15/15 - 0s - loss: 0.7384 - accuracy: 0.8613\n",
      "15/15 - 0s - loss: 0.7102 - accuracy: 0.8655\n",
      "15/15 - 0s - loss: 0.8068 - accuracy: 0.8403\n",
      "15/15 - 0s - loss: 0.6156 - accuracy: 0.8782\n",
      "------------    30  번째 global epoch < Clustering > 로컬 클라이언트 학습 완료!,  Total Training time :  438.14646577835083 ---------------------------\n",
      "\n",
      "\n",
      "Layer :  0   클러스터 갯수 정해짐!  갯수 :  2 0\n"
     ]
    },
    {
     "name": "stderr",
     "output_type": "stream",
     "text": [
      "<ipython-input-8-cf8b57b41ddb>:143: VisibleDeprecationWarning: Creating an ndarray from ragged nested sequences (which is a list-or-tuple of lists-or-tuples-or ndarrays with different lengths or shapes) is deprecated. If you meant to do this, you must specify 'dtype=object' when creating the ndarray\n",
      "  globals()['G{}_c{}_w_layer{}'.format(global_epoch, num_c_w, layer_index)] = globals()['G{}_c{}_w_layer{}'.format(global_epoch, num_c_w, layer_index)] + np.array(globals()['L{}_layer{}_w_c'.format(i,layer_index)])   # 일반 클러스터링\n"
     ]
    },
    {
     "name": "stdout",
     "output_type": "stream",
     "text": [
      "Layer :  2   클러스터 갯수 정해짐!  갯수 :  2 0\n"
     ]
    },
    {
     "name": "stderr",
     "output_type": "stream",
     "text": [
      "<ipython-input-8-cf8b57b41ddb>:143: VisibleDeprecationWarning: Creating an ndarray from ragged nested sequences (which is a list-or-tuple of lists-or-tuples-or ndarrays with different lengths or shapes) is deprecated. If you meant to do this, you must specify 'dtype=object' when creating the ndarray\n",
      "  globals()['G{}_c{}_w_layer{}'.format(global_epoch, num_c_w, layer_index)] = globals()['G{}_c{}_w_layer{}'.format(global_epoch, num_c_w, layer_index)] + np.array(globals()['L{}_layer{}_w_c'.format(i,layer_index)])   # 일반 클러스터링\n"
     ]
    },
    {
     "name": "stdout",
     "output_type": "stream",
     "text": [
      "Layer :  4   클러스터 갯수 정해짐!  갯수 :  3 1\n"
     ]
    },
    {
     "name": "stderr",
     "output_type": "stream",
     "text": [
      "<ipython-input-8-cf8b57b41ddb>:143: VisibleDeprecationWarning: Creating an ndarray from ragged nested sequences (which is a list-or-tuple of lists-or-tuples-or ndarrays with different lengths or shapes) is deprecated. If you meant to do this, you must specify 'dtype=object' when creating the ndarray\n",
      "  globals()['G{}_c{}_w_layer{}'.format(global_epoch, num_c_w, layer_index)] = globals()['G{}_c{}_w_layer{}'.format(global_epoch, num_c_w, layer_index)] + np.array(globals()['L{}_layer{}_w_c'.format(i,layer_index)])   # 일반 클러스터링\n"
     ]
    },
    {
     "name": "stdout",
     "output_type": "stream",
     "text": [
      "Layer :  6   클러스터 갯수 정해짐!  갯수 :  3 1\n"
     ]
    },
    {
     "name": "stderr",
     "output_type": "stream",
     "text": [
      "<ipython-input-8-cf8b57b41ddb>:143: VisibleDeprecationWarning: Creating an ndarray from ragged nested sequences (which is a list-or-tuple of lists-or-tuples-or ndarrays with different lengths or shapes) is deprecated. If you meant to do this, you must specify 'dtype=object' when creating the ndarray\n",
      "  globals()['G{}_c{}_w_layer{}'.format(global_epoch, num_c_w, layer_index)] = globals()['G{}_c{}_w_layer{}'.format(global_epoch, num_c_w, layer_index)] + np.array(globals()['L{}_layer{}_w_c'.format(i,layer_index)])   # 일반 클러스터링\n"
     ]
    },
    {
     "name": "stdout",
     "output_type": "stream",
     "text": [
      "Layer :  7   클러스터 갯수 정해짐!  갯수 :  2 0\n",
      "\n",
      "\n",
      "====================================================== One Global Epoch =====================================================================\n",
      "\n",
      "\n",
      "31  번째 global_epoch 데이터 랜덤하게 준비!!\n"
     ]
    },
    {
     "name": "stderr",
     "output_type": "stream",
     "text": [
      "<ipython-input-8-cf8b57b41ddb>:143: VisibleDeprecationWarning: Creating an ndarray from ragged nested sequences (which is a list-or-tuple of lists-or-tuples-or ndarrays with different lengths or shapes) is deprecated. If you meant to do this, you must specify 'dtype=object' when creating the ndarray\n",
      "  globals()['G{}_c{}_w_layer{}'.format(global_epoch, num_c_w, layer_index)] = globals()['G{}_c{}_w_layer{}'.format(global_epoch, num_c_w, layer_index)] + np.array(globals()['L{}_layer{}_w_c'.format(i,layer_index)])   # 일반 클러스터링\n"
     ]
    },
    {
     "name": "stdout",
     "output_type": "stream",
     "text": [
      "31  번째 global_epoch 데이터 랜덤 준비완료!!\n",
      "\n",
      "\n",
      "31  번째 global epoch에서 로컬 클라이언트 들 학습시작!\n",
      "\n",
      "학습 중 ...\n",
      "\n",
      "15/15 - 0s - loss: 1.0193 - accuracy: 0.8235\n",
      "15/15 - 0s - loss: 0.9079 - accuracy: 0.8655\n",
      "15/15 - 0s - loss: 0.8601 - accuracy: 0.8676\n",
      "15/15 - 0s - loss: 0.7557 - accuracy: 0.8676\n",
      "15/15 - 0s - loss: 0.7467 - accuracy: 0.8866\n",
      "15/15 - 0s - loss: 0.5581 - accuracy: 0.8950\n",
      "15/15 - 0s - loss: 0.7715 - accuracy: 0.8718\n",
      "15/15 - 0s - loss: 0.6119 - accuracy: 0.8803\n",
      "15/15 - 0s - loss: 0.7743 - accuracy: 0.8445\n",
      "15/15 - 0s - loss: 0.6945 - accuracy: 0.8950\n",
      "15/15 - 0s - loss: 0.9179 - accuracy: 0.8550\n",
      "15/15 - 0s - loss: 0.9287 - accuracy: 0.8634\n",
      "15/15 - 0s - loss: 0.7659 - accuracy: 0.8718\n",
      "15/15 - 0s - loss: 0.6219 - accuracy: 0.8739\n",
      "15/15 - 0s - loss: 0.4950 - accuracy: 0.8887\n",
      "15/15 - 0s - loss: 0.8052 - accuracy: 0.8676\n",
      "15/15 - 0s - loss: 0.6656 - accuracy: 0.8803\n",
      "15/15 - 0s - loss: 0.6216 - accuracy: 0.8845\n",
      "15/15 - 0s - loss: 0.6814 - accuracy: 0.8824\n",
      "15/15 - 0s - loss: 0.6958 - accuracy: 0.8697\n",
      "------------    31  번째 global epoch < Clustering > 로컬 클라이언트 학습 완료!,  Total Training time :  411.2824728488922 ---------------------------\n",
      "\n",
      "\n",
      "Layer :  0   클러스터 갯수 정해짐!  갯수 :  2 0\n"
     ]
    },
    {
     "name": "stderr",
     "output_type": "stream",
     "text": [
      "<ipython-input-8-cf8b57b41ddb>:143: VisibleDeprecationWarning: Creating an ndarray from ragged nested sequences (which is a list-or-tuple of lists-or-tuples-or ndarrays with different lengths or shapes) is deprecated. If you meant to do this, you must specify 'dtype=object' when creating the ndarray\n",
      "  globals()['G{}_c{}_w_layer{}'.format(global_epoch, num_c_w, layer_index)] = globals()['G{}_c{}_w_layer{}'.format(global_epoch, num_c_w, layer_index)] + np.array(globals()['L{}_layer{}_w_c'.format(i,layer_index)])   # 일반 클러스터링\n"
     ]
    },
    {
     "name": "stdout",
     "output_type": "stream",
     "text": [
      "Layer :  2   클러스터 갯수 정해짐!  갯수 :  2 0\n"
     ]
    },
    {
     "name": "stderr",
     "output_type": "stream",
     "text": [
      "<ipython-input-8-cf8b57b41ddb>:143: VisibleDeprecationWarning: Creating an ndarray from ragged nested sequences (which is a list-or-tuple of lists-or-tuples-or ndarrays with different lengths or shapes) is deprecated. If you meant to do this, you must specify 'dtype=object' when creating the ndarray\n",
      "  globals()['G{}_c{}_w_layer{}'.format(global_epoch, num_c_w, layer_index)] = globals()['G{}_c{}_w_layer{}'.format(global_epoch, num_c_w, layer_index)] + np.array(globals()['L{}_layer{}_w_c'.format(i,layer_index)])   # 일반 클러스터링\n"
     ]
    },
    {
     "name": "stdout",
     "output_type": "stream",
     "text": [
      "Layer :  4   클러스터 갯수 정해짐!  갯수 :  3 1\n"
     ]
    },
    {
     "name": "stderr",
     "output_type": "stream",
     "text": [
      "<ipython-input-8-cf8b57b41ddb>:143: VisibleDeprecationWarning: Creating an ndarray from ragged nested sequences (which is a list-or-tuple of lists-or-tuples-or ndarrays with different lengths or shapes) is deprecated. If you meant to do this, you must specify 'dtype=object' when creating the ndarray\n",
      "  globals()['G{}_c{}_w_layer{}'.format(global_epoch, num_c_w, layer_index)] = globals()['G{}_c{}_w_layer{}'.format(global_epoch, num_c_w, layer_index)] + np.array(globals()['L{}_layer{}_w_c'.format(i,layer_index)])   # 일반 클러스터링\n"
     ]
    },
    {
     "name": "stdout",
     "output_type": "stream",
     "text": [
      "Layer :  6   클러스터 갯수 정해짐!  갯수 :  3 1\n"
     ]
    },
    {
     "name": "stderr",
     "output_type": "stream",
     "text": [
      "<ipython-input-8-cf8b57b41ddb>:143: VisibleDeprecationWarning: Creating an ndarray from ragged nested sequences (which is a list-or-tuple of lists-or-tuples-or ndarrays with different lengths or shapes) is deprecated. If you meant to do this, you must specify 'dtype=object' when creating the ndarray\n",
      "  globals()['G{}_c{}_w_layer{}'.format(global_epoch, num_c_w, layer_index)] = globals()['G{}_c{}_w_layer{}'.format(global_epoch, num_c_w, layer_index)] + np.array(globals()['L{}_layer{}_w_c'.format(i,layer_index)])   # 일반 클러스터링\n"
     ]
    },
    {
     "name": "stdout",
     "output_type": "stream",
     "text": [
      "Layer :  7   클러스터 갯수 정해짐!  갯수 :  2 0\n",
      "\n",
      "\n",
      "====================================================== One Global Epoch =====================================================================\n",
      "\n",
      "\n",
      "32  번째 global_epoch 데이터 랜덤하게 준비!!\n"
     ]
    },
    {
     "name": "stderr",
     "output_type": "stream",
     "text": [
      "<ipython-input-8-cf8b57b41ddb>:143: VisibleDeprecationWarning: Creating an ndarray from ragged nested sequences (which is a list-or-tuple of lists-or-tuples-or ndarrays with different lengths or shapes) is deprecated. If you meant to do this, you must specify 'dtype=object' when creating the ndarray\n",
      "  globals()['G{}_c{}_w_layer{}'.format(global_epoch, num_c_w, layer_index)] = globals()['G{}_c{}_w_layer{}'.format(global_epoch, num_c_w, layer_index)] + np.array(globals()['L{}_layer{}_w_c'.format(i,layer_index)])   # 일반 클러스터링\n"
     ]
    },
    {
     "name": "stdout",
     "output_type": "stream",
     "text": [
      "32  번째 global_epoch 데이터 랜덤 준비완료!!\n",
      "\n",
      "\n",
      "32  번째 global epoch에서 로컬 클라이언트 들 학습시작!\n",
      "\n",
      "학습 중 ...\n",
      "\n",
      "15/15 - 0s - loss: 0.5636 - accuracy: 0.8845\n",
      "15/15 - 0s - loss: 0.7388 - accuracy: 0.8718\n",
      "15/15 - 0s - loss: 0.6815 - accuracy: 0.8592\n",
      "15/15 - 0s - loss: 0.6948 - accuracy: 0.8634\n",
      "15/15 - 0s - loss: 0.8994 - accuracy: 0.8214\n",
      "15/15 - 0s - loss: 0.6989 - accuracy: 0.8655\n",
      "15/15 - 0s - loss: 0.6591 - accuracy: 0.8782\n",
      "15/15 - 0s - loss: 0.5963 - accuracy: 0.8739\n",
      "15/15 - 0s - loss: 0.6391 - accuracy: 0.8571\n",
      "15/15 - 0s - loss: 0.7757 - accuracy: 0.8992\n",
      "15/15 - 0s - loss: 0.6486 - accuracy: 0.8718\n",
      "15/15 - 0s - loss: 0.5157 - accuracy: 0.8887\n",
      "15/15 - 0s - loss: 0.7407 - accuracy: 0.8739\n",
      "15/15 - 0s - loss: 0.6662 - accuracy: 0.8634\n",
      "15/15 - 0s - loss: 0.5505 - accuracy: 0.8971\n",
      "15/15 - 0s - loss: 0.6005 - accuracy: 0.8845\n",
      "15/15 - 0s - loss: 0.5636 - accuracy: 0.8824\n",
      "15/15 - 0s - loss: 0.6590 - accuracy: 0.8718\n",
      "15/15 - 0s - loss: 0.8023 - accuracy: 0.8571\n",
      "15/15 - 0s - loss: 0.7031 - accuracy: 0.8613\n",
      "------------    32  번째 global epoch < Clustering > 로컬 클라이언트 학습 완료!,  Total Training time :  493.7716808319092 ---------------------------\n",
      "\n",
      "\n",
      "Layer :  0   클러스터 갯수 정해짐!  갯수 :  2 0\n"
     ]
    },
    {
     "name": "stderr",
     "output_type": "stream",
     "text": [
      "<ipython-input-8-cf8b57b41ddb>:143: VisibleDeprecationWarning: Creating an ndarray from ragged nested sequences (which is a list-or-tuple of lists-or-tuples-or ndarrays with different lengths or shapes) is deprecated. If you meant to do this, you must specify 'dtype=object' when creating the ndarray\n",
      "  globals()['G{}_c{}_w_layer{}'.format(global_epoch, num_c_w, layer_index)] = globals()['G{}_c{}_w_layer{}'.format(global_epoch, num_c_w, layer_index)] + np.array(globals()['L{}_layer{}_w_c'.format(i,layer_index)])   # 일반 클러스터링\n"
     ]
    },
    {
     "name": "stdout",
     "output_type": "stream",
     "text": [
      "Layer :  2   클러스터 갯수 정해짐!  갯수 :  2 0\n"
     ]
    },
    {
     "name": "stderr",
     "output_type": "stream",
     "text": [
      "<ipython-input-8-cf8b57b41ddb>:143: VisibleDeprecationWarning: Creating an ndarray from ragged nested sequences (which is a list-or-tuple of lists-or-tuples-or ndarrays with different lengths or shapes) is deprecated. If you meant to do this, you must specify 'dtype=object' when creating the ndarray\n",
      "  globals()['G{}_c{}_w_layer{}'.format(global_epoch, num_c_w, layer_index)] = globals()['G{}_c{}_w_layer{}'.format(global_epoch, num_c_w, layer_index)] + np.array(globals()['L{}_layer{}_w_c'.format(i,layer_index)])   # 일반 클러스터링\n"
     ]
    },
    {
     "name": "stdout",
     "output_type": "stream",
     "text": [
      "Layer :  4   클러스터 갯수 정해짐!  갯수 :  3 1\n"
     ]
    },
    {
     "name": "stderr",
     "output_type": "stream",
     "text": [
      "<ipython-input-8-cf8b57b41ddb>:143: VisibleDeprecationWarning: Creating an ndarray from ragged nested sequences (which is a list-or-tuple of lists-or-tuples-or ndarrays with different lengths or shapes) is deprecated. If you meant to do this, you must specify 'dtype=object' when creating the ndarray\n",
      "  globals()['G{}_c{}_w_layer{}'.format(global_epoch, num_c_w, layer_index)] = globals()['G{}_c{}_w_layer{}'.format(global_epoch, num_c_w, layer_index)] + np.array(globals()['L{}_layer{}_w_c'.format(i,layer_index)])   # 일반 클러스터링\n"
     ]
    },
    {
     "name": "stdout",
     "output_type": "stream",
     "text": [
      "Layer :  6   클러스터 갯수 정해짐!  갯수 :  3 1\n"
     ]
    },
    {
     "name": "stderr",
     "output_type": "stream",
     "text": [
      "<ipython-input-8-cf8b57b41ddb>:143: VisibleDeprecationWarning: Creating an ndarray from ragged nested sequences (which is a list-or-tuple of lists-or-tuples-or ndarrays with different lengths or shapes) is deprecated. If you meant to do this, you must specify 'dtype=object' when creating the ndarray\n",
      "  globals()['G{}_c{}_w_layer{}'.format(global_epoch, num_c_w, layer_index)] = globals()['G{}_c{}_w_layer{}'.format(global_epoch, num_c_w, layer_index)] + np.array(globals()['L{}_layer{}_w_c'.format(i,layer_index)])   # 일반 클러스터링\n"
     ]
    },
    {
     "name": "stdout",
     "output_type": "stream",
     "text": [
      "Layer :  7   클러스터 갯수 정해짐!  갯수 :  2 0\n",
      "\n",
      "\n",
      "====================================================== One Global Epoch =====================================================================\n",
      "\n",
      "\n",
      "33  번째 global_epoch 데이터 랜덤하게 준비!!\n"
     ]
    },
    {
     "name": "stderr",
     "output_type": "stream",
     "text": [
      "<ipython-input-8-cf8b57b41ddb>:143: VisibleDeprecationWarning: Creating an ndarray from ragged nested sequences (which is a list-or-tuple of lists-or-tuples-or ndarrays with different lengths or shapes) is deprecated. If you meant to do this, you must specify 'dtype=object' when creating the ndarray\n",
      "  globals()['G{}_c{}_w_layer{}'.format(global_epoch, num_c_w, layer_index)] = globals()['G{}_c{}_w_layer{}'.format(global_epoch, num_c_w, layer_index)] + np.array(globals()['L{}_layer{}_w_c'.format(i,layer_index)])   # 일반 클러스터링\n"
     ]
    },
    {
     "name": "stdout",
     "output_type": "stream",
     "text": [
      "33  번째 global_epoch 데이터 랜덤 준비완료!!\n",
      "\n",
      "\n",
      "33  번째 global epoch에서 로컬 클라이언트 들 학습시작!\n",
      "\n",
      "학습 중 ...\n",
      "\n",
      "15/15 - 0s - loss: 0.5417 - accuracy: 0.8824\n",
      "15/15 - 0s - loss: 0.7493 - accuracy: 0.8718\n",
      "15/15 - 0s - loss: 0.7359 - accuracy: 0.8824\n",
      "15/15 - 0s - loss: 0.7469 - accuracy: 0.8761\n",
      "15/15 - 0s - loss: 0.8638 - accuracy: 0.8592\n",
      "15/15 - 0s - loss: 0.7975 - accuracy: 0.8697\n",
      "15/15 - 0s - loss: 0.7266 - accuracy: 0.8697\n",
      "15/15 - 0s - loss: 0.8086 - accuracy: 0.8761\n",
      "15/15 - 0s - loss: 0.7772 - accuracy: 0.8487\n",
      "15/15 - 0s - loss: 0.6425 - accuracy: 0.8866\n",
      "15/15 - 0s - loss: 0.7956 - accuracy: 0.8529\n",
      "15/15 - 0s - loss: 0.7830 - accuracy: 0.8782\n",
      "15/15 - 0s - loss: 0.4918 - accuracy: 0.8950\n",
      "15/15 - 0s - loss: 0.6720 - accuracy: 0.8697\n",
      "15/15 - 0s - loss: 0.6164 - accuracy: 0.8950\n",
      "15/15 - 0s - loss: 0.7764 - accuracy: 0.8655\n",
      "15/15 - 0s - loss: 0.9080 - accuracy: 0.8487\n",
      "15/15 - 0s - loss: 0.7010 - accuracy: 0.9034\n",
      "15/15 - 0s - loss: 0.7536 - accuracy: 0.8761\n",
      "15/15 - 0s - loss: 0.5561 - accuracy: 0.9034\n",
      "------------    33  번째 global epoch < Clustering > 로컬 클라이언트 학습 완료!,  Total Training time :  450.6794195175171 ---------------------------\n",
      "\n",
      "\n",
      "Layer :  0   클러스터 갯수 정해짐!  갯수 :  2 0\n"
     ]
    },
    {
     "name": "stderr",
     "output_type": "stream",
     "text": [
      "<ipython-input-8-cf8b57b41ddb>:143: VisibleDeprecationWarning: Creating an ndarray from ragged nested sequences (which is a list-or-tuple of lists-or-tuples-or ndarrays with different lengths or shapes) is deprecated. If you meant to do this, you must specify 'dtype=object' when creating the ndarray\n",
      "  globals()['G{}_c{}_w_layer{}'.format(global_epoch, num_c_w, layer_index)] = globals()['G{}_c{}_w_layer{}'.format(global_epoch, num_c_w, layer_index)] + np.array(globals()['L{}_layer{}_w_c'.format(i,layer_index)])   # 일반 클러스터링\n"
     ]
    },
    {
     "name": "stdout",
     "output_type": "stream",
     "text": [
      "Layer :  2   클러스터 갯수 정해짐!  갯수 :  2 0\n"
     ]
    },
    {
     "name": "stderr",
     "output_type": "stream",
     "text": [
      "<ipython-input-8-cf8b57b41ddb>:143: VisibleDeprecationWarning: Creating an ndarray from ragged nested sequences (which is a list-or-tuple of lists-or-tuples-or ndarrays with different lengths or shapes) is deprecated. If you meant to do this, you must specify 'dtype=object' when creating the ndarray\n",
      "  globals()['G{}_c{}_w_layer{}'.format(global_epoch, num_c_w, layer_index)] = globals()['G{}_c{}_w_layer{}'.format(global_epoch, num_c_w, layer_index)] + np.array(globals()['L{}_layer{}_w_c'.format(i,layer_index)])   # 일반 클러스터링\n"
     ]
    },
    {
     "name": "stdout",
     "output_type": "stream",
     "text": [
      "Layer :  4   클러스터 갯수 정해짐!  갯수 :  3 1\n"
     ]
    },
    {
     "name": "stderr",
     "output_type": "stream",
     "text": [
      "<ipython-input-8-cf8b57b41ddb>:143: VisibleDeprecationWarning: Creating an ndarray from ragged nested sequences (which is a list-or-tuple of lists-or-tuples-or ndarrays with different lengths or shapes) is deprecated. If you meant to do this, you must specify 'dtype=object' when creating the ndarray\n",
      "  globals()['G{}_c{}_w_layer{}'.format(global_epoch, num_c_w, layer_index)] = globals()['G{}_c{}_w_layer{}'.format(global_epoch, num_c_w, layer_index)] + np.array(globals()['L{}_layer{}_w_c'.format(i,layer_index)])   # 일반 클러스터링\n"
     ]
    },
    {
     "name": "stdout",
     "output_type": "stream",
     "text": [
      "Layer :  6   클러스터 갯수 정해짐!  갯수 :  3 1\n"
     ]
    },
    {
     "name": "stderr",
     "output_type": "stream",
     "text": [
      "<ipython-input-8-cf8b57b41ddb>:143: VisibleDeprecationWarning: Creating an ndarray from ragged nested sequences (which is a list-or-tuple of lists-or-tuples-or ndarrays with different lengths or shapes) is deprecated. If you meant to do this, you must specify 'dtype=object' when creating the ndarray\n",
      "  globals()['G{}_c{}_w_layer{}'.format(global_epoch, num_c_w, layer_index)] = globals()['G{}_c{}_w_layer{}'.format(global_epoch, num_c_w, layer_index)] + np.array(globals()['L{}_layer{}_w_c'.format(i,layer_index)])   # 일반 클러스터링\n"
     ]
    },
    {
     "name": "stdout",
     "output_type": "stream",
     "text": [
      "Layer :  7   클러스터 갯수 정해짐!  갯수 :  2 0\n",
      "\n",
      "\n",
      "====================================================== One Global Epoch =====================================================================\n",
      "\n",
      "\n",
      "34  번째 global_epoch 데이터 랜덤하게 준비!!\n"
     ]
    },
    {
     "name": "stderr",
     "output_type": "stream",
     "text": [
      "<ipython-input-8-cf8b57b41ddb>:143: VisibleDeprecationWarning: Creating an ndarray from ragged nested sequences (which is a list-or-tuple of lists-or-tuples-or ndarrays with different lengths or shapes) is deprecated. If you meant to do this, you must specify 'dtype=object' when creating the ndarray\n",
      "  globals()['G{}_c{}_w_layer{}'.format(global_epoch, num_c_w, layer_index)] = globals()['G{}_c{}_w_layer{}'.format(global_epoch, num_c_w, layer_index)] + np.array(globals()['L{}_layer{}_w_c'.format(i,layer_index)])   # 일반 클러스터링\n"
     ]
    },
    {
     "name": "stdout",
     "output_type": "stream",
     "text": [
      "34  번째 global_epoch 데이터 랜덤 준비완료!!\n",
      "\n",
      "\n",
      "34  번째 global epoch에서 로컬 클라이언트 들 학습시작!\n",
      "\n",
      "학습 중 ...\n",
      "\n",
      "15/15 - 0s - loss: 0.8142 - accuracy: 0.8550\n",
      "15/15 - 0s - loss: 0.8887 - accuracy: 0.8634\n",
      "15/15 - 0s - loss: 0.5656 - accuracy: 0.8824\n",
      "15/15 - 0s - loss: 0.7510 - accuracy: 0.8571\n",
      "15/15 - 0s - loss: 0.7821 - accuracy: 0.8445\n",
      "15/15 - 0s - loss: 0.7580 - accuracy: 0.8571\n",
      "15/15 - 0s - loss: 0.8387 - accuracy: 0.8676\n",
      "15/15 - 0s - loss: 0.8678 - accuracy: 0.8550\n",
      "15/15 - 0s - loss: 0.9826 - accuracy: 0.8403\n",
      "15/15 - 0s - loss: 0.5741 - accuracy: 0.8697\n",
      "15/15 - 0s - loss: 0.5494 - accuracy: 0.8929\n",
      "15/15 - 0s - loss: 0.6756 - accuracy: 0.8782\n",
      "15/15 - 0s - loss: 0.7557 - accuracy: 0.8634\n",
      "15/15 - 0s - loss: 0.7473 - accuracy: 0.8529\n",
      "15/15 - 0s - loss: 1.0475 - accuracy: 0.8424\n",
      "15/15 - 0s - loss: 0.6667 - accuracy: 0.8824\n",
      "15/15 - 0s - loss: 1.0026 - accuracy: 0.8319\n",
      "15/15 - 0s - loss: 0.6649 - accuracy: 0.8718\n",
      "15/15 - 0s - loss: 0.6376 - accuracy: 0.8887\n",
      "15/15 - 0s - loss: 0.5877 - accuracy: 0.8929\n",
      "------------    34  번째 global epoch < Clustering > 로컬 클라이언트 학습 완료!,  Total Training time :  462.5261766910553 ---------------------------\n",
      "\n",
      "\n",
      "Layer :  0   클러스터 갯수 정해짐!  갯수 :  2 0\n"
     ]
    },
    {
     "name": "stderr",
     "output_type": "stream",
     "text": [
      "<ipython-input-8-cf8b57b41ddb>:143: VisibleDeprecationWarning: Creating an ndarray from ragged nested sequences (which is a list-or-tuple of lists-or-tuples-or ndarrays with different lengths or shapes) is deprecated. If you meant to do this, you must specify 'dtype=object' when creating the ndarray\n",
      "  globals()['G{}_c{}_w_layer{}'.format(global_epoch, num_c_w, layer_index)] = globals()['G{}_c{}_w_layer{}'.format(global_epoch, num_c_w, layer_index)] + np.array(globals()['L{}_layer{}_w_c'.format(i,layer_index)])   # 일반 클러스터링\n"
     ]
    },
    {
     "name": "stdout",
     "output_type": "stream",
     "text": [
      "Layer :  2   클러스터 갯수 정해짐!  갯수 :  2 0\n"
     ]
    },
    {
     "name": "stderr",
     "output_type": "stream",
     "text": [
      "<ipython-input-8-cf8b57b41ddb>:143: VisibleDeprecationWarning: Creating an ndarray from ragged nested sequences (which is a list-or-tuple of lists-or-tuples-or ndarrays with different lengths or shapes) is deprecated. If you meant to do this, you must specify 'dtype=object' when creating the ndarray\n",
      "  globals()['G{}_c{}_w_layer{}'.format(global_epoch, num_c_w, layer_index)] = globals()['G{}_c{}_w_layer{}'.format(global_epoch, num_c_w, layer_index)] + np.array(globals()['L{}_layer{}_w_c'.format(i,layer_index)])   # 일반 클러스터링\n"
     ]
    },
    {
     "name": "stdout",
     "output_type": "stream",
     "text": [
      "Layer :  4   클러스터 갯수 정해짐!  갯수 :  3 1\n"
     ]
    },
    {
     "name": "stderr",
     "output_type": "stream",
     "text": [
      "<ipython-input-8-cf8b57b41ddb>:143: VisibleDeprecationWarning: Creating an ndarray from ragged nested sequences (which is a list-or-tuple of lists-or-tuples-or ndarrays with different lengths or shapes) is deprecated. If you meant to do this, you must specify 'dtype=object' when creating the ndarray\n",
      "  globals()['G{}_c{}_w_layer{}'.format(global_epoch, num_c_w, layer_index)] = globals()['G{}_c{}_w_layer{}'.format(global_epoch, num_c_w, layer_index)] + np.array(globals()['L{}_layer{}_w_c'.format(i,layer_index)])   # 일반 클러스터링\n"
     ]
    },
    {
     "name": "stdout",
     "output_type": "stream",
     "text": [
      "Layer :  6   클러스터 갯수 정해짐!  갯수 :  3 1\n"
     ]
    },
    {
     "name": "stderr",
     "output_type": "stream",
     "text": [
      "<ipython-input-8-cf8b57b41ddb>:143: VisibleDeprecationWarning: Creating an ndarray from ragged nested sequences (which is a list-or-tuple of lists-or-tuples-or ndarrays with different lengths or shapes) is deprecated. If you meant to do this, you must specify 'dtype=object' when creating the ndarray\n",
      "  globals()['G{}_c{}_w_layer{}'.format(global_epoch, num_c_w, layer_index)] = globals()['G{}_c{}_w_layer{}'.format(global_epoch, num_c_w, layer_index)] + np.array(globals()['L{}_layer{}_w_c'.format(i,layer_index)])   # 일반 클러스터링\n"
     ]
    },
    {
     "name": "stdout",
     "output_type": "stream",
     "text": [
      "Layer :  7   클러스터 갯수 정해짐!  갯수 :  2 0\n",
      "\n",
      "\n",
      "====================================================== One Global Epoch =====================================================================\n",
      "\n",
      "\n",
      "35  번째 global_epoch 데이터 랜덤하게 준비!!\n"
     ]
    },
    {
     "name": "stderr",
     "output_type": "stream",
     "text": [
      "<ipython-input-8-cf8b57b41ddb>:143: VisibleDeprecationWarning: Creating an ndarray from ragged nested sequences (which is a list-or-tuple of lists-or-tuples-or ndarrays with different lengths or shapes) is deprecated. If you meant to do this, you must specify 'dtype=object' when creating the ndarray\n",
      "  globals()['G{}_c{}_w_layer{}'.format(global_epoch, num_c_w, layer_index)] = globals()['G{}_c{}_w_layer{}'.format(global_epoch, num_c_w, layer_index)] + np.array(globals()['L{}_layer{}_w_c'.format(i,layer_index)])   # 일반 클러스터링\n"
     ]
    },
    {
     "name": "stdout",
     "output_type": "stream",
     "text": [
      "35  번째 global_epoch 데이터 랜덤 준비완료!!\n",
      "\n",
      "\n",
      "35  번째 global epoch에서 로컬 클라이언트 들 학습시작!\n",
      "\n",
      "학습 중 ...\n",
      "\n",
      "15/15 - 0s - loss: 0.6956 - accuracy: 0.8529\n",
      "15/15 - 0s - loss: 0.5920 - accuracy: 0.8866\n",
      "15/15 - 0s - loss: 0.9098 - accuracy: 0.8697\n",
      "15/15 - 0s - loss: 0.9085 - accuracy: 0.8529\n",
      "15/15 - 0s - loss: 0.7424 - accuracy: 0.8676\n",
      "15/15 - 0s - loss: 0.8209 - accuracy: 0.8718\n",
      "15/15 - 0s - loss: 0.6849 - accuracy: 0.8655\n",
      "15/15 - 0s - loss: 1.1225 - accuracy: 0.8298\n",
      "15/15 - 0s - loss: 0.5916 - accuracy: 0.8676\n",
      "15/15 - 0s - loss: 0.8470 - accuracy: 0.8508\n",
      "15/15 - 0s - loss: 0.7429 - accuracy: 0.8655\n",
      "15/15 - 0s - loss: 0.7807 - accuracy: 0.8697\n",
      "15/15 - 0s - loss: 0.6501 - accuracy: 0.8782\n",
      "15/15 - 0s - loss: 0.8443 - accuracy: 0.8655\n",
      "15/15 - 0s - loss: 0.9085 - accuracy: 0.8550\n",
      "15/15 - 0s - loss: 0.5290 - accuracy: 0.8824\n",
      "15/15 - 0s - loss: 0.6058 - accuracy: 0.8613\n",
      "15/15 - 0s - loss: 0.8143 - accuracy: 0.8676\n",
      "15/15 - 0s - loss: 0.8386 - accuracy: 0.8529\n",
      "15/15 - 0s - loss: 0.7707 - accuracy: 0.8298\n",
      "------------    35  번째 global epoch < Clustering > 로컬 클라이언트 학습 완료!,  Total Training time :  497.6797912120819 ---------------------------\n",
      "\n",
      "\n",
      "Layer :  0   클러스터 갯수 정해짐!  갯수 :  2 0\n"
     ]
    },
    {
     "name": "stderr",
     "output_type": "stream",
     "text": [
      "<ipython-input-8-cf8b57b41ddb>:143: VisibleDeprecationWarning: Creating an ndarray from ragged nested sequences (which is a list-or-tuple of lists-or-tuples-or ndarrays with different lengths or shapes) is deprecated. If you meant to do this, you must specify 'dtype=object' when creating the ndarray\n",
      "  globals()['G{}_c{}_w_layer{}'.format(global_epoch, num_c_w, layer_index)] = globals()['G{}_c{}_w_layer{}'.format(global_epoch, num_c_w, layer_index)] + np.array(globals()['L{}_layer{}_w_c'.format(i,layer_index)])   # 일반 클러스터링\n"
     ]
    },
    {
     "name": "stdout",
     "output_type": "stream",
     "text": [
      "Layer :  2   클러스터 갯수 정해짐!  갯수 :  2 0\n"
     ]
    },
    {
     "name": "stderr",
     "output_type": "stream",
     "text": [
      "<ipython-input-8-cf8b57b41ddb>:143: VisibleDeprecationWarning: Creating an ndarray from ragged nested sequences (which is a list-or-tuple of lists-or-tuples-or ndarrays with different lengths or shapes) is deprecated. If you meant to do this, you must specify 'dtype=object' when creating the ndarray\n",
      "  globals()['G{}_c{}_w_layer{}'.format(global_epoch, num_c_w, layer_index)] = globals()['G{}_c{}_w_layer{}'.format(global_epoch, num_c_w, layer_index)] + np.array(globals()['L{}_layer{}_w_c'.format(i,layer_index)])   # 일반 클러스터링\n"
     ]
    },
    {
     "name": "stdout",
     "output_type": "stream",
     "text": [
      "Layer :  4   클러스터 갯수 정해짐!  갯수 :  3 1\n"
     ]
    },
    {
     "name": "stderr",
     "output_type": "stream",
     "text": [
      "<ipython-input-8-cf8b57b41ddb>:143: VisibleDeprecationWarning: Creating an ndarray from ragged nested sequences (which is a list-or-tuple of lists-or-tuples-or ndarrays with different lengths or shapes) is deprecated. If you meant to do this, you must specify 'dtype=object' when creating the ndarray\n",
      "  globals()['G{}_c{}_w_layer{}'.format(global_epoch, num_c_w, layer_index)] = globals()['G{}_c{}_w_layer{}'.format(global_epoch, num_c_w, layer_index)] + np.array(globals()['L{}_layer{}_w_c'.format(i,layer_index)])   # 일반 클러스터링\n"
     ]
    },
    {
     "name": "stdout",
     "output_type": "stream",
     "text": [
      "Layer :  6   클러스터 갯수 정해짐!  갯수 :  3 1\n"
     ]
    },
    {
     "name": "stderr",
     "output_type": "stream",
     "text": [
      "<ipython-input-8-cf8b57b41ddb>:143: VisibleDeprecationWarning: Creating an ndarray from ragged nested sequences (which is a list-or-tuple of lists-or-tuples-or ndarrays with different lengths or shapes) is deprecated. If you meant to do this, you must specify 'dtype=object' when creating the ndarray\n",
      "  globals()['G{}_c{}_w_layer{}'.format(global_epoch, num_c_w, layer_index)] = globals()['G{}_c{}_w_layer{}'.format(global_epoch, num_c_w, layer_index)] + np.array(globals()['L{}_layer{}_w_c'.format(i,layer_index)])   # 일반 클러스터링\n"
     ]
    },
    {
     "name": "stdout",
     "output_type": "stream",
     "text": [
      "Layer :  7   클러스터 갯수 정해짐!  갯수 :  2 0\n",
      "\n",
      "\n",
      "====================================================== One Global Epoch =====================================================================\n",
      "\n",
      "\n",
      "36  번째 global_epoch 데이터 랜덤하게 준비!!\n"
     ]
    },
    {
     "name": "stderr",
     "output_type": "stream",
     "text": [
      "<ipython-input-8-cf8b57b41ddb>:143: VisibleDeprecationWarning: Creating an ndarray from ragged nested sequences (which is a list-or-tuple of lists-or-tuples-or ndarrays with different lengths or shapes) is deprecated. If you meant to do this, you must specify 'dtype=object' when creating the ndarray\n",
      "  globals()['G{}_c{}_w_layer{}'.format(global_epoch, num_c_w, layer_index)] = globals()['G{}_c{}_w_layer{}'.format(global_epoch, num_c_w, layer_index)] + np.array(globals()['L{}_layer{}_w_c'.format(i,layer_index)])   # 일반 클러스터링\n"
     ]
    },
    {
     "name": "stdout",
     "output_type": "stream",
     "text": [
      "36  번째 global_epoch 데이터 랜덤 준비완료!!\n",
      "\n",
      "\n",
      "36  번째 global epoch에서 로컬 클라이언트 들 학습시작!\n",
      "\n",
      "학습 중 ...\n",
      "\n",
      "15/15 - 0s - loss: 0.7250 - accuracy: 0.8718\n",
      "15/15 - 0s - loss: 0.7738 - accuracy: 0.8739\n",
      "15/15 - 0s - loss: 0.8016 - accuracy: 0.8571\n",
      "15/15 - 0s - loss: 0.6575 - accuracy: 0.8866\n",
      "15/15 - 0s - loss: 0.7672 - accuracy: 0.8718\n",
      "15/15 - 0s - loss: 0.9004 - accuracy: 0.8445\n",
      "15/15 - 0s - loss: 0.8479 - accuracy: 0.8887\n",
      "15/15 - 0s - loss: 0.6550 - accuracy: 0.8739\n",
      "15/15 - 0s - loss: 0.8679 - accuracy: 0.8592\n",
      "15/15 - 0s - loss: 0.6591 - accuracy: 0.8739\n",
      "15/15 - 0s - loss: 0.9038 - accuracy: 0.8466\n",
      "15/15 - 0s - loss: 0.8337 - accuracy: 0.8424\n",
      "15/15 - 0s - loss: 0.6323 - accuracy: 0.8908\n",
      "15/15 - 0s - loss: 0.5926 - accuracy: 0.8403\n",
      "15/15 - 0s - loss: 0.6969 - accuracy: 0.8761\n",
      "15/15 - 0s - loss: 0.8958 - accuracy: 0.8592\n",
      "15/15 - 0s - loss: 0.5573 - accuracy: 0.9034\n",
      "15/15 - 0s - loss: 0.8698 - accuracy: 0.8655\n",
      "15/15 - 0s - loss: 0.6850 - accuracy: 0.8824\n",
      "15/15 - 0s - loss: 0.9449 - accuracy: 0.8655\n",
      "------------    36  번째 global epoch < Clustering > 로컬 클라이언트 학습 완료!,  Total Training time :  488.55994391441345 ---------------------------\n",
      "\n",
      "\n",
      "Layer :  0   클러스터 갯수 정해짐!  갯수 :  2 0\n"
     ]
    },
    {
     "name": "stderr",
     "output_type": "stream",
     "text": [
      "<ipython-input-8-cf8b57b41ddb>:143: VisibleDeprecationWarning: Creating an ndarray from ragged nested sequences (which is a list-or-tuple of lists-or-tuples-or ndarrays with different lengths or shapes) is deprecated. If you meant to do this, you must specify 'dtype=object' when creating the ndarray\n",
      "  globals()['G{}_c{}_w_layer{}'.format(global_epoch, num_c_w, layer_index)] = globals()['G{}_c{}_w_layer{}'.format(global_epoch, num_c_w, layer_index)] + np.array(globals()['L{}_layer{}_w_c'.format(i,layer_index)])   # 일반 클러스터링\n"
     ]
    },
    {
     "name": "stdout",
     "output_type": "stream",
     "text": [
      "Layer :  2   클러스터 갯수 정해짐!  갯수 :  2 0\n"
     ]
    },
    {
     "name": "stderr",
     "output_type": "stream",
     "text": [
      "<ipython-input-8-cf8b57b41ddb>:143: VisibleDeprecationWarning: Creating an ndarray from ragged nested sequences (which is a list-or-tuple of lists-or-tuples-or ndarrays with different lengths or shapes) is deprecated. If you meant to do this, you must specify 'dtype=object' when creating the ndarray\n",
      "  globals()['G{}_c{}_w_layer{}'.format(global_epoch, num_c_w, layer_index)] = globals()['G{}_c{}_w_layer{}'.format(global_epoch, num_c_w, layer_index)] + np.array(globals()['L{}_layer{}_w_c'.format(i,layer_index)])   # 일반 클러스터링\n"
     ]
    },
    {
     "name": "stdout",
     "output_type": "stream",
     "text": [
      "Layer :  4   클러스터 갯수 정해짐!  갯수 :  3 1\n"
     ]
    },
    {
     "name": "stderr",
     "output_type": "stream",
     "text": [
      "<ipython-input-8-cf8b57b41ddb>:143: VisibleDeprecationWarning: Creating an ndarray from ragged nested sequences (which is a list-or-tuple of lists-or-tuples-or ndarrays with different lengths or shapes) is deprecated. If you meant to do this, you must specify 'dtype=object' when creating the ndarray\n",
      "  globals()['G{}_c{}_w_layer{}'.format(global_epoch, num_c_w, layer_index)] = globals()['G{}_c{}_w_layer{}'.format(global_epoch, num_c_w, layer_index)] + np.array(globals()['L{}_layer{}_w_c'.format(i,layer_index)])   # 일반 클러스터링\n"
     ]
    },
    {
     "name": "stdout",
     "output_type": "stream",
     "text": [
      "Layer :  6   클러스터 갯수 정해짐!  갯수 :  3 1\n"
     ]
    },
    {
     "name": "stderr",
     "output_type": "stream",
     "text": [
      "<ipython-input-8-cf8b57b41ddb>:143: VisibleDeprecationWarning: Creating an ndarray from ragged nested sequences (which is a list-or-tuple of lists-or-tuples-or ndarrays with different lengths or shapes) is deprecated. If you meant to do this, you must specify 'dtype=object' when creating the ndarray\n",
      "  globals()['G{}_c{}_w_layer{}'.format(global_epoch, num_c_w, layer_index)] = globals()['G{}_c{}_w_layer{}'.format(global_epoch, num_c_w, layer_index)] + np.array(globals()['L{}_layer{}_w_c'.format(i,layer_index)])   # 일반 클러스터링\n"
     ]
    },
    {
     "name": "stdout",
     "output_type": "stream",
     "text": [
      "Layer :  7   클러스터 갯수 정해짐!  갯수 :  2 0\n",
      "\n",
      "\n",
      "====================================================== One Global Epoch =====================================================================\n",
      "\n",
      "\n",
      "37  번째 global_epoch 데이터 랜덤하게 준비!!\n"
     ]
    },
    {
     "name": "stderr",
     "output_type": "stream",
     "text": [
      "<ipython-input-8-cf8b57b41ddb>:143: VisibleDeprecationWarning: Creating an ndarray from ragged nested sequences (which is a list-or-tuple of lists-or-tuples-or ndarrays with different lengths or shapes) is deprecated. If you meant to do this, you must specify 'dtype=object' when creating the ndarray\n",
      "  globals()['G{}_c{}_w_layer{}'.format(global_epoch, num_c_w, layer_index)] = globals()['G{}_c{}_w_layer{}'.format(global_epoch, num_c_w, layer_index)] + np.array(globals()['L{}_layer{}_w_c'.format(i,layer_index)])   # 일반 클러스터링\n"
     ]
    },
    {
     "name": "stdout",
     "output_type": "stream",
     "text": [
      "37  번째 global_epoch 데이터 랜덤 준비완료!!\n",
      "\n",
      "\n",
      "37  번째 global epoch에서 로컬 클라이언트 들 학습시작!\n",
      "\n",
      "학습 중 ...\n",
      "\n",
      "15/15 - 0s - loss: 0.8132 - accuracy: 0.8655\n",
      "15/15 - 0s - loss: 0.8277 - accuracy: 0.8655\n",
      "15/15 - 0s - loss: 0.7094 - accuracy: 0.8908\n",
      "15/15 - 0s - loss: 0.8348 - accuracy: 0.8550\n",
      "15/15 - 0s - loss: 0.6770 - accuracy: 0.8803\n",
      "15/15 - 0s - loss: 0.6540 - accuracy: 0.8929\n",
      "15/15 - 0s - loss: 0.7699 - accuracy: 0.8845\n",
      "15/15 - 0s - loss: 0.7829 - accuracy: 0.8803\n",
      "15/15 - 0s - loss: 0.8624 - accuracy: 0.8445\n",
      "15/15 - 0s - loss: 0.8699 - accuracy: 0.8655\n",
      "15/15 - 0s - loss: 0.8705 - accuracy: 0.8319\n",
      "15/15 - 0s - loss: 0.5725 - accuracy: 0.8950\n",
      "15/15 - 0s - loss: 0.8874 - accuracy: 0.8718\n",
      "15/15 - 0s - loss: 0.7280 - accuracy: 0.8613\n",
      "15/15 - 0s - loss: 0.7644 - accuracy: 0.8613\n",
      "15/15 - 0s - loss: 0.7472 - accuracy: 0.8845\n",
      "15/15 - 0s - loss: 0.9023 - accuracy: 0.8655\n",
      "15/15 - 0s - loss: 0.7693 - accuracy: 0.8676\n",
      "15/15 - 0s - loss: 0.5742 - accuracy: 0.8761\n",
      "15/15 - 0s - loss: 0.6294 - accuracy: 0.9034\n",
      "------------    37  번째 global epoch < Clustering > 로컬 클라이언트 학습 완료!,  Total Training time :  541.6674993038177 ---------------------------\n",
      "\n",
      "\n",
      "Layer :  0   클러스터 갯수 정해짐!  갯수 :  2 0\n"
     ]
    },
    {
     "name": "stderr",
     "output_type": "stream",
     "text": [
      "<ipython-input-8-cf8b57b41ddb>:143: VisibleDeprecationWarning: Creating an ndarray from ragged nested sequences (which is a list-or-tuple of lists-or-tuples-or ndarrays with different lengths or shapes) is deprecated. If you meant to do this, you must specify 'dtype=object' when creating the ndarray\n",
      "  globals()['G{}_c{}_w_layer{}'.format(global_epoch, num_c_w, layer_index)] = globals()['G{}_c{}_w_layer{}'.format(global_epoch, num_c_w, layer_index)] + np.array(globals()['L{}_layer{}_w_c'.format(i,layer_index)])   # 일반 클러스터링\n"
     ]
    },
    {
     "name": "stdout",
     "output_type": "stream",
     "text": [
      "Layer :  2   클러스터 갯수 정해짐!  갯수 :  2 0\n"
     ]
    },
    {
     "name": "stderr",
     "output_type": "stream",
     "text": [
      "<ipython-input-8-cf8b57b41ddb>:143: VisibleDeprecationWarning: Creating an ndarray from ragged nested sequences (which is a list-or-tuple of lists-or-tuples-or ndarrays with different lengths or shapes) is deprecated. If you meant to do this, you must specify 'dtype=object' when creating the ndarray\n",
      "  globals()['G{}_c{}_w_layer{}'.format(global_epoch, num_c_w, layer_index)] = globals()['G{}_c{}_w_layer{}'.format(global_epoch, num_c_w, layer_index)] + np.array(globals()['L{}_layer{}_w_c'.format(i,layer_index)])   # 일반 클러스터링\n"
     ]
    },
    {
     "name": "stdout",
     "output_type": "stream",
     "text": [
      "Layer :  4   클러스터 갯수 정해짐!  갯수 :  3 1\n"
     ]
    },
    {
     "name": "stderr",
     "output_type": "stream",
     "text": [
      "<ipython-input-8-cf8b57b41ddb>:143: VisibleDeprecationWarning: Creating an ndarray from ragged nested sequences (which is a list-or-tuple of lists-or-tuples-or ndarrays with different lengths or shapes) is deprecated. If you meant to do this, you must specify 'dtype=object' when creating the ndarray\n",
      "  globals()['G{}_c{}_w_layer{}'.format(global_epoch, num_c_w, layer_index)] = globals()['G{}_c{}_w_layer{}'.format(global_epoch, num_c_w, layer_index)] + np.array(globals()['L{}_layer{}_w_c'.format(i,layer_index)])   # 일반 클러스터링\n"
     ]
    },
    {
     "name": "stdout",
     "output_type": "stream",
     "text": [
      "Layer :  6   클러스터 갯수 정해짐!  갯수 :  3 1\n"
     ]
    },
    {
     "name": "stderr",
     "output_type": "stream",
     "text": [
      "<ipython-input-8-cf8b57b41ddb>:143: VisibleDeprecationWarning: Creating an ndarray from ragged nested sequences (which is a list-or-tuple of lists-or-tuples-or ndarrays with different lengths or shapes) is deprecated. If you meant to do this, you must specify 'dtype=object' when creating the ndarray\n",
      "  globals()['G{}_c{}_w_layer{}'.format(global_epoch, num_c_w, layer_index)] = globals()['G{}_c{}_w_layer{}'.format(global_epoch, num_c_w, layer_index)] + np.array(globals()['L{}_layer{}_w_c'.format(i,layer_index)])   # 일반 클러스터링\n"
     ]
    },
    {
     "name": "stdout",
     "output_type": "stream",
     "text": [
      "Layer :  7   클러스터 갯수 정해짐!  갯수 :  2 0\n",
      "\n",
      "\n",
      "====================================================== One Global Epoch =====================================================================\n",
      "\n",
      "\n",
      "38  번째 global_epoch 데이터 랜덤하게 준비!!\n"
     ]
    },
    {
     "name": "stderr",
     "output_type": "stream",
     "text": [
      "<ipython-input-8-cf8b57b41ddb>:143: VisibleDeprecationWarning: Creating an ndarray from ragged nested sequences (which is a list-or-tuple of lists-or-tuples-or ndarrays with different lengths or shapes) is deprecated. If you meant to do this, you must specify 'dtype=object' when creating the ndarray\n",
      "  globals()['G{}_c{}_w_layer{}'.format(global_epoch, num_c_w, layer_index)] = globals()['G{}_c{}_w_layer{}'.format(global_epoch, num_c_w, layer_index)] + np.array(globals()['L{}_layer{}_w_c'.format(i,layer_index)])   # 일반 클러스터링\n"
     ]
    },
    {
     "name": "stdout",
     "output_type": "stream",
     "text": [
      "38  번째 global_epoch 데이터 랜덤 준비완료!!\n",
      "\n",
      "\n",
      "38  번째 global epoch에서 로컬 클라이언트 들 학습시작!\n",
      "\n",
      "학습 중 ...\n",
      "\n",
      "15/15 - 0s - loss: 0.5828 - accuracy: 0.8718\n",
      "15/15 - 0s - loss: 0.5782 - accuracy: 0.8803\n",
      "15/15 - 0s - loss: 0.7015 - accuracy: 0.8803\n",
      "15/15 - 0s - loss: 0.8221 - accuracy: 0.8697\n",
      "15/15 - 0s - loss: 0.8322 - accuracy: 0.8466\n",
      "15/15 - 0s - loss: 0.7839 - accuracy: 0.8718\n",
      "15/15 - 0s - loss: 0.6916 - accuracy: 0.8887\n",
      "15/15 - 0s - loss: 0.9538 - accuracy: 0.8550\n",
      "15/15 - 0s - loss: 0.9767 - accuracy: 0.8466\n",
      "15/15 - 0s - loss: 1.0013 - accuracy: 0.8613\n",
      "15/15 - 0s - loss: 0.8251 - accuracy: 0.8761\n",
      "15/15 - 0s - loss: 0.7754 - accuracy: 0.8950\n",
      "15/15 - 0s - loss: 0.6432 - accuracy: 0.8908\n",
      "15/15 - 0s - loss: 0.6621 - accuracy: 0.8887\n",
      "15/15 - 0s - loss: 0.7644 - accuracy: 0.8824\n",
      "15/15 - 0s - loss: 0.7733 - accuracy: 0.8655\n",
      "15/15 - 0s - loss: 0.8247 - accuracy: 0.8697\n",
      "15/15 - 0s - loss: 0.6145 - accuracy: 0.8761\n",
      "15/15 - 0s - loss: 0.6425 - accuracy: 0.8950\n",
      "15/15 - 0s - loss: 0.8267 - accuracy: 0.8592\n",
      "------------    38  번째 global epoch < Clustering > 로컬 클라이언트 학습 완료!,  Total Training time :  472.7448890209198 ---------------------------\n",
      "\n",
      "\n",
      "Layer :  0   클러스터 갯수 정해짐!  갯수 :  2 0\n"
     ]
    },
    {
     "name": "stderr",
     "output_type": "stream",
     "text": [
      "<ipython-input-8-cf8b57b41ddb>:143: VisibleDeprecationWarning: Creating an ndarray from ragged nested sequences (which is a list-or-tuple of lists-or-tuples-or ndarrays with different lengths or shapes) is deprecated. If you meant to do this, you must specify 'dtype=object' when creating the ndarray\n",
      "  globals()['G{}_c{}_w_layer{}'.format(global_epoch, num_c_w, layer_index)] = globals()['G{}_c{}_w_layer{}'.format(global_epoch, num_c_w, layer_index)] + np.array(globals()['L{}_layer{}_w_c'.format(i,layer_index)])   # 일반 클러스터링\n"
     ]
    },
    {
     "name": "stdout",
     "output_type": "stream",
     "text": [
      "Layer :  2   클러스터 갯수 정해짐!  갯수 :  2 0\n"
     ]
    },
    {
     "name": "stderr",
     "output_type": "stream",
     "text": [
      "<ipython-input-8-cf8b57b41ddb>:143: VisibleDeprecationWarning: Creating an ndarray from ragged nested sequences (which is a list-or-tuple of lists-or-tuples-or ndarrays with different lengths or shapes) is deprecated. If you meant to do this, you must specify 'dtype=object' when creating the ndarray\n",
      "  globals()['G{}_c{}_w_layer{}'.format(global_epoch, num_c_w, layer_index)] = globals()['G{}_c{}_w_layer{}'.format(global_epoch, num_c_w, layer_index)] + np.array(globals()['L{}_layer{}_w_c'.format(i,layer_index)])   # 일반 클러스터링\n"
     ]
    },
    {
     "name": "stdout",
     "output_type": "stream",
     "text": [
      "Layer :  4   클러스터 갯수 정해짐!  갯수 :  3 1\n"
     ]
    },
    {
     "name": "stderr",
     "output_type": "stream",
     "text": [
      "<ipython-input-8-cf8b57b41ddb>:143: VisibleDeprecationWarning: Creating an ndarray from ragged nested sequences (which is a list-or-tuple of lists-or-tuples-or ndarrays with different lengths or shapes) is deprecated. If you meant to do this, you must specify 'dtype=object' when creating the ndarray\n",
      "  globals()['G{}_c{}_w_layer{}'.format(global_epoch, num_c_w, layer_index)] = globals()['G{}_c{}_w_layer{}'.format(global_epoch, num_c_w, layer_index)] + np.array(globals()['L{}_layer{}_w_c'.format(i,layer_index)])   # 일반 클러스터링\n"
     ]
    },
    {
     "name": "stdout",
     "output_type": "stream",
     "text": [
      "Layer :  6   클러스터 갯수 정해짐!  갯수 :  3 1\n"
     ]
    },
    {
     "name": "stderr",
     "output_type": "stream",
     "text": [
      "<ipython-input-8-cf8b57b41ddb>:143: VisibleDeprecationWarning: Creating an ndarray from ragged nested sequences (which is a list-or-tuple of lists-or-tuples-or ndarrays with different lengths or shapes) is deprecated. If you meant to do this, you must specify 'dtype=object' when creating the ndarray\n",
      "  globals()['G{}_c{}_w_layer{}'.format(global_epoch, num_c_w, layer_index)] = globals()['G{}_c{}_w_layer{}'.format(global_epoch, num_c_w, layer_index)] + np.array(globals()['L{}_layer{}_w_c'.format(i,layer_index)])   # 일반 클러스터링\n"
     ]
    },
    {
     "name": "stdout",
     "output_type": "stream",
     "text": [
      "Layer :  7   클러스터 갯수 정해짐!  갯수 :  2 0\n",
      "\n",
      "\n",
      "====================================================== One Global Epoch =====================================================================\n",
      "\n",
      "\n",
      "39  번째 global_epoch 데이터 랜덤하게 준비!!\n"
     ]
    },
    {
     "name": "stderr",
     "output_type": "stream",
     "text": [
      "<ipython-input-8-cf8b57b41ddb>:143: VisibleDeprecationWarning: Creating an ndarray from ragged nested sequences (which is a list-or-tuple of lists-or-tuples-or ndarrays with different lengths or shapes) is deprecated. If you meant to do this, you must specify 'dtype=object' when creating the ndarray\n",
      "  globals()['G{}_c{}_w_layer{}'.format(global_epoch, num_c_w, layer_index)] = globals()['G{}_c{}_w_layer{}'.format(global_epoch, num_c_w, layer_index)] + np.array(globals()['L{}_layer{}_w_c'.format(i,layer_index)])   # 일반 클러스터링\n"
     ]
    },
    {
     "name": "stdout",
     "output_type": "stream",
     "text": [
      "39  번째 global_epoch 데이터 랜덤 준비완료!!\n",
      "\n",
      "\n",
      "39  번째 global epoch에서 로컬 클라이언트 들 학습시작!\n",
      "\n",
      "학습 중 ...\n",
      "\n",
      "15/15 - 0s - loss: 0.8900 - accuracy: 0.8718\n",
      "15/15 - 1s - loss: 0.7766 - accuracy: 0.8634\n",
      "15/15 - 0s - loss: 0.6173 - accuracy: 0.8718\n",
      "15/15 - 0s - loss: 0.6787 - accuracy: 0.8718\n",
      "15/15 - 0s - loss: 0.8290 - accuracy: 0.8550\n",
      "15/15 - 0s - loss: 0.8098 - accuracy: 0.8235\n",
      "15/15 - 0s - loss: 0.5341 - accuracy: 0.8803\n",
      "15/15 - 0s - loss: 1.2920 - accuracy: 0.8277\n",
      "15/15 - 0s - loss: 0.5131 - accuracy: 0.8761\n",
      "15/15 - 0s - loss: 0.9728 - accuracy: 0.8697\n",
      "15/15 - 0s - loss: 0.9733 - accuracy: 0.8634\n",
      "15/15 - 0s - loss: 0.7484 - accuracy: 0.8866\n",
      "15/15 - 0s - loss: 0.7661 - accuracy: 0.8676\n",
      "15/15 - 0s - loss: 0.6586 - accuracy: 0.8908\n",
      "15/15 - 0s - loss: 0.7116 - accuracy: 0.8761\n",
      "15/15 - 0s - loss: 0.8553 - accuracy: 0.8676\n",
      "15/15 - 0s - loss: 0.6724 - accuracy: 0.8782\n",
      "15/15 - 0s - loss: 0.8173 - accuracy: 0.8592\n",
      "15/15 - 0s - loss: 0.6304 - accuracy: 0.8992\n",
      "15/15 - 0s - loss: 1.1430 - accuracy: 0.8424\n",
      "------------    39  번째 global epoch < Clustering > 로컬 클라이언트 학습 완료!,  Total Training time :  578.6289472579956 ---------------------------\n",
      "\n",
      "\n",
      "Layer :  0   클러스터 갯수 정해짐!  갯수 :  2 0\n"
     ]
    },
    {
     "name": "stderr",
     "output_type": "stream",
     "text": [
      "<ipython-input-8-cf8b57b41ddb>:143: VisibleDeprecationWarning: Creating an ndarray from ragged nested sequences (which is a list-or-tuple of lists-or-tuples-or ndarrays with different lengths or shapes) is deprecated. If you meant to do this, you must specify 'dtype=object' when creating the ndarray\n",
      "  globals()['G{}_c{}_w_layer{}'.format(global_epoch, num_c_w, layer_index)] = globals()['G{}_c{}_w_layer{}'.format(global_epoch, num_c_w, layer_index)] + np.array(globals()['L{}_layer{}_w_c'.format(i,layer_index)])   # 일반 클러스터링\n"
     ]
    },
    {
     "name": "stdout",
     "output_type": "stream",
     "text": [
      "Layer :  2   클러스터 갯수 정해짐!  갯수 :  2 0\n"
     ]
    },
    {
     "name": "stderr",
     "output_type": "stream",
     "text": [
      "<ipython-input-8-cf8b57b41ddb>:143: VisibleDeprecationWarning: Creating an ndarray from ragged nested sequences (which is a list-or-tuple of lists-or-tuples-or ndarrays with different lengths or shapes) is deprecated. If you meant to do this, you must specify 'dtype=object' when creating the ndarray\n",
      "  globals()['G{}_c{}_w_layer{}'.format(global_epoch, num_c_w, layer_index)] = globals()['G{}_c{}_w_layer{}'.format(global_epoch, num_c_w, layer_index)] + np.array(globals()['L{}_layer{}_w_c'.format(i,layer_index)])   # 일반 클러스터링\n"
     ]
    },
    {
     "name": "stdout",
     "output_type": "stream",
     "text": [
      "Layer :  4   클러스터 갯수 정해짐!  갯수 :  3 1\n"
     ]
    },
    {
     "name": "stderr",
     "output_type": "stream",
     "text": [
      "<ipython-input-8-cf8b57b41ddb>:143: VisibleDeprecationWarning: Creating an ndarray from ragged nested sequences (which is a list-or-tuple of lists-or-tuples-or ndarrays with different lengths or shapes) is deprecated. If you meant to do this, you must specify 'dtype=object' when creating the ndarray\n",
      "  globals()['G{}_c{}_w_layer{}'.format(global_epoch, num_c_w, layer_index)] = globals()['G{}_c{}_w_layer{}'.format(global_epoch, num_c_w, layer_index)] + np.array(globals()['L{}_layer{}_w_c'.format(i,layer_index)])   # 일반 클러스터링\n"
     ]
    },
    {
     "name": "stdout",
     "output_type": "stream",
     "text": [
      "Layer :  6   클러스터 갯수 정해짐!  갯수 :  3 1\n"
     ]
    },
    {
     "name": "stderr",
     "output_type": "stream",
     "text": [
      "<ipython-input-8-cf8b57b41ddb>:143: VisibleDeprecationWarning: Creating an ndarray from ragged nested sequences (which is a list-or-tuple of lists-or-tuples-or ndarrays with different lengths or shapes) is deprecated. If you meant to do this, you must specify 'dtype=object' when creating the ndarray\n",
      "  globals()['G{}_c{}_w_layer{}'.format(global_epoch, num_c_w, layer_index)] = globals()['G{}_c{}_w_layer{}'.format(global_epoch, num_c_w, layer_index)] + np.array(globals()['L{}_layer{}_w_c'.format(i,layer_index)])   # 일반 클러스터링\n"
     ]
    },
    {
     "name": "stdout",
     "output_type": "stream",
     "text": [
      "Layer :  7   클러스터 갯수 정해짐!  갯수 :  2 0\n",
      "\n",
      "\n",
      "====================================================== One Global Epoch =====================================================================\n",
      "\n",
      "\n",
      "40  번째 global_epoch 데이터 랜덤하게 준비!!\n"
     ]
    },
    {
     "name": "stderr",
     "output_type": "stream",
     "text": [
      "<ipython-input-8-cf8b57b41ddb>:143: VisibleDeprecationWarning: Creating an ndarray from ragged nested sequences (which is a list-or-tuple of lists-or-tuples-or ndarrays with different lengths or shapes) is deprecated. If you meant to do this, you must specify 'dtype=object' when creating the ndarray\n",
      "  globals()['G{}_c{}_w_layer{}'.format(global_epoch, num_c_w, layer_index)] = globals()['G{}_c{}_w_layer{}'.format(global_epoch, num_c_w, layer_index)] + np.array(globals()['L{}_layer{}_w_c'.format(i,layer_index)])   # 일반 클러스터링\n"
     ]
    },
    {
     "name": "stdout",
     "output_type": "stream",
     "text": [
      "40  번째 global_epoch 데이터 랜덤 준비완료!!\n",
      "\n",
      "\n",
      "40  번째 global epoch에서 로컬 클라이언트 들 학습시작!\n",
      "\n",
      "학습 중 ...\n",
      "\n",
      "15/15 - 0s - loss: 0.6637 - accuracy: 0.8718\n",
      "15/15 - 0s - loss: 0.8409 - accuracy: 0.8824\n",
      "15/15 - 0s - loss: 0.7869 - accuracy: 0.8655\n",
      "15/15 - 0s - loss: 0.8715 - accuracy: 0.8529\n",
      "15/15 - 0s - loss: 0.8639 - accuracy: 0.8634\n",
      "15/15 - 0s - loss: 0.5370 - accuracy: 0.9013\n",
      "15/15 - 0s - loss: 0.9768 - accuracy: 0.8592\n",
      "15/15 - 0s - loss: 0.8269 - accuracy: 0.8592\n",
      "15/15 - 0s - loss: 0.8087 - accuracy: 0.8613\n",
      "15/15 - 0s - loss: 0.6059 - accuracy: 0.8782\n",
      "15/15 - 1s - loss: 0.6711 - accuracy: 0.8634\n",
      "15/15 - 1s - loss: 0.9504 - accuracy: 0.8445\n",
      "15/15 - 0s - loss: 0.8773 - accuracy: 0.8676\n",
      "15/15 - 0s - loss: 0.5574 - accuracy: 0.8908\n",
      "15/15 - 1s - loss: 0.8479 - accuracy: 0.8782\n",
      "15/15 - 0s - loss: 0.6477 - accuracy: 0.8718\n",
      "15/15 - 0s - loss: 0.7443 - accuracy: 0.8761\n",
      "15/15 - 0s - loss: 0.8286 - accuracy: 0.8466\n",
      "15/15 - 0s - loss: 0.8695 - accuracy: 0.8655\n",
      "15/15 - 0s - loss: 0.7622 - accuracy: 0.8634\n",
      "------------    40  번째 global epoch < Clustering > 로컬 클라이언트 학습 완료!,  Total Training time :  627.8862640857697 ---------------------------\n",
      "\n",
      "\n",
      "Layer :  0   클러스터 갯수 정해짐!  갯수 :  2 0\n"
     ]
    },
    {
     "name": "stderr",
     "output_type": "stream",
     "text": [
      "<ipython-input-8-cf8b57b41ddb>:143: VisibleDeprecationWarning: Creating an ndarray from ragged nested sequences (which is a list-or-tuple of lists-or-tuples-or ndarrays with different lengths or shapes) is deprecated. If you meant to do this, you must specify 'dtype=object' when creating the ndarray\n",
      "  globals()['G{}_c{}_w_layer{}'.format(global_epoch, num_c_w, layer_index)] = globals()['G{}_c{}_w_layer{}'.format(global_epoch, num_c_w, layer_index)] + np.array(globals()['L{}_layer{}_w_c'.format(i,layer_index)])   # 일반 클러스터링\n"
     ]
    },
    {
     "name": "stdout",
     "output_type": "stream",
     "text": [
      "Layer :  2   클러스터 갯수 정해짐!  갯수 :  2 0\n"
     ]
    },
    {
     "name": "stderr",
     "output_type": "stream",
     "text": [
      "<ipython-input-8-cf8b57b41ddb>:143: VisibleDeprecationWarning: Creating an ndarray from ragged nested sequences (which is a list-or-tuple of lists-or-tuples-or ndarrays with different lengths or shapes) is deprecated. If you meant to do this, you must specify 'dtype=object' when creating the ndarray\n",
      "  globals()['G{}_c{}_w_layer{}'.format(global_epoch, num_c_w, layer_index)] = globals()['G{}_c{}_w_layer{}'.format(global_epoch, num_c_w, layer_index)] + np.array(globals()['L{}_layer{}_w_c'.format(i,layer_index)])   # 일반 클러스터링\n"
     ]
    },
    {
     "name": "stdout",
     "output_type": "stream",
     "text": [
      "Layer :  4   클러스터 갯수 정해짐!  갯수 :  3 1\n"
     ]
    },
    {
     "name": "stderr",
     "output_type": "stream",
     "text": [
      "<ipython-input-8-cf8b57b41ddb>:143: VisibleDeprecationWarning: Creating an ndarray from ragged nested sequences (which is a list-or-tuple of lists-or-tuples-or ndarrays with different lengths or shapes) is deprecated. If you meant to do this, you must specify 'dtype=object' when creating the ndarray\n",
      "  globals()['G{}_c{}_w_layer{}'.format(global_epoch, num_c_w, layer_index)] = globals()['G{}_c{}_w_layer{}'.format(global_epoch, num_c_w, layer_index)] + np.array(globals()['L{}_layer{}_w_c'.format(i,layer_index)])   # 일반 클러스터링\n"
     ]
    },
    {
     "name": "stdout",
     "output_type": "stream",
     "text": [
      "Layer :  6   클러스터 갯수 정해짐!  갯수 :  3 1\n"
     ]
    },
    {
     "name": "stderr",
     "output_type": "stream",
     "text": [
      "<ipython-input-8-cf8b57b41ddb>:143: VisibleDeprecationWarning: Creating an ndarray from ragged nested sequences (which is a list-or-tuple of lists-or-tuples-or ndarrays with different lengths or shapes) is deprecated. If you meant to do this, you must specify 'dtype=object' when creating the ndarray\n",
      "  globals()['G{}_c{}_w_layer{}'.format(global_epoch, num_c_w, layer_index)] = globals()['G{}_c{}_w_layer{}'.format(global_epoch, num_c_w, layer_index)] + np.array(globals()['L{}_layer{}_w_c'.format(i,layer_index)])   # 일반 클러스터링\n"
     ]
    },
    {
     "name": "stdout",
     "output_type": "stream",
     "text": [
      "Layer :  7   클러스터 갯수 정해짐!  갯수 :  2 0\n",
      "\n",
      "\n",
      "====================================================== One Global Epoch =====================================================================\n",
      "\n",
      "\n",
      "41  번째 global_epoch 데이터 랜덤하게 준비!!\n"
     ]
    },
    {
     "name": "stderr",
     "output_type": "stream",
     "text": [
      "<ipython-input-8-cf8b57b41ddb>:143: VisibleDeprecationWarning: Creating an ndarray from ragged nested sequences (which is a list-or-tuple of lists-or-tuples-or ndarrays with different lengths or shapes) is deprecated. If you meant to do this, you must specify 'dtype=object' when creating the ndarray\n",
      "  globals()['G{}_c{}_w_layer{}'.format(global_epoch, num_c_w, layer_index)] = globals()['G{}_c{}_w_layer{}'.format(global_epoch, num_c_w, layer_index)] + np.array(globals()['L{}_layer{}_w_c'.format(i,layer_index)])   # 일반 클러스터링\n"
     ]
    },
    {
     "name": "stdout",
     "output_type": "stream",
     "text": [
      "41  번째 global_epoch 데이터 랜덤 준비완료!!\n",
      "\n",
      "\n",
      "41  번째 global epoch에서 로컬 클라이언트 들 학습시작!\n",
      "\n",
      "학습 중 ...\n",
      "\n",
      "15/15 - 0s - loss: 0.6324 - accuracy: 0.8950\n",
      "15/15 - 0s - loss: 0.6027 - accuracy: 0.8739\n",
      "15/15 - 0s - loss: 0.7849 - accuracy: 0.8761\n",
      "15/15 - 0s - loss: 0.7818 - accuracy: 0.8782\n",
      "15/15 - 0s - loss: 0.6860 - accuracy: 0.8803\n",
      "15/15 - 0s - loss: 0.7114 - accuracy: 0.8613\n",
      "15/15 - 0s - loss: 0.9059 - accuracy: 0.8676\n",
      "15/15 - 0s - loss: 0.6110 - accuracy: 0.8718\n",
      "15/15 - 0s - loss: 1.0036 - accuracy: 0.8424\n",
      "15/15 - 0s - loss: 0.5734 - accuracy: 0.8866\n",
      "15/15 - 0s - loss: 0.7334 - accuracy: 0.8739\n",
      "15/15 - 0s - loss: 0.6511 - accuracy: 0.8929\n",
      "15/15 - 0s - loss: 1.0907 - accuracy: 0.8634\n",
      "15/15 - 1s - loss: 0.5478 - accuracy: 0.8950\n",
      "15/15 - 0s - loss: 0.8763 - accuracy: 0.8613\n",
      "15/15 - 1s - loss: 0.8490 - accuracy: 0.8697\n",
      "15/15 - 0s - loss: 0.5747 - accuracy: 0.8971\n",
      "15/15 - 0s - loss: 0.6347 - accuracy: 0.8929\n",
      "15/15 - 1s - loss: 0.8208 - accuracy: 0.8782\n",
      "15/15 - 0s - loss: 0.6873 - accuracy: 0.8866\n",
      "------------    41  번째 global epoch < Clustering > 로컬 클라이언트 학습 완료!,  Total Training time :  559.1185572147369 ---------------------------\n",
      "\n",
      "\n",
      "Layer :  0   클러스터 갯수 정해짐!  갯수 :  2 0\n"
     ]
    },
    {
     "name": "stderr",
     "output_type": "stream",
     "text": [
      "<ipython-input-8-cf8b57b41ddb>:143: VisibleDeprecationWarning: Creating an ndarray from ragged nested sequences (which is a list-or-tuple of lists-or-tuples-or ndarrays with different lengths or shapes) is deprecated. If you meant to do this, you must specify 'dtype=object' when creating the ndarray\n",
      "  globals()['G{}_c{}_w_layer{}'.format(global_epoch, num_c_w, layer_index)] = globals()['G{}_c{}_w_layer{}'.format(global_epoch, num_c_w, layer_index)] + np.array(globals()['L{}_layer{}_w_c'.format(i,layer_index)])   # 일반 클러스터링\n"
     ]
    },
    {
     "name": "stdout",
     "output_type": "stream",
     "text": [
      "Layer :  2   클러스터 갯수 정해짐!  갯수 :  2 0\n"
     ]
    },
    {
     "name": "stderr",
     "output_type": "stream",
     "text": [
      "<ipython-input-8-cf8b57b41ddb>:143: VisibleDeprecationWarning: Creating an ndarray from ragged nested sequences (which is a list-or-tuple of lists-or-tuples-or ndarrays with different lengths or shapes) is deprecated. If you meant to do this, you must specify 'dtype=object' when creating the ndarray\n",
      "  globals()['G{}_c{}_w_layer{}'.format(global_epoch, num_c_w, layer_index)] = globals()['G{}_c{}_w_layer{}'.format(global_epoch, num_c_w, layer_index)] + np.array(globals()['L{}_layer{}_w_c'.format(i,layer_index)])   # 일반 클러스터링\n"
     ]
    },
    {
     "name": "stdout",
     "output_type": "stream",
     "text": [
      "Layer :  4   클러스터 갯수 정해짐!  갯수 :  3 1\n"
     ]
    },
    {
     "name": "stderr",
     "output_type": "stream",
     "text": [
      "<ipython-input-8-cf8b57b41ddb>:143: VisibleDeprecationWarning: Creating an ndarray from ragged nested sequences (which is a list-or-tuple of lists-or-tuples-or ndarrays with different lengths or shapes) is deprecated. If you meant to do this, you must specify 'dtype=object' when creating the ndarray\n",
      "  globals()['G{}_c{}_w_layer{}'.format(global_epoch, num_c_w, layer_index)] = globals()['G{}_c{}_w_layer{}'.format(global_epoch, num_c_w, layer_index)] + np.array(globals()['L{}_layer{}_w_c'.format(i,layer_index)])   # 일반 클러스터링\n"
     ]
    },
    {
     "name": "stdout",
     "output_type": "stream",
     "text": [
      "Layer :  6   클러스터 갯수 정해짐!  갯수 :  3 1\n"
     ]
    },
    {
     "name": "stderr",
     "output_type": "stream",
     "text": [
      "<ipython-input-8-cf8b57b41ddb>:143: VisibleDeprecationWarning: Creating an ndarray from ragged nested sequences (which is a list-or-tuple of lists-or-tuples-or ndarrays with different lengths or shapes) is deprecated. If you meant to do this, you must specify 'dtype=object' when creating the ndarray\n",
      "  globals()['G{}_c{}_w_layer{}'.format(global_epoch, num_c_w, layer_index)] = globals()['G{}_c{}_w_layer{}'.format(global_epoch, num_c_w, layer_index)] + np.array(globals()['L{}_layer{}_w_c'.format(i,layer_index)])   # 일반 클러스터링\n"
     ]
    },
    {
     "name": "stdout",
     "output_type": "stream",
     "text": [
      "Layer :  7   클러스터 갯수 정해짐!  갯수 :  2 0\n",
      "\n",
      "\n",
      "====================================================== One Global Epoch =====================================================================\n",
      "\n",
      "\n",
      "42  번째 global_epoch 데이터 랜덤하게 준비!!\n"
     ]
    },
    {
     "name": "stderr",
     "output_type": "stream",
     "text": [
      "<ipython-input-8-cf8b57b41ddb>:143: VisibleDeprecationWarning: Creating an ndarray from ragged nested sequences (which is a list-or-tuple of lists-or-tuples-or ndarrays with different lengths or shapes) is deprecated. If you meant to do this, you must specify 'dtype=object' when creating the ndarray\n",
      "  globals()['G{}_c{}_w_layer{}'.format(global_epoch, num_c_w, layer_index)] = globals()['G{}_c{}_w_layer{}'.format(global_epoch, num_c_w, layer_index)] + np.array(globals()['L{}_layer{}_w_c'.format(i,layer_index)])   # 일반 클러스터링\n"
     ]
    },
    {
     "name": "stdout",
     "output_type": "stream",
     "text": [
      "42  번째 global_epoch 데이터 랜덤 준비완료!!\n",
      "\n",
      "\n",
      "42  번째 global epoch에서 로컬 클라이언트 들 학습시작!\n",
      "\n",
      "학습 중 ...\n",
      "\n",
      "15/15 - 0s - loss: 0.8765 - accuracy: 0.8697\n",
      "15/15 - 0s - loss: 0.7558 - accuracy: 0.8803\n",
      "15/15 - 0s - loss: 0.6664 - accuracy: 0.8613\n",
      "15/15 - 0s - loss: 1.2210 - accuracy: 0.8361\n",
      "15/15 - 1s - loss: 0.6921 - accuracy: 0.8592\n",
      "15/15 - 0s - loss: 0.7131 - accuracy: 0.8718\n",
      "15/15 - 0s - loss: 0.7567 - accuracy: 0.8929\n",
      "15/15 - 0s - loss: 1.0019 - accuracy: 0.8592\n",
      "15/15 - 1s - loss: 0.6703 - accuracy: 0.8529\n",
      "15/15 - 0s - loss: 0.6630 - accuracy: 0.8824\n",
      "15/15 - 0s - loss: 0.8237 - accuracy: 0.8676\n",
      "15/15 - 0s - loss: 0.8827 - accuracy: 0.8613\n",
      "15/15 - 0s - loss: 0.7990 - accuracy: 0.8697\n",
      "15/15 - 0s - loss: 0.6337 - accuracy: 0.8845\n",
      "15/15 - 0s - loss: 0.6295 - accuracy: 0.8782\n",
      "15/15 - 0s - loss: 0.7625 - accuracy: 0.8592\n",
      "15/15 - 0s - loss: 0.8694 - accuracy: 0.8655\n",
      "15/15 - 0s - loss: 0.6341 - accuracy: 0.8992\n",
      "15/15 - 0s - loss: 1.0057 - accuracy: 0.8655\n",
      "15/15 - 0s - loss: 0.6547 - accuracy: 0.8908\n",
      "------------    42  번째 global epoch < Clustering > 로컬 클라이언트 학습 완료!,  Total Training time :  662.5116379261017 ---------------------------\n",
      "\n",
      "\n",
      "Layer :  0   클러스터 갯수 정해짐!  갯수 :  2 0\n"
     ]
    },
    {
     "name": "stderr",
     "output_type": "stream",
     "text": [
      "<ipython-input-8-cf8b57b41ddb>:143: VisibleDeprecationWarning: Creating an ndarray from ragged nested sequences (which is a list-or-tuple of lists-or-tuples-or ndarrays with different lengths or shapes) is deprecated. If you meant to do this, you must specify 'dtype=object' when creating the ndarray\n",
      "  globals()['G{}_c{}_w_layer{}'.format(global_epoch, num_c_w, layer_index)] = globals()['G{}_c{}_w_layer{}'.format(global_epoch, num_c_w, layer_index)] + np.array(globals()['L{}_layer{}_w_c'.format(i,layer_index)])   # 일반 클러스터링\n"
     ]
    },
    {
     "name": "stdout",
     "output_type": "stream",
     "text": [
      "Layer :  2   클러스터 갯수 정해짐!  갯수 :  2 0\n"
     ]
    },
    {
     "name": "stderr",
     "output_type": "stream",
     "text": [
      "<ipython-input-8-cf8b57b41ddb>:143: VisibleDeprecationWarning: Creating an ndarray from ragged nested sequences (which is a list-or-tuple of lists-or-tuples-or ndarrays with different lengths or shapes) is deprecated. If you meant to do this, you must specify 'dtype=object' when creating the ndarray\n",
      "  globals()['G{}_c{}_w_layer{}'.format(global_epoch, num_c_w, layer_index)] = globals()['G{}_c{}_w_layer{}'.format(global_epoch, num_c_w, layer_index)] + np.array(globals()['L{}_layer{}_w_c'.format(i,layer_index)])   # 일반 클러스터링\n"
     ]
    },
    {
     "name": "stdout",
     "output_type": "stream",
     "text": [
      "Layer :  4   클러스터 갯수 정해짐!  갯수 :  3 1\n"
     ]
    },
    {
     "name": "stderr",
     "output_type": "stream",
     "text": [
      "<ipython-input-8-cf8b57b41ddb>:143: VisibleDeprecationWarning: Creating an ndarray from ragged nested sequences (which is a list-or-tuple of lists-or-tuples-or ndarrays with different lengths or shapes) is deprecated. If you meant to do this, you must specify 'dtype=object' when creating the ndarray\n",
      "  globals()['G{}_c{}_w_layer{}'.format(global_epoch, num_c_w, layer_index)] = globals()['G{}_c{}_w_layer{}'.format(global_epoch, num_c_w, layer_index)] + np.array(globals()['L{}_layer{}_w_c'.format(i,layer_index)])   # 일반 클러스터링\n"
     ]
    },
    {
     "name": "stdout",
     "output_type": "stream",
     "text": [
      "Layer :  6   클러스터 갯수 정해짐!  갯수 :  3 1\n"
     ]
    },
    {
     "name": "stderr",
     "output_type": "stream",
     "text": [
      "<ipython-input-8-cf8b57b41ddb>:143: VisibleDeprecationWarning: Creating an ndarray from ragged nested sequences (which is a list-or-tuple of lists-or-tuples-or ndarrays with different lengths or shapes) is deprecated. If you meant to do this, you must specify 'dtype=object' when creating the ndarray\n",
      "  globals()['G{}_c{}_w_layer{}'.format(global_epoch, num_c_w, layer_index)] = globals()['G{}_c{}_w_layer{}'.format(global_epoch, num_c_w, layer_index)] + np.array(globals()['L{}_layer{}_w_c'.format(i,layer_index)])   # 일반 클러스터링\n"
     ]
    },
    {
     "name": "stdout",
     "output_type": "stream",
     "text": [
      "Layer :  7   클러스터 갯수 정해짐!  갯수 :  2 0\n",
      "\n",
      "\n",
      "====================================================== One Global Epoch =====================================================================\n",
      "\n",
      "\n",
      "43  번째 global_epoch 데이터 랜덤하게 준비!!\n"
     ]
    },
    {
     "name": "stderr",
     "output_type": "stream",
     "text": [
      "<ipython-input-8-cf8b57b41ddb>:143: VisibleDeprecationWarning: Creating an ndarray from ragged nested sequences (which is a list-or-tuple of lists-or-tuples-or ndarrays with different lengths or shapes) is deprecated. If you meant to do this, you must specify 'dtype=object' when creating the ndarray\n",
      "  globals()['G{}_c{}_w_layer{}'.format(global_epoch, num_c_w, layer_index)] = globals()['G{}_c{}_w_layer{}'.format(global_epoch, num_c_w, layer_index)] + np.array(globals()['L{}_layer{}_w_c'.format(i,layer_index)])   # 일반 클러스터링\n"
     ]
    },
    {
     "name": "stdout",
     "output_type": "stream",
     "text": [
      "43  번째 global_epoch 데이터 랜덤 준비완료!!\n",
      "\n",
      "\n",
      "43  번째 global epoch에서 로컬 클라이언트 들 학습시작!\n",
      "\n",
      "학습 중 ...\n",
      "\n",
      "15/15 - 1s - loss: 0.8051 - accuracy: 0.8466\n",
      "15/15 - 0s - loss: 0.7138 - accuracy: 0.8845\n",
      "15/15 - 1s - loss: 0.8349 - accuracy: 0.8676\n",
      "15/15 - 1s - loss: 0.7343 - accuracy: 0.8613\n",
      "15/15 - 0s - loss: 0.6298 - accuracy: 0.8992\n",
      "15/15 - 0s - loss: 0.6794 - accuracy: 0.8655\n",
      "15/15 - 0s - loss: 0.8510 - accuracy: 0.8739\n",
      "15/15 - 0s - loss: 0.9882 - accuracy: 0.8319\n",
      "15/15 - 0s - loss: 0.7729 - accuracy: 0.8592\n",
      "15/15 - 1s - loss: 0.4946 - accuracy: 0.8992\n",
      "15/15 - 1s - loss: 0.9238 - accuracy: 0.8613\n",
      "15/15 - 0s - loss: 0.7005 - accuracy: 0.8739\n",
      "15/15 - 1s - loss: 0.7584 - accuracy: 0.8761\n",
      "15/15 - 0s - loss: 0.9570 - accuracy: 0.8613\n",
      "15/15 - 0s - loss: 0.5970 - accuracy: 0.8908\n",
      "15/15 - 0s - loss: 0.5531 - accuracy: 0.8887\n",
      "15/15 - 0s - loss: 0.9407 - accuracy: 0.8676\n",
      "15/15 - 0s - loss: 0.8137 - accuracy: 0.8550\n",
      "15/15 - 0s - loss: 0.9098 - accuracy: 0.8676\n",
      "15/15 - 1s - loss: 0.9907 - accuracy: 0.8529\n",
      "------------    43  번째 global epoch < Clustering > 로컬 클라이언트 학습 완료!,  Total Training time :  703.6915729045868 ---------------------------\n",
      "\n",
      "\n",
      "Layer :  0   클러스터 갯수 정해짐!  갯수 :  2 0\n"
     ]
    },
    {
     "name": "stderr",
     "output_type": "stream",
     "text": [
      "<ipython-input-8-cf8b57b41ddb>:143: VisibleDeprecationWarning: Creating an ndarray from ragged nested sequences (which is a list-or-tuple of lists-or-tuples-or ndarrays with different lengths or shapes) is deprecated. If you meant to do this, you must specify 'dtype=object' when creating the ndarray\n",
      "  globals()['G{}_c{}_w_layer{}'.format(global_epoch, num_c_w, layer_index)] = globals()['G{}_c{}_w_layer{}'.format(global_epoch, num_c_w, layer_index)] + np.array(globals()['L{}_layer{}_w_c'.format(i,layer_index)])   # 일반 클러스터링\n"
     ]
    },
    {
     "name": "stdout",
     "output_type": "stream",
     "text": [
      "Layer :  2   클러스터 갯수 정해짐!  갯수 :  2 0\n"
     ]
    },
    {
     "name": "stderr",
     "output_type": "stream",
     "text": [
      "<ipython-input-8-cf8b57b41ddb>:143: VisibleDeprecationWarning: Creating an ndarray from ragged nested sequences (which is a list-or-tuple of lists-or-tuples-or ndarrays with different lengths or shapes) is deprecated. If you meant to do this, you must specify 'dtype=object' when creating the ndarray\n",
      "  globals()['G{}_c{}_w_layer{}'.format(global_epoch, num_c_w, layer_index)] = globals()['G{}_c{}_w_layer{}'.format(global_epoch, num_c_w, layer_index)] + np.array(globals()['L{}_layer{}_w_c'.format(i,layer_index)])   # 일반 클러스터링\n"
     ]
    },
    {
     "name": "stdout",
     "output_type": "stream",
     "text": [
      "Layer :  4   클러스터 갯수 정해짐!  갯수 :  3 1\n"
     ]
    },
    {
     "name": "stderr",
     "output_type": "stream",
     "text": [
      "<ipython-input-8-cf8b57b41ddb>:143: VisibleDeprecationWarning: Creating an ndarray from ragged nested sequences (which is a list-or-tuple of lists-or-tuples-or ndarrays with different lengths or shapes) is deprecated. If you meant to do this, you must specify 'dtype=object' when creating the ndarray\n",
      "  globals()['G{}_c{}_w_layer{}'.format(global_epoch, num_c_w, layer_index)] = globals()['G{}_c{}_w_layer{}'.format(global_epoch, num_c_w, layer_index)] + np.array(globals()['L{}_layer{}_w_c'.format(i,layer_index)])   # 일반 클러스터링\n"
     ]
    },
    {
     "name": "stdout",
     "output_type": "stream",
     "text": [
      "Layer :  6   클러스터 갯수 정해짐!  갯수 :  3 1\n"
     ]
    },
    {
     "name": "stderr",
     "output_type": "stream",
     "text": [
      "<ipython-input-8-cf8b57b41ddb>:143: VisibleDeprecationWarning: Creating an ndarray from ragged nested sequences (which is a list-or-tuple of lists-or-tuples-or ndarrays with different lengths or shapes) is deprecated. If you meant to do this, you must specify 'dtype=object' when creating the ndarray\n",
      "  globals()['G{}_c{}_w_layer{}'.format(global_epoch, num_c_w, layer_index)] = globals()['G{}_c{}_w_layer{}'.format(global_epoch, num_c_w, layer_index)] + np.array(globals()['L{}_layer{}_w_c'.format(i,layer_index)])   # 일반 클러스터링\n"
     ]
    },
    {
     "name": "stdout",
     "output_type": "stream",
     "text": [
      "Layer :  7   클러스터 갯수 정해짐!  갯수 :  2 0\n",
      "\n",
      "\n",
      "====================================================== One Global Epoch =====================================================================\n",
      "\n",
      "\n",
      "44  번째 global_epoch 데이터 랜덤하게 준비!!\n"
     ]
    },
    {
     "name": "stderr",
     "output_type": "stream",
     "text": [
      "<ipython-input-8-cf8b57b41ddb>:143: VisibleDeprecationWarning: Creating an ndarray from ragged nested sequences (which is a list-or-tuple of lists-or-tuples-or ndarrays with different lengths or shapes) is deprecated. If you meant to do this, you must specify 'dtype=object' when creating the ndarray\n",
      "  globals()['G{}_c{}_w_layer{}'.format(global_epoch, num_c_w, layer_index)] = globals()['G{}_c{}_w_layer{}'.format(global_epoch, num_c_w, layer_index)] + np.array(globals()['L{}_layer{}_w_c'.format(i,layer_index)])   # 일반 클러스터링\n"
     ]
    },
    {
     "name": "stdout",
     "output_type": "stream",
     "text": [
      "44  번째 global_epoch 데이터 랜덤 준비완료!!\n",
      "\n",
      "\n",
      "44  번째 global epoch에서 로컬 클라이언트 들 학습시작!\n",
      "\n",
      "학습 중 ...\n",
      "\n",
      "15/15 - 1s - loss: 0.4002 - accuracy: 0.9097\n",
      "15/15 - 0s - loss: 0.6567 - accuracy: 0.8424\n",
      "15/15 - 0s - loss: 0.7466 - accuracy: 0.8697\n",
      "15/15 - 0s - loss: 0.5756 - accuracy: 0.8803\n",
      "15/15 - 0s - loss: 0.6706 - accuracy: 0.8803\n",
      "15/15 - 1s - loss: 0.6804 - accuracy: 0.8824\n",
      "15/15 - 1s - loss: 0.5813 - accuracy: 0.8929\n",
      "15/15 - 0s - loss: 0.7561 - accuracy: 0.8866\n",
      "15/15 - 0s - loss: 1.1448 - accuracy: 0.8655\n",
      "15/15 - 1s - loss: 0.4349 - accuracy: 0.8971\n",
      "15/15 - 1s - loss: 0.8347 - accuracy: 0.8908\n",
      "15/15 - 0s - loss: 0.6461 - accuracy: 0.8803\n",
      "15/15 - 1s - loss: 0.7262 - accuracy: 0.8718\n",
      "15/15 - 0s - loss: 0.9692 - accuracy: 0.8487\n",
      "15/15 - 1s - loss: 0.7629 - accuracy: 0.8739\n",
      "15/15 - 1s - loss: 0.6509 - accuracy: 0.8845\n",
      "15/15 - 0s - loss: 0.9855 - accuracy: 0.8655\n",
      "15/15 - 0s - loss: 0.7217 - accuracy: 0.8761\n",
      "15/15 - 0s - loss: 0.6295 - accuracy: 0.8845\n",
      "15/15 - 0s - loss: 0.7140 - accuracy: 0.8739\n",
      "------------    44  번째 global epoch < Clustering > 로컬 클라이언트 학습 완료!,  Total Training time :  771.0924458503723 ---------------------------\n",
      "\n",
      "\n",
      "Layer :  0   클러스터 갯수 정해짐!  갯수 :  2 0\n"
     ]
    },
    {
     "name": "stderr",
     "output_type": "stream",
     "text": [
      "<ipython-input-8-cf8b57b41ddb>:143: VisibleDeprecationWarning: Creating an ndarray from ragged nested sequences (which is a list-or-tuple of lists-or-tuples-or ndarrays with different lengths or shapes) is deprecated. If you meant to do this, you must specify 'dtype=object' when creating the ndarray\n",
      "  globals()['G{}_c{}_w_layer{}'.format(global_epoch, num_c_w, layer_index)] = globals()['G{}_c{}_w_layer{}'.format(global_epoch, num_c_w, layer_index)] + np.array(globals()['L{}_layer{}_w_c'.format(i,layer_index)])   # 일반 클러스터링\n"
     ]
    },
    {
     "name": "stdout",
     "output_type": "stream",
     "text": [
      "Layer :  2   클러스터 갯수 정해짐!  갯수 :  2 0\n"
     ]
    },
    {
     "name": "stderr",
     "output_type": "stream",
     "text": [
      "<ipython-input-8-cf8b57b41ddb>:143: VisibleDeprecationWarning: Creating an ndarray from ragged nested sequences (which is a list-or-tuple of lists-or-tuples-or ndarrays with different lengths or shapes) is deprecated. If you meant to do this, you must specify 'dtype=object' when creating the ndarray\n",
      "  globals()['G{}_c{}_w_layer{}'.format(global_epoch, num_c_w, layer_index)] = globals()['G{}_c{}_w_layer{}'.format(global_epoch, num_c_w, layer_index)] + np.array(globals()['L{}_layer{}_w_c'.format(i,layer_index)])   # 일반 클러스터링\n"
     ]
    },
    {
     "name": "stdout",
     "output_type": "stream",
     "text": [
      "Layer :  4   클러스터 갯수 정해짐!  갯수 :  3 1\n"
     ]
    },
    {
     "name": "stderr",
     "output_type": "stream",
     "text": [
      "<ipython-input-8-cf8b57b41ddb>:143: VisibleDeprecationWarning: Creating an ndarray from ragged nested sequences (which is a list-or-tuple of lists-or-tuples-or ndarrays with different lengths or shapes) is deprecated. If you meant to do this, you must specify 'dtype=object' when creating the ndarray\n",
      "  globals()['G{}_c{}_w_layer{}'.format(global_epoch, num_c_w, layer_index)] = globals()['G{}_c{}_w_layer{}'.format(global_epoch, num_c_w, layer_index)] + np.array(globals()['L{}_layer{}_w_c'.format(i,layer_index)])   # 일반 클러스터링\n"
     ]
    },
    {
     "name": "stdout",
     "output_type": "stream",
     "text": [
      "Layer :  6   클러스터 갯수 정해짐!  갯수 :  3 1\n"
     ]
    },
    {
     "name": "stderr",
     "output_type": "stream",
     "text": [
      "<ipython-input-8-cf8b57b41ddb>:143: VisibleDeprecationWarning: Creating an ndarray from ragged nested sequences (which is a list-or-tuple of lists-or-tuples-or ndarrays with different lengths or shapes) is deprecated. If you meant to do this, you must specify 'dtype=object' when creating the ndarray\n",
      "  globals()['G{}_c{}_w_layer{}'.format(global_epoch, num_c_w, layer_index)] = globals()['G{}_c{}_w_layer{}'.format(global_epoch, num_c_w, layer_index)] + np.array(globals()['L{}_layer{}_w_c'.format(i,layer_index)])   # 일반 클러스터링\n"
     ]
    },
    {
     "name": "stdout",
     "output_type": "stream",
     "text": [
      "Layer :  7   클러스터 갯수 정해짐!  갯수 :  2 0\n",
      "\n",
      "\n",
      "====================================================== One Global Epoch =====================================================================\n",
      "\n",
      "\n",
      "45  번째 global_epoch 데이터 랜덤하게 준비!!\n"
     ]
    },
    {
     "name": "stderr",
     "output_type": "stream",
     "text": [
      "<ipython-input-8-cf8b57b41ddb>:143: VisibleDeprecationWarning: Creating an ndarray from ragged nested sequences (which is a list-or-tuple of lists-or-tuples-or ndarrays with different lengths or shapes) is deprecated. If you meant to do this, you must specify 'dtype=object' when creating the ndarray\n",
      "  globals()['G{}_c{}_w_layer{}'.format(global_epoch, num_c_w, layer_index)] = globals()['G{}_c{}_w_layer{}'.format(global_epoch, num_c_w, layer_index)] + np.array(globals()['L{}_layer{}_w_c'.format(i,layer_index)])   # 일반 클러스터링\n"
     ]
    },
    {
     "name": "stdout",
     "output_type": "stream",
     "text": [
      "45  번째 global_epoch 데이터 랜덤 준비완료!!\n",
      "\n",
      "\n",
      "45  번째 global epoch에서 로컬 클라이언트 들 학습시작!\n",
      "\n",
      "학습 중 ...\n",
      "\n",
      "15/15 - 0s - loss: 0.8543 - accuracy: 0.8571\n",
      "15/15 - 0s - loss: 0.5356 - accuracy: 0.9097\n",
      "15/15 - 0s - loss: 0.7129 - accuracy: 0.8845\n",
      "15/15 - 0s - loss: 0.9090 - accuracy: 0.8592\n",
      "15/15 - 0s - loss: 0.7514 - accuracy: 0.8676\n",
      "15/15 - 0s - loss: 0.6799 - accuracy: 0.8739\n",
      "15/15 - 1s - loss: 0.5423 - accuracy: 0.8782\n",
      "15/15 - 0s - loss: 0.7904 - accuracy: 0.8655\n",
      "15/15 - 1s - loss: 0.7366 - accuracy: 0.8592\n",
      "15/15 - 0s - loss: 0.8230 - accuracy: 0.8908\n",
      "15/15 - 0s - loss: 0.9862 - accuracy: 0.8529\n",
      "15/15 - 0s - loss: 0.7787 - accuracy: 0.8718\n",
      "15/15 - 1s - loss: 0.7136 - accuracy: 0.8845\n",
      "15/15 - 1s - loss: 0.7619 - accuracy: 0.8866\n",
      "15/15 - 0s - loss: 1.0626 - accuracy: 0.8445\n",
      "15/15 - 0s - loss: 0.8659 - accuracy: 0.8592\n",
      "15/15 - 0s - loss: 0.4340 - accuracy: 0.9055\n",
      "15/15 - 1s - loss: 0.5909 - accuracy: 0.8929\n",
      "15/15 - 1s - loss: 0.8642 - accuracy: 0.8592\n",
      "15/15 - 0s - loss: 0.6176 - accuracy: 0.8908\n",
      "------------    45  번째 global epoch < Clustering > 로컬 클라이언트 학습 완료!,  Total Training time :  807.2572491168976 ---------------------------\n",
      "\n",
      "\n",
      "Layer :  0   클러스터 갯수 정해짐!  갯수 :  2 0\n"
     ]
    },
    {
     "name": "stderr",
     "output_type": "stream",
     "text": [
      "<ipython-input-8-cf8b57b41ddb>:143: VisibleDeprecationWarning: Creating an ndarray from ragged nested sequences (which is a list-or-tuple of lists-or-tuples-or ndarrays with different lengths or shapes) is deprecated. If you meant to do this, you must specify 'dtype=object' when creating the ndarray\n",
      "  globals()['G{}_c{}_w_layer{}'.format(global_epoch, num_c_w, layer_index)] = globals()['G{}_c{}_w_layer{}'.format(global_epoch, num_c_w, layer_index)] + np.array(globals()['L{}_layer{}_w_c'.format(i,layer_index)])   # 일반 클러스터링\n"
     ]
    },
    {
     "name": "stdout",
     "output_type": "stream",
     "text": [
      "Layer :  2   클러스터 갯수 정해짐!  갯수 :  2 0\n"
     ]
    },
    {
     "name": "stderr",
     "output_type": "stream",
     "text": [
      "<ipython-input-8-cf8b57b41ddb>:143: VisibleDeprecationWarning: Creating an ndarray from ragged nested sequences (which is a list-or-tuple of lists-or-tuples-or ndarrays with different lengths or shapes) is deprecated. If you meant to do this, you must specify 'dtype=object' when creating the ndarray\n",
      "  globals()['G{}_c{}_w_layer{}'.format(global_epoch, num_c_w, layer_index)] = globals()['G{}_c{}_w_layer{}'.format(global_epoch, num_c_w, layer_index)] + np.array(globals()['L{}_layer{}_w_c'.format(i,layer_index)])   # 일반 클러스터링\n"
     ]
    },
    {
     "name": "stdout",
     "output_type": "stream",
     "text": [
      "Layer :  4   클러스터 갯수 정해짐!  갯수 :  3 1\n"
     ]
    },
    {
     "name": "stderr",
     "output_type": "stream",
     "text": [
      "<ipython-input-8-cf8b57b41ddb>:143: VisibleDeprecationWarning: Creating an ndarray from ragged nested sequences (which is a list-or-tuple of lists-or-tuples-or ndarrays with different lengths or shapes) is deprecated. If you meant to do this, you must specify 'dtype=object' when creating the ndarray\n",
      "  globals()['G{}_c{}_w_layer{}'.format(global_epoch, num_c_w, layer_index)] = globals()['G{}_c{}_w_layer{}'.format(global_epoch, num_c_w, layer_index)] + np.array(globals()['L{}_layer{}_w_c'.format(i,layer_index)])   # 일반 클러스터링\n"
     ]
    },
    {
     "name": "stdout",
     "output_type": "stream",
     "text": [
      "Layer :  6   클러스터 갯수 정해짐!  갯수 :  3 1\n"
     ]
    },
    {
     "name": "stderr",
     "output_type": "stream",
     "text": [
      "<ipython-input-8-cf8b57b41ddb>:143: VisibleDeprecationWarning: Creating an ndarray from ragged nested sequences (which is a list-or-tuple of lists-or-tuples-or ndarrays with different lengths or shapes) is deprecated. If you meant to do this, you must specify 'dtype=object' when creating the ndarray\n",
      "  globals()['G{}_c{}_w_layer{}'.format(global_epoch, num_c_w, layer_index)] = globals()['G{}_c{}_w_layer{}'.format(global_epoch, num_c_w, layer_index)] + np.array(globals()['L{}_layer{}_w_c'.format(i,layer_index)])   # 일반 클러스터링\n"
     ]
    },
    {
     "name": "stdout",
     "output_type": "stream",
     "text": [
      "Layer :  7   클러스터 갯수 정해짐!  갯수 :  2 0\n",
      "\n",
      "\n",
      "====================================================== One Global Epoch =====================================================================\n",
      "\n",
      "\n",
      "46  번째 global_epoch 데이터 랜덤하게 준비!!\n"
     ]
    },
    {
     "name": "stderr",
     "output_type": "stream",
     "text": [
      "<ipython-input-8-cf8b57b41ddb>:143: VisibleDeprecationWarning: Creating an ndarray from ragged nested sequences (which is a list-or-tuple of lists-or-tuples-or ndarrays with different lengths or shapes) is deprecated. If you meant to do this, you must specify 'dtype=object' when creating the ndarray\n",
      "  globals()['G{}_c{}_w_layer{}'.format(global_epoch, num_c_w, layer_index)] = globals()['G{}_c{}_w_layer{}'.format(global_epoch, num_c_w, layer_index)] + np.array(globals()['L{}_layer{}_w_c'.format(i,layer_index)])   # 일반 클러스터링\n"
     ]
    },
    {
     "name": "stdout",
     "output_type": "stream",
     "text": [
      "46  번째 global_epoch 데이터 랜덤 준비완료!!\n",
      "\n",
      "\n",
      "46  번째 global epoch에서 로컬 클라이언트 들 학습시작!\n",
      "\n",
      "학습 중 ...\n",
      "\n",
      "15/15 - 1s - loss: 0.9515 - accuracy: 0.8592\n",
      "15/15 - 0s - loss: 0.7844 - accuracy: 0.8718\n",
      "15/15 - 0s - loss: 0.7256 - accuracy: 0.8845\n",
      "15/15 - 1s - loss: 0.7025 - accuracy: 0.8761\n",
      "15/15 - 0s - loss: 0.7896 - accuracy: 0.8697\n",
      "15/15 - 0s - loss: 0.6802 - accuracy: 0.8655\n",
      "15/15 - 0s - loss: 0.7926 - accuracy: 0.8718\n",
      "15/15 - 0s - loss: 0.7980 - accuracy: 0.8761\n",
      "15/15 - 0s - loss: 0.6803 - accuracy: 0.8676\n",
      "15/15 - 0s - loss: 0.7470 - accuracy: 0.8782\n",
      "15/15 - 0s - loss: 0.7969 - accuracy: 0.8761\n",
      "15/15 - 1s - loss: 0.5585 - accuracy: 0.8718\n",
      "15/15 - 0s - loss: 0.7551 - accuracy: 0.8697\n",
      "15/15 - 0s - loss: 0.9837 - accuracy: 0.8718\n",
      "15/15 - 1s - loss: 0.7382 - accuracy: 0.8992\n",
      "15/15 - 0s - loss: 0.9424 - accuracy: 0.8508\n",
      "15/15 - 0s - loss: 0.7302 - accuracy: 0.8718\n",
      "15/15 - 1s - loss: 0.7019 - accuracy: 0.8845\n",
      "15/15 - 1s - loss: 0.8859 - accuracy: 0.8361\n",
      "15/15 - 1s - loss: 0.8699 - accuracy: 0.8592\n",
      "------------    46  번째 global epoch < Clustering > 로컬 클라이언트 학습 완료!,  Total Training time :  914.9114849567413 ---------------------------\n",
      "\n",
      "\n",
      "Layer :  0   클러스터 갯수 정해짐!  갯수 :  2 0\n"
     ]
    },
    {
     "name": "stderr",
     "output_type": "stream",
     "text": [
      "<ipython-input-8-cf8b57b41ddb>:143: VisibleDeprecationWarning: Creating an ndarray from ragged nested sequences (which is a list-or-tuple of lists-or-tuples-or ndarrays with different lengths or shapes) is deprecated. If you meant to do this, you must specify 'dtype=object' when creating the ndarray\n",
      "  globals()['G{}_c{}_w_layer{}'.format(global_epoch, num_c_w, layer_index)] = globals()['G{}_c{}_w_layer{}'.format(global_epoch, num_c_w, layer_index)] + np.array(globals()['L{}_layer{}_w_c'.format(i,layer_index)])   # 일반 클러스터링\n"
     ]
    },
    {
     "name": "stdout",
     "output_type": "stream",
     "text": [
      "Layer :  2   클러스터 갯수 정해짐!  갯수 :  2 0\n"
     ]
    },
    {
     "name": "stderr",
     "output_type": "stream",
     "text": [
      "<ipython-input-8-cf8b57b41ddb>:143: VisibleDeprecationWarning: Creating an ndarray from ragged nested sequences (which is a list-or-tuple of lists-or-tuples-or ndarrays with different lengths or shapes) is deprecated. If you meant to do this, you must specify 'dtype=object' when creating the ndarray\n",
      "  globals()['G{}_c{}_w_layer{}'.format(global_epoch, num_c_w, layer_index)] = globals()['G{}_c{}_w_layer{}'.format(global_epoch, num_c_w, layer_index)] + np.array(globals()['L{}_layer{}_w_c'.format(i,layer_index)])   # 일반 클러스터링\n"
     ]
    },
    {
     "name": "stdout",
     "output_type": "stream",
     "text": [
      "Layer :  4   클러스터 갯수 정해짐!  갯수 :  3 1\n"
     ]
    },
    {
     "name": "stderr",
     "output_type": "stream",
     "text": [
      "<ipython-input-8-cf8b57b41ddb>:143: VisibleDeprecationWarning: Creating an ndarray from ragged nested sequences (which is a list-or-tuple of lists-or-tuples-or ndarrays with different lengths or shapes) is deprecated. If you meant to do this, you must specify 'dtype=object' when creating the ndarray\n",
      "  globals()['G{}_c{}_w_layer{}'.format(global_epoch, num_c_w, layer_index)] = globals()['G{}_c{}_w_layer{}'.format(global_epoch, num_c_w, layer_index)] + np.array(globals()['L{}_layer{}_w_c'.format(i,layer_index)])   # 일반 클러스터링\n"
     ]
    },
    {
     "name": "stdout",
     "output_type": "stream",
     "text": [
      "Layer :  6   클러스터 갯수 정해짐!  갯수 :  3 1\n"
     ]
    },
    {
     "name": "stderr",
     "output_type": "stream",
     "text": [
      "<ipython-input-8-cf8b57b41ddb>:143: VisibleDeprecationWarning: Creating an ndarray from ragged nested sequences (which is a list-or-tuple of lists-or-tuples-or ndarrays with different lengths or shapes) is deprecated. If you meant to do this, you must specify 'dtype=object' when creating the ndarray\n",
      "  globals()['G{}_c{}_w_layer{}'.format(global_epoch, num_c_w, layer_index)] = globals()['G{}_c{}_w_layer{}'.format(global_epoch, num_c_w, layer_index)] + np.array(globals()['L{}_layer{}_w_c'.format(i,layer_index)])   # 일반 클러스터링\n"
     ]
    },
    {
     "name": "stdout",
     "output_type": "stream",
     "text": [
      "Layer :  7   클러스터 갯수 정해짐!  갯수 :  2 0\n",
      "\n",
      "\n",
      "====================================================== One Global Epoch =====================================================================\n",
      "\n",
      "\n",
      "47  번째 global_epoch 데이터 랜덤하게 준비!!\n"
     ]
    },
    {
     "name": "stderr",
     "output_type": "stream",
     "text": [
      "<ipython-input-8-cf8b57b41ddb>:143: VisibleDeprecationWarning: Creating an ndarray from ragged nested sequences (which is a list-or-tuple of lists-or-tuples-or ndarrays with different lengths or shapes) is deprecated. If you meant to do this, you must specify 'dtype=object' when creating the ndarray\n",
      "  globals()['G{}_c{}_w_layer{}'.format(global_epoch, num_c_w, layer_index)] = globals()['G{}_c{}_w_layer{}'.format(global_epoch, num_c_w, layer_index)] + np.array(globals()['L{}_layer{}_w_c'.format(i,layer_index)])   # 일반 클러스터링\n"
     ]
    },
    {
     "name": "stdout",
     "output_type": "stream",
     "text": [
      "47  번째 global_epoch 데이터 랜덤 준비완료!!\n",
      "\n",
      "\n",
      "47  번째 global epoch에서 로컬 클라이언트 들 학습시작!\n",
      "\n",
      "학습 중 ...\n",
      "\n",
      "15/15 - 1s - loss: 0.5933 - accuracy: 0.8908\n",
      "15/15 - 0s - loss: 0.8031 - accuracy: 0.8782\n",
      "15/15 - 0s - loss: 1.0021 - accuracy: 0.8655\n",
      "15/15 - 1s - loss: 0.7200 - accuracy: 0.8929\n",
      "15/15 - 0s - loss: 0.7782 - accuracy: 0.8761\n",
      "15/15 - 1s - loss: 0.8226 - accuracy: 0.8571\n",
      "15/15 - 0s - loss: 0.6977 - accuracy: 0.8676\n",
      "15/15 - 1s - loss: 0.7274 - accuracy: 0.8697\n",
      "15/15 - 0s - loss: 0.7991 - accuracy: 0.8298\n",
      "15/15 - 1s - loss: 0.7039 - accuracy: 0.8508\n",
      "15/15 - 1s - loss: 0.5997 - accuracy: 0.9034\n",
      "15/15 - 0s - loss: 0.6737 - accuracy: 0.8634\n",
      "15/15 - 1s - loss: 0.8207 - accuracy: 0.8803\n",
      "15/15 - 0s - loss: 0.8154 - accuracy: 0.8824\n",
      "15/15 - 0s - loss: 0.5087 - accuracy: 0.9160\n",
      "15/15 - 0s - loss: 1.0081 - accuracy: 0.8803\n",
      "15/15 - 1s - loss: 0.7989 - accuracy: 0.8613\n",
      "15/15 - 0s - loss: 1.0187 - accuracy: 0.8697\n",
      "15/15 - 1s - loss: 0.8662 - accuracy: 0.8676\n",
      "15/15 - 0s - loss: 0.5710 - accuracy: 0.8845\n",
      "------------    47  번째 global epoch < Clustering > 로컬 클라이언트 학습 완료!,  Total Training time :  926.294328212738 ---------------------------\n",
      "\n",
      "\n",
      "Layer :  0   클러스터 갯수 정해짐!  갯수 :  2 0\n"
     ]
    },
    {
     "name": "stderr",
     "output_type": "stream",
     "text": [
      "<ipython-input-8-cf8b57b41ddb>:143: VisibleDeprecationWarning: Creating an ndarray from ragged nested sequences (which is a list-or-tuple of lists-or-tuples-or ndarrays with different lengths or shapes) is deprecated. If you meant to do this, you must specify 'dtype=object' when creating the ndarray\n",
      "  globals()['G{}_c{}_w_layer{}'.format(global_epoch, num_c_w, layer_index)] = globals()['G{}_c{}_w_layer{}'.format(global_epoch, num_c_w, layer_index)] + np.array(globals()['L{}_layer{}_w_c'.format(i,layer_index)])   # 일반 클러스터링\n"
     ]
    },
    {
     "name": "stdout",
     "output_type": "stream",
     "text": [
      "Layer :  2   클러스터 갯수 정해짐!  갯수 :  2 0\n"
     ]
    },
    {
     "name": "stderr",
     "output_type": "stream",
     "text": [
      "<ipython-input-8-cf8b57b41ddb>:143: VisibleDeprecationWarning: Creating an ndarray from ragged nested sequences (which is a list-or-tuple of lists-or-tuples-or ndarrays with different lengths or shapes) is deprecated. If you meant to do this, you must specify 'dtype=object' when creating the ndarray\n",
      "  globals()['G{}_c{}_w_layer{}'.format(global_epoch, num_c_w, layer_index)] = globals()['G{}_c{}_w_layer{}'.format(global_epoch, num_c_w, layer_index)] + np.array(globals()['L{}_layer{}_w_c'.format(i,layer_index)])   # 일반 클러스터링\n"
     ]
    },
    {
     "name": "stdout",
     "output_type": "stream",
     "text": [
      "Layer :  4   클러스터 갯수 정해짐!  갯수 :  3 1\n"
     ]
    },
    {
     "name": "stderr",
     "output_type": "stream",
     "text": [
      "<ipython-input-8-cf8b57b41ddb>:143: VisibleDeprecationWarning: Creating an ndarray from ragged nested sequences (which is a list-or-tuple of lists-or-tuples-or ndarrays with different lengths or shapes) is deprecated. If you meant to do this, you must specify 'dtype=object' when creating the ndarray\n",
      "  globals()['G{}_c{}_w_layer{}'.format(global_epoch, num_c_w, layer_index)] = globals()['G{}_c{}_w_layer{}'.format(global_epoch, num_c_w, layer_index)] + np.array(globals()['L{}_layer{}_w_c'.format(i,layer_index)])   # 일반 클러스터링\n"
     ]
    },
    {
     "name": "stdout",
     "output_type": "stream",
     "text": [
      "Layer :  6   클러스터 갯수 정해짐!  갯수 :  3 1\n"
     ]
    },
    {
     "name": "stderr",
     "output_type": "stream",
     "text": [
      "<ipython-input-8-cf8b57b41ddb>:143: VisibleDeprecationWarning: Creating an ndarray from ragged nested sequences (which is a list-or-tuple of lists-or-tuples-or ndarrays with different lengths or shapes) is deprecated. If you meant to do this, you must specify 'dtype=object' when creating the ndarray\n",
      "  globals()['G{}_c{}_w_layer{}'.format(global_epoch, num_c_w, layer_index)] = globals()['G{}_c{}_w_layer{}'.format(global_epoch, num_c_w, layer_index)] + np.array(globals()['L{}_layer{}_w_c'.format(i,layer_index)])   # 일반 클러스터링\n"
     ]
    },
    {
     "name": "stdout",
     "output_type": "stream",
     "text": [
      "Layer :  7   클러스터 갯수 정해짐!  갯수 :  2 0\n",
      "\n",
      "\n",
      "====================================================== One Global Epoch =====================================================================\n",
      "\n",
      "\n",
      "48  번째 global_epoch 데이터 랜덤하게 준비!!\n"
     ]
    },
    {
     "name": "stderr",
     "output_type": "stream",
     "text": [
      "<ipython-input-8-cf8b57b41ddb>:143: VisibleDeprecationWarning: Creating an ndarray from ragged nested sequences (which is a list-or-tuple of lists-or-tuples-or ndarrays with different lengths or shapes) is deprecated. If you meant to do this, you must specify 'dtype=object' when creating the ndarray\n",
      "  globals()['G{}_c{}_w_layer{}'.format(global_epoch, num_c_w, layer_index)] = globals()['G{}_c{}_w_layer{}'.format(global_epoch, num_c_w, layer_index)] + np.array(globals()['L{}_layer{}_w_c'.format(i,layer_index)])   # 일반 클러스터링\n"
     ]
    },
    {
     "name": "stdout",
     "output_type": "stream",
     "text": [
      "48  번째 global_epoch 데이터 랜덤 준비완료!!\n",
      "\n",
      "\n",
      "48  번째 global epoch에서 로컬 클라이언트 들 학습시작!\n",
      "\n",
      "학습 중 ...\n",
      "\n",
      "15/15 - 1s - loss: 0.7894 - accuracy: 0.8634\n",
      "15/15 - 1s - loss: 0.6916 - accuracy: 0.8739\n",
      "15/15 - 1s - loss: 0.9129 - accuracy: 0.8613\n",
      "15/15 - 0s - loss: 0.6360 - accuracy: 0.8634\n",
      "15/15 - 1s - loss: 0.7475 - accuracy: 0.8866\n",
      "15/15 - 1s - loss: 0.5156 - accuracy: 0.8971\n",
      "15/15 - 0s - loss: 0.5415 - accuracy: 0.9055\n",
      "15/15 - 1s - loss: 1.0774 - accuracy: 0.8655\n",
      "15/15 - 0s - loss: 0.6077 - accuracy: 0.8718\n",
      "15/15 - 0s - loss: 0.5622 - accuracy: 0.9055\n",
      "15/15 - 1s - loss: 0.5652 - accuracy: 0.8971\n",
      "15/15 - 1s - loss: 0.9122 - accuracy: 0.8845\n",
      "15/15 - 1s - loss: 0.6525 - accuracy: 0.8739\n",
      "15/15 - 0s - loss: 0.9766 - accuracy: 0.8676\n",
      "15/15 - 1s - loss: 0.6564 - accuracy: 0.8782\n",
      "15/15 - 0s - loss: 0.7005 - accuracy: 0.8655\n",
      "15/15 - 0s - loss: 1.0839 - accuracy: 0.8571\n",
      "15/15 - 0s - loss: 0.8228 - accuracy: 0.8866\n",
      "15/15 - 1s - loss: 0.8951 - accuracy: 0.8697\n",
      "15/15 - 1s - loss: 0.7406 - accuracy: 0.8761\n",
      "------------    48  번째 global epoch < Clustering > 로컬 클라이언트 학습 완료!,  Total Training time :  939.0082149505615 ---------------------------\n",
      "\n",
      "\n",
      "Layer :  0   클러스터 갯수 정해짐!  갯수 :  2 0\n"
     ]
    },
    {
     "name": "stderr",
     "output_type": "stream",
     "text": [
      "<ipython-input-8-cf8b57b41ddb>:143: VisibleDeprecationWarning: Creating an ndarray from ragged nested sequences (which is a list-or-tuple of lists-or-tuples-or ndarrays with different lengths or shapes) is deprecated. If you meant to do this, you must specify 'dtype=object' when creating the ndarray\n",
      "  globals()['G{}_c{}_w_layer{}'.format(global_epoch, num_c_w, layer_index)] = globals()['G{}_c{}_w_layer{}'.format(global_epoch, num_c_w, layer_index)] + np.array(globals()['L{}_layer{}_w_c'.format(i,layer_index)])   # 일반 클러스터링\n"
     ]
    },
    {
     "name": "stdout",
     "output_type": "stream",
     "text": [
      "Layer :  2   클러스터 갯수 정해짐!  갯수 :  2 0\n"
     ]
    },
    {
     "name": "stderr",
     "output_type": "stream",
     "text": [
      "<ipython-input-8-cf8b57b41ddb>:143: VisibleDeprecationWarning: Creating an ndarray from ragged nested sequences (which is a list-or-tuple of lists-or-tuples-or ndarrays with different lengths or shapes) is deprecated. If you meant to do this, you must specify 'dtype=object' when creating the ndarray\n",
      "  globals()['G{}_c{}_w_layer{}'.format(global_epoch, num_c_w, layer_index)] = globals()['G{}_c{}_w_layer{}'.format(global_epoch, num_c_w, layer_index)] + np.array(globals()['L{}_layer{}_w_c'.format(i,layer_index)])   # 일반 클러스터링\n"
     ]
    },
    {
     "name": "stdout",
     "output_type": "stream",
     "text": [
      "Layer :  4   클러스터 갯수 정해짐!  갯수 :  3 1\n"
     ]
    },
    {
     "name": "stderr",
     "output_type": "stream",
     "text": [
      "<ipython-input-8-cf8b57b41ddb>:143: VisibleDeprecationWarning: Creating an ndarray from ragged nested sequences (which is a list-or-tuple of lists-or-tuples-or ndarrays with different lengths or shapes) is deprecated. If you meant to do this, you must specify 'dtype=object' when creating the ndarray\n",
      "  globals()['G{}_c{}_w_layer{}'.format(global_epoch, num_c_w, layer_index)] = globals()['G{}_c{}_w_layer{}'.format(global_epoch, num_c_w, layer_index)] + np.array(globals()['L{}_layer{}_w_c'.format(i,layer_index)])   # 일반 클러스터링\n"
     ]
    },
    {
     "name": "stdout",
     "output_type": "stream",
     "text": [
      "Layer :  6   클러스터 갯수 정해짐!  갯수 :  3 1\n"
     ]
    },
    {
     "name": "stderr",
     "output_type": "stream",
     "text": [
      "<ipython-input-8-cf8b57b41ddb>:143: VisibleDeprecationWarning: Creating an ndarray from ragged nested sequences (which is a list-or-tuple of lists-or-tuples-or ndarrays with different lengths or shapes) is deprecated. If you meant to do this, you must specify 'dtype=object' when creating the ndarray\n",
      "  globals()['G{}_c{}_w_layer{}'.format(global_epoch, num_c_w, layer_index)] = globals()['G{}_c{}_w_layer{}'.format(global_epoch, num_c_w, layer_index)] + np.array(globals()['L{}_layer{}_w_c'.format(i,layer_index)])   # 일반 클러스터링\n"
     ]
    },
    {
     "name": "stdout",
     "output_type": "stream",
     "text": [
      "Layer :  7   클러스터 갯수 정해짐!  갯수 :  2 0\n",
      "\n",
      "\n",
      "====================================================== One Global Epoch =====================================================================\n",
      "\n",
      "\n",
      "49  번째 global_epoch 데이터 랜덤하게 준비!!\n"
     ]
    },
    {
     "name": "stderr",
     "output_type": "stream",
     "text": [
      "<ipython-input-8-cf8b57b41ddb>:143: VisibleDeprecationWarning: Creating an ndarray from ragged nested sequences (which is a list-or-tuple of lists-or-tuples-or ndarrays with different lengths or shapes) is deprecated. If you meant to do this, you must specify 'dtype=object' when creating the ndarray\n",
      "  globals()['G{}_c{}_w_layer{}'.format(global_epoch, num_c_w, layer_index)] = globals()['G{}_c{}_w_layer{}'.format(global_epoch, num_c_w, layer_index)] + np.array(globals()['L{}_layer{}_w_c'.format(i,layer_index)])   # 일반 클러스터링\n"
     ]
    },
    {
     "name": "stdout",
     "output_type": "stream",
     "text": [
      "49  번째 global_epoch 데이터 랜덤 준비완료!!\n",
      "\n",
      "\n",
      "49  번째 global epoch에서 로컬 클라이언트 들 학습시작!\n",
      "\n",
      "학습 중 ...\n",
      "\n",
      "15/15 - 0s - loss: 0.9278 - accuracy: 0.8466\n",
      "15/15 - 1s - loss: 0.6360 - accuracy: 0.8866\n",
      "15/15 - 0s - loss: 0.8984 - accuracy: 0.8655\n",
      "15/15 - 0s - loss: 0.7922 - accuracy: 0.8824\n",
      "15/15 - 0s - loss: 0.6897 - accuracy: 0.8803\n",
      "15/15 - 0s - loss: 0.6822 - accuracy: 0.8739\n",
      "15/15 - 0s - loss: 0.7778 - accuracy: 0.8718\n",
      "15/15 - 1s - loss: 1.0301 - accuracy: 0.8676\n",
      "15/15 - 1s - loss: 0.7780 - accuracy: 0.8508\n",
      "15/15 - 0s - loss: 0.8114 - accuracy: 0.8445\n",
      "15/15 - 1s - loss: 0.8094 - accuracy: 0.8634\n",
      "15/15 - 1s - loss: 0.5060 - accuracy: 0.8971\n",
      "15/15 - 0s - loss: 1.1206 - accuracy: 0.8529\n",
      "15/15 - 1s - loss: 0.7459 - accuracy: 0.8718\n",
      "15/15 - 1s - loss: 0.9928 - accuracy: 0.8782\n",
      "15/15 - 1s - loss: 0.7529 - accuracy: 0.8782\n",
      "15/15 - 1s - loss: 0.6061 - accuracy: 0.8929\n",
      "15/15 - 1s - loss: 0.8153 - accuracy: 0.8676\n",
      "15/15 - 1s - loss: 0.8333 - accuracy: 0.8803\n",
      "15/15 - 1s - loss: 0.8013 - accuracy: 0.8761\n",
      "------------    49  번째 global epoch < Clustering > 로컬 클라이언트 학습 완료!,  Total Training time :  1051.9111049175262 ---------------------------\n",
      "\n",
      "\n",
      "Layer :  0   클러스터 갯수 정해짐!  갯수 :  2 0\n"
     ]
    },
    {
     "name": "stderr",
     "output_type": "stream",
     "text": [
      "<ipython-input-8-cf8b57b41ddb>:143: VisibleDeprecationWarning: Creating an ndarray from ragged nested sequences (which is a list-or-tuple of lists-or-tuples-or ndarrays with different lengths or shapes) is deprecated. If you meant to do this, you must specify 'dtype=object' when creating the ndarray\n",
      "  globals()['G{}_c{}_w_layer{}'.format(global_epoch, num_c_w, layer_index)] = globals()['G{}_c{}_w_layer{}'.format(global_epoch, num_c_w, layer_index)] + np.array(globals()['L{}_layer{}_w_c'.format(i,layer_index)])   # 일반 클러스터링\n"
     ]
    },
    {
     "name": "stdout",
     "output_type": "stream",
     "text": [
      "Layer :  2   클러스터 갯수 정해짐!  갯수 :  2 0\n"
     ]
    },
    {
     "name": "stderr",
     "output_type": "stream",
     "text": [
      "<ipython-input-8-cf8b57b41ddb>:143: VisibleDeprecationWarning: Creating an ndarray from ragged nested sequences (which is a list-or-tuple of lists-or-tuples-or ndarrays with different lengths or shapes) is deprecated. If you meant to do this, you must specify 'dtype=object' when creating the ndarray\n",
      "  globals()['G{}_c{}_w_layer{}'.format(global_epoch, num_c_w, layer_index)] = globals()['G{}_c{}_w_layer{}'.format(global_epoch, num_c_w, layer_index)] + np.array(globals()['L{}_layer{}_w_c'.format(i,layer_index)])   # 일반 클러스터링\n"
     ]
    },
    {
     "name": "stdout",
     "output_type": "stream",
     "text": [
      "Layer :  4   클러스터 갯수 정해짐!  갯수 :  3 1\n"
     ]
    },
    {
     "name": "stderr",
     "output_type": "stream",
     "text": [
      "<ipython-input-8-cf8b57b41ddb>:143: VisibleDeprecationWarning: Creating an ndarray from ragged nested sequences (which is a list-or-tuple of lists-or-tuples-or ndarrays with different lengths or shapes) is deprecated. If you meant to do this, you must specify 'dtype=object' when creating the ndarray\n",
      "  globals()['G{}_c{}_w_layer{}'.format(global_epoch, num_c_w, layer_index)] = globals()['G{}_c{}_w_layer{}'.format(global_epoch, num_c_w, layer_index)] + np.array(globals()['L{}_layer{}_w_c'.format(i,layer_index)])   # 일반 클러스터링\n"
     ]
    },
    {
     "name": "stdout",
     "output_type": "stream",
     "text": [
      "Layer :  6   클러스터 갯수 정해짐!  갯수 :  3 1\n"
     ]
    },
    {
     "name": "stderr",
     "output_type": "stream",
     "text": [
      "<ipython-input-8-cf8b57b41ddb>:143: VisibleDeprecationWarning: Creating an ndarray from ragged nested sequences (which is a list-or-tuple of lists-or-tuples-or ndarrays with different lengths or shapes) is deprecated. If you meant to do this, you must specify 'dtype=object' when creating the ndarray\n",
      "  globals()['G{}_c{}_w_layer{}'.format(global_epoch, num_c_w, layer_index)] = globals()['G{}_c{}_w_layer{}'.format(global_epoch, num_c_w, layer_index)] + np.array(globals()['L{}_layer{}_w_c'.format(i,layer_index)])   # 일반 클러스터링\n"
     ]
    },
    {
     "name": "stdout",
     "output_type": "stream",
     "text": [
      "Layer :  7   클러스터 갯수 정해짐!  갯수 :  2 0\n",
      "\n",
      "\n",
      "====================================================== One Global Epoch =====================================================================\n",
      "\n",
      "\n",
      "50  번째 global_epoch 데이터 랜덤하게 준비!!\n"
     ]
    },
    {
     "name": "stderr",
     "output_type": "stream",
     "text": [
      "<ipython-input-8-cf8b57b41ddb>:143: VisibleDeprecationWarning: Creating an ndarray from ragged nested sequences (which is a list-or-tuple of lists-or-tuples-or ndarrays with different lengths or shapes) is deprecated. If you meant to do this, you must specify 'dtype=object' when creating the ndarray\n",
      "  globals()['G{}_c{}_w_layer{}'.format(global_epoch, num_c_w, layer_index)] = globals()['G{}_c{}_w_layer{}'.format(global_epoch, num_c_w, layer_index)] + np.array(globals()['L{}_layer{}_w_c'.format(i,layer_index)])   # 일반 클러스터링\n"
     ]
    },
    {
     "name": "stdout",
     "output_type": "stream",
     "text": [
      "50  번째 global_epoch 데이터 랜덤 준비완료!!\n",
      "\n",
      "\n",
      "50  번째 global epoch에서 로컬 클라이언트 들 학습시작!\n",
      "\n",
      "학습 중 ...\n",
      "\n",
      "15/15 - 1s - loss: 0.6369 - accuracy: 0.8739\n",
      "15/15 - 1s - loss: 0.9355 - accuracy: 0.8761\n",
      "15/15 - 1s - loss: 0.6957 - accuracy: 0.8739\n",
      "15/15 - 1s - loss: 0.9395 - accuracy: 0.8803\n",
      "15/15 - 1s - loss: 0.6135 - accuracy: 0.8634\n",
      "15/15 - 1s - loss: 0.7292 - accuracy: 0.8866\n",
      "15/15 - 0s - loss: 0.8979 - accuracy: 0.8739\n",
      "15/15 - 0s - loss: 0.6755 - accuracy: 0.8866\n",
      "15/15 - 1s - loss: 1.0779 - accuracy: 0.8319\n",
      "15/15 - 1s - loss: 0.6328 - accuracy: 0.8845\n",
      "15/15 - 0s - loss: 0.8452 - accuracy: 0.8718\n",
      "15/15 - 0s - loss: 0.9617 - accuracy: 0.8718\n",
      "15/15 - 1s - loss: 0.7286 - accuracy: 0.8782\n",
      "15/15 - 1s - loss: 0.9449 - accuracy: 0.8718\n",
      "15/15 - 1s - loss: 0.7036 - accuracy: 0.8887\n",
      "15/15 - 1s - loss: 0.8312 - accuracy: 0.8613\n",
      "15/15 - 1s - loss: 1.0812 - accuracy: 0.8319\n",
      "15/15 - 1s - loss: 0.8518 - accuracy: 0.8866\n",
      "15/15 - 1s - loss: 0.7272 - accuracy: 0.8824\n",
      "15/15 - 0s - loss: 0.7650 - accuracy: 0.8824\n",
      "------------    50  번째 global epoch < Clustering > 로컬 클라이언트 학습 완료!,  Total Training time :  1357.0043568611145 ---------------------------\n",
      "\n",
      "\n",
      "Layer :  0   클러스터 갯수 정해짐!  갯수 :  2 0\n"
     ]
    },
    {
     "name": "stderr",
     "output_type": "stream",
     "text": [
      "<ipython-input-8-cf8b57b41ddb>:143: VisibleDeprecationWarning: Creating an ndarray from ragged nested sequences (which is a list-or-tuple of lists-or-tuples-or ndarrays with different lengths or shapes) is deprecated. If you meant to do this, you must specify 'dtype=object' when creating the ndarray\n",
      "  globals()['G{}_c{}_w_layer{}'.format(global_epoch, num_c_w, layer_index)] = globals()['G{}_c{}_w_layer{}'.format(global_epoch, num_c_w, layer_index)] + np.array(globals()['L{}_layer{}_w_c'.format(i,layer_index)])   # 일반 클러스터링\n"
     ]
    },
    {
     "name": "stdout",
     "output_type": "stream",
     "text": [
      "Layer :  2   클러스터 갯수 정해짐!  갯수 :  2 0\n"
     ]
    },
    {
     "name": "stderr",
     "output_type": "stream",
     "text": [
      "<ipython-input-8-cf8b57b41ddb>:143: VisibleDeprecationWarning: Creating an ndarray from ragged nested sequences (which is a list-or-tuple of lists-or-tuples-or ndarrays with different lengths or shapes) is deprecated. If you meant to do this, you must specify 'dtype=object' when creating the ndarray\n",
      "  globals()['G{}_c{}_w_layer{}'.format(global_epoch, num_c_w, layer_index)] = globals()['G{}_c{}_w_layer{}'.format(global_epoch, num_c_w, layer_index)] + np.array(globals()['L{}_layer{}_w_c'.format(i,layer_index)])   # 일반 클러스터링\n"
     ]
    },
    {
     "name": "stdout",
     "output_type": "stream",
     "text": [
      "Layer :  4   클러스터 갯수 정해짐!  갯수 :  3 1\n"
     ]
    },
    {
     "name": "stderr",
     "output_type": "stream",
     "text": [
      "<ipython-input-8-cf8b57b41ddb>:143: VisibleDeprecationWarning: Creating an ndarray from ragged nested sequences (which is a list-or-tuple of lists-or-tuples-or ndarrays with different lengths or shapes) is deprecated. If you meant to do this, you must specify 'dtype=object' when creating the ndarray\n",
      "  globals()['G{}_c{}_w_layer{}'.format(global_epoch, num_c_w, layer_index)] = globals()['G{}_c{}_w_layer{}'.format(global_epoch, num_c_w, layer_index)] + np.array(globals()['L{}_layer{}_w_c'.format(i,layer_index)])   # 일반 클러스터링\n"
     ]
    },
    {
     "name": "stdout",
     "output_type": "stream",
     "text": [
      "Layer :  6   클러스터 갯수 정해짐!  갯수 :  3 1\n"
     ]
    },
    {
     "name": "stderr",
     "output_type": "stream",
     "text": [
      "<ipython-input-8-cf8b57b41ddb>:143: VisibleDeprecationWarning: Creating an ndarray from ragged nested sequences (which is a list-or-tuple of lists-or-tuples-or ndarrays with different lengths or shapes) is deprecated. If you meant to do this, you must specify 'dtype=object' when creating the ndarray\n",
      "  globals()['G{}_c{}_w_layer{}'.format(global_epoch, num_c_w, layer_index)] = globals()['G{}_c{}_w_layer{}'.format(global_epoch, num_c_w, layer_index)] + np.array(globals()['L{}_layer{}_w_c'.format(i,layer_index)])   # 일반 클러스터링\n"
     ]
    },
    {
     "name": "stdout",
     "output_type": "stream",
     "text": [
      "Layer :  7   클러스터 갯수 정해짐!  갯수 :  2 0\n",
      "\n",
      "\n",
      "====================================================== One Global Epoch =====================================================================\n",
      "\n",
      "\n"
     ]
    },
    {
     "name": "stderr",
     "output_type": "stream",
     "text": [
      "<ipython-input-8-cf8b57b41ddb>:143: VisibleDeprecationWarning: Creating an ndarray from ragged nested sequences (which is a list-or-tuple of lists-or-tuples-or ndarrays with different lengths or shapes) is deprecated. If you meant to do this, you must specify 'dtype=object' when creating the ndarray\n",
      "  globals()['G{}_c{}_w_layer{}'.format(global_epoch, num_c_w, layer_index)] = globals()['G{}_c{}_w_layer{}'.format(global_epoch, num_c_w, layer_index)] + np.array(globals()['L{}_layer{}_w_c'.format(i,layer_index)])   # 일반 클러스터링\n"
     ]
    }
   ],
   "source": [
    "G_epoch = 51\n",
    "\n",
    "for global_epoch in range(1, G_epoch):\n",
    "\n",
    "    for i in range(1, local):\n",
    "        if global_epoch == 1:\n",
    "            globals()['G{}_c_L{}_model'.format(global_epoch, i)] = globals()['FedAvg_L{}_iter{}_model'.format(i,global_epoch-1)]   #모델 넣어줌 (우리는 구조만 필요한 것)\n",
    "        else:\n",
    "            globals()['G{}_c_L{}_model'.format(global_epoch, i)] = globals()['G{}_c_L{}_model'.format(global_epoch-1, i)]   #모델 넣어줌 (우리는 구조만 필요한 것)\n",
    "\n",
    "        for layer_index in num_layers_list: \n",
    "            num_c = globals()['G{}_num_clusters_in_layer{}_w'.format(global_epoch-1, layer_index)]   \n",
    "    \n",
    "            for ccc in range(num_c):\n",
    "                if globals()['w_layer{}_label'.format(layer_index)][i-1] == ccc:    #현재 로컬 레이어의 군집 결과 == ccc\n",
    "                    globals()['G{}_c_L{}_model'.format(global_epoch, i)].layers[layer_index].set_weights(globals()['G{}_c{}_w_layer{}'.format(global_epoch-1, ccc, layer_index) ])  # 클러스터용 로컬 모델 선언\n",
    "                    \n",
    "                  \n",
    "    #----------------------------------------------------------------데이터 새로 준비----------------------------------------------------------------------------------\n",
    "    print(global_epoch, \" 번째 global_epoch 데이터 랜덤하게 준비!!\")\n",
    "\n",
    "\n",
    "    for i in range(1,local):\n",
    "        globals()['L{}_x_train'.format(i)], globals()['L{}_x_test'.format(i)] = [], []\n",
    "        globals()['L{}_y_train'.format(i)], globals()['L{}_y_test'.format(i)] = [], []  \n",
    "        \n",
    "    for n in range(1,local): #x_train_range, 잘 작동함 => 확인 완료\n",
    "\n",
    "        x_train_range = list(np.arange(0,len(x_train)))  #0~59,999\n",
    "        x_test_range = list(np.arange(0,len(x_test)))  #0~9,999\n",
    "\n",
    "        tmp, tmp2 = [], []\n",
    "\n",
    "        num_pick = random.randint(1000, int(len(list(x_train_range))/local) ) #변동 사항\n",
    "        num_pick2 = int(len(x_test_range)/local) #test 데이터는 원래대로 항상 일정한 비율로 주면 될듯 => 어느정도 분량 이상 있어야 함\n",
    "\n",
    "        tmp = random.sample(list(x_train_range), num_pick)  #1/10개 만큼 인덱스 랜덤 비복원 추출 => 랜덤으로 해야함\n",
    "        tmp2 = random.sample(list(x_test_range), num_pick2)\n",
    "\n",
    "        for i in range(len(tmp)):\n",
    "            globals()['L{}_x_train'.format(n)].append(x_train[tmp[i]])  #n번째 Cluster에 분할한 실제 x_train 데이터 저장\n",
    "            globals()['L{}_y_train'.format(n)].append(y_train[tmp[i]]) \n",
    "            #x_train_range.remove(tmp[i])  #랜덤 하게 뽑힌 원소갯수들 추출했으니 안에서 삭제  => 오래걸림\n",
    "\n",
    "        for j in range(len(tmp2)):\n",
    "            globals()['L{}_x_test'.format(n)].append(x_test[tmp2[j]])\n",
    "            globals()['L{}_y_test'.format(n)].append(y_test[tmp2[j]])\n",
    "            #x_test_range.remove(tmp2[j])  #랜덤 하게 뽑힌 원소 1000개 추출했으니 안에서 삭제  => 오래걸림\n",
    "\n",
    "    for i in range(1,local):\n",
    "        globals()['L{}_x_train'.format(i)] = np.array(globals()['L{}_x_train'.format(i)])\n",
    "        globals()['L{}_x_test'.format(i)] = np.array(globals()['L{}_x_test'.format(i)])\n",
    "        globals()['L{}_y_train'.format(i)] = np.array(globals()['L{}_y_train'.format(i)])\n",
    "        globals()['L{}_y_test'.format(i)] = np.array(globals()['L{}_y_test'.format(i)])\n",
    "\n",
    "\n",
    "    print(global_epoch, \" 번째 global_epoch 데이터 랜덤 준비완료!!\\n\\n\")\n",
    "\n",
    "    print(global_epoch, \" 번째 global epoch에서 로컬 클라이언트 들 학습시작!\\n\\n학습 중 ...\\n\")\n",
    "    \n",
    "\n",
    "    #-------------------------------------------------------------------여기가 핵심, 알고리즘 3개 따로 학습시켜야 함--------------------------------------------------------------------\n",
    "\n",
    "\n",
    "    #======================================================================== Cluster  ========================================================================  같이 했음. 왜냐면 cluster 하고 나서 activation 을 씌우는 거라 cluster까지는 같음\n",
    "\n",
    "    cluster_acc, cluster_loss, cluster_act_acc, cluster_act_loss, now = [], [], [], [], time.time()\n",
    "    \n",
    "    for i in range(1, local):\n",
    "        globals()['G{}_c_L{}_model'.format(global_epoch, i)].compile(loss=\"categorical_crossentropy\", optimizer=\"adam\", metrics=[\"accuracy\"])  #Cluster => 알맞는 클러스터에 넣기\n",
    "        globals()['G{}_c_L{}_model'.format(global_epoch, i)].fit(globals()['L{}_x_train'.format(i)], globals()['L{}_y_train'.format(i)], batch_size=batch_size, epochs=epochs, validation_split=0.1, verbose=0)\n",
    "        loss, acc = globals()['G{}_c_L{}_model'.format(global_epoch, i)].evaluate(globals()['L{}_x_test'.format(i)], globals()['L{}_y_test'.format(i)], verbose=2)\n",
    "        \n",
    "        cluster_acc.append(acc)  #acc 넣기\n",
    "        cluster_loss.append(loss)  #loss 넣기\n",
    "\n",
    "    print(\"------------   \", global_epoch, \" 번째 global epoch < Clustering > 로컬 클라이언트 학습 완료!,  Total Training time : \", time.time()-now,\"---------------------------\\n\\n\")\n",
    "\n",
    "\n",
    "# 로컬 모델들 학습 완료, 로컬모델에서 weight, bias 추출 -------------------------------------------------------------------------------------\n",
    "\n",
    "\n",
    "    for i in range(1, local):        \n",
    "        for layer_index in num_layers_list:\n",
    "            \n",
    "            globals()['L{}_layer{}_w_c'.format(i,layer_index)]   = globals()['G{}_c_L{}_model'.format(global_epoch, i)].layers[layer_index].get_weights() # Clustering \n",
    "            globals()['L{}_layer{}_w_c_tmp'.format(i,layer_index)]   = globals()['G{}_c_L{}_model'.format(global_epoch, i)].layers[layer_index].get_weights() # Clustering \n",
    "\n",
    "    #------------------------------------------------ 클러스터링만 한 값들 Clustering --------------------------------------------------------\n",
    "    for layer_index in num_layers_list:\n",
    "        best_Sil_score_c = []\n",
    "        globals()['layer{}_W_c_tmp'.format(layer_index)] = []\n",
    "        \n",
    "        globals()['var_list_layer{}_w'.format(layer_index)] = []\n",
    "        globals()['var_list_layer{}_b'.format(layer_index)] = []\n",
    "            \n",
    "        for i in range(1, local):\n",
    "            TMP_w = list(np.array(globals()['L{}_layer{}_w_c_tmp'.format(i,layer_index)][0]).reshape(-1))\n",
    "            TMP_b = list(np.array(globals()['L{}_layer{}_w_c_tmp'.format(i,layer_index)][1]).reshape(-1))\n",
    "            \n",
    "            TMP_w.extend(TMP_b) ##append 말고 더해야함..\n",
    "\n",
    "            TMP_w = np.array(TMP_w)\n",
    "            TMP_w = list(TMP_w.reshape(-1))\n",
    "            globals()['layer{}_W_c_tmp'.format(layer_index)].append(TMP_w)  #클러스터링 용도\n",
    "\n",
    "        #---------------------------------------------------- 실루엣 기반 클러스터링 실시 -------------------------------------------------------------\n",
    "        silhoutte_score_w = []\n",
    "        transformed = globals()['layer{}_W_c_tmp'.format(layer_index)]\n",
    "\n",
    "        for clusters in range((int(local/2)-1)):       ####=>  이 범위 : 클러스터 갯수, 밑에 보면 cluster+2 있음 = 총 10개 => (0,11) = 10\n",
    "            globals()['w_layer{}_label'.format(layer_index)] = 0\n",
    "                                                            \n",
    "            kmeans_model_w = KMeans(n_clusters=clusters+2)   # 0, 1은 silhouette 에 안먹힘  \n",
    "\n",
    "            kmeans_model_w.fit(transformed)       #레이블 정의 \n",
    "\n",
    "            silhoutte_score_w.append(silhouette_score(globals()['layer{}_W_tmp'.format(layer_index)], kmeans_model_w.labels_, metric='euclidean'))  \n",
    "            \n",
    "        num_clusters_for_w = np.argmax(silhoutte_score_w)  \n",
    "        best_Sil_score_c.append(silhoutte_score_w[num_clusters_for_w])\n",
    " \n",
    "        kmeans_model_w = KMeans(n_clusters=num_clusters_for_w+2)   # 0, 1은 silhouette 에 안먹힘  \n",
    "\n",
    "        globals()['w_layer{}_label'.format(layer_index)] = kmeans_model_w.fit_predict(transformed)       # 가장 적합한 클러스터로 레이어에 속한 로컬들 레이블 정의 \n",
    "        label_list.append(globals()['w_layer{}_label'.format(layer_index)])\n",
    "\n",
    "        globals()['G{}_num_clusters_in_layer{}_w'.format(global_epoch, layer_index)] = num_clusters_for_w + 2  #나중에 몇개로 나뉘었는지 알아야 함 = num_clusters_for_w이거 그대로 하면 밑에 저게 쓸일이 많아서 global 쓰면 코딩이 너무 번잡해짐;; \n",
    "        print(\"Layer : \", layer_index, \"  클러스터 갯수 정해짐!  갯수 : \", globals()['G{}_num_clusters_in_layer{}_w'.format(global_epoch, layer_index)], num_clusters_for_w) ########################################################******************************************\n",
    "\n",
    "\n",
    "        #----------------------------------------------- 스케일링 및 업데이트 ---------------------------------------------------------------------\n",
    "        for num_c_w in range(num_clusters_for_w+2): #클러스터 갯수 (num_clusters_for_w) 만큼 클러스터용 = 클러스터 갯수가 3이 나왔으면 3개를 만들어야 함\n",
    "            globals()['G{}_c{}_w_layer{}'.format(global_epoch, num_c_w, layer_index)] = 0 \n",
    "            \n",
    "            globals()['w_scaler_c{}_sum'.format(num_c_w)], globals()['int_c{}_w'.format(num_c_w)] = 0, 0 #초기화\n",
    "        \n",
    "            for i in range(1, local):\n",
    "\n",
    "                if globals()['w_layer{}_label'.format(layer_index)][i-1] == num_c_w  : # 클러스터 레이블에 맞게 (0 or 1 or 2 ..) \n",
    "                    globals()['w_scaler_c{}_sum'.format(num_c_w)] = globals()['w_scaler_c{}_sum'.format(num_c_w)] + len(globals()['L{}_x_train'.format(i)])\n",
    "\n",
    "                    globals()['G{}_c{}_w_layer{}'.format(global_epoch, num_c_w, layer_index)] = globals()['G{}_c{}_w_layer{}'.format(global_epoch, num_c_w, layer_index)] + np.array(globals()['L{}_layer{}_w_c'.format(i,layer_index)])   # 일반 클러스터링\n",
    "                  \n",
    "                    globals()['int_c{}_w'.format(num_c_w)] = globals()['int_c{}_w'.format(num_c_w)] + 1\n",
    "\n",
    "            globals()['w_scaler{}'.format(num_c_w)] = len(globals()['L{}_x_train'.format(i)]) / globals()['w_scaler_c{}_sum'.format(num_c_w)]\n",
    "            globals()['G{}_c{}_w_layer{}'.format(global_epoch, num_c_w, layer_index)] = globals()['G{}_c{}_w_layer{}'.format(global_epoch, num_c_w, layer_index)] / globals()['int_c{}_w'.format(num_c_w)] #레이어 별 클러스터 자기 갯수만큼 나눠주기=평균\n",
    "\n",
    "        \n",
    "        sum_for_var_w,sum_for_var_b = 0, 0\n",
    "        for sps in range(num_clusters_for_w+2):\n",
    "            sum_for_var_w = sum_for_var_w + globals()['G{}_c{}_w_layer{}'.format(global_epoch, 0, layer_index)][0]\n",
    "            sum_for_var_b = sum_for_var_b + globals()['G{}_c{}_w_layer{}'.format(global_epoch, 0, layer_index)][1] \n",
    "        \n",
    "        sum_for_var_w = sum_for_var_w/(num_clusters_for_w+2)\n",
    "        sum_for_var_b = sum_for_var_b/(num_clusters_for_w+2)\n",
    "\n",
    "        for i in range(1, local):\n",
    "            globals()['var_list_layer{}_w'.format(layer_index)].append(np.var(sum_for_var_w))\n",
    "            globals()['var_list_layer{}_b'.format(layer_index)].append(np.var(sum_for_var_b))\n",
    "  \n",
    "\n",
    "        VAR_final_list_w.append(globals()['var_list_layer{}_w'.format(layer_index)])\n",
    "        VAR_final_list_b.append(globals()['var_list_layer{}_b'.format(layer_index)])\n",
    "\n",
    "\n",
    "    Cluster_ACC.append(cluster_acc)\n",
    "    Cluster_LOSS.append(cluster_loss)\n",
    "    Silhouette_sc_c.append(best_Sil_score_c)\n",
    "\n",
    "\n",
    "    print(\"\\n\\n====================================================== One Global Epoch =====================================================================\\n\\n\")\n"
   ]
  },
  {
   "cell_type": "code",
   "execution_count": 9,
   "metadata": {
    "colab": {
     "base_uri": "https://localhost:8080/"
    },
    "executionInfo": {
     "elapsed": 239,
     "status": "ok",
     "timestamp": 1627598233970,
     "user": {
      "displayName": "이훈민",
      "photoUrl": "",
      "userId": "00157268181097362793"
     },
     "user_tz": 240
    },
    "id": "w2XKazZ-4dgs",
    "outputId": "4f023b47-dd78-43b9-bdab-9a0bc7195aa5"
   },
   "outputs": [],
   "source": [
    "#클러스터 레이어들끼리 weight 확이 => 똑같지는 않은지 확인"
   ]
  },
  {
   "cell_type": "code",
   "execution_count": 10,
   "metadata": {
    "colab": {
     "base_uri": "https://localhost:8080/"
    },
    "executionInfo": {
     "elapsed": 282,
     "status": "ok",
     "timestamp": 1627663392403,
     "user": {
      "displayName": "이훈민",
      "photoUrl": "",
      "userId": "00157268181097362793"
     },
     "user_tz": 240
    },
    "id": "DGhQbiXaEUfJ",
    "outputId": "e7f4f01c-9b72-4b6e-f3ed-6859fc0a3587"
   },
   "outputs": [
    {
     "name": "stdout",
     "output_type": "stream",
     "text": [
      "Layer 0  ==> label 0, 1, 2 갯수 :  879 141 0\n",
      "Layer 2  ==> label 0, 1, 2 갯수 :  933 87 0\n",
      "Layer 4  ==> label 0, 1, 2 갯수 :  852 103 61\n",
      "Layer 6  ==> label 0, 1, 2 갯수 :  843 138 39\n",
      "Layer 7  ==> label 0, 1, 2 갯수 :  513 507 0\n"
     ]
    }
   ],
   "source": [
    "L0_label0, L0_label1, L0_label2 = 0, 0, 0 \n",
    "L1_label0, L1_label1, L1_label2 = 0, 0, 0 \n",
    "L2_label0, L2_label1, L2_label2 = 0, 0, 0 \n",
    "L3_label0, L3_label1, L3_label2 = 0, 0, 0 \n",
    "L4_label0, L4_label1, L4_label2 = 0, 0, 0 \n",
    "\n",
    "\n",
    "for i in range(int(len(label_list)/5)):\n",
    "    for k in range(5):\n",
    "        for j in range(len(label_list[0])):\n",
    "            if label_list[i*5 + k][j] == 0:\n",
    "                  globals()['L{}_label0'.format(k)] = globals()['L{}_label0'.format(k)] + 1 \n",
    "\n",
    "            elif label_list[i*5 + k][j] == 1:\n",
    "                globals()['L{}_label1'.format(k)] = globals()['L{}_label1'.format(k)] + 1\n",
    "\n",
    "            elif label_list[i*5 + k][j] == 2:\n",
    "                globals()['L{}_label2'.format(k)] = globals()['L{}_label2'.format(k)] + 1\n",
    "\n",
    "\n",
    "print(\"Layer 0  ==> label 0, 1, 2 갯수 : \", L0_label0, L0_label1, L0_label2)\n",
    "print(\"Layer 2  ==> label 0, 1, 2 갯수 : \", L1_label0, L1_label1, L1_label2)\n",
    "print(\"Layer 4  ==> label 0, 1, 2 갯수 : \", L2_label0, L2_label1, L2_label2)\n",
    "print(\"Layer 6  ==> label 0, 1, 2 갯수 : \", L3_label0, L3_label1, L3_label2)\n",
    "print(\"Layer 7  ==> label 0, 1, 2 갯수 : \", L4_label0, L4_label1, L4_label2)"
   ]
  },
  {
   "cell_type": "code",
   "execution_count": null,
   "metadata": {
    "id": "m4Zb_JoiIf2c"
   },
   "outputs": [],
   "source": []
  },
  {
   "cell_type": "code",
   "execution_count": 15,
   "metadata": {
    "colab": {
     "base_uri": "https://localhost:8080/",
     "height": 1000
    },
    "executionInfo": {
     "elapsed": 1102,
     "status": "ok",
     "timestamp": 1627663393500,
     "user": {
      "displayName": "이훈민",
      "photoUrl": "",
      "userId": "00157268181097362793"
     },
     "user_tz": 240
    },
    "id": "3mk4C9N2ADYL",
    "outputId": "dd709555-dac1-41ab-dbf9-7902ded192f0"
   },
   "outputs": [
    {
     "name": "stdout",
     "output_type": "stream",
     "text": [
      "Variance Accumulate Layer 0,2,4,6,7\n",
      "--------------------------------------------------------------------------------------------------\n",
      "\n",
      "\n",
      "Var Accumulate Weight\n",
      "--------------------------------------\n",
      "[0.004951663, 0.00869277, 0.012085838, 0.015109759, 0.017841825, 0.020833682, 0.023871664, 0.026598467, 0.029201822, 0.031540982, 0.032963745, 0.03485236, 0.03688888, 0.038895346, 0.04038338, 0.04197928, 0.043193128, 0.043915503, 0.045194946, 0.04571989, 0.046333205, 0.046810478, 0.048139226, 0.048762135, 0.0492176, 0.04996954, 0.051031396, 0.051489905, 0.051982637, 0.052307416, 0.052935496, 0.053166594, 0.05370278, 0.05410151, 0.05458419, 0.054917812, 0.055407412, 0.055944666, 0.056217134, 0.05661926, 0.05723761, 0.057513162, 0.057999983, 0.058544703, 0.058919735, 0.05903854, 0.059608605, 0.059876457, 0.060125336, 0.060267184]\n",
      "[0.0016611313, 0.0027137091, 0.004393721, 0.005969006, 0.0076813432, 0.009200013, 0.01039071, 0.011472962, 0.012243583, 0.013103354, 0.0138674425, 0.014555888, 0.015081341, 0.015616341, 0.016283218, 0.01679267, 0.017337611, 0.017671013, 0.018081794, 0.018454518, 0.018922826, 0.019218443, 0.019596117, 0.019944897, 0.020156734, 0.02051019, 0.020724382, 0.020988211, 0.021208627, 0.021487392, 0.021844061, 0.022108808, 0.02235472, 0.022565033, 0.022751272, 0.022815613, 0.02310682, 0.023267958, 0.023352882, 0.02343605, 0.023634009, 0.023693088, 0.023829063, 0.023887051, 0.023958402, 0.02405753, 0.024158332, 0.024233012, 0.02432299, 0.024368078]\n",
      "[0.0008983224, 0.0012615022, 0.0014356242, 0.0016610869, 0.0015424886, 0.0018756969, 0.0021605229, 0.0024153558, 0.0026573595, 0.0028893168, 0.0030734332, 0.0032285536, 0.0033496628, 0.0035118046, 0.0036972712, 0.003836842, 0.0039508822, 0.0040131826, 0.0041056424, 0.004215556, 0.0043462906, 0.004435447, 0.004530186, 0.0046236794, 0.004665474, 0.0047809784, 0.0049920958, 0.0049333633, 0.0050518643, 0.0051204627, 0.0052128443, 0.00528616, 0.0053991685, 0.0054562413, 0.0054950137, 0.005579085, 0.005641922, 0.0056889025, 0.005724094, 0.005784664, 0.0058759865, 0.005902562, 0.00596014, 0.005994094, 0.006044802, 0.0061255237, 0.0061783283, 0.0062156087, 0.006278532, 0.006319931]\n",
      "[0.001068356, 0.0012687937, 0.0014132434, 0.001545955, 0.0017361487, 0.0018895625, 0.002011004, 0.0021192548, 0.002260082, 0.002367839, 0.0025032333, 0.0026930838, 0.0028130966, 0.0028926593, 0.00304949, 0.0022838232, 0.0032340456, 0.003354522, 0.0034541318, 0.0035887088, 0.0037304924, 0.0038834517, 0.0039785714, 0.0041676196, 0.004249848, 0.004408958, 0.0045422507, 0.004687528, 0.0048698806, 0.0050319196, 0.0037458364, 0.0038727138, 0.0040213903, 0.0041227476, 0.004221783, 0.0043937555, 0.0045183804, 0.0046414007, 0.0047304197, 0.004845691, 0.0049962285, 0.0050830254, 0.0052136863, 0.005342952, 0.005450592, 0.005598074, 0.005767607, 0.005884569, 0.006015202, 0.0061271074]\n",
      "[0.0016533535, 0.0021148568, 0.0031204016, 0.0046235905, 0.0065141954, 0.008727745, 0.011401492, 0.014197072, 0.017070176, 0.020086685, 0.023250137, 0.026351955, 0.0294864, 0.03253852, 0.035900448, 0.039031733, 0.042279724, 0.045052327, 0.048050825, 0.05126033, 0.054685093, 0.057847988, 0.06142535, 0.06474898, 0.0677828, 0.07112099, 0.07420723, 0.07749425, 0.08104117, 0.084264345, 0.08769469, 0.09098413, 0.09460008, 0.09790005, 0.10148182, 0.10461805, 0.10820796, 0.11156297, 0.114499405, 0.11796212, 0.121521756, 0.124565266, 0.12788162, 0.13146746, 0.1350181, 0.13875344, 0.14235586, 0.14570868, 0.14907531, 0.15234342]\n",
      "\n",
      "Var Accumulate Bias\n",
      "--------------------------------------\n",
      "[0.00030733494, 0.0010534405, 0.0015313681, 0.001949033, 0.0023208417, 0.0031148435, 0.0038959251, 0.0042875344, 0.0046934285, 0.005040603, 0.0060031274, 0.0069788503, 0.007371566, 0.007998219, 0.008878987, 0.009559419, 0.0100394655, 0.010793278, 0.011621835, 0.01248654, 0.012981534, 0.013049675, 0.0130905695, 0.0131067075, 0.013482395, 0.013915209, 0.013706129, 0.01453384, 0.014671656, 0.015030274, 0.015478716, 0.015907906, 0.016173348, 0.016627874, 0.016883684, 0.016737547, 0.017196141, 0.018155534, 0.01867578, 0.019325662, 0.01945814, 0.019603755, 0.019543853, 0.02007131, 0.020059954, 0.020300962, 0.020337798, 0.020906884, 0.020927668, 0.021135163]\n",
      "[0.00019600731, 0.00036601562, 0.0007204334, 0.0010612876, 0.0020287621, 0.0027158358, 0.003293693, 0.0036996037, 0.0040609716, 0.0043922947, 0.004557659, 0.0050772363, 0.005416723, 0.005858319, 0.0063498546, 0.0065975524, 0.0067623653, 0.0068339463, 0.007095334, 0.0071414653, 0.007368281, 0.0076259747, 0.007848382, 0.007972339, 0.0081016375, 0.00829244, 0.008515159, 0.008592827, 0.008633312, 0.008532751, 0.009134288, 0.009438537, 0.00953686, 0.009533041, 0.009735496, 0.009338455, 0.009674816, 0.009804539, 0.009841408, 0.010031231, 0.010136063, 0.010265127, 0.010365771, 0.010400329, 0.010358448, 0.010531351, 0.010632945, 0.010650145, 0.010662831, 0.0104915]\n",
      "[0.00019840169, 0.00037821586, 0.0009041182, 0.0010029881, 0.00110141, 0.0013350286, 0.0016563241, 0.0018237804, 0.002208192, 0.0022882759, 0.0024682211, 0.002324832, 0.002415862, 0.0025376522, 0.0026014666, 0.002722929, 0.002789537, 0.0028431662, 0.0029266514, 0.002935848, 0.0029436424, 0.0029663686, 0.003096738, 0.003157252, 0.003142721, 0.003151083, 0.0036643303, 0.0033117635, 0.0033943779, 0.0033309145, 0.003293248, 0.0033635106, 0.0033732485, 0.0033257252, 0.0033487533, 0.0033361088, 0.003383195, 0.003449221, 0.0033545373, 0.0034420001, 0.0034231911, 0.0033876048, 0.0034368539, 0.0034834603, 0.0034814838, 0.003584097, 0.0037109326, 0.0037638752, 0.003701997, 0.0036302684]\n",
      "[0.00014175316, 0.00048918783, 0.0009622733, 0.0012512815, 0.0015659295, 0.0018524968, 0.0022119826, 0.0026031975, 0.0029347898, 0.0032744133, 0.003553927, 0.0040784767, 0.004395186, 0.0047203917, 0.0051547047, 0.005177503, 0.0053852433, 0.005790559, 0.0057890997, 0.006080187, 0.00629861, 0.0063569704, 0.0065656314, 0.0067487946, 0.0068901796, 0.0070723128, 0.007397355, 0.0074548274, 0.0076496387, 0.0076808324, 0.0070851413, 0.00714021, 0.0072594387, 0.007396982, 0.0074954014, 0.007611708, 0.00776585, 0.008053136, 0.008262995, 0.0083393995, 0.008235483, 0.008310854, 0.0085764155, 0.00884392, 0.009038886, 0.009196203, 0.009527379, 0.009487238, 0.009783838, 0.009928743]\n",
      "[0.0003866341, 0.0029862607, 0.0061639273, 0.0073682517, 0.008095807, 0.008736193, 0.009536292, 0.010339402, 0.011413112, 0.012389545, 0.013469959, 0.014191387, 0.014901, 0.0156207215, 0.016336024, 0.017084446, 0.01789958, 0.018274352, 0.018593993, 0.018743567, 0.018921044, 0.019270387, 0.019703265, 0.019867793, 0.02007349, 0.020625502, 0.02089182, 0.021416644, 0.021792395, 0.021913882, 0.022104789, 0.022442568, 0.022737619, 0.022652697, 0.023165856, 0.023167262, 0.023201449, 0.023885721, 0.024262672, 0.024678035, 0.025058925, 0.02536172, 0.025700402, 0.025742525, 0.026073802, 0.026489165, 0.027004594, 0.027370974, 0.028081726, 0.02862463]\n",
      "\n",
      "\n",
      "Variance Change Layer 0,2,4,6,7\n",
      "--------------------------------------------------------------------------------------------------\n",
      "\n",
      "\n",
      "Var Changes Weight\n",
      "--------------------------------------\n",
      "[0.004951663, 0.00869277, 0.012085838, 0.015109759, 0.017841825, 0.020833682, 0.023871664, 0.026598467, 0.029201822, 0.031540982, 0.032963745, 0.03485236, 0.03688888, 0.038895346, 0.04038338, 0.04197928, 0.043193128, 0.043915503, 0.045194946, 0.04571989, 0.046333205, 0.046810478, 0.048139226, 0.048762135, 0.0492176, 0.04996954, 0.051031396, 0.051489905, 0.051982637, 0.052307416, 0.052935496, 0.053166594, 0.05370278, 0.05410151, 0.05458419, 0.054917812, 0.055407412, 0.055944666, 0.056217134, 0.05661926, 0.05723761, 0.057513162, 0.057999983, 0.058544703, 0.058919735, 0.05903854, 0.059608605, 0.059876457, 0.060125336, 0.060267184]\n",
      "[0.0016611313, 0.0027137091, 0.004393721, 0.005969006, 0.0076813432, 0.009200013, 0.01039071, 0.011472962, 0.012243583, 0.013103354, 0.0138674425, 0.014555888, 0.015081341, 0.015616341, 0.016283218, 0.01679267, 0.017337611, 0.017671013, 0.018081794, 0.018454518, 0.018922826, 0.019218443, 0.019596117, 0.019944897, 0.020156734, 0.02051019, 0.020724382, 0.020988211, 0.021208627, 0.021487392, 0.021844061, 0.022108808, 0.02235472, 0.022565033, 0.022751272, 0.022815613, 0.02310682, 0.023267958, 0.023352882, 0.02343605, 0.023634009, 0.023693088, 0.023829063, 0.023887051, 0.023958402, 0.02405753, 0.024158332, 0.024233012, 0.02432299, 0.024368078]\n",
      "[0.0008983224, 0.0012615022, 0.0014356242, 0.0016610869, 0.0015424886, 0.0018756969, 0.0021605229, 0.0024153558, 0.0026573595, 0.0028893168, 0.0030734332, 0.0032285536, 0.0033496628, 0.0035118046, 0.0036972712, 0.003836842, 0.0039508822, 0.0040131826, 0.0041056424, 0.004215556, 0.0043462906, 0.004435447, 0.004530186, 0.0046236794, 0.004665474, 0.0047809784, 0.0049920958, 0.0049333633, 0.0050518643, 0.0051204627, 0.0052128443, 0.00528616, 0.0053991685, 0.0054562413, 0.0054950137, 0.005579085, 0.005641922, 0.0056889025, 0.005724094, 0.005784664, 0.0058759865, 0.005902562, 0.00596014, 0.005994094, 0.006044802, 0.0061255237, 0.0061783283, 0.0062156087, 0.006278532, 0.006319931]\n",
      "[0.001068356, 0.0012687937, 0.0014132434, 0.001545955, 0.0017361487, 0.0018895625, 0.002011004, 0.0021192548, 0.002260082, 0.002367839, 0.0025032333, 0.0026930838, 0.0028130966, 0.0028926593, 0.00304949, 0.0022838232, 0.0032340456, 0.003354522, 0.0034541318, 0.0035887088, 0.0037304924, 0.0038834517, 0.0039785714, 0.0041676196, 0.004249848, 0.004408958, 0.0045422507, 0.004687528, 0.0048698806, 0.0050319196, 0.0037458364, 0.0038727138, 0.0040213903, 0.0041227476, 0.004221783, 0.0043937555, 0.0045183804, 0.0046414007, 0.0047304197, 0.004845691, 0.0049962285, 0.0050830254, 0.0052136863, 0.005342952, 0.005450592, 0.005598074, 0.005767607, 0.005884569, 0.006015202, 0.0061271074]\n",
      "[0.0016533535, 0.0021148568, 0.0031204016, 0.0046235905, 0.0065141954, 0.008727745, 0.011401492, 0.014197072, 0.017070176, 0.020086685, 0.023250137, 0.026351955, 0.0294864, 0.03253852, 0.035900448, 0.039031733, 0.042279724, 0.045052327, 0.048050825, 0.05126033, 0.054685093, 0.057847988, 0.06142535, 0.06474898, 0.0677828, 0.07112099, 0.07420723, 0.07749425, 0.08104117, 0.084264345, 0.08769469, 0.09098413, 0.09460008, 0.09790005, 0.10148182, 0.10461805, 0.10820796, 0.11156297, 0.114499405, 0.11796212, 0.121521756, 0.124565266, 0.12788162, 0.13146746, 0.1350181, 0.13875344, 0.14235586, 0.14570868, 0.14907531, 0.15234342]\n",
      "\n",
      "Var Changes Bias\n",
      "--------------------------------------\n",
      "[0.00074610556, 0.00047792762, 0.00041766488, 0.00037180865, 0.00079400185, 0.0007810816, 0.00039160927, 0.00040589413, 0.0003471747, 0.0009625242, 0.0009757229, 0.00039271545, 0.00062665297, 0.0008807685, 0.0006804317, 0.0004800465, 0.0007538125, 0.0008285567, 0.00086470507, 0.0004949942, 6.814115e-05, 4.0894374e-05, 1.6137958e-05, 0.00037568714, 0.00043281447, -0.00020908006, 0.0008277111, 0.00013781618, 0.00035861786, 0.00044844206, 0.00042918976, 0.00026544183, 0.0004545264, 0.0002558101, -0.00014613755, 0.0004585944, 0.00095939264, 0.0005202461, 0.0006498825, 0.00013247691, 0.00014561601, -5.9902668e-05, 0.00052745827, -1.13565475e-05, 0.00024100766, 3.683567e-05, 0.0005690865, 2.0783395e-05, 0.00020749494]\n",
      "[0.00017000831, 0.0003544178, 0.00034085417, 0.00096747454, 0.0006870737, 0.00057785725, 0.00040591066, 0.00036136783, 0.00033132313, 0.00016536424, 0.0005195774, 0.00033948664, 0.0004415959, 0.00049153576, 0.0002476978, 0.0001648129, 7.158099e-05, 0.0002613878, 4.61312e-05, 0.0002268157, 0.0002576937, 0.00022240728, 0.00012395717, 0.0001292983, 0.00019080285, 0.00022271834, 7.766858e-05, 4.0484592e-05, -0.000100560486, 0.0006015366, 0.00030424912, 9.832252e-05, -3.8184226e-06, 0.00020245463, -0.0003970405, 0.00033636112, 0.00012972299, 3.6868267e-05, 0.0001898231, 0.00010483246, 0.00012906361, 0.000100644305, 3.4557655e-05, -4.1880645e-05, 0.00017290283, 0.000101594254, 1.7199665e-05, 1.2686476e-05, -0.00017133169]\n",
      "[0.00017981417, 0.0005259023, 9.88699e-05, 9.842194e-05, 0.00023361854, 0.00032129558, 0.00016745622, 0.00038441154, 8.008396e-05, 0.00017994526, -0.00014338922, 9.103003e-05, 0.00012179022, 6.3814456e-05, 0.00012146239, 6.660796e-05, 5.362928e-05, 8.348515e-05, 9.196578e-06, 7.7944715e-06, 2.2726133e-05, 0.00013036933, 6.051408e-05, -1.45309605e-05, 8.36188e-06, 0.00051324745, -0.00035256683, 8.2614366e-05, -6.346335e-05, -3.7666643e-05, 7.02627e-05, 9.737909e-06, -4.7523296e-05, 2.3028115e-05, -1.2644567e-05, 4.7086272e-05, 6.602588e-05, -9.468361e-05, 8.746283e-05, -1.880899e-05, -3.55863e-05, 4.9249036e-05, 4.660641e-05, -1.9764993e-06, 0.00010261312, 0.00012683566, 5.294266e-05, -6.1878236e-05, -7.17286e-05]\n",
      "[0.00034743466, 0.00047308544, 0.0002890082, 0.00031464803, 0.00028656726, 0.00035948586, 0.00039121485, 0.00033159228, 0.00033962354, 0.00027951365, 0.00052454975, 0.00031670928, 0.00032520574, 0.00043431297, 2.2798311e-05, 0.00020774035, 0.00040531578, -1.4593825e-06, 0.0002910872, 0.00021842308, 5.8360398e-05, 0.00020866096, 0.00018316321, 0.00014138501, 0.00018213317, 0.0003250423, 5.747238e-05, 0.00019481126, 3.119372e-05, -0.00059569115, 5.5068638e-05, 0.00011922885, 0.0001375433, 9.8419376e-05, 0.00011630636, 0.00015414227, 0.000287286, 0.00020985864, 7.640477e-05, -0.00010391604, 7.5371005e-05, 0.00026556104, 0.0002675047, 0.00019496586, 0.00015731715, 0.0003311755, -4.0140934e-05, 0.00029660016, 0.00014490541]\n",
      "[0.0025996265, 0.0031776666, 0.0012043244, 0.0007275557, 0.0006403858, 0.0008000992, 0.00080310926, 0.0010737106, 0.00097643305, 0.0010804133, 0.00072142854, 0.00070961285, 0.0007197214, 0.0007153023, 0.000748422, 0.0008151345, 0.00037477165, 0.00031964108, 0.00014957413, 0.00017747656, 0.00034934282, 0.00043287873, 0.00016452745, 0.00020569749, 0.00055201165, 0.00026631728, 0.0005248245, 0.0003757514, 0.000121487305, 0.00019090623, 0.00033777952, 0.00029505044, -8.492172e-05, 0.00051315874, 1.4062971e-06, 3.418699e-05, 0.0006842725, 0.00037695095, 0.00041536242, 0.00038089044, 0.00030279532, 0.00033868104, 4.212372e-05, 0.00033127703, 0.00041536242, 0.0005154293, 0.00036638044, 0.00071075186, 0.0005429033]\n",
      "\n",
      "Now Check the graph\n",
      "\n"
     ]
    },
    {
     "data": {
      "image/png": "[encoded data removed]",
      "text/plain": [
       "<Figure size 360x216 with 1 Axes>"
      ]
     },
     "metadata": {
      "needs_background": "light"
     },
     "output_type": "display_data"
    },
    {
     "data": {
      "image/png": "[encoded data removed]",
      "text/plain": [
       "<Figure size 360x216 with 1 Axes>"
      ]
     },
     "metadata": {
      "needs_background": "light"
     },
     "output_type": "display_data"
    },
    {
     "data": {
      "image/png": "[encoded data removed]",
      "text/plain": [
       "<Figure size 360x216 with 1 Axes>"
      ]
     },
     "metadata": {
      "needs_background": "light"
     },
     "output_type": "display_data"
    },
    {
     "data": {
      "image/png": "[encoded data removed]",
      "text/plain": [
       "<Figure size 360x216 with 1 Axes>"
      ]
     },
     "metadata": {
      "needs_background": "light"
     },
     "output_type": "display_data"
    }
   ],
   "source": [
    "var_changes_L0_w, var_changes_L2_w, var_changes_L4_w, var_changes_L6_w, var_changes_L7_w = [], [], [], [], [] \n",
    "var_accumulate_L0_w, var_accumulate_L2_w, var_accumulate_L4_w, var_accumulate_L6_w, var_accumulate_L7_w = [], [], [], [], [] \n",
    "\n",
    "var_changes_L0_b, var_changes_L2_b, var_changes_L4_b, var_changes_L6_b, var_changes_L7_b = [], [], [], [], [] \n",
    "var_accumulate_L0_b, var_accumulate_L2_b, var_accumulate_L4_b, var_accumulate_L6_b, var_accumulate_L7_b = [], [], [], [], [] \n",
    "\n",
    "\n",
    "for global_epoch in range(G_epoch-1):\n",
    "    for layer_index in num_layers_list:\n",
    "        sumss_w, sumss_b = 0, 0\n",
    "        for sks in range(globals()['G{}_num_clusters_in_layer{}_w'.format(global_epoch, layer_index)]):\n",
    "            sumss_w = sumss_w + globals()['G{}_c{}_w_layer{}'.format(global_epoch, sks, layer_index)][0] \n",
    "            sumss_b = sumss_b + globals()['G{}_c{}_w_layer{}'.format(global_epoch, sks, layer_index)][1]\n",
    "\n",
    "        sumss_w = sumss_w/globals()['G{}_num_clusters_in_layer{}_w'.format(global_epoch, layer_index)]\n",
    "        sumss_b = sumss_b/globals()['G{}_num_clusters_in_layer{}_w'.format(global_epoch, layer_index)]\n",
    "\n",
    "        globals()['var_accumulate_L{}_w'.format(layer_index)].append(np.var( sumss_w ))\n",
    "        \n",
    "        globals()['var_accumulate_L{}_b'.format(layer_index)].append(np.var( sumss_b ))\n",
    "        \n",
    "        \n",
    "\n",
    "for layer_index in num_layers_list:\n",
    "    for tmp_int in range(len(globals()['var_accumulate_L{}_w'.format(layer_index)])-1):\n",
    "        minus_w = globals()['var_accumulate_L{}_w'.format(layer_index)][tmp_int + 1] - globals()['var_accumulate_L{}_w'.format(layer_index)][tmp_int]\n",
    "        minus_b = globals()['var_accumulate_L{}_b'.format(layer_index)][tmp_int + 1] - globals()['var_accumulate_L{}_b'.format(layer_index)][tmp_int]        \n",
    "        globals()['var_changes_L{}_w'.format(layer_index)].append( minus_w )\n",
    "        globals()['var_changes_L{}_b'.format(layer_index)].append( minus_b )\n",
    "        \n",
    "\n",
    "print(\"Variance Accumulate Layer 0,2,4,6,7\\n--------------------------------------------------------------------------------------------------\\n\")\n",
    "\n",
    "print(\"\\nVar Accumulate Weight\\n--------------------------------------\")\n",
    "for j in num_layers_list:\n",
    "    print(globals()['var_accumulate_L{}_w'.format(j)])\n",
    "\n",
    "print(\"\\nVar Accumulate Bias\\n--------------------------------------\")\n",
    "for j in num_layers_list:\n",
    "    print(globals()['var_accumulate_L{}_b'.format(j)])\n",
    "\n",
    "print(\"\\n\\nVariance Change Layer 0,2,4,6,7\\n--------------------------------------------------------------------------------------------------\\n\")\n",
    "\n",
    "print(\"\\nVar Changes Weight\\n--------------------------------------\")\n",
    "for j in num_layers_list:\n",
    "    print(globals()['var_accumulate_L{}_w'.format(j)])\n",
    "\n",
    "print(\"\\nVar Changes Bias\\n--------------------------------------\")\n",
    "for j in num_layers_list:\n",
    "    print(globals()['var_changes_L{}_b'.format(j)])\n",
    "\n",
    "\n",
    "\n",
    "print(\"\\nNow Check the graph\\n\")\n",
    "\n",
    "plt.figure(figsize=(5,3))\n",
    "for j in num_layers_list:\n",
    "    plt.plot(globals()['var_accumulate_L{}_w'.format(j)])\n",
    "\n",
    "plt.figure(figsize=(5,3))\n",
    "for j in num_layers_list:\n",
    "    plt.plot(globals()['var_accumulate_L{}_b'.format(j)])\n",
    "\n",
    "plt.figure(figsize=(5,3))\n",
    "for j in num_layers_list:\n",
    "    plt.plot(globals()['var_changes_L{}_b'.format(j)])\n",
    "\n",
    "plt.figure(figsize=(5,3))\n",
    "for j in num_layers_list:\n",
    "    plt.plot(globals()['var_changes_L{}_b'.format(j)])\n"
   ]
  },
  {
   "cell_type": "code",
   "execution_count": null,
   "metadata": {
    "id": "PhcQRPgvMwlT"
   },
   "outputs": [],
   "source": []
  },
  {
   "cell_type": "code",
   "execution_count": 13,
   "metadata": {
    "colab": {
     "base_uri": "https://localhost:8080/",
     "height": 442
    },
    "executionInfo": {
     "elapsed": 6,
     "status": "ok",
     "timestamp": 1627663393501,
     "user": {
      "displayName": "이훈민",
      "photoUrl": "",
      "userId": "00157268181097362793"
     },
     "user_tz": 240
    },
    "id": "3Z0FOMEdHTVi",
    "outputId": "514d47d9-13cb-493b-e1e0-9267c208a77c"
   },
   "outputs": [
    {
     "name": "stdout",
     "output_type": "stream",
     "text": [
      "Distance Layer 0,2,4,6,7\n",
      "--------------------------------------------------------------------------------------------------\n",
      "[0.06204662, 0.0871028, 0.10314904, 0.109260954, 0.114722915, 0.12288327, 0.13259208, 0.14181432, 0.1493923, 0.15488708, 0.16170096, 0.16813111, 0.17415436, 0.17993562, 0.18677852, 0.19139473, 0.19467752, 0.19909248, 0.20418511, 0.20801872, 0.20975482, 0.21077792, 0.21308972, 0.21441746, 0.2164579, 0.21926358, 0.22044557, 0.22338253, 0.22507882, 0.22662562, 0.22846855, 0.229253, 0.23143186, 0.23296897, 0.23409261, 0.23300369, 0.23471938, 0.23785475, 0.23982194, 0.24228324, 0.24355562, 0.24451979, 0.24513388, 0.2470746, 0.24718025, 0.24805695, 0.24882957, 0.24967521, 0.2498516, 0.25012845]\n",
      "[0.036773108, 0.047193658, 0.05969216, 0.06731823, 0.078117035, 0.08612602, 0.092576794, 0.097843796, 0.10163482, 0.105715305, 0.10883602, 0.112815194, 0.11549845, 0.118374385, 0.12141301, 0.12380278, 0.12570429, 0.12691912, 0.12901118, 0.12994249, 0.13200194, 0.1335395, 0.13501139, 0.13621658, 0.13702713, 0.13850366, 0.13975416, 0.14047645, 0.14115685, 0.14132775, 0.1438135, 0.14523487, 0.14620623, 0.14685002, 0.14785402, 0.1469855, 0.14868271, 0.14949307, 0.14973247, 0.15061153, 0.15155742, 0.15228434, 0.15289882, 0.15312907, 0.15322897, 0.15415482, 0.15452838, 0.15467201, 0.15494508, 0.1545039]\n",
      "[0.029070841, 0.03775688, 0.055108834, 0.06308505, 0.07216081, 0.07924588, 0.08449786, 0.08674726, 0.09002623, 0.091720715, 0.09356289, 0.09343597, 0.09449719, 0.095293514, 0.09660736, 0.09685353, 0.09815998, 0.09890318, 0.09969169, 0.09977354, 0.100471914, 0.10071734, 0.1016485, 0.10262656, 0.10308494, 0.10319355, 0.1066843, 0.1047152, 0.10493039, 0.104437195, 0.10468552, 0.10480396, 0.104962915, 0.10515223, 0.104818776, 0.10464767, 0.10465521, 0.10482445, 0.10474052, 0.10498628, 0.10477909, 0.10417304, 0.1042653, 0.1040972, 0.10411663, 0.104900636, 0.10483989, 0.10505011, 0.10484195, 0.10451176]\n",
      "[0.030459374, 0.037467606, 0.04429869, 0.047953546, 0.05145212, 0.055371895, 0.05889974, 0.062232275, 0.065304205, 0.06770273, 0.070342846, 0.07381642, 0.07576268, 0.0777652, 0.07970952, 0.077692784, 0.081199706, 0.08343322, 0.08357584, 0.08555735, 0.08712582, 0.08801738, 0.08854884, 0.090283036, 0.09117618, 0.09241361, 0.09330234, 0.09385034, 0.09545732, 0.0963327, 0.08998254, 0.09072465, 0.091653556, 0.092557, 0.09350984, 0.09451061, 0.09563075, 0.09715122, 0.09864578, 0.09963531, 0.09973846, 0.10056482, 0.102438994, 0.10438224, 0.10581744, 0.1069917, 0.10908118, 0.10991932, 0.11202404, 0.113638334]\n",
      "[0.040950425, 0.06868633, 0.09293322, 0.10428363, 0.11446047, 0.12483795, 0.13653181, 0.14734897, 0.15873133, 0.16958864, 0.17998937, 0.18986964, 0.1984463, 0.20729378, 0.21627478, 0.22498588, 0.23337927, 0.23985474, 0.24675027, 0.25326237, 0.2600817, 0.26649106, 0.2734955, 0.27957392, 0.2848817, 0.2912677, 0.29670748, 0.3026817, 0.30834636, 0.3135205, 0.3187216, 0.3240269, 0.3295595, 0.3340128, 0.33962184, 0.34379372, 0.34849796, 0.3540498, 0.35864195, 0.36378497, 0.36888784, 0.37314695, 0.37791935, 0.38247123, 0.38740999, 0.39269334, 0.39782757, 0.402594, 0.4077394, 0.41259736] \n",
      "\n",
      "Check the graph\n",
      "\n"
     ]
    },
    {
     "data": {
      "image/png": "[encoded data removed]",
      "text/plain": [
       "<Figure size 432x288 with 1 Axes>"
      ]
     },
     "metadata": {
      "needs_background": "light"
     },
     "output_type": "display_data"
    }
   ],
   "source": [
    "from scipy.spatial import distance\n",
    "\n",
    "dist_0, dist_2, dist_4, dist_6, dist_7  = [], [], [], [], []\n",
    "\n",
    "for global_epoch in range(G_epoch): #1이 맞음 = 바꾸지 말기\n",
    "    for layer_index in num_layers_list:\n",
    "        globals()['G{}_w_layer{}'.format(global_epoch, layer_index)] = 0    \n",
    "\n",
    "\n",
    "for global_epoch in range(G_epoch-1):    #2가 맞음 = 바꾸지 말기\n",
    "    for layer_index in num_layers_list:\n",
    "        var_w = 0\n",
    "        for sks in range(globals()['G{}_num_clusters_in_layer{}_w'.format(global_epoch, layer_index)]):\n",
    "            var_w = var_w + globals()['G{}_c{}_w_layer{}'.format(global_epoch, sks, layer_index)]\n",
    "\n",
    "        var_w = var_w/globals()['G{}_num_clusters_in_layer{}_w'.format(global_epoch, layer_index)]\n",
    "\n",
    "        globals()['G{}_w_layer{}'.format(global_epoch, layer_index)] = var_w\n",
    "        globals()['dist_{}'.format(layer_index)].append(np.mean(distance.euclidean(globals()['G{}_w_layer{}'.format(global_epoch, layer_index)], globals()['G{}_w_layer{}'.format(global_epoch+1, layer_index)])))\n",
    "\n",
    "print(\"Distance Layer 0,2,4,6,7\\n--------------------------------------------------------------------------------------------------\")\n",
    "print(dist_0)\n",
    "print(dist_2)\n",
    "print(dist_4)\n",
    "print(dist_6)\n",
    "print(dist_7, \"\\n\\nCheck the graph\\n\")\n",
    "\n",
    "plt.plot(dist_0)\n",
    "plt.plot(dist_2)\n",
    "plt.plot(dist_4)\n",
    "plt.plot(dist_6)\n",
    "plt.plot(dist_7)\n",
    "\n",
    "plt.show()"
   ]
  },
  {
   "cell_type": "code",
   "execution_count": 14,
   "metadata": {
    "colab": {
     "base_uri": "https://localhost:8080/",
     "height": 483
    },
    "executionInfo": {
     "elapsed": 281,
     "status": "ok",
     "timestamp": 1627663393778,
     "user": {
      "displayName": "이훈민",
      "photoUrl": "",
      "userId": "00157268181097362793"
     },
     "user_tz": 240
    },
    "id": "4vSuPXEKhOVJ",
    "outputId": "63be1f9c-a0aa-4a2d-e582-008d021662f2"
   },
   "outputs": [
    {
     "name": "stdout",
     "output_type": "stream",
     "text": [
      "[[0.825630247592926, 0.8088235259056091, 0.8235294222831726, 0.8235294222831726, 0.7983193397521973, 0.7983193397521973, 0.7899159789085388, 0.819327712059021, 0.8277310729026794, 0.8445377945899963, 0.8214285969734192, 0.756302535533905, 0.8046218752861023, 0.8382353186607361, 0.8361344337463379, 0.7941176295280457, 0.8151260614395142, 0.8004201650619507, 0.8172268867492676, 0.8172268867492676], [0.75, 0.7415966391563416, 0.7079831957817078, 0.7415966391563416, 0.7415966391563416, 0.6386554837226868, 0.6785714030265808, 0.7478991746902466, 0.825630247592926, 0.7710084319114685, 0.720588207244873, 0.7163865566253662, 0.6575630307197571, 0.680672287940979, 0.7142857313156128, 0.7079831957817078, 0.6533613204956055, 0.6932772994041443, 0.7331932783126831, 0.6890756487846375], [0.7815126180648804, 0.7542017102241516, 0.7815126180648804, 0.779411792755127, 0.7626050710678101, 0.7584033608436584, 0.7941176295280457, 0.7163865566253662, 0.7584033608436584, 0.7584033608436584, 0.7920168042182922, 0.7457982897758484, 0.7478991746902466, 0.7373949289321899, 0.7394958138465881, 0.7731092572212219, 0.7226890921592712, 0.7689075469970703, 0.7857142686843872, 0.7689075469970703], [0.7773109078407288, 0.7226890921592712, 0.7584033608436584, 0.8046218752861023, 0.8004201650619507, 0.7962185144424438, 0.7710084319114685, 0.743697464466095, 0.779411792755127, 0.7626050710678101, 0.7815126180648804, 0.7773109078407288, 0.7710084319114685, 0.7857142686843872, 0.8004201650619507, 0.7710084319114685, 0.8235294222831726, 0.7731092572212219, 0.7878151535987854, 0.7731092572212219], [0.7899159789085388, 0.7878151535987854, 0.8046218752861023, 0.8172268867492676, 0.8109243512153625, 0.7668067216873169, 0.7899159789085388, 0.825630247592926, 0.8004201650619507, 0.8067227005958557, 0.8004201650619507, 0.7920168042182922, 0.7899159789085388, 0.8151260614395142, 0.7899159789085388, 0.7773109078407288, 0.8151260614395142, 0.7815126180648804, 0.7752100825309753, 0.7857142686843872], [0.7815126180648804, 0.7689075469970703, 0.8361344337463379, 0.8130252361297607, 0.7710084319114685, 0.8067227005958557, 0.7899159789085388, 0.8151260614395142, 0.819327712059021, 0.7857142686843872, 0.8130252361297607, 0.819327712059021, 0.8046218752861023, 0.7920168042182922, 0.7815126180648804, 0.819327712059021, 0.8340336084365845, 0.7647058963775635, 0.7815126180648804, 0.8151260614395142], [0.819327712059021, 0.8235294222831726, 0.819327712059021, 0.8298319578170776, 0.7983193397521973, 0.8235294222831726, 0.8046218752861023, 0.8151260614395142, 0.8130252361297607, 0.7836134433746338, 0.8046218752861023, 0.825630247592926, 0.7878151535987854, 0.7815126180648804, 0.8172268867492676, 0.7752100825309753, 0.8088235259056091, 0.8403361439704895, 0.819327712059021, 0.8109243512153625], [0.8235294222831726, 0.8046218752861023, 0.8445377945899963, 0.831932783126831, 0.8592436909675598, 0.8088235259056091, 0.8340336084365845, 0.8802521228790283, 0.8046218752861023, 0.8382353186607361, 0.7920168042182922, 0.8214285969734192, 0.8067227005958557, 0.8109243512153625, 0.819327712059021, 0.8067227005958557, 0.8088235259056091, 0.8424369692802429, 0.819327712059021, 0.7941176295280457], [0.819327712059021, 0.8298319578170776, 0.8277310729026794, 0.8445377945899963, 0.8067227005958557, 0.8298319578170776, 0.8214285969734192, 0.8466386795043945, 0.8382353186607361, 0.8529411554336548, 0.8046218752861023, 0.8403361439704895, 0.8382353186607361, 0.8361344337463379, 0.8445377945899963, 0.7962185144424438, 0.8298319578170776, 0.831932783126831, 0.8382353186607361, 0.848739504814148], [0.8403361439704895, 0.831932783126831, 0.8298319578170776, 0.8508403301239014, 0.8508403301239014, 0.8403361439704895, 0.831932783126831, 0.8214285969734192, 0.8088235259056091, 0.8529411554336548, 0.831932783126831, 0.825630247592926, 0.8046218752861023, 0.8424369692802429, 0.8109243512153625, 0.8634454011917114, 0.848739504814148, 0.8277310729026794, 0.8151260614395142, 0.7773109078407288], [0.8403361439704895, 0.8340336084365845, 0.8130252361297607, 0.8445377945899963, 0.8571428656578064, 0.8403361439704895, 0.8508403301239014, 0.8592436909675598, 0.7878151535987854, 0.8613445162773132, 0.8445377945899963, 0.7941176295280457, 0.8529411554336548, 0.8298319578170776, 0.8235294222831726, 0.8130252361297607, 0.8235294222831726, 0.8697478771209717, 0.8340336084365845, 0.8508403301239014], [0.8340336084365845, 0.8634454011917114, 0.8592436909675598, 0.855042040348053, 0.8361344337463379, 0.8529411554336548, 0.848739504814148, 0.8571428656578064, 0.8109243512153625, 0.825630247592926, 0.8571428656578064, 0.8277310729026794, 0.855042040348053, 0.8592436909675598, 0.831932783126831, 0.8088235259056091, 0.848739504814148, 0.8655462265014648, 0.855042040348053, 0.8235294222831726], [0.8382353186607361, 0.8508403301239014, 0.848739504814148, 0.8508403301239014, 0.8382353186607361, 0.8445377945899963, 0.8613445162773132, 0.8403361439704895, 0.8403361439704895, 0.8508403301239014, 0.8445377945899963, 0.8802521228790283, 0.8676470518112183, 0.8445377945899963, 0.855042040348053, 0.8109243512153625, 0.848739504814148, 0.8340336084365845, 0.8214285969734192, 0.8382353186607361], [0.8445377945899963, 0.8529411554336548, 0.894957959651947, 0.8613445162773132, 0.8676470518112183, 0.8613445162773132, 0.8466386795043945, 0.825630247592926, 0.8613445162773132, 0.8382353186607361, 0.8655462265014648, 0.8655462265014648, 0.855042040348053, 0.8403361439704895, 0.8424369692802429, 0.8802521228790283, 0.8340336084365845, 0.8718487620353699, 0.8277310729026794, 0.8718487620353699], [0.8277310729026794, 0.8655462265014648, 0.848739504814148, 0.825630247592926, 0.848739504814148, 0.8592436909675598, 0.8172268867492676, 0.8340336084365845, 0.8298319578170776, 0.8634454011917114, 0.8403361439704895, 0.8508403301239014, 0.8760504126548767, 0.8634454011917114, 0.8634454011917114, 0.7920168042182922, 0.8151260614395142, 0.8529411554336548, 0.8634454011917114, 0.831932783126831], [0.8655462265014648, 0.8445377945899963, 0.8592436909675598, 0.848739504814148, 0.8718487620353699, 0.8697478771209717, 0.8571428656578064, 0.8508403301239014, 0.8403361439704895, 0.8781512379646301, 0.8592436909675598, 0.8655462265014648, 0.8466386795043945, 0.8151260614395142, 0.8403361439704895, 0.8655462265014648, 0.8466386795043945, 0.8739495873451233, 0.8571428656578064, 0.8508403301239014], [0.8508403301239014, 0.8382353186607361, 0.8655462265014648, 0.8718487620353699, 0.8697478771209717, 0.8571428656578064, 0.8655462265014648, 0.855042040348053, 0.8403361439704895, 0.8172268867492676, 0.8361344337463379, 0.8445377945899963, 0.8802521228790283, 0.819327712059021, 0.831932783126831, 0.855042040348053, 0.8382353186607361, 0.8424369692802429, 0.8571428656578064, 0.8529411554336548], [0.8361344337463379, 0.848739504814148, 0.8697478771209717, 0.8382353186607361, 0.8466386795043945, 0.8634454011917114, 0.8634454011917114, 0.8424369692802429, 0.855042040348053, 0.8760504126548767, 0.8403361439704895, 0.848739504814148, 0.8718487620353699, 0.8655462265014648, 0.8214285969734192, 0.8739495873451233, 0.8676470518112183, 0.855042040348053, 0.8655462265014648, 0.8592436909675598], [0.8466386795043945, 0.8508403301239014, 0.8214285969734192, 0.8424369692802429, 0.8214285969734192, 0.855042040348053, 0.8445377945899963, 0.8340336084365845, 0.8466386795043945, 0.825630247592926, 0.8466386795043945, 0.8529411554336548, 0.8823529481887817, 0.848739504814148, 0.8508403301239014, 0.8739495873451233, 0.8067227005958557, 0.8718487620353699, 0.8340336084365845, 0.8697478771209717], [0.8655462265014648, 0.8676470518112183, 0.848739504814148, 0.8508403301239014, 0.8823529481887817, 0.8445377945899963, 0.8424369692802429, 0.8592436909675598, 0.8508403301239014, 0.8445377945899963, 0.8592436909675598, 0.8718487620353699, 0.8676470518112183, 0.8655462265014648, 0.8760504126548767, 0.8340336084365845, 0.8592436909675598, 0.8928571343421936, 0.8445377945899963, 0.8592436909675598], [0.855042040348053, 0.8781512379646301, 0.8613445162773132, 0.8424369692802429, 0.8697478771209717, 0.8655462265014648, 0.8739495873451233, 0.8802521228790283, 0.8361344337463379, 0.8592436909675598, 0.8571428656578064, 0.819327712059021, 0.8970588445663452, 0.855042040348053, 0.8571428656578064, 0.8781512379646301, 0.8382353186607361, 0.848739504814148, 0.8760504126548767, 0.8760504126548767], [0.8445377945899963, 0.8571428656578064, 0.8508403301239014, 0.8445377945899963, 0.8508403301239014, 0.8802521228790283, 0.8403361439704895, 0.8676470518112183, 0.8592436909675598, 0.8655462265014648, 0.8760504126548767, 0.8823529481887817, 0.8634454011917114, 0.8697478771209717, 0.8676470518112183, 0.8655462265014648, 0.8760504126548767, 0.8760504126548767, 0.8403361439704895, 0.8781512379646301], [0.8697478771209717, 0.8403361439704895, 0.855042040348053, 0.8508403301239014, 0.8382353186607361, 0.8403361439704895, 0.8760504126548767, 0.8508403301239014, 0.8634454011917114, 0.8613445162773132, 0.8424369692802429, 0.8340336084365845, 0.8613445162773132, 0.8718487620353699, 0.8403361439704895, 0.8760504126548767, 0.8529411554336548, 0.8823529481887817, 0.8592436909675598, 0.8655462265014648], [0.8508403301239014, 0.8655462265014648, 0.848739504814148, 0.8361344337463379, 0.8739495873451233, 0.8634454011917114, 0.8802521228790283, 0.855042040348053, 0.8634454011917114, 0.831932783126831, 0.8760504126548767, 0.8655462265014648, 0.8697478771209717, 0.8445377945899963, 0.8382353186607361, 0.8781512379646301, 0.8655462265014648, 0.848739504814148, 0.8529411554336548, 0.8382353186607361], [0.8697478771209717, 0.8466386795043945, 0.8760504126548767, 0.8613445162773132, 0.8781512379646301, 0.8760504126548767, 0.8529411554336548, 0.8886554837226868, 0.8529411554336548, 0.8424369692802429, 0.8865545988082886, 0.8739495873451233, 0.9117646813392639, 0.8634454011917114, 0.8424369692802429, 0.8466386795043945, 0.855042040348053, 0.8508403301239014, 0.8382353186607361, 0.8802521228790283], [0.8844537734985352, 0.8592436909675598, 0.8823529481887817, 0.894957959651947, 0.8655462265014648, 0.8424369692802429, 0.8886554837226868, 0.8718487620353699, 0.8634454011917114, 0.8571428656578064, 0.855042040348053, 0.8781512379646301, 0.8676470518112183, 0.8760504126548767, 0.8613445162773132, 0.9054622054100037, 0.8592436909675598, 0.8886554837226868, 0.848739504814148, 0.8907563090324402], [0.8529411554336548, 0.8655462265014648, 0.848739504814148, 0.8697478771209717, 0.8445377945899963, 0.848739504814148, 0.8571428656578064, 0.8298319578170776, 0.8151260614395142, 0.8760504126548767, 0.8571428656578064, 0.8466386795043945, 0.8739495873451233, 0.8592436909675598, 0.8697478771209717, 0.8823529481887817, 0.8613445162773132, 0.8718487620353699, 0.8403361439704895, 0.8655462265014648], [0.894957959651947, 0.8760504126548767, 0.8655462265014648, 0.8634454011917114, 0.8466386795043945, 0.8970588445663452, 0.8718487620353699, 0.8445377945899963, 0.8655462265014648, 0.8676470518112183, 0.8886554837226868, 0.8802521228790283, 0.8613445162773132, 0.8634454011917114, 0.8676470518112183, 0.8760504126548767, 0.8697478771209717, 0.8760504126548767, 0.8739495873451233, 0.855042040348053], [0.855042040348053, 0.8403361439704895, 0.8613445162773132, 0.8676470518112183, 0.855042040348053, 0.8340336084365845, 0.8718487620353699, 0.8571428656578064, 0.8466386795043945, 0.8613445162773132, 0.8466386795043945, 0.8844537734985352, 0.8613445162773132, 0.8634454011917114, 0.8823529481887817, 0.8676470518112183, 0.8697478771209717, 0.855042040348053, 0.8886554837226868, 0.8718487620353699], [0.8697478771209717, 0.8655462265014648, 0.848739504814148, 0.8613445162773132, 0.8865545988082886, 0.848739504814148, 0.8529411554336548, 0.831932783126831, 0.8340336084365845, 0.8571428656578064, 0.8739495873451233, 0.8865545988082886, 0.8697478771209717, 0.8634454011917114, 0.8718487620353699, 0.8718487620353699, 0.8424369692802429, 0.8508403301239014, 0.8676470518112183, 0.8592436909675598], [0.8634454011917114, 0.8676470518112183, 0.8970588445663452, 0.8886554837226868, 0.8760504126548767, 0.8760504126548767, 0.8529411554336548, 0.8529411554336548, 0.8676470518112183, 0.8928571343421936, 0.8508403301239014, 0.8823529481887817, 0.8361344337463379, 0.8865545988082886, 0.8907563090324402, 0.848739504814148, 0.8613445162773132, 0.8655462265014648, 0.8403361439704895, 0.8781512379646301], [0.8235294222831726, 0.8655462265014648, 0.8676470518112183, 0.8676470518112183, 0.8865545988082886, 0.894957959651947, 0.8718487620353699, 0.8802521228790283, 0.8445377945899963, 0.894957959651947, 0.855042040348053, 0.8634454011917114, 0.8718487620353699, 0.8739495873451233, 0.8886554837226868, 0.8676470518112183, 0.8802521228790283, 0.8844537734985352, 0.8823529481887817, 0.8697478771209717], [0.8844537734985352, 0.8718487620353699, 0.8592436909675598, 0.8634454011917114, 0.8214285969734192, 0.8655462265014648, 0.8781512379646301, 0.8739495873451233, 0.8571428656578064, 0.8991596698760986, 0.8718487620353699, 0.8886554837226868, 0.8739495873451233, 0.8634454011917114, 0.8970588445663452, 0.8844537734985352, 0.8823529481887817, 0.8718487620353699, 0.8571428656578064, 0.8613445162773132], [0.8823529481887817, 0.8718487620353699, 0.8823529481887817, 0.8760504126548767, 0.8592436909675598, 0.8697478771209717, 0.8697478771209717, 0.8760504126548767, 0.848739504814148, 0.8865545988082886, 0.8529411554336548, 0.8781512379646301, 0.894957959651947, 0.8697478771209717, 0.894957959651947, 0.8655462265014648, 0.848739504814148, 0.9033613204956055, 0.8760504126548767, 0.9033613204956055], [0.855042040348053, 0.8634454011917114, 0.8823529481887817, 0.8571428656578064, 0.8445377945899963, 0.8571428656578064, 0.8676470518112183, 0.855042040348053, 0.8403361439704895, 0.8697478771209717, 0.8928571343421936, 0.8781512379646301, 0.8634454011917114, 0.8529411554336548, 0.8424369692802429, 0.8823529481887817, 0.831932783126831, 0.8718487620353699, 0.8886554837226868, 0.8928571343421936], [0.8529411554336548, 0.8865545988082886, 0.8697478771209717, 0.8529411554336548, 0.8676470518112183, 0.8718487620353699, 0.8655462265014648, 0.8298319578170776, 0.8676470518112183, 0.8508403301239014, 0.8655462265014648, 0.8697478771209717, 0.8781512379646301, 0.8655462265014648, 0.855042040348053, 0.8823529481887817, 0.8613445162773132, 0.8676470518112183, 0.8529411554336548, 0.8298319578170776], [0.8718487620353699, 0.8739495873451233, 0.8571428656578064, 0.8865545988082886, 0.8718487620353699, 0.8445377945899963, 0.8886554837226868, 0.8739495873451233, 0.8592436909675598, 0.8739495873451233, 0.8466386795043945, 0.8424369692802429, 0.8907563090324402, 0.8403361439704895, 0.8760504126548767, 0.8592436909675598, 0.9033613204956055, 0.8655462265014648, 0.8823529481887817, 0.8655462265014648], [0.8655462265014648, 0.8655462265014648, 0.8907563090324402, 0.855042040348053, 0.8802521228790283, 0.8928571343421936, 0.8844537734985352, 0.8802521228790283, 0.8445377945899963, 0.8655462265014648, 0.831932783126831, 0.894957959651947, 0.8718487620353699, 0.8613445162773132, 0.8613445162773132, 0.8844537734985352, 0.8655462265014648, 0.8676470518112183, 0.8760504126548767, 0.9033613204956055], [0.8718487620353699, 0.8802521228790283, 0.8802521228790283, 0.8697478771209717, 0.8466386795043945, 0.8718487620353699, 0.8886554837226868, 0.855042040348053, 0.8466386795043945, 0.8613445162773132, 0.8760504126548767, 0.894957959651947, 0.8907563090324402, 0.8886554837226868, 0.8823529481887817, 0.8655462265014648, 0.8697478771209717, 0.8760504126548767, 0.894957959651947, 0.8592436909675598], [0.8718487620353699, 0.8634454011917114, 0.8718487620353699, 0.8718487620353699, 0.855042040348053, 0.8235294222831726, 0.8802521228790283, 0.8277310729026794, 0.8760504126548767, 0.8697478771209717, 0.8634454011917114, 0.8865545988082886, 0.8676470518112183, 0.8907563090324402, 0.8760504126548767, 0.8676470518112183, 0.8781512379646301, 0.8592436909675598, 0.8991596698760986, 0.8424369692802429], [0.8718487620353699, 0.8823529481887817, 0.8655462265014648, 0.8529411554336548, 0.8634454011917114, 0.901260495185852, 0.8592436909675598, 0.8592436909675598, 0.8613445162773132, 0.8781512379646301, 0.8634454011917114, 0.8445377945899963, 0.8676470518112183, 0.8907563090324402, 0.8781512379646301, 0.8718487620353699, 0.8760504126548767, 0.8466386795043945, 0.8655462265014648, 0.8634454011917114], [0.894957959651947, 0.8739495873451233, 0.8760504126548767, 0.8781512379646301, 0.8802521228790283, 0.8613445162773132, 0.8676470518112183, 0.8718487620353699, 0.8424369692802429, 0.8865545988082886, 0.8739495873451233, 0.8928571343421936, 0.8634454011917114, 0.894957959651947, 0.8613445162773132, 0.8697478771209717, 0.8970588445663452, 0.8928571343421936, 0.8781512379646301, 0.8865545988082886], [0.8697478771209717, 0.8802521228790283, 0.8613445162773132, 0.8361344337463379, 0.8592436909675598, 0.8718487620353699, 0.8928571343421936, 0.8592436909675598, 0.8529411554336548, 0.8823529481887817, 0.8676470518112183, 0.8613445162773132, 0.8697478771209717, 0.8844537734985352, 0.8781512379646301, 0.8592436909675598, 0.8655462265014648, 0.8991596698760986, 0.8655462265014648, 0.8907563090324402], [0.8466386795043945, 0.8844537734985352, 0.8676470518112183, 0.8613445162773132, 0.8991596698760986, 0.8655462265014648, 0.8739495873451233, 0.831932783126831, 0.8592436909675598, 0.8991596698760986, 0.8613445162773132, 0.8739495873451233, 0.8760504126548767, 0.8613445162773132, 0.8907563090324402, 0.8886554837226868, 0.8676470518112183, 0.855042040348053, 0.8676470518112183, 0.8529411554336548], [0.9096638560295105, 0.8424369692802429, 0.8697478771209717, 0.8802521228790283, 0.8802521228790283, 0.8823529481887817, 0.8928571343421936, 0.8865545988082886, 0.8655462265014648, 0.8970588445663452, 0.8907563090324402, 0.8802521228790283, 0.8718487620353699, 0.848739504814148, 0.8739495873451233, 0.8844537734985352, 0.8655462265014648, 0.8760504126548767, 0.8844537734985352, 0.8739495873451233], [0.8571428656578064, 0.9096638560295105, 0.8844537734985352, 0.8592436909675598, 0.8676470518112183, 0.8739495873451233, 0.8781512379646301, 0.8655462265014648, 0.8592436909675598, 0.8907563090324402, 0.8529411554336548, 0.8718487620353699, 0.8844537734985352, 0.8865545988082886, 0.8445377945899963, 0.8592436909675598, 0.9054622054100037, 0.8928571343421936, 0.8592436909675598, 0.8907563090324402], [0.8592436909675598, 0.8718487620353699, 0.8844537734985352, 0.8760504126548767, 0.8697478771209717, 0.8655462265014648, 0.8718487620353699, 0.8760504126548767, 0.8676470518112183, 0.8781512379646301, 0.8760504126548767, 0.8718487620353699, 0.8697478771209717, 0.8718487620353699, 0.8991596698760986, 0.8508403301239014, 0.8718487620353699, 0.8844537734985352, 0.8361344337463379, 0.8592436909675598], [0.8907563090324402, 0.8781512379646301, 0.8655462265014648, 0.8928571343421936, 0.8760504126548767, 0.8571428656578064, 0.8676470518112183, 0.8697478771209717, 0.8298319578170776, 0.8508403301239014, 0.9033613204956055, 0.8634454011917114, 0.8802521228790283, 0.8823529481887817, 0.9159663915634155, 0.8802521228790283, 0.8613445162773132, 0.8697478771209717, 0.8676470518112183, 0.8844537734985352], [0.8634454011917114, 0.8739495873451233, 0.8613445162773132, 0.8634454011917114, 0.8865545988082886, 0.8970588445663452, 0.9054622054100037, 0.8655462265014648, 0.8718487620353699, 0.9054622054100037, 0.8970588445663452, 0.8844537734985352, 0.8739495873451233, 0.8676470518112183, 0.8781512379646301, 0.8655462265014648, 0.8571428656578064, 0.8865545988082886, 0.8697478771209717, 0.8760504126548767], [0.8466386795043945, 0.8865545988082886, 0.8655462265014648, 0.8823529481887817, 0.8802521228790283, 0.8739495873451233, 0.8718487620353699, 0.8676470518112183, 0.8508403301239014, 0.8445377945899963, 0.8634454011917114, 0.8970588445663452, 0.8529411554336548, 0.8718487620353699, 0.8781512379646301, 0.8781512379646301, 0.8928571343421936, 0.8676470518112183, 0.8802521228790283, 0.8760504126548767], [0.8739495873451233, 0.8760504126548767, 0.8739495873451233, 0.8802521228790283, 0.8634454011917114, 0.8865545988082886, 0.8739495873451233, 0.8865545988082886, 0.831932783126831, 0.8844537734985352, 0.8718487620353699, 0.8718487620353699, 0.8781512379646301, 0.8718487620353699, 0.8886554837226868, 0.8613445162773132, 0.831932783126831, 0.8865545988082886, 0.8823529481887817, 0.8823529481887817]]\n",
      "[[0.5433826446533203, 0.5522666573524475, 0.4732036292552948, 0.5221836566925049, 0.6126471757888794, 0.5459275841712952, 0.6123778820037842, 0.4912024736404419, 0.5380777716636658, 0.4546816647052765, 0.4990079998970032, 0.6158388257026672, 0.5718396902084351, 0.46018704771995544, 0.5050991177558899, 0.6212316751480103, 0.534693717956543, 0.5545834302902222, 0.5241233110427856, 0.5396015048027039], [0.6422069072723389, 0.706723690032959, 0.7958304286003113, 0.6958371996879578, 0.6970199346542358, 0.8575997352600098, 0.875866174697876, 0.6181249618530273, 0.5424321293830872, 0.6568434238433838, 0.781783401966095, 0.7427353858947754, 0.9164482355117798, 0.8298967480659485, 0.7815350890159607, 0.759839653968811, 0.8998151421546936, 0.7744746208190918, 0.7314193844795227, 0.7909795641899109], [0.6275426149368286, 0.6978706121444702, 0.5963315963745117, 0.6205816268920898, 0.6447327733039856, 0.6778533458709717, 0.5618330240249634, 0.6847965717315674, 0.6491622924804688, 0.6535887718200684, 0.5947500467300415, 0.801505982875824, 0.6538975834846497, 0.6930075883865356, 0.6929299235343933, 0.6870608925819397, 0.7030985355377197, 0.641844630241394, 0.6010469198226929, 0.6183018684387207], [0.6550723314285278, 0.7538876533508301, 0.7230867743492126, 0.6313489675521851, 0.5695273280143738, 0.5840917825698853, 0.6772573590278625, 0.7280950546264648, 0.5995734930038452, 0.6872671246528625, 0.6681117415428162, 0.5907564163208008, 0.635068416595459, 0.5519367456436157, 0.5444546341896057, 0.6238043904304504, 0.4716550409793854, 0.7125512957572937, 0.6253160834312439, 0.6127981543540955], [0.6234280467033386, 0.6863588094711304, 0.6708807349205017, 0.5737031102180481, 0.569276750087738, 0.6328060626983643, 0.5973349809646606, 0.496154248714447, 0.6074742078781128, 0.6228464245796204, 0.6013389229774475, 0.6181561946868896, 0.6066403388977051, 0.5180140733718872, 0.6093083620071411, 0.5738310217857361, 0.61092609167099, 0.6507049798965454, 0.6454591751098633, 0.6315174698829651], [0.6759955883026123, 0.6117180585861206, 0.48722872138023376, 0.5739266276359558, 0.6433030366897583, 0.556361973285675, 0.5883037447929382, 0.5062108635902405, 0.5004737377166748, 0.6418265700340271, 0.5947552919387817, 0.5971814393997192, 0.6290807723999023, 0.6779205799102783, 0.6746005415916443, 0.6172121167182922, 0.5587379336357117, 0.757604718208313, 0.6057806611061096, 0.5614909529685974], [0.5098519325256348, 0.511172354221344, 0.5681633353233337, 0.579624354839325, 0.5808431506156921, 0.6008321642875671, 0.6687958240509033, 0.699224591255188, 0.5728544592857361, 0.7707211971282959, 0.6028589010238647, 0.6670931577682495, 0.7690472602844238, 0.7633614540100098, 0.5224403738975525, 0.8594592809677124, 0.6462783217430115, 0.619346022605896, 0.7074119448661804, 0.5668805837631226], [0.5254170298576355, 0.6881194710731506, 0.5633481740951538, 0.5935099720954895, 0.4377034902572632, 0.654756486415863, 0.6011732220649719, 0.44650256633758545, 0.6384954452514648, 0.582145094871521, 0.9331280589103699, 0.5670121312141418, 0.6547797322273254, 0.6053466200828552, 0.6006227135658264, 0.6376953125, 0.640195369720459, 0.516995906829834, 0.6183988451957703, 0.6654922366142273], [0.6403886079788208, 0.6288902163505554, 0.6787838935852051, 0.6273992657661438, 0.7924242615699768, 0.5990068316459656, 0.6311466693878174, 0.5977674722671509, 0.6057010293006897, 0.565568208694458, 0.6679746508598328, 0.6588587760925293, 0.6008579134941101, 0.5528298020362854, 0.6128947734832764, 0.8289579153060913, 0.6403849124908447, 0.6590707898139954, 0.6502588391304016, 0.5247504711151123], [0.6154631972312927, 0.5739208459854126, 0.7540468573570251, 0.6143674254417419, 0.4539988934993744, 0.7673957347869873, 0.6945232152938843, 0.6154667735099792, 0.7231770753860474, 0.5852268934249878, 0.6539910435676575, 0.6319756507873535, 0.6551908254623413, 0.6268006563186646, 0.7784665822982788, 0.48693758249282837, 0.5718262195587158, 0.7421776056289673, 0.6988215446472168, 0.750181257724762], [0.5618081092834473, 0.7241144180297852, 0.616052508354187, 0.6863701343536377, 0.5363214015960693, 0.6353514194488525, 0.5955065488815308, 0.550596296787262, 0.7579918503761292, 0.588853120803833, 0.6964545249938965, 0.7508721351623535, 0.5508120059967041, 0.7072956562042236, 0.5946237444877625, 0.8146184682846069, 0.7109653353691101, 0.5581865906715393, 0.5891342163085938, 0.7798482775688171], [0.7919975519180298, 0.5387989282608032, 0.5978643298149109, 0.6009003520011902, 0.5921898484230042, 0.628707230091095, 0.5056235790252686, 0.6874618530273438, 0.7984854578971863, 0.7548892498016357, 0.5184828042984009, 0.7114050984382629, 0.6518142223358154, 0.5539953112602234, 0.8246321082115173, 0.6891785264015198, 0.5764811038970947, 0.4642445743083954, 0.5811904072761536, 0.6059935092926025], [0.6786125302314758, 0.5982990264892578, 0.6576889157295227, 0.760161280632019, 0.7081860303878784, 0.5074445009231567, 0.5216370224952698, 0.788081169128418, 0.7582617402076721, 0.7909525632858276, 0.7385897636413574, 0.49729758501052856, 0.5803457498550415, 0.578860342502594, 0.559391975402832, 0.7827010750770569, 0.677715539932251, 0.7065897583961487, 0.7735587358474731, 0.6688747406005859], [0.5978345274925232, 0.5848405957221985, 0.4579368531703949, 0.6435838341712952, 0.5999616384506226, 0.5319252610206604, 0.6285500526428223, 0.6516218185424805, 0.5494570136070251, 0.7274497747421265, 0.5421990156173706, 0.5125084519386292, 0.7651535272598267, 0.7362459301948547, 0.6913074254989624, 0.4831085503101349, 0.8203611373901367, 0.5339739918708801, 0.7333464026451111, 0.5123324394226074], [0.6252229809761047, 0.5496507287025452, 0.7493537068367004, 0.8524333834648132, 0.6446265578269958, 0.639725923538208, 0.8141126036643982, 0.798282265663147, 0.774560809135437, 0.8027938008308411, 0.7534123063087463, 0.7174908518791199, 0.5104011297225952, 0.5878854990005493, 0.6306651830673218, 0.7792069315910339, 0.8609024286270142, 0.6152268052101135, 0.60111004114151, 0.7378292083740234], [0.581225574016571, 0.6295081377029419, 0.5810602903366089, 0.773581862449646, 0.6517070531845093, 0.564094066619873, 0.5703871250152588, 0.6128410696983337, 0.7188186049461365, 0.5942493677139282, 0.5865545868873596, 0.5955376625061035, 0.6694373488426208, 0.7763704061508179, 0.6757718324661255, 0.671719491481781, 0.6822093725204468, 0.5015845894813538, 0.6358895301818848, 0.5240173935890198], [0.8822804689407349, 0.7738366723060608, 0.6768719553947449, 0.5901645421981812, 0.6703076958656311, 0.6373158693313599, 0.5029654502868652, 0.7215969562530518, 0.6601654291152954, 0.9754034280776978, 0.821890652179718, 0.5713729858398438, 0.5661664009094238, 0.8595349192619324, 0.6516715884208679, 0.5907413363456726, 0.8474514484405518, 0.8246336579322815, 0.6511744260787964, 0.6520962715148926], [0.8140825033187866, 0.6739628911018372, 0.6684016585350037, 0.7537864446640015, 0.6674653887748718, 0.7307459115982056, 0.6937775015830994, 0.8493151664733887, 0.7022477388381958, 0.7504456043243408, 0.7688202857971191, 0.6668735146522522, 0.7948085069656372, 0.836461067199707, 0.9875184297561646, 0.7568077445030212, 0.6854080557823181, 0.6608414649963379, 0.6017107367515564, 0.6606001853942871], [0.7821332216262817, 0.8869370818138123, 0.9133701324462891, 0.8416526913642883, 0.7473376989364624, 0.7848570942878723, 0.8386216759681702, 0.959129810333252, 0.6980197429656982, 0.6144632697105408, 0.6974755525588989, 0.7317401766777039, 0.5578343272209167, 0.6627662777900696, 0.5716462135314941, 0.6122792959213257, 0.7949810028076172, 0.6419375538825989, 0.6938484907150269, 0.7598950862884521], [0.6999468207359314, 0.7698811292648315, 0.6687325835227966, 0.7516127228736877, 0.46983346343040466, 0.7169108390808105, 0.6850793957710266, 0.5635555982589722, 0.6516865491867065, 0.7297670245170593, 0.8017468452453613, 0.6497559547424316, 0.9297183752059937, 0.7882789373397827, 0.5376923680305481, 0.768886148929596, 0.5982064604759216, 0.5029224753379822, 0.651351273059845, 0.6490479707717896], [0.845871090888977, 0.5045168399810791, 0.5604702234268188, 0.6482178568840027, 0.6951630115509033, 0.6611741781234741, 0.5531129837036133, 0.540501594543457, 0.655195415019989, 0.6918280720710754, 0.6809678673744202, 0.7833876013755798, 0.5271609425544739, 0.5310441851615906, 0.7883769869804382, 0.7435807585716248, 0.7358877062797546, 0.5471345782279968, 0.5968183279037476, 0.57411128282547], [0.8044845461845398, 0.5979416370391846, 0.7692146897315979, 0.6788963675498962, 0.8586581349372864, 0.683547854423523, 0.903452455997467, 0.746332585811615, 0.6626884341239929, 0.620018482208252, 0.47859036922454834, 0.7197598218917847, 0.7375742793083191, 0.7398986220359802, 0.6279748678207397, 0.7777991890907288, 0.6148455142974854, 0.6943456530570984, 0.8927304744720459, 0.5580554604530334], [0.7090073823928833, 0.9191269278526306, 0.7623433470726013, 0.6607255935668945, 0.6816644072532654, 0.7386497855186462, 0.5548378825187683, 0.7423067688941956, 0.632987380027771, 0.7736137509346008, 0.8084761500358582, 1.0091772079467773, 0.7387766242027283, 0.6544347405433655, 0.7330946326255798, 0.7381413578987122, 0.729155421257019, 0.7358717918395996, 0.7562692761421204, 0.6591574549674988], [0.7815894484519958, 0.564601480960846, 0.8049775958061218, 0.8821021914482117, 0.6683688163757324, 0.594356119632721, 0.7005155086517334, 0.7204938530921936, 0.5433146953582764, 0.7590380907058716, 0.5392581820487976, 0.754379391670227, 0.8079362511634827, 0.6682881116867065, 0.9765413403511047, 0.5285576581954956, 0.8007709383964539, 0.740748405456543, 0.8159999251365662, 0.728865921497345], [0.6541681885719299, 0.8928458094596863, 0.7988200187683105, 0.6790990829467773, 0.6398763656616211, 0.6238101124763489, 0.789584755897522, 0.5629822611808777, 0.7085610628128052, 0.7315104603767395, 0.7339980602264404, 0.5711435675621033, 0.5010807514190674, 0.7112745046615601, 0.8581578731536865, 0.6838985681533813, 0.8185356259346008, 0.9355664253234863, 0.8800552487373352, 0.7653630971908569], [0.9587989449501038, 0.7203195691108704, 0.6208823323249817, 0.5750232934951782, 0.7232140302658081, 0.7480902075767517, 0.6329320073127747, 0.65240877866745, 0.6368333101272583, 0.7507758140563965, 0.7503233551979065, 0.69645094871521, 0.697620153427124, 0.5929123163223267, 0.8614278435707092, 0.43043798208236694, 0.8296603560447693, 0.5976036190986633, 0.7915109992027283, 0.6263351440429688], [0.8261412978172302, 0.6640776991844177, 0.5713587999343872, 0.7478348016738892, 0.729070246219635, 0.8165733218193054, 0.7233682870864868, 0.7952209711074829, 0.8866368532180786, 0.4950001835823059, 0.7669528722763062, 0.8977599740028381, 0.7404482364654541, 0.7636482119560242, 0.7874694466590881, 0.5316000580787659, 0.9160791635513306, 0.6855801343917847, 0.8566496968269348, 0.7000078558921814], [0.7835115194320679, 0.8752958178520203, 0.7093669772148132, 0.7821731567382812, 0.9189613461494446, 0.6149343848228455, 0.7785307765007019, 0.8262823820114136, 0.8176160454750061, 0.8120135068893433, 0.671665370464325, 0.5847182869911194, 0.7044641375541687, 0.7973953485488892, 1.0086461305618286, 0.8092947602272034, 0.6495847702026367, 0.6065019369125366, 0.6426525712013245, 0.722553014755249], [0.766270637512207, 0.885794997215271, 0.7802062630653381, 0.6910089254379272, 0.8601927161216736, 0.7977350354194641, 0.6937289834022522, 0.8062571883201599, 0.7494043707847595, 0.7296594381332397, 0.8610164523124695, 0.6382527947425842, 0.7383499145507812, 0.8050422072410583, 0.517979621887207, 0.687995195388794, 0.7540630102157593, 0.7046934962272644, 0.577288806438446, 0.6310262084007263], [0.7591841220855713, 0.7929956316947937, 0.9868437051773071, 0.6681768298149109, 0.6213283538818359, 0.7114162445068359, 0.7990317344665527, 1.1039628982543945, 0.9774532318115234, 0.9028716087341309, 0.7680307030677795, 0.6985126733779907, 0.9460763335227966, 0.7499901056289673, 0.7110661864280701, 0.8773576617240906, 1.0509783029556274, 0.6123640537261963, 0.7943066954612732, 0.7088868021965027], [0.6401811838150024, 0.8571425080299377, 0.5814769864082336, 0.7016699910163879, 0.7581191062927246, 0.5951051115989685, 0.8764484524726868, 0.8375394940376282, 0.6455515027046204, 0.6649648547172546, 0.8718227744102478, 0.7101086378097534, 0.9708474278450012, 0.6135693788528442, 0.5921565890312195, 0.8695085644721985, 0.7383551597595215, 0.7102300524711609, 0.8067600131034851, 0.615584135055542], [1.019308090209961, 0.9078734517097473, 0.8601334691047668, 0.7556505799293518, 0.7467150092124939, 0.5581260919570923, 0.7714976668357849, 0.6118869781494141, 0.7742822766304016, 0.6945494413375854, 0.9178730249404907, 0.9287093877792358, 0.7659042477607727, 0.6219491362571716, 0.494967520236969, 0.8052250742912292, 0.6656010746955872, 0.6215644478797913, 0.6814347505569458, 0.6958153247833252], [0.5636038184165955, 0.738791286945343, 0.6815195679664612, 0.6948468685150146, 0.8994132280349731, 0.6988982558250427, 0.6590679287910461, 0.5962738394737244, 0.6391152739524841, 0.7757322192192078, 0.6485723257064819, 0.5156520009040833, 0.7407000660896301, 0.6661794781684875, 0.5505301356315613, 0.6005470752716064, 0.5635929703712463, 0.658962070941925, 0.8023216724395752, 0.7031170725822449], [0.5416628122329712, 0.749342143535614, 0.7358835935592651, 0.7468778491020203, 0.8638399243354797, 0.7975336909294128, 0.7266456484794617, 0.8086318373680115, 0.777221143245697, 0.6424558758735657, 0.7956187725067139, 0.7830107808113098, 0.49180567264556885, 0.6719967126846313, 0.6164448857307434, 0.7763658165931702, 0.9079931974411011, 0.7010228633880615, 0.7536380290985107, 0.556121826171875], [0.8141504526138306, 0.8887091279029846, 0.5656262636184692, 0.7510256171226501, 0.7820606231689453, 0.757995069026947, 0.8387256264686584, 0.8677729964256287, 0.9826405048370361, 0.5740912556648254, 0.5494381189346313, 0.6756317615509033, 0.755733072757721, 0.7472821474075317, 1.0475407838821411, 0.6666505932807922, 1.0026497840881348, 0.6649200320243835, 0.6376332640647888, 0.5877096056938171], [0.6955877542495728, 0.5919894576072693, 0.9098275899887085, 0.9085007309913635, 0.7424126267433167, 0.8209428191184998, 0.6848666667938232, 1.122482180595398, 0.5916368961334229, 0.8470041751861572, 0.7429015636444092, 0.7806885242462158, 0.6500980854034424, 0.844298243522644, 0.9085263609886169, 0.528968870639801, 0.6058392524719238, 0.8142886757850647, 0.8385586738586426, 0.770734965801239], [0.724963903427124, 0.7738093137741089, 0.801619827747345, 0.6574716567993164, 0.7671540975570679, 0.900425374507904, 0.8478589057922363, 0.6550197005271912, 0.8678537607192993, 0.6591100692749023, 0.9037916660308838, 0.8336597084999084, 0.6322908997535706, 0.5926117300987244, 0.6969418525695801, 0.8958476185798645, 0.5573078989982605, 0.869804859161377, 0.6850173473358154, 0.9449157118797302], [0.8131971955299377, 0.8277221322059631, 0.7094224095344543, 0.8348466753959656, 0.6770104765892029, 0.6540411710739136, 0.7699480056762695, 0.7829474806785583, 0.8624163866043091, 0.8699371218681335, 0.8704925775527954, 0.5724836587905884, 0.8873890042304993, 0.7279663681983948, 0.764431357383728, 0.7471646666526794, 0.9022818207740784, 0.7692610621452332, 0.5742232203483582, 0.6293607950210571], [0.5827847123146057, 0.5782018899917603, 0.701512336730957, 0.8220980763435364, 0.8322017192840576, 0.7838523387908936, 0.691617488861084, 0.9537936449050903, 0.976736307144165, 1.001341462135315, 0.8250989317893982, 0.7753819823265076, 0.6432458162307739, 0.6621143221855164, 0.7644105553627014, 0.7733364701271057, 0.8247377276420593, 0.6144787669181824, 0.642470121383667, 0.8266653418540955], [0.8899596333503723, 0.7765861749649048, 0.6172693967819214, 0.6787489056587219, 0.8289980888366699, 0.8097922801971436, 0.5341246724128723, 1.292026162147522, 0.5130993723869324, 0.9727793335914612, 0.9732732772827148, 0.748387336730957, 0.7661350965499878, 0.6586223840713501, 0.7116090655326843, 0.8553138375282288, 0.672374963760376, 0.8172616362571716, 0.6303602457046509, 1.1430230140686035], [0.6637130975723267, 0.8409073352813721, 0.7869324684143066, 0.8715323805809021, 0.8638966083526611, 0.5369795560836792, 0.9768002033233643, 0.8269317150115967, 0.8086864352226257, 0.6058971285820007, 0.671133279800415, 0.9503951072692871, 0.877318263053894, 0.5573702454566956, 0.8478582501411438, 0.6477454304695129, 0.7443023920059204, 0.8285689949989319, 0.8695237040519714, 0.76216059923172], [0.6323513388633728, 0.6027343273162842, 0.7849240899085999, 0.7817525863647461, 0.6859937906265259, 0.7113803029060364, 0.9058786630630493, 0.6110014915466309, 1.0036399364471436, 0.5734280943870544, 0.7334189414978027, 0.651148796081543, 1.090706706047058, 0.5478488802909851, 0.8763406872749329, 0.8489754796028137, 0.5746685862541199, 0.6347099542617798, 0.8207563161849976, 0.6872598528862], [0.8765120506286621, 0.7557883858680725, 0.6664108633995056, 1.220994472503662, 0.69209223985672, 0.7131297588348389, 0.7567183375358582, 1.0018982887268066, 0.6702662706375122, 0.6630176305770874, 0.8237146735191345, 0.88270503282547, 0.7990036606788635, 0.6336525082588196, 0.6294827461242676, 0.7624785900115967, 0.8693532943725586, 0.6340733766555786, 1.0057034492492676, 0.6547354459762573], [0.8051283955574036, 0.7138402462005615, 0.8349251747131348, 0.7342544794082642, 0.6298239827156067, 0.6794209480285645, 0.851040780544281, 0.9881623983383179, 0.7729203701019287, 0.4945555329322815, 0.9237951040267944, 0.7005100846290588, 0.7583637237548828, 0.9570001363754272, 0.597018837928772, 0.5531418323516846, 0.9406952261924744, 0.8136500716209412, 0.9098082184791565, 0.9906905293464661], [0.40016403794288635, 0.6567221283912659, 0.7465507984161377, 0.5755523443222046, 0.6706469655036926, 0.6804070472717285, 0.5812937021255493, 0.7560855150222778, 1.1447720527648926, 0.4349420666694641, 0.8347399830818176, 0.6461047530174255, 0.7261515259742737, 0.9691767692565918, 0.7629145979881287, 0.6508902311325073, 0.9855160713195801, 0.721746027469635, 0.6295158863067627, 0.7139680981636047], [0.8542947769165039, 0.5355891585350037, 0.7128540873527527, 0.9089778661727905, 0.7514128684997559, 0.679928719997406, 0.5422953963279724, 0.7903741002082825, 0.7365760207176208, 0.8229519724845886, 0.9861630201339722, 0.7786571979522705, 0.7135784029960632, 0.7619398236274719, 1.0626167058944702, 0.8659455180168152, 0.4339866042137146, 0.590906023979187, 0.8641990423202515, 0.6175971031188965], [0.9514857530593872, 0.7844041585922241, 0.7255616188049316, 0.7025055289268494, 0.7895514965057373, 0.6801605224609375, 0.7926022410392761, 0.7980044484138489, 0.6802815198898315, 0.7470244765281677, 0.7968735098838806, 0.5585139393806458, 0.755130410194397, 0.9836535453796387, 0.7381914854049683, 0.9423741698265076, 0.7301552295684814, 0.7018947005271912, 0.8859387040138245, 0.869867205619812], [0.5932981967926025, 0.8030853867530823, 1.0020631551742554, 0.7199780344963074, 0.778165340423584, 0.8225589990615845, 0.6977417469024658, 0.7274156808853149, 0.7990628480911255, 0.7038869857788086, 0.5997213125228882, 0.6736878752708435, 0.8207467198371887, 0.8154039978981018, 0.508712649345398, 1.0081396102905273, 0.7989493012428284, 1.0186872482299805, 0.8662003874778748, 0.5710142850875854], [0.789443850517273, 0.6916091442108154, 0.9129264950752258, 0.6360450387001038, 0.7474875450134277, 0.515598475933075, 0.5415046215057373, 1.0774281024932861, 0.6076505184173584, 0.5622249841690063, 0.5652499198913574, 0.912162721157074, 0.652454137802124, 0.9765629768371582, 0.6563736200332642, 0.7005046010017395, 1.0839329957962036, 0.822781503200531, 0.8951008319854736, 0.7406069040298462], [0.9277713298797607, 0.6360427737236023, 0.898375391960144, 0.7921901941299438, 0.6897059082984924, 0.6822490096092224, 0.7777857184410095, 1.0300592184066772, 0.7780081629753113, 0.8113905787467957, 0.8094128966331482, 0.5060294270515442, 1.120570421218872, 0.7459120750427246, 0.9927539229393005, 0.7529169321060181, 0.6060793399810791, 0.81532883644104, 0.8332617878913879, 0.8013436198234558], [0.6368708610534668, 0.9354912638664246, 0.695711612701416, 0.939496636390686, 0.6135174036026001, 0.7292137742042542, 0.8978912830352783, 0.675498902797699, 1.0778719186782837, 0.6328450441360474, 0.8452206254005432, 0.961703360080719, 0.7285546660423279, 0.9449243545532227, 0.7036462426185608, 0.8312482833862305, 1.0811578035354614, 0.851808488368988, 0.7271553874015808, 0.7650406360626221]] \n",
      "\n",
      "\n",
      "\n"
     ]
    },
    {
     "data": {
      "image/png": "[encoded data removed]",
      "text/plain": [
       "<Figure size 1152x576 with 1 Axes>"
      ]
     },
     "metadata": {
      "needs_background": "light"
     },
     "output_type": "display_data"
    }
   ],
   "source": [
    "average_acc_cluster_list, average_loss_cluster_list = [], []\n",
    "\n",
    "\n",
    "for i in range(len(Cluster_ACC)):    \n",
    "    average_acc_cluster_list.append(np.mean(Cluster_ACC[i]))\n",
    "    average_loss_cluster_list.append(np.mean(Cluster_LOSS[i]))\n",
    "\n",
    "    \n",
    "plt.figure(figsize=(16,8))\n",
    "plt.plot(average_acc_cluster_list, label='Cluster Acc')\n",
    "print(Cluster_ACC)\n",
    "print(Cluster_LOSS,\"\\n\\n\\n\")\n",
    "plt.plot(average_loss_cluster_list, label='Cluster Loss')\n",
    "\n",
    "plt.grid(True)\n",
    "plt.legend()\n",
    "plt.show()\n"
   ]
  },
  {
   "cell_type": "code",
   "execution_count": null,
   "metadata": {
    "id": "7afw9VS7PwPX"
   },
   "outputs": [],
   "source": []
  }
 ],
 "metadata": {
  "colab": {
   "authorship_tag": "ABX9TyM706Cwuwf90ucbkvXVEEaX",
   "collapsed_sections": [],
   "name": "Test1_paper_Clustering.ipynb",
   "provenance": []
  },
  "kernelspec": {
   "display_name": "Python 3",
   "language": "python",
   "name": "python3"
  },
  "language_info": {
   "codemirror_mode": {
    "name": "ipython",
    "version": 3
   },
   "file_extension": ".py",
   "mimetype": "text/x-python",
   "name": "python",
   "nbconvert_exporter": "python",
   "pygments_lexer": "ipython3",
   "version": "3.8.8"
  }
 },
 "nbformat": 4,
 "nbformat_minor": 1
}
