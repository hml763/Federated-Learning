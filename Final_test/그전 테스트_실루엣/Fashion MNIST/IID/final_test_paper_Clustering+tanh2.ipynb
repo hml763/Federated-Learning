{
 "cells": [
  {
   "cell_type": "code",
   "execution_count": 1,
   "metadata": {
    "executionInfo": {
     "elapsed": 3308,
     "status": "ok",
     "timestamp": 1627827127594,
     "user": {
      "displayName": "이훈민",
      "photoUrl": "",
      "userId": "00157268181097362793"
     },
     "user_tz": 240
    },
    "id": "cg7gm5FVyA3r"
   },
   "outputs": [],
   "source": [
    "import numpy as np\n",
    "import tensorflow as tf\n",
    "import matplotlib.pyplot as plt\n",
    "import sys\n",
    "import time\n",
    "import math\n",
    "import random\n",
    "import copy\n",
    "import warnings\n",
    "warnings.simplefilter(action='ignore', category=FutureWarning)\n",
    "\n",
    "import keras\n",
    "from tensorflow import keras\n",
    "from keras.models import Sequential\n",
    "from keras.layers import Dense, Dropout, Flatten\n",
    "from tensorflow.keras import datasets, layers, models\n",
    "from keras.layers.convolutional import Conv2D, MaxPooling2D\n",
    "from keras.layers import Dense, Activation, Flatten, Conv2D, MaxPooling2D\n",
    "from keras.utils.np_utils import to_categorical\n",
    "from sklearn.cluster import KMeans, AgglomerativeClustering\n",
    "from tensorflow.keras.datasets import cifar10 \n",
    "from keras.datasets import fashion_mnist \n",
    "from sklearn.metrics import silhouette_samples, silhouette_score\n",
    "\n",
    "mod = sys.modules[__name__]"
   ]
  },
  {
   "cell_type": "code",
   "execution_count": 2,
   "metadata": {
    "executionInfo": {
     "elapsed": 6,
     "status": "ok",
     "timestamp": 1627827127595,
     "user": {
      "displayName": "이훈민",
      "photoUrl": "",
      "userId": "00157268181097362793"
     },
     "user_tz": 240
    },
    "id": "-gn3HoNnyGdo"
   },
   "outputs": [],
   "source": [
    "def distribution_check(dataset):\n",
    "        #분포가 다름;\n",
    "    one,two,three,four,five,six,seven,eight,nine,ten=0,0,0,0,0,0,0,0,0,0\n",
    "\n",
    "    for i in range(len(dataset)):\n",
    "        if(dataset[i]==1):    one+=1\n",
    "        elif(dataset[i]==2):  two+=1\n",
    "        elif(dataset[i]==3):  three+=1\n",
    "        elif(dataset[i]==4):  four+=1\n",
    "        elif(dataset[i]==5):  five+=1\n",
    "        elif(dataset[i]==6):  six+=1\n",
    "        elif(dataset[i]==7):  seven+=1\n",
    "        elif(dataset[i]==8):  eight+=1\n",
    "        elif(dataset[i]==9):  nine+=1\n",
    "        elif(dataset[i]==0):  ten+=1\n",
    "\n",
    "    #print(one,two,three,four,five,six,seven,eight,nine,ten)\n",
    "    #print(\"Sum : \", one+two+three+four+five+six+seven+eight+nine+ten)\n",
    "    sums = one+two+three+four+five+six+seven+eight+nine+ten\n",
    "    for_graph=[one,two,three,four,five,six,seven,eight,nine,ten]\n",
    "    \n",
    "    return for_graph, sums\n",
    "\n",
    "def local_model_generate(model): #초기 모델 생성\n",
    "    model = models.Sequential()\n",
    "    model.add(layers.Conv2D(32, (3, 3), activation='relu', input_shape=(28, 28, 1)))\n",
    "    model.add(layers.MaxPooling2D((2, 2)))\n",
    "    model.add(layers.Conv2D(64, (3, 3), activation='relu'))\n",
    "    model.add(layers.MaxPooling2D((2, 2)))\n",
    "    model.add(layers.Conv2D(64, (3, 3), activation='relu'))\n",
    "    model.add(layers.Flatten())\n",
    "    model.add(layers.Dense(64, activation='relu'))\n",
    "    model.add(layers.Dense(10, activation='softmax'))\n",
    "    \n",
    "    return model\n",
    "\n",
    "def step_function(data):\n",
    "    if data > 0:\n",
    "        return 1\n",
    "    else:\n",
    "        return 0\n",
    "\n",
    "def sigmoid(data):\n",
    "    return 1/(1+np.exp(-data))\n",
    "\n",
    "def relu(data):\n",
    "    return np.maximum(0,data)\n",
    "\n",
    "def random_check(local, train_data, test_data):\n",
    "    check_distribution_train_data, check_distribution_test_data, y_train_tmp, y_test_tmp = [], [], [], []\n",
    "    sum1, sum2, data_index = 0,0, np.arange(0,10)\n",
    "\n",
    "    for j in range(len(train_data)):\n",
    "        y_train_tmp.append(np.argmax(train_data[j])) #원핫인코딩에서 다시 0~9 레이블로 변환\n",
    "\n",
    "    for j in range(len(test_data)):\n",
    "        y_test_tmp.append(np.argmax(test_data[j]))\n",
    "\n",
    "    check_distribution_train_data, sum_train = distribution_check(y_train_tmp) #한번 밖에 실행 못함\n",
    "    check_distribution_test_data, sum_test = distribution_check(y_test_tmp)\n",
    "    sum1, sum2 = (sum1 + sum_train), (sum2 + sum_test)\n",
    "    \n",
    "    return check_distribution_train_data, check_distribution_test_data\n"
   ]
  },
  {
   "cell_type": "code",
   "execution_count": 3,
   "metadata": {
    "colab": {
     "base_uri": "https://localhost:8080/"
    },
    "executionInfo": {
     "elapsed": 957,
     "status": "ok",
     "timestamp": 1627827128547,
     "user": {
      "displayName": "이훈민",
      "photoUrl": "",
      "userId": "00157268181097362793"
     },
     "user_tz": 240
    },
    "id": "CSRQl-noyHx9",
    "outputId": "b2ec7a93-8bf8-45a1-b6d4-f51e17153506"
   },
   "outputs": [
    {
     "name": "stdout",
     "output_type": "stream",
     "text": [
      "(60000, 28, 28) (10000, 28, 28)\n"
     ]
    }
   ],
   "source": [
    "(x_train, y_train), (x_test, y_test) = fashion_mnist.load_data()\n",
    "print(x_train.shape, x_test.shape)\n",
    "num_train, num_test = len(x_train),  len(x_test) "
   ]
  },
  {
   "cell_type": "code",
   "execution_count": 4,
   "metadata": {
    "executionInfo": {
     "elapsed": 4,
     "status": "ok",
     "timestamp": 1627827128547,
     "user": {
      "displayName": "이훈민",
      "photoUrl": "",
      "userId": "00157268181097362793"
     },
     "user_tz": 240
    },
    "id": "YvgMHy1ByI7c"
   },
   "outputs": [],
   "source": [
    "local = 21 # 10개 : 1~10 => 11은 포함 안됨\n",
    "batch_size, epochs = 32, 10\n",
    "global_epoch = 0\n",
    "num_layers = 8"
   ]
  },
  {
   "cell_type": "code",
   "execution_count": 5,
   "metadata": {
    "colab": {
     "base_uri": "https://localhost:8080/"
    },
    "executionInfo": {
     "elapsed": 202,
     "status": "ok",
     "timestamp": 1627827128746,
     "user": {
      "displayName": "이훈민",
      "photoUrl": "",
      "userId": "00157268181097362793"
     },
     "user_tz": 240
    },
    "id": "NtlWlG2EyKwJ",
    "outputId": "bd7e6c72-1283-46a1-8001-96614e342596"
   },
   "outputs": [
    {
     "name": "stdout",
     "output_type": "stream",
     "text": [
      "Step 1 x_train shape: (60000, 28, 28)\n",
      "Step 2 x_train shape: (60000, 28, 28, 1)\n",
      "60000 train samples\n",
      "10000 test samples\n"
     ]
    }
   ],
   "source": [
    "# Model / data parameters\n",
    "num_classes = 10\n",
    "input_shape = (28, 28, 1)\n",
    "\n",
    "# Scale images to the [0, 1] range\n",
    "x_train = x_train.astype(\"float32\") / 255\n",
    "x_test = x_test.astype(\"float32\") / 255\n",
    "\n",
    "print(\"Step 1 x_train shape:\", x_train.shape)\n",
    "\n",
    "x_train = x_train.reshape((num_train, 28, 28, 1))\n",
    "x_test = x_test.reshape((num_test, 28, 28, 1))\n",
    "\n",
    "print(\"Step 2 x_train shape:\", x_train.shape)\n",
    "print(x_train.shape[0], \"train samples\")\n",
    "print(x_test.shape[0], \"test samples\")\n",
    "# convert class vectors to binary class matrices => one hot encoding 지금은 [3,6,2,5,4,8..] 섞여있음 \n",
    "\n",
    "y_train = keras.utils.to_categorical(y_train, num_classes)\n",
    "y_test = keras.utils.to_categorical(y_test, num_classes)"
   ]
  },
  {
   "cell_type": "code",
   "execution_count": 6,
   "metadata": {
    "colab": {
     "base_uri": "https://localhost:8080/"
    },
    "executionInfo": {
     "elapsed": 214,
     "status": "ok",
     "timestamp": 1627827129402,
     "user": {
      "displayName": "이훈민",
      "photoUrl": "",
      "userId": "00157268181097362793"
     },
     "user_tz": 240
    },
    "id": "I2uyTUGiyaSd",
    "outputId": "d59b69f8-078b-4eca-ee46-60c09171e176"
   },
   "outputs": [
    {
     "name": "stdout",
     "output_type": "stream",
     "text": [
      "0  번째 global_epoch 데이터 랜덤하게 준비!!\n",
      "check=>: should be 0 ==  60000\n",
      "0  번째 global_epoch 데이터 랜덤 준비완료!!\n"
     ]
    }
   ],
   "source": [
    "#랜덤 비복원추출, 동등하게 10% 씩 =  로컬 데이터 추출 ------------------------------------------------------------------------------\n",
    "\n",
    "global_epoch = 0\n",
    "\n",
    "local = 21\n",
    "\n",
    "print(global_epoch, \" 번째 global_epoch 데이터 랜덤하게 준비!!\")\n",
    "\n",
    "for i in range(1,local): #데이터 변수 선언, 빈 리스트로 초기화\n",
    "    globals()['L{}_x_train'.format(i)], globals()['L{}_x_test'.format(i)] = [], []  \n",
    "    globals()['L{}_y_train'.format(i)], globals()['L{}_y_test'.format(i)] = [], []  \n",
    "\n",
    "x_train_range = list(np.arange(0,len(x_train)))  #0~59,999\n",
    "x_test_range = list(np.arange(0,len(x_test)))  #0~9,999\n",
    "\n",
    "for n in range(1,local): #Data_x_train_range, 잘 작동함 => 확인 완료\n",
    "    tmp, tmp2 = [], []\n",
    "    tmp = random.sample(list(x_train_range), int(num_train/(local-1)))  #1/10개 만큼 인덱스 랜덤 비복원 추출 => 랜덤으로 해야함\n",
    "    tmp2 = random.sample(list(x_test_range), int(num_test/(local-1)))\n",
    "\n",
    "    for i in range(len(tmp)):\n",
    "        globals()['L{}_x_train'.format(n)].append(x_train[tmp[i]])  #n번째 Cluster에 분할한 실제 x_train 데이터 저장\n",
    "        globals()['L{}_y_train'.format(n)].append(y_train[tmp[i]]) \n",
    "        #x_train_range.remove(tmp[i])  #랜덤 하게 뽑힌 원소 6000개 추출했으니 안에서 삭제 => 비복원 추출\n",
    "\n",
    "    for j in range(len(tmp2)):\n",
    "        globals()['L{}_x_test'.format(n)].append(x_test[tmp2[j]])\n",
    "        globals()['L{}_y_test'.format(n)].append(y_test[tmp2[j]])\n",
    "        #x_test_range.remove(tmp2[j])  #랜덤 하게 뽑힌 원소 6000개 추출했으니 안에서 삭제 => 비복원 추출\n",
    "\n",
    "print(\"check=>: should be 0 == \", len(x_train_range))  #원소 하나도 없어야 함. 확인.\n",
    "\n",
    "print(global_epoch, \" 번째 global_epoch 데이터 랜덤 준비완료!!\")"
   ]
  },
  {
   "cell_type": "code",
   "execution_count": 7,
   "metadata": {
    "colab": {
     "base_uri": "https://localhost:8080/"
    },
    "executionInfo": {
     "elapsed": 58841,
     "status": "ok",
     "timestamp": 1627827188938,
     "user": {
      "displayName": "이훈민",
      "photoUrl": "",
      "userId": "00157268181097362793"
     },
     "user_tz": 240
    },
    "id": "LztCjgrY1OxS",
    "outputId": "a658a428-2e0b-433b-96e5-ccef1d95750e",
    "scrolled": true
   },
   "outputs": [
    {
     "name": "stdout",
     "output_type": "stream",
     "text": [
      "\n",
      "\n",
      " 0 번째 global epoch에서 로컬 클라이언트 학습시작!\n",
      "\n",
      "학습 중 ...\n",
      "\n",
      "16/16 - 0s - loss: 0.4891 - accuracy: 0.8420\n",
      "16/16 - 0s - loss: 0.4870 - accuracy: 0.8240\n",
      "16/16 - 0s - loss: 0.4854 - accuracy: 0.8480\n",
      "16/16 - 0s - loss: 0.4338 - accuracy: 0.8300\n",
      "16/16 - 0s - loss: 0.5475 - accuracy: 0.8020\n",
      "16/16 - 0s - loss: 0.4209 - accuracy: 0.8420\n",
      "16/16 - 0s - loss: 0.5514 - accuracy: 0.8040\n",
      "16/16 - 0s - loss: 0.5316 - accuracy: 0.7980\n",
      "16/16 - 0s - loss: 0.4545 - accuracy: 0.8180\n",
      "16/16 - 0s - loss: 0.5763 - accuracy: 0.8120\n",
      "16/16 - 0s - loss: 0.5084 - accuracy: 0.8100\n",
      "16/16 - 0s - loss: 0.6345 - accuracy: 0.7840\n",
      "16/16 - 0s - loss: 0.5162 - accuracy: 0.8160\n",
      "16/16 - 0s - loss: 0.4767 - accuracy: 0.8360\n",
      "16/16 - 0s - loss: 0.4506 - accuracy: 0.8480\n",
      "16/16 - 0s - loss: 0.4756 - accuracy: 0.8220\n",
      "16/16 - 0s - loss: 0.4685 - accuracy: 0.8380\n",
      "16/16 - 0s - loss: 0.5055 - accuracy: 0.8380\n",
      "16/16 - 0s - loss: 0.5367 - accuracy: 0.7900\n",
      "16/16 - 0s - loss: 0.4812 - accuracy: 0.8180\n",
      "0 번째 global epoch 로컬 클라이언트 학습완료!,  Total Training time :  222.91942191123962 \n",
      "\n",
      "\n",
      "Layer :  0   클러스터 갯수 정해짐!  갯수 :  2 0\n"
     ]
    },
    {
     "name": "stderr",
     "output_type": "stream",
     "text": [
      "<ipython-input-7-c56707d98c89>:110: VisibleDeprecationWarning: Creating an ndarray from ragged nested sequences (which is a list-or-tuple of lists-or-tuples-or ndarrays with different lengths or shapes) is deprecated. If you meant to do this, you must specify 'dtype=object' when creating the ndarray\n",
      "  globals()['G{}_c{}_w_layer{}'.format(global_epoch, num_c_w, layer_index)] = globals()['G{}_c{}_w_layer{}'.format(global_epoch, num_c_w, layer_index)] + np.array(globals()['L{}_layer{}_w'.format(i,layer_index)])          # 일반 클러스터링\n"
     ]
    },
    {
     "name": "stdout",
     "output_type": "stream",
     "text": [
      "Layer :  2   클러스터 갯수 정해짐!  갯수 :  2 0\n"
     ]
    },
    {
     "name": "stderr",
     "output_type": "stream",
     "text": [
      "<ipython-input-7-c56707d98c89>:110: VisibleDeprecationWarning: Creating an ndarray from ragged nested sequences (which is a list-or-tuple of lists-or-tuples-or ndarrays with different lengths or shapes) is deprecated. If you meant to do this, you must specify 'dtype=object' when creating the ndarray\n",
      "  globals()['G{}_c{}_w_layer{}'.format(global_epoch, num_c_w, layer_index)] = globals()['G{}_c{}_w_layer{}'.format(global_epoch, num_c_w, layer_index)] + np.array(globals()['L{}_layer{}_w'.format(i,layer_index)])          # 일반 클러스터링\n"
     ]
    },
    {
     "name": "stdout",
     "output_type": "stream",
     "text": [
      "Layer :  4   클러스터 갯수 정해짐!  갯수 :  2 0\n"
     ]
    },
    {
     "name": "stderr",
     "output_type": "stream",
     "text": [
      "<ipython-input-7-c56707d98c89>:110: VisibleDeprecationWarning: Creating an ndarray from ragged nested sequences (which is a list-or-tuple of lists-or-tuples-or ndarrays with different lengths or shapes) is deprecated. If you meant to do this, you must specify 'dtype=object' when creating the ndarray\n",
      "  globals()['G{}_c{}_w_layer{}'.format(global_epoch, num_c_w, layer_index)] = globals()['G{}_c{}_w_layer{}'.format(global_epoch, num_c_w, layer_index)] + np.array(globals()['L{}_layer{}_w'.format(i,layer_index)])          # 일반 클러스터링\n"
     ]
    },
    {
     "name": "stdout",
     "output_type": "stream",
     "text": [
      "Layer :  6   클러스터 갯수 정해짐!  갯수 :  2 0\n"
     ]
    },
    {
     "name": "stderr",
     "output_type": "stream",
     "text": [
      "<ipython-input-7-c56707d98c89>:110: VisibleDeprecationWarning: Creating an ndarray from ragged nested sequences (which is a list-or-tuple of lists-or-tuples-or ndarrays with different lengths or shapes) is deprecated. If you meant to do this, you must specify 'dtype=object' when creating the ndarray\n",
      "  globals()['G{}_c{}_w_layer{}'.format(global_epoch, num_c_w, layer_index)] = globals()['G{}_c{}_w_layer{}'.format(global_epoch, num_c_w, layer_index)] + np.array(globals()['L{}_layer{}_w'.format(i,layer_index)])          # 일반 클러스터링\n"
     ]
    },
    {
     "name": "stdout",
     "output_type": "stream",
     "text": [
      "Layer :  7   클러스터 갯수 정해짐!  갯수 :  9 7\n"
     ]
    },
    {
     "name": "stderr",
     "output_type": "stream",
     "text": [
      "<ipython-input-7-c56707d98c89>:110: VisibleDeprecationWarning: Creating an ndarray from ragged nested sequences (which is a list-or-tuple of lists-or-tuples-or ndarrays with different lengths or shapes) is deprecated. If you meant to do this, you must specify 'dtype=object' when creating the ndarray\n",
      "  globals()['G{}_c{}_w_layer{}'.format(global_epoch, num_c_w, layer_index)] = globals()['G{}_c{}_w_layer{}'.format(global_epoch, num_c_w, layer_index)] + np.array(globals()['L{}_layer{}_w'.format(i,layer_index)])          # 일반 클러스터링\n"
     ]
    }
   ],
   "source": [
    "#준비된 데이터 (IID / NON-IID) np.array로\n",
    "best_Sil_score_c = []\n",
    "Silhouette_sc_c = []\n",
    "global_epoch = 0\n",
    "acc, loss = 0, 0\n",
    "cluster_acc, cluster_loss, Cluster_ACC, Cluster_LOSS = [], [], [], [] \n",
    "num_layers_list = [0,2,4,6,7]\n",
    "label_list = []\n",
    "VAR_final_list_w, VAR_final_list_b = [], []\n",
    "\n",
    "\n",
    "for i in range(1,local):\n",
    "    globals()['L{}_x_train'.format(i)] = np.array(globals()['L{}_x_train'.format(i)])\n",
    "    globals()['L{}_x_test'.format(i)] = np.array(globals()['L{}_x_test'.format(i)])\n",
    "    globals()['L{}_y_train'.format(i)] = np.array(globals()['L{}_y_train'.format(i)])\n",
    "    globals()['L{}_y_test'.format(i)] = np.array(globals()['L{}_y_test'.format(i)])\n",
    "\n",
    "\n",
    "print(\"\\n\\n\",global_epoch, \"번째 global epoch에서 로컬 클라이언트 학습시작!\\n\\n학습 중 ...\\n\")\n",
    "now = time.time()\n",
    "\n",
    "for i in range(1,local):\n",
    "    globals()['FedAvg_L{}_iter{}_model'.format(i, global_epoch)] = models.Sequential()  ##!!!!!!! 이게 글로벌 epoch에서는 2번째 부터 들어가면 안됨\n",
    "    globals()['FedAvg_L{}_iter{}_model'.format(i, global_epoch)] = local_model_generate(globals()['FedAvg_L{}_iter{}_model'.format(i, global_epoch)])      # initialize 필요 => 모델 프레임 구축\n",
    "\n",
    "    globals()['FedAvg_L{}_iter{}_model'.format(i, global_epoch)].compile(loss=\"categorical_crossentropy\", optimizer=\"adam\", metrics=[\"accuracy\"])\n",
    "\n",
    "    globals()['FedAvg_L{}_iter{}_model'.format(i, global_epoch)].fit(globals()['L{}_x_train'.format(i)], globals()['L{}_y_train'.format(i)], batch_size=batch_size, epochs=epochs, validation_split=0.1, verbose=0)\n",
    "\n",
    "    loss, acc = globals()['FedAvg_L{}_iter{}_model'.format(i, global_epoch)].evaluate(globals()['L{}_x_test'.format(i,global_epoch)], globals()['L{}_y_test'.format(i)], verbose=2)\n",
    "    \n",
    "    cluster_acc.append(acc)  #acc 넣기\n",
    "    cluster_loss.append(loss)  #loss 넣기\n",
    "\n",
    "\n",
    "print(global_epoch, \"번째 global epoch 로컬 클라이언트 학습완료!,  Total Training time : \", time.time()-now,\"\\n\\n\")\n",
    "\n",
    "# 로컬 모델들 학습 완료하였고 로컬모델에서 weight, bias 추출 -------------------------------------------------------------------------------------\n",
    "\n",
    "for i in range(1, local):\n",
    "    for layer_index in num_layers_list:\n",
    "        w = globals()['FedAvg_L{}_iter{}_model'.format(i, global_epoch)].layers[layer_index].get_weights() #get_weights = w[0],b[1]로 구성\n",
    "\n",
    "        globals()['L{}_layer{}_w_tmp'.format(i,layer_index)] = w      # 클러스터링 용도\n",
    "        globals()['L{}_layer{}_w'.format(i,layer_index)] = w          # weight aggregation 용도\n",
    "            \n",
    "# 클러스터에 넣을 변수 선언\n",
    "\n",
    "for layer_index in num_layers_list:\n",
    "\n",
    "    globals()['layer{}_W_tmp'.format(layer_index)] = []\n",
    "    globals()['var_list_layer{}_w'.format(layer_index)] = []\n",
    "    globals()['var_list_layer{}_b'.format(layer_index)] = []\n",
    "  \n",
    "    for i in range(1, local):\n",
    "        globals()['var_list_layer{}_w'.format(layer_index)].append(np.var(globals()['L{}_layer{}_w'.format(i,layer_index)][0]))\n",
    "        globals()['var_list_layer{}_b'.format(layer_index)].append(np.var(globals()['L{}_layer{}_w'.format(i,layer_index)][1]))\n",
    "      \n",
    "        TMP_w = list(np.array(globals()['L{}_layer{}_w_tmp'.format(i,layer_index)][0]).reshape(-1))\n",
    "        TMP_b = list(np.array(globals()['L{}_layer{}_w_tmp'.format(i,layer_index)][1]).reshape(-1))\n",
    "        \n",
    "        TMP_w.extend(TMP_b) ##append 말고 더해야함..\n",
    "\n",
    "        TMP_w = np.array(TMP_w)\n",
    "        TMP_w = list(TMP_w.reshape(-1))\n",
    "        globals()['layer{}_W_tmp'.format(layer_index)].append(TMP_w)  #클러스터링 용도\n",
    "  \n",
    "\n",
    "    #----------------------------------------------------클러스터링 실시 -------------------------------------------------------------\n",
    "    silhoutte_score_w = []\n",
    "    transformed = globals()['layer{}_W_tmp'.format(layer_index)]\n",
    "\n",
    "    for clusters in range((int(local/2)-1)):       ####=>  이 범위 : 클러스터 갯수, 밑에 보면 cluster+2 있음 = 총 10개 => (0,11) = 10                                                       \n",
    "        kmeans_model_w = KMeans(n_clusters=clusters+2)   # 0, 1은 silhouette 에 안먹힘  \n",
    "\n",
    "        kmeans_model_w.fit(transformed)       #레이블 정의 \n",
    "\n",
    "        silhoutte_score_w.append(silhouette_score(globals()['layer{}_W_tmp'.format(layer_index)], kmeans_model_w.labels_, metric='euclidean'))  \n",
    "\n",
    "    num_clusters_for_w = np.argmax(silhoutte_score_w) \n",
    "    best_Sil_score_c.append(silhoutte_score_w[num_clusters_for_w])  # 처음에는 둘 다 넣어줌\n",
    "\n",
    "    kmeans_model_w = KMeans(n_clusters=num_clusters_for_w+2)   # 0, 1은 silhouette 에 안먹힘  \n",
    "\n",
    "    globals()['w_layer{}_label'.format(layer_index)] = kmeans_model_w.fit_predict(transformed)       # 가장 적합한 클러스터로 레이어에 속한 로컬들 레이블 정의 \n",
    "\n",
    "    globals()['G{}_num_clusters_in_layer{}_w'.format(global_epoch, layer_index)] = num_clusters_for_w + 2  #나중에 몇개로 나뉘었는지 알아야 함 = num_clusters_for_w이거 그대로 하면 밑에 저게 쓸일이 많아서 global 쓰면 코딩이 너무 번잡해짐;; \n",
    "    \n",
    "    label_list.append(globals()['w_layer{}_label'.format(layer_index)])                 \n",
    "    print(\"Layer : \", layer_index, \"  클러스터 갯수 정해짐!  갯수 : \", globals()['G{}_num_clusters_in_layer{}_w'.format(global_epoch, layer_index)], num_clusters_for_w) ########################################################******************************************\n",
    "\n",
    "    # ==========> 클러스터 갯수 정해짐\n",
    "\n",
    "\n",
    "    #----------------------------------------------- 스케일링  ---------------------------------------------------------------------\n",
    "    for num_c_w in range(num_clusters_for_w + 2): #클러스터 갯수 (num_clusters_for_w) 만큼 클러스터용 = 클러스터 갯수가 3이 나왔으면 3개를 만들어야 함\n",
    "        globals()['G{}_c{}_w_layer{}'.format(global_epoch, num_c_w, layer_index)] = 0  #각각 cluster, Act+cluster 용도  \n",
    "        \n",
    "        globals()['w_scaler_c{}_sum'.format(num_c_w)], globals()['int_c{}_w'.format(num_c_w)] = 0, 0 #초기화\n",
    "    \n",
    "        for i in range(1, local):\n",
    "            if globals()['w_layer{}_label'.format(layer_index)][i-1] == num_c_w  : # 클러스터 레이블에 맞게 (0 or 1 or 2 ..) \n",
    "                globals()['w_scaler_c{}_sum'.format(num_c_w)] = globals()['w_scaler_c{}_sum'.format(num_c_w)] + len(globals()['L{}_x_train'.format(i)])\n",
    "\n",
    "\n",
    "                globals()['L{}_layer{}_w'.format(i,layer_index)][0] = np.tanh(globals()['L{}_layer{}_w'.format(i,layer_index)][0])\n",
    "                globals()['L{}_layer{}_w'.format(i,layer_index)][1] = np.tanh(globals()['L{}_layer{}_w'.format(i,layer_index)][1])\n",
    "\n",
    "\n",
    "                globals()['G{}_c{}_w_layer{}'.format(global_epoch, num_c_w, layer_index)] = globals()['G{}_c{}_w_layer{}'.format(global_epoch, num_c_w, layer_index)] + np.array(globals()['L{}_layer{}_w'.format(i,layer_index)])          # 일반 클러스터링\n",
    "                \n",
    "                globals()['int_c{}_w'.format(num_c_w)] = globals()['int_c{}_w'.format(num_c_w)] + 1\n",
    "\n",
    "        globals()['w_scaler{}'.format(num_c_w)] = len(globals()['L{}_x_train'.format(i)]) / globals()['w_scaler_c{}_sum'.format(num_c_w)]\n",
    "        globals()['G{}_c{}_w_layer{}'.format(global_epoch, num_c_w, layer_index)] = globals()['G{}_c{}_w_layer{}'.format(global_epoch, num_c_w, layer_index)] / globals()['int_c{}_w'.format(num_c_w)] #레이어 별 클러스터 자기 갯수만큼 나눠주기=평균\n",
    "\n",
    "    \n",
    "    VAR_final_list_w.append(globals()['var_list_layer{}_w'.format(layer_index)])\n",
    "    VAR_final_list_b.append(globals()['var_list_layer{}_b'.format(layer_index)])\n",
    "\n",
    "#---------------------------------------------------------메모리 삭제-------------------------------------------------------------------\n",
    "\n",
    "transformed = 0\n",
    "Silhouette_sc_c.append(best_Sil_score_c)\n",
    "Cluster_ACC.append(cluster_acc)\n",
    "Cluster_LOSS.append(cluster_loss)\n",
    "\n",
    "## G{}_num_clusters_in_layer{}_w 에 속하는 거 말고 삭제 = 메모리 낭비\n",
    "\n",
    "# Weight, bias 합친 것\n",
    " # FedAvg                   :  G{}_w_layer\n",
    " # 일반 클러스터링          :  G{}_c{}_w_layer{}               클러스터 갯수 파악 : G{}_num_clusters_in_layer{}_w\n",
    " # Actiavtion + 클러스터링  :  G{}_c{}_w_layer{}_Act           클러스터 갯수 파악 : G{}_num_clusters_in_layer{}_w_c_a"
   ]
  },
  {
   "cell_type": "code",
   "execution_count": 8,
   "metadata": {
    "colab": {
     "base_uri": "https://localhost:8080/"
    },
    "id": "T6GDN301TefI",
    "outputId": "7c41f352-57d5-4dfd-dcc2-81cf97b5ef8c",
    "scrolled": true
   },
   "outputs": [
    {
     "name": "stdout",
     "output_type": "stream",
     "text": [
      "1  번째 global_epoch 데이터 랜덤하게 준비!!\n",
      "1  번째 global_epoch 데이터 랜덤 준비완료!!\n",
      "\n",
      "\n",
      "1  번째 global epoch에서 로컬 클라이언트 들 학습시작!\n",
      "\n",
      "학습 중 ...\n",
      "\n",
      "16/16 - 0s - loss: 0.6708 - accuracy: 0.7660\n",
      "16/16 - 0s - loss: 0.6276 - accuracy: 0.7500\n",
      "16/16 - 0s - loss: 0.7633 - accuracy: 0.7320\n",
      "16/16 - 0s - loss: 0.6585 - accuracy: 0.7580\n",
      "16/16 - 0s - loss: 0.6643 - accuracy: 0.7660\n",
      "16/16 - 0s - loss: 0.7654 - accuracy: 0.7220\n",
      "16/16 - 0s - loss: 0.5671 - accuracy: 0.7620\n",
      "16/16 - 0s - loss: 0.6364 - accuracy: 0.7720\n",
      "16/16 - 0s - loss: 0.6038 - accuracy: 0.7720\n",
      "16/16 - 0s - loss: 0.6256 - accuracy: 0.7840\n",
      "16/16 - 0s - loss: 0.4636 - accuracy: 0.8120\n",
      "16/16 - 0s - loss: 0.6480 - accuracy: 0.7820\n",
      "16/16 - 0s - loss: 0.6914 - accuracy: 0.7420\n",
      "16/16 - 0s - loss: 0.6514 - accuracy: 0.7440\n",
      "16/16 - 0s - loss: 0.5680 - accuracy: 0.8000\n",
      "16/16 - 0s - loss: 0.5068 - accuracy: 0.8380\n",
      "16/16 - 0s - loss: 0.5777 - accuracy: 0.8100\n",
      "16/16 - 0s - loss: 0.8004 - accuracy: 0.7180\n",
      "16/16 - 0s - loss: 0.6401 - accuracy: 0.7580\n",
      "16/16 - 0s - loss: 0.6621 - accuracy: 0.7580\n",
      "------------    1  번째 global epoch < Clustering > 로컬 클라이언트 학습 완료!,  Total Training time :  222.28025913238525 ---------------------------\n",
      "\n",
      "\n",
      "Layer :  0   클러스터 갯수 정해짐!  갯수 :  2 0\n"
     ]
    },
    {
     "name": "stderr",
     "output_type": "stream",
     "text": [
      "<ipython-input-8-91a1af1a5106>:147: VisibleDeprecationWarning: Creating an ndarray from ragged nested sequences (which is a list-or-tuple of lists-or-tuples-or ndarrays with different lengths or shapes) is deprecated. If you meant to do this, you must specify 'dtype=object' when creating the ndarray\n",
      "  globals()['G{}_c{}_w_layer{}'.format(global_epoch, num_c_w, layer_index)] = globals()['G{}_c{}_w_layer{}'.format(global_epoch, num_c_w, layer_index)] + np.array(globals()['L{}_layer{}_w_c'.format(i,layer_index)])   # 일반 클러스터링\n"
     ]
    },
    {
     "name": "stdout",
     "output_type": "stream",
     "text": [
      "Layer :  2   클러스터 갯수 정해짐!  갯수 :  2 0\n"
     ]
    },
    {
     "name": "stderr",
     "output_type": "stream",
     "text": [
      "<ipython-input-8-91a1af1a5106>:147: VisibleDeprecationWarning: Creating an ndarray from ragged nested sequences (which is a list-or-tuple of lists-or-tuples-or ndarrays with different lengths or shapes) is deprecated. If you meant to do this, you must specify 'dtype=object' when creating the ndarray\n",
      "  globals()['G{}_c{}_w_layer{}'.format(global_epoch, num_c_w, layer_index)] = globals()['G{}_c{}_w_layer{}'.format(global_epoch, num_c_w, layer_index)] + np.array(globals()['L{}_layer{}_w_c'.format(i,layer_index)])   # 일반 클러스터링\n"
     ]
    },
    {
     "name": "stdout",
     "output_type": "stream",
     "text": [
      "Layer :  4   클러스터 갯수 정해짐!  갯수 :  2 0\n"
     ]
    },
    {
     "name": "stderr",
     "output_type": "stream",
     "text": [
      "<ipython-input-8-91a1af1a5106>:147: VisibleDeprecationWarning: Creating an ndarray from ragged nested sequences (which is a list-or-tuple of lists-or-tuples-or ndarrays with different lengths or shapes) is deprecated. If you meant to do this, you must specify 'dtype=object' when creating the ndarray\n",
      "  globals()['G{}_c{}_w_layer{}'.format(global_epoch, num_c_w, layer_index)] = globals()['G{}_c{}_w_layer{}'.format(global_epoch, num_c_w, layer_index)] + np.array(globals()['L{}_layer{}_w_c'.format(i,layer_index)])   # 일반 클러스터링\n"
     ]
    },
    {
     "name": "stdout",
     "output_type": "stream",
     "text": [
      "Layer :  6   클러스터 갯수 정해짐!  갯수 :  2 0\n"
     ]
    },
    {
     "name": "stderr",
     "output_type": "stream",
     "text": [
      "<ipython-input-8-91a1af1a5106>:147: VisibleDeprecationWarning: Creating an ndarray from ragged nested sequences (which is a list-or-tuple of lists-or-tuples-or ndarrays with different lengths or shapes) is deprecated. If you meant to do this, you must specify 'dtype=object' when creating the ndarray\n",
      "  globals()['G{}_c{}_w_layer{}'.format(global_epoch, num_c_w, layer_index)] = globals()['G{}_c{}_w_layer{}'.format(global_epoch, num_c_w, layer_index)] + np.array(globals()['L{}_layer{}_w_c'.format(i,layer_index)])   # 일반 클러스터링\n"
     ]
    },
    {
     "name": "stdout",
     "output_type": "stream",
     "text": [
      "Layer :  7   클러스터 갯수 정해짐!  갯수 :  4 2\n",
      "\n",
      "\n",
      "====================================================== One Global Epoch =====================================================================\n",
      "\n",
      "\n",
      "2  번째 global_epoch 데이터 랜덤하게 준비!!\n"
     ]
    },
    {
     "name": "stderr",
     "output_type": "stream",
     "text": [
      "<ipython-input-8-91a1af1a5106>:147: VisibleDeprecationWarning: Creating an ndarray from ragged nested sequences (which is a list-or-tuple of lists-or-tuples-or ndarrays with different lengths or shapes) is deprecated. If you meant to do this, you must specify 'dtype=object' when creating the ndarray\n",
      "  globals()['G{}_c{}_w_layer{}'.format(global_epoch, num_c_w, layer_index)] = globals()['G{}_c{}_w_layer{}'.format(global_epoch, num_c_w, layer_index)] + np.array(globals()['L{}_layer{}_w_c'.format(i,layer_index)])   # 일반 클러스터링\n"
     ]
    },
    {
     "name": "stdout",
     "output_type": "stream",
     "text": [
      "2  번째 global_epoch 데이터 랜덤 준비완료!!\n",
      "\n",
      "\n",
      "2  번째 global epoch에서 로컬 클라이언트 들 학습시작!\n",
      "\n",
      "학습 중 ...\n",
      "\n",
      "16/16 - 0s - loss: 0.5855 - accuracy: 0.8040\n",
      "16/16 - 0s - loss: 0.6319 - accuracy: 0.7820\n",
      "16/16 - 0s - loss: 0.6351 - accuracy: 0.7800\n",
      "16/16 - 0s - loss: 0.5645 - accuracy: 0.8080\n",
      "16/16 - 0s - loss: 0.6499 - accuracy: 0.7620\n",
      "16/16 - 0s - loss: 0.5955 - accuracy: 0.7920\n",
      "16/16 - 0s - loss: 0.6287 - accuracy: 0.7460\n",
      "16/16 - 0s - loss: 0.5659 - accuracy: 0.8080\n",
      "16/16 - 0s - loss: 0.6236 - accuracy: 0.7860\n",
      "16/16 - 0s - loss: 0.5187 - accuracy: 0.8160\n",
      "16/16 - 0s - loss: 0.5449 - accuracy: 0.8040\n",
      "16/16 - 0s - loss: 0.6672 - accuracy: 0.7500\n",
      "16/16 - 0s - loss: 0.5834 - accuracy: 0.7860\n",
      "16/16 - 0s - loss: 0.7038 - accuracy: 0.7480\n",
      "16/16 - 0s - loss: 0.6112 - accuracy: 0.7800\n",
      "16/16 - 0s - loss: 0.5572 - accuracy: 0.7920\n",
      "16/16 - 0s - loss: 0.6494 - accuracy: 0.7740\n",
      "16/16 - 0s - loss: 0.5875 - accuracy: 0.7620\n",
      "16/16 - 0s - loss: 0.6244 - accuracy: 0.7700\n",
      "16/16 - 0s - loss: 0.5778 - accuracy: 0.7980\n",
      "------------    2  번째 global epoch < Clustering > 로컬 클라이언트 학습 완료!,  Total Training time :  227.02594423294067 ---------------------------\n",
      "\n",
      "\n",
      "Layer :  0   클러스터 갯수 정해짐!  갯수 :  2 0\n"
     ]
    },
    {
     "name": "stderr",
     "output_type": "stream",
     "text": [
      "<ipython-input-8-91a1af1a5106>:147: VisibleDeprecationWarning: Creating an ndarray from ragged nested sequences (which is a list-or-tuple of lists-or-tuples-or ndarrays with different lengths or shapes) is deprecated. If you meant to do this, you must specify 'dtype=object' when creating the ndarray\n",
      "  globals()['G{}_c{}_w_layer{}'.format(global_epoch, num_c_w, layer_index)] = globals()['G{}_c{}_w_layer{}'.format(global_epoch, num_c_w, layer_index)] + np.array(globals()['L{}_layer{}_w_c'.format(i,layer_index)])   # 일반 클러스터링\n"
     ]
    },
    {
     "name": "stdout",
     "output_type": "stream",
     "text": [
      "Layer :  2   클러스터 갯수 정해짐!  갯수 :  2 0\n"
     ]
    },
    {
     "name": "stderr",
     "output_type": "stream",
     "text": [
      "<ipython-input-8-91a1af1a5106>:147: VisibleDeprecationWarning: Creating an ndarray from ragged nested sequences (which is a list-or-tuple of lists-or-tuples-or ndarrays with different lengths or shapes) is deprecated. If you meant to do this, you must specify 'dtype=object' when creating the ndarray\n",
      "  globals()['G{}_c{}_w_layer{}'.format(global_epoch, num_c_w, layer_index)] = globals()['G{}_c{}_w_layer{}'.format(global_epoch, num_c_w, layer_index)] + np.array(globals()['L{}_layer{}_w_c'.format(i,layer_index)])   # 일반 클러스터링\n"
     ]
    },
    {
     "name": "stdout",
     "output_type": "stream",
     "text": [
      "Layer :  4   클러스터 갯수 정해짐!  갯수 :  2 0\n"
     ]
    },
    {
     "name": "stderr",
     "output_type": "stream",
     "text": [
      "<ipython-input-8-91a1af1a5106>:147: VisibleDeprecationWarning: Creating an ndarray from ragged nested sequences (which is a list-or-tuple of lists-or-tuples-or ndarrays with different lengths or shapes) is deprecated. If you meant to do this, you must specify 'dtype=object' when creating the ndarray\n",
      "  globals()['G{}_c{}_w_layer{}'.format(global_epoch, num_c_w, layer_index)] = globals()['G{}_c{}_w_layer{}'.format(global_epoch, num_c_w, layer_index)] + np.array(globals()['L{}_layer{}_w_c'.format(i,layer_index)])   # 일반 클러스터링\n"
     ]
    },
    {
     "name": "stdout",
     "output_type": "stream",
     "text": [
      "Layer :  6   클러스터 갯수 정해짐!  갯수 :  2 0\n"
     ]
    },
    {
     "name": "stderr",
     "output_type": "stream",
     "text": [
      "<ipython-input-8-91a1af1a5106>:147: VisibleDeprecationWarning: Creating an ndarray from ragged nested sequences (which is a list-or-tuple of lists-or-tuples-or ndarrays with different lengths or shapes) is deprecated. If you meant to do this, you must specify 'dtype=object' when creating the ndarray\n",
      "  globals()['G{}_c{}_w_layer{}'.format(global_epoch, num_c_w, layer_index)] = globals()['G{}_c{}_w_layer{}'.format(global_epoch, num_c_w, layer_index)] + np.array(globals()['L{}_layer{}_w_c'.format(i,layer_index)])   # 일반 클러스터링\n"
     ]
    },
    {
     "name": "stdout",
     "output_type": "stream",
     "text": [
      "Layer :  7   클러스터 갯수 정해짐!  갯수 :  4 2\n",
      "\n",
      "\n",
      "====================================================== One Global Epoch =====================================================================\n",
      "\n",
      "\n",
      "3  번째 global_epoch 데이터 랜덤하게 준비!!\n"
     ]
    },
    {
     "name": "stderr",
     "output_type": "stream",
     "text": [
      "<ipython-input-8-91a1af1a5106>:147: VisibleDeprecationWarning: Creating an ndarray from ragged nested sequences (which is a list-or-tuple of lists-or-tuples-or ndarrays with different lengths or shapes) is deprecated. If you meant to do this, you must specify 'dtype=object' when creating the ndarray\n",
      "  globals()['G{}_c{}_w_layer{}'.format(global_epoch, num_c_w, layer_index)] = globals()['G{}_c{}_w_layer{}'.format(global_epoch, num_c_w, layer_index)] + np.array(globals()['L{}_layer{}_w_c'.format(i,layer_index)])   # 일반 클러스터링\n"
     ]
    },
    {
     "name": "stdout",
     "output_type": "stream",
     "text": [
      "3  번째 global_epoch 데이터 랜덤 준비완료!!\n",
      "\n",
      "\n",
      "3  번째 global epoch에서 로컬 클라이언트 들 학습시작!\n",
      "\n",
      "학습 중 ...\n",
      "\n",
      "16/16 - 0s - loss: 0.4997 - accuracy: 0.8180\n",
      "16/16 - 0s - loss: 0.6125 - accuracy: 0.8200\n",
      "16/16 - 0s - loss: 0.6496 - accuracy: 0.7720\n",
      "16/16 - 0s - loss: 0.5996 - accuracy: 0.7880\n",
      "16/16 - 0s - loss: 0.4900 - accuracy: 0.8240\n",
      "16/16 - 0s - loss: 0.6110 - accuracy: 0.7940\n",
      "16/16 - 0s - loss: 0.4845 - accuracy: 0.8420\n",
      "16/16 - 0s - loss: 0.5366 - accuracy: 0.7900\n",
      "16/16 - 0s - loss: 0.6292 - accuracy: 0.7780\n",
      "16/16 - 0s - loss: 0.5140 - accuracy: 0.8300\n",
      "16/16 - 0s - loss: 0.5129 - accuracy: 0.8200\n",
      "16/16 - 0s - loss: 0.5504 - accuracy: 0.8040\n",
      "16/16 - 0s - loss: 0.5826 - accuracy: 0.8080\n",
      "16/16 - 0s - loss: 0.6086 - accuracy: 0.7760\n",
      "16/16 - 0s - loss: 0.6954 - accuracy: 0.7980\n",
      "16/16 - 0s - loss: 0.5374 - accuracy: 0.8360\n",
      "16/16 - 0s - loss: 0.6117 - accuracy: 0.8040\n",
      "16/16 - 0s - loss: 0.5811 - accuracy: 0.8300\n",
      "16/16 - 0s - loss: 0.5220 - accuracy: 0.8240\n",
      "16/16 - 0s - loss: 0.5219 - accuracy: 0.8180\n",
      "------------    3  번째 global epoch < Clustering > 로컬 클라이언트 학습 완료!,  Total Training time :  229.872722864151 ---------------------------\n",
      "\n",
      "\n",
      "Layer :  0   클러스터 갯수 정해짐!  갯수 :  2 0\n"
     ]
    },
    {
     "name": "stderr",
     "output_type": "stream",
     "text": [
      "<ipython-input-8-91a1af1a5106>:147: VisibleDeprecationWarning: Creating an ndarray from ragged nested sequences (which is a list-or-tuple of lists-or-tuples-or ndarrays with different lengths or shapes) is deprecated. If you meant to do this, you must specify 'dtype=object' when creating the ndarray\n",
      "  globals()['G{}_c{}_w_layer{}'.format(global_epoch, num_c_w, layer_index)] = globals()['G{}_c{}_w_layer{}'.format(global_epoch, num_c_w, layer_index)] + np.array(globals()['L{}_layer{}_w_c'.format(i,layer_index)])   # 일반 클러스터링\n"
     ]
    },
    {
     "name": "stdout",
     "output_type": "stream",
     "text": [
      "Layer :  2   클러스터 갯수 정해짐!  갯수 :  2 0\n"
     ]
    },
    {
     "name": "stderr",
     "output_type": "stream",
     "text": [
      "<ipython-input-8-91a1af1a5106>:147: VisibleDeprecationWarning: Creating an ndarray from ragged nested sequences (which is a list-or-tuple of lists-or-tuples-or ndarrays with different lengths or shapes) is deprecated. If you meant to do this, you must specify 'dtype=object' when creating the ndarray\n",
      "  globals()['G{}_c{}_w_layer{}'.format(global_epoch, num_c_w, layer_index)] = globals()['G{}_c{}_w_layer{}'.format(global_epoch, num_c_w, layer_index)] + np.array(globals()['L{}_layer{}_w_c'.format(i,layer_index)])   # 일반 클러스터링\n"
     ]
    },
    {
     "name": "stdout",
     "output_type": "stream",
     "text": [
      "Layer :  4   클러스터 갯수 정해짐!  갯수 :  2 0\n"
     ]
    },
    {
     "name": "stderr",
     "output_type": "stream",
     "text": [
      "<ipython-input-8-91a1af1a5106>:147: VisibleDeprecationWarning: Creating an ndarray from ragged nested sequences (which is a list-or-tuple of lists-or-tuples-or ndarrays with different lengths or shapes) is deprecated. If you meant to do this, you must specify 'dtype=object' when creating the ndarray\n",
      "  globals()['G{}_c{}_w_layer{}'.format(global_epoch, num_c_w, layer_index)] = globals()['G{}_c{}_w_layer{}'.format(global_epoch, num_c_w, layer_index)] + np.array(globals()['L{}_layer{}_w_c'.format(i,layer_index)])   # 일반 클러스터링\n"
     ]
    },
    {
     "name": "stdout",
     "output_type": "stream",
     "text": [
      "Layer :  6   클러스터 갯수 정해짐!  갯수 :  2 0\n"
     ]
    },
    {
     "name": "stderr",
     "output_type": "stream",
     "text": [
      "<ipython-input-8-91a1af1a5106>:147: VisibleDeprecationWarning: Creating an ndarray from ragged nested sequences (which is a list-or-tuple of lists-or-tuples-or ndarrays with different lengths or shapes) is deprecated. If you meant to do this, you must specify 'dtype=object' when creating the ndarray\n",
      "  globals()['G{}_c{}_w_layer{}'.format(global_epoch, num_c_w, layer_index)] = globals()['G{}_c{}_w_layer{}'.format(global_epoch, num_c_w, layer_index)] + np.array(globals()['L{}_layer{}_w_c'.format(i,layer_index)])   # 일반 클러스터링\n"
     ]
    },
    {
     "name": "stdout",
     "output_type": "stream",
     "text": [
      "Layer :  7   클러스터 갯수 정해짐!  갯수 :  4 2\n",
      "\n",
      "\n",
      "====================================================== One Global Epoch =====================================================================\n",
      "\n",
      "\n",
      "4  번째 global_epoch 데이터 랜덤하게 준비!!\n"
     ]
    },
    {
     "name": "stderr",
     "output_type": "stream",
     "text": [
      "<ipython-input-8-91a1af1a5106>:147: VisibleDeprecationWarning: Creating an ndarray from ragged nested sequences (which is a list-or-tuple of lists-or-tuples-or ndarrays with different lengths or shapes) is deprecated. If you meant to do this, you must specify 'dtype=object' when creating the ndarray\n",
      "  globals()['G{}_c{}_w_layer{}'.format(global_epoch, num_c_w, layer_index)] = globals()['G{}_c{}_w_layer{}'.format(global_epoch, num_c_w, layer_index)] + np.array(globals()['L{}_layer{}_w_c'.format(i,layer_index)])   # 일반 클러스터링\n"
     ]
    },
    {
     "name": "stdout",
     "output_type": "stream",
     "text": [
      "4  번째 global_epoch 데이터 랜덤 준비완료!!\n",
      "\n",
      "\n",
      "4  번째 global epoch에서 로컬 클라이언트 들 학습시작!\n",
      "\n",
      "학습 중 ...\n",
      "\n",
      "16/16 - 0s - loss: 0.5983 - accuracy: 0.8220\n",
      "16/16 - 0s - loss: 0.5823 - accuracy: 0.8080\n",
      "16/16 - 0s - loss: 0.6352 - accuracy: 0.8200\n",
      "16/16 - 0s - loss: 0.3864 - accuracy: 0.8620\n",
      "16/16 - 0s - loss: 0.5892 - accuracy: 0.7960\n",
      "16/16 - 0s - loss: 0.5775 - accuracy: 0.8080\n",
      "16/16 - 0s - loss: 0.5514 - accuracy: 0.8060\n",
      "16/16 - 0s - loss: 0.4844 - accuracy: 0.8260\n",
      "16/16 - 0s - loss: 0.5788 - accuracy: 0.8100\n",
      "16/16 - 0s - loss: 0.5293 - accuracy: 0.8160\n",
      "16/16 - 0s - loss: 0.6527 - accuracy: 0.8120\n",
      "16/16 - 0s - loss: 0.5345 - accuracy: 0.8280\n",
      "16/16 - 0s - loss: 0.5908 - accuracy: 0.8000\n",
      "16/16 - 0s - loss: 0.4298 - accuracy: 0.8440\n",
      "16/16 - 0s - loss: 0.5027 - accuracy: 0.8380\n",
      "16/16 - 0s - loss: 0.5333 - accuracy: 0.8500\n",
      "16/16 - 0s - loss: 0.5930 - accuracy: 0.8180\n",
      "16/16 - 0s - loss: 0.5797 - accuracy: 0.8320\n",
      "16/16 - 0s - loss: 0.5513 - accuracy: 0.8360\n",
      "16/16 - 0s - loss: 0.6706 - accuracy: 0.7820\n",
      "------------    4  번째 global epoch < Clustering > 로컬 클라이언트 학습 완료!,  Total Training time :  237.89619421958923 ---------------------------\n",
      "\n",
      "\n",
      "Layer :  0   클러스터 갯수 정해짐!  갯수 :  2 0\n"
     ]
    },
    {
     "name": "stderr",
     "output_type": "stream",
     "text": [
      "<ipython-input-8-91a1af1a5106>:147: VisibleDeprecationWarning: Creating an ndarray from ragged nested sequences (which is a list-or-tuple of lists-or-tuples-or ndarrays with different lengths or shapes) is deprecated. If you meant to do this, you must specify 'dtype=object' when creating the ndarray\n",
      "  globals()['G{}_c{}_w_layer{}'.format(global_epoch, num_c_w, layer_index)] = globals()['G{}_c{}_w_layer{}'.format(global_epoch, num_c_w, layer_index)] + np.array(globals()['L{}_layer{}_w_c'.format(i,layer_index)])   # 일반 클러스터링\n"
     ]
    },
    {
     "name": "stdout",
     "output_type": "stream",
     "text": [
      "Layer :  2   클러스터 갯수 정해짐!  갯수 :  2 0\n"
     ]
    },
    {
     "name": "stderr",
     "output_type": "stream",
     "text": [
      "<ipython-input-8-91a1af1a5106>:147: VisibleDeprecationWarning: Creating an ndarray from ragged nested sequences (which is a list-or-tuple of lists-or-tuples-or ndarrays with different lengths or shapes) is deprecated. If you meant to do this, you must specify 'dtype=object' when creating the ndarray\n",
      "  globals()['G{}_c{}_w_layer{}'.format(global_epoch, num_c_w, layer_index)] = globals()['G{}_c{}_w_layer{}'.format(global_epoch, num_c_w, layer_index)] + np.array(globals()['L{}_layer{}_w_c'.format(i,layer_index)])   # 일반 클러스터링\n"
     ]
    },
    {
     "name": "stdout",
     "output_type": "stream",
     "text": [
      "Layer :  4   클러스터 갯수 정해짐!  갯수 :  2 0\n"
     ]
    },
    {
     "name": "stderr",
     "output_type": "stream",
     "text": [
      "<ipython-input-8-91a1af1a5106>:147: VisibleDeprecationWarning: Creating an ndarray from ragged nested sequences (which is a list-or-tuple of lists-or-tuples-or ndarrays with different lengths or shapes) is deprecated. If you meant to do this, you must specify 'dtype=object' when creating the ndarray\n",
      "  globals()['G{}_c{}_w_layer{}'.format(global_epoch, num_c_w, layer_index)] = globals()['G{}_c{}_w_layer{}'.format(global_epoch, num_c_w, layer_index)] + np.array(globals()['L{}_layer{}_w_c'.format(i,layer_index)])   # 일반 클러스터링\n"
     ]
    },
    {
     "name": "stdout",
     "output_type": "stream",
     "text": [
      "Layer :  6   클러스터 갯수 정해짐!  갯수 :  2 0\n"
     ]
    },
    {
     "name": "stderr",
     "output_type": "stream",
     "text": [
      "<ipython-input-8-91a1af1a5106>:147: VisibleDeprecationWarning: Creating an ndarray from ragged nested sequences (which is a list-or-tuple of lists-or-tuples-or ndarrays with different lengths or shapes) is deprecated. If you meant to do this, you must specify 'dtype=object' when creating the ndarray\n",
      "  globals()['G{}_c{}_w_layer{}'.format(global_epoch, num_c_w, layer_index)] = globals()['G{}_c{}_w_layer{}'.format(global_epoch, num_c_w, layer_index)] + np.array(globals()['L{}_layer{}_w_c'.format(i,layer_index)])   # 일반 클러스터링\n"
     ]
    },
    {
     "name": "stdout",
     "output_type": "stream",
     "text": [
      "Layer :  7   클러스터 갯수 정해짐!  갯수 :  4 2\n",
      "\n",
      "\n",
      "====================================================== One Global Epoch =====================================================================\n",
      "\n",
      "\n",
      "5  번째 global_epoch 데이터 랜덤하게 준비!!\n"
     ]
    },
    {
     "name": "stderr",
     "output_type": "stream",
     "text": [
      "<ipython-input-8-91a1af1a5106>:147: VisibleDeprecationWarning: Creating an ndarray from ragged nested sequences (which is a list-or-tuple of lists-or-tuples-or ndarrays with different lengths or shapes) is deprecated. If you meant to do this, you must specify 'dtype=object' when creating the ndarray\n",
      "  globals()['G{}_c{}_w_layer{}'.format(global_epoch, num_c_w, layer_index)] = globals()['G{}_c{}_w_layer{}'.format(global_epoch, num_c_w, layer_index)] + np.array(globals()['L{}_layer{}_w_c'.format(i,layer_index)])   # 일반 클러스터링\n"
     ]
    },
    {
     "name": "stdout",
     "output_type": "stream",
     "text": [
      "5  번째 global_epoch 데이터 랜덤 준비완료!!\n",
      "\n",
      "\n",
      "5  번째 global epoch에서 로컬 클라이언트 들 학습시작!\n",
      "\n",
      "학습 중 ...\n",
      "\n",
      "16/16 - 0s - loss: 0.5787 - accuracy: 0.8220\n",
      "16/16 - 0s - loss: 0.7123 - accuracy: 0.8020\n",
      "16/16 - 0s - loss: 0.5135 - accuracy: 0.8140\n",
      "16/16 - 0s - loss: 0.4054 - accuracy: 0.8560\n",
      "16/16 - 0s - loss: 0.6049 - accuracy: 0.8320\n",
      "16/16 - 0s - loss: 0.7158 - accuracy: 0.8060\n",
      "16/16 - 0s - loss: 0.6663 - accuracy: 0.8360\n",
      "16/16 - 0s - loss: 0.5265 - accuracy: 0.8320\n",
      "16/16 - 0s - loss: 0.6589 - accuracy: 0.7880\n",
      "16/16 - 0s - loss: 0.4945 - accuracy: 0.8320\n",
      "16/16 - 0s - loss: 0.5510 - accuracy: 0.8540\n",
      "16/16 - 0s - loss: 0.4293 - accuracy: 0.8700\n",
      "16/16 - 0s - loss: 0.5246 - accuracy: 0.8260\n",
      "16/16 - 0s - loss: 0.5213 - accuracy: 0.8300\n",
      "16/16 - 0s - loss: 0.6644 - accuracy: 0.7940\n",
      "16/16 - 0s - loss: 0.5072 - accuracy: 0.8460\n",
      "16/16 - 0s - loss: 0.4930 - accuracy: 0.8240\n",
      "16/16 - 0s - loss: 0.6175 - accuracy: 0.8320\n",
      "16/16 - 0s - loss: 0.5905 - accuracy: 0.8380\n",
      "16/16 - 0s - loss: 0.6247 - accuracy: 0.8080\n",
      "------------    5  번째 global epoch < Clustering > 로컬 클라이언트 학습 완료!,  Total Training time :  245.79971647262573 ---------------------------\n",
      "\n",
      "\n",
      "Layer :  0   클러스터 갯수 정해짐!  갯수 :  2 0\n"
     ]
    },
    {
     "name": "stderr",
     "output_type": "stream",
     "text": [
      "<ipython-input-8-91a1af1a5106>:147: VisibleDeprecationWarning: Creating an ndarray from ragged nested sequences (which is a list-or-tuple of lists-or-tuples-or ndarrays with different lengths or shapes) is deprecated. If you meant to do this, you must specify 'dtype=object' when creating the ndarray\n",
      "  globals()['G{}_c{}_w_layer{}'.format(global_epoch, num_c_w, layer_index)] = globals()['G{}_c{}_w_layer{}'.format(global_epoch, num_c_w, layer_index)] + np.array(globals()['L{}_layer{}_w_c'.format(i,layer_index)])   # 일반 클러스터링\n"
     ]
    },
    {
     "name": "stdout",
     "output_type": "stream",
     "text": [
      "Layer :  2   클러스터 갯수 정해짐!  갯수 :  2 0\n"
     ]
    },
    {
     "name": "stderr",
     "output_type": "stream",
     "text": [
      "<ipython-input-8-91a1af1a5106>:147: VisibleDeprecationWarning: Creating an ndarray from ragged nested sequences (which is a list-or-tuple of lists-or-tuples-or ndarrays with different lengths or shapes) is deprecated. If you meant to do this, you must specify 'dtype=object' when creating the ndarray\n",
      "  globals()['G{}_c{}_w_layer{}'.format(global_epoch, num_c_w, layer_index)] = globals()['G{}_c{}_w_layer{}'.format(global_epoch, num_c_w, layer_index)] + np.array(globals()['L{}_layer{}_w_c'.format(i,layer_index)])   # 일반 클러스터링\n"
     ]
    },
    {
     "name": "stdout",
     "output_type": "stream",
     "text": [
      "Layer :  4   클러스터 갯수 정해짐!  갯수 :  2 0\n"
     ]
    },
    {
     "name": "stderr",
     "output_type": "stream",
     "text": [
      "<ipython-input-8-91a1af1a5106>:147: VisibleDeprecationWarning: Creating an ndarray from ragged nested sequences (which is a list-or-tuple of lists-or-tuples-or ndarrays with different lengths or shapes) is deprecated. If you meant to do this, you must specify 'dtype=object' when creating the ndarray\n",
      "  globals()['G{}_c{}_w_layer{}'.format(global_epoch, num_c_w, layer_index)] = globals()['G{}_c{}_w_layer{}'.format(global_epoch, num_c_w, layer_index)] + np.array(globals()['L{}_layer{}_w_c'.format(i,layer_index)])   # 일반 클러스터링\n"
     ]
    },
    {
     "name": "stdout",
     "output_type": "stream",
     "text": [
      "Layer :  6   클러스터 갯수 정해짐!  갯수 :  2 0\n"
     ]
    },
    {
     "name": "stderr",
     "output_type": "stream",
     "text": [
      "<ipython-input-8-91a1af1a5106>:147: VisibleDeprecationWarning: Creating an ndarray from ragged nested sequences (which is a list-or-tuple of lists-or-tuples-or ndarrays with different lengths or shapes) is deprecated. If you meant to do this, you must specify 'dtype=object' when creating the ndarray\n",
      "  globals()['G{}_c{}_w_layer{}'.format(global_epoch, num_c_w, layer_index)] = globals()['G{}_c{}_w_layer{}'.format(global_epoch, num_c_w, layer_index)] + np.array(globals()['L{}_layer{}_w_c'.format(i,layer_index)])   # 일반 클러스터링\n"
     ]
    },
    {
     "name": "stdout",
     "output_type": "stream",
     "text": [
      "Layer :  7   클러스터 갯수 정해짐!  갯수 :  4 2\n",
      "\n",
      "\n",
      "====================================================== One Global Epoch =====================================================================\n",
      "\n",
      "\n",
      "6  번째 global_epoch 데이터 랜덤하게 준비!!\n"
     ]
    },
    {
     "name": "stderr",
     "output_type": "stream",
     "text": [
      "<ipython-input-8-91a1af1a5106>:147: VisibleDeprecationWarning: Creating an ndarray from ragged nested sequences (which is a list-or-tuple of lists-or-tuples-or ndarrays with different lengths or shapes) is deprecated. If you meant to do this, you must specify 'dtype=object' when creating the ndarray\n",
      "  globals()['G{}_c{}_w_layer{}'.format(global_epoch, num_c_w, layer_index)] = globals()['G{}_c{}_w_layer{}'.format(global_epoch, num_c_w, layer_index)] + np.array(globals()['L{}_layer{}_w_c'.format(i,layer_index)])   # 일반 클러스터링\n"
     ]
    },
    {
     "name": "stdout",
     "output_type": "stream",
     "text": [
      "6  번째 global_epoch 데이터 랜덤 준비완료!!\n",
      "\n",
      "\n",
      "6  번째 global epoch에서 로컬 클라이언트 들 학습시작!\n",
      "\n",
      "학습 중 ...\n",
      "\n",
      "16/16 - 0s - loss: 0.5575 - accuracy: 0.8340\n",
      "16/16 - 0s - loss: 0.5715 - accuracy: 0.8260\n",
      "16/16 - 0s - loss: 0.5001 - accuracy: 0.8540\n",
      "16/16 - 0s - loss: 0.6621 - accuracy: 0.8020\n",
      "16/16 - 0s - loss: 0.5828 - accuracy: 0.8280\n",
      "16/16 - 0s - loss: 0.5419 - accuracy: 0.8580\n",
      "16/16 - 0s - loss: 0.6430 - accuracy: 0.8400\n",
      "16/16 - 0s - loss: 0.5695 - accuracy: 0.8160\n",
      "16/16 - 0s - loss: 0.6133 - accuracy: 0.8220\n",
      "16/16 - 0s - loss: 0.6256 - accuracy: 0.8140\n",
      "16/16 - 0s - loss: 0.5280 - accuracy: 0.8120\n",
      "16/16 - 0s - loss: 0.6008 - accuracy: 0.8300\n",
      "16/16 - 0s - loss: 0.5400 - accuracy: 0.8360\n",
      "16/16 - 0s - loss: 0.5559 - accuracy: 0.8440\n",
      "16/16 - 0s - loss: 0.5359 - accuracy: 0.8520\n",
      "16/16 - 0s - loss: 0.6337 - accuracy: 0.8420\n",
      "16/16 - 0s - loss: 0.5863 - accuracy: 0.8640\n",
      "16/16 - 0s - loss: 0.6767 - accuracy: 0.8220\n",
      "16/16 - 0s - loss: 0.4765 - accuracy: 0.8460\n",
      "16/16 - 0s - loss: 0.5697 - accuracy: 0.8400\n",
      "------------    6  번째 global epoch < Clustering > 로컬 클라이언트 학습 완료!,  Total Training time :  249.6242470741272 ---------------------------\n",
      "\n",
      "\n",
      "Layer :  0   클러스터 갯수 정해짐!  갯수 :  2 0\n"
     ]
    },
    {
     "name": "stderr",
     "output_type": "stream",
     "text": [
      "<ipython-input-8-91a1af1a5106>:147: VisibleDeprecationWarning: Creating an ndarray from ragged nested sequences (which is a list-or-tuple of lists-or-tuples-or ndarrays with different lengths or shapes) is deprecated. If you meant to do this, you must specify 'dtype=object' when creating the ndarray\n",
      "  globals()['G{}_c{}_w_layer{}'.format(global_epoch, num_c_w, layer_index)] = globals()['G{}_c{}_w_layer{}'.format(global_epoch, num_c_w, layer_index)] + np.array(globals()['L{}_layer{}_w_c'.format(i,layer_index)])   # 일반 클러스터링\n"
     ]
    },
    {
     "name": "stdout",
     "output_type": "stream",
     "text": [
      "Layer :  2   클러스터 갯수 정해짐!  갯수 :  2 0\n"
     ]
    },
    {
     "name": "stderr",
     "output_type": "stream",
     "text": [
      "<ipython-input-8-91a1af1a5106>:147: VisibleDeprecationWarning: Creating an ndarray from ragged nested sequences (which is a list-or-tuple of lists-or-tuples-or ndarrays with different lengths or shapes) is deprecated. If you meant to do this, you must specify 'dtype=object' when creating the ndarray\n",
      "  globals()['G{}_c{}_w_layer{}'.format(global_epoch, num_c_w, layer_index)] = globals()['G{}_c{}_w_layer{}'.format(global_epoch, num_c_w, layer_index)] + np.array(globals()['L{}_layer{}_w_c'.format(i,layer_index)])   # 일반 클러스터링\n"
     ]
    },
    {
     "name": "stdout",
     "output_type": "stream",
     "text": [
      "Layer :  4   클러스터 갯수 정해짐!  갯수 :  2 0\n"
     ]
    },
    {
     "name": "stderr",
     "output_type": "stream",
     "text": [
      "<ipython-input-8-91a1af1a5106>:147: VisibleDeprecationWarning: Creating an ndarray from ragged nested sequences (which is a list-or-tuple of lists-or-tuples-or ndarrays with different lengths or shapes) is deprecated. If you meant to do this, you must specify 'dtype=object' when creating the ndarray\n",
      "  globals()['G{}_c{}_w_layer{}'.format(global_epoch, num_c_w, layer_index)] = globals()['G{}_c{}_w_layer{}'.format(global_epoch, num_c_w, layer_index)] + np.array(globals()['L{}_layer{}_w_c'.format(i,layer_index)])   # 일반 클러스터링\n"
     ]
    },
    {
     "name": "stdout",
     "output_type": "stream",
     "text": [
      "Layer :  6   클러스터 갯수 정해짐!  갯수 :  2 0\n"
     ]
    },
    {
     "name": "stderr",
     "output_type": "stream",
     "text": [
      "<ipython-input-8-91a1af1a5106>:147: VisibleDeprecationWarning: Creating an ndarray from ragged nested sequences (which is a list-or-tuple of lists-or-tuples-or ndarrays with different lengths or shapes) is deprecated. If you meant to do this, you must specify 'dtype=object' when creating the ndarray\n",
      "  globals()['G{}_c{}_w_layer{}'.format(global_epoch, num_c_w, layer_index)] = globals()['G{}_c{}_w_layer{}'.format(global_epoch, num_c_w, layer_index)] + np.array(globals()['L{}_layer{}_w_c'.format(i,layer_index)])   # 일반 클러스터링\n"
     ]
    },
    {
     "name": "stdout",
     "output_type": "stream",
     "text": [
      "Layer :  7   클러스터 갯수 정해짐!  갯수 :  4 2\n",
      "\n",
      "\n",
      "====================================================== One Global Epoch =====================================================================\n",
      "\n",
      "\n",
      "7  번째 global_epoch 데이터 랜덤하게 준비!!\n"
     ]
    },
    {
     "name": "stderr",
     "output_type": "stream",
     "text": [
      "<ipython-input-8-91a1af1a5106>:147: VisibleDeprecationWarning: Creating an ndarray from ragged nested sequences (which is a list-or-tuple of lists-or-tuples-or ndarrays with different lengths or shapes) is deprecated. If you meant to do this, you must specify 'dtype=object' when creating the ndarray\n",
      "  globals()['G{}_c{}_w_layer{}'.format(global_epoch, num_c_w, layer_index)] = globals()['G{}_c{}_w_layer{}'.format(global_epoch, num_c_w, layer_index)] + np.array(globals()['L{}_layer{}_w_c'.format(i,layer_index)])   # 일반 클러스터링\n"
     ]
    },
    {
     "name": "stdout",
     "output_type": "stream",
     "text": [
      "7  번째 global_epoch 데이터 랜덤 준비완료!!\n",
      "\n",
      "\n",
      "7  번째 global epoch에서 로컬 클라이언트 들 학습시작!\n",
      "\n",
      "학습 중 ...\n",
      "\n",
      "16/16 - 0s - loss: 0.5202 - accuracy: 0.8640\n",
      "16/16 - 0s - loss: 0.5081 - accuracy: 0.8480\n",
      "16/16 - 0s - loss: 0.6635 - accuracy: 0.8060\n",
      "16/16 - 0s - loss: 0.5585 - accuracy: 0.8300\n",
      "16/16 - 0s - loss: 0.5302 - accuracy: 0.8220\n",
      "16/16 - 0s - loss: 0.6391 - accuracy: 0.8360\n",
      "16/16 - 0s - loss: 0.6571 - accuracy: 0.8360\n",
      "16/16 - 0s - loss: 0.5220 - accuracy: 0.8500\n",
      "16/16 - 0s - loss: 0.7362 - accuracy: 0.8280\n",
      "16/16 - 0s - loss: 0.4887 - accuracy: 0.8760\n",
      "16/16 - 0s - loss: 0.5495 - accuracy: 0.8600\n",
      "16/16 - 0s - loss: 0.4695 - accuracy: 0.8640\n",
      "16/16 - 0s - loss: 0.6618 - accuracy: 0.8260\n",
      "16/16 - 0s - loss: 0.6738 - accuracy: 0.8160\n",
      "16/16 - 0s - loss: 0.7231 - accuracy: 0.8200\n",
      "16/16 - 0s - loss: 0.6359 - accuracy: 0.8320\n",
      "16/16 - 0s - loss: 0.6602 - accuracy: 0.8220\n",
      "16/16 - 0s - loss: 0.5502 - accuracy: 0.8440\n",
      "16/16 - 0s - loss: 0.7833 - accuracy: 0.8280\n",
      "16/16 - 0s - loss: 0.5157 - accuracy: 0.8640\n",
      "------------    7  번째 global epoch < Clustering > 로컬 클라이언트 학습 완료!,  Total Training time :  261.0089702606201 ---------------------------\n",
      "\n",
      "\n",
      "Layer :  0   클러스터 갯수 정해짐!  갯수 :  2 0\n"
     ]
    },
    {
     "name": "stderr",
     "output_type": "stream",
     "text": [
      "<ipython-input-8-91a1af1a5106>:147: VisibleDeprecationWarning: Creating an ndarray from ragged nested sequences (which is a list-or-tuple of lists-or-tuples-or ndarrays with different lengths or shapes) is deprecated. If you meant to do this, you must specify 'dtype=object' when creating the ndarray\n",
      "  globals()['G{}_c{}_w_layer{}'.format(global_epoch, num_c_w, layer_index)] = globals()['G{}_c{}_w_layer{}'.format(global_epoch, num_c_w, layer_index)] + np.array(globals()['L{}_layer{}_w_c'.format(i,layer_index)])   # 일반 클러스터링\n"
     ]
    },
    {
     "name": "stdout",
     "output_type": "stream",
     "text": [
      "Layer :  2   클러스터 갯수 정해짐!  갯수 :  2 0\n"
     ]
    },
    {
     "name": "stderr",
     "output_type": "stream",
     "text": [
      "<ipython-input-8-91a1af1a5106>:147: VisibleDeprecationWarning: Creating an ndarray from ragged nested sequences (which is a list-or-tuple of lists-or-tuples-or ndarrays with different lengths or shapes) is deprecated. If you meant to do this, you must specify 'dtype=object' when creating the ndarray\n",
      "  globals()['G{}_c{}_w_layer{}'.format(global_epoch, num_c_w, layer_index)] = globals()['G{}_c{}_w_layer{}'.format(global_epoch, num_c_w, layer_index)] + np.array(globals()['L{}_layer{}_w_c'.format(i,layer_index)])   # 일반 클러스터링\n"
     ]
    },
    {
     "name": "stdout",
     "output_type": "stream",
     "text": [
      "Layer :  4   클러스터 갯수 정해짐!  갯수 :  2 0\n"
     ]
    },
    {
     "name": "stderr",
     "output_type": "stream",
     "text": [
      "<ipython-input-8-91a1af1a5106>:147: VisibleDeprecationWarning: Creating an ndarray from ragged nested sequences (which is a list-or-tuple of lists-or-tuples-or ndarrays with different lengths or shapes) is deprecated. If you meant to do this, you must specify 'dtype=object' when creating the ndarray\n",
      "  globals()['G{}_c{}_w_layer{}'.format(global_epoch, num_c_w, layer_index)] = globals()['G{}_c{}_w_layer{}'.format(global_epoch, num_c_w, layer_index)] + np.array(globals()['L{}_layer{}_w_c'.format(i,layer_index)])   # 일반 클러스터링\n"
     ]
    },
    {
     "name": "stdout",
     "output_type": "stream",
     "text": [
      "Layer :  6   클러스터 갯수 정해짐!  갯수 :  2 0\n"
     ]
    },
    {
     "name": "stderr",
     "output_type": "stream",
     "text": [
      "<ipython-input-8-91a1af1a5106>:147: VisibleDeprecationWarning: Creating an ndarray from ragged nested sequences (which is a list-or-tuple of lists-or-tuples-or ndarrays with different lengths or shapes) is deprecated. If you meant to do this, you must specify 'dtype=object' when creating the ndarray\n",
      "  globals()['G{}_c{}_w_layer{}'.format(global_epoch, num_c_w, layer_index)] = globals()['G{}_c{}_w_layer{}'.format(global_epoch, num_c_w, layer_index)] + np.array(globals()['L{}_layer{}_w_c'.format(i,layer_index)])   # 일반 클러스터링\n"
     ]
    },
    {
     "name": "stdout",
     "output_type": "stream",
     "text": [
      "Layer :  7   클러스터 갯수 정해짐!  갯수 :  4 2\n",
      "\n",
      "\n",
      "====================================================== One Global Epoch =====================================================================\n",
      "\n",
      "\n",
      "8  번째 global_epoch 데이터 랜덤하게 준비!!\n"
     ]
    },
    {
     "name": "stderr",
     "output_type": "stream",
     "text": [
      "<ipython-input-8-91a1af1a5106>:147: VisibleDeprecationWarning: Creating an ndarray from ragged nested sequences (which is a list-or-tuple of lists-or-tuples-or ndarrays with different lengths or shapes) is deprecated. If you meant to do this, you must specify 'dtype=object' when creating the ndarray\n",
      "  globals()['G{}_c{}_w_layer{}'.format(global_epoch, num_c_w, layer_index)] = globals()['G{}_c{}_w_layer{}'.format(global_epoch, num_c_w, layer_index)] + np.array(globals()['L{}_layer{}_w_c'.format(i,layer_index)])   # 일반 클러스터링\n"
     ]
    },
    {
     "name": "stdout",
     "output_type": "stream",
     "text": [
      "8  번째 global_epoch 데이터 랜덤 준비완료!!\n",
      "\n",
      "\n",
      "8  번째 global epoch에서 로컬 클라이언트 들 학습시작!\n",
      "\n",
      "학습 중 ...\n",
      "\n",
      "16/16 - 0s - loss: 0.6324 - accuracy: 0.8440\n",
      "16/16 - 0s - loss: 0.6111 - accuracy: 0.8520\n",
      "16/16 - 0s - loss: 0.7894 - accuracy: 0.7940\n",
      "16/16 - 0s - loss: 0.5029 - accuracy: 0.8520\n",
      "16/16 - 0s - loss: 0.5441 - accuracy: 0.8660\n",
      "16/16 - 0s - loss: 0.5570 - accuracy: 0.8740\n",
      "16/16 - 0s - loss: 0.6072 - accuracy: 0.8420\n",
      "16/16 - 0s - loss: 0.4945 - accuracy: 0.8500\n",
      "16/16 - 0s - loss: 0.6166 - accuracy: 0.8500\n",
      "16/16 - 0s - loss: 0.6683 - accuracy: 0.8220\n",
      "16/16 - 0s - loss: 0.5745 - accuracy: 0.8640\n",
      "16/16 - 0s - loss: 0.4977 - accuracy: 0.8680\n",
      "16/16 - 0s - loss: 0.6654 - accuracy: 0.8300\n",
      "16/16 - 0s - loss: 0.8345 - accuracy: 0.8120\n",
      "16/16 - 0s - loss: 0.4343 - accuracy: 0.8600\n",
      "16/16 - 0s - loss: 0.4727 - accuracy: 0.8560\n",
      "16/16 - 0s - loss: 0.7538 - accuracy: 0.8060\n",
      "16/16 - 0s - loss: 0.5540 - accuracy: 0.8160\n",
      "16/16 - 0s - loss: 0.4523 - accuracy: 0.8780\n",
      "16/16 - 0s - loss: 0.5263 - accuracy: 0.8360\n",
      "------------    8  번째 global epoch < Clustering > 로컬 클라이언트 학습 완료!,  Total Training time :  271.7842984199524 ---------------------------\n",
      "\n",
      "\n",
      "Layer :  0   클러스터 갯수 정해짐!  갯수 :  2 0\n"
     ]
    },
    {
     "name": "stderr",
     "output_type": "stream",
     "text": [
      "<ipython-input-8-91a1af1a5106>:147: VisibleDeprecationWarning: Creating an ndarray from ragged nested sequences (which is a list-or-tuple of lists-or-tuples-or ndarrays with different lengths or shapes) is deprecated. If you meant to do this, you must specify 'dtype=object' when creating the ndarray\n",
      "  globals()['G{}_c{}_w_layer{}'.format(global_epoch, num_c_w, layer_index)] = globals()['G{}_c{}_w_layer{}'.format(global_epoch, num_c_w, layer_index)] + np.array(globals()['L{}_layer{}_w_c'.format(i,layer_index)])   # 일반 클러스터링\n"
     ]
    },
    {
     "name": "stdout",
     "output_type": "stream",
     "text": [
      "Layer :  2   클러스터 갯수 정해짐!  갯수 :  2 0\n"
     ]
    },
    {
     "name": "stderr",
     "output_type": "stream",
     "text": [
      "<ipython-input-8-91a1af1a5106>:147: VisibleDeprecationWarning: Creating an ndarray from ragged nested sequences (which is a list-or-tuple of lists-or-tuples-or ndarrays with different lengths or shapes) is deprecated. If you meant to do this, you must specify 'dtype=object' when creating the ndarray\n",
      "  globals()['G{}_c{}_w_layer{}'.format(global_epoch, num_c_w, layer_index)] = globals()['G{}_c{}_w_layer{}'.format(global_epoch, num_c_w, layer_index)] + np.array(globals()['L{}_layer{}_w_c'.format(i,layer_index)])   # 일반 클러스터링\n"
     ]
    },
    {
     "name": "stdout",
     "output_type": "stream",
     "text": [
      "Layer :  4   클러스터 갯수 정해짐!  갯수 :  2 0\n"
     ]
    },
    {
     "name": "stderr",
     "output_type": "stream",
     "text": [
      "<ipython-input-8-91a1af1a5106>:147: VisibleDeprecationWarning: Creating an ndarray from ragged nested sequences (which is a list-or-tuple of lists-or-tuples-or ndarrays with different lengths or shapes) is deprecated. If you meant to do this, you must specify 'dtype=object' when creating the ndarray\n",
      "  globals()['G{}_c{}_w_layer{}'.format(global_epoch, num_c_w, layer_index)] = globals()['G{}_c{}_w_layer{}'.format(global_epoch, num_c_w, layer_index)] + np.array(globals()['L{}_layer{}_w_c'.format(i,layer_index)])   # 일반 클러스터링\n"
     ]
    },
    {
     "name": "stdout",
     "output_type": "stream",
     "text": [
      "Layer :  6   클러스터 갯수 정해짐!  갯수 :  2 0\n"
     ]
    },
    {
     "name": "stderr",
     "output_type": "stream",
     "text": [
      "<ipython-input-8-91a1af1a5106>:147: VisibleDeprecationWarning: Creating an ndarray from ragged nested sequences (which is a list-or-tuple of lists-or-tuples-or ndarrays with different lengths or shapes) is deprecated. If you meant to do this, you must specify 'dtype=object' when creating the ndarray\n",
      "  globals()['G{}_c{}_w_layer{}'.format(global_epoch, num_c_w, layer_index)] = globals()['G{}_c{}_w_layer{}'.format(global_epoch, num_c_w, layer_index)] + np.array(globals()['L{}_layer{}_w_c'.format(i,layer_index)])   # 일반 클러스터링\n"
     ]
    },
    {
     "name": "stdout",
     "output_type": "stream",
     "text": [
      "Layer :  7   클러스터 갯수 정해짐!  갯수 :  4 2\n",
      "\n",
      "\n",
      "====================================================== One Global Epoch =====================================================================\n",
      "\n",
      "\n",
      "9  번째 global_epoch 데이터 랜덤하게 준비!!\n"
     ]
    },
    {
     "name": "stderr",
     "output_type": "stream",
     "text": [
      "<ipython-input-8-91a1af1a5106>:147: VisibleDeprecationWarning: Creating an ndarray from ragged nested sequences (which is a list-or-tuple of lists-or-tuples-or ndarrays with different lengths or shapes) is deprecated. If you meant to do this, you must specify 'dtype=object' when creating the ndarray\n",
      "  globals()['G{}_c{}_w_layer{}'.format(global_epoch, num_c_w, layer_index)] = globals()['G{}_c{}_w_layer{}'.format(global_epoch, num_c_w, layer_index)] + np.array(globals()['L{}_layer{}_w_c'.format(i,layer_index)])   # 일반 클러스터링\n"
     ]
    },
    {
     "name": "stdout",
     "output_type": "stream",
     "text": [
      "9  번째 global_epoch 데이터 랜덤 준비완료!!\n",
      "\n",
      "\n",
      "9  번째 global epoch에서 로컬 클라이언트 들 학습시작!\n",
      "\n",
      "학습 중 ...\n",
      "\n",
      "16/16 - 0s - loss: 0.5463 - accuracy: 0.8620\n",
      "16/16 - 0s - loss: 0.7919 - accuracy: 0.8360\n",
      "16/16 - 0s - loss: 0.6826 - accuracy: 0.8560\n",
      "16/16 - 0s - loss: 0.5421 - accuracy: 0.8700\n",
      "16/16 - 0s - loss: 0.5825 - accuracy: 0.8480\n",
      "16/16 - 0s - loss: 0.4874 - accuracy: 0.8740\n",
      "16/16 - 0s - loss: 0.6652 - accuracy: 0.8400\n",
      "16/16 - 0s - loss: 0.5948 - accuracy: 0.8380\n",
      "16/16 - 0s - loss: 0.5932 - accuracy: 0.8420\n",
      "16/16 - 0s - loss: 0.5769 - accuracy: 0.8700\n",
      "16/16 - 0s - loss: 0.5490 - accuracy: 0.8560\n",
      "16/16 - 0s - loss: 0.5525 - accuracy: 0.8460\n",
      "16/16 - 0s - loss: 0.6011 - accuracy: 0.8500\n",
      "16/16 - 0s - loss: 0.7118 - accuracy: 0.8500\n",
      "16/16 - 0s - loss: 0.5797 - accuracy: 0.8440\n",
      "16/16 - 0s - loss: 0.7273 - accuracy: 0.8180\n",
      "16/16 - 0s - loss: 0.7372 - accuracy: 0.8280\n",
      "16/16 - 0s - loss: 0.6418 - accuracy: 0.8440\n",
      "16/16 - 0s - loss: 0.6973 - accuracy: 0.8480\n",
      "16/16 - 0s - loss: 0.8483 - accuracy: 0.8420\n",
      "------------    9  번째 global epoch < Clustering > 로컬 클라이언트 학습 완료!,  Total Training time :  306.40492272377014 ---------------------------\n",
      "\n",
      "\n",
      "Layer :  0   클러스터 갯수 정해짐!  갯수 :  2 0\n"
     ]
    },
    {
     "name": "stderr",
     "output_type": "stream",
     "text": [
      "<ipython-input-8-91a1af1a5106>:147: VisibleDeprecationWarning: Creating an ndarray from ragged nested sequences (which is a list-or-tuple of lists-or-tuples-or ndarrays with different lengths or shapes) is deprecated. If you meant to do this, you must specify 'dtype=object' when creating the ndarray\n",
      "  globals()['G{}_c{}_w_layer{}'.format(global_epoch, num_c_w, layer_index)] = globals()['G{}_c{}_w_layer{}'.format(global_epoch, num_c_w, layer_index)] + np.array(globals()['L{}_layer{}_w_c'.format(i,layer_index)])   # 일반 클러스터링\n"
     ]
    },
    {
     "name": "stdout",
     "output_type": "stream",
     "text": [
      "Layer :  2   클러스터 갯수 정해짐!  갯수 :  2 0\n"
     ]
    },
    {
     "name": "stderr",
     "output_type": "stream",
     "text": [
      "<ipython-input-8-91a1af1a5106>:147: VisibleDeprecationWarning: Creating an ndarray from ragged nested sequences (which is a list-or-tuple of lists-or-tuples-or ndarrays with different lengths or shapes) is deprecated. If you meant to do this, you must specify 'dtype=object' when creating the ndarray\n",
      "  globals()['G{}_c{}_w_layer{}'.format(global_epoch, num_c_w, layer_index)] = globals()['G{}_c{}_w_layer{}'.format(global_epoch, num_c_w, layer_index)] + np.array(globals()['L{}_layer{}_w_c'.format(i,layer_index)])   # 일반 클러스터링\n"
     ]
    },
    {
     "name": "stdout",
     "output_type": "stream",
     "text": [
      "Layer :  4   클러스터 갯수 정해짐!  갯수 :  2 0\n"
     ]
    },
    {
     "name": "stderr",
     "output_type": "stream",
     "text": [
      "<ipython-input-8-91a1af1a5106>:147: VisibleDeprecationWarning: Creating an ndarray from ragged nested sequences (which is a list-or-tuple of lists-or-tuples-or ndarrays with different lengths or shapes) is deprecated. If you meant to do this, you must specify 'dtype=object' when creating the ndarray\n",
      "  globals()['G{}_c{}_w_layer{}'.format(global_epoch, num_c_w, layer_index)] = globals()['G{}_c{}_w_layer{}'.format(global_epoch, num_c_w, layer_index)] + np.array(globals()['L{}_layer{}_w_c'.format(i,layer_index)])   # 일반 클러스터링\n"
     ]
    },
    {
     "name": "stdout",
     "output_type": "stream",
     "text": [
      "Layer :  6   클러스터 갯수 정해짐!  갯수 :  2 0\n"
     ]
    },
    {
     "name": "stderr",
     "output_type": "stream",
     "text": [
      "<ipython-input-8-91a1af1a5106>:147: VisibleDeprecationWarning: Creating an ndarray from ragged nested sequences (which is a list-or-tuple of lists-or-tuples-or ndarrays with different lengths or shapes) is deprecated. If you meant to do this, you must specify 'dtype=object' when creating the ndarray\n",
      "  globals()['G{}_c{}_w_layer{}'.format(global_epoch, num_c_w, layer_index)] = globals()['G{}_c{}_w_layer{}'.format(global_epoch, num_c_w, layer_index)] + np.array(globals()['L{}_layer{}_w_c'.format(i,layer_index)])   # 일반 클러스터링\n"
     ]
    },
    {
     "name": "stdout",
     "output_type": "stream",
     "text": [
      "Layer :  7   클러스터 갯수 정해짐!  갯수 :  4 2\n",
      "\n",
      "\n",
      "====================================================== One Global Epoch =====================================================================\n",
      "\n",
      "\n",
      "10  번째 global_epoch 데이터 랜덤하게 준비!!\n"
     ]
    },
    {
     "name": "stderr",
     "output_type": "stream",
     "text": [
      "<ipython-input-8-91a1af1a5106>:147: VisibleDeprecationWarning: Creating an ndarray from ragged nested sequences (which is a list-or-tuple of lists-or-tuples-or ndarrays with different lengths or shapes) is deprecated. If you meant to do this, you must specify 'dtype=object' when creating the ndarray\n",
      "  globals()['G{}_c{}_w_layer{}'.format(global_epoch, num_c_w, layer_index)] = globals()['G{}_c{}_w_layer{}'.format(global_epoch, num_c_w, layer_index)] + np.array(globals()['L{}_layer{}_w_c'.format(i,layer_index)])   # 일반 클러스터링\n"
     ]
    },
    {
     "name": "stdout",
     "output_type": "stream",
     "text": [
      "10  번째 global_epoch 데이터 랜덤 준비완료!!\n",
      "\n",
      "\n",
      "10  번째 global epoch에서 로컬 클라이언트 들 학습시작!\n",
      "\n",
      "학습 중 ...\n",
      "\n",
      "16/16 - 0s - loss: 0.7509 - accuracy: 0.8460\n",
      "16/16 - 0s - loss: 0.4828 - accuracy: 0.8820\n",
      "16/16 - 0s - loss: 0.5457 - accuracy: 0.8640\n",
      "16/16 - 0s - loss: 0.6443 - accuracy: 0.8600\n",
      "16/16 - 0s - loss: 0.6176 - accuracy: 0.8560\n",
      "16/16 - 0s - loss: 0.6022 - accuracy: 0.8580\n",
      "16/16 - 0s - loss: 0.5454 - accuracy: 0.8520\n",
      "16/16 - 0s - loss: 0.6762 - accuracy: 0.8180\n",
      "16/16 - 0s - loss: 0.4786 - accuracy: 0.8820\n",
      "16/16 - 0s - loss: 0.7493 - accuracy: 0.8300\n",
      "16/16 - 0s - loss: 0.6473 - accuracy: 0.8560\n",
      "16/16 - 0s - loss: 0.7116 - accuracy: 0.8220\n",
      "16/16 - 0s - loss: 0.6286 - accuracy: 0.8460\n",
      "16/16 - 0s - loss: 0.5513 - accuracy: 0.8440\n",
      "16/16 - 0s - loss: 0.5522 - accuracy: 0.8680\n",
      "16/16 - 0s - loss: 0.5810 - accuracy: 0.8460\n",
      "16/16 - 0s - loss: 0.6722 - accuracy: 0.8200\n",
      "16/16 - 0s - loss: 0.5346 - accuracy: 0.8680\n",
      "16/16 - 0s - loss: 0.5117 - accuracy: 0.8680\n",
      "16/16 - 0s - loss: 0.6332 - accuracy: 0.8500\n",
      "------------    10  번째 global epoch < Clustering > 로컬 클라이언트 학습 완료!,  Total Training time :  347.1928482055664 ---------------------------\n",
      "\n",
      "\n",
      "Layer :  0   클러스터 갯수 정해짐!  갯수 :  2 0\n"
     ]
    },
    {
     "name": "stderr",
     "output_type": "stream",
     "text": [
      "<ipython-input-8-91a1af1a5106>:147: VisibleDeprecationWarning: Creating an ndarray from ragged nested sequences (which is a list-or-tuple of lists-or-tuples-or ndarrays with different lengths or shapes) is deprecated. If you meant to do this, you must specify 'dtype=object' when creating the ndarray\n",
      "  globals()['G{}_c{}_w_layer{}'.format(global_epoch, num_c_w, layer_index)] = globals()['G{}_c{}_w_layer{}'.format(global_epoch, num_c_w, layer_index)] + np.array(globals()['L{}_layer{}_w_c'.format(i,layer_index)])   # 일반 클러스터링\n"
     ]
    },
    {
     "name": "stdout",
     "output_type": "stream",
     "text": [
      "Layer :  2   클러스터 갯수 정해짐!  갯수 :  2 0\n"
     ]
    },
    {
     "name": "stderr",
     "output_type": "stream",
     "text": [
      "<ipython-input-8-91a1af1a5106>:147: VisibleDeprecationWarning: Creating an ndarray from ragged nested sequences (which is a list-or-tuple of lists-or-tuples-or ndarrays with different lengths or shapes) is deprecated. If you meant to do this, you must specify 'dtype=object' when creating the ndarray\n",
      "  globals()['G{}_c{}_w_layer{}'.format(global_epoch, num_c_w, layer_index)] = globals()['G{}_c{}_w_layer{}'.format(global_epoch, num_c_w, layer_index)] + np.array(globals()['L{}_layer{}_w_c'.format(i,layer_index)])   # 일반 클러스터링\n"
     ]
    },
    {
     "name": "stdout",
     "output_type": "stream",
     "text": [
      "Layer :  4   클러스터 갯수 정해짐!  갯수 :  2 0\n"
     ]
    },
    {
     "name": "stderr",
     "output_type": "stream",
     "text": [
      "<ipython-input-8-91a1af1a5106>:147: VisibleDeprecationWarning: Creating an ndarray from ragged nested sequences (which is a list-or-tuple of lists-or-tuples-or ndarrays with different lengths or shapes) is deprecated. If you meant to do this, you must specify 'dtype=object' when creating the ndarray\n",
      "  globals()['G{}_c{}_w_layer{}'.format(global_epoch, num_c_w, layer_index)] = globals()['G{}_c{}_w_layer{}'.format(global_epoch, num_c_w, layer_index)] + np.array(globals()['L{}_layer{}_w_c'.format(i,layer_index)])   # 일반 클러스터링\n"
     ]
    },
    {
     "name": "stdout",
     "output_type": "stream",
     "text": [
      "Layer :  6   클러스터 갯수 정해짐!  갯수 :  2 0\n"
     ]
    },
    {
     "name": "stderr",
     "output_type": "stream",
     "text": [
      "<ipython-input-8-91a1af1a5106>:147: VisibleDeprecationWarning: Creating an ndarray from ragged nested sequences (which is a list-or-tuple of lists-or-tuples-or ndarrays with different lengths or shapes) is deprecated. If you meant to do this, you must specify 'dtype=object' when creating the ndarray\n",
      "  globals()['G{}_c{}_w_layer{}'.format(global_epoch, num_c_w, layer_index)] = globals()['G{}_c{}_w_layer{}'.format(global_epoch, num_c_w, layer_index)] + np.array(globals()['L{}_layer{}_w_c'.format(i,layer_index)])   # 일반 클러스터링\n"
     ]
    },
    {
     "name": "stdout",
     "output_type": "stream",
     "text": [
      "Layer :  7   클러스터 갯수 정해짐!  갯수 :  4 2\n",
      "\n",
      "\n",
      "====================================================== One Global Epoch =====================================================================\n",
      "\n",
      "\n",
      "11  번째 global_epoch 데이터 랜덤하게 준비!!\n"
     ]
    },
    {
     "name": "stderr",
     "output_type": "stream",
     "text": [
      "<ipython-input-8-91a1af1a5106>:147: VisibleDeprecationWarning: Creating an ndarray from ragged nested sequences (which is a list-or-tuple of lists-or-tuples-or ndarrays with different lengths or shapes) is deprecated. If you meant to do this, you must specify 'dtype=object' when creating the ndarray\n",
      "  globals()['G{}_c{}_w_layer{}'.format(global_epoch, num_c_w, layer_index)] = globals()['G{}_c{}_w_layer{}'.format(global_epoch, num_c_w, layer_index)] + np.array(globals()['L{}_layer{}_w_c'.format(i,layer_index)])   # 일반 클러스터링\n"
     ]
    },
    {
     "name": "stdout",
     "output_type": "stream",
     "text": [
      "11  번째 global_epoch 데이터 랜덤 준비완료!!\n",
      "\n",
      "\n",
      "11  번째 global epoch에서 로컬 클라이언트 들 학습시작!\n",
      "\n",
      "학습 중 ...\n",
      "\n",
      "16/16 - 0s - loss: 0.8150 - accuracy: 0.8300\n",
      "16/16 - 0s - loss: 0.7257 - accuracy: 0.8620\n",
      "16/16 - 0s - loss: 0.7091 - accuracy: 0.8340\n",
      "16/16 - 0s - loss: 0.4865 - accuracy: 0.8640\n",
      "16/16 - 0s - loss: 0.5941 - accuracy: 0.8740\n",
      "16/16 - 0s - loss: 0.6667 - accuracy: 0.8640\n",
      "16/16 - 0s - loss: 0.5504 - accuracy: 0.8640\n",
      "16/16 - 0s - loss: 0.7879 - accuracy: 0.8420\n",
      "16/16 - 0s - loss: 0.5186 - accuracy: 0.8540\n",
      "16/16 - 0s - loss: 0.6734 - accuracy: 0.8560\n",
      "16/16 - 0s - loss: 0.5975 - accuracy: 0.8340\n",
      "16/16 - 0s - loss: 0.6724 - accuracy: 0.8580\n",
      "16/16 - 0s - loss: 0.6785 - accuracy: 0.8500\n",
      "16/16 - 0s - loss: 0.7974 - accuracy: 0.8600\n",
      "16/16 - 0s - loss: 0.6758 - accuracy: 0.8360\n",
      "16/16 - 0s - loss: 0.5993 - accuracy: 0.8340\n",
      "16/16 - 0s - loss: 0.5707 - accuracy: 0.8680\n",
      "16/16 - 0s - loss: 0.4892 - accuracy: 0.8820\n",
      "16/16 - 0s - loss: 0.6739 - accuracy: 0.8440\n",
      "16/16 - 0s - loss: 0.5960 - accuracy: 0.8600\n",
      "------------    11  번째 global epoch < Clustering > 로컬 클라이언트 학습 완료!,  Total Training time :  361.0021011829376 ---------------------------\n",
      "\n",
      "\n",
      "Layer :  0   클러스터 갯수 정해짐!  갯수 :  2 0\n"
     ]
    },
    {
     "name": "stderr",
     "output_type": "stream",
     "text": [
      "<ipython-input-8-91a1af1a5106>:147: VisibleDeprecationWarning: Creating an ndarray from ragged nested sequences (which is a list-or-tuple of lists-or-tuples-or ndarrays with different lengths or shapes) is deprecated. If you meant to do this, you must specify 'dtype=object' when creating the ndarray\n",
      "  globals()['G{}_c{}_w_layer{}'.format(global_epoch, num_c_w, layer_index)] = globals()['G{}_c{}_w_layer{}'.format(global_epoch, num_c_w, layer_index)] + np.array(globals()['L{}_layer{}_w_c'.format(i,layer_index)])   # 일반 클러스터링\n"
     ]
    },
    {
     "name": "stdout",
     "output_type": "stream",
     "text": [
      "Layer :  2   클러스터 갯수 정해짐!  갯수 :  2 0\n"
     ]
    },
    {
     "name": "stderr",
     "output_type": "stream",
     "text": [
      "<ipython-input-8-91a1af1a5106>:147: VisibleDeprecationWarning: Creating an ndarray from ragged nested sequences (which is a list-or-tuple of lists-or-tuples-or ndarrays with different lengths or shapes) is deprecated. If you meant to do this, you must specify 'dtype=object' when creating the ndarray\n",
      "  globals()['G{}_c{}_w_layer{}'.format(global_epoch, num_c_w, layer_index)] = globals()['G{}_c{}_w_layer{}'.format(global_epoch, num_c_w, layer_index)] + np.array(globals()['L{}_layer{}_w_c'.format(i,layer_index)])   # 일반 클러스터링\n"
     ]
    },
    {
     "name": "stdout",
     "output_type": "stream",
     "text": [
      "Layer :  4   클러스터 갯수 정해짐!  갯수 :  2 0\n"
     ]
    },
    {
     "name": "stderr",
     "output_type": "stream",
     "text": [
      "<ipython-input-8-91a1af1a5106>:147: VisibleDeprecationWarning: Creating an ndarray from ragged nested sequences (which is a list-or-tuple of lists-or-tuples-or ndarrays with different lengths or shapes) is deprecated. If you meant to do this, you must specify 'dtype=object' when creating the ndarray\n",
      "  globals()['G{}_c{}_w_layer{}'.format(global_epoch, num_c_w, layer_index)] = globals()['G{}_c{}_w_layer{}'.format(global_epoch, num_c_w, layer_index)] + np.array(globals()['L{}_layer{}_w_c'.format(i,layer_index)])   # 일반 클러스터링\n"
     ]
    },
    {
     "name": "stdout",
     "output_type": "stream",
     "text": [
      "Layer :  6   클러스터 갯수 정해짐!  갯수 :  2 0\n"
     ]
    },
    {
     "name": "stderr",
     "output_type": "stream",
     "text": [
      "<ipython-input-8-91a1af1a5106>:147: VisibleDeprecationWarning: Creating an ndarray from ragged nested sequences (which is a list-or-tuple of lists-or-tuples-or ndarrays with different lengths or shapes) is deprecated. If you meant to do this, you must specify 'dtype=object' when creating the ndarray\n",
      "  globals()['G{}_c{}_w_layer{}'.format(global_epoch, num_c_w, layer_index)] = globals()['G{}_c{}_w_layer{}'.format(global_epoch, num_c_w, layer_index)] + np.array(globals()['L{}_layer{}_w_c'.format(i,layer_index)])   # 일반 클러스터링\n"
     ]
    },
    {
     "name": "stdout",
     "output_type": "stream",
     "text": [
      "Layer :  7   클러스터 갯수 정해짐!  갯수 :  4 2\n",
      "\n",
      "\n",
      "====================================================== One Global Epoch =====================================================================\n",
      "\n",
      "\n",
      "12  번째 global_epoch 데이터 랜덤하게 준비!!\n"
     ]
    },
    {
     "name": "stderr",
     "output_type": "stream",
     "text": [
      "<ipython-input-8-91a1af1a5106>:147: VisibleDeprecationWarning: Creating an ndarray from ragged nested sequences (which is a list-or-tuple of lists-or-tuples-or ndarrays with different lengths or shapes) is deprecated. If you meant to do this, you must specify 'dtype=object' when creating the ndarray\n",
      "  globals()['G{}_c{}_w_layer{}'.format(global_epoch, num_c_w, layer_index)] = globals()['G{}_c{}_w_layer{}'.format(global_epoch, num_c_w, layer_index)] + np.array(globals()['L{}_layer{}_w_c'.format(i,layer_index)])   # 일반 클러스터링\n"
     ]
    },
    {
     "name": "stdout",
     "output_type": "stream",
     "text": [
      "12  번째 global_epoch 데이터 랜덤 준비완료!!\n",
      "\n",
      "\n",
      "12  번째 global epoch에서 로컬 클라이언트 들 학습시작!\n",
      "\n",
      "학습 중 ...\n",
      "\n",
      "16/16 - 0s - loss: 0.6284 - accuracy: 0.8480\n",
      "16/16 - 0s - loss: 0.5612 - accuracy: 0.8900\n",
      "16/16 - 0s - loss: 0.6215 - accuracy: 0.8460\n",
      "16/16 - 0s - loss: 0.5255 - accuracy: 0.8420\n",
      "16/16 - 0s - loss: 0.6796 - accuracy: 0.8780\n",
      "16/16 - 0s - loss: 0.6305 - accuracy: 0.8240\n",
      "16/16 - 0s - loss: 0.4790 - accuracy: 0.8780\n",
      "16/16 - 0s - loss: 0.5931 - accuracy: 0.8480\n",
      "16/16 - 0s - loss: 0.4652 - accuracy: 0.8840\n",
      "16/16 - 0s - loss: 0.6208 - accuracy: 0.8740\n",
      "16/16 - 0s - loss: 0.6870 - accuracy: 0.8560\n",
      "16/16 - 0s - loss: 0.5013 - accuracy: 0.8740\n",
      "16/16 - 0s - loss: 0.7614 - accuracy: 0.8400\n",
      "16/16 - 0s - loss: 0.6200 - accuracy: 0.8520\n",
      "16/16 - 0s - loss: 0.6228 - accuracy: 0.8700\n",
      "16/16 - 0s - loss: 0.7258 - accuracy: 0.8400\n",
      "16/16 - 0s - loss: 0.7685 - accuracy: 0.8280\n",
      "16/16 - 0s - loss: 0.7396 - accuracy: 0.8340\n",
      "16/16 - 0s - loss: 0.6732 - accuracy: 0.8640\n",
      "16/16 - 0s - loss: 0.6762 - accuracy: 0.8200\n",
      "------------    12  번째 global epoch < Clustering > 로컬 클라이언트 학습 완료!,  Total Training time :  368.301677942276 ---------------------------\n",
      "\n",
      "\n",
      "Layer :  0   클러스터 갯수 정해짐!  갯수 :  2 0\n"
     ]
    },
    {
     "name": "stderr",
     "output_type": "stream",
     "text": [
      "<ipython-input-8-91a1af1a5106>:147: VisibleDeprecationWarning: Creating an ndarray from ragged nested sequences (which is a list-or-tuple of lists-or-tuples-or ndarrays with different lengths or shapes) is deprecated. If you meant to do this, you must specify 'dtype=object' when creating the ndarray\n",
      "  globals()['G{}_c{}_w_layer{}'.format(global_epoch, num_c_w, layer_index)] = globals()['G{}_c{}_w_layer{}'.format(global_epoch, num_c_w, layer_index)] + np.array(globals()['L{}_layer{}_w_c'.format(i,layer_index)])   # 일반 클러스터링\n"
     ]
    },
    {
     "name": "stdout",
     "output_type": "stream",
     "text": [
      "Layer :  2   클러스터 갯수 정해짐!  갯수 :  2 0\n"
     ]
    },
    {
     "name": "stderr",
     "output_type": "stream",
     "text": [
      "<ipython-input-8-91a1af1a5106>:147: VisibleDeprecationWarning: Creating an ndarray from ragged nested sequences (which is a list-or-tuple of lists-or-tuples-or ndarrays with different lengths or shapes) is deprecated. If you meant to do this, you must specify 'dtype=object' when creating the ndarray\n",
      "  globals()['G{}_c{}_w_layer{}'.format(global_epoch, num_c_w, layer_index)] = globals()['G{}_c{}_w_layer{}'.format(global_epoch, num_c_w, layer_index)] + np.array(globals()['L{}_layer{}_w_c'.format(i,layer_index)])   # 일반 클러스터링\n"
     ]
    },
    {
     "name": "stdout",
     "output_type": "stream",
     "text": [
      "Layer :  4   클러스터 갯수 정해짐!  갯수 :  2 0\n"
     ]
    },
    {
     "name": "stderr",
     "output_type": "stream",
     "text": [
      "<ipython-input-8-91a1af1a5106>:147: VisibleDeprecationWarning: Creating an ndarray from ragged nested sequences (which is a list-or-tuple of lists-or-tuples-or ndarrays with different lengths or shapes) is deprecated. If you meant to do this, you must specify 'dtype=object' when creating the ndarray\n",
      "  globals()['G{}_c{}_w_layer{}'.format(global_epoch, num_c_w, layer_index)] = globals()['G{}_c{}_w_layer{}'.format(global_epoch, num_c_w, layer_index)] + np.array(globals()['L{}_layer{}_w_c'.format(i,layer_index)])   # 일반 클러스터링\n"
     ]
    },
    {
     "name": "stdout",
     "output_type": "stream",
     "text": [
      "Layer :  6   클러스터 갯수 정해짐!  갯수 :  2 0\n"
     ]
    },
    {
     "name": "stderr",
     "output_type": "stream",
     "text": [
      "<ipython-input-8-91a1af1a5106>:147: VisibleDeprecationWarning: Creating an ndarray from ragged nested sequences (which is a list-or-tuple of lists-or-tuples-or ndarrays with different lengths or shapes) is deprecated. If you meant to do this, you must specify 'dtype=object' when creating the ndarray\n",
      "  globals()['G{}_c{}_w_layer{}'.format(global_epoch, num_c_w, layer_index)] = globals()['G{}_c{}_w_layer{}'.format(global_epoch, num_c_w, layer_index)] + np.array(globals()['L{}_layer{}_w_c'.format(i,layer_index)])   # 일반 클러스터링\n"
     ]
    },
    {
     "name": "stdout",
     "output_type": "stream",
     "text": [
      "Layer :  7   클러스터 갯수 정해짐!  갯수 :  4 2\n",
      "\n",
      "\n",
      "====================================================== One Global Epoch =====================================================================\n",
      "\n",
      "\n",
      "13  번째 global_epoch 데이터 랜덤하게 준비!!\n"
     ]
    },
    {
     "name": "stderr",
     "output_type": "stream",
     "text": [
      "<ipython-input-8-91a1af1a5106>:147: VisibleDeprecationWarning: Creating an ndarray from ragged nested sequences (which is a list-or-tuple of lists-or-tuples-or ndarrays with different lengths or shapes) is deprecated. If you meant to do this, you must specify 'dtype=object' when creating the ndarray\n",
      "  globals()['G{}_c{}_w_layer{}'.format(global_epoch, num_c_w, layer_index)] = globals()['G{}_c{}_w_layer{}'.format(global_epoch, num_c_w, layer_index)] + np.array(globals()['L{}_layer{}_w_c'.format(i,layer_index)])   # 일반 클러스터링\n"
     ]
    },
    {
     "name": "stdout",
     "output_type": "stream",
     "text": [
      "13  번째 global_epoch 데이터 랜덤 준비완료!!\n",
      "\n",
      "\n",
      "13  번째 global epoch에서 로컬 클라이언트 들 학습시작!\n",
      "\n",
      "학습 중 ...\n",
      "\n",
      "16/16 - 0s - loss: 0.6812 - accuracy: 0.8340\n",
      "16/16 - 0s - loss: 0.6530 - accuracy: 0.8580\n",
      "16/16 - 0s - loss: 0.5814 - accuracy: 0.8580\n",
      "16/16 - 0s - loss: 0.6634 - accuracy: 0.8700\n",
      "16/16 - 0s - loss: 0.5974 - accuracy: 0.8780\n",
      "16/16 - 0s - loss: 0.6176 - accuracy: 0.8520\n",
      "16/16 - 0s - loss: 0.6102 - accuracy: 0.8660\n",
      "16/16 - 0s - loss: 0.7569 - accuracy: 0.8420\n",
      "16/16 - 0s - loss: 0.5911 - accuracy: 0.8780\n",
      "16/16 - 0s - loss: 0.5754 - accuracy: 0.8840\n",
      "16/16 - 0s - loss: 0.6939 - accuracy: 0.8680\n",
      "16/16 - 0s - loss: 0.5059 - accuracy: 0.8840\n",
      "16/16 - 0s - loss: 0.6354 - accuracy: 0.8520\n",
      "16/16 - 0s - loss: 0.6545 - accuracy: 0.8540\n",
      "16/16 - 0s - loss: 0.6028 - accuracy: 0.8580\n",
      "16/16 - 0s - loss: 0.5659 - accuracy: 0.8720\n",
      "16/16 - 0s - loss: 0.6000 - accuracy: 0.8860\n",
      "16/16 - 0s - loss: 0.5492 - accuracy: 0.8700\n",
      "16/16 - 0s - loss: 0.6237 - accuracy: 0.8480\n",
      "16/16 - 0s - loss: 0.5465 - accuracy: 0.8700\n",
      "------------    13  번째 global epoch < Clustering > 로컬 클라이언트 학습 완료!,  Total Training time :  377.4659502506256 ---------------------------\n",
      "\n",
      "\n",
      "Layer :  0   클러스터 갯수 정해짐!  갯수 :  2 0\n"
     ]
    },
    {
     "name": "stderr",
     "output_type": "stream",
     "text": [
      "<ipython-input-8-91a1af1a5106>:147: VisibleDeprecationWarning: Creating an ndarray from ragged nested sequences (which is a list-or-tuple of lists-or-tuples-or ndarrays with different lengths or shapes) is deprecated. If you meant to do this, you must specify 'dtype=object' when creating the ndarray\n",
      "  globals()['G{}_c{}_w_layer{}'.format(global_epoch, num_c_w, layer_index)] = globals()['G{}_c{}_w_layer{}'.format(global_epoch, num_c_w, layer_index)] + np.array(globals()['L{}_layer{}_w_c'.format(i,layer_index)])   # 일반 클러스터링\n"
     ]
    },
    {
     "name": "stdout",
     "output_type": "stream",
     "text": [
      "Layer :  2   클러스터 갯수 정해짐!  갯수 :  2 0\n"
     ]
    },
    {
     "name": "stderr",
     "output_type": "stream",
     "text": [
      "<ipython-input-8-91a1af1a5106>:147: VisibleDeprecationWarning: Creating an ndarray from ragged nested sequences (which is a list-or-tuple of lists-or-tuples-or ndarrays with different lengths or shapes) is deprecated. If you meant to do this, you must specify 'dtype=object' when creating the ndarray\n",
      "  globals()['G{}_c{}_w_layer{}'.format(global_epoch, num_c_w, layer_index)] = globals()['G{}_c{}_w_layer{}'.format(global_epoch, num_c_w, layer_index)] + np.array(globals()['L{}_layer{}_w_c'.format(i,layer_index)])   # 일반 클러스터링\n"
     ]
    },
    {
     "name": "stdout",
     "output_type": "stream",
     "text": [
      "Layer :  4   클러스터 갯수 정해짐!  갯수 :  2 0\n"
     ]
    },
    {
     "name": "stderr",
     "output_type": "stream",
     "text": [
      "<ipython-input-8-91a1af1a5106>:147: VisibleDeprecationWarning: Creating an ndarray from ragged nested sequences (which is a list-or-tuple of lists-or-tuples-or ndarrays with different lengths or shapes) is deprecated. If you meant to do this, you must specify 'dtype=object' when creating the ndarray\n",
      "  globals()['G{}_c{}_w_layer{}'.format(global_epoch, num_c_w, layer_index)] = globals()['G{}_c{}_w_layer{}'.format(global_epoch, num_c_w, layer_index)] + np.array(globals()['L{}_layer{}_w_c'.format(i,layer_index)])   # 일반 클러스터링\n"
     ]
    },
    {
     "name": "stdout",
     "output_type": "stream",
     "text": [
      "Layer :  6   클러스터 갯수 정해짐!  갯수 :  2 0\n"
     ]
    },
    {
     "name": "stderr",
     "output_type": "stream",
     "text": [
      "<ipython-input-8-91a1af1a5106>:147: VisibleDeprecationWarning: Creating an ndarray from ragged nested sequences (which is a list-or-tuple of lists-or-tuples-or ndarrays with different lengths or shapes) is deprecated. If you meant to do this, you must specify 'dtype=object' when creating the ndarray\n",
      "  globals()['G{}_c{}_w_layer{}'.format(global_epoch, num_c_w, layer_index)] = globals()['G{}_c{}_w_layer{}'.format(global_epoch, num_c_w, layer_index)] + np.array(globals()['L{}_layer{}_w_c'.format(i,layer_index)])   # 일반 클러스터링\n"
     ]
    },
    {
     "name": "stdout",
     "output_type": "stream",
     "text": [
      "Layer :  7   클러스터 갯수 정해짐!  갯수 :  4 2\n",
      "\n",
      "\n",
      "====================================================== One Global Epoch =====================================================================\n",
      "\n",
      "\n",
      "14  번째 global_epoch 데이터 랜덤하게 준비!!\n"
     ]
    },
    {
     "name": "stderr",
     "output_type": "stream",
     "text": [
      "<ipython-input-8-91a1af1a5106>:147: VisibleDeprecationWarning: Creating an ndarray from ragged nested sequences (which is a list-or-tuple of lists-or-tuples-or ndarrays with different lengths or shapes) is deprecated. If you meant to do this, you must specify 'dtype=object' when creating the ndarray\n",
      "  globals()['G{}_c{}_w_layer{}'.format(global_epoch, num_c_w, layer_index)] = globals()['G{}_c{}_w_layer{}'.format(global_epoch, num_c_w, layer_index)] + np.array(globals()['L{}_layer{}_w_c'.format(i,layer_index)])   # 일반 클러스터링\n"
     ]
    },
    {
     "name": "stdout",
     "output_type": "stream",
     "text": [
      "14  번째 global_epoch 데이터 랜덤 준비완료!!\n",
      "\n",
      "\n",
      "14  번째 global epoch에서 로컬 클라이언트 들 학습시작!\n",
      "\n",
      "학습 중 ...\n",
      "\n",
      "16/16 - 0s - loss: 0.4547 - accuracy: 0.8880\n",
      "16/16 - 0s - loss: 0.4762 - accuracy: 0.8720\n",
      "16/16 - 0s - loss: 0.8795 - accuracy: 0.8600\n",
      "16/16 - 0s - loss: 0.4846 - accuracy: 0.8560\n",
      "16/16 - 0s - loss: 0.7807 - accuracy: 0.8580\n",
      "16/16 - 0s - loss: 0.5963 - accuracy: 0.8580\n",
      "16/16 - 0s - loss: 0.6446 - accuracy: 0.8780\n",
      "16/16 - 0s - loss: 0.6293 - accuracy: 0.8620\n",
      "16/16 - 0s - loss: 0.6809 - accuracy: 0.8600\n",
      "16/16 - 0s - loss: 0.5789 - accuracy: 0.8720\n",
      "16/16 - 0s - loss: 0.9515 - accuracy: 0.8280\n",
      "16/16 - 0s - loss: 0.5132 - accuracy: 0.8540\n",
      "16/16 - 0s - loss: 0.6788 - accuracy: 0.8620\n",
      "16/16 - 0s - loss: 0.5601 - accuracy: 0.8760\n",
      "16/16 - 0s - loss: 0.7383 - accuracy: 0.8580\n",
      "16/16 - 0s - loss: 0.8947 - accuracy: 0.8200\n",
      "16/16 - 0s - loss: 0.6163 - accuracy: 0.8620\n",
      "16/16 - 0s - loss: 0.6295 - accuracy: 0.8640\n",
      "16/16 - 0s - loss: 0.5024 - accuracy: 0.8800\n",
      "16/16 - 0s - loss: 0.6076 - accuracy: 0.8580\n",
      "------------    14  번째 global epoch < Clustering > 로컬 클라이언트 학습 완료!,  Total Training time :  399.18098068237305 ---------------------------\n",
      "\n",
      "\n",
      "Layer :  0   클러스터 갯수 정해짐!  갯수 :  2 0\n"
     ]
    },
    {
     "name": "stderr",
     "output_type": "stream",
     "text": [
      "<ipython-input-8-91a1af1a5106>:147: VisibleDeprecationWarning: Creating an ndarray from ragged nested sequences (which is a list-or-tuple of lists-or-tuples-or ndarrays with different lengths or shapes) is deprecated. If you meant to do this, you must specify 'dtype=object' when creating the ndarray\n",
      "  globals()['G{}_c{}_w_layer{}'.format(global_epoch, num_c_w, layer_index)] = globals()['G{}_c{}_w_layer{}'.format(global_epoch, num_c_w, layer_index)] + np.array(globals()['L{}_layer{}_w_c'.format(i,layer_index)])   # 일반 클러스터링\n"
     ]
    },
    {
     "name": "stdout",
     "output_type": "stream",
     "text": [
      "Layer :  2   클러스터 갯수 정해짐!  갯수 :  2 0\n"
     ]
    },
    {
     "name": "stderr",
     "output_type": "stream",
     "text": [
      "<ipython-input-8-91a1af1a5106>:147: VisibleDeprecationWarning: Creating an ndarray from ragged nested sequences (which is a list-or-tuple of lists-or-tuples-or ndarrays with different lengths or shapes) is deprecated. If you meant to do this, you must specify 'dtype=object' when creating the ndarray\n",
      "  globals()['G{}_c{}_w_layer{}'.format(global_epoch, num_c_w, layer_index)] = globals()['G{}_c{}_w_layer{}'.format(global_epoch, num_c_w, layer_index)] + np.array(globals()['L{}_layer{}_w_c'.format(i,layer_index)])   # 일반 클러스터링\n"
     ]
    },
    {
     "name": "stdout",
     "output_type": "stream",
     "text": [
      "Layer :  4   클러스터 갯수 정해짐!  갯수 :  2 0\n"
     ]
    },
    {
     "name": "stderr",
     "output_type": "stream",
     "text": [
      "<ipython-input-8-91a1af1a5106>:147: VisibleDeprecationWarning: Creating an ndarray from ragged nested sequences (which is a list-or-tuple of lists-or-tuples-or ndarrays with different lengths or shapes) is deprecated. If you meant to do this, you must specify 'dtype=object' when creating the ndarray\n",
      "  globals()['G{}_c{}_w_layer{}'.format(global_epoch, num_c_w, layer_index)] = globals()['G{}_c{}_w_layer{}'.format(global_epoch, num_c_w, layer_index)] + np.array(globals()['L{}_layer{}_w_c'.format(i,layer_index)])   # 일반 클러스터링\n"
     ]
    },
    {
     "name": "stdout",
     "output_type": "stream",
     "text": [
      "Layer :  6   클러스터 갯수 정해짐!  갯수 :  2 0\n"
     ]
    },
    {
     "name": "stderr",
     "output_type": "stream",
     "text": [
      "<ipython-input-8-91a1af1a5106>:147: VisibleDeprecationWarning: Creating an ndarray from ragged nested sequences (which is a list-or-tuple of lists-or-tuples-or ndarrays with different lengths or shapes) is deprecated. If you meant to do this, you must specify 'dtype=object' when creating the ndarray\n",
      "  globals()['G{}_c{}_w_layer{}'.format(global_epoch, num_c_w, layer_index)] = globals()['G{}_c{}_w_layer{}'.format(global_epoch, num_c_w, layer_index)] + np.array(globals()['L{}_layer{}_w_c'.format(i,layer_index)])   # 일반 클러스터링\n"
     ]
    },
    {
     "name": "stdout",
     "output_type": "stream",
     "text": [
      "Layer :  7   클러스터 갯수 정해짐!  갯수 :  4 2\n",
      "\n",
      "\n",
      "====================================================== One Global Epoch =====================================================================\n",
      "\n",
      "\n",
      "15  번째 global_epoch 데이터 랜덤하게 준비!!\n"
     ]
    },
    {
     "name": "stderr",
     "output_type": "stream",
     "text": [
      "<ipython-input-8-91a1af1a5106>:147: VisibleDeprecationWarning: Creating an ndarray from ragged nested sequences (which is a list-or-tuple of lists-or-tuples-or ndarrays with different lengths or shapes) is deprecated. If you meant to do this, you must specify 'dtype=object' when creating the ndarray\n",
      "  globals()['G{}_c{}_w_layer{}'.format(global_epoch, num_c_w, layer_index)] = globals()['G{}_c{}_w_layer{}'.format(global_epoch, num_c_w, layer_index)] + np.array(globals()['L{}_layer{}_w_c'.format(i,layer_index)])   # 일반 클러스터링\n"
     ]
    },
    {
     "name": "stdout",
     "output_type": "stream",
     "text": [
      "15  번째 global_epoch 데이터 랜덤 준비완료!!\n",
      "\n",
      "\n",
      "15  번째 global epoch에서 로컬 클라이언트 들 학습시작!\n",
      "\n",
      "학습 중 ...\n",
      "\n",
      "16/16 - 0s - loss: 0.5695 - accuracy: 0.8880\n",
      "16/16 - 0s - loss: 0.6107 - accuracy: 0.8720\n",
      "16/16 - 0s - loss: 0.5510 - accuracy: 0.8620\n",
      "16/16 - 0s - loss: 0.5708 - accuracy: 0.8800\n",
      "16/16 - 0s - loss: 0.5981 - accuracy: 0.8480\n",
      "16/16 - 0s - loss: 0.6192 - accuracy: 0.8840\n",
      "16/16 - 0s - loss: 0.7131 - accuracy: 0.8340\n",
      "16/16 - 0s - loss: 0.6817 - accuracy: 0.8660\n",
      "16/16 - 0s - loss: 0.5893 - accuracy: 0.8680\n",
      "16/16 - 0s - loss: 0.6329 - accuracy: 0.8360\n",
      "16/16 - 0s - loss: 0.5718 - accuracy: 0.8580\n",
      "16/16 - 0s - loss: 0.5161 - accuracy: 0.8880\n",
      "16/16 - 0s - loss: 0.6006 - accuracy: 0.8680\n",
      "16/16 - 0s - loss: 0.6375 - accuracy: 0.8440\n",
      "16/16 - 0s - loss: 0.8418 - accuracy: 0.8400\n",
      "16/16 - 0s - loss: 0.5504 - accuracy: 0.8460\n",
      "16/16 - 0s - loss: 0.5412 - accuracy: 0.8780\n",
      "16/16 - 0s - loss: 0.6553 - accuracy: 0.8500\n",
      "16/16 - 0s - loss: 0.5791 - accuracy: 0.8460\n",
      "16/16 - 0s - loss: 0.7288 - accuracy: 0.8380\n",
      "------------    15  번째 global epoch < Clustering > 로컬 클라이언트 학습 완료!,  Total Training time :  462.3572280406952 ---------------------------\n",
      "\n",
      "\n",
      "Layer :  0   클러스터 갯수 정해짐!  갯수 :  2 0\n"
     ]
    },
    {
     "name": "stderr",
     "output_type": "stream",
     "text": [
      "<ipython-input-8-91a1af1a5106>:147: VisibleDeprecationWarning: Creating an ndarray from ragged nested sequences (which is a list-or-tuple of lists-or-tuples-or ndarrays with different lengths or shapes) is deprecated. If you meant to do this, you must specify 'dtype=object' when creating the ndarray\n",
      "  globals()['G{}_c{}_w_layer{}'.format(global_epoch, num_c_w, layer_index)] = globals()['G{}_c{}_w_layer{}'.format(global_epoch, num_c_w, layer_index)] + np.array(globals()['L{}_layer{}_w_c'.format(i,layer_index)])   # 일반 클러스터링\n"
     ]
    },
    {
     "name": "stdout",
     "output_type": "stream",
     "text": [
      "Layer :  2   클러스터 갯수 정해짐!  갯수 :  2 0\n"
     ]
    },
    {
     "name": "stderr",
     "output_type": "stream",
     "text": [
      "<ipython-input-8-91a1af1a5106>:147: VisibleDeprecationWarning: Creating an ndarray from ragged nested sequences (which is a list-or-tuple of lists-or-tuples-or ndarrays with different lengths or shapes) is deprecated. If you meant to do this, you must specify 'dtype=object' when creating the ndarray\n",
      "  globals()['G{}_c{}_w_layer{}'.format(global_epoch, num_c_w, layer_index)] = globals()['G{}_c{}_w_layer{}'.format(global_epoch, num_c_w, layer_index)] + np.array(globals()['L{}_layer{}_w_c'.format(i,layer_index)])   # 일반 클러스터링\n"
     ]
    },
    {
     "name": "stdout",
     "output_type": "stream",
     "text": [
      "Layer :  4   클러스터 갯수 정해짐!  갯수 :  2 0\n"
     ]
    },
    {
     "name": "stderr",
     "output_type": "stream",
     "text": [
      "<ipython-input-8-91a1af1a5106>:147: VisibleDeprecationWarning: Creating an ndarray from ragged nested sequences (which is a list-or-tuple of lists-or-tuples-or ndarrays with different lengths or shapes) is deprecated. If you meant to do this, you must specify 'dtype=object' when creating the ndarray\n",
      "  globals()['G{}_c{}_w_layer{}'.format(global_epoch, num_c_w, layer_index)] = globals()['G{}_c{}_w_layer{}'.format(global_epoch, num_c_w, layer_index)] + np.array(globals()['L{}_layer{}_w_c'.format(i,layer_index)])   # 일반 클러스터링\n"
     ]
    },
    {
     "name": "stdout",
     "output_type": "stream",
     "text": [
      "Layer :  6   클러스터 갯수 정해짐!  갯수 :  2 0\n"
     ]
    },
    {
     "name": "stderr",
     "output_type": "stream",
     "text": [
      "<ipython-input-8-91a1af1a5106>:147: VisibleDeprecationWarning: Creating an ndarray from ragged nested sequences (which is a list-or-tuple of lists-or-tuples-or ndarrays with different lengths or shapes) is deprecated. If you meant to do this, you must specify 'dtype=object' when creating the ndarray\n",
      "  globals()['G{}_c{}_w_layer{}'.format(global_epoch, num_c_w, layer_index)] = globals()['G{}_c{}_w_layer{}'.format(global_epoch, num_c_w, layer_index)] + np.array(globals()['L{}_layer{}_w_c'.format(i,layer_index)])   # 일반 클러스터링\n"
     ]
    },
    {
     "name": "stdout",
     "output_type": "stream",
     "text": [
      "Layer :  7   클러스터 갯수 정해짐!  갯수 :  4 2\n",
      "\n",
      "\n",
      "====================================================== One Global Epoch =====================================================================\n",
      "\n",
      "\n",
      "16  번째 global_epoch 데이터 랜덤하게 준비!!\n"
     ]
    },
    {
     "name": "stderr",
     "output_type": "stream",
     "text": [
      "<ipython-input-8-91a1af1a5106>:147: VisibleDeprecationWarning: Creating an ndarray from ragged nested sequences (which is a list-or-tuple of lists-or-tuples-or ndarrays with different lengths or shapes) is deprecated. If you meant to do this, you must specify 'dtype=object' when creating the ndarray\n",
      "  globals()['G{}_c{}_w_layer{}'.format(global_epoch, num_c_w, layer_index)] = globals()['G{}_c{}_w_layer{}'.format(global_epoch, num_c_w, layer_index)] + np.array(globals()['L{}_layer{}_w_c'.format(i,layer_index)])   # 일반 클러스터링\n"
     ]
    },
    {
     "name": "stdout",
     "output_type": "stream",
     "text": [
      "16  번째 global_epoch 데이터 랜덤 준비완료!!\n",
      "\n",
      "\n",
      "16  번째 global epoch에서 로컬 클라이언트 들 학습시작!\n",
      "\n",
      "학습 중 ...\n",
      "\n",
      "16/16 - 0s - loss: 0.6652 - accuracy: 0.8600\n",
      "16/16 - 0s - loss: 0.5721 - accuracy: 0.8420\n",
      "16/16 - 0s - loss: 0.5726 - accuracy: 0.8780\n",
      "16/16 - 0s - loss: 0.6612 - accuracy: 0.8560\n",
      "16/16 - 0s - loss: 0.5170 - accuracy: 0.8800\n",
      "16/16 - 0s - loss: 0.6633 - accuracy: 0.8580\n",
      "16/16 - 0s - loss: 0.7273 - accuracy: 0.8580\n",
      "16/16 - 0s - loss: 0.5335 - accuracy: 0.8700\n",
      "16/16 - 0s - loss: 0.7280 - accuracy: 0.8420\n",
      "16/16 - 0s - loss: 0.6627 - accuracy: 0.8240\n",
      "16/16 - 0s - loss: 0.6773 - accuracy: 0.8500\n",
      "16/16 - 0s - loss: 0.6175 - accuracy: 0.8740\n",
      "16/16 - 0s - loss: 0.7220 - accuracy: 0.8380\n",
      "16/16 - 0s - loss: 0.7313 - accuracy: 0.8520\n",
      "16/16 - 0s - loss: 0.5818 - accuracy: 0.8660\n",
      "16/16 - 0s - loss: 0.6469 - accuracy: 0.8600\n",
      "16/16 - 0s - loss: 0.5447 - accuracy: 0.8620\n",
      "16/16 - 0s - loss: 0.7100 - accuracy: 0.8540\n",
      "16/16 - 0s - loss: 0.4894 - accuracy: 0.8920\n",
      "16/16 - 0s - loss: 0.5463 - accuracy: 0.8720\n",
      "------------    16  번째 global epoch < Clustering > 로컬 클라이언트 학습 완료!,  Total Training time :  452.66591238975525 ---------------------------\n",
      "\n",
      "\n",
      "Layer :  0   클러스터 갯수 정해짐!  갯수 :  2 0\n"
     ]
    },
    {
     "name": "stderr",
     "output_type": "stream",
     "text": [
      "<ipython-input-8-91a1af1a5106>:147: VisibleDeprecationWarning: Creating an ndarray from ragged nested sequences (which is a list-or-tuple of lists-or-tuples-or ndarrays with different lengths or shapes) is deprecated. If you meant to do this, you must specify 'dtype=object' when creating the ndarray\n",
      "  globals()['G{}_c{}_w_layer{}'.format(global_epoch, num_c_w, layer_index)] = globals()['G{}_c{}_w_layer{}'.format(global_epoch, num_c_w, layer_index)] + np.array(globals()['L{}_layer{}_w_c'.format(i,layer_index)])   # 일반 클러스터링\n"
     ]
    },
    {
     "name": "stdout",
     "output_type": "stream",
     "text": [
      "Layer :  2   클러스터 갯수 정해짐!  갯수 :  2 0\n"
     ]
    },
    {
     "name": "stderr",
     "output_type": "stream",
     "text": [
      "<ipython-input-8-91a1af1a5106>:147: VisibleDeprecationWarning: Creating an ndarray from ragged nested sequences (which is a list-or-tuple of lists-or-tuples-or ndarrays with different lengths or shapes) is deprecated. If you meant to do this, you must specify 'dtype=object' when creating the ndarray\n",
      "  globals()['G{}_c{}_w_layer{}'.format(global_epoch, num_c_w, layer_index)] = globals()['G{}_c{}_w_layer{}'.format(global_epoch, num_c_w, layer_index)] + np.array(globals()['L{}_layer{}_w_c'.format(i,layer_index)])   # 일반 클러스터링\n"
     ]
    },
    {
     "name": "stdout",
     "output_type": "stream",
     "text": [
      "Layer :  4   클러스터 갯수 정해짐!  갯수 :  2 0\n"
     ]
    },
    {
     "name": "stderr",
     "output_type": "stream",
     "text": [
      "<ipython-input-8-91a1af1a5106>:147: VisibleDeprecationWarning: Creating an ndarray from ragged nested sequences (which is a list-or-tuple of lists-or-tuples-or ndarrays with different lengths or shapes) is deprecated. If you meant to do this, you must specify 'dtype=object' when creating the ndarray\n",
      "  globals()['G{}_c{}_w_layer{}'.format(global_epoch, num_c_w, layer_index)] = globals()['G{}_c{}_w_layer{}'.format(global_epoch, num_c_w, layer_index)] + np.array(globals()['L{}_layer{}_w_c'.format(i,layer_index)])   # 일반 클러스터링\n"
     ]
    },
    {
     "name": "stdout",
     "output_type": "stream",
     "text": [
      "Layer :  6   클러스터 갯수 정해짐!  갯수 :  2 0\n"
     ]
    },
    {
     "name": "stderr",
     "output_type": "stream",
     "text": [
      "<ipython-input-8-91a1af1a5106>:147: VisibleDeprecationWarning: Creating an ndarray from ragged nested sequences (which is a list-or-tuple of lists-or-tuples-or ndarrays with different lengths or shapes) is deprecated. If you meant to do this, you must specify 'dtype=object' when creating the ndarray\n",
      "  globals()['G{}_c{}_w_layer{}'.format(global_epoch, num_c_w, layer_index)] = globals()['G{}_c{}_w_layer{}'.format(global_epoch, num_c_w, layer_index)] + np.array(globals()['L{}_layer{}_w_c'.format(i,layer_index)])   # 일반 클러스터링\n"
     ]
    },
    {
     "name": "stdout",
     "output_type": "stream",
     "text": [
      "Layer :  7   클러스터 갯수 정해짐!  갯수 :  4 2\n",
      "\n",
      "\n",
      "====================================================== One Global Epoch =====================================================================\n",
      "\n",
      "\n",
      "17  번째 global_epoch 데이터 랜덤하게 준비!!\n"
     ]
    },
    {
     "name": "stderr",
     "output_type": "stream",
     "text": [
      "<ipython-input-8-91a1af1a5106>:147: VisibleDeprecationWarning: Creating an ndarray from ragged nested sequences (which is a list-or-tuple of lists-or-tuples-or ndarrays with different lengths or shapes) is deprecated. If you meant to do this, you must specify 'dtype=object' when creating the ndarray\n",
      "  globals()['G{}_c{}_w_layer{}'.format(global_epoch, num_c_w, layer_index)] = globals()['G{}_c{}_w_layer{}'.format(global_epoch, num_c_w, layer_index)] + np.array(globals()['L{}_layer{}_w_c'.format(i,layer_index)])   # 일반 클러스터링\n"
     ]
    },
    {
     "name": "stdout",
     "output_type": "stream",
     "text": [
      "17  번째 global_epoch 데이터 랜덤 준비완료!!\n",
      "\n",
      "\n",
      "17  번째 global epoch에서 로컬 클라이언트 들 학습시작!\n",
      "\n",
      "학습 중 ...\n",
      "\n",
      "16/16 - 0s - loss: 0.5494 - accuracy: 0.8660\n",
      "16/16 - 0s - loss: 0.6130 - accuracy: 0.8680\n",
      "16/16 - 0s - loss: 0.7470 - accuracy: 0.8460\n",
      "16/16 - 0s - loss: 0.7132 - accuracy: 0.8500\n",
      "16/16 - 0s - loss: 0.7210 - accuracy: 0.8520\n",
      "16/16 - 0s - loss: 0.6538 - accuracy: 0.8680\n",
      "16/16 - 0s - loss: 0.7616 - accuracy: 0.8540\n",
      "16/16 - 0s - loss: 0.6741 - accuracy: 0.8580\n",
      "16/16 - 0s - loss: 0.5073 - accuracy: 0.8800\n",
      "16/16 - 0s - loss: 0.7060 - accuracy: 0.8660\n",
      "16/16 - 0s - loss: 0.8022 - accuracy: 0.8420\n",
      "16/16 - 0s - loss: 0.5180 - accuracy: 0.8820\n",
      "16/16 - 0s - loss: 0.5982 - accuracy: 0.8600\n",
      "16/16 - 0s - loss: 0.6861 - accuracy: 0.8780\n",
      "16/16 - 0s - loss: 0.8529 - accuracy: 0.8000\n",
      "16/16 - 0s - loss: 0.5915 - accuracy: 0.8580\n",
      "16/16 - 0s - loss: 0.6437 - accuracy: 0.8480\n",
      "16/16 - 0s - loss: 0.4636 - accuracy: 0.8960\n",
      "16/16 - 0s - loss: 0.6231 - accuracy: 0.8640\n",
      "16/16 - 0s - loss: 0.7834 - accuracy: 0.8520\n",
      "------------    17  번째 global epoch < Clustering > 로컬 클라이언트 학습 완료!,  Total Training time :  458.27021765708923 ---------------------------\n",
      "\n",
      "\n",
      "Layer :  0   클러스터 갯수 정해짐!  갯수 :  2 0\n"
     ]
    },
    {
     "name": "stderr",
     "output_type": "stream",
     "text": [
      "<ipython-input-8-91a1af1a5106>:147: VisibleDeprecationWarning: Creating an ndarray from ragged nested sequences (which is a list-or-tuple of lists-or-tuples-or ndarrays with different lengths or shapes) is deprecated. If you meant to do this, you must specify 'dtype=object' when creating the ndarray\n",
      "  globals()['G{}_c{}_w_layer{}'.format(global_epoch, num_c_w, layer_index)] = globals()['G{}_c{}_w_layer{}'.format(global_epoch, num_c_w, layer_index)] + np.array(globals()['L{}_layer{}_w_c'.format(i,layer_index)])   # 일반 클러스터링\n"
     ]
    },
    {
     "name": "stdout",
     "output_type": "stream",
     "text": [
      "Layer :  2   클러스터 갯수 정해짐!  갯수 :  2 0\n"
     ]
    },
    {
     "name": "stderr",
     "output_type": "stream",
     "text": [
      "<ipython-input-8-91a1af1a5106>:147: VisibleDeprecationWarning: Creating an ndarray from ragged nested sequences (which is a list-or-tuple of lists-or-tuples-or ndarrays with different lengths or shapes) is deprecated. If you meant to do this, you must specify 'dtype=object' when creating the ndarray\n",
      "  globals()['G{}_c{}_w_layer{}'.format(global_epoch, num_c_w, layer_index)] = globals()['G{}_c{}_w_layer{}'.format(global_epoch, num_c_w, layer_index)] + np.array(globals()['L{}_layer{}_w_c'.format(i,layer_index)])   # 일반 클러스터링\n"
     ]
    },
    {
     "name": "stdout",
     "output_type": "stream",
     "text": [
      "Layer :  4   클러스터 갯수 정해짐!  갯수 :  2 0\n"
     ]
    },
    {
     "name": "stderr",
     "output_type": "stream",
     "text": [
      "<ipython-input-8-91a1af1a5106>:147: VisibleDeprecationWarning: Creating an ndarray from ragged nested sequences (which is a list-or-tuple of lists-or-tuples-or ndarrays with different lengths or shapes) is deprecated. If you meant to do this, you must specify 'dtype=object' when creating the ndarray\n",
      "  globals()['G{}_c{}_w_layer{}'.format(global_epoch, num_c_w, layer_index)] = globals()['G{}_c{}_w_layer{}'.format(global_epoch, num_c_w, layer_index)] + np.array(globals()['L{}_layer{}_w_c'.format(i,layer_index)])   # 일반 클러스터링\n"
     ]
    },
    {
     "name": "stdout",
     "output_type": "stream",
     "text": [
      "Layer :  6   클러스터 갯수 정해짐!  갯수 :  2 0\n"
     ]
    },
    {
     "name": "stderr",
     "output_type": "stream",
     "text": [
      "<ipython-input-8-91a1af1a5106>:147: VisibleDeprecationWarning: Creating an ndarray from ragged nested sequences (which is a list-or-tuple of lists-or-tuples-or ndarrays with different lengths or shapes) is deprecated. If you meant to do this, you must specify 'dtype=object' when creating the ndarray\n",
      "  globals()['G{}_c{}_w_layer{}'.format(global_epoch, num_c_w, layer_index)] = globals()['G{}_c{}_w_layer{}'.format(global_epoch, num_c_w, layer_index)] + np.array(globals()['L{}_layer{}_w_c'.format(i,layer_index)])   # 일반 클러스터링\n"
     ]
    },
    {
     "name": "stdout",
     "output_type": "stream",
     "text": [
      "Layer :  7   클러스터 갯수 정해짐!  갯수 :  4 2\n",
      "\n",
      "\n",
      "====================================================== One Global Epoch =====================================================================\n",
      "\n",
      "\n",
      "18  번째 global_epoch 데이터 랜덤하게 준비!!\n"
     ]
    },
    {
     "name": "stderr",
     "output_type": "stream",
     "text": [
      "<ipython-input-8-91a1af1a5106>:147: VisibleDeprecationWarning: Creating an ndarray from ragged nested sequences (which is a list-or-tuple of lists-or-tuples-or ndarrays with different lengths or shapes) is deprecated. If you meant to do this, you must specify 'dtype=object' when creating the ndarray\n",
      "  globals()['G{}_c{}_w_layer{}'.format(global_epoch, num_c_w, layer_index)] = globals()['G{}_c{}_w_layer{}'.format(global_epoch, num_c_w, layer_index)] + np.array(globals()['L{}_layer{}_w_c'.format(i,layer_index)])   # 일반 클러스터링\n"
     ]
    },
    {
     "name": "stdout",
     "output_type": "stream",
     "text": [
      "18  번째 global_epoch 데이터 랜덤 준비완료!!\n",
      "\n",
      "\n",
      "18  번째 global epoch에서 로컬 클라이언트 들 학습시작!\n",
      "\n",
      "학습 중 ...\n",
      "\n",
      "16/16 - 0s - loss: 0.6651 - accuracy: 0.8340\n",
      "16/16 - 0s - loss: 0.5742 - accuracy: 0.8840\n",
      "16/16 - 0s - loss: 0.7541 - accuracy: 0.8440\n",
      "16/16 - 0s - loss: 0.8227 - accuracy: 0.8680\n",
      "16/16 - 0s - loss: 0.8804 - accuracy: 0.8240\n",
      "16/16 - 0s - loss: 0.6579 - accuracy: 0.8720\n",
      "16/16 - 0s - loss: 0.7990 - accuracy: 0.8580\n",
      "16/16 - 0s - loss: 0.8305 - accuracy: 0.8200\n",
      "16/16 - 0s - loss: 0.6309 - accuracy: 0.8760\n",
      "16/16 - 0s - loss: 0.6839 - accuracy: 0.8820\n",
      "16/16 - 0s - loss: 0.4597 - accuracy: 0.8780\n",
      "16/16 - 0s - loss: 0.5040 - accuracy: 0.8720\n",
      "16/16 - 0s - loss: 0.7804 - accuracy: 0.8460\n",
      "16/16 - 0s - loss: 0.7862 - accuracy: 0.8560\n",
      "16/16 - 0s - loss: 0.7452 - accuracy: 0.8640\n",
      "16/16 - 0s - loss: 0.5165 - accuracy: 0.8640\n",
      "16/16 - 0s - loss: 0.5675 - accuracy: 0.8740\n",
      "16/16 - 0s - loss: 0.5660 - accuracy: 0.8820\n",
      "16/16 - 0s - loss: 0.6968 - accuracy: 0.8520\n",
      "16/16 - 0s - loss: 0.6883 - accuracy: 0.8700\n",
      "------------    18  번째 global epoch < Clustering > 로컬 클라이언트 학습 완료!,  Total Training time :  493.2628335952759 ---------------------------\n",
      "\n",
      "\n",
      "Layer :  0   클러스터 갯수 정해짐!  갯수 :  2 0\n"
     ]
    },
    {
     "name": "stderr",
     "output_type": "stream",
     "text": [
      "<ipython-input-8-91a1af1a5106>:147: VisibleDeprecationWarning: Creating an ndarray from ragged nested sequences (which is a list-or-tuple of lists-or-tuples-or ndarrays with different lengths or shapes) is deprecated. If you meant to do this, you must specify 'dtype=object' when creating the ndarray\n",
      "  globals()['G{}_c{}_w_layer{}'.format(global_epoch, num_c_w, layer_index)] = globals()['G{}_c{}_w_layer{}'.format(global_epoch, num_c_w, layer_index)] + np.array(globals()['L{}_layer{}_w_c'.format(i,layer_index)])   # 일반 클러스터링\n"
     ]
    },
    {
     "name": "stdout",
     "output_type": "stream",
     "text": [
      "Layer :  2   클러스터 갯수 정해짐!  갯수 :  2 0\n"
     ]
    },
    {
     "name": "stderr",
     "output_type": "stream",
     "text": [
      "<ipython-input-8-91a1af1a5106>:147: VisibleDeprecationWarning: Creating an ndarray from ragged nested sequences (which is a list-or-tuple of lists-or-tuples-or ndarrays with different lengths or shapes) is deprecated. If you meant to do this, you must specify 'dtype=object' when creating the ndarray\n",
      "  globals()['G{}_c{}_w_layer{}'.format(global_epoch, num_c_w, layer_index)] = globals()['G{}_c{}_w_layer{}'.format(global_epoch, num_c_w, layer_index)] + np.array(globals()['L{}_layer{}_w_c'.format(i,layer_index)])   # 일반 클러스터링\n"
     ]
    },
    {
     "name": "stdout",
     "output_type": "stream",
     "text": [
      "Layer :  4   클러스터 갯수 정해짐!  갯수 :  2 0\n"
     ]
    },
    {
     "name": "stderr",
     "output_type": "stream",
     "text": [
      "<ipython-input-8-91a1af1a5106>:147: VisibleDeprecationWarning: Creating an ndarray from ragged nested sequences (which is a list-or-tuple of lists-or-tuples-or ndarrays with different lengths or shapes) is deprecated. If you meant to do this, you must specify 'dtype=object' when creating the ndarray\n",
      "  globals()['G{}_c{}_w_layer{}'.format(global_epoch, num_c_w, layer_index)] = globals()['G{}_c{}_w_layer{}'.format(global_epoch, num_c_w, layer_index)] + np.array(globals()['L{}_layer{}_w_c'.format(i,layer_index)])   # 일반 클러스터링\n"
     ]
    },
    {
     "name": "stdout",
     "output_type": "stream",
     "text": [
      "Layer :  6   클러스터 갯수 정해짐!  갯수 :  2 0\n"
     ]
    },
    {
     "name": "stderr",
     "output_type": "stream",
     "text": [
      "<ipython-input-8-91a1af1a5106>:147: VisibleDeprecationWarning: Creating an ndarray from ragged nested sequences (which is a list-or-tuple of lists-or-tuples-or ndarrays with different lengths or shapes) is deprecated. If you meant to do this, you must specify 'dtype=object' when creating the ndarray\n",
      "  globals()['G{}_c{}_w_layer{}'.format(global_epoch, num_c_w, layer_index)] = globals()['G{}_c{}_w_layer{}'.format(global_epoch, num_c_w, layer_index)] + np.array(globals()['L{}_layer{}_w_c'.format(i,layer_index)])   # 일반 클러스터링\n"
     ]
    },
    {
     "name": "stdout",
     "output_type": "stream",
     "text": [
      "Layer :  7   클러스터 갯수 정해짐!  갯수 :  4 2\n",
      "\n",
      "\n",
      "====================================================== One Global Epoch =====================================================================\n",
      "\n",
      "\n",
      "19  번째 global_epoch 데이터 랜덤하게 준비!!\n"
     ]
    },
    {
     "name": "stderr",
     "output_type": "stream",
     "text": [
      "<ipython-input-8-91a1af1a5106>:147: VisibleDeprecationWarning: Creating an ndarray from ragged nested sequences (which is a list-or-tuple of lists-or-tuples-or ndarrays with different lengths or shapes) is deprecated. If you meant to do this, you must specify 'dtype=object' when creating the ndarray\n",
      "  globals()['G{}_c{}_w_layer{}'.format(global_epoch, num_c_w, layer_index)] = globals()['G{}_c{}_w_layer{}'.format(global_epoch, num_c_w, layer_index)] + np.array(globals()['L{}_layer{}_w_c'.format(i,layer_index)])   # 일반 클러스터링\n"
     ]
    },
    {
     "name": "stdout",
     "output_type": "stream",
     "text": [
      "19  번째 global_epoch 데이터 랜덤 준비완료!!\n",
      "\n",
      "\n",
      "19  번째 global epoch에서 로컬 클라이언트 들 학습시작!\n",
      "\n",
      "학습 중 ...\n",
      "\n",
      "16/16 - 0s - loss: 0.6512 - accuracy: 0.8640\n",
      "16/16 - 0s - loss: 0.5452 - accuracy: 0.8840\n",
      "16/16 - 0s - loss: 0.6737 - accuracy: 0.8660\n",
      "16/16 - 0s - loss: 0.5851 - accuracy: 0.8720\n",
      "16/16 - 0s - loss: 0.6591 - accuracy: 0.8500\n",
      "16/16 - 0s - loss: 0.5084 - accuracy: 0.8760\n",
      "16/16 - 0s - loss: 0.6994 - accuracy: 0.8600\n",
      "16/16 - 0s - loss: 0.6342 - accuracy: 0.8620\n",
      "16/16 - 0s - loss: 0.6535 - accuracy: 0.8600\n",
      "16/16 - 0s - loss: 0.6004 - accuracy: 0.8680\n",
      "16/16 - 0s - loss: 0.6732 - accuracy: 0.8500\n",
      "16/16 - 0s - loss: 0.6734 - accuracy: 0.8640\n",
      "16/16 - 0s - loss: 0.5192 - accuracy: 0.8780\n",
      "16/16 - 0s - loss: 0.7949 - accuracy: 0.8480\n",
      "16/16 - 0s - loss: 0.6786 - accuracy: 0.8420\n",
      "16/16 - 0s - loss: 0.7580 - accuracy: 0.8520\n",
      "16/16 - 0s - loss: 0.7934 - accuracy: 0.8380\n",
      "16/16 - 0s - loss: 0.5637 - accuracy: 0.8820\n",
      "16/16 - 0s - loss: 0.6007 - accuracy: 0.8700\n",
      "16/16 - 0s - loss: 0.5781 - accuracy: 0.8520\n",
      "------------    19  번째 global epoch < Clustering > 로컬 클라이언트 학습 완료!,  Total Training time :  520.2098758220673 ---------------------------\n",
      "\n",
      "\n",
      "Layer :  0   클러스터 갯수 정해짐!  갯수 :  2 0\n"
     ]
    },
    {
     "name": "stderr",
     "output_type": "stream",
     "text": [
      "<ipython-input-8-91a1af1a5106>:147: VisibleDeprecationWarning: Creating an ndarray from ragged nested sequences (which is a list-or-tuple of lists-or-tuples-or ndarrays with different lengths or shapes) is deprecated. If you meant to do this, you must specify 'dtype=object' when creating the ndarray\n",
      "  globals()['G{}_c{}_w_layer{}'.format(global_epoch, num_c_w, layer_index)] = globals()['G{}_c{}_w_layer{}'.format(global_epoch, num_c_w, layer_index)] + np.array(globals()['L{}_layer{}_w_c'.format(i,layer_index)])   # 일반 클러스터링\n"
     ]
    },
    {
     "name": "stdout",
     "output_type": "stream",
     "text": [
      "Layer :  2   클러스터 갯수 정해짐!  갯수 :  2 0\n"
     ]
    },
    {
     "name": "stderr",
     "output_type": "stream",
     "text": [
      "<ipython-input-8-91a1af1a5106>:147: VisibleDeprecationWarning: Creating an ndarray from ragged nested sequences (which is a list-or-tuple of lists-or-tuples-or ndarrays with different lengths or shapes) is deprecated. If you meant to do this, you must specify 'dtype=object' when creating the ndarray\n",
      "  globals()['G{}_c{}_w_layer{}'.format(global_epoch, num_c_w, layer_index)] = globals()['G{}_c{}_w_layer{}'.format(global_epoch, num_c_w, layer_index)] + np.array(globals()['L{}_layer{}_w_c'.format(i,layer_index)])   # 일반 클러스터링\n"
     ]
    },
    {
     "name": "stdout",
     "output_type": "stream",
     "text": [
      "Layer :  4   클러스터 갯수 정해짐!  갯수 :  2 0\n"
     ]
    },
    {
     "name": "stderr",
     "output_type": "stream",
     "text": [
      "<ipython-input-8-91a1af1a5106>:147: VisibleDeprecationWarning: Creating an ndarray from ragged nested sequences (which is a list-or-tuple of lists-or-tuples-or ndarrays with different lengths or shapes) is deprecated. If you meant to do this, you must specify 'dtype=object' when creating the ndarray\n",
      "  globals()['G{}_c{}_w_layer{}'.format(global_epoch, num_c_w, layer_index)] = globals()['G{}_c{}_w_layer{}'.format(global_epoch, num_c_w, layer_index)] + np.array(globals()['L{}_layer{}_w_c'.format(i,layer_index)])   # 일반 클러스터링\n"
     ]
    },
    {
     "name": "stdout",
     "output_type": "stream",
     "text": [
      "Layer :  6   클러스터 갯수 정해짐!  갯수 :  2 0\n"
     ]
    },
    {
     "name": "stderr",
     "output_type": "stream",
     "text": [
      "<ipython-input-8-91a1af1a5106>:147: VisibleDeprecationWarning: Creating an ndarray from ragged nested sequences (which is a list-or-tuple of lists-or-tuples-or ndarrays with different lengths or shapes) is deprecated. If you meant to do this, you must specify 'dtype=object' when creating the ndarray\n",
      "  globals()['G{}_c{}_w_layer{}'.format(global_epoch, num_c_w, layer_index)] = globals()['G{}_c{}_w_layer{}'.format(global_epoch, num_c_w, layer_index)] + np.array(globals()['L{}_layer{}_w_c'.format(i,layer_index)])   # 일반 클러스터링\n"
     ]
    },
    {
     "name": "stdout",
     "output_type": "stream",
     "text": [
      "Layer :  7   클러스터 갯수 정해짐!  갯수 :  4 2\n",
      "\n",
      "\n",
      "====================================================== One Global Epoch =====================================================================\n",
      "\n",
      "\n",
      "20  번째 global_epoch 데이터 랜덤하게 준비!!\n"
     ]
    },
    {
     "name": "stderr",
     "output_type": "stream",
     "text": [
      "<ipython-input-8-91a1af1a5106>:147: VisibleDeprecationWarning: Creating an ndarray from ragged nested sequences (which is a list-or-tuple of lists-or-tuples-or ndarrays with different lengths or shapes) is deprecated. If you meant to do this, you must specify 'dtype=object' when creating the ndarray\n",
      "  globals()['G{}_c{}_w_layer{}'.format(global_epoch, num_c_w, layer_index)] = globals()['G{}_c{}_w_layer{}'.format(global_epoch, num_c_w, layer_index)] + np.array(globals()['L{}_layer{}_w_c'.format(i,layer_index)])   # 일반 클러스터링\n"
     ]
    },
    {
     "name": "stdout",
     "output_type": "stream",
     "text": [
      "20  번째 global_epoch 데이터 랜덤 준비완료!!\n",
      "\n",
      "\n",
      "20  번째 global epoch에서 로컬 클라이언트 들 학습시작!\n",
      "\n",
      "학습 중 ...\n",
      "\n",
      "16/16 - 0s - loss: 0.6880 - accuracy: 0.8760\n",
      "16/16 - 0s - loss: 0.6652 - accuracy: 0.8480\n",
      "16/16 - 0s - loss: 0.6567 - accuracy: 0.8760\n",
      "16/16 - 0s - loss: 0.7248 - accuracy: 0.8560\n",
      "16/16 - 0s - loss: 0.5975 - accuracy: 0.8720\n",
      "16/16 - 0s - loss: 0.5780 - accuracy: 0.8840\n",
      "16/16 - 0s - loss: 0.6442 - accuracy: 0.8700\n",
      "16/16 - 0s - loss: 0.9465 - accuracy: 0.8320\n",
      "16/16 - 0s - loss: 0.6465 - accuracy: 0.8460\n",
      "16/16 - 0s - loss: 0.7090 - accuracy: 0.8620\n",
      "16/16 - 0s - loss: 0.7197 - accuracy: 0.8560\n",
      "16/16 - 0s - loss: 0.5809 - accuracy: 0.8760\n",
      "16/16 - 0s - loss: 0.7339 - accuracy: 0.8380\n",
      "16/16 - 0s - loss: 0.7751 - accuracy: 0.8560\n",
      "16/16 - 0s - loss: 0.5318 - accuracy: 0.8540\n",
      "16/16 - 0s - loss: 0.8562 - accuracy: 0.8140\n",
      "16/16 - 0s - loss: 0.6598 - accuracy: 0.8780\n",
      "16/16 - 0s - loss: 0.5354 - accuracy: 0.8780\n",
      "16/16 - 0s - loss: 0.5138 - accuracy: 0.8800\n",
      "16/16 - 0s - loss: 0.7140 - accuracy: 0.8620\n",
      "------------    20  번째 global epoch < Clustering > 로컬 클라이언트 학습 완료!,  Total Training time :  538.2398438453674 ---------------------------\n",
      "\n",
      "\n",
      "Layer :  0   클러스터 갯수 정해짐!  갯수 :  2 0\n"
     ]
    },
    {
     "name": "stderr",
     "output_type": "stream",
     "text": [
      "<ipython-input-8-91a1af1a5106>:147: VisibleDeprecationWarning: Creating an ndarray from ragged nested sequences (which is a list-or-tuple of lists-or-tuples-or ndarrays with different lengths or shapes) is deprecated. If you meant to do this, you must specify 'dtype=object' when creating the ndarray\n",
      "  globals()['G{}_c{}_w_layer{}'.format(global_epoch, num_c_w, layer_index)] = globals()['G{}_c{}_w_layer{}'.format(global_epoch, num_c_w, layer_index)] + np.array(globals()['L{}_layer{}_w_c'.format(i,layer_index)])   # 일반 클러스터링\n"
     ]
    },
    {
     "name": "stdout",
     "output_type": "stream",
     "text": [
      "Layer :  2   클러스터 갯수 정해짐!  갯수 :  2 0\n"
     ]
    },
    {
     "name": "stderr",
     "output_type": "stream",
     "text": [
      "<ipython-input-8-91a1af1a5106>:147: VisibleDeprecationWarning: Creating an ndarray from ragged nested sequences (which is a list-or-tuple of lists-or-tuples-or ndarrays with different lengths or shapes) is deprecated. If you meant to do this, you must specify 'dtype=object' when creating the ndarray\n",
      "  globals()['G{}_c{}_w_layer{}'.format(global_epoch, num_c_w, layer_index)] = globals()['G{}_c{}_w_layer{}'.format(global_epoch, num_c_w, layer_index)] + np.array(globals()['L{}_layer{}_w_c'.format(i,layer_index)])   # 일반 클러스터링\n"
     ]
    },
    {
     "name": "stdout",
     "output_type": "stream",
     "text": [
      "Layer :  4   클러스터 갯수 정해짐!  갯수 :  2 0\n"
     ]
    },
    {
     "name": "stderr",
     "output_type": "stream",
     "text": [
      "<ipython-input-8-91a1af1a5106>:147: VisibleDeprecationWarning: Creating an ndarray from ragged nested sequences (which is a list-or-tuple of lists-or-tuples-or ndarrays with different lengths or shapes) is deprecated. If you meant to do this, you must specify 'dtype=object' when creating the ndarray\n",
      "  globals()['G{}_c{}_w_layer{}'.format(global_epoch, num_c_w, layer_index)] = globals()['G{}_c{}_w_layer{}'.format(global_epoch, num_c_w, layer_index)] + np.array(globals()['L{}_layer{}_w_c'.format(i,layer_index)])   # 일반 클러스터링\n"
     ]
    },
    {
     "name": "stdout",
     "output_type": "stream",
     "text": [
      "Layer :  6   클러스터 갯수 정해짐!  갯수 :  2 0\n"
     ]
    },
    {
     "name": "stderr",
     "output_type": "stream",
     "text": [
      "<ipython-input-8-91a1af1a5106>:147: VisibleDeprecationWarning: Creating an ndarray from ragged nested sequences (which is a list-or-tuple of lists-or-tuples-or ndarrays with different lengths or shapes) is deprecated. If you meant to do this, you must specify 'dtype=object' when creating the ndarray\n",
      "  globals()['G{}_c{}_w_layer{}'.format(global_epoch, num_c_w, layer_index)] = globals()['G{}_c{}_w_layer{}'.format(global_epoch, num_c_w, layer_index)] + np.array(globals()['L{}_layer{}_w_c'.format(i,layer_index)])   # 일반 클러스터링\n"
     ]
    },
    {
     "name": "stdout",
     "output_type": "stream",
     "text": [
      "Layer :  7   클러스터 갯수 정해짐!  갯수 :  4 2\n",
      "\n",
      "\n",
      "====================================================== One Global Epoch =====================================================================\n",
      "\n",
      "\n",
      "21  번째 global_epoch 데이터 랜덤하게 준비!!\n"
     ]
    },
    {
     "name": "stderr",
     "output_type": "stream",
     "text": [
      "<ipython-input-8-91a1af1a5106>:147: VisibleDeprecationWarning: Creating an ndarray from ragged nested sequences (which is a list-or-tuple of lists-or-tuples-or ndarrays with different lengths or shapes) is deprecated. If you meant to do this, you must specify 'dtype=object' when creating the ndarray\n",
      "  globals()['G{}_c{}_w_layer{}'.format(global_epoch, num_c_w, layer_index)] = globals()['G{}_c{}_w_layer{}'.format(global_epoch, num_c_w, layer_index)] + np.array(globals()['L{}_layer{}_w_c'.format(i,layer_index)])   # 일반 클러스터링\n"
     ]
    },
    {
     "name": "stdout",
     "output_type": "stream",
     "text": [
      "21  번째 global_epoch 데이터 랜덤 준비완료!!\n",
      "\n",
      "\n",
      "21  번째 global epoch에서 로컬 클라이언트 들 학습시작!\n",
      "\n",
      "학습 중 ...\n",
      "\n",
      "16/16 - 0s - loss: 0.5753 - accuracy: 0.8720\n",
      "16/16 - 0s - loss: 0.5421 - accuracy: 0.8740\n",
      "16/16 - 0s - loss: 0.6994 - accuracy: 0.8600\n",
      "16/16 - 0s - loss: 0.6134 - accuracy: 0.8760\n",
      "16/16 - 0s - loss: 0.7497 - accuracy: 0.8580\n",
      "16/16 - 0s - loss: 0.5512 - accuracy: 0.8800\n",
      "16/16 - 0s - loss: 0.6209 - accuracy: 0.8560\n",
      "16/16 - 0s - loss: 0.8576 - accuracy: 0.8620\n",
      "16/16 - 0s - loss: 0.4339 - accuracy: 0.8920\n",
      "16/16 - 0s - loss: 0.5975 - accuracy: 0.8900\n",
      "16/16 - 0s - loss: 0.7274 - accuracy: 0.8460\n",
      "16/16 - 0s - loss: 0.6523 - accuracy: 0.8640\n",
      "16/16 - 0s - loss: 0.9818 - accuracy: 0.8360\n",
      "16/16 - 0s - loss: 0.5328 - accuracy: 0.8540\n",
      "16/16 - 0s - loss: 0.7936 - accuracy: 0.8520\n",
      "16/16 - 0s - loss: 0.4668 - accuracy: 0.8820\n",
      "16/16 - 0s - loss: 0.6135 - accuracy: 0.8580\n",
      "16/16 - 0s - loss: 0.6685 - accuracy: 0.8620\n",
      "16/16 - 0s - loss: 0.6208 - accuracy: 0.8680\n",
      "16/16 - 0s - loss: 0.5647 - accuracy: 0.8880\n",
      "------------    21  번째 global epoch < Clustering > 로컬 클라이언트 학습 완료!,  Total Training time :  570.0861937999725 ---------------------------\n",
      "\n",
      "\n",
      "Layer :  0   클러스터 갯수 정해짐!  갯수 :  2 0\n"
     ]
    },
    {
     "name": "stderr",
     "output_type": "stream",
     "text": [
      "<ipython-input-8-91a1af1a5106>:147: VisibleDeprecationWarning: Creating an ndarray from ragged nested sequences (which is a list-or-tuple of lists-or-tuples-or ndarrays with different lengths or shapes) is deprecated. If you meant to do this, you must specify 'dtype=object' when creating the ndarray\n",
      "  globals()['G{}_c{}_w_layer{}'.format(global_epoch, num_c_w, layer_index)] = globals()['G{}_c{}_w_layer{}'.format(global_epoch, num_c_w, layer_index)] + np.array(globals()['L{}_layer{}_w_c'.format(i,layer_index)])   # 일반 클러스터링\n"
     ]
    },
    {
     "name": "stdout",
     "output_type": "stream",
     "text": [
      "Layer :  2   클러스터 갯수 정해짐!  갯수 :  2 0\n"
     ]
    },
    {
     "name": "stderr",
     "output_type": "stream",
     "text": [
      "<ipython-input-8-91a1af1a5106>:147: VisibleDeprecationWarning: Creating an ndarray from ragged nested sequences (which is a list-or-tuple of lists-or-tuples-or ndarrays with different lengths or shapes) is deprecated. If you meant to do this, you must specify 'dtype=object' when creating the ndarray\n",
      "  globals()['G{}_c{}_w_layer{}'.format(global_epoch, num_c_w, layer_index)] = globals()['G{}_c{}_w_layer{}'.format(global_epoch, num_c_w, layer_index)] + np.array(globals()['L{}_layer{}_w_c'.format(i,layer_index)])   # 일반 클러스터링\n"
     ]
    },
    {
     "name": "stdout",
     "output_type": "stream",
     "text": [
      "Layer :  4   클러스터 갯수 정해짐!  갯수 :  2 0\n"
     ]
    },
    {
     "name": "stderr",
     "output_type": "stream",
     "text": [
      "<ipython-input-8-91a1af1a5106>:147: VisibleDeprecationWarning: Creating an ndarray from ragged nested sequences (which is a list-or-tuple of lists-or-tuples-or ndarrays with different lengths or shapes) is deprecated. If you meant to do this, you must specify 'dtype=object' when creating the ndarray\n",
      "  globals()['G{}_c{}_w_layer{}'.format(global_epoch, num_c_w, layer_index)] = globals()['G{}_c{}_w_layer{}'.format(global_epoch, num_c_w, layer_index)] + np.array(globals()['L{}_layer{}_w_c'.format(i,layer_index)])   # 일반 클러스터링\n"
     ]
    },
    {
     "name": "stdout",
     "output_type": "stream",
     "text": [
      "Layer :  6   클러스터 갯수 정해짐!  갯수 :  2 0\n"
     ]
    },
    {
     "name": "stderr",
     "output_type": "stream",
     "text": [
      "<ipython-input-8-91a1af1a5106>:147: VisibleDeprecationWarning: Creating an ndarray from ragged nested sequences (which is a list-or-tuple of lists-or-tuples-or ndarrays with different lengths or shapes) is deprecated. If you meant to do this, you must specify 'dtype=object' when creating the ndarray\n",
      "  globals()['G{}_c{}_w_layer{}'.format(global_epoch, num_c_w, layer_index)] = globals()['G{}_c{}_w_layer{}'.format(global_epoch, num_c_w, layer_index)] + np.array(globals()['L{}_layer{}_w_c'.format(i,layer_index)])   # 일반 클러스터링\n"
     ]
    },
    {
     "name": "stdout",
     "output_type": "stream",
     "text": [
      "Layer :  7   클러스터 갯수 정해짐!  갯수 :  4 2\n",
      "\n",
      "\n",
      "====================================================== One Global Epoch =====================================================================\n",
      "\n",
      "\n",
      "22  번째 global_epoch 데이터 랜덤하게 준비!!\n"
     ]
    },
    {
     "name": "stderr",
     "output_type": "stream",
     "text": [
      "<ipython-input-8-91a1af1a5106>:147: VisibleDeprecationWarning: Creating an ndarray from ragged nested sequences (which is a list-or-tuple of lists-or-tuples-or ndarrays with different lengths or shapes) is deprecated. If you meant to do this, you must specify 'dtype=object' when creating the ndarray\n",
      "  globals()['G{}_c{}_w_layer{}'.format(global_epoch, num_c_w, layer_index)] = globals()['G{}_c{}_w_layer{}'.format(global_epoch, num_c_w, layer_index)] + np.array(globals()['L{}_layer{}_w_c'.format(i,layer_index)])   # 일반 클러스터링\n"
     ]
    },
    {
     "name": "stdout",
     "output_type": "stream",
     "text": [
      "22  번째 global_epoch 데이터 랜덤 준비완료!!\n",
      "\n",
      "\n",
      "22  번째 global epoch에서 로컬 클라이언트 들 학습시작!\n",
      "\n",
      "학습 중 ...\n",
      "\n",
      "16/16 - 0s - loss: 0.6510 - accuracy: 0.8580\n",
      "16/16 - 0s - loss: 0.5404 - accuracy: 0.8800\n",
      "16/16 - 0s - loss: 0.7137 - accuracy: 0.8640\n",
      "16/16 - 0s - loss: 0.5714 - accuracy: 0.8800\n",
      "16/16 - 0s - loss: 0.8561 - accuracy: 0.8440\n",
      "16/16 - 0s - loss: 0.6343 - accuracy: 0.8940\n",
      "16/16 - 0s - loss: 0.5615 - accuracy: 0.8740\n",
      "16/16 - 0s - loss: 0.8470 - accuracy: 0.8320\n",
      "16/16 - 0s - loss: 0.7283 - accuracy: 0.8400\n",
      "16/16 - 0s - loss: 0.7007 - accuracy: 0.8680\n",
      "16/16 - 0s - loss: 0.6448 - accuracy: 0.8760\n",
      "16/16 - 0s - loss: 0.7399 - accuracy: 0.8680\n",
      "16/16 - 0s - loss: 0.6945 - accuracy: 0.8780\n",
      "16/16 - 0s - loss: 0.7655 - accuracy: 0.8740\n",
      "16/16 - 0s - loss: 0.4296 - accuracy: 0.8900\n",
      "16/16 - 0s - loss: 0.6227 - accuracy: 0.8720\n",
      "16/16 - 0s - loss: 0.6093 - accuracy: 0.8600\n",
      "16/16 - 0s - loss: 0.7436 - accuracy: 0.8500\n",
      "16/16 - 0s - loss: 0.6759 - accuracy: 0.8700\n",
      "16/16 - 0s - loss: 0.7182 - accuracy: 0.8500\n",
      "------------    22  번째 global epoch < Clustering > 로컬 클라이언트 학습 완료!,  Total Training time :  611.0099906921387 ---------------------------\n",
      "\n",
      "\n",
      "Layer :  0   클러스터 갯수 정해짐!  갯수 :  2 0\n"
     ]
    },
    {
     "name": "stderr",
     "output_type": "stream",
     "text": [
      "<ipython-input-8-91a1af1a5106>:147: VisibleDeprecationWarning: Creating an ndarray from ragged nested sequences (which is a list-or-tuple of lists-or-tuples-or ndarrays with different lengths or shapes) is deprecated. If you meant to do this, you must specify 'dtype=object' when creating the ndarray\n",
      "  globals()['G{}_c{}_w_layer{}'.format(global_epoch, num_c_w, layer_index)] = globals()['G{}_c{}_w_layer{}'.format(global_epoch, num_c_w, layer_index)] + np.array(globals()['L{}_layer{}_w_c'.format(i,layer_index)])   # 일반 클러스터링\n"
     ]
    },
    {
     "name": "stdout",
     "output_type": "stream",
     "text": [
      "Layer :  2   클러스터 갯수 정해짐!  갯수 :  2 0\n"
     ]
    },
    {
     "name": "stderr",
     "output_type": "stream",
     "text": [
      "<ipython-input-8-91a1af1a5106>:147: VisibleDeprecationWarning: Creating an ndarray from ragged nested sequences (which is a list-or-tuple of lists-or-tuples-or ndarrays with different lengths or shapes) is deprecated. If you meant to do this, you must specify 'dtype=object' when creating the ndarray\n",
      "  globals()['G{}_c{}_w_layer{}'.format(global_epoch, num_c_w, layer_index)] = globals()['G{}_c{}_w_layer{}'.format(global_epoch, num_c_w, layer_index)] + np.array(globals()['L{}_layer{}_w_c'.format(i,layer_index)])   # 일반 클러스터링\n"
     ]
    },
    {
     "name": "stdout",
     "output_type": "stream",
     "text": [
      "Layer :  4   클러스터 갯수 정해짐!  갯수 :  2 0\n"
     ]
    },
    {
     "name": "stderr",
     "output_type": "stream",
     "text": [
      "<ipython-input-8-91a1af1a5106>:147: VisibleDeprecationWarning: Creating an ndarray from ragged nested sequences (which is a list-or-tuple of lists-or-tuples-or ndarrays with different lengths or shapes) is deprecated. If you meant to do this, you must specify 'dtype=object' when creating the ndarray\n",
      "  globals()['G{}_c{}_w_layer{}'.format(global_epoch, num_c_w, layer_index)] = globals()['G{}_c{}_w_layer{}'.format(global_epoch, num_c_w, layer_index)] + np.array(globals()['L{}_layer{}_w_c'.format(i,layer_index)])   # 일반 클러스터링\n"
     ]
    },
    {
     "name": "stdout",
     "output_type": "stream",
     "text": [
      "Layer :  6   클러스터 갯수 정해짐!  갯수 :  2 0\n"
     ]
    },
    {
     "name": "stderr",
     "output_type": "stream",
     "text": [
      "<ipython-input-8-91a1af1a5106>:147: VisibleDeprecationWarning: Creating an ndarray from ragged nested sequences (which is a list-or-tuple of lists-or-tuples-or ndarrays with different lengths or shapes) is deprecated. If you meant to do this, you must specify 'dtype=object' when creating the ndarray\n",
      "  globals()['G{}_c{}_w_layer{}'.format(global_epoch, num_c_w, layer_index)] = globals()['G{}_c{}_w_layer{}'.format(global_epoch, num_c_w, layer_index)] + np.array(globals()['L{}_layer{}_w_c'.format(i,layer_index)])   # 일반 클러스터링\n"
     ]
    },
    {
     "name": "stdout",
     "output_type": "stream",
     "text": [
      "Layer :  7   클러스터 갯수 정해짐!  갯수 :  4 2\n",
      "\n",
      "\n",
      "====================================================== One Global Epoch =====================================================================\n",
      "\n",
      "\n",
      "23  번째 global_epoch 데이터 랜덤하게 준비!!\n"
     ]
    },
    {
     "name": "stderr",
     "output_type": "stream",
     "text": [
      "<ipython-input-8-91a1af1a5106>:147: VisibleDeprecationWarning: Creating an ndarray from ragged nested sequences (which is a list-or-tuple of lists-or-tuples-or ndarrays with different lengths or shapes) is deprecated. If you meant to do this, you must specify 'dtype=object' when creating the ndarray\n",
      "  globals()['G{}_c{}_w_layer{}'.format(global_epoch, num_c_w, layer_index)] = globals()['G{}_c{}_w_layer{}'.format(global_epoch, num_c_w, layer_index)] + np.array(globals()['L{}_layer{}_w_c'.format(i,layer_index)])   # 일반 클러스터링\n"
     ]
    },
    {
     "name": "stdout",
     "output_type": "stream",
     "text": [
      "23  번째 global_epoch 데이터 랜덤 준비완료!!\n",
      "\n",
      "\n",
      "23  번째 global epoch에서 로컬 클라이언트 들 학습시작!\n",
      "\n",
      "학습 중 ...\n",
      "\n",
      "16/16 - 0s - loss: 0.6910 - accuracy: 0.8480\n",
      "16/16 - 0s - loss: 0.5442 - accuracy: 0.8820\n",
      "16/16 - 0s - loss: 0.5405 - accuracy: 0.8820\n",
      "16/16 - 0s - loss: 0.5868 - accuracy: 0.8760\n",
      "16/16 - 0s - loss: 0.6481 - accuracy: 0.8780\n",
      "16/16 - 0s - loss: 0.7909 - accuracy: 0.8600\n",
      "16/16 - 0s - loss: 0.6233 - accuracy: 0.8580\n",
      "16/16 - 0s - loss: 0.6231 - accuracy: 0.8760\n",
      "16/16 - 0s - loss: 0.8174 - accuracy: 0.8620\n",
      "16/16 - 0s - loss: 0.8327 - accuracy: 0.8480\n",
      "16/16 - 0s - loss: 0.6219 - accuracy: 0.8560\n",
      "16/16 - 0s - loss: 0.7518 - accuracy: 0.8540\n",
      "16/16 - 0s - loss: 0.5884 - accuracy: 0.8660\n",
      "16/16 - 0s - loss: 0.6114 - accuracy: 0.8580\n",
      "16/16 - 0s - loss: 0.8653 - accuracy: 0.8500\n",
      "16/16 - 0s - loss: 0.7535 - accuracy: 0.8480\n",
      "16/16 - 0s - loss: 0.7787 - accuracy: 0.8460\n",
      "16/16 - 0s - loss: 0.5546 - accuracy: 0.8660\n",
      "16/16 - 0s - loss: 0.6397 - accuracy: 0.8460\n",
      "16/16 - 0s - loss: 0.6145 - accuracy: 0.8780\n",
      "------------    23  번째 global epoch < Clustering > 로컬 클라이언트 학습 완료!,  Total Training time :  669.7020268440247 ---------------------------\n",
      "\n",
      "\n",
      "Layer :  0   클러스터 갯수 정해짐!  갯수 :  2 0\n"
     ]
    },
    {
     "name": "stderr",
     "output_type": "stream",
     "text": [
      "<ipython-input-8-91a1af1a5106>:147: VisibleDeprecationWarning: Creating an ndarray from ragged nested sequences (which is a list-or-tuple of lists-or-tuples-or ndarrays with different lengths or shapes) is deprecated. If you meant to do this, you must specify 'dtype=object' when creating the ndarray\n",
      "  globals()['G{}_c{}_w_layer{}'.format(global_epoch, num_c_w, layer_index)] = globals()['G{}_c{}_w_layer{}'.format(global_epoch, num_c_w, layer_index)] + np.array(globals()['L{}_layer{}_w_c'.format(i,layer_index)])   # 일반 클러스터링\n"
     ]
    },
    {
     "name": "stdout",
     "output_type": "stream",
     "text": [
      "Layer :  2   클러스터 갯수 정해짐!  갯수 :  2 0\n"
     ]
    },
    {
     "name": "stderr",
     "output_type": "stream",
     "text": [
      "<ipython-input-8-91a1af1a5106>:147: VisibleDeprecationWarning: Creating an ndarray from ragged nested sequences (which is a list-or-tuple of lists-or-tuples-or ndarrays with different lengths or shapes) is deprecated. If you meant to do this, you must specify 'dtype=object' when creating the ndarray\n",
      "  globals()['G{}_c{}_w_layer{}'.format(global_epoch, num_c_w, layer_index)] = globals()['G{}_c{}_w_layer{}'.format(global_epoch, num_c_w, layer_index)] + np.array(globals()['L{}_layer{}_w_c'.format(i,layer_index)])   # 일반 클러스터링\n"
     ]
    },
    {
     "name": "stdout",
     "output_type": "stream",
     "text": [
      "Layer :  4   클러스터 갯수 정해짐!  갯수 :  2 0\n"
     ]
    },
    {
     "name": "stderr",
     "output_type": "stream",
     "text": [
      "<ipython-input-8-91a1af1a5106>:147: VisibleDeprecationWarning: Creating an ndarray from ragged nested sequences (which is a list-or-tuple of lists-or-tuples-or ndarrays with different lengths or shapes) is deprecated. If you meant to do this, you must specify 'dtype=object' when creating the ndarray\n",
      "  globals()['G{}_c{}_w_layer{}'.format(global_epoch, num_c_w, layer_index)] = globals()['G{}_c{}_w_layer{}'.format(global_epoch, num_c_w, layer_index)] + np.array(globals()['L{}_layer{}_w_c'.format(i,layer_index)])   # 일반 클러스터링\n"
     ]
    },
    {
     "name": "stdout",
     "output_type": "stream",
     "text": [
      "Layer :  6   클러스터 갯수 정해짐!  갯수 :  2 0\n"
     ]
    },
    {
     "name": "stderr",
     "output_type": "stream",
     "text": [
      "<ipython-input-8-91a1af1a5106>:147: VisibleDeprecationWarning: Creating an ndarray from ragged nested sequences (which is a list-or-tuple of lists-or-tuples-or ndarrays with different lengths or shapes) is deprecated. If you meant to do this, you must specify 'dtype=object' when creating the ndarray\n",
      "  globals()['G{}_c{}_w_layer{}'.format(global_epoch, num_c_w, layer_index)] = globals()['G{}_c{}_w_layer{}'.format(global_epoch, num_c_w, layer_index)] + np.array(globals()['L{}_layer{}_w_c'.format(i,layer_index)])   # 일반 클러스터링\n"
     ]
    },
    {
     "name": "stdout",
     "output_type": "stream",
     "text": [
      "Layer :  7   클러스터 갯수 정해짐!  갯수 :  4 2\n",
      "\n",
      "\n",
      "====================================================== One Global Epoch =====================================================================\n",
      "\n",
      "\n",
      "24  번째 global_epoch 데이터 랜덤하게 준비!!\n"
     ]
    },
    {
     "name": "stderr",
     "output_type": "stream",
     "text": [
      "<ipython-input-8-91a1af1a5106>:147: VisibleDeprecationWarning: Creating an ndarray from ragged nested sequences (which is a list-or-tuple of lists-or-tuples-or ndarrays with different lengths or shapes) is deprecated. If you meant to do this, you must specify 'dtype=object' when creating the ndarray\n",
      "  globals()['G{}_c{}_w_layer{}'.format(global_epoch, num_c_w, layer_index)] = globals()['G{}_c{}_w_layer{}'.format(global_epoch, num_c_w, layer_index)] + np.array(globals()['L{}_layer{}_w_c'.format(i,layer_index)])   # 일반 클러스터링\n"
     ]
    },
    {
     "name": "stdout",
     "output_type": "stream",
     "text": [
      "24  번째 global_epoch 데이터 랜덤 준비완료!!\n",
      "\n",
      "\n",
      "24  번째 global epoch에서 로컬 클라이언트 들 학습시작!\n",
      "\n",
      "학습 중 ...\n",
      "\n",
      "16/16 - 0s - loss: 0.8028 - accuracy: 0.8380\n",
      "16/16 - 0s - loss: 0.8063 - accuracy: 0.8660\n",
      "16/16 - 0s - loss: 0.6799 - accuracy: 0.8640\n",
      "16/16 - 0s - loss: 0.7927 - accuracy: 0.8820\n",
      "16/16 - 0s - loss: 0.6324 - accuracy: 0.8480\n",
      "16/16 - 0s - loss: 0.6755 - accuracy: 0.8680\n",
      "16/16 - 0s - loss: 0.6506 - accuracy: 0.8780\n",
      "16/16 - 0s - loss: 0.8186 - accuracy: 0.8400\n",
      "16/16 - 0s - loss: 0.6853 - accuracy: 0.8440\n",
      "16/16 - 0s - loss: 0.5892 - accuracy: 0.8620\n",
      "16/16 - 0s - loss: 0.6106 - accuracy: 0.8620\n",
      "16/16 - 0s - loss: 0.6250 - accuracy: 0.8460\n",
      "16/16 - 0s - loss: 0.6916 - accuracy: 0.8740\n",
      "16/16 - 0s - loss: 0.6530 - accuracy: 0.8820\n",
      "16/16 - 0s - loss: 0.6076 - accuracy: 0.8900\n",
      "16/16 - 0s - loss: 0.5133 - accuracy: 0.8680\n",
      "16/16 - 0s - loss: 0.7456 - accuracy: 0.8680\n",
      "16/16 - 0s - loss: 0.4960 - accuracy: 0.8900\n",
      "16/16 - 0s - loss: 0.6165 - accuracy: 0.8840\n",
      "16/16 - 0s - loss: 0.8075 - accuracy: 0.8460\n",
      "------------    24  번째 global epoch < Clustering > 로컬 클라이언트 학습 완료!,  Total Training time :  676.4377331733704 ---------------------------\n",
      "\n",
      "\n",
      "Layer :  0   클러스터 갯수 정해짐!  갯수 :  2 0\n"
     ]
    },
    {
     "name": "stderr",
     "output_type": "stream",
     "text": [
      "<ipython-input-8-91a1af1a5106>:147: VisibleDeprecationWarning: Creating an ndarray from ragged nested sequences (which is a list-or-tuple of lists-or-tuples-or ndarrays with different lengths or shapes) is deprecated. If you meant to do this, you must specify 'dtype=object' when creating the ndarray\n",
      "  globals()['G{}_c{}_w_layer{}'.format(global_epoch, num_c_w, layer_index)] = globals()['G{}_c{}_w_layer{}'.format(global_epoch, num_c_w, layer_index)] + np.array(globals()['L{}_layer{}_w_c'.format(i,layer_index)])   # 일반 클러스터링\n"
     ]
    },
    {
     "name": "stdout",
     "output_type": "stream",
     "text": [
      "Layer :  2   클러스터 갯수 정해짐!  갯수 :  2 0\n"
     ]
    },
    {
     "name": "stderr",
     "output_type": "stream",
     "text": [
      "<ipython-input-8-91a1af1a5106>:147: VisibleDeprecationWarning: Creating an ndarray from ragged nested sequences (which is a list-or-tuple of lists-or-tuples-or ndarrays with different lengths or shapes) is deprecated. If you meant to do this, you must specify 'dtype=object' when creating the ndarray\n",
      "  globals()['G{}_c{}_w_layer{}'.format(global_epoch, num_c_w, layer_index)] = globals()['G{}_c{}_w_layer{}'.format(global_epoch, num_c_w, layer_index)] + np.array(globals()['L{}_layer{}_w_c'.format(i,layer_index)])   # 일반 클러스터링\n"
     ]
    },
    {
     "name": "stdout",
     "output_type": "stream",
     "text": [
      "Layer :  4   클러스터 갯수 정해짐!  갯수 :  2 0\n"
     ]
    },
    {
     "name": "stderr",
     "output_type": "stream",
     "text": [
      "<ipython-input-8-91a1af1a5106>:147: VisibleDeprecationWarning: Creating an ndarray from ragged nested sequences (which is a list-or-tuple of lists-or-tuples-or ndarrays with different lengths or shapes) is deprecated. If you meant to do this, you must specify 'dtype=object' when creating the ndarray\n",
      "  globals()['G{}_c{}_w_layer{}'.format(global_epoch, num_c_w, layer_index)] = globals()['G{}_c{}_w_layer{}'.format(global_epoch, num_c_w, layer_index)] + np.array(globals()['L{}_layer{}_w_c'.format(i,layer_index)])   # 일반 클러스터링\n"
     ]
    },
    {
     "name": "stdout",
     "output_type": "stream",
     "text": [
      "Layer :  6   클러스터 갯수 정해짐!  갯수 :  2 0\n"
     ]
    },
    {
     "name": "stderr",
     "output_type": "stream",
     "text": [
      "<ipython-input-8-91a1af1a5106>:147: VisibleDeprecationWarning: Creating an ndarray from ragged nested sequences (which is a list-or-tuple of lists-or-tuples-or ndarrays with different lengths or shapes) is deprecated. If you meant to do this, you must specify 'dtype=object' when creating the ndarray\n",
      "  globals()['G{}_c{}_w_layer{}'.format(global_epoch, num_c_w, layer_index)] = globals()['G{}_c{}_w_layer{}'.format(global_epoch, num_c_w, layer_index)] + np.array(globals()['L{}_layer{}_w_c'.format(i,layer_index)])   # 일반 클러스터링\n"
     ]
    },
    {
     "name": "stdout",
     "output_type": "stream",
     "text": [
      "Layer :  7   클러스터 갯수 정해짐!  갯수 :  4 2\n",
      "\n",
      "\n",
      "====================================================== One Global Epoch =====================================================================\n",
      "\n",
      "\n",
      "25  번째 global_epoch 데이터 랜덤하게 준비!!\n"
     ]
    },
    {
     "name": "stderr",
     "output_type": "stream",
     "text": [
      "<ipython-input-8-91a1af1a5106>:147: VisibleDeprecationWarning: Creating an ndarray from ragged nested sequences (which is a list-or-tuple of lists-or-tuples-or ndarrays with different lengths or shapes) is deprecated. If you meant to do this, you must specify 'dtype=object' when creating the ndarray\n",
      "  globals()['G{}_c{}_w_layer{}'.format(global_epoch, num_c_w, layer_index)] = globals()['G{}_c{}_w_layer{}'.format(global_epoch, num_c_w, layer_index)] + np.array(globals()['L{}_layer{}_w_c'.format(i,layer_index)])   # 일반 클러스터링\n"
     ]
    },
    {
     "name": "stdout",
     "output_type": "stream",
     "text": [
      "25  번째 global_epoch 데이터 랜덤 준비완료!!\n",
      "\n",
      "\n",
      "25  번째 global epoch에서 로컬 클라이언트 들 학습시작!\n",
      "\n",
      "학습 중 ...\n",
      "\n",
      "16/16 - 0s - loss: 0.6721 - accuracy: 0.8820\n",
      "16/16 - 0s - loss: 0.5951 - accuracy: 0.8740\n",
      "16/16 - 0s - loss: 0.4788 - accuracy: 0.9080\n",
      "16/16 - 0s - loss: 0.7300 - accuracy: 0.8480\n",
      "16/16 - 0s - loss: 0.7932 - accuracy: 0.8540\n",
      "16/16 - 0s - loss: 0.4611 - accuracy: 0.8780\n",
      "16/16 - 0s - loss: 0.5822 - accuracy: 0.8580\n",
      "16/16 - 0s - loss: 0.6642 - accuracy: 0.8700\n",
      "16/16 - 0s - loss: 0.7960 - accuracy: 0.8580\n",
      "16/16 - 0s - loss: 0.6542 - accuracy: 0.8720\n",
      "16/16 - 0s - loss: 0.8566 - accuracy: 0.8260\n",
      "16/16 - 0s - loss: 0.7330 - accuracy: 0.8520\n",
      "16/16 - 0s - loss: 0.9124 - accuracy: 0.8340\n",
      "16/16 - 0s - loss: 0.7133 - accuracy: 0.8680\n",
      "16/16 - 0s - loss: 0.6753 - accuracy: 0.8480\n",
      "16/16 - 0s - loss: 0.6054 - accuracy: 0.8680\n",
      "16/16 - 0s - loss: 0.7724 - accuracy: 0.8380\n",
      "16/16 - 0s - loss: 0.6845 - accuracy: 0.8600\n",
      "16/16 - 0s - loss: 0.5305 - accuracy: 0.8960\n",
      "16/16 - 0s - loss: 0.6017 - accuracy: 0.8880\n",
      "------------    25  번째 global epoch < Clustering > 로컬 클라이언트 학습 완료!,  Total Training time :  706.7120380401611 ---------------------------\n",
      "\n",
      "\n",
      "Layer :  0   클러스터 갯수 정해짐!  갯수 :  2 0\n"
     ]
    },
    {
     "name": "stderr",
     "output_type": "stream",
     "text": [
      "<ipython-input-8-91a1af1a5106>:147: VisibleDeprecationWarning: Creating an ndarray from ragged nested sequences (which is a list-or-tuple of lists-or-tuples-or ndarrays with different lengths or shapes) is deprecated. If you meant to do this, you must specify 'dtype=object' when creating the ndarray\n",
      "  globals()['G{}_c{}_w_layer{}'.format(global_epoch, num_c_w, layer_index)] = globals()['G{}_c{}_w_layer{}'.format(global_epoch, num_c_w, layer_index)] + np.array(globals()['L{}_layer{}_w_c'.format(i,layer_index)])   # 일반 클러스터링\n"
     ]
    },
    {
     "name": "stdout",
     "output_type": "stream",
     "text": [
      "Layer :  2   클러스터 갯수 정해짐!  갯수 :  2 0\n"
     ]
    },
    {
     "name": "stderr",
     "output_type": "stream",
     "text": [
      "<ipython-input-8-91a1af1a5106>:147: VisibleDeprecationWarning: Creating an ndarray from ragged nested sequences (which is a list-or-tuple of lists-or-tuples-or ndarrays with different lengths or shapes) is deprecated. If you meant to do this, you must specify 'dtype=object' when creating the ndarray\n",
      "  globals()['G{}_c{}_w_layer{}'.format(global_epoch, num_c_w, layer_index)] = globals()['G{}_c{}_w_layer{}'.format(global_epoch, num_c_w, layer_index)] + np.array(globals()['L{}_layer{}_w_c'.format(i,layer_index)])   # 일반 클러스터링\n"
     ]
    },
    {
     "name": "stdout",
     "output_type": "stream",
     "text": [
      "Layer :  4   클러스터 갯수 정해짐!  갯수 :  2 0\n"
     ]
    },
    {
     "name": "stderr",
     "output_type": "stream",
     "text": [
      "<ipython-input-8-91a1af1a5106>:147: VisibleDeprecationWarning: Creating an ndarray from ragged nested sequences (which is a list-or-tuple of lists-or-tuples-or ndarrays with different lengths or shapes) is deprecated. If you meant to do this, you must specify 'dtype=object' when creating the ndarray\n",
      "  globals()['G{}_c{}_w_layer{}'.format(global_epoch, num_c_w, layer_index)] = globals()['G{}_c{}_w_layer{}'.format(global_epoch, num_c_w, layer_index)] + np.array(globals()['L{}_layer{}_w_c'.format(i,layer_index)])   # 일반 클러스터링\n"
     ]
    },
    {
     "name": "stdout",
     "output_type": "stream",
     "text": [
      "Layer :  6   클러스터 갯수 정해짐!  갯수 :  2 0\n"
     ]
    },
    {
     "name": "stderr",
     "output_type": "stream",
     "text": [
      "<ipython-input-8-91a1af1a5106>:147: VisibleDeprecationWarning: Creating an ndarray from ragged nested sequences (which is a list-or-tuple of lists-or-tuples-or ndarrays with different lengths or shapes) is deprecated. If you meant to do this, you must specify 'dtype=object' when creating the ndarray\n",
      "  globals()['G{}_c{}_w_layer{}'.format(global_epoch, num_c_w, layer_index)] = globals()['G{}_c{}_w_layer{}'.format(global_epoch, num_c_w, layer_index)] + np.array(globals()['L{}_layer{}_w_c'.format(i,layer_index)])   # 일반 클러스터링\n"
     ]
    },
    {
     "name": "stdout",
     "output_type": "stream",
     "text": [
      "Layer :  7   클러스터 갯수 정해짐!  갯수 :  4 2\n",
      "\n",
      "\n",
      "====================================================== One Global Epoch =====================================================================\n",
      "\n",
      "\n",
      "26  번째 global_epoch 데이터 랜덤하게 준비!!\n"
     ]
    },
    {
     "name": "stderr",
     "output_type": "stream",
     "text": [
      "<ipython-input-8-91a1af1a5106>:147: VisibleDeprecationWarning: Creating an ndarray from ragged nested sequences (which is a list-or-tuple of lists-or-tuples-or ndarrays with different lengths or shapes) is deprecated. If you meant to do this, you must specify 'dtype=object' when creating the ndarray\n",
      "  globals()['G{}_c{}_w_layer{}'.format(global_epoch, num_c_w, layer_index)] = globals()['G{}_c{}_w_layer{}'.format(global_epoch, num_c_w, layer_index)] + np.array(globals()['L{}_layer{}_w_c'.format(i,layer_index)])   # 일반 클러스터링\n"
     ]
    },
    {
     "name": "stdout",
     "output_type": "stream",
     "text": [
      "26  번째 global_epoch 데이터 랜덤 준비완료!!\n",
      "\n",
      "\n",
      "26  번째 global epoch에서 로컬 클라이언트 들 학습시작!\n",
      "\n",
      "학습 중 ...\n",
      "\n",
      "16/16 - 0s - loss: 0.7265 - accuracy: 0.8660\n",
      "16/16 - 0s - loss: 0.6656 - accuracy: 0.8840\n",
      "16/16 - 0s - loss: 0.6664 - accuracy: 0.8620\n",
      "16/16 - 0s - loss: 0.6393 - accuracy: 0.8500\n",
      "16/16 - 0s - loss: 0.6549 - accuracy: 0.8640\n",
      "16/16 - 0s - loss: 0.8212 - accuracy: 0.8620\n",
      "16/16 - 0s - loss: 0.5680 - accuracy: 0.8820\n",
      "16/16 - 0s - loss: 0.6766 - accuracy: 0.8800\n",
      "16/16 - 0s - loss: 0.7189 - accuracy: 0.8640\n",
      "16/16 - 0s - loss: 0.6362 - accuracy: 0.8740\n",
      "16/16 - 0s - loss: 0.9013 - accuracy: 0.8440\n",
      "16/16 - 0s - loss: 0.6956 - accuracy: 0.8680\n",
      "16/16 - 0s - loss: 0.6972 - accuracy: 0.8700\n",
      "16/16 - 0s - loss: 0.6476 - accuracy: 0.8500\n",
      "16/16 - 0s - loss: 0.7725 - accuracy: 0.8640\n",
      "16/16 - 0s - loss: 0.6934 - accuracy: 0.8640\n",
      "16/16 - 0s - loss: 0.6114 - accuracy: 0.8880\n",
      "16/16 - 0s - loss: 0.5893 - accuracy: 0.8720\n",
      "16/16 - 0s - loss: 0.5873 - accuracy: 0.8840\n",
      "16/16 - 0s - loss: 0.5613 - accuracy: 0.8620\n",
      "------------    26  번째 global epoch < Clustering > 로컬 클라이언트 학습 완료!,  Total Training time :  761.2476224899292 ---------------------------\n",
      "\n",
      "\n",
      "Layer :  0   클러스터 갯수 정해짐!  갯수 :  2 0\n"
     ]
    },
    {
     "name": "stderr",
     "output_type": "stream",
     "text": [
      "<ipython-input-8-91a1af1a5106>:147: VisibleDeprecationWarning: Creating an ndarray from ragged nested sequences (which is a list-or-tuple of lists-or-tuples-or ndarrays with different lengths or shapes) is deprecated. If you meant to do this, you must specify 'dtype=object' when creating the ndarray\n",
      "  globals()['G{}_c{}_w_layer{}'.format(global_epoch, num_c_w, layer_index)] = globals()['G{}_c{}_w_layer{}'.format(global_epoch, num_c_w, layer_index)] + np.array(globals()['L{}_layer{}_w_c'.format(i,layer_index)])   # 일반 클러스터링\n"
     ]
    },
    {
     "name": "stdout",
     "output_type": "stream",
     "text": [
      "Layer :  2   클러스터 갯수 정해짐!  갯수 :  2 0\n"
     ]
    },
    {
     "name": "stderr",
     "output_type": "stream",
     "text": [
      "<ipython-input-8-91a1af1a5106>:147: VisibleDeprecationWarning: Creating an ndarray from ragged nested sequences (which is a list-or-tuple of lists-or-tuples-or ndarrays with different lengths or shapes) is deprecated. If you meant to do this, you must specify 'dtype=object' when creating the ndarray\n",
      "  globals()['G{}_c{}_w_layer{}'.format(global_epoch, num_c_w, layer_index)] = globals()['G{}_c{}_w_layer{}'.format(global_epoch, num_c_w, layer_index)] + np.array(globals()['L{}_layer{}_w_c'.format(i,layer_index)])   # 일반 클러스터링\n"
     ]
    },
    {
     "name": "stdout",
     "output_type": "stream",
     "text": [
      "Layer :  4   클러스터 갯수 정해짐!  갯수 :  2 0\n"
     ]
    },
    {
     "name": "stderr",
     "output_type": "stream",
     "text": [
      "<ipython-input-8-91a1af1a5106>:147: VisibleDeprecationWarning: Creating an ndarray from ragged nested sequences (which is a list-or-tuple of lists-or-tuples-or ndarrays with different lengths or shapes) is deprecated. If you meant to do this, you must specify 'dtype=object' when creating the ndarray\n",
      "  globals()['G{}_c{}_w_layer{}'.format(global_epoch, num_c_w, layer_index)] = globals()['G{}_c{}_w_layer{}'.format(global_epoch, num_c_w, layer_index)] + np.array(globals()['L{}_layer{}_w_c'.format(i,layer_index)])   # 일반 클러스터링\n"
     ]
    },
    {
     "name": "stdout",
     "output_type": "stream",
     "text": [
      "Layer :  6   클러스터 갯수 정해짐!  갯수 :  2 0\n"
     ]
    },
    {
     "name": "stderr",
     "output_type": "stream",
     "text": [
      "<ipython-input-8-91a1af1a5106>:147: VisibleDeprecationWarning: Creating an ndarray from ragged nested sequences (which is a list-or-tuple of lists-or-tuples-or ndarrays with different lengths or shapes) is deprecated. If you meant to do this, you must specify 'dtype=object' when creating the ndarray\n",
      "  globals()['G{}_c{}_w_layer{}'.format(global_epoch, num_c_w, layer_index)] = globals()['G{}_c{}_w_layer{}'.format(global_epoch, num_c_w, layer_index)] + np.array(globals()['L{}_layer{}_w_c'.format(i,layer_index)])   # 일반 클러스터링\n"
     ]
    },
    {
     "name": "stdout",
     "output_type": "stream",
     "text": [
      "Layer :  7   클러스터 갯수 정해짐!  갯수 :  4 2\n",
      "\n",
      "\n",
      "====================================================== One Global Epoch =====================================================================\n",
      "\n",
      "\n",
      "27  번째 global_epoch 데이터 랜덤하게 준비!!\n"
     ]
    },
    {
     "name": "stderr",
     "output_type": "stream",
     "text": [
      "<ipython-input-8-91a1af1a5106>:147: VisibleDeprecationWarning: Creating an ndarray from ragged nested sequences (which is a list-or-tuple of lists-or-tuples-or ndarrays with different lengths or shapes) is deprecated. If you meant to do this, you must specify 'dtype=object' when creating the ndarray\n",
      "  globals()['G{}_c{}_w_layer{}'.format(global_epoch, num_c_w, layer_index)] = globals()['G{}_c{}_w_layer{}'.format(global_epoch, num_c_w, layer_index)] + np.array(globals()['L{}_layer{}_w_c'.format(i,layer_index)])   # 일반 클러스터링\n"
     ]
    },
    {
     "name": "stdout",
     "output_type": "stream",
     "text": [
      "27  번째 global_epoch 데이터 랜덤 준비완료!!\n",
      "\n",
      "\n",
      "27  번째 global epoch에서 로컬 클라이언트 들 학습시작!\n",
      "\n",
      "학습 중 ...\n",
      "\n",
      "16/16 - 0s - loss: 0.4677 - accuracy: 0.8900\n",
      "16/16 - 0s - loss: 0.6724 - accuracy: 0.8580\n",
      "16/16 - 0s - loss: 0.6039 - accuracy: 0.8840\n",
      "16/16 - 0s - loss: 0.5533 - accuracy: 0.8820\n",
      "16/16 - 0s - loss: 0.6063 - accuracy: 0.8980\n",
      "16/16 - 0s - loss: 0.6708 - accuracy: 0.8620\n",
      "16/16 - 0s - loss: 0.6199 - accuracy: 0.8760\n",
      "16/16 - 0s - loss: 0.6937 - accuracy: 0.8660\n",
      "16/16 - 0s - loss: 0.6959 - accuracy: 0.8560\n",
      "16/16 - 0s - loss: 0.5344 - accuracy: 0.8860\n",
      "16/16 - 0s - loss: 0.5904 - accuracy: 0.8800\n",
      "16/16 - 0s - loss: 0.5342 - accuracy: 0.8820\n",
      "16/16 - 0s - loss: 0.6807 - accuracy: 0.8660\n",
      "16/16 - 0s - loss: 0.6243 - accuracy: 0.8840\n",
      "16/16 - 0s - loss: 0.7445 - accuracy: 0.8560\n",
      "16/16 - 0s - loss: 0.6497 - accuracy: 0.8600\n",
      "16/16 - 0s - loss: 0.6682 - accuracy: 0.8620\n",
      "16/16 - 0s - loss: 0.7027 - accuracy: 0.8660\n",
      "16/16 - 0s - loss: 0.6669 - accuracy: 0.8600\n",
      "16/16 - 0s - loss: 0.5812 - accuracy: 0.8760\n",
      "------------    27  번째 global epoch < Clustering > 로컬 클라이언트 학습 완료!,  Total Training time :  768.3954560756683 ---------------------------\n",
      "\n",
      "\n",
      "Layer :  0   클러스터 갯수 정해짐!  갯수 :  2 0\n"
     ]
    },
    {
     "name": "stderr",
     "output_type": "stream",
     "text": [
      "<ipython-input-8-91a1af1a5106>:147: VisibleDeprecationWarning: Creating an ndarray from ragged nested sequences (which is a list-or-tuple of lists-or-tuples-or ndarrays with different lengths or shapes) is deprecated. If you meant to do this, you must specify 'dtype=object' when creating the ndarray\n",
      "  globals()['G{}_c{}_w_layer{}'.format(global_epoch, num_c_w, layer_index)] = globals()['G{}_c{}_w_layer{}'.format(global_epoch, num_c_w, layer_index)] + np.array(globals()['L{}_layer{}_w_c'.format(i,layer_index)])   # 일반 클러스터링\n"
     ]
    },
    {
     "name": "stdout",
     "output_type": "stream",
     "text": [
      "Layer :  2   클러스터 갯수 정해짐!  갯수 :  2 0\n"
     ]
    },
    {
     "name": "stderr",
     "output_type": "stream",
     "text": [
      "<ipython-input-8-91a1af1a5106>:147: VisibleDeprecationWarning: Creating an ndarray from ragged nested sequences (which is a list-or-tuple of lists-or-tuples-or ndarrays with different lengths or shapes) is deprecated. If you meant to do this, you must specify 'dtype=object' when creating the ndarray\n",
      "  globals()['G{}_c{}_w_layer{}'.format(global_epoch, num_c_w, layer_index)] = globals()['G{}_c{}_w_layer{}'.format(global_epoch, num_c_w, layer_index)] + np.array(globals()['L{}_layer{}_w_c'.format(i,layer_index)])   # 일반 클러스터링\n"
     ]
    },
    {
     "name": "stdout",
     "output_type": "stream",
     "text": [
      "Layer :  4   클러스터 갯수 정해짐!  갯수 :  2 0\n"
     ]
    },
    {
     "name": "stderr",
     "output_type": "stream",
     "text": [
      "<ipython-input-8-91a1af1a5106>:147: VisibleDeprecationWarning: Creating an ndarray from ragged nested sequences (which is a list-or-tuple of lists-or-tuples-or ndarrays with different lengths or shapes) is deprecated. If you meant to do this, you must specify 'dtype=object' when creating the ndarray\n",
      "  globals()['G{}_c{}_w_layer{}'.format(global_epoch, num_c_w, layer_index)] = globals()['G{}_c{}_w_layer{}'.format(global_epoch, num_c_w, layer_index)] + np.array(globals()['L{}_layer{}_w_c'.format(i,layer_index)])   # 일반 클러스터링\n"
     ]
    },
    {
     "name": "stdout",
     "output_type": "stream",
     "text": [
      "Layer :  6   클러스터 갯수 정해짐!  갯수 :  2 0\n"
     ]
    },
    {
     "name": "stderr",
     "output_type": "stream",
     "text": [
      "<ipython-input-8-91a1af1a5106>:147: VisibleDeprecationWarning: Creating an ndarray from ragged nested sequences (which is a list-or-tuple of lists-or-tuples-or ndarrays with different lengths or shapes) is deprecated. If you meant to do this, you must specify 'dtype=object' when creating the ndarray\n",
      "  globals()['G{}_c{}_w_layer{}'.format(global_epoch, num_c_w, layer_index)] = globals()['G{}_c{}_w_layer{}'.format(global_epoch, num_c_w, layer_index)] + np.array(globals()['L{}_layer{}_w_c'.format(i,layer_index)])   # 일반 클러스터링\n"
     ]
    },
    {
     "name": "stdout",
     "output_type": "stream",
     "text": [
      "Layer :  7   클러스터 갯수 정해짐!  갯수 :  4 2\n",
      "\n",
      "\n",
      "====================================================== One Global Epoch =====================================================================\n",
      "\n",
      "\n",
      "28  번째 global_epoch 데이터 랜덤하게 준비!!\n"
     ]
    },
    {
     "name": "stderr",
     "output_type": "stream",
     "text": [
      "<ipython-input-8-91a1af1a5106>:147: VisibleDeprecationWarning: Creating an ndarray from ragged nested sequences (which is a list-or-tuple of lists-or-tuples-or ndarrays with different lengths or shapes) is deprecated. If you meant to do this, you must specify 'dtype=object' when creating the ndarray\n",
      "  globals()['G{}_c{}_w_layer{}'.format(global_epoch, num_c_w, layer_index)] = globals()['G{}_c{}_w_layer{}'.format(global_epoch, num_c_w, layer_index)] + np.array(globals()['L{}_layer{}_w_c'.format(i,layer_index)])   # 일반 클러스터링\n"
     ]
    },
    {
     "name": "stdout",
     "output_type": "stream",
     "text": [
      "28  번째 global_epoch 데이터 랜덤 준비완료!!\n",
      "\n",
      "\n",
      "28  번째 global epoch에서 로컬 클라이언트 들 학습시작!\n",
      "\n",
      "학습 중 ...\n",
      "\n",
      "16/16 - 0s - loss: 0.4299 - accuracy: 0.9020\n",
      "16/16 - 0s - loss: 0.8091 - accuracy: 0.8400\n",
      "16/16 - 0s - loss: 0.4300 - accuracy: 0.9180\n",
      "16/16 - 0s - loss: 0.5387 - accuracy: 0.8980\n",
      "16/16 - 0s - loss: 0.6888 - accuracy: 0.8780\n",
      "16/16 - 0s - loss: 0.6008 - accuracy: 0.8800\n",
      "16/16 - 0s - loss: 0.7955 - accuracy: 0.8500\n",
      "16/16 - 0s - loss: 0.6341 - accuracy: 0.8920\n",
      "16/16 - 0s - loss: 0.7239 - accuracy: 0.8600\n",
      "16/16 - 0s - loss: 0.5770 - accuracy: 0.8760\n",
      "16/16 - 0s - loss: 0.6503 - accuracy: 0.8600\n",
      "16/16 - 0s - loss: 0.8773 - accuracy: 0.8660\n",
      "16/16 - 0s - loss: 0.6821 - accuracy: 0.8660\n",
      "16/16 - 0s - loss: 0.6651 - accuracy: 0.8720\n",
      "16/16 - 0s - loss: 0.8618 - accuracy: 0.8440\n",
      "16/16 - 0s - loss: 0.6895 - accuracy: 0.8380\n",
      "16/16 - 0s - loss: 0.6702 - accuracy: 0.8580\n",
      "16/16 - 0s - loss: 0.4751 - accuracy: 0.8640\n",
      "16/16 - 0s - loss: 0.6887 - accuracy: 0.8840\n",
      "16/16 - 0s - loss: 0.5721 - accuracy: 0.8700\n",
      "------------    28  번째 global epoch < Clustering > 로컬 클라이언트 학습 완료!,  Total Training time :  1000.6753206253052 ---------------------------\n",
      "\n",
      "\n",
      "Layer :  0   클러스터 갯수 정해짐!  갯수 :  2 0\n"
     ]
    },
    {
     "name": "stderr",
     "output_type": "stream",
     "text": [
      "<ipython-input-8-91a1af1a5106>:147: VisibleDeprecationWarning: Creating an ndarray from ragged nested sequences (which is a list-or-tuple of lists-or-tuples-or ndarrays with different lengths or shapes) is deprecated. If you meant to do this, you must specify 'dtype=object' when creating the ndarray\n",
      "  globals()['G{}_c{}_w_layer{}'.format(global_epoch, num_c_w, layer_index)] = globals()['G{}_c{}_w_layer{}'.format(global_epoch, num_c_w, layer_index)] + np.array(globals()['L{}_layer{}_w_c'.format(i,layer_index)])   # 일반 클러스터링\n"
     ]
    },
    {
     "name": "stdout",
     "output_type": "stream",
     "text": [
      "Layer :  2   클러스터 갯수 정해짐!  갯수 :  2 0\n"
     ]
    },
    {
     "name": "stderr",
     "output_type": "stream",
     "text": [
      "<ipython-input-8-91a1af1a5106>:147: VisibleDeprecationWarning: Creating an ndarray from ragged nested sequences (which is a list-or-tuple of lists-or-tuples-or ndarrays with different lengths or shapes) is deprecated. If you meant to do this, you must specify 'dtype=object' when creating the ndarray\n",
      "  globals()['G{}_c{}_w_layer{}'.format(global_epoch, num_c_w, layer_index)] = globals()['G{}_c{}_w_layer{}'.format(global_epoch, num_c_w, layer_index)] + np.array(globals()['L{}_layer{}_w_c'.format(i,layer_index)])   # 일반 클러스터링\n"
     ]
    },
    {
     "name": "stdout",
     "output_type": "stream",
     "text": [
      "Layer :  4   클러스터 갯수 정해짐!  갯수 :  2 0\n"
     ]
    },
    {
     "name": "stderr",
     "output_type": "stream",
     "text": [
      "<ipython-input-8-91a1af1a5106>:147: VisibleDeprecationWarning: Creating an ndarray from ragged nested sequences (which is a list-or-tuple of lists-or-tuples-or ndarrays with different lengths or shapes) is deprecated. If you meant to do this, you must specify 'dtype=object' when creating the ndarray\n",
      "  globals()['G{}_c{}_w_layer{}'.format(global_epoch, num_c_w, layer_index)] = globals()['G{}_c{}_w_layer{}'.format(global_epoch, num_c_w, layer_index)] + np.array(globals()['L{}_layer{}_w_c'.format(i,layer_index)])   # 일반 클러스터링\n"
     ]
    },
    {
     "name": "stdout",
     "output_type": "stream",
     "text": [
      "Layer :  6   클러스터 갯수 정해짐!  갯수 :  2 0\n"
     ]
    },
    {
     "name": "stderr",
     "output_type": "stream",
     "text": [
      "<ipython-input-8-91a1af1a5106>:147: VisibleDeprecationWarning: Creating an ndarray from ragged nested sequences (which is a list-or-tuple of lists-or-tuples-or ndarrays with different lengths or shapes) is deprecated. If you meant to do this, you must specify 'dtype=object' when creating the ndarray\n",
      "  globals()['G{}_c{}_w_layer{}'.format(global_epoch, num_c_w, layer_index)] = globals()['G{}_c{}_w_layer{}'.format(global_epoch, num_c_w, layer_index)] + np.array(globals()['L{}_layer{}_w_c'.format(i,layer_index)])   # 일반 클러스터링\n"
     ]
    },
    {
     "name": "stdout",
     "output_type": "stream",
     "text": [
      "Layer :  7   클러스터 갯수 정해짐!  갯수 :  4 2\n",
      "\n",
      "\n",
      "====================================================== One Global Epoch =====================================================================\n",
      "\n",
      "\n",
      "29  번째 global_epoch 데이터 랜덤하게 준비!!\n"
     ]
    },
    {
     "name": "stderr",
     "output_type": "stream",
     "text": [
      "<ipython-input-8-91a1af1a5106>:147: VisibleDeprecationWarning: Creating an ndarray from ragged nested sequences (which is a list-or-tuple of lists-or-tuples-or ndarrays with different lengths or shapes) is deprecated. If you meant to do this, you must specify 'dtype=object' when creating the ndarray\n",
      "  globals()['G{}_c{}_w_layer{}'.format(global_epoch, num_c_w, layer_index)] = globals()['G{}_c{}_w_layer{}'.format(global_epoch, num_c_w, layer_index)] + np.array(globals()['L{}_layer{}_w_c'.format(i,layer_index)])   # 일반 클러스터링\n"
     ]
    },
    {
     "name": "stdout",
     "output_type": "stream",
     "text": [
      "29  번째 global_epoch 데이터 랜덤 준비완료!!\n",
      "\n",
      "\n",
      "29  번째 global epoch에서 로컬 클라이언트 들 학습시작!\n",
      "\n",
      "학습 중 ...\n",
      "\n",
      "16/16 - 0s - loss: 0.6537 - accuracy: 0.8860\n",
      "16/16 - 0s - loss: 0.6669 - accuracy: 0.8660\n",
      "16/16 - 0s - loss: 0.6428 - accuracy: 0.8920\n",
      "16/16 - 0s - loss: 0.4934 - accuracy: 0.8980\n",
      "16/16 - 0s - loss: 0.5035 - accuracy: 0.8780\n",
      "16/16 - 0s - loss: 0.6829 - accuracy: 0.8680\n",
      "16/16 - 0s - loss: 0.5228 - accuracy: 0.8900\n",
      "16/16 - 0s - loss: 0.6958 - accuracy: 0.8740\n",
      "16/16 - 0s - loss: 0.6689 - accuracy: 0.8900\n",
      "16/16 - 0s - loss: 0.6619 - accuracy: 0.8580\n",
      "16/16 - 0s - loss: 0.4946 - accuracy: 0.9000\n",
      "16/16 - 0s - loss: 0.7720 - accuracy: 0.8540\n",
      "16/16 - 0s - loss: 0.7035 - accuracy: 0.8520\n",
      "16/16 - 0s - loss: 0.7027 - accuracy: 0.8700\n",
      "16/16 - 0s - loss: 0.6513 - accuracy: 0.8700\n",
      "16/16 - 0s - loss: 0.5278 - accuracy: 0.8680\n",
      "16/16 - 0s - loss: 0.6008 - accuracy: 0.8480\n",
      "16/16 - 0s - loss: 0.6728 - accuracy: 0.8540\n",
      "16/16 - 0s - loss: 0.7353 - accuracy: 0.8680\n",
      "16/16 - 0s - loss: 0.7234 - accuracy: 0.8660\n",
      "------------    29  번째 global epoch < Clustering > 로컬 클라이언트 학습 완료!,  Total Training time :  828.8000988960266 ---------------------------\n",
      "\n",
      "\n",
      "Layer :  0   클러스터 갯수 정해짐!  갯수 :  2 0\n"
     ]
    },
    {
     "name": "stderr",
     "output_type": "stream",
     "text": [
      "<ipython-input-8-91a1af1a5106>:147: VisibleDeprecationWarning: Creating an ndarray from ragged nested sequences (which is a list-or-tuple of lists-or-tuples-or ndarrays with different lengths or shapes) is deprecated. If you meant to do this, you must specify 'dtype=object' when creating the ndarray\n",
      "  globals()['G{}_c{}_w_layer{}'.format(global_epoch, num_c_w, layer_index)] = globals()['G{}_c{}_w_layer{}'.format(global_epoch, num_c_w, layer_index)] + np.array(globals()['L{}_layer{}_w_c'.format(i,layer_index)])   # 일반 클러스터링\n"
     ]
    },
    {
     "name": "stdout",
     "output_type": "stream",
     "text": [
      "Layer :  2   클러스터 갯수 정해짐!  갯수 :  2 0\n"
     ]
    },
    {
     "name": "stderr",
     "output_type": "stream",
     "text": [
      "<ipython-input-8-91a1af1a5106>:147: VisibleDeprecationWarning: Creating an ndarray from ragged nested sequences (which is a list-or-tuple of lists-or-tuples-or ndarrays with different lengths or shapes) is deprecated. If you meant to do this, you must specify 'dtype=object' when creating the ndarray\n",
      "  globals()['G{}_c{}_w_layer{}'.format(global_epoch, num_c_w, layer_index)] = globals()['G{}_c{}_w_layer{}'.format(global_epoch, num_c_w, layer_index)] + np.array(globals()['L{}_layer{}_w_c'.format(i,layer_index)])   # 일반 클러스터링\n"
     ]
    },
    {
     "name": "stdout",
     "output_type": "stream",
     "text": [
      "Layer :  4   클러스터 갯수 정해짐!  갯수 :  2 0\n"
     ]
    },
    {
     "name": "stderr",
     "output_type": "stream",
     "text": [
      "<ipython-input-8-91a1af1a5106>:147: VisibleDeprecationWarning: Creating an ndarray from ragged nested sequences (which is a list-or-tuple of lists-or-tuples-or ndarrays with different lengths or shapes) is deprecated. If you meant to do this, you must specify 'dtype=object' when creating the ndarray\n",
      "  globals()['G{}_c{}_w_layer{}'.format(global_epoch, num_c_w, layer_index)] = globals()['G{}_c{}_w_layer{}'.format(global_epoch, num_c_w, layer_index)] + np.array(globals()['L{}_layer{}_w_c'.format(i,layer_index)])   # 일반 클러스터링\n"
     ]
    },
    {
     "name": "stdout",
     "output_type": "stream",
     "text": [
      "Layer :  6   클러스터 갯수 정해짐!  갯수 :  2 0\n"
     ]
    },
    {
     "name": "stderr",
     "output_type": "stream",
     "text": [
      "<ipython-input-8-91a1af1a5106>:147: VisibleDeprecationWarning: Creating an ndarray from ragged nested sequences (which is a list-or-tuple of lists-or-tuples-or ndarrays with different lengths or shapes) is deprecated. If you meant to do this, you must specify 'dtype=object' when creating the ndarray\n",
      "  globals()['G{}_c{}_w_layer{}'.format(global_epoch, num_c_w, layer_index)] = globals()['G{}_c{}_w_layer{}'.format(global_epoch, num_c_w, layer_index)] + np.array(globals()['L{}_layer{}_w_c'.format(i,layer_index)])   # 일반 클러스터링\n"
     ]
    },
    {
     "name": "stdout",
     "output_type": "stream",
     "text": [
      "Layer :  7   클러스터 갯수 정해짐!  갯수 :  4 2\n",
      "\n",
      "\n",
      "====================================================== One Global Epoch =====================================================================\n",
      "\n",
      "\n",
      "30  번째 global_epoch 데이터 랜덤하게 준비!!\n"
     ]
    },
    {
     "name": "stderr",
     "output_type": "stream",
     "text": [
      "<ipython-input-8-91a1af1a5106>:147: VisibleDeprecationWarning: Creating an ndarray from ragged nested sequences (which is a list-or-tuple of lists-or-tuples-or ndarrays with different lengths or shapes) is deprecated. If you meant to do this, you must specify 'dtype=object' when creating the ndarray\n",
      "  globals()['G{}_c{}_w_layer{}'.format(global_epoch, num_c_w, layer_index)] = globals()['G{}_c{}_w_layer{}'.format(global_epoch, num_c_w, layer_index)] + np.array(globals()['L{}_layer{}_w_c'.format(i,layer_index)])   # 일반 클러스터링\n"
     ]
    },
    {
     "name": "stdout",
     "output_type": "stream",
     "text": [
      "30  번째 global_epoch 데이터 랜덤 준비완료!!\n",
      "\n",
      "\n",
      "30  번째 global epoch에서 로컬 클라이언트 들 학습시작!\n",
      "\n",
      "학습 중 ...\n",
      "\n",
      "16/16 - 0s - loss: 0.7732 - accuracy: 0.8640\n",
      "16/16 - 0s - loss: 0.7476 - accuracy: 0.8560\n",
      "16/16 - 0s - loss: 0.6276 - accuracy: 0.8720\n",
      "16/16 - 0s - loss: 0.5470 - accuracy: 0.8800\n",
      "16/16 - 0s - loss: 0.6057 - accuracy: 0.8720\n",
      "16/16 - 0s - loss: 0.6773 - accuracy: 0.8640\n",
      "16/16 - 0s - loss: 0.5833 - accuracy: 0.8680\n",
      "16/16 - 0s - loss: 0.7790 - accuracy: 0.8560\n",
      "16/16 - 0s - loss: 0.5639 - accuracy: 0.9000\n",
      "16/16 - 0s - loss: 0.7333 - accuracy: 0.8560\n",
      "16/16 - 0s - loss: 0.6832 - accuracy: 0.8860\n",
      "16/16 - 0s - loss: 0.6357 - accuracy: 0.8640\n",
      "16/16 - 0s - loss: 0.6121 - accuracy: 0.8780\n",
      "16/16 - 0s - loss: 0.6800 - accuracy: 0.8480\n",
      "16/16 - 0s - loss: 0.7336 - accuracy: 0.8580\n",
      "16/16 - 0s - loss: 0.7439 - accuracy: 0.8420\n",
      "16/16 - 0s - loss: 0.6006 - accuracy: 0.8820\n",
      "16/16 - 0s - loss: 0.6990 - accuracy: 0.8580\n",
      "16/16 - 0s - loss: 0.8450 - accuracy: 0.8600\n",
      "16/16 - 0s - loss: 0.5925 - accuracy: 0.8700\n",
      "------------    30  번째 global epoch < Clustering > 로컬 클라이언트 학습 완료!,  Total Training time :  866.5489118099213 ---------------------------\n",
      "\n",
      "\n",
      "Layer :  0   클러스터 갯수 정해짐!  갯수 :  2 0\n"
     ]
    },
    {
     "name": "stderr",
     "output_type": "stream",
     "text": [
      "<ipython-input-8-91a1af1a5106>:147: VisibleDeprecationWarning: Creating an ndarray from ragged nested sequences (which is a list-or-tuple of lists-or-tuples-or ndarrays with different lengths or shapes) is deprecated. If you meant to do this, you must specify 'dtype=object' when creating the ndarray\n",
      "  globals()['G{}_c{}_w_layer{}'.format(global_epoch, num_c_w, layer_index)] = globals()['G{}_c{}_w_layer{}'.format(global_epoch, num_c_w, layer_index)] + np.array(globals()['L{}_layer{}_w_c'.format(i,layer_index)])   # 일반 클러스터링\n"
     ]
    },
    {
     "name": "stdout",
     "output_type": "stream",
     "text": [
      "Layer :  2   클러스터 갯수 정해짐!  갯수 :  2 0\n"
     ]
    },
    {
     "name": "stderr",
     "output_type": "stream",
     "text": [
      "<ipython-input-8-91a1af1a5106>:147: VisibleDeprecationWarning: Creating an ndarray from ragged nested sequences (which is a list-or-tuple of lists-or-tuples-or ndarrays with different lengths or shapes) is deprecated. If you meant to do this, you must specify 'dtype=object' when creating the ndarray\n",
      "  globals()['G{}_c{}_w_layer{}'.format(global_epoch, num_c_w, layer_index)] = globals()['G{}_c{}_w_layer{}'.format(global_epoch, num_c_w, layer_index)] + np.array(globals()['L{}_layer{}_w_c'.format(i,layer_index)])   # 일반 클러스터링\n"
     ]
    },
    {
     "name": "stdout",
     "output_type": "stream",
     "text": [
      "Layer :  4   클러스터 갯수 정해짐!  갯수 :  2 0\n"
     ]
    },
    {
     "name": "stderr",
     "output_type": "stream",
     "text": [
      "<ipython-input-8-91a1af1a5106>:147: VisibleDeprecationWarning: Creating an ndarray from ragged nested sequences (which is a list-or-tuple of lists-or-tuples-or ndarrays with different lengths or shapes) is deprecated. If you meant to do this, you must specify 'dtype=object' when creating the ndarray\n",
      "  globals()['G{}_c{}_w_layer{}'.format(global_epoch, num_c_w, layer_index)] = globals()['G{}_c{}_w_layer{}'.format(global_epoch, num_c_w, layer_index)] + np.array(globals()['L{}_layer{}_w_c'.format(i,layer_index)])   # 일반 클러스터링\n"
     ]
    },
    {
     "name": "stdout",
     "output_type": "stream",
     "text": [
      "Layer :  6   클러스터 갯수 정해짐!  갯수 :  2 0\n"
     ]
    },
    {
     "name": "stderr",
     "output_type": "stream",
     "text": [
      "<ipython-input-8-91a1af1a5106>:147: VisibleDeprecationWarning: Creating an ndarray from ragged nested sequences (which is a list-or-tuple of lists-or-tuples-or ndarrays with different lengths or shapes) is deprecated. If you meant to do this, you must specify 'dtype=object' when creating the ndarray\n",
      "  globals()['G{}_c{}_w_layer{}'.format(global_epoch, num_c_w, layer_index)] = globals()['G{}_c{}_w_layer{}'.format(global_epoch, num_c_w, layer_index)] + np.array(globals()['L{}_layer{}_w_c'.format(i,layer_index)])   # 일반 클러스터링\n"
     ]
    },
    {
     "name": "stdout",
     "output_type": "stream",
     "text": [
      "Layer :  7   클러스터 갯수 정해짐!  갯수 :  4 2\n",
      "\n",
      "\n",
      "====================================================== One Global Epoch =====================================================================\n",
      "\n",
      "\n",
      "31  번째 global_epoch 데이터 랜덤하게 준비!!\n"
     ]
    },
    {
     "name": "stderr",
     "output_type": "stream",
     "text": [
      "<ipython-input-8-91a1af1a5106>:147: VisibleDeprecationWarning: Creating an ndarray from ragged nested sequences (which is a list-or-tuple of lists-or-tuples-or ndarrays with different lengths or shapes) is deprecated. If you meant to do this, you must specify 'dtype=object' when creating the ndarray\n",
      "  globals()['G{}_c{}_w_layer{}'.format(global_epoch, num_c_w, layer_index)] = globals()['G{}_c{}_w_layer{}'.format(global_epoch, num_c_w, layer_index)] + np.array(globals()['L{}_layer{}_w_c'.format(i,layer_index)])   # 일반 클러스터링\n"
     ]
    },
    {
     "name": "stdout",
     "output_type": "stream",
     "text": [
      "31  번째 global_epoch 데이터 랜덤 준비완료!!\n",
      "\n",
      "\n",
      "31  번째 global epoch에서 로컬 클라이언트 들 학습시작!\n",
      "\n",
      "학습 중 ...\n",
      "\n",
      "16/16 - 0s - loss: 0.8030 - accuracy: 0.8620\n",
      "16/16 - 0s - loss: 0.4685 - accuracy: 0.8800\n",
      "16/16 - 0s - loss: 0.6191 - accuracy: 0.8920\n",
      "16/16 - 0s - loss: 0.5720 - accuracy: 0.8780\n",
      "16/16 - 0s - loss: 0.6810 - accuracy: 0.8720\n",
      "16/16 - 0s - loss: 0.5909 - accuracy: 0.8860\n",
      "16/16 - 0s - loss: 0.7888 - accuracy: 0.8480\n",
      "16/16 - 0s - loss: 0.5843 - accuracy: 0.8920\n",
      "16/16 - 0s - loss: 0.5642 - accuracy: 0.8740\n",
      "16/16 - 0s - loss: 0.6486 - accuracy: 0.8620\n",
      "16/16 - 0s - loss: 0.7371 - accuracy: 0.8560\n",
      "16/16 - 0s - loss: 0.6522 - accuracy: 0.8680\n",
      "16/16 - 0s - loss: 0.7222 - accuracy: 0.8520\n",
      "16/16 - 0s - loss: 0.5417 - accuracy: 0.8660\n",
      "16/16 - 0s - loss: 0.5103 - accuracy: 0.8840\n",
      "16/16 - 0s - loss: 0.6140 - accuracy: 0.8620\n",
      "16/16 - 1s - loss: 0.5479 - accuracy: 0.8840\n",
      "16/16 - 0s - loss: 0.5880 - accuracy: 0.8900\n",
      "16/16 - 0s - loss: 0.7260 - accuracy: 0.8720\n",
      "16/16 - 0s - loss: 0.7367 - accuracy: 0.8660\n",
      "------------    31  번째 global epoch < Clustering > 로컬 클라이언트 학습 완료!,  Total Training time :  957.7717909812927 ---------------------------\n",
      "\n",
      "\n",
      "Layer :  0   클러스터 갯수 정해짐!  갯수 :  2 0\n"
     ]
    },
    {
     "name": "stderr",
     "output_type": "stream",
     "text": [
      "<ipython-input-8-91a1af1a5106>:147: VisibleDeprecationWarning: Creating an ndarray from ragged nested sequences (which is a list-or-tuple of lists-or-tuples-or ndarrays with different lengths or shapes) is deprecated. If you meant to do this, you must specify 'dtype=object' when creating the ndarray\n",
      "  globals()['G{}_c{}_w_layer{}'.format(global_epoch, num_c_w, layer_index)] = globals()['G{}_c{}_w_layer{}'.format(global_epoch, num_c_w, layer_index)] + np.array(globals()['L{}_layer{}_w_c'.format(i,layer_index)])   # 일반 클러스터링\n"
     ]
    },
    {
     "name": "stdout",
     "output_type": "stream",
     "text": [
      "Layer :  2   클러스터 갯수 정해짐!  갯수 :  2 0\n"
     ]
    },
    {
     "name": "stderr",
     "output_type": "stream",
     "text": [
      "<ipython-input-8-91a1af1a5106>:147: VisibleDeprecationWarning: Creating an ndarray from ragged nested sequences (which is a list-or-tuple of lists-or-tuples-or ndarrays with different lengths or shapes) is deprecated. If you meant to do this, you must specify 'dtype=object' when creating the ndarray\n",
      "  globals()['G{}_c{}_w_layer{}'.format(global_epoch, num_c_w, layer_index)] = globals()['G{}_c{}_w_layer{}'.format(global_epoch, num_c_w, layer_index)] + np.array(globals()['L{}_layer{}_w_c'.format(i,layer_index)])   # 일반 클러스터링\n"
     ]
    },
    {
     "name": "stdout",
     "output_type": "stream",
     "text": [
      "Layer :  4   클러스터 갯수 정해짐!  갯수 :  2 0\n"
     ]
    },
    {
     "name": "stderr",
     "output_type": "stream",
     "text": [
      "<ipython-input-8-91a1af1a5106>:147: VisibleDeprecationWarning: Creating an ndarray from ragged nested sequences (which is a list-or-tuple of lists-or-tuples-or ndarrays with different lengths or shapes) is deprecated. If you meant to do this, you must specify 'dtype=object' when creating the ndarray\n",
      "  globals()['G{}_c{}_w_layer{}'.format(global_epoch, num_c_w, layer_index)] = globals()['G{}_c{}_w_layer{}'.format(global_epoch, num_c_w, layer_index)] + np.array(globals()['L{}_layer{}_w_c'.format(i,layer_index)])   # 일반 클러스터링\n"
     ]
    },
    {
     "name": "stdout",
     "output_type": "stream",
     "text": [
      "Layer :  6   클러스터 갯수 정해짐!  갯수 :  2 0\n"
     ]
    },
    {
     "name": "stderr",
     "output_type": "stream",
     "text": [
      "<ipython-input-8-91a1af1a5106>:147: VisibleDeprecationWarning: Creating an ndarray from ragged nested sequences (which is a list-or-tuple of lists-or-tuples-or ndarrays with different lengths or shapes) is deprecated. If you meant to do this, you must specify 'dtype=object' when creating the ndarray\n",
      "  globals()['G{}_c{}_w_layer{}'.format(global_epoch, num_c_w, layer_index)] = globals()['G{}_c{}_w_layer{}'.format(global_epoch, num_c_w, layer_index)] + np.array(globals()['L{}_layer{}_w_c'.format(i,layer_index)])   # 일반 클러스터링\n"
     ]
    },
    {
     "name": "stdout",
     "output_type": "stream",
     "text": [
      "Layer :  7   클러스터 갯수 정해짐!  갯수 :  4 2\n",
      "\n",
      "\n",
      "====================================================== One Global Epoch =====================================================================\n",
      "\n",
      "\n",
      "32  번째 global_epoch 데이터 랜덤하게 준비!!\n"
     ]
    },
    {
     "name": "stderr",
     "output_type": "stream",
     "text": [
      "<ipython-input-8-91a1af1a5106>:147: VisibleDeprecationWarning: Creating an ndarray from ragged nested sequences (which is a list-or-tuple of lists-or-tuples-or ndarrays with different lengths or shapes) is deprecated. If you meant to do this, you must specify 'dtype=object' when creating the ndarray\n",
      "  globals()['G{}_c{}_w_layer{}'.format(global_epoch, num_c_w, layer_index)] = globals()['G{}_c{}_w_layer{}'.format(global_epoch, num_c_w, layer_index)] + np.array(globals()['L{}_layer{}_w_c'.format(i,layer_index)])   # 일반 클러스터링\n"
     ]
    },
    {
     "name": "stdout",
     "output_type": "stream",
     "text": [
      "32  번째 global_epoch 데이터 랜덤 준비완료!!\n",
      "\n",
      "\n",
      "32  번째 global epoch에서 로컬 클라이언트 들 학습시작!\n",
      "\n",
      "학습 중 ...\n",
      "\n",
      "16/16 - 0s - loss: 0.7007 - accuracy: 0.8580\n",
      "16/16 - 1s - loss: 0.8227 - accuracy: 0.8840\n",
      "16/16 - 0s - loss: 0.7239 - accuracy: 0.8640\n",
      "16/16 - 0s - loss: 0.6152 - accuracy: 0.8780\n",
      "16/16 - 0s - loss: 0.6541 - accuracy: 0.9040\n",
      "16/16 - 0s - loss: 0.6917 - accuracy: 0.8740\n",
      "16/16 - 1s - loss: 0.6566 - accuracy: 0.8840\n",
      "16/16 - 0s - loss: 0.7102 - accuracy: 0.8740\n",
      "16/16 - 1s - loss: 0.8743 - accuracy: 0.8440\n",
      "16/16 - 1s - loss: 0.6444 - accuracy: 0.8740\n",
      "16/16 - 0s - loss: 0.5924 - accuracy: 0.8840\n",
      "16/16 - 0s - loss: 0.7160 - accuracy: 0.8840\n",
      "16/16 - 0s - loss: 0.8072 - accuracy: 0.8520\n",
      "16/16 - 0s - loss: 0.8627 - accuracy: 0.8380\n",
      "16/16 - 0s - loss: 0.6054 - accuracy: 0.8780\n",
      "16/16 - 0s - loss: 0.6862 - accuracy: 0.8760\n",
      "16/16 - 1s - loss: 0.7307 - accuracy: 0.8480\n",
      "16/16 - 0s - loss: 0.5176 - accuracy: 0.8900\n",
      "16/16 - 0s - loss: 0.7941 - accuracy: 0.8440\n",
      "16/16 - 0s - loss: 0.8666 - accuracy: 0.8720\n",
      "------------    32  번째 global epoch < Clustering > 로컬 클라이언트 학습 완료!,  Total Training time :  1006.2248733043671 ---------------------------\n",
      "\n",
      "\n",
      "Layer :  0   클러스터 갯수 정해짐!  갯수 :  2 0\n"
     ]
    },
    {
     "name": "stderr",
     "output_type": "stream",
     "text": [
      "<ipython-input-8-91a1af1a5106>:147: VisibleDeprecationWarning: Creating an ndarray from ragged nested sequences (which is a list-or-tuple of lists-or-tuples-or ndarrays with different lengths or shapes) is deprecated. If you meant to do this, you must specify 'dtype=object' when creating the ndarray\n",
      "  globals()['G{}_c{}_w_layer{}'.format(global_epoch, num_c_w, layer_index)] = globals()['G{}_c{}_w_layer{}'.format(global_epoch, num_c_w, layer_index)] + np.array(globals()['L{}_layer{}_w_c'.format(i,layer_index)])   # 일반 클러스터링\n"
     ]
    },
    {
     "name": "stdout",
     "output_type": "stream",
     "text": [
      "Layer :  2   클러스터 갯수 정해짐!  갯수 :  2 0\n"
     ]
    },
    {
     "name": "stderr",
     "output_type": "stream",
     "text": [
      "<ipython-input-8-91a1af1a5106>:147: VisibleDeprecationWarning: Creating an ndarray from ragged nested sequences (which is a list-or-tuple of lists-or-tuples-or ndarrays with different lengths or shapes) is deprecated. If you meant to do this, you must specify 'dtype=object' when creating the ndarray\n",
      "  globals()['G{}_c{}_w_layer{}'.format(global_epoch, num_c_w, layer_index)] = globals()['G{}_c{}_w_layer{}'.format(global_epoch, num_c_w, layer_index)] + np.array(globals()['L{}_layer{}_w_c'.format(i,layer_index)])   # 일반 클러스터링\n"
     ]
    },
    {
     "name": "stdout",
     "output_type": "stream",
     "text": [
      "Layer :  4   클러스터 갯수 정해짐!  갯수 :  2 0\n"
     ]
    },
    {
     "name": "stderr",
     "output_type": "stream",
     "text": [
      "<ipython-input-8-91a1af1a5106>:147: VisibleDeprecationWarning: Creating an ndarray from ragged nested sequences (which is a list-or-tuple of lists-or-tuples-or ndarrays with different lengths or shapes) is deprecated. If you meant to do this, you must specify 'dtype=object' when creating the ndarray\n",
      "  globals()['G{}_c{}_w_layer{}'.format(global_epoch, num_c_w, layer_index)] = globals()['G{}_c{}_w_layer{}'.format(global_epoch, num_c_w, layer_index)] + np.array(globals()['L{}_layer{}_w_c'.format(i,layer_index)])   # 일반 클러스터링\n"
     ]
    },
    {
     "name": "stdout",
     "output_type": "stream",
     "text": [
      "Layer :  6   클러스터 갯수 정해짐!  갯수 :  2 0\n"
     ]
    },
    {
     "name": "stderr",
     "output_type": "stream",
     "text": [
      "<ipython-input-8-91a1af1a5106>:147: VisibleDeprecationWarning: Creating an ndarray from ragged nested sequences (which is a list-or-tuple of lists-or-tuples-or ndarrays with different lengths or shapes) is deprecated. If you meant to do this, you must specify 'dtype=object' when creating the ndarray\n",
      "  globals()['G{}_c{}_w_layer{}'.format(global_epoch, num_c_w, layer_index)] = globals()['G{}_c{}_w_layer{}'.format(global_epoch, num_c_w, layer_index)] + np.array(globals()['L{}_layer{}_w_c'.format(i,layer_index)])   # 일반 클러스터링\n"
     ]
    },
    {
     "name": "stdout",
     "output_type": "stream",
     "text": [
      "Layer :  7   클러스터 갯수 정해짐!  갯수 :  4 2\n",
      "\n",
      "\n",
      "====================================================== One Global Epoch =====================================================================\n",
      "\n",
      "\n",
      "33  번째 global_epoch 데이터 랜덤하게 준비!!\n"
     ]
    },
    {
     "name": "stderr",
     "output_type": "stream",
     "text": [
      "<ipython-input-8-91a1af1a5106>:147: VisibleDeprecationWarning: Creating an ndarray from ragged nested sequences (which is a list-or-tuple of lists-or-tuples-or ndarrays with different lengths or shapes) is deprecated. If you meant to do this, you must specify 'dtype=object' when creating the ndarray\n",
      "  globals()['G{}_c{}_w_layer{}'.format(global_epoch, num_c_w, layer_index)] = globals()['G{}_c{}_w_layer{}'.format(global_epoch, num_c_w, layer_index)] + np.array(globals()['L{}_layer{}_w_c'.format(i,layer_index)])   # 일반 클러스터링\n"
     ]
    },
    {
     "name": "stdout",
     "output_type": "stream",
     "text": [
      "33  번째 global_epoch 데이터 랜덤 준비완료!!\n",
      "\n",
      "\n",
      "33  번째 global epoch에서 로컬 클라이언트 들 학습시작!\n",
      "\n",
      "학습 중 ...\n",
      "\n",
      "16/16 - 0s - loss: 0.5926 - accuracy: 0.8780\n",
      "16/16 - 0s - loss: 0.5741 - accuracy: 0.9000\n",
      "16/16 - 0s - loss: 0.6756 - accuracy: 0.8720\n",
      "16/16 - 0s - loss: 0.6421 - accuracy: 0.8700\n",
      "16/16 - 0s - loss: 0.3708 - accuracy: 0.9180\n",
      "16/16 - 0s - loss: 0.5902 - accuracy: 0.8780\n",
      "16/16 - 0s - loss: 0.6042 - accuracy: 0.8640\n",
      "16/16 - 0s - loss: 0.5999 - accuracy: 0.8820\n",
      "16/16 - 0s - loss: 0.5923 - accuracy: 0.8860\n",
      "16/16 - 0s - loss: 0.6220 - accuracy: 0.8820\n",
      "16/16 - 0s - loss: 0.7251 - accuracy: 0.8800\n",
      "16/16 - 0s - loss: 0.5949 - accuracy: 0.8940\n",
      "16/16 - 0s - loss: 0.5445 - accuracy: 0.8760\n",
      "16/16 - 0s - loss: 0.6350 - accuracy: 0.8660\n",
      "16/16 - 0s - loss: 0.5609 - accuracy: 0.8600\n",
      "16/16 - 0s - loss: 0.6523 - accuracy: 0.8740\n",
      "16/16 - 0s - loss: 0.7915 - accuracy: 0.8680\n",
      "16/16 - 0s - loss: 0.6118 - accuracy: 0.8660\n",
      "16/16 - 0s - loss: 0.7136 - accuracy: 0.8600\n",
      "16/16 - 0s - loss: 0.8417 - accuracy: 0.8560\n",
      "------------    33  번째 global epoch < Clustering > 로컬 클라이언트 학습 완료!,  Total Training time :  1453.9946069717407 ---------------------------\n",
      "\n",
      "\n",
      "Layer :  0   클러스터 갯수 정해짐!  갯수 :  2 0\n"
     ]
    },
    {
     "name": "stderr",
     "output_type": "stream",
     "text": [
      "<ipython-input-8-91a1af1a5106>:147: VisibleDeprecationWarning: Creating an ndarray from ragged nested sequences (which is a list-or-tuple of lists-or-tuples-or ndarrays with different lengths or shapes) is deprecated. If you meant to do this, you must specify 'dtype=object' when creating the ndarray\n",
      "  globals()['G{}_c{}_w_layer{}'.format(global_epoch, num_c_w, layer_index)] = globals()['G{}_c{}_w_layer{}'.format(global_epoch, num_c_w, layer_index)] + np.array(globals()['L{}_layer{}_w_c'.format(i,layer_index)])   # 일반 클러스터링\n"
     ]
    },
    {
     "name": "stdout",
     "output_type": "stream",
     "text": [
      "Layer :  2   클러스터 갯수 정해짐!  갯수 :  2 0\n"
     ]
    },
    {
     "name": "stderr",
     "output_type": "stream",
     "text": [
      "<ipython-input-8-91a1af1a5106>:147: VisibleDeprecationWarning: Creating an ndarray from ragged nested sequences (which is a list-or-tuple of lists-or-tuples-or ndarrays with different lengths or shapes) is deprecated. If you meant to do this, you must specify 'dtype=object' when creating the ndarray\n",
      "  globals()['G{}_c{}_w_layer{}'.format(global_epoch, num_c_w, layer_index)] = globals()['G{}_c{}_w_layer{}'.format(global_epoch, num_c_w, layer_index)] + np.array(globals()['L{}_layer{}_w_c'.format(i,layer_index)])   # 일반 클러스터링\n"
     ]
    },
    {
     "name": "stdout",
     "output_type": "stream",
     "text": [
      "Layer :  4   클러스터 갯수 정해짐!  갯수 :  3 1\n"
     ]
    },
    {
     "name": "stderr",
     "output_type": "stream",
     "text": [
      "<ipython-input-8-91a1af1a5106>:147: VisibleDeprecationWarning: Creating an ndarray from ragged nested sequences (which is a list-or-tuple of lists-or-tuples-or ndarrays with different lengths or shapes) is deprecated. If you meant to do this, you must specify 'dtype=object' when creating the ndarray\n",
      "  globals()['G{}_c{}_w_layer{}'.format(global_epoch, num_c_w, layer_index)] = globals()['G{}_c{}_w_layer{}'.format(global_epoch, num_c_w, layer_index)] + np.array(globals()['L{}_layer{}_w_c'.format(i,layer_index)])   # 일반 클러스터링\n"
     ]
    },
    {
     "name": "stdout",
     "output_type": "stream",
     "text": [
      "Layer :  6   클러스터 갯수 정해짐!  갯수 :  2 0\n"
     ]
    },
    {
     "name": "stderr",
     "output_type": "stream",
     "text": [
      "<ipython-input-8-91a1af1a5106>:147: VisibleDeprecationWarning: Creating an ndarray from ragged nested sequences (which is a list-or-tuple of lists-or-tuples-or ndarrays with different lengths or shapes) is deprecated. If you meant to do this, you must specify 'dtype=object' when creating the ndarray\n",
      "  globals()['G{}_c{}_w_layer{}'.format(global_epoch, num_c_w, layer_index)] = globals()['G{}_c{}_w_layer{}'.format(global_epoch, num_c_w, layer_index)] + np.array(globals()['L{}_layer{}_w_c'.format(i,layer_index)])   # 일반 클러스터링\n"
     ]
    },
    {
     "name": "stdout",
     "output_type": "stream",
     "text": [
      "Layer :  7   클러스터 갯수 정해짐!  갯수 :  4 2\n",
      "\n",
      "\n",
      "====================================================== One Global Epoch =====================================================================\n",
      "\n",
      "\n",
      "34  번째 global_epoch 데이터 랜덤하게 준비!!\n"
     ]
    },
    {
     "name": "stderr",
     "output_type": "stream",
     "text": [
      "<ipython-input-8-91a1af1a5106>:147: VisibleDeprecationWarning: Creating an ndarray from ragged nested sequences (which is a list-or-tuple of lists-or-tuples-or ndarrays with different lengths or shapes) is deprecated. If you meant to do this, you must specify 'dtype=object' when creating the ndarray\n",
      "  globals()['G{}_c{}_w_layer{}'.format(global_epoch, num_c_w, layer_index)] = globals()['G{}_c{}_w_layer{}'.format(global_epoch, num_c_w, layer_index)] + np.array(globals()['L{}_layer{}_w_c'.format(i,layer_index)])   # 일반 클러스터링\n"
     ]
    },
    {
     "name": "stdout",
     "output_type": "stream",
     "text": [
      "34  번째 global_epoch 데이터 랜덤 준비완료!!\n",
      "\n",
      "\n",
      "34  번째 global epoch에서 로컬 클라이언트 들 학습시작!\n",
      "\n",
      "학습 중 ...\n",
      "\n",
      "16/16 - 0s - loss: 0.5716 - accuracy: 0.8820\n",
      "16/16 - 0s - loss: 0.4701 - accuracy: 0.8860\n",
      "16/16 - 0s - loss: 0.5399 - accuracy: 0.8840\n",
      "16/16 - 0s - loss: 0.6542 - accuracy: 0.8580\n",
      "16/16 - 0s - loss: 0.5909 - accuracy: 0.8740\n",
      "16/16 - 0s - loss: 0.6450 - accuracy: 0.8740\n",
      "16/16 - 0s - loss: 0.6426 - accuracy: 0.8780\n",
      "16/16 - 0s - loss: 0.8811 - accuracy: 0.8520\n",
      "16/16 - 0s - loss: 0.6249 - accuracy: 0.8720\n",
      "16/16 - 0s - loss: 0.7878 - accuracy: 0.8780\n",
      "16/16 - 1s - loss: 0.5564 - accuracy: 0.8820\n",
      "16/16 - 0s - loss: 0.6882 - accuracy: 0.8660\n",
      "16/16 - 0s - loss: 0.7113 - accuracy: 0.8620\n",
      "16/16 - 0s - loss: 0.7683 - accuracy: 0.8600\n",
      "16/16 - 0s - loss: 0.7792 - accuracy: 0.8680\n",
      "16/16 - 0s - loss: 0.5959 - accuracy: 0.8800\n",
      "16/16 - 0s - loss: 0.6826 - accuracy: 0.8860\n",
      "16/16 - 0s - loss: 0.9176 - accuracy: 0.8280\n",
      "16/16 - 0s - loss: 0.5815 - accuracy: 0.8860\n",
      "16/16 - 0s - loss: 0.6419 - accuracy: 0.8580\n",
      "------------    34  번째 global epoch < Clustering > 로컬 클라이언트 학습 완료!,  Total Training time :  1055.6275191307068 ---------------------------\n",
      "\n",
      "\n",
      "Layer :  0   클러스터 갯수 정해짐!  갯수 :  2 0\n"
     ]
    },
    {
     "name": "stderr",
     "output_type": "stream",
     "text": [
      "<ipython-input-8-91a1af1a5106>:147: VisibleDeprecationWarning: Creating an ndarray from ragged nested sequences (which is a list-or-tuple of lists-or-tuples-or ndarrays with different lengths or shapes) is deprecated. If you meant to do this, you must specify 'dtype=object' when creating the ndarray\n",
      "  globals()['G{}_c{}_w_layer{}'.format(global_epoch, num_c_w, layer_index)] = globals()['G{}_c{}_w_layer{}'.format(global_epoch, num_c_w, layer_index)] + np.array(globals()['L{}_layer{}_w_c'.format(i,layer_index)])   # 일반 클러스터링\n"
     ]
    },
    {
     "name": "stdout",
     "output_type": "stream",
     "text": [
      "Layer :  2   클러스터 갯수 정해짐!  갯수 :  2 0\n"
     ]
    },
    {
     "name": "stderr",
     "output_type": "stream",
     "text": [
      "<ipython-input-8-91a1af1a5106>:147: VisibleDeprecationWarning: Creating an ndarray from ragged nested sequences (which is a list-or-tuple of lists-or-tuples-or ndarrays with different lengths or shapes) is deprecated. If you meant to do this, you must specify 'dtype=object' when creating the ndarray\n",
      "  globals()['G{}_c{}_w_layer{}'.format(global_epoch, num_c_w, layer_index)] = globals()['G{}_c{}_w_layer{}'.format(global_epoch, num_c_w, layer_index)] + np.array(globals()['L{}_layer{}_w_c'.format(i,layer_index)])   # 일반 클러스터링\n"
     ]
    },
    {
     "name": "stdout",
     "output_type": "stream",
     "text": [
      "Layer :  4   클러스터 갯수 정해짐!  갯수 :  2 0\n"
     ]
    },
    {
     "name": "stderr",
     "output_type": "stream",
     "text": [
      "<ipython-input-8-91a1af1a5106>:147: VisibleDeprecationWarning: Creating an ndarray from ragged nested sequences (which is a list-or-tuple of lists-or-tuples-or ndarrays with different lengths or shapes) is deprecated. If you meant to do this, you must specify 'dtype=object' when creating the ndarray\n",
      "  globals()['G{}_c{}_w_layer{}'.format(global_epoch, num_c_w, layer_index)] = globals()['G{}_c{}_w_layer{}'.format(global_epoch, num_c_w, layer_index)] + np.array(globals()['L{}_layer{}_w_c'.format(i,layer_index)])   # 일반 클러스터링\n"
     ]
    },
    {
     "name": "stdout",
     "output_type": "stream",
     "text": [
      "Layer :  6   클러스터 갯수 정해짐!  갯수 :  2 0\n"
     ]
    },
    {
     "name": "stderr",
     "output_type": "stream",
     "text": [
      "<ipython-input-8-91a1af1a5106>:147: VisibleDeprecationWarning: Creating an ndarray from ragged nested sequences (which is a list-or-tuple of lists-or-tuples-or ndarrays with different lengths or shapes) is deprecated. If you meant to do this, you must specify 'dtype=object' when creating the ndarray\n",
      "  globals()['G{}_c{}_w_layer{}'.format(global_epoch, num_c_w, layer_index)] = globals()['G{}_c{}_w_layer{}'.format(global_epoch, num_c_w, layer_index)] + np.array(globals()['L{}_layer{}_w_c'.format(i,layer_index)])   # 일반 클러스터링\n"
     ]
    },
    {
     "name": "stdout",
     "output_type": "stream",
     "text": [
      "Layer :  7   클러스터 갯수 정해짐!  갯수 :  4 2\n",
      "\n",
      "\n",
      "====================================================== One Global Epoch =====================================================================\n",
      "\n",
      "\n",
      "35  번째 global_epoch 데이터 랜덤하게 준비!!\n"
     ]
    },
    {
     "name": "stderr",
     "output_type": "stream",
     "text": [
      "<ipython-input-8-91a1af1a5106>:147: VisibleDeprecationWarning: Creating an ndarray from ragged nested sequences (which is a list-or-tuple of lists-or-tuples-or ndarrays with different lengths or shapes) is deprecated. If you meant to do this, you must specify 'dtype=object' when creating the ndarray\n",
      "  globals()['G{}_c{}_w_layer{}'.format(global_epoch, num_c_w, layer_index)] = globals()['G{}_c{}_w_layer{}'.format(global_epoch, num_c_w, layer_index)] + np.array(globals()['L{}_layer{}_w_c'.format(i,layer_index)])   # 일반 클러스터링\n"
     ]
    },
    {
     "name": "stdout",
     "output_type": "stream",
     "text": [
      "35  번째 global_epoch 데이터 랜덤 준비완료!!\n",
      "\n",
      "\n",
      "35  번째 global epoch에서 로컬 클라이언트 들 학습시작!\n",
      "\n",
      "학습 중 ...\n",
      "\n",
      "16/16 - 1s - loss: 0.6875 - accuracy: 0.8680\n",
      "16/16 - 0s - loss: 0.5047 - accuracy: 0.8900\n",
      "16/16 - 0s - loss: 0.5547 - accuracy: 0.8860\n",
      "16/16 - 0s - loss: 0.6052 - accuracy: 0.8600\n",
      "16/16 - 0s - loss: 0.6355 - accuracy: 0.8660\n",
      "16/16 - 0s - loss: 0.6685 - accuracy: 0.8560\n",
      "16/16 - 0s - loss: 0.5350 - accuracy: 0.8900\n",
      "16/16 - 0s - loss: 0.5783 - accuracy: 0.8840\n",
      "16/16 - 0s - loss: 0.7191 - accuracy: 0.8640\n",
      "16/16 - 0s - loss: 0.7609 - accuracy: 0.8420\n",
      "16/16 - 0s - loss: 0.5864 - accuracy: 0.8640\n",
      "16/16 - 0s - loss: 0.6660 - accuracy: 0.8980\n",
      "16/16 - 0s - loss: 0.8712 - accuracy: 0.8420\n",
      "16/16 - 0s - loss: 0.7074 - accuracy: 0.8660\n",
      "16/16 - 0s - loss: 0.6410 - accuracy: 0.8660\n",
      "16/16 - 0s - loss: 0.6826 - accuracy: 0.8580\n",
      "16/16 - 0s - loss: 0.7145 - accuracy: 0.8480\n",
      "16/16 - 0s - loss: 0.5964 - accuracy: 0.8800\n",
      "16/16 - 0s - loss: 0.8514 - accuracy: 0.8540\n",
      "16/16 - 0s - loss: 0.6312 - accuracy: 0.8620\n",
      "------------    35  번째 global epoch < Clustering > 로컬 클라이언트 학습 완료!,  Total Training time :  1108.057181596756 ---------------------------\n",
      "\n",
      "\n",
      "Layer :  0   클러스터 갯수 정해짐!  갯수 :  2 0\n"
     ]
    },
    {
     "name": "stderr",
     "output_type": "stream",
     "text": [
      "<ipython-input-8-91a1af1a5106>:147: VisibleDeprecationWarning: Creating an ndarray from ragged nested sequences (which is a list-or-tuple of lists-or-tuples-or ndarrays with different lengths or shapes) is deprecated. If you meant to do this, you must specify 'dtype=object' when creating the ndarray\n",
      "  globals()['G{}_c{}_w_layer{}'.format(global_epoch, num_c_w, layer_index)] = globals()['G{}_c{}_w_layer{}'.format(global_epoch, num_c_w, layer_index)] + np.array(globals()['L{}_layer{}_w_c'.format(i,layer_index)])   # 일반 클러스터링\n"
     ]
    },
    {
     "name": "stdout",
     "output_type": "stream",
     "text": [
      "Layer :  2   클러스터 갯수 정해짐!  갯수 :  2 0\n"
     ]
    },
    {
     "name": "stderr",
     "output_type": "stream",
     "text": [
      "<ipython-input-8-91a1af1a5106>:147: VisibleDeprecationWarning: Creating an ndarray from ragged nested sequences (which is a list-or-tuple of lists-or-tuples-or ndarrays with different lengths or shapes) is deprecated. If you meant to do this, you must specify 'dtype=object' when creating the ndarray\n",
      "  globals()['G{}_c{}_w_layer{}'.format(global_epoch, num_c_w, layer_index)] = globals()['G{}_c{}_w_layer{}'.format(global_epoch, num_c_w, layer_index)] + np.array(globals()['L{}_layer{}_w_c'.format(i,layer_index)])   # 일반 클러스터링\n"
     ]
    },
    {
     "name": "stdout",
     "output_type": "stream",
     "text": [
      "Layer :  4   클러스터 갯수 정해짐!  갯수 :  2 0\n"
     ]
    },
    {
     "name": "stderr",
     "output_type": "stream",
     "text": [
      "<ipython-input-8-91a1af1a5106>:147: VisibleDeprecationWarning: Creating an ndarray from ragged nested sequences (which is a list-or-tuple of lists-or-tuples-or ndarrays with different lengths or shapes) is deprecated. If you meant to do this, you must specify 'dtype=object' when creating the ndarray\n",
      "  globals()['G{}_c{}_w_layer{}'.format(global_epoch, num_c_w, layer_index)] = globals()['G{}_c{}_w_layer{}'.format(global_epoch, num_c_w, layer_index)] + np.array(globals()['L{}_layer{}_w_c'.format(i,layer_index)])   # 일반 클러스터링\n"
     ]
    },
    {
     "name": "stdout",
     "output_type": "stream",
     "text": [
      "Layer :  6   클러스터 갯수 정해짐!  갯수 :  2 0\n"
     ]
    },
    {
     "name": "stderr",
     "output_type": "stream",
     "text": [
      "<ipython-input-8-91a1af1a5106>:147: VisibleDeprecationWarning: Creating an ndarray from ragged nested sequences (which is a list-or-tuple of lists-or-tuples-or ndarrays with different lengths or shapes) is deprecated. If you meant to do this, you must specify 'dtype=object' when creating the ndarray\n",
      "  globals()['G{}_c{}_w_layer{}'.format(global_epoch, num_c_w, layer_index)] = globals()['G{}_c{}_w_layer{}'.format(global_epoch, num_c_w, layer_index)] + np.array(globals()['L{}_layer{}_w_c'.format(i,layer_index)])   # 일반 클러스터링\n"
     ]
    },
    {
     "name": "stdout",
     "output_type": "stream",
     "text": [
      "Layer :  7   클러스터 갯수 정해짐!  갯수 :  4 2\n",
      "\n",
      "\n",
      "====================================================== One Global Epoch =====================================================================\n",
      "\n",
      "\n",
      "36  번째 global_epoch 데이터 랜덤하게 준비!!\n"
     ]
    },
    {
     "name": "stderr",
     "output_type": "stream",
     "text": [
      "<ipython-input-8-91a1af1a5106>:147: VisibleDeprecationWarning: Creating an ndarray from ragged nested sequences (which is a list-or-tuple of lists-or-tuples-or ndarrays with different lengths or shapes) is deprecated. If you meant to do this, you must specify 'dtype=object' when creating the ndarray\n",
      "  globals()['G{}_c{}_w_layer{}'.format(global_epoch, num_c_w, layer_index)] = globals()['G{}_c{}_w_layer{}'.format(global_epoch, num_c_w, layer_index)] + np.array(globals()['L{}_layer{}_w_c'.format(i,layer_index)])   # 일반 클러스터링\n"
     ]
    },
    {
     "name": "stdout",
     "output_type": "stream",
     "text": [
      "36  번째 global_epoch 데이터 랜덤 준비완료!!\n",
      "\n",
      "\n",
      "36  번째 global epoch에서 로컬 클라이언트 들 학습시작!\n",
      "\n",
      "학습 중 ...\n",
      "\n",
      "16/16 - 0s - loss: 0.7288 - accuracy: 0.8700\n",
      "16/16 - 0s - loss: 0.8731 - accuracy: 0.8540\n",
      "16/16 - 0s - loss: 0.6423 - accuracy: 0.8720\n",
      "16/16 - 0s - loss: 0.6297 - accuracy: 0.8800\n",
      "16/16 - 0s - loss: 0.5881 - accuracy: 0.8640\n",
      "16/16 - 0s - loss: 0.7173 - accuracy: 0.8660\n",
      "16/16 - 0s - loss: 0.6778 - accuracy: 0.8940\n",
      "16/16 - 0s - loss: 0.4345 - accuracy: 0.8900\n",
      "16/16 - 0s - loss: 0.7684 - accuracy: 0.8540\n",
      "16/16 - 0s - loss: 0.5761 - accuracy: 0.8740\n",
      "16/16 - 0s - loss: 0.4349 - accuracy: 0.8980\n",
      "16/16 - 0s - loss: 0.5804 - accuracy: 0.8520\n",
      "16/16 - 0s - loss: 0.5399 - accuracy: 0.8760\n",
      "16/16 - 0s - loss: 0.7695 - accuracy: 0.8460\n",
      "16/16 - 0s - loss: 0.8264 - accuracy: 0.8480\n",
      "16/16 - 1s - loss: 0.6447 - accuracy: 0.8620\n",
      "16/16 - 0s - loss: 0.5325 - accuracy: 0.8760\n",
      "16/16 - 0s - loss: 0.5614 - accuracy: 0.9040\n",
      "16/16 - 0s - loss: 0.8307 - accuracy: 0.8540\n",
      "16/16 - 1s - loss: 0.5792 - accuracy: 0.8660\n",
      "------------    36  번째 global epoch < Clustering > 로컬 클라이언트 학습 완료!,  Total Training time :  1180.0404450893402 ---------------------------\n",
      "\n",
      "\n",
      "Layer :  0   클러스터 갯수 정해짐!  갯수 :  2 0\n"
     ]
    },
    {
     "name": "stderr",
     "output_type": "stream",
     "text": [
      "<ipython-input-8-91a1af1a5106>:147: VisibleDeprecationWarning: Creating an ndarray from ragged nested sequences (which is a list-or-tuple of lists-or-tuples-or ndarrays with different lengths or shapes) is deprecated. If you meant to do this, you must specify 'dtype=object' when creating the ndarray\n",
      "  globals()['G{}_c{}_w_layer{}'.format(global_epoch, num_c_w, layer_index)] = globals()['G{}_c{}_w_layer{}'.format(global_epoch, num_c_w, layer_index)] + np.array(globals()['L{}_layer{}_w_c'.format(i,layer_index)])   # 일반 클러스터링\n"
     ]
    },
    {
     "name": "stdout",
     "output_type": "stream",
     "text": [
      "Layer :  2   클러스터 갯수 정해짐!  갯수 :  2 0\n"
     ]
    },
    {
     "name": "stderr",
     "output_type": "stream",
     "text": [
      "<ipython-input-8-91a1af1a5106>:147: VisibleDeprecationWarning: Creating an ndarray from ragged nested sequences (which is a list-or-tuple of lists-or-tuples-or ndarrays with different lengths or shapes) is deprecated. If you meant to do this, you must specify 'dtype=object' when creating the ndarray\n",
      "  globals()['G{}_c{}_w_layer{}'.format(global_epoch, num_c_w, layer_index)] = globals()['G{}_c{}_w_layer{}'.format(global_epoch, num_c_w, layer_index)] + np.array(globals()['L{}_layer{}_w_c'.format(i,layer_index)])   # 일반 클러스터링\n"
     ]
    },
    {
     "name": "stdout",
     "output_type": "stream",
     "text": [
      "Layer :  4   클러스터 갯수 정해짐!  갯수 :  2 0\n"
     ]
    },
    {
     "name": "stderr",
     "output_type": "stream",
     "text": [
      "<ipython-input-8-91a1af1a5106>:147: VisibleDeprecationWarning: Creating an ndarray from ragged nested sequences (which is a list-or-tuple of lists-or-tuples-or ndarrays with different lengths or shapes) is deprecated. If you meant to do this, you must specify 'dtype=object' when creating the ndarray\n",
      "  globals()['G{}_c{}_w_layer{}'.format(global_epoch, num_c_w, layer_index)] = globals()['G{}_c{}_w_layer{}'.format(global_epoch, num_c_w, layer_index)] + np.array(globals()['L{}_layer{}_w_c'.format(i,layer_index)])   # 일반 클러스터링\n"
     ]
    },
    {
     "name": "stdout",
     "output_type": "stream",
     "text": [
      "Layer :  6   클러스터 갯수 정해짐!  갯수 :  2 0\n"
     ]
    },
    {
     "name": "stderr",
     "output_type": "stream",
     "text": [
      "<ipython-input-8-91a1af1a5106>:147: VisibleDeprecationWarning: Creating an ndarray from ragged nested sequences (which is a list-or-tuple of lists-or-tuples-or ndarrays with different lengths or shapes) is deprecated. If you meant to do this, you must specify 'dtype=object' when creating the ndarray\n",
      "  globals()['G{}_c{}_w_layer{}'.format(global_epoch, num_c_w, layer_index)] = globals()['G{}_c{}_w_layer{}'.format(global_epoch, num_c_w, layer_index)] + np.array(globals()['L{}_layer{}_w_c'.format(i,layer_index)])   # 일반 클러스터링\n"
     ]
    },
    {
     "name": "stdout",
     "output_type": "stream",
     "text": [
      "Layer :  7   클러스터 갯수 정해짐!  갯수 :  4 2\n",
      "\n",
      "\n",
      "====================================================== One Global Epoch =====================================================================\n",
      "\n",
      "\n",
      "37  번째 global_epoch 데이터 랜덤하게 준비!!\n"
     ]
    },
    {
     "name": "stderr",
     "output_type": "stream",
     "text": [
      "<ipython-input-8-91a1af1a5106>:147: VisibleDeprecationWarning: Creating an ndarray from ragged nested sequences (which is a list-or-tuple of lists-or-tuples-or ndarrays with different lengths or shapes) is deprecated. If you meant to do this, you must specify 'dtype=object' when creating the ndarray\n",
      "  globals()['G{}_c{}_w_layer{}'.format(global_epoch, num_c_w, layer_index)] = globals()['G{}_c{}_w_layer{}'.format(global_epoch, num_c_w, layer_index)] + np.array(globals()['L{}_layer{}_w_c'.format(i,layer_index)])   # 일반 클러스터링\n"
     ]
    },
    {
     "name": "stdout",
     "output_type": "stream",
     "text": [
      "37  번째 global_epoch 데이터 랜덤 준비완료!!\n",
      "\n",
      "\n",
      "37  번째 global epoch에서 로컬 클라이언트 들 학습시작!\n",
      "\n",
      "학습 중 ...\n",
      "\n",
      "16/16 - 0s - loss: 0.3834 - accuracy: 0.9040\n",
      "16/16 - 0s - loss: 0.6476 - accuracy: 0.8880\n",
      "16/16 - 0s - loss: 0.9037 - accuracy: 0.8700\n",
      "16/16 - 1s - loss: 0.6099 - accuracy: 0.8580\n",
      "16/16 - 1s - loss: 0.6922 - accuracy: 0.8680\n",
      "16/16 - 0s - loss: 0.7259 - accuracy: 0.8640\n",
      "16/16 - 1s - loss: 0.5717 - accuracy: 0.8940\n",
      "16/16 - 1s - loss: 0.7376 - accuracy: 0.8680\n",
      "16/16 - 1s - loss: 0.6573 - accuracy: 0.8800\n",
      "16/16 - 0s - loss: 0.4865 - accuracy: 0.9000\n",
      "16/16 - 1s - loss: 0.6829 - accuracy: 0.8740\n",
      "16/16 - 1s - loss: 0.6699 - accuracy: 0.8360\n",
      "16/16 - 0s - loss: 0.6865 - accuracy: 0.8740\n",
      "16/16 - 1s - loss: 0.6448 - accuracy: 0.8800\n",
      "16/16 - 0s - loss: 0.8589 - accuracy: 0.8360\n",
      "16/16 - 1s - loss: 0.6581 - accuracy: 0.8680\n",
      "16/16 - 0s - loss: 0.5530 - accuracy: 0.8920\n",
      "16/16 - 1s - loss: 0.8856 - accuracy: 0.8740\n",
      "16/16 - 1s - loss: 0.8312 - accuracy: 0.8700\n",
      "16/16 - 1s - loss: 0.6409 - accuracy: 0.8740\n",
      "------------    37  번째 global epoch < Clustering > 로컬 클라이언트 학습 완료!,  Total Training time :  1363.4710114002228 ---------------------------\n",
      "\n",
      "\n",
      "Layer :  0   클러스터 갯수 정해짐!  갯수 :  2 0\n"
     ]
    },
    {
     "name": "stderr",
     "output_type": "stream",
     "text": [
      "<ipython-input-8-91a1af1a5106>:147: VisibleDeprecationWarning: Creating an ndarray from ragged nested sequences (which is a list-or-tuple of lists-or-tuples-or ndarrays with different lengths or shapes) is deprecated. If you meant to do this, you must specify 'dtype=object' when creating the ndarray\n",
      "  globals()['G{}_c{}_w_layer{}'.format(global_epoch, num_c_w, layer_index)] = globals()['G{}_c{}_w_layer{}'.format(global_epoch, num_c_w, layer_index)] + np.array(globals()['L{}_layer{}_w_c'.format(i,layer_index)])   # 일반 클러스터링\n"
     ]
    },
    {
     "name": "stdout",
     "output_type": "stream",
     "text": [
      "Layer :  2   클러스터 갯수 정해짐!  갯수 :  2 0\n"
     ]
    },
    {
     "name": "stderr",
     "output_type": "stream",
     "text": [
      "<ipython-input-8-91a1af1a5106>:147: VisibleDeprecationWarning: Creating an ndarray from ragged nested sequences (which is a list-or-tuple of lists-or-tuples-or ndarrays with different lengths or shapes) is deprecated. If you meant to do this, you must specify 'dtype=object' when creating the ndarray\n",
      "  globals()['G{}_c{}_w_layer{}'.format(global_epoch, num_c_w, layer_index)] = globals()['G{}_c{}_w_layer{}'.format(global_epoch, num_c_w, layer_index)] + np.array(globals()['L{}_layer{}_w_c'.format(i,layer_index)])   # 일반 클러스터링\n"
     ]
    },
    {
     "name": "stdout",
     "output_type": "stream",
     "text": [
      "Layer :  4   클러스터 갯수 정해짐!  갯수 :  2 0\n"
     ]
    },
    {
     "name": "stderr",
     "output_type": "stream",
     "text": [
      "<ipython-input-8-91a1af1a5106>:147: VisibleDeprecationWarning: Creating an ndarray from ragged nested sequences (which is a list-or-tuple of lists-or-tuples-or ndarrays with different lengths or shapes) is deprecated. If you meant to do this, you must specify 'dtype=object' when creating the ndarray\n",
      "  globals()['G{}_c{}_w_layer{}'.format(global_epoch, num_c_w, layer_index)] = globals()['G{}_c{}_w_layer{}'.format(global_epoch, num_c_w, layer_index)] + np.array(globals()['L{}_layer{}_w_c'.format(i,layer_index)])   # 일반 클러스터링\n"
     ]
    },
    {
     "name": "stdout",
     "output_type": "stream",
     "text": [
      "Layer :  6   클러스터 갯수 정해짐!  갯수 :  2 0\n"
     ]
    },
    {
     "name": "stderr",
     "output_type": "stream",
     "text": [
      "<ipython-input-8-91a1af1a5106>:147: VisibleDeprecationWarning: Creating an ndarray from ragged nested sequences (which is a list-or-tuple of lists-or-tuples-or ndarrays with different lengths or shapes) is deprecated. If you meant to do this, you must specify 'dtype=object' when creating the ndarray\n",
      "  globals()['G{}_c{}_w_layer{}'.format(global_epoch, num_c_w, layer_index)] = globals()['G{}_c{}_w_layer{}'.format(global_epoch, num_c_w, layer_index)] + np.array(globals()['L{}_layer{}_w_c'.format(i,layer_index)])   # 일반 클러스터링\n"
     ]
    },
    {
     "name": "stdout",
     "output_type": "stream",
     "text": [
      "Layer :  7   클러스터 갯수 정해짐!  갯수 :  4 2\n",
      "\n",
      "\n",
      "====================================================== One Global Epoch =====================================================================\n",
      "\n",
      "\n",
      "38  번째 global_epoch 데이터 랜덤하게 준비!!\n"
     ]
    },
    {
     "name": "stderr",
     "output_type": "stream",
     "text": [
      "<ipython-input-8-91a1af1a5106>:147: VisibleDeprecationWarning: Creating an ndarray from ragged nested sequences (which is a list-or-tuple of lists-or-tuples-or ndarrays with different lengths or shapes) is deprecated. If you meant to do this, you must specify 'dtype=object' when creating the ndarray\n",
      "  globals()['G{}_c{}_w_layer{}'.format(global_epoch, num_c_w, layer_index)] = globals()['G{}_c{}_w_layer{}'.format(global_epoch, num_c_w, layer_index)] + np.array(globals()['L{}_layer{}_w_c'.format(i,layer_index)])   # 일반 클러스터링\n"
     ]
    },
    {
     "name": "stdout",
     "output_type": "stream",
     "text": [
      "38  번째 global_epoch 데이터 랜덤 준비완료!!\n",
      "\n",
      "\n",
      "38  번째 global epoch에서 로컬 클라이언트 들 학습시작!\n",
      "\n",
      "학습 중 ...\n",
      "\n",
      "16/16 - 1s - loss: 0.5004 - accuracy: 0.9160\n",
      "16/16 - 0s - loss: 0.6461 - accuracy: 0.8900\n",
      "16/16 - 1s - loss: 0.7240 - accuracy: 0.8800\n",
      "16/16 - 1s - loss: 0.6883 - accuracy: 0.8720\n",
      "16/16 - 0s - loss: 0.6177 - accuracy: 0.8800\n",
      "16/16 - 1s - loss: 0.6725 - accuracy: 0.8700\n",
      "16/16 - 1s - loss: 0.5889 - accuracy: 0.8840\n",
      "16/16 - 0s - loss: 0.4539 - accuracy: 0.8920\n",
      "16/16 - 1s - loss: 0.5898 - accuracy: 0.8740\n",
      "16/16 - 0s - loss: 0.7421 - accuracy: 0.8900\n",
      "16/16 - 1s - loss: 0.6657 - accuracy: 0.8860\n",
      "16/16 - 1s - loss: 0.7746 - accuracy: 0.8700\n",
      "16/16 - 1s - loss: 0.5758 - accuracy: 0.8820\n",
      "16/16 - 0s - loss: 0.6547 - accuracy: 0.8560\n",
      "16/16 - 0s - loss: 0.5332 - accuracy: 0.8780\n",
      "16/16 - 0s - loss: 0.6807 - accuracy: 0.8540\n",
      "16/16 - 1s - loss: 0.8187 - accuracy: 0.8600\n",
      "16/16 - 1s - loss: 0.6555 - accuracy: 0.8780\n",
      "16/16 - 1s - loss: 0.6174 - accuracy: 0.8740\n",
      "16/16 - 0s - loss: 0.7838 - accuracy: 0.8440\n",
      "------------    38  번째 global epoch < Clustering > 로컬 클라이언트 학습 완료!,  Total Training time :  1560.352088212967 ---------------------------\n",
      "\n",
      "\n",
      "Layer :  0   클러스터 갯수 정해짐!  갯수 :  2 0\n"
     ]
    },
    {
     "name": "stderr",
     "output_type": "stream",
     "text": [
      "<ipython-input-8-91a1af1a5106>:147: VisibleDeprecationWarning: Creating an ndarray from ragged nested sequences (which is a list-or-tuple of lists-or-tuples-or ndarrays with different lengths or shapes) is deprecated. If you meant to do this, you must specify 'dtype=object' when creating the ndarray\n",
      "  globals()['G{}_c{}_w_layer{}'.format(global_epoch, num_c_w, layer_index)] = globals()['G{}_c{}_w_layer{}'.format(global_epoch, num_c_w, layer_index)] + np.array(globals()['L{}_layer{}_w_c'.format(i,layer_index)])   # 일반 클러스터링\n"
     ]
    },
    {
     "name": "stdout",
     "output_type": "stream",
     "text": [
      "Layer :  2   클러스터 갯수 정해짐!  갯수 :  2 0\n"
     ]
    },
    {
     "name": "stderr",
     "output_type": "stream",
     "text": [
      "<ipython-input-8-91a1af1a5106>:147: VisibleDeprecationWarning: Creating an ndarray from ragged nested sequences (which is a list-or-tuple of lists-or-tuples-or ndarrays with different lengths or shapes) is deprecated. If you meant to do this, you must specify 'dtype=object' when creating the ndarray\n",
      "  globals()['G{}_c{}_w_layer{}'.format(global_epoch, num_c_w, layer_index)] = globals()['G{}_c{}_w_layer{}'.format(global_epoch, num_c_w, layer_index)] + np.array(globals()['L{}_layer{}_w_c'.format(i,layer_index)])   # 일반 클러스터링\n"
     ]
    },
    {
     "name": "stdout",
     "output_type": "stream",
     "text": [
      "Layer :  4   클러스터 갯수 정해짐!  갯수 :  2 0\n"
     ]
    },
    {
     "name": "stderr",
     "output_type": "stream",
     "text": [
      "<ipython-input-8-91a1af1a5106>:147: VisibleDeprecationWarning: Creating an ndarray from ragged nested sequences (which is a list-or-tuple of lists-or-tuples-or ndarrays with different lengths or shapes) is deprecated. If you meant to do this, you must specify 'dtype=object' when creating the ndarray\n",
      "  globals()['G{}_c{}_w_layer{}'.format(global_epoch, num_c_w, layer_index)] = globals()['G{}_c{}_w_layer{}'.format(global_epoch, num_c_w, layer_index)] + np.array(globals()['L{}_layer{}_w_c'.format(i,layer_index)])   # 일반 클러스터링\n"
     ]
    },
    {
     "name": "stdout",
     "output_type": "stream",
     "text": [
      "Layer :  6   클러스터 갯수 정해짐!  갯수 :  2 0\n"
     ]
    },
    {
     "name": "stderr",
     "output_type": "stream",
     "text": [
      "<ipython-input-8-91a1af1a5106>:147: VisibleDeprecationWarning: Creating an ndarray from ragged nested sequences (which is a list-or-tuple of lists-or-tuples-or ndarrays with different lengths or shapes) is deprecated. If you meant to do this, you must specify 'dtype=object' when creating the ndarray\n",
      "  globals()['G{}_c{}_w_layer{}'.format(global_epoch, num_c_w, layer_index)] = globals()['G{}_c{}_w_layer{}'.format(global_epoch, num_c_w, layer_index)] + np.array(globals()['L{}_layer{}_w_c'.format(i,layer_index)])   # 일반 클러스터링\n"
     ]
    },
    {
     "name": "stdout",
     "output_type": "stream",
     "text": [
      "Layer :  7   클러스터 갯수 정해짐!  갯수 :  4 2\n",
      "\n",
      "\n",
      "====================================================== One Global Epoch =====================================================================\n",
      "\n",
      "\n",
      "39  번째 global_epoch 데이터 랜덤하게 준비!!\n"
     ]
    },
    {
     "name": "stderr",
     "output_type": "stream",
     "text": [
      "<ipython-input-8-91a1af1a5106>:147: VisibleDeprecationWarning: Creating an ndarray from ragged nested sequences (which is a list-or-tuple of lists-or-tuples-or ndarrays with different lengths or shapes) is deprecated. If you meant to do this, you must specify 'dtype=object' when creating the ndarray\n",
      "  globals()['G{}_c{}_w_layer{}'.format(global_epoch, num_c_w, layer_index)] = globals()['G{}_c{}_w_layer{}'.format(global_epoch, num_c_w, layer_index)] + np.array(globals()['L{}_layer{}_w_c'.format(i,layer_index)])   # 일반 클러스터링\n"
     ]
    },
    {
     "name": "stdout",
     "output_type": "stream",
     "text": [
      "39  번째 global_epoch 데이터 랜덤 준비완료!!\n",
      "\n",
      "\n",
      "39  번째 global epoch에서 로컬 클라이언트 들 학습시작!\n",
      "\n",
      "학습 중 ...\n",
      "\n",
      "16/16 - 1s - loss: 0.6977 - accuracy: 0.8680\n",
      "16/16 - 1s - loss: 0.5216 - accuracy: 0.9020\n",
      "16/16 - 1s - loss: 0.5275 - accuracy: 0.8760\n",
      "16/16 - 1s - loss: 0.6591 - accuracy: 0.8860\n",
      "16/16 - 1s - loss: 0.6291 - accuracy: 0.9020\n",
      "16/16 - 1s - loss: 0.7305 - accuracy: 0.8540\n",
      "16/16 - 1s - loss: 0.6678 - accuracy: 0.8820\n",
      "16/16 - 1s - loss: 0.7430 - accuracy: 0.8480\n",
      "16/16 - 1s - loss: 0.5072 - accuracy: 0.9020\n",
      "16/16 - 0s - loss: 0.5806 - accuracy: 0.8780\n",
      "16/16 - 1s - loss: 0.7975 - accuracy: 0.8700\n",
      "16/16 - 1s - loss: 0.8492 - accuracy: 0.8840\n",
      "16/16 - 1s - loss: 0.5861 - accuracy: 0.8880\n",
      "16/16 - 1s - loss: 0.6697 - accuracy: 0.8880\n",
      "16/16 - 1s - loss: 0.7616 - accuracy: 0.8420\n",
      "16/16 - 0s - loss: 0.6146 - accuracy: 0.8600\n",
      "16/16 - 1s - loss: 0.7450 - accuracy: 0.8680\n",
      "16/16 - 1s - loss: 0.8433 - accuracy: 0.8640\n",
      "16/16 - 1s - loss: 0.8104 - accuracy: 0.8600\n",
      "16/16 - 1s - loss: 0.6840 - accuracy: 0.8780\n",
      "------------    39  번째 global epoch < Clustering > 로컬 클라이언트 학습 완료!,  Total Training time :  1793.1817526817322 ---------------------------\n",
      "\n",
      "\n",
      "Layer :  0   클러스터 갯수 정해짐!  갯수 :  2 0\n"
     ]
    },
    {
     "name": "stderr",
     "output_type": "stream",
     "text": [
      "<ipython-input-8-91a1af1a5106>:147: VisibleDeprecationWarning: Creating an ndarray from ragged nested sequences (which is a list-or-tuple of lists-or-tuples-or ndarrays with different lengths or shapes) is deprecated. If you meant to do this, you must specify 'dtype=object' when creating the ndarray\n",
      "  globals()['G{}_c{}_w_layer{}'.format(global_epoch, num_c_w, layer_index)] = globals()['G{}_c{}_w_layer{}'.format(global_epoch, num_c_w, layer_index)] + np.array(globals()['L{}_layer{}_w_c'.format(i,layer_index)])   # 일반 클러스터링\n"
     ]
    },
    {
     "name": "stdout",
     "output_type": "stream",
     "text": [
      "Layer :  2   클러스터 갯수 정해짐!  갯수 :  2 0\n"
     ]
    },
    {
     "name": "stderr",
     "output_type": "stream",
     "text": [
      "<ipython-input-8-91a1af1a5106>:147: VisibleDeprecationWarning: Creating an ndarray from ragged nested sequences (which is a list-or-tuple of lists-or-tuples-or ndarrays with different lengths or shapes) is deprecated. If you meant to do this, you must specify 'dtype=object' when creating the ndarray\n",
      "  globals()['G{}_c{}_w_layer{}'.format(global_epoch, num_c_w, layer_index)] = globals()['G{}_c{}_w_layer{}'.format(global_epoch, num_c_w, layer_index)] + np.array(globals()['L{}_layer{}_w_c'.format(i,layer_index)])   # 일반 클러스터링\n"
     ]
    },
    {
     "name": "stdout",
     "output_type": "stream",
     "text": [
      "Layer :  4   클러스터 갯수 정해짐!  갯수 :  2 0\n"
     ]
    },
    {
     "name": "stderr",
     "output_type": "stream",
     "text": [
      "<ipython-input-8-91a1af1a5106>:147: VisibleDeprecationWarning: Creating an ndarray from ragged nested sequences (which is a list-or-tuple of lists-or-tuples-or ndarrays with different lengths or shapes) is deprecated. If you meant to do this, you must specify 'dtype=object' when creating the ndarray\n",
      "  globals()['G{}_c{}_w_layer{}'.format(global_epoch, num_c_w, layer_index)] = globals()['G{}_c{}_w_layer{}'.format(global_epoch, num_c_w, layer_index)] + np.array(globals()['L{}_layer{}_w_c'.format(i,layer_index)])   # 일반 클러스터링\n"
     ]
    },
    {
     "name": "stdout",
     "output_type": "stream",
     "text": [
      "Layer :  6   클러스터 갯수 정해짐!  갯수 :  2 0\n"
     ]
    },
    {
     "name": "stderr",
     "output_type": "stream",
     "text": [
      "<ipython-input-8-91a1af1a5106>:147: VisibleDeprecationWarning: Creating an ndarray from ragged nested sequences (which is a list-or-tuple of lists-or-tuples-or ndarrays with different lengths or shapes) is deprecated. If you meant to do this, you must specify 'dtype=object' when creating the ndarray\n",
      "  globals()['G{}_c{}_w_layer{}'.format(global_epoch, num_c_w, layer_index)] = globals()['G{}_c{}_w_layer{}'.format(global_epoch, num_c_w, layer_index)] + np.array(globals()['L{}_layer{}_w_c'.format(i,layer_index)])   # 일반 클러스터링\n"
     ]
    },
    {
     "name": "stdout",
     "output_type": "stream",
     "text": [
      "Layer :  7   클러스터 갯수 정해짐!  갯수 :  4 2\n",
      "\n",
      "\n",
      "====================================================== One Global Epoch =====================================================================\n",
      "\n",
      "\n",
      "40  번째 global_epoch 데이터 랜덤하게 준비!!\n"
     ]
    },
    {
     "name": "stderr",
     "output_type": "stream",
     "text": [
      "<ipython-input-8-91a1af1a5106>:147: VisibleDeprecationWarning: Creating an ndarray from ragged nested sequences (which is a list-or-tuple of lists-or-tuples-or ndarrays with different lengths or shapes) is deprecated. If you meant to do this, you must specify 'dtype=object' when creating the ndarray\n",
      "  globals()['G{}_c{}_w_layer{}'.format(global_epoch, num_c_w, layer_index)] = globals()['G{}_c{}_w_layer{}'.format(global_epoch, num_c_w, layer_index)] + np.array(globals()['L{}_layer{}_w_c'.format(i,layer_index)])   # 일반 클러스터링\n"
     ]
    },
    {
     "name": "stdout",
     "output_type": "stream",
     "text": [
      "40  번째 global_epoch 데이터 랜덤 준비완료!!\n",
      "\n",
      "\n",
      "40  번째 global epoch에서 로컬 클라이언트 들 학습시작!\n",
      "\n",
      "학습 중 ...\n",
      "\n",
      "16/16 - 1s - loss: 0.6229 - accuracy: 0.8700\n",
      "16/16 - 1s - loss: 0.6856 - accuracy: 0.8640\n",
      "16/16 - 0s - loss: 0.7074 - accuracy: 0.8660\n",
      "16/16 - 1s - loss: 0.6101 - accuracy: 0.8920\n",
      "16/16 - 1s - loss: 0.5616 - accuracy: 0.8960\n",
      "16/16 - 1s - loss: 0.4760 - accuracy: 0.9020\n",
      "16/16 - 1s - loss: 0.8860 - accuracy: 0.8640\n",
      "16/16 - 0s - loss: 0.5873 - accuracy: 0.8960\n",
      "16/16 - 1s - loss: 0.6713 - accuracy: 0.8800\n",
      "16/16 - 0s - loss: 0.5599 - accuracy: 0.8800\n",
      "16/16 - 1s - loss: 0.8011 - accuracy: 0.8640\n",
      "16/16 - 0s - loss: 0.7451 - accuracy: 0.8580\n",
      "16/16 - 1s - loss: 0.7079 - accuracy: 0.8680\n",
      "16/16 - 1s - loss: 0.5833 - accuracy: 0.8600\n",
      "16/16 - 1s - loss: 0.7098 - accuracy: 0.8660\n",
      "16/16 - 1s - loss: 0.7696 - accuracy: 0.8380\n",
      "16/16 - 1s - loss: 0.6211 - accuracy: 0.8880\n",
      "16/16 - 0s - loss: 0.6808 - accuracy: 0.8920\n",
      "16/16 - 1s - loss: 0.6470 - accuracy: 0.8820\n",
      "16/16 - 1s - loss: 0.6934 - accuracy: 0.8760\n",
      "------------    40  번째 global epoch < Clustering > 로컬 클라이언트 학습 완료!,  Total Training time :  2393.334356069565 ---------------------------\n",
      "\n",
      "\n",
      "Layer :  0   클러스터 갯수 정해짐!  갯수 :  2 0\n"
     ]
    },
    {
     "name": "stderr",
     "output_type": "stream",
     "text": [
      "<ipython-input-8-91a1af1a5106>:147: VisibleDeprecationWarning: Creating an ndarray from ragged nested sequences (which is a list-or-tuple of lists-or-tuples-or ndarrays with different lengths or shapes) is deprecated. If you meant to do this, you must specify 'dtype=object' when creating the ndarray\n",
      "  globals()['G{}_c{}_w_layer{}'.format(global_epoch, num_c_w, layer_index)] = globals()['G{}_c{}_w_layer{}'.format(global_epoch, num_c_w, layer_index)] + np.array(globals()['L{}_layer{}_w_c'.format(i,layer_index)])   # 일반 클러스터링\n"
     ]
    },
    {
     "name": "stdout",
     "output_type": "stream",
     "text": [
      "Layer :  2   클러스터 갯수 정해짐!  갯수 :  2 0\n"
     ]
    },
    {
     "name": "stderr",
     "output_type": "stream",
     "text": [
      "<ipython-input-8-91a1af1a5106>:147: VisibleDeprecationWarning: Creating an ndarray from ragged nested sequences (which is a list-or-tuple of lists-or-tuples-or ndarrays with different lengths or shapes) is deprecated. If you meant to do this, you must specify 'dtype=object' when creating the ndarray\n",
      "  globals()['G{}_c{}_w_layer{}'.format(global_epoch, num_c_w, layer_index)] = globals()['G{}_c{}_w_layer{}'.format(global_epoch, num_c_w, layer_index)] + np.array(globals()['L{}_layer{}_w_c'.format(i,layer_index)])   # 일반 클러스터링\n"
     ]
    },
    {
     "name": "stdout",
     "output_type": "stream",
     "text": [
      "Layer :  4   클러스터 갯수 정해짐!  갯수 :  2 0\n"
     ]
    },
    {
     "name": "stderr",
     "output_type": "stream",
     "text": [
      "<ipython-input-8-91a1af1a5106>:147: VisibleDeprecationWarning: Creating an ndarray from ragged nested sequences (which is a list-or-tuple of lists-or-tuples-or ndarrays with different lengths or shapes) is deprecated. If you meant to do this, you must specify 'dtype=object' when creating the ndarray\n",
      "  globals()['G{}_c{}_w_layer{}'.format(global_epoch, num_c_w, layer_index)] = globals()['G{}_c{}_w_layer{}'.format(global_epoch, num_c_w, layer_index)] + np.array(globals()['L{}_layer{}_w_c'.format(i,layer_index)])   # 일반 클러스터링\n"
     ]
    },
    {
     "name": "stdout",
     "output_type": "stream",
     "text": [
      "Layer :  6   클러스터 갯수 정해짐!  갯수 :  2 0\n"
     ]
    },
    {
     "name": "stderr",
     "output_type": "stream",
     "text": [
      "<ipython-input-8-91a1af1a5106>:147: VisibleDeprecationWarning: Creating an ndarray from ragged nested sequences (which is a list-or-tuple of lists-or-tuples-or ndarrays with different lengths or shapes) is deprecated. If you meant to do this, you must specify 'dtype=object' when creating the ndarray\n",
      "  globals()['G{}_c{}_w_layer{}'.format(global_epoch, num_c_w, layer_index)] = globals()['G{}_c{}_w_layer{}'.format(global_epoch, num_c_w, layer_index)] + np.array(globals()['L{}_layer{}_w_c'.format(i,layer_index)])   # 일반 클러스터링\n"
     ]
    },
    {
     "name": "stdout",
     "output_type": "stream",
     "text": [
      "Layer :  7   클러스터 갯수 정해짐!  갯수 :  4 2\n",
      "\n",
      "\n",
      "====================================================== One Global Epoch =====================================================================\n",
      "\n",
      "\n",
      "41  번째 global_epoch 데이터 랜덤하게 준비!!\n"
     ]
    },
    {
     "name": "stderr",
     "output_type": "stream",
     "text": [
      "<ipython-input-8-91a1af1a5106>:147: VisibleDeprecationWarning: Creating an ndarray from ragged nested sequences (which is a list-or-tuple of lists-or-tuples-or ndarrays with different lengths or shapes) is deprecated. If you meant to do this, you must specify 'dtype=object' when creating the ndarray\n",
      "  globals()['G{}_c{}_w_layer{}'.format(global_epoch, num_c_w, layer_index)] = globals()['G{}_c{}_w_layer{}'.format(global_epoch, num_c_w, layer_index)] + np.array(globals()['L{}_layer{}_w_c'.format(i,layer_index)])   # 일반 클러스터링\n"
     ]
    },
    {
     "name": "stdout",
     "output_type": "stream",
     "text": [
      "41  번째 global_epoch 데이터 랜덤 준비완료!!\n",
      "\n",
      "\n",
      "41  번째 global epoch에서 로컬 클라이언트 들 학습시작!\n",
      "\n",
      "학습 중 ...\n",
      "\n",
      "16/16 - 1s - loss: 0.7279 - accuracy: 0.8660\n",
      "16/16 - 1s - loss: 0.6067 - accuracy: 0.8780\n",
      "16/16 - 1s - loss: 0.6168 - accuracy: 0.8900\n",
      "16/16 - 1s - loss: 0.5682 - accuracy: 0.8640\n",
      "16/16 - 1s - loss: 0.6491 - accuracy: 0.8800\n",
      "16/16 - 1s - loss: 0.6895 - accuracy: 0.8740\n",
      "16/16 - 2s - loss: 0.8031 - accuracy: 0.8800\n",
      "16/16 - 1s - loss: 0.7651 - accuracy: 0.8760\n",
      "16/16 - 0s - loss: 0.6316 - accuracy: 0.8820\n",
      "16/16 - 1s - loss: 0.7214 - accuracy: 0.8440\n",
      "16/16 - 1s - loss: 0.7660 - accuracy: 0.8680\n",
      "16/16 - 1s - loss: 0.6232 - accuracy: 0.8680\n",
      "16/16 - 1s - loss: 0.6004 - accuracy: 0.8880\n",
      "16/16 - 1s - loss: 0.5570 - accuracy: 0.8780\n",
      "16/16 - 1s - loss: 0.7561 - accuracy: 0.8540\n",
      "16/16 - 1s - loss: 0.6595 - accuracy: 0.8920\n",
      "16/16 - 2s - loss: 0.5810 - accuracy: 0.8840\n",
      "16/16 - 1s - loss: 0.6965 - accuracy: 0.8660\n",
      "16/16 - 1s - loss: 0.6584 - accuracy: 0.8860\n",
      "16/16 - 1s - loss: 0.8809 - accuracy: 0.8640\n",
      "------------    41  번째 global epoch < Clustering > 로컬 클라이언트 학습 완료!,  Total Training time :  2058.6131370067596 ---------------------------\n",
      "\n",
      "\n",
      "Layer :  0   클러스터 갯수 정해짐!  갯수 :  2 0\n"
     ]
    },
    {
     "name": "stderr",
     "output_type": "stream",
     "text": [
      "<ipython-input-8-91a1af1a5106>:147: VisibleDeprecationWarning: Creating an ndarray from ragged nested sequences (which is a list-or-tuple of lists-or-tuples-or ndarrays with different lengths or shapes) is deprecated. If you meant to do this, you must specify 'dtype=object' when creating the ndarray\n",
      "  globals()['G{}_c{}_w_layer{}'.format(global_epoch, num_c_w, layer_index)] = globals()['G{}_c{}_w_layer{}'.format(global_epoch, num_c_w, layer_index)] + np.array(globals()['L{}_layer{}_w_c'.format(i,layer_index)])   # 일반 클러스터링\n"
     ]
    },
    {
     "name": "stdout",
     "output_type": "stream",
     "text": [
      "Layer :  2   클러스터 갯수 정해짐!  갯수 :  2 0\n"
     ]
    },
    {
     "name": "stderr",
     "output_type": "stream",
     "text": [
      "<ipython-input-8-91a1af1a5106>:147: VisibleDeprecationWarning: Creating an ndarray from ragged nested sequences (which is a list-or-tuple of lists-or-tuples-or ndarrays with different lengths or shapes) is deprecated. If you meant to do this, you must specify 'dtype=object' when creating the ndarray\n",
      "  globals()['G{}_c{}_w_layer{}'.format(global_epoch, num_c_w, layer_index)] = globals()['G{}_c{}_w_layer{}'.format(global_epoch, num_c_w, layer_index)] + np.array(globals()['L{}_layer{}_w_c'.format(i,layer_index)])   # 일반 클러스터링\n"
     ]
    },
    {
     "name": "stdout",
     "output_type": "stream",
     "text": [
      "Layer :  4   클러스터 갯수 정해짐!  갯수 :  2 0\n"
     ]
    },
    {
     "name": "stderr",
     "output_type": "stream",
     "text": [
      "<ipython-input-8-91a1af1a5106>:147: VisibleDeprecationWarning: Creating an ndarray from ragged nested sequences (which is a list-or-tuple of lists-or-tuples-or ndarrays with different lengths or shapes) is deprecated. If you meant to do this, you must specify 'dtype=object' when creating the ndarray\n",
      "  globals()['G{}_c{}_w_layer{}'.format(global_epoch, num_c_w, layer_index)] = globals()['G{}_c{}_w_layer{}'.format(global_epoch, num_c_w, layer_index)] + np.array(globals()['L{}_layer{}_w_c'.format(i,layer_index)])   # 일반 클러스터링\n"
     ]
    },
    {
     "name": "stdout",
     "output_type": "stream",
     "text": [
      "Layer :  6   클러스터 갯수 정해짐!  갯수 :  2 0\n"
     ]
    },
    {
     "name": "stderr",
     "output_type": "stream",
     "text": [
      "<ipython-input-8-91a1af1a5106>:147: VisibleDeprecationWarning: Creating an ndarray from ragged nested sequences (which is a list-or-tuple of lists-or-tuples-or ndarrays with different lengths or shapes) is deprecated. If you meant to do this, you must specify 'dtype=object' when creating the ndarray\n",
      "  globals()['G{}_c{}_w_layer{}'.format(global_epoch, num_c_w, layer_index)] = globals()['G{}_c{}_w_layer{}'.format(global_epoch, num_c_w, layer_index)] + np.array(globals()['L{}_layer{}_w_c'.format(i,layer_index)])   # 일반 클러스터링\n"
     ]
    },
    {
     "name": "stdout",
     "output_type": "stream",
     "text": [
      "Layer :  7   클러스터 갯수 정해짐!  갯수 :  4 2\n",
      "\n",
      "\n",
      "====================================================== One Global Epoch =====================================================================\n",
      "\n",
      "\n",
      "42  번째 global_epoch 데이터 랜덤하게 준비!!\n"
     ]
    },
    {
     "name": "stderr",
     "output_type": "stream",
     "text": [
      "<ipython-input-8-91a1af1a5106>:147: VisibleDeprecationWarning: Creating an ndarray from ragged nested sequences (which is a list-or-tuple of lists-or-tuples-or ndarrays with different lengths or shapes) is deprecated. If you meant to do this, you must specify 'dtype=object' when creating the ndarray\n",
      "  globals()['G{}_c{}_w_layer{}'.format(global_epoch, num_c_w, layer_index)] = globals()['G{}_c{}_w_layer{}'.format(global_epoch, num_c_w, layer_index)] + np.array(globals()['L{}_layer{}_w_c'.format(i,layer_index)])   # 일반 클러스터링\n"
     ]
    },
    {
     "name": "stdout",
     "output_type": "stream",
     "text": [
      "42  번째 global_epoch 데이터 랜덤 준비완료!!\n",
      "\n",
      "\n",
      "42  번째 global epoch에서 로컬 클라이언트 들 학습시작!\n",
      "\n",
      "학습 중 ...\n",
      "\n",
      "16/16 - 1s - loss: 0.7162 - accuracy: 0.8820\n",
      "16/16 - 0s - loss: 0.7180 - accuracy: 0.8820\n",
      "16/16 - 1s - loss: 0.5769 - accuracy: 0.8740\n",
      "16/16 - 1s - loss: 0.6093 - accuracy: 0.8600\n",
      "16/16 - 1s - loss: 0.6250 - accuracy: 0.8920\n",
      "16/16 - 1s - loss: 0.4853 - accuracy: 0.9000\n",
      "16/16 - 1s - loss: 0.6138 - accuracy: 0.8720\n",
      "16/16 - 1s - loss: 0.7706 - accuracy: 0.8480\n",
      "16/16 - 1s - loss: 0.7109 - accuracy: 0.8800\n",
      "16/16 - 1s - loss: 0.7822 - accuracy: 0.8700\n",
      "16/16 - 1s - loss: 0.4997 - accuracy: 0.8880\n",
      "16/16 - 1s - loss: 0.6376 - accuracy: 0.9040\n",
      "16/16 - 2s - loss: 0.6570 - accuracy: 0.8680\n",
      "16/16 - 1s - loss: 0.6520 - accuracy: 0.8800\n",
      "16/16 - 1s - loss: 0.5381 - accuracy: 0.8900\n",
      "16/16 - 1s - loss: 0.8143 - accuracy: 0.8460\n",
      "16/16 - 1s - loss: 0.7697 - accuracy: 0.8740\n",
      "16/16 - 0s - loss: 0.6837 - accuracy: 0.8720\n",
      "16/16 - 1s - loss: 0.6624 - accuracy: 0.8880\n",
      "16/16 - 1s - loss: 0.4587 - accuracy: 0.8920\n",
      "------------    42  번째 global epoch < Clustering > 로컬 클라이언트 학습 완료!,  Total Training time :  2254.894127845764 ---------------------------\n",
      "\n",
      "\n",
      "Layer :  0   클러스터 갯수 정해짐!  갯수 :  2 0\n"
     ]
    },
    {
     "name": "stderr",
     "output_type": "stream",
     "text": [
      "<ipython-input-8-91a1af1a5106>:147: VisibleDeprecationWarning: Creating an ndarray from ragged nested sequences (which is a list-or-tuple of lists-or-tuples-or ndarrays with different lengths or shapes) is deprecated. If you meant to do this, you must specify 'dtype=object' when creating the ndarray\n",
      "  globals()['G{}_c{}_w_layer{}'.format(global_epoch, num_c_w, layer_index)] = globals()['G{}_c{}_w_layer{}'.format(global_epoch, num_c_w, layer_index)] + np.array(globals()['L{}_layer{}_w_c'.format(i,layer_index)])   # 일반 클러스터링\n"
     ]
    },
    {
     "name": "stdout",
     "output_type": "stream",
     "text": [
      "Layer :  2   클러스터 갯수 정해짐!  갯수 :  2 0\n"
     ]
    },
    {
     "name": "stderr",
     "output_type": "stream",
     "text": [
      "<ipython-input-8-91a1af1a5106>:147: VisibleDeprecationWarning: Creating an ndarray from ragged nested sequences (which is a list-or-tuple of lists-or-tuples-or ndarrays with different lengths or shapes) is deprecated. If you meant to do this, you must specify 'dtype=object' when creating the ndarray\n",
      "  globals()['G{}_c{}_w_layer{}'.format(global_epoch, num_c_w, layer_index)] = globals()['G{}_c{}_w_layer{}'.format(global_epoch, num_c_w, layer_index)] + np.array(globals()['L{}_layer{}_w_c'.format(i,layer_index)])   # 일반 클러스터링\n"
     ]
    },
    {
     "name": "stdout",
     "output_type": "stream",
     "text": [
      "Layer :  4   클러스터 갯수 정해짐!  갯수 :  3 1\n"
     ]
    },
    {
     "name": "stderr",
     "output_type": "stream",
     "text": [
      "<ipython-input-8-91a1af1a5106>:147: VisibleDeprecationWarning: Creating an ndarray from ragged nested sequences (which is a list-or-tuple of lists-or-tuples-or ndarrays with different lengths or shapes) is deprecated. If you meant to do this, you must specify 'dtype=object' when creating the ndarray\n",
      "  globals()['G{}_c{}_w_layer{}'.format(global_epoch, num_c_w, layer_index)] = globals()['G{}_c{}_w_layer{}'.format(global_epoch, num_c_w, layer_index)] + np.array(globals()['L{}_layer{}_w_c'.format(i,layer_index)])   # 일반 클러스터링\n"
     ]
    },
    {
     "name": "stdout",
     "output_type": "stream",
     "text": [
      "Layer :  6   클러스터 갯수 정해짐!  갯수 :  2 0\n"
     ]
    },
    {
     "name": "stderr",
     "output_type": "stream",
     "text": [
      "<ipython-input-8-91a1af1a5106>:147: VisibleDeprecationWarning: Creating an ndarray from ragged nested sequences (which is a list-or-tuple of lists-or-tuples-or ndarrays with different lengths or shapes) is deprecated. If you meant to do this, you must specify 'dtype=object' when creating the ndarray\n",
      "  globals()['G{}_c{}_w_layer{}'.format(global_epoch, num_c_w, layer_index)] = globals()['G{}_c{}_w_layer{}'.format(global_epoch, num_c_w, layer_index)] + np.array(globals()['L{}_layer{}_w_c'.format(i,layer_index)])   # 일반 클러스터링\n"
     ]
    },
    {
     "name": "stdout",
     "output_type": "stream",
     "text": [
      "Layer :  7   클러스터 갯수 정해짐!  갯수 :  4 2\n",
      "\n",
      "\n",
      "====================================================== One Global Epoch =====================================================================\n",
      "\n",
      "\n",
      "43  번째 global_epoch 데이터 랜덤하게 준비!!\n"
     ]
    },
    {
     "name": "stderr",
     "output_type": "stream",
     "text": [
      "<ipython-input-8-91a1af1a5106>:147: VisibleDeprecationWarning: Creating an ndarray from ragged nested sequences (which is a list-or-tuple of lists-or-tuples-or ndarrays with different lengths or shapes) is deprecated. If you meant to do this, you must specify 'dtype=object' when creating the ndarray\n",
      "  globals()['G{}_c{}_w_layer{}'.format(global_epoch, num_c_w, layer_index)] = globals()['G{}_c{}_w_layer{}'.format(global_epoch, num_c_w, layer_index)] + np.array(globals()['L{}_layer{}_w_c'.format(i,layer_index)])   # 일반 클러스터링\n"
     ]
    },
    {
     "name": "stdout",
     "output_type": "stream",
     "text": [
      "43  번째 global_epoch 데이터 랜덤 준비완료!!\n",
      "\n",
      "\n",
      "43  번째 global epoch에서 로컬 클라이언트 들 학습시작!\n",
      "\n",
      "학습 중 ...\n",
      "\n",
      "16/16 - 1s - loss: 0.5088 - accuracy: 0.8900\n",
      "16/16 - 0s - loss: 0.5237 - accuracy: 0.8900\n",
      "16/16 - 1s - loss: 0.6707 - accuracy: 0.8800\n",
      "16/16 - 1s - loss: 0.7117 - accuracy: 0.8620\n",
      "16/16 - 1s - loss: 0.7647 - accuracy: 0.8760\n",
      "16/16 - 1s - loss: 0.5898 - accuracy: 0.8820\n",
      "16/16 - 0s - loss: 0.6937 - accuracy: 0.8800\n",
      "16/16 - 0s - loss: 0.5830 - accuracy: 0.8780\n",
      "16/16 - 0s - loss: 0.7040 - accuracy: 0.8700\n",
      "16/16 - 0s - loss: 0.7759 - accuracy: 0.8680\n",
      "16/16 - 0s - loss: 0.6411 - accuracy: 0.8860\n",
      "16/16 - 1s - loss: 0.4814 - accuracy: 0.8940\n",
      "16/16 - 1s - loss: 0.6069 - accuracy: 0.9060\n",
      "16/16 - 1s - loss: 0.6714 - accuracy: 0.8640\n",
      "16/16 - 0s - loss: 0.8173 - accuracy: 0.8540\n",
      "16/16 - 0s - loss: 0.7579 - accuracy: 0.8420\n",
      "16/16 - 1s - loss: 0.7481 - accuracy: 0.8760\n",
      "16/16 - 1s - loss: 0.7218 - accuracy: 0.8500\n",
      "16/16 - 1s - loss: 0.6242 - accuracy: 0.8700\n",
      "16/16 - 1s - loss: 0.5759 - accuracy: 0.8620\n",
      "------------    43  번째 global epoch < Clustering > 로컬 클라이언트 학습 완료!,  Total Training time :  2399.724517583847 ---------------------------\n",
      "\n",
      "\n",
      "Layer :  0   클러스터 갯수 정해짐!  갯수 :  2 0\n"
     ]
    },
    {
     "name": "stderr",
     "output_type": "stream",
     "text": [
      "<ipython-input-8-91a1af1a5106>:147: VisibleDeprecationWarning: Creating an ndarray from ragged nested sequences (which is a list-or-tuple of lists-or-tuples-or ndarrays with different lengths or shapes) is deprecated. If you meant to do this, you must specify 'dtype=object' when creating the ndarray\n",
      "  globals()['G{}_c{}_w_layer{}'.format(global_epoch, num_c_w, layer_index)] = globals()['G{}_c{}_w_layer{}'.format(global_epoch, num_c_w, layer_index)] + np.array(globals()['L{}_layer{}_w_c'.format(i,layer_index)])   # 일반 클러스터링\n"
     ]
    },
    {
     "name": "stdout",
     "output_type": "stream",
     "text": [
      "Layer :  2   클러스터 갯수 정해짐!  갯수 :  2 0\n"
     ]
    },
    {
     "name": "stderr",
     "output_type": "stream",
     "text": [
      "<ipython-input-8-91a1af1a5106>:147: VisibleDeprecationWarning: Creating an ndarray from ragged nested sequences (which is a list-or-tuple of lists-or-tuples-or ndarrays with different lengths or shapes) is deprecated. If you meant to do this, you must specify 'dtype=object' when creating the ndarray\n",
      "  globals()['G{}_c{}_w_layer{}'.format(global_epoch, num_c_w, layer_index)] = globals()['G{}_c{}_w_layer{}'.format(global_epoch, num_c_w, layer_index)] + np.array(globals()['L{}_layer{}_w_c'.format(i,layer_index)])   # 일반 클러스터링\n"
     ]
    },
    {
     "name": "stdout",
     "output_type": "stream",
     "text": [
      "Layer :  4   클러스터 갯수 정해짐!  갯수 :  2 0\n"
     ]
    },
    {
     "name": "stderr",
     "output_type": "stream",
     "text": [
      "<ipython-input-8-91a1af1a5106>:147: VisibleDeprecationWarning: Creating an ndarray from ragged nested sequences (which is a list-or-tuple of lists-or-tuples-or ndarrays with different lengths or shapes) is deprecated. If you meant to do this, you must specify 'dtype=object' when creating the ndarray\n",
      "  globals()['G{}_c{}_w_layer{}'.format(global_epoch, num_c_w, layer_index)] = globals()['G{}_c{}_w_layer{}'.format(global_epoch, num_c_w, layer_index)] + np.array(globals()['L{}_layer{}_w_c'.format(i,layer_index)])   # 일반 클러스터링\n"
     ]
    },
    {
     "name": "stdout",
     "output_type": "stream",
     "text": [
      "Layer :  6   클러스터 갯수 정해짐!  갯수 :  2 0\n"
     ]
    },
    {
     "name": "stderr",
     "output_type": "stream",
     "text": [
      "<ipython-input-8-91a1af1a5106>:147: VisibleDeprecationWarning: Creating an ndarray from ragged nested sequences (which is a list-or-tuple of lists-or-tuples-or ndarrays with different lengths or shapes) is deprecated. If you meant to do this, you must specify 'dtype=object' when creating the ndarray\n",
      "  globals()['G{}_c{}_w_layer{}'.format(global_epoch, num_c_w, layer_index)] = globals()['G{}_c{}_w_layer{}'.format(global_epoch, num_c_w, layer_index)] + np.array(globals()['L{}_layer{}_w_c'.format(i,layer_index)])   # 일반 클러스터링\n"
     ]
    },
    {
     "name": "stdout",
     "output_type": "stream",
     "text": [
      "Layer :  7   클러스터 갯수 정해짐!  갯수 :  4 2\n",
      "\n",
      "\n",
      "====================================================== One Global Epoch =====================================================================\n",
      "\n",
      "\n",
      "44  번째 global_epoch 데이터 랜덤하게 준비!!\n"
     ]
    },
    {
     "name": "stderr",
     "output_type": "stream",
     "text": [
      "<ipython-input-8-91a1af1a5106>:147: VisibleDeprecationWarning: Creating an ndarray from ragged nested sequences (which is a list-or-tuple of lists-or-tuples-or ndarrays with different lengths or shapes) is deprecated. If you meant to do this, you must specify 'dtype=object' when creating the ndarray\n",
      "  globals()['G{}_c{}_w_layer{}'.format(global_epoch, num_c_w, layer_index)] = globals()['G{}_c{}_w_layer{}'.format(global_epoch, num_c_w, layer_index)] + np.array(globals()['L{}_layer{}_w_c'.format(i,layer_index)])   # 일반 클러스터링\n"
     ]
    },
    {
     "name": "stdout",
     "output_type": "stream",
     "text": [
      "44  번째 global_epoch 데이터 랜덤 준비완료!!\n",
      "\n",
      "\n",
      "44  번째 global epoch에서 로컬 클라이언트 들 학습시작!\n",
      "\n",
      "학습 중 ...\n",
      "\n",
      "16/16 - 1s - loss: 0.6356 - accuracy: 0.8720\n",
      "16/16 - 2s - loss: 0.7857 - accuracy: 0.8540\n",
      "16/16 - 1s - loss: 0.7731 - accuracy: 0.8520\n",
      "16/16 - 1s - loss: 0.6792 - accuracy: 0.8640\n",
      "16/16 - 1s - loss: 0.9310 - accuracy: 0.8340\n",
      "16/16 - 2s - loss: 0.5361 - accuracy: 0.8840\n",
      "16/16 - 1s - loss: 0.7393 - accuracy: 0.8620\n",
      "16/16 - 1s - loss: 0.6352 - accuracy: 0.8980\n",
      "16/16 - 1s - loss: 0.6014 - accuracy: 0.8800\n",
      "16/16 - 1s - loss: 0.6801 - accuracy: 0.8740\n",
      "16/16 - 1s - loss: 0.6699 - accuracy: 0.8560\n",
      "16/16 - 1s - loss: 0.7874 - accuracy: 0.8640\n",
      "16/16 - 1s - loss: 0.7018 - accuracy: 0.8700\n",
      "16/16 - 1s - loss: 0.7209 - accuracy: 0.8700\n",
      "16/16 - 1s - loss: 0.6372 - accuracy: 0.8720\n",
      "16/16 - 0s - loss: 0.7981 - accuracy: 0.8520\n",
      "16/16 - 1s - loss: 0.8226 - accuracy: 0.8660\n",
      "16/16 - 1s - loss: 0.6785 - accuracy: 0.8800\n",
      "16/16 - 1s - loss: 0.7414 - accuracy: 0.8820\n",
      "16/16 - 2s - loss: 0.6701 - accuracy: 0.8720\n",
      "------------    44  번째 global epoch < Clustering > 로컬 클라이언트 학습 완료!,  Total Training time :  2540.9823694229126 ---------------------------\n",
      "\n",
      "\n",
      "Layer :  0   클러스터 갯수 정해짐!  갯수 :  2 0\n"
     ]
    },
    {
     "name": "stderr",
     "output_type": "stream",
     "text": [
      "<ipython-input-8-91a1af1a5106>:147: VisibleDeprecationWarning: Creating an ndarray from ragged nested sequences (which is a list-or-tuple of lists-or-tuples-or ndarrays with different lengths or shapes) is deprecated. If you meant to do this, you must specify 'dtype=object' when creating the ndarray\n",
      "  globals()['G{}_c{}_w_layer{}'.format(global_epoch, num_c_w, layer_index)] = globals()['G{}_c{}_w_layer{}'.format(global_epoch, num_c_w, layer_index)] + np.array(globals()['L{}_layer{}_w_c'.format(i,layer_index)])   # 일반 클러스터링\n"
     ]
    },
    {
     "name": "stdout",
     "output_type": "stream",
     "text": [
      "Layer :  2   클러스터 갯수 정해짐!  갯수 :  2 0\n"
     ]
    },
    {
     "name": "stderr",
     "output_type": "stream",
     "text": [
      "<ipython-input-8-91a1af1a5106>:147: VisibleDeprecationWarning: Creating an ndarray from ragged nested sequences (which is a list-or-tuple of lists-or-tuples-or ndarrays with different lengths or shapes) is deprecated. If you meant to do this, you must specify 'dtype=object' when creating the ndarray\n",
      "  globals()['G{}_c{}_w_layer{}'.format(global_epoch, num_c_w, layer_index)] = globals()['G{}_c{}_w_layer{}'.format(global_epoch, num_c_w, layer_index)] + np.array(globals()['L{}_layer{}_w_c'.format(i,layer_index)])   # 일반 클러스터링\n"
     ]
    },
    {
     "name": "stdout",
     "output_type": "stream",
     "text": [
      "Layer :  4   클러스터 갯수 정해짐!  갯수 :  2 0\n"
     ]
    },
    {
     "name": "stderr",
     "output_type": "stream",
     "text": [
      "<ipython-input-8-91a1af1a5106>:147: VisibleDeprecationWarning: Creating an ndarray from ragged nested sequences (which is a list-or-tuple of lists-or-tuples-or ndarrays with different lengths or shapes) is deprecated. If you meant to do this, you must specify 'dtype=object' when creating the ndarray\n",
      "  globals()['G{}_c{}_w_layer{}'.format(global_epoch, num_c_w, layer_index)] = globals()['G{}_c{}_w_layer{}'.format(global_epoch, num_c_w, layer_index)] + np.array(globals()['L{}_layer{}_w_c'.format(i,layer_index)])   # 일반 클러스터링\n"
     ]
    },
    {
     "name": "stdout",
     "output_type": "stream",
     "text": [
      "Layer :  6   클러스터 갯수 정해짐!  갯수 :  2 0\n"
     ]
    },
    {
     "name": "stderr",
     "output_type": "stream",
     "text": [
      "<ipython-input-8-91a1af1a5106>:147: VisibleDeprecationWarning: Creating an ndarray from ragged nested sequences (which is a list-or-tuple of lists-or-tuples-or ndarrays with different lengths or shapes) is deprecated. If you meant to do this, you must specify 'dtype=object' when creating the ndarray\n",
      "  globals()['G{}_c{}_w_layer{}'.format(global_epoch, num_c_w, layer_index)] = globals()['G{}_c{}_w_layer{}'.format(global_epoch, num_c_w, layer_index)] + np.array(globals()['L{}_layer{}_w_c'.format(i,layer_index)])   # 일반 클러스터링\n"
     ]
    },
    {
     "name": "stdout",
     "output_type": "stream",
     "text": [
      "Layer :  7   클러스터 갯수 정해짐!  갯수 :  4 2\n",
      "\n",
      "\n",
      "====================================================== One Global Epoch =====================================================================\n",
      "\n",
      "\n",
      "45  번째 global_epoch 데이터 랜덤하게 준비!!\n"
     ]
    },
    {
     "name": "stderr",
     "output_type": "stream",
     "text": [
      "<ipython-input-8-91a1af1a5106>:147: VisibleDeprecationWarning: Creating an ndarray from ragged nested sequences (which is a list-or-tuple of lists-or-tuples-or ndarrays with different lengths or shapes) is deprecated. If you meant to do this, you must specify 'dtype=object' when creating the ndarray\n",
      "  globals()['G{}_c{}_w_layer{}'.format(global_epoch, num_c_w, layer_index)] = globals()['G{}_c{}_w_layer{}'.format(global_epoch, num_c_w, layer_index)] + np.array(globals()['L{}_layer{}_w_c'.format(i,layer_index)])   # 일반 클러스터링\n"
     ]
    },
    {
     "name": "stdout",
     "output_type": "stream",
     "text": [
      "45  번째 global_epoch 데이터 랜덤 준비완료!!\n",
      "\n",
      "\n",
      "45  번째 global epoch에서 로컬 클라이언트 들 학습시작!\n",
      "\n",
      "학습 중 ...\n",
      "\n",
      "16/16 - 1s - loss: 0.6228 - accuracy: 0.8820\n",
      "16/16 - 1s - loss: 0.8334 - accuracy: 0.8760\n",
      "16/16 - 1s - loss: 0.5490 - accuracy: 0.8940\n",
      "16/16 - 1s - loss: 0.7164 - accuracy: 0.8600\n",
      "16/16 - 1s - loss: 0.7664 - accuracy: 0.8940\n",
      "16/16 - 1s - loss: 0.6932 - accuracy: 0.8700\n",
      "16/16 - 1s - loss: 0.6053 - accuracy: 0.8920\n",
      "16/16 - 1s - loss: 0.6993 - accuracy: 0.8800\n",
      "16/16 - 1s - loss: 0.6408 - accuracy: 0.8820\n",
      "16/16 - 1s - loss: 0.7247 - accuracy: 0.8800\n",
      "16/16 - 1s - loss: 0.5966 - accuracy: 0.8880\n",
      "16/16 - 1s - loss: 0.6667 - accuracy: 0.8820\n",
      "16/16 - 1s - loss: 0.4872 - accuracy: 0.9060\n",
      "16/16 - 0s - loss: 0.5960 - accuracy: 0.8960\n",
      "16/16 - 1s - loss: 0.5454 - accuracy: 0.8900\n",
      "16/16 - 1s - loss: 0.7223 - accuracy: 0.8520\n",
      "16/16 - 1s - loss: 0.8304 - accuracy: 0.8780\n",
      "16/16 - 1s - loss: 0.6070 - accuracy: 0.8780\n",
      "16/16 - 1s - loss: 0.6909 - accuracy: 0.8900\n",
      "16/16 - 1s - loss: 0.6982 - accuracy: 0.8500\n",
      "------------    45  번째 global epoch < Clustering > 로컬 클라이언트 학습 완료!,  Total Training time :  2606.323510169983 ---------------------------\n",
      "\n",
      "\n",
      "Layer :  0   클러스터 갯수 정해짐!  갯수 :  2 0\n"
     ]
    },
    {
     "name": "stderr",
     "output_type": "stream",
     "text": [
      "<ipython-input-8-91a1af1a5106>:147: VisibleDeprecationWarning: Creating an ndarray from ragged nested sequences (which is a list-or-tuple of lists-or-tuples-or ndarrays with different lengths or shapes) is deprecated. If you meant to do this, you must specify 'dtype=object' when creating the ndarray\n",
      "  globals()['G{}_c{}_w_layer{}'.format(global_epoch, num_c_w, layer_index)] = globals()['G{}_c{}_w_layer{}'.format(global_epoch, num_c_w, layer_index)] + np.array(globals()['L{}_layer{}_w_c'.format(i,layer_index)])   # 일반 클러스터링\n"
     ]
    },
    {
     "name": "stdout",
     "output_type": "stream",
     "text": [
      "Layer :  2   클러스터 갯수 정해짐!  갯수 :  2 0\n"
     ]
    },
    {
     "name": "stderr",
     "output_type": "stream",
     "text": [
      "<ipython-input-8-91a1af1a5106>:147: VisibleDeprecationWarning: Creating an ndarray from ragged nested sequences (which is a list-or-tuple of lists-or-tuples-or ndarrays with different lengths or shapes) is deprecated. If you meant to do this, you must specify 'dtype=object' when creating the ndarray\n",
      "  globals()['G{}_c{}_w_layer{}'.format(global_epoch, num_c_w, layer_index)] = globals()['G{}_c{}_w_layer{}'.format(global_epoch, num_c_w, layer_index)] + np.array(globals()['L{}_layer{}_w_c'.format(i,layer_index)])   # 일반 클러스터링\n"
     ]
    },
    {
     "name": "stdout",
     "output_type": "stream",
     "text": [
      "Layer :  4   클러스터 갯수 정해짐!  갯수 :  2 0\n"
     ]
    },
    {
     "name": "stderr",
     "output_type": "stream",
     "text": [
      "<ipython-input-8-91a1af1a5106>:147: VisibleDeprecationWarning: Creating an ndarray from ragged nested sequences (which is a list-or-tuple of lists-or-tuples-or ndarrays with different lengths or shapes) is deprecated. If you meant to do this, you must specify 'dtype=object' when creating the ndarray\n",
      "  globals()['G{}_c{}_w_layer{}'.format(global_epoch, num_c_w, layer_index)] = globals()['G{}_c{}_w_layer{}'.format(global_epoch, num_c_w, layer_index)] + np.array(globals()['L{}_layer{}_w_c'.format(i,layer_index)])   # 일반 클러스터링\n"
     ]
    },
    {
     "name": "stdout",
     "output_type": "stream",
     "text": [
      "Layer :  6   클러스터 갯수 정해짐!  갯수 :  2 0\n"
     ]
    },
    {
     "name": "stderr",
     "output_type": "stream",
     "text": [
      "<ipython-input-8-91a1af1a5106>:147: VisibleDeprecationWarning: Creating an ndarray from ragged nested sequences (which is a list-or-tuple of lists-or-tuples-or ndarrays with different lengths or shapes) is deprecated. If you meant to do this, you must specify 'dtype=object' when creating the ndarray\n",
      "  globals()['G{}_c{}_w_layer{}'.format(global_epoch, num_c_w, layer_index)] = globals()['G{}_c{}_w_layer{}'.format(global_epoch, num_c_w, layer_index)] + np.array(globals()['L{}_layer{}_w_c'.format(i,layer_index)])   # 일반 클러스터링\n"
     ]
    },
    {
     "name": "stdout",
     "output_type": "stream",
     "text": [
      "Layer :  7   클러스터 갯수 정해짐!  갯수 :  4 2\n",
      "\n",
      "\n",
      "====================================================== One Global Epoch =====================================================================\n",
      "\n",
      "\n",
      "46  번째 global_epoch 데이터 랜덤하게 준비!!\n"
     ]
    },
    {
     "name": "stderr",
     "output_type": "stream",
     "text": [
      "<ipython-input-8-91a1af1a5106>:147: VisibleDeprecationWarning: Creating an ndarray from ragged nested sequences (which is a list-or-tuple of lists-or-tuples-or ndarrays with different lengths or shapes) is deprecated. If you meant to do this, you must specify 'dtype=object' when creating the ndarray\n",
      "  globals()['G{}_c{}_w_layer{}'.format(global_epoch, num_c_w, layer_index)] = globals()['G{}_c{}_w_layer{}'.format(global_epoch, num_c_w, layer_index)] + np.array(globals()['L{}_layer{}_w_c'.format(i,layer_index)])   # 일반 클러스터링\n"
     ]
    },
    {
     "name": "stdout",
     "output_type": "stream",
     "text": [
      "46  번째 global_epoch 데이터 랜덤 준비완료!!\n",
      "\n",
      "\n",
      "46  번째 global epoch에서 로컬 클라이언트 들 학습시작!\n",
      "\n",
      "학습 중 ...\n",
      "\n",
      "16/16 - 0s - loss: 0.8159 - accuracy: 0.8620\n",
      "16/16 - 1s - loss: 0.5214 - accuracy: 0.8820\n",
      "16/16 - 1s - loss: 0.6299 - accuracy: 0.8900\n",
      "16/16 - 1s - loss: 0.5893 - accuracy: 0.8900\n",
      "16/16 - 1s - loss: 0.7241 - accuracy: 0.8420\n",
      "16/16 - 2s - loss: 0.5148 - accuracy: 0.8960\n",
      "16/16 - 1s - loss: 0.5897 - accuracy: 0.8680\n",
      "16/16 - 1s - loss: 0.6674 - accuracy: 0.8960\n",
      "16/16 - 1s - loss: 0.8189 - accuracy: 0.8480\n",
      "16/16 - 1s - loss: 0.6934 - accuracy: 0.8740\n",
      "16/16 - 1s - loss: 0.5827 - accuracy: 0.8780\n",
      "16/16 - 1s - loss: 0.8920 - accuracy: 0.8560\n",
      "16/16 - 0s - loss: 0.6540 - accuracy: 0.8780\n",
      "16/16 - 1s - loss: 0.7854 - accuracy: 0.8620\n",
      "16/16 - 2s - loss: 0.6490 - accuracy: 0.8940\n",
      "16/16 - 1s - loss: 0.8312 - accuracy: 0.8680\n",
      "16/16 - 1s - loss: 0.4954 - accuracy: 0.8780\n",
      "16/16 - 1s - loss: 0.6739 - accuracy: 0.9000\n",
      "16/16 - 1s - loss: 0.5137 - accuracy: 0.8800\n",
      "16/16 - 1s - loss: 0.5230 - accuracy: 0.8980\n",
      "------------    46  번째 global epoch < Clustering > 로컬 클라이언트 학습 완료!,  Total Training time :  2575.1670293807983 ---------------------------\n",
      "\n",
      "\n",
      "Layer :  0   클러스터 갯수 정해짐!  갯수 :  2 0\n"
     ]
    },
    {
     "name": "stderr",
     "output_type": "stream",
     "text": [
      "<ipython-input-8-91a1af1a5106>:147: VisibleDeprecationWarning: Creating an ndarray from ragged nested sequences (which is a list-or-tuple of lists-or-tuples-or ndarrays with different lengths or shapes) is deprecated. If you meant to do this, you must specify 'dtype=object' when creating the ndarray\n",
      "  globals()['G{}_c{}_w_layer{}'.format(global_epoch, num_c_w, layer_index)] = globals()['G{}_c{}_w_layer{}'.format(global_epoch, num_c_w, layer_index)] + np.array(globals()['L{}_layer{}_w_c'.format(i,layer_index)])   # 일반 클러스터링\n"
     ]
    },
    {
     "name": "stdout",
     "output_type": "stream",
     "text": [
      "Layer :  2   클러스터 갯수 정해짐!  갯수 :  2 0\n"
     ]
    },
    {
     "name": "stderr",
     "output_type": "stream",
     "text": [
      "<ipython-input-8-91a1af1a5106>:147: VisibleDeprecationWarning: Creating an ndarray from ragged nested sequences (which is a list-or-tuple of lists-or-tuples-or ndarrays with different lengths or shapes) is deprecated. If you meant to do this, you must specify 'dtype=object' when creating the ndarray\n",
      "  globals()['G{}_c{}_w_layer{}'.format(global_epoch, num_c_w, layer_index)] = globals()['G{}_c{}_w_layer{}'.format(global_epoch, num_c_w, layer_index)] + np.array(globals()['L{}_layer{}_w_c'.format(i,layer_index)])   # 일반 클러스터링\n"
     ]
    },
    {
     "name": "stdout",
     "output_type": "stream",
     "text": [
      "Layer :  4   클러스터 갯수 정해짐!  갯수 :  2 0\n"
     ]
    },
    {
     "name": "stderr",
     "output_type": "stream",
     "text": [
      "<ipython-input-8-91a1af1a5106>:147: VisibleDeprecationWarning: Creating an ndarray from ragged nested sequences (which is a list-or-tuple of lists-or-tuples-or ndarrays with different lengths or shapes) is deprecated. If you meant to do this, you must specify 'dtype=object' when creating the ndarray\n",
      "  globals()['G{}_c{}_w_layer{}'.format(global_epoch, num_c_w, layer_index)] = globals()['G{}_c{}_w_layer{}'.format(global_epoch, num_c_w, layer_index)] + np.array(globals()['L{}_layer{}_w_c'.format(i,layer_index)])   # 일반 클러스터링\n"
     ]
    },
    {
     "name": "stdout",
     "output_type": "stream",
     "text": [
      "Layer :  6   클러스터 갯수 정해짐!  갯수 :  2 0\n"
     ]
    },
    {
     "name": "stderr",
     "output_type": "stream",
     "text": [
      "<ipython-input-8-91a1af1a5106>:147: VisibleDeprecationWarning: Creating an ndarray from ragged nested sequences (which is a list-or-tuple of lists-or-tuples-or ndarrays with different lengths or shapes) is deprecated. If you meant to do this, you must specify 'dtype=object' when creating the ndarray\n",
      "  globals()['G{}_c{}_w_layer{}'.format(global_epoch, num_c_w, layer_index)] = globals()['G{}_c{}_w_layer{}'.format(global_epoch, num_c_w, layer_index)] + np.array(globals()['L{}_layer{}_w_c'.format(i,layer_index)])   # 일반 클러스터링\n"
     ]
    },
    {
     "name": "stdout",
     "output_type": "stream",
     "text": [
      "Layer :  7   클러스터 갯수 정해짐!  갯수 :  4 2\n",
      "\n",
      "\n",
      "====================================================== One Global Epoch =====================================================================\n",
      "\n",
      "\n",
      "47  번째 global_epoch 데이터 랜덤하게 준비!!\n"
     ]
    },
    {
     "name": "stderr",
     "output_type": "stream",
     "text": [
      "<ipython-input-8-91a1af1a5106>:147: VisibleDeprecationWarning: Creating an ndarray from ragged nested sequences (which is a list-or-tuple of lists-or-tuples-or ndarrays with different lengths or shapes) is deprecated. If you meant to do this, you must specify 'dtype=object' when creating the ndarray\n",
      "  globals()['G{}_c{}_w_layer{}'.format(global_epoch, num_c_w, layer_index)] = globals()['G{}_c{}_w_layer{}'.format(global_epoch, num_c_w, layer_index)] + np.array(globals()['L{}_layer{}_w_c'.format(i,layer_index)])   # 일반 클러스터링\n"
     ]
    },
    {
     "name": "stdout",
     "output_type": "stream",
     "text": [
      "47  번째 global_epoch 데이터 랜덤 준비완료!!\n",
      "\n",
      "\n",
      "47  번째 global epoch에서 로컬 클라이언트 들 학습시작!\n",
      "\n",
      "학습 중 ...\n",
      "\n",
      "16/16 - 1s - loss: 0.6168 - accuracy: 0.8920\n",
      "16/16 - 1s - loss: 0.5885 - accuracy: 0.8980\n",
      "16/16 - 1s - loss: 0.6787 - accuracy: 0.8780\n",
      "16/16 - 1s - loss: 0.6558 - accuracy: 0.8680\n",
      "16/16 - 1s - loss: 0.5855 - accuracy: 0.8720\n",
      "16/16 - 1s - loss: 0.6104 - accuracy: 0.8660\n",
      "16/16 - 1s - loss: 0.4921 - accuracy: 0.9140\n",
      "16/16 - 2s - loss: 0.8336 - accuracy: 0.8660\n",
      "16/16 - 1s - loss: 0.7049 - accuracy: 0.8900\n",
      "16/16 - 2s - loss: 0.4159 - accuracy: 0.9120\n",
      "16/16 - 1s - loss: 0.7543 - accuracy: 0.8780\n",
      "16/16 - 2s - loss: 0.7833 - accuracy: 0.8680\n",
      "16/16 - 1s - loss: 0.6928 - accuracy: 0.8840\n",
      "16/16 - 1s - loss: 0.7968 - accuracy: 0.8680\n",
      "16/16 - 1s - loss: 0.6765 - accuracy: 0.8640\n",
      "16/16 - 1s - loss: 0.7632 - accuracy: 0.8560\n",
      "16/16 - 1s - loss: 0.5413 - accuracy: 0.8920\n",
      "16/16 - 1s - loss: 0.5747 - accuracy: 0.8920\n",
      "16/16 - 1s - loss: 0.6638 - accuracy: 0.8680\n",
      "16/16 - 1s - loss: 0.7670 - accuracy: 0.8580\n",
      "------------    47  번째 global epoch < Clustering > 로컬 클라이언트 학습 완료!,  Total Training time :  2730.6878926754 ---------------------------\n",
      "\n",
      "\n",
      "Layer :  0   클러스터 갯수 정해짐!  갯수 :  2 0\n"
     ]
    },
    {
     "name": "stderr",
     "output_type": "stream",
     "text": [
      "<ipython-input-8-91a1af1a5106>:147: VisibleDeprecationWarning: Creating an ndarray from ragged nested sequences (which is a list-or-tuple of lists-or-tuples-or ndarrays with different lengths or shapes) is deprecated. If you meant to do this, you must specify 'dtype=object' when creating the ndarray\n",
      "  globals()['G{}_c{}_w_layer{}'.format(global_epoch, num_c_w, layer_index)] = globals()['G{}_c{}_w_layer{}'.format(global_epoch, num_c_w, layer_index)] + np.array(globals()['L{}_layer{}_w_c'.format(i,layer_index)])   # 일반 클러스터링\n"
     ]
    },
    {
     "name": "stdout",
     "output_type": "stream",
     "text": [
      "Layer :  2   클러스터 갯수 정해짐!  갯수 :  2 0\n"
     ]
    },
    {
     "name": "stderr",
     "output_type": "stream",
     "text": [
      "<ipython-input-8-91a1af1a5106>:147: VisibleDeprecationWarning: Creating an ndarray from ragged nested sequences (which is a list-or-tuple of lists-or-tuples-or ndarrays with different lengths or shapes) is deprecated. If you meant to do this, you must specify 'dtype=object' when creating the ndarray\n",
      "  globals()['G{}_c{}_w_layer{}'.format(global_epoch, num_c_w, layer_index)] = globals()['G{}_c{}_w_layer{}'.format(global_epoch, num_c_w, layer_index)] + np.array(globals()['L{}_layer{}_w_c'.format(i,layer_index)])   # 일반 클러스터링\n"
     ]
    },
    {
     "name": "stdout",
     "output_type": "stream",
     "text": [
      "Layer :  4   클러스터 갯수 정해짐!  갯수 :  2 0\n"
     ]
    },
    {
     "name": "stderr",
     "output_type": "stream",
     "text": [
      "<ipython-input-8-91a1af1a5106>:147: VisibleDeprecationWarning: Creating an ndarray from ragged nested sequences (which is a list-or-tuple of lists-or-tuples-or ndarrays with different lengths or shapes) is deprecated. If you meant to do this, you must specify 'dtype=object' when creating the ndarray\n",
      "  globals()['G{}_c{}_w_layer{}'.format(global_epoch, num_c_w, layer_index)] = globals()['G{}_c{}_w_layer{}'.format(global_epoch, num_c_w, layer_index)] + np.array(globals()['L{}_layer{}_w_c'.format(i,layer_index)])   # 일반 클러스터링\n"
     ]
    },
    {
     "name": "stdout",
     "output_type": "stream",
     "text": [
      "Layer :  6   클러스터 갯수 정해짐!  갯수 :  2 0\n"
     ]
    },
    {
     "name": "stderr",
     "output_type": "stream",
     "text": [
      "<ipython-input-8-91a1af1a5106>:147: VisibleDeprecationWarning: Creating an ndarray from ragged nested sequences (which is a list-or-tuple of lists-or-tuples-or ndarrays with different lengths or shapes) is deprecated. If you meant to do this, you must specify 'dtype=object' when creating the ndarray\n",
      "  globals()['G{}_c{}_w_layer{}'.format(global_epoch, num_c_w, layer_index)] = globals()['G{}_c{}_w_layer{}'.format(global_epoch, num_c_w, layer_index)] + np.array(globals()['L{}_layer{}_w_c'.format(i,layer_index)])   # 일반 클러스터링\n"
     ]
    },
    {
     "name": "stdout",
     "output_type": "stream",
     "text": [
      "Layer :  7   클러스터 갯수 정해짐!  갯수 :  4 2\n",
      "\n",
      "\n",
      "====================================================== One Global Epoch =====================================================================\n",
      "\n",
      "\n",
      "48  번째 global_epoch 데이터 랜덤하게 준비!!\n"
     ]
    },
    {
     "name": "stderr",
     "output_type": "stream",
     "text": [
      "<ipython-input-8-91a1af1a5106>:147: VisibleDeprecationWarning: Creating an ndarray from ragged nested sequences (which is a list-or-tuple of lists-or-tuples-or ndarrays with different lengths or shapes) is deprecated. If you meant to do this, you must specify 'dtype=object' when creating the ndarray\n",
      "  globals()['G{}_c{}_w_layer{}'.format(global_epoch, num_c_w, layer_index)] = globals()['G{}_c{}_w_layer{}'.format(global_epoch, num_c_w, layer_index)] + np.array(globals()['L{}_layer{}_w_c'.format(i,layer_index)])   # 일반 클러스터링\n"
     ]
    },
    {
     "name": "stdout",
     "output_type": "stream",
     "text": [
      "48  번째 global_epoch 데이터 랜덤 준비완료!!\n",
      "\n",
      "\n",
      "48  번째 global epoch에서 로컬 클라이언트 들 학습시작!\n",
      "\n",
      "학습 중 ...\n",
      "\n",
      "16/16 - 1s - loss: 0.5951 - accuracy: 0.8680\n",
      "16/16 - 1s - loss: 0.7418 - accuracy: 0.8780\n",
      "16/16 - 1s - loss: 0.6308 - accuracy: 0.8680\n",
      "16/16 - 1s - loss: 0.8172 - accuracy: 0.8860\n",
      "16/16 - 1s - loss: 0.5867 - accuracy: 0.8760\n",
      "16/16 - 2s - loss: 0.5510 - accuracy: 0.8720\n",
      "16/16 - 1s - loss: 0.6304 - accuracy: 0.9020\n",
      "16/16 - 1s - loss: 0.4578 - accuracy: 0.9000\n",
      "16/16 - 1s - loss: 0.8357 - accuracy: 0.8760\n",
      "16/16 - 1s - loss: 0.7898 - accuracy: 0.8700\n",
      "16/16 - 1s - loss: 0.4938 - accuracy: 0.8880\n",
      "16/16 - 1s - loss: 0.6531 - accuracy: 0.8900\n",
      "16/16 - 2s - loss: 0.6345 - accuracy: 0.8740\n",
      "16/16 - 2s - loss: 0.5519 - accuracy: 0.8960\n",
      "16/16 - 2s - loss: 0.7075 - accuracy: 0.8580\n",
      "16/16 - 1s - loss: 0.8102 - accuracy: 0.8420\n",
      "16/16 - 1s - loss: 0.6606 - accuracy: 0.8820\n",
      "16/16 - 1s - loss: 0.4658 - accuracy: 0.8980\n",
      "16/16 - 1s - loss: 0.8531 - accuracy: 0.8760\n",
      "16/16 - 1s - loss: 0.4578 - accuracy: 0.9000\n",
      "------------    48  번째 global epoch < Clustering > 로컬 클라이언트 학습 완료!,  Total Training time :  3277.8786356449127 ---------------------------\n",
      "\n",
      "\n",
      "Layer :  0   클러스터 갯수 정해짐!  갯수 :  2 0\n"
     ]
    },
    {
     "name": "stderr",
     "output_type": "stream",
     "text": [
      "<ipython-input-8-91a1af1a5106>:147: VisibleDeprecationWarning: Creating an ndarray from ragged nested sequences (which is a list-or-tuple of lists-or-tuples-or ndarrays with different lengths or shapes) is deprecated. If you meant to do this, you must specify 'dtype=object' when creating the ndarray\n",
      "  globals()['G{}_c{}_w_layer{}'.format(global_epoch, num_c_w, layer_index)] = globals()['G{}_c{}_w_layer{}'.format(global_epoch, num_c_w, layer_index)] + np.array(globals()['L{}_layer{}_w_c'.format(i,layer_index)])   # 일반 클러스터링\n"
     ]
    },
    {
     "name": "stdout",
     "output_type": "stream",
     "text": [
      "Layer :  2   클러스터 갯수 정해짐!  갯수 :  2 0\n"
     ]
    },
    {
     "name": "stderr",
     "output_type": "stream",
     "text": [
      "<ipython-input-8-91a1af1a5106>:147: VisibleDeprecationWarning: Creating an ndarray from ragged nested sequences (which is a list-or-tuple of lists-or-tuples-or ndarrays with different lengths or shapes) is deprecated. If you meant to do this, you must specify 'dtype=object' when creating the ndarray\n",
      "  globals()['G{}_c{}_w_layer{}'.format(global_epoch, num_c_w, layer_index)] = globals()['G{}_c{}_w_layer{}'.format(global_epoch, num_c_w, layer_index)] + np.array(globals()['L{}_layer{}_w_c'.format(i,layer_index)])   # 일반 클러스터링\n"
     ]
    },
    {
     "name": "stdout",
     "output_type": "stream",
     "text": [
      "Layer :  4   클러스터 갯수 정해짐!  갯수 :  2 0\n"
     ]
    },
    {
     "name": "stderr",
     "output_type": "stream",
     "text": [
      "<ipython-input-8-91a1af1a5106>:147: VisibleDeprecationWarning: Creating an ndarray from ragged nested sequences (which is a list-or-tuple of lists-or-tuples-or ndarrays with different lengths or shapes) is deprecated. If you meant to do this, you must specify 'dtype=object' when creating the ndarray\n",
      "  globals()['G{}_c{}_w_layer{}'.format(global_epoch, num_c_w, layer_index)] = globals()['G{}_c{}_w_layer{}'.format(global_epoch, num_c_w, layer_index)] + np.array(globals()['L{}_layer{}_w_c'.format(i,layer_index)])   # 일반 클러스터링\n"
     ]
    },
    {
     "name": "stdout",
     "output_type": "stream",
     "text": [
      "Layer :  6   클러스터 갯수 정해짐!  갯수 :  2 0\n"
     ]
    },
    {
     "name": "stderr",
     "output_type": "stream",
     "text": [
      "<ipython-input-8-91a1af1a5106>:147: VisibleDeprecationWarning: Creating an ndarray from ragged nested sequences (which is a list-or-tuple of lists-or-tuples-or ndarrays with different lengths or shapes) is deprecated. If you meant to do this, you must specify 'dtype=object' when creating the ndarray\n",
      "  globals()['G{}_c{}_w_layer{}'.format(global_epoch, num_c_w, layer_index)] = globals()['G{}_c{}_w_layer{}'.format(global_epoch, num_c_w, layer_index)] + np.array(globals()['L{}_layer{}_w_c'.format(i,layer_index)])   # 일반 클러스터링\n"
     ]
    },
    {
     "name": "stdout",
     "output_type": "stream",
     "text": [
      "Layer :  7   클러스터 갯수 정해짐!  갯수 :  4 2\n",
      "\n",
      "\n",
      "====================================================== One Global Epoch =====================================================================\n",
      "\n",
      "\n",
      "49  번째 global_epoch 데이터 랜덤하게 준비!!\n"
     ]
    },
    {
     "name": "stderr",
     "output_type": "stream",
     "text": [
      "<ipython-input-8-91a1af1a5106>:147: VisibleDeprecationWarning: Creating an ndarray from ragged nested sequences (which is a list-or-tuple of lists-or-tuples-or ndarrays with different lengths or shapes) is deprecated. If you meant to do this, you must specify 'dtype=object' when creating the ndarray\n",
      "  globals()['G{}_c{}_w_layer{}'.format(global_epoch, num_c_w, layer_index)] = globals()['G{}_c{}_w_layer{}'.format(global_epoch, num_c_w, layer_index)] + np.array(globals()['L{}_layer{}_w_c'.format(i,layer_index)])   # 일반 클러스터링\n"
     ]
    },
    {
     "name": "stdout",
     "output_type": "stream",
     "text": [
      "49  번째 global_epoch 데이터 랜덤 준비완료!!\n",
      "\n",
      "\n",
      "49  번째 global epoch에서 로컬 클라이언트 들 학습시작!\n",
      "\n",
      "학습 중 ...\n",
      "\n",
      "16/16 - 1s - loss: 0.7035 - accuracy: 0.8940\n",
      "16/16 - 2s - loss: 0.6574 - accuracy: 0.8600\n",
      "16/16 - 1s - loss: 0.7174 - accuracy: 0.8720\n",
      "16/16 - 2s - loss: 0.6817 - accuracy: 0.8680\n",
      "16/16 - 1s - loss: 0.4571 - accuracy: 0.9140\n",
      "16/16 - 1s - loss: 0.6594 - accuracy: 0.8700\n",
      "16/16 - 2s - loss: 0.6065 - accuracy: 0.8840\n",
      "16/16 - 1s - loss: 0.5785 - accuracy: 0.8960\n",
      "16/16 - 2s - loss: 0.6251 - accuracy: 0.8860\n",
      "16/16 - 1s - loss: 0.6596 - accuracy: 0.8820\n",
      "16/16 - 1s - loss: 0.6016 - accuracy: 0.8880\n",
      "16/16 - 2s - loss: 0.7985 - accuracy: 0.8760\n",
      "16/16 - 2s - loss: 0.7983 - accuracy: 0.8440\n",
      "16/16 - 2s - loss: 0.6505 - accuracy: 0.8880\n",
      "16/16 - 1s - loss: 0.7854 - accuracy: 0.8660\n",
      "16/16 - 1s - loss: 0.7072 - accuracy: 0.8280\n",
      "16/16 - 1s - loss: 0.5896 - accuracy: 0.8980\n",
      "16/16 - 1s - loss: 0.7688 - accuracy: 0.8680\n"
     ]
    },
    {
     "ename": "KeyboardInterrupt",
     "evalue": "",
     "output_type": "error",
     "traceback": [
      "\u001b[1;31m---------------------------------------------------------------------------\u001b[0m",
      "\u001b[1;31mKeyboardInterrupt\u001b[0m                         Traceback (most recent call last)",
      "\u001b[1;32m<ipython-input-8-91a1af1a5106>\u001b[0m in \u001b[0;36m<module>\u001b[1;34m\u001b[0m\n\u001b[0;32m     66\u001b[0m     \u001b[1;32mfor\u001b[0m \u001b[0mi\u001b[0m \u001b[1;32min\u001b[0m \u001b[0mrange\u001b[0m\u001b[1;33m(\u001b[0m\u001b[1;36m1\u001b[0m\u001b[1;33m,\u001b[0m \u001b[0mlocal\u001b[0m\u001b[1;33m)\u001b[0m\u001b[1;33m:\u001b[0m\u001b[1;33m\u001b[0m\u001b[1;33m\u001b[0m\u001b[0m\n\u001b[0;32m     67\u001b[0m         \u001b[0mglobals\u001b[0m\u001b[1;33m(\u001b[0m\u001b[1;33m)\u001b[0m\u001b[1;33m[\u001b[0m\u001b[1;34m'G{}_c_L{}_model'\u001b[0m\u001b[1;33m.\u001b[0m\u001b[0mformat\u001b[0m\u001b[1;33m(\u001b[0m\u001b[0mglobal_epoch\u001b[0m\u001b[1;33m,\u001b[0m \u001b[0mi\u001b[0m\u001b[1;33m)\u001b[0m\u001b[1;33m]\u001b[0m\u001b[1;33m.\u001b[0m\u001b[0mcompile\u001b[0m\u001b[1;33m(\u001b[0m\u001b[0mloss\u001b[0m\u001b[1;33m=\u001b[0m\u001b[1;34m\"categorical_crossentropy\"\u001b[0m\u001b[1;33m,\u001b[0m \u001b[0moptimizer\u001b[0m\u001b[1;33m=\u001b[0m\u001b[1;34m\"adam\"\u001b[0m\u001b[1;33m,\u001b[0m \u001b[0mmetrics\u001b[0m\u001b[1;33m=\u001b[0m\u001b[1;33m[\u001b[0m\u001b[1;34m\"accuracy\"\u001b[0m\u001b[1;33m]\u001b[0m\u001b[1;33m)\u001b[0m  \u001b[1;31m#Cluster => 알맞는 클러스터에 넣기\u001b[0m\u001b[1;33m\u001b[0m\u001b[1;33m\u001b[0m\u001b[0m\n\u001b[1;32m---> 68\u001b[1;33m         \u001b[0mglobals\u001b[0m\u001b[1;33m(\u001b[0m\u001b[1;33m)\u001b[0m\u001b[1;33m[\u001b[0m\u001b[1;34m'G{}_c_L{}_model'\u001b[0m\u001b[1;33m.\u001b[0m\u001b[0mformat\u001b[0m\u001b[1;33m(\u001b[0m\u001b[0mglobal_epoch\u001b[0m\u001b[1;33m,\u001b[0m \u001b[0mi\u001b[0m\u001b[1;33m)\u001b[0m\u001b[1;33m]\u001b[0m\u001b[1;33m.\u001b[0m\u001b[0mfit\u001b[0m\u001b[1;33m(\u001b[0m\u001b[0mglobals\u001b[0m\u001b[1;33m(\u001b[0m\u001b[1;33m)\u001b[0m\u001b[1;33m[\u001b[0m\u001b[1;34m'L{}_x_train'\u001b[0m\u001b[1;33m.\u001b[0m\u001b[0mformat\u001b[0m\u001b[1;33m(\u001b[0m\u001b[0mi\u001b[0m\u001b[1;33m)\u001b[0m\u001b[1;33m]\u001b[0m\u001b[1;33m,\u001b[0m \u001b[0mglobals\u001b[0m\u001b[1;33m(\u001b[0m\u001b[1;33m)\u001b[0m\u001b[1;33m[\u001b[0m\u001b[1;34m'L{}_y_train'\u001b[0m\u001b[1;33m.\u001b[0m\u001b[0mformat\u001b[0m\u001b[1;33m(\u001b[0m\u001b[0mi\u001b[0m\u001b[1;33m)\u001b[0m\u001b[1;33m]\u001b[0m\u001b[1;33m,\u001b[0m \u001b[0mbatch_size\u001b[0m\u001b[1;33m=\u001b[0m\u001b[0mbatch_size\u001b[0m\u001b[1;33m,\u001b[0m \u001b[0mepochs\u001b[0m\u001b[1;33m=\u001b[0m\u001b[0mepochs\u001b[0m\u001b[1;33m,\u001b[0m \u001b[0mvalidation_split\u001b[0m\u001b[1;33m=\u001b[0m\u001b[1;36m0.1\u001b[0m\u001b[1;33m,\u001b[0m \u001b[0mverbose\u001b[0m\u001b[1;33m=\u001b[0m\u001b[1;36m0\u001b[0m\u001b[1;33m)\u001b[0m\u001b[1;33m\u001b[0m\u001b[1;33m\u001b[0m\u001b[0m\n\u001b[0m\u001b[0;32m     69\u001b[0m         \u001b[0mloss\u001b[0m\u001b[1;33m,\u001b[0m \u001b[0macc\u001b[0m \u001b[1;33m=\u001b[0m \u001b[0mglobals\u001b[0m\u001b[1;33m(\u001b[0m\u001b[1;33m)\u001b[0m\u001b[1;33m[\u001b[0m\u001b[1;34m'G{}_c_L{}_model'\u001b[0m\u001b[1;33m.\u001b[0m\u001b[0mformat\u001b[0m\u001b[1;33m(\u001b[0m\u001b[0mglobal_epoch\u001b[0m\u001b[1;33m,\u001b[0m \u001b[0mi\u001b[0m\u001b[1;33m)\u001b[0m\u001b[1;33m]\u001b[0m\u001b[1;33m.\u001b[0m\u001b[0mevaluate\u001b[0m\u001b[1;33m(\u001b[0m\u001b[0mglobals\u001b[0m\u001b[1;33m(\u001b[0m\u001b[1;33m)\u001b[0m\u001b[1;33m[\u001b[0m\u001b[1;34m'L{}_x_test'\u001b[0m\u001b[1;33m.\u001b[0m\u001b[0mformat\u001b[0m\u001b[1;33m(\u001b[0m\u001b[0mi\u001b[0m\u001b[1;33m)\u001b[0m\u001b[1;33m]\u001b[0m\u001b[1;33m,\u001b[0m \u001b[0mglobals\u001b[0m\u001b[1;33m(\u001b[0m\u001b[1;33m)\u001b[0m\u001b[1;33m[\u001b[0m\u001b[1;34m'L{}_y_test'\u001b[0m\u001b[1;33m.\u001b[0m\u001b[0mformat\u001b[0m\u001b[1;33m(\u001b[0m\u001b[0mi\u001b[0m\u001b[1;33m)\u001b[0m\u001b[1;33m]\u001b[0m\u001b[1;33m,\u001b[0m \u001b[0mverbose\u001b[0m\u001b[1;33m=\u001b[0m\u001b[1;36m2\u001b[0m\u001b[1;33m)\u001b[0m\u001b[1;33m\u001b[0m\u001b[1;33m\u001b[0m\u001b[0m\n\u001b[0;32m     70\u001b[0m \u001b[1;33m\u001b[0m\u001b[0m\n",
      "\u001b[1;32m~\\Anaconda3\\lib\\site-packages\\tensorflow\\python\\keras\\engine\\training.py\u001b[0m in \u001b[0;36mfit\u001b[1;34m(self, x, y, batch_size, epochs, verbose, callbacks, validation_split, validation_data, shuffle, class_weight, sample_weight, initial_epoch, steps_per_epoch, validation_steps, validation_batch_size, validation_freq, max_queue_size, workers, use_multiprocessing)\u001b[0m\n\u001b[0;32m   1181\u001b[0m                 _r=1):\n\u001b[0;32m   1182\u001b[0m               \u001b[0mcallbacks\u001b[0m\u001b[1;33m.\u001b[0m\u001b[0mon_train_batch_begin\u001b[0m\u001b[1;33m(\u001b[0m\u001b[0mstep\u001b[0m\u001b[1;33m)\u001b[0m\u001b[1;33m\u001b[0m\u001b[1;33m\u001b[0m\u001b[0m\n\u001b[1;32m-> 1183\u001b[1;33m               \u001b[0mtmp_logs\u001b[0m \u001b[1;33m=\u001b[0m \u001b[0mself\u001b[0m\u001b[1;33m.\u001b[0m\u001b[0mtrain_function\u001b[0m\u001b[1;33m(\u001b[0m\u001b[0miterator\u001b[0m\u001b[1;33m)\u001b[0m\u001b[1;33m\u001b[0m\u001b[1;33m\u001b[0m\u001b[0m\n\u001b[0m\u001b[0;32m   1184\u001b[0m               \u001b[1;32mif\u001b[0m \u001b[0mdata_handler\u001b[0m\u001b[1;33m.\u001b[0m\u001b[0mshould_sync\u001b[0m\u001b[1;33m:\u001b[0m\u001b[1;33m\u001b[0m\u001b[1;33m\u001b[0m\u001b[0m\n\u001b[0;32m   1185\u001b[0m                 \u001b[0mcontext\u001b[0m\u001b[1;33m.\u001b[0m\u001b[0masync_wait\u001b[0m\u001b[1;33m(\u001b[0m\u001b[1;33m)\u001b[0m\u001b[1;33m\u001b[0m\u001b[1;33m\u001b[0m\u001b[0m\n",
      "\u001b[1;32m~\\Anaconda3\\lib\\site-packages\\tensorflow\\python\\eager\\def_function.py\u001b[0m in \u001b[0;36m__call__\u001b[1;34m(self, *args, **kwds)\u001b[0m\n\u001b[0;32m    887\u001b[0m \u001b[1;33m\u001b[0m\u001b[0m\n\u001b[0;32m    888\u001b[0m       \u001b[1;32mwith\u001b[0m \u001b[0mOptionalXlaContext\u001b[0m\u001b[1;33m(\u001b[0m\u001b[0mself\u001b[0m\u001b[1;33m.\u001b[0m\u001b[0m_jit_compile\u001b[0m\u001b[1;33m)\u001b[0m\u001b[1;33m:\u001b[0m\u001b[1;33m\u001b[0m\u001b[1;33m\u001b[0m\u001b[0m\n\u001b[1;32m--> 889\u001b[1;33m         \u001b[0mresult\u001b[0m \u001b[1;33m=\u001b[0m \u001b[0mself\u001b[0m\u001b[1;33m.\u001b[0m\u001b[0m_call\u001b[0m\u001b[1;33m(\u001b[0m\u001b[1;33m*\u001b[0m\u001b[0margs\u001b[0m\u001b[1;33m,\u001b[0m \u001b[1;33m**\u001b[0m\u001b[0mkwds\u001b[0m\u001b[1;33m)\u001b[0m\u001b[1;33m\u001b[0m\u001b[1;33m\u001b[0m\u001b[0m\n\u001b[0m\u001b[0;32m    890\u001b[0m \u001b[1;33m\u001b[0m\u001b[0m\n\u001b[0;32m    891\u001b[0m       \u001b[0mnew_tracing_count\u001b[0m \u001b[1;33m=\u001b[0m \u001b[0mself\u001b[0m\u001b[1;33m.\u001b[0m\u001b[0mexperimental_get_tracing_count\u001b[0m\u001b[1;33m(\u001b[0m\u001b[1;33m)\u001b[0m\u001b[1;33m\u001b[0m\u001b[1;33m\u001b[0m\u001b[0m\n",
      "\u001b[1;32m~\\Anaconda3\\lib\\site-packages\\tensorflow\\python\\eager\\def_function.py\u001b[0m in \u001b[0;36m_call\u001b[1;34m(self, *args, **kwds)\u001b[0m\n\u001b[0;32m    915\u001b[0m       \u001b[1;31m# In this case we have created variables on the first call, so we run the\u001b[0m\u001b[1;33m\u001b[0m\u001b[1;33m\u001b[0m\u001b[1;33m\u001b[0m\u001b[0m\n\u001b[0;32m    916\u001b[0m       \u001b[1;31m# defunned version which is guaranteed to never create variables.\u001b[0m\u001b[1;33m\u001b[0m\u001b[1;33m\u001b[0m\u001b[1;33m\u001b[0m\u001b[0m\n\u001b[1;32m--> 917\u001b[1;33m       \u001b[1;32mreturn\u001b[0m \u001b[0mself\u001b[0m\u001b[1;33m.\u001b[0m\u001b[0m_stateless_fn\u001b[0m\u001b[1;33m(\u001b[0m\u001b[1;33m*\u001b[0m\u001b[0margs\u001b[0m\u001b[1;33m,\u001b[0m \u001b[1;33m**\u001b[0m\u001b[0mkwds\u001b[0m\u001b[1;33m)\u001b[0m  \u001b[1;31m# pylint: disable=not-callable\u001b[0m\u001b[1;33m\u001b[0m\u001b[1;33m\u001b[0m\u001b[0m\n\u001b[0m\u001b[0;32m    918\u001b[0m     \u001b[1;32melif\u001b[0m \u001b[0mself\u001b[0m\u001b[1;33m.\u001b[0m\u001b[0m_stateful_fn\u001b[0m \u001b[1;32mis\u001b[0m \u001b[1;32mnot\u001b[0m \u001b[1;32mNone\u001b[0m\u001b[1;33m:\u001b[0m\u001b[1;33m\u001b[0m\u001b[1;33m\u001b[0m\u001b[0m\n\u001b[0;32m    919\u001b[0m       \u001b[1;31m# Release the lock early so that multiple threads can perform the call\u001b[0m\u001b[1;33m\u001b[0m\u001b[1;33m\u001b[0m\u001b[1;33m\u001b[0m\u001b[0m\n",
      "\u001b[1;32m~\\Anaconda3\\lib\\site-packages\\tensorflow\\python\\eager\\function.py\u001b[0m in \u001b[0;36m__call__\u001b[1;34m(self, *args, **kwargs)\u001b[0m\n\u001b[0;32m   3021\u001b[0m       (graph_function,\n\u001b[0;32m   3022\u001b[0m        filtered_flat_args) = self._maybe_define_function(args, kwargs)\n\u001b[1;32m-> 3023\u001b[1;33m     return graph_function._call_flat(\n\u001b[0m\u001b[0;32m   3024\u001b[0m         filtered_flat_args, captured_inputs=graph_function.captured_inputs)  # pylint: disable=protected-access\n\u001b[0;32m   3025\u001b[0m \u001b[1;33m\u001b[0m\u001b[0m\n",
      "\u001b[1;32m~\\Anaconda3\\lib\\site-packages\\tensorflow\\python\\eager\\function.py\u001b[0m in \u001b[0;36m_call_flat\u001b[1;34m(self, args, captured_inputs, cancellation_manager)\u001b[0m\n\u001b[0;32m   1958\u001b[0m         and executing_eagerly):\n\u001b[0;32m   1959\u001b[0m       \u001b[1;31m# No tape is watching; skip to running the function.\u001b[0m\u001b[1;33m\u001b[0m\u001b[1;33m\u001b[0m\u001b[1;33m\u001b[0m\u001b[0m\n\u001b[1;32m-> 1960\u001b[1;33m       return self._build_call_outputs(self._inference_function.call(\n\u001b[0m\u001b[0;32m   1961\u001b[0m           ctx, args, cancellation_manager=cancellation_manager))\n\u001b[0;32m   1962\u001b[0m     forward_backward = self._select_forward_and_backward_functions(\n",
      "\u001b[1;32m~\\Anaconda3\\lib\\site-packages\\tensorflow\\python\\eager\\function.py\u001b[0m in \u001b[0;36mcall\u001b[1;34m(self, ctx, args, cancellation_manager)\u001b[0m\n\u001b[0;32m    589\u001b[0m       \u001b[1;32mwith\u001b[0m \u001b[0m_InterpolateFunctionError\u001b[0m\u001b[1;33m(\u001b[0m\u001b[0mself\u001b[0m\u001b[1;33m)\u001b[0m\u001b[1;33m:\u001b[0m\u001b[1;33m\u001b[0m\u001b[1;33m\u001b[0m\u001b[0m\n\u001b[0;32m    590\u001b[0m         \u001b[1;32mif\u001b[0m \u001b[0mcancellation_manager\u001b[0m \u001b[1;32mis\u001b[0m \u001b[1;32mNone\u001b[0m\u001b[1;33m:\u001b[0m\u001b[1;33m\u001b[0m\u001b[1;33m\u001b[0m\u001b[0m\n\u001b[1;32m--> 591\u001b[1;33m           outputs = execute.execute(\n\u001b[0m\u001b[0;32m    592\u001b[0m               \u001b[0mstr\u001b[0m\u001b[1;33m(\u001b[0m\u001b[0mself\u001b[0m\u001b[1;33m.\u001b[0m\u001b[0msignature\u001b[0m\u001b[1;33m.\u001b[0m\u001b[0mname\u001b[0m\u001b[1;33m)\u001b[0m\u001b[1;33m,\u001b[0m\u001b[1;33m\u001b[0m\u001b[1;33m\u001b[0m\u001b[0m\n\u001b[0;32m    593\u001b[0m               \u001b[0mnum_outputs\u001b[0m\u001b[1;33m=\u001b[0m\u001b[0mself\u001b[0m\u001b[1;33m.\u001b[0m\u001b[0m_num_outputs\u001b[0m\u001b[1;33m,\u001b[0m\u001b[1;33m\u001b[0m\u001b[1;33m\u001b[0m\u001b[0m\n",
      "\u001b[1;32m~\\Anaconda3\\lib\\site-packages\\tensorflow\\python\\eager\\execute.py\u001b[0m in \u001b[0;36mquick_execute\u001b[1;34m(op_name, num_outputs, inputs, attrs, ctx, name)\u001b[0m\n\u001b[0;32m     57\u001b[0m   \u001b[1;32mtry\u001b[0m\u001b[1;33m:\u001b[0m\u001b[1;33m\u001b[0m\u001b[1;33m\u001b[0m\u001b[0m\n\u001b[0;32m     58\u001b[0m     \u001b[0mctx\u001b[0m\u001b[1;33m.\u001b[0m\u001b[0mensure_initialized\u001b[0m\u001b[1;33m(\u001b[0m\u001b[1;33m)\u001b[0m\u001b[1;33m\u001b[0m\u001b[1;33m\u001b[0m\u001b[0m\n\u001b[1;32m---> 59\u001b[1;33m     tensors = pywrap_tfe.TFE_Py_Execute(ctx._handle, device_name, op_name,\n\u001b[0m\u001b[0;32m     60\u001b[0m                                         inputs, attrs, num_outputs)\n\u001b[0;32m     61\u001b[0m   \u001b[1;32mexcept\u001b[0m \u001b[0mcore\u001b[0m\u001b[1;33m.\u001b[0m\u001b[0m_NotOkStatusException\u001b[0m \u001b[1;32mas\u001b[0m \u001b[0me\u001b[0m\u001b[1;33m:\u001b[0m\u001b[1;33m\u001b[0m\u001b[1;33m\u001b[0m\u001b[0m\n",
      "\u001b[1;31mKeyboardInterrupt\u001b[0m: "
     ]
    }
   ],
   "source": [
    "G_epoch = 51\n",
    "\n",
    "for global_epoch in range(1, G_epoch):\n",
    "\n",
    "    for i in range(1, local):\n",
    "        if global_epoch == 1:\n",
    "            globals()['G{}_c_L{}_model'.format(global_epoch, i)] = globals()['FedAvg_L{}_iter{}_model'.format(i,global_epoch-1)]   #모델 넣어줌 (우리는 구조만 필요한 것)\n",
    "        else:\n",
    "            globals()['G{}_c_L{}_model'.format(global_epoch, i)] = globals()['G{}_c_L{}_model'.format(global_epoch-1, i)]   #모델 넣어줌 (우리는 구조만 필요한 것)\n",
    "\n",
    "        for layer_index in num_layers_list: \n",
    "            num_c = globals()['G{}_num_clusters_in_layer{}_w'.format(global_epoch-1, layer_index)]   \n",
    "    \n",
    "            for ccc in range(num_c):\n",
    "                if globals()['w_layer{}_label'.format(layer_index)][i-1] == ccc:    #현재 로컬 레이어의 군집 결과 == ccc\n",
    "                    globals()['G{}_c_L{}_model'.format(global_epoch, i)].layers[layer_index].set_weights(globals()['G{}_c{}_w_layer{}'.format(global_epoch-1, ccc, layer_index) ])  # 클러스터용 로컬 모델 선언\n",
    "                    \n",
    "                  \n",
    "        \n",
    "\n",
    "    #----------------------------------------------------------------데이터 새로 준비----------------------------------------------------------------------------------\n",
    "    print(global_epoch, \" 번째 global_epoch 데이터 랜덤하게 준비!!\")\n",
    "\n",
    "\n",
    "    for i in range(1,local):\n",
    "        globals()['L{}_x_train'.format(i)], globals()['L{}_x_test'.format(i)] = [], []\n",
    "        globals()['L{}_y_train'.format(i)], globals()['L{}_y_test'.format(i)] = [], []  \n",
    "        \n",
    "    x_train_range = list(np.arange(0,len(x_train)))  #0~59,999\n",
    "    x_test_range = list(np.arange(0,len(x_test)))  #0~9,999\n",
    "\n",
    "    for n in range(1,local): #Data_x_train_range, 잘 작동함 => 확인 완료\n",
    "        tmp, tmp2 = [], []\n",
    "        tmp = random.sample(list(x_train_range), int(num_train/(local-1)))  #1/10개 만큼 인덱스 랜덤 비복원 추출 => 랜덤으로 해야함\n",
    "        tmp2 = random.sample(list(x_test_range), int(num_test/(local-1)))\n",
    "\n",
    "        for i in range(len(tmp)):\n",
    "            globals()['L{}_x_train'.format(n)].append(x_train[tmp[i]])  #n번째 Cluster에 분할한 실제 x_train 데이터 저장\n",
    "            globals()['L{}_y_train'.format(n)].append(y_train[tmp[i]]) \n",
    "            #x_train_range.remove(tmp[i])  #랜덤 하게 뽑힌 원소 6000개 추출했으니 안에서 삭제 = 복원추출\n",
    "\n",
    "        for j in range(len(tmp2)):\n",
    "            globals()['L{}_x_test'.format(n)].append(x_test[tmp2[j]])\n",
    "            globals()['L{}_y_test'.format(n)].append(y_test[tmp2[j]])\n",
    "            #x_test_range.remove(tmp2[j])  #랜덤 하게 뽑힌 원소 6000개 추출했으니 안에서 삭제\n",
    "\n",
    "    for i in range(1,local):\n",
    "        globals()['L{}_x_train'.format(i)] = np.array(globals()['L{}_x_train'.format(i)])\n",
    "        globals()['L{}_x_test'.format(i)] = np.array(globals()['L{}_x_test'.format(i)])\n",
    "        globals()['L{}_y_train'.format(i)] = np.array(globals()['L{}_y_train'.format(i)])\n",
    "        globals()['L{}_y_test'.format(i)] = np.array(globals()['L{}_y_test'.format(i)])\n",
    "\n",
    "\n",
    "    print(global_epoch, \" 번째 global_epoch 데이터 랜덤 준비완료!!\\n\\n\")\n",
    "\n",
    "    print(global_epoch, \" 번째 global epoch에서 로컬 클라이언트 들 학습시작!\\n\\n학습 중 ...\\n\")\n",
    "    \n",
    "\n",
    "    #-------------------------------------------------------------------여기가 핵심, 알고리즘 3개 따로 학습시켜야 함--------------------------------------------------------------------\n",
    "\n",
    "\n",
    "    #======================================================================== Cluster  ========================================================================  같이 했음. 왜냐면 cluster 하고 나서 activation 을 씌우는 거라 cluster까지는 같음\n",
    "\n",
    "    cluster_acc, cluster_loss, cluster_act_acc, cluster_act_loss, now = [], [], [], [], time.time()\n",
    "    \n",
    "    for i in range(1, local):\n",
    "        globals()['G{}_c_L{}_model'.format(global_epoch, i)].compile(loss=\"categorical_crossentropy\", optimizer=\"adam\", metrics=[\"accuracy\"])  #Cluster => 알맞는 클러스터에 넣기\n",
    "        globals()['G{}_c_L{}_model'.format(global_epoch, i)].fit(globals()['L{}_x_train'.format(i)], globals()['L{}_y_train'.format(i)], batch_size=batch_size, epochs=epochs, validation_split=0.1, verbose=0)\n",
    "        loss, acc = globals()['G{}_c_L{}_model'.format(global_epoch, i)].evaluate(globals()['L{}_x_test'.format(i)], globals()['L{}_y_test'.format(i)], verbose=2)\n",
    "        \n",
    "        cluster_acc.append(acc)  #acc 넣기\n",
    "        cluster_loss.append(loss)  #loss 넣기\n",
    "\n",
    "    print(\"------------   \", global_epoch, \" 번째 global epoch < Clustering > 로컬 클라이언트 학습 완료!,  Total Training time : \", time.time()-now,\"---------------------------\\n\\n\")\n",
    "\n",
    "\n",
    "# 로컬 모델들 학습 완료, 로컬모델에서 weight, bias 추출 -------------------------------------------------------------------------------------\n",
    "\n",
    "\n",
    "    for i in range(1, local):        \n",
    "        for layer_index in num_layers_list:\n",
    "            \n",
    "            globals()['L{}_layer{}_w_c'.format(i,layer_index)]   = globals()['G{}_c_L{}_model'.format(global_epoch, i)].layers[layer_index].get_weights() # Clustering \n",
    "            globals()['L{}_layer{}_w_c_tmp'.format(i,layer_index)]   = globals()['G{}_c_L{}_model'.format(global_epoch, i)].layers[layer_index].get_weights() # Clustering \n",
    "\n",
    "    #------------------------------------------------ 클러스터링만 한 값들 Clustering --------------------------------------------------------\n",
    "    best_Sil_score_c = []\n",
    "    for layer_index in num_layers_list:\n",
    "        globals()['layer{}_W_c_tmp'.format(layer_index)] = []\n",
    "        \n",
    "        globals()['var_list_layer{}_w'.format(layer_index)] = []\n",
    "        globals()['var_list_layer{}_b'.format(layer_index)] = []\n",
    "            \n",
    "        for i in range(1, local):\n",
    "            TMP_w = list(np.array(globals()['L{}_layer{}_w_c_tmp'.format(i,layer_index)][0]).reshape(-1))\n",
    "            TMP_b = list(np.array(globals()['L{}_layer{}_w_c_tmp'.format(i,layer_index)][1]).reshape(-1))\n",
    "            \n",
    "            TMP_w.extend(TMP_b) ##append 말고 더해야함..\n",
    "\n",
    "            TMP_w = np.array(TMP_w)\n",
    "            TMP_w = list(TMP_w.reshape(-1))\n",
    "            globals()['layer{}_W_c_tmp'.format(layer_index)].append(TMP_w)  #클러스터링 용도\n",
    "\n",
    "        #---------------------------------------------------- 실루엣 기반 클러스터링 실시 -------------------------------------------------------------\n",
    "        silhoutte_score_w = []\n",
    "        transformed = globals()['layer{}_W_c_tmp'.format(layer_index)]\n",
    "\n",
    "        for clusters in range((int(local/2)-1)):       ####=>  이 범위 : 클러스터 갯수, 밑에 보면 cluster+2 있음 = 총 10개 => (0,11) = 10\n",
    "            globals()['w_layer{}_label'.format(layer_index)] = 0\n",
    "                                                            \n",
    "            kmeans_model_w = KMeans(n_clusters=clusters+2)   # 0, 1은 silhouette 에 안먹힘  \n",
    "\n",
    "            kmeans_model_w.fit(transformed)       #레이블 정의 \n",
    "\n",
    "            silhoutte_score_w.append(silhouette_score(globals()['layer{}_W_tmp'.format(layer_index)], kmeans_model_w.labels_, metric='euclidean'))  \n",
    "            \n",
    "        num_clusters_for_w = np.argmax(silhoutte_score_w)  \n",
    "        best_Sil_score_c.append(silhoutte_score_w[num_clusters_for_w])\n",
    " \n",
    "        kmeans_model_w = KMeans(n_clusters=num_clusters_for_w+2)   # 0, 1은 silhouette 에 안먹힘  \n",
    "\n",
    "        globals()['w_layer{}_label'.format(layer_index)] = kmeans_model_w.fit_predict(transformed)       # 가장 적합한 클러스터로 레이어에 속한 로컬들 레이블 정의 \n",
    "        label_list.append(globals()['w_layer{}_label'.format(layer_index)])\n",
    "\n",
    "        globals()['G{}_num_clusters_in_layer{}_w'.format(global_epoch, layer_index)] = num_clusters_for_w + 2  #나중에 몇개로 나뉘었는지 알아야 함 = num_clusters_for_w이거 그대로 하면 밑에 저게 쓸일이 많아서 global 쓰면 코딩이 너무 번잡해짐;; \n",
    "        print(\"Layer : \", layer_index, \"  클러스터 갯수 정해짐!  갯수 : \", globals()['G{}_num_clusters_in_layer{}_w'.format(global_epoch, layer_index)], num_clusters_for_w) ########################################################******************************************\n",
    "\n",
    "\n",
    "\n",
    "        #----------------------------------------------- 스케일링 및 업데이트 ---------------------------------------------------------------------\n",
    "        for num_c_w in range(num_clusters_for_w + 2): #클러스터 갯수 (num_clusters_for_w) 만큼 클러스터용 = 클러스터 갯수가 3이 나왔으면 3개를 만들어야 함\n",
    "            globals()['G{}_c{}_w_layer{}'.format(global_epoch, num_c_w, layer_index)] = 0 \n",
    "            \n",
    "            globals()['w_scaler_c{}_sum'.format(num_c_w)], globals()['int_c{}_w'.format(num_c_w)] = 0, 0 #초기화\n",
    "        \n",
    "            for i in range(1, local):\n",
    "\n",
    "                if globals()['w_layer{}_label'.format(layer_index)][i-1] == num_c_w  : # 클러스터 레이블에 맞게 (0 or 1 or 2 ..) \n",
    "                    #print(\"클러스터 레이블 check : ====== \", num_c_w)\n",
    "                    globals()['w_scaler_c{}_sum'.format(num_c_w)] = globals()['w_scaler_c{}_sum'.format(num_c_w)] + len(globals()['L{}_x_train'.format(i)])\n",
    "\n",
    "\n",
    "                    globals()['L{}_layer{}_w_c'.format(i,layer_index)][0] = np.tanh(globals()['L{}_layer{}_w_c'.format(i,layer_index)][0])\n",
    "                    globals()['L{}_layer{}_w_c'.format(i,layer_index)][1] = np.tanh(globals()['L{}_layer{}_w_c'.format(i,layer_index)][1])\n",
    "\n",
    "\n",
    "                    globals()['G{}_c{}_w_layer{}'.format(global_epoch, num_c_w, layer_index)] = globals()['G{}_c{}_w_layer{}'.format(global_epoch, num_c_w, layer_index)] + np.array(globals()['L{}_layer{}_w_c'.format(i,layer_index)])   # 일반 클러스터링\n",
    "                  \n",
    "                    globals()['int_c{}_w'.format(num_c_w)] = globals()['int_c{}_w'.format(num_c_w)] + 1\n",
    "\n",
    "            globals()['w_scaler{}'.format(num_c_w)] = len(globals()['L{}_x_train'.format(i)]) / globals()['w_scaler_c{}_sum'.format(num_c_w)]\n",
    "            globals()['G{}_c{}_w_layer{}'.format(global_epoch, num_c_w, layer_index)] = globals()['G{}_c{}_w_layer{}'.format(global_epoch, num_c_w, layer_index)] / globals()['int_c{}_w'.format(num_c_w)] #레이어 별 클러스터 자기 갯수만큼 나눠주기=평균\n",
    "\n",
    "        \n",
    "        sum_for_var_w,sum_for_var_b = 0, 0\n",
    "        \n",
    "        for sps in range(num_clusters_for_w + 2):\n",
    "            sum_for_var_w = sum_for_var_w + globals()['G{}_c{}_w_layer{}'.format(global_epoch, sps, layer_index)][0] \n",
    "            sum_for_var_b = sum_for_var_b + globals()['G{}_c{}_w_layer{}'.format(global_epoch, sps, layer_index)][1] \n",
    "        \n",
    "        sum_for_var_w = sum_for_var_w/(num_clusters_for_w + 2)\n",
    "        sum_for_var_b = sum_for_var_b/(num_clusters_for_w + 2)\n",
    "        \n",
    "\n",
    "        for i in range(1, local):\n",
    "            globals()['var_list_layer{}_w'.format(layer_index)].append(np.var(sum_for_var_w))\n",
    "            globals()['var_list_layer{}_b'.format(layer_index)].append(np.var(sum_for_var_b))\n",
    "  \n",
    "\n",
    "        VAR_final_list_w.append(globals()['var_list_layer{}_w'.format(layer_index)])\n",
    "        VAR_final_list_b.append(globals()['var_list_layer{}_b'.format(layer_index)])\n",
    "\n",
    "\n",
    "    Cluster_ACC.append(cluster_acc)\n",
    "    Cluster_LOSS.append(cluster_loss)\n",
    "    Silhouette_sc_c.append(best_Sil_score_c)\n",
    "\n",
    "    print(\"\\n\\n====================================================== One Global Epoch =====================================================================\\n\\n\")\n"
   ]
  },
  {
   "cell_type": "code",
   "execution_count": null,
   "metadata": {
    "id": "w2XKazZ-4dgs"
   },
   "outputs": [],
   "source": [
    "#클러스터 레이어들끼리 weight 확이 => 똑같지는 않은지 확인"
   ]
  },
  {
   "cell_type": "code",
   "execution_count": null,
   "metadata": {},
   "outputs": [],
   "source": [
    "var_changes_L0_w, var_changes_L2_w, var_changes_L4_w, var_changes_L6_w, var_changes_L7_w = [], [], [], [], [] \n",
    "var_accumulate_L0_w, var_accumulate_L2_w, var_accumulate_L4_w, var_accumulate_L6_w, var_accumulate_L7_w = [], [], [], [], [] \n",
    "\n",
    "var_changes_L0_b, var_changes_L2_b, var_changes_L4_b, var_changes_L6_b, var_changes_L7_b = [], [], [], [], [] \n",
    "var_accumulate_L0_b, var_accumulate_L2_b, var_accumulate_L4_b, var_accumulate_L6_b, var_accumulate_L7_b = [], [], [], [], [] \n",
    "\n",
    "\n",
    "for global_epoch in range(G_epoch-1):\n",
    "    for layer_index in num_layers_list:\n",
    "        sumss_w, sumss_b = 0, 0\n",
    "        for sks in range(globals()['G{}_num_clusters_in_layer{}_w'.format(global_epoch, layer_index)]):\n",
    "            sumss_w = sumss_w + globals()['G{}_c{}_w_layer{}'.format(global_epoch, sks, layer_index)][0] \n",
    "            sumss_b = sumss_b + globals()['G{}_c{}_w_layer{}'.format(global_epoch, sks, layer_index)][1]\n",
    "\n",
    "        sumss_w = sumss_w/globals()['G{}_num_clusters_in_layer{}_w'.format(global_epoch, layer_index)]\n",
    "        sumss_b = sumss_b/globals()['G{}_num_clusters_in_layer{}_w'.format(global_epoch, layer_index)]\n",
    "\n",
    "        globals()['var_accumulate_L{}_w'.format(layer_index)].append(np.var( sumss_w ))\n",
    "        \n",
    "        globals()['var_accumulate_L{}_b'.format(layer_index)].append(np.var( sumss_b ))\n",
    "        \n",
    "        \n",
    "\n",
    "for layer_index in num_layers_list:\n",
    "    for tmp_int in range(len(globals()['var_accumulate_L{}_w'.format(layer_index)])-1):\n",
    "        minus_w = globals()['var_accumulate_L{}_w'.format(layer_index)][tmp_int + 1] - globals()['var_accumulate_L{}_w'.format(layer_index)][tmp_int]\n",
    "        minus_b = globals()['var_accumulate_L{}_b'.format(layer_index)][tmp_int + 1] - globals()['var_accumulate_L{}_b'.format(layer_index)][tmp_int]        \n",
    "        globals()['var_changes_L{}_w'.format(layer_index)].append( minus_w )\n",
    "        globals()['var_changes_L{}_b'.format(layer_index)].append( minus_b )\n",
    "        \n",
    "\n",
    "print(\"Variance Accumulate Layer 0,2,4,6,7\\n--------------------------------------------------------------------------------------------------\\n\")\n",
    "\n",
    "print(\"\\nVar Accumulate Weight\\n--------------------------------------\")\n",
    "for j in num_layers_list:\n",
    "    print(globals()['var_accumulate_L{}_w'.format(j)])\n",
    "\n",
    "print(\"\\nVar Accumulate Bias\\n--------------------------------------\")\n",
    "for j in num_layers_list:\n",
    "    print(globals()['var_accumulate_L{}_b'.format(j)])\n",
    "\n",
    "print(\"\\n\\nVariance Change Layer 0,2,4,6,7\\n--------------------------------------------------------------------------------------------------\\n\")\n",
    "\n",
    "print(\"\\nVar Changes Weight\\n--------------------------------------\")\n",
    "for j in num_layers_list:\n",
    "    print(globals()['var_accumulate_L{}_w'.format(j)])\n",
    "\n",
    "print(\"\\nVar Changes Bias\\n--------------------------------------\")\n",
    "for j in num_layers_list:\n",
    "    print(globals()['var_changes_L{}_b'.format(j)])\n",
    "\n",
    "\n",
    "\n",
    "print(\"\\nNow Check the graph\\n\")\n",
    "\n",
    "plt.figure(figsize=(5,3))\n",
    "for j in num_layers_list:\n",
    "    plt.plot(globals()['var_accumulate_L{}_w'.format(j)])\n",
    "\n",
    "plt.figure(figsize=(5,3))\n",
    "for j in num_layers_list:\n",
    "    plt.plot(globals()['var_accumulate_L{}_b'.format(j)])\n",
    "\n",
    "plt.figure(figsize=(5,3))\n",
    "for j in num_layers_list:\n",
    "    plt.plot(globals()['var_changes_L{}_b'.format(j)])\n",
    "\n",
    "plt.figure(figsize=(5,3))\n",
    "for j in num_layers_list:\n",
    "    plt.plot(globals()['var_changes_L{}_b'.format(j)])\n"
   ]
  },
  {
   "cell_type": "code",
   "execution_count": null,
   "metadata": {},
   "outputs": [],
   "source": [
    "from scipy.spatial import distance\n",
    "\n",
    "dist_0, dist_2, dist_4, dist_6, dist_7  = [], [], [], [], []\n",
    "\n",
    "for global_epoch in range(G_epoch): #1이 맞음 = 바꾸지 말기\n",
    "    for layer_index in num_layers_list:\n",
    "        globals()['G{}_w_layer{}'.format(global_epoch, layer_index)] = 0    \n",
    "\n",
    "\n",
    "for global_epoch in range(G_epoch-1):    #2가 맞음 = 바꾸지 말기\n",
    "    for layer_index in num_layers_list:\n",
    "        var_w = 0\n",
    "        for sks in range(globals()['G{}_num_clusters_in_layer{}_w'.format(global_epoch, layer_index)]):\n",
    "            var_w = var_w + globals()['G{}_c{}_w_layer{}'.format(global_epoch, sks, layer_index)]\n",
    "\n",
    "        var_w = var_w/globals()['G{}_num_clusters_in_layer{}_w'.format(global_epoch, layer_index)]\n",
    "\n",
    "        globals()['G{}_w_layer{}'.format(global_epoch, layer_index)] = var_w\n",
    "        globals()['dist_{}'.format(layer_index)].append(np.mean(distance.euclidean(globals()['G{}_w_layer{}'.format(global_epoch, layer_index)], globals()['G{}_w_layer{}'.format(global_epoch+1, layer_index)])))\n",
    "\n",
    "print(\"Distance Layer 0,2,4,6,7\\n--------------------------------------------------------------------------------------------------\")\n",
    "print(dist_0)\n",
    "print(dist_2)\n",
    "print(dist_4)\n",
    "print(dist_6)\n",
    "print(dist_7, \"\\n\\nCheck the graph\\n\")\n",
    "\n",
    "plt.plot(dist_0)\n",
    "plt.plot(dist_2)\n",
    "plt.plot(dist_4)\n",
    "plt.plot(dist_6)\n",
    "plt.plot(dist_7)\n",
    "\n",
    "plt.show()"
   ]
  },
  {
   "cell_type": "code",
   "execution_count": null,
   "metadata": {},
   "outputs": [],
   "source": [
    "average_acc_cluster_list, average_loss_cluster_list = [], []\n",
    "\n",
    "\n",
    "for i in range(len(Cluster_ACC)):    \n",
    "    average_acc_cluster_list.append(np.mean(Cluster_ACC[i]))\n",
    "    average_loss_cluster_list.append(np.mean(Cluster_LOSS[i]))\n",
    "\n",
    "    \n",
    "plt.figure(figsize=(16,8))\n",
    "plt.plot(average_acc_cluster_list, label='Cluster Acc')\n",
    "print(Cluster_ACC)\n",
    "print(Cluster_LOSS,\"\\n\\n\\n\")\n",
    "plt.plot(average_loss_cluster_list, label='Cluster Loss')\n",
    "\n",
    "plt.grid(True)\n",
    "plt.legend()\n",
    "plt.show()\n"
   ]
  },
  {
   "cell_type": "code",
   "execution_count": null,
   "metadata": {},
   "outputs": [],
   "source": []
  },
  {
   "cell_type": "code",
   "execution_count": null,
   "metadata": {},
   "outputs": [],
   "source": []
  },
  {
   "cell_type": "code",
   "execution_count": null,
   "metadata": {},
   "outputs": [],
   "source": []
  },
  {
   "cell_type": "code",
   "execution_count": null,
   "metadata": {},
   "outputs": [],
   "source": []
  },
  {
   "cell_type": "code",
   "execution_count": null,
   "metadata": {},
   "outputs": [],
   "source": []
  },
  {
   "cell_type": "code",
   "execution_count": null,
   "metadata": {
    "id": "7afw9VS7PwPX"
   },
   "outputs": [],
   "source": []
  }
 ],
 "metadata": {
  "accelerator": "GPU",
  "colab": {
   "authorship_tag": "ABX9TyMipZLNQ7Dn7KD9b2Byoc2e",
   "collapsed_sections": [],
   "name": "Test1_paper_Clustering+Non-linear.ipynb",
   "provenance": []
  },
  "kernelspec": {
   "display_name": "Python 3",
   "language": "python",
   "name": "python3"
  },
  "language_info": {
   "codemirror_mode": {
    "name": "ipython",
    "version": 3
   },
   "file_extension": ".py",
   "mimetype": "text/x-python",
   "name": "python",
   "nbconvert_exporter": "python",
   "pygments_lexer": "ipython3",
   "version": "3.8.8"
  }
 },
 "nbformat": 4,
 "nbformat_minor": 1
}
