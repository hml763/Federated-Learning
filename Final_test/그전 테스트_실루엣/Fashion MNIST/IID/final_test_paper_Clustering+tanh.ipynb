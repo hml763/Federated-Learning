{
 "cells": [
  {
   "cell_type": "code",
   "execution_count": 1,
   "metadata": {
    "executionInfo": {
     "elapsed": 3308,
     "status": "ok",
     "timestamp": 1627827127594,
     "user": {
      "displayName": "이훈민",
      "photoUrl": "",
      "userId": "00157268181097362793"
     },
     "user_tz": 240
    },
    "id": "cg7gm5FVyA3r"
   },
   "outputs": [],
   "source": [
    "import numpy as np\n",
    "import tensorflow as tf\n",
    "import matplotlib.pyplot as plt\n",
    "import sys\n",
    "import time\n",
    "import math\n",
    "import random\n",
    "import copy\n",
    "import warnings\n",
    "warnings.simplefilter(action='ignore', category=FutureWarning)\n",
    "\n",
    "import keras\n",
    "from tensorflow import keras\n",
    "from keras.models import Sequential\n",
    "from keras.layers import Dense, Dropout, Flatten\n",
    "from tensorflow.keras import datasets, layers, models\n",
    "from keras.layers.convolutional import Conv2D, MaxPooling2D\n",
    "from keras.layers import Dense, Activation, Flatten, Conv2D, MaxPooling2D\n",
    "from keras.utils.np_utils import to_categorical\n",
    "from sklearn.cluster import KMeans, AgglomerativeClustering\n",
    "from tensorflow.keras.datasets import cifar10 \n",
    "from keras.datasets import fashion_mnist \n",
    "from sklearn.metrics import silhouette_samples, silhouette_score\n",
    "\n",
    "mod = sys.modules[__name__]"
   ]
  },
  {
   "cell_type": "code",
   "execution_count": 2,
   "metadata": {
    "executionInfo": {
     "elapsed": 6,
     "status": "ok",
     "timestamp": 1627827127595,
     "user": {
      "displayName": "이훈민",
      "photoUrl": "",
      "userId": "00157268181097362793"
     },
     "user_tz": 240
    },
    "id": "-gn3HoNnyGdo"
   },
   "outputs": [],
   "source": [
    "def distribution_check(dataset):\n",
    "        #분포가 다름;\n",
    "    one,two,three,four,five,six,seven,eight,nine,ten=0,0,0,0,0,0,0,0,0,0\n",
    "\n",
    "    for i in range(len(dataset)):\n",
    "        if(dataset[i]==1):    one+=1\n",
    "        elif(dataset[i]==2):  two+=1\n",
    "        elif(dataset[i]==3):  three+=1\n",
    "        elif(dataset[i]==4):  four+=1\n",
    "        elif(dataset[i]==5):  five+=1\n",
    "        elif(dataset[i]==6):  six+=1\n",
    "        elif(dataset[i]==7):  seven+=1\n",
    "        elif(dataset[i]==8):  eight+=1\n",
    "        elif(dataset[i]==9):  nine+=1\n",
    "        elif(dataset[i]==0):  ten+=1\n",
    "\n",
    "    #print(one,two,three,four,five,six,seven,eight,nine,ten)\n",
    "    #print(\"Sum : \", one+two+three+four+five+six+seven+eight+nine+ten)\n",
    "    sums = one+two+three+four+five+six+seven+eight+nine+ten\n",
    "    for_graph=[one,two,three,four,five,six,seven,eight,nine,ten]\n",
    "    \n",
    "    return for_graph, sums\n",
    "\n",
    "def local_model_generate(model): #초기 모델 생성\n",
    "    model = models.Sequential()\n",
    "    model.add(layers.Conv2D(32, (3, 3), activation='relu', input_shape=(28, 28, 1)))\n",
    "    model.add(layers.MaxPooling2D((2, 2)))\n",
    "    model.add(layers.Conv2D(64, (3, 3), activation='relu'))\n",
    "    model.add(layers.MaxPooling2D((2, 2)))\n",
    "    model.add(layers.Conv2D(64, (3, 3), activation='relu'))\n",
    "    model.add(layers.Flatten())\n",
    "    model.add(layers.Dense(64, activation='relu'))\n",
    "    model.add(layers.Dense(10, activation='softmax'))\n",
    "    \n",
    "    return model\n",
    "\n",
    "def step_function(data):\n",
    "    if data > 0:\n",
    "        return 1\n",
    "    else:\n",
    "        return 0\n",
    "\n",
    "def sigmoid(data):\n",
    "    return 1/(1+np.exp(-data))\n",
    "\n",
    "def relu(data):\n",
    "    return np.maximum(0,data)\n",
    "\n",
    "def random_check(local, train_data, test_data):\n",
    "    check_distribution_train_data, check_distribution_test_data, y_train_tmp, y_test_tmp = [], [], [], []\n",
    "    sum1, sum2, data_index = 0,0, np.arange(0,10)\n",
    "\n",
    "    for j in range(len(train_data)):\n",
    "        y_train_tmp.append(np.argmax(train_data[j])) #원핫인코딩에서 다시 0~9 레이블로 변환\n",
    "\n",
    "    for j in range(len(test_data)):\n",
    "        y_test_tmp.append(np.argmax(test_data[j]))\n",
    "\n",
    "    check_distribution_train_data, sum_train = distribution_check(y_train_tmp) #한번 밖에 실행 못함\n",
    "    check_distribution_test_data, sum_test = distribution_check(y_test_tmp)\n",
    "    sum1, sum2 = (sum1 + sum_train), (sum2 + sum_test)\n",
    "    \n",
    "    return check_distribution_train_data, check_distribution_test_data\n"
   ]
  },
  {
   "cell_type": "code",
   "execution_count": 3,
   "metadata": {
    "colab": {
     "base_uri": "https://localhost:8080/"
    },
    "executionInfo": {
     "elapsed": 957,
     "status": "ok",
     "timestamp": 1627827128547,
     "user": {
      "displayName": "이훈민",
      "photoUrl": "",
      "userId": "00157268181097362793"
     },
     "user_tz": 240
    },
    "id": "CSRQl-noyHx9",
    "outputId": "b2ec7a93-8bf8-45a1-b6d4-f51e17153506"
   },
   "outputs": [
    {
     "name": "stdout",
     "output_type": "stream",
     "text": [
      "(60000, 28, 28) (10000, 28, 28)\n"
     ]
    }
   ],
   "source": [
    "(x_train, y_train), (x_test, y_test) = fashion_mnist.load_data()\n",
    "print(x_train.shape, x_test.shape)\n",
    "num_train, num_test = len(x_train),  len(x_test) "
   ]
  },
  {
   "cell_type": "code",
   "execution_count": 4,
   "metadata": {
    "executionInfo": {
     "elapsed": 4,
     "status": "ok",
     "timestamp": 1627827128547,
     "user": {
      "displayName": "이훈민",
      "photoUrl": "",
      "userId": "00157268181097362793"
     },
     "user_tz": 240
    },
    "id": "YvgMHy1ByI7c"
   },
   "outputs": [],
   "source": [
    "local = 21 # 10개 : 1~10 => 11은 포함 안됨\n",
    "batch_size, epochs = 32, 10\n",
    "global_epoch = 0\n",
    "num_layers = 8"
   ]
  },
  {
   "cell_type": "code",
   "execution_count": 5,
   "metadata": {
    "colab": {
     "base_uri": "https://localhost:8080/"
    },
    "executionInfo": {
     "elapsed": 202,
     "status": "ok",
     "timestamp": 1627827128746,
     "user": {
      "displayName": "이훈민",
      "photoUrl": "",
      "userId": "00157268181097362793"
     },
     "user_tz": 240
    },
    "id": "NtlWlG2EyKwJ",
    "outputId": "bd7e6c72-1283-46a1-8001-96614e342596"
   },
   "outputs": [
    {
     "name": "stdout",
     "output_type": "stream",
     "text": [
      "Step 1 x_train shape: (60000, 28, 28)\n",
      "Step 2 x_train shape: (60000, 28, 28, 1)\n",
      "60000 train samples\n",
      "10000 test samples\n"
     ]
    }
   ],
   "source": [
    "# Model / data parameters\n",
    "num_classes = 10\n",
    "input_shape = (28, 28, 1)\n",
    "\n",
    "# Scale images to the [0, 1] range\n",
    "x_train = x_train.astype(\"float32\") / 255\n",
    "x_test = x_test.astype(\"float32\") / 255\n",
    "\n",
    "print(\"Step 1 x_train shape:\", x_train.shape)\n",
    "\n",
    "x_train = x_train.reshape((num_train, 28, 28, 1))\n",
    "x_test = x_test.reshape((num_test, 28, 28, 1))\n",
    "\n",
    "print(\"Step 2 x_train shape:\", x_train.shape)\n",
    "print(x_train.shape[0], \"train samples\")\n",
    "print(x_test.shape[0], \"test samples\")\n",
    "# convert class vectors to binary class matrices => one hot encoding 지금은 [3,6,2,5,4,8..] 섞여있음 \n",
    "\n",
    "y_train = keras.utils.to_categorical(y_train, num_classes)\n",
    "y_test = keras.utils.to_categorical(y_test, num_classes)"
   ]
  },
  {
   "cell_type": "code",
   "execution_count": 8,
   "metadata": {
    "colab": {
     "base_uri": "https://localhost:8080/"
    },
    "executionInfo": {
     "elapsed": 214,
     "status": "ok",
     "timestamp": 1627827129402,
     "user": {
      "displayName": "이훈민",
      "photoUrl": "",
      "userId": "00157268181097362793"
     },
     "user_tz": 240
    },
    "id": "I2uyTUGiyaSd",
    "outputId": "d59b69f8-078b-4eca-ee46-60c09171e176"
   },
   "outputs": [
    {
     "name": "stdout",
     "output_type": "stream",
     "text": [
      "0  번째 global_epoch 데이터 랜덤하게 준비!!\n",
      "check=>: should be 0 ==  60000\n",
      "0  번째 global_epoch 데이터 랜덤 준비완료!!\n"
     ]
    }
   ],
   "source": [
    "#랜덤 비복원추출, 동등하게 10% 씩 =  로컬 데이터 추출 ------------------------------------------------------------------------------\n",
    "\n",
    "global_epoch = 0\n",
    "\n",
    "local = 21\n",
    "\n",
    "print(global_epoch, \" 번째 global_epoch 데이터 랜덤하게 준비!!\")\n",
    "\n",
    "for i in range(1,local): #데이터 변수 선언, 빈 리스트로 초기화\n",
    "    globals()['L{}_x_train'.format(i)], globals()['L{}_x_test'.format(i)] = [], []  \n",
    "    globals()['L{}_y_train'.format(i)], globals()['L{}_y_test'.format(i)] = [], []  \n",
    "\n",
    "x_train_range = list(np.arange(0,len(x_train)))  #0~59,999\n",
    "x_test_range = list(np.arange(0,len(x_test)))  #0~9,999\n",
    "\n",
    "for n in range(1,local): #Data_x_train_range, 잘 작동함 => 확인 완료\n",
    "    tmp, tmp2 = [], []\n",
    "    tmp = random.sample(list(x_train_range), int(num_train/(local-1)))  #1/10개 만큼 인덱스 랜덤 비복원 추출 => 랜덤으로 해야함\n",
    "    tmp2 = random.sample(list(x_test_range), int(num_test/(local-1)))\n",
    "\n",
    "    for i in range(len(tmp)):\n",
    "        globals()['L{}_x_train'.format(n)].append(x_train[tmp[i]])  #n번째 Cluster에 분할한 실제 x_train 데이터 저장\n",
    "        globals()['L{}_y_train'.format(n)].append(y_train[tmp[i]]) \n",
    "        #x_train_range.remove(tmp[i])  #랜덤 하게 뽑힌 원소 6000개 추출했으니 안에서 삭제 => 비복원 추출\n",
    "\n",
    "    for j in range(len(tmp2)):\n",
    "        globals()['L{}_x_test'.format(n)].append(x_test[tmp2[j]])\n",
    "        globals()['L{}_y_test'.format(n)].append(y_test[tmp2[j]])\n",
    "        #x_test_range.remove(tmp2[j])  #랜덤 하게 뽑힌 원소 6000개 추출했으니 안에서 삭제 => 비복원 추출\n",
    "\n",
    "print(\"check=>: should be 0 == \", len(x_train_range))  #원소 하나도 없어야 함. 확인.\n",
    "\n",
    "print(global_epoch, \" 번째 global_epoch 데이터 랜덤 준비완료!!\")"
   ]
  },
  {
   "cell_type": "code",
   "execution_count": 9,
   "metadata": {
    "colab": {
     "base_uri": "https://localhost:8080/"
    },
    "executionInfo": {
     "elapsed": 58841,
     "status": "ok",
     "timestamp": 1627827188938,
     "user": {
      "displayName": "이훈민",
      "photoUrl": "",
      "userId": "00157268181097362793"
     },
     "user_tz": 240
    },
    "id": "LztCjgrY1OxS",
    "outputId": "a658a428-2e0b-433b-96e5-ccef1d95750e",
    "scrolled": true
   },
   "outputs": [
    {
     "name": "stdout",
     "output_type": "stream",
     "text": [
      "\n",
      "\n",
      " 0 번째 global epoch에서 로컬 클라이언트 학습시작!\n",
      "\n",
      "학습 중 ...\n",
      "\n",
      "16/16 - 0s - loss: 0.4911 - accuracy: 0.8440\n",
      "16/16 - 0s - loss: 0.5576 - accuracy: 0.8360\n",
      "16/16 - 0s - loss: 0.5705 - accuracy: 0.8220\n",
      "16/16 - 0s - loss: 0.4813 - accuracy: 0.8160\n",
      "16/16 - 0s - loss: 0.5947 - accuracy: 0.8140\n",
      "16/16 - 0s - loss: 0.4873 - accuracy: 0.8220\n",
      "16/16 - 0s - loss: 0.5154 - accuracy: 0.8200\n",
      "16/16 - 0s - loss: 0.5022 - accuracy: 0.8320\n",
      "16/16 - 0s - loss: 0.5028 - accuracy: 0.8240\n",
      "16/16 - 0s - loss: 0.4669 - accuracy: 0.8380\n",
      "16/16 - 0s - loss: 0.4957 - accuracy: 0.8000\n",
      "16/16 - 0s - loss: 0.4980 - accuracy: 0.8320\n",
      "16/16 - 0s - loss: 0.4694 - accuracy: 0.8520\n",
      "16/16 - 0s - loss: 0.5150 - accuracy: 0.8420\n",
      "16/16 - 0s - loss: 0.5703 - accuracy: 0.7960\n",
      "16/16 - 0s - loss: 0.5083 - accuracy: 0.8120\n",
      "16/16 - 0s - loss: 0.4489 - accuracy: 0.8460\n",
      "16/16 - 0s - loss: 0.4834 - accuracy: 0.8100\n",
      "16/16 - 0s - loss: 0.4809 - accuracy: 0.8180\n",
      "16/16 - 0s - loss: 0.5057 - accuracy: 0.8340\n",
      "0 번째 global epoch 로컬 클라이언트 학습완료!,  Total Training time :  177.11179614067078 \n",
      "\n",
      "\n",
      "Layer :  0   클러스터 갯수 정해짐!  갯수 :  3 1\n"
     ]
    },
    {
     "name": "stderr",
     "output_type": "stream",
     "text": [
      "<ipython-input-9-c56707d98c89>:110: VisibleDeprecationWarning: Creating an ndarray from ragged nested sequences (which is a list-or-tuple of lists-or-tuples-or ndarrays with different lengths or shapes) is deprecated. If you meant to do this, you must specify 'dtype=object' when creating the ndarray\n",
      "  globals()['G{}_c{}_w_layer{}'.format(global_epoch, num_c_w, layer_index)] = globals()['G{}_c{}_w_layer{}'.format(global_epoch, num_c_w, layer_index)] + np.array(globals()['L{}_layer{}_w'.format(i,layer_index)])          # 일반 클러스터링\n"
     ]
    },
    {
     "name": "stdout",
     "output_type": "stream",
     "text": [
      "Layer :  2   클러스터 갯수 정해짐!  갯수 :  2 0\n"
     ]
    },
    {
     "name": "stderr",
     "output_type": "stream",
     "text": [
      "<ipython-input-9-c56707d98c89>:110: VisibleDeprecationWarning: Creating an ndarray from ragged nested sequences (which is a list-or-tuple of lists-or-tuples-or ndarrays with different lengths or shapes) is deprecated. If you meant to do this, you must specify 'dtype=object' when creating the ndarray\n",
      "  globals()['G{}_c{}_w_layer{}'.format(global_epoch, num_c_w, layer_index)] = globals()['G{}_c{}_w_layer{}'.format(global_epoch, num_c_w, layer_index)] + np.array(globals()['L{}_layer{}_w'.format(i,layer_index)])          # 일반 클러스터링\n"
     ]
    },
    {
     "name": "stdout",
     "output_type": "stream",
     "text": [
      "Layer :  4   클러스터 갯수 정해짐!  갯수 :  2 0\n"
     ]
    },
    {
     "name": "stderr",
     "output_type": "stream",
     "text": [
      "<ipython-input-9-c56707d98c89>:110: VisibleDeprecationWarning: Creating an ndarray from ragged nested sequences (which is a list-or-tuple of lists-or-tuples-or ndarrays with different lengths or shapes) is deprecated. If you meant to do this, you must specify 'dtype=object' when creating the ndarray\n",
      "  globals()['G{}_c{}_w_layer{}'.format(global_epoch, num_c_w, layer_index)] = globals()['G{}_c{}_w_layer{}'.format(global_epoch, num_c_w, layer_index)] + np.array(globals()['L{}_layer{}_w'.format(i,layer_index)])          # 일반 클러스터링\n"
     ]
    },
    {
     "name": "stdout",
     "output_type": "stream",
     "text": [
      "Layer :  6   클러스터 갯수 정해짐!  갯수 :  2 0\n"
     ]
    },
    {
     "name": "stderr",
     "output_type": "stream",
     "text": [
      "<ipython-input-9-c56707d98c89>:110: VisibleDeprecationWarning: Creating an ndarray from ragged nested sequences (which is a list-or-tuple of lists-or-tuples-or ndarrays with different lengths or shapes) is deprecated. If you meant to do this, you must specify 'dtype=object' when creating the ndarray\n",
      "  globals()['G{}_c{}_w_layer{}'.format(global_epoch, num_c_w, layer_index)] = globals()['G{}_c{}_w_layer{}'.format(global_epoch, num_c_w, layer_index)] + np.array(globals()['L{}_layer{}_w'.format(i,layer_index)])          # 일반 클러스터링\n"
     ]
    },
    {
     "name": "stdout",
     "output_type": "stream",
     "text": [
      "Layer :  7   클러스터 갯수 정해짐!  갯수 :  8 6\n"
     ]
    },
    {
     "name": "stderr",
     "output_type": "stream",
     "text": [
      "<ipython-input-9-c56707d98c89>:110: VisibleDeprecationWarning: Creating an ndarray from ragged nested sequences (which is a list-or-tuple of lists-or-tuples-or ndarrays with different lengths or shapes) is deprecated. If you meant to do this, you must specify 'dtype=object' when creating the ndarray\n",
      "  globals()['G{}_c{}_w_layer{}'.format(global_epoch, num_c_w, layer_index)] = globals()['G{}_c{}_w_layer{}'.format(global_epoch, num_c_w, layer_index)] + np.array(globals()['L{}_layer{}_w'.format(i,layer_index)])          # 일반 클러스터링\n"
     ]
    }
   ],
   "source": [
    "#준비된 데이터 (IID / NON-IID) np.array로\n",
    "best_Sil_score_c = []\n",
    "Silhouette_sc_c = []\n",
    "global_epoch = 0\n",
    "acc, loss = 0, 0\n",
    "cluster_acc, cluster_loss, Cluster_ACC, Cluster_LOSS = [], [], [], [] \n",
    "num_layers_list = [0,2,4,6,7]\n",
    "label_list = []\n",
    "VAR_final_list_w, VAR_final_list_b = [], []\n",
    "\n",
    "\n",
    "for i in range(1,local):\n",
    "    globals()['L{}_x_train'.format(i)] = np.array(globals()['L{}_x_train'.format(i)])\n",
    "    globals()['L{}_x_test'.format(i)] = np.array(globals()['L{}_x_test'.format(i)])\n",
    "    globals()['L{}_y_train'.format(i)] = np.array(globals()['L{}_y_train'.format(i)])\n",
    "    globals()['L{}_y_test'.format(i)] = np.array(globals()['L{}_y_test'.format(i)])\n",
    "\n",
    "\n",
    "print(\"\\n\\n\",global_epoch, \"번째 global epoch에서 로컬 클라이언트 학습시작!\\n\\n학습 중 ...\\n\")\n",
    "now = time.time()\n",
    "\n",
    "for i in range(1,local):\n",
    "    globals()['FedAvg_L{}_iter{}_model'.format(i, global_epoch)] = models.Sequential()  ##!!!!!!! 이게 글로벌 epoch에서는 2번째 부터 들어가면 안됨\n",
    "    globals()['FedAvg_L{}_iter{}_model'.format(i, global_epoch)] = local_model_generate(globals()['FedAvg_L{}_iter{}_model'.format(i, global_epoch)])      # initialize 필요 => 모델 프레임 구축\n",
    "\n",
    "    globals()['FedAvg_L{}_iter{}_model'.format(i, global_epoch)].compile(loss=\"categorical_crossentropy\", optimizer=\"adam\", metrics=[\"accuracy\"])\n",
    "\n",
    "    globals()['FedAvg_L{}_iter{}_model'.format(i, global_epoch)].fit(globals()['L{}_x_train'.format(i)], globals()['L{}_y_train'.format(i)], batch_size=batch_size, epochs=epochs, validation_split=0.1, verbose=0)\n",
    "\n",
    "    loss, acc = globals()['FedAvg_L{}_iter{}_model'.format(i, global_epoch)].evaluate(globals()['L{}_x_test'.format(i,global_epoch)], globals()['L{}_y_test'.format(i)], verbose=2)\n",
    "    \n",
    "    cluster_acc.append(acc)  #acc 넣기\n",
    "    cluster_loss.append(loss)  #loss 넣기\n",
    "\n",
    "\n",
    "print(global_epoch, \"번째 global epoch 로컬 클라이언트 학습완료!,  Total Training time : \", time.time()-now,\"\\n\\n\")\n",
    "\n",
    "# 로컬 모델들 학습 완료하였고 로컬모델에서 weight, bias 추출 -------------------------------------------------------------------------------------\n",
    "\n",
    "for i in range(1, local):\n",
    "    for layer_index in num_layers_list:\n",
    "        w = globals()['FedAvg_L{}_iter{}_model'.format(i, global_epoch)].layers[layer_index].get_weights() #get_weights = w[0],b[1]로 구성\n",
    "\n",
    "        globals()['L{}_layer{}_w_tmp'.format(i,layer_index)] = w      # 클러스터링 용도\n",
    "        globals()['L{}_layer{}_w'.format(i,layer_index)] = w          # weight aggregation 용도\n",
    "            \n",
    "# 클러스터에 넣을 변수 선언\n",
    "\n",
    "for layer_index in num_layers_list:\n",
    "\n",
    "    globals()['layer{}_W_tmp'.format(layer_index)] = []\n",
    "    globals()['var_list_layer{}_w'.format(layer_index)] = []\n",
    "    globals()['var_list_layer{}_b'.format(layer_index)] = []\n",
    "  \n",
    "    for i in range(1, local):\n",
    "        globals()['var_list_layer{}_w'.format(layer_index)].append(np.var(globals()['L{}_layer{}_w'.format(i,layer_index)][0]))\n",
    "        globals()['var_list_layer{}_b'.format(layer_index)].append(np.var(globals()['L{}_layer{}_w'.format(i,layer_index)][1]))\n",
    "      \n",
    "        TMP_w = list(np.array(globals()['L{}_layer{}_w_tmp'.format(i,layer_index)][0]).reshape(-1))\n",
    "        TMP_b = list(np.array(globals()['L{}_layer{}_w_tmp'.format(i,layer_index)][1]).reshape(-1))\n",
    "        \n",
    "        TMP_w.extend(TMP_b) ##append 말고 더해야함..\n",
    "\n",
    "        TMP_w = np.array(TMP_w)\n",
    "        TMP_w = list(TMP_w.reshape(-1))\n",
    "        globals()['layer{}_W_tmp'.format(layer_index)].append(TMP_w)  #클러스터링 용도\n",
    "  \n",
    "\n",
    "    #----------------------------------------------------클러스터링 실시 -------------------------------------------------------------\n",
    "    silhoutte_score_w = []\n",
    "    transformed = globals()['layer{}_W_tmp'.format(layer_index)]\n",
    "\n",
    "    for clusters in range((int(local/2)-1)):       ####=>  이 범위 : 클러스터 갯수, 밑에 보면 cluster+2 있음 = 총 10개 => (0,11) = 10                                                       \n",
    "        kmeans_model_w = KMeans(n_clusters=clusters+2)   # 0, 1은 silhouette 에 안먹힘  \n",
    "\n",
    "        kmeans_model_w.fit(transformed)       #레이블 정의 \n",
    "\n",
    "        silhoutte_score_w.append(silhouette_score(globals()['layer{}_W_tmp'.format(layer_index)], kmeans_model_w.labels_, metric='euclidean'))  \n",
    "\n",
    "    num_clusters_for_w = np.argmax(silhoutte_score_w) \n",
    "    best_Sil_score_c.append(silhoutte_score_w[num_clusters_for_w])  # 처음에는 둘 다 넣어줌\n",
    "\n",
    "    kmeans_model_w = KMeans(n_clusters=num_clusters_for_w+2)   # 0, 1은 silhouette 에 안먹힘  \n",
    "\n",
    "    globals()['w_layer{}_label'.format(layer_index)] = kmeans_model_w.fit_predict(transformed)       # 가장 적합한 클러스터로 레이어에 속한 로컬들 레이블 정의 \n",
    "\n",
    "    globals()['G{}_num_clusters_in_layer{}_w'.format(global_epoch, layer_index)] = num_clusters_for_w + 2  #나중에 몇개로 나뉘었는지 알아야 함 = num_clusters_for_w이거 그대로 하면 밑에 저게 쓸일이 많아서 global 쓰면 코딩이 너무 번잡해짐;; \n",
    "    \n",
    "    label_list.append(globals()['w_layer{}_label'.format(layer_index)])                 \n",
    "    print(\"Layer : \", layer_index, \"  클러스터 갯수 정해짐!  갯수 : \", globals()['G{}_num_clusters_in_layer{}_w'.format(global_epoch, layer_index)], num_clusters_for_w) ########################################################******************************************\n",
    "\n",
    "    # ==========> 클러스터 갯수 정해짐\n",
    "\n",
    "\n",
    "    #----------------------------------------------- 스케일링  ---------------------------------------------------------------------\n",
    "    for num_c_w in range(num_clusters_for_w + 2): #클러스터 갯수 (num_clusters_for_w) 만큼 클러스터용 = 클러스터 갯수가 3이 나왔으면 3개를 만들어야 함\n",
    "        globals()['G{}_c{}_w_layer{}'.format(global_epoch, num_c_w, layer_index)] = 0  #각각 cluster, Act+cluster 용도  \n",
    "        \n",
    "        globals()['w_scaler_c{}_sum'.format(num_c_w)], globals()['int_c{}_w'.format(num_c_w)] = 0, 0 #초기화\n",
    "    \n",
    "        for i in range(1, local):\n",
    "            if globals()['w_layer{}_label'.format(layer_index)][i-1] == num_c_w  : # 클러스터 레이블에 맞게 (0 or 1 or 2 ..) \n",
    "                globals()['w_scaler_c{}_sum'.format(num_c_w)] = globals()['w_scaler_c{}_sum'.format(num_c_w)] + len(globals()['L{}_x_train'.format(i)])\n",
    "\n",
    "\n",
    "                globals()['L{}_layer{}_w'.format(i,layer_index)][0] = np.tanh(globals()['L{}_layer{}_w'.format(i,layer_index)][0])\n",
    "                globals()['L{}_layer{}_w'.format(i,layer_index)][1] = np.tanh(globals()['L{}_layer{}_w'.format(i,layer_index)][1])\n",
    "\n",
    "\n",
    "                globals()['G{}_c{}_w_layer{}'.format(global_epoch, num_c_w, layer_index)] = globals()['G{}_c{}_w_layer{}'.format(global_epoch, num_c_w, layer_index)] + np.array(globals()['L{}_layer{}_w'.format(i,layer_index)])          # 일반 클러스터링\n",
    "                \n",
    "                globals()['int_c{}_w'.format(num_c_w)] = globals()['int_c{}_w'.format(num_c_w)] + 1\n",
    "\n",
    "        globals()['w_scaler{}'.format(num_c_w)] = len(globals()['L{}_x_train'.format(i)]) / globals()['w_scaler_c{}_sum'.format(num_c_w)]\n",
    "        globals()['G{}_c{}_w_layer{}'.format(global_epoch, num_c_w, layer_index)] = globals()['G{}_c{}_w_layer{}'.format(global_epoch, num_c_w, layer_index)] / globals()['int_c{}_w'.format(num_c_w)] #레이어 별 클러스터 자기 갯수만큼 나눠주기=평균\n",
    "\n",
    "    \n",
    "    VAR_final_list_w.append(globals()['var_list_layer{}_w'.format(layer_index)])\n",
    "    VAR_final_list_b.append(globals()['var_list_layer{}_b'.format(layer_index)])\n",
    "\n",
    "#---------------------------------------------------------메모리 삭제-------------------------------------------------------------------\n",
    "\n",
    "transformed = 0\n",
    "Silhouette_sc_c.append(best_Sil_score_c)\n",
    "Cluster_ACC.append(cluster_acc)\n",
    "Cluster_LOSS.append(cluster_loss)\n",
    "\n",
    "## G{}_num_clusters_in_layer{}_w 에 속하는 거 말고 삭제 = 메모리 낭비\n",
    "\n",
    "# Weight, bias 합친 것\n",
    " # FedAvg                   :  G{}_w_layer\n",
    " # 일반 클러스터링          :  G{}_c{}_w_layer{}               클러스터 갯수 파악 : G{}_num_clusters_in_layer{}_w\n",
    " # Actiavtion + 클러스터링  :  G{}_c{}_w_layer{}_Act           클러스터 갯수 파악 : G{}_num_clusters_in_layer{}_w_c_a"
   ]
  },
  {
   "cell_type": "code",
   "execution_count": 10,
   "metadata": {
    "colab": {
     "base_uri": "https://localhost:8080/"
    },
    "id": "T6GDN301TefI",
    "outputId": "7c41f352-57d5-4dfd-dcc2-81cf97b5ef8c",
    "scrolled": true
   },
   "outputs": [
    {
     "name": "stdout",
     "output_type": "stream",
     "text": [
      "1  번째 global_epoch 데이터 랜덤하게 준비!!\n",
      "1  번째 global_epoch 데이터 랜덤 준비완료!!\n",
      "\n",
      "\n",
      "1  번째 global epoch에서 로컬 클라이언트 들 학습시작!\n",
      "\n",
      "학습 중 ...\n",
      "\n",
      "16/16 - 0s - loss: 0.6117 - accuracy: 0.7720\n",
      "16/16 - 0s - loss: 0.5423 - accuracy: 0.7820\n",
      "16/16 - 0s - loss: 0.7488 - accuracy: 0.7180\n",
      "16/16 - 0s - loss: 0.5979 - accuracy: 0.7920\n",
      "16/16 - 0s - loss: 0.5747 - accuracy: 0.7840\n",
      "16/16 - 0s - loss: 0.5193 - accuracy: 0.7820\n",
      "16/16 - 0s - loss: 0.6142 - accuracy: 0.7660\n",
      "16/16 - 0s - loss: 0.4846 - accuracy: 0.8220\n",
      "16/16 - 0s - loss: 0.6802 - accuracy: 0.7300\n",
      "16/16 - 0s - loss: 0.6959 - accuracy: 0.7600\n",
      "16/16 - 0s - loss: 0.6530 - accuracy: 0.7600\n",
      "16/16 - 0s - loss: 0.6652 - accuracy: 0.7380\n",
      "16/16 - 0s - loss: 0.6023 - accuracy: 0.7720\n",
      "16/16 - 0s - loss: 0.5755 - accuracy: 0.7820\n",
      "16/16 - 0s - loss: 0.5934 - accuracy: 0.8020\n",
      "16/16 - 0s - loss: 0.6849 - accuracy: 0.7720\n",
      "16/16 - 0s - loss: 0.6277 - accuracy: 0.7580\n",
      "16/16 - 0s - loss: 0.5249 - accuracy: 0.8020\n",
      "16/16 - 0s - loss: 0.5284 - accuracy: 0.7840\n",
      "16/16 - 0s - loss: 0.6498 - accuracy: 0.7580\n",
      "------------    1  번째 global epoch < Clustering > 로컬 클라이언트 학습 완료!,  Total Training time :  181.89832019805908 ---------------------------\n",
      "\n",
      "\n",
      "Layer :  0   클러스터 갯수 정해짐!  갯수 :  2 0\n"
     ]
    },
    {
     "name": "stderr",
     "output_type": "stream",
     "text": [
      "<ipython-input-10-91a1af1a5106>:147: VisibleDeprecationWarning: Creating an ndarray from ragged nested sequences (which is a list-or-tuple of lists-or-tuples-or ndarrays with different lengths or shapes) is deprecated. If you meant to do this, you must specify 'dtype=object' when creating the ndarray\n",
      "  globals()['G{}_c{}_w_layer{}'.format(global_epoch, num_c_w, layer_index)] = globals()['G{}_c{}_w_layer{}'.format(global_epoch, num_c_w, layer_index)] + np.array(globals()['L{}_layer{}_w_c'.format(i,layer_index)])   # 일반 클러스터링\n"
     ]
    },
    {
     "name": "stdout",
     "output_type": "stream",
     "text": [
      "Layer :  2   클러스터 갯수 정해짐!  갯수 :  2 0\n"
     ]
    },
    {
     "name": "stderr",
     "output_type": "stream",
     "text": [
      "<ipython-input-10-91a1af1a5106>:147: VisibleDeprecationWarning: Creating an ndarray from ragged nested sequences (which is a list-or-tuple of lists-or-tuples-or ndarrays with different lengths or shapes) is deprecated. If you meant to do this, you must specify 'dtype=object' when creating the ndarray\n",
      "  globals()['G{}_c{}_w_layer{}'.format(global_epoch, num_c_w, layer_index)] = globals()['G{}_c{}_w_layer{}'.format(global_epoch, num_c_w, layer_index)] + np.array(globals()['L{}_layer{}_w_c'.format(i,layer_index)])   # 일반 클러스터링\n"
     ]
    },
    {
     "name": "stdout",
     "output_type": "stream",
     "text": [
      "Layer :  4   클러스터 갯수 정해짐!  갯수 :  2 0\n"
     ]
    },
    {
     "name": "stderr",
     "output_type": "stream",
     "text": [
      "<ipython-input-10-91a1af1a5106>:147: VisibleDeprecationWarning: Creating an ndarray from ragged nested sequences (which is a list-or-tuple of lists-or-tuples-or ndarrays with different lengths or shapes) is deprecated. If you meant to do this, you must specify 'dtype=object' when creating the ndarray\n",
      "  globals()['G{}_c{}_w_layer{}'.format(global_epoch, num_c_w, layer_index)] = globals()['G{}_c{}_w_layer{}'.format(global_epoch, num_c_w, layer_index)] + np.array(globals()['L{}_layer{}_w_c'.format(i,layer_index)])   # 일반 클러스터링\n"
     ]
    },
    {
     "name": "stdout",
     "output_type": "stream",
     "text": [
      "Layer :  6   클러스터 갯수 정해짐!  갯수 :  2 0\n"
     ]
    },
    {
     "name": "stderr",
     "output_type": "stream",
     "text": [
      "<ipython-input-10-91a1af1a5106>:147: VisibleDeprecationWarning: Creating an ndarray from ragged nested sequences (which is a list-or-tuple of lists-or-tuples-or ndarrays with different lengths or shapes) is deprecated. If you meant to do this, you must specify 'dtype=object' when creating the ndarray\n",
      "  globals()['G{}_c{}_w_layer{}'.format(global_epoch, num_c_w, layer_index)] = globals()['G{}_c{}_w_layer{}'.format(global_epoch, num_c_w, layer_index)] + np.array(globals()['L{}_layer{}_w_c'.format(i,layer_index)])   # 일반 클러스터링\n"
     ]
    },
    {
     "name": "stdout",
     "output_type": "stream",
     "text": [
      "Layer :  7   클러스터 갯수 정해짐!  갯수 :  6 4\n",
      "\n",
      "\n",
      "====================================================== One Global Epoch =====================================================================\n",
      "\n",
      "\n",
      "2  번째 global_epoch 데이터 랜덤하게 준비!!\n"
     ]
    },
    {
     "name": "stderr",
     "output_type": "stream",
     "text": [
      "<ipython-input-10-91a1af1a5106>:147: VisibleDeprecationWarning: Creating an ndarray from ragged nested sequences (which is a list-or-tuple of lists-or-tuples-or ndarrays with different lengths or shapes) is deprecated. If you meant to do this, you must specify 'dtype=object' when creating the ndarray\n",
      "  globals()['G{}_c{}_w_layer{}'.format(global_epoch, num_c_w, layer_index)] = globals()['G{}_c{}_w_layer{}'.format(global_epoch, num_c_w, layer_index)] + np.array(globals()['L{}_layer{}_w_c'.format(i,layer_index)])   # 일반 클러스터링\n"
     ]
    },
    {
     "name": "stdout",
     "output_type": "stream",
     "text": [
      "2  번째 global_epoch 데이터 랜덤 준비완료!!\n",
      "\n",
      "\n",
      "2  번째 global epoch에서 로컬 클라이언트 들 학습시작!\n",
      "\n",
      "학습 중 ...\n",
      "\n",
      "16/16 - 0s - loss: 0.5189 - accuracy: 0.7920\n",
      "16/16 - 0s - loss: 0.6246 - accuracy: 0.7860\n",
      "16/16 - 0s - loss: 0.6612 - accuracy: 0.7800\n",
      "16/16 - 0s - loss: 0.5929 - accuracy: 0.7740\n",
      "16/16 - 0s - loss: 0.4568 - accuracy: 0.8280\n",
      "16/16 - 0s - loss: 0.5223 - accuracy: 0.8160\n",
      "16/16 - 0s - loss: 0.5642 - accuracy: 0.8020\n",
      "16/16 - 0s - loss: 0.5049 - accuracy: 0.8260\n",
      "16/16 - 0s - loss: 0.6612 - accuracy: 0.7900\n",
      "16/16 - 0s - loss: 0.5764 - accuracy: 0.8020\n",
      "16/16 - 0s - loss: 0.5400 - accuracy: 0.7900\n",
      "16/16 - 0s - loss: 0.5497 - accuracy: 0.7880\n",
      "16/16 - 0s - loss: 0.5071 - accuracy: 0.8040\n",
      "16/16 - 0s - loss: 0.5747 - accuracy: 0.8140\n",
      "16/16 - 0s - loss: 0.5282 - accuracy: 0.7980\n",
      "16/16 - 0s - loss: 0.5711 - accuracy: 0.7880\n",
      "16/16 - 0s - loss: 0.5805 - accuracy: 0.7920\n",
      "16/16 - 0s - loss: 0.6014 - accuracy: 0.7880\n",
      "16/16 - 0s - loss: 0.5783 - accuracy: 0.7940\n",
      "16/16 - 0s - loss: 0.5583 - accuracy: 0.7820\n",
      "------------    2  번째 global epoch < Clustering > 로컬 클라이언트 학습 완료!,  Total Training time :  182.54957485198975 ---------------------------\n",
      "\n",
      "\n",
      "Layer :  0   클러스터 갯수 정해짐!  갯수 :  2 0\n"
     ]
    },
    {
     "name": "stderr",
     "output_type": "stream",
     "text": [
      "<ipython-input-10-91a1af1a5106>:147: VisibleDeprecationWarning: Creating an ndarray from ragged nested sequences (which is a list-or-tuple of lists-or-tuples-or ndarrays with different lengths or shapes) is deprecated. If you meant to do this, you must specify 'dtype=object' when creating the ndarray\n",
      "  globals()['G{}_c{}_w_layer{}'.format(global_epoch, num_c_w, layer_index)] = globals()['G{}_c{}_w_layer{}'.format(global_epoch, num_c_w, layer_index)] + np.array(globals()['L{}_layer{}_w_c'.format(i,layer_index)])   # 일반 클러스터링\n"
     ]
    },
    {
     "name": "stdout",
     "output_type": "stream",
     "text": [
      "Layer :  2   클러스터 갯수 정해짐!  갯수 :  2 0\n"
     ]
    },
    {
     "name": "stderr",
     "output_type": "stream",
     "text": [
      "<ipython-input-10-91a1af1a5106>:147: VisibleDeprecationWarning: Creating an ndarray from ragged nested sequences (which is a list-or-tuple of lists-or-tuples-or ndarrays with different lengths or shapes) is deprecated. If you meant to do this, you must specify 'dtype=object' when creating the ndarray\n",
      "  globals()['G{}_c{}_w_layer{}'.format(global_epoch, num_c_w, layer_index)] = globals()['G{}_c{}_w_layer{}'.format(global_epoch, num_c_w, layer_index)] + np.array(globals()['L{}_layer{}_w_c'.format(i,layer_index)])   # 일반 클러스터링\n"
     ]
    },
    {
     "name": "stdout",
     "output_type": "stream",
     "text": [
      "Layer :  4   클러스터 갯수 정해짐!  갯수 :  2 0\n"
     ]
    },
    {
     "name": "stderr",
     "output_type": "stream",
     "text": [
      "<ipython-input-10-91a1af1a5106>:147: VisibleDeprecationWarning: Creating an ndarray from ragged nested sequences (which is a list-or-tuple of lists-or-tuples-or ndarrays with different lengths or shapes) is deprecated. If you meant to do this, you must specify 'dtype=object' when creating the ndarray\n",
      "  globals()['G{}_c{}_w_layer{}'.format(global_epoch, num_c_w, layer_index)] = globals()['G{}_c{}_w_layer{}'.format(global_epoch, num_c_w, layer_index)] + np.array(globals()['L{}_layer{}_w_c'.format(i,layer_index)])   # 일반 클러스터링\n"
     ]
    },
    {
     "name": "stdout",
     "output_type": "stream",
     "text": [
      "Layer :  6   클러스터 갯수 정해짐!  갯수 :  2 0\n"
     ]
    },
    {
     "name": "stderr",
     "output_type": "stream",
     "text": [
      "<ipython-input-10-91a1af1a5106>:147: VisibleDeprecationWarning: Creating an ndarray from ragged nested sequences (which is a list-or-tuple of lists-or-tuples-or ndarrays with different lengths or shapes) is deprecated. If you meant to do this, you must specify 'dtype=object' when creating the ndarray\n",
      "  globals()['G{}_c{}_w_layer{}'.format(global_epoch, num_c_w, layer_index)] = globals()['G{}_c{}_w_layer{}'.format(global_epoch, num_c_w, layer_index)] + np.array(globals()['L{}_layer{}_w_c'.format(i,layer_index)])   # 일반 클러스터링\n"
     ]
    },
    {
     "name": "stdout",
     "output_type": "stream",
     "text": [
      "Layer :  7   클러스터 갯수 정해짐!  갯수 :  6 4\n",
      "\n",
      "\n",
      "====================================================== One Global Epoch =====================================================================\n",
      "\n",
      "\n",
      "3  번째 global_epoch 데이터 랜덤하게 준비!!\n"
     ]
    },
    {
     "name": "stderr",
     "output_type": "stream",
     "text": [
      "<ipython-input-10-91a1af1a5106>:147: VisibleDeprecationWarning: Creating an ndarray from ragged nested sequences (which is a list-or-tuple of lists-or-tuples-or ndarrays with different lengths or shapes) is deprecated. If you meant to do this, you must specify 'dtype=object' when creating the ndarray\n",
      "  globals()['G{}_c{}_w_layer{}'.format(global_epoch, num_c_w, layer_index)] = globals()['G{}_c{}_w_layer{}'.format(global_epoch, num_c_w, layer_index)] + np.array(globals()['L{}_layer{}_w_c'.format(i,layer_index)])   # 일반 클러스터링\n"
     ]
    },
    {
     "name": "stdout",
     "output_type": "stream",
     "text": [
      "3  번째 global_epoch 데이터 랜덤 준비완료!!\n",
      "\n",
      "\n",
      "3  번째 global epoch에서 로컬 클라이언트 들 학습시작!\n",
      "\n",
      "학습 중 ...\n",
      "\n",
      "16/16 - 0s - loss: 0.4740 - accuracy: 0.8420\n",
      "16/16 - 0s - loss: 0.4659 - accuracy: 0.8380\n",
      "16/16 - 0s - loss: 0.5192 - accuracy: 0.8220\n",
      "16/16 - 0s - loss: 0.5157 - accuracy: 0.8420\n",
      "16/16 - 0s - loss: 0.5215 - accuracy: 0.8280\n",
      "16/16 - 0s - loss: 0.4787 - accuracy: 0.8440\n",
      "16/16 - 0s - loss: 0.5461 - accuracy: 0.8080\n",
      "16/16 - 0s - loss: 0.5215 - accuracy: 0.8320\n",
      "16/16 - 0s - loss: 0.5270 - accuracy: 0.8180\n",
      "16/16 - 0s - loss: 0.4068 - accuracy: 0.8480\n",
      "16/16 - 0s - loss: 0.6033 - accuracy: 0.8220\n",
      "16/16 - 0s - loss: 0.5269 - accuracy: 0.8040\n",
      "16/16 - 0s - loss: 0.5043 - accuracy: 0.8040\n",
      "16/16 - 0s - loss: 0.4978 - accuracy: 0.8300\n",
      "16/16 - 0s - loss: 0.3867 - accuracy: 0.8440\n",
      "16/16 - 0s - loss: 0.5848 - accuracy: 0.7920\n",
      "16/16 - 0s - loss: 0.5408 - accuracy: 0.7940\n",
      "16/16 - 0s - loss: 0.5929 - accuracy: 0.8120\n",
      "16/16 - 0s - loss: 0.4621 - accuracy: 0.8280\n",
      "16/16 - 0s - loss: 0.4376 - accuracy: 0.8480\n",
      "------------    3  번째 global epoch < Clustering > 로컬 클라이언트 학습 완료!,  Total Training time :  186.96740984916687 ---------------------------\n",
      "\n",
      "\n",
      "Layer :  0   클러스터 갯수 정해짐!  갯수 :  2 0\n"
     ]
    },
    {
     "name": "stderr",
     "output_type": "stream",
     "text": [
      "<ipython-input-10-91a1af1a5106>:147: VisibleDeprecationWarning: Creating an ndarray from ragged nested sequences (which is a list-or-tuple of lists-or-tuples-or ndarrays with different lengths or shapes) is deprecated. If you meant to do this, you must specify 'dtype=object' when creating the ndarray\n",
      "  globals()['G{}_c{}_w_layer{}'.format(global_epoch, num_c_w, layer_index)] = globals()['G{}_c{}_w_layer{}'.format(global_epoch, num_c_w, layer_index)] + np.array(globals()['L{}_layer{}_w_c'.format(i,layer_index)])   # 일반 클러스터링\n"
     ]
    },
    {
     "name": "stdout",
     "output_type": "stream",
     "text": [
      "Layer :  2   클러스터 갯수 정해짐!  갯수 :  2 0\n"
     ]
    },
    {
     "name": "stderr",
     "output_type": "stream",
     "text": [
      "<ipython-input-10-91a1af1a5106>:147: VisibleDeprecationWarning: Creating an ndarray from ragged nested sequences (which is a list-or-tuple of lists-or-tuples-or ndarrays with different lengths or shapes) is deprecated. If you meant to do this, you must specify 'dtype=object' when creating the ndarray\n",
      "  globals()['G{}_c{}_w_layer{}'.format(global_epoch, num_c_w, layer_index)] = globals()['G{}_c{}_w_layer{}'.format(global_epoch, num_c_w, layer_index)] + np.array(globals()['L{}_layer{}_w_c'.format(i,layer_index)])   # 일반 클러스터링\n"
     ]
    },
    {
     "name": "stdout",
     "output_type": "stream",
     "text": [
      "Layer :  4   클러스터 갯수 정해짐!  갯수 :  2 0\n"
     ]
    },
    {
     "name": "stderr",
     "output_type": "stream",
     "text": [
      "<ipython-input-10-91a1af1a5106>:147: VisibleDeprecationWarning: Creating an ndarray from ragged nested sequences (which is a list-or-tuple of lists-or-tuples-or ndarrays with different lengths or shapes) is deprecated. If you meant to do this, you must specify 'dtype=object' when creating the ndarray\n",
      "  globals()['G{}_c{}_w_layer{}'.format(global_epoch, num_c_w, layer_index)] = globals()['G{}_c{}_w_layer{}'.format(global_epoch, num_c_w, layer_index)] + np.array(globals()['L{}_layer{}_w_c'.format(i,layer_index)])   # 일반 클러스터링\n"
     ]
    },
    {
     "name": "stdout",
     "output_type": "stream",
     "text": [
      "Layer :  6   클러스터 갯수 정해짐!  갯수 :  2 0\n"
     ]
    },
    {
     "name": "stderr",
     "output_type": "stream",
     "text": [
      "<ipython-input-10-91a1af1a5106>:147: VisibleDeprecationWarning: Creating an ndarray from ragged nested sequences (which is a list-or-tuple of lists-or-tuples-or ndarrays with different lengths or shapes) is deprecated. If you meant to do this, you must specify 'dtype=object' when creating the ndarray\n",
      "  globals()['G{}_c{}_w_layer{}'.format(global_epoch, num_c_w, layer_index)] = globals()['G{}_c{}_w_layer{}'.format(global_epoch, num_c_w, layer_index)] + np.array(globals()['L{}_layer{}_w_c'.format(i,layer_index)])   # 일반 클러스터링\n"
     ]
    },
    {
     "name": "stdout",
     "output_type": "stream",
     "text": [
      "Layer :  7   클러스터 갯수 정해짐!  갯수 :  6 4\n",
      "\n",
      "\n",
      "====================================================== One Global Epoch =====================================================================\n",
      "\n",
      "\n",
      "4  번째 global_epoch 데이터 랜덤하게 준비!!\n"
     ]
    },
    {
     "name": "stderr",
     "output_type": "stream",
     "text": [
      "<ipython-input-10-91a1af1a5106>:147: VisibleDeprecationWarning: Creating an ndarray from ragged nested sequences (which is a list-or-tuple of lists-or-tuples-or ndarrays with different lengths or shapes) is deprecated. If you meant to do this, you must specify 'dtype=object' when creating the ndarray\n",
      "  globals()['G{}_c{}_w_layer{}'.format(global_epoch, num_c_w, layer_index)] = globals()['G{}_c{}_w_layer{}'.format(global_epoch, num_c_w, layer_index)] + np.array(globals()['L{}_layer{}_w_c'.format(i,layer_index)])   # 일반 클러스터링\n"
     ]
    },
    {
     "name": "stdout",
     "output_type": "stream",
     "text": [
      "4  번째 global_epoch 데이터 랜덤 준비완료!!\n",
      "\n",
      "\n",
      "4  번째 global epoch에서 로컬 클라이언트 들 학습시작!\n",
      "\n",
      "학습 중 ...\n",
      "\n",
      "16/16 - 0s - loss: 0.5230 - accuracy: 0.8200\n",
      "16/16 - 0s - loss: 0.5451 - accuracy: 0.8220\n",
      "16/16 - 0s - loss: 0.6563 - accuracy: 0.8200\n",
      "16/16 - 0s - loss: 0.5669 - accuracy: 0.8240\n",
      "16/16 - 0s - loss: 0.5284 - accuracy: 0.8140\n",
      "16/16 - 0s - loss: 0.5406 - accuracy: 0.8460\n",
      "16/16 - 0s - loss: 0.5705 - accuracy: 0.7800\n",
      "16/16 - 0s - loss: 0.5477 - accuracy: 0.8200\n",
      "16/16 - 0s - loss: 0.6604 - accuracy: 0.8100\n",
      "16/16 - 0s - loss: 0.6089 - accuracy: 0.8160\n",
      "16/16 - 0s - loss: 0.5517 - accuracy: 0.8140\n",
      "16/16 - 0s - loss: 0.5098 - accuracy: 0.8200\n",
      "16/16 - 0s - loss: 0.5853 - accuracy: 0.8260\n",
      "16/16 - 0s - loss: 0.5974 - accuracy: 0.8200\n",
      "16/16 - 0s - loss: 0.5189 - accuracy: 0.8200\n",
      "16/16 - 0s - loss: 0.5420 - accuracy: 0.8240\n",
      "16/16 - 0s - loss: 0.5873 - accuracy: 0.8260\n",
      "16/16 - 0s - loss: 0.5992 - accuracy: 0.8220\n",
      "16/16 - 0s - loss: 0.4991 - accuracy: 0.8340\n",
      "16/16 - 0s - loss: 0.6181 - accuracy: 0.7880\n",
      "------------    4  번째 global epoch < Clustering > 로컬 클라이언트 학습 완료!,  Total Training time :  186.7922327518463 ---------------------------\n",
      "\n",
      "\n",
      "Layer :  0   클러스터 갯수 정해짐!  갯수 :  2 0\n"
     ]
    },
    {
     "name": "stderr",
     "output_type": "stream",
     "text": [
      "<ipython-input-10-91a1af1a5106>:147: VisibleDeprecationWarning: Creating an ndarray from ragged nested sequences (which is a list-or-tuple of lists-or-tuples-or ndarrays with different lengths or shapes) is deprecated. If you meant to do this, you must specify 'dtype=object' when creating the ndarray\n",
      "  globals()['G{}_c{}_w_layer{}'.format(global_epoch, num_c_w, layer_index)] = globals()['G{}_c{}_w_layer{}'.format(global_epoch, num_c_w, layer_index)] + np.array(globals()['L{}_layer{}_w_c'.format(i,layer_index)])   # 일반 클러스터링\n"
     ]
    },
    {
     "name": "stdout",
     "output_type": "stream",
     "text": [
      "Layer :  2   클러스터 갯수 정해짐!  갯수 :  2 0\n"
     ]
    },
    {
     "name": "stderr",
     "output_type": "stream",
     "text": [
      "<ipython-input-10-91a1af1a5106>:147: VisibleDeprecationWarning: Creating an ndarray from ragged nested sequences (which is a list-or-tuple of lists-or-tuples-or ndarrays with different lengths or shapes) is deprecated. If you meant to do this, you must specify 'dtype=object' when creating the ndarray\n",
      "  globals()['G{}_c{}_w_layer{}'.format(global_epoch, num_c_w, layer_index)] = globals()['G{}_c{}_w_layer{}'.format(global_epoch, num_c_w, layer_index)] + np.array(globals()['L{}_layer{}_w_c'.format(i,layer_index)])   # 일반 클러스터링\n"
     ]
    },
    {
     "name": "stdout",
     "output_type": "stream",
     "text": [
      "Layer :  4   클러스터 갯수 정해짐!  갯수 :  2 0\n"
     ]
    },
    {
     "name": "stderr",
     "output_type": "stream",
     "text": [
      "<ipython-input-10-91a1af1a5106>:147: VisibleDeprecationWarning: Creating an ndarray from ragged nested sequences (which is a list-or-tuple of lists-or-tuples-or ndarrays with different lengths or shapes) is deprecated. If you meant to do this, you must specify 'dtype=object' when creating the ndarray\n",
      "  globals()['G{}_c{}_w_layer{}'.format(global_epoch, num_c_w, layer_index)] = globals()['G{}_c{}_w_layer{}'.format(global_epoch, num_c_w, layer_index)] + np.array(globals()['L{}_layer{}_w_c'.format(i,layer_index)])   # 일반 클러스터링\n"
     ]
    },
    {
     "name": "stdout",
     "output_type": "stream",
     "text": [
      "Layer :  6   클러스터 갯수 정해짐!  갯수 :  2 0\n"
     ]
    },
    {
     "name": "stderr",
     "output_type": "stream",
     "text": [
      "<ipython-input-10-91a1af1a5106>:147: VisibleDeprecationWarning: Creating an ndarray from ragged nested sequences (which is a list-or-tuple of lists-or-tuples-or ndarrays with different lengths or shapes) is deprecated. If you meant to do this, you must specify 'dtype=object' when creating the ndarray\n",
      "  globals()['G{}_c{}_w_layer{}'.format(global_epoch, num_c_w, layer_index)] = globals()['G{}_c{}_w_layer{}'.format(global_epoch, num_c_w, layer_index)] + np.array(globals()['L{}_layer{}_w_c'.format(i,layer_index)])   # 일반 클러스터링\n"
     ]
    },
    {
     "name": "stdout",
     "output_type": "stream",
     "text": [
      "Layer :  7   클러스터 갯수 정해짐!  갯수 :  6 4\n",
      "\n",
      "\n",
      "====================================================== One Global Epoch =====================================================================\n",
      "\n",
      "\n",
      "5  번째 global_epoch 데이터 랜덤하게 준비!!\n"
     ]
    },
    {
     "name": "stderr",
     "output_type": "stream",
     "text": [
      "<ipython-input-10-91a1af1a5106>:147: VisibleDeprecationWarning: Creating an ndarray from ragged nested sequences (which is a list-or-tuple of lists-or-tuples-or ndarrays with different lengths or shapes) is deprecated. If you meant to do this, you must specify 'dtype=object' when creating the ndarray\n",
      "  globals()['G{}_c{}_w_layer{}'.format(global_epoch, num_c_w, layer_index)] = globals()['G{}_c{}_w_layer{}'.format(global_epoch, num_c_w, layer_index)] + np.array(globals()['L{}_layer{}_w_c'.format(i,layer_index)])   # 일반 클러스터링\n"
     ]
    },
    {
     "name": "stdout",
     "output_type": "stream",
     "text": [
      "5  번째 global_epoch 데이터 랜덤 준비완료!!\n",
      "\n",
      "\n",
      "5  번째 global epoch에서 로컬 클라이언트 들 학습시작!\n",
      "\n",
      "학습 중 ...\n",
      "\n",
      "16/16 - 0s - loss: 0.5076 - accuracy: 0.8400\n",
      "16/16 - 0s - loss: 0.6162 - accuracy: 0.8080\n",
      "16/16 - 0s - loss: 0.5300 - accuracy: 0.8500\n",
      "16/16 - 0s - loss: 0.5674 - accuracy: 0.8460\n",
      "16/16 - 0s - loss: 0.4617 - accuracy: 0.8620\n",
      "16/16 - 0s - loss: 0.6664 - accuracy: 0.8240\n",
      "16/16 - 0s - loss: 0.6712 - accuracy: 0.8020\n",
      "16/16 - 0s - loss: 0.5457 - accuracy: 0.8560\n",
      "16/16 - 0s - loss: 0.4947 - accuracy: 0.8400\n",
      "16/16 - 0s - loss: 0.5721 - accuracy: 0.8220\n",
      "16/16 - 0s - loss: 0.5892 - accuracy: 0.8480\n",
      "16/16 - 0s - loss: 0.6831 - accuracy: 0.8080\n",
      "16/16 - 0s - loss: 0.5690 - accuracy: 0.8400\n",
      "16/16 - 0s - loss: 0.5868 - accuracy: 0.8400\n",
      "16/16 - 0s - loss: 0.4840 - accuracy: 0.8460\n",
      "16/16 - 0s - loss: 0.4709 - accuracy: 0.8620\n",
      "16/16 - 0s - loss: 0.5308 - accuracy: 0.8340\n",
      "16/16 - 0s - loss: 0.5825 - accuracy: 0.8400\n",
      "16/16 - 0s - loss: 0.5257 - accuracy: 0.8320\n",
      "16/16 - 0s - loss: 0.6592 - accuracy: 0.8380\n",
      "------------    5  번째 global epoch < Clustering > 로컬 클라이언트 학습 완료!,  Total Training time :  189.40089797973633 ---------------------------\n",
      "\n",
      "\n",
      "Layer :  0   클러스터 갯수 정해짐!  갯수 :  2 0\n"
     ]
    },
    {
     "name": "stderr",
     "output_type": "stream",
     "text": [
      "<ipython-input-10-91a1af1a5106>:147: VisibleDeprecationWarning: Creating an ndarray from ragged nested sequences (which is a list-or-tuple of lists-or-tuples-or ndarrays with different lengths or shapes) is deprecated. If you meant to do this, you must specify 'dtype=object' when creating the ndarray\n",
      "  globals()['G{}_c{}_w_layer{}'.format(global_epoch, num_c_w, layer_index)] = globals()['G{}_c{}_w_layer{}'.format(global_epoch, num_c_w, layer_index)] + np.array(globals()['L{}_layer{}_w_c'.format(i,layer_index)])   # 일반 클러스터링\n"
     ]
    },
    {
     "name": "stdout",
     "output_type": "stream",
     "text": [
      "Layer :  2   클러스터 갯수 정해짐!  갯수 :  2 0\n"
     ]
    },
    {
     "name": "stderr",
     "output_type": "stream",
     "text": [
      "<ipython-input-10-91a1af1a5106>:147: VisibleDeprecationWarning: Creating an ndarray from ragged nested sequences (which is a list-or-tuple of lists-or-tuples-or ndarrays with different lengths or shapes) is deprecated. If you meant to do this, you must specify 'dtype=object' when creating the ndarray\n",
      "  globals()['G{}_c{}_w_layer{}'.format(global_epoch, num_c_w, layer_index)] = globals()['G{}_c{}_w_layer{}'.format(global_epoch, num_c_w, layer_index)] + np.array(globals()['L{}_layer{}_w_c'.format(i,layer_index)])   # 일반 클러스터링\n"
     ]
    },
    {
     "name": "stdout",
     "output_type": "stream",
     "text": [
      "Layer :  4   클러스터 갯수 정해짐!  갯수 :  2 0\n"
     ]
    },
    {
     "name": "stderr",
     "output_type": "stream",
     "text": [
      "<ipython-input-10-91a1af1a5106>:147: VisibleDeprecationWarning: Creating an ndarray from ragged nested sequences (which is a list-or-tuple of lists-or-tuples-or ndarrays with different lengths or shapes) is deprecated. If you meant to do this, you must specify 'dtype=object' when creating the ndarray\n",
      "  globals()['G{}_c{}_w_layer{}'.format(global_epoch, num_c_w, layer_index)] = globals()['G{}_c{}_w_layer{}'.format(global_epoch, num_c_w, layer_index)] + np.array(globals()['L{}_layer{}_w_c'.format(i,layer_index)])   # 일반 클러스터링\n"
     ]
    },
    {
     "name": "stdout",
     "output_type": "stream",
     "text": [
      "Layer :  6   클러스터 갯수 정해짐!  갯수 :  2 0\n"
     ]
    },
    {
     "name": "stderr",
     "output_type": "stream",
     "text": [
      "<ipython-input-10-91a1af1a5106>:147: VisibleDeprecationWarning: Creating an ndarray from ragged nested sequences (which is a list-or-tuple of lists-or-tuples-or ndarrays with different lengths or shapes) is deprecated. If you meant to do this, you must specify 'dtype=object' when creating the ndarray\n",
      "  globals()['G{}_c{}_w_layer{}'.format(global_epoch, num_c_w, layer_index)] = globals()['G{}_c{}_w_layer{}'.format(global_epoch, num_c_w, layer_index)] + np.array(globals()['L{}_layer{}_w_c'.format(i,layer_index)])   # 일반 클러스터링\n"
     ]
    },
    {
     "name": "stdout",
     "output_type": "stream",
     "text": [
      "Layer :  7   클러스터 갯수 정해짐!  갯수 :  6 4\n",
      "\n",
      "\n",
      "====================================================== One Global Epoch =====================================================================\n",
      "\n",
      "\n",
      "6  번째 global_epoch 데이터 랜덤하게 준비!!\n"
     ]
    },
    {
     "name": "stderr",
     "output_type": "stream",
     "text": [
      "<ipython-input-10-91a1af1a5106>:147: VisibleDeprecationWarning: Creating an ndarray from ragged nested sequences (which is a list-or-tuple of lists-or-tuples-or ndarrays with different lengths or shapes) is deprecated. If you meant to do this, you must specify 'dtype=object' when creating the ndarray\n",
      "  globals()['G{}_c{}_w_layer{}'.format(global_epoch, num_c_w, layer_index)] = globals()['G{}_c{}_w_layer{}'.format(global_epoch, num_c_w, layer_index)] + np.array(globals()['L{}_layer{}_w_c'.format(i,layer_index)])   # 일반 클러스터링\n"
     ]
    },
    {
     "name": "stdout",
     "output_type": "stream",
     "text": [
      "6  번째 global_epoch 데이터 랜덤 준비완료!!\n",
      "\n",
      "\n",
      "6  번째 global epoch에서 로컬 클라이언트 들 학습시작!\n",
      "\n",
      "학습 중 ...\n",
      "\n",
      "16/16 - 0s - loss: 0.4971 - accuracy: 0.8480\n",
      "16/16 - 0s - loss: 0.5406 - accuracy: 0.8480\n",
      "16/16 - 0s - loss: 0.5515 - accuracy: 0.8620\n",
      "16/16 - 0s - loss: 0.6330 - accuracy: 0.8300\n",
      "16/16 - 0s - loss: 0.6279 - accuracy: 0.8240\n",
      "16/16 - 0s - loss: 0.5595 - accuracy: 0.8420\n",
      "16/16 - 0s - loss: 0.5307 - accuracy: 0.8720\n",
      "16/16 - 0s - loss: 0.6478 - accuracy: 0.8300\n",
      "16/16 - 0s - loss: 0.4810 - accuracy: 0.8600\n",
      "16/16 - 0s - loss: 0.5472 - accuracy: 0.8500\n",
      "16/16 - 0s - loss: 0.5780 - accuracy: 0.8180\n",
      "16/16 - 0s - loss: 0.5428 - accuracy: 0.8260\n",
      "16/16 - 0s - loss: 0.4780 - accuracy: 0.8640\n",
      "16/16 - 0s - loss: 0.6572 - accuracy: 0.8320\n",
      "16/16 - 0s - loss: 0.5809 - accuracy: 0.8560\n",
      "16/16 - 0s - loss: 0.5181 - accuracy: 0.8420\n",
      "16/16 - 0s - loss: 0.6026 - accuracy: 0.8520\n",
      "16/16 - 0s - loss: 0.4325 - accuracy: 0.8680\n",
      "16/16 - 0s - loss: 0.5534 - accuracy: 0.8320\n",
      "16/16 - 0s - loss: 0.5041 - accuracy: 0.8560\n",
      "------------    6  번째 global epoch < Clustering > 로컬 클라이언트 학습 완료!,  Total Training time :  193.77404475212097 ---------------------------\n",
      "\n",
      "\n",
      "Layer :  0   클러스터 갯수 정해짐!  갯수 :  2 0\n"
     ]
    },
    {
     "name": "stderr",
     "output_type": "stream",
     "text": [
      "<ipython-input-10-91a1af1a5106>:147: VisibleDeprecationWarning: Creating an ndarray from ragged nested sequences (which is a list-or-tuple of lists-or-tuples-or ndarrays with different lengths or shapes) is deprecated. If you meant to do this, you must specify 'dtype=object' when creating the ndarray\n",
      "  globals()['G{}_c{}_w_layer{}'.format(global_epoch, num_c_w, layer_index)] = globals()['G{}_c{}_w_layer{}'.format(global_epoch, num_c_w, layer_index)] + np.array(globals()['L{}_layer{}_w_c'.format(i,layer_index)])   # 일반 클러스터링\n"
     ]
    },
    {
     "name": "stdout",
     "output_type": "stream",
     "text": [
      "Layer :  2   클러스터 갯수 정해짐!  갯수 :  2 0\n"
     ]
    },
    {
     "name": "stderr",
     "output_type": "stream",
     "text": [
      "<ipython-input-10-91a1af1a5106>:147: VisibleDeprecationWarning: Creating an ndarray from ragged nested sequences (which is a list-or-tuple of lists-or-tuples-or ndarrays with different lengths or shapes) is deprecated. If you meant to do this, you must specify 'dtype=object' when creating the ndarray\n",
      "  globals()['G{}_c{}_w_layer{}'.format(global_epoch, num_c_w, layer_index)] = globals()['G{}_c{}_w_layer{}'.format(global_epoch, num_c_w, layer_index)] + np.array(globals()['L{}_layer{}_w_c'.format(i,layer_index)])   # 일반 클러스터링\n"
     ]
    },
    {
     "name": "stdout",
     "output_type": "stream",
     "text": [
      "Layer :  4   클러스터 갯수 정해짐!  갯수 :  2 0\n"
     ]
    },
    {
     "name": "stderr",
     "output_type": "stream",
     "text": [
      "<ipython-input-10-91a1af1a5106>:147: VisibleDeprecationWarning: Creating an ndarray from ragged nested sequences (which is a list-or-tuple of lists-or-tuples-or ndarrays with different lengths or shapes) is deprecated. If you meant to do this, you must specify 'dtype=object' when creating the ndarray\n",
      "  globals()['G{}_c{}_w_layer{}'.format(global_epoch, num_c_w, layer_index)] = globals()['G{}_c{}_w_layer{}'.format(global_epoch, num_c_w, layer_index)] + np.array(globals()['L{}_layer{}_w_c'.format(i,layer_index)])   # 일반 클러스터링\n"
     ]
    },
    {
     "name": "stdout",
     "output_type": "stream",
     "text": [
      "Layer :  6   클러스터 갯수 정해짐!  갯수 :  2 0\n"
     ]
    },
    {
     "name": "stderr",
     "output_type": "stream",
     "text": [
      "<ipython-input-10-91a1af1a5106>:147: VisibleDeprecationWarning: Creating an ndarray from ragged nested sequences (which is a list-or-tuple of lists-or-tuples-or ndarrays with different lengths or shapes) is deprecated. If you meant to do this, you must specify 'dtype=object' when creating the ndarray\n",
      "  globals()['G{}_c{}_w_layer{}'.format(global_epoch, num_c_w, layer_index)] = globals()['G{}_c{}_w_layer{}'.format(global_epoch, num_c_w, layer_index)] + np.array(globals()['L{}_layer{}_w_c'.format(i,layer_index)])   # 일반 클러스터링\n"
     ]
    },
    {
     "name": "stdout",
     "output_type": "stream",
     "text": [
      "Layer :  7   클러스터 갯수 정해짐!  갯수 :  6 4\n",
      "\n",
      "\n",
      "====================================================== One Global Epoch =====================================================================\n",
      "\n",
      "\n",
      "7  번째 global_epoch 데이터 랜덤하게 준비!!\n"
     ]
    },
    {
     "name": "stderr",
     "output_type": "stream",
     "text": [
      "<ipython-input-10-91a1af1a5106>:147: VisibleDeprecationWarning: Creating an ndarray from ragged nested sequences (which is a list-or-tuple of lists-or-tuples-or ndarrays with different lengths or shapes) is deprecated. If you meant to do this, you must specify 'dtype=object' when creating the ndarray\n",
      "  globals()['G{}_c{}_w_layer{}'.format(global_epoch, num_c_w, layer_index)] = globals()['G{}_c{}_w_layer{}'.format(global_epoch, num_c_w, layer_index)] + np.array(globals()['L{}_layer{}_w_c'.format(i,layer_index)])   # 일반 클러스터링\n"
     ]
    },
    {
     "name": "stdout",
     "output_type": "stream",
     "text": [
      "7  번째 global_epoch 데이터 랜덤 준비완료!!\n",
      "\n",
      "\n",
      "7  번째 global epoch에서 로컬 클라이언트 들 학습시작!\n",
      "\n",
      "학습 중 ...\n",
      "\n",
      "16/16 - 0s - loss: 0.4891 - accuracy: 0.8520\n",
      "16/16 - 0s - loss: 0.5593 - accuracy: 0.8660\n",
      "16/16 - 0s - loss: 0.6537 - accuracy: 0.8340\n",
      "16/16 - 0s - loss: 0.4954 - accuracy: 0.8640\n",
      "16/16 - 0s - loss: 0.6489 - accuracy: 0.8600\n",
      "16/16 - 0s - loss: 0.5550 - accuracy: 0.8680\n",
      "16/16 - 0s - loss: 0.4727 - accuracy: 0.8500\n",
      "16/16 - 0s - loss: 0.5689 - accuracy: 0.8140\n",
      "16/16 - 0s - loss: 0.5528 - accuracy: 0.8500\n",
      "16/16 - 0s - loss: 0.5520 - accuracy: 0.8440\n",
      "16/16 - 0s - loss: 0.6581 - accuracy: 0.8280\n",
      "16/16 - 0s - loss: 0.5620 - accuracy: 0.8680\n",
      "16/16 - 0s - loss: 0.5733 - accuracy: 0.8500\n",
      "16/16 - 0s - loss: 0.5294 - accuracy: 0.8880\n",
      "16/16 - 0s - loss: 0.6006 - accuracy: 0.8500\n",
      "16/16 - 0s - loss: 0.6114 - accuracy: 0.8420\n",
      "16/16 - 0s - loss: 0.6797 - accuracy: 0.8260\n",
      "16/16 - 0s - loss: 0.5631 - accuracy: 0.8660\n",
      "16/16 - 0s - loss: 0.4910 - accuracy: 0.8640\n",
      "16/16 - 0s - loss: 0.6210 - accuracy: 0.8460\n",
      "------------    7  번째 global epoch < Clustering > 로컬 클라이언트 학습 완료!,  Total Training time :  193.51802897453308 ---------------------------\n",
      "\n",
      "\n",
      "Layer :  0   클러스터 갯수 정해짐!  갯수 :  2 0\n"
     ]
    },
    {
     "name": "stderr",
     "output_type": "stream",
     "text": [
      "<ipython-input-10-91a1af1a5106>:147: VisibleDeprecationWarning: Creating an ndarray from ragged nested sequences (which is a list-or-tuple of lists-or-tuples-or ndarrays with different lengths or shapes) is deprecated. If you meant to do this, you must specify 'dtype=object' when creating the ndarray\n",
      "  globals()['G{}_c{}_w_layer{}'.format(global_epoch, num_c_w, layer_index)] = globals()['G{}_c{}_w_layer{}'.format(global_epoch, num_c_w, layer_index)] + np.array(globals()['L{}_layer{}_w_c'.format(i,layer_index)])   # 일반 클러스터링\n"
     ]
    },
    {
     "name": "stdout",
     "output_type": "stream",
     "text": [
      "Layer :  2   클러스터 갯수 정해짐!  갯수 :  2 0\n"
     ]
    },
    {
     "name": "stderr",
     "output_type": "stream",
     "text": [
      "<ipython-input-10-91a1af1a5106>:147: VisibleDeprecationWarning: Creating an ndarray from ragged nested sequences (which is a list-or-tuple of lists-or-tuples-or ndarrays with different lengths or shapes) is deprecated. If you meant to do this, you must specify 'dtype=object' when creating the ndarray\n",
      "  globals()['G{}_c{}_w_layer{}'.format(global_epoch, num_c_w, layer_index)] = globals()['G{}_c{}_w_layer{}'.format(global_epoch, num_c_w, layer_index)] + np.array(globals()['L{}_layer{}_w_c'.format(i,layer_index)])   # 일반 클러스터링\n"
     ]
    },
    {
     "name": "stdout",
     "output_type": "stream",
     "text": [
      "Layer :  4   클러스터 갯수 정해짐!  갯수 :  2 0\n"
     ]
    },
    {
     "name": "stderr",
     "output_type": "stream",
     "text": [
      "<ipython-input-10-91a1af1a5106>:147: VisibleDeprecationWarning: Creating an ndarray from ragged nested sequences (which is a list-or-tuple of lists-or-tuples-or ndarrays with different lengths or shapes) is deprecated. If you meant to do this, you must specify 'dtype=object' when creating the ndarray\n",
      "  globals()['G{}_c{}_w_layer{}'.format(global_epoch, num_c_w, layer_index)] = globals()['G{}_c{}_w_layer{}'.format(global_epoch, num_c_w, layer_index)] + np.array(globals()['L{}_layer{}_w_c'.format(i,layer_index)])   # 일반 클러스터링\n"
     ]
    },
    {
     "name": "stdout",
     "output_type": "stream",
     "text": [
      "Layer :  6   클러스터 갯수 정해짐!  갯수 :  2 0\n"
     ]
    },
    {
     "name": "stderr",
     "output_type": "stream",
     "text": [
      "<ipython-input-10-91a1af1a5106>:147: VisibleDeprecationWarning: Creating an ndarray from ragged nested sequences (which is a list-or-tuple of lists-or-tuples-or ndarrays with different lengths or shapes) is deprecated. If you meant to do this, you must specify 'dtype=object' when creating the ndarray\n",
      "  globals()['G{}_c{}_w_layer{}'.format(global_epoch, num_c_w, layer_index)] = globals()['G{}_c{}_w_layer{}'.format(global_epoch, num_c_w, layer_index)] + np.array(globals()['L{}_layer{}_w_c'.format(i,layer_index)])   # 일반 클러스터링\n"
     ]
    },
    {
     "name": "stdout",
     "output_type": "stream",
     "text": [
      "Layer :  7   클러스터 갯수 정해짐!  갯수 :  6 4\n",
      "\n",
      "\n",
      "====================================================== One Global Epoch =====================================================================\n",
      "\n",
      "\n",
      "8  번째 global_epoch 데이터 랜덤하게 준비!!\n"
     ]
    },
    {
     "name": "stderr",
     "output_type": "stream",
     "text": [
      "<ipython-input-10-91a1af1a5106>:147: VisibleDeprecationWarning: Creating an ndarray from ragged nested sequences (which is a list-or-tuple of lists-or-tuples-or ndarrays with different lengths or shapes) is deprecated. If you meant to do this, you must specify 'dtype=object' when creating the ndarray\n",
      "  globals()['G{}_c{}_w_layer{}'.format(global_epoch, num_c_w, layer_index)] = globals()['G{}_c{}_w_layer{}'.format(global_epoch, num_c_w, layer_index)] + np.array(globals()['L{}_layer{}_w_c'.format(i,layer_index)])   # 일반 클러스터링\n"
     ]
    },
    {
     "name": "stdout",
     "output_type": "stream",
     "text": [
      "8  번째 global_epoch 데이터 랜덤 준비완료!!\n",
      "\n",
      "\n",
      "8  번째 global epoch에서 로컬 클라이언트 들 학습시작!\n",
      "\n",
      "학습 중 ...\n",
      "\n",
      "16/16 - 0s - loss: 0.5193 - accuracy: 0.8680\n",
      "16/16 - 0s - loss: 0.6757 - accuracy: 0.8540\n",
      "16/16 - 0s - loss: 0.6464 - accuracy: 0.8420\n",
      "16/16 - 0s - loss: 0.5791 - accuracy: 0.8480\n",
      "16/16 - 0s - loss: 0.5375 - accuracy: 0.8760\n",
      "16/16 - 0s - loss: 0.6287 - accuracy: 0.8520\n",
      "16/16 - 0s - loss: 0.5483 - accuracy: 0.8600\n",
      "16/16 - 0s - loss: 0.5591 - accuracy: 0.8660\n",
      "16/16 - 0s - loss: 0.4596 - accuracy: 0.8780\n",
      "16/16 - 0s - loss: 0.7265 - accuracy: 0.8360\n",
      "16/16 - 0s - loss: 0.5211 - accuracy: 0.8640\n",
      "16/16 - 0s - loss: 0.6917 - accuracy: 0.8420\n",
      "16/16 - 0s - loss: 0.4627 - accuracy: 0.8740\n",
      "16/16 - 0s - loss: 0.3943 - accuracy: 0.8820\n",
      "16/16 - 0s - loss: 0.5886 - accuracy: 0.8560\n",
      "16/16 - 0s - loss: 0.6812 - accuracy: 0.8400\n",
      "16/16 - 0s - loss: 0.6147 - accuracy: 0.8540\n",
      "16/16 - 0s - loss: 0.5189 - accuracy: 0.8660\n",
      "16/16 - 0s - loss: 0.4927 - accuracy: 0.8740\n",
      "16/16 - 0s - loss: 0.6193 - accuracy: 0.8620\n",
      "------------    8  번째 global epoch < Clustering > 로컬 클라이언트 학습 완료!,  Total Training time :  196.06327605247498 ---------------------------\n",
      "\n",
      "\n",
      "Layer :  0   클러스터 갯수 정해짐!  갯수 :  2 0\n"
     ]
    },
    {
     "name": "stderr",
     "output_type": "stream",
     "text": [
      "<ipython-input-10-91a1af1a5106>:147: VisibleDeprecationWarning: Creating an ndarray from ragged nested sequences (which is a list-or-tuple of lists-or-tuples-or ndarrays with different lengths or shapes) is deprecated. If you meant to do this, you must specify 'dtype=object' when creating the ndarray\n",
      "  globals()['G{}_c{}_w_layer{}'.format(global_epoch, num_c_w, layer_index)] = globals()['G{}_c{}_w_layer{}'.format(global_epoch, num_c_w, layer_index)] + np.array(globals()['L{}_layer{}_w_c'.format(i,layer_index)])   # 일반 클러스터링\n"
     ]
    },
    {
     "name": "stdout",
     "output_type": "stream",
     "text": [
      "Layer :  2   클러스터 갯수 정해짐!  갯수 :  2 0\n"
     ]
    },
    {
     "name": "stderr",
     "output_type": "stream",
     "text": [
      "<ipython-input-10-91a1af1a5106>:147: VisibleDeprecationWarning: Creating an ndarray from ragged nested sequences (which is a list-or-tuple of lists-or-tuples-or ndarrays with different lengths or shapes) is deprecated. If you meant to do this, you must specify 'dtype=object' when creating the ndarray\n",
      "  globals()['G{}_c{}_w_layer{}'.format(global_epoch, num_c_w, layer_index)] = globals()['G{}_c{}_w_layer{}'.format(global_epoch, num_c_w, layer_index)] + np.array(globals()['L{}_layer{}_w_c'.format(i,layer_index)])   # 일반 클러스터링\n"
     ]
    },
    {
     "name": "stdout",
     "output_type": "stream",
     "text": [
      "Layer :  4   클러스터 갯수 정해짐!  갯수 :  2 0\n"
     ]
    },
    {
     "name": "stderr",
     "output_type": "stream",
     "text": [
      "<ipython-input-10-91a1af1a5106>:147: VisibleDeprecationWarning: Creating an ndarray from ragged nested sequences (which is a list-or-tuple of lists-or-tuples-or ndarrays with different lengths or shapes) is deprecated. If you meant to do this, you must specify 'dtype=object' when creating the ndarray\n",
      "  globals()['G{}_c{}_w_layer{}'.format(global_epoch, num_c_w, layer_index)] = globals()['G{}_c{}_w_layer{}'.format(global_epoch, num_c_w, layer_index)] + np.array(globals()['L{}_layer{}_w_c'.format(i,layer_index)])   # 일반 클러스터링\n"
     ]
    },
    {
     "name": "stdout",
     "output_type": "stream",
     "text": [
      "Layer :  6   클러스터 갯수 정해짐!  갯수 :  2 0\n"
     ]
    },
    {
     "name": "stderr",
     "output_type": "stream",
     "text": [
      "<ipython-input-10-91a1af1a5106>:147: VisibleDeprecationWarning: Creating an ndarray from ragged nested sequences (which is a list-or-tuple of lists-or-tuples-or ndarrays with different lengths or shapes) is deprecated. If you meant to do this, you must specify 'dtype=object' when creating the ndarray\n",
      "  globals()['G{}_c{}_w_layer{}'.format(global_epoch, num_c_w, layer_index)] = globals()['G{}_c{}_w_layer{}'.format(global_epoch, num_c_w, layer_index)] + np.array(globals()['L{}_layer{}_w_c'.format(i,layer_index)])   # 일반 클러스터링\n"
     ]
    },
    {
     "name": "stdout",
     "output_type": "stream",
     "text": [
      "Layer :  7   클러스터 갯수 정해짐!  갯수 :  6 4\n",
      "\n",
      "\n",
      "====================================================== One Global Epoch =====================================================================\n",
      "\n",
      "\n",
      "9  번째 global_epoch 데이터 랜덤하게 준비!!\n"
     ]
    },
    {
     "name": "stderr",
     "output_type": "stream",
     "text": [
      "<ipython-input-10-91a1af1a5106>:147: VisibleDeprecationWarning: Creating an ndarray from ragged nested sequences (which is a list-or-tuple of lists-or-tuples-or ndarrays with different lengths or shapes) is deprecated. If you meant to do this, you must specify 'dtype=object' when creating the ndarray\n",
      "  globals()['G{}_c{}_w_layer{}'.format(global_epoch, num_c_w, layer_index)] = globals()['G{}_c{}_w_layer{}'.format(global_epoch, num_c_w, layer_index)] + np.array(globals()['L{}_layer{}_w_c'.format(i,layer_index)])   # 일반 클러스터링\n"
     ]
    },
    {
     "name": "stdout",
     "output_type": "stream",
     "text": [
      "9  번째 global_epoch 데이터 랜덤 준비완료!!\n",
      "\n",
      "\n",
      "9  번째 global epoch에서 로컬 클라이언트 들 학습시작!\n",
      "\n",
      "학습 중 ...\n",
      "\n",
      "16/16 - 0s - loss: 0.6546 - accuracy: 0.8440\n",
      "16/16 - 0s - loss: 0.5685 - accuracy: 0.8720\n",
      "16/16 - 0s - loss: 0.5902 - accuracy: 0.8640\n",
      "16/16 - 0s - loss: 0.6399 - accuracy: 0.8460\n",
      "16/16 - 0s - loss: 0.6942 - accuracy: 0.8720\n",
      "16/16 - 0s - loss: 0.6561 - accuracy: 0.8200\n",
      "16/16 - 0s - loss: 0.5789 - accuracy: 0.8580\n",
      "16/16 - 0s - loss: 0.5806 - accuracy: 0.8640\n",
      "16/16 - 0s - loss: 0.6971 - accuracy: 0.8200\n",
      "16/16 - 0s - loss: 0.5461 - accuracy: 0.8480\n",
      "16/16 - 0s - loss: 0.6088 - accuracy: 0.8500\n",
      "16/16 - 0s - loss: 0.4920 - accuracy: 0.8640\n",
      "16/16 - 0s - loss: 0.6372 - accuracy: 0.8380\n",
      "16/16 - 0s - loss: 0.6472 - accuracy: 0.8760\n",
      "16/16 - 0s - loss: 0.6382 - accuracy: 0.8400\n",
      "16/16 - 0s - loss: 0.4316 - accuracy: 0.8860\n",
      "16/16 - 0s - loss: 0.5598 - accuracy: 0.8620\n",
      "16/16 - 0s - loss: 0.6652 - accuracy: 0.8540\n",
      "16/16 - 0s - loss: 0.4623 - accuracy: 0.8600\n",
      "16/16 - 0s - loss: 0.6658 - accuracy: 0.8540\n",
      "------------    9  번째 global epoch < Clustering > 로컬 클라이언트 학습 완료!,  Total Training time :  201.16351628303528 ---------------------------\n",
      "\n",
      "\n",
      "Layer :  0   클러스터 갯수 정해짐!  갯수 :  2 0\n"
     ]
    },
    {
     "name": "stderr",
     "output_type": "stream",
     "text": [
      "<ipython-input-10-91a1af1a5106>:147: VisibleDeprecationWarning: Creating an ndarray from ragged nested sequences (which is a list-or-tuple of lists-or-tuples-or ndarrays with different lengths or shapes) is deprecated. If you meant to do this, you must specify 'dtype=object' when creating the ndarray\n",
      "  globals()['G{}_c{}_w_layer{}'.format(global_epoch, num_c_w, layer_index)] = globals()['G{}_c{}_w_layer{}'.format(global_epoch, num_c_w, layer_index)] + np.array(globals()['L{}_layer{}_w_c'.format(i,layer_index)])   # 일반 클러스터링\n"
     ]
    },
    {
     "name": "stdout",
     "output_type": "stream",
     "text": [
      "Layer :  2   클러스터 갯수 정해짐!  갯수 :  2 0\n"
     ]
    },
    {
     "name": "stderr",
     "output_type": "stream",
     "text": [
      "<ipython-input-10-91a1af1a5106>:147: VisibleDeprecationWarning: Creating an ndarray from ragged nested sequences (which is a list-or-tuple of lists-or-tuples-or ndarrays with different lengths or shapes) is deprecated. If you meant to do this, you must specify 'dtype=object' when creating the ndarray\n",
      "  globals()['G{}_c{}_w_layer{}'.format(global_epoch, num_c_w, layer_index)] = globals()['G{}_c{}_w_layer{}'.format(global_epoch, num_c_w, layer_index)] + np.array(globals()['L{}_layer{}_w_c'.format(i,layer_index)])   # 일반 클러스터링\n"
     ]
    },
    {
     "name": "stdout",
     "output_type": "stream",
     "text": [
      "Layer :  4   클러스터 갯수 정해짐!  갯수 :  2 0\n"
     ]
    },
    {
     "name": "stderr",
     "output_type": "stream",
     "text": [
      "<ipython-input-10-91a1af1a5106>:147: VisibleDeprecationWarning: Creating an ndarray from ragged nested sequences (which is a list-or-tuple of lists-or-tuples-or ndarrays with different lengths or shapes) is deprecated. If you meant to do this, you must specify 'dtype=object' when creating the ndarray\n",
      "  globals()['G{}_c{}_w_layer{}'.format(global_epoch, num_c_w, layer_index)] = globals()['G{}_c{}_w_layer{}'.format(global_epoch, num_c_w, layer_index)] + np.array(globals()['L{}_layer{}_w_c'.format(i,layer_index)])   # 일반 클러스터링\n"
     ]
    },
    {
     "name": "stdout",
     "output_type": "stream",
     "text": [
      "Layer :  6   클러스터 갯수 정해짐!  갯수 :  2 0\n"
     ]
    },
    {
     "name": "stderr",
     "output_type": "stream",
     "text": [
      "<ipython-input-10-91a1af1a5106>:147: VisibleDeprecationWarning: Creating an ndarray from ragged nested sequences (which is a list-or-tuple of lists-or-tuples-or ndarrays with different lengths or shapes) is deprecated. If you meant to do this, you must specify 'dtype=object' when creating the ndarray\n",
      "  globals()['G{}_c{}_w_layer{}'.format(global_epoch, num_c_w, layer_index)] = globals()['G{}_c{}_w_layer{}'.format(global_epoch, num_c_w, layer_index)] + np.array(globals()['L{}_layer{}_w_c'.format(i,layer_index)])   # 일반 클러스터링\n"
     ]
    },
    {
     "name": "stdout",
     "output_type": "stream",
     "text": [
      "Layer :  7   클러스터 갯수 정해짐!  갯수 :  6 4\n",
      "\n",
      "\n",
      "====================================================== One Global Epoch =====================================================================\n",
      "\n",
      "\n",
      "10  번째 global_epoch 데이터 랜덤하게 준비!!\n"
     ]
    },
    {
     "name": "stderr",
     "output_type": "stream",
     "text": [
      "<ipython-input-10-91a1af1a5106>:147: VisibleDeprecationWarning: Creating an ndarray from ragged nested sequences (which is a list-or-tuple of lists-or-tuples-or ndarrays with different lengths or shapes) is deprecated. If you meant to do this, you must specify 'dtype=object' when creating the ndarray\n",
      "  globals()['G{}_c{}_w_layer{}'.format(global_epoch, num_c_w, layer_index)] = globals()['G{}_c{}_w_layer{}'.format(global_epoch, num_c_w, layer_index)] + np.array(globals()['L{}_layer{}_w_c'.format(i,layer_index)])   # 일반 클러스터링\n"
     ]
    },
    {
     "name": "stdout",
     "output_type": "stream",
     "text": [
      "10  번째 global_epoch 데이터 랜덤 준비완료!!\n",
      "\n",
      "\n",
      "10  번째 global epoch에서 로컬 클라이언트 들 학습시작!\n",
      "\n",
      "학습 중 ...\n",
      "\n",
      "16/16 - 0s - loss: 0.6955 - accuracy: 0.8460\n",
      "16/16 - 0s - loss: 0.5902 - accuracy: 0.8780\n",
      "16/16 - 0s - loss: 0.4840 - accuracy: 0.8680\n",
      "16/16 - 0s - loss: 0.4173 - accuracy: 0.8800\n",
      "16/16 - 0s - loss: 0.6429 - accuracy: 0.8660\n",
      "16/16 - 0s - loss: 0.4322 - accuracy: 0.8920\n",
      "16/16 - 0s - loss: 0.4170 - accuracy: 0.8840\n",
      "16/16 - 0s - loss: 0.6720 - accuracy: 0.8500\n",
      "16/16 - 0s - loss: 0.5275 - accuracy: 0.8660\n",
      "16/16 - 0s - loss: 0.4632 - accuracy: 0.8840\n",
      "16/16 - 0s - loss: 0.6859 - accuracy: 0.8500\n",
      "16/16 - 0s - loss: 0.5557 - accuracy: 0.8480\n",
      "16/16 - 0s - loss: 0.3924 - accuracy: 0.8900\n",
      "16/16 - 0s - loss: 0.7658 - accuracy: 0.8220\n",
      "16/16 - 0s - loss: 0.7638 - accuracy: 0.8280\n",
      "16/16 - 0s - loss: 0.5052 - accuracy: 0.8660\n",
      "16/16 - 0s - loss: 0.4732 - accuracy: 0.8780\n",
      "16/16 - 0s - loss: 0.6325 - accuracy: 0.8400\n",
      "16/16 - 0s - loss: 0.5390 - accuracy: 0.8660\n",
      "16/16 - 0s - loss: 0.5354 - accuracy: 0.8880\n",
      "------------    10  번째 global epoch < Clustering > 로컬 클라이언트 학습 완료!,  Total Training time :  203.20044422149658 ---------------------------\n",
      "\n",
      "\n",
      "Layer :  0   클러스터 갯수 정해짐!  갯수 :  2 0\n"
     ]
    },
    {
     "name": "stderr",
     "output_type": "stream",
     "text": [
      "<ipython-input-10-91a1af1a5106>:147: VisibleDeprecationWarning: Creating an ndarray from ragged nested sequences (which is a list-or-tuple of lists-or-tuples-or ndarrays with different lengths or shapes) is deprecated. If you meant to do this, you must specify 'dtype=object' when creating the ndarray\n",
      "  globals()['G{}_c{}_w_layer{}'.format(global_epoch, num_c_w, layer_index)] = globals()['G{}_c{}_w_layer{}'.format(global_epoch, num_c_w, layer_index)] + np.array(globals()['L{}_layer{}_w_c'.format(i,layer_index)])   # 일반 클러스터링\n"
     ]
    },
    {
     "name": "stdout",
     "output_type": "stream",
     "text": [
      "Layer :  2   클러스터 갯수 정해짐!  갯수 :  2 0\n"
     ]
    },
    {
     "name": "stderr",
     "output_type": "stream",
     "text": [
      "<ipython-input-10-91a1af1a5106>:147: VisibleDeprecationWarning: Creating an ndarray from ragged nested sequences (which is a list-or-tuple of lists-or-tuples-or ndarrays with different lengths or shapes) is deprecated. If you meant to do this, you must specify 'dtype=object' when creating the ndarray\n",
      "  globals()['G{}_c{}_w_layer{}'.format(global_epoch, num_c_w, layer_index)] = globals()['G{}_c{}_w_layer{}'.format(global_epoch, num_c_w, layer_index)] + np.array(globals()['L{}_layer{}_w_c'.format(i,layer_index)])   # 일반 클러스터링\n"
     ]
    },
    {
     "name": "stdout",
     "output_type": "stream",
     "text": [
      "Layer :  4   클러스터 갯수 정해짐!  갯수 :  2 0\n"
     ]
    },
    {
     "name": "stderr",
     "output_type": "stream",
     "text": [
      "<ipython-input-10-91a1af1a5106>:147: VisibleDeprecationWarning: Creating an ndarray from ragged nested sequences (which is a list-or-tuple of lists-or-tuples-or ndarrays with different lengths or shapes) is deprecated. If you meant to do this, you must specify 'dtype=object' when creating the ndarray\n",
      "  globals()['G{}_c{}_w_layer{}'.format(global_epoch, num_c_w, layer_index)] = globals()['G{}_c{}_w_layer{}'.format(global_epoch, num_c_w, layer_index)] + np.array(globals()['L{}_layer{}_w_c'.format(i,layer_index)])   # 일반 클러스터링\n"
     ]
    },
    {
     "name": "stdout",
     "output_type": "stream",
     "text": [
      "Layer :  6   클러스터 갯수 정해짐!  갯수 :  2 0\n"
     ]
    },
    {
     "name": "stderr",
     "output_type": "stream",
     "text": [
      "<ipython-input-10-91a1af1a5106>:147: VisibleDeprecationWarning: Creating an ndarray from ragged nested sequences (which is a list-or-tuple of lists-or-tuples-or ndarrays with different lengths or shapes) is deprecated. If you meant to do this, you must specify 'dtype=object' when creating the ndarray\n",
      "  globals()['G{}_c{}_w_layer{}'.format(global_epoch, num_c_w, layer_index)] = globals()['G{}_c{}_w_layer{}'.format(global_epoch, num_c_w, layer_index)] + np.array(globals()['L{}_layer{}_w_c'.format(i,layer_index)])   # 일반 클러스터링\n"
     ]
    },
    {
     "name": "stdout",
     "output_type": "stream",
     "text": [
      "Layer :  7   클러스터 갯수 정해짐!  갯수 :  6 4\n",
      "\n",
      "\n",
      "====================================================== One Global Epoch =====================================================================\n",
      "\n",
      "\n",
      "11  번째 global_epoch 데이터 랜덤하게 준비!!\n"
     ]
    },
    {
     "name": "stderr",
     "output_type": "stream",
     "text": [
      "<ipython-input-10-91a1af1a5106>:147: VisibleDeprecationWarning: Creating an ndarray from ragged nested sequences (which is a list-or-tuple of lists-or-tuples-or ndarrays with different lengths or shapes) is deprecated. If you meant to do this, you must specify 'dtype=object' when creating the ndarray\n",
      "  globals()['G{}_c{}_w_layer{}'.format(global_epoch, num_c_w, layer_index)] = globals()['G{}_c{}_w_layer{}'.format(global_epoch, num_c_w, layer_index)] + np.array(globals()['L{}_layer{}_w_c'.format(i,layer_index)])   # 일반 클러스터링\n"
     ]
    },
    {
     "name": "stdout",
     "output_type": "stream",
     "text": [
      "11  번째 global_epoch 데이터 랜덤 준비완료!!\n",
      "\n",
      "\n",
      "11  번째 global epoch에서 로컬 클라이언트 들 학습시작!\n",
      "\n",
      "학습 중 ...\n",
      "\n",
      "16/16 - 0s - loss: 1.0023 - accuracy: 0.8320\n",
      "16/16 - 0s - loss: 0.8469 - accuracy: 0.8120\n",
      "16/16 - 0s - loss: 0.6644 - accuracy: 0.8760\n",
      "16/16 - 0s - loss: 0.4533 - accuracy: 0.9020\n",
      "16/16 - 0s - loss: 0.6132 - accuracy: 0.8560\n",
      "16/16 - 0s - loss: 0.6078 - accuracy: 0.8660\n",
      "16/16 - 0s - loss: 0.4620 - accuracy: 0.8800\n",
      "16/16 - 0s - loss: 0.5781 - accuracy: 0.8500\n",
      "16/16 - 0s - loss: 0.5841 - accuracy: 0.8600\n",
      "16/16 - 0s - loss: 0.6309 - accuracy: 0.8460\n",
      "16/16 - 0s - loss: 0.5436 - accuracy: 0.8460\n",
      "16/16 - 0s - loss: 0.5939 - accuracy: 0.8420\n",
      "16/16 - 0s - loss: 0.6056 - accuracy: 0.8720\n",
      "16/16 - 0s - loss: 0.7386 - accuracy: 0.8520\n",
      "16/16 - 0s - loss: 0.7307 - accuracy: 0.8620\n",
      "16/16 - 0s - loss: 0.6641 - accuracy: 0.8220\n",
      "16/16 - 0s - loss: 0.6437 - accuracy: 0.8340\n",
      "16/16 - 0s - loss: 0.5607 - accuracy: 0.8660\n",
      "16/16 - 0s - loss: 0.5425 - accuracy: 0.8460\n",
      "16/16 - 0s - loss: 0.6312 - accuracy: 0.8520\n",
      "------------    11  번째 global epoch < Clustering > 로컬 클라이언트 학습 완료!,  Total Training time :  209.6861755847931 ---------------------------\n",
      "\n",
      "\n",
      "Layer :  0   클러스터 갯수 정해짐!  갯수 :  2 0\n"
     ]
    },
    {
     "name": "stderr",
     "output_type": "stream",
     "text": [
      "<ipython-input-10-91a1af1a5106>:147: VisibleDeprecationWarning: Creating an ndarray from ragged nested sequences (which is a list-or-tuple of lists-or-tuples-or ndarrays with different lengths or shapes) is deprecated. If you meant to do this, you must specify 'dtype=object' when creating the ndarray\n",
      "  globals()['G{}_c{}_w_layer{}'.format(global_epoch, num_c_w, layer_index)] = globals()['G{}_c{}_w_layer{}'.format(global_epoch, num_c_w, layer_index)] + np.array(globals()['L{}_layer{}_w_c'.format(i,layer_index)])   # 일반 클러스터링\n"
     ]
    },
    {
     "name": "stdout",
     "output_type": "stream",
     "text": [
      "Layer :  2   클러스터 갯수 정해짐!  갯수 :  2 0\n"
     ]
    },
    {
     "name": "stderr",
     "output_type": "stream",
     "text": [
      "<ipython-input-10-91a1af1a5106>:147: VisibleDeprecationWarning: Creating an ndarray from ragged nested sequences (which is a list-or-tuple of lists-or-tuples-or ndarrays with different lengths or shapes) is deprecated. If you meant to do this, you must specify 'dtype=object' when creating the ndarray\n",
      "  globals()['G{}_c{}_w_layer{}'.format(global_epoch, num_c_w, layer_index)] = globals()['G{}_c{}_w_layer{}'.format(global_epoch, num_c_w, layer_index)] + np.array(globals()['L{}_layer{}_w_c'.format(i,layer_index)])   # 일반 클러스터링\n"
     ]
    },
    {
     "name": "stdout",
     "output_type": "stream",
     "text": [
      "Layer :  4   클러스터 갯수 정해짐!  갯수 :  2 0\n"
     ]
    },
    {
     "name": "stderr",
     "output_type": "stream",
     "text": [
      "<ipython-input-10-91a1af1a5106>:147: VisibleDeprecationWarning: Creating an ndarray from ragged nested sequences (which is a list-or-tuple of lists-or-tuples-or ndarrays with different lengths or shapes) is deprecated. If you meant to do this, you must specify 'dtype=object' when creating the ndarray\n",
      "  globals()['G{}_c{}_w_layer{}'.format(global_epoch, num_c_w, layer_index)] = globals()['G{}_c{}_w_layer{}'.format(global_epoch, num_c_w, layer_index)] + np.array(globals()['L{}_layer{}_w_c'.format(i,layer_index)])   # 일반 클러스터링\n"
     ]
    },
    {
     "name": "stdout",
     "output_type": "stream",
     "text": [
      "Layer :  6   클러스터 갯수 정해짐!  갯수 :  2 0\n"
     ]
    },
    {
     "name": "stderr",
     "output_type": "stream",
     "text": [
      "<ipython-input-10-91a1af1a5106>:147: VisibleDeprecationWarning: Creating an ndarray from ragged nested sequences (which is a list-or-tuple of lists-or-tuples-or ndarrays with different lengths or shapes) is deprecated. If you meant to do this, you must specify 'dtype=object' when creating the ndarray\n",
      "  globals()['G{}_c{}_w_layer{}'.format(global_epoch, num_c_w, layer_index)] = globals()['G{}_c{}_w_layer{}'.format(global_epoch, num_c_w, layer_index)] + np.array(globals()['L{}_layer{}_w_c'.format(i,layer_index)])   # 일반 클러스터링\n"
     ]
    },
    {
     "name": "stdout",
     "output_type": "stream",
     "text": [
      "Layer :  7   클러스터 갯수 정해짐!  갯수 :  6 4\n",
      "\n",
      "\n",
      "====================================================== One Global Epoch =====================================================================\n",
      "\n",
      "\n",
      "12  번째 global_epoch 데이터 랜덤하게 준비!!\n"
     ]
    },
    {
     "name": "stderr",
     "output_type": "stream",
     "text": [
      "<ipython-input-10-91a1af1a5106>:147: VisibleDeprecationWarning: Creating an ndarray from ragged nested sequences (which is a list-or-tuple of lists-or-tuples-or ndarrays with different lengths or shapes) is deprecated. If you meant to do this, you must specify 'dtype=object' when creating the ndarray\n",
      "  globals()['G{}_c{}_w_layer{}'.format(global_epoch, num_c_w, layer_index)] = globals()['G{}_c{}_w_layer{}'.format(global_epoch, num_c_w, layer_index)] + np.array(globals()['L{}_layer{}_w_c'.format(i,layer_index)])   # 일반 클러스터링\n"
     ]
    },
    {
     "name": "stdout",
     "output_type": "stream",
     "text": [
      "12  번째 global_epoch 데이터 랜덤 준비완료!!\n",
      "\n",
      "\n",
      "12  번째 global epoch에서 로컬 클라이언트 들 학습시작!\n",
      "\n",
      "학습 중 ...\n",
      "\n",
      "16/16 - 0s - loss: 0.4741 - accuracy: 0.9040\n",
      "16/16 - 0s - loss: 0.5103 - accuracy: 0.9040\n",
      "16/16 - 0s - loss: 0.5498 - accuracy: 0.8640\n",
      "16/16 - 0s - loss: 0.6169 - accuracy: 0.8740\n",
      "16/16 - 0s - loss: 0.7000 - accuracy: 0.8340\n",
      "16/16 - 0s - loss: 0.6877 - accuracy: 0.8480\n",
      "16/16 - 0s - loss: 0.7553 - accuracy: 0.8560\n",
      "16/16 - 0s - loss: 0.7946 - accuracy: 0.8460\n",
      "16/16 - 0s - loss: 0.4771 - accuracy: 0.8880\n",
      "16/16 - 0s - loss: 0.7579 - accuracy: 0.8680\n",
      "16/16 - 0s - loss: 0.6301 - accuracy: 0.8460\n",
      "16/16 - 0s - loss: 0.6367 - accuracy: 0.8440\n",
      "16/16 - 0s - loss: 0.6995 - accuracy: 0.8580\n",
      "16/16 - 0s - loss: 0.4774 - accuracy: 0.8940\n",
      "16/16 - 0s - loss: 0.4493 - accuracy: 0.8840\n",
      "16/16 - 0s - loss: 0.6037 - accuracy: 0.8900\n",
      "16/16 - 0s - loss: 0.5828 - accuracy: 0.8560\n",
      "16/16 - 0s - loss: 0.6731 - accuracy: 0.8360\n",
      "16/16 - 0s - loss: 0.5672 - accuracy: 0.8860\n",
      "16/16 - 0s - loss: 0.6561 - accuracy: 0.8660\n",
      "------------    12  번째 global epoch < Clustering > 로컬 클라이언트 학습 완료!,  Total Training time :  215.64397525787354 ---------------------------\n",
      "\n",
      "\n",
      "Layer :  0   클러스터 갯수 정해짐!  갯수 :  2 0\n"
     ]
    },
    {
     "name": "stderr",
     "output_type": "stream",
     "text": [
      "<ipython-input-10-91a1af1a5106>:147: VisibleDeprecationWarning: Creating an ndarray from ragged nested sequences (which is a list-or-tuple of lists-or-tuples-or ndarrays with different lengths or shapes) is deprecated. If you meant to do this, you must specify 'dtype=object' when creating the ndarray\n",
      "  globals()['G{}_c{}_w_layer{}'.format(global_epoch, num_c_w, layer_index)] = globals()['G{}_c{}_w_layer{}'.format(global_epoch, num_c_w, layer_index)] + np.array(globals()['L{}_layer{}_w_c'.format(i,layer_index)])   # 일반 클러스터링\n"
     ]
    },
    {
     "name": "stdout",
     "output_type": "stream",
     "text": [
      "Layer :  2   클러스터 갯수 정해짐!  갯수 :  2 0\n"
     ]
    },
    {
     "name": "stderr",
     "output_type": "stream",
     "text": [
      "<ipython-input-10-91a1af1a5106>:147: VisibleDeprecationWarning: Creating an ndarray from ragged nested sequences (which is a list-or-tuple of lists-or-tuples-or ndarrays with different lengths or shapes) is deprecated. If you meant to do this, you must specify 'dtype=object' when creating the ndarray\n",
      "  globals()['G{}_c{}_w_layer{}'.format(global_epoch, num_c_w, layer_index)] = globals()['G{}_c{}_w_layer{}'.format(global_epoch, num_c_w, layer_index)] + np.array(globals()['L{}_layer{}_w_c'.format(i,layer_index)])   # 일반 클러스터링\n"
     ]
    },
    {
     "name": "stdout",
     "output_type": "stream",
     "text": [
      "Layer :  4   클러스터 갯수 정해짐!  갯수 :  2 0\n"
     ]
    },
    {
     "name": "stderr",
     "output_type": "stream",
     "text": [
      "<ipython-input-10-91a1af1a5106>:147: VisibleDeprecationWarning: Creating an ndarray from ragged nested sequences (which is a list-or-tuple of lists-or-tuples-or ndarrays with different lengths or shapes) is deprecated. If you meant to do this, you must specify 'dtype=object' when creating the ndarray\n",
      "  globals()['G{}_c{}_w_layer{}'.format(global_epoch, num_c_w, layer_index)] = globals()['G{}_c{}_w_layer{}'.format(global_epoch, num_c_w, layer_index)] + np.array(globals()['L{}_layer{}_w_c'.format(i,layer_index)])   # 일반 클러스터링\n"
     ]
    },
    {
     "name": "stdout",
     "output_type": "stream",
     "text": [
      "Layer :  6   클러스터 갯수 정해짐!  갯수 :  2 0\n"
     ]
    },
    {
     "name": "stderr",
     "output_type": "stream",
     "text": [
      "<ipython-input-10-91a1af1a5106>:147: VisibleDeprecationWarning: Creating an ndarray from ragged nested sequences (which is a list-or-tuple of lists-or-tuples-or ndarrays with different lengths or shapes) is deprecated. If you meant to do this, you must specify 'dtype=object' when creating the ndarray\n",
      "  globals()['G{}_c{}_w_layer{}'.format(global_epoch, num_c_w, layer_index)] = globals()['G{}_c{}_w_layer{}'.format(global_epoch, num_c_w, layer_index)] + np.array(globals()['L{}_layer{}_w_c'.format(i,layer_index)])   # 일반 클러스터링\n"
     ]
    },
    {
     "name": "stdout",
     "output_type": "stream",
     "text": [
      "Layer :  7   클러스터 갯수 정해짐!  갯수 :  6 4\n",
      "\n",
      "\n",
      "====================================================== One Global Epoch =====================================================================\n",
      "\n",
      "\n",
      "13  번째 global_epoch 데이터 랜덤하게 준비!!\n"
     ]
    },
    {
     "name": "stderr",
     "output_type": "stream",
     "text": [
      "<ipython-input-10-91a1af1a5106>:147: VisibleDeprecationWarning: Creating an ndarray from ragged nested sequences (which is a list-or-tuple of lists-or-tuples-or ndarrays with different lengths or shapes) is deprecated. If you meant to do this, you must specify 'dtype=object' when creating the ndarray\n",
      "  globals()['G{}_c{}_w_layer{}'.format(global_epoch, num_c_w, layer_index)] = globals()['G{}_c{}_w_layer{}'.format(global_epoch, num_c_w, layer_index)] + np.array(globals()['L{}_layer{}_w_c'.format(i,layer_index)])   # 일반 클러스터링\n"
     ]
    },
    {
     "name": "stdout",
     "output_type": "stream",
     "text": [
      "13  번째 global_epoch 데이터 랜덤 준비완료!!\n",
      "\n",
      "\n",
      "13  번째 global epoch에서 로컬 클라이언트 들 학습시작!\n",
      "\n",
      "학습 중 ...\n",
      "\n",
      "16/16 - 0s - loss: 0.6430 - accuracy: 0.8840\n",
      "16/16 - 0s - loss: 0.6127 - accuracy: 0.8580\n",
      "16/16 - 0s - loss: 0.6307 - accuracy: 0.8720\n",
      "16/16 - 0s - loss: 0.5308 - accuracy: 0.8660\n",
      "16/16 - 0s - loss: 0.6212 - accuracy: 0.8780\n",
      "16/16 - 0s - loss: 0.6192 - accuracy: 0.8640\n",
      "16/16 - 0s - loss: 0.6442 - accuracy: 0.8480\n",
      "16/16 - 0s - loss: 0.6120 - accuracy: 0.8220\n",
      "16/16 - 0s - loss: 0.5939 - accuracy: 0.8660\n",
      "16/16 - 0s - loss: 0.4485 - accuracy: 0.8980\n",
      "16/16 - 0s - loss: 0.6442 - accuracy: 0.8420\n",
      "16/16 - 0s - loss: 0.4820 - accuracy: 0.8740\n",
      "16/16 - 0s - loss: 0.7267 - accuracy: 0.8560\n",
      "16/16 - 0s - loss: 0.7664 - accuracy: 0.8360\n",
      "16/16 - 0s - loss: 0.7441 - accuracy: 0.8460\n",
      "16/16 - 0s - loss: 0.5464 - accuracy: 0.8660\n",
      "16/16 - 0s - loss: 0.5615 - accuracy: 0.8700\n",
      "16/16 - 0s - loss: 0.5607 - accuracy: 0.8780\n",
      "16/16 - 0s - loss: 0.6611 - accuracy: 0.8880\n",
      "16/16 - 0s - loss: 0.6410 - accuracy: 0.8540\n",
      "------------    13  번째 global epoch < Clustering > 로컬 클라이언트 학습 완료!,  Total Training time :  222.53265166282654 ---------------------------\n",
      "\n",
      "\n",
      "Layer :  0   클러스터 갯수 정해짐!  갯수 :  2 0\n"
     ]
    },
    {
     "name": "stderr",
     "output_type": "stream",
     "text": [
      "<ipython-input-10-91a1af1a5106>:147: VisibleDeprecationWarning: Creating an ndarray from ragged nested sequences (which is a list-or-tuple of lists-or-tuples-or ndarrays with different lengths or shapes) is deprecated. If you meant to do this, you must specify 'dtype=object' when creating the ndarray\n",
      "  globals()['G{}_c{}_w_layer{}'.format(global_epoch, num_c_w, layer_index)] = globals()['G{}_c{}_w_layer{}'.format(global_epoch, num_c_w, layer_index)] + np.array(globals()['L{}_layer{}_w_c'.format(i,layer_index)])   # 일반 클러스터링\n"
     ]
    },
    {
     "name": "stdout",
     "output_type": "stream",
     "text": [
      "Layer :  2   클러스터 갯수 정해짐!  갯수 :  2 0\n"
     ]
    },
    {
     "name": "stderr",
     "output_type": "stream",
     "text": [
      "<ipython-input-10-91a1af1a5106>:147: VisibleDeprecationWarning: Creating an ndarray from ragged nested sequences (which is a list-or-tuple of lists-or-tuples-or ndarrays with different lengths or shapes) is deprecated. If you meant to do this, you must specify 'dtype=object' when creating the ndarray\n",
      "  globals()['G{}_c{}_w_layer{}'.format(global_epoch, num_c_w, layer_index)] = globals()['G{}_c{}_w_layer{}'.format(global_epoch, num_c_w, layer_index)] + np.array(globals()['L{}_layer{}_w_c'.format(i,layer_index)])   # 일반 클러스터링\n"
     ]
    },
    {
     "name": "stdout",
     "output_type": "stream",
     "text": [
      "Layer :  4   클러스터 갯수 정해짐!  갯수 :  2 0\n"
     ]
    },
    {
     "name": "stderr",
     "output_type": "stream",
     "text": [
      "<ipython-input-10-91a1af1a5106>:147: VisibleDeprecationWarning: Creating an ndarray from ragged nested sequences (which is a list-or-tuple of lists-or-tuples-or ndarrays with different lengths or shapes) is deprecated. If you meant to do this, you must specify 'dtype=object' when creating the ndarray\n",
      "  globals()['G{}_c{}_w_layer{}'.format(global_epoch, num_c_w, layer_index)] = globals()['G{}_c{}_w_layer{}'.format(global_epoch, num_c_w, layer_index)] + np.array(globals()['L{}_layer{}_w_c'.format(i,layer_index)])   # 일반 클러스터링\n"
     ]
    },
    {
     "name": "stdout",
     "output_type": "stream",
     "text": [
      "Layer :  6   클러스터 갯수 정해짐!  갯수 :  2 0\n"
     ]
    },
    {
     "name": "stderr",
     "output_type": "stream",
     "text": [
      "<ipython-input-10-91a1af1a5106>:147: VisibleDeprecationWarning: Creating an ndarray from ragged nested sequences (which is a list-or-tuple of lists-or-tuples-or ndarrays with different lengths or shapes) is deprecated. If you meant to do this, you must specify 'dtype=object' when creating the ndarray\n",
      "  globals()['G{}_c{}_w_layer{}'.format(global_epoch, num_c_w, layer_index)] = globals()['G{}_c{}_w_layer{}'.format(global_epoch, num_c_w, layer_index)] + np.array(globals()['L{}_layer{}_w_c'.format(i,layer_index)])   # 일반 클러스터링\n"
     ]
    },
    {
     "name": "stdout",
     "output_type": "stream",
     "text": [
      "Layer :  7   클러스터 갯수 정해짐!  갯수 :  6 4\n",
      "\n",
      "\n",
      "====================================================== One Global Epoch =====================================================================\n",
      "\n",
      "\n",
      "14  번째 global_epoch 데이터 랜덤하게 준비!!\n"
     ]
    },
    {
     "name": "stderr",
     "output_type": "stream",
     "text": [
      "<ipython-input-10-91a1af1a5106>:147: VisibleDeprecationWarning: Creating an ndarray from ragged nested sequences (which is a list-or-tuple of lists-or-tuples-or ndarrays with different lengths or shapes) is deprecated. If you meant to do this, you must specify 'dtype=object' when creating the ndarray\n",
      "  globals()['G{}_c{}_w_layer{}'.format(global_epoch, num_c_w, layer_index)] = globals()['G{}_c{}_w_layer{}'.format(global_epoch, num_c_w, layer_index)] + np.array(globals()['L{}_layer{}_w_c'.format(i,layer_index)])   # 일반 클러스터링\n"
     ]
    },
    {
     "name": "stdout",
     "output_type": "stream",
     "text": [
      "14  번째 global_epoch 데이터 랜덤 준비완료!!\n",
      "\n",
      "\n",
      "14  번째 global epoch에서 로컬 클라이언트 들 학습시작!\n",
      "\n",
      "학습 중 ...\n",
      "\n",
      "16/16 - 0s - loss: 0.8180 - accuracy: 0.8600\n",
      "16/16 - 0s - loss: 0.7195 - accuracy: 0.8740\n",
      "16/16 - 0s - loss: 0.7594 - accuracy: 0.8360\n",
      "16/16 - 0s - loss: 0.6272 - accuracy: 0.8800\n",
      "16/16 - 0s - loss: 0.5661 - accuracy: 0.8760\n",
      "16/16 - 0s - loss: 0.7095 - accuracy: 0.8600\n",
      "16/16 - 0s - loss: 0.5840 - accuracy: 0.8940\n",
      "16/16 - 0s - loss: 0.6234 - accuracy: 0.8440\n",
      "16/16 - 0s - loss: 0.9367 - accuracy: 0.8240\n",
      "16/16 - 0s - loss: 0.5681 - accuracy: 0.8780\n",
      "16/16 - 0s - loss: 0.6155 - accuracy: 0.8720\n",
      "16/16 - 0s - loss: 0.6045 - accuracy: 0.8580\n",
      "16/16 - 0s - loss: 0.5781 - accuracy: 0.8580\n",
      "16/16 - 0s - loss: 0.5186 - accuracy: 0.8740\n",
      "16/16 - 0s - loss: 0.6100 - accuracy: 0.8640\n",
      "16/16 - 0s - loss: 0.4613 - accuracy: 0.8860\n",
      "16/16 - 0s - loss: 0.5505 - accuracy: 0.8900\n",
      "16/16 - 0s - loss: 0.6413 - accuracy: 0.8560\n",
      "16/16 - 0s - loss: 0.7580 - accuracy: 0.8440\n",
      "16/16 - 0s - loss: 0.7848 - accuracy: 0.8800\n",
      "------------    14  번째 global epoch < Clustering > 로컬 클라이언트 학습 완료!,  Total Training time :  235.00516557693481 ---------------------------\n",
      "\n",
      "\n",
      "Layer :  0   클러스터 갯수 정해짐!  갯수 :  2 0\n"
     ]
    },
    {
     "name": "stderr",
     "output_type": "stream",
     "text": [
      "<ipython-input-10-91a1af1a5106>:147: VisibleDeprecationWarning: Creating an ndarray from ragged nested sequences (which is a list-or-tuple of lists-or-tuples-or ndarrays with different lengths or shapes) is deprecated. If you meant to do this, you must specify 'dtype=object' when creating the ndarray\n",
      "  globals()['G{}_c{}_w_layer{}'.format(global_epoch, num_c_w, layer_index)] = globals()['G{}_c{}_w_layer{}'.format(global_epoch, num_c_w, layer_index)] + np.array(globals()['L{}_layer{}_w_c'.format(i,layer_index)])   # 일반 클러스터링\n"
     ]
    },
    {
     "name": "stdout",
     "output_type": "stream",
     "text": [
      "Layer :  2   클러스터 갯수 정해짐!  갯수 :  2 0\n"
     ]
    },
    {
     "name": "stderr",
     "output_type": "stream",
     "text": [
      "<ipython-input-10-91a1af1a5106>:147: VisibleDeprecationWarning: Creating an ndarray from ragged nested sequences (which is a list-or-tuple of lists-or-tuples-or ndarrays with different lengths or shapes) is deprecated. If you meant to do this, you must specify 'dtype=object' when creating the ndarray\n",
      "  globals()['G{}_c{}_w_layer{}'.format(global_epoch, num_c_w, layer_index)] = globals()['G{}_c{}_w_layer{}'.format(global_epoch, num_c_w, layer_index)] + np.array(globals()['L{}_layer{}_w_c'.format(i,layer_index)])   # 일반 클러스터링\n"
     ]
    },
    {
     "name": "stdout",
     "output_type": "stream",
     "text": [
      "Layer :  4   클러스터 갯수 정해짐!  갯수 :  2 0\n"
     ]
    },
    {
     "name": "stderr",
     "output_type": "stream",
     "text": [
      "<ipython-input-10-91a1af1a5106>:147: VisibleDeprecationWarning: Creating an ndarray from ragged nested sequences (which is a list-or-tuple of lists-or-tuples-or ndarrays with different lengths or shapes) is deprecated. If you meant to do this, you must specify 'dtype=object' when creating the ndarray\n",
      "  globals()['G{}_c{}_w_layer{}'.format(global_epoch, num_c_w, layer_index)] = globals()['G{}_c{}_w_layer{}'.format(global_epoch, num_c_w, layer_index)] + np.array(globals()['L{}_layer{}_w_c'.format(i,layer_index)])   # 일반 클러스터링\n"
     ]
    },
    {
     "name": "stdout",
     "output_type": "stream",
     "text": [
      "Layer :  6   클러스터 갯수 정해짐!  갯수 :  2 0\n"
     ]
    },
    {
     "name": "stderr",
     "output_type": "stream",
     "text": [
      "<ipython-input-10-91a1af1a5106>:147: VisibleDeprecationWarning: Creating an ndarray from ragged nested sequences (which is a list-or-tuple of lists-or-tuples-or ndarrays with different lengths or shapes) is deprecated. If you meant to do this, you must specify 'dtype=object' when creating the ndarray\n",
      "  globals()['G{}_c{}_w_layer{}'.format(global_epoch, num_c_w, layer_index)] = globals()['G{}_c{}_w_layer{}'.format(global_epoch, num_c_w, layer_index)] + np.array(globals()['L{}_layer{}_w_c'.format(i,layer_index)])   # 일반 클러스터링\n"
     ]
    },
    {
     "name": "stdout",
     "output_type": "stream",
     "text": [
      "Layer :  7   클러스터 갯수 정해짐!  갯수 :  6 4\n",
      "\n",
      "\n",
      "====================================================== One Global Epoch =====================================================================\n",
      "\n",
      "\n",
      "15  번째 global_epoch 데이터 랜덤하게 준비!!\n"
     ]
    },
    {
     "name": "stderr",
     "output_type": "stream",
     "text": [
      "<ipython-input-10-91a1af1a5106>:147: VisibleDeprecationWarning: Creating an ndarray from ragged nested sequences (which is a list-or-tuple of lists-or-tuples-or ndarrays with different lengths or shapes) is deprecated. If you meant to do this, you must specify 'dtype=object' when creating the ndarray\n",
      "  globals()['G{}_c{}_w_layer{}'.format(global_epoch, num_c_w, layer_index)] = globals()['G{}_c{}_w_layer{}'.format(global_epoch, num_c_w, layer_index)] + np.array(globals()['L{}_layer{}_w_c'.format(i,layer_index)])   # 일반 클러스터링\n"
     ]
    },
    {
     "name": "stdout",
     "output_type": "stream",
     "text": [
      "15  번째 global_epoch 데이터 랜덤 준비완료!!\n",
      "\n",
      "\n",
      "15  번째 global epoch에서 로컬 클라이언트 들 학습시작!\n",
      "\n",
      "학습 중 ...\n",
      "\n",
      "16/16 - 0s - loss: 0.6520 - accuracy: 0.8680\n",
      "16/16 - 0s - loss: 0.6058 - accuracy: 0.8920\n",
      "16/16 - 0s - loss: 0.5490 - accuracy: 0.8900\n",
      "16/16 - 0s - loss: 0.6266 - accuracy: 0.8640\n",
      "16/16 - 0s - loss: 0.5913 - accuracy: 0.8900\n",
      "16/16 - 0s - loss: 0.5198 - accuracy: 0.8740\n",
      "16/16 - 0s - loss: 0.5390 - accuracy: 0.8840\n",
      "16/16 - 0s - loss: 0.7638 - accuracy: 0.8380\n",
      "16/16 - 0s - loss: 0.6481 - accuracy: 0.8640\n",
      "16/16 - 0s - loss: 0.5295 - accuracy: 0.8720\n",
      "16/16 - 0s - loss: 0.6764 - accuracy: 0.8600\n",
      "16/16 - 0s - loss: 0.8364 - accuracy: 0.8620\n",
      "16/16 - 0s - loss: 0.5844 - accuracy: 0.8780\n",
      "16/16 - 0s - loss: 0.6516 - accuracy: 0.8780\n",
      "16/16 - 0s - loss: 0.7151 - accuracy: 0.8720\n",
      "16/16 - 0s - loss: 0.7303 - accuracy: 0.8420\n",
      "16/16 - 0s - loss: 0.6050 - accuracy: 0.8820\n",
      "16/16 - 0s - loss: 0.7518 - accuracy: 0.8640\n",
      "16/16 - 0s - loss: 0.8094 - accuracy: 0.8600\n",
      "16/16 - 0s - loss: 0.6060 - accuracy: 0.8640\n",
      "------------    15  번째 global epoch < Clustering > 로컬 클라이언트 학습 완료!,  Total Training time :  237.75578212738037 ---------------------------\n",
      "\n",
      "\n",
      "Layer :  0   클러스터 갯수 정해짐!  갯수 :  2 0\n"
     ]
    },
    {
     "name": "stderr",
     "output_type": "stream",
     "text": [
      "<ipython-input-10-91a1af1a5106>:147: VisibleDeprecationWarning: Creating an ndarray from ragged nested sequences (which is a list-or-tuple of lists-or-tuples-or ndarrays with different lengths or shapes) is deprecated. If you meant to do this, you must specify 'dtype=object' when creating the ndarray\n",
      "  globals()['G{}_c{}_w_layer{}'.format(global_epoch, num_c_w, layer_index)] = globals()['G{}_c{}_w_layer{}'.format(global_epoch, num_c_w, layer_index)] + np.array(globals()['L{}_layer{}_w_c'.format(i,layer_index)])   # 일반 클러스터링\n"
     ]
    },
    {
     "name": "stdout",
     "output_type": "stream",
     "text": [
      "Layer :  2   클러스터 갯수 정해짐!  갯수 :  2 0\n"
     ]
    },
    {
     "name": "stderr",
     "output_type": "stream",
     "text": [
      "<ipython-input-10-91a1af1a5106>:147: VisibleDeprecationWarning: Creating an ndarray from ragged nested sequences (which is a list-or-tuple of lists-or-tuples-or ndarrays with different lengths or shapes) is deprecated. If you meant to do this, you must specify 'dtype=object' when creating the ndarray\n",
      "  globals()['G{}_c{}_w_layer{}'.format(global_epoch, num_c_w, layer_index)] = globals()['G{}_c{}_w_layer{}'.format(global_epoch, num_c_w, layer_index)] + np.array(globals()['L{}_layer{}_w_c'.format(i,layer_index)])   # 일반 클러스터링\n"
     ]
    },
    {
     "name": "stdout",
     "output_type": "stream",
     "text": [
      "Layer :  4   클러스터 갯수 정해짐!  갯수 :  2 0\n"
     ]
    },
    {
     "name": "stderr",
     "output_type": "stream",
     "text": [
      "<ipython-input-10-91a1af1a5106>:147: VisibleDeprecationWarning: Creating an ndarray from ragged nested sequences (which is a list-or-tuple of lists-or-tuples-or ndarrays with different lengths or shapes) is deprecated. If you meant to do this, you must specify 'dtype=object' when creating the ndarray\n",
      "  globals()['G{}_c{}_w_layer{}'.format(global_epoch, num_c_w, layer_index)] = globals()['G{}_c{}_w_layer{}'.format(global_epoch, num_c_w, layer_index)] + np.array(globals()['L{}_layer{}_w_c'.format(i,layer_index)])   # 일반 클러스터링\n"
     ]
    },
    {
     "name": "stdout",
     "output_type": "stream",
     "text": [
      "Layer :  6   클러스터 갯수 정해짐!  갯수 :  2 0\n"
     ]
    },
    {
     "name": "stderr",
     "output_type": "stream",
     "text": [
      "<ipython-input-10-91a1af1a5106>:147: VisibleDeprecationWarning: Creating an ndarray from ragged nested sequences (which is a list-or-tuple of lists-or-tuples-or ndarrays with different lengths or shapes) is deprecated. If you meant to do this, you must specify 'dtype=object' when creating the ndarray\n",
      "  globals()['G{}_c{}_w_layer{}'.format(global_epoch, num_c_w, layer_index)] = globals()['G{}_c{}_w_layer{}'.format(global_epoch, num_c_w, layer_index)] + np.array(globals()['L{}_layer{}_w_c'.format(i,layer_index)])   # 일반 클러스터링\n"
     ]
    },
    {
     "name": "stdout",
     "output_type": "stream",
     "text": [
      "Layer :  7   클러스터 갯수 정해짐!  갯수 :  6 4\n",
      "\n",
      "\n",
      "====================================================== One Global Epoch =====================================================================\n",
      "\n",
      "\n",
      "16  번째 global_epoch 데이터 랜덤하게 준비!!\n"
     ]
    },
    {
     "name": "stderr",
     "output_type": "stream",
     "text": [
      "<ipython-input-10-91a1af1a5106>:147: VisibleDeprecationWarning: Creating an ndarray from ragged nested sequences (which is a list-or-tuple of lists-or-tuples-or ndarrays with different lengths or shapes) is deprecated. If you meant to do this, you must specify 'dtype=object' when creating the ndarray\n",
      "  globals()['G{}_c{}_w_layer{}'.format(global_epoch, num_c_w, layer_index)] = globals()['G{}_c{}_w_layer{}'.format(global_epoch, num_c_w, layer_index)] + np.array(globals()['L{}_layer{}_w_c'.format(i,layer_index)])   # 일반 클러스터링\n"
     ]
    },
    {
     "name": "stdout",
     "output_type": "stream",
     "text": [
      "16  번째 global_epoch 데이터 랜덤 준비완료!!\n",
      "\n",
      "\n",
      "16  번째 global epoch에서 로컬 클라이언트 들 학습시작!\n",
      "\n",
      "학습 중 ...\n",
      "\n",
      "16/16 - 0s - loss: 0.6674 - accuracy: 0.8780\n",
      "16/16 - 0s - loss: 0.6307 - accuracy: 0.8680\n",
      "16/16 - 0s - loss: 0.5182 - accuracy: 0.8860\n",
      "16/16 - 0s - loss: 0.7929 - accuracy: 0.8480\n",
      "16/16 - 0s - loss: 0.6954 - accuracy: 0.8820\n",
      "16/16 - 0s - loss: 0.7439 - accuracy: 0.8680\n",
      "16/16 - 0s - loss: 0.6967 - accuracy: 0.8520\n",
      "16/16 - 0s - loss: 0.7614 - accuracy: 0.8460\n",
      "16/16 - 0s - loss: 0.5684 - accuracy: 0.8680\n",
      "16/16 - 0s - loss: 0.6336 - accuracy: 0.8580\n",
      "16/16 - 0s - loss: 0.7453 - accuracy: 0.8620\n",
      "16/16 - 0s - loss: 0.7238 - accuracy: 0.8680\n",
      "16/16 - 0s - loss: 0.5544 - accuracy: 0.8760\n",
      "16/16 - 0s - loss: 0.6247 - accuracy: 0.8780\n",
      "16/16 - 0s - loss: 0.5675 - accuracy: 0.8760\n",
      "16/16 - 0s - loss: 0.5881 - accuracy: 0.8720\n",
      "16/16 - 0s - loss: 0.6478 - accuracy: 0.8420\n",
      "16/16 - 0s - loss: 0.6076 - accuracy: 0.8800\n",
      "16/16 - 0s - loss: 0.4666 - accuracy: 0.8880\n",
      "16/16 - 0s - loss: 0.5559 - accuracy: 0.8920\n",
      "------------    16  번째 global epoch < Clustering > 로컬 클라이언트 학습 완료!,  Total Training time :  255.766455411911 ---------------------------\n",
      "\n",
      "\n",
      "Layer :  0   클러스터 갯수 정해짐!  갯수 :  2 0\n"
     ]
    },
    {
     "name": "stderr",
     "output_type": "stream",
     "text": [
      "<ipython-input-10-91a1af1a5106>:147: VisibleDeprecationWarning: Creating an ndarray from ragged nested sequences (which is a list-or-tuple of lists-or-tuples-or ndarrays with different lengths or shapes) is deprecated. If you meant to do this, you must specify 'dtype=object' when creating the ndarray\n",
      "  globals()['G{}_c{}_w_layer{}'.format(global_epoch, num_c_w, layer_index)] = globals()['G{}_c{}_w_layer{}'.format(global_epoch, num_c_w, layer_index)] + np.array(globals()['L{}_layer{}_w_c'.format(i,layer_index)])   # 일반 클러스터링\n"
     ]
    },
    {
     "name": "stdout",
     "output_type": "stream",
     "text": [
      "Layer :  2   클러스터 갯수 정해짐!  갯수 :  2 0\n"
     ]
    },
    {
     "name": "stderr",
     "output_type": "stream",
     "text": [
      "<ipython-input-10-91a1af1a5106>:147: VisibleDeprecationWarning: Creating an ndarray from ragged nested sequences (which is a list-or-tuple of lists-or-tuples-or ndarrays with different lengths or shapes) is deprecated. If you meant to do this, you must specify 'dtype=object' when creating the ndarray\n",
      "  globals()['G{}_c{}_w_layer{}'.format(global_epoch, num_c_w, layer_index)] = globals()['G{}_c{}_w_layer{}'.format(global_epoch, num_c_w, layer_index)] + np.array(globals()['L{}_layer{}_w_c'.format(i,layer_index)])   # 일반 클러스터링\n"
     ]
    },
    {
     "name": "stdout",
     "output_type": "stream",
     "text": [
      "Layer :  4   클러스터 갯수 정해짐!  갯수 :  2 0\n"
     ]
    },
    {
     "name": "stderr",
     "output_type": "stream",
     "text": [
      "<ipython-input-10-91a1af1a5106>:147: VisibleDeprecationWarning: Creating an ndarray from ragged nested sequences (which is a list-or-tuple of lists-or-tuples-or ndarrays with different lengths or shapes) is deprecated. If you meant to do this, you must specify 'dtype=object' when creating the ndarray\n",
      "  globals()['G{}_c{}_w_layer{}'.format(global_epoch, num_c_w, layer_index)] = globals()['G{}_c{}_w_layer{}'.format(global_epoch, num_c_w, layer_index)] + np.array(globals()['L{}_layer{}_w_c'.format(i,layer_index)])   # 일반 클러스터링\n"
     ]
    },
    {
     "name": "stdout",
     "output_type": "stream",
     "text": [
      "Layer :  6   클러스터 갯수 정해짐!  갯수 :  2 0\n"
     ]
    },
    {
     "name": "stderr",
     "output_type": "stream",
     "text": [
      "<ipython-input-10-91a1af1a5106>:147: VisibleDeprecationWarning: Creating an ndarray from ragged nested sequences (which is a list-or-tuple of lists-or-tuples-or ndarrays with different lengths or shapes) is deprecated. If you meant to do this, you must specify 'dtype=object' when creating the ndarray\n",
      "  globals()['G{}_c{}_w_layer{}'.format(global_epoch, num_c_w, layer_index)] = globals()['G{}_c{}_w_layer{}'.format(global_epoch, num_c_w, layer_index)] + np.array(globals()['L{}_layer{}_w_c'.format(i,layer_index)])   # 일반 클러스터링\n"
     ]
    },
    {
     "name": "stdout",
     "output_type": "stream",
     "text": [
      "Layer :  7   클러스터 갯수 정해짐!  갯수 :  6 4\n",
      "\n",
      "\n",
      "====================================================== One Global Epoch =====================================================================\n",
      "\n",
      "\n",
      "17  번째 global_epoch 데이터 랜덤하게 준비!!\n"
     ]
    },
    {
     "name": "stderr",
     "output_type": "stream",
     "text": [
      "<ipython-input-10-91a1af1a5106>:147: VisibleDeprecationWarning: Creating an ndarray from ragged nested sequences (which is a list-or-tuple of lists-or-tuples-or ndarrays with different lengths or shapes) is deprecated. If you meant to do this, you must specify 'dtype=object' when creating the ndarray\n",
      "  globals()['G{}_c{}_w_layer{}'.format(global_epoch, num_c_w, layer_index)] = globals()['G{}_c{}_w_layer{}'.format(global_epoch, num_c_w, layer_index)] + np.array(globals()['L{}_layer{}_w_c'.format(i,layer_index)])   # 일반 클러스터링\n"
     ]
    },
    {
     "name": "stdout",
     "output_type": "stream",
     "text": [
      "17  번째 global_epoch 데이터 랜덤 준비완료!!\n",
      "\n",
      "\n",
      "17  번째 global epoch에서 로컬 클라이언트 들 학습시작!\n",
      "\n",
      "학습 중 ...\n",
      "\n",
      "16/16 - 0s - loss: 0.6121 - accuracy: 0.8840\n",
      "16/16 - 0s - loss: 0.5606 - accuracy: 0.8680\n",
      "16/16 - 0s - loss: 0.7610 - accuracy: 0.8560\n",
      "16/16 - 0s - loss: 0.5646 - accuracy: 0.8740\n",
      "16/16 - 0s - loss: 0.7196 - accuracy: 0.8740\n",
      "16/16 - 0s - loss: 0.6185 - accuracy: 0.8760\n",
      "16/16 - 0s - loss: 0.7003 - accuracy: 0.8400\n",
      "16/16 - 0s - loss: 0.6503 - accuracy: 0.8500\n",
      "16/16 - 0s - loss: 0.6671 - accuracy: 0.8820\n",
      "16/16 - 0s - loss: 0.5370 - accuracy: 0.8840\n",
      "16/16 - 0s - loss: 0.6030 - accuracy: 0.8760\n",
      "16/16 - 0s - loss: 0.4931 - accuracy: 0.8880\n",
      "16/16 - 0s - loss: 0.5180 - accuracy: 0.9120\n",
      "16/16 - 0s - loss: 0.6416 - accuracy: 0.8740\n",
      "16/16 - 0s - loss: 0.5464 - accuracy: 0.8820\n",
      "16/16 - 0s - loss: 0.5907 - accuracy: 0.8860\n",
      "16/16 - 0s - loss: 0.5296 - accuracy: 0.9080\n",
      "16/16 - 0s - loss: 0.4497 - accuracy: 0.8760\n",
      "16/16 - 0s - loss: 0.7815 - accuracy: 0.8420\n",
      "16/16 - 0s - loss: 0.6801 - accuracy: 0.8640\n",
      "------------    17  번째 global epoch < Clustering > 로컬 클라이언트 학습 완료!,  Total Training time :  306.15372943878174 ---------------------------\n",
      "\n",
      "\n",
      "Layer :  0   클러스터 갯수 정해짐!  갯수 :  2 0\n"
     ]
    },
    {
     "name": "stderr",
     "output_type": "stream",
     "text": [
      "<ipython-input-10-91a1af1a5106>:147: VisibleDeprecationWarning: Creating an ndarray from ragged nested sequences (which is a list-or-tuple of lists-or-tuples-or ndarrays with different lengths or shapes) is deprecated. If you meant to do this, you must specify 'dtype=object' when creating the ndarray\n",
      "  globals()['G{}_c{}_w_layer{}'.format(global_epoch, num_c_w, layer_index)] = globals()['G{}_c{}_w_layer{}'.format(global_epoch, num_c_w, layer_index)] + np.array(globals()['L{}_layer{}_w_c'.format(i,layer_index)])   # 일반 클러스터링\n"
     ]
    },
    {
     "name": "stdout",
     "output_type": "stream",
     "text": [
      "Layer :  2   클러스터 갯수 정해짐!  갯수 :  2 0\n"
     ]
    },
    {
     "name": "stderr",
     "output_type": "stream",
     "text": [
      "<ipython-input-10-91a1af1a5106>:147: VisibleDeprecationWarning: Creating an ndarray from ragged nested sequences (which is a list-or-tuple of lists-or-tuples-or ndarrays with different lengths or shapes) is deprecated. If you meant to do this, you must specify 'dtype=object' when creating the ndarray\n",
      "  globals()['G{}_c{}_w_layer{}'.format(global_epoch, num_c_w, layer_index)] = globals()['G{}_c{}_w_layer{}'.format(global_epoch, num_c_w, layer_index)] + np.array(globals()['L{}_layer{}_w_c'.format(i,layer_index)])   # 일반 클러스터링\n"
     ]
    },
    {
     "name": "stdout",
     "output_type": "stream",
     "text": [
      "Layer :  4   클러스터 갯수 정해짐!  갯수 :  2 0\n"
     ]
    },
    {
     "name": "stderr",
     "output_type": "stream",
     "text": [
      "<ipython-input-10-91a1af1a5106>:147: VisibleDeprecationWarning: Creating an ndarray from ragged nested sequences (which is a list-or-tuple of lists-or-tuples-or ndarrays with different lengths or shapes) is deprecated. If you meant to do this, you must specify 'dtype=object' when creating the ndarray\n",
      "  globals()['G{}_c{}_w_layer{}'.format(global_epoch, num_c_w, layer_index)] = globals()['G{}_c{}_w_layer{}'.format(global_epoch, num_c_w, layer_index)] + np.array(globals()['L{}_layer{}_w_c'.format(i,layer_index)])   # 일반 클러스터링\n"
     ]
    },
    {
     "name": "stdout",
     "output_type": "stream",
     "text": [
      "Layer :  6   클러스터 갯수 정해짐!  갯수 :  2 0\n"
     ]
    },
    {
     "name": "stderr",
     "output_type": "stream",
     "text": [
      "<ipython-input-10-91a1af1a5106>:147: VisibleDeprecationWarning: Creating an ndarray from ragged nested sequences (which is a list-or-tuple of lists-or-tuples-or ndarrays with different lengths or shapes) is deprecated. If you meant to do this, you must specify 'dtype=object' when creating the ndarray\n",
      "  globals()['G{}_c{}_w_layer{}'.format(global_epoch, num_c_w, layer_index)] = globals()['G{}_c{}_w_layer{}'.format(global_epoch, num_c_w, layer_index)] + np.array(globals()['L{}_layer{}_w_c'.format(i,layer_index)])   # 일반 클러스터링\n"
     ]
    },
    {
     "name": "stdout",
     "output_type": "stream",
     "text": [
      "Layer :  7   클러스터 갯수 정해짐!  갯수 :  6 4\n",
      "\n",
      "\n",
      "====================================================== One Global Epoch =====================================================================\n",
      "\n",
      "\n",
      "18  번째 global_epoch 데이터 랜덤하게 준비!!\n"
     ]
    },
    {
     "name": "stderr",
     "output_type": "stream",
     "text": [
      "<ipython-input-10-91a1af1a5106>:147: VisibleDeprecationWarning: Creating an ndarray from ragged nested sequences (which is a list-or-tuple of lists-or-tuples-or ndarrays with different lengths or shapes) is deprecated. If you meant to do this, you must specify 'dtype=object' when creating the ndarray\n",
      "  globals()['G{}_c{}_w_layer{}'.format(global_epoch, num_c_w, layer_index)] = globals()['G{}_c{}_w_layer{}'.format(global_epoch, num_c_w, layer_index)] + np.array(globals()['L{}_layer{}_w_c'.format(i,layer_index)])   # 일반 클러스터링\n"
     ]
    },
    {
     "name": "stdout",
     "output_type": "stream",
     "text": [
      "18  번째 global_epoch 데이터 랜덤 준비완료!!\n",
      "\n",
      "\n",
      "18  번째 global epoch에서 로컬 클라이언트 들 학습시작!\n",
      "\n",
      "학습 중 ...\n",
      "\n",
      "16/16 - 0s - loss: 0.5146 - accuracy: 0.8900\n",
      "16/16 - 0s - loss: 0.7274 - accuracy: 0.8420\n",
      "16/16 - 0s - loss: 0.5889 - accuracy: 0.8920\n",
      "16/16 - 0s - loss: 0.5431 - accuracy: 0.8520\n",
      "16/16 - 0s - loss: 0.5072 - accuracy: 0.8800\n",
      "16/16 - 0s - loss: 0.5124 - accuracy: 0.8760\n",
      "16/16 - 0s - loss: 0.7829 - accuracy: 0.8600\n",
      "16/16 - 0s - loss: 0.7448 - accuracy: 0.8560\n",
      "16/16 - 0s - loss: 0.7004 - accuracy: 0.8920\n",
      "16/16 - 0s - loss: 0.7274 - accuracy: 0.8700\n",
      "16/16 - 0s - loss: 0.4563 - accuracy: 0.8800\n",
      "16/16 - 0s - loss: 0.5981 - accuracy: 0.8780\n",
      "16/16 - 0s - loss: 0.8347 - accuracy: 0.8380\n",
      "16/16 - 0s - loss: 0.5812 - accuracy: 0.8760\n",
      "16/16 - 0s - loss: 0.6896 - accuracy: 0.8880\n",
      "16/16 - 0s - loss: 0.6379 - accuracy: 0.8780\n",
      "16/16 - 0s - loss: 0.6167 - accuracy: 0.8740\n",
      "16/16 - 0s - loss: 0.4491 - accuracy: 0.8960\n",
      "16/16 - 0s - loss: 0.6839 - accuracy: 0.8780\n",
      "16/16 - 0s - loss: 0.5657 - accuracy: 0.8760\n",
      "------------    18  번째 global epoch < Clustering > 로컬 클라이언트 학습 완료!,  Total Training time :  320.93903613090515 ---------------------------\n",
      "\n",
      "\n",
      "Layer :  0   클러스터 갯수 정해짐!  갯수 :  2 0\n"
     ]
    },
    {
     "name": "stderr",
     "output_type": "stream",
     "text": [
      "<ipython-input-10-91a1af1a5106>:147: VisibleDeprecationWarning: Creating an ndarray from ragged nested sequences (which is a list-or-tuple of lists-or-tuples-or ndarrays with different lengths or shapes) is deprecated. If you meant to do this, you must specify 'dtype=object' when creating the ndarray\n",
      "  globals()['G{}_c{}_w_layer{}'.format(global_epoch, num_c_w, layer_index)] = globals()['G{}_c{}_w_layer{}'.format(global_epoch, num_c_w, layer_index)] + np.array(globals()['L{}_layer{}_w_c'.format(i,layer_index)])   # 일반 클러스터링\n"
     ]
    },
    {
     "name": "stdout",
     "output_type": "stream",
     "text": [
      "Layer :  2   클러스터 갯수 정해짐!  갯수 :  2 0\n"
     ]
    },
    {
     "name": "stderr",
     "output_type": "stream",
     "text": [
      "<ipython-input-10-91a1af1a5106>:147: VisibleDeprecationWarning: Creating an ndarray from ragged nested sequences (which is a list-or-tuple of lists-or-tuples-or ndarrays with different lengths or shapes) is deprecated. If you meant to do this, you must specify 'dtype=object' when creating the ndarray\n",
      "  globals()['G{}_c{}_w_layer{}'.format(global_epoch, num_c_w, layer_index)] = globals()['G{}_c{}_w_layer{}'.format(global_epoch, num_c_w, layer_index)] + np.array(globals()['L{}_layer{}_w_c'.format(i,layer_index)])   # 일반 클러스터링\n"
     ]
    },
    {
     "name": "stdout",
     "output_type": "stream",
     "text": [
      "Layer :  4   클러스터 갯수 정해짐!  갯수 :  2 0\n"
     ]
    },
    {
     "name": "stderr",
     "output_type": "stream",
     "text": [
      "<ipython-input-10-91a1af1a5106>:147: VisibleDeprecationWarning: Creating an ndarray from ragged nested sequences (which is a list-or-tuple of lists-or-tuples-or ndarrays with different lengths or shapes) is deprecated. If you meant to do this, you must specify 'dtype=object' when creating the ndarray\n",
      "  globals()['G{}_c{}_w_layer{}'.format(global_epoch, num_c_w, layer_index)] = globals()['G{}_c{}_w_layer{}'.format(global_epoch, num_c_w, layer_index)] + np.array(globals()['L{}_layer{}_w_c'.format(i,layer_index)])   # 일반 클러스터링\n"
     ]
    },
    {
     "name": "stdout",
     "output_type": "stream",
     "text": [
      "Layer :  6   클러스터 갯수 정해짐!  갯수 :  2 0\n"
     ]
    },
    {
     "name": "stderr",
     "output_type": "stream",
     "text": [
      "<ipython-input-10-91a1af1a5106>:147: VisibleDeprecationWarning: Creating an ndarray from ragged nested sequences (which is a list-or-tuple of lists-or-tuples-or ndarrays with different lengths or shapes) is deprecated. If you meant to do this, you must specify 'dtype=object' when creating the ndarray\n",
      "  globals()['G{}_c{}_w_layer{}'.format(global_epoch, num_c_w, layer_index)] = globals()['G{}_c{}_w_layer{}'.format(global_epoch, num_c_w, layer_index)] + np.array(globals()['L{}_layer{}_w_c'.format(i,layer_index)])   # 일반 클러스터링\n"
     ]
    },
    {
     "name": "stdout",
     "output_type": "stream",
     "text": [
      "Layer :  7   클러스터 갯수 정해짐!  갯수 :  6 4\n",
      "\n",
      "\n",
      "====================================================== One Global Epoch =====================================================================\n",
      "\n",
      "\n",
      "19  번째 global_epoch 데이터 랜덤하게 준비!!\n"
     ]
    },
    {
     "name": "stderr",
     "output_type": "stream",
     "text": [
      "<ipython-input-10-91a1af1a5106>:147: VisibleDeprecationWarning: Creating an ndarray from ragged nested sequences (which is a list-or-tuple of lists-or-tuples-or ndarrays with different lengths or shapes) is deprecated. If you meant to do this, you must specify 'dtype=object' when creating the ndarray\n",
      "  globals()['G{}_c{}_w_layer{}'.format(global_epoch, num_c_w, layer_index)] = globals()['G{}_c{}_w_layer{}'.format(global_epoch, num_c_w, layer_index)] + np.array(globals()['L{}_layer{}_w_c'.format(i,layer_index)])   # 일반 클러스터링\n"
     ]
    },
    {
     "name": "stdout",
     "output_type": "stream",
     "text": [
      "19  번째 global_epoch 데이터 랜덤 준비완료!!\n",
      "\n",
      "\n",
      "19  번째 global epoch에서 로컬 클라이언트 들 학습시작!\n",
      "\n",
      "학습 중 ...\n",
      "\n",
      "16/16 - 0s - loss: 0.6243 - accuracy: 0.8580\n",
      "16/16 - 0s - loss: 0.7070 - accuracy: 0.8660\n",
      "16/16 - 0s - loss: 0.6692 - accuracy: 0.8720\n",
      "16/16 - 0s - loss: 0.6071 - accuracy: 0.8820\n",
      "16/16 - 0s - loss: 0.6009 - accuracy: 0.8800\n",
      "16/16 - 0s - loss: 0.5917 - accuracy: 0.8960\n",
      "16/16 - 0s - loss: 0.6192 - accuracy: 0.8860\n",
      "16/16 - 0s - loss: 0.6419 - accuracy: 0.8400\n",
      "16/16 - 0s - loss: 0.5988 - accuracy: 0.8720\n",
      "16/16 - 0s - loss: 0.4863 - accuracy: 0.9000\n",
      "16/16 - 0s - loss: 0.8253 - accuracy: 0.8540\n",
      "16/16 - 0s - loss: 0.5566 - accuracy: 0.8700\n",
      "16/16 - 0s - loss: 0.6818 - accuracy: 0.8800\n",
      "16/16 - 0s - loss: 0.5388 - accuracy: 0.8780\n",
      "16/16 - 0s - loss: 0.6798 - accuracy: 0.8760\n",
      "16/16 - 0s - loss: 0.5041 - accuracy: 0.8860\n",
      "16/16 - 0s - loss: 0.6097 - accuracy: 0.8600\n",
      "16/16 - 0s - loss: 0.6186 - accuracy: 0.8860\n",
      "16/16 - 0s - loss: 0.5865 - accuracy: 0.8840\n",
      "16/16 - 0s - loss: 0.5814 - accuracy: 0.9000\n",
      "------------    19  번째 global epoch < Clustering > 로컬 클라이언트 학습 완료!,  Total Training time :  320.7349696159363 ---------------------------\n",
      "\n",
      "\n",
      "Layer :  0   클러스터 갯수 정해짐!  갯수 :  2 0\n"
     ]
    },
    {
     "name": "stderr",
     "output_type": "stream",
     "text": [
      "<ipython-input-10-91a1af1a5106>:147: VisibleDeprecationWarning: Creating an ndarray from ragged nested sequences (which is a list-or-tuple of lists-or-tuples-or ndarrays with different lengths or shapes) is deprecated. If you meant to do this, you must specify 'dtype=object' when creating the ndarray\n",
      "  globals()['G{}_c{}_w_layer{}'.format(global_epoch, num_c_w, layer_index)] = globals()['G{}_c{}_w_layer{}'.format(global_epoch, num_c_w, layer_index)] + np.array(globals()['L{}_layer{}_w_c'.format(i,layer_index)])   # 일반 클러스터링\n"
     ]
    },
    {
     "name": "stdout",
     "output_type": "stream",
     "text": [
      "Layer :  2   클러스터 갯수 정해짐!  갯수 :  2 0\n"
     ]
    },
    {
     "name": "stderr",
     "output_type": "stream",
     "text": [
      "<ipython-input-10-91a1af1a5106>:147: VisibleDeprecationWarning: Creating an ndarray from ragged nested sequences (which is a list-or-tuple of lists-or-tuples-or ndarrays with different lengths or shapes) is deprecated. If you meant to do this, you must specify 'dtype=object' when creating the ndarray\n",
      "  globals()['G{}_c{}_w_layer{}'.format(global_epoch, num_c_w, layer_index)] = globals()['G{}_c{}_w_layer{}'.format(global_epoch, num_c_w, layer_index)] + np.array(globals()['L{}_layer{}_w_c'.format(i,layer_index)])   # 일반 클러스터링\n"
     ]
    },
    {
     "name": "stdout",
     "output_type": "stream",
     "text": [
      "Layer :  4   클러스터 갯수 정해짐!  갯수 :  2 0\n"
     ]
    },
    {
     "name": "stderr",
     "output_type": "stream",
     "text": [
      "<ipython-input-10-91a1af1a5106>:147: VisibleDeprecationWarning: Creating an ndarray from ragged nested sequences (which is a list-or-tuple of lists-or-tuples-or ndarrays with different lengths or shapes) is deprecated. If you meant to do this, you must specify 'dtype=object' when creating the ndarray\n",
      "  globals()['G{}_c{}_w_layer{}'.format(global_epoch, num_c_w, layer_index)] = globals()['G{}_c{}_w_layer{}'.format(global_epoch, num_c_w, layer_index)] + np.array(globals()['L{}_layer{}_w_c'.format(i,layer_index)])   # 일반 클러스터링\n"
     ]
    },
    {
     "name": "stdout",
     "output_type": "stream",
     "text": [
      "Layer :  6   클러스터 갯수 정해짐!  갯수 :  2 0\n"
     ]
    },
    {
     "name": "stderr",
     "output_type": "stream",
     "text": [
      "<ipython-input-10-91a1af1a5106>:147: VisibleDeprecationWarning: Creating an ndarray from ragged nested sequences (which is a list-or-tuple of lists-or-tuples-or ndarrays with different lengths or shapes) is deprecated. If you meant to do this, you must specify 'dtype=object' when creating the ndarray\n",
      "  globals()['G{}_c{}_w_layer{}'.format(global_epoch, num_c_w, layer_index)] = globals()['G{}_c{}_w_layer{}'.format(global_epoch, num_c_w, layer_index)] + np.array(globals()['L{}_layer{}_w_c'.format(i,layer_index)])   # 일반 클러스터링\n"
     ]
    },
    {
     "name": "stdout",
     "output_type": "stream",
     "text": [
      "Layer :  7   클러스터 갯수 정해짐!  갯수 :  6 4\n",
      "\n",
      "\n",
      "====================================================== One Global Epoch =====================================================================\n",
      "\n",
      "\n",
      "20  번째 global_epoch 데이터 랜덤하게 준비!!\n"
     ]
    },
    {
     "name": "stderr",
     "output_type": "stream",
     "text": [
      "<ipython-input-10-91a1af1a5106>:147: VisibleDeprecationWarning: Creating an ndarray from ragged nested sequences (which is a list-or-tuple of lists-or-tuples-or ndarrays with different lengths or shapes) is deprecated. If you meant to do this, you must specify 'dtype=object' when creating the ndarray\n",
      "  globals()['G{}_c{}_w_layer{}'.format(global_epoch, num_c_w, layer_index)] = globals()['G{}_c{}_w_layer{}'.format(global_epoch, num_c_w, layer_index)] + np.array(globals()['L{}_layer{}_w_c'.format(i,layer_index)])   # 일반 클러스터링\n"
     ]
    },
    {
     "name": "stdout",
     "output_type": "stream",
     "text": [
      "20  번째 global_epoch 데이터 랜덤 준비완료!!\n",
      "\n",
      "\n",
      "20  번째 global epoch에서 로컬 클라이언트 들 학습시작!\n",
      "\n",
      "학습 중 ...\n",
      "\n",
      "16/16 - 0s - loss: 0.6623 - accuracy: 0.8780\n",
      "16/16 - 0s - loss: 0.5957 - accuracy: 0.9020\n",
      "16/16 - 0s - loss: 0.7587 - accuracy: 0.8640\n",
      "16/16 - 0s - loss: 0.6366 - accuracy: 0.8700\n",
      "16/16 - 0s - loss: 0.7121 - accuracy: 0.8560\n",
      "16/16 - 0s - loss: 0.8251 - accuracy: 0.8480\n",
      "16/16 - 0s - loss: 0.7078 - accuracy: 0.8780\n",
      "16/16 - 0s - loss: 0.6683 - accuracy: 0.8480\n",
      "16/16 - 0s - loss: 0.7330 - accuracy: 0.8680\n",
      "16/16 - 0s - loss: 0.5743 - accuracy: 0.8720\n",
      "16/16 - 0s - loss: 0.6287 - accuracy: 0.8700\n",
      "16/16 - 0s - loss: 0.5860 - accuracy: 0.8860\n",
      "16/16 - 0s - loss: 0.6667 - accuracy: 0.8800\n",
      "16/16 - 0s - loss: 0.5806 - accuracy: 0.8700\n",
      "16/16 - 0s - loss: 0.6128 - accuracy: 0.8720\n",
      "16/16 - 0s - loss: 0.5681 - accuracy: 0.8740\n",
      "16/16 - 0s - loss: 0.7058 - accuracy: 0.8760\n",
      "16/16 - 0s - loss: 0.5675 - accuracy: 0.8920\n",
      "16/16 - 0s - loss: 0.6609 - accuracy: 0.8600\n",
      "16/16 - 0s - loss: 0.5986 - accuracy: 0.8860\n",
      "------------    20  번째 global epoch < Clustering > 로컬 클라이언트 학습 완료!,  Total Training time :  326.0816309452057 ---------------------------\n",
      "\n",
      "\n",
      "Layer :  0   클러스터 갯수 정해짐!  갯수 :  2 0\n"
     ]
    },
    {
     "name": "stderr",
     "output_type": "stream",
     "text": [
      "<ipython-input-10-91a1af1a5106>:147: VisibleDeprecationWarning: Creating an ndarray from ragged nested sequences (which is a list-or-tuple of lists-or-tuples-or ndarrays with different lengths or shapes) is deprecated. If you meant to do this, you must specify 'dtype=object' when creating the ndarray\n",
      "  globals()['G{}_c{}_w_layer{}'.format(global_epoch, num_c_w, layer_index)] = globals()['G{}_c{}_w_layer{}'.format(global_epoch, num_c_w, layer_index)] + np.array(globals()['L{}_layer{}_w_c'.format(i,layer_index)])   # 일반 클러스터링\n"
     ]
    },
    {
     "name": "stdout",
     "output_type": "stream",
     "text": [
      "Layer :  2   클러스터 갯수 정해짐!  갯수 :  2 0\n"
     ]
    },
    {
     "name": "stderr",
     "output_type": "stream",
     "text": [
      "<ipython-input-10-91a1af1a5106>:147: VisibleDeprecationWarning: Creating an ndarray from ragged nested sequences (which is a list-or-tuple of lists-or-tuples-or ndarrays with different lengths or shapes) is deprecated. If you meant to do this, you must specify 'dtype=object' when creating the ndarray\n",
      "  globals()['G{}_c{}_w_layer{}'.format(global_epoch, num_c_w, layer_index)] = globals()['G{}_c{}_w_layer{}'.format(global_epoch, num_c_w, layer_index)] + np.array(globals()['L{}_layer{}_w_c'.format(i,layer_index)])   # 일반 클러스터링\n"
     ]
    },
    {
     "name": "stdout",
     "output_type": "stream",
     "text": [
      "Layer :  4   클러스터 갯수 정해짐!  갯수 :  2 0\n"
     ]
    },
    {
     "name": "stderr",
     "output_type": "stream",
     "text": [
      "<ipython-input-10-91a1af1a5106>:147: VisibleDeprecationWarning: Creating an ndarray from ragged nested sequences (which is a list-or-tuple of lists-or-tuples-or ndarrays with different lengths or shapes) is deprecated. If you meant to do this, you must specify 'dtype=object' when creating the ndarray\n",
      "  globals()['G{}_c{}_w_layer{}'.format(global_epoch, num_c_w, layer_index)] = globals()['G{}_c{}_w_layer{}'.format(global_epoch, num_c_w, layer_index)] + np.array(globals()['L{}_layer{}_w_c'.format(i,layer_index)])   # 일반 클러스터링\n"
     ]
    },
    {
     "name": "stdout",
     "output_type": "stream",
     "text": [
      "Layer :  6   클러스터 갯수 정해짐!  갯수 :  2 0\n"
     ]
    },
    {
     "name": "stderr",
     "output_type": "stream",
     "text": [
      "<ipython-input-10-91a1af1a5106>:147: VisibleDeprecationWarning: Creating an ndarray from ragged nested sequences (which is a list-or-tuple of lists-or-tuples-or ndarrays with different lengths or shapes) is deprecated. If you meant to do this, you must specify 'dtype=object' when creating the ndarray\n",
      "  globals()['G{}_c{}_w_layer{}'.format(global_epoch, num_c_w, layer_index)] = globals()['G{}_c{}_w_layer{}'.format(global_epoch, num_c_w, layer_index)] + np.array(globals()['L{}_layer{}_w_c'.format(i,layer_index)])   # 일반 클러스터링\n"
     ]
    },
    {
     "name": "stdout",
     "output_type": "stream",
     "text": [
      "Layer :  7   클러스터 갯수 정해짐!  갯수 :  6 4\n",
      "\n",
      "\n",
      "====================================================== One Global Epoch =====================================================================\n",
      "\n",
      "\n",
      "21  번째 global_epoch 데이터 랜덤하게 준비!!\n"
     ]
    },
    {
     "name": "stderr",
     "output_type": "stream",
     "text": [
      "<ipython-input-10-91a1af1a5106>:147: VisibleDeprecationWarning: Creating an ndarray from ragged nested sequences (which is a list-or-tuple of lists-or-tuples-or ndarrays with different lengths or shapes) is deprecated. If you meant to do this, you must specify 'dtype=object' when creating the ndarray\n",
      "  globals()['G{}_c{}_w_layer{}'.format(global_epoch, num_c_w, layer_index)] = globals()['G{}_c{}_w_layer{}'.format(global_epoch, num_c_w, layer_index)] + np.array(globals()['L{}_layer{}_w_c'.format(i,layer_index)])   # 일반 클러스터링\n"
     ]
    },
    {
     "name": "stdout",
     "output_type": "stream",
     "text": [
      "21  번째 global_epoch 데이터 랜덤 준비완료!!\n",
      "\n",
      "\n",
      "21  번째 global epoch에서 로컬 클라이언트 들 학습시작!\n",
      "\n",
      "학습 중 ...\n",
      "\n",
      "16/16 - 0s - loss: 0.6807 - accuracy: 0.8820\n",
      "16/16 - 0s - loss: 0.4948 - accuracy: 0.9080\n",
      "16/16 - 0s - loss: 0.6342 - accuracy: 0.8780\n",
      "16/16 - 0s - loss: 0.7464 - accuracy: 0.8780\n",
      "16/16 - 0s - loss: 0.6741 - accuracy: 0.8780\n",
      "16/16 - 0s - loss: 0.6928 - accuracy: 0.8840\n",
      "16/16 - 0s - loss: 0.5125 - accuracy: 0.9020\n",
      "16/16 - 0s - loss: 0.6416 - accuracy: 0.8820\n",
      "16/16 - 0s - loss: 0.5984 - accuracy: 0.8920\n",
      "16/16 - 0s - loss: 0.5774 - accuracy: 0.8800\n",
      "16/16 - 0s - loss: 0.5793 - accuracy: 0.8600\n",
      "16/16 - 0s - loss: 0.4912 - accuracy: 0.8920\n",
      "16/16 - 0s - loss: 0.5851 - accuracy: 0.8940\n",
      "16/16 - 0s - loss: 0.7298 - accuracy: 0.8680\n",
      "16/16 - 0s - loss: 0.7090 - accuracy: 0.8720\n",
      "16/16 - 0s - loss: 0.4481 - accuracy: 0.8960\n",
      "16/16 - 0s - loss: 0.3642 - accuracy: 0.9100\n",
      "16/16 - 0s - loss: 0.6280 - accuracy: 0.8680\n",
      "16/16 - 0s - loss: 0.5707 - accuracy: 0.8860\n",
      "16/16 - 0s - loss: 0.4016 - accuracy: 0.9120\n",
      "------------    21  번째 global epoch < Clustering > 로컬 클라이언트 학습 완료!,  Total Training time :  352.84090662002563 ---------------------------\n",
      "\n",
      "\n",
      "Layer :  0   클러스터 갯수 정해짐!  갯수 :  2 0\n"
     ]
    },
    {
     "name": "stderr",
     "output_type": "stream",
     "text": [
      "<ipython-input-10-91a1af1a5106>:147: VisibleDeprecationWarning: Creating an ndarray from ragged nested sequences (which is a list-or-tuple of lists-or-tuples-or ndarrays with different lengths or shapes) is deprecated. If you meant to do this, you must specify 'dtype=object' when creating the ndarray\n",
      "  globals()['G{}_c{}_w_layer{}'.format(global_epoch, num_c_w, layer_index)] = globals()['G{}_c{}_w_layer{}'.format(global_epoch, num_c_w, layer_index)] + np.array(globals()['L{}_layer{}_w_c'.format(i,layer_index)])   # 일반 클러스터링\n"
     ]
    },
    {
     "name": "stdout",
     "output_type": "stream",
     "text": [
      "Layer :  2   클러스터 갯수 정해짐!  갯수 :  2 0\n"
     ]
    },
    {
     "name": "stderr",
     "output_type": "stream",
     "text": [
      "<ipython-input-10-91a1af1a5106>:147: VisibleDeprecationWarning: Creating an ndarray from ragged nested sequences (which is a list-or-tuple of lists-or-tuples-or ndarrays with different lengths or shapes) is deprecated. If you meant to do this, you must specify 'dtype=object' when creating the ndarray\n",
      "  globals()['G{}_c{}_w_layer{}'.format(global_epoch, num_c_w, layer_index)] = globals()['G{}_c{}_w_layer{}'.format(global_epoch, num_c_w, layer_index)] + np.array(globals()['L{}_layer{}_w_c'.format(i,layer_index)])   # 일반 클러스터링\n"
     ]
    },
    {
     "name": "stdout",
     "output_type": "stream",
     "text": [
      "Layer :  4   클러스터 갯수 정해짐!  갯수 :  2 0\n"
     ]
    },
    {
     "name": "stderr",
     "output_type": "stream",
     "text": [
      "<ipython-input-10-91a1af1a5106>:147: VisibleDeprecationWarning: Creating an ndarray from ragged nested sequences (which is a list-or-tuple of lists-or-tuples-or ndarrays with different lengths or shapes) is deprecated. If you meant to do this, you must specify 'dtype=object' when creating the ndarray\n",
      "  globals()['G{}_c{}_w_layer{}'.format(global_epoch, num_c_w, layer_index)] = globals()['G{}_c{}_w_layer{}'.format(global_epoch, num_c_w, layer_index)] + np.array(globals()['L{}_layer{}_w_c'.format(i,layer_index)])   # 일반 클러스터링\n"
     ]
    },
    {
     "name": "stdout",
     "output_type": "stream",
     "text": [
      "Layer :  6   클러스터 갯수 정해짐!  갯수 :  2 0\n"
     ]
    },
    {
     "name": "stderr",
     "output_type": "stream",
     "text": [
      "<ipython-input-10-91a1af1a5106>:147: VisibleDeprecationWarning: Creating an ndarray from ragged nested sequences (which is a list-or-tuple of lists-or-tuples-or ndarrays with different lengths or shapes) is deprecated. If you meant to do this, you must specify 'dtype=object' when creating the ndarray\n",
      "  globals()['G{}_c{}_w_layer{}'.format(global_epoch, num_c_w, layer_index)] = globals()['G{}_c{}_w_layer{}'.format(global_epoch, num_c_w, layer_index)] + np.array(globals()['L{}_layer{}_w_c'.format(i,layer_index)])   # 일반 클러스터링\n"
     ]
    },
    {
     "name": "stdout",
     "output_type": "stream",
     "text": [
      "Layer :  7   클러스터 갯수 정해짐!  갯수 :  6 4\n",
      "\n",
      "\n",
      "====================================================== One Global Epoch =====================================================================\n",
      "\n",
      "\n",
      "22  번째 global_epoch 데이터 랜덤하게 준비!!\n"
     ]
    },
    {
     "name": "stderr",
     "output_type": "stream",
     "text": [
      "<ipython-input-10-91a1af1a5106>:147: VisibleDeprecationWarning: Creating an ndarray from ragged nested sequences (which is a list-or-tuple of lists-or-tuples-or ndarrays with different lengths or shapes) is deprecated. If you meant to do this, you must specify 'dtype=object' when creating the ndarray\n",
      "  globals()['G{}_c{}_w_layer{}'.format(global_epoch, num_c_w, layer_index)] = globals()['G{}_c{}_w_layer{}'.format(global_epoch, num_c_w, layer_index)] + np.array(globals()['L{}_layer{}_w_c'.format(i,layer_index)])   # 일반 클러스터링\n"
     ]
    },
    {
     "name": "stdout",
     "output_type": "stream",
     "text": [
      "22  번째 global_epoch 데이터 랜덤 준비완료!!\n",
      "\n",
      "\n",
      "22  번째 global epoch에서 로컬 클라이언트 들 학습시작!\n",
      "\n",
      "학습 중 ...\n",
      "\n",
      "16/16 - 0s - loss: 0.6616 - accuracy: 0.8800\n",
      "16/16 - 0s - loss: 0.6313 - accuracy: 0.8600\n",
      "16/16 - 0s - loss: 0.5217 - accuracy: 0.8820\n",
      "16/16 - 0s - loss: 0.6686 - accuracy: 0.8800\n",
      "16/16 - 0s - loss: 0.4566 - accuracy: 0.9080\n",
      "16/16 - 0s - loss: 0.4363 - accuracy: 0.8940\n",
      "16/16 - 0s - loss: 0.6360 - accuracy: 0.8840\n",
      "16/16 - 0s - loss: 0.5257 - accuracy: 0.8900\n",
      "16/16 - 0s - loss: 0.4996 - accuracy: 0.9040\n",
      "16/16 - 0s - loss: 0.5508 - accuracy: 0.8820\n",
      "16/16 - 0s - loss: 0.6675 - accuracy: 0.8520\n",
      "16/16 - 0s - loss: 0.5247 - accuracy: 0.8920\n",
      "16/16 - 0s - loss: 0.5087 - accuracy: 0.8980\n",
      "16/16 - 0s - loss: 0.5850 - accuracy: 0.8720\n",
      "16/16 - 0s - loss: 0.4857 - accuracy: 0.9020\n",
      "16/16 - 0s - loss: 0.5662 - accuracy: 0.8780\n",
      "16/16 - 0s - loss: 0.6899 - accuracy: 0.8860\n",
      "16/16 - 0s - loss: 0.6127 - accuracy: 0.8820\n",
      "16/16 - 0s - loss: 0.7790 - accuracy: 0.8400\n",
      "16/16 - 0s - loss: 0.8117 - accuracy: 0.8700\n",
      "------------    22  번째 global epoch < Clustering > 로컬 클라이언트 학습 완료!,  Total Training time :  362.0779938697815 ---------------------------\n",
      "\n",
      "\n",
      "Layer :  0   클러스터 갯수 정해짐!  갯수 :  2 0\n"
     ]
    },
    {
     "name": "stderr",
     "output_type": "stream",
     "text": [
      "<ipython-input-10-91a1af1a5106>:147: VisibleDeprecationWarning: Creating an ndarray from ragged nested sequences (which is a list-or-tuple of lists-or-tuples-or ndarrays with different lengths or shapes) is deprecated. If you meant to do this, you must specify 'dtype=object' when creating the ndarray\n",
      "  globals()['G{}_c{}_w_layer{}'.format(global_epoch, num_c_w, layer_index)] = globals()['G{}_c{}_w_layer{}'.format(global_epoch, num_c_w, layer_index)] + np.array(globals()['L{}_layer{}_w_c'.format(i,layer_index)])   # 일반 클러스터링\n"
     ]
    },
    {
     "name": "stdout",
     "output_type": "stream",
     "text": [
      "Layer :  2   클러스터 갯수 정해짐!  갯수 :  2 0\n"
     ]
    },
    {
     "name": "stderr",
     "output_type": "stream",
     "text": [
      "<ipython-input-10-91a1af1a5106>:147: VisibleDeprecationWarning: Creating an ndarray from ragged nested sequences (which is a list-or-tuple of lists-or-tuples-or ndarrays with different lengths or shapes) is deprecated. If you meant to do this, you must specify 'dtype=object' when creating the ndarray\n",
      "  globals()['G{}_c{}_w_layer{}'.format(global_epoch, num_c_w, layer_index)] = globals()['G{}_c{}_w_layer{}'.format(global_epoch, num_c_w, layer_index)] + np.array(globals()['L{}_layer{}_w_c'.format(i,layer_index)])   # 일반 클러스터링\n"
     ]
    },
    {
     "name": "stdout",
     "output_type": "stream",
     "text": [
      "Layer :  4   클러스터 갯수 정해짐!  갯수 :  2 0\n"
     ]
    },
    {
     "name": "stderr",
     "output_type": "stream",
     "text": [
      "<ipython-input-10-91a1af1a5106>:147: VisibleDeprecationWarning: Creating an ndarray from ragged nested sequences (which is a list-or-tuple of lists-or-tuples-or ndarrays with different lengths or shapes) is deprecated. If you meant to do this, you must specify 'dtype=object' when creating the ndarray\n",
      "  globals()['G{}_c{}_w_layer{}'.format(global_epoch, num_c_w, layer_index)] = globals()['G{}_c{}_w_layer{}'.format(global_epoch, num_c_w, layer_index)] + np.array(globals()['L{}_layer{}_w_c'.format(i,layer_index)])   # 일반 클러스터링\n"
     ]
    },
    {
     "name": "stdout",
     "output_type": "stream",
     "text": [
      "Layer :  6   클러스터 갯수 정해짐!  갯수 :  2 0\n"
     ]
    },
    {
     "name": "stderr",
     "output_type": "stream",
     "text": [
      "<ipython-input-10-91a1af1a5106>:147: VisibleDeprecationWarning: Creating an ndarray from ragged nested sequences (which is a list-or-tuple of lists-or-tuples-or ndarrays with different lengths or shapes) is deprecated. If you meant to do this, you must specify 'dtype=object' when creating the ndarray\n",
      "  globals()['G{}_c{}_w_layer{}'.format(global_epoch, num_c_w, layer_index)] = globals()['G{}_c{}_w_layer{}'.format(global_epoch, num_c_w, layer_index)] + np.array(globals()['L{}_layer{}_w_c'.format(i,layer_index)])   # 일반 클러스터링\n"
     ]
    },
    {
     "name": "stdout",
     "output_type": "stream",
     "text": [
      "Layer :  7   클러스터 갯수 정해짐!  갯수 :  6 4\n",
      "\n",
      "\n",
      "====================================================== One Global Epoch =====================================================================\n",
      "\n",
      "\n",
      "23  번째 global_epoch 데이터 랜덤하게 준비!!\n"
     ]
    },
    {
     "name": "stderr",
     "output_type": "stream",
     "text": [
      "<ipython-input-10-91a1af1a5106>:147: VisibleDeprecationWarning: Creating an ndarray from ragged nested sequences (which is a list-or-tuple of lists-or-tuples-or ndarrays with different lengths or shapes) is deprecated. If you meant to do this, you must specify 'dtype=object' when creating the ndarray\n",
      "  globals()['G{}_c{}_w_layer{}'.format(global_epoch, num_c_w, layer_index)] = globals()['G{}_c{}_w_layer{}'.format(global_epoch, num_c_w, layer_index)] + np.array(globals()['L{}_layer{}_w_c'.format(i,layer_index)])   # 일반 클러스터링\n"
     ]
    },
    {
     "name": "stdout",
     "output_type": "stream",
     "text": [
      "23  번째 global_epoch 데이터 랜덤 준비완료!!\n",
      "\n",
      "\n",
      "23  번째 global epoch에서 로컬 클라이언트 들 학습시작!\n",
      "\n",
      "학습 중 ...\n",
      "\n",
      "16/16 - 0s - loss: 0.7211 - accuracy: 0.8560\n",
      "16/16 - 0s - loss: 0.6649 - accuracy: 0.8740\n",
      "16/16 - 0s - loss: 0.5716 - accuracy: 0.8880\n",
      "16/16 - 0s - loss: 0.6676 - accuracy: 0.8620\n",
      "16/16 - 0s - loss: 0.6126 - accuracy: 0.8860\n",
      "16/16 - 0s - loss: 0.7613 - accuracy: 0.8660\n",
      "16/16 - 0s - loss: 0.6710 - accuracy: 0.8660\n",
      "16/16 - 0s - loss: 0.5481 - accuracy: 0.8740\n",
      "16/16 - 0s - loss: 0.4880 - accuracy: 0.9080\n",
      "16/16 - 0s - loss: 0.4989 - accuracy: 0.8760\n",
      "16/16 - 0s - loss: 0.6163 - accuracy: 0.8700\n",
      "16/16 - 0s - loss: 0.5082 - accuracy: 0.8920\n",
      "16/16 - 0s - loss: 0.7578 - accuracy: 0.8660\n",
      "16/16 - 0s - loss: 0.6299 - accuracy: 0.8800\n",
      "16/16 - 0s - loss: 0.5087 - accuracy: 0.8880\n",
      "16/16 - 0s - loss: 0.5452 - accuracy: 0.8760\n",
      "16/16 - 0s - loss: 0.5437 - accuracy: 0.8900\n",
      "16/16 - 0s - loss: 0.8428 - accuracy: 0.8620\n",
      "16/16 - 0s - loss: 0.5415 - accuracy: 0.8980\n",
      "16/16 - 0s - loss: 0.5749 - accuracy: 0.8700\n",
      "------------    23  번째 global epoch < Clustering > 로컬 클라이언트 학습 완료!,  Total Training time :  367.00831294059753 ---------------------------\n",
      "\n",
      "\n",
      "Layer :  0   클러스터 갯수 정해짐!  갯수 :  2 0\n"
     ]
    },
    {
     "name": "stderr",
     "output_type": "stream",
     "text": [
      "<ipython-input-10-91a1af1a5106>:147: VisibleDeprecationWarning: Creating an ndarray from ragged nested sequences (which is a list-or-tuple of lists-or-tuples-or ndarrays with different lengths or shapes) is deprecated. If you meant to do this, you must specify 'dtype=object' when creating the ndarray\n",
      "  globals()['G{}_c{}_w_layer{}'.format(global_epoch, num_c_w, layer_index)] = globals()['G{}_c{}_w_layer{}'.format(global_epoch, num_c_w, layer_index)] + np.array(globals()['L{}_layer{}_w_c'.format(i,layer_index)])   # 일반 클러스터링\n"
     ]
    },
    {
     "name": "stdout",
     "output_type": "stream",
     "text": [
      "Layer :  2   클러스터 갯수 정해짐!  갯수 :  4 2\n"
     ]
    },
    {
     "name": "stderr",
     "output_type": "stream",
     "text": [
      "<ipython-input-10-91a1af1a5106>:147: VisibleDeprecationWarning: Creating an ndarray from ragged nested sequences (which is a list-or-tuple of lists-or-tuples-or ndarrays with different lengths or shapes) is deprecated. If you meant to do this, you must specify 'dtype=object' when creating the ndarray\n",
      "  globals()['G{}_c{}_w_layer{}'.format(global_epoch, num_c_w, layer_index)] = globals()['G{}_c{}_w_layer{}'.format(global_epoch, num_c_w, layer_index)] + np.array(globals()['L{}_layer{}_w_c'.format(i,layer_index)])   # 일반 클러스터링\n"
     ]
    },
    {
     "name": "stdout",
     "output_type": "stream",
     "text": [
      "Layer :  4   클러스터 갯수 정해짐!  갯수 :  2 0\n"
     ]
    },
    {
     "name": "stderr",
     "output_type": "stream",
     "text": [
      "<ipython-input-10-91a1af1a5106>:147: VisibleDeprecationWarning: Creating an ndarray from ragged nested sequences (which is a list-or-tuple of lists-or-tuples-or ndarrays with different lengths or shapes) is deprecated. If you meant to do this, you must specify 'dtype=object' when creating the ndarray\n",
      "  globals()['G{}_c{}_w_layer{}'.format(global_epoch, num_c_w, layer_index)] = globals()['G{}_c{}_w_layer{}'.format(global_epoch, num_c_w, layer_index)] + np.array(globals()['L{}_layer{}_w_c'.format(i,layer_index)])   # 일반 클러스터링\n"
     ]
    },
    {
     "name": "stdout",
     "output_type": "stream",
     "text": [
      "Layer :  6   클러스터 갯수 정해짐!  갯수 :  2 0\n"
     ]
    },
    {
     "name": "stderr",
     "output_type": "stream",
     "text": [
      "<ipython-input-10-91a1af1a5106>:147: VisibleDeprecationWarning: Creating an ndarray from ragged nested sequences (which is a list-or-tuple of lists-or-tuples-or ndarrays with different lengths or shapes) is deprecated. If you meant to do this, you must specify 'dtype=object' when creating the ndarray\n",
      "  globals()['G{}_c{}_w_layer{}'.format(global_epoch, num_c_w, layer_index)] = globals()['G{}_c{}_w_layer{}'.format(global_epoch, num_c_w, layer_index)] + np.array(globals()['L{}_layer{}_w_c'.format(i,layer_index)])   # 일반 클러스터링\n"
     ]
    },
    {
     "name": "stdout",
     "output_type": "stream",
     "text": [
      "Layer :  7   클러스터 갯수 정해짐!  갯수 :  6 4\n",
      "\n",
      "\n",
      "====================================================== One Global Epoch =====================================================================\n",
      "\n",
      "\n",
      "24  번째 global_epoch 데이터 랜덤하게 준비!!\n"
     ]
    },
    {
     "name": "stderr",
     "output_type": "stream",
     "text": [
      "<ipython-input-10-91a1af1a5106>:147: VisibleDeprecationWarning: Creating an ndarray from ragged nested sequences (which is a list-or-tuple of lists-or-tuples-or ndarrays with different lengths or shapes) is deprecated. If you meant to do this, you must specify 'dtype=object' when creating the ndarray\n",
      "  globals()['G{}_c{}_w_layer{}'.format(global_epoch, num_c_w, layer_index)] = globals()['G{}_c{}_w_layer{}'.format(global_epoch, num_c_w, layer_index)] + np.array(globals()['L{}_layer{}_w_c'.format(i,layer_index)])   # 일반 클러스터링\n"
     ]
    },
    {
     "name": "stdout",
     "output_type": "stream",
     "text": [
      "24  번째 global_epoch 데이터 랜덤 준비완료!!\n",
      "\n",
      "\n",
      "24  번째 global epoch에서 로컬 클라이언트 들 학습시작!\n",
      "\n",
      "학습 중 ...\n",
      "\n",
      "16/16 - 0s - loss: 0.6104 - accuracy: 0.8880\n",
      "16/16 - 0s - loss: 0.4884 - accuracy: 0.8960\n",
      "16/16 - 0s - loss: 0.7875 - accuracy: 0.8600\n",
      "16/16 - 0s - loss: 0.4343 - accuracy: 0.9000\n",
      "16/16 - 0s - loss: 0.5939 - accuracy: 0.9000\n",
      "16/16 - 0s - loss: 0.5328 - accuracy: 0.9000\n",
      "16/16 - 0s - loss: 0.5416 - accuracy: 0.8860\n",
      "16/16 - 0s - loss: 0.5829 - accuracy: 0.8860\n",
      "16/16 - 0s - loss: 0.6099 - accuracy: 0.8920\n",
      "16/16 - 0s - loss: 0.5814 - accuracy: 0.8920\n",
      "16/16 - 0s - loss: 0.5044 - accuracy: 0.9100\n",
      "16/16 - 0s - loss: 0.6669 - accuracy: 0.8840\n",
      "16/16 - 0s - loss: 0.7301 - accuracy: 0.8800\n",
      "16/16 - 0s - loss: 0.6100 - accuracy: 0.8680\n",
      "16/16 - 0s - loss: 0.5044 - accuracy: 0.9000\n",
      "16/16 - 0s - loss: 0.6679 - accuracy: 0.8740\n",
      "16/16 - 0s - loss: 0.5080 - accuracy: 0.8800\n",
      "16/16 - 0s - loss: 0.7214 - accuracy: 0.8820\n",
      "16/16 - 0s - loss: 0.5035 - accuracy: 0.9120\n",
      "16/16 - 0s - loss: 0.7432 - accuracy: 0.8740\n",
      "------------    24  번째 global epoch < Clustering > 로컬 클라이언트 학습 완료!,  Total Training time :  376.8299210071564 ---------------------------\n",
      "\n",
      "\n",
      "Layer :  0   클러스터 갯수 정해짐!  갯수 :  2 0\n"
     ]
    },
    {
     "name": "stderr",
     "output_type": "stream",
     "text": [
      "<ipython-input-10-91a1af1a5106>:147: VisibleDeprecationWarning: Creating an ndarray from ragged nested sequences (which is a list-or-tuple of lists-or-tuples-or ndarrays with different lengths or shapes) is deprecated. If you meant to do this, you must specify 'dtype=object' when creating the ndarray\n",
      "  globals()['G{}_c{}_w_layer{}'.format(global_epoch, num_c_w, layer_index)] = globals()['G{}_c{}_w_layer{}'.format(global_epoch, num_c_w, layer_index)] + np.array(globals()['L{}_layer{}_w_c'.format(i,layer_index)])   # 일반 클러스터링\n"
     ]
    },
    {
     "name": "stdout",
     "output_type": "stream",
     "text": [
      "Layer :  2   클러스터 갯수 정해짐!  갯수 :  2 0\n"
     ]
    },
    {
     "name": "stderr",
     "output_type": "stream",
     "text": [
      "<ipython-input-10-91a1af1a5106>:147: VisibleDeprecationWarning: Creating an ndarray from ragged nested sequences (which is a list-or-tuple of lists-or-tuples-or ndarrays with different lengths or shapes) is deprecated. If you meant to do this, you must specify 'dtype=object' when creating the ndarray\n",
      "  globals()['G{}_c{}_w_layer{}'.format(global_epoch, num_c_w, layer_index)] = globals()['G{}_c{}_w_layer{}'.format(global_epoch, num_c_w, layer_index)] + np.array(globals()['L{}_layer{}_w_c'.format(i,layer_index)])   # 일반 클러스터링\n"
     ]
    },
    {
     "name": "stdout",
     "output_type": "stream",
     "text": [
      "Layer :  4   클러스터 갯수 정해짐!  갯수 :  2 0\n"
     ]
    },
    {
     "name": "stderr",
     "output_type": "stream",
     "text": [
      "<ipython-input-10-91a1af1a5106>:147: VisibleDeprecationWarning: Creating an ndarray from ragged nested sequences (which is a list-or-tuple of lists-or-tuples-or ndarrays with different lengths or shapes) is deprecated. If you meant to do this, you must specify 'dtype=object' when creating the ndarray\n",
      "  globals()['G{}_c{}_w_layer{}'.format(global_epoch, num_c_w, layer_index)] = globals()['G{}_c{}_w_layer{}'.format(global_epoch, num_c_w, layer_index)] + np.array(globals()['L{}_layer{}_w_c'.format(i,layer_index)])   # 일반 클러스터링\n"
     ]
    },
    {
     "name": "stdout",
     "output_type": "stream",
     "text": [
      "Layer :  6   클러스터 갯수 정해짐!  갯수 :  2 0\n"
     ]
    },
    {
     "name": "stderr",
     "output_type": "stream",
     "text": [
      "<ipython-input-10-91a1af1a5106>:147: VisibleDeprecationWarning: Creating an ndarray from ragged nested sequences (which is a list-or-tuple of lists-or-tuples-or ndarrays with different lengths or shapes) is deprecated. If you meant to do this, you must specify 'dtype=object' when creating the ndarray\n",
      "  globals()['G{}_c{}_w_layer{}'.format(global_epoch, num_c_w, layer_index)] = globals()['G{}_c{}_w_layer{}'.format(global_epoch, num_c_w, layer_index)] + np.array(globals()['L{}_layer{}_w_c'.format(i,layer_index)])   # 일반 클러스터링\n"
     ]
    },
    {
     "name": "stdout",
     "output_type": "stream",
     "text": [
      "Layer :  7   클러스터 갯수 정해짐!  갯수 :  6 4\n",
      "\n",
      "\n",
      "====================================================== One Global Epoch =====================================================================\n",
      "\n",
      "\n",
      "25  번째 global_epoch 데이터 랜덤하게 준비!!\n"
     ]
    },
    {
     "name": "stderr",
     "output_type": "stream",
     "text": [
      "<ipython-input-10-91a1af1a5106>:147: VisibleDeprecationWarning: Creating an ndarray from ragged nested sequences (which is a list-or-tuple of lists-or-tuples-or ndarrays with different lengths or shapes) is deprecated. If you meant to do this, you must specify 'dtype=object' when creating the ndarray\n",
      "  globals()['G{}_c{}_w_layer{}'.format(global_epoch, num_c_w, layer_index)] = globals()['G{}_c{}_w_layer{}'.format(global_epoch, num_c_w, layer_index)] + np.array(globals()['L{}_layer{}_w_c'.format(i,layer_index)])   # 일반 클러스터링\n"
     ]
    },
    {
     "name": "stdout",
     "output_type": "stream",
     "text": [
      "25  번째 global_epoch 데이터 랜덤 준비완료!!\n",
      "\n",
      "\n",
      "25  번째 global epoch에서 로컬 클라이언트 들 학습시작!\n",
      "\n",
      "학습 중 ...\n",
      "\n",
      "16/16 - 0s - loss: 0.6986 - accuracy: 0.8600\n",
      "16/16 - 0s - loss: 0.7870 - accuracy: 0.8740\n",
      "16/16 - 0s - loss: 0.5975 - accuracy: 0.8780\n",
      "16/16 - 0s - loss: 0.5255 - accuracy: 0.9080\n",
      "16/16 - 0s - loss: 0.5590 - accuracy: 0.8760\n",
      "16/16 - 0s - loss: 0.4778 - accuracy: 0.8860\n",
      "16/16 - 0s - loss: 0.7198 - accuracy: 0.8900\n",
      "16/16 - 0s - loss: 0.6888 - accuracy: 0.8560\n",
      "16/16 - 0s - loss: 0.4930 - accuracy: 0.8820\n",
      "16/16 - 0s - loss: 0.8111 - accuracy: 0.8760\n",
      "16/16 - 0s - loss: 0.7722 - accuracy: 0.8600\n",
      "16/16 - 0s - loss: 0.5387 - accuracy: 0.8840\n",
      "16/16 - 0s - loss: 0.5606 - accuracy: 0.8920\n",
      "16/16 - 0s - loss: 0.5574 - accuracy: 0.8980\n",
      "16/16 - 0s - loss: 0.7183 - accuracy: 0.8700\n",
      "16/16 - 0s - loss: 0.6703 - accuracy: 0.8840\n",
      "16/16 - 0s - loss: 0.5469 - accuracy: 0.9040\n",
      "16/16 - 0s - loss: 0.7474 - accuracy: 0.8700\n",
      "16/16 - 0s - loss: 0.4692 - accuracy: 0.9240\n",
      "16/16 - 0s - loss: 0.8060 - accuracy: 0.8640\n",
      "------------    25  번째 global epoch < Clustering > 로컬 클라이언트 학습 완료!,  Total Training time :  396.2692723274231 ---------------------------\n",
      "\n",
      "\n",
      "Layer :  0   클러스터 갯수 정해짐!  갯수 :  2 0\n"
     ]
    },
    {
     "name": "stderr",
     "output_type": "stream",
     "text": [
      "<ipython-input-10-91a1af1a5106>:147: VisibleDeprecationWarning: Creating an ndarray from ragged nested sequences (which is a list-or-tuple of lists-or-tuples-or ndarrays with different lengths or shapes) is deprecated. If you meant to do this, you must specify 'dtype=object' when creating the ndarray\n",
      "  globals()['G{}_c{}_w_layer{}'.format(global_epoch, num_c_w, layer_index)] = globals()['G{}_c{}_w_layer{}'.format(global_epoch, num_c_w, layer_index)] + np.array(globals()['L{}_layer{}_w_c'.format(i,layer_index)])   # 일반 클러스터링\n"
     ]
    },
    {
     "name": "stdout",
     "output_type": "stream",
     "text": [
      "Layer :  2   클러스터 갯수 정해짐!  갯수 :  4 2\n"
     ]
    },
    {
     "name": "stderr",
     "output_type": "stream",
     "text": [
      "<ipython-input-10-91a1af1a5106>:147: VisibleDeprecationWarning: Creating an ndarray from ragged nested sequences (which is a list-or-tuple of lists-or-tuples-or ndarrays with different lengths or shapes) is deprecated. If you meant to do this, you must specify 'dtype=object' when creating the ndarray\n",
      "  globals()['G{}_c{}_w_layer{}'.format(global_epoch, num_c_w, layer_index)] = globals()['G{}_c{}_w_layer{}'.format(global_epoch, num_c_w, layer_index)] + np.array(globals()['L{}_layer{}_w_c'.format(i,layer_index)])   # 일반 클러스터링\n"
     ]
    },
    {
     "name": "stdout",
     "output_type": "stream",
     "text": [
      "Layer :  4   클러스터 갯수 정해짐!  갯수 :  2 0\n"
     ]
    },
    {
     "name": "stderr",
     "output_type": "stream",
     "text": [
      "<ipython-input-10-91a1af1a5106>:147: VisibleDeprecationWarning: Creating an ndarray from ragged nested sequences (which is a list-or-tuple of lists-or-tuples-or ndarrays with different lengths or shapes) is deprecated. If you meant to do this, you must specify 'dtype=object' when creating the ndarray\n",
      "  globals()['G{}_c{}_w_layer{}'.format(global_epoch, num_c_w, layer_index)] = globals()['G{}_c{}_w_layer{}'.format(global_epoch, num_c_w, layer_index)] + np.array(globals()['L{}_layer{}_w_c'.format(i,layer_index)])   # 일반 클러스터링\n"
     ]
    },
    {
     "name": "stdout",
     "output_type": "stream",
     "text": [
      "Layer :  6   클러스터 갯수 정해짐!  갯수 :  2 0\n"
     ]
    },
    {
     "name": "stderr",
     "output_type": "stream",
     "text": [
      "<ipython-input-10-91a1af1a5106>:147: VisibleDeprecationWarning: Creating an ndarray from ragged nested sequences (which is a list-or-tuple of lists-or-tuples-or ndarrays with different lengths or shapes) is deprecated. If you meant to do this, you must specify 'dtype=object' when creating the ndarray\n",
      "  globals()['G{}_c{}_w_layer{}'.format(global_epoch, num_c_w, layer_index)] = globals()['G{}_c{}_w_layer{}'.format(global_epoch, num_c_w, layer_index)] + np.array(globals()['L{}_layer{}_w_c'.format(i,layer_index)])   # 일반 클러스터링\n"
     ]
    },
    {
     "name": "stdout",
     "output_type": "stream",
     "text": [
      "Layer :  7   클러스터 갯수 정해짐!  갯수 :  6 4\n",
      "\n",
      "\n",
      "====================================================== One Global Epoch =====================================================================\n",
      "\n",
      "\n",
      "26  번째 global_epoch 데이터 랜덤하게 준비!!\n"
     ]
    },
    {
     "name": "stderr",
     "output_type": "stream",
     "text": [
      "<ipython-input-10-91a1af1a5106>:147: VisibleDeprecationWarning: Creating an ndarray from ragged nested sequences (which is a list-or-tuple of lists-or-tuples-or ndarrays with different lengths or shapes) is deprecated. If you meant to do this, you must specify 'dtype=object' when creating the ndarray\n",
      "  globals()['G{}_c{}_w_layer{}'.format(global_epoch, num_c_w, layer_index)] = globals()['G{}_c{}_w_layer{}'.format(global_epoch, num_c_w, layer_index)] + np.array(globals()['L{}_layer{}_w_c'.format(i,layer_index)])   # 일반 클러스터링\n"
     ]
    },
    {
     "name": "stdout",
     "output_type": "stream",
     "text": [
      "26  번째 global_epoch 데이터 랜덤 준비완료!!\n",
      "\n",
      "\n",
      "26  번째 global epoch에서 로컬 클라이언트 들 학습시작!\n",
      "\n",
      "학습 중 ...\n",
      "\n",
      "16/16 - 0s - loss: 0.6923 - accuracy: 0.8680\n",
      "16/16 - 0s - loss: 0.5594 - accuracy: 0.8900\n",
      "16/16 - 0s - loss: 0.5491 - accuracy: 0.8900\n",
      "16/16 - 0s - loss: 0.6210 - accuracy: 0.8820\n",
      "16/16 - 0s - loss: 0.5967 - accuracy: 0.8680\n",
      "16/16 - 0s - loss: 0.8780 - accuracy: 0.8760\n",
      "16/16 - 0s - loss: 0.6617 - accuracy: 0.8920\n",
      "16/16 - 0s - loss: 0.4824 - accuracy: 0.8960\n",
      "16/16 - 0s - loss: 0.5058 - accuracy: 0.9080\n",
      "16/16 - 0s - loss: 0.7716 - accuracy: 0.8840\n",
      "16/16 - 0s - loss: 0.6119 - accuracy: 0.8880\n",
      "16/16 - 0s - loss: 0.7595 - accuracy: 0.8520\n",
      "16/16 - 0s - loss: 0.5901 - accuracy: 0.9100\n",
      "16/16 - 0s - loss: 0.5962 - accuracy: 0.8920\n",
      "16/16 - 0s - loss: 0.5304 - accuracy: 0.8820\n",
      "16/16 - 0s - loss: 0.6690 - accuracy: 0.8760\n",
      "16/16 - 0s - loss: 0.5912 - accuracy: 0.8820\n",
      "16/16 - 0s - loss: 0.6826 - accuracy: 0.8680\n",
      "16/16 - 0s - loss: 0.6606 - accuracy: 0.8680\n",
      "16/16 - 0s - loss: 0.4445 - accuracy: 0.8960\n",
      "------------    26  번째 global epoch < Clustering > 로컬 클라이언트 학습 완료!,  Total Training time :  424.5522267818451 ---------------------------\n",
      "\n",
      "\n",
      "Layer :  0   클러스터 갯수 정해짐!  갯수 :  2 0\n"
     ]
    },
    {
     "name": "stderr",
     "output_type": "stream",
     "text": [
      "<ipython-input-10-91a1af1a5106>:147: VisibleDeprecationWarning: Creating an ndarray from ragged nested sequences (which is a list-or-tuple of lists-or-tuples-or ndarrays with different lengths or shapes) is deprecated. If you meant to do this, you must specify 'dtype=object' when creating the ndarray\n",
      "  globals()['G{}_c{}_w_layer{}'.format(global_epoch, num_c_w, layer_index)] = globals()['G{}_c{}_w_layer{}'.format(global_epoch, num_c_w, layer_index)] + np.array(globals()['L{}_layer{}_w_c'.format(i,layer_index)])   # 일반 클러스터링\n"
     ]
    },
    {
     "name": "stdout",
     "output_type": "stream",
     "text": [
      "Layer :  2   클러스터 갯수 정해짐!  갯수 :  2 0\n"
     ]
    },
    {
     "name": "stderr",
     "output_type": "stream",
     "text": [
      "<ipython-input-10-91a1af1a5106>:147: VisibleDeprecationWarning: Creating an ndarray from ragged nested sequences (which is a list-or-tuple of lists-or-tuples-or ndarrays with different lengths or shapes) is deprecated. If you meant to do this, you must specify 'dtype=object' when creating the ndarray\n",
      "  globals()['G{}_c{}_w_layer{}'.format(global_epoch, num_c_w, layer_index)] = globals()['G{}_c{}_w_layer{}'.format(global_epoch, num_c_w, layer_index)] + np.array(globals()['L{}_layer{}_w_c'.format(i,layer_index)])   # 일반 클러스터링\n"
     ]
    },
    {
     "name": "stdout",
     "output_type": "stream",
     "text": [
      "Layer :  4   클러스터 갯수 정해짐!  갯수 :  2 0\n"
     ]
    },
    {
     "name": "stderr",
     "output_type": "stream",
     "text": [
      "<ipython-input-10-91a1af1a5106>:147: VisibleDeprecationWarning: Creating an ndarray from ragged nested sequences (which is a list-or-tuple of lists-or-tuples-or ndarrays with different lengths or shapes) is deprecated. If you meant to do this, you must specify 'dtype=object' when creating the ndarray\n",
      "  globals()['G{}_c{}_w_layer{}'.format(global_epoch, num_c_w, layer_index)] = globals()['G{}_c{}_w_layer{}'.format(global_epoch, num_c_w, layer_index)] + np.array(globals()['L{}_layer{}_w_c'.format(i,layer_index)])   # 일반 클러스터링\n"
     ]
    },
    {
     "name": "stdout",
     "output_type": "stream",
     "text": [
      "Layer :  6   클러스터 갯수 정해짐!  갯수 :  2 0\n"
     ]
    },
    {
     "name": "stderr",
     "output_type": "stream",
     "text": [
      "<ipython-input-10-91a1af1a5106>:147: VisibleDeprecationWarning: Creating an ndarray from ragged nested sequences (which is a list-or-tuple of lists-or-tuples-or ndarrays with different lengths or shapes) is deprecated. If you meant to do this, you must specify 'dtype=object' when creating the ndarray\n",
      "  globals()['G{}_c{}_w_layer{}'.format(global_epoch, num_c_w, layer_index)] = globals()['G{}_c{}_w_layer{}'.format(global_epoch, num_c_w, layer_index)] + np.array(globals()['L{}_layer{}_w_c'.format(i,layer_index)])   # 일반 클러스터링\n"
     ]
    },
    {
     "name": "stdout",
     "output_type": "stream",
     "text": [
      "Layer :  7   클러스터 갯수 정해짐!  갯수 :  6 4\n",
      "\n",
      "\n",
      "====================================================== One Global Epoch =====================================================================\n",
      "\n",
      "\n",
      "27  번째 global_epoch 데이터 랜덤하게 준비!!\n"
     ]
    },
    {
     "name": "stderr",
     "output_type": "stream",
     "text": [
      "<ipython-input-10-91a1af1a5106>:147: VisibleDeprecationWarning: Creating an ndarray from ragged nested sequences (which is a list-or-tuple of lists-or-tuples-or ndarrays with different lengths or shapes) is deprecated. If you meant to do this, you must specify 'dtype=object' when creating the ndarray\n",
      "  globals()['G{}_c{}_w_layer{}'.format(global_epoch, num_c_w, layer_index)] = globals()['G{}_c{}_w_layer{}'.format(global_epoch, num_c_w, layer_index)] + np.array(globals()['L{}_layer{}_w_c'.format(i,layer_index)])   # 일반 클러스터링\n"
     ]
    },
    {
     "name": "stdout",
     "output_type": "stream",
     "text": [
      "27  번째 global_epoch 데이터 랜덤 준비완료!!\n",
      "\n",
      "\n",
      "27  번째 global epoch에서 로컬 클라이언트 들 학습시작!\n",
      "\n",
      "학습 중 ...\n",
      "\n",
      "16/16 - 0s - loss: 0.4611 - accuracy: 0.9140\n",
      "16/16 - 0s - loss: 0.4796 - accuracy: 0.8960\n",
      "16/16 - 0s - loss: 0.5676 - accuracy: 0.8980\n",
      "16/16 - 0s - loss: 0.6261 - accuracy: 0.8780\n",
      "16/16 - 0s - loss: 0.4993 - accuracy: 0.8860\n",
      "16/16 - 0s - loss: 0.7090 - accuracy: 0.8580\n",
      "16/16 - 0s - loss: 0.5470 - accuracy: 0.8960\n",
      "16/16 - 0s - loss: 0.4677 - accuracy: 0.8760\n",
      "16/16 - 0s - loss: 0.5739 - accuracy: 0.8900\n",
      "16/16 - 0s - loss: 0.7045 - accuracy: 0.8600\n",
      "16/16 - 0s - loss: 0.4059 - accuracy: 0.9080\n",
      "16/16 - 0s - loss: 0.6258 - accuracy: 0.8800\n",
      "16/16 - 0s - loss: 0.6560 - accuracy: 0.9040\n",
      "16/16 - 0s - loss: 0.7832 - accuracy: 0.8600\n",
      "16/16 - 0s - loss: 0.5954 - accuracy: 0.8780\n",
      "16/16 - 0s - loss: 0.6602 - accuracy: 0.8720\n",
      "16/16 - 0s - loss: 0.5897 - accuracy: 0.8740\n",
      "16/16 - 0s - loss: 0.7438 - accuracy: 0.8680\n",
      "16/16 - 0s - loss: 0.4582 - accuracy: 0.8900\n",
      "16/16 - 0s - loss: 0.5859 - accuracy: 0.8940\n",
      "------------    27  번째 global epoch < Clustering > 로컬 클라이언트 학습 완료!,  Total Training time :  425.62274265289307 ---------------------------\n",
      "\n",
      "\n",
      "Layer :  0   클러스터 갯수 정해짐!  갯수 :  2 0\n"
     ]
    },
    {
     "name": "stderr",
     "output_type": "stream",
     "text": [
      "<ipython-input-10-91a1af1a5106>:147: VisibleDeprecationWarning: Creating an ndarray from ragged nested sequences (which is a list-or-tuple of lists-or-tuples-or ndarrays with different lengths or shapes) is deprecated. If you meant to do this, you must specify 'dtype=object' when creating the ndarray\n",
      "  globals()['G{}_c{}_w_layer{}'.format(global_epoch, num_c_w, layer_index)] = globals()['G{}_c{}_w_layer{}'.format(global_epoch, num_c_w, layer_index)] + np.array(globals()['L{}_layer{}_w_c'.format(i,layer_index)])   # 일반 클러스터링\n"
     ]
    },
    {
     "name": "stdout",
     "output_type": "stream",
     "text": [
      "Layer :  2   클러스터 갯수 정해짐!  갯수 :  4 2\n"
     ]
    },
    {
     "name": "stderr",
     "output_type": "stream",
     "text": [
      "<ipython-input-10-91a1af1a5106>:147: VisibleDeprecationWarning: Creating an ndarray from ragged nested sequences (which is a list-or-tuple of lists-or-tuples-or ndarrays with different lengths or shapes) is deprecated. If you meant to do this, you must specify 'dtype=object' when creating the ndarray\n",
      "  globals()['G{}_c{}_w_layer{}'.format(global_epoch, num_c_w, layer_index)] = globals()['G{}_c{}_w_layer{}'.format(global_epoch, num_c_w, layer_index)] + np.array(globals()['L{}_layer{}_w_c'.format(i,layer_index)])   # 일반 클러스터링\n"
     ]
    },
    {
     "name": "stdout",
     "output_type": "stream",
     "text": [
      "Layer :  4   클러스터 갯수 정해짐!  갯수 :  2 0\n"
     ]
    },
    {
     "name": "stderr",
     "output_type": "stream",
     "text": [
      "<ipython-input-10-91a1af1a5106>:147: VisibleDeprecationWarning: Creating an ndarray from ragged nested sequences (which is a list-or-tuple of lists-or-tuples-or ndarrays with different lengths or shapes) is deprecated. If you meant to do this, you must specify 'dtype=object' when creating the ndarray\n",
      "  globals()['G{}_c{}_w_layer{}'.format(global_epoch, num_c_w, layer_index)] = globals()['G{}_c{}_w_layer{}'.format(global_epoch, num_c_w, layer_index)] + np.array(globals()['L{}_layer{}_w_c'.format(i,layer_index)])   # 일반 클러스터링\n"
     ]
    },
    {
     "name": "stdout",
     "output_type": "stream",
     "text": [
      "Layer :  6   클러스터 갯수 정해짐!  갯수 :  2 0\n"
     ]
    },
    {
     "name": "stderr",
     "output_type": "stream",
     "text": [
      "<ipython-input-10-91a1af1a5106>:147: VisibleDeprecationWarning: Creating an ndarray from ragged nested sequences (which is a list-or-tuple of lists-or-tuples-or ndarrays with different lengths or shapes) is deprecated. If you meant to do this, you must specify 'dtype=object' when creating the ndarray\n",
      "  globals()['G{}_c{}_w_layer{}'.format(global_epoch, num_c_w, layer_index)] = globals()['G{}_c{}_w_layer{}'.format(global_epoch, num_c_w, layer_index)] + np.array(globals()['L{}_layer{}_w_c'.format(i,layer_index)])   # 일반 클러스터링\n"
     ]
    },
    {
     "name": "stdout",
     "output_type": "stream",
     "text": [
      "Layer :  7   클러스터 갯수 정해짐!  갯수 :  6 4\n",
      "\n",
      "\n",
      "====================================================== One Global Epoch =====================================================================\n",
      "\n",
      "\n",
      "28  번째 global_epoch 데이터 랜덤하게 준비!!\n"
     ]
    },
    {
     "name": "stderr",
     "output_type": "stream",
     "text": [
      "<ipython-input-10-91a1af1a5106>:147: VisibleDeprecationWarning: Creating an ndarray from ragged nested sequences (which is a list-or-tuple of lists-or-tuples-or ndarrays with different lengths or shapes) is deprecated. If you meant to do this, you must specify 'dtype=object' when creating the ndarray\n",
      "  globals()['G{}_c{}_w_layer{}'.format(global_epoch, num_c_w, layer_index)] = globals()['G{}_c{}_w_layer{}'.format(global_epoch, num_c_w, layer_index)] + np.array(globals()['L{}_layer{}_w_c'.format(i,layer_index)])   # 일반 클러스터링\n"
     ]
    },
    {
     "name": "stdout",
     "output_type": "stream",
     "text": [
      "28  번째 global_epoch 데이터 랜덤 준비완료!!\n",
      "\n",
      "\n",
      "28  번째 global epoch에서 로컬 클라이언트 들 학습시작!\n",
      "\n",
      "학습 중 ...\n",
      "\n",
      "16/16 - 0s - loss: 0.4986 - accuracy: 0.8900\n",
      "16/16 - 0s - loss: 0.6930 - accuracy: 0.8740\n",
      "16/16 - 0s - loss: 0.7221 - accuracy: 0.8780\n",
      "16/16 - 0s - loss: 0.7037 - accuracy: 0.8960\n",
      "16/16 - 0s - loss: 0.5529 - accuracy: 0.8960\n",
      "16/16 - 0s - loss: 0.5412 - accuracy: 0.8960\n",
      "16/16 - 0s - loss: 0.4592 - accuracy: 0.9040\n",
      "16/16 - 0s - loss: 0.7360 - accuracy: 0.8800\n",
      "16/16 - 0s - loss: 0.4557 - accuracy: 0.8920\n",
      "16/16 - 0s - loss: 0.5976 - accuracy: 0.8900\n",
      "16/16 - 0s - loss: 0.6549 - accuracy: 0.8780\n",
      "16/16 - 0s - loss: 0.7017 - accuracy: 0.8680\n",
      "16/16 - 0s - loss: 0.5752 - accuracy: 0.9000\n",
      "16/16 - 0s - loss: 0.7284 - accuracy: 0.8440\n",
      "16/16 - 0s - loss: 0.4776 - accuracy: 0.8960\n",
      "16/16 - 0s - loss: 0.5316 - accuracy: 0.8960\n",
      "16/16 - 0s - loss: 0.7187 - accuracy: 0.8580\n",
      "16/16 - 0s - loss: 0.6159 - accuracy: 0.8940\n",
      "16/16 - 0s - loss: 0.7597 - accuracy: 0.8840\n",
      "16/16 - 0s - loss: 0.5211 - accuracy: 0.8900\n",
      "------------    28  번째 global epoch < Clustering > 로컬 클라이언트 학습 완료!,  Total Training time :  434.660605430603 ---------------------------\n",
      "\n",
      "\n",
      "Layer :  0   클러스터 갯수 정해짐!  갯수 :  2 0\n"
     ]
    },
    {
     "name": "stderr",
     "output_type": "stream",
     "text": [
      "<ipython-input-10-91a1af1a5106>:147: VisibleDeprecationWarning: Creating an ndarray from ragged nested sequences (which is a list-or-tuple of lists-or-tuples-or ndarrays with different lengths or shapes) is deprecated. If you meant to do this, you must specify 'dtype=object' when creating the ndarray\n",
      "  globals()['G{}_c{}_w_layer{}'.format(global_epoch, num_c_w, layer_index)] = globals()['G{}_c{}_w_layer{}'.format(global_epoch, num_c_w, layer_index)] + np.array(globals()['L{}_layer{}_w_c'.format(i,layer_index)])   # 일반 클러스터링\n"
     ]
    },
    {
     "name": "stdout",
     "output_type": "stream",
     "text": [
      "Layer :  2   클러스터 갯수 정해짐!  갯수 :  2 0\n"
     ]
    },
    {
     "name": "stderr",
     "output_type": "stream",
     "text": [
      "<ipython-input-10-91a1af1a5106>:147: VisibleDeprecationWarning: Creating an ndarray from ragged nested sequences (which is a list-or-tuple of lists-or-tuples-or ndarrays with different lengths or shapes) is deprecated. If you meant to do this, you must specify 'dtype=object' when creating the ndarray\n",
      "  globals()['G{}_c{}_w_layer{}'.format(global_epoch, num_c_w, layer_index)] = globals()['G{}_c{}_w_layer{}'.format(global_epoch, num_c_w, layer_index)] + np.array(globals()['L{}_layer{}_w_c'.format(i,layer_index)])   # 일반 클러스터링\n"
     ]
    },
    {
     "name": "stdout",
     "output_type": "stream",
     "text": [
      "Layer :  4   클러스터 갯수 정해짐!  갯수 :  2 0\n"
     ]
    },
    {
     "name": "stderr",
     "output_type": "stream",
     "text": [
      "<ipython-input-10-91a1af1a5106>:147: VisibleDeprecationWarning: Creating an ndarray from ragged nested sequences (which is a list-or-tuple of lists-or-tuples-or ndarrays with different lengths or shapes) is deprecated. If you meant to do this, you must specify 'dtype=object' when creating the ndarray\n",
      "  globals()['G{}_c{}_w_layer{}'.format(global_epoch, num_c_w, layer_index)] = globals()['G{}_c{}_w_layer{}'.format(global_epoch, num_c_w, layer_index)] + np.array(globals()['L{}_layer{}_w_c'.format(i,layer_index)])   # 일반 클러스터링\n"
     ]
    },
    {
     "name": "stdout",
     "output_type": "stream",
     "text": [
      "Layer :  6   클러스터 갯수 정해짐!  갯수 :  2 0\n"
     ]
    },
    {
     "name": "stderr",
     "output_type": "stream",
     "text": [
      "<ipython-input-10-91a1af1a5106>:147: VisibleDeprecationWarning: Creating an ndarray from ragged nested sequences (which is a list-or-tuple of lists-or-tuples-or ndarrays with different lengths or shapes) is deprecated. If you meant to do this, you must specify 'dtype=object' when creating the ndarray\n",
      "  globals()['G{}_c{}_w_layer{}'.format(global_epoch, num_c_w, layer_index)] = globals()['G{}_c{}_w_layer{}'.format(global_epoch, num_c_w, layer_index)] + np.array(globals()['L{}_layer{}_w_c'.format(i,layer_index)])   # 일반 클러스터링\n"
     ]
    },
    {
     "name": "stdout",
     "output_type": "stream",
     "text": [
      "Layer :  7   클러스터 갯수 정해짐!  갯수 :  6 4\n",
      "\n",
      "\n",
      "====================================================== One Global Epoch =====================================================================\n",
      "\n",
      "\n",
      "29  번째 global_epoch 데이터 랜덤하게 준비!!\n"
     ]
    },
    {
     "name": "stderr",
     "output_type": "stream",
     "text": [
      "<ipython-input-10-91a1af1a5106>:147: VisibleDeprecationWarning: Creating an ndarray from ragged nested sequences (which is a list-or-tuple of lists-or-tuples-or ndarrays with different lengths or shapes) is deprecated. If you meant to do this, you must specify 'dtype=object' when creating the ndarray\n",
      "  globals()['G{}_c{}_w_layer{}'.format(global_epoch, num_c_w, layer_index)] = globals()['G{}_c{}_w_layer{}'.format(global_epoch, num_c_w, layer_index)] + np.array(globals()['L{}_layer{}_w_c'.format(i,layer_index)])   # 일반 클러스터링\n"
     ]
    },
    {
     "name": "stdout",
     "output_type": "stream",
     "text": [
      "29  번째 global_epoch 데이터 랜덤 준비완료!!\n",
      "\n",
      "\n",
      "29  번째 global epoch에서 로컬 클라이언트 들 학습시작!\n",
      "\n",
      "학습 중 ...\n",
      "\n",
      "16/16 - 0s - loss: 0.6922 - accuracy: 0.9040\n",
      "16/16 - 0s - loss: 0.7791 - accuracy: 0.8760\n",
      "16/16 - 0s - loss: 0.6115 - accuracy: 0.8940\n",
      "16/16 - 0s - loss: 0.4518 - accuracy: 0.8960\n",
      "16/16 - 0s - loss: 0.7068 - accuracy: 0.8840\n",
      "16/16 - 0s - loss: 0.5468 - accuracy: 0.8740\n",
      "16/16 - 0s - loss: 0.5324 - accuracy: 0.8980\n",
      "16/16 - 0s - loss: 0.8022 - accuracy: 0.8540\n",
      "16/16 - 0s - loss: 0.7225 - accuracy: 0.8560\n",
      "16/16 - 0s - loss: 0.7823 - accuracy: 0.8480\n",
      "16/16 - 0s - loss: 0.5129 - accuracy: 0.8960\n",
      "16/16 - 0s - loss: 0.6064 - accuracy: 0.8860\n",
      "16/16 - 0s - loss: 0.6509 - accuracy: 0.8900\n",
      "16/16 - 0s - loss: 0.5314 - accuracy: 0.8980\n",
      "16/16 - 0s - loss: 0.8500 - accuracy: 0.8580\n",
      "16/16 - 0s - loss: 0.7391 - accuracy: 0.8680\n",
      "16/16 - 0s - loss: 0.8291 - accuracy: 0.8760\n",
      "16/16 - 0s - loss: 0.6654 - accuracy: 0.8760\n",
      "16/16 - 0s - loss: 0.7638 - accuracy: 0.8820\n",
      "16/16 - 0s - loss: 0.6398 - accuracy: 0.8740\n",
      "------------    29  번째 global epoch < Clustering > 로컬 클라이언트 학습 완료!,  Total Training time :  456.08107566833496 ---------------------------\n",
      "\n",
      "\n",
      "Layer :  0   클러스터 갯수 정해짐!  갯수 :  2 0\n"
     ]
    },
    {
     "name": "stderr",
     "output_type": "stream",
     "text": [
      "<ipython-input-10-91a1af1a5106>:147: VisibleDeprecationWarning: Creating an ndarray from ragged nested sequences (which is a list-or-tuple of lists-or-tuples-or ndarrays with different lengths or shapes) is deprecated. If you meant to do this, you must specify 'dtype=object' when creating the ndarray\n",
      "  globals()['G{}_c{}_w_layer{}'.format(global_epoch, num_c_w, layer_index)] = globals()['G{}_c{}_w_layer{}'.format(global_epoch, num_c_w, layer_index)] + np.array(globals()['L{}_layer{}_w_c'.format(i,layer_index)])   # 일반 클러스터링\n"
     ]
    },
    {
     "name": "stdout",
     "output_type": "stream",
     "text": [
      "Layer :  2   클러스터 갯수 정해짐!  갯수 :  2 0\n"
     ]
    },
    {
     "name": "stderr",
     "output_type": "stream",
     "text": [
      "<ipython-input-10-91a1af1a5106>:147: VisibleDeprecationWarning: Creating an ndarray from ragged nested sequences (which is a list-or-tuple of lists-or-tuples-or ndarrays with different lengths or shapes) is deprecated. If you meant to do this, you must specify 'dtype=object' when creating the ndarray\n",
      "  globals()['G{}_c{}_w_layer{}'.format(global_epoch, num_c_w, layer_index)] = globals()['G{}_c{}_w_layer{}'.format(global_epoch, num_c_w, layer_index)] + np.array(globals()['L{}_layer{}_w_c'.format(i,layer_index)])   # 일반 클러스터링\n"
     ]
    },
    {
     "name": "stdout",
     "output_type": "stream",
     "text": [
      "Layer :  4   클러스터 갯수 정해짐!  갯수 :  2 0\n"
     ]
    },
    {
     "name": "stderr",
     "output_type": "stream",
     "text": [
      "<ipython-input-10-91a1af1a5106>:147: VisibleDeprecationWarning: Creating an ndarray from ragged nested sequences (which is a list-or-tuple of lists-or-tuples-or ndarrays with different lengths or shapes) is deprecated. If you meant to do this, you must specify 'dtype=object' when creating the ndarray\n",
      "  globals()['G{}_c{}_w_layer{}'.format(global_epoch, num_c_w, layer_index)] = globals()['G{}_c{}_w_layer{}'.format(global_epoch, num_c_w, layer_index)] + np.array(globals()['L{}_layer{}_w_c'.format(i,layer_index)])   # 일반 클러스터링\n"
     ]
    },
    {
     "name": "stdout",
     "output_type": "stream",
     "text": [
      "Layer :  6   클러스터 갯수 정해짐!  갯수 :  2 0\n"
     ]
    },
    {
     "name": "stderr",
     "output_type": "stream",
     "text": [
      "<ipython-input-10-91a1af1a5106>:147: VisibleDeprecationWarning: Creating an ndarray from ragged nested sequences (which is a list-or-tuple of lists-or-tuples-or ndarrays with different lengths or shapes) is deprecated. If you meant to do this, you must specify 'dtype=object' when creating the ndarray\n",
      "  globals()['G{}_c{}_w_layer{}'.format(global_epoch, num_c_w, layer_index)] = globals()['G{}_c{}_w_layer{}'.format(global_epoch, num_c_w, layer_index)] + np.array(globals()['L{}_layer{}_w_c'.format(i,layer_index)])   # 일반 클러스터링\n"
     ]
    },
    {
     "name": "stdout",
     "output_type": "stream",
     "text": [
      "Layer :  7   클러스터 갯수 정해짐!  갯수 :  6 4\n",
      "\n",
      "\n",
      "====================================================== One Global Epoch =====================================================================\n",
      "\n",
      "\n",
      "30  번째 global_epoch 데이터 랜덤하게 준비!!\n"
     ]
    },
    {
     "name": "stderr",
     "output_type": "stream",
     "text": [
      "<ipython-input-10-91a1af1a5106>:147: VisibleDeprecationWarning: Creating an ndarray from ragged nested sequences (which is a list-or-tuple of lists-or-tuples-or ndarrays with different lengths or shapes) is deprecated. If you meant to do this, you must specify 'dtype=object' when creating the ndarray\n",
      "  globals()['G{}_c{}_w_layer{}'.format(global_epoch, num_c_w, layer_index)] = globals()['G{}_c{}_w_layer{}'.format(global_epoch, num_c_w, layer_index)] + np.array(globals()['L{}_layer{}_w_c'.format(i,layer_index)])   # 일반 클러스터링\n"
     ]
    },
    {
     "name": "stdout",
     "output_type": "stream",
     "text": [
      "30  번째 global_epoch 데이터 랜덤 준비완료!!\n",
      "\n",
      "\n",
      "30  번째 global epoch에서 로컬 클라이언트 들 학습시작!\n",
      "\n",
      "학습 중 ...\n",
      "\n",
      "16/16 - 0s - loss: 0.7534 - accuracy: 0.8740\n",
      "16/16 - 0s - loss: 0.5182 - accuracy: 0.8960\n",
      "16/16 - 0s - loss: 0.6851 - accuracy: 0.8680\n",
      "16/16 - 0s - loss: 0.4342 - accuracy: 0.8920\n",
      "16/16 - 0s - loss: 0.5594 - accuracy: 0.9020\n",
      "16/16 - 0s - loss: 0.6977 - accuracy: 0.8760\n",
      "16/16 - 0s - loss: 0.6320 - accuracy: 0.8800\n",
      "16/16 - 0s - loss: 0.6895 - accuracy: 0.8820\n",
      "16/16 - 0s - loss: 0.6491 - accuracy: 0.8620\n",
      "16/16 - 0s - loss: 0.7564 - accuracy: 0.8720\n",
      "16/16 - 0s - loss: 0.6095 - accuracy: 0.8760\n",
      "16/16 - 0s - loss: 0.5979 - accuracy: 0.8980\n",
      "16/16 - 0s - loss: 0.5113 - accuracy: 0.9040\n",
      "16/16 - 0s - loss: 0.6400 - accuracy: 0.8900\n",
      "16/16 - 0s - loss: 0.5477 - accuracy: 0.8780\n",
      "16/16 - 0s - loss: 0.4966 - accuracy: 0.8940\n",
      "16/16 - 0s - loss: 0.4806 - accuracy: 0.8900\n",
      "16/16 - 0s - loss: 0.5597 - accuracy: 0.8920\n",
      "16/16 - 0s - loss: 0.8995 - accuracy: 0.8540\n",
      "16/16 - 0s - loss: 0.6914 - accuracy: 0.8940\n",
      "------------    30  번째 global epoch < Clustering > 로컬 클라이언트 학습 완료!,  Total Training time :  477.8458535671234 ---------------------------\n",
      "\n",
      "\n",
      "Layer :  0   클러스터 갯수 정해짐!  갯수 :  2 0\n"
     ]
    },
    {
     "name": "stderr",
     "output_type": "stream",
     "text": [
      "<ipython-input-10-91a1af1a5106>:147: VisibleDeprecationWarning: Creating an ndarray from ragged nested sequences (which is a list-or-tuple of lists-or-tuples-or ndarrays with different lengths or shapes) is deprecated. If you meant to do this, you must specify 'dtype=object' when creating the ndarray\n",
      "  globals()['G{}_c{}_w_layer{}'.format(global_epoch, num_c_w, layer_index)] = globals()['G{}_c{}_w_layer{}'.format(global_epoch, num_c_w, layer_index)] + np.array(globals()['L{}_layer{}_w_c'.format(i,layer_index)])   # 일반 클러스터링\n"
     ]
    },
    {
     "name": "stdout",
     "output_type": "stream",
     "text": [
      "Layer :  2   클러스터 갯수 정해짐!  갯수 :  2 0\n"
     ]
    },
    {
     "name": "stderr",
     "output_type": "stream",
     "text": [
      "<ipython-input-10-91a1af1a5106>:147: VisibleDeprecationWarning: Creating an ndarray from ragged nested sequences (which is a list-or-tuple of lists-or-tuples-or ndarrays with different lengths or shapes) is deprecated. If you meant to do this, you must specify 'dtype=object' when creating the ndarray\n",
      "  globals()['G{}_c{}_w_layer{}'.format(global_epoch, num_c_w, layer_index)] = globals()['G{}_c{}_w_layer{}'.format(global_epoch, num_c_w, layer_index)] + np.array(globals()['L{}_layer{}_w_c'.format(i,layer_index)])   # 일반 클러스터링\n"
     ]
    },
    {
     "name": "stdout",
     "output_type": "stream",
     "text": [
      "Layer :  4   클러스터 갯수 정해짐!  갯수 :  2 0\n"
     ]
    },
    {
     "name": "stderr",
     "output_type": "stream",
     "text": [
      "<ipython-input-10-91a1af1a5106>:147: VisibleDeprecationWarning: Creating an ndarray from ragged nested sequences (which is a list-or-tuple of lists-or-tuples-or ndarrays with different lengths or shapes) is deprecated. If you meant to do this, you must specify 'dtype=object' when creating the ndarray\n",
      "  globals()['G{}_c{}_w_layer{}'.format(global_epoch, num_c_w, layer_index)] = globals()['G{}_c{}_w_layer{}'.format(global_epoch, num_c_w, layer_index)] + np.array(globals()['L{}_layer{}_w_c'.format(i,layer_index)])   # 일반 클러스터링\n"
     ]
    },
    {
     "name": "stdout",
     "output_type": "stream",
     "text": [
      "Layer :  6   클러스터 갯수 정해짐!  갯수 :  2 0\n"
     ]
    },
    {
     "name": "stderr",
     "output_type": "stream",
     "text": [
      "<ipython-input-10-91a1af1a5106>:147: VisibleDeprecationWarning: Creating an ndarray from ragged nested sequences (which is a list-or-tuple of lists-or-tuples-or ndarrays with different lengths or shapes) is deprecated. If you meant to do this, you must specify 'dtype=object' when creating the ndarray\n",
      "  globals()['G{}_c{}_w_layer{}'.format(global_epoch, num_c_w, layer_index)] = globals()['G{}_c{}_w_layer{}'.format(global_epoch, num_c_w, layer_index)] + np.array(globals()['L{}_layer{}_w_c'.format(i,layer_index)])   # 일반 클러스터링\n"
     ]
    },
    {
     "name": "stdout",
     "output_type": "stream",
     "text": [
      "Layer :  7   클러스터 갯수 정해짐!  갯수 :  6 4\n",
      "\n",
      "\n",
      "====================================================== One Global Epoch =====================================================================\n",
      "\n",
      "\n",
      "31  번째 global_epoch 데이터 랜덤하게 준비!!\n"
     ]
    },
    {
     "name": "stderr",
     "output_type": "stream",
     "text": [
      "<ipython-input-10-91a1af1a5106>:147: VisibleDeprecationWarning: Creating an ndarray from ragged nested sequences (which is a list-or-tuple of lists-or-tuples-or ndarrays with different lengths or shapes) is deprecated. If you meant to do this, you must specify 'dtype=object' when creating the ndarray\n",
      "  globals()['G{}_c{}_w_layer{}'.format(global_epoch, num_c_w, layer_index)] = globals()['G{}_c{}_w_layer{}'.format(global_epoch, num_c_w, layer_index)] + np.array(globals()['L{}_layer{}_w_c'.format(i,layer_index)])   # 일반 클러스터링\n"
     ]
    },
    {
     "name": "stdout",
     "output_type": "stream",
     "text": [
      "31  번째 global_epoch 데이터 랜덤 준비완료!!\n",
      "\n",
      "\n",
      "31  번째 global epoch에서 로컬 클라이언트 들 학습시작!\n",
      "\n",
      "학습 중 ...\n",
      "\n",
      "16/16 - 0s - loss: 0.5497 - accuracy: 0.9040\n",
      "16/16 - 0s - loss: 0.6783 - accuracy: 0.8440\n",
      "16/16 - 0s - loss: 0.6278 - accuracy: 0.8840\n",
      "16/16 - 0s - loss: 0.5404 - accuracy: 0.9000\n",
      "16/16 - 0s - loss: 0.6783 - accuracy: 0.8540\n",
      "16/16 - 0s - loss: 0.5917 - accuracy: 0.9040\n",
      "16/16 - 0s - loss: 0.5887 - accuracy: 0.8860\n",
      "16/16 - 0s - loss: 0.6567 - accuracy: 0.8520\n",
      "16/16 - 0s - loss: 0.5365 - accuracy: 0.8900\n",
      "16/16 - 0s - loss: 0.4830 - accuracy: 0.8880\n",
      "16/16 - 0s - loss: 0.8413 - accuracy: 0.8520\n",
      "16/16 - 0s - loss: 0.5864 - accuracy: 0.8740\n",
      "16/16 - 0s - loss: 0.6034 - accuracy: 0.8900\n",
      "16/16 - 0s - loss: 0.4874 - accuracy: 0.9120\n",
      "16/16 - 0s - loss: 0.7196 - accuracy: 0.8540\n",
      "16/16 - 0s - loss: 0.6758 - accuracy: 0.8820\n",
      "16/16 - 0s - loss: 0.6812 - accuracy: 0.8640\n",
      "16/16 - 0s - loss: 0.6257 - accuracy: 0.8920\n",
      "16/16 - 0s - loss: 0.5787 - accuracy: 0.8780\n",
      "16/16 - 0s - loss: 0.5377 - accuracy: 0.9080\n",
      "------------    31  번째 global epoch < Clustering > 로컬 클라이언트 학습 완료!,  Total Training time :  521.197845697403 ---------------------------\n",
      "\n",
      "\n",
      "Layer :  0   클러스터 갯수 정해짐!  갯수 :  2 0\n"
     ]
    },
    {
     "name": "stderr",
     "output_type": "stream",
     "text": [
      "<ipython-input-10-91a1af1a5106>:147: VisibleDeprecationWarning: Creating an ndarray from ragged nested sequences (which is a list-or-tuple of lists-or-tuples-or ndarrays with different lengths or shapes) is deprecated. If you meant to do this, you must specify 'dtype=object' when creating the ndarray\n",
      "  globals()['G{}_c{}_w_layer{}'.format(global_epoch, num_c_w, layer_index)] = globals()['G{}_c{}_w_layer{}'.format(global_epoch, num_c_w, layer_index)] + np.array(globals()['L{}_layer{}_w_c'.format(i,layer_index)])   # 일반 클러스터링\n"
     ]
    },
    {
     "name": "stdout",
     "output_type": "stream",
     "text": [
      "Layer :  2   클러스터 갯수 정해짐!  갯수 :  2 0\n"
     ]
    },
    {
     "name": "stderr",
     "output_type": "stream",
     "text": [
      "<ipython-input-10-91a1af1a5106>:147: VisibleDeprecationWarning: Creating an ndarray from ragged nested sequences (which is a list-or-tuple of lists-or-tuples-or ndarrays with different lengths or shapes) is deprecated. If you meant to do this, you must specify 'dtype=object' when creating the ndarray\n",
      "  globals()['G{}_c{}_w_layer{}'.format(global_epoch, num_c_w, layer_index)] = globals()['G{}_c{}_w_layer{}'.format(global_epoch, num_c_w, layer_index)] + np.array(globals()['L{}_layer{}_w_c'.format(i,layer_index)])   # 일반 클러스터링\n"
     ]
    },
    {
     "name": "stdout",
     "output_type": "stream",
     "text": [
      "Layer :  4   클러스터 갯수 정해짐!  갯수 :  2 0\n"
     ]
    },
    {
     "name": "stderr",
     "output_type": "stream",
     "text": [
      "<ipython-input-10-91a1af1a5106>:147: VisibleDeprecationWarning: Creating an ndarray from ragged nested sequences (which is a list-or-tuple of lists-or-tuples-or ndarrays with different lengths or shapes) is deprecated. If you meant to do this, you must specify 'dtype=object' when creating the ndarray\n",
      "  globals()['G{}_c{}_w_layer{}'.format(global_epoch, num_c_w, layer_index)] = globals()['G{}_c{}_w_layer{}'.format(global_epoch, num_c_w, layer_index)] + np.array(globals()['L{}_layer{}_w_c'.format(i,layer_index)])   # 일반 클러스터링\n"
     ]
    },
    {
     "name": "stdout",
     "output_type": "stream",
     "text": [
      "Layer :  6   클러스터 갯수 정해짐!  갯수 :  2 0\n"
     ]
    },
    {
     "name": "stderr",
     "output_type": "stream",
     "text": [
      "<ipython-input-10-91a1af1a5106>:147: VisibleDeprecationWarning: Creating an ndarray from ragged nested sequences (which is a list-or-tuple of lists-or-tuples-or ndarrays with different lengths or shapes) is deprecated. If you meant to do this, you must specify 'dtype=object' when creating the ndarray\n",
      "  globals()['G{}_c{}_w_layer{}'.format(global_epoch, num_c_w, layer_index)] = globals()['G{}_c{}_w_layer{}'.format(global_epoch, num_c_w, layer_index)] + np.array(globals()['L{}_layer{}_w_c'.format(i,layer_index)])   # 일반 클러스터링\n"
     ]
    },
    {
     "name": "stdout",
     "output_type": "stream",
     "text": [
      "Layer :  7   클러스터 갯수 정해짐!  갯수 :  6 4\n",
      "\n",
      "\n",
      "====================================================== One Global Epoch =====================================================================\n",
      "\n",
      "\n",
      "32  번째 global_epoch 데이터 랜덤하게 준비!!\n"
     ]
    },
    {
     "name": "stderr",
     "output_type": "stream",
     "text": [
      "<ipython-input-10-91a1af1a5106>:147: VisibleDeprecationWarning: Creating an ndarray from ragged nested sequences (which is a list-or-tuple of lists-or-tuples-or ndarrays with different lengths or shapes) is deprecated. If you meant to do this, you must specify 'dtype=object' when creating the ndarray\n",
      "  globals()['G{}_c{}_w_layer{}'.format(global_epoch, num_c_w, layer_index)] = globals()['G{}_c{}_w_layer{}'.format(global_epoch, num_c_w, layer_index)] + np.array(globals()['L{}_layer{}_w_c'.format(i,layer_index)])   # 일반 클러스터링\n"
     ]
    },
    {
     "name": "stdout",
     "output_type": "stream",
     "text": [
      "32  번째 global_epoch 데이터 랜덤 준비완료!!\n",
      "\n",
      "\n",
      "32  번째 global epoch에서 로컬 클라이언트 들 학습시작!\n",
      "\n",
      "학습 중 ...\n",
      "\n",
      "16/16 - 0s - loss: 0.7423 - accuracy: 0.8560\n",
      "16/16 - 0s - loss: 0.4496 - accuracy: 0.9020\n",
      "16/16 - 0s - loss: 0.5648 - accuracy: 0.8940\n",
      "16/16 - 0s - loss: 0.6159 - accuracy: 0.8720\n",
      "16/16 - 0s - loss: 0.8720 - accuracy: 0.8580\n",
      "16/16 - 0s - loss: 0.6126 - accuracy: 0.8760\n",
      "16/16 - 0s - loss: 0.6086 - accuracy: 0.8980\n",
      "16/16 - 0s - loss: 0.5769 - accuracy: 0.8960\n",
      "16/16 - 0s - loss: 0.6699 - accuracy: 0.8780\n",
      "16/16 - 0s - loss: 0.6290 - accuracy: 0.8900\n",
      "16/16 - 0s - loss: 0.7056 - accuracy: 0.8620\n",
      "16/16 - 0s - loss: 0.5361 - accuracy: 0.8860\n",
      "16/16 - 0s - loss: 0.5562 - accuracy: 0.8840\n",
      "16/16 - 0s - loss: 0.4857 - accuracy: 0.9180\n",
      "16/16 - 0s - loss: 0.5502 - accuracy: 0.8920\n",
      "16/16 - 0s - loss: 0.5561 - accuracy: 0.8860\n",
      "16/16 - 0s - loss: 0.5999 - accuracy: 0.9020\n",
      "16/16 - 0s - loss: 0.6746 - accuracy: 0.8660\n",
      "16/16 - 0s - loss: 0.5823 - accuracy: 0.8580\n",
      "16/16 - 0s - loss: 0.6806 - accuracy: 0.8860\n",
      "------------    32  번째 global epoch < Clustering > 로컬 클라이언트 학습 완료!,  Total Training time :  538.7949194908142 ---------------------------\n",
      "\n",
      "\n",
      "Layer :  0   클러스터 갯수 정해짐!  갯수 :  2 0\n"
     ]
    },
    {
     "name": "stderr",
     "output_type": "stream",
     "text": [
      "<ipython-input-10-91a1af1a5106>:147: VisibleDeprecationWarning: Creating an ndarray from ragged nested sequences (which is a list-or-tuple of lists-or-tuples-or ndarrays with different lengths or shapes) is deprecated. If you meant to do this, you must specify 'dtype=object' when creating the ndarray\n",
      "  globals()['G{}_c{}_w_layer{}'.format(global_epoch, num_c_w, layer_index)] = globals()['G{}_c{}_w_layer{}'.format(global_epoch, num_c_w, layer_index)] + np.array(globals()['L{}_layer{}_w_c'.format(i,layer_index)])   # 일반 클러스터링\n"
     ]
    },
    {
     "name": "stdout",
     "output_type": "stream",
     "text": [
      "Layer :  2   클러스터 갯수 정해짐!  갯수 :  2 0\n"
     ]
    },
    {
     "name": "stderr",
     "output_type": "stream",
     "text": [
      "<ipython-input-10-91a1af1a5106>:147: VisibleDeprecationWarning: Creating an ndarray from ragged nested sequences (which is a list-or-tuple of lists-or-tuples-or ndarrays with different lengths or shapes) is deprecated. If you meant to do this, you must specify 'dtype=object' when creating the ndarray\n",
      "  globals()['G{}_c{}_w_layer{}'.format(global_epoch, num_c_w, layer_index)] = globals()['G{}_c{}_w_layer{}'.format(global_epoch, num_c_w, layer_index)] + np.array(globals()['L{}_layer{}_w_c'.format(i,layer_index)])   # 일반 클러스터링\n"
     ]
    },
    {
     "name": "stdout",
     "output_type": "stream",
     "text": [
      "Layer :  4   클러스터 갯수 정해짐!  갯수 :  2 0\n"
     ]
    },
    {
     "name": "stderr",
     "output_type": "stream",
     "text": [
      "<ipython-input-10-91a1af1a5106>:147: VisibleDeprecationWarning: Creating an ndarray from ragged nested sequences (which is a list-or-tuple of lists-or-tuples-or ndarrays with different lengths or shapes) is deprecated. If you meant to do this, you must specify 'dtype=object' when creating the ndarray\n",
      "  globals()['G{}_c{}_w_layer{}'.format(global_epoch, num_c_w, layer_index)] = globals()['G{}_c{}_w_layer{}'.format(global_epoch, num_c_w, layer_index)] + np.array(globals()['L{}_layer{}_w_c'.format(i,layer_index)])   # 일반 클러스터링\n"
     ]
    },
    {
     "name": "stdout",
     "output_type": "stream",
     "text": [
      "Layer :  6   클러스터 갯수 정해짐!  갯수 :  2 0\n"
     ]
    },
    {
     "name": "stderr",
     "output_type": "stream",
     "text": [
      "<ipython-input-10-91a1af1a5106>:147: VisibleDeprecationWarning: Creating an ndarray from ragged nested sequences (which is a list-or-tuple of lists-or-tuples-or ndarrays with different lengths or shapes) is deprecated. If you meant to do this, you must specify 'dtype=object' when creating the ndarray\n",
      "  globals()['G{}_c{}_w_layer{}'.format(global_epoch, num_c_w, layer_index)] = globals()['G{}_c{}_w_layer{}'.format(global_epoch, num_c_w, layer_index)] + np.array(globals()['L{}_layer{}_w_c'.format(i,layer_index)])   # 일반 클러스터링\n"
     ]
    },
    {
     "name": "stdout",
     "output_type": "stream",
     "text": [
      "Layer :  7   클러스터 갯수 정해짐!  갯수 :  6 4\n",
      "\n",
      "\n",
      "====================================================== One Global Epoch =====================================================================\n",
      "\n",
      "\n",
      "33  번째 global_epoch 데이터 랜덤하게 준비!!\n"
     ]
    },
    {
     "name": "stderr",
     "output_type": "stream",
     "text": [
      "<ipython-input-10-91a1af1a5106>:147: VisibleDeprecationWarning: Creating an ndarray from ragged nested sequences (which is a list-or-tuple of lists-or-tuples-or ndarrays with different lengths or shapes) is deprecated. If you meant to do this, you must specify 'dtype=object' when creating the ndarray\n",
      "  globals()['G{}_c{}_w_layer{}'.format(global_epoch, num_c_w, layer_index)] = globals()['G{}_c{}_w_layer{}'.format(global_epoch, num_c_w, layer_index)] + np.array(globals()['L{}_layer{}_w_c'.format(i,layer_index)])   # 일반 클러스터링\n"
     ]
    },
    {
     "name": "stdout",
     "output_type": "stream",
     "text": [
      "33  번째 global_epoch 데이터 랜덤 준비완료!!\n",
      "\n",
      "\n",
      "33  번째 global epoch에서 로컬 클라이언트 들 학습시작!\n",
      "\n",
      "학습 중 ...\n",
      "\n",
      "16/16 - 0s - loss: 0.4807 - accuracy: 0.9080\n",
      "16/16 - 0s - loss: 0.6513 - accuracy: 0.8620\n",
      "16/16 - 0s - loss: 0.4750 - accuracy: 0.9100\n",
      "16/16 - 0s - loss: 0.6233 - accuracy: 0.8680\n",
      "16/16 - 0s - loss: 0.6301 - accuracy: 0.8820\n",
      "16/16 - 0s - loss: 0.6765 - accuracy: 0.8840\n",
      "16/16 - 0s - loss: 0.4280 - accuracy: 0.9200\n",
      "16/16 - 0s - loss: 0.6745 - accuracy: 0.8680\n",
      "16/16 - 0s - loss: 0.8376 - accuracy: 0.8740\n",
      "16/16 - 0s - loss: 0.5629 - accuracy: 0.8840\n",
      "16/16 - 0s - loss: 0.6752 - accuracy: 0.8860\n",
      "16/16 - 0s - loss: 0.6317 - accuracy: 0.8880\n",
      "16/16 - 0s - loss: 0.5705 - accuracy: 0.9100\n",
      "16/16 - 0s - loss: 0.3921 - accuracy: 0.9280\n",
      "16/16 - 0s - loss: 0.7565 - accuracy: 0.8720\n",
      "16/16 - 0s - loss: 0.6693 - accuracy: 0.8620\n",
      "16/16 - 0s - loss: 0.5439 - accuracy: 0.9000\n",
      "16/16 - 0s - loss: 0.7539 - accuracy: 0.8820\n",
      "16/16 - 0s - loss: 0.4781 - accuracy: 0.8880\n",
      "16/16 - 0s - loss: 0.5162 - accuracy: 0.8960\n",
      "------------    33  번째 global epoch < Clustering > 로컬 클라이언트 학습 완료!,  Total Training time :  547.8827819824219 ---------------------------\n",
      "\n",
      "\n",
      "Layer :  0   클러스터 갯수 정해짐!  갯수 :  2 0\n"
     ]
    },
    {
     "name": "stderr",
     "output_type": "stream",
     "text": [
      "<ipython-input-10-91a1af1a5106>:147: VisibleDeprecationWarning: Creating an ndarray from ragged nested sequences (which is a list-or-tuple of lists-or-tuples-or ndarrays with different lengths or shapes) is deprecated. If you meant to do this, you must specify 'dtype=object' when creating the ndarray\n",
      "  globals()['G{}_c{}_w_layer{}'.format(global_epoch, num_c_w, layer_index)] = globals()['G{}_c{}_w_layer{}'.format(global_epoch, num_c_w, layer_index)] + np.array(globals()['L{}_layer{}_w_c'.format(i,layer_index)])   # 일반 클러스터링\n"
     ]
    },
    {
     "name": "stdout",
     "output_type": "stream",
     "text": [
      "Layer :  2   클러스터 갯수 정해짐!  갯수 :  2 0\n"
     ]
    },
    {
     "name": "stderr",
     "output_type": "stream",
     "text": [
      "<ipython-input-10-91a1af1a5106>:147: VisibleDeprecationWarning: Creating an ndarray from ragged nested sequences (which is a list-or-tuple of lists-or-tuples-or ndarrays with different lengths or shapes) is deprecated. If you meant to do this, you must specify 'dtype=object' when creating the ndarray\n",
      "  globals()['G{}_c{}_w_layer{}'.format(global_epoch, num_c_w, layer_index)] = globals()['G{}_c{}_w_layer{}'.format(global_epoch, num_c_w, layer_index)] + np.array(globals()['L{}_layer{}_w_c'.format(i,layer_index)])   # 일반 클러스터링\n"
     ]
    },
    {
     "name": "stdout",
     "output_type": "stream",
     "text": [
      "Layer :  4   클러스터 갯수 정해짐!  갯수 :  2 0\n"
     ]
    },
    {
     "name": "stderr",
     "output_type": "stream",
     "text": [
      "<ipython-input-10-91a1af1a5106>:147: VisibleDeprecationWarning: Creating an ndarray from ragged nested sequences (which is a list-or-tuple of lists-or-tuples-or ndarrays with different lengths or shapes) is deprecated. If you meant to do this, you must specify 'dtype=object' when creating the ndarray\n",
      "  globals()['G{}_c{}_w_layer{}'.format(global_epoch, num_c_w, layer_index)] = globals()['G{}_c{}_w_layer{}'.format(global_epoch, num_c_w, layer_index)] + np.array(globals()['L{}_layer{}_w_c'.format(i,layer_index)])   # 일반 클러스터링\n"
     ]
    },
    {
     "name": "stdout",
     "output_type": "stream",
     "text": [
      "Layer :  6   클러스터 갯수 정해짐!  갯수 :  2 0\n"
     ]
    },
    {
     "name": "stderr",
     "output_type": "stream",
     "text": [
      "<ipython-input-10-91a1af1a5106>:147: VisibleDeprecationWarning: Creating an ndarray from ragged nested sequences (which is a list-or-tuple of lists-or-tuples-or ndarrays with different lengths or shapes) is deprecated. If you meant to do this, you must specify 'dtype=object' when creating the ndarray\n",
      "  globals()['G{}_c{}_w_layer{}'.format(global_epoch, num_c_w, layer_index)] = globals()['G{}_c{}_w_layer{}'.format(global_epoch, num_c_w, layer_index)] + np.array(globals()['L{}_layer{}_w_c'.format(i,layer_index)])   # 일반 클러스터링\n"
     ]
    },
    {
     "name": "stdout",
     "output_type": "stream",
     "text": [
      "Layer :  7   클러스터 갯수 정해짐!  갯수 :  6 4\n",
      "\n",
      "\n",
      "====================================================== One Global Epoch =====================================================================\n",
      "\n",
      "\n",
      "34  번째 global_epoch 데이터 랜덤하게 준비!!\n"
     ]
    },
    {
     "name": "stderr",
     "output_type": "stream",
     "text": [
      "<ipython-input-10-91a1af1a5106>:147: VisibleDeprecationWarning: Creating an ndarray from ragged nested sequences (which is a list-or-tuple of lists-or-tuples-or ndarrays with different lengths or shapes) is deprecated. If you meant to do this, you must specify 'dtype=object' when creating the ndarray\n",
      "  globals()['G{}_c{}_w_layer{}'.format(global_epoch, num_c_w, layer_index)] = globals()['G{}_c{}_w_layer{}'.format(global_epoch, num_c_w, layer_index)] + np.array(globals()['L{}_layer{}_w_c'.format(i,layer_index)])   # 일반 클러스터링\n"
     ]
    },
    {
     "name": "stdout",
     "output_type": "stream",
     "text": [
      "34  번째 global_epoch 데이터 랜덤 준비완료!!\n",
      "\n",
      "\n",
      "34  번째 global epoch에서 로컬 클라이언트 들 학습시작!\n",
      "\n",
      "학습 중 ...\n",
      "\n",
      "16/16 - 0s - loss: 0.5674 - accuracy: 0.8880\n",
      "16/16 - 0s - loss: 0.5811 - accuracy: 0.9020\n",
      "16/16 - 0s - loss: 0.5473 - accuracy: 0.8660\n",
      "16/16 - 0s - loss: 0.7495 - accuracy: 0.8820\n",
      "16/16 - 0s - loss: 0.5425 - accuracy: 0.9040\n",
      "16/16 - 0s - loss: 0.7743 - accuracy: 0.8640\n",
      "16/16 - 0s - loss: 0.5792 - accuracy: 0.8680\n",
      "16/16 - 0s - loss: 0.6114 - accuracy: 0.8660\n",
      "16/16 - 0s - loss: 0.6089 - accuracy: 0.8840\n",
      "16/16 - 0s - loss: 0.6126 - accuracy: 0.8800\n",
      "16/16 - 0s - loss: 0.5701 - accuracy: 0.8820\n",
      "16/16 - 0s - loss: 0.7092 - accuracy: 0.8880\n",
      "16/16 - 0s - loss: 0.7494 - accuracy: 0.8680\n",
      "16/16 - 0s - loss: 0.5508 - accuracy: 0.8880\n",
      "16/16 - 0s - loss: 0.5726 - accuracy: 0.8820\n",
      "16/16 - 0s - loss: 0.6985 - accuracy: 0.8540\n",
      "16/16 - 0s - loss: 0.4203 - accuracy: 0.9040\n",
      "16/16 - 0s - loss: 0.6345 - accuracy: 0.8760\n",
      "16/16 - 0s - loss: 0.7477 - accuracy: 0.8840\n",
      "16/16 - 0s - loss: 0.6285 - accuracy: 0.8760\n",
      "------------    34  번째 global epoch < Clustering > 로컬 클라이언트 학습 완료!,  Total Training time :  550.0247077941895 ---------------------------\n",
      "\n",
      "\n",
      "Layer :  0   클러스터 갯수 정해짐!  갯수 :  2 0\n"
     ]
    },
    {
     "name": "stderr",
     "output_type": "stream",
     "text": [
      "<ipython-input-10-91a1af1a5106>:147: VisibleDeprecationWarning: Creating an ndarray from ragged nested sequences (which is a list-or-tuple of lists-or-tuples-or ndarrays with different lengths or shapes) is deprecated. If you meant to do this, you must specify 'dtype=object' when creating the ndarray\n",
      "  globals()['G{}_c{}_w_layer{}'.format(global_epoch, num_c_w, layer_index)] = globals()['G{}_c{}_w_layer{}'.format(global_epoch, num_c_w, layer_index)] + np.array(globals()['L{}_layer{}_w_c'.format(i,layer_index)])   # 일반 클러스터링\n"
     ]
    },
    {
     "name": "stdout",
     "output_type": "stream",
     "text": [
      "Layer :  2   클러스터 갯수 정해짐!  갯수 :  6 4\n"
     ]
    },
    {
     "name": "stderr",
     "output_type": "stream",
     "text": [
      "<ipython-input-10-91a1af1a5106>:147: VisibleDeprecationWarning: Creating an ndarray from ragged nested sequences (which is a list-or-tuple of lists-or-tuples-or ndarrays with different lengths or shapes) is deprecated. If you meant to do this, you must specify 'dtype=object' when creating the ndarray\n",
      "  globals()['G{}_c{}_w_layer{}'.format(global_epoch, num_c_w, layer_index)] = globals()['G{}_c{}_w_layer{}'.format(global_epoch, num_c_w, layer_index)] + np.array(globals()['L{}_layer{}_w_c'.format(i,layer_index)])   # 일반 클러스터링\n"
     ]
    },
    {
     "name": "stdout",
     "output_type": "stream",
     "text": [
      "Layer :  4   클러스터 갯수 정해짐!  갯수 :  2 0\n"
     ]
    },
    {
     "name": "stderr",
     "output_type": "stream",
     "text": [
      "<ipython-input-10-91a1af1a5106>:147: VisibleDeprecationWarning: Creating an ndarray from ragged nested sequences (which is a list-or-tuple of lists-or-tuples-or ndarrays with different lengths or shapes) is deprecated. If you meant to do this, you must specify 'dtype=object' when creating the ndarray\n",
      "  globals()['G{}_c{}_w_layer{}'.format(global_epoch, num_c_w, layer_index)] = globals()['G{}_c{}_w_layer{}'.format(global_epoch, num_c_w, layer_index)] + np.array(globals()['L{}_layer{}_w_c'.format(i,layer_index)])   # 일반 클러스터링\n"
     ]
    },
    {
     "name": "stdout",
     "output_type": "stream",
     "text": [
      "Layer :  6   클러스터 갯수 정해짐!  갯수 :  2 0\n"
     ]
    },
    {
     "name": "stderr",
     "output_type": "stream",
     "text": [
      "<ipython-input-10-91a1af1a5106>:147: VisibleDeprecationWarning: Creating an ndarray from ragged nested sequences (which is a list-or-tuple of lists-or-tuples-or ndarrays with different lengths or shapes) is deprecated. If you meant to do this, you must specify 'dtype=object' when creating the ndarray\n",
      "  globals()['G{}_c{}_w_layer{}'.format(global_epoch, num_c_w, layer_index)] = globals()['G{}_c{}_w_layer{}'.format(global_epoch, num_c_w, layer_index)] + np.array(globals()['L{}_layer{}_w_c'.format(i,layer_index)])   # 일반 클러스터링\n"
     ]
    },
    {
     "name": "stdout",
     "output_type": "stream",
     "text": [
      "Layer :  7   클러스터 갯수 정해짐!  갯수 :  6 4\n",
      "\n",
      "\n",
      "====================================================== One Global Epoch =====================================================================\n",
      "\n",
      "\n",
      "35  번째 global_epoch 데이터 랜덤하게 준비!!\n"
     ]
    },
    {
     "name": "stderr",
     "output_type": "stream",
     "text": [
      "<ipython-input-10-91a1af1a5106>:147: VisibleDeprecationWarning: Creating an ndarray from ragged nested sequences (which is a list-or-tuple of lists-or-tuples-or ndarrays with different lengths or shapes) is deprecated. If you meant to do this, you must specify 'dtype=object' when creating the ndarray\n",
      "  globals()['G{}_c{}_w_layer{}'.format(global_epoch, num_c_w, layer_index)] = globals()['G{}_c{}_w_layer{}'.format(global_epoch, num_c_w, layer_index)] + np.array(globals()['L{}_layer{}_w_c'.format(i,layer_index)])   # 일반 클러스터링\n"
     ]
    },
    {
     "name": "stdout",
     "output_type": "stream",
     "text": [
      "35  번째 global_epoch 데이터 랜덤 준비완료!!\n",
      "\n",
      "\n",
      "35  번째 global epoch에서 로컬 클라이언트 들 학습시작!\n",
      "\n",
      "학습 중 ...\n",
      "\n",
      "16/16 - 0s - loss: 0.4304 - accuracy: 0.9220\n",
      "16/16 - 0s - loss: 0.5448 - accuracy: 0.9000\n",
      "16/16 - 0s - loss: 0.7034 - accuracy: 0.9020\n",
      "16/16 - 0s - loss: 0.4518 - accuracy: 0.9040\n",
      "16/16 - 0s - loss: 0.5122 - accuracy: 0.9040\n",
      "16/16 - 0s - loss: 0.8063 - accuracy: 0.8540\n",
      "16/16 - 0s - loss: 0.5983 - accuracy: 0.8920\n",
      "16/16 - 0s - loss: 0.6649 - accuracy: 0.8920\n",
      "16/16 - 0s - loss: 0.7039 - accuracy: 0.8920\n",
      "16/16 - 0s - loss: 0.6522 - accuracy: 0.8980\n",
      "16/16 - 0s - loss: 0.6726 - accuracy: 0.8680\n",
      "16/16 - 0s - loss: 0.6569 - accuracy: 0.8600\n",
      "16/16 - 0s - loss: 0.4877 - accuracy: 0.9080\n",
      "16/16 - 0s - loss: 0.5230 - accuracy: 0.9080\n",
      "16/16 - 0s - loss: 0.6971 - accuracy: 0.8760\n",
      "16/16 - 0s - loss: 0.6399 - accuracy: 0.8760\n",
      "16/16 - 0s - loss: 0.4927 - accuracy: 0.8920\n",
      "16/16 - 0s - loss: 0.7091 - accuracy: 0.8760\n",
      "16/16 - 0s - loss: 0.5629 - accuracy: 0.8920\n",
      "16/16 - 0s - loss: 0.5803 - accuracy: 0.8900\n",
      "------------    35  번째 global epoch < Clustering > 로컬 클라이언트 학습 완료!,  Total Training time :  555.1144616603851 ---------------------------\n",
      "\n",
      "\n",
      "Layer :  0   클러스터 갯수 정해짐!  갯수 :  2 0\n"
     ]
    },
    {
     "name": "stderr",
     "output_type": "stream",
     "text": [
      "<ipython-input-10-91a1af1a5106>:147: VisibleDeprecationWarning: Creating an ndarray from ragged nested sequences (which is a list-or-tuple of lists-or-tuples-or ndarrays with different lengths or shapes) is deprecated. If you meant to do this, you must specify 'dtype=object' when creating the ndarray\n",
      "  globals()['G{}_c{}_w_layer{}'.format(global_epoch, num_c_w, layer_index)] = globals()['G{}_c{}_w_layer{}'.format(global_epoch, num_c_w, layer_index)] + np.array(globals()['L{}_layer{}_w_c'.format(i,layer_index)])   # 일반 클러스터링\n"
     ]
    },
    {
     "name": "stdout",
     "output_type": "stream",
     "text": [
      "Layer :  2   클러스터 갯수 정해짐!  갯수 :  2 0\n"
     ]
    },
    {
     "name": "stderr",
     "output_type": "stream",
     "text": [
      "<ipython-input-10-91a1af1a5106>:147: VisibleDeprecationWarning: Creating an ndarray from ragged nested sequences (which is a list-or-tuple of lists-or-tuples-or ndarrays with different lengths or shapes) is deprecated. If you meant to do this, you must specify 'dtype=object' when creating the ndarray\n",
      "  globals()['G{}_c{}_w_layer{}'.format(global_epoch, num_c_w, layer_index)] = globals()['G{}_c{}_w_layer{}'.format(global_epoch, num_c_w, layer_index)] + np.array(globals()['L{}_layer{}_w_c'.format(i,layer_index)])   # 일반 클러스터링\n"
     ]
    },
    {
     "name": "stdout",
     "output_type": "stream",
     "text": [
      "Layer :  4   클러스터 갯수 정해짐!  갯수 :  2 0\n"
     ]
    },
    {
     "name": "stderr",
     "output_type": "stream",
     "text": [
      "<ipython-input-10-91a1af1a5106>:147: VisibleDeprecationWarning: Creating an ndarray from ragged nested sequences (which is a list-or-tuple of lists-or-tuples-or ndarrays with different lengths or shapes) is deprecated. If you meant to do this, you must specify 'dtype=object' when creating the ndarray\n",
      "  globals()['G{}_c{}_w_layer{}'.format(global_epoch, num_c_w, layer_index)] = globals()['G{}_c{}_w_layer{}'.format(global_epoch, num_c_w, layer_index)] + np.array(globals()['L{}_layer{}_w_c'.format(i,layer_index)])   # 일반 클러스터링\n"
     ]
    },
    {
     "name": "stdout",
     "output_type": "stream",
     "text": [
      "Layer :  6   클러스터 갯수 정해짐!  갯수 :  2 0\n"
     ]
    },
    {
     "name": "stderr",
     "output_type": "stream",
     "text": [
      "<ipython-input-10-91a1af1a5106>:147: VisibleDeprecationWarning: Creating an ndarray from ragged nested sequences (which is a list-or-tuple of lists-or-tuples-or ndarrays with different lengths or shapes) is deprecated. If you meant to do this, you must specify 'dtype=object' when creating the ndarray\n",
      "  globals()['G{}_c{}_w_layer{}'.format(global_epoch, num_c_w, layer_index)] = globals()['G{}_c{}_w_layer{}'.format(global_epoch, num_c_w, layer_index)] + np.array(globals()['L{}_layer{}_w_c'.format(i,layer_index)])   # 일반 클러스터링\n"
     ]
    },
    {
     "name": "stdout",
     "output_type": "stream",
     "text": [
      "Layer :  7   클러스터 갯수 정해짐!  갯수 :  6 4\n",
      "\n",
      "\n",
      "====================================================== One Global Epoch =====================================================================\n",
      "\n",
      "\n",
      "36  번째 global_epoch 데이터 랜덤하게 준비!!\n"
     ]
    },
    {
     "name": "stderr",
     "output_type": "stream",
     "text": [
      "<ipython-input-10-91a1af1a5106>:147: VisibleDeprecationWarning: Creating an ndarray from ragged nested sequences (which is a list-or-tuple of lists-or-tuples-or ndarrays with different lengths or shapes) is deprecated. If you meant to do this, you must specify 'dtype=object' when creating the ndarray\n",
      "  globals()['G{}_c{}_w_layer{}'.format(global_epoch, num_c_w, layer_index)] = globals()['G{}_c{}_w_layer{}'.format(global_epoch, num_c_w, layer_index)] + np.array(globals()['L{}_layer{}_w_c'.format(i,layer_index)])   # 일반 클러스터링\n"
     ]
    },
    {
     "name": "stdout",
     "output_type": "stream",
     "text": [
      "36  번째 global_epoch 데이터 랜덤 준비완료!!\n",
      "\n",
      "\n",
      "36  번째 global epoch에서 로컬 클라이언트 들 학습시작!\n",
      "\n",
      "학습 중 ...\n",
      "\n",
      "16/16 - 0s - loss: 0.5618 - accuracy: 0.9060\n",
      "16/16 - 0s - loss: 0.6361 - accuracy: 0.9140\n",
      "16/16 - 0s - loss: 0.7846 - accuracy: 0.8640\n",
      "16/16 - 0s - loss: 0.5878 - accuracy: 0.8840\n",
      "16/16 - 0s - loss: 0.7310 - accuracy: 0.8660\n",
      "16/16 - 0s - loss: 0.6356 - accuracy: 0.8840\n",
      "16/16 - 0s - loss: 0.7042 - accuracy: 0.8740\n",
      "16/16 - 0s - loss: 0.8102 - accuracy: 0.8480\n",
      "16/16 - 0s - loss: 0.8773 - accuracy: 0.8520\n",
      "16/16 - 0s - loss: 0.6353 - accuracy: 0.8720\n",
      "16/16 - 0s - loss: 0.5592 - accuracy: 0.9020\n",
      "16/16 - 0s - loss: 0.4711 - accuracy: 0.9040\n",
      "16/16 - 0s - loss: 0.6621 - accuracy: 0.8740\n",
      "16/16 - 0s - loss: 0.7339 - accuracy: 0.8760\n",
      "16/16 - 0s - loss: 0.5531 - accuracy: 0.8920\n",
      "16/16 - 0s - loss: 0.5400 - accuracy: 0.8840\n",
      "16/16 - 0s - loss: 0.5774 - accuracy: 0.8900\n",
      "16/16 - 0s - loss: 0.5018 - accuracy: 0.8960\n",
      "16/16 - 0s - loss: 0.3804 - accuracy: 0.9280\n",
      "16/16 - 0s - loss: 0.5578 - accuracy: 0.9060\n",
      "------------    36  번째 global epoch < Clustering > 로컬 클라이언트 학습 완료!,  Total Training time :  548.4594867229462 ---------------------------\n",
      "\n",
      "\n",
      "Layer :  0   클러스터 갯수 정해짐!  갯수 :  2 0\n"
     ]
    },
    {
     "name": "stderr",
     "output_type": "stream",
     "text": [
      "<ipython-input-10-91a1af1a5106>:147: VisibleDeprecationWarning: Creating an ndarray from ragged nested sequences (which is a list-or-tuple of lists-or-tuples-or ndarrays with different lengths or shapes) is deprecated. If you meant to do this, you must specify 'dtype=object' when creating the ndarray\n",
      "  globals()['G{}_c{}_w_layer{}'.format(global_epoch, num_c_w, layer_index)] = globals()['G{}_c{}_w_layer{}'.format(global_epoch, num_c_w, layer_index)] + np.array(globals()['L{}_layer{}_w_c'.format(i,layer_index)])   # 일반 클러스터링\n"
     ]
    },
    {
     "name": "stdout",
     "output_type": "stream",
     "text": [
      "Layer :  2   클러스터 갯수 정해짐!  갯수 :  2 0\n"
     ]
    },
    {
     "name": "stderr",
     "output_type": "stream",
     "text": [
      "<ipython-input-10-91a1af1a5106>:147: VisibleDeprecationWarning: Creating an ndarray from ragged nested sequences (which is a list-or-tuple of lists-or-tuples-or ndarrays with different lengths or shapes) is deprecated. If you meant to do this, you must specify 'dtype=object' when creating the ndarray\n",
      "  globals()['G{}_c{}_w_layer{}'.format(global_epoch, num_c_w, layer_index)] = globals()['G{}_c{}_w_layer{}'.format(global_epoch, num_c_w, layer_index)] + np.array(globals()['L{}_layer{}_w_c'.format(i,layer_index)])   # 일반 클러스터링\n"
     ]
    },
    {
     "name": "stdout",
     "output_type": "stream",
     "text": [
      "Layer :  4   클러스터 갯수 정해짐!  갯수 :  2 0\n"
     ]
    },
    {
     "name": "stderr",
     "output_type": "stream",
     "text": [
      "<ipython-input-10-91a1af1a5106>:147: VisibleDeprecationWarning: Creating an ndarray from ragged nested sequences (which is a list-or-tuple of lists-or-tuples-or ndarrays with different lengths or shapes) is deprecated. If you meant to do this, you must specify 'dtype=object' when creating the ndarray\n",
      "  globals()['G{}_c{}_w_layer{}'.format(global_epoch, num_c_w, layer_index)] = globals()['G{}_c{}_w_layer{}'.format(global_epoch, num_c_w, layer_index)] + np.array(globals()['L{}_layer{}_w_c'.format(i,layer_index)])   # 일반 클러스터링\n"
     ]
    },
    {
     "name": "stdout",
     "output_type": "stream",
     "text": [
      "Layer :  6   클러스터 갯수 정해짐!  갯수 :  2 0\n"
     ]
    },
    {
     "name": "stderr",
     "output_type": "stream",
     "text": [
      "<ipython-input-10-91a1af1a5106>:147: VisibleDeprecationWarning: Creating an ndarray from ragged nested sequences (which is a list-or-tuple of lists-or-tuples-or ndarrays with different lengths or shapes) is deprecated. If you meant to do this, you must specify 'dtype=object' when creating the ndarray\n",
      "  globals()['G{}_c{}_w_layer{}'.format(global_epoch, num_c_w, layer_index)] = globals()['G{}_c{}_w_layer{}'.format(global_epoch, num_c_w, layer_index)] + np.array(globals()['L{}_layer{}_w_c'.format(i,layer_index)])   # 일반 클러스터링\n"
     ]
    },
    {
     "name": "stdout",
     "output_type": "stream",
     "text": [
      "Layer :  7   클러스터 갯수 정해짐!  갯수 :  6 4\n",
      "\n",
      "\n",
      "====================================================== One Global Epoch =====================================================================\n",
      "\n",
      "\n",
      "37  번째 global_epoch 데이터 랜덤하게 준비!!\n"
     ]
    },
    {
     "name": "stderr",
     "output_type": "stream",
     "text": [
      "<ipython-input-10-91a1af1a5106>:147: VisibleDeprecationWarning: Creating an ndarray from ragged nested sequences (which is a list-or-tuple of lists-or-tuples-or ndarrays with different lengths or shapes) is deprecated. If you meant to do this, you must specify 'dtype=object' when creating the ndarray\n",
      "  globals()['G{}_c{}_w_layer{}'.format(global_epoch, num_c_w, layer_index)] = globals()['G{}_c{}_w_layer{}'.format(global_epoch, num_c_w, layer_index)] + np.array(globals()['L{}_layer{}_w_c'.format(i,layer_index)])   # 일반 클러스터링\n"
     ]
    },
    {
     "name": "stdout",
     "output_type": "stream",
     "text": [
      "37  번째 global_epoch 데이터 랜덤 준비완료!!\n",
      "\n",
      "\n",
      "37  번째 global epoch에서 로컬 클라이언트 들 학습시작!\n",
      "\n",
      "학습 중 ...\n",
      "\n",
      "16/16 - 0s - loss: 0.7189 - accuracy: 0.8960\n",
      "16/16 - 0s - loss: 0.4954 - accuracy: 0.8780\n",
      "16/16 - 0s - loss: 0.6443 - accuracy: 0.8960\n",
      "16/16 - 0s - loss: 0.6282 - accuracy: 0.8840\n",
      "16/16 - 0s - loss: 0.6679 - accuracy: 0.8740\n",
      "16/16 - 0s - loss: 0.4753 - accuracy: 0.9180\n",
      "16/16 - 0s - loss: 0.4266 - accuracy: 0.9160\n",
      "16/16 - 0s - loss: 0.4206 - accuracy: 0.8800\n",
      "16/16 - 0s - loss: 0.5532 - accuracy: 0.9020\n",
      "16/16 - 0s - loss: 0.4953 - accuracy: 0.8920\n",
      "16/16 - 0s - loss: 0.6814 - accuracy: 0.8660\n",
      "16/16 - 0s - loss: 0.5992 - accuracy: 0.8820\n",
      "16/16 - 0s - loss: 0.6298 - accuracy: 0.8940\n",
      "16/16 - 0s - loss: 0.6707 - accuracy: 0.8720\n",
      "16/16 - 0s - loss: 0.6037 - accuracy: 0.8880\n",
      "16/16 - 0s - loss: 0.6320 - accuracy: 0.8880\n",
      "16/16 - 0s - loss: 0.5350 - accuracy: 0.8940\n",
      "16/16 - 0s - loss: 0.6139 - accuracy: 0.8980\n",
      "16/16 - 0s - loss: 0.5108 - accuracy: 0.9060\n",
      "16/16 - 0s - loss: 0.5438 - accuracy: 0.8940\n",
      "------------    37  번째 global epoch < Clustering > 로컬 클라이언트 학습 완료!,  Total Training time :  586.8383092880249 ---------------------------\n",
      "\n",
      "\n",
      "Layer :  0   클러스터 갯수 정해짐!  갯수 :  2 0\n"
     ]
    },
    {
     "name": "stderr",
     "output_type": "stream",
     "text": [
      "<ipython-input-10-91a1af1a5106>:147: VisibleDeprecationWarning: Creating an ndarray from ragged nested sequences (which is a list-or-tuple of lists-or-tuples-or ndarrays with different lengths or shapes) is deprecated. If you meant to do this, you must specify 'dtype=object' when creating the ndarray\n",
      "  globals()['G{}_c{}_w_layer{}'.format(global_epoch, num_c_w, layer_index)] = globals()['G{}_c{}_w_layer{}'.format(global_epoch, num_c_w, layer_index)] + np.array(globals()['L{}_layer{}_w_c'.format(i,layer_index)])   # 일반 클러스터링\n"
     ]
    },
    {
     "name": "stdout",
     "output_type": "stream",
     "text": [
      "Layer :  2   클러스터 갯수 정해짐!  갯수 :  2 0\n"
     ]
    },
    {
     "name": "stderr",
     "output_type": "stream",
     "text": [
      "<ipython-input-10-91a1af1a5106>:147: VisibleDeprecationWarning: Creating an ndarray from ragged nested sequences (which is a list-or-tuple of lists-or-tuples-or ndarrays with different lengths or shapes) is deprecated. If you meant to do this, you must specify 'dtype=object' when creating the ndarray\n",
      "  globals()['G{}_c{}_w_layer{}'.format(global_epoch, num_c_w, layer_index)] = globals()['G{}_c{}_w_layer{}'.format(global_epoch, num_c_w, layer_index)] + np.array(globals()['L{}_layer{}_w_c'.format(i,layer_index)])   # 일반 클러스터링\n"
     ]
    },
    {
     "name": "stdout",
     "output_type": "stream",
     "text": [
      "Layer :  4   클러스터 갯수 정해짐!  갯수 :  2 0\n"
     ]
    },
    {
     "name": "stderr",
     "output_type": "stream",
     "text": [
      "<ipython-input-10-91a1af1a5106>:147: VisibleDeprecationWarning: Creating an ndarray from ragged nested sequences (which is a list-or-tuple of lists-or-tuples-or ndarrays with different lengths or shapes) is deprecated. If you meant to do this, you must specify 'dtype=object' when creating the ndarray\n",
      "  globals()['G{}_c{}_w_layer{}'.format(global_epoch, num_c_w, layer_index)] = globals()['G{}_c{}_w_layer{}'.format(global_epoch, num_c_w, layer_index)] + np.array(globals()['L{}_layer{}_w_c'.format(i,layer_index)])   # 일반 클러스터링\n"
     ]
    },
    {
     "name": "stdout",
     "output_type": "stream",
     "text": [
      "Layer :  6   클러스터 갯수 정해짐!  갯수 :  2 0\n"
     ]
    },
    {
     "name": "stderr",
     "output_type": "stream",
     "text": [
      "<ipython-input-10-91a1af1a5106>:147: VisibleDeprecationWarning: Creating an ndarray from ragged nested sequences (which is a list-or-tuple of lists-or-tuples-or ndarrays with different lengths or shapes) is deprecated. If you meant to do this, you must specify 'dtype=object' when creating the ndarray\n",
      "  globals()['G{}_c{}_w_layer{}'.format(global_epoch, num_c_w, layer_index)] = globals()['G{}_c{}_w_layer{}'.format(global_epoch, num_c_w, layer_index)] + np.array(globals()['L{}_layer{}_w_c'.format(i,layer_index)])   # 일반 클러스터링\n"
     ]
    },
    {
     "name": "stdout",
     "output_type": "stream",
     "text": [
      "Layer :  7   클러스터 갯수 정해짐!  갯수 :  6 4\n",
      "\n",
      "\n",
      "====================================================== One Global Epoch =====================================================================\n",
      "\n",
      "\n",
      "38  번째 global_epoch 데이터 랜덤하게 준비!!\n"
     ]
    },
    {
     "name": "stderr",
     "output_type": "stream",
     "text": [
      "<ipython-input-10-91a1af1a5106>:147: VisibleDeprecationWarning: Creating an ndarray from ragged nested sequences (which is a list-or-tuple of lists-or-tuples-or ndarrays with different lengths or shapes) is deprecated. If you meant to do this, you must specify 'dtype=object' when creating the ndarray\n",
      "  globals()['G{}_c{}_w_layer{}'.format(global_epoch, num_c_w, layer_index)] = globals()['G{}_c{}_w_layer{}'.format(global_epoch, num_c_w, layer_index)] + np.array(globals()['L{}_layer{}_w_c'.format(i,layer_index)])   # 일반 클러스터링\n"
     ]
    },
    {
     "name": "stdout",
     "output_type": "stream",
     "text": [
      "38  번째 global_epoch 데이터 랜덤 준비완료!!\n",
      "\n",
      "\n",
      "38  번째 global epoch에서 로컬 클라이언트 들 학습시작!\n",
      "\n",
      "학습 중 ...\n",
      "\n",
      "16/16 - 0s - loss: 0.5369 - accuracy: 0.8960\n",
      "16/16 - 0s - loss: 0.6610 - accuracy: 0.8720\n",
      "16/16 - 0s - loss: 0.4870 - accuracy: 0.9000\n",
      "16/16 - 0s - loss: 0.6042 - accuracy: 0.8940\n",
      "16/16 - 0s - loss: 0.4213 - accuracy: 0.9180\n",
      "16/16 - 0s - loss: 0.5924 - accuracy: 0.8900\n",
      "16/16 - 0s - loss: 0.5421 - accuracy: 0.8860\n",
      "16/16 - 0s - loss: 0.5499 - accuracy: 0.8860\n",
      "16/16 - 0s - loss: 0.5664 - accuracy: 0.8900\n",
      "16/16 - 0s - loss: 0.5661 - accuracy: 0.8900\n",
      "16/16 - 0s - loss: 0.5264 - accuracy: 0.8920\n",
      "16/16 - 0s - loss: 0.5508 - accuracy: 0.8980\n",
      "16/16 - 0s - loss: 0.4637 - accuracy: 0.9000\n",
      "16/16 - 0s - loss: 0.7607 - accuracy: 0.8900\n",
      "16/16 - 0s - loss: 0.8335 - accuracy: 0.8500\n",
      "16/16 - 0s - loss: 0.5059 - accuracy: 0.9020\n",
      "16/16 - 0s - loss: 0.6721 - accuracy: 0.8720\n",
      "16/16 - 0s - loss: 0.5202 - accuracy: 0.8960\n",
      "16/16 - 0s - loss: 0.6252 - accuracy: 0.8760\n",
      "16/16 - 0s - loss: 0.7441 - accuracy: 0.8700\n",
      "------------    38  번째 global epoch < Clustering > 로컬 클라이언트 학습 완료!,  Total Training time :  605.2646441459656 ---------------------------\n",
      "\n",
      "\n",
      "Layer :  0   클러스터 갯수 정해짐!  갯수 :  2 0\n"
     ]
    },
    {
     "name": "stderr",
     "output_type": "stream",
     "text": [
      "<ipython-input-10-91a1af1a5106>:147: VisibleDeprecationWarning: Creating an ndarray from ragged nested sequences (which is a list-or-tuple of lists-or-tuples-or ndarrays with different lengths or shapes) is deprecated. If you meant to do this, you must specify 'dtype=object' when creating the ndarray\n",
      "  globals()['G{}_c{}_w_layer{}'.format(global_epoch, num_c_w, layer_index)] = globals()['G{}_c{}_w_layer{}'.format(global_epoch, num_c_w, layer_index)] + np.array(globals()['L{}_layer{}_w_c'.format(i,layer_index)])   # 일반 클러스터링\n"
     ]
    },
    {
     "name": "stdout",
     "output_type": "stream",
     "text": [
      "Layer :  2   클러스터 갯수 정해짐!  갯수 :  2 0\n"
     ]
    },
    {
     "name": "stderr",
     "output_type": "stream",
     "text": [
      "<ipython-input-10-91a1af1a5106>:147: VisibleDeprecationWarning: Creating an ndarray from ragged nested sequences (which is a list-or-tuple of lists-or-tuples-or ndarrays with different lengths or shapes) is deprecated. If you meant to do this, you must specify 'dtype=object' when creating the ndarray\n",
      "  globals()['G{}_c{}_w_layer{}'.format(global_epoch, num_c_w, layer_index)] = globals()['G{}_c{}_w_layer{}'.format(global_epoch, num_c_w, layer_index)] + np.array(globals()['L{}_layer{}_w_c'.format(i,layer_index)])   # 일반 클러스터링\n"
     ]
    },
    {
     "name": "stdout",
     "output_type": "stream",
     "text": [
      "Layer :  4   클러스터 갯수 정해짐!  갯수 :  2 0\n"
     ]
    },
    {
     "name": "stderr",
     "output_type": "stream",
     "text": [
      "<ipython-input-10-91a1af1a5106>:147: VisibleDeprecationWarning: Creating an ndarray from ragged nested sequences (which is a list-or-tuple of lists-or-tuples-or ndarrays with different lengths or shapes) is deprecated. If you meant to do this, you must specify 'dtype=object' when creating the ndarray\n",
      "  globals()['G{}_c{}_w_layer{}'.format(global_epoch, num_c_w, layer_index)] = globals()['G{}_c{}_w_layer{}'.format(global_epoch, num_c_w, layer_index)] + np.array(globals()['L{}_layer{}_w_c'.format(i,layer_index)])   # 일반 클러스터링\n"
     ]
    },
    {
     "name": "stdout",
     "output_type": "stream",
     "text": [
      "Layer :  6   클러스터 갯수 정해짐!  갯수 :  2 0\n"
     ]
    },
    {
     "name": "stderr",
     "output_type": "stream",
     "text": [
      "<ipython-input-10-91a1af1a5106>:147: VisibleDeprecationWarning: Creating an ndarray from ragged nested sequences (which is a list-or-tuple of lists-or-tuples-or ndarrays with different lengths or shapes) is deprecated. If you meant to do this, you must specify 'dtype=object' when creating the ndarray\n",
      "  globals()['G{}_c{}_w_layer{}'.format(global_epoch, num_c_w, layer_index)] = globals()['G{}_c{}_w_layer{}'.format(global_epoch, num_c_w, layer_index)] + np.array(globals()['L{}_layer{}_w_c'.format(i,layer_index)])   # 일반 클러스터링\n"
     ]
    },
    {
     "name": "stdout",
     "output_type": "stream",
     "text": [
      "Layer :  7   클러스터 갯수 정해짐!  갯수 :  6 4\n",
      "\n",
      "\n",
      "====================================================== One Global Epoch =====================================================================\n",
      "\n",
      "\n",
      "39  번째 global_epoch 데이터 랜덤하게 준비!!\n"
     ]
    },
    {
     "name": "stderr",
     "output_type": "stream",
     "text": [
      "<ipython-input-10-91a1af1a5106>:147: VisibleDeprecationWarning: Creating an ndarray from ragged nested sequences (which is a list-or-tuple of lists-or-tuples-or ndarrays with different lengths or shapes) is deprecated. If you meant to do this, you must specify 'dtype=object' when creating the ndarray\n",
      "  globals()['G{}_c{}_w_layer{}'.format(global_epoch, num_c_w, layer_index)] = globals()['G{}_c{}_w_layer{}'.format(global_epoch, num_c_w, layer_index)] + np.array(globals()['L{}_layer{}_w_c'.format(i,layer_index)])   # 일반 클러스터링\n"
     ]
    },
    {
     "name": "stdout",
     "output_type": "stream",
     "text": [
      "39  번째 global_epoch 데이터 랜덤 준비완료!!\n",
      "\n",
      "\n",
      "39  번째 global epoch에서 로컬 클라이언트 들 학습시작!\n",
      "\n",
      "학습 중 ...\n",
      "\n",
      "16/16 - 0s - loss: 0.5306 - accuracy: 0.8940\n",
      "16/16 - 0s - loss: 0.6191 - accuracy: 0.8900\n",
      "16/16 - 0s - loss: 0.4854 - accuracy: 0.8780\n",
      "16/16 - 0s - loss: 0.7412 - accuracy: 0.8660\n",
      "16/16 - 0s - loss: 0.7146 - accuracy: 0.8840\n",
      "16/16 - 0s - loss: 0.6795 - accuracy: 0.8800\n",
      "16/16 - 0s - loss: 0.7381 - accuracy: 0.8740\n",
      "16/16 - 0s - loss: 0.6083 - accuracy: 0.8800\n",
      "16/16 - 0s - loss: 0.4942 - accuracy: 0.9100\n",
      "16/16 - 0s - loss: 0.8650 - accuracy: 0.8620\n",
      "16/16 - 0s - loss: 0.5849 - accuracy: 0.8960\n",
      "16/16 - 0s - loss: 0.4964 - accuracy: 0.9140\n",
      "16/16 - 0s - loss: 0.4489 - accuracy: 0.9100\n",
      "16/16 - 0s - loss: 0.5872 - accuracy: 0.8700\n",
      "16/16 - 0s - loss: 0.5650 - accuracy: 0.9040\n",
      "16/16 - 0s - loss: 0.5543 - accuracy: 0.9000\n",
      "16/16 - 0s - loss: 0.4470 - accuracy: 0.9020\n",
      "16/16 - 0s - loss: 0.5429 - accuracy: 0.8980\n",
      "16/16 - 0s - loss: 0.4847 - accuracy: 0.8860\n",
      "16/16 - 0s - loss: 0.7367 - accuracy: 0.8720\n",
      "------------    39  번째 global epoch < Clustering > 로컬 클라이언트 학습 완료!,  Total Training time :  600.3740320205688 ---------------------------\n",
      "\n",
      "\n",
      "Layer :  0   클러스터 갯수 정해짐!  갯수 :  2 0\n"
     ]
    },
    {
     "name": "stderr",
     "output_type": "stream",
     "text": [
      "<ipython-input-10-91a1af1a5106>:147: VisibleDeprecationWarning: Creating an ndarray from ragged nested sequences (which is a list-or-tuple of lists-or-tuples-or ndarrays with different lengths or shapes) is deprecated. If you meant to do this, you must specify 'dtype=object' when creating the ndarray\n",
      "  globals()['G{}_c{}_w_layer{}'.format(global_epoch, num_c_w, layer_index)] = globals()['G{}_c{}_w_layer{}'.format(global_epoch, num_c_w, layer_index)] + np.array(globals()['L{}_layer{}_w_c'.format(i,layer_index)])   # 일반 클러스터링\n"
     ]
    },
    {
     "name": "stdout",
     "output_type": "stream",
     "text": [
      "Layer :  2   클러스터 갯수 정해짐!  갯수 :  5 3\n"
     ]
    },
    {
     "name": "stderr",
     "output_type": "stream",
     "text": [
      "<ipython-input-10-91a1af1a5106>:147: VisibleDeprecationWarning: Creating an ndarray from ragged nested sequences (which is a list-or-tuple of lists-or-tuples-or ndarrays with different lengths or shapes) is deprecated. If you meant to do this, you must specify 'dtype=object' when creating the ndarray\n",
      "  globals()['G{}_c{}_w_layer{}'.format(global_epoch, num_c_w, layer_index)] = globals()['G{}_c{}_w_layer{}'.format(global_epoch, num_c_w, layer_index)] + np.array(globals()['L{}_layer{}_w_c'.format(i,layer_index)])   # 일반 클러스터링\n"
     ]
    },
    {
     "name": "stdout",
     "output_type": "stream",
     "text": [
      "Layer :  4   클러스터 갯수 정해짐!  갯수 :  2 0\n"
     ]
    },
    {
     "name": "stderr",
     "output_type": "stream",
     "text": [
      "<ipython-input-10-91a1af1a5106>:147: VisibleDeprecationWarning: Creating an ndarray from ragged nested sequences (which is a list-or-tuple of lists-or-tuples-or ndarrays with different lengths or shapes) is deprecated. If you meant to do this, you must specify 'dtype=object' when creating the ndarray\n",
      "  globals()['G{}_c{}_w_layer{}'.format(global_epoch, num_c_w, layer_index)] = globals()['G{}_c{}_w_layer{}'.format(global_epoch, num_c_w, layer_index)] + np.array(globals()['L{}_layer{}_w_c'.format(i,layer_index)])   # 일반 클러스터링\n"
     ]
    },
    {
     "name": "stdout",
     "output_type": "stream",
     "text": [
      "Layer :  6   클러스터 갯수 정해짐!  갯수 :  2 0\n"
     ]
    },
    {
     "name": "stderr",
     "output_type": "stream",
     "text": [
      "<ipython-input-10-91a1af1a5106>:147: VisibleDeprecationWarning: Creating an ndarray from ragged nested sequences (which is a list-or-tuple of lists-or-tuples-or ndarrays with different lengths or shapes) is deprecated. If you meant to do this, you must specify 'dtype=object' when creating the ndarray\n",
      "  globals()['G{}_c{}_w_layer{}'.format(global_epoch, num_c_w, layer_index)] = globals()['G{}_c{}_w_layer{}'.format(global_epoch, num_c_w, layer_index)] + np.array(globals()['L{}_layer{}_w_c'.format(i,layer_index)])   # 일반 클러스터링\n"
     ]
    },
    {
     "name": "stdout",
     "output_type": "stream",
     "text": [
      "Layer :  7   클러스터 갯수 정해짐!  갯수 :  6 4\n",
      "\n",
      "\n",
      "====================================================== One Global Epoch =====================================================================\n",
      "\n",
      "\n",
      "40  번째 global_epoch 데이터 랜덤하게 준비!!\n"
     ]
    },
    {
     "name": "stderr",
     "output_type": "stream",
     "text": [
      "<ipython-input-10-91a1af1a5106>:147: VisibleDeprecationWarning: Creating an ndarray from ragged nested sequences (which is a list-or-tuple of lists-or-tuples-or ndarrays with different lengths or shapes) is deprecated. If you meant to do this, you must specify 'dtype=object' when creating the ndarray\n",
      "  globals()['G{}_c{}_w_layer{}'.format(global_epoch, num_c_w, layer_index)] = globals()['G{}_c{}_w_layer{}'.format(global_epoch, num_c_w, layer_index)] + np.array(globals()['L{}_layer{}_w_c'.format(i,layer_index)])   # 일반 클러스터링\n"
     ]
    },
    {
     "name": "stdout",
     "output_type": "stream",
     "text": [
      "40  번째 global_epoch 데이터 랜덤 준비완료!!\n",
      "\n",
      "\n",
      "40  번째 global epoch에서 로컬 클라이언트 들 학습시작!\n",
      "\n",
      "학습 중 ...\n",
      "\n",
      "16/16 - 0s - loss: 0.7754 - accuracy: 0.8560\n",
      "16/16 - 0s - loss: 0.6584 - accuracy: 0.8960\n",
      "16/16 - 0s - loss: 0.4753 - accuracy: 0.9060\n",
      "16/16 - 0s - loss: 0.5049 - accuracy: 0.9080\n",
      "16/16 - 0s - loss: 0.5029 - accuracy: 0.8760\n",
      "16/16 - 0s - loss: 0.3291 - accuracy: 0.9240\n",
      "16/16 - 0s - loss: 0.5708 - accuracy: 0.8800\n",
      "16/16 - 0s - loss: 0.5947 - accuracy: 0.9020\n",
      "16/16 - 0s - loss: 0.4621 - accuracy: 0.9100\n",
      "16/16 - 0s - loss: 0.5877 - accuracy: 0.8960\n",
      "16/16 - 0s - loss: 0.6404 - accuracy: 0.8940\n",
      "16/16 - 0s - loss: 0.5658 - accuracy: 0.8920\n",
      "16/16 - 0s - loss: 0.5039 - accuracy: 0.9080\n",
      "16/16 - 0s - loss: 0.6739 - accuracy: 0.8920\n",
      "16/16 - 0s - loss: 0.4299 - accuracy: 0.9320\n",
      "16/16 - 0s - loss: 0.5379 - accuracy: 0.8920\n",
      "16/16 - 0s - loss: 0.5398 - accuracy: 0.9080\n",
      "16/16 - 0s - loss: 0.6427 - accuracy: 0.8880\n",
      "16/16 - 0s - loss: 0.6819 - accuracy: 0.8680\n",
      "16/16 - 0s - loss: 0.6851 - accuracy: 0.8520\n",
      "------------    40  번째 global epoch < Clustering > 로컬 클라이언트 학습 완료!,  Total Training time :  602.613874912262 ---------------------------\n",
      "\n",
      "\n",
      "Layer :  0   클러스터 갯수 정해짐!  갯수 :  2 0\n"
     ]
    },
    {
     "name": "stderr",
     "output_type": "stream",
     "text": [
      "<ipython-input-10-91a1af1a5106>:147: VisibleDeprecationWarning: Creating an ndarray from ragged nested sequences (which is a list-or-tuple of lists-or-tuples-or ndarrays with different lengths or shapes) is deprecated. If you meant to do this, you must specify 'dtype=object' when creating the ndarray\n",
      "  globals()['G{}_c{}_w_layer{}'.format(global_epoch, num_c_w, layer_index)] = globals()['G{}_c{}_w_layer{}'.format(global_epoch, num_c_w, layer_index)] + np.array(globals()['L{}_layer{}_w_c'.format(i,layer_index)])   # 일반 클러스터링\n"
     ]
    },
    {
     "name": "stdout",
     "output_type": "stream",
     "text": [
      "Layer :  2   클러스터 갯수 정해짐!  갯수 :  3 1\n"
     ]
    },
    {
     "name": "stderr",
     "output_type": "stream",
     "text": [
      "<ipython-input-10-91a1af1a5106>:147: VisibleDeprecationWarning: Creating an ndarray from ragged nested sequences (which is a list-or-tuple of lists-or-tuples-or ndarrays with different lengths or shapes) is deprecated. If you meant to do this, you must specify 'dtype=object' when creating the ndarray\n",
      "  globals()['G{}_c{}_w_layer{}'.format(global_epoch, num_c_w, layer_index)] = globals()['G{}_c{}_w_layer{}'.format(global_epoch, num_c_w, layer_index)] + np.array(globals()['L{}_layer{}_w_c'.format(i,layer_index)])   # 일반 클러스터링\n"
     ]
    },
    {
     "name": "stdout",
     "output_type": "stream",
     "text": [
      "Layer :  4   클러스터 갯수 정해짐!  갯수 :  2 0\n"
     ]
    },
    {
     "name": "stderr",
     "output_type": "stream",
     "text": [
      "<ipython-input-10-91a1af1a5106>:147: VisibleDeprecationWarning: Creating an ndarray from ragged nested sequences (which is a list-or-tuple of lists-or-tuples-or ndarrays with different lengths or shapes) is deprecated. If you meant to do this, you must specify 'dtype=object' when creating the ndarray\n",
      "  globals()['G{}_c{}_w_layer{}'.format(global_epoch, num_c_w, layer_index)] = globals()['G{}_c{}_w_layer{}'.format(global_epoch, num_c_w, layer_index)] + np.array(globals()['L{}_layer{}_w_c'.format(i,layer_index)])   # 일반 클러스터링\n"
     ]
    },
    {
     "name": "stdout",
     "output_type": "stream",
     "text": [
      "Layer :  6   클러스터 갯수 정해짐!  갯수 :  2 0\n"
     ]
    },
    {
     "name": "stderr",
     "output_type": "stream",
     "text": [
      "<ipython-input-10-91a1af1a5106>:147: VisibleDeprecationWarning: Creating an ndarray from ragged nested sequences (which is a list-or-tuple of lists-or-tuples-or ndarrays with different lengths or shapes) is deprecated. If you meant to do this, you must specify 'dtype=object' when creating the ndarray\n",
      "  globals()['G{}_c{}_w_layer{}'.format(global_epoch, num_c_w, layer_index)] = globals()['G{}_c{}_w_layer{}'.format(global_epoch, num_c_w, layer_index)] + np.array(globals()['L{}_layer{}_w_c'.format(i,layer_index)])   # 일반 클러스터링\n"
     ]
    },
    {
     "name": "stdout",
     "output_type": "stream",
     "text": [
      "Layer :  7   클러스터 갯수 정해짐!  갯수 :  6 4\n",
      "\n",
      "\n",
      "====================================================== One Global Epoch =====================================================================\n",
      "\n",
      "\n",
      "41  번째 global_epoch 데이터 랜덤하게 준비!!\n"
     ]
    },
    {
     "name": "stderr",
     "output_type": "stream",
     "text": [
      "<ipython-input-10-91a1af1a5106>:147: VisibleDeprecationWarning: Creating an ndarray from ragged nested sequences (which is a list-or-tuple of lists-or-tuples-or ndarrays with different lengths or shapes) is deprecated. If you meant to do this, you must specify 'dtype=object' when creating the ndarray\n",
      "  globals()['G{}_c{}_w_layer{}'.format(global_epoch, num_c_w, layer_index)] = globals()['G{}_c{}_w_layer{}'.format(global_epoch, num_c_w, layer_index)] + np.array(globals()['L{}_layer{}_w_c'.format(i,layer_index)])   # 일반 클러스터링\n"
     ]
    },
    {
     "name": "stdout",
     "output_type": "stream",
     "text": [
      "41  번째 global_epoch 데이터 랜덤 준비완료!!\n",
      "\n",
      "\n",
      "41  번째 global epoch에서 로컬 클라이언트 들 학습시작!\n",
      "\n",
      "학습 중 ...\n",
      "\n",
      "16/16 - 0s - loss: 0.6342 - accuracy: 0.8720\n",
      "16/16 - 0s - loss: 0.5165 - accuracy: 0.8700\n",
      "16/16 - 0s - loss: 0.5784 - accuracy: 0.8820\n",
      "16/16 - 0s - loss: 0.5603 - accuracy: 0.8920\n",
      "16/16 - 0s - loss: 0.3153 - accuracy: 0.8980\n",
      "16/16 - 0s - loss: 0.6485 - accuracy: 0.8960\n",
      "16/16 - 0s - loss: 0.5852 - accuracy: 0.8900\n",
      "16/16 - 0s - loss: 0.7320 - accuracy: 0.8600\n",
      "16/16 - 0s - loss: 0.4803 - accuracy: 0.9100\n",
      "16/16 - 0s - loss: 0.5701 - accuracy: 0.8820\n",
      "16/16 - 0s - loss: 0.4817 - accuracy: 0.8960\n",
      "16/16 - 0s - loss: 0.7119 - accuracy: 0.8900\n",
      "16/16 - 0s - loss: 0.5999 - accuracy: 0.8960\n",
      "16/16 - 0s - loss: 0.6275 - accuracy: 0.8960\n",
      "16/16 - 0s - loss: 0.5814 - accuracy: 0.8920\n",
      "16/16 - 0s - loss: 0.5322 - accuracy: 0.8900\n",
      "16/16 - 0s - loss: 0.6040 - accuracy: 0.8780\n",
      "16/16 - 0s - loss: 0.5256 - accuracy: 0.9020\n",
      "16/16 - 0s - loss: 0.7531 - accuracy: 0.8800\n",
      "16/16 - 0s - loss: 0.6404 - accuracy: 0.8860\n",
      "------------    41  번째 global epoch < Clustering > 로컬 클라이언트 학습 완료!,  Total Training time :  618.3191854953766 ---------------------------\n",
      "\n",
      "\n",
      "Layer :  0   클러스터 갯수 정해짐!  갯수 :  2 0\n"
     ]
    },
    {
     "name": "stderr",
     "output_type": "stream",
     "text": [
      "<ipython-input-10-91a1af1a5106>:147: VisibleDeprecationWarning: Creating an ndarray from ragged nested sequences (which is a list-or-tuple of lists-or-tuples-or ndarrays with different lengths or shapes) is deprecated. If you meant to do this, you must specify 'dtype=object' when creating the ndarray\n",
      "  globals()['G{}_c{}_w_layer{}'.format(global_epoch, num_c_w, layer_index)] = globals()['G{}_c{}_w_layer{}'.format(global_epoch, num_c_w, layer_index)] + np.array(globals()['L{}_layer{}_w_c'.format(i,layer_index)])   # 일반 클러스터링\n"
     ]
    },
    {
     "name": "stdout",
     "output_type": "stream",
     "text": [
      "Layer :  2   클러스터 갯수 정해짐!  갯수 :  3 1\n"
     ]
    },
    {
     "name": "stderr",
     "output_type": "stream",
     "text": [
      "<ipython-input-10-91a1af1a5106>:147: VisibleDeprecationWarning: Creating an ndarray from ragged nested sequences (which is a list-or-tuple of lists-or-tuples-or ndarrays with different lengths or shapes) is deprecated. If you meant to do this, you must specify 'dtype=object' when creating the ndarray\n",
      "  globals()['G{}_c{}_w_layer{}'.format(global_epoch, num_c_w, layer_index)] = globals()['G{}_c{}_w_layer{}'.format(global_epoch, num_c_w, layer_index)] + np.array(globals()['L{}_layer{}_w_c'.format(i,layer_index)])   # 일반 클러스터링\n"
     ]
    },
    {
     "name": "stdout",
     "output_type": "stream",
     "text": [
      "Layer :  4   클러스터 갯수 정해짐!  갯수 :  2 0\n"
     ]
    },
    {
     "name": "stderr",
     "output_type": "stream",
     "text": [
      "<ipython-input-10-91a1af1a5106>:147: VisibleDeprecationWarning: Creating an ndarray from ragged nested sequences (which is a list-or-tuple of lists-or-tuples-or ndarrays with different lengths or shapes) is deprecated. If you meant to do this, you must specify 'dtype=object' when creating the ndarray\n",
      "  globals()['G{}_c{}_w_layer{}'.format(global_epoch, num_c_w, layer_index)] = globals()['G{}_c{}_w_layer{}'.format(global_epoch, num_c_w, layer_index)] + np.array(globals()['L{}_layer{}_w_c'.format(i,layer_index)])   # 일반 클러스터링\n"
     ]
    },
    {
     "name": "stdout",
     "output_type": "stream",
     "text": [
      "Layer :  6   클러스터 갯수 정해짐!  갯수 :  2 0\n"
     ]
    },
    {
     "name": "stderr",
     "output_type": "stream",
     "text": [
      "<ipython-input-10-91a1af1a5106>:147: VisibleDeprecationWarning: Creating an ndarray from ragged nested sequences (which is a list-or-tuple of lists-or-tuples-or ndarrays with different lengths or shapes) is deprecated. If you meant to do this, you must specify 'dtype=object' when creating the ndarray\n",
      "  globals()['G{}_c{}_w_layer{}'.format(global_epoch, num_c_w, layer_index)] = globals()['G{}_c{}_w_layer{}'.format(global_epoch, num_c_w, layer_index)] + np.array(globals()['L{}_layer{}_w_c'.format(i,layer_index)])   # 일반 클러스터링\n"
     ]
    },
    {
     "name": "stdout",
     "output_type": "stream",
     "text": [
      "Layer :  7   클러스터 갯수 정해짐!  갯수 :  6 4\n",
      "\n",
      "\n",
      "====================================================== One Global Epoch =====================================================================\n",
      "\n",
      "\n",
      "42  번째 global_epoch 데이터 랜덤하게 준비!!\n"
     ]
    },
    {
     "name": "stderr",
     "output_type": "stream",
     "text": [
      "<ipython-input-10-91a1af1a5106>:147: VisibleDeprecationWarning: Creating an ndarray from ragged nested sequences (which is a list-or-tuple of lists-or-tuples-or ndarrays with different lengths or shapes) is deprecated. If you meant to do this, you must specify 'dtype=object' when creating the ndarray\n",
      "  globals()['G{}_c{}_w_layer{}'.format(global_epoch, num_c_w, layer_index)] = globals()['G{}_c{}_w_layer{}'.format(global_epoch, num_c_w, layer_index)] + np.array(globals()['L{}_layer{}_w_c'.format(i,layer_index)])   # 일반 클러스터링\n"
     ]
    },
    {
     "name": "stdout",
     "output_type": "stream",
     "text": [
      "42  번째 global_epoch 데이터 랜덤 준비완료!!\n",
      "\n",
      "\n",
      "42  번째 global epoch에서 로컬 클라이언트 들 학습시작!\n",
      "\n",
      "학습 중 ...\n",
      "\n",
      "16/16 - 0s - loss: 0.5279 - accuracy: 0.8880\n",
      "16/16 - 0s - loss: 0.5573 - accuracy: 0.8940\n",
      "16/16 - 0s - loss: 0.5028 - accuracy: 0.9100\n",
      "16/16 - 0s - loss: 0.5895 - accuracy: 0.8900\n",
      "16/16 - 0s - loss: 0.5271 - accuracy: 0.9040\n",
      "16/16 - 0s - loss: 0.6348 - accuracy: 0.8780\n",
      "16/16 - 0s - loss: 0.5994 - accuracy: 0.9040\n",
      "16/16 - 0s - loss: 0.6532 - accuracy: 0.8820\n",
      "16/16 - 0s - loss: 0.7061 - accuracy: 0.8860\n",
      "16/16 - 0s - loss: 0.7611 - accuracy: 0.8760\n",
      "16/16 - 0s - loss: 0.6016 - accuracy: 0.8920\n",
      "16/16 - 0s - loss: 0.4855 - accuracy: 0.8960\n",
      "16/16 - 0s - loss: 0.6088 - accuracy: 0.9040\n",
      "16/16 - 0s - loss: 0.5296 - accuracy: 0.8900\n",
      "16/16 - 0s - loss: 0.6235 - accuracy: 0.8920\n",
      "16/16 - 0s - loss: 0.4813 - accuracy: 0.8980\n",
      "16/16 - 0s - loss: 0.4565 - accuracy: 0.9100\n",
      "16/16 - 0s - loss: 0.6384 - accuracy: 0.8740\n",
      "16/16 - 0s - loss: 0.6030 - accuracy: 0.8900\n",
      "16/16 - 0s - loss: 0.8779 - accuracy: 0.8600\n",
      "------------    42  번째 global epoch < Clustering > 로컬 클라이언트 학습 완료!,  Total Training time :  638.6654496192932 ---------------------------\n",
      "\n",
      "\n",
      "Layer :  0   클러스터 갯수 정해짐!  갯수 :  2 0\n"
     ]
    },
    {
     "name": "stderr",
     "output_type": "stream",
     "text": [
      "<ipython-input-10-91a1af1a5106>:147: VisibleDeprecationWarning: Creating an ndarray from ragged nested sequences (which is a list-or-tuple of lists-or-tuples-or ndarrays with different lengths or shapes) is deprecated. If you meant to do this, you must specify 'dtype=object' when creating the ndarray\n",
      "  globals()['G{}_c{}_w_layer{}'.format(global_epoch, num_c_w, layer_index)] = globals()['G{}_c{}_w_layer{}'.format(global_epoch, num_c_w, layer_index)] + np.array(globals()['L{}_layer{}_w_c'.format(i,layer_index)])   # 일반 클러스터링\n"
     ]
    },
    {
     "name": "stdout",
     "output_type": "stream",
     "text": [
      "Layer :  2   클러스터 갯수 정해짐!  갯수 :  3 1\n"
     ]
    },
    {
     "name": "stderr",
     "output_type": "stream",
     "text": [
      "<ipython-input-10-91a1af1a5106>:147: VisibleDeprecationWarning: Creating an ndarray from ragged nested sequences (which is a list-or-tuple of lists-or-tuples-or ndarrays with different lengths or shapes) is deprecated. If you meant to do this, you must specify 'dtype=object' when creating the ndarray\n",
      "  globals()['G{}_c{}_w_layer{}'.format(global_epoch, num_c_w, layer_index)] = globals()['G{}_c{}_w_layer{}'.format(global_epoch, num_c_w, layer_index)] + np.array(globals()['L{}_layer{}_w_c'.format(i,layer_index)])   # 일반 클러스터링\n"
     ]
    },
    {
     "name": "stdout",
     "output_type": "stream",
     "text": [
      "Layer :  4   클러스터 갯수 정해짐!  갯수 :  2 0\n"
     ]
    },
    {
     "name": "stderr",
     "output_type": "stream",
     "text": [
      "<ipython-input-10-91a1af1a5106>:147: VisibleDeprecationWarning: Creating an ndarray from ragged nested sequences (which is a list-or-tuple of lists-or-tuples-or ndarrays with different lengths or shapes) is deprecated. If you meant to do this, you must specify 'dtype=object' when creating the ndarray\n",
      "  globals()['G{}_c{}_w_layer{}'.format(global_epoch, num_c_w, layer_index)] = globals()['G{}_c{}_w_layer{}'.format(global_epoch, num_c_w, layer_index)] + np.array(globals()['L{}_layer{}_w_c'.format(i,layer_index)])   # 일반 클러스터링\n"
     ]
    },
    {
     "name": "stdout",
     "output_type": "stream",
     "text": [
      "Layer :  6   클러스터 갯수 정해짐!  갯수 :  2 0\n"
     ]
    },
    {
     "name": "stderr",
     "output_type": "stream",
     "text": [
      "<ipython-input-10-91a1af1a5106>:147: VisibleDeprecationWarning: Creating an ndarray from ragged nested sequences (which is a list-or-tuple of lists-or-tuples-or ndarrays with different lengths or shapes) is deprecated. If you meant to do this, you must specify 'dtype=object' when creating the ndarray\n",
      "  globals()['G{}_c{}_w_layer{}'.format(global_epoch, num_c_w, layer_index)] = globals()['G{}_c{}_w_layer{}'.format(global_epoch, num_c_w, layer_index)] + np.array(globals()['L{}_layer{}_w_c'.format(i,layer_index)])   # 일반 클러스터링\n"
     ]
    },
    {
     "name": "stdout",
     "output_type": "stream",
     "text": [
      "Layer :  7   클러스터 갯수 정해짐!  갯수 :  6 4\n",
      "\n",
      "\n",
      "====================================================== One Global Epoch =====================================================================\n",
      "\n",
      "\n",
      "43  번째 global_epoch 데이터 랜덤하게 준비!!\n"
     ]
    },
    {
     "name": "stderr",
     "output_type": "stream",
     "text": [
      "<ipython-input-10-91a1af1a5106>:147: VisibleDeprecationWarning: Creating an ndarray from ragged nested sequences (which is a list-or-tuple of lists-or-tuples-or ndarrays with different lengths or shapes) is deprecated. If you meant to do this, you must specify 'dtype=object' when creating the ndarray\n",
      "  globals()['G{}_c{}_w_layer{}'.format(global_epoch, num_c_w, layer_index)] = globals()['G{}_c{}_w_layer{}'.format(global_epoch, num_c_w, layer_index)] + np.array(globals()['L{}_layer{}_w_c'.format(i,layer_index)])   # 일반 클러스터링\n"
     ]
    },
    {
     "name": "stdout",
     "output_type": "stream",
     "text": [
      "43  번째 global_epoch 데이터 랜덤 준비완료!!\n",
      "\n",
      "\n",
      "43  번째 global epoch에서 로컬 클라이언트 들 학습시작!\n",
      "\n",
      "학습 중 ...\n",
      "\n",
      "16/16 - 0s - loss: 0.5906 - accuracy: 0.9040\n",
      "16/16 - 0s - loss: 0.5507 - accuracy: 0.8860\n",
      "16/16 - 0s - loss: 0.6757 - accuracy: 0.9040\n",
      "16/16 - 0s - loss: 0.7829 - accuracy: 0.8860\n",
      "16/16 - 0s - loss: 0.6510 - accuracy: 0.8780\n",
      "16/16 - 0s - loss: 0.6988 - accuracy: 0.8740\n",
      "16/16 - 0s - loss: 0.3969 - accuracy: 0.9220\n",
      "16/16 - 0s - loss: 0.5079 - accuracy: 0.9040\n",
      "16/16 - 0s - loss: 0.5598 - accuracy: 0.9040\n",
      "16/16 - 0s - loss: 0.7369 - accuracy: 0.8580\n",
      "16/16 - 0s - loss: 0.7231 - accuracy: 0.8740\n",
      "16/16 - 0s - loss: 0.7077 - accuracy: 0.8660\n",
      "16/16 - 0s - loss: 0.5850 - accuracy: 0.8960\n",
      "16/16 - 0s - loss: 0.4068 - accuracy: 0.9100\n",
      "16/16 - 0s - loss: 0.6918 - accuracy: 0.8940\n",
      "16/16 - 0s - loss: 0.4460 - accuracy: 0.8980\n",
      "16/16 - 0s - loss: 0.5620 - accuracy: 0.9020\n",
      "16/16 - 0s - loss: 0.5540 - accuracy: 0.9000\n",
      "16/16 - 0s - loss: 0.5896 - accuracy: 0.9020\n",
      "16/16 - 0s - loss: 0.6038 - accuracy: 0.8980\n",
      "------------    43  번째 global epoch < Clustering > 로컬 클라이언트 학습 완료!,  Total Training time :  659.8458044528961 ---------------------------\n",
      "\n",
      "\n",
      "Layer :  0   클러스터 갯수 정해짐!  갯수 :  2 0\n"
     ]
    },
    {
     "name": "stderr",
     "output_type": "stream",
     "text": [
      "<ipython-input-10-91a1af1a5106>:147: VisibleDeprecationWarning: Creating an ndarray from ragged nested sequences (which is a list-or-tuple of lists-or-tuples-or ndarrays with different lengths or shapes) is deprecated. If you meant to do this, you must specify 'dtype=object' when creating the ndarray\n",
      "  globals()['G{}_c{}_w_layer{}'.format(global_epoch, num_c_w, layer_index)] = globals()['G{}_c{}_w_layer{}'.format(global_epoch, num_c_w, layer_index)] + np.array(globals()['L{}_layer{}_w_c'.format(i,layer_index)])   # 일반 클러스터링\n"
     ]
    },
    {
     "name": "stdout",
     "output_type": "stream",
     "text": [
      "Layer :  2   클러스터 갯수 정해짐!  갯수 :  3 1\n"
     ]
    },
    {
     "name": "stderr",
     "output_type": "stream",
     "text": [
      "<ipython-input-10-91a1af1a5106>:147: VisibleDeprecationWarning: Creating an ndarray from ragged nested sequences (which is a list-or-tuple of lists-or-tuples-or ndarrays with different lengths or shapes) is deprecated. If you meant to do this, you must specify 'dtype=object' when creating the ndarray\n",
      "  globals()['G{}_c{}_w_layer{}'.format(global_epoch, num_c_w, layer_index)] = globals()['G{}_c{}_w_layer{}'.format(global_epoch, num_c_w, layer_index)] + np.array(globals()['L{}_layer{}_w_c'.format(i,layer_index)])   # 일반 클러스터링\n"
     ]
    },
    {
     "name": "stdout",
     "output_type": "stream",
     "text": [
      "Layer :  4   클러스터 갯수 정해짐!  갯수 :  2 0\n"
     ]
    },
    {
     "name": "stderr",
     "output_type": "stream",
     "text": [
      "<ipython-input-10-91a1af1a5106>:147: VisibleDeprecationWarning: Creating an ndarray from ragged nested sequences (which is a list-or-tuple of lists-or-tuples-or ndarrays with different lengths or shapes) is deprecated. If you meant to do this, you must specify 'dtype=object' when creating the ndarray\n",
      "  globals()['G{}_c{}_w_layer{}'.format(global_epoch, num_c_w, layer_index)] = globals()['G{}_c{}_w_layer{}'.format(global_epoch, num_c_w, layer_index)] + np.array(globals()['L{}_layer{}_w_c'.format(i,layer_index)])   # 일반 클러스터링\n"
     ]
    },
    {
     "name": "stdout",
     "output_type": "stream",
     "text": [
      "Layer :  6   클러스터 갯수 정해짐!  갯수 :  2 0\n"
     ]
    },
    {
     "name": "stderr",
     "output_type": "stream",
     "text": [
      "<ipython-input-10-91a1af1a5106>:147: VisibleDeprecationWarning: Creating an ndarray from ragged nested sequences (which is a list-or-tuple of lists-or-tuples-or ndarrays with different lengths or shapes) is deprecated. If you meant to do this, you must specify 'dtype=object' when creating the ndarray\n",
      "  globals()['G{}_c{}_w_layer{}'.format(global_epoch, num_c_w, layer_index)] = globals()['G{}_c{}_w_layer{}'.format(global_epoch, num_c_w, layer_index)] + np.array(globals()['L{}_layer{}_w_c'.format(i,layer_index)])   # 일반 클러스터링\n"
     ]
    },
    {
     "name": "stdout",
     "output_type": "stream",
     "text": [
      "Layer :  7   클러스터 갯수 정해짐!  갯수 :  6 4\n",
      "\n",
      "\n",
      "====================================================== One Global Epoch =====================================================================\n",
      "\n",
      "\n",
      "44  번째 global_epoch 데이터 랜덤하게 준비!!\n"
     ]
    },
    {
     "name": "stderr",
     "output_type": "stream",
     "text": [
      "<ipython-input-10-91a1af1a5106>:147: VisibleDeprecationWarning: Creating an ndarray from ragged nested sequences (which is a list-or-tuple of lists-or-tuples-or ndarrays with different lengths or shapes) is deprecated. If you meant to do this, you must specify 'dtype=object' when creating the ndarray\n",
      "  globals()['G{}_c{}_w_layer{}'.format(global_epoch, num_c_w, layer_index)] = globals()['G{}_c{}_w_layer{}'.format(global_epoch, num_c_w, layer_index)] + np.array(globals()['L{}_layer{}_w_c'.format(i,layer_index)])   # 일반 클러스터링\n"
     ]
    },
    {
     "name": "stdout",
     "output_type": "stream",
     "text": [
      "44  번째 global_epoch 데이터 랜덤 준비완료!!\n",
      "\n",
      "\n",
      "44  번째 global epoch에서 로컬 클라이언트 들 학습시작!\n",
      "\n",
      "학습 중 ...\n",
      "\n",
      "16/16 - 0s - loss: 0.5076 - accuracy: 0.9240\n",
      "16/16 - 0s - loss: 0.6660 - accuracy: 0.8860\n",
      "16/16 - 0s - loss: 0.4993 - accuracy: 0.8940\n",
      "16/16 - 0s - loss: 0.6263 - accuracy: 0.8860\n",
      "16/16 - 0s - loss: 0.5835 - accuracy: 0.8940\n",
      "16/16 - 0s - loss: 0.5181 - accuracy: 0.9180\n",
      "16/16 - 0s - loss: 0.4931 - accuracy: 0.9020\n",
      "16/16 - 0s - loss: 0.6211 - accuracy: 0.8680\n",
      "16/16 - 0s - loss: 0.5731 - accuracy: 0.8940\n",
      "16/16 - 0s - loss: 0.5836 - accuracy: 0.9000\n",
      "16/16 - 0s - loss: 0.5917 - accuracy: 0.9040\n",
      "16/16 - 0s - loss: 0.5954 - accuracy: 0.9020\n",
      "16/16 - 0s - loss: 0.5520 - accuracy: 0.9120\n",
      "16/16 - 0s - loss: 0.4538 - accuracy: 0.8840\n",
      "16/16 - 0s - loss: 0.6047 - accuracy: 0.8980\n",
      "16/16 - 0s - loss: 0.6956 - accuracy: 0.8760\n",
      "16/16 - 0s - loss: 0.5473 - accuracy: 0.8960\n",
      "16/16 - 0s - loss: 0.7238 - accuracy: 0.8820\n",
      "16/16 - 0s - loss: 0.6179 - accuracy: 0.8980\n",
      "16/16 - 0s - loss: 0.6440 - accuracy: 0.9140\n",
      "------------    44  번째 global epoch < Clustering > 로컬 클라이언트 학습 완료!,  Total Training time :  697.9195666313171 ---------------------------\n",
      "\n",
      "\n",
      "Layer :  0   클러스터 갯수 정해짐!  갯수 :  2 0\n"
     ]
    },
    {
     "name": "stderr",
     "output_type": "stream",
     "text": [
      "<ipython-input-10-91a1af1a5106>:147: VisibleDeprecationWarning: Creating an ndarray from ragged nested sequences (which is a list-or-tuple of lists-or-tuples-or ndarrays with different lengths or shapes) is deprecated. If you meant to do this, you must specify 'dtype=object' when creating the ndarray\n",
      "  globals()['G{}_c{}_w_layer{}'.format(global_epoch, num_c_w, layer_index)] = globals()['G{}_c{}_w_layer{}'.format(global_epoch, num_c_w, layer_index)] + np.array(globals()['L{}_layer{}_w_c'.format(i,layer_index)])   # 일반 클러스터링\n"
     ]
    },
    {
     "name": "stdout",
     "output_type": "stream",
     "text": [
      "Layer :  2   클러스터 갯수 정해짐!  갯수 :  3 1\n"
     ]
    },
    {
     "name": "stderr",
     "output_type": "stream",
     "text": [
      "<ipython-input-10-91a1af1a5106>:147: VisibleDeprecationWarning: Creating an ndarray from ragged nested sequences (which is a list-or-tuple of lists-or-tuples-or ndarrays with different lengths or shapes) is deprecated. If you meant to do this, you must specify 'dtype=object' when creating the ndarray\n",
      "  globals()['G{}_c{}_w_layer{}'.format(global_epoch, num_c_w, layer_index)] = globals()['G{}_c{}_w_layer{}'.format(global_epoch, num_c_w, layer_index)] + np.array(globals()['L{}_layer{}_w_c'.format(i,layer_index)])   # 일반 클러스터링\n"
     ]
    },
    {
     "name": "stdout",
     "output_type": "stream",
     "text": [
      "Layer :  4   클러스터 갯수 정해짐!  갯수 :  2 0\n"
     ]
    },
    {
     "name": "stderr",
     "output_type": "stream",
     "text": [
      "<ipython-input-10-91a1af1a5106>:147: VisibleDeprecationWarning: Creating an ndarray from ragged nested sequences (which is a list-or-tuple of lists-or-tuples-or ndarrays with different lengths or shapes) is deprecated. If you meant to do this, you must specify 'dtype=object' when creating the ndarray\n",
      "  globals()['G{}_c{}_w_layer{}'.format(global_epoch, num_c_w, layer_index)] = globals()['G{}_c{}_w_layer{}'.format(global_epoch, num_c_w, layer_index)] + np.array(globals()['L{}_layer{}_w_c'.format(i,layer_index)])   # 일반 클러스터링\n"
     ]
    },
    {
     "name": "stdout",
     "output_type": "stream",
     "text": [
      "Layer :  6   클러스터 갯수 정해짐!  갯수 :  2 0\n"
     ]
    },
    {
     "name": "stderr",
     "output_type": "stream",
     "text": [
      "<ipython-input-10-91a1af1a5106>:147: VisibleDeprecationWarning: Creating an ndarray from ragged nested sequences (which is a list-or-tuple of lists-or-tuples-or ndarrays with different lengths or shapes) is deprecated. If you meant to do this, you must specify 'dtype=object' when creating the ndarray\n",
      "  globals()['G{}_c{}_w_layer{}'.format(global_epoch, num_c_w, layer_index)] = globals()['G{}_c{}_w_layer{}'.format(global_epoch, num_c_w, layer_index)] + np.array(globals()['L{}_layer{}_w_c'.format(i,layer_index)])   # 일반 클러스터링\n"
     ]
    },
    {
     "name": "stdout",
     "output_type": "stream",
     "text": [
      "Layer :  7   클러스터 갯수 정해짐!  갯수 :  6 4\n",
      "\n",
      "\n",
      "====================================================== One Global Epoch =====================================================================\n",
      "\n",
      "\n",
      "45  번째 global_epoch 데이터 랜덤하게 준비!!\n"
     ]
    },
    {
     "name": "stderr",
     "output_type": "stream",
     "text": [
      "<ipython-input-10-91a1af1a5106>:147: VisibleDeprecationWarning: Creating an ndarray from ragged nested sequences (which is a list-or-tuple of lists-or-tuples-or ndarrays with different lengths or shapes) is deprecated. If you meant to do this, you must specify 'dtype=object' when creating the ndarray\n",
      "  globals()['G{}_c{}_w_layer{}'.format(global_epoch, num_c_w, layer_index)] = globals()['G{}_c{}_w_layer{}'.format(global_epoch, num_c_w, layer_index)] + np.array(globals()['L{}_layer{}_w_c'.format(i,layer_index)])   # 일반 클러스터링\n"
     ]
    },
    {
     "name": "stdout",
     "output_type": "stream",
     "text": [
      "45  번째 global_epoch 데이터 랜덤 준비완료!!\n",
      "\n",
      "\n",
      "45  번째 global epoch에서 로컬 클라이언트 들 학습시작!\n",
      "\n",
      "학습 중 ...\n",
      "\n",
      "16/16 - 0s - loss: 0.5437 - accuracy: 0.9160\n",
      "16/16 - 0s - loss: 0.5459 - accuracy: 0.8880\n",
      "16/16 - 0s - loss: 0.6831 - accuracy: 0.8720\n",
      "16/16 - 0s - loss: 0.5612 - accuracy: 0.8900\n",
      "16/16 - 0s - loss: 0.7162 - accuracy: 0.8660\n",
      "16/16 - 0s - loss: 0.5621 - accuracy: 0.8820\n",
      "16/16 - 0s - loss: 0.4377 - accuracy: 0.9200\n",
      "16/16 - 0s - loss: 0.5510 - accuracy: 0.8900\n",
      "16/16 - 0s - loss: 0.5118 - accuracy: 0.8900\n",
      "16/16 - 0s - loss: 0.7596 - accuracy: 0.8640\n",
      "16/16 - 0s - loss: 0.6382 - accuracy: 0.8900\n",
      "16/16 - 0s - loss: 0.5137 - accuracy: 0.8920\n",
      "16/16 - 0s - loss: 0.5871 - accuracy: 0.8800\n",
      "16/16 - 0s - loss: 0.4999 - accuracy: 0.9040\n",
      "16/16 - 0s - loss: 0.5278 - accuracy: 0.9000\n",
      "16/16 - 0s - loss: 0.7960 - accuracy: 0.8520\n",
      "16/16 - 0s - loss: 0.5628 - accuracy: 0.9000\n",
      "16/16 - 0s - loss: 0.4237 - accuracy: 0.9080\n",
      "16/16 - 0s - loss: 0.5237 - accuracy: 0.9060\n",
      "16/16 - 0s - loss: 0.5441 - accuracy: 0.8960\n",
      "------------    45  번째 global epoch < Clustering > 로컬 클라이언트 학습 완료!,  Total Training time :  721.3468172550201 ---------------------------\n",
      "\n",
      "\n",
      "Layer :  0   클러스터 갯수 정해짐!  갯수 :  2 0\n"
     ]
    },
    {
     "name": "stderr",
     "output_type": "stream",
     "text": [
      "<ipython-input-10-91a1af1a5106>:147: VisibleDeprecationWarning: Creating an ndarray from ragged nested sequences (which is a list-or-tuple of lists-or-tuples-or ndarrays with different lengths or shapes) is deprecated. If you meant to do this, you must specify 'dtype=object' when creating the ndarray\n",
      "  globals()['G{}_c{}_w_layer{}'.format(global_epoch, num_c_w, layer_index)] = globals()['G{}_c{}_w_layer{}'.format(global_epoch, num_c_w, layer_index)] + np.array(globals()['L{}_layer{}_w_c'.format(i,layer_index)])   # 일반 클러스터링\n"
     ]
    },
    {
     "name": "stdout",
     "output_type": "stream",
     "text": [
      "Layer :  2   클러스터 갯수 정해짐!  갯수 :  3 1\n"
     ]
    },
    {
     "name": "stderr",
     "output_type": "stream",
     "text": [
      "<ipython-input-10-91a1af1a5106>:147: VisibleDeprecationWarning: Creating an ndarray from ragged nested sequences (which is a list-or-tuple of lists-or-tuples-or ndarrays with different lengths or shapes) is deprecated. If you meant to do this, you must specify 'dtype=object' when creating the ndarray\n",
      "  globals()['G{}_c{}_w_layer{}'.format(global_epoch, num_c_w, layer_index)] = globals()['G{}_c{}_w_layer{}'.format(global_epoch, num_c_w, layer_index)] + np.array(globals()['L{}_layer{}_w_c'.format(i,layer_index)])   # 일반 클러스터링\n"
     ]
    },
    {
     "name": "stdout",
     "output_type": "stream",
     "text": [
      "Layer :  4   클러스터 갯수 정해짐!  갯수 :  2 0\n"
     ]
    },
    {
     "name": "stderr",
     "output_type": "stream",
     "text": [
      "<ipython-input-10-91a1af1a5106>:147: VisibleDeprecationWarning: Creating an ndarray from ragged nested sequences (which is a list-or-tuple of lists-or-tuples-or ndarrays with different lengths or shapes) is deprecated. If you meant to do this, you must specify 'dtype=object' when creating the ndarray\n",
      "  globals()['G{}_c{}_w_layer{}'.format(global_epoch, num_c_w, layer_index)] = globals()['G{}_c{}_w_layer{}'.format(global_epoch, num_c_w, layer_index)] + np.array(globals()['L{}_layer{}_w_c'.format(i,layer_index)])   # 일반 클러스터링\n"
     ]
    },
    {
     "name": "stdout",
     "output_type": "stream",
     "text": [
      "Layer :  6   클러스터 갯수 정해짐!  갯수 :  2 0\n"
     ]
    },
    {
     "name": "stderr",
     "output_type": "stream",
     "text": [
      "<ipython-input-10-91a1af1a5106>:147: VisibleDeprecationWarning: Creating an ndarray from ragged nested sequences (which is a list-or-tuple of lists-or-tuples-or ndarrays with different lengths or shapes) is deprecated. If you meant to do this, you must specify 'dtype=object' when creating the ndarray\n",
      "  globals()['G{}_c{}_w_layer{}'.format(global_epoch, num_c_w, layer_index)] = globals()['G{}_c{}_w_layer{}'.format(global_epoch, num_c_w, layer_index)] + np.array(globals()['L{}_layer{}_w_c'.format(i,layer_index)])   # 일반 클러스터링\n"
     ]
    },
    {
     "name": "stdout",
     "output_type": "stream",
     "text": [
      "Layer :  7   클러스터 갯수 정해짐!  갯수 :  6 4\n",
      "\n",
      "\n",
      "====================================================== One Global Epoch =====================================================================\n",
      "\n",
      "\n",
      "46  번째 global_epoch 데이터 랜덤하게 준비!!\n"
     ]
    },
    {
     "name": "stderr",
     "output_type": "stream",
     "text": [
      "<ipython-input-10-91a1af1a5106>:147: VisibleDeprecationWarning: Creating an ndarray from ragged nested sequences (which is a list-or-tuple of lists-or-tuples-or ndarrays with different lengths or shapes) is deprecated. If you meant to do this, you must specify 'dtype=object' when creating the ndarray\n",
      "  globals()['G{}_c{}_w_layer{}'.format(global_epoch, num_c_w, layer_index)] = globals()['G{}_c{}_w_layer{}'.format(global_epoch, num_c_w, layer_index)] + np.array(globals()['L{}_layer{}_w_c'.format(i,layer_index)])   # 일반 클러스터링\n"
     ]
    },
    {
     "name": "stdout",
     "output_type": "stream",
     "text": [
      "46  번째 global_epoch 데이터 랜덤 준비완료!!\n",
      "\n",
      "\n",
      "46  번째 global epoch에서 로컬 클라이언트 들 학습시작!\n",
      "\n",
      "학습 중 ...\n",
      "\n",
      "16/16 - 0s - loss: 0.8447 - accuracy: 0.8580\n",
      "16/16 - 0s - loss: 0.5598 - accuracy: 0.8660\n",
      "16/16 - 0s - loss: 0.5887 - accuracy: 0.8880\n",
      "16/16 - 0s - loss: 0.8034 - accuracy: 0.8440\n",
      "16/16 - 0s - loss: 0.5084 - accuracy: 0.9060\n",
      "16/16 - 0s - loss: 0.6002 - accuracy: 0.8920\n",
      "16/16 - 0s - loss: 0.4476 - accuracy: 0.9100\n",
      "16/16 - 0s - loss: 0.6255 - accuracy: 0.8840\n",
      "16/16 - 0s - loss: 0.6910 - accuracy: 0.8720\n",
      "16/16 - 0s - loss: 0.5637 - accuracy: 0.9200\n",
      "16/16 - 0s - loss: 0.6426 - accuracy: 0.8820\n",
      "16/16 - 0s - loss: 0.5187 - accuracy: 0.9020\n",
      "16/16 - 0s - loss: 0.4187 - accuracy: 0.9260\n",
      "16/16 - 0s - loss: 0.5755 - accuracy: 0.8960\n",
      "16/16 - 0s - loss: 0.5896 - accuracy: 0.9020\n",
      "16/16 - 0s - loss: 0.5007 - accuracy: 0.9000\n",
      "16/16 - 0s - loss: 0.4945 - accuracy: 0.8940\n",
      "16/16 - 0s - loss: 0.5935 - accuracy: 0.9060\n",
      "16/16 - 0s - loss: 0.6148 - accuracy: 0.9000\n",
      "16/16 - 0s - loss: 0.3960 - accuracy: 0.9180\n",
      "------------    46  번째 global epoch < Clustering > 로컬 클라이언트 학습 완료!,  Total Training time :  750.7042014598846 ---------------------------\n",
      "\n",
      "\n",
      "Layer :  0   클러스터 갯수 정해짐!  갯수 :  2 0\n"
     ]
    },
    {
     "name": "stderr",
     "output_type": "stream",
     "text": [
      "<ipython-input-10-91a1af1a5106>:147: VisibleDeprecationWarning: Creating an ndarray from ragged nested sequences (which is a list-or-tuple of lists-or-tuples-or ndarrays with different lengths or shapes) is deprecated. If you meant to do this, you must specify 'dtype=object' when creating the ndarray\n",
      "  globals()['G{}_c{}_w_layer{}'.format(global_epoch, num_c_w, layer_index)] = globals()['G{}_c{}_w_layer{}'.format(global_epoch, num_c_w, layer_index)] + np.array(globals()['L{}_layer{}_w_c'.format(i,layer_index)])   # 일반 클러스터링\n"
     ]
    },
    {
     "name": "stdout",
     "output_type": "stream",
     "text": [
      "Layer :  2   클러스터 갯수 정해짐!  갯수 :  3 1\n"
     ]
    },
    {
     "name": "stderr",
     "output_type": "stream",
     "text": [
      "<ipython-input-10-91a1af1a5106>:147: VisibleDeprecationWarning: Creating an ndarray from ragged nested sequences (which is a list-or-tuple of lists-or-tuples-or ndarrays with different lengths or shapes) is deprecated. If you meant to do this, you must specify 'dtype=object' when creating the ndarray\n",
      "  globals()['G{}_c{}_w_layer{}'.format(global_epoch, num_c_w, layer_index)] = globals()['G{}_c{}_w_layer{}'.format(global_epoch, num_c_w, layer_index)] + np.array(globals()['L{}_layer{}_w_c'.format(i,layer_index)])   # 일반 클러스터링\n"
     ]
    },
    {
     "name": "stdout",
     "output_type": "stream",
     "text": [
      "Layer :  4   클러스터 갯수 정해짐!  갯수 :  2 0\n"
     ]
    },
    {
     "name": "stderr",
     "output_type": "stream",
     "text": [
      "<ipython-input-10-91a1af1a5106>:147: VisibleDeprecationWarning: Creating an ndarray from ragged nested sequences (which is a list-or-tuple of lists-or-tuples-or ndarrays with different lengths or shapes) is deprecated. If you meant to do this, you must specify 'dtype=object' when creating the ndarray\n",
      "  globals()['G{}_c{}_w_layer{}'.format(global_epoch, num_c_w, layer_index)] = globals()['G{}_c{}_w_layer{}'.format(global_epoch, num_c_w, layer_index)] + np.array(globals()['L{}_layer{}_w_c'.format(i,layer_index)])   # 일반 클러스터링\n"
     ]
    },
    {
     "name": "stdout",
     "output_type": "stream",
     "text": [
      "Layer :  6   클러스터 갯수 정해짐!  갯수 :  2 0\n"
     ]
    },
    {
     "name": "stderr",
     "output_type": "stream",
     "text": [
      "<ipython-input-10-91a1af1a5106>:147: VisibleDeprecationWarning: Creating an ndarray from ragged nested sequences (which is a list-or-tuple of lists-or-tuples-or ndarrays with different lengths or shapes) is deprecated. If you meant to do this, you must specify 'dtype=object' when creating the ndarray\n",
      "  globals()['G{}_c{}_w_layer{}'.format(global_epoch, num_c_w, layer_index)] = globals()['G{}_c{}_w_layer{}'.format(global_epoch, num_c_w, layer_index)] + np.array(globals()['L{}_layer{}_w_c'.format(i,layer_index)])   # 일반 클러스터링\n"
     ]
    },
    {
     "name": "stdout",
     "output_type": "stream",
     "text": [
      "Layer :  7   클러스터 갯수 정해짐!  갯수 :  6 4\n",
      "\n",
      "\n",
      "====================================================== One Global Epoch =====================================================================\n",
      "\n",
      "\n",
      "47  번째 global_epoch 데이터 랜덤하게 준비!!\n"
     ]
    },
    {
     "name": "stderr",
     "output_type": "stream",
     "text": [
      "<ipython-input-10-91a1af1a5106>:147: VisibleDeprecationWarning: Creating an ndarray from ragged nested sequences (which is a list-or-tuple of lists-or-tuples-or ndarrays with different lengths or shapes) is deprecated. If you meant to do this, you must specify 'dtype=object' when creating the ndarray\n",
      "  globals()['G{}_c{}_w_layer{}'.format(global_epoch, num_c_w, layer_index)] = globals()['G{}_c{}_w_layer{}'.format(global_epoch, num_c_w, layer_index)] + np.array(globals()['L{}_layer{}_w_c'.format(i,layer_index)])   # 일반 클러스터링\n"
     ]
    },
    {
     "name": "stdout",
     "output_type": "stream",
     "text": [
      "47  번째 global_epoch 데이터 랜덤 준비완료!!\n",
      "\n",
      "\n",
      "47  번째 global epoch에서 로컬 클라이언트 들 학습시작!\n",
      "\n",
      "학습 중 ...\n",
      "\n",
      "16/16 - 0s - loss: 0.6235 - accuracy: 0.8840\n",
      "16/16 - 0s - loss: 0.5300 - accuracy: 0.9000\n",
      "16/16 - 0s - loss: 0.4631 - accuracy: 0.9060\n",
      "16/16 - 0s - loss: 0.6205 - accuracy: 0.8920\n",
      "16/16 - 0s - loss: 0.7644 - accuracy: 0.8580\n",
      "16/16 - 0s - loss: 0.8285 - accuracy: 0.8560\n",
      "16/16 - 0s - loss: 0.5558 - accuracy: 0.9160\n",
      "16/16 - 0s - loss: 0.7996 - accuracy: 0.8700\n",
      "16/16 - 0s - loss: 0.6081 - accuracy: 0.8920\n",
      "16/16 - 0s - loss: 0.7132 - accuracy: 0.9060\n",
      "16/16 - 0s - loss: 0.6581 - accuracy: 0.8800\n",
      "16/16 - 0s - loss: 0.5617 - accuracy: 0.8960\n",
      "16/16 - 0s - loss: 0.5692 - accuracy: 0.8980\n",
      "16/16 - 0s - loss: 0.6001 - accuracy: 0.8960\n",
      "16/16 - 0s - loss: 0.7350 - accuracy: 0.8700\n",
      "16/16 - 0s - loss: 0.6012 - accuracy: 0.8660\n",
      "16/16 - 0s - loss: 0.5997 - accuracy: 0.8960\n",
      "16/16 - 0s - loss: 0.6942 - accuracy: 0.8900\n",
      "16/16 - 0s - loss: 0.5211 - accuracy: 0.8780\n",
      "16/16 - 0s - loss: 0.5354 - accuracy: 0.8880\n",
      "------------    47  번째 global epoch < Clustering > 로컬 클라이언트 학습 완료!,  Total Training time :  770.1585965156555 ---------------------------\n",
      "\n",
      "\n",
      "Layer :  0   클러스터 갯수 정해짐!  갯수 :  2 0\n"
     ]
    },
    {
     "name": "stderr",
     "output_type": "stream",
     "text": [
      "<ipython-input-10-91a1af1a5106>:147: VisibleDeprecationWarning: Creating an ndarray from ragged nested sequences (which is a list-or-tuple of lists-or-tuples-or ndarrays with different lengths or shapes) is deprecated. If you meant to do this, you must specify 'dtype=object' when creating the ndarray\n",
      "  globals()['G{}_c{}_w_layer{}'.format(global_epoch, num_c_w, layer_index)] = globals()['G{}_c{}_w_layer{}'.format(global_epoch, num_c_w, layer_index)] + np.array(globals()['L{}_layer{}_w_c'.format(i,layer_index)])   # 일반 클러스터링\n"
     ]
    },
    {
     "name": "stdout",
     "output_type": "stream",
     "text": [
      "Layer :  2   클러스터 갯수 정해짐!  갯수 :  3 1\n"
     ]
    },
    {
     "name": "stderr",
     "output_type": "stream",
     "text": [
      "<ipython-input-10-91a1af1a5106>:147: VisibleDeprecationWarning: Creating an ndarray from ragged nested sequences (which is a list-or-tuple of lists-or-tuples-or ndarrays with different lengths or shapes) is deprecated. If you meant to do this, you must specify 'dtype=object' when creating the ndarray\n",
      "  globals()['G{}_c{}_w_layer{}'.format(global_epoch, num_c_w, layer_index)] = globals()['G{}_c{}_w_layer{}'.format(global_epoch, num_c_w, layer_index)] + np.array(globals()['L{}_layer{}_w_c'.format(i,layer_index)])   # 일반 클러스터링\n"
     ]
    },
    {
     "name": "stdout",
     "output_type": "stream",
     "text": [
      "Layer :  4   클러스터 갯수 정해짐!  갯수 :  2 0\n"
     ]
    },
    {
     "name": "stderr",
     "output_type": "stream",
     "text": [
      "<ipython-input-10-91a1af1a5106>:147: VisibleDeprecationWarning: Creating an ndarray from ragged nested sequences (which is a list-or-tuple of lists-or-tuples-or ndarrays with different lengths or shapes) is deprecated. If you meant to do this, you must specify 'dtype=object' when creating the ndarray\n",
      "  globals()['G{}_c{}_w_layer{}'.format(global_epoch, num_c_w, layer_index)] = globals()['G{}_c{}_w_layer{}'.format(global_epoch, num_c_w, layer_index)] + np.array(globals()['L{}_layer{}_w_c'.format(i,layer_index)])   # 일반 클러스터링\n"
     ]
    },
    {
     "name": "stdout",
     "output_type": "stream",
     "text": [
      "Layer :  6   클러스터 갯수 정해짐!  갯수 :  2 0\n"
     ]
    },
    {
     "name": "stderr",
     "output_type": "stream",
     "text": [
      "<ipython-input-10-91a1af1a5106>:147: VisibleDeprecationWarning: Creating an ndarray from ragged nested sequences (which is a list-or-tuple of lists-or-tuples-or ndarrays with different lengths or shapes) is deprecated. If you meant to do this, you must specify 'dtype=object' when creating the ndarray\n",
      "  globals()['G{}_c{}_w_layer{}'.format(global_epoch, num_c_w, layer_index)] = globals()['G{}_c{}_w_layer{}'.format(global_epoch, num_c_w, layer_index)] + np.array(globals()['L{}_layer{}_w_c'.format(i,layer_index)])   # 일반 클러스터링\n"
     ]
    },
    {
     "name": "stdout",
     "output_type": "stream",
     "text": [
      "Layer :  7   클러스터 갯수 정해짐!  갯수 :  6 4\n",
      "\n",
      "\n",
      "====================================================== One Global Epoch =====================================================================\n",
      "\n",
      "\n",
      "48  번째 global_epoch 데이터 랜덤하게 준비!!\n"
     ]
    },
    {
     "name": "stderr",
     "output_type": "stream",
     "text": [
      "<ipython-input-10-91a1af1a5106>:147: VisibleDeprecationWarning: Creating an ndarray from ragged nested sequences (which is a list-or-tuple of lists-or-tuples-or ndarrays with different lengths or shapes) is deprecated. If you meant to do this, you must specify 'dtype=object' when creating the ndarray\n",
      "  globals()['G{}_c{}_w_layer{}'.format(global_epoch, num_c_w, layer_index)] = globals()['G{}_c{}_w_layer{}'.format(global_epoch, num_c_w, layer_index)] + np.array(globals()['L{}_layer{}_w_c'.format(i,layer_index)])   # 일반 클러스터링\n"
     ]
    },
    {
     "name": "stdout",
     "output_type": "stream",
     "text": [
      "48  번째 global_epoch 데이터 랜덤 준비완료!!\n",
      "\n",
      "\n",
      "48  번째 global epoch에서 로컬 클라이언트 들 학습시작!\n",
      "\n",
      "학습 중 ...\n",
      "\n",
      "16/16 - 0s - loss: 0.4943 - accuracy: 0.9100\n",
      "16/16 - 0s - loss: 0.6097 - accuracy: 0.8820\n",
      "16/16 - 0s - loss: 0.5799 - accuracy: 0.9020\n",
      "16/16 - 0s - loss: 0.4370 - accuracy: 0.9080\n",
      "16/16 - 0s - loss: 0.5808 - accuracy: 0.8800\n",
      "16/16 - 0s - loss: 0.4848 - accuracy: 0.9120\n",
      "16/16 - 0s - loss: 0.5156 - accuracy: 0.8980\n",
      "16/16 - 0s - loss: 0.7059 - accuracy: 0.8840\n",
      "16/16 - 0s - loss: 0.5725 - accuracy: 0.8980\n",
      "16/16 - 0s - loss: 0.5843 - accuracy: 0.8840\n",
      "16/16 - 0s - loss: 0.5490 - accuracy: 0.9040\n",
      "16/16 - 0s - loss: 0.6610 - accuracy: 0.8820\n",
      "16/16 - 0s - loss: 0.5725 - accuracy: 0.8860\n",
      "16/16 - 0s - loss: 0.5263 - accuracy: 0.8940\n",
      "16/16 - 0s - loss: 0.7230 - accuracy: 0.8800\n",
      "16/16 - 0s - loss: 0.5349 - accuracy: 0.9120\n",
      "16/16 - 0s - loss: 0.6762 - accuracy: 0.8740\n",
      "16/16 - 0s - loss: 0.4554 - accuracy: 0.9160\n",
      "16/16 - 0s - loss: 0.6066 - accuracy: 0.8920\n",
      "16/16 - 0s - loss: 0.5697 - accuracy: 0.9020\n",
      "------------    48  번째 global epoch < Clustering > 로컬 클라이언트 학습 완료!,  Total Training time :  787.6763873100281 ---------------------------\n",
      "\n",
      "\n",
      "Layer :  0   클러스터 갯수 정해짐!  갯수 :  2 0\n"
     ]
    },
    {
     "name": "stderr",
     "output_type": "stream",
     "text": [
      "<ipython-input-10-91a1af1a5106>:147: VisibleDeprecationWarning: Creating an ndarray from ragged nested sequences (which is a list-or-tuple of lists-or-tuples-or ndarrays with different lengths or shapes) is deprecated. If you meant to do this, you must specify 'dtype=object' when creating the ndarray\n",
      "  globals()['G{}_c{}_w_layer{}'.format(global_epoch, num_c_w, layer_index)] = globals()['G{}_c{}_w_layer{}'.format(global_epoch, num_c_w, layer_index)] + np.array(globals()['L{}_layer{}_w_c'.format(i,layer_index)])   # 일반 클러스터링\n"
     ]
    },
    {
     "name": "stdout",
     "output_type": "stream",
     "text": [
      "Layer :  2   클러스터 갯수 정해짐!  갯수 :  3 1\n"
     ]
    },
    {
     "name": "stderr",
     "output_type": "stream",
     "text": [
      "<ipython-input-10-91a1af1a5106>:147: VisibleDeprecationWarning: Creating an ndarray from ragged nested sequences (which is a list-or-tuple of lists-or-tuples-or ndarrays with different lengths or shapes) is deprecated. If you meant to do this, you must specify 'dtype=object' when creating the ndarray\n",
      "  globals()['G{}_c{}_w_layer{}'.format(global_epoch, num_c_w, layer_index)] = globals()['G{}_c{}_w_layer{}'.format(global_epoch, num_c_w, layer_index)] + np.array(globals()['L{}_layer{}_w_c'.format(i,layer_index)])   # 일반 클러스터링\n"
     ]
    },
    {
     "name": "stdout",
     "output_type": "stream",
     "text": [
      "Layer :  4   클러스터 갯수 정해짐!  갯수 :  2 0\n"
     ]
    },
    {
     "name": "stderr",
     "output_type": "stream",
     "text": [
      "<ipython-input-10-91a1af1a5106>:147: VisibleDeprecationWarning: Creating an ndarray from ragged nested sequences (which is a list-or-tuple of lists-or-tuples-or ndarrays with different lengths or shapes) is deprecated. If you meant to do this, you must specify 'dtype=object' when creating the ndarray\n",
      "  globals()['G{}_c{}_w_layer{}'.format(global_epoch, num_c_w, layer_index)] = globals()['G{}_c{}_w_layer{}'.format(global_epoch, num_c_w, layer_index)] + np.array(globals()['L{}_layer{}_w_c'.format(i,layer_index)])   # 일반 클러스터링\n"
     ]
    },
    {
     "name": "stdout",
     "output_type": "stream",
     "text": [
      "Layer :  6   클러스터 갯수 정해짐!  갯수 :  2 0\n"
     ]
    },
    {
     "name": "stderr",
     "output_type": "stream",
     "text": [
      "<ipython-input-10-91a1af1a5106>:147: VisibleDeprecationWarning: Creating an ndarray from ragged nested sequences (which is a list-or-tuple of lists-or-tuples-or ndarrays with different lengths or shapes) is deprecated. If you meant to do this, you must specify 'dtype=object' when creating the ndarray\n",
      "  globals()['G{}_c{}_w_layer{}'.format(global_epoch, num_c_w, layer_index)] = globals()['G{}_c{}_w_layer{}'.format(global_epoch, num_c_w, layer_index)] + np.array(globals()['L{}_layer{}_w_c'.format(i,layer_index)])   # 일반 클러스터링\n"
     ]
    },
    {
     "name": "stdout",
     "output_type": "stream",
     "text": [
      "Layer :  7   클러스터 갯수 정해짐!  갯수 :  6 4\n",
      "\n",
      "\n",
      "====================================================== One Global Epoch =====================================================================\n",
      "\n",
      "\n",
      "49  번째 global_epoch 데이터 랜덤하게 준비!!\n"
     ]
    },
    {
     "name": "stderr",
     "output_type": "stream",
     "text": [
      "<ipython-input-10-91a1af1a5106>:147: VisibleDeprecationWarning: Creating an ndarray from ragged nested sequences (which is a list-or-tuple of lists-or-tuples-or ndarrays with different lengths or shapes) is deprecated. If you meant to do this, you must specify 'dtype=object' when creating the ndarray\n",
      "  globals()['G{}_c{}_w_layer{}'.format(global_epoch, num_c_w, layer_index)] = globals()['G{}_c{}_w_layer{}'.format(global_epoch, num_c_w, layer_index)] + np.array(globals()['L{}_layer{}_w_c'.format(i,layer_index)])   # 일반 클러스터링\n"
     ]
    },
    {
     "name": "stdout",
     "output_type": "stream",
     "text": [
      "49  번째 global_epoch 데이터 랜덤 준비완료!!\n",
      "\n",
      "\n",
      "49  번째 global epoch에서 로컬 클라이언트 들 학습시작!\n",
      "\n",
      "학습 중 ...\n",
      "\n",
      "16/16 - 0s - loss: 0.7498 - accuracy: 0.8380\n",
      "16/16 - 0s - loss: 0.7002 - accuracy: 0.8740\n",
      "16/16 - 0s - loss: 0.7140 - accuracy: 0.8760\n",
      "16/16 - 0s - loss: 0.7916 - accuracy: 0.8940\n",
      "16/16 - 0s - loss: 0.4748 - accuracy: 0.8980\n",
      "16/16 - 0s - loss: 0.6279 - accuracy: 0.8800\n",
      "16/16 - 0s - loss: 0.6624 - accuracy: 0.8780\n",
      "16/16 - 0s - loss: 0.6753 - accuracy: 0.8640\n",
      "16/16 - 0s - loss: 0.4695 - accuracy: 0.8860\n",
      "16/16 - 0s - loss: 0.8313 - accuracy: 0.8740\n",
      "16/16 - 0s - loss: 0.5236 - accuracy: 0.8920\n",
      "16/16 - 0s - loss: 0.5042 - accuracy: 0.9040\n",
      "16/16 - 0s - loss: 0.5195 - accuracy: 0.9040\n",
      "16/16 - 0s - loss: 0.5118 - accuracy: 0.9020\n",
      "16/16 - 0s - loss: 0.6097 - accuracy: 0.8840\n",
      "16/16 - 0s - loss: 0.7277 - accuracy: 0.8820\n",
      "16/16 - 0s - loss: 0.5431 - accuracy: 0.8860\n",
      "16/16 - 0s - loss: 0.6433 - accuracy: 0.8840\n",
      "16/16 - 0s - loss: 0.4367 - accuracy: 0.9120\n",
      "16/16 - 0s - loss: 0.4470 - accuracy: 0.9120\n",
      "------------    49  번째 global epoch < Clustering > 로컬 클라이언트 학습 완료!,  Total Training time :  816.1003801822662 ---------------------------\n",
      "\n",
      "\n",
      "Layer :  0   클러스터 갯수 정해짐!  갯수 :  2 0\n"
     ]
    },
    {
     "name": "stderr",
     "output_type": "stream",
     "text": [
      "<ipython-input-10-91a1af1a5106>:147: VisibleDeprecationWarning: Creating an ndarray from ragged nested sequences (which is a list-or-tuple of lists-or-tuples-or ndarrays with different lengths or shapes) is deprecated. If you meant to do this, you must specify 'dtype=object' when creating the ndarray\n",
      "  globals()['G{}_c{}_w_layer{}'.format(global_epoch, num_c_w, layer_index)] = globals()['G{}_c{}_w_layer{}'.format(global_epoch, num_c_w, layer_index)] + np.array(globals()['L{}_layer{}_w_c'.format(i,layer_index)])   # 일반 클러스터링\n"
     ]
    },
    {
     "name": "stdout",
     "output_type": "stream",
     "text": [
      "Layer :  2   클러스터 갯수 정해짐!  갯수 :  3 1\n"
     ]
    },
    {
     "name": "stderr",
     "output_type": "stream",
     "text": [
      "<ipython-input-10-91a1af1a5106>:147: VisibleDeprecationWarning: Creating an ndarray from ragged nested sequences (which is a list-or-tuple of lists-or-tuples-or ndarrays with different lengths or shapes) is deprecated. If you meant to do this, you must specify 'dtype=object' when creating the ndarray\n",
      "  globals()['G{}_c{}_w_layer{}'.format(global_epoch, num_c_w, layer_index)] = globals()['G{}_c{}_w_layer{}'.format(global_epoch, num_c_w, layer_index)] + np.array(globals()['L{}_layer{}_w_c'.format(i,layer_index)])   # 일반 클러스터링\n"
     ]
    },
    {
     "name": "stdout",
     "output_type": "stream",
     "text": [
      "Layer :  4   클러스터 갯수 정해짐!  갯수 :  2 0\n"
     ]
    },
    {
     "name": "stderr",
     "output_type": "stream",
     "text": [
      "<ipython-input-10-91a1af1a5106>:147: VisibleDeprecationWarning: Creating an ndarray from ragged nested sequences (which is a list-or-tuple of lists-or-tuples-or ndarrays with different lengths or shapes) is deprecated. If you meant to do this, you must specify 'dtype=object' when creating the ndarray\n",
      "  globals()['G{}_c{}_w_layer{}'.format(global_epoch, num_c_w, layer_index)] = globals()['G{}_c{}_w_layer{}'.format(global_epoch, num_c_w, layer_index)] + np.array(globals()['L{}_layer{}_w_c'.format(i,layer_index)])   # 일반 클러스터링\n"
     ]
    },
    {
     "name": "stdout",
     "output_type": "stream",
     "text": [
      "Layer :  6   클러스터 갯수 정해짐!  갯수 :  2 0\n"
     ]
    },
    {
     "name": "stderr",
     "output_type": "stream",
     "text": [
      "<ipython-input-10-91a1af1a5106>:147: VisibleDeprecationWarning: Creating an ndarray from ragged nested sequences (which is a list-or-tuple of lists-or-tuples-or ndarrays with different lengths or shapes) is deprecated. If you meant to do this, you must specify 'dtype=object' when creating the ndarray\n",
      "  globals()['G{}_c{}_w_layer{}'.format(global_epoch, num_c_w, layer_index)] = globals()['G{}_c{}_w_layer{}'.format(global_epoch, num_c_w, layer_index)] + np.array(globals()['L{}_layer{}_w_c'.format(i,layer_index)])   # 일반 클러스터링\n"
     ]
    },
    {
     "name": "stdout",
     "output_type": "stream",
     "text": [
      "Layer :  7   클러스터 갯수 정해짐!  갯수 :  6 4\n",
      "\n",
      "\n",
      "====================================================== One Global Epoch =====================================================================\n",
      "\n",
      "\n",
      "50  번째 global_epoch 데이터 랜덤하게 준비!!\n"
     ]
    },
    {
     "name": "stderr",
     "output_type": "stream",
     "text": [
      "<ipython-input-10-91a1af1a5106>:147: VisibleDeprecationWarning: Creating an ndarray from ragged nested sequences (which is a list-or-tuple of lists-or-tuples-or ndarrays with different lengths or shapes) is deprecated. If you meant to do this, you must specify 'dtype=object' when creating the ndarray\n",
      "  globals()['G{}_c{}_w_layer{}'.format(global_epoch, num_c_w, layer_index)] = globals()['G{}_c{}_w_layer{}'.format(global_epoch, num_c_w, layer_index)] + np.array(globals()['L{}_layer{}_w_c'.format(i,layer_index)])   # 일반 클러스터링\n"
     ]
    },
    {
     "name": "stdout",
     "output_type": "stream",
     "text": [
      "50  번째 global_epoch 데이터 랜덤 준비완료!!\n",
      "\n",
      "\n",
      "50  번째 global epoch에서 로컬 클라이언트 들 학습시작!\n",
      "\n",
      "학습 중 ...\n",
      "\n",
      "16/16 - 0s - loss: 0.6785 - accuracy: 0.8860\n",
      "16/16 - 0s - loss: 0.3854 - accuracy: 0.9180\n",
      "16/16 - 0s - loss: 0.5362 - accuracy: 0.9060\n",
      "16/16 - 0s - loss: 0.5378 - accuracy: 0.8860\n",
      "16/16 - 0s - loss: 0.5266 - accuracy: 0.9060\n",
      "16/16 - 0s - loss: 0.7611 - accuracy: 0.8720\n",
      "16/16 - 0s - loss: 0.4537 - accuracy: 0.9040\n",
      "16/16 - 0s - loss: 0.7827 - accuracy: 0.8760\n",
      "16/16 - 0s - loss: 0.6220 - accuracy: 0.8880\n",
      "16/16 - 0s - loss: 0.5985 - accuracy: 0.8960\n",
      "16/16 - 0s - loss: 0.6274 - accuracy: 0.8980\n",
      "16/16 - 0s - loss: 0.5641 - accuracy: 0.9040\n",
      "16/16 - 0s - loss: 0.5940 - accuracy: 0.8980\n",
      "16/16 - 0s - loss: 0.5286 - accuracy: 0.9260\n",
      "16/16 - 0s - loss: 0.5977 - accuracy: 0.8960\n",
      "16/16 - 0s - loss: 0.6035 - accuracy: 0.8860\n",
      "16/16 - 0s - loss: 0.4378 - accuracy: 0.9140\n",
      "16/16 - 0s - loss: 0.5875 - accuracy: 0.8820\n",
      "16/16 - 0s - loss: 0.4728 - accuracy: 0.9100\n",
      "16/16 - 0s - loss: 0.6939 - accuracy: 0.8620\n",
      "------------    50  번째 global epoch < Clustering > 로컬 클라이언트 학습 완료!,  Total Training time :  838.1148014068604 ---------------------------\n",
      "\n",
      "\n",
      "Layer :  0   클러스터 갯수 정해짐!  갯수 :  2 0\n"
     ]
    },
    {
     "name": "stderr",
     "output_type": "stream",
     "text": [
      "<ipython-input-10-91a1af1a5106>:147: VisibleDeprecationWarning: Creating an ndarray from ragged nested sequences (which is a list-or-tuple of lists-or-tuples-or ndarrays with different lengths or shapes) is deprecated. If you meant to do this, you must specify 'dtype=object' when creating the ndarray\n",
      "  globals()['G{}_c{}_w_layer{}'.format(global_epoch, num_c_w, layer_index)] = globals()['G{}_c{}_w_layer{}'.format(global_epoch, num_c_w, layer_index)] + np.array(globals()['L{}_layer{}_w_c'.format(i,layer_index)])   # 일반 클러스터링\n"
     ]
    },
    {
     "name": "stdout",
     "output_type": "stream",
     "text": [
      "Layer :  2   클러스터 갯수 정해짐!  갯수 :  3 1\n"
     ]
    },
    {
     "name": "stderr",
     "output_type": "stream",
     "text": [
      "<ipython-input-10-91a1af1a5106>:147: VisibleDeprecationWarning: Creating an ndarray from ragged nested sequences (which is a list-or-tuple of lists-or-tuples-or ndarrays with different lengths or shapes) is deprecated. If you meant to do this, you must specify 'dtype=object' when creating the ndarray\n",
      "  globals()['G{}_c{}_w_layer{}'.format(global_epoch, num_c_w, layer_index)] = globals()['G{}_c{}_w_layer{}'.format(global_epoch, num_c_w, layer_index)] + np.array(globals()['L{}_layer{}_w_c'.format(i,layer_index)])   # 일반 클러스터링\n"
     ]
    },
    {
     "name": "stdout",
     "output_type": "stream",
     "text": [
      "Layer :  4   클러스터 갯수 정해짐!  갯수 :  2 0\n"
     ]
    },
    {
     "name": "stderr",
     "output_type": "stream",
     "text": [
      "<ipython-input-10-91a1af1a5106>:147: VisibleDeprecationWarning: Creating an ndarray from ragged nested sequences (which is a list-or-tuple of lists-or-tuples-or ndarrays with different lengths or shapes) is deprecated. If you meant to do this, you must specify 'dtype=object' when creating the ndarray\n",
      "  globals()['G{}_c{}_w_layer{}'.format(global_epoch, num_c_w, layer_index)] = globals()['G{}_c{}_w_layer{}'.format(global_epoch, num_c_w, layer_index)] + np.array(globals()['L{}_layer{}_w_c'.format(i,layer_index)])   # 일반 클러스터링\n"
     ]
    },
    {
     "name": "stdout",
     "output_type": "stream",
     "text": [
      "Layer :  6   클러스터 갯수 정해짐!  갯수 :  2 0\n"
     ]
    },
    {
     "name": "stderr",
     "output_type": "stream",
     "text": [
      "<ipython-input-10-91a1af1a5106>:147: VisibleDeprecationWarning: Creating an ndarray from ragged nested sequences (which is a list-or-tuple of lists-or-tuples-or ndarrays with different lengths or shapes) is deprecated. If you meant to do this, you must specify 'dtype=object' when creating the ndarray\n",
      "  globals()['G{}_c{}_w_layer{}'.format(global_epoch, num_c_w, layer_index)] = globals()['G{}_c{}_w_layer{}'.format(global_epoch, num_c_w, layer_index)] + np.array(globals()['L{}_layer{}_w_c'.format(i,layer_index)])   # 일반 클러스터링\n"
     ]
    },
    {
     "name": "stdout",
     "output_type": "stream",
     "text": [
      "Layer :  7   클러스터 갯수 정해짐!  갯수 :  6 4\n",
      "\n",
      "\n",
      "====================================================== One Global Epoch =====================================================================\n",
      "\n",
      "\n"
     ]
    },
    {
     "name": "stderr",
     "output_type": "stream",
     "text": [
      "<ipython-input-10-91a1af1a5106>:147: VisibleDeprecationWarning: Creating an ndarray from ragged nested sequences (which is a list-or-tuple of lists-or-tuples-or ndarrays with different lengths or shapes) is deprecated. If you meant to do this, you must specify 'dtype=object' when creating the ndarray\n",
      "  globals()['G{}_c{}_w_layer{}'.format(global_epoch, num_c_w, layer_index)] = globals()['G{}_c{}_w_layer{}'.format(global_epoch, num_c_w, layer_index)] + np.array(globals()['L{}_layer{}_w_c'.format(i,layer_index)])   # 일반 클러스터링\n"
     ]
    }
   ],
   "source": [
    "G_epoch = 51\n",
    "\n",
    "for global_epoch in range(1, G_epoch):\n",
    "\n",
    "    for i in range(1, local):\n",
    "        if global_epoch == 1:\n",
    "            globals()['G{}_c_L{}_model'.format(global_epoch, i)] = globals()['FedAvg_L{}_iter{}_model'.format(i,global_epoch-1)]   #모델 넣어줌 (우리는 구조만 필요한 것)\n",
    "        else:\n",
    "            globals()['G{}_c_L{}_model'.format(global_epoch, i)] = globals()['G{}_c_L{}_model'.format(global_epoch-1, i)]   #모델 넣어줌 (우리는 구조만 필요한 것)\n",
    "\n",
    "        for layer_index in num_layers_list: \n",
    "            num_c = globals()['G{}_num_clusters_in_layer{}_w'.format(global_epoch-1, layer_index)]   \n",
    "    \n",
    "            for ccc in range(num_c):\n",
    "                if globals()['w_layer{}_label'.format(layer_index)][i-1] == ccc:    #현재 로컬 레이어의 군집 결과 == ccc\n",
    "                    globals()['G{}_c_L{}_model'.format(global_epoch, i)].layers[layer_index].set_weights(globals()['G{}_c{}_w_layer{}'.format(global_epoch-1, ccc, layer_index) ])  # 클러스터용 로컬 모델 선언\n",
    "                    \n",
    "                  \n",
    "        \n",
    "\n",
    "    #----------------------------------------------------------------데이터 새로 준비----------------------------------------------------------------------------------\n",
    "    print(global_epoch, \" 번째 global_epoch 데이터 랜덤하게 준비!!\")\n",
    "\n",
    "\n",
    "    for i in range(1,local):\n",
    "        globals()['L{}_x_train'.format(i)], globals()['L{}_x_test'.format(i)] = [], []\n",
    "        globals()['L{}_y_train'.format(i)], globals()['L{}_y_test'.format(i)] = [], []  \n",
    "        \n",
    "    x_train_range = list(np.arange(0,len(x_train)))  #0~59,999\n",
    "    x_test_range = list(np.arange(0,len(x_test)))  #0~9,999\n",
    "\n",
    "    for n in range(1,local): #Data_x_train_range, 잘 작동함 => 확인 완료\n",
    "        tmp, tmp2 = [], []\n",
    "        tmp = random.sample(list(x_train_range), int(num_train/(local-1)))  #1/10개 만큼 인덱스 랜덤 비복원 추출 => 랜덤으로 해야함\n",
    "        tmp2 = random.sample(list(x_test_range), int(num_test/(local-1)))\n",
    "\n",
    "        for i in range(len(tmp)):\n",
    "            globals()['L{}_x_train'.format(n)].append(x_train[tmp[i]])  #n번째 Cluster에 분할한 실제 x_train 데이터 저장\n",
    "            globals()['L{}_y_train'.format(n)].append(y_train[tmp[i]]) \n",
    "            #x_train_range.remove(tmp[i])  #랜덤 하게 뽑힌 원소 6000개 추출했으니 안에서 삭제 = 복원추출\n",
    "\n",
    "        for j in range(len(tmp2)):\n",
    "            globals()['L{}_x_test'.format(n)].append(x_test[tmp2[j]])\n",
    "            globals()['L{}_y_test'.format(n)].append(y_test[tmp2[j]])\n",
    "            #x_test_range.remove(tmp2[j])  #랜덤 하게 뽑힌 원소 6000개 추출했으니 안에서 삭제\n",
    "\n",
    "    for i in range(1,local):\n",
    "        globals()['L{}_x_train'.format(i)] = np.array(globals()['L{}_x_train'.format(i)])\n",
    "        globals()['L{}_x_test'.format(i)] = np.array(globals()['L{}_x_test'.format(i)])\n",
    "        globals()['L{}_y_train'.format(i)] = np.array(globals()['L{}_y_train'.format(i)])\n",
    "        globals()['L{}_y_test'.format(i)] = np.array(globals()['L{}_y_test'.format(i)])\n",
    "\n",
    "\n",
    "    print(global_epoch, \" 번째 global_epoch 데이터 랜덤 준비완료!!\\n\\n\")\n",
    "\n",
    "    print(global_epoch, \" 번째 global epoch에서 로컬 클라이언트 들 학습시작!\\n\\n학습 중 ...\\n\")\n",
    "    \n",
    "\n",
    "    #-------------------------------------------------------------------여기가 핵심, 알고리즘 3개 따로 학습시켜야 함--------------------------------------------------------------------\n",
    "\n",
    "\n",
    "    #======================================================================== Cluster  ========================================================================  같이 했음. 왜냐면 cluster 하고 나서 activation 을 씌우는 거라 cluster까지는 같음\n",
    "\n",
    "    cluster_acc, cluster_loss, cluster_act_acc, cluster_act_loss, now = [], [], [], [], time.time()\n",
    "    \n",
    "    for i in range(1, local):\n",
    "        globals()['G{}_c_L{}_model'.format(global_epoch, i)].compile(loss=\"categorical_crossentropy\", optimizer=\"adam\", metrics=[\"accuracy\"])  #Cluster => 알맞는 클러스터에 넣기\n",
    "        globals()['G{}_c_L{}_model'.format(global_epoch, i)].fit(globals()['L{}_x_train'.format(i)], globals()['L{}_y_train'.format(i)], batch_size=batch_size, epochs=epochs, validation_split=0.1, verbose=0)\n",
    "        loss, acc = globals()['G{}_c_L{}_model'.format(global_epoch, i)].evaluate(globals()['L{}_x_test'.format(i)], globals()['L{}_y_test'.format(i)], verbose=2)\n",
    "        \n",
    "        cluster_acc.append(acc)  #acc 넣기\n",
    "        cluster_loss.append(loss)  #loss 넣기\n",
    "\n",
    "    print(\"------------   \", global_epoch, \" 번째 global epoch < Clustering > 로컬 클라이언트 학습 완료!,  Total Training time : \", time.time()-now,\"---------------------------\\n\\n\")\n",
    "\n",
    "\n",
    "# 로컬 모델들 학습 완료, 로컬모델에서 weight, bias 추출 -------------------------------------------------------------------------------------\n",
    "\n",
    "\n",
    "    for i in range(1, local):        \n",
    "        for layer_index in num_layers_list:\n",
    "            \n",
    "            globals()['L{}_layer{}_w_c'.format(i,layer_index)]   = globals()['G{}_c_L{}_model'.format(global_epoch, i)].layers[layer_index].get_weights() # Clustering \n",
    "            globals()['L{}_layer{}_w_c_tmp'.format(i,layer_index)]   = globals()['G{}_c_L{}_model'.format(global_epoch, i)].layers[layer_index].get_weights() # Clustering \n",
    "\n",
    "    #------------------------------------------------ 클러스터링만 한 값들 Clustering --------------------------------------------------------\n",
    "    best_Sil_score_c = []\n",
    "    for layer_index in num_layers_list:\n",
    "        globals()['layer{}_W_c_tmp'.format(layer_index)] = []\n",
    "        \n",
    "        globals()['var_list_layer{}_w'.format(layer_index)] = []\n",
    "        globals()['var_list_layer{}_b'.format(layer_index)] = []\n",
    "            \n",
    "        for i in range(1, local):\n",
    "            TMP_w = list(np.array(globals()['L{}_layer{}_w_c_tmp'.format(i,layer_index)][0]).reshape(-1))\n",
    "            TMP_b = list(np.array(globals()['L{}_layer{}_w_c_tmp'.format(i,layer_index)][1]).reshape(-1))\n",
    "            \n",
    "            TMP_w.extend(TMP_b) ##append 말고 더해야함..\n",
    "\n",
    "            TMP_w = np.array(TMP_w)\n",
    "            TMP_w = list(TMP_w.reshape(-1))\n",
    "            globals()['layer{}_W_c_tmp'.format(layer_index)].append(TMP_w)  #클러스터링 용도\n",
    "\n",
    "        #---------------------------------------------------- 실루엣 기반 클러스터링 실시 -------------------------------------------------------------\n",
    "        silhoutte_score_w = []\n",
    "        transformed = globals()['layer{}_W_c_tmp'.format(layer_index)]\n",
    "\n",
    "        for clusters in range((int(local/2)-1)):       ####=>  이 범위 : 클러스터 갯수, 밑에 보면 cluster+2 있음 = 총 10개 => (0,11) = 10\n",
    "            globals()['w_layer{}_label'.format(layer_index)] = 0\n",
    "                                                            \n",
    "            kmeans_model_w = KMeans(n_clusters=clusters+2)   # 0, 1은 silhouette 에 안먹힘  \n",
    "\n",
    "            kmeans_model_w.fit(transformed)       #레이블 정의 \n",
    "\n",
    "            silhoutte_score_w.append(silhouette_score(globals()['layer{}_W_tmp'.format(layer_index)], kmeans_model_w.labels_, metric='euclidean'))  \n",
    "            \n",
    "        num_clusters_for_w = np.argmax(silhoutte_score_w)  \n",
    "        best_Sil_score_c.append(silhoutte_score_w[num_clusters_for_w])\n",
    " \n",
    "        kmeans_model_w = KMeans(n_clusters=num_clusters_for_w+2)   # 0, 1은 silhouette 에 안먹힘  \n",
    "\n",
    "        globals()['w_layer{}_label'.format(layer_index)] = kmeans_model_w.fit_predict(transformed)       # 가장 적합한 클러스터로 레이어에 속한 로컬들 레이블 정의 \n",
    "        label_list.append(globals()['w_layer{}_label'.format(layer_index)])\n",
    "\n",
    "        globals()['G{}_num_clusters_in_layer{}_w'.format(global_epoch, layer_index)] = num_clusters_for_w + 2  #나중에 몇개로 나뉘었는지 알아야 함 = num_clusters_for_w이거 그대로 하면 밑에 저게 쓸일이 많아서 global 쓰면 코딩이 너무 번잡해짐;; \n",
    "        print(\"Layer : \", layer_index, \"  클러스터 갯수 정해짐!  갯수 : \", globals()['G{}_num_clusters_in_layer{}_w'.format(global_epoch, layer_index)], num_clusters_for_w) ########################################################******************************************\n",
    "\n",
    "\n",
    "\n",
    "        #----------------------------------------------- 스케일링 및 업데이트 ---------------------------------------------------------------------\n",
    "        for num_c_w in range(num_clusters_for_w + 2): #클러스터 갯수 (num_clusters_for_w) 만큼 클러스터용 = 클러스터 갯수가 3이 나왔으면 3개를 만들어야 함\n",
    "            globals()['G{}_c{}_w_layer{}'.format(global_epoch, num_c_w, layer_index)] = 0 \n",
    "            \n",
    "            globals()['w_scaler_c{}_sum'.format(num_c_w)], globals()['int_c{}_w'.format(num_c_w)] = 0, 0 #초기화\n",
    "        \n",
    "            for i in range(1, local):\n",
    "\n",
    "                if globals()['w_layer{}_label'.format(layer_index)][i-1] == num_c_w  : # 클러스터 레이블에 맞게 (0 or 1 or 2 ..) \n",
    "                    #print(\"클러스터 레이블 check : ====== \", num_c_w)\n",
    "                    globals()['w_scaler_c{}_sum'.format(num_c_w)] = globals()['w_scaler_c{}_sum'.format(num_c_w)] + len(globals()['L{}_x_train'.format(i)])\n",
    "\n",
    "\n",
    "                    globals()['L{}_layer{}_w_c'.format(i,layer_index)][0] = np.tanh(globals()['L{}_layer{}_w_c'.format(i,layer_index)][0])\n",
    "                    globals()['L{}_layer{}_w_c'.format(i,layer_index)][1] = np.tanh(globals()['L{}_layer{}_w_c'.format(i,layer_index)][1])\n",
    "\n",
    "\n",
    "                    globals()['G{}_c{}_w_layer{}'.format(global_epoch, num_c_w, layer_index)] = globals()['G{}_c{}_w_layer{}'.format(global_epoch, num_c_w, layer_index)] + np.array(globals()['L{}_layer{}_w_c'.format(i,layer_index)])   # 일반 클러스터링\n",
    "                  \n",
    "                    globals()['int_c{}_w'.format(num_c_w)] = globals()['int_c{}_w'.format(num_c_w)] + 1\n",
    "\n",
    "            globals()['w_scaler{}'.format(num_c_w)] = len(globals()['L{}_x_train'.format(i)]) / globals()['w_scaler_c{}_sum'.format(num_c_w)]\n",
    "            globals()['G{}_c{}_w_layer{}'.format(global_epoch, num_c_w, layer_index)] = globals()['G{}_c{}_w_layer{}'.format(global_epoch, num_c_w, layer_index)] / globals()['int_c{}_w'.format(num_c_w)] #레이어 별 클러스터 자기 갯수만큼 나눠주기=평균\n",
    "\n",
    "        \n",
    "        sum_for_var_w,sum_for_var_b = 0, 0\n",
    "        \n",
    "        for sps in range(num_clusters_for_w + 2):\n",
    "            sum_for_var_w = sum_for_var_w + globals()['G{}_c{}_w_layer{}'.format(global_epoch, sps, layer_index)][0] \n",
    "            sum_for_var_b = sum_for_var_b + globals()['G{}_c{}_w_layer{}'.format(global_epoch, sps, layer_index)][1] \n",
    "        \n",
    "        sum_for_var_w = sum_for_var_w/(num_clusters_for_w + 2)\n",
    "        sum_for_var_b = sum_for_var_b/(num_clusters_for_w + 2)\n",
    "        \n",
    "\n",
    "        for i in range(1, local):\n",
    "            globals()['var_list_layer{}_w'.format(layer_index)].append(np.var(sum_for_var_w))\n",
    "            globals()['var_list_layer{}_b'.format(layer_index)].append(np.var(sum_for_var_b))\n",
    "  \n",
    "\n",
    "        VAR_final_list_w.append(globals()['var_list_layer{}_w'.format(layer_index)])\n",
    "        VAR_final_list_b.append(globals()['var_list_layer{}_b'.format(layer_index)])\n",
    "\n",
    "\n",
    "    Cluster_ACC.append(cluster_acc)\n",
    "    Cluster_LOSS.append(cluster_loss)\n",
    "    Silhouette_sc_c.append(best_Sil_score_c)\n",
    "\n",
    "    print(\"\\n\\n====================================================== One Global Epoch =====================================================================\\n\\n\")\n"
   ]
  },
  {
   "cell_type": "code",
   "execution_count": 11,
   "metadata": {
    "id": "w2XKazZ-4dgs"
   },
   "outputs": [],
   "source": [
    "#클러스터 레이어들끼리 weight 확이 => 똑같지는 않은지 확인"
   ]
  },
  {
   "cell_type": "code",
   "execution_count": 13,
   "metadata": {},
   "outputs": [
    {
     "name": "stdout",
     "output_type": "stream",
     "text": [
      "Variance Accumulate Layer 0,2,4,6,7\n",
      "--------------------------------------------------------------------------------------------------\n",
      "\n",
      "\n",
      "Var Accumulate Weight\n",
      "--------------------------------------\n",
      "[0.0009060825, 0.0029439777, 0.006270759, 0.009144215, 0.011548929, 0.013537466, 0.015080416, 0.016424831, 0.017288841, 0.01812075, 0.018779244, 0.019129064, 0.019360589, 0.019609181, 0.01988811, 0.020000778, 0.019974023, 0.019988375, 0.019968342, 0.019834016, 0.019755013, 0.019735513, 0.019717123, 0.01964631, 0.019499118, 0.01942185, 0.019336917, 0.019267907, 0.019156191, 0.019013703, 0.018907644, 0.018837184, 0.01866883, 0.018643724, 0.01854572, 0.018453738, 0.018331995, 0.018345563, 0.018227527, 0.018125387, 0.018082138, 0.017971937, 0.017887125, 0.017789252, 0.017705586, 0.017702457, 0.017659837, 0.017605266, 0.017530182, 0.017484857]\n",
      "[0.0015263425, 0.001287414, 0.0032807968, 0.004840354, 0.006090977, 0.007076935, 0.007915876, 0.008660502, 0.009342901, 0.009906401, 0.010399857, 0.010810534, 0.0111654, 0.011466965, 0.011729394, 0.0119133135, 0.01205157, 0.012198627, 0.0122996075, 0.012337573, 0.012385877, 0.012469658, 0.012517575, 0.012543229, 0.012534672, 0.014224227, 0.012560821, 0.014248897, 0.012564505, 0.012549635, 0.012532342, 0.012535567, 0.0125243645, 0.012525732, 0.013249306, 0.012506422, 0.01246268, 0.012453752, 0.0124244755, 0.0127045885, 0.013256657, 0.013292301, 0.013253794, 0.013214047, 0.013228425, 0.01329862, 0.013286999, 0.013329989, 0.013296756, 0.013313473]\n",
      "[0.0008721417, 0.0012269383, 0.0016046637, 0.002117965, 0.002679555, 0.003206797, 0.0036952735, 0.0041813725, 0.0045775888, 0.00498999, 0.0053514712, 0.0056332815, 0.0059118476, 0.006155124, 0.0064135888, 0.0066307327, 0.0068036807, 0.006970843, 0.0071323533, 0.0072631985, 0.0074136686, 0.00753008, 0.0076334444, 0.0077387933, 0.007849809, 0.007932114, 0.008010025, 0.008051481, 0.008131501, 0.008211704, 0.008268486, 0.008329533, 0.008367807, 0.008405945, 0.0084627485, 0.008541647, 0.008632679, 0.008718651, 0.00875086, 0.008783267, 0.008829769, 0.008852803, 0.0088686, 0.008896372, 0.00890716, 0.008912402, 0.008953877, 0.008983672, 0.0089861285, 0.009008416]\n",
      "[0.00055222696, 0.000638899, 0.00077582296, 0.0009650728, 0.0011788313, 0.0014100514, 0.0016505491, 0.0018763843, 0.0020867728, 0.0022793117, 0.0024764985, 0.0026549743, 0.0028307077, 0.0030198593, 0.003179132, 0.0033299862, 0.0034783897, 0.0036199838, 0.0037402122, 0.003858297, 0.003983291, 0.0041072797, 0.004228168, 0.00434041, 0.0044506523, 0.0045611323, 0.0046674227, 0.004772438, 0.0048728185, 0.0049625137, 0.0050462186, 0.005144681, 0.005249535, 0.0053412113, 0.005453611, 0.005552109, 0.0056308783, 0.005722666, 0.0058116755, 0.0058995867, 0.0059844656, 0.006066977, 0.006154377, 0.0062307343, 0.0063036513, 0.00640353, 0.0064726733, 0.00655472, 0.006620122, 0.006692302]\n",
      "[0.0018847666, 0.002284234, 0.0031388332, 0.004374883, 0.006065352, 0.008087023, 0.010283793, 0.012666458, 0.014872651, 0.017213283, 0.019345451, 0.021346632, 0.023500498, 0.025644666, 0.02773508, 0.029607873, 0.031016061, 0.032339938, 0.033469863, 0.03457276, 0.03551008, 0.036456, 0.037286542, 0.03809552, 0.03878535, 0.039227597, 0.03976794, 0.04037382, 0.040949576, 0.04130885, 0.041605912, 0.04196228, 0.042287547, 0.042769693, 0.043180905, 0.043408245, 0.04366235, 0.04394867, 0.04424826, 0.044626713, 0.044879805, 0.04507171, 0.045356363, 0.045578204, 0.045707222, 0.04597489, 0.046128027, 0.04644664, 0.046583988, 0.046704613]\n",
      "\n",
      "Var Accumulate Bias\n",
      "--------------------------------------\n",
      "[5.0928764e-05, 0.00027866338, 0.0006577615, 0.0011045584, 0.0017374324, 0.0023589013, 0.0031499765, 0.003750858, 0.004408354, 0.0046998323, 0.0050909985, 0.005543176, 0.005844849, 0.006141392, 0.0063565294, 0.006611598, 0.0069331666, 0.007139637, 0.007214128, 0.007321634, 0.0073120715, 0.007390183, 0.0074738134, 0.0075312513, 0.0075742006, 0.0075258967, 0.007508187, 0.0075542983, 0.0075339912, 0.0075398674, 0.0075924336, 0.0075625433, 0.007573589, 0.007472587, 0.007544525, 0.0074942345, 0.0075483513, 0.007377208, 0.007344638, 0.0073563443, 0.00735718, 0.0073083807, 0.007258559, 0.00729366, 0.0071979635, 0.0072072996, 0.007233425, 0.007213493, 0.0072007664, 0.0072687124]\n",
      "[0.00013363162, 0.00015458663, 0.00065123517, 0.0014754544, 0.0025454722, 0.0034775282, 0.004354638, 0.005202663, 0.005796556, 0.006646471, 0.0072970004, 0.007799876, 0.008449718, 0.009153826, 0.009628646, 0.009892073, 0.010291428, 0.0105350055, 0.010814276, 0.011084698, 0.011188178, 0.011440336, 0.011569023, 0.011821477, 0.012100143, 0.013462224, 0.012206346, 0.013560304, 0.012468821, 0.012597939, 0.012734814, 0.012858112, 0.012858602, 0.013138361, 0.013887947, 0.013266034, 0.013244643, 0.013458623, 0.013448382, 0.013942724, 0.014471193, 0.014481706, 0.0145870615, 0.014795916, 0.014832981, 0.014709094, 0.014709709, 0.014608037, 0.014575646, 0.014627183]\n",
      "[9.7741926e-05, 0.00028600157, 0.0006396137, 0.0011033366, 0.0015021897, 0.0019390046, 0.002424553, 0.0030223182, 0.0032612025, 0.003689556, 0.003981041, 0.0041947924, 0.0045028813, 0.004711355, 0.004888966, 0.005024433, 0.0051530153, 0.0053700344, 0.0055270046, 0.005640978, 0.005659244, 0.0058454126, 0.005820186, 0.00596928, 0.0059184665, 0.005943536, 0.0059494153, 0.0060350476, 0.006092388, 0.006139501, 0.006276588, 0.006254736, 0.00633285, 0.0062391274, 0.0064130775, 0.006434433, 0.0062984773, 0.0064737387, 0.0065264152, 0.006445718, 0.0064959154, 0.006474314, 0.0064682057, 0.0065292246, 0.0065572974, 0.0064273803, 0.0064154263, 0.0062264428, 0.0063556284, 0.006367609]\n",
      "[4.921724e-05, 0.00020187379, 0.00050362217, 0.0008930768, 0.0013159895, 0.0016585586, 0.0020163748, 0.0022169843, 0.002381553, 0.0024149003, 0.0027258866, 0.0027999226, 0.0028748666, 0.0028213183, 0.002904456, 0.003044608, 0.0033585727, 0.0033725488, 0.0033711665, 0.0034040206, 0.0036398324, 0.0036432028, 0.003764158, 0.003966889, 0.004038653, 0.004101975, 0.0041888487, 0.0041745193, 0.004298207, 0.0044156313, 0.0044237124, 0.004404787, 0.0044135638, 0.004347706, 0.00450897, 0.004657405, 0.004610789, 0.0046091974, 0.0048596077, 0.0047987723, 0.0048597706, 0.004952685, 0.005078637, 0.0051660673, 0.0052434076, 0.005345189, 0.005254846, 0.0052907662, 0.005283488, 0.0053068534]\n",
      "[0.00038415875, 0.0022866863, 0.0039650435, 0.005658751, 0.0074490095, 0.008998633, 0.01051542, 0.011507464, 0.012231821, 0.012929963, 0.013521934, 0.01420293, 0.014746204, 0.01542593, 0.015682723, 0.016318928, 0.016481113, 0.0167326, 0.016851598, 0.016736077, 0.01703338, 0.016975049, 0.016956104, 0.017189538, 0.017209727, 0.017251063, 0.01724697, 0.017361388, 0.017360054, 0.01765885, 0.017511073, 0.017420229, 0.01750535, 0.017655943, 0.01764613, 0.017770596, 0.017733518, 0.01763954, 0.017648038, 0.017556865, 0.01778488, 0.017507898, 0.0175372, 0.01759508, 0.01760118, 0.01764863, 0.01759618, 0.017407324, 0.017330213, 0.016980458]\n",
      "\n",
      "\n",
      "Variance Change Layer 0,2,4,6,7\n",
      "--------------------------------------------------------------------------------------------------\n",
      "\n",
      "\n",
      "Var Changes Weight\n",
      "--------------------------------------\n",
      "[0.0009060825, 0.0029439777, 0.006270759, 0.009144215, 0.011548929, 0.013537466, 0.015080416, 0.016424831, 0.017288841, 0.01812075, 0.018779244, 0.019129064, 0.019360589, 0.019609181, 0.01988811, 0.020000778, 0.019974023, 0.019988375, 0.019968342, 0.019834016, 0.019755013, 0.019735513, 0.019717123, 0.01964631, 0.019499118, 0.01942185, 0.019336917, 0.019267907, 0.019156191, 0.019013703, 0.018907644, 0.018837184, 0.01866883, 0.018643724, 0.01854572, 0.018453738, 0.018331995, 0.018345563, 0.018227527, 0.018125387, 0.018082138, 0.017971937, 0.017887125, 0.017789252, 0.017705586, 0.017702457, 0.017659837, 0.017605266, 0.017530182, 0.017484857]\n",
      "[0.0015263425, 0.001287414, 0.0032807968, 0.004840354, 0.006090977, 0.007076935, 0.007915876, 0.008660502, 0.009342901, 0.009906401, 0.010399857, 0.010810534, 0.0111654, 0.011466965, 0.011729394, 0.0119133135, 0.01205157, 0.012198627, 0.0122996075, 0.012337573, 0.012385877, 0.012469658, 0.012517575, 0.012543229, 0.012534672, 0.014224227, 0.012560821, 0.014248897, 0.012564505, 0.012549635, 0.012532342, 0.012535567, 0.0125243645, 0.012525732, 0.013249306, 0.012506422, 0.01246268, 0.012453752, 0.0124244755, 0.0127045885, 0.013256657, 0.013292301, 0.013253794, 0.013214047, 0.013228425, 0.01329862, 0.013286999, 0.013329989, 0.013296756, 0.013313473]\n",
      "[0.0008721417, 0.0012269383, 0.0016046637, 0.002117965, 0.002679555, 0.003206797, 0.0036952735, 0.0041813725, 0.0045775888, 0.00498999, 0.0053514712, 0.0056332815, 0.0059118476, 0.006155124, 0.0064135888, 0.0066307327, 0.0068036807, 0.006970843, 0.0071323533, 0.0072631985, 0.0074136686, 0.00753008, 0.0076334444, 0.0077387933, 0.007849809, 0.007932114, 0.008010025, 0.008051481, 0.008131501, 0.008211704, 0.008268486, 0.008329533, 0.008367807, 0.008405945, 0.0084627485, 0.008541647, 0.008632679, 0.008718651, 0.00875086, 0.008783267, 0.008829769, 0.008852803, 0.0088686, 0.008896372, 0.00890716, 0.008912402, 0.008953877, 0.008983672, 0.0089861285, 0.009008416]\n",
      "[0.00055222696, 0.000638899, 0.00077582296, 0.0009650728, 0.0011788313, 0.0014100514, 0.0016505491, 0.0018763843, 0.0020867728, 0.0022793117, 0.0024764985, 0.0026549743, 0.0028307077, 0.0030198593, 0.003179132, 0.0033299862, 0.0034783897, 0.0036199838, 0.0037402122, 0.003858297, 0.003983291, 0.0041072797, 0.004228168, 0.00434041, 0.0044506523, 0.0045611323, 0.0046674227, 0.004772438, 0.0048728185, 0.0049625137, 0.0050462186, 0.005144681, 0.005249535, 0.0053412113, 0.005453611, 0.005552109, 0.0056308783, 0.005722666, 0.0058116755, 0.0058995867, 0.0059844656, 0.006066977, 0.006154377, 0.0062307343, 0.0063036513, 0.00640353, 0.0064726733, 0.00655472, 0.006620122, 0.006692302]\n",
      "[0.0018847666, 0.002284234, 0.0031388332, 0.004374883, 0.006065352, 0.008087023, 0.010283793, 0.012666458, 0.014872651, 0.017213283, 0.019345451, 0.021346632, 0.023500498, 0.025644666, 0.02773508, 0.029607873, 0.031016061, 0.032339938, 0.033469863, 0.03457276, 0.03551008, 0.036456, 0.037286542, 0.03809552, 0.03878535, 0.039227597, 0.03976794, 0.04037382, 0.040949576, 0.04130885, 0.041605912, 0.04196228, 0.042287547, 0.042769693, 0.043180905, 0.043408245, 0.04366235, 0.04394867, 0.04424826, 0.044626713, 0.044879805, 0.04507171, 0.045356363, 0.045578204, 0.045707222, 0.04597489, 0.046128027, 0.04644664, 0.046583988, 0.046704613]\n",
      "\n",
      "Var Changes Bias\n",
      "--------------------------------------\n",
      "[0.00022773462, 0.00037909814, 0.00044679682, 0.0006328741, 0.0006214689, 0.0007910752, 0.0006008814, 0.00065749604, 0.00029147835, 0.0003911662, 0.0004521776, 0.00030167308, 0.0002965429, 0.00021513738, 0.00025506876, 0.00032156846, 0.00020647049, 7.4490905e-05, 0.000107505824, -9.5623545e-06, 7.811142e-05, 8.363044e-05, 5.7437923e-05, 4.2949338e-05, -4.8303977e-05, -1.7709564e-05, 4.6111178e-05, -2.0307023e-05, 5.87618e-06, 5.2566174e-05, -2.9890332e-05, 1.1045951e-05, -0.0001010024, 7.193815e-05, -5.0290488e-05, 5.4116827e-05, -0.0001711431, -3.2570213e-05, 1.1706259e-05, 8.35862e-07, -4.879944e-05, -4.9821567e-05, 3.5101082e-05, -9.5696654e-05, 9.336043e-06, 2.612546e-05, -1.9932166e-05, -1.2726523e-05, 6.7946035e-05]\n",
      "[2.0955005e-05, 0.00049664854, 0.00082421926, 0.0010700178, 0.000932056, 0.0008771098, 0.0008480251, 0.00059389276, 0.0008499152, 0.0006505293, 0.00050287554, 0.00064984243, 0.0007041078, 0.0004748199, 0.00026342738, 0.00039935485, 0.00024357717, 0.0002792701, 0.00027042255, 0.00010348018, 0.00025215745, 0.00012868736, 0.0002524536, 0.00027866662, 0.0013620807, -0.0012558782, 0.0013539586, -0.001091483, 0.00012911763, 0.00013687462, 0.00012329873, 4.898757e-07, 0.00027975906, 0.00074958615, -0.000621913, -2.1391548e-05, 0.00021397974, -1.0240823e-05, 0.0004943423, 0.00052846875, 1.0512769e-05, 0.000105355866, 0.00020885468, 3.7064776e-05, -0.00012388732, 6.156042e-07, -0.000101672485, -3.2390468e-05, 5.1536597e-05]\n",
      "[0.00018825964, 0.00035361215, 0.00046372286, 0.0003988531, 0.00043681497, 0.0004855484, 0.0005977652, 0.00023888424, 0.00042835344, 0.00029148487, 0.00021375157, 0.00030808896, 0.00020847376, 0.00017761113, 0.00013546692, 0.00012858212, 0.00021701911, 0.00015697023, 0.000113973394, 1.826603e-05, 0.00018616859, -2.5226735e-05, 0.00014909403, -5.0813425e-05, 2.5069341e-05, 5.8794394e-06, 8.563232e-05, 5.73406e-05, 4.7112815e-05, 0.00013708696, -2.1852087e-05, 7.8114215e-05, -9.3722716e-05, 0.0001739501, 2.1355692e-05, -0.00013595587, 0.0001752614, 5.2676536e-05, -8.069724e-05, 5.0197355e-05, -2.1601561e-05, -6.108079e-06, 6.1018858e-05, 2.8072856e-05, -0.00012991717, -1.1953991e-05, -0.00018898351, 0.00012918562, 1.1980534e-05]\n",
      "[0.00015265655, 0.0003017484, 0.00038945465, 0.0004229127, 0.00034256908, 0.00035781623, 0.00020060944, 0.00016456866, 3.33474e-05, 0.0003109863, 7.4035954e-05, 7.494399e-05, -5.3548254e-05, 8.313777e-05, 0.00014015194, 0.00031396467, 1.3976125e-05, -1.3823155e-06, 3.2854034e-05, 0.0002358118, 3.3704564e-06, 0.00012095529, 0.00020273076, 7.176399e-05, 6.332202e-05, 8.687377e-05, -1.4329329e-05, 0.00012368755, 0.00011742441, 8.081086e-06, -1.8925406e-05, 8.776784e-06, -6.5857545e-05, 0.00016126363, 0.00014843512, -4.6615954e-05, -1.5916303e-06, 0.0002504103, -6.0835388e-05, 6.099837e-05, 9.291433e-05, 0.00012595206, 8.7430235e-05, 7.7340286e-05, 0.00010178145, -9.0342946e-05, 3.592018e-05, -7.278286e-06, 2.3365486e-05]\n",
      "[0.0019025276, 0.0016783571, 0.0016937074, 0.0017902586, 0.0015496239, 0.0015167864, 0.0009920439, 0.00072435755, 0.00069814175, 0.000591971, 0.0006809961, 0.000543274, 0.0006797258, 0.00025679357, 0.0006362051, 0.00016218424, 0.0002514869, 0.00011899881, -0.00011552125, 0.00029730238, -5.8330595e-05, -1.8944964e-05, 0.00023343414, 2.018921e-05, 4.133582e-05, -4.0922314e-06, 0.0001144167, -1.3336539e-06, 0.00029879622, -0.00014777668, -9.084493e-05, 8.512102e-05, 0.000150593, -9.812415e-06, 0.00012446567, -3.7077814e-05, -9.39779e-05, 8.497387e-06, -9.1172755e-05, 0.0002280157, -0.00027698278, 2.9303133e-05, 5.7879835e-05, 6.100163e-06, 4.7449023e-05, -5.2450225e-05, -0.00018885545, -7.711165e-05, -0.00034975447]\n",
      "\n",
      "Now Check the graph\n",
      "\n"
     ]
    },
    {
     "data": {
      "image/png": "[encoded data removed]",
      "text/plain": [
       "<Figure size 360x216 with 1 Axes>"
      ]
     },
     "metadata": {
      "needs_background": "light"
     },
     "output_type": "display_data"
    },
    {
     "data": {
      "image/png": "[encoded data removed]",
      "text/plain": [
       "<Figure size 360x216 with 1 Axes>"
      ]
     },
     "metadata": {
      "needs_background": "light"
     },
     "output_type": "display_data"
    },
    {
     "data": {
      "image/png": "[encoded data removed]",
      "text/plain": [
       "<Figure size 360x216 with 1 Axes>"
      ]
     },
     "metadata": {
      "needs_background": "light"
     },
     "output_type": "display_data"
    },
    {
     "data": {
      "image/png": "[encoded data removed]",
      "text/plain": [
       "<Figure size 360x216 with 1 Axes>"
      ]
     },
     "metadata": {
      "needs_background": "light"
     },
     "output_type": "display_data"
    }
   ],
   "source": [
    "var_changes_L0_w, var_changes_L2_w, var_changes_L4_w, var_changes_L6_w, var_changes_L7_w = [], [], [], [], [] \n",
    "var_accumulate_L0_w, var_accumulate_L2_w, var_accumulate_L4_w, var_accumulate_L6_w, var_accumulate_L7_w = [], [], [], [], [] \n",
    "\n",
    "var_changes_L0_b, var_changes_L2_b, var_changes_L4_b, var_changes_L6_b, var_changes_L7_b = [], [], [], [], [] \n",
    "var_accumulate_L0_b, var_accumulate_L2_b, var_accumulate_L4_b, var_accumulate_L6_b, var_accumulate_L7_b = [], [], [], [], [] \n",
    "\n",
    "\n",
    "for global_epoch in range(G_epoch-1):\n",
    "    for layer_index in num_layers_list:\n",
    "        sumss_w, sumss_b = 0, 0\n",
    "        for sks in range(globals()['G{}_num_clusters_in_layer{}_w'.format(global_epoch, layer_index)]):\n",
    "            sumss_w = sumss_w + globals()['G{}_c{}_w_layer{}'.format(global_epoch, sks, layer_index)][0] \n",
    "            sumss_b = sumss_b + globals()['G{}_c{}_w_layer{}'.format(global_epoch, sks, layer_index)][1]\n",
    "\n",
    "        sumss_w = sumss_w/globals()['G{}_num_clusters_in_layer{}_w'.format(global_epoch, layer_index)]\n",
    "        sumss_b = sumss_b/globals()['G{}_num_clusters_in_layer{}_w'.format(global_epoch, layer_index)]\n",
    "\n",
    "        globals()['var_accumulate_L{}_w'.format(layer_index)].append(np.var( sumss_w ))\n",
    "        \n",
    "        globals()['var_accumulate_L{}_b'.format(layer_index)].append(np.var( sumss_b ))\n",
    "        \n",
    "        \n",
    "\n",
    "for layer_index in num_layers_list:\n",
    "    for tmp_int in range(len(globals()['var_accumulate_L{}_w'.format(layer_index)])-1):\n",
    "        minus_w = globals()['var_accumulate_L{}_w'.format(layer_index)][tmp_int + 1] - globals()['var_accumulate_L{}_w'.format(layer_index)][tmp_int]\n",
    "        minus_b = globals()['var_accumulate_L{}_b'.format(layer_index)][tmp_int + 1] - globals()['var_accumulate_L{}_b'.format(layer_index)][tmp_int]        \n",
    "        globals()['var_changes_L{}_w'.format(layer_index)].append( minus_w )\n",
    "        globals()['var_changes_L{}_b'.format(layer_index)].append( minus_b )\n",
    "        \n",
    "\n",
    "print(\"Variance Accumulate Layer 0,2,4,6,7\\n--------------------------------------------------------------------------------------------------\\n\")\n",
    "\n",
    "print(\"\\nVar Accumulate Weight\\n--------------------------------------\")\n",
    "for j in num_layers_list:\n",
    "    print(globals()['var_accumulate_L{}_w'.format(j)])\n",
    "\n",
    "print(\"\\nVar Accumulate Bias\\n--------------------------------------\")\n",
    "for j in num_layers_list:\n",
    "    print(globals()['var_accumulate_L{}_b'.format(j)])\n",
    "\n",
    "print(\"\\n\\nVariance Change Layer 0,2,4,6,7\\n--------------------------------------------------------------------------------------------------\\n\")\n",
    "\n",
    "print(\"\\nVar Changes Weight\\n--------------------------------------\")\n",
    "for j in num_layers_list:\n",
    "    print(globals()['var_accumulate_L{}_w'.format(j)])\n",
    "\n",
    "print(\"\\nVar Changes Bias\\n--------------------------------------\")\n",
    "for j in num_layers_list:\n",
    "    print(globals()['var_changes_L{}_b'.format(j)])\n",
    "\n",
    "\n",
    "\n",
    "print(\"\\nNow Check the graph\\n\")\n",
    "\n",
    "plt.figure(figsize=(5,3))\n",
    "for j in num_layers_list:\n",
    "    plt.plot(globals()['var_accumulate_L{}_w'.format(j)])\n",
    "\n",
    "plt.figure(figsize=(5,3))\n",
    "for j in num_layers_list:\n",
    "    plt.plot(globals()['var_accumulate_L{}_b'.format(j)])\n",
    "\n",
    "plt.figure(figsize=(5,3))\n",
    "for j in num_layers_list:\n",
    "    plt.plot(globals()['var_changes_L{}_b'.format(j)])\n",
    "\n",
    "plt.figure(figsize=(5,3))\n",
    "for j in num_layers_list:\n",
    "    plt.plot(globals()['var_changes_L{}_b'.format(j)])\n"
   ]
  },
  {
   "cell_type": "code",
   "execution_count": 14,
   "metadata": {},
   "outputs": [
    {
     "name": "stdout",
     "output_type": "stream",
     "text": [
      "Distance Layer 0,2,4,6,7\n",
      "--------------------------------------------------------------------------------------------------\n",
      "[0.032137655, 0.061657224, 0.07838106, 0.08739666, 0.09890555, 0.108353324, 0.11690508, 0.12360886, 0.12909737, 0.13235071, 0.13540094, 0.13810994, 0.1396514, 0.14118895, 0.14283176, 0.14392015, 0.14477669, 0.14541101, 0.14572372, 0.14565979, 0.14550604, 0.14558965, 0.14580072, 0.1456381, 0.14538985, 0.14488377, 0.14476334, 0.14468153, 0.14434402, 0.1440137, 0.14382379, 0.14352536, 0.14308201, 0.14260963, 0.14241715, 0.14202474, 0.14179519, 0.14125937, 0.14071648, 0.14050573, 0.14034736, 0.13989851, 0.13939196, 0.13924047, 0.13883705, 0.13886197, 0.13882309, 0.13869137, 0.13839002, 0.13837622]\n",
      "[0.0344993, 0.038677536, 0.061624978, 0.07488476, 0.08620992, 0.09447449, 0.10080986, 0.10607018, 0.109870166, 0.11475816, 0.11884753, 0.1217987, 0.12496163, 0.12826663, 0.1307575, 0.13227032, 0.13413307, 0.13540104, 0.1368965, 0.13800746, 0.13857855, 0.13972469, 0.1403205, 0.14121932, 0.14214389, 0.15193394, 0.14276625, 0.15252623, 0.14357325, 0.14396286, 0.14434493, 0.1448182, 0.14483295, 0.14564191, 0.15062015, 0.14607303, 0.14590698, 0.14655188, 0.1466285, 0.14929749, 0.15298624, 0.15299776, 0.15332626, 0.15380698, 0.15419544, 0.15401192, 0.15401585, 0.15393938, 0.15375026, 0.15399069]\n",
      "[0.027106533, 0.035959315, 0.048341565, 0.05943582, 0.06914519, 0.075933844, 0.08255077, 0.08896205, 0.09312349, 0.09712608, 0.10036282, 0.102542855, 0.104918174, 0.10692312, 0.10879849, 0.10991825, 0.110983685, 0.112283915, 0.11409252, 0.115195446, 0.115741335, 0.11659876, 0.11701854, 0.11826083, 0.11851992, 0.11857976, 0.11839734, 0.11875573, 0.119239636, 0.11946249, 0.120120525, 0.12000186, 0.12002124, 0.12011686, 0.12061972, 0.12108275, 0.12070008, 0.12162193, 0.122149535, 0.1215626, 0.12193889, 0.12181224, 0.12178726, 0.12199671, 0.12226246, 0.12193611, 0.122079134, 0.121268086, 0.12147636, 0.12146267]\n",
      "[0.021129105, 0.026152307, 0.033515114, 0.04063786, 0.047483556, 0.052802905, 0.05785772, 0.061468396, 0.06427407, 0.066045165, 0.068789065, 0.07042926, 0.07203886, 0.07263767, 0.07373177, 0.07561106, 0.07765255, 0.07819504, 0.07897273, 0.079528764, 0.08062834, 0.08084448, 0.08200529, 0.08302877, 0.08377053, 0.08461167, 0.08520414, 0.08561787, 0.08657482, 0.08754193, 0.08795499, 0.08816332, 0.08864257, 0.08888952, 0.08993006, 0.09086931, 0.09094115, 0.09125735, 0.092801355, 0.09282114, 0.093386486, 0.09431217, 0.095272094, 0.09581789, 0.09640625, 0.09722192, 0.09711387, 0.097853065, 0.09815735, 0.09859239]\n",
      "[0.04294699, 0.06217854, 0.07942022, 0.096142344, 0.11219344, 0.12618831, 0.13929936, 0.15060851, 0.1601909, 0.16951758, 0.17744501, 0.1852999, 0.19319071, 0.20092273, 0.20718634, 0.21366116, 0.2179096, 0.22189891, 0.22513556, 0.22752237, 0.23052907, 0.23265496, 0.23444553, 0.23672609, 0.23814425, 0.23946878, 0.24084425, 0.24250364, 0.24376969, 0.2454019, 0.2458787, 0.2466435, 0.2476561, 0.24925637, 0.25020668, 0.2511765, 0.25173524, 0.25226572, 0.25303903, 0.25376752, 0.2550648, 0.2550184, 0.25577688, 0.2564577, 0.2568751, 0.25763878, 0.25792447, 0.2582255, 0.25842077, 0.25804144] \n",
      "\n",
      "Check the graph\n",
      "\n"
     ]
    },
    {
     "data": {
      "image/png": "[encoded data removed]",
      "text/plain": [
       "<Figure size 432x288 with 1 Axes>"
      ]
     },
     "metadata": {
      "needs_background": "light"
     },
     "output_type": "display_data"
    }
   ],
   "source": [
    "from scipy.spatial import distance\n",
    "\n",
    "dist_0, dist_2, dist_4, dist_6, dist_7  = [], [], [], [], []\n",
    "\n",
    "for global_epoch in range(G_epoch): #1이 맞음 = 바꾸지 말기\n",
    "    for layer_index in num_layers_list:\n",
    "        globals()['G{}_w_layer{}'.format(global_epoch, layer_index)] = 0    \n",
    "\n",
    "\n",
    "for global_epoch in range(G_epoch-1):    #2가 맞음 = 바꾸지 말기\n",
    "    for layer_index in num_layers_list:\n",
    "        var_w = 0\n",
    "        for sks in range(globals()['G{}_num_clusters_in_layer{}_w'.format(global_epoch, layer_index)]):\n",
    "            var_w = var_w + globals()['G{}_c{}_w_layer{}'.format(global_epoch, sks, layer_index)]\n",
    "\n",
    "        var_w = var_w/globals()['G{}_num_clusters_in_layer{}_w'.format(global_epoch, layer_index)]\n",
    "\n",
    "        globals()['G{}_w_layer{}'.format(global_epoch, layer_index)] = var_w\n",
    "        globals()['dist_{}'.format(layer_index)].append(np.mean(distance.euclidean(globals()['G{}_w_layer{}'.format(global_epoch, layer_index)], globals()['G{}_w_layer{}'.format(global_epoch+1, layer_index)])))\n",
    "\n",
    "print(\"Distance Layer 0,2,4,6,7\\n--------------------------------------------------------------------------------------------------\")\n",
    "print(dist_0)\n",
    "print(dist_2)\n",
    "print(dist_4)\n",
    "print(dist_6)\n",
    "print(dist_7, \"\\n\\nCheck the graph\\n\")\n",
    "\n",
    "plt.plot(dist_0)\n",
    "plt.plot(dist_2)\n",
    "plt.plot(dist_4)\n",
    "plt.plot(dist_6)\n",
    "plt.plot(dist_7)\n",
    "\n",
    "plt.show()"
   ]
  },
  {
   "cell_type": "code",
   "execution_count": 15,
   "metadata": {},
   "outputs": [
    {
     "name": "stdout",
     "output_type": "stream",
     "text": [
      "[[0.843999981880188, 0.8360000252723694, 0.8220000267028809, 0.8159999847412109, 0.8140000104904175, 0.8220000267028809, 0.8199999928474426, 0.8320000171661377, 0.8240000009536743, 0.8379999995231628, 0.800000011920929, 0.8320000171661377, 0.8519999980926514, 0.8420000076293945, 0.7960000038146973, 0.8119999766349792, 0.8460000157356262, 0.8100000023841858, 0.8180000185966492, 0.8339999914169312], [0.7720000147819519, 0.7820000052452087, 0.7179999947547913, 0.7919999957084656, 0.7839999794960022, 0.7820000052452087, 0.765999972820282, 0.8220000267028809, 0.7300000190734863, 0.7599999904632568, 0.7599999904632568, 0.7379999756813049, 0.7720000147819519, 0.7820000052452087, 0.8019999861717224, 0.7720000147819519, 0.7580000162124634, 0.8019999861717224, 0.7839999794960022, 0.7580000162124634], [0.7919999957084656, 0.7860000133514404, 0.7799999713897705, 0.7739999890327454, 0.828000009059906, 0.8159999847412109, 0.8019999861717224, 0.8259999752044678, 0.7900000214576721, 0.8019999861717224, 0.7900000214576721, 0.7879999876022339, 0.8040000200271606, 0.8140000104904175, 0.7979999780654907, 0.7879999876022339, 0.7919999957084656, 0.7879999876022339, 0.7940000295639038, 0.7820000052452087], [0.8420000076293945, 0.8379999995231628, 0.8220000267028809, 0.8420000076293945, 0.828000009059906, 0.843999981880188, 0.8080000281333923, 0.8320000171661377, 0.8180000185966492, 0.8479999899864197, 0.8220000267028809, 0.8040000200271606, 0.8040000200271606, 0.8299999833106995, 0.843999981880188, 0.7919999957084656, 0.7940000295639038, 0.8119999766349792, 0.828000009059906, 0.8479999899864197], [0.8199999928474426, 0.8220000267028809, 0.8199999928474426, 0.8240000009536743, 0.8140000104904175, 0.8460000157356262, 0.7799999713897705, 0.8199999928474426, 0.8100000023841858, 0.8159999847412109, 0.8140000104904175, 0.8199999928474426, 0.8259999752044678, 0.8199999928474426, 0.8199999928474426, 0.8240000009536743, 0.8259999752044678, 0.8220000267028809, 0.8339999914169312, 0.7879999876022339], [0.8399999737739563, 0.8080000281333923, 0.8500000238418579, 0.8460000157356262, 0.8619999885559082, 0.8240000009536743, 0.8019999861717224, 0.8560000061988831, 0.8399999737739563, 0.8220000267028809, 0.8479999899864197, 0.8080000281333923, 0.8399999737739563, 0.8399999737739563, 0.8460000157356262, 0.8619999885559082, 0.8339999914169312, 0.8399999737739563, 0.8320000171661377, 0.8379999995231628], [0.8479999899864197, 0.8479999899864197, 0.8619999885559082, 0.8299999833106995, 0.8240000009536743, 0.8420000076293945, 0.871999979019165, 0.8299999833106995, 0.8600000143051147, 0.8500000238418579, 0.8180000185966492, 0.8259999752044678, 0.8640000224113464, 0.8320000171661377, 0.8560000061988831, 0.8420000076293945, 0.8519999980926514, 0.8679999709129333, 0.8320000171661377, 0.8560000061988831], [0.8519999980926514, 0.8659999966621399, 0.8339999914169312, 0.8640000224113464, 0.8600000143051147, 0.8679999709129333, 0.8500000238418579, 0.8140000104904175, 0.8500000238418579, 0.843999981880188, 0.828000009059906, 0.8679999709129333, 0.8500000238418579, 0.8880000114440918, 0.8500000238418579, 0.8420000076293945, 0.8259999752044678, 0.8659999966621399, 0.8640000224113464, 0.8460000157356262], [0.8679999709129333, 0.8539999723434448, 0.8420000076293945, 0.8479999899864197, 0.8759999871253967, 0.8519999980926514, 0.8600000143051147, 0.8659999966621399, 0.878000020980835, 0.8360000252723694, 0.8640000224113464, 0.8420000076293945, 0.8740000128746033, 0.8820000290870667, 0.8560000061988831, 0.8399999737739563, 0.8539999723434448, 0.8659999966621399, 0.8740000128746033, 0.8619999885559082], [0.843999981880188, 0.871999979019165, 0.8640000224113464, 0.8460000157356262, 0.871999979019165, 0.8199999928474426, 0.8579999804496765, 0.8640000224113464, 0.8199999928474426, 0.8479999899864197, 0.8500000238418579, 0.8640000224113464, 0.8379999995231628, 0.8759999871253967, 0.8399999737739563, 0.8859999775886536, 0.8619999885559082, 0.8539999723434448, 0.8600000143051147, 0.8539999723434448], [0.8460000157356262, 0.878000020980835, 0.8679999709129333, 0.8799999952316284, 0.8659999966621399, 0.8920000195503235, 0.8840000033378601, 0.8500000238418579, 0.8659999966621399, 0.8840000033378601, 0.8500000238418579, 0.8479999899864197, 0.8899999856948853, 0.8220000267028809, 0.828000009059906, 0.8659999966621399, 0.878000020980835, 0.8399999737739563, 0.8659999966621399, 0.8880000114440918], [0.8320000171661377, 0.8119999766349792, 0.8759999871253967, 0.9020000100135803, 0.8560000061988831, 0.8659999966621399, 0.8799999952316284, 0.8500000238418579, 0.8600000143051147, 0.8460000157356262, 0.8460000157356262, 0.8420000076293945, 0.871999979019165, 0.8519999980926514, 0.8619999885559082, 0.8220000267028809, 0.8339999914169312, 0.8659999966621399, 0.8460000157356262, 0.8519999980926514], [0.9039999842643738, 0.9039999842643738, 0.8640000224113464, 0.8740000128746033, 0.8339999914169312, 0.8479999899864197, 0.8560000061988831, 0.8460000157356262, 0.8880000114440918, 0.8679999709129333, 0.8460000157356262, 0.843999981880188, 0.8579999804496765, 0.8939999938011169, 0.8840000033378601, 0.8899999856948853, 0.8560000061988831, 0.8360000252723694, 0.8859999775886536, 0.8659999966621399], [0.8840000033378601, 0.8579999804496765, 0.871999979019165, 0.8659999966621399, 0.878000020980835, 0.8640000224113464, 0.8479999899864197, 0.8220000267028809, 0.8659999966621399, 0.8980000019073486, 0.8420000076293945, 0.8740000128746033, 0.8560000061988831, 0.8360000252723694, 0.8460000157356262, 0.8659999966621399, 0.8700000047683716, 0.878000020980835, 0.8880000114440918, 0.8539999723434448], [0.8600000143051147, 0.8740000128746033, 0.8360000252723694, 0.8799999952316284, 0.8759999871253967, 0.8600000143051147, 0.8939999938011169, 0.843999981880188, 0.8240000009536743, 0.878000020980835, 0.871999979019165, 0.8579999804496765, 0.8579999804496765, 0.8740000128746033, 0.8640000224113464, 0.8859999775886536, 0.8899999856948853, 0.8560000061988831, 0.843999981880188, 0.8799999952316284], [0.8679999709129333, 0.8920000195503235, 0.8899999856948853, 0.8640000224113464, 0.8899999856948853, 0.8740000128746033, 0.8840000033378601, 0.8379999995231628, 0.8640000224113464, 0.871999979019165, 0.8600000143051147, 0.8619999885559082, 0.878000020980835, 0.878000020980835, 0.871999979019165, 0.8420000076293945, 0.8820000290870667, 0.8640000224113464, 0.8600000143051147, 0.8640000224113464], [0.878000020980835, 0.8679999709129333, 0.8859999775886536, 0.8479999899864197, 0.8820000290870667, 0.8679999709129333, 0.8519999980926514, 0.8460000157356262, 0.8679999709129333, 0.8579999804496765, 0.8619999885559082, 0.8679999709129333, 0.8759999871253967, 0.878000020980835, 0.8759999871253967, 0.871999979019165, 0.8420000076293945, 0.8799999952316284, 0.8880000114440918, 0.8920000195503235], [0.8840000033378601, 0.8679999709129333, 0.8560000061988831, 0.8740000128746033, 0.8740000128746033, 0.8759999871253967, 0.8399999737739563, 0.8500000238418579, 0.8820000290870667, 0.8840000033378601, 0.8759999871253967, 0.8880000114440918, 0.9120000004768372, 0.8740000128746033, 0.8820000290870667, 0.8859999775886536, 0.9079999923706055, 0.8759999871253967, 0.8420000076293945, 0.8640000224113464], [0.8899999856948853, 0.8420000076293945, 0.8920000195503235, 0.8519999980926514, 0.8799999952316284, 0.8759999871253967, 0.8600000143051147, 0.8560000061988831, 0.8920000195503235, 0.8700000047683716, 0.8799999952316284, 0.878000020980835, 0.8379999995231628, 0.8759999871253967, 0.8880000114440918, 0.878000020980835, 0.8740000128746033, 0.8960000276565552, 0.878000020980835, 0.8759999871253967], [0.8579999804496765, 0.8659999966621399, 0.871999979019165, 0.8820000290870667, 0.8799999952316284, 0.8960000276565552, 0.8859999775886536, 0.8399999737739563, 0.871999979019165, 0.8999999761581421, 0.8539999723434448, 0.8700000047683716, 0.8799999952316284, 0.878000020980835, 0.8759999871253967, 0.8859999775886536, 0.8600000143051147, 0.8859999775886536, 0.8840000033378601, 0.8999999761581421], [0.878000020980835, 0.9020000100135803, 0.8640000224113464, 0.8700000047683716, 0.8560000061988831, 0.8479999899864197, 0.878000020980835, 0.8479999899864197, 0.8679999709129333, 0.871999979019165, 0.8700000047683716, 0.8859999775886536, 0.8799999952316284, 0.8700000047683716, 0.871999979019165, 0.8740000128746033, 0.8759999871253967, 0.8920000195503235, 0.8600000143051147, 0.8859999775886536], [0.8820000290870667, 0.9079999923706055, 0.878000020980835, 0.878000020980835, 0.878000020980835, 0.8840000033378601, 0.9020000100135803, 0.8820000290870667, 0.8920000195503235, 0.8799999952316284, 0.8600000143051147, 0.8920000195503235, 0.8939999938011169, 0.8679999709129333, 0.871999979019165, 0.8960000276565552, 0.9100000262260437, 0.8679999709129333, 0.8859999775886536, 0.9120000004768372], [0.8799999952316284, 0.8600000143051147, 0.8820000290870667, 0.8799999952316284, 0.9079999923706055, 0.8939999938011169, 0.8840000033378601, 0.8899999856948853, 0.9039999842643738, 0.8820000290870667, 0.8519999980926514, 0.8920000195503235, 0.8980000019073486, 0.871999979019165, 0.9020000100135803, 0.878000020980835, 0.8859999775886536, 0.8820000290870667, 0.8399999737739563, 0.8700000047683716], [0.8560000061988831, 0.8740000128746033, 0.8880000114440918, 0.8619999885559082, 0.8859999775886536, 0.8659999966621399, 0.8659999966621399, 0.8740000128746033, 0.9079999923706055, 0.8759999871253967, 0.8700000047683716, 0.8920000195503235, 0.8659999966621399, 0.8799999952316284, 0.8880000114440918, 0.8759999871253967, 0.8899999856948853, 0.8619999885559082, 0.8980000019073486, 0.8700000047683716], [0.8880000114440918, 0.8960000276565552, 0.8600000143051147, 0.8999999761581421, 0.8999999761581421, 0.8999999761581421, 0.8859999775886536, 0.8859999775886536, 0.8920000195503235, 0.8920000195503235, 0.9100000262260437, 0.8840000033378601, 0.8799999952316284, 0.8679999709129333, 0.8999999761581421, 0.8740000128746033, 0.8799999952316284, 0.8820000290870667, 0.9120000004768372, 0.8740000128746033], [0.8600000143051147, 0.8740000128746033, 0.878000020980835, 0.9079999923706055, 0.8759999871253967, 0.8859999775886536, 0.8899999856948853, 0.8560000061988831, 0.8820000290870667, 0.8759999871253967, 0.8600000143051147, 0.8840000033378601, 0.8920000195503235, 0.8980000019073486, 0.8700000047683716, 0.8840000033378601, 0.9039999842643738, 0.8700000047683716, 0.9240000247955322, 0.8640000224113464], [0.8679999709129333, 0.8899999856948853, 0.8899999856948853, 0.8820000290870667, 0.8679999709129333, 0.8759999871253967, 0.8920000195503235, 0.8960000276565552, 0.9079999923706055, 0.8840000033378601, 0.8880000114440918, 0.8519999980926514, 0.9100000262260437, 0.8920000195503235, 0.8820000290870667, 0.8759999871253967, 0.8820000290870667, 0.8679999709129333, 0.8679999709129333, 0.8960000276565552], [0.9139999747276306, 0.8960000276565552, 0.8980000019073486, 0.878000020980835, 0.8859999775886536, 0.8579999804496765, 0.8960000276565552, 0.8759999871253967, 0.8899999856948853, 0.8600000143051147, 0.9079999923706055, 0.8799999952316284, 0.9039999842643738, 0.8600000143051147, 0.878000020980835, 0.871999979019165, 0.8740000128746033, 0.8679999709129333, 0.8899999856948853, 0.8939999938011169], [0.8899999856948853, 0.8740000128746033, 0.878000020980835, 0.8960000276565552, 0.8960000276565552, 0.8960000276565552, 0.9039999842643738, 0.8799999952316284, 0.8920000195503235, 0.8899999856948853, 0.878000020980835, 0.8679999709129333, 0.8999999761581421, 0.843999981880188, 0.8960000276565552, 0.8960000276565552, 0.8579999804496765, 0.8939999938011169, 0.8840000033378601, 0.8899999856948853], [0.9039999842643738, 0.8759999871253967, 0.8939999938011169, 0.8960000276565552, 0.8840000033378601, 0.8740000128746033, 0.8980000019073486, 0.8539999723434448, 0.8560000061988831, 0.8479999899864197, 0.8960000276565552, 0.8859999775886536, 0.8899999856948853, 0.8980000019073486, 0.8579999804496765, 0.8679999709129333, 0.8759999871253967, 0.8759999871253967, 0.8820000290870667, 0.8740000128746033], [0.8740000128746033, 0.8960000276565552, 0.8679999709129333, 0.8920000195503235, 0.9020000100135803, 0.8759999871253967, 0.8799999952316284, 0.8820000290870667, 0.8619999885559082, 0.871999979019165, 0.8759999871253967, 0.8980000019073486, 0.9039999842643738, 0.8899999856948853, 0.878000020980835, 0.8939999938011169, 0.8899999856948853, 0.8920000195503235, 0.8539999723434448, 0.8939999938011169], [0.9039999842643738, 0.843999981880188, 0.8840000033378601, 0.8999999761581421, 0.8539999723434448, 0.9039999842643738, 0.8859999775886536, 0.8519999980926514, 0.8899999856948853, 0.8880000114440918, 0.8519999980926514, 0.8740000128746033, 0.8899999856948853, 0.9120000004768372, 0.8539999723434448, 0.8820000290870667, 0.8640000224113464, 0.8920000195503235, 0.878000020980835, 0.9079999923706055], [0.8560000061988831, 0.9020000100135803, 0.8939999938011169, 0.871999979019165, 0.8579999804496765, 0.8759999871253967, 0.8980000019073486, 0.8960000276565552, 0.878000020980835, 0.8899999856948853, 0.8619999885559082, 0.8859999775886536, 0.8840000033378601, 0.9179999828338623, 0.8920000195503235, 0.8859999775886536, 0.9020000100135803, 0.8659999966621399, 0.8579999804496765, 0.8859999775886536], [0.9079999923706055, 0.8619999885559082, 0.9100000262260437, 0.8679999709129333, 0.8820000290870667, 0.8840000033378601, 0.9200000166893005, 0.8679999709129333, 0.8740000128746033, 0.8840000033378601, 0.8859999775886536, 0.8880000114440918, 0.9100000262260437, 0.9279999732971191, 0.871999979019165, 0.8619999885559082, 0.8999999761581421, 0.8820000290870667, 0.8880000114440918, 0.8960000276565552], [0.8880000114440918, 0.9020000100135803, 0.8659999966621399, 0.8820000290870667, 0.9039999842643738, 0.8640000224113464, 0.8679999709129333, 0.8659999966621399, 0.8840000033378601, 0.8799999952316284, 0.8820000290870667, 0.8880000114440918, 0.8679999709129333, 0.8880000114440918, 0.8820000290870667, 0.8539999723434448, 0.9039999842643738, 0.8759999871253967, 0.8840000033378601, 0.8759999871253967], [0.921999990940094, 0.8999999761581421, 0.9020000100135803, 0.9039999842643738, 0.9039999842643738, 0.8539999723434448, 0.8920000195503235, 0.8920000195503235, 0.8920000195503235, 0.8980000019073486, 0.8679999709129333, 0.8600000143051147, 0.9079999923706055, 0.9079999923706055, 0.8759999871253967, 0.8759999871253967, 0.8920000195503235, 0.8759999871253967, 0.8920000195503235, 0.8899999856948853], [0.906000018119812, 0.9139999747276306, 0.8640000224113464, 0.8840000033378601, 0.8659999966621399, 0.8840000033378601, 0.8740000128746033, 0.8479999899864197, 0.8519999980926514, 0.871999979019165, 0.9020000100135803, 0.9039999842643738, 0.8740000128746033, 0.8759999871253967, 0.8920000195503235, 0.8840000033378601, 0.8899999856948853, 0.8960000276565552, 0.9279999732971191, 0.906000018119812], [0.8960000276565552, 0.878000020980835, 0.8960000276565552, 0.8840000033378601, 0.8740000128746033, 0.9179999828338623, 0.9160000085830688, 0.8799999952316284, 0.9020000100135803, 0.8920000195503235, 0.8659999966621399, 0.8820000290870667, 0.8939999938011169, 0.871999979019165, 0.8880000114440918, 0.8880000114440918, 0.8939999938011169, 0.8980000019073486, 0.906000018119812, 0.8939999938011169], [0.8960000276565552, 0.871999979019165, 0.8999999761581421, 0.8939999938011169, 0.9179999828338623, 0.8899999856948853, 0.8859999775886536, 0.8859999775886536, 0.8899999856948853, 0.8899999856948853, 0.8920000195503235, 0.8980000019073486, 0.8999999761581421, 0.8899999856948853, 0.8500000238418579, 0.9020000100135803, 0.871999979019165, 0.8960000276565552, 0.8759999871253967, 0.8700000047683716], [0.8939999938011169, 0.8899999856948853, 0.878000020980835, 0.8659999966621399, 0.8840000033378601, 0.8799999952316284, 0.8740000128746033, 0.8799999952316284, 0.9100000262260437, 0.8619999885559082, 0.8960000276565552, 0.9139999747276306, 0.9100000262260437, 0.8700000047683716, 0.9039999842643738, 0.8999999761581421, 0.9020000100135803, 0.8980000019073486, 0.8859999775886536, 0.871999979019165], [0.8560000061988831, 0.8960000276565552, 0.906000018119812, 0.9079999923706055, 0.8759999871253967, 0.9240000247955322, 0.8799999952316284, 0.9020000100135803, 0.9100000262260437, 0.8960000276565552, 0.8939999938011169, 0.8920000195503235, 0.9079999923706055, 0.8920000195503235, 0.9319999814033508, 0.8920000195503235, 0.9079999923706055, 0.8880000114440918, 0.8679999709129333, 0.8519999980926514], [0.871999979019165, 0.8700000047683716, 0.8820000290870667, 0.8920000195503235, 0.8980000019073486, 0.8960000276565552, 0.8899999856948853, 0.8600000143051147, 0.9100000262260437, 0.8820000290870667, 0.8960000276565552, 0.8899999856948853, 0.8960000276565552, 0.8960000276565552, 0.8920000195503235, 0.8899999856948853, 0.878000020980835, 0.9020000100135803, 0.8799999952316284, 0.8859999775886536], [0.8880000114440918, 0.8939999938011169, 0.9100000262260437, 0.8899999856948853, 0.9039999842643738, 0.878000020980835, 0.9039999842643738, 0.8820000290870667, 0.8859999775886536, 0.8759999871253967, 0.8920000195503235, 0.8960000276565552, 0.9039999842643738, 0.8899999856948853, 0.8920000195503235, 0.8980000019073486, 0.9100000262260437, 0.8740000128746033, 0.8899999856948853, 0.8600000143051147], [0.9039999842643738, 0.8859999775886536, 0.9039999842643738, 0.8859999775886536, 0.878000020980835, 0.8740000128746033, 0.921999990940094, 0.9039999842643738, 0.9039999842643738, 0.8579999804496765, 0.8740000128746033, 0.8659999966621399, 0.8960000276565552, 0.9100000262260437, 0.8939999938011169, 0.8980000019073486, 0.9020000100135803, 0.8999999761581421, 0.9020000100135803, 0.8980000019073486], [0.9240000247955322, 0.8859999775886536, 0.8939999938011169, 0.8859999775886536, 0.8939999938011169, 0.9179999828338623, 0.9020000100135803, 0.8679999709129333, 0.8939999938011169, 0.8999999761581421, 0.9039999842643738, 0.9020000100135803, 0.9120000004768372, 0.8840000033378601, 0.8980000019073486, 0.8759999871253967, 0.8960000276565552, 0.8820000290870667, 0.8980000019073486, 0.9139999747276306], [0.9160000085830688, 0.8880000114440918, 0.871999979019165, 0.8899999856948853, 0.8659999966621399, 0.8820000290870667, 0.9200000166893005, 0.8899999856948853, 0.8899999856948853, 0.8640000224113464, 0.8899999856948853, 0.8920000195503235, 0.8799999952316284, 0.9039999842643738, 0.8999999761581421, 0.8519999980926514, 0.8999999761581421, 0.9079999923706055, 0.906000018119812, 0.8960000276565552], [0.8579999804496765, 0.8659999966621399, 0.8880000114440918, 0.843999981880188, 0.906000018119812, 0.8920000195503235, 0.9100000262260437, 0.8840000033378601, 0.871999979019165, 0.9200000166893005, 0.8820000290870667, 0.9020000100135803, 0.9259999990463257, 0.8960000276565552, 0.9020000100135803, 0.8999999761581421, 0.8939999938011169, 0.906000018119812, 0.8999999761581421, 0.9179999828338623], [0.8840000033378601, 0.8999999761581421, 0.906000018119812, 0.8920000195503235, 0.8579999804496765, 0.8560000061988831, 0.9160000085830688, 0.8700000047683716, 0.8920000195503235, 0.906000018119812, 0.8799999952316284, 0.8960000276565552, 0.8980000019073486, 0.8960000276565552, 0.8700000047683716, 0.8659999966621399, 0.8960000276565552, 0.8899999856948853, 0.878000020980835, 0.8880000114440918], [0.9100000262260437, 0.8820000290870667, 0.9020000100135803, 0.9079999923706055, 0.8799999952316284, 0.9120000004768372, 0.8980000019073486, 0.8840000033378601, 0.8980000019073486, 0.8840000033378601, 0.9039999842643738, 0.8820000290870667, 0.8859999775886536, 0.8939999938011169, 0.8799999952316284, 0.9120000004768372, 0.8740000128746033, 0.9160000085830688, 0.8920000195503235, 0.9020000100135803], [0.8379999995231628, 0.8740000128746033, 0.8759999871253967, 0.8939999938011169, 0.8980000019073486, 0.8799999952316284, 0.878000020980835, 0.8640000224113464, 0.8859999775886536, 0.8740000128746033, 0.8920000195503235, 0.9039999842643738, 0.9039999842643738, 0.9020000100135803, 0.8840000033378601, 0.8820000290870667, 0.8859999775886536, 0.8840000033378601, 0.9120000004768372, 0.9120000004768372], [0.8859999775886536, 0.9179999828338623, 0.906000018119812, 0.8859999775886536, 0.906000018119812, 0.871999979019165, 0.9039999842643738, 0.8759999871253967, 0.8880000114440918, 0.8960000276565552, 0.8980000019073486, 0.9039999842643738, 0.8980000019073486, 0.9259999990463257, 0.8960000276565552, 0.8859999775886536, 0.9139999747276306, 0.8820000290870667, 0.9100000262260437, 0.8619999885559082]]\n",
      "[[0.49113479256629944, 0.5576339364051819, 0.570529043674469, 0.4813194274902344, 0.5947248339653015, 0.4872704744338989, 0.5154222249984741, 0.5021705031394958, 0.5028268098831177, 0.46691927313804626, 0.495662659406662, 0.49798110127449036, 0.46942880749702454, 0.5149939656257629, 0.5702891945838928, 0.5082523822784424, 0.4488586485385895, 0.483371764421463, 0.48089611530303955, 0.5056599378585815], [0.6117187738418579, 0.5423061847686768, 0.7488042712211609, 0.5979035496711731, 0.5746825933456421, 0.5193359851837158, 0.6142303943634033, 0.4845757782459259, 0.680203914642334, 0.6959176063537598, 0.6529799699783325, 0.6651773452758789, 0.6023118495941162, 0.575539767742157, 0.5933812856674194, 0.684890866279602, 0.6277214288711548, 0.5248590707778931, 0.5283596515655518, 0.6497806310653687], [0.5189499855041504, 0.6246380805969238, 0.6612223386764526, 0.5928704738616943, 0.45684605836868286, 0.5223208665847778, 0.5642145872116089, 0.5048836469650269, 0.6611977815628052, 0.5764332413673401, 0.5400217175483704, 0.5497406721115112, 0.5071448683738708, 0.5746520757675171, 0.5281915068626404, 0.5711451768875122, 0.5804654359817505, 0.601360559463501, 0.5782873630523682, 0.5582748651504517], [0.47397783398628235, 0.46588370203971863, 0.5191858410835266, 0.5156553983688354, 0.5214780569076538, 0.47870326042175293, 0.5460659265518188, 0.5214593410491943, 0.5269593000411987, 0.4068197011947632, 0.6032559275627136, 0.5268656611442566, 0.5042529106140137, 0.49780887365341187, 0.38669851422309875, 0.5847952961921692, 0.5407812595367432, 0.5928728580474854, 0.4620566964149475, 0.4376007914543152], [0.5229607224464417, 0.5451388359069824, 0.6562871932983398, 0.5668606758117676, 0.5283921957015991, 0.5406286120414734, 0.5704763531684875, 0.5477369427680969, 0.6604437232017517, 0.6089414358139038, 0.5516718626022339, 0.5097509026527405, 0.5852504372596741, 0.5974383354187012, 0.5189239382743835, 0.541977047920227, 0.587274432182312, 0.5992015600204468, 0.4990909993648529, 0.6180575489997864], [0.5075884461402893, 0.6161987781524658, 0.5300288796424866, 0.5673975944519043, 0.4616764783859253, 0.6663707494735718, 0.6712375283241272, 0.5456553101539612, 0.4947293996810913, 0.5720729827880859, 0.5891839265823364, 0.6831336617469788, 0.5690368413925171, 0.5867795944213867, 0.4839670956134796, 0.4709136486053467, 0.5308123230934143, 0.582526683807373, 0.5257446765899658, 0.6591517925262451], [0.4971022307872772, 0.5405994057655334, 0.5515294075012207, 0.6329924464225769, 0.6278783082962036, 0.5595462918281555, 0.5307374596595764, 0.6477975845336914, 0.4810061752796173, 0.5472221970558167, 0.5779867768287659, 0.5428187251091003, 0.47801896929740906, 0.6572381258010864, 0.5808529257774353, 0.5180872082710266, 0.6025930047035217, 0.43248385190963745, 0.5533750653266907, 0.5040940642356873], [0.48911646008491516, 0.5593002438545227, 0.6536819934844971, 0.4953616261482239, 0.6488943696022034, 0.5549587607383728, 0.4726649820804596, 0.568901777267456, 0.552839457988739, 0.5519874691963196, 0.6580872535705566, 0.5619667768478394, 0.5732882618904114, 0.5294359922409058, 0.6005778908729553, 0.6114049553871155, 0.6796861290931702, 0.5631235837936401, 0.49097874760627747, 0.6209967136383057], [0.5192711353302002, 0.6757459044456482, 0.6464093923568726, 0.5790922045707703, 0.5375045537948608, 0.628730833530426, 0.5483299493789673, 0.5590863227844238, 0.4595543146133423, 0.7264875173568726, 0.5210698843002319, 0.6917006373405457, 0.46266040205955505, 0.3943154513835907, 0.5886082649230957, 0.681233286857605, 0.6147417426109314, 0.5188958644866943, 0.4926644265651703, 0.6192707419395447], [0.6545872092247009, 0.5685174465179443, 0.5901617407798767, 0.6399310231208801, 0.6941925883293152, 0.65605229139328, 0.5788779258728027, 0.580559492111206, 0.6970685720443726, 0.546090841293335, 0.6088240146636963, 0.49195873737335205, 0.6371712684631348, 0.647236704826355, 0.6381571292877197, 0.43156182765960693, 0.5598183870315552, 0.6652160286903381, 0.46225816011428833, 0.6658449769020081], [0.6954594254493713, 0.5901567339897156, 0.48401975631713867, 0.4173445403575897, 0.6428837180137634, 0.4322449862957001, 0.4170495867729187, 0.672025203704834, 0.5275418758392334, 0.4631913900375366, 0.6859051585197449, 0.5557346940040588, 0.3923914134502411, 0.7657878994941711, 0.763804018497467, 0.5052489042282104, 0.47318026423454285, 0.6324615478515625, 0.538982629776001, 0.5353596210479736], [1.0023448467254639, 0.8468890190124512, 0.664435863494873, 0.4532507061958313, 0.6132059097290039, 0.607846200466156, 0.4619767367839813, 0.5781201124191284, 0.5840977430343628, 0.6309213042259216, 0.5435553193092346, 0.5938931107521057, 0.6055750250816345, 0.7386397123336792, 0.7306748032569885, 0.6640872955322266, 0.6436547636985779, 0.5607048273086548, 0.5425450205802917, 0.631230354309082], [0.4741362929344177, 0.5102705359458923, 0.5498167872428894, 0.6169237494468689, 0.6999841928482056, 0.6876885294914246, 0.7552669644355774, 0.7945922017097473, 0.47710660099983215, 0.7579486966133118, 0.6301125884056091, 0.6367043256759644, 0.6995083689689636, 0.4773511290550232, 0.44929972290992737, 0.6037279367446899, 0.5828136801719666, 0.6730793714523315, 0.5671921372413635, 0.6561375260353088], [0.6429845094680786, 0.6127133369445801, 0.6306607723236084, 0.5308464765548706, 0.6212066411972046, 0.6192469596862793, 0.6442292332649231, 0.6120275259017944, 0.593858540058136, 0.44845283031463623, 0.6442026495933533, 0.4819616675376892, 0.7266793251037598, 0.7664498090744019, 0.7440871596336365, 0.5464485883712769, 0.5614704489707947, 0.5606986880302429, 0.6610710620880127, 0.6410366892814636], [0.8179518580436707, 0.7195184230804443, 0.7594071626663208, 0.6272132396697998, 0.5660665035247803, 0.709458589553833, 0.5840359330177307, 0.6233559250831604, 0.9366614818572998, 0.5680519938468933, 0.6155399680137634, 0.6044996380805969, 0.5781102180480957, 0.5185569524765015, 0.6099814176559448, 0.4612773060798645, 0.5505200028419495, 0.6412668228149414, 0.757956326007843, 0.7847581505775452], [0.6519901752471924, 0.6057838201522827, 0.5490168333053589, 0.6266240477561951, 0.5912949442863464, 0.5198045372962952, 0.5389779210090637, 0.7638080716133118, 0.6480955481529236, 0.5295454263687134, 0.676410973072052, 0.8363921046257019, 0.5843576788902283, 0.6515854001045227, 0.7150598168373108, 0.7302963733673096, 0.6050455570220947, 0.7518429756164551, 0.8093647956848145, 0.6060318946838379], [0.6674432754516602, 0.6307162046432495, 0.518227756023407, 0.792931079864502, 0.6954003572463989, 0.7439066767692566, 0.6966651082038879, 0.7614015340805054, 0.5683819055557251, 0.63359534740448, 0.7453251481056213, 0.7237533330917358, 0.5543591380119324, 0.62474524974823, 0.5674813985824585, 0.5881377458572388, 0.6477630734443665, 0.6075802445411682, 0.46660277247428894, 0.5558874607086182], [0.612083375453949, 0.5605570077896118, 0.7610296607017517, 0.5646040439605713, 0.7195802927017212, 0.6185175180435181, 0.7002986669540405, 0.6503111124038696, 0.6670803427696228, 0.5369507074356079, 0.6029606461524963, 0.4931489825248718, 0.5180408954620361, 0.6415557265281677, 0.5464383363723755, 0.5906844139099121, 0.5295613408088684, 0.4497218728065491, 0.7815350294113159, 0.680091917514801], [0.5146483778953552, 0.7274467349052429, 0.5889126658439636, 0.5431291460990906, 0.5071597695350647, 0.512354850769043, 0.7828719615936279, 0.7448134422302246, 0.7003916501998901, 0.7273593544960022, 0.4563405215740204, 0.5981132984161377, 0.8346739411354065, 0.5812382102012634, 0.6896288990974426, 0.6379028558731079, 0.6167491674423218, 0.44905272126197815, 0.6839134693145752, 0.5657248497009277], [0.6242567300796509, 0.7070149183273315, 0.6692359447479248, 0.6071347594261169, 0.6009407639503479, 0.5917153358459473, 0.6191854476928711, 0.6419069766998291, 0.5988059639930725, 0.4863394796848297, 0.8253278732299805, 0.5565694570541382, 0.6817572116851807, 0.5388393998146057, 0.679780125617981, 0.504066526889801, 0.6096896529197693, 0.6185625791549683, 0.586510419845581, 0.5814171433448792], [0.6623166799545288, 0.595728874206543, 0.7586626410484314, 0.6365513205528259, 0.7121027112007141, 0.8250997066497803, 0.7077752351760864, 0.6682883501052856, 0.7329990267753601, 0.5742521286010742, 0.6287330985069275, 0.585999071598053, 0.6667383909225464, 0.5805634260177612, 0.6128324270248413, 0.5681164264678955, 0.7057680487632751, 0.5675210952758789, 0.6608793139457703, 0.5985707640647888], [0.6807470917701721, 0.4948124885559082, 0.6342164874076843, 0.7464368343353271, 0.6740932464599609, 0.692750096321106, 0.512481153011322, 0.6416122317314148, 0.5983933210372925, 0.5773555636405945, 0.5793033242225647, 0.49118146300315857, 0.5850799083709717, 0.72981858253479, 0.7089651823043823, 0.44808435440063477, 0.36418160796165466, 0.6279527544975281, 0.5706628561019897, 0.4016088843345642], [0.6615764498710632, 0.6312605738639832, 0.5217497944831848, 0.6686142086982727, 0.4566079080104828, 0.43632009625434875, 0.6359559893608093, 0.5257484912872314, 0.49955543875694275, 0.5508166551589966, 0.6674691438674927, 0.524703860282898, 0.5087113976478577, 0.5849779844284058, 0.48568812012672424, 0.5662323832511902, 0.6898648142814636, 0.6126991510391235, 0.7789549231529236, 0.8116622567176819], [0.7210590839385986, 0.6649201512336731, 0.5715810656547546, 0.6676357388496399, 0.6125574111938477, 0.7612592577934265, 0.6710337996482849, 0.5481455326080322, 0.4880426824092865, 0.4989438056945801, 0.6162559390068054, 0.508213222026825, 0.7578481435775757, 0.6298866868019104, 0.5087283253669739, 0.545183539390564, 0.5437006950378418, 0.8428131341934204, 0.5414628386497498, 0.5749483108520508], [0.6103892922401428, 0.4884290099143982, 0.7874914407730103, 0.434268981218338, 0.5938502550125122, 0.5328001976013184, 0.5415945649147034, 0.5829110741615295, 0.6099386215209961, 0.581365704536438, 0.5043681859970093, 0.6669106483459473, 0.730119526386261, 0.610011100769043, 0.5044307708740234, 0.6679186820983887, 0.5079545974731445, 0.7213645577430725, 0.5034603476524353, 0.7432190179824829], [0.6986188292503357, 0.7869504690170288, 0.5975440144538879, 0.525463342666626, 0.5589632391929626, 0.47779133915901184, 0.7197911739349365, 0.688763439655304, 0.4929804503917694, 0.8111022710800171, 0.7722345590591431, 0.538718581199646, 0.5606296062469482, 0.5574010014533997, 0.7182890772819519, 0.6703416109085083, 0.5468688607215881, 0.7474215626716614, 0.46915096044540405, 0.8059631586074829], [0.6922926902770996, 0.5593984127044678, 0.5490576028823853, 0.6209847331047058, 0.5967473983764648, 0.8779993057250977, 0.6616989970207214, 0.4823552370071411, 0.5058279633522034, 0.7716010212898254, 0.6118981838226318, 0.7594835162162781, 0.590088427066803, 0.5962094068527222, 0.530403733253479, 0.6689833998680115, 0.5912281274795532, 0.682594358921051, 0.6605948805809021, 0.4444713890552521], [0.46110999584198, 0.4795529842376709, 0.5676084756851196, 0.6261201500892639, 0.4992774426937103, 0.7089982628822327, 0.5470226407051086, 0.4676896929740906, 0.5739040374755859, 0.70445716381073, 0.40592822432518005, 0.6257880926132202, 0.6559584736824036, 0.7831699252128601, 0.5953734517097473, 0.6602150201797485, 0.58966463804245, 0.7438411712646484, 0.4582432806491852, 0.5859498381614685], [0.49861979484558105, 0.6929938793182373, 0.7220673561096191, 0.7036778926849365, 0.5529313087463379, 0.5412142872810364, 0.4591943919658661, 0.7359843254089355, 0.4557449221611023, 0.5976126194000244, 0.6549067497253418, 0.7016804814338684, 0.5752048492431641, 0.7283831238746643, 0.4775662422180176, 0.531574547290802, 0.7187320590019226, 0.6159066557884216, 0.7597483396530151, 0.5211443305015564], [0.6921917200088501, 0.7790951728820801, 0.6115180850028992, 0.4518084228038788, 0.7068483829498291, 0.546761691570282, 0.5323817729949951, 0.802161455154419, 0.7225085496902466, 0.7823496460914612, 0.5129494071006775, 0.6064255237579346, 0.6508738994598389, 0.5314146280288696, 0.8499800562858582, 0.7391054034233093, 0.8291375637054443, 0.6653683185577393, 0.7638435959815979, 0.6398062705993652], [0.7534435987472534, 0.5182409882545471, 0.6850633025169373, 0.43415287137031555, 0.5593658685684204, 0.697704553604126, 0.6320217251777649, 0.6894858479499817, 0.6491120457649231, 0.7564334273338318, 0.6095064282417297, 0.5978527069091797, 0.5113332867622375, 0.6399590373039246, 0.5476698279380798, 0.49664196372032166, 0.4805924892425537, 0.5596595406532288, 0.8995322585105896, 0.6913729906082153], [0.5496978163719177, 0.678252637386322, 0.6277671456336975, 0.5403540730476379, 0.6783232688903809, 0.5916950106620789, 0.5886540412902832, 0.656703770160675, 0.5365029573440552, 0.48301073908805847, 0.84132981300354, 0.5863859057426453, 0.603381335735321, 0.4873550534248352, 0.7196234464645386, 0.6758418679237366, 0.6812434792518616, 0.6256522536277771, 0.5787057280540466, 0.5376733541488647], [0.742313027381897, 0.4496214687824249, 0.5647874474525452, 0.6158884167671204, 0.8719859719276428, 0.6126202344894409, 0.6085507273674011, 0.576932966709137, 0.6699069738388062, 0.6290172338485718, 0.705647349357605, 0.5361080169677734, 0.5562179088592529, 0.4856905937194824, 0.5501968860626221, 0.5561398267745972, 0.5999042391777039, 0.674551248550415, 0.5822551846504211, 0.6806187629699707], [0.4807010591030121, 0.6513361930847168, 0.47496339678764343, 0.6232824921607971, 0.630119800567627, 0.676533043384552, 0.42802727222442627, 0.6744585037231445, 0.8375566005706787, 0.5629007816314697, 0.6752287149429321, 0.631743311882019, 0.5704775452613831, 0.39214715361595154, 0.7564810514450073, 0.6693105101585388, 0.5439029335975647, 0.7539112567901611, 0.4781245291233063, 0.5161957144737244], [0.5673767328262329, 0.5811414122581482, 0.547332227230072, 0.7494568228721619, 0.5424886345863342, 0.7743165493011475, 0.5791541934013367, 0.6114106178283691, 0.608867347240448, 0.6125507950782776, 0.5701099634170532, 0.7091599702835083, 0.749440610408783, 0.5508337616920471, 0.5725749731063843, 0.6985365748405457, 0.4202803671360016, 0.6345083713531494, 0.7476945519447327, 0.628471314907074], [0.43040546774864197, 0.5447911620140076, 0.7034156322479248, 0.45176878571510315, 0.5122432112693787, 0.8063339591026306, 0.5982897281646729, 0.6648503541946411, 0.7038578391075134, 0.6521502733230591, 0.6726140975952148, 0.6568974256515503, 0.4877196252346039, 0.5230062007904053, 0.6970769166946411, 0.6399308443069458, 0.49272873997688293, 0.7090988755226135, 0.5629024505615234, 0.5802701711654663], [0.5618086457252502, 0.6360930800437927, 0.7845666408538818, 0.5877506136894226, 0.7309677600860596, 0.6355545520782471, 0.7041976451873779, 0.8102020025253296, 0.8772721886634827, 0.6353216767311096, 0.5592450499534607, 0.47109895944595337, 0.6621001362800598, 0.7339004874229431, 0.5530954599380493, 0.5399618744850159, 0.5773869156837463, 0.5017551779747009, 0.38043445348739624, 0.557765543460846], [0.7188875675201416, 0.49535834789276123, 0.6442657113075256, 0.6282448172569275, 0.6678828597068787, 0.47528284788131714, 0.4266461431980133, 0.42063042521476746, 0.5531635880470276, 0.49533528089523315, 0.6813592314720154, 0.5991641879081726, 0.6298297047615051, 0.6706553101539612, 0.6037365198135376, 0.6319924592971802, 0.535028338432312, 0.6139208078384399, 0.5108391642570496, 0.5438141226768494], [0.5369095802307129, 0.6610244512557983, 0.4870445430278778, 0.6042405962944031, 0.4212784767150879, 0.592388927936554, 0.5420919060707092, 0.5498958826065063, 0.5664072632789612, 0.5660666227340698, 0.5263768434524536, 0.5507622361183167, 0.4637477695941925, 0.7607244253158569, 0.8334766030311584, 0.5059338212013245, 0.6721388101577759, 0.5201781392097473, 0.6251645088195801, 0.7440707683563232], [0.5305521488189697, 0.6190955638885498, 0.4854282736778259, 0.7412259578704834, 0.7145816683769226, 0.6794902682304382, 0.738114595413208, 0.6082582473754883, 0.4942277669906616, 0.8650171756744385, 0.5849260687828064, 0.49642592668533325, 0.4488550126552582, 0.5872274041175842, 0.5649815797805786, 0.5543178915977478, 0.44696810841560364, 0.5429027080535889, 0.48471617698669434, 0.736726701259613], [0.775389552116394, 0.6584073305130005, 0.475314199924469, 0.50487220287323, 0.5029449462890625, 0.3290756046772003, 0.5707826018333435, 0.594730794429779, 0.4621313512325287, 0.5877286791801453, 0.6404139995574951, 0.565771222114563, 0.503890335559845, 0.6738789677619934, 0.429863840341568, 0.5379475355148315, 0.5398034453392029, 0.6426642537117004, 0.6818794012069702, 0.6850536465644836], [0.6342203617095947, 0.5164653062820435, 0.5783533453941345, 0.5602859854698181, 0.3152530789375305, 0.64848792552948, 0.5851832032203674, 0.7319647073745728, 0.48033446073532104, 0.5701475143432617, 0.48171675205230713, 0.7119439840316772, 0.5998570919036865, 0.627531111240387, 0.5814458727836609, 0.5322253704071045, 0.6039572954177856, 0.5256463289260864, 0.7531366944313049, 0.6404417157173157], [0.5279061198234558, 0.5572812557220459, 0.5028086304664612, 0.5895363092422485, 0.5271356105804443, 0.6348291039466858, 0.5994458198547363, 0.6531550884246826, 0.706062376499176, 0.7611144185066223, 0.6016217470169067, 0.48545026779174805, 0.6088337302207947, 0.5295799970626831, 0.6235482692718506, 0.48125967383384705, 0.45648306608200073, 0.6384395360946655, 0.6029508113861084, 0.8778527975082397], [0.5905618071556091, 0.5507370233535767, 0.6757000684738159, 0.7828782796859741, 0.6510111689567566, 0.6987770199775696, 0.396890789270401, 0.5079115033149719, 0.5597730278968811, 0.736930251121521, 0.7231439352035522, 0.7077014446258545, 0.585045576095581, 0.40679776668548584, 0.6918091773986816, 0.44602882862091064, 0.5619746446609497, 0.5539644360542297, 0.5896119475364685, 0.6037930250167847], [0.5075770616531372, 0.6660211086273193, 0.4992629289627075, 0.6263145804405212, 0.5835491418838501, 0.5180954933166504, 0.49305465817451477, 0.6211080551147461, 0.5730904936790466, 0.5835835337638855, 0.5917364358901978, 0.595366895198822, 0.552001953125, 0.45383864641189575, 0.6046537160873413, 0.695600688457489, 0.5472779870033264, 0.7238476276397705, 0.6179379224777222, 0.6439664363861084], [0.5437103509902954, 0.5458767414093018, 0.6831216216087341, 0.5612430572509766, 0.7161729335784912, 0.5621252059936523, 0.4377060532569885, 0.5509779453277588, 0.5117658376693726, 0.7596349120140076, 0.6381802558898926, 0.5136590003967285, 0.5870600938796997, 0.4999069571495056, 0.527754545211792, 0.7959697842597961, 0.5627945065498352, 0.4237278401851654, 0.5236561298370361, 0.5441194176673889], [0.8446755409240723, 0.5597540140151978, 0.5886744260787964, 0.8034265041351318, 0.5084136724472046, 0.6001843214035034, 0.44760027527809143, 0.6254771947860718, 0.6909909844398499, 0.5637177228927612, 0.6425907015800476, 0.5186764597892761, 0.41870543360710144, 0.5755478739738464, 0.589587390422821, 0.5006881356239319, 0.49449974298477173, 0.5935249924659729, 0.6147727370262146, 0.396002858877182], [0.6234836578369141, 0.5299776792526245, 0.4630858302116394, 0.6204776167869568, 0.7644266486167908, 0.828488826751709, 0.555846095085144, 0.7995677590370178, 0.6080964803695679, 0.7132493257522583, 0.6580972671508789, 0.561702311038971, 0.5692291855812073, 0.6000827550888062, 0.7349902391433716, 0.6011629104614258, 0.5997490882873535, 0.694211483001709, 0.5210704803466797, 0.5353845357894897], [0.4943395256996155, 0.6097446084022522, 0.5798946022987366, 0.4370434880256653, 0.5807850956916809, 0.4847892224788666, 0.5156240463256836, 0.7059106826782227, 0.5725457668304443, 0.58433997631073, 0.5489785671234131, 0.6609612703323364, 0.5725203156471252, 0.5263259410858154, 0.7230239510536194, 0.534899115562439, 0.6762321591377258, 0.45537132024765015, 0.606598973274231, 0.5697165131568909], [0.7497842311859131, 0.7001667618751526, 0.714005708694458, 0.7916173934936523, 0.4747905433177948, 0.6278830766677856, 0.6624423265457153, 0.6752997636795044, 0.4694644808769226, 0.8312696814537048, 0.5235915184020996, 0.5041919350624084, 0.5195414423942566, 0.5118445754051208, 0.6096879839897156, 0.7277097702026367, 0.5431004166603088, 0.6432880759239197, 0.43666863441467285, 0.44701728224754333], [0.6784651279449463, 0.38538455963134766, 0.5361548066139221, 0.537821352481842, 0.5265542268753052, 0.7610889673233032, 0.45374006032943726, 0.7826982140541077, 0.6219815015792847, 0.598459005355835, 0.6274421811103821, 0.564082682132721, 0.5939629673957825, 0.5285523533821106, 0.5977301001548767, 0.6034801006317139, 0.43784892559051514, 0.5874742269515991, 0.472757488489151, 0.6939040422439575]] \n",
      "\n",
      "\n",
      "\n"
     ]
    },
    {
     "data": {
      "image/png": "[encoded data removed]",
      "text/plain": [
       "<Figure size 1152x576 with 1 Axes>"
      ]
     },
     "metadata": {
      "needs_background": "light"
     },
     "output_type": "display_data"
    }
   ],
   "source": [
    "average_acc_cluster_list, average_loss_cluster_list = [], []\n",
    "\n",
    "\n",
    "for i in range(len(Cluster_ACC)):    \n",
    "    average_acc_cluster_list.append(np.mean(Cluster_ACC[i]))\n",
    "    average_loss_cluster_list.append(np.mean(Cluster_LOSS[i]))\n",
    "\n",
    "    \n",
    "plt.figure(figsize=(16,8))\n",
    "plt.plot(average_acc_cluster_list, label='Cluster Acc')\n",
    "print(Cluster_ACC)\n",
    "print(Cluster_LOSS,\"\\n\\n\\n\")\n",
    "plt.plot(average_loss_cluster_list, label='Cluster Loss')\n",
    "\n",
    "plt.grid(True)\n",
    "plt.legend()\n",
    "plt.show()\n"
   ]
  },
  {
   "cell_type": "code",
   "execution_count": null,
   "metadata": {},
   "outputs": [],
   "source": []
  },
  {
   "cell_type": "code",
   "execution_count": null,
   "metadata": {},
   "outputs": [],
   "source": []
  },
  {
   "cell_type": "code",
   "execution_count": null,
   "metadata": {},
   "outputs": [],
   "source": []
  },
  {
   "cell_type": "code",
   "execution_count": null,
   "metadata": {},
   "outputs": [],
   "source": []
  },
  {
   "cell_type": "code",
   "execution_count": null,
   "metadata": {},
   "outputs": [],
   "source": []
  },
  {
   "cell_type": "code",
   "execution_count": null,
   "metadata": {
    "id": "7afw9VS7PwPX"
   },
   "outputs": [],
   "source": []
  }
 ],
 "metadata": {
  "accelerator": "GPU",
  "colab": {
   "authorship_tag": "ABX9TyMipZLNQ7Dn7KD9b2Byoc2e",
   "collapsed_sections": [],
   "name": "Test1_paper_Clustering+Non-linear.ipynb",
   "provenance": []
  },
  "kernelspec": {
   "display_name": "Python 3",
   "language": "python",
   "name": "python3"
  },
  "language_info": {
   "codemirror_mode": {
    "name": "ipython",
    "version": 3
   },
   "file_extension": ".py",
   "mimetype": "text/x-python",
   "name": "python",
   "nbconvert_exporter": "python",
   "pygments_lexer": "ipython3",
   "version": "3.8.8"
  }
 },
 "nbformat": 4,
 "nbformat_minor": 1
}
