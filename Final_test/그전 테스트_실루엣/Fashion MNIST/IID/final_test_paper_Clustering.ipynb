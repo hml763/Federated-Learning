{
 "cells": [
  {
   "cell_type": "code",
   "execution_count": 1,
   "metadata": {
    "executionInfo": {
     "elapsed": 3787,
     "status": "ok",
     "timestamp": 1627658864261,
     "user": {
      "displayName": "이훈민",
      "photoUrl": "",
      "userId": "00157268181097362793"
     },
     "user_tz": 240
    },
    "id": "cg7gm5FVyA3r"
   },
   "outputs": [],
   "source": [
    "import numpy as np\n",
    "import tensorflow as tf\n",
    "import matplotlib.pyplot as plt\n",
    "import sys\n",
    "import time\n",
    "import math\n",
    "import random\n",
    "import copy\n",
    "import warnings\n",
    "warnings.simplefilter(action='ignore', category=FutureWarning)\n",
    "\n",
    "import keras\n",
    "from tensorflow import keras\n",
    "from keras.models import Sequential\n",
    "from keras.layers import Dense, Dropout, Flatten\n",
    "from tensorflow.keras import datasets, layers, models\n",
    "from keras.layers.convolutional import Conv2D, MaxPooling2D\n",
    "from keras.layers import Dense, Activation, Flatten, Conv2D, MaxPooling2D\n",
    "from keras.utils.np_utils import to_categorical\n",
    "from sklearn.cluster import KMeans, AgglomerativeClustering\n",
    "from tensorflow.keras.datasets import cifar10 \n",
    "from keras.datasets import fashion_mnist \n",
    "from sklearn.metrics import silhouette_samples, silhouette_score\n",
    "\n",
    "mod = sys.modules[__name__]"
   ]
  },
  {
   "cell_type": "code",
   "execution_count": 2,
   "metadata": {
    "executionInfo": {
     "elapsed": 29,
     "status": "ok",
     "timestamp": 1627658864287,
     "user": {
      "displayName": "이훈민",
      "photoUrl": "",
      "userId": "00157268181097362793"
     },
     "user_tz": 240
    },
    "id": "-gn3HoNnyGdo"
   },
   "outputs": [],
   "source": [
    "def distribution_check(dataset):\n",
    "        #분포가 다름;\n",
    "    one,two,three,four,five,six,seven,eight,nine,ten=0,0,0,0,0,0,0,0,0,0\n",
    "\n",
    "    for i in range(len(dataset)):\n",
    "        if(dataset[i]==1):    one+=1\n",
    "        elif(dataset[i]==2):  two+=1\n",
    "        elif(dataset[i]==3):  three+=1\n",
    "        elif(dataset[i]==4):  four+=1\n",
    "        elif(dataset[i]==5):  five+=1\n",
    "        elif(dataset[i]==6):  six+=1\n",
    "        elif(dataset[i]==7):  seven+=1\n",
    "        elif(dataset[i]==8):  eight+=1\n",
    "        elif(dataset[i]==9):  nine+=1\n",
    "        elif(dataset[i]==0):  ten+=1\n",
    "\n",
    "    #print(one,two,three,four,five,six,seven,eight,nine,ten)\n",
    "    #print(\"Sum : \", one+two+three+four+five+six+seven+eight+nine+ten)\n",
    "    sums = one+two+three+four+five+six+seven+eight+nine+ten\n",
    "    for_graph=[one,two,three,four,five,six,seven,eight,nine,ten]\n",
    "    \n",
    "    return for_graph, sums\n",
    "\n",
    "def local_model_generate(model): #초기 모델 생성\n",
    "    model = models.Sequential()\n",
    "    model.add(layers.Conv2D(32, (3, 3), activation='relu', input_shape=(28, 28, 1)))\n",
    "    model.add(layers.MaxPooling2D((2, 2)))\n",
    "    model.add(layers.Conv2D(64, (3, 3), activation='relu'))\n",
    "    model.add(layers.MaxPooling2D((2, 2)))\n",
    "    model.add(layers.Conv2D(64, (3, 3), activation='relu'))\n",
    "    model.add(layers.Flatten())\n",
    "    model.add(layers.Dense(64, activation='relu'))\n",
    "    model.add(layers.Dense(10, activation='softmax'))\n",
    "    \n",
    "    return model\n",
    "\n",
    "def step_function(data):\n",
    "    if data > 0:\n",
    "        return 1\n",
    "    else:\n",
    "        return 0\n",
    "\n",
    "def sigmoid(data):\n",
    "    return 1/(1+np.exp(-data))\n",
    "\n",
    "def relu(data):\n",
    "    return np.maximum(0,data)\n",
    "\n",
    "def random_check(local, train_data, test_data):\n",
    "    check_distribution_train_data, check_distribution_test_data, y_train_tmp, y_test_tmp = [], [], [], []\n",
    "    sum1, sum2, data_index = 0,0, np.arange(0,10)\n",
    "\n",
    "    for j in range(len(train_data)):\n",
    "        y_train_tmp.append(np.argmax(train_data[j])) #원핫인코딩에서 다시 0~9 레이블로 변환\n",
    "\n",
    "    for j in range(len(test_data)):\n",
    "        y_test_tmp.append(np.argmax(test_data[j]))\n",
    "\n",
    "    check_distribution_train_data, sum_train = distribution_check(y_train_tmp) #한번 밖에 실행 못함\n",
    "    check_distribution_test_data, sum_test = distribution_check(y_test_tmp)\n",
    "    sum1, sum2 = (sum1 + sum_train), (sum2 + sum_test)\n",
    "    \n",
    "    return check_distribution_train_data, check_distribution_test_data\n"
   ]
  },
  {
   "cell_type": "code",
   "execution_count": 3,
   "metadata": {
    "colab": {
     "base_uri": "https://localhost:8080/"
    },
    "executionInfo": {
     "elapsed": 1990,
     "status": "ok",
     "timestamp": 1627658866249,
     "user": {
      "displayName": "이훈민",
      "photoUrl": "",
      "userId": "00157268181097362793"
     },
     "user_tz": 240
    },
    "id": "CSRQl-noyHx9",
    "outputId": "caa9e16f-3624-4192-907b-6a4530663e7e"
   },
   "outputs": [
    {
     "name": "stdout",
     "output_type": "stream",
     "text": [
      "(60000, 28, 28) (10000, 28, 28)\n"
     ]
    }
   ],
   "source": [
    "(x_train, y_train), (x_test, y_test) = fashion_mnist.load_data()\n",
    "print(x_train.shape, x_test.shape)\n",
    "num_train, num_test = len(x_train),  len(x_test) "
   ]
  },
  {
   "cell_type": "code",
   "execution_count": 4,
   "metadata": {
    "executionInfo": {
     "elapsed": 6,
     "status": "ok",
     "timestamp": 1627658866250,
     "user": {
      "displayName": "이훈민",
      "photoUrl": "",
      "userId": "00157268181097362793"
     },
     "user_tz": 240
    },
    "id": "YvgMHy1ByI7c"
   },
   "outputs": [],
   "source": [
    "local = 21 # 10개 : 1~10 => 11은 포함 안됨\n",
    "batch_size, epochs = 32, 10\n",
    "global_epoch = 0\n",
    "num_layers = 8"
   ]
  },
  {
   "cell_type": "code",
   "execution_count": 5,
   "metadata": {
    "colab": {
     "base_uri": "https://localhost:8080/"
    },
    "executionInfo": {
     "elapsed": 5,
     "status": "ok",
     "timestamp": 1627658866250,
     "user": {
      "displayName": "이훈민",
      "photoUrl": "",
      "userId": "00157268181097362793"
     },
     "user_tz": 240
    },
    "id": "NtlWlG2EyKwJ",
    "outputId": "13d78e48-942e-469a-b62b-408c864761b2"
   },
   "outputs": [
    {
     "name": "stdout",
     "output_type": "stream",
     "text": [
      "Step 1 x_train shape: (60000, 28, 28)\n",
      "Step 2 x_train shape: (60000, 28, 28, 1)\n",
      "60000 train samples\n",
      "10000 test samples\n"
     ]
    }
   ],
   "source": [
    "# Model / data parameters\n",
    "num_classes = 10\n",
    "input_shape = (28, 28, 1)\n",
    "\n",
    "# Scale images to the [0, 1] range\n",
    "x_train = x_train.astype(\"float32\") / 255\n",
    "x_test = x_test.astype(\"float32\") / 255\n",
    "\n",
    "print(\"Step 1 x_train shape:\", x_train.shape)\n",
    "\n",
    "x_train = x_train.reshape((num_train, 28, 28, 1))\n",
    "x_test = x_test.reshape((num_test, 28, 28, 1))\n",
    "\n",
    "print(\"Step 2 x_train shape:\", x_train.shape)\n",
    "print(x_train.shape[0], \"train samples\")\n",
    "print(x_test.shape[0], \"test samples\")\n",
    "# convert class vectors to binary class matrices => one hot encoding 지금은 [3,6,2,5,4,8..] 섞여있음 \n",
    "\n",
    "y_train = keras.utils.to_categorical(y_train, num_classes)\n",
    "y_test = keras.utils.to_categorical(y_test, num_classes)"
   ]
  },
  {
   "cell_type": "code",
   "execution_count": 8,
   "metadata": {
    "colab": {
     "base_uri": "https://localhost:8080/"
    },
    "executionInfo": {
     "elapsed": 966,
     "status": "ok",
     "timestamp": 1627662382510,
     "user": {
      "displayName": "이훈민",
      "photoUrl": "",
      "userId": "00157268181097362793"
     },
     "user_tz": 240
    },
    "id": "I2uyTUGiyaSd",
    "outputId": "9701b3af-beec-4180-ce33-198e018376bd"
   },
   "outputs": [
    {
     "name": "stdout",
     "output_type": "stream",
     "text": [
      "0  번째 global_epoch 데이터 랜덤하게 준비!!\n",
      "check=>: should be 0 ==  60000\n",
      "0  번째 global_epoch 데이터 랜덤 준비완료!!\n"
     ]
    }
   ],
   "source": [
    "#랜덤 비복원추출, 동등하게 10% 씩 =  로컬 데이터 추출 ------------------------------------------------------------------------------\n",
    "\n",
    "global_epoch = 0\n",
    "local = 21\n",
    "\n",
    "print(global_epoch, \" 번째 global_epoch 데이터 랜덤하게 준비!!\")\n",
    "\n",
    "for i in range(1,local): #데이터 변수 선언, 빈 리스트로 초기화\n",
    "    globals()['L{}_x_train'.format(i)], globals()['L{}_x_test'.format(i)] = [], []  \n",
    "    globals()['L{}_y_train'.format(i)], globals()['L{}_y_test'.format(i)] = [], []  \n",
    "\n",
    "x_train_range = list(np.arange(0,len(x_train)))  #0~59,999\n",
    "x_test_range = list(np.arange(0,len(x_test)))  #0~9,999\n",
    "\n",
    "for n in range(1,local): #Data_x_train_range, 잘 작동함 => 확인 완료\n",
    "    tmp, tmp2 = [], []\n",
    "    tmp = random.sample(list(x_train_range), int(num_train/(local-1)))  #1/10개 만큼 인덱스 랜덤 비복원 추출 => 랜덤으로 해야함\n",
    "    tmp2 = random.sample(list(x_test_range), int(num_test/(local-1)))\n",
    "\n",
    "    for i in range(len(tmp)):\n",
    "        globals()['L{}_x_train'.format(n)].append(x_train[tmp[i]])  #n번째 Cluster에 분할한 실제 x_train 데이터 저장\n",
    "        globals()['L{}_y_train'.format(n)].append(y_train[tmp[i]]) \n",
    "        #x_train_range.remove(tmp[i])  #랜덤 하게 뽑힌 원소 6000개 추출했으니 안에서 삭제 => 비복원 추출\n",
    "\n",
    "    for j in range(len(tmp2)):\n",
    "        globals()['L{}_x_test'.format(n)].append(x_test[tmp2[j]])\n",
    "        globals()['L{}_y_test'.format(n)].append(y_test[tmp2[j]])\n",
    "        #x_test_range.remove(tmp2[j])  #랜덤 하게 뽑힌 원소 6000개 추출했으니 안에서 삭제 => 비복원 추출\n",
    "\n",
    "print(\"check=>: should be 0 == \", len(x_train_range))  #원소 하나도 없어야 함. 확인.\n",
    "\n",
    "print(global_epoch, \" 번째 global_epoch 데이터 랜덤 준비완료!!\")"
   ]
  },
  {
   "cell_type": "code",
   "execution_count": 9,
   "metadata": {
    "colab": {
     "base_uri": "https://localhost:8080/"
    },
    "executionInfo": {
     "elapsed": 24199,
     "status": "ok",
     "timestamp": 1627662407910,
     "user": {
      "displayName": "이훈민",
      "photoUrl": "",
      "userId": "00157268181097362793"
     },
     "user_tz": 240
    },
    "id": "LztCjgrY1OxS",
    "outputId": "cb761dc5-55c2-4118-93b3-7833cd8f4629",
    "scrolled": true
   },
   "outputs": [
    {
     "name": "stdout",
     "output_type": "stream",
     "text": [
      "\n",
      "\n",
      " 0 번째 global epoch에서 로컬 클라이언트 학습시작!\n",
      "\n",
      "학습 중 ...\n",
      "\n",
      "16/16 - 0s - loss: 0.5150 - accuracy: 0.8120\n",
      "16/16 - 0s - loss: 0.4676 - accuracy: 0.8260\n",
      "16/16 - 0s - loss: 0.5397 - accuracy: 0.8160\n",
      "16/16 - 0s - loss: 0.4635 - accuracy: 0.8480\n",
      "16/16 - 0s - loss: 0.4699 - accuracy: 0.8040\n",
      "16/16 - 0s - loss: 0.5202 - accuracy: 0.8180\n",
      "16/16 - 0s - loss: 0.5273 - accuracy: 0.8140\n",
      "16/16 - 0s - loss: 0.4873 - accuracy: 0.8180\n",
      "16/16 - 0s - loss: 0.5230 - accuracy: 0.8220\n",
      "16/16 - 0s - loss: 0.4882 - accuracy: 0.8280\n",
      "16/16 - 0s - loss: 0.5205 - accuracy: 0.8080\n",
      "16/16 - 0s - loss: 0.4905 - accuracy: 0.8240\n",
      "16/16 - 0s - loss: 0.5372 - accuracy: 0.8020\n",
      "16/16 - 0s - loss: 0.3919 - accuracy: 0.8440\n",
      "16/16 - 0s - loss: 0.4636 - accuracy: 0.8360\n",
      "16/16 - 0s - loss: 0.4966 - accuracy: 0.8240\n",
      "16/16 - 0s - loss: 0.5642 - accuracy: 0.8100\n",
      "16/16 - 0s - loss: 0.5653 - accuracy: 0.7960\n",
      "16/16 - 0s - loss: 0.5115 - accuracy: 0.8280\n",
      "16/16 - 0s - loss: 0.4521 - accuracy: 0.8220\n",
      "0 번째 global epoch 로컬 클라이언트 학습완료!,  Total Training time :  192.0716826915741 \n",
      "\n",
      "\n",
      "Layer :  0   클러스터 갯수 정해짐!  갯수 :  9 7\n"
     ]
    },
    {
     "name": "stderr",
     "output_type": "stream",
     "text": [
      "<ipython-input-9-32b596a4692c>:108: VisibleDeprecationWarning: Creating an ndarray from ragged nested sequences (which is a list-or-tuple of lists-or-tuples-or ndarrays with different lengths or shapes) is deprecated. If you meant to do this, you must specify 'dtype=object' when creating the ndarray\n",
      "  globals()['G{}_c{}_w_layer{}'.format(global_epoch, num_c_w, layer_index)] = globals()['G{}_c{}_w_layer{}'.format(global_epoch, num_c_w, layer_index)] + np.array(globals()['L{}_layer{}_w'.format(i,layer_index)])          # 일반 클러스터링\n"
     ]
    },
    {
     "name": "stdout",
     "output_type": "stream",
     "text": [
      "Layer :  2   클러스터 갯수 정해짐!  갯수 :  4 2\n"
     ]
    },
    {
     "name": "stderr",
     "output_type": "stream",
     "text": [
      "<ipython-input-9-32b596a4692c>:108: VisibleDeprecationWarning: Creating an ndarray from ragged nested sequences (which is a list-or-tuple of lists-or-tuples-or ndarrays with different lengths or shapes) is deprecated. If you meant to do this, you must specify 'dtype=object' when creating the ndarray\n",
      "  globals()['G{}_c{}_w_layer{}'.format(global_epoch, num_c_w, layer_index)] = globals()['G{}_c{}_w_layer{}'.format(global_epoch, num_c_w, layer_index)] + np.array(globals()['L{}_layer{}_w'.format(i,layer_index)])          # 일반 클러스터링\n"
     ]
    },
    {
     "name": "stdout",
     "output_type": "stream",
     "text": [
      "Layer :  4   클러스터 갯수 정해짐!  갯수 :  2 0\n"
     ]
    },
    {
     "name": "stderr",
     "output_type": "stream",
     "text": [
      "<ipython-input-9-32b596a4692c>:108: VisibleDeprecationWarning: Creating an ndarray from ragged nested sequences (which is a list-or-tuple of lists-or-tuples-or ndarrays with different lengths or shapes) is deprecated. If you meant to do this, you must specify 'dtype=object' when creating the ndarray\n",
      "  globals()['G{}_c{}_w_layer{}'.format(global_epoch, num_c_w, layer_index)] = globals()['G{}_c{}_w_layer{}'.format(global_epoch, num_c_w, layer_index)] + np.array(globals()['L{}_layer{}_w'.format(i,layer_index)])          # 일반 클러스터링\n"
     ]
    },
    {
     "name": "stdout",
     "output_type": "stream",
     "text": [
      "Layer :  6   클러스터 갯수 정해짐!  갯수 :  2 0\n"
     ]
    },
    {
     "name": "stderr",
     "output_type": "stream",
     "text": [
      "<ipython-input-9-32b596a4692c>:108: VisibleDeprecationWarning: Creating an ndarray from ragged nested sequences (which is a list-or-tuple of lists-or-tuples-or ndarrays with different lengths or shapes) is deprecated. If you meant to do this, you must specify 'dtype=object' when creating the ndarray\n",
      "  globals()['G{}_c{}_w_layer{}'.format(global_epoch, num_c_w, layer_index)] = globals()['G{}_c{}_w_layer{}'.format(global_epoch, num_c_w, layer_index)] + np.array(globals()['L{}_layer{}_w'.format(i,layer_index)])          # 일반 클러스터링\n"
     ]
    },
    {
     "name": "stdout",
     "output_type": "stream",
     "text": [
      "Layer :  7   클러스터 갯수 정해짐!  갯수 :  2 0\n"
     ]
    },
    {
     "name": "stderr",
     "output_type": "stream",
     "text": [
      "<ipython-input-9-32b596a4692c>:108: VisibleDeprecationWarning: Creating an ndarray from ragged nested sequences (which is a list-or-tuple of lists-or-tuples-or ndarrays with different lengths or shapes) is deprecated. If you meant to do this, you must specify 'dtype=object' when creating the ndarray\n",
      "  globals()['G{}_c{}_w_layer{}'.format(global_epoch, num_c_w, layer_index)] = globals()['G{}_c{}_w_layer{}'.format(global_epoch, num_c_w, layer_index)] + np.array(globals()['L{}_layer{}_w'.format(i,layer_index)])          # 일반 클러스터링\n"
     ]
    }
   ],
   "source": [
    "#준비된 데이터 (IID / NON-IID) np.array로\n",
    "\n",
    "local = 21\n",
    "best_Sil_score_c = []\n",
    "Silhouette_sc_c = []\n",
    "\n",
    "global_epoch = 0\n",
    "acc, loss = 0, 0\n",
    "cluster_acc, cluster_loss, Cluster_ACC, Cluster_LOSS = [], [], [], [] \n",
    "num_layers_list = [0,2,4,6,7]\n",
    "label_list = []\n",
    "VAR_final_list_w, VAR_final_list_b = [], []\n",
    "\n",
    "\n",
    "for i in range(1,local):\n",
    "    globals()['L{}_x_train'.format(i)] = np.array(globals()['L{}_x_train'.format(i)])\n",
    "    globals()['L{}_x_test'.format(i)] = np.array(globals()['L{}_x_test'.format(i)])\n",
    "    globals()['L{}_y_train'.format(i)] = np.array(globals()['L{}_y_train'.format(i)])\n",
    "    globals()['L{}_y_test'.format(i)] = np.array(globals()['L{}_y_test'.format(i)])\n",
    "\n",
    "\n",
    "print(\"\\n\\n\",global_epoch, \"번째 global epoch에서 로컬 클라이언트 학습시작!\\n\\n학습 중 ...\\n\")\n",
    "now = time.time()\n",
    "\n",
    "for i in range(1,local):\n",
    "    globals()['FedAvg_L{}_iter{}_model'.format(i, global_epoch)] = models.Sequential()  ##!!!!!!! 이게 글로벌 epoch에서는 2번째 부터 들어가면 안됨\n",
    "    globals()['FedAvg_L{}_iter{}_model'.format(i, global_epoch)] = local_model_generate(globals()['FedAvg_L{}_iter{}_model'.format(i, global_epoch)])      # initialize 필요 => 모델 프레임 구축\n",
    "\n",
    "    globals()['FedAvg_L{}_iter{}_model'.format(i, global_epoch)].compile(loss=\"categorical_crossentropy\", optimizer=\"adam\", metrics=[\"accuracy\"])\n",
    "\n",
    "    globals()['FedAvg_L{}_iter{}_model'.format(i, global_epoch)].fit(globals()['L{}_x_train'.format(i)], globals()['L{}_y_train'.format(i)], batch_size=batch_size, epochs=epochs, validation_split=0.1, verbose=0)\n",
    "\n",
    "    loss, acc = globals()['FedAvg_L{}_iter{}_model'.format(i, global_epoch)].evaluate(globals()['L{}_x_test'.format(i,global_epoch)], globals()['L{}_y_test'.format(i)], verbose=2)\n",
    "    \n",
    "    cluster_acc.append(acc)  #acc 넣기\n",
    "    cluster_loss.append(loss)  #loss 넣기\n",
    "\n",
    "\n",
    "print(global_epoch, \"번째 global epoch 로컬 클라이언트 학습완료!,  Total Training time : \", time.time()-now,\"\\n\\n\")\n",
    "\n",
    "# 로컬 모델들 학습 완료하였고 로컬모델에서 weight, bias 추출 -------------------------------------------------------------------------------------\n",
    "\n",
    "for i in range(1, local):\n",
    "    for layer_index in num_layers_list:\n",
    "        w = globals()['FedAvg_L{}_iter{}_model'.format(i, global_epoch)].layers[layer_index].get_weights() #get_weights = w[0],b[1]로 구성\n",
    "\n",
    "        globals()['L{}_layer{}_w_tmp'.format(i,layer_index)] = w      # 클러스터링 용도\n",
    "        globals()['L{}_layer{}_w'.format(i,layer_index)] = w          # weight aggregation 용도\n",
    "            \n",
    "# 클러스터에 넣을 변수 선언\n",
    "\n",
    "for layer_index in num_layers_list:\n",
    "\n",
    "    globals()['layer{}_W_tmp'.format(layer_index)] = []\n",
    "    globals()['var_list_layer{}_w'.format(layer_index)] = []\n",
    "    globals()['var_list_layer{}_b'.format(layer_index)] = []\n",
    "  \n",
    "    for i in range(1, local):\n",
    "        globals()['var_list_layer{}_w'.format(layer_index)].append(np.var(globals()['L{}_layer{}_w'.format(i,layer_index)][0]))\n",
    "        globals()['var_list_layer{}_b'.format(layer_index)].append(np.var(globals()['L{}_layer{}_w'.format(i,layer_index)][1]))\n",
    "      \n",
    "        TMP_w = list(np.array(globals()['L{}_layer{}_w_tmp'.format(i,layer_index)][0]).reshape(-1))\n",
    "        TMP_b = list(np.array(globals()['L{}_layer{}_w_tmp'.format(i,layer_index)][1]).reshape(-1))\n",
    "        \n",
    "        TMP_w.extend(TMP_b) ##append 말고 더해야함..\n",
    "\n",
    "        TMP_w = np.array(TMP_w)\n",
    "        TMP_w = list(TMP_w.reshape(-1))\n",
    "        globals()['layer{}_W_tmp'.format(layer_index)].append(TMP_w)  #클러스터링 용도\n",
    "  \n",
    "\n",
    "    #----------------------------------------------------클러스터링 실시 -------------------------------------------------------------\n",
    "    silhoutte_score_w = []\n",
    "    transformed = globals()['layer{}_W_tmp'.format(layer_index)]\n",
    "\n",
    "    for clusters in range((int(local/2)-1)):       ####=>  이 범위 : 클러스터 갯수, 밑에 보면 cluster+2 있음 = 총 10개 => (0,11) = 10                                                       \n",
    "        kmeans_model_w = KMeans(n_clusters=clusters+2)   # 0, 1은 silhouette 에 안먹힘  \n",
    "\n",
    "        kmeans_model_w.fit(transformed)       #레이블 정의 \n",
    "\n",
    "        silhoutte_score_w.append(silhouette_score(globals()['layer{}_W_tmp'.format(layer_index)], kmeans_model_w.labels_, metric='euclidean'))  \n",
    "\n",
    "    num_clusters_for_w = np.argmax(silhoutte_score_w) \n",
    "    best_Sil_score_c.append(silhoutte_score_w[num_clusters_for_w])  # 처음에는 둘 다 넣어줌\n",
    "\n",
    "    kmeans_model_w = KMeans(n_clusters=num_clusters_for_w+2)   # 0, 1은 silhouette 에 안먹힘  \n",
    "\n",
    "    globals()['w_layer{}_label'.format(layer_index)] = kmeans_model_w.fit_predict(transformed)       # 가장 적합한 클러스터로 레이어에 속한 로컬들 레이블 정의 \n",
    "\n",
    "    globals()['G{}_num_clusters_in_layer{}_w'.format(global_epoch, layer_index)] = num_clusters_for_w + 2  #나중에 몇개로 나뉘었는지 알아야 함 = num_clusters_for_w이거 그대로 하면 밑에 저게 쓸일이 많아서 global 쓰면 코딩이 너무 번잡해짐;; \n",
    "    \n",
    "    label_list.append(globals()['w_layer{}_label'.format(layer_index)])                 \n",
    "    print(\"Layer : \", layer_index, \"  클러스터 갯수 정해짐!  갯수 : \", globals()['G{}_num_clusters_in_layer{}_w'.format(global_epoch, layer_index)], num_clusters_for_w) ########################################################******************************************\n",
    "\n",
    "    # ==========> 클러스터 갯수 정해짐\n",
    "\n",
    "\n",
    "    #----------------------------------------------- 스케일링  ---------------------------------------------------------------------\n",
    "    for num_c_w in range(num_clusters_for_w+2): #클러스터 갯수 (num_clusters_for_w) 만큼 클러스터용 = 클러스터 갯수가 3이 나왔으면 3개를 만들어야 함\n",
    "        globals()['G{}_c{}_w_layer{}'.format(global_epoch, num_c_w, layer_index)] = 0  #각각 cluster, Act+cluster 용도  \n",
    "        \n",
    "        globals()['w_scaler_c{}_sum'.format(num_c_w)], globals()['int_c{}_w'.format(num_c_w)] = 0, 0 #초기화\n",
    "    \n",
    "        for i in range(1, local):\n",
    "            if globals()['w_layer{}_label'.format(layer_index)][i-1] == num_c_w  : # 클러스터 레이블에 맞게 (0 or 1 or 2 ..) \n",
    "                globals()['w_scaler_c{}_sum'.format(num_c_w)] = globals()['w_scaler_c{}_sum'.format(num_c_w)] + len(globals()['L{}_x_train'.format(i)])\n",
    "\n",
    "                globals()['G{}_c{}_w_layer{}'.format(global_epoch, num_c_w, layer_index)] = globals()['G{}_c{}_w_layer{}'.format(global_epoch, num_c_w, layer_index)] + np.array(globals()['L{}_layer{}_w'.format(i,layer_index)])          # 일반 클러스터링\n",
    "                \n",
    "                globals()['int_c{}_w'.format(num_c_w)] = globals()['int_c{}_w'.format(num_c_w)] + 1\n",
    "\n",
    "        globals()['w_scaler{}'.format(num_c_w)] = len(globals()['L{}_x_train'.format(i)]) / globals()['w_scaler_c{}_sum'.format(num_c_w)]\n",
    "        globals()['G{}_c{}_w_layer{}'.format(global_epoch, num_c_w, layer_index)] = globals()['G{}_c{}_w_layer{}'.format(global_epoch, num_c_w, layer_index)] / globals()['int_c{}_w'.format(num_c_w)] #레이어 별 클러스터 자기 갯수만큼 나눠주기=평균\n",
    "\n",
    "    \n",
    "    VAR_final_list_w.append(globals()['var_list_layer{}_w'.format(layer_index)])\n",
    "    VAR_final_list_b.append(globals()['var_list_layer{}_b'.format(layer_index)])\n",
    "\n",
    "#---------------------------------------------------------메모리 삭제-------------------------------------------------------------------\n",
    "\n",
    "transformed = 0\n",
    "Silhouette_sc_c.append(best_Sil_score_c)\n",
    "Cluster_ACC.append(cluster_acc)\n",
    "Cluster_LOSS.append(cluster_loss)\n",
    "\n",
    "## G{}_num_clusters_in_layer{}_w 에 속하는 거 말고 삭제 = 메모리 낭비\n",
    "\n",
    "# Weight, bias 합친 것\n",
    " # FedAvg                   :  G{}_w_layer\n",
    " # 일반 클러스터링          :  G{}_c{}_w_layer{}               클러스터 갯수 파악 : G{}_num_clusters_in_layer{}_w\n",
    " # Actiavtion + 클러스터링  :  G{}_c{}_w_layer{}_Act           클러스터 갯수 파악 : G{}_num_clusters_in_layer{}_w_c_a"
   ]
  },
  {
   "cell_type": "code",
   "execution_count": 10,
   "metadata": {
    "colab": {
     "base_uri": "https://localhost:8080/"
    },
    "executionInfo": {
     "elapsed": 984240,
     "status": "ok",
     "timestamp": 1627663392148,
     "user": {
      "displayName": "이훈민",
      "photoUrl": "",
      "userId": "00157268181097362793"
     },
     "user_tz": 240
    },
    "id": "T6GDN301TefI",
    "outputId": "b41f1360-a8db-4f78-9d68-708195e50031",
    "scrolled": true
   },
   "outputs": [
    {
     "name": "stdout",
     "output_type": "stream",
     "text": [
      "1  번째 global_epoch 데이터 랜덤하게 준비!!\n",
      "1  번째 global_epoch 데이터 랜덤 준비완료!!\n",
      "\n",
      "\n",
      "1  번째 global epoch에서 로컬 클라이언트 들 학습시작!\n",
      "\n",
      "학습 중 ...\n",
      "\n",
      "16/16 - 0s - loss: 0.5146 - accuracy: 0.8220\n",
      "16/16 - 0s - loss: 0.5889 - accuracy: 0.7940\n",
      "16/16 - 0s - loss: 0.5952 - accuracy: 0.7860\n",
      "16/16 - 0s - loss: 0.5678 - accuracy: 0.7620\n",
      "16/16 - 0s - loss: 0.6798 - accuracy: 0.7780\n",
      "16/16 - 0s - loss: 0.5296 - accuracy: 0.8080\n",
      "16/16 - 0s - loss: 0.6823 - accuracy: 0.7540\n",
      "16/16 - 0s - loss: 0.6695 - accuracy: 0.7380\n",
      "16/16 - 0s - loss: 0.6762 - accuracy: 0.7380\n",
      "16/16 - 0s - loss: 0.6461 - accuracy: 0.7520\n",
      "16/16 - 0s - loss: 0.5419 - accuracy: 0.7840\n",
      "16/16 - 0s - loss: 0.4592 - accuracy: 0.8380\n",
      "16/16 - 0s - loss: 0.5769 - accuracy: 0.7880\n",
      "16/16 - 0s - loss: 0.3814 - accuracy: 0.8540\n",
      "16/16 - 0s - loss: 0.5217 - accuracy: 0.8080\n",
      "16/16 - 0s - loss: 0.5845 - accuracy: 0.7740\n",
      "16/16 - 0s - loss: 0.5637 - accuracy: 0.7880\n",
      "16/16 - 0s - loss: 0.5536 - accuracy: 0.8080\n",
      "16/16 - 0s - loss: 0.6329 - accuracy: 0.7640\n",
      "16/16 - 0s - loss: 0.6047 - accuracy: 0.7980\n",
      "------------    1  번째 global epoch < Clustering > 로컬 클라이언트 학습 완료!,  Total Training time :  193.00333881378174 ---------------------------\n",
      "\n",
      "\n",
      "Layer :  0   클러스터 갯수 정해짐!  갯수 :  7 5\n"
     ]
    },
    {
     "name": "stderr",
     "output_type": "stream",
     "text": [
      "<ipython-input-10-506962b8e734>:141: VisibleDeprecationWarning: Creating an ndarray from ragged nested sequences (which is a list-or-tuple of lists-or-tuples-or ndarrays with different lengths or shapes) is deprecated. If you meant to do this, you must specify 'dtype=object' when creating the ndarray\n",
      "  globals()['G{}_c{}_w_layer{}'.format(global_epoch, num_c_w, layer_index)] = globals()['G{}_c{}_w_layer{}'.format(global_epoch, num_c_w, layer_index)] + np.array(globals()['L{}_layer{}_w_c'.format(i,layer_index)])   # 일반 클러스터링\n"
     ]
    },
    {
     "name": "stdout",
     "output_type": "stream",
     "text": [
      "Layer :  2   클러스터 갯수 정해짐!  갯수 :  2 0\n"
     ]
    },
    {
     "name": "stderr",
     "output_type": "stream",
     "text": [
      "<ipython-input-10-506962b8e734>:141: VisibleDeprecationWarning: Creating an ndarray from ragged nested sequences (which is a list-or-tuple of lists-or-tuples-or ndarrays with different lengths or shapes) is deprecated. If you meant to do this, you must specify 'dtype=object' when creating the ndarray\n",
      "  globals()['G{}_c{}_w_layer{}'.format(global_epoch, num_c_w, layer_index)] = globals()['G{}_c{}_w_layer{}'.format(global_epoch, num_c_w, layer_index)] + np.array(globals()['L{}_layer{}_w_c'.format(i,layer_index)])   # 일반 클러스터링\n"
     ]
    },
    {
     "name": "stdout",
     "output_type": "stream",
     "text": [
      "Layer :  4   클러스터 갯수 정해짐!  갯수 :  2 0\n"
     ]
    },
    {
     "name": "stderr",
     "output_type": "stream",
     "text": [
      "<ipython-input-10-506962b8e734>:141: VisibleDeprecationWarning: Creating an ndarray from ragged nested sequences (which is a list-or-tuple of lists-or-tuples-or ndarrays with different lengths or shapes) is deprecated. If you meant to do this, you must specify 'dtype=object' when creating the ndarray\n",
      "  globals()['G{}_c{}_w_layer{}'.format(global_epoch, num_c_w, layer_index)] = globals()['G{}_c{}_w_layer{}'.format(global_epoch, num_c_w, layer_index)] + np.array(globals()['L{}_layer{}_w_c'.format(i,layer_index)])   # 일반 클러스터링\n"
     ]
    },
    {
     "name": "stdout",
     "output_type": "stream",
     "text": [
      "Layer :  6   클러스터 갯수 정해짐!  갯수 :  2 0\n"
     ]
    },
    {
     "name": "stderr",
     "output_type": "stream",
     "text": [
      "<ipython-input-10-506962b8e734>:141: VisibleDeprecationWarning: Creating an ndarray from ragged nested sequences (which is a list-or-tuple of lists-or-tuples-or ndarrays with different lengths or shapes) is deprecated. If you meant to do this, you must specify 'dtype=object' when creating the ndarray\n",
      "  globals()['G{}_c{}_w_layer{}'.format(global_epoch, num_c_w, layer_index)] = globals()['G{}_c{}_w_layer{}'.format(global_epoch, num_c_w, layer_index)] + np.array(globals()['L{}_layer{}_w_c'.format(i,layer_index)])   # 일반 클러스터링\n"
     ]
    },
    {
     "name": "stdout",
     "output_type": "stream",
     "text": [
      "Layer :  7   클러스터 갯수 정해짐!  갯수 :  2 0\n",
      "\n",
      "\n",
      "====================================================== One Global Epoch =====================================================================\n",
      "\n",
      "\n",
      "2  번째 global_epoch 데이터 랜덤하게 준비!!\n"
     ]
    },
    {
     "name": "stderr",
     "output_type": "stream",
     "text": [
      "<ipython-input-10-506962b8e734>:141: VisibleDeprecationWarning: Creating an ndarray from ragged nested sequences (which is a list-or-tuple of lists-or-tuples-or ndarrays with different lengths or shapes) is deprecated. If you meant to do this, you must specify 'dtype=object' when creating the ndarray\n",
      "  globals()['G{}_c{}_w_layer{}'.format(global_epoch, num_c_w, layer_index)] = globals()['G{}_c{}_w_layer{}'.format(global_epoch, num_c_w, layer_index)] + np.array(globals()['L{}_layer{}_w_c'.format(i,layer_index)])   # 일반 클러스터링\n"
     ]
    },
    {
     "name": "stdout",
     "output_type": "stream",
     "text": [
      "2  번째 global_epoch 데이터 랜덤 준비완료!!\n",
      "\n",
      "\n",
      "2  번째 global epoch에서 로컬 클라이언트 들 학습시작!\n",
      "\n",
      "학습 중 ...\n",
      "\n",
      "16/16 - 0s - loss: 0.5786 - accuracy: 0.7900\n",
      "16/16 - 0s - loss: 0.6407 - accuracy: 0.7760\n",
      "16/16 - 0s - loss: 0.5719 - accuracy: 0.7920\n",
      "16/16 - 0s - loss: 0.5557 - accuracy: 0.8020\n",
      "16/16 - 0s - loss: 0.5902 - accuracy: 0.8100\n",
      "16/16 - 0s - loss: 0.5454 - accuracy: 0.8000\n",
      "16/16 - 0s - loss: 0.5181 - accuracy: 0.8100\n",
      "16/16 - 0s - loss: 0.5162 - accuracy: 0.8060\n",
      "16/16 - 0s - loss: 0.5235 - accuracy: 0.8060\n",
      "16/16 - 0s - loss: 0.5528 - accuracy: 0.7960\n",
      "16/16 - 0s - loss: 0.5258 - accuracy: 0.8040\n",
      "16/16 - 0s - loss: 0.6364 - accuracy: 0.7820\n",
      "16/16 - 0s - loss: 0.4588 - accuracy: 0.8180\n",
      "16/16 - 0s - loss: 0.5438 - accuracy: 0.8180\n",
      "16/16 - 0s - loss: 0.5370 - accuracy: 0.8200\n",
      "16/16 - 0s - loss: 0.5171 - accuracy: 0.8020\n",
      "16/16 - 0s - loss: 0.5011 - accuracy: 0.8180\n",
      "16/16 - 0s - loss: 0.5033 - accuracy: 0.8140\n",
      "16/16 - 0s - loss: 0.5237 - accuracy: 0.7960\n",
      "16/16 - 0s - loss: 0.5206 - accuracy: 0.8140\n",
      "------------    2  번째 global epoch < Clustering > 로컬 클라이언트 학습 완료!,  Total Training time :  194.3542242050171 ---------------------------\n",
      "\n",
      "\n",
      "Layer :  0   클러스터 갯수 정해짐!  갯수 :  7 5\n"
     ]
    },
    {
     "name": "stderr",
     "output_type": "stream",
     "text": [
      "<ipython-input-10-506962b8e734>:141: VisibleDeprecationWarning: Creating an ndarray from ragged nested sequences (which is a list-or-tuple of lists-or-tuples-or ndarrays with different lengths or shapes) is deprecated. If you meant to do this, you must specify 'dtype=object' when creating the ndarray\n",
      "  globals()['G{}_c{}_w_layer{}'.format(global_epoch, num_c_w, layer_index)] = globals()['G{}_c{}_w_layer{}'.format(global_epoch, num_c_w, layer_index)] + np.array(globals()['L{}_layer{}_w_c'.format(i,layer_index)])   # 일반 클러스터링\n"
     ]
    },
    {
     "name": "stdout",
     "output_type": "stream",
     "text": [
      "Layer :  2   클러스터 갯수 정해짐!  갯수 :  2 0\n"
     ]
    },
    {
     "name": "stderr",
     "output_type": "stream",
     "text": [
      "<ipython-input-10-506962b8e734>:141: VisibleDeprecationWarning: Creating an ndarray from ragged nested sequences (which is a list-or-tuple of lists-or-tuples-or ndarrays with different lengths or shapes) is deprecated. If you meant to do this, you must specify 'dtype=object' when creating the ndarray\n",
      "  globals()['G{}_c{}_w_layer{}'.format(global_epoch, num_c_w, layer_index)] = globals()['G{}_c{}_w_layer{}'.format(global_epoch, num_c_w, layer_index)] + np.array(globals()['L{}_layer{}_w_c'.format(i,layer_index)])   # 일반 클러스터링\n"
     ]
    },
    {
     "name": "stdout",
     "output_type": "stream",
     "text": [
      "Layer :  4   클러스터 갯수 정해짐!  갯수 :  2 0\n"
     ]
    },
    {
     "name": "stderr",
     "output_type": "stream",
     "text": [
      "<ipython-input-10-506962b8e734>:141: VisibleDeprecationWarning: Creating an ndarray from ragged nested sequences (which is a list-or-tuple of lists-or-tuples-or ndarrays with different lengths or shapes) is deprecated. If you meant to do this, you must specify 'dtype=object' when creating the ndarray\n",
      "  globals()['G{}_c{}_w_layer{}'.format(global_epoch, num_c_w, layer_index)] = globals()['G{}_c{}_w_layer{}'.format(global_epoch, num_c_w, layer_index)] + np.array(globals()['L{}_layer{}_w_c'.format(i,layer_index)])   # 일반 클러스터링\n"
     ]
    },
    {
     "name": "stdout",
     "output_type": "stream",
     "text": [
      "Layer :  6   클러스터 갯수 정해짐!  갯수 :  2 0\n"
     ]
    },
    {
     "name": "stderr",
     "output_type": "stream",
     "text": [
      "<ipython-input-10-506962b8e734>:141: VisibleDeprecationWarning: Creating an ndarray from ragged nested sequences (which is a list-or-tuple of lists-or-tuples-or ndarrays with different lengths or shapes) is deprecated. If you meant to do this, you must specify 'dtype=object' when creating the ndarray\n",
      "  globals()['G{}_c{}_w_layer{}'.format(global_epoch, num_c_w, layer_index)] = globals()['G{}_c{}_w_layer{}'.format(global_epoch, num_c_w, layer_index)] + np.array(globals()['L{}_layer{}_w_c'.format(i,layer_index)])   # 일반 클러스터링\n"
     ]
    },
    {
     "name": "stdout",
     "output_type": "stream",
     "text": [
      "Layer :  7   클러스터 갯수 정해짐!  갯수 :  2 0\n",
      "\n",
      "\n",
      "====================================================== One Global Epoch =====================================================================\n",
      "\n",
      "\n",
      "3  번째 global_epoch 데이터 랜덤하게 준비!!\n"
     ]
    },
    {
     "name": "stderr",
     "output_type": "stream",
     "text": [
      "<ipython-input-10-506962b8e734>:141: VisibleDeprecationWarning: Creating an ndarray from ragged nested sequences (which is a list-or-tuple of lists-or-tuples-or ndarrays with different lengths or shapes) is deprecated. If you meant to do this, you must specify 'dtype=object' when creating the ndarray\n",
      "  globals()['G{}_c{}_w_layer{}'.format(global_epoch, num_c_w, layer_index)] = globals()['G{}_c{}_w_layer{}'.format(global_epoch, num_c_w, layer_index)] + np.array(globals()['L{}_layer{}_w_c'.format(i,layer_index)])   # 일반 클러스터링\n"
     ]
    },
    {
     "name": "stdout",
     "output_type": "stream",
     "text": [
      "3  번째 global_epoch 데이터 랜덤 준비완료!!\n",
      "\n",
      "\n",
      "3  번째 global epoch에서 로컬 클라이언트 들 학습시작!\n",
      "\n",
      "학습 중 ...\n",
      "\n",
      "16/16 - 0s - loss: 0.4450 - accuracy: 0.8460\n",
      "16/16 - 0s - loss: 0.5067 - accuracy: 0.8040\n",
      "16/16 - 0s - loss: 0.4820 - accuracy: 0.8300\n",
      "16/16 - 0s - loss: 0.5329 - accuracy: 0.8020\n",
      "16/16 - 0s - loss: 0.5177 - accuracy: 0.7860\n",
      "16/16 - 0s - loss: 0.5123 - accuracy: 0.8080\n",
      "16/16 - 0s - loss: 0.5610 - accuracy: 0.8020\n",
      "16/16 - 0s - loss: 0.4842 - accuracy: 0.8340\n",
      "16/16 - 0s - loss: 0.4749 - accuracy: 0.8220\n",
      "16/16 - 0s - loss: 0.5759 - accuracy: 0.7980\n",
      "16/16 - 0s - loss: 0.6405 - accuracy: 0.7960\n",
      "16/16 - 0s - loss: 0.5590 - accuracy: 0.7980\n",
      "16/16 - 0s - loss: 0.5659 - accuracy: 0.8140\n",
      "16/16 - 0s - loss: 0.4805 - accuracy: 0.8380\n",
      "16/16 - 0s - loss: 0.5780 - accuracy: 0.8000\n",
      "16/16 - 0s - loss: 0.5697 - accuracy: 0.8180\n",
      "16/16 - 0s - loss: 0.6376 - accuracy: 0.7860\n",
      "16/16 - 0s - loss: 0.4622 - accuracy: 0.8280\n",
      "16/16 - 0s - loss: 0.5698 - accuracy: 0.7900\n",
      "16/16 - 0s - loss: 0.6274 - accuracy: 0.7960\n",
      "------------    3  번째 global epoch < Clustering > 로컬 클라이언트 학습 완료!,  Total Training time :  194.62190127372742 ---------------------------\n",
      "\n",
      "\n",
      "Layer :  0   클러스터 갯수 정해짐!  갯수 :  7 5\n"
     ]
    },
    {
     "name": "stderr",
     "output_type": "stream",
     "text": [
      "<ipython-input-10-506962b8e734>:141: VisibleDeprecationWarning: Creating an ndarray from ragged nested sequences (which is a list-or-tuple of lists-or-tuples-or ndarrays with different lengths or shapes) is deprecated. If you meant to do this, you must specify 'dtype=object' when creating the ndarray\n",
      "  globals()['G{}_c{}_w_layer{}'.format(global_epoch, num_c_w, layer_index)] = globals()['G{}_c{}_w_layer{}'.format(global_epoch, num_c_w, layer_index)] + np.array(globals()['L{}_layer{}_w_c'.format(i,layer_index)])   # 일반 클러스터링\n"
     ]
    },
    {
     "name": "stdout",
     "output_type": "stream",
     "text": [
      "Layer :  2   클러스터 갯수 정해짐!  갯수 :  2 0\n"
     ]
    },
    {
     "name": "stderr",
     "output_type": "stream",
     "text": [
      "<ipython-input-10-506962b8e734>:141: VisibleDeprecationWarning: Creating an ndarray from ragged nested sequences (which is a list-or-tuple of lists-or-tuples-or ndarrays with different lengths or shapes) is deprecated. If you meant to do this, you must specify 'dtype=object' when creating the ndarray\n",
      "  globals()['G{}_c{}_w_layer{}'.format(global_epoch, num_c_w, layer_index)] = globals()['G{}_c{}_w_layer{}'.format(global_epoch, num_c_w, layer_index)] + np.array(globals()['L{}_layer{}_w_c'.format(i,layer_index)])   # 일반 클러스터링\n"
     ]
    },
    {
     "name": "stdout",
     "output_type": "stream",
     "text": [
      "Layer :  4   클러스터 갯수 정해짐!  갯수 :  2 0\n"
     ]
    },
    {
     "name": "stderr",
     "output_type": "stream",
     "text": [
      "<ipython-input-10-506962b8e734>:141: VisibleDeprecationWarning: Creating an ndarray from ragged nested sequences (which is a list-or-tuple of lists-or-tuples-or ndarrays with different lengths or shapes) is deprecated. If you meant to do this, you must specify 'dtype=object' when creating the ndarray\n",
      "  globals()['G{}_c{}_w_layer{}'.format(global_epoch, num_c_w, layer_index)] = globals()['G{}_c{}_w_layer{}'.format(global_epoch, num_c_w, layer_index)] + np.array(globals()['L{}_layer{}_w_c'.format(i,layer_index)])   # 일반 클러스터링\n"
     ]
    },
    {
     "name": "stdout",
     "output_type": "stream",
     "text": [
      "Layer :  6   클러스터 갯수 정해짐!  갯수 :  2 0\n"
     ]
    },
    {
     "name": "stderr",
     "output_type": "stream",
     "text": [
      "<ipython-input-10-506962b8e734>:141: VisibleDeprecationWarning: Creating an ndarray from ragged nested sequences (which is a list-or-tuple of lists-or-tuples-or ndarrays with different lengths or shapes) is deprecated. If you meant to do this, you must specify 'dtype=object' when creating the ndarray\n",
      "  globals()['G{}_c{}_w_layer{}'.format(global_epoch, num_c_w, layer_index)] = globals()['G{}_c{}_w_layer{}'.format(global_epoch, num_c_w, layer_index)] + np.array(globals()['L{}_layer{}_w_c'.format(i,layer_index)])   # 일반 클러스터링\n"
     ]
    },
    {
     "name": "stdout",
     "output_type": "stream",
     "text": [
      "Layer :  7   클러스터 갯수 정해짐!  갯수 :  2 0\n",
      "\n",
      "\n",
      "====================================================== One Global Epoch =====================================================================\n",
      "\n",
      "\n",
      "4  번째 global_epoch 데이터 랜덤하게 준비!!\n"
     ]
    },
    {
     "name": "stderr",
     "output_type": "stream",
     "text": [
      "<ipython-input-10-506962b8e734>:141: VisibleDeprecationWarning: Creating an ndarray from ragged nested sequences (which is a list-or-tuple of lists-or-tuples-or ndarrays with different lengths or shapes) is deprecated. If you meant to do this, you must specify 'dtype=object' when creating the ndarray\n",
      "  globals()['G{}_c{}_w_layer{}'.format(global_epoch, num_c_w, layer_index)] = globals()['G{}_c{}_w_layer{}'.format(global_epoch, num_c_w, layer_index)] + np.array(globals()['L{}_layer{}_w_c'.format(i,layer_index)])   # 일반 클러스터링\n"
     ]
    },
    {
     "name": "stdout",
     "output_type": "stream",
     "text": [
      "4  번째 global_epoch 데이터 랜덤 준비완료!!\n",
      "\n",
      "\n",
      "4  번째 global epoch에서 로컬 클라이언트 들 학습시작!\n",
      "\n",
      "학습 중 ...\n",
      "\n",
      "16/16 - 0s - loss: 0.5182 - accuracy: 0.8220\n",
      "16/16 - 0s - loss: 0.4843 - accuracy: 0.8580\n",
      "16/16 - 0s - loss: 0.4527 - accuracy: 0.8440\n",
      "16/16 - 0s - loss: 0.5805 - accuracy: 0.8180\n",
      "16/16 - 0s - loss: 0.4298 - accuracy: 0.8540\n",
      "16/16 - 0s - loss: 0.4636 - accuracy: 0.8360\n",
      "16/16 - 0s - loss: 0.5813 - accuracy: 0.7940\n",
      "16/16 - 0s - loss: 0.5380 - accuracy: 0.8260\n",
      "16/16 - 0s - loss: 0.5780 - accuracy: 0.8440\n",
      "16/16 - 0s - loss: 0.5379 - accuracy: 0.8100\n",
      "16/16 - 0s - loss: 0.5568 - accuracy: 0.8280\n",
      "16/16 - 0s - loss: 0.4673 - accuracy: 0.8300\n",
      "16/16 - 0s - loss: 0.5088 - accuracy: 0.8440\n",
      "16/16 - 0s - loss: 0.5673 - accuracy: 0.8300\n",
      "16/16 - 0s - loss: 0.5311 - accuracy: 0.8240\n",
      "16/16 - 0s - loss: 0.5478 - accuracy: 0.8100\n",
      "16/16 - 0s - loss: 0.5053 - accuracy: 0.8320\n",
      "16/16 - 0s - loss: 0.5882 - accuracy: 0.8160\n",
      "16/16 - 0s - loss: 0.5267 - accuracy: 0.8280\n",
      "16/16 - 0s - loss: 0.5011 - accuracy: 0.8220\n",
      "------------    4  번째 global epoch < Clustering > 로컬 클라이언트 학습 완료!,  Total Training time :  196.84181571006775 ---------------------------\n",
      "\n",
      "\n",
      "Layer :  0   클러스터 갯수 정해짐!  갯수 :  7 5\n"
     ]
    },
    {
     "name": "stderr",
     "output_type": "stream",
     "text": [
      "<ipython-input-10-506962b8e734>:141: VisibleDeprecationWarning: Creating an ndarray from ragged nested sequences (which is a list-or-tuple of lists-or-tuples-or ndarrays with different lengths or shapes) is deprecated. If you meant to do this, you must specify 'dtype=object' when creating the ndarray\n",
      "  globals()['G{}_c{}_w_layer{}'.format(global_epoch, num_c_w, layer_index)] = globals()['G{}_c{}_w_layer{}'.format(global_epoch, num_c_w, layer_index)] + np.array(globals()['L{}_layer{}_w_c'.format(i,layer_index)])   # 일반 클러스터링\n"
     ]
    },
    {
     "name": "stdout",
     "output_type": "stream",
     "text": [
      "Layer :  2   클러스터 갯수 정해짐!  갯수 :  2 0\n"
     ]
    },
    {
     "name": "stderr",
     "output_type": "stream",
     "text": [
      "<ipython-input-10-506962b8e734>:141: VisibleDeprecationWarning: Creating an ndarray from ragged nested sequences (which is a list-or-tuple of lists-or-tuples-or ndarrays with different lengths or shapes) is deprecated. If you meant to do this, you must specify 'dtype=object' when creating the ndarray\n",
      "  globals()['G{}_c{}_w_layer{}'.format(global_epoch, num_c_w, layer_index)] = globals()['G{}_c{}_w_layer{}'.format(global_epoch, num_c_w, layer_index)] + np.array(globals()['L{}_layer{}_w_c'.format(i,layer_index)])   # 일반 클러스터링\n"
     ]
    },
    {
     "name": "stdout",
     "output_type": "stream",
     "text": [
      "Layer :  4   클러스터 갯수 정해짐!  갯수 :  2 0\n"
     ]
    },
    {
     "name": "stderr",
     "output_type": "stream",
     "text": [
      "<ipython-input-10-506962b8e734>:141: VisibleDeprecationWarning: Creating an ndarray from ragged nested sequences (which is a list-or-tuple of lists-or-tuples-or ndarrays with different lengths or shapes) is deprecated. If you meant to do this, you must specify 'dtype=object' when creating the ndarray\n",
      "  globals()['G{}_c{}_w_layer{}'.format(global_epoch, num_c_w, layer_index)] = globals()['G{}_c{}_w_layer{}'.format(global_epoch, num_c_w, layer_index)] + np.array(globals()['L{}_layer{}_w_c'.format(i,layer_index)])   # 일반 클러스터링\n"
     ]
    },
    {
     "name": "stdout",
     "output_type": "stream",
     "text": [
      "Layer :  6   클러스터 갯수 정해짐!  갯수 :  2 0\n"
     ]
    },
    {
     "name": "stderr",
     "output_type": "stream",
     "text": [
      "<ipython-input-10-506962b8e734>:141: VisibleDeprecationWarning: Creating an ndarray from ragged nested sequences (which is a list-or-tuple of lists-or-tuples-or ndarrays with different lengths or shapes) is deprecated. If you meant to do this, you must specify 'dtype=object' when creating the ndarray\n",
      "  globals()['G{}_c{}_w_layer{}'.format(global_epoch, num_c_w, layer_index)] = globals()['G{}_c{}_w_layer{}'.format(global_epoch, num_c_w, layer_index)] + np.array(globals()['L{}_layer{}_w_c'.format(i,layer_index)])   # 일반 클러스터링\n"
     ]
    },
    {
     "name": "stdout",
     "output_type": "stream",
     "text": [
      "Layer :  7   클러스터 갯수 정해짐!  갯수 :  2 0\n",
      "\n",
      "\n",
      "====================================================== One Global Epoch =====================================================================\n",
      "\n",
      "\n",
      "5  번째 global_epoch 데이터 랜덤하게 준비!!\n"
     ]
    },
    {
     "name": "stderr",
     "output_type": "stream",
     "text": [
      "<ipython-input-10-506962b8e734>:141: VisibleDeprecationWarning: Creating an ndarray from ragged nested sequences (which is a list-or-tuple of lists-or-tuples-or ndarrays with different lengths or shapes) is deprecated. If you meant to do this, you must specify 'dtype=object' when creating the ndarray\n",
      "  globals()['G{}_c{}_w_layer{}'.format(global_epoch, num_c_w, layer_index)] = globals()['G{}_c{}_w_layer{}'.format(global_epoch, num_c_w, layer_index)] + np.array(globals()['L{}_layer{}_w_c'.format(i,layer_index)])   # 일반 클러스터링\n"
     ]
    },
    {
     "name": "stdout",
     "output_type": "stream",
     "text": [
      "5  번째 global_epoch 데이터 랜덤 준비완료!!\n",
      "\n",
      "\n",
      "5  번째 global epoch에서 로컬 클라이언트 들 학습시작!\n",
      "\n",
      "학습 중 ...\n",
      "\n",
      "16/16 - 0s - loss: 0.5593 - accuracy: 0.8400\n",
      "16/16 - 0s - loss: 0.5283 - accuracy: 0.8460\n",
      "16/16 - 0s - loss: 0.5651 - accuracy: 0.8160\n",
      "16/16 - 0s - loss: 0.5240 - accuracy: 0.8580\n",
      "16/16 - 0s - loss: 0.5327 - accuracy: 0.8340\n",
      "16/16 - 0s - loss: 0.4732 - accuracy: 0.8380\n",
      "16/16 - 0s - loss: 0.3309 - accuracy: 0.8640\n",
      "16/16 - 0s - loss: 0.4050 - accuracy: 0.8440\n",
      "16/16 - 0s - loss: 0.4622 - accuracy: 0.8540\n",
      "16/16 - 0s - loss: 0.4631 - accuracy: 0.8440\n",
      "16/16 - 0s - loss: 0.5216 - accuracy: 0.8500\n",
      "16/16 - 0s - loss: 0.5870 - accuracy: 0.8180\n",
      "16/16 - 0s - loss: 0.4602 - accuracy: 0.8520\n",
      "16/16 - 0s - loss: 0.5335 - accuracy: 0.8540\n",
      "16/16 - 0s - loss: 0.5046 - accuracy: 0.8260\n",
      "16/16 - 0s - loss: 0.4720 - accuracy: 0.8380\n",
      "16/16 - 0s - loss: 0.5965 - accuracy: 0.8280\n",
      "16/16 - 0s - loss: 0.5299 - accuracy: 0.8340\n",
      "16/16 - 0s - loss: 0.4680 - accuracy: 0.8520\n",
      "16/16 - 0s - loss: 0.5766 - accuracy: 0.8200\n",
      "------------    5  번째 global epoch < Clustering > 로컬 클라이언트 학습 완료!,  Total Training time :  201.05786395072937 ---------------------------\n",
      "\n",
      "\n",
      "Layer :  0   클러스터 갯수 정해짐!  갯수 :  7 5\n"
     ]
    },
    {
     "name": "stderr",
     "output_type": "stream",
     "text": [
      "<ipython-input-10-506962b8e734>:141: VisibleDeprecationWarning: Creating an ndarray from ragged nested sequences (which is a list-or-tuple of lists-or-tuples-or ndarrays with different lengths or shapes) is deprecated. If you meant to do this, you must specify 'dtype=object' when creating the ndarray\n",
      "  globals()['G{}_c{}_w_layer{}'.format(global_epoch, num_c_w, layer_index)] = globals()['G{}_c{}_w_layer{}'.format(global_epoch, num_c_w, layer_index)] + np.array(globals()['L{}_layer{}_w_c'.format(i,layer_index)])   # 일반 클러스터링\n"
     ]
    },
    {
     "name": "stdout",
     "output_type": "stream",
     "text": [
      "Layer :  2   클러스터 갯수 정해짐!  갯수 :  2 0\n"
     ]
    },
    {
     "name": "stderr",
     "output_type": "stream",
     "text": [
      "<ipython-input-10-506962b8e734>:141: VisibleDeprecationWarning: Creating an ndarray from ragged nested sequences (which is a list-or-tuple of lists-or-tuples-or ndarrays with different lengths or shapes) is deprecated. If you meant to do this, you must specify 'dtype=object' when creating the ndarray\n",
      "  globals()['G{}_c{}_w_layer{}'.format(global_epoch, num_c_w, layer_index)] = globals()['G{}_c{}_w_layer{}'.format(global_epoch, num_c_w, layer_index)] + np.array(globals()['L{}_layer{}_w_c'.format(i,layer_index)])   # 일반 클러스터링\n"
     ]
    },
    {
     "name": "stdout",
     "output_type": "stream",
     "text": [
      "Layer :  4   클러스터 갯수 정해짐!  갯수 :  2 0\n"
     ]
    },
    {
     "name": "stderr",
     "output_type": "stream",
     "text": [
      "<ipython-input-10-506962b8e734>:141: VisibleDeprecationWarning: Creating an ndarray from ragged nested sequences (which is a list-or-tuple of lists-or-tuples-or ndarrays with different lengths or shapes) is deprecated. If you meant to do this, you must specify 'dtype=object' when creating the ndarray\n",
      "  globals()['G{}_c{}_w_layer{}'.format(global_epoch, num_c_w, layer_index)] = globals()['G{}_c{}_w_layer{}'.format(global_epoch, num_c_w, layer_index)] + np.array(globals()['L{}_layer{}_w_c'.format(i,layer_index)])   # 일반 클러스터링\n"
     ]
    },
    {
     "name": "stdout",
     "output_type": "stream",
     "text": [
      "Layer :  6   클러스터 갯수 정해짐!  갯수 :  2 0\n"
     ]
    },
    {
     "name": "stderr",
     "output_type": "stream",
     "text": [
      "<ipython-input-10-506962b8e734>:141: VisibleDeprecationWarning: Creating an ndarray from ragged nested sequences (which is a list-or-tuple of lists-or-tuples-or ndarrays with different lengths or shapes) is deprecated. If you meant to do this, you must specify 'dtype=object' when creating the ndarray\n",
      "  globals()['G{}_c{}_w_layer{}'.format(global_epoch, num_c_w, layer_index)] = globals()['G{}_c{}_w_layer{}'.format(global_epoch, num_c_w, layer_index)] + np.array(globals()['L{}_layer{}_w_c'.format(i,layer_index)])   # 일반 클러스터링\n"
     ]
    },
    {
     "name": "stdout",
     "output_type": "stream",
     "text": [
      "Layer :  7   클러스터 갯수 정해짐!  갯수 :  2 0\n",
      "\n",
      "\n",
      "====================================================== One Global Epoch =====================================================================\n",
      "\n",
      "\n",
      "6  번째 global_epoch 데이터 랜덤하게 준비!!\n"
     ]
    },
    {
     "name": "stderr",
     "output_type": "stream",
     "text": [
      "<ipython-input-10-506962b8e734>:141: VisibleDeprecationWarning: Creating an ndarray from ragged nested sequences (which is a list-or-tuple of lists-or-tuples-or ndarrays with different lengths or shapes) is deprecated. If you meant to do this, you must specify 'dtype=object' when creating the ndarray\n",
      "  globals()['G{}_c{}_w_layer{}'.format(global_epoch, num_c_w, layer_index)] = globals()['G{}_c{}_w_layer{}'.format(global_epoch, num_c_w, layer_index)] + np.array(globals()['L{}_layer{}_w_c'.format(i,layer_index)])   # 일반 클러스터링\n"
     ]
    },
    {
     "name": "stdout",
     "output_type": "stream",
     "text": [
      "6  번째 global_epoch 데이터 랜덤 준비완료!!\n",
      "\n",
      "\n",
      "6  번째 global epoch에서 로컬 클라이언트 들 학습시작!\n",
      "\n",
      "학습 중 ...\n",
      "\n",
      "16/16 - 0s - loss: 0.5125 - accuracy: 0.8540\n",
      "16/16 - 0s - loss: 0.6078 - accuracy: 0.8180\n",
      "16/16 - 0s - loss: 0.4686 - accuracy: 0.8460\n",
      "16/16 - 0s - loss: 0.5617 - accuracy: 0.8420\n",
      "16/16 - 0s - loss: 0.5171 - accuracy: 0.8380\n",
      "16/16 - 0s - loss: 0.5234 - accuracy: 0.8500\n",
      "16/16 - 0s - loss: 0.4372 - accuracy: 0.8620\n",
      "16/16 - 0s - loss: 0.5989 - accuracy: 0.8340\n",
      "16/16 - 0s - loss: 0.4840 - accuracy: 0.8500\n",
      "16/16 - 0s - loss: 0.4612 - accuracy: 0.8560\n",
      "16/16 - 0s - loss: 0.4702 - accuracy: 0.8580\n",
      "16/16 - 0s - loss: 0.6141 - accuracy: 0.8300\n",
      "16/16 - 0s - loss: 0.4686 - accuracy: 0.8480\n",
      "16/16 - 0s - loss: 0.5562 - accuracy: 0.8500\n",
      "16/16 - 0s - loss: 0.5778 - accuracy: 0.8420\n",
      "16/16 - 0s - loss: 0.5135 - accuracy: 0.8380\n",
      "16/16 - 0s - loss: 0.5409 - accuracy: 0.8380\n",
      "16/16 - 0s - loss: 0.4873 - accuracy: 0.8380\n",
      "16/16 - 0s - loss: 0.5948 - accuracy: 0.8160\n",
      "16/16 - 0s - loss: 0.5752 - accuracy: 0.8400\n",
      "------------    6  번째 global epoch < Clustering > 로컬 클라이언트 학습 완료!,  Total Training time :  207.59031701087952 ---------------------------\n",
      "\n",
      "\n",
      "Layer :  0   클러스터 갯수 정해짐!  갯수 :  7 5\n"
     ]
    },
    {
     "name": "stderr",
     "output_type": "stream",
     "text": [
      "<ipython-input-10-506962b8e734>:141: VisibleDeprecationWarning: Creating an ndarray from ragged nested sequences (which is a list-or-tuple of lists-or-tuples-or ndarrays with different lengths or shapes) is deprecated. If you meant to do this, you must specify 'dtype=object' when creating the ndarray\n",
      "  globals()['G{}_c{}_w_layer{}'.format(global_epoch, num_c_w, layer_index)] = globals()['G{}_c{}_w_layer{}'.format(global_epoch, num_c_w, layer_index)] + np.array(globals()['L{}_layer{}_w_c'.format(i,layer_index)])   # 일반 클러스터링\n"
     ]
    },
    {
     "name": "stdout",
     "output_type": "stream",
     "text": [
      "Layer :  2   클러스터 갯수 정해짐!  갯수 :  2 0\n"
     ]
    },
    {
     "name": "stderr",
     "output_type": "stream",
     "text": [
      "<ipython-input-10-506962b8e734>:141: VisibleDeprecationWarning: Creating an ndarray from ragged nested sequences (which is a list-or-tuple of lists-or-tuples-or ndarrays with different lengths or shapes) is deprecated. If you meant to do this, you must specify 'dtype=object' when creating the ndarray\n",
      "  globals()['G{}_c{}_w_layer{}'.format(global_epoch, num_c_w, layer_index)] = globals()['G{}_c{}_w_layer{}'.format(global_epoch, num_c_w, layer_index)] + np.array(globals()['L{}_layer{}_w_c'.format(i,layer_index)])   # 일반 클러스터링\n"
     ]
    },
    {
     "name": "stdout",
     "output_type": "stream",
     "text": [
      "Layer :  4   클러스터 갯수 정해짐!  갯수 :  2 0\n"
     ]
    },
    {
     "name": "stderr",
     "output_type": "stream",
     "text": [
      "<ipython-input-10-506962b8e734>:141: VisibleDeprecationWarning: Creating an ndarray from ragged nested sequences (which is a list-or-tuple of lists-or-tuples-or ndarrays with different lengths or shapes) is deprecated. If you meant to do this, you must specify 'dtype=object' when creating the ndarray\n",
      "  globals()['G{}_c{}_w_layer{}'.format(global_epoch, num_c_w, layer_index)] = globals()['G{}_c{}_w_layer{}'.format(global_epoch, num_c_w, layer_index)] + np.array(globals()['L{}_layer{}_w_c'.format(i,layer_index)])   # 일반 클러스터링\n"
     ]
    },
    {
     "name": "stdout",
     "output_type": "stream",
     "text": [
      "Layer :  6   클러스터 갯수 정해짐!  갯수 :  2 0\n"
     ]
    },
    {
     "name": "stderr",
     "output_type": "stream",
     "text": [
      "<ipython-input-10-506962b8e734>:141: VisibleDeprecationWarning: Creating an ndarray from ragged nested sequences (which is a list-or-tuple of lists-or-tuples-or ndarrays with different lengths or shapes) is deprecated. If you meant to do this, you must specify 'dtype=object' when creating the ndarray\n",
      "  globals()['G{}_c{}_w_layer{}'.format(global_epoch, num_c_w, layer_index)] = globals()['G{}_c{}_w_layer{}'.format(global_epoch, num_c_w, layer_index)] + np.array(globals()['L{}_layer{}_w_c'.format(i,layer_index)])   # 일반 클러스터링\n"
     ]
    },
    {
     "name": "stdout",
     "output_type": "stream",
     "text": [
      "Layer :  7   클러스터 갯수 정해짐!  갯수 :  2 0\n",
      "\n",
      "\n",
      "====================================================== One Global Epoch =====================================================================\n",
      "\n",
      "\n",
      "7  번째 global_epoch 데이터 랜덤하게 준비!!\n"
     ]
    },
    {
     "name": "stderr",
     "output_type": "stream",
     "text": [
      "<ipython-input-10-506962b8e734>:141: VisibleDeprecationWarning: Creating an ndarray from ragged nested sequences (which is a list-or-tuple of lists-or-tuples-or ndarrays with different lengths or shapes) is deprecated. If you meant to do this, you must specify 'dtype=object' when creating the ndarray\n",
      "  globals()['G{}_c{}_w_layer{}'.format(global_epoch, num_c_w, layer_index)] = globals()['G{}_c{}_w_layer{}'.format(global_epoch, num_c_w, layer_index)] + np.array(globals()['L{}_layer{}_w_c'.format(i,layer_index)])   # 일반 클러스터링\n"
     ]
    },
    {
     "name": "stdout",
     "output_type": "stream",
     "text": [
      "7  번째 global_epoch 데이터 랜덤 준비완료!!\n",
      "\n",
      "\n",
      "7  번째 global epoch에서 로컬 클라이언트 들 학습시작!\n",
      "\n",
      "학습 중 ...\n",
      "\n",
      "16/16 - 0s - loss: 0.5093 - accuracy: 0.8540\n",
      "16/16 - 0s - loss: 0.5520 - accuracy: 0.8300\n",
      "16/16 - 0s - loss: 0.4850 - accuracy: 0.8560\n",
      "16/16 - 0s - loss: 0.5839 - accuracy: 0.8380\n",
      "16/16 - 0s - loss: 0.5109 - accuracy: 0.8580\n",
      "16/16 - 0s - loss: 0.6431 - accuracy: 0.8380\n",
      "16/16 - 0s - loss: 0.4539 - accuracy: 0.8740\n",
      "16/16 - 0s - loss: 0.6084 - accuracy: 0.8520\n",
      "16/16 - 0s - loss: 0.7236 - accuracy: 0.8200\n",
      "16/16 - 0s - loss: 0.5746 - accuracy: 0.8400\n",
      "16/16 - 0s - loss: 0.4458 - accuracy: 0.8660\n",
      "16/16 - 0s - loss: 0.4679 - accuracy: 0.8560\n",
      "16/16 - 0s - loss: 0.6024 - accuracy: 0.8520\n",
      "16/16 - 0s - loss: 0.4073 - accuracy: 0.8580\n",
      "16/16 - 0s - loss: 0.4865 - accuracy: 0.8500\n",
      "16/16 - 0s - loss: 0.4784 - accuracy: 0.8500\n",
      "16/16 - 0s - loss: 0.6583 - accuracy: 0.8360\n",
      "16/16 - 0s - loss: 0.4895 - accuracy: 0.8740\n",
      "16/16 - 0s - loss: 0.5993 - accuracy: 0.8300\n",
      "16/16 - 0s - loss: 0.5309 - accuracy: 0.8480\n",
      "------------    7  번째 global epoch < Clustering > 로컬 클라이언트 학습 완료!,  Total Training time :  216.56927347183228 ---------------------------\n",
      "\n",
      "\n",
      "Layer :  0   클러스터 갯수 정해짐!  갯수 :  7 5\n"
     ]
    },
    {
     "name": "stderr",
     "output_type": "stream",
     "text": [
      "<ipython-input-10-506962b8e734>:141: VisibleDeprecationWarning: Creating an ndarray from ragged nested sequences (which is a list-or-tuple of lists-or-tuples-or ndarrays with different lengths or shapes) is deprecated. If you meant to do this, you must specify 'dtype=object' when creating the ndarray\n",
      "  globals()['G{}_c{}_w_layer{}'.format(global_epoch, num_c_w, layer_index)] = globals()['G{}_c{}_w_layer{}'.format(global_epoch, num_c_w, layer_index)] + np.array(globals()['L{}_layer{}_w_c'.format(i,layer_index)])   # 일반 클러스터링\n"
     ]
    },
    {
     "name": "stdout",
     "output_type": "stream",
     "text": [
      "Layer :  2   클러스터 갯수 정해짐!  갯수 :  2 0\n"
     ]
    },
    {
     "name": "stderr",
     "output_type": "stream",
     "text": [
      "<ipython-input-10-506962b8e734>:141: VisibleDeprecationWarning: Creating an ndarray from ragged nested sequences (which is a list-or-tuple of lists-or-tuples-or ndarrays with different lengths or shapes) is deprecated. If you meant to do this, you must specify 'dtype=object' when creating the ndarray\n",
      "  globals()['G{}_c{}_w_layer{}'.format(global_epoch, num_c_w, layer_index)] = globals()['G{}_c{}_w_layer{}'.format(global_epoch, num_c_w, layer_index)] + np.array(globals()['L{}_layer{}_w_c'.format(i,layer_index)])   # 일반 클러스터링\n"
     ]
    },
    {
     "name": "stdout",
     "output_type": "stream",
     "text": [
      "Layer :  4   클러스터 갯수 정해짐!  갯수 :  2 0\n"
     ]
    },
    {
     "name": "stderr",
     "output_type": "stream",
     "text": [
      "<ipython-input-10-506962b8e734>:141: VisibleDeprecationWarning: Creating an ndarray from ragged nested sequences (which is a list-or-tuple of lists-or-tuples-or ndarrays with different lengths or shapes) is deprecated. If you meant to do this, you must specify 'dtype=object' when creating the ndarray\n",
      "  globals()['G{}_c{}_w_layer{}'.format(global_epoch, num_c_w, layer_index)] = globals()['G{}_c{}_w_layer{}'.format(global_epoch, num_c_w, layer_index)] + np.array(globals()['L{}_layer{}_w_c'.format(i,layer_index)])   # 일반 클러스터링\n"
     ]
    },
    {
     "name": "stdout",
     "output_type": "stream",
     "text": [
      "Layer :  6   클러스터 갯수 정해짐!  갯수 :  2 0\n"
     ]
    },
    {
     "name": "stderr",
     "output_type": "stream",
     "text": [
      "<ipython-input-10-506962b8e734>:141: VisibleDeprecationWarning: Creating an ndarray from ragged nested sequences (which is a list-or-tuple of lists-or-tuples-or ndarrays with different lengths or shapes) is deprecated. If you meant to do this, you must specify 'dtype=object' when creating the ndarray\n",
      "  globals()['G{}_c{}_w_layer{}'.format(global_epoch, num_c_w, layer_index)] = globals()['G{}_c{}_w_layer{}'.format(global_epoch, num_c_w, layer_index)] + np.array(globals()['L{}_layer{}_w_c'.format(i,layer_index)])   # 일반 클러스터링\n"
     ]
    },
    {
     "name": "stdout",
     "output_type": "stream",
     "text": [
      "Layer :  7   클러스터 갯수 정해짐!  갯수 :  2 0\n",
      "\n",
      "\n",
      "====================================================== One Global Epoch =====================================================================\n",
      "\n",
      "\n",
      "8  번째 global_epoch 데이터 랜덤하게 준비!!\n"
     ]
    },
    {
     "name": "stderr",
     "output_type": "stream",
     "text": [
      "<ipython-input-10-506962b8e734>:141: VisibleDeprecationWarning: Creating an ndarray from ragged nested sequences (which is a list-or-tuple of lists-or-tuples-or ndarrays with different lengths or shapes) is deprecated. If you meant to do this, you must specify 'dtype=object' when creating the ndarray\n",
      "  globals()['G{}_c{}_w_layer{}'.format(global_epoch, num_c_w, layer_index)] = globals()['G{}_c{}_w_layer{}'.format(global_epoch, num_c_w, layer_index)] + np.array(globals()['L{}_layer{}_w_c'.format(i,layer_index)])   # 일반 클러스터링\n"
     ]
    },
    {
     "name": "stdout",
     "output_type": "stream",
     "text": [
      "8  번째 global_epoch 데이터 랜덤 준비완료!!\n",
      "\n",
      "\n",
      "8  번째 global epoch에서 로컬 클라이언트 들 학습시작!\n",
      "\n",
      "학습 중 ...\n",
      "\n",
      "16/16 - 0s - loss: 0.5294 - accuracy: 0.8680\n",
      "16/16 - 0s - loss: 0.5947 - accuracy: 0.8440\n",
      "16/16 - 0s - loss: 0.5483 - accuracy: 0.8600\n",
      "16/16 - 0s - loss: 0.5390 - accuracy: 0.8440\n",
      "16/16 - 0s - loss: 0.5298 - accuracy: 0.8760\n",
      "16/16 - 0s - loss: 0.5361 - accuracy: 0.8640\n",
      "16/16 - 0s - loss: 0.5631 - accuracy: 0.8340\n",
      "16/16 - 0s - loss: 0.4964 - accuracy: 0.8560\n",
      "16/16 - 0s - loss: 0.4090 - accuracy: 0.8840\n",
      "16/16 - 0s - loss: 0.4318 - accuracy: 0.8780\n",
      "16/16 - 0s - loss: 0.5219 - accuracy: 0.8600\n",
      "16/16 - 0s - loss: 0.5719 - accuracy: 0.8380\n",
      "16/16 - 0s - loss: 0.5980 - accuracy: 0.8580\n",
      "16/16 - 0s - loss: 0.6614 - accuracy: 0.8360\n",
      "16/16 - 0s - loss: 0.5371 - accuracy: 0.8400\n",
      "16/16 - 0s - loss: 0.5321 - accuracy: 0.8260\n",
      "16/16 - 0s - loss: 0.6488 - accuracy: 0.8220\n",
      "16/16 - 0s - loss: 0.5856 - accuracy: 0.8640\n",
      "16/16 - 0s - loss: 0.5635 - accuracy: 0.8480\n",
      "16/16 - 0s - loss: 0.6037 - accuracy: 0.8260\n",
      "------------    8  번째 global epoch < Clustering > 로컬 클라이언트 학습 완료!,  Total Training time :  223.79867339134216 ---------------------------\n",
      "\n",
      "\n",
      "Layer :  0   클러스터 갯수 정해짐!  갯수 :  7 5\n"
     ]
    },
    {
     "name": "stderr",
     "output_type": "stream",
     "text": [
      "<ipython-input-10-506962b8e734>:141: VisibleDeprecationWarning: Creating an ndarray from ragged nested sequences (which is a list-or-tuple of lists-or-tuples-or ndarrays with different lengths or shapes) is deprecated. If you meant to do this, you must specify 'dtype=object' when creating the ndarray\n",
      "  globals()['G{}_c{}_w_layer{}'.format(global_epoch, num_c_w, layer_index)] = globals()['G{}_c{}_w_layer{}'.format(global_epoch, num_c_w, layer_index)] + np.array(globals()['L{}_layer{}_w_c'.format(i,layer_index)])   # 일반 클러스터링\n"
     ]
    },
    {
     "name": "stdout",
     "output_type": "stream",
     "text": [
      "Layer :  2   클러스터 갯수 정해짐!  갯수 :  2 0\n"
     ]
    },
    {
     "name": "stderr",
     "output_type": "stream",
     "text": [
      "<ipython-input-10-506962b8e734>:141: VisibleDeprecationWarning: Creating an ndarray from ragged nested sequences (which is a list-or-tuple of lists-or-tuples-or ndarrays with different lengths or shapes) is deprecated. If you meant to do this, you must specify 'dtype=object' when creating the ndarray\n",
      "  globals()['G{}_c{}_w_layer{}'.format(global_epoch, num_c_w, layer_index)] = globals()['G{}_c{}_w_layer{}'.format(global_epoch, num_c_w, layer_index)] + np.array(globals()['L{}_layer{}_w_c'.format(i,layer_index)])   # 일반 클러스터링\n"
     ]
    },
    {
     "name": "stdout",
     "output_type": "stream",
     "text": [
      "Layer :  4   클러스터 갯수 정해짐!  갯수 :  2 0\n"
     ]
    },
    {
     "name": "stderr",
     "output_type": "stream",
     "text": [
      "<ipython-input-10-506962b8e734>:141: VisibleDeprecationWarning: Creating an ndarray from ragged nested sequences (which is a list-or-tuple of lists-or-tuples-or ndarrays with different lengths or shapes) is deprecated. If you meant to do this, you must specify 'dtype=object' when creating the ndarray\n",
      "  globals()['G{}_c{}_w_layer{}'.format(global_epoch, num_c_w, layer_index)] = globals()['G{}_c{}_w_layer{}'.format(global_epoch, num_c_w, layer_index)] + np.array(globals()['L{}_layer{}_w_c'.format(i,layer_index)])   # 일반 클러스터링\n"
     ]
    },
    {
     "name": "stdout",
     "output_type": "stream",
     "text": [
      "Layer :  6   클러스터 갯수 정해짐!  갯수 :  2 0\n"
     ]
    },
    {
     "name": "stderr",
     "output_type": "stream",
     "text": [
      "<ipython-input-10-506962b8e734>:141: VisibleDeprecationWarning: Creating an ndarray from ragged nested sequences (which is a list-or-tuple of lists-or-tuples-or ndarrays with different lengths or shapes) is deprecated. If you meant to do this, you must specify 'dtype=object' when creating the ndarray\n",
      "  globals()['G{}_c{}_w_layer{}'.format(global_epoch, num_c_w, layer_index)] = globals()['G{}_c{}_w_layer{}'.format(global_epoch, num_c_w, layer_index)] + np.array(globals()['L{}_layer{}_w_c'.format(i,layer_index)])   # 일반 클러스터링\n"
     ]
    },
    {
     "name": "stdout",
     "output_type": "stream",
     "text": [
      "Layer :  7   클러스터 갯수 정해짐!  갯수 :  2 0\n",
      "\n",
      "\n",
      "====================================================== One Global Epoch =====================================================================\n",
      "\n",
      "\n",
      "9  번째 global_epoch 데이터 랜덤하게 준비!!\n"
     ]
    },
    {
     "name": "stderr",
     "output_type": "stream",
     "text": [
      "<ipython-input-10-506962b8e734>:141: VisibleDeprecationWarning: Creating an ndarray from ragged nested sequences (which is a list-or-tuple of lists-or-tuples-or ndarrays with different lengths or shapes) is deprecated. If you meant to do this, you must specify 'dtype=object' when creating the ndarray\n",
      "  globals()['G{}_c{}_w_layer{}'.format(global_epoch, num_c_w, layer_index)] = globals()['G{}_c{}_w_layer{}'.format(global_epoch, num_c_w, layer_index)] + np.array(globals()['L{}_layer{}_w_c'.format(i,layer_index)])   # 일반 클러스터링\n"
     ]
    },
    {
     "name": "stdout",
     "output_type": "stream",
     "text": [
      "9  번째 global_epoch 데이터 랜덤 준비완료!!\n",
      "\n",
      "\n",
      "9  번째 global epoch에서 로컬 클라이언트 들 학습시작!\n",
      "\n",
      "학습 중 ...\n",
      "\n",
      "16/16 - 0s - loss: 0.4523 - accuracy: 0.8620\n",
      "16/16 - 0s - loss: 0.5439 - accuracy: 0.8400\n",
      "16/16 - 0s - loss: 0.4715 - accuracy: 0.8780\n",
      "16/16 - 0s - loss: 0.5049 - accuracy: 0.8820\n",
      "16/16 - 0s - loss: 0.6797 - accuracy: 0.8480\n",
      "16/16 - 0s - loss: 0.5086 - accuracy: 0.8740\n",
      "16/16 - 0s - loss: 0.6067 - accuracy: 0.8460\n",
      "16/16 - 0s - loss: 0.4441 - accuracy: 0.8640\n",
      "16/16 - 0s - loss: 0.6857 - accuracy: 0.8280\n",
      "16/16 - 0s - loss: 0.6450 - accuracy: 0.8280\n",
      "16/16 - 0s - loss: 0.7997 - accuracy: 0.8200\n",
      "16/16 - 0s - loss: 0.4844 - accuracy: 0.8560\n",
      "16/16 - 0s - loss: 0.4642 - accuracy: 0.8680\n",
      "16/16 - 0s - loss: 0.5768 - accuracy: 0.8620\n",
      "16/16 - 0s - loss: 0.6253 - accuracy: 0.8440\n",
      "16/16 - 0s - loss: 0.4599 - accuracy: 0.8460\n",
      "16/16 - 0s - loss: 0.6663 - accuracy: 0.8320\n",
      "16/16 - 0s - loss: 0.5626 - accuracy: 0.8620\n",
      "16/16 - 0s - loss: 0.4058 - accuracy: 0.8680\n",
      "16/16 - 0s - loss: 0.5378 - accuracy: 0.8460\n",
      "------------    9  번째 global epoch < Clustering > 로컬 클라이언트 학습 완료!,  Total Training time :  233.4269757270813 ---------------------------\n",
      "\n",
      "\n",
      "Layer :  0   클러스터 갯수 정해짐!  갯수 :  7 5\n"
     ]
    },
    {
     "name": "stderr",
     "output_type": "stream",
     "text": [
      "<ipython-input-10-506962b8e734>:141: VisibleDeprecationWarning: Creating an ndarray from ragged nested sequences (which is a list-or-tuple of lists-or-tuples-or ndarrays with different lengths or shapes) is deprecated. If you meant to do this, you must specify 'dtype=object' when creating the ndarray\n",
      "  globals()['G{}_c{}_w_layer{}'.format(global_epoch, num_c_w, layer_index)] = globals()['G{}_c{}_w_layer{}'.format(global_epoch, num_c_w, layer_index)] + np.array(globals()['L{}_layer{}_w_c'.format(i,layer_index)])   # 일반 클러스터링\n"
     ]
    },
    {
     "name": "stdout",
     "output_type": "stream",
     "text": [
      "Layer :  2   클러스터 갯수 정해짐!  갯수 :  2 0\n"
     ]
    },
    {
     "name": "stderr",
     "output_type": "stream",
     "text": [
      "<ipython-input-10-506962b8e734>:141: VisibleDeprecationWarning: Creating an ndarray from ragged nested sequences (which is a list-or-tuple of lists-or-tuples-or ndarrays with different lengths or shapes) is deprecated. If you meant to do this, you must specify 'dtype=object' when creating the ndarray\n",
      "  globals()['G{}_c{}_w_layer{}'.format(global_epoch, num_c_w, layer_index)] = globals()['G{}_c{}_w_layer{}'.format(global_epoch, num_c_w, layer_index)] + np.array(globals()['L{}_layer{}_w_c'.format(i,layer_index)])   # 일반 클러스터링\n"
     ]
    },
    {
     "name": "stdout",
     "output_type": "stream",
     "text": [
      "Layer :  4   클러스터 갯수 정해짐!  갯수 :  2 0\n"
     ]
    },
    {
     "name": "stderr",
     "output_type": "stream",
     "text": [
      "<ipython-input-10-506962b8e734>:141: VisibleDeprecationWarning: Creating an ndarray from ragged nested sequences (which is a list-or-tuple of lists-or-tuples-or ndarrays with different lengths or shapes) is deprecated. If you meant to do this, you must specify 'dtype=object' when creating the ndarray\n",
      "  globals()['G{}_c{}_w_layer{}'.format(global_epoch, num_c_w, layer_index)] = globals()['G{}_c{}_w_layer{}'.format(global_epoch, num_c_w, layer_index)] + np.array(globals()['L{}_layer{}_w_c'.format(i,layer_index)])   # 일반 클러스터링\n"
     ]
    },
    {
     "name": "stdout",
     "output_type": "stream",
     "text": [
      "Layer :  6   클러스터 갯수 정해짐!  갯수 :  2 0\n"
     ]
    },
    {
     "name": "stderr",
     "output_type": "stream",
     "text": [
      "<ipython-input-10-506962b8e734>:141: VisibleDeprecationWarning: Creating an ndarray from ragged nested sequences (which is a list-or-tuple of lists-or-tuples-or ndarrays with different lengths or shapes) is deprecated. If you meant to do this, you must specify 'dtype=object' when creating the ndarray\n",
      "  globals()['G{}_c{}_w_layer{}'.format(global_epoch, num_c_w, layer_index)] = globals()['G{}_c{}_w_layer{}'.format(global_epoch, num_c_w, layer_index)] + np.array(globals()['L{}_layer{}_w_c'.format(i,layer_index)])   # 일반 클러스터링\n"
     ]
    },
    {
     "name": "stdout",
     "output_type": "stream",
     "text": [
      "Layer :  7   클러스터 갯수 정해짐!  갯수 :  2 0\n",
      "\n",
      "\n",
      "====================================================== One Global Epoch =====================================================================\n",
      "\n",
      "\n",
      "10  번째 global_epoch 데이터 랜덤하게 준비!!\n"
     ]
    },
    {
     "name": "stderr",
     "output_type": "stream",
     "text": [
      "<ipython-input-10-506962b8e734>:141: VisibleDeprecationWarning: Creating an ndarray from ragged nested sequences (which is a list-or-tuple of lists-or-tuples-or ndarrays with different lengths or shapes) is deprecated. If you meant to do this, you must specify 'dtype=object' when creating the ndarray\n",
      "  globals()['G{}_c{}_w_layer{}'.format(global_epoch, num_c_w, layer_index)] = globals()['G{}_c{}_w_layer{}'.format(global_epoch, num_c_w, layer_index)] + np.array(globals()['L{}_layer{}_w_c'.format(i,layer_index)])   # 일반 클러스터링\n"
     ]
    },
    {
     "name": "stdout",
     "output_type": "stream",
     "text": [
      "10  번째 global_epoch 데이터 랜덤 준비완료!!\n",
      "\n",
      "\n",
      "10  번째 global epoch에서 로컬 클라이언트 들 학습시작!\n",
      "\n",
      "학습 중 ...\n",
      "\n",
      "16/16 - 0s - loss: 0.6465 - accuracy: 0.8540\n",
      "16/16 - 0s - loss: 0.5329 - accuracy: 0.8520\n",
      "16/16 - 0s - loss: 0.7170 - accuracy: 0.8400\n",
      "16/16 - 0s - loss: 0.5614 - accuracy: 0.8680\n",
      "16/16 - 0s - loss: 0.6672 - accuracy: 0.8320\n",
      "16/16 - 0s - loss: 0.4732 - accuracy: 0.8900\n",
      "16/16 - 0s - loss: 0.5363 - accuracy: 0.8700\n",
      "16/16 - 0s - loss: 0.6059 - accuracy: 0.8680\n",
      "16/16 - 0s - loss: 0.5538 - accuracy: 0.8660\n",
      "16/16 - 0s - loss: 0.5197 - accuracy: 0.8560\n",
      "16/16 - 0s - loss: 0.6645 - accuracy: 0.8680\n",
      "16/16 - 0s - loss: 0.4567 - accuracy: 0.8780\n",
      "16/16 - 0s - loss: 0.5519 - accuracy: 0.8640\n",
      "16/16 - 0s - loss: 0.6759 - accuracy: 0.8700\n",
      "16/16 - 0s - loss: 0.3442 - accuracy: 0.8920\n",
      "16/16 - 0s - loss: 0.5654 - accuracy: 0.8360\n",
      "16/16 - 0s - loss: 0.6527 - accuracy: 0.8360\n",
      "16/16 - 0s - loss: 0.4758 - accuracy: 0.8820\n",
      "16/16 - 0s - loss: 0.6185 - accuracy: 0.8660\n",
      "16/16 - 0s - loss: 0.4835 - accuracy: 0.8880\n",
      "------------    10  번째 global epoch < Clustering > 로컬 클라이언트 학습 완료!,  Total Training time :  258.6060540676117 ---------------------------\n",
      "\n",
      "\n",
      "Layer :  0   클러스터 갯수 정해짐!  갯수 :  7 5\n"
     ]
    },
    {
     "name": "stderr",
     "output_type": "stream",
     "text": [
      "<ipython-input-10-506962b8e734>:141: VisibleDeprecationWarning: Creating an ndarray from ragged nested sequences (which is a list-or-tuple of lists-or-tuples-or ndarrays with different lengths or shapes) is deprecated. If you meant to do this, you must specify 'dtype=object' when creating the ndarray\n",
      "  globals()['G{}_c{}_w_layer{}'.format(global_epoch, num_c_w, layer_index)] = globals()['G{}_c{}_w_layer{}'.format(global_epoch, num_c_w, layer_index)] + np.array(globals()['L{}_layer{}_w_c'.format(i,layer_index)])   # 일반 클러스터링\n"
     ]
    },
    {
     "name": "stdout",
     "output_type": "stream",
     "text": [
      "Layer :  2   클러스터 갯수 정해짐!  갯수 :  2 0\n"
     ]
    },
    {
     "name": "stderr",
     "output_type": "stream",
     "text": [
      "<ipython-input-10-506962b8e734>:141: VisibleDeprecationWarning: Creating an ndarray from ragged nested sequences (which is a list-or-tuple of lists-or-tuples-or ndarrays with different lengths or shapes) is deprecated. If you meant to do this, you must specify 'dtype=object' when creating the ndarray\n",
      "  globals()['G{}_c{}_w_layer{}'.format(global_epoch, num_c_w, layer_index)] = globals()['G{}_c{}_w_layer{}'.format(global_epoch, num_c_w, layer_index)] + np.array(globals()['L{}_layer{}_w_c'.format(i,layer_index)])   # 일반 클러스터링\n"
     ]
    },
    {
     "name": "stdout",
     "output_type": "stream",
     "text": [
      "Layer :  4   클러스터 갯수 정해짐!  갯수 :  2 0\n"
     ]
    },
    {
     "name": "stderr",
     "output_type": "stream",
     "text": [
      "<ipython-input-10-506962b8e734>:141: VisibleDeprecationWarning: Creating an ndarray from ragged nested sequences (which is a list-or-tuple of lists-or-tuples-or ndarrays with different lengths or shapes) is deprecated. If you meant to do this, you must specify 'dtype=object' when creating the ndarray\n",
      "  globals()['G{}_c{}_w_layer{}'.format(global_epoch, num_c_w, layer_index)] = globals()['G{}_c{}_w_layer{}'.format(global_epoch, num_c_w, layer_index)] + np.array(globals()['L{}_layer{}_w_c'.format(i,layer_index)])   # 일반 클러스터링\n"
     ]
    },
    {
     "name": "stdout",
     "output_type": "stream",
     "text": [
      "Layer :  6   클러스터 갯수 정해짐!  갯수 :  2 0\n"
     ]
    },
    {
     "name": "stderr",
     "output_type": "stream",
     "text": [
      "<ipython-input-10-506962b8e734>:141: VisibleDeprecationWarning: Creating an ndarray from ragged nested sequences (which is a list-or-tuple of lists-or-tuples-or ndarrays with different lengths or shapes) is deprecated. If you meant to do this, you must specify 'dtype=object' when creating the ndarray\n",
      "  globals()['G{}_c{}_w_layer{}'.format(global_epoch, num_c_w, layer_index)] = globals()['G{}_c{}_w_layer{}'.format(global_epoch, num_c_w, layer_index)] + np.array(globals()['L{}_layer{}_w_c'.format(i,layer_index)])   # 일반 클러스터링\n"
     ]
    },
    {
     "name": "stdout",
     "output_type": "stream",
     "text": [
      "Layer :  7   클러스터 갯수 정해짐!  갯수 :  2 0\n",
      "\n",
      "\n",
      "====================================================== One Global Epoch =====================================================================\n",
      "\n",
      "\n",
      "11  번째 global_epoch 데이터 랜덤하게 준비!!\n"
     ]
    },
    {
     "name": "stderr",
     "output_type": "stream",
     "text": [
      "<ipython-input-10-506962b8e734>:141: VisibleDeprecationWarning: Creating an ndarray from ragged nested sequences (which is a list-or-tuple of lists-or-tuples-or ndarrays with different lengths or shapes) is deprecated. If you meant to do this, you must specify 'dtype=object' when creating the ndarray\n",
      "  globals()['G{}_c{}_w_layer{}'.format(global_epoch, num_c_w, layer_index)] = globals()['G{}_c{}_w_layer{}'.format(global_epoch, num_c_w, layer_index)] + np.array(globals()['L{}_layer{}_w_c'.format(i,layer_index)])   # 일반 클러스터링\n"
     ]
    },
    {
     "name": "stdout",
     "output_type": "stream",
     "text": [
      "11  번째 global_epoch 데이터 랜덤 준비완료!!\n",
      "\n",
      "\n",
      "11  번째 global epoch에서 로컬 클라이언트 들 학습시작!\n",
      "\n",
      "학습 중 ...\n",
      "\n",
      "16/16 - 0s - loss: 0.5330 - accuracy: 0.8580\n",
      "16/16 - 0s - loss: 0.7022 - accuracy: 0.8280\n",
      "16/16 - 0s - loss: 0.5397 - accuracy: 0.8640\n",
      "16/16 - 0s - loss: 0.5027 - accuracy: 0.8660\n",
      "16/16 - 0s - loss: 0.5732 - accuracy: 0.8720\n",
      "16/16 - 0s - loss: 0.5256 - accuracy: 0.8780\n",
      "16/16 - 0s - loss: 0.6199 - accuracy: 0.8580\n",
      "16/16 - 0s - loss: 0.5046 - accuracy: 0.8440\n",
      "16/16 - 0s - loss: 0.7679 - accuracy: 0.8240\n",
      "16/16 - 0s - loss: 0.5533 - accuracy: 0.8740\n",
      "16/16 - 0s - loss: 0.6363 - accuracy: 0.8760\n",
      "16/16 - 0s - loss: 0.6511 - accuracy: 0.8660\n",
      "16/16 - 0s - loss: 0.4889 - accuracy: 0.8600\n",
      "16/16 - 0s - loss: 0.4769 - accuracy: 0.8740\n",
      "16/16 - 0s - loss: 0.4723 - accuracy: 0.8800\n",
      "16/16 - 0s - loss: 0.5197 - accuracy: 0.8700\n",
      "16/16 - 0s - loss: 0.5293 - accuracy: 0.8700\n",
      "16/16 - 0s - loss: 0.5995 - accuracy: 0.8480\n",
      "16/16 - 0s - loss: 0.5408 - accuracy: 0.8740\n",
      "16/16 - 0s - loss: 0.6858 - accuracy: 0.8520\n",
      "------------    11  번째 global epoch < Clustering > 로컬 클라이언트 학습 완료!,  Total Training time :  291.47425985336304 ---------------------------\n",
      "\n",
      "\n",
      "Layer :  0   클러스터 갯수 정해짐!  갯수 :  7 5\n"
     ]
    },
    {
     "name": "stderr",
     "output_type": "stream",
     "text": [
      "<ipython-input-10-506962b8e734>:141: VisibleDeprecationWarning: Creating an ndarray from ragged nested sequences (which is a list-or-tuple of lists-or-tuples-or ndarrays with different lengths or shapes) is deprecated. If you meant to do this, you must specify 'dtype=object' when creating the ndarray\n",
      "  globals()['G{}_c{}_w_layer{}'.format(global_epoch, num_c_w, layer_index)] = globals()['G{}_c{}_w_layer{}'.format(global_epoch, num_c_w, layer_index)] + np.array(globals()['L{}_layer{}_w_c'.format(i,layer_index)])   # 일반 클러스터링\n"
     ]
    },
    {
     "name": "stdout",
     "output_type": "stream",
     "text": [
      "Layer :  2   클러스터 갯수 정해짐!  갯수 :  2 0\n"
     ]
    },
    {
     "name": "stderr",
     "output_type": "stream",
     "text": [
      "<ipython-input-10-506962b8e734>:141: VisibleDeprecationWarning: Creating an ndarray from ragged nested sequences (which is a list-or-tuple of lists-or-tuples-or ndarrays with different lengths or shapes) is deprecated. If you meant to do this, you must specify 'dtype=object' when creating the ndarray\n",
      "  globals()['G{}_c{}_w_layer{}'.format(global_epoch, num_c_w, layer_index)] = globals()['G{}_c{}_w_layer{}'.format(global_epoch, num_c_w, layer_index)] + np.array(globals()['L{}_layer{}_w_c'.format(i,layer_index)])   # 일반 클러스터링\n"
     ]
    },
    {
     "name": "stdout",
     "output_type": "stream",
     "text": [
      "Layer :  4   클러스터 갯수 정해짐!  갯수 :  2 0\n"
     ]
    },
    {
     "name": "stderr",
     "output_type": "stream",
     "text": [
      "<ipython-input-10-506962b8e734>:141: VisibleDeprecationWarning: Creating an ndarray from ragged nested sequences (which is a list-or-tuple of lists-or-tuples-or ndarrays with different lengths or shapes) is deprecated. If you meant to do this, you must specify 'dtype=object' when creating the ndarray\n",
      "  globals()['G{}_c{}_w_layer{}'.format(global_epoch, num_c_w, layer_index)] = globals()['G{}_c{}_w_layer{}'.format(global_epoch, num_c_w, layer_index)] + np.array(globals()['L{}_layer{}_w_c'.format(i,layer_index)])   # 일반 클러스터링\n"
     ]
    },
    {
     "name": "stdout",
     "output_type": "stream",
     "text": [
      "Layer :  6   클러스터 갯수 정해짐!  갯수 :  2 0\n"
     ]
    },
    {
     "name": "stderr",
     "output_type": "stream",
     "text": [
      "<ipython-input-10-506962b8e734>:141: VisibleDeprecationWarning: Creating an ndarray from ragged nested sequences (which is a list-or-tuple of lists-or-tuples-or ndarrays with different lengths or shapes) is deprecated. If you meant to do this, you must specify 'dtype=object' when creating the ndarray\n",
      "  globals()['G{}_c{}_w_layer{}'.format(global_epoch, num_c_w, layer_index)] = globals()['G{}_c{}_w_layer{}'.format(global_epoch, num_c_w, layer_index)] + np.array(globals()['L{}_layer{}_w_c'.format(i,layer_index)])   # 일반 클러스터링\n"
     ]
    },
    {
     "name": "stdout",
     "output_type": "stream",
     "text": [
      "Layer :  7   클러스터 갯수 정해짐!  갯수 :  2 0\n",
      "\n",
      "\n",
      "====================================================== One Global Epoch =====================================================================\n",
      "\n",
      "\n",
      "12  번째 global_epoch 데이터 랜덤하게 준비!!\n"
     ]
    },
    {
     "name": "stderr",
     "output_type": "stream",
     "text": [
      "<ipython-input-10-506962b8e734>:141: VisibleDeprecationWarning: Creating an ndarray from ragged nested sequences (which is a list-or-tuple of lists-or-tuples-or ndarrays with different lengths or shapes) is deprecated. If you meant to do this, you must specify 'dtype=object' when creating the ndarray\n",
      "  globals()['G{}_c{}_w_layer{}'.format(global_epoch, num_c_w, layer_index)] = globals()['G{}_c{}_w_layer{}'.format(global_epoch, num_c_w, layer_index)] + np.array(globals()['L{}_layer{}_w_c'.format(i,layer_index)])   # 일반 클러스터링\n"
     ]
    },
    {
     "name": "stdout",
     "output_type": "stream",
     "text": [
      "12  번째 global_epoch 데이터 랜덤 준비완료!!\n",
      "\n",
      "\n",
      "12  번째 global epoch에서 로컬 클라이언트 들 학습시작!\n",
      "\n",
      "학습 중 ...\n",
      "\n",
      "16/16 - 0s - loss: 0.5070 - accuracy: 0.8640\n",
      "16/16 - 0s - loss: 0.6741 - accuracy: 0.8440\n",
      "16/16 - 0s - loss: 0.5457 - accuracy: 0.8480\n",
      "16/16 - 0s - loss: 0.6508 - accuracy: 0.8720\n",
      "16/16 - 0s - loss: 0.5883 - accuracy: 0.8720\n",
      "16/16 - 0s - loss: 0.6603 - accuracy: 0.8700\n",
      "16/16 - 0s - loss: 0.7698 - accuracy: 0.8680\n",
      "16/16 - 0s - loss: 0.5194 - accuracy: 0.8660\n",
      "16/16 - 0s - loss: 0.5330 - accuracy: 0.8720\n",
      "16/16 - 0s - loss: 0.4881 - accuracy: 0.8620\n",
      "16/16 - 0s - loss: 0.6730 - accuracy: 0.8740\n",
      "16/16 - 0s - loss: 0.6447 - accuracy: 0.8720\n",
      "16/16 - 0s - loss: 0.4639 - accuracy: 0.8820\n",
      "16/16 - 0s - loss: 0.4986 - accuracy: 0.8680\n",
      "16/16 - 0s - loss: 0.7057 - accuracy: 0.8580\n",
      "16/16 - 0s - loss: 0.6252 - accuracy: 0.8520\n",
      "16/16 - 0s - loss: 0.5184 - accuracy: 0.8720\n",
      "16/16 - 0s - loss: 0.5224 - accuracy: 0.8680\n",
      "16/16 - 0s - loss: 0.4222 - accuracy: 0.8860\n",
      "16/16 - 0s - loss: 0.6150 - accuracy: 0.8600\n",
      "------------    12  번째 global epoch < Clustering > 로컬 클라이언트 학습 완료!,  Total Training time :  315.7346827983856 ---------------------------\n",
      "\n",
      "\n",
      "Layer :  0   클러스터 갯수 정해짐!  갯수 :  7 5\n"
     ]
    },
    {
     "name": "stderr",
     "output_type": "stream",
     "text": [
      "<ipython-input-10-506962b8e734>:141: VisibleDeprecationWarning: Creating an ndarray from ragged nested sequences (which is a list-or-tuple of lists-or-tuples-or ndarrays with different lengths or shapes) is deprecated. If you meant to do this, you must specify 'dtype=object' when creating the ndarray\n",
      "  globals()['G{}_c{}_w_layer{}'.format(global_epoch, num_c_w, layer_index)] = globals()['G{}_c{}_w_layer{}'.format(global_epoch, num_c_w, layer_index)] + np.array(globals()['L{}_layer{}_w_c'.format(i,layer_index)])   # 일반 클러스터링\n"
     ]
    },
    {
     "name": "stdout",
     "output_type": "stream",
     "text": [
      "Layer :  2   클러스터 갯수 정해짐!  갯수 :  2 0\n"
     ]
    },
    {
     "name": "stderr",
     "output_type": "stream",
     "text": [
      "<ipython-input-10-506962b8e734>:141: VisibleDeprecationWarning: Creating an ndarray from ragged nested sequences (which is a list-or-tuple of lists-or-tuples-or ndarrays with different lengths or shapes) is deprecated. If you meant to do this, you must specify 'dtype=object' when creating the ndarray\n",
      "  globals()['G{}_c{}_w_layer{}'.format(global_epoch, num_c_w, layer_index)] = globals()['G{}_c{}_w_layer{}'.format(global_epoch, num_c_w, layer_index)] + np.array(globals()['L{}_layer{}_w_c'.format(i,layer_index)])   # 일반 클러스터링\n"
     ]
    },
    {
     "name": "stdout",
     "output_type": "stream",
     "text": [
      "Layer :  4   클러스터 갯수 정해짐!  갯수 :  2 0\n"
     ]
    },
    {
     "name": "stderr",
     "output_type": "stream",
     "text": [
      "<ipython-input-10-506962b8e734>:141: VisibleDeprecationWarning: Creating an ndarray from ragged nested sequences (which is a list-or-tuple of lists-or-tuples-or ndarrays with different lengths or shapes) is deprecated. If you meant to do this, you must specify 'dtype=object' when creating the ndarray\n",
      "  globals()['G{}_c{}_w_layer{}'.format(global_epoch, num_c_w, layer_index)] = globals()['G{}_c{}_w_layer{}'.format(global_epoch, num_c_w, layer_index)] + np.array(globals()['L{}_layer{}_w_c'.format(i,layer_index)])   # 일반 클러스터링\n"
     ]
    },
    {
     "name": "stdout",
     "output_type": "stream",
     "text": [
      "Layer :  6   클러스터 갯수 정해짐!  갯수 :  2 0\n"
     ]
    },
    {
     "name": "stderr",
     "output_type": "stream",
     "text": [
      "<ipython-input-10-506962b8e734>:141: VisibleDeprecationWarning: Creating an ndarray from ragged nested sequences (which is a list-or-tuple of lists-or-tuples-or ndarrays with different lengths or shapes) is deprecated. If you meant to do this, you must specify 'dtype=object' when creating the ndarray\n",
      "  globals()['G{}_c{}_w_layer{}'.format(global_epoch, num_c_w, layer_index)] = globals()['G{}_c{}_w_layer{}'.format(global_epoch, num_c_w, layer_index)] + np.array(globals()['L{}_layer{}_w_c'.format(i,layer_index)])   # 일반 클러스터링\n"
     ]
    },
    {
     "name": "stdout",
     "output_type": "stream",
     "text": [
      "Layer :  7   클러스터 갯수 정해짐!  갯수 :  2 0\n",
      "\n",
      "\n",
      "====================================================== One Global Epoch =====================================================================\n",
      "\n",
      "\n",
      "13  번째 global_epoch 데이터 랜덤하게 준비!!\n"
     ]
    },
    {
     "name": "stderr",
     "output_type": "stream",
     "text": [
      "<ipython-input-10-506962b8e734>:141: VisibleDeprecationWarning: Creating an ndarray from ragged nested sequences (which is a list-or-tuple of lists-or-tuples-or ndarrays with different lengths or shapes) is deprecated. If you meant to do this, you must specify 'dtype=object' when creating the ndarray\n",
      "  globals()['G{}_c{}_w_layer{}'.format(global_epoch, num_c_w, layer_index)] = globals()['G{}_c{}_w_layer{}'.format(global_epoch, num_c_w, layer_index)] + np.array(globals()['L{}_layer{}_w_c'.format(i,layer_index)])   # 일반 클러스터링\n"
     ]
    },
    {
     "name": "stdout",
     "output_type": "stream",
     "text": [
      "13  번째 global_epoch 데이터 랜덤 준비완료!!\n",
      "\n",
      "\n",
      "13  번째 global epoch에서 로컬 클라이언트 들 학습시작!\n",
      "\n",
      "학습 중 ...\n",
      "\n",
      "16/16 - 0s - loss: 0.6361 - accuracy: 0.8720\n",
      "16/16 - 0s - loss: 0.5549 - accuracy: 0.8700\n",
      "16/16 - 0s - loss: 0.6714 - accuracy: 0.8660\n",
      "16/16 - 0s - loss: 0.6832 - accuracy: 0.8680\n",
      "16/16 - 0s - loss: 0.5218 - accuracy: 0.8720\n",
      "16/16 - 0s - loss: 0.5128 - accuracy: 0.8940\n",
      "16/16 - 0s - loss: 0.6278 - accuracy: 0.8700\n",
      "16/16 - 0s - loss: 0.5649 - accuracy: 0.8880\n",
      "16/16 - 0s - loss: 0.7731 - accuracy: 0.8160\n",
      "16/16 - 0s - loss: 0.5245 - accuracy: 0.8600\n",
      "16/16 - 0s - loss: 0.5865 - accuracy: 0.8680\n",
      "16/16 - 0s - loss: 0.4379 - accuracy: 0.8980\n",
      "16/16 - 0s - loss: 0.5514 - accuracy: 0.8640\n",
      "16/16 - 0s - loss: 0.7585 - accuracy: 0.8360\n",
      "16/16 - 0s - loss: 0.6261 - accuracy: 0.8580\n",
      "16/16 - 0s - loss: 0.5764 - accuracy: 0.8680\n",
      "16/16 - 0s - loss: 0.7722 - accuracy: 0.8360\n",
      "16/16 - 0s - loss: 0.7592 - accuracy: 0.8340\n",
      "16/16 - 0s - loss: 0.6219 - accuracy: 0.8640\n",
      "16/16 - 0s - loss: 0.5916 - accuracy: 0.8560\n",
      "------------    13  번째 global epoch < Clustering > 로컬 클라이언트 학습 완료!,  Total Training time :  315.04486656188965 ---------------------------\n",
      "\n",
      "\n",
      "Layer :  0   클러스터 갯수 정해짐!  갯수 :  7 5\n"
     ]
    },
    {
     "name": "stderr",
     "output_type": "stream",
     "text": [
      "<ipython-input-10-506962b8e734>:141: VisibleDeprecationWarning: Creating an ndarray from ragged nested sequences (which is a list-or-tuple of lists-or-tuples-or ndarrays with different lengths or shapes) is deprecated. If you meant to do this, you must specify 'dtype=object' when creating the ndarray\n",
      "  globals()['G{}_c{}_w_layer{}'.format(global_epoch, num_c_w, layer_index)] = globals()['G{}_c{}_w_layer{}'.format(global_epoch, num_c_w, layer_index)] + np.array(globals()['L{}_layer{}_w_c'.format(i,layer_index)])   # 일반 클러스터링\n"
     ]
    },
    {
     "name": "stdout",
     "output_type": "stream",
     "text": [
      "Layer :  2   클러스터 갯수 정해짐!  갯수 :  2 0\n"
     ]
    },
    {
     "name": "stderr",
     "output_type": "stream",
     "text": [
      "<ipython-input-10-506962b8e734>:141: VisibleDeprecationWarning: Creating an ndarray from ragged nested sequences (which is a list-or-tuple of lists-or-tuples-or ndarrays with different lengths or shapes) is deprecated. If you meant to do this, you must specify 'dtype=object' when creating the ndarray\n",
      "  globals()['G{}_c{}_w_layer{}'.format(global_epoch, num_c_w, layer_index)] = globals()['G{}_c{}_w_layer{}'.format(global_epoch, num_c_w, layer_index)] + np.array(globals()['L{}_layer{}_w_c'.format(i,layer_index)])   # 일반 클러스터링\n"
     ]
    },
    {
     "name": "stdout",
     "output_type": "stream",
     "text": [
      "Layer :  4   클러스터 갯수 정해짐!  갯수 :  2 0\n"
     ]
    },
    {
     "name": "stderr",
     "output_type": "stream",
     "text": [
      "<ipython-input-10-506962b8e734>:141: VisibleDeprecationWarning: Creating an ndarray from ragged nested sequences (which is a list-or-tuple of lists-or-tuples-or ndarrays with different lengths or shapes) is deprecated. If you meant to do this, you must specify 'dtype=object' when creating the ndarray\n",
      "  globals()['G{}_c{}_w_layer{}'.format(global_epoch, num_c_w, layer_index)] = globals()['G{}_c{}_w_layer{}'.format(global_epoch, num_c_w, layer_index)] + np.array(globals()['L{}_layer{}_w_c'.format(i,layer_index)])   # 일반 클러스터링\n"
     ]
    },
    {
     "name": "stdout",
     "output_type": "stream",
     "text": [
      "Layer :  6   클러스터 갯수 정해짐!  갯수 :  2 0\n"
     ]
    },
    {
     "name": "stderr",
     "output_type": "stream",
     "text": [
      "<ipython-input-10-506962b8e734>:141: VisibleDeprecationWarning: Creating an ndarray from ragged nested sequences (which is a list-or-tuple of lists-or-tuples-or ndarrays with different lengths or shapes) is deprecated. If you meant to do this, you must specify 'dtype=object' when creating the ndarray\n",
      "  globals()['G{}_c{}_w_layer{}'.format(global_epoch, num_c_w, layer_index)] = globals()['G{}_c{}_w_layer{}'.format(global_epoch, num_c_w, layer_index)] + np.array(globals()['L{}_layer{}_w_c'.format(i,layer_index)])   # 일반 클러스터링\n"
     ]
    },
    {
     "name": "stdout",
     "output_type": "stream",
     "text": [
      "Layer :  7   클러스터 갯수 정해짐!  갯수 :  2 0\n",
      "\n",
      "\n",
      "====================================================== One Global Epoch =====================================================================\n",
      "\n",
      "\n",
      "14  번째 global_epoch 데이터 랜덤하게 준비!!\n"
     ]
    },
    {
     "name": "stderr",
     "output_type": "stream",
     "text": [
      "<ipython-input-10-506962b8e734>:141: VisibleDeprecationWarning: Creating an ndarray from ragged nested sequences (which is a list-or-tuple of lists-or-tuples-or ndarrays with different lengths or shapes) is deprecated. If you meant to do this, you must specify 'dtype=object' when creating the ndarray\n",
      "  globals()['G{}_c{}_w_layer{}'.format(global_epoch, num_c_w, layer_index)] = globals()['G{}_c{}_w_layer{}'.format(global_epoch, num_c_w, layer_index)] + np.array(globals()['L{}_layer{}_w_c'.format(i,layer_index)])   # 일반 클러스터링\n"
     ]
    },
    {
     "name": "stdout",
     "output_type": "stream",
     "text": [
      "14  번째 global_epoch 데이터 랜덤 준비완료!!\n",
      "\n",
      "\n",
      "14  번째 global epoch에서 로컬 클라이언트 들 학습시작!\n",
      "\n",
      "학습 중 ...\n",
      "\n",
      "16/16 - 0s - loss: 0.5956 - accuracy: 0.8780\n",
      "16/16 - 0s - loss: 0.6301 - accuracy: 0.8540\n",
      "16/16 - 0s - loss: 0.4720 - accuracy: 0.8960\n",
      "16/16 - 0s - loss: 0.6568 - accuracy: 0.8620\n",
      "16/16 - 0s - loss: 0.5248 - accuracy: 0.8760\n",
      "16/16 - 0s - loss: 0.5543 - accuracy: 0.8700\n",
      "16/16 - 0s - loss: 0.5907 - accuracy: 0.8700\n",
      "16/16 - 0s - loss: 0.5408 - accuracy: 0.8780\n",
      "16/16 - 0s - loss: 0.7255 - accuracy: 0.8520\n",
      "16/16 - 0s - loss: 0.5469 - accuracy: 0.8720\n",
      "16/16 - 0s - loss: 0.5820 - accuracy: 0.9040\n",
      "16/16 - 0s - loss: 0.7325 - accuracy: 0.8660\n",
      "16/16 - 0s - loss: 0.5606 - accuracy: 0.8620\n",
      "16/16 - 0s - loss: 0.5786 - accuracy: 0.8820\n",
      "16/16 - 0s - loss: 0.5873 - accuracy: 0.8840\n",
      "16/16 - 0s - loss: 0.7012 - accuracy: 0.8660\n",
      "16/16 - 0s - loss: 0.8076 - accuracy: 0.8200\n",
      "16/16 - 0s - loss: 0.6176 - accuracy: 0.8500\n",
      "16/16 - 0s - loss: 0.5969 - accuracy: 0.8540\n",
      "16/16 - 0s - loss: 0.6869 - accuracy: 0.8700\n",
      "------------    14  번째 global epoch < Clustering > 로컬 클라이언트 학습 완료!,  Total Training time :  335.5345711708069 ---------------------------\n",
      "\n",
      "\n",
      "Layer :  0   클러스터 갯수 정해짐!  갯수 :  7 5\n"
     ]
    },
    {
     "name": "stderr",
     "output_type": "stream",
     "text": [
      "<ipython-input-10-506962b8e734>:141: VisibleDeprecationWarning: Creating an ndarray from ragged nested sequences (which is a list-or-tuple of lists-or-tuples-or ndarrays with different lengths or shapes) is deprecated. If you meant to do this, you must specify 'dtype=object' when creating the ndarray\n",
      "  globals()['G{}_c{}_w_layer{}'.format(global_epoch, num_c_w, layer_index)] = globals()['G{}_c{}_w_layer{}'.format(global_epoch, num_c_w, layer_index)] + np.array(globals()['L{}_layer{}_w_c'.format(i,layer_index)])   # 일반 클러스터링\n"
     ]
    },
    {
     "name": "stdout",
     "output_type": "stream",
     "text": [
      "Layer :  2   클러스터 갯수 정해짐!  갯수 :  2 0\n"
     ]
    },
    {
     "name": "stderr",
     "output_type": "stream",
     "text": [
      "<ipython-input-10-506962b8e734>:141: VisibleDeprecationWarning: Creating an ndarray from ragged nested sequences (which is a list-or-tuple of lists-or-tuples-or ndarrays with different lengths or shapes) is deprecated. If you meant to do this, you must specify 'dtype=object' when creating the ndarray\n",
      "  globals()['G{}_c{}_w_layer{}'.format(global_epoch, num_c_w, layer_index)] = globals()['G{}_c{}_w_layer{}'.format(global_epoch, num_c_w, layer_index)] + np.array(globals()['L{}_layer{}_w_c'.format(i,layer_index)])   # 일반 클러스터링\n"
     ]
    },
    {
     "name": "stdout",
     "output_type": "stream",
     "text": [
      "Layer :  4   클러스터 갯수 정해짐!  갯수 :  2 0\n"
     ]
    },
    {
     "name": "stderr",
     "output_type": "stream",
     "text": [
      "<ipython-input-10-506962b8e734>:141: VisibleDeprecationWarning: Creating an ndarray from ragged nested sequences (which is a list-or-tuple of lists-or-tuples-or ndarrays with different lengths or shapes) is deprecated. If you meant to do this, you must specify 'dtype=object' when creating the ndarray\n",
      "  globals()['G{}_c{}_w_layer{}'.format(global_epoch, num_c_w, layer_index)] = globals()['G{}_c{}_w_layer{}'.format(global_epoch, num_c_w, layer_index)] + np.array(globals()['L{}_layer{}_w_c'.format(i,layer_index)])   # 일반 클러스터링\n"
     ]
    },
    {
     "name": "stdout",
     "output_type": "stream",
     "text": [
      "Layer :  6   클러스터 갯수 정해짐!  갯수 :  2 0\n"
     ]
    },
    {
     "name": "stderr",
     "output_type": "stream",
     "text": [
      "<ipython-input-10-506962b8e734>:141: VisibleDeprecationWarning: Creating an ndarray from ragged nested sequences (which is a list-or-tuple of lists-or-tuples-or ndarrays with different lengths or shapes) is deprecated. If you meant to do this, you must specify 'dtype=object' when creating the ndarray\n",
      "  globals()['G{}_c{}_w_layer{}'.format(global_epoch, num_c_w, layer_index)] = globals()['G{}_c{}_w_layer{}'.format(global_epoch, num_c_w, layer_index)] + np.array(globals()['L{}_layer{}_w_c'.format(i,layer_index)])   # 일반 클러스터링\n"
     ]
    },
    {
     "name": "stdout",
     "output_type": "stream",
     "text": [
      "Layer :  7   클러스터 갯수 정해짐!  갯수 :  2 0\n",
      "\n",
      "\n",
      "====================================================== One Global Epoch =====================================================================\n",
      "\n",
      "\n",
      "15  번째 global_epoch 데이터 랜덤하게 준비!!\n"
     ]
    },
    {
     "name": "stderr",
     "output_type": "stream",
     "text": [
      "<ipython-input-10-506962b8e734>:141: VisibleDeprecationWarning: Creating an ndarray from ragged nested sequences (which is a list-or-tuple of lists-or-tuples-or ndarrays with different lengths or shapes) is deprecated. If you meant to do this, you must specify 'dtype=object' when creating the ndarray\n",
      "  globals()['G{}_c{}_w_layer{}'.format(global_epoch, num_c_w, layer_index)] = globals()['G{}_c{}_w_layer{}'.format(global_epoch, num_c_w, layer_index)] + np.array(globals()['L{}_layer{}_w_c'.format(i,layer_index)])   # 일반 클러스터링\n"
     ]
    },
    {
     "name": "stdout",
     "output_type": "stream",
     "text": [
      "15  번째 global_epoch 데이터 랜덤 준비완료!!\n",
      "\n",
      "\n",
      "15  번째 global epoch에서 로컬 클라이언트 들 학습시작!\n",
      "\n",
      "학습 중 ...\n",
      "\n",
      "16/16 - 0s - loss: 0.6459 - accuracy: 0.8520\n",
      "16/16 - 0s - loss: 0.6592 - accuracy: 0.8580\n",
      "16/16 - 0s - loss: 0.6131 - accuracy: 0.8660\n",
      "16/16 - 0s - loss: 0.6210 - accuracy: 0.8640\n",
      "16/16 - 0s - loss: 0.5822 - accuracy: 0.8640\n",
      "16/16 - 0s - loss: 0.4845 - accuracy: 0.8920\n",
      "16/16 - 0s - loss: 0.5313 - accuracy: 0.8840\n",
      "16/16 - 0s - loss: 0.6038 - accuracy: 0.8680\n",
      "16/16 - 0s - loss: 0.6962 - accuracy: 0.8640\n",
      "16/16 - 0s - loss: 0.5744 - accuracy: 0.8700\n",
      "16/16 - 0s - loss: 0.5455 - accuracy: 0.8520\n",
      "16/16 - 0s - loss: 0.6576 - accuracy: 0.8680\n",
      "16/16 - 0s - loss: 0.5058 - accuracy: 0.8980\n",
      "16/16 - 0s - loss: 0.5200 - accuracy: 0.8760\n",
      "16/16 - 0s - loss: 0.6337 - accuracy: 0.8500\n",
      "16/16 - 0s - loss: 0.6597 - accuracy: 0.8660\n",
      "16/16 - 0s - loss: 0.7653 - accuracy: 0.8400\n",
      "16/16 - 0s - loss: 0.6556 - accuracy: 0.8760\n",
      "16/16 - 0s - loss: 0.6871 - accuracy: 0.8680\n",
      "16/16 - 0s - loss: 0.6708 - accuracy: 0.8660\n",
      "------------    15  번째 global epoch < Clustering > 로컬 클라이언트 학습 완료!,  Total Training time :  362.35549998283386 ---------------------------\n",
      "\n",
      "\n",
      "Layer :  0   클러스터 갯수 정해짐!  갯수 :  7 5\n"
     ]
    },
    {
     "name": "stderr",
     "output_type": "stream",
     "text": [
      "<ipython-input-10-506962b8e734>:141: VisibleDeprecationWarning: Creating an ndarray from ragged nested sequences (which is a list-or-tuple of lists-or-tuples-or ndarrays with different lengths or shapes) is deprecated. If you meant to do this, you must specify 'dtype=object' when creating the ndarray\n",
      "  globals()['G{}_c{}_w_layer{}'.format(global_epoch, num_c_w, layer_index)] = globals()['G{}_c{}_w_layer{}'.format(global_epoch, num_c_w, layer_index)] + np.array(globals()['L{}_layer{}_w_c'.format(i,layer_index)])   # 일반 클러스터링\n"
     ]
    },
    {
     "name": "stdout",
     "output_type": "stream",
     "text": [
      "Layer :  2   클러스터 갯수 정해짐!  갯수 :  2 0\n"
     ]
    },
    {
     "name": "stderr",
     "output_type": "stream",
     "text": [
      "<ipython-input-10-506962b8e734>:141: VisibleDeprecationWarning: Creating an ndarray from ragged nested sequences (which is a list-or-tuple of lists-or-tuples-or ndarrays with different lengths or shapes) is deprecated. If you meant to do this, you must specify 'dtype=object' when creating the ndarray\n",
      "  globals()['G{}_c{}_w_layer{}'.format(global_epoch, num_c_w, layer_index)] = globals()['G{}_c{}_w_layer{}'.format(global_epoch, num_c_w, layer_index)] + np.array(globals()['L{}_layer{}_w_c'.format(i,layer_index)])   # 일반 클러스터링\n"
     ]
    },
    {
     "name": "stdout",
     "output_type": "stream",
     "text": [
      "Layer :  4   클러스터 갯수 정해짐!  갯수 :  2 0\n"
     ]
    },
    {
     "name": "stderr",
     "output_type": "stream",
     "text": [
      "<ipython-input-10-506962b8e734>:141: VisibleDeprecationWarning: Creating an ndarray from ragged nested sequences (which is a list-or-tuple of lists-or-tuples-or ndarrays with different lengths or shapes) is deprecated. If you meant to do this, you must specify 'dtype=object' when creating the ndarray\n",
      "  globals()['G{}_c{}_w_layer{}'.format(global_epoch, num_c_w, layer_index)] = globals()['G{}_c{}_w_layer{}'.format(global_epoch, num_c_w, layer_index)] + np.array(globals()['L{}_layer{}_w_c'.format(i,layer_index)])   # 일반 클러스터링\n"
     ]
    },
    {
     "name": "stdout",
     "output_type": "stream",
     "text": [
      "Layer :  6   클러스터 갯수 정해짐!  갯수 :  2 0\n"
     ]
    },
    {
     "name": "stderr",
     "output_type": "stream",
     "text": [
      "<ipython-input-10-506962b8e734>:141: VisibleDeprecationWarning: Creating an ndarray from ragged nested sequences (which is a list-or-tuple of lists-or-tuples-or ndarrays with different lengths or shapes) is deprecated. If you meant to do this, you must specify 'dtype=object' when creating the ndarray\n",
      "  globals()['G{}_c{}_w_layer{}'.format(global_epoch, num_c_w, layer_index)] = globals()['G{}_c{}_w_layer{}'.format(global_epoch, num_c_w, layer_index)] + np.array(globals()['L{}_layer{}_w_c'.format(i,layer_index)])   # 일반 클러스터링\n"
     ]
    },
    {
     "name": "stdout",
     "output_type": "stream",
     "text": [
      "Layer :  7   클러스터 갯수 정해짐!  갯수 :  2 0\n",
      "\n",
      "\n",
      "====================================================== One Global Epoch =====================================================================\n",
      "\n",
      "\n",
      "16  번째 global_epoch 데이터 랜덤하게 준비!!\n"
     ]
    },
    {
     "name": "stderr",
     "output_type": "stream",
     "text": [
      "<ipython-input-10-506962b8e734>:141: VisibleDeprecationWarning: Creating an ndarray from ragged nested sequences (which is a list-or-tuple of lists-or-tuples-or ndarrays with different lengths or shapes) is deprecated. If you meant to do this, you must specify 'dtype=object' when creating the ndarray\n",
      "  globals()['G{}_c{}_w_layer{}'.format(global_epoch, num_c_w, layer_index)] = globals()['G{}_c{}_w_layer{}'.format(global_epoch, num_c_w, layer_index)] + np.array(globals()['L{}_layer{}_w_c'.format(i,layer_index)])   # 일반 클러스터링\n"
     ]
    },
    {
     "name": "stdout",
     "output_type": "stream",
     "text": [
      "16  번째 global_epoch 데이터 랜덤 준비완료!!\n",
      "\n",
      "\n",
      "16  번째 global epoch에서 로컬 클라이언트 들 학습시작!\n",
      "\n",
      "학습 중 ...\n",
      "\n",
      "16/16 - 0s - loss: 0.6378 - accuracy: 0.8840\n",
      "16/16 - 0s - loss: 0.7292 - accuracy: 0.8420\n",
      "16/16 - 0s - loss: 0.5599 - accuracy: 0.8840\n",
      "16/16 - 0s - loss: 0.6889 - accuracy: 0.8640\n",
      "16/16 - 0s - loss: 0.5246 - accuracy: 0.8960\n",
      "16/16 - 0s - loss: 0.6425 - accuracy: 0.8660\n",
      "16/16 - 0s - loss: 0.5436 - accuracy: 0.8800\n",
      "16/16 - 0s - loss: 0.5390 - accuracy: 0.8660\n",
      "16/16 - 0s - loss: 0.4895 - accuracy: 0.8920\n",
      "16/16 - 0s - loss: 0.7572 - accuracy: 0.8560\n",
      "16/16 - 0s - loss: 0.6360 - accuracy: 0.8800\n",
      "16/16 - 0s - loss: 0.5540 - accuracy: 0.8980\n",
      "16/16 - 0s - loss: 0.8096 - accuracy: 0.8440\n",
      "16/16 - 0s - loss: 0.5495 - accuracy: 0.8740\n",
      "16/16 - 0s - loss: 0.5409 - accuracy: 0.8900\n",
      "16/16 - 0s - loss: 0.7075 - accuracy: 0.8640\n",
      "16/16 - 0s - loss: 0.6664 - accuracy: 0.8600\n",
      "16/16 - 0s - loss: 0.6045 - accuracy: 0.8780\n",
      "16/16 - 0s - loss: 0.7003 - accuracy: 0.8720\n",
      "16/16 - 0s - loss: 0.7664 - accuracy: 0.8580\n",
      "------------    16  번째 global epoch < Clustering > 로컬 클라이언트 학습 완료!,  Total Training time :  366.5447723865509 ---------------------------\n",
      "\n",
      "\n",
      "Layer :  0   클러스터 갯수 정해짐!  갯수 :  7 5\n"
     ]
    },
    {
     "name": "stderr",
     "output_type": "stream",
     "text": [
      "<ipython-input-10-506962b8e734>:141: VisibleDeprecationWarning: Creating an ndarray from ragged nested sequences (which is a list-or-tuple of lists-or-tuples-or ndarrays with different lengths or shapes) is deprecated. If you meant to do this, you must specify 'dtype=object' when creating the ndarray\n",
      "  globals()['G{}_c{}_w_layer{}'.format(global_epoch, num_c_w, layer_index)] = globals()['G{}_c{}_w_layer{}'.format(global_epoch, num_c_w, layer_index)] + np.array(globals()['L{}_layer{}_w_c'.format(i,layer_index)])   # 일반 클러스터링\n"
     ]
    },
    {
     "name": "stdout",
     "output_type": "stream",
     "text": [
      "Layer :  2   클러스터 갯수 정해짐!  갯수 :  2 0\n"
     ]
    },
    {
     "name": "stderr",
     "output_type": "stream",
     "text": [
      "<ipython-input-10-506962b8e734>:141: VisibleDeprecationWarning: Creating an ndarray from ragged nested sequences (which is a list-or-tuple of lists-or-tuples-or ndarrays with different lengths or shapes) is deprecated. If you meant to do this, you must specify 'dtype=object' when creating the ndarray\n",
      "  globals()['G{}_c{}_w_layer{}'.format(global_epoch, num_c_w, layer_index)] = globals()['G{}_c{}_w_layer{}'.format(global_epoch, num_c_w, layer_index)] + np.array(globals()['L{}_layer{}_w_c'.format(i,layer_index)])   # 일반 클러스터링\n"
     ]
    },
    {
     "name": "stdout",
     "output_type": "stream",
     "text": [
      "Layer :  4   클러스터 갯수 정해짐!  갯수 :  2 0\n"
     ]
    },
    {
     "name": "stderr",
     "output_type": "stream",
     "text": [
      "<ipython-input-10-506962b8e734>:141: VisibleDeprecationWarning: Creating an ndarray from ragged nested sequences (which is a list-or-tuple of lists-or-tuples-or ndarrays with different lengths or shapes) is deprecated. If you meant to do this, you must specify 'dtype=object' when creating the ndarray\n",
      "  globals()['G{}_c{}_w_layer{}'.format(global_epoch, num_c_w, layer_index)] = globals()['G{}_c{}_w_layer{}'.format(global_epoch, num_c_w, layer_index)] + np.array(globals()['L{}_layer{}_w_c'.format(i,layer_index)])   # 일반 클러스터링\n"
     ]
    },
    {
     "name": "stdout",
     "output_type": "stream",
     "text": [
      "Layer :  6   클러스터 갯수 정해짐!  갯수 :  2 0\n"
     ]
    },
    {
     "name": "stderr",
     "output_type": "stream",
     "text": [
      "<ipython-input-10-506962b8e734>:141: VisibleDeprecationWarning: Creating an ndarray from ragged nested sequences (which is a list-or-tuple of lists-or-tuples-or ndarrays with different lengths or shapes) is deprecated. If you meant to do this, you must specify 'dtype=object' when creating the ndarray\n",
      "  globals()['G{}_c{}_w_layer{}'.format(global_epoch, num_c_w, layer_index)] = globals()['G{}_c{}_w_layer{}'.format(global_epoch, num_c_w, layer_index)] + np.array(globals()['L{}_layer{}_w_c'.format(i,layer_index)])   # 일반 클러스터링\n"
     ]
    },
    {
     "name": "stdout",
     "output_type": "stream",
     "text": [
      "Layer :  7   클러스터 갯수 정해짐!  갯수 :  2 0\n",
      "\n",
      "\n",
      "====================================================== One Global Epoch =====================================================================\n",
      "\n",
      "\n",
      "17  번째 global_epoch 데이터 랜덤하게 준비!!\n"
     ]
    },
    {
     "name": "stderr",
     "output_type": "stream",
     "text": [
      "<ipython-input-10-506962b8e734>:141: VisibleDeprecationWarning: Creating an ndarray from ragged nested sequences (which is a list-or-tuple of lists-or-tuples-or ndarrays with different lengths or shapes) is deprecated. If you meant to do this, you must specify 'dtype=object' when creating the ndarray\n",
      "  globals()['G{}_c{}_w_layer{}'.format(global_epoch, num_c_w, layer_index)] = globals()['G{}_c{}_w_layer{}'.format(global_epoch, num_c_w, layer_index)] + np.array(globals()['L{}_layer{}_w_c'.format(i,layer_index)])   # 일반 클러스터링\n"
     ]
    },
    {
     "name": "stdout",
     "output_type": "stream",
     "text": [
      "17  번째 global_epoch 데이터 랜덤 준비완료!!\n",
      "\n",
      "\n",
      "17  번째 global epoch에서 로컬 클라이언트 들 학습시작!\n",
      "\n",
      "학습 중 ...\n",
      "\n",
      "16/16 - 0s - loss: 0.4266 - accuracy: 0.8960\n",
      "16/16 - 0s - loss: 0.6536 - accuracy: 0.8740\n",
      "16/16 - 0s - loss: 0.6009 - accuracy: 0.8920\n",
      "16/16 - 0s - loss: 0.5976 - accuracy: 0.8700\n",
      "16/16 - 0s - loss: 0.4524 - accuracy: 0.9000\n",
      "16/16 - 0s - loss: 0.6174 - accuracy: 0.8640\n",
      "16/16 - 0s - loss: 0.6595 - accuracy: 0.8880\n",
      "16/16 - 0s - loss: 0.5938 - accuracy: 0.8740\n",
      "16/16 - 0s - loss: 0.5788 - accuracy: 0.8780\n",
      "16/16 - 0s - loss: 0.5926 - accuracy: 0.8680\n",
      "16/16 - 0s - loss: 0.4773 - accuracy: 0.9100\n",
      "16/16 - 0s - loss: 0.6480 - accuracy: 0.8500\n",
      "16/16 - 0s - loss: 0.7114 - accuracy: 0.8680\n",
      "16/16 - 0s - loss: 0.6102 - accuracy: 0.8680\n",
      "16/16 - 0s - loss: 0.7609 - accuracy: 0.8580\n",
      "16/16 - 0s - loss: 0.4601 - accuracy: 0.8860\n",
      "16/16 - 0s - loss: 0.6451 - accuracy: 0.8540\n",
      "16/16 - 0s - loss: 0.5321 - accuracy: 0.8880\n",
      "16/16 - 0s - loss: 0.7768 - accuracy: 0.8640\n",
      "16/16 - 0s - loss: 0.7016 - accuracy: 0.8660\n",
      "------------    17  번째 global epoch < Clustering > 로컬 클라이언트 학습 완료!,  Total Training time :  370.7310552597046 ---------------------------\n",
      "\n",
      "\n",
      "Layer :  0   클러스터 갯수 정해짐!  갯수 :  7 5\n"
     ]
    },
    {
     "name": "stderr",
     "output_type": "stream",
     "text": [
      "<ipython-input-10-506962b8e734>:141: VisibleDeprecationWarning: Creating an ndarray from ragged nested sequences (which is a list-or-tuple of lists-or-tuples-or ndarrays with different lengths or shapes) is deprecated. If you meant to do this, you must specify 'dtype=object' when creating the ndarray\n",
      "  globals()['G{}_c{}_w_layer{}'.format(global_epoch, num_c_w, layer_index)] = globals()['G{}_c{}_w_layer{}'.format(global_epoch, num_c_w, layer_index)] + np.array(globals()['L{}_layer{}_w_c'.format(i,layer_index)])   # 일반 클러스터링\n"
     ]
    },
    {
     "name": "stdout",
     "output_type": "stream",
     "text": [
      "Layer :  2   클러스터 갯수 정해짐!  갯수 :  2 0\n"
     ]
    },
    {
     "name": "stderr",
     "output_type": "stream",
     "text": [
      "<ipython-input-10-506962b8e734>:141: VisibleDeprecationWarning: Creating an ndarray from ragged nested sequences (which is a list-or-tuple of lists-or-tuples-or ndarrays with different lengths or shapes) is deprecated. If you meant to do this, you must specify 'dtype=object' when creating the ndarray\n",
      "  globals()['G{}_c{}_w_layer{}'.format(global_epoch, num_c_w, layer_index)] = globals()['G{}_c{}_w_layer{}'.format(global_epoch, num_c_w, layer_index)] + np.array(globals()['L{}_layer{}_w_c'.format(i,layer_index)])   # 일반 클러스터링\n"
     ]
    },
    {
     "name": "stdout",
     "output_type": "stream",
     "text": [
      "Layer :  4   클러스터 갯수 정해짐!  갯수 :  2 0\n"
     ]
    },
    {
     "name": "stderr",
     "output_type": "stream",
     "text": [
      "<ipython-input-10-506962b8e734>:141: VisibleDeprecationWarning: Creating an ndarray from ragged nested sequences (which is a list-or-tuple of lists-or-tuples-or ndarrays with different lengths or shapes) is deprecated. If you meant to do this, you must specify 'dtype=object' when creating the ndarray\n",
      "  globals()['G{}_c{}_w_layer{}'.format(global_epoch, num_c_w, layer_index)] = globals()['G{}_c{}_w_layer{}'.format(global_epoch, num_c_w, layer_index)] + np.array(globals()['L{}_layer{}_w_c'.format(i,layer_index)])   # 일반 클러스터링\n"
     ]
    },
    {
     "name": "stdout",
     "output_type": "stream",
     "text": [
      "Layer :  6   클러스터 갯수 정해짐!  갯수 :  2 0\n"
     ]
    },
    {
     "name": "stderr",
     "output_type": "stream",
     "text": [
      "<ipython-input-10-506962b8e734>:141: VisibleDeprecationWarning: Creating an ndarray from ragged nested sequences (which is a list-or-tuple of lists-or-tuples-or ndarrays with different lengths or shapes) is deprecated. If you meant to do this, you must specify 'dtype=object' when creating the ndarray\n",
      "  globals()['G{}_c{}_w_layer{}'.format(global_epoch, num_c_w, layer_index)] = globals()['G{}_c{}_w_layer{}'.format(global_epoch, num_c_w, layer_index)] + np.array(globals()['L{}_layer{}_w_c'.format(i,layer_index)])   # 일반 클러스터링\n"
     ]
    },
    {
     "name": "stdout",
     "output_type": "stream",
     "text": [
      "Layer :  7   클러스터 갯수 정해짐!  갯수 :  2 0\n",
      "\n",
      "\n",
      "====================================================== One Global Epoch =====================================================================\n",
      "\n",
      "\n",
      "18  번째 global_epoch 데이터 랜덤하게 준비!!\n"
     ]
    },
    {
     "name": "stderr",
     "output_type": "stream",
     "text": [
      "<ipython-input-10-506962b8e734>:141: VisibleDeprecationWarning: Creating an ndarray from ragged nested sequences (which is a list-or-tuple of lists-or-tuples-or ndarrays with different lengths or shapes) is deprecated. If you meant to do this, you must specify 'dtype=object' when creating the ndarray\n",
      "  globals()['G{}_c{}_w_layer{}'.format(global_epoch, num_c_w, layer_index)] = globals()['G{}_c{}_w_layer{}'.format(global_epoch, num_c_w, layer_index)] + np.array(globals()['L{}_layer{}_w_c'.format(i,layer_index)])   # 일반 클러스터링\n"
     ]
    },
    {
     "name": "stdout",
     "output_type": "stream",
     "text": [
      "18  번째 global_epoch 데이터 랜덤 준비완료!!\n",
      "\n",
      "\n",
      "18  번째 global epoch에서 로컬 클라이언트 들 학습시작!\n",
      "\n",
      "학습 중 ...\n",
      "\n",
      "16/16 - 0s - loss: 0.5656 - accuracy: 0.8820\n",
      "16/16 - 0s - loss: 0.7796 - accuracy: 0.8620\n",
      "16/16 - 0s - loss: 0.9215 - accuracy: 0.8580\n",
      "16/16 - 0s - loss: 0.6792 - accuracy: 0.8560\n",
      "16/16 - 0s - loss: 0.8302 - accuracy: 0.8720\n",
      "16/16 - 0s - loss: 0.8416 - accuracy: 0.8500\n",
      "16/16 - 0s - loss: 0.6574 - accuracy: 0.8760\n",
      "16/16 - 0s - loss: 0.6790 - accuracy: 0.8680\n",
      "16/16 - 0s - loss: 0.5385 - accuracy: 0.8920\n",
      "16/16 - 0s - loss: 0.7043 - accuracy: 0.8680\n",
      "16/16 - 0s - loss: 0.4818 - accuracy: 0.9080\n",
      "16/16 - 0s - loss: 0.7034 - accuracy: 0.8740\n",
      "16/16 - 0s - loss: 0.5822 - accuracy: 0.8640\n",
      "16/16 - 0s - loss: 0.4766 - accuracy: 0.9000\n",
      "16/16 - 0s - loss: 0.4724 - accuracy: 0.8880\n",
      "16/16 - 0s - loss: 0.7278 - accuracy: 0.8640\n",
      "16/16 - 0s - loss: 0.5936 - accuracy: 0.8800\n",
      "16/16 - 0s - loss: 0.6353 - accuracy: 0.8800\n",
      "16/16 - 0s - loss: 0.7629 - accuracy: 0.8760\n",
      "16/16 - 0s - loss: 0.5264 - accuracy: 0.8940\n",
      "------------    18  번째 global epoch < Clustering > 로컬 클라이언트 학습 완료!,  Total Training time :  382.3947072029114 ---------------------------\n",
      "\n",
      "\n",
      "Layer :  0   클러스터 갯수 정해짐!  갯수 :  7 5\n"
     ]
    },
    {
     "name": "stderr",
     "output_type": "stream",
     "text": [
      "<ipython-input-10-506962b8e734>:141: VisibleDeprecationWarning: Creating an ndarray from ragged nested sequences (which is a list-or-tuple of lists-or-tuples-or ndarrays with different lengths or shapes) is deprecated. If you meant to do this, you must specify 'dtype=object' when creating the ndarray\n",
      "  globals()['G{}_c{}_w_layer{}'.format(global_epoch, num_c_w, layer_index)] = globals()['G{}_c{}_w_layer{}'.format(global_epoch, num_c_w, layer_index)] + np.array(globals()['L{}_layer{}_w_c'.format(i,layer_index)])   # 일반 클러스터링\n"
     ]
    },
    {
     "name": "stdout",
     "output_type": "stream",
     "text": [
      "Layer :  2   클러스터 갯수 정해짐!  갯수 :  2 0\n"
     ]
    },
    {
     "name": "stderr",
     "output_type": "stream",
     "text": [
      "<ipython-input-10-506962b8e734>:141: VisibleDeprecationWarning: Creating an ndarray from ragged nested sequences (which is a list-or-tuple of lists-or-tuples-or ndarrays with different lengths or shapes) is deprecated. If you meant to do this, you must specify 'dtype=object' when creating the ndarray\n",
      "  globals()['G{}_c{}_w_layer{}'.format(global_epoch, num_c_w, layer_index)] = globals()['G{}_c{}_w_layer{}'.format(global_epoch, num_c_w, layer_index)] + np.array(globals()['L{}_layer{}_w_c'.format(i,layer_index)])   # 일반 클러스터링\n"
     ]
    },
    {
     "name": "stdout",
     "output_type": "stream",
     "text": [
      "Layer :  4   클러스터 갯수 정해짐!  갯수 :  2 0\n"
     ]
    },
    {
     "name": "stderr",
     "output_type": "stream",
     "text": [
      "<ipython-input-10-506962b8e734>:141: VisibleDeprecationWarning: Creating an ndarray from ragged nested sequences (which is a list-or-tuple of lists-or-tuples-or ndarrays with different lengths or shapes) is deprecated. If you meant to do this, you must specify 'dtype=object' when creating the ndarray\n",
      "  globals()['G{}_c{}_w_layer{}'.format(global_epoch, num_c_w, layer_index)] = globals()['G{}_c{}_w_layer{}'.format(global_epoch, num_c_w, layer_index)] + np.array(globals()['L{}_layer{}_w_c'.format(i,layer_index)])   # 일반 클러스터링\n"
     ]
    },
    {
     "name": "stdout",
     "output_type": "stream",
     "text": [
      "Layer :  6   클러스터 갯수 정해짐!  갯수 :  2 0\n"
     ]
    },
    {
     "name": "stderr",
     "output_type": "stream",
     "text": [
      "<ipython-input-10-506962b8e734>:141: VisibleDeprecationWarning: Creating an ndarray from ragged nested sequences (which is a list-or-tuple of lists-or-tuples-or ndarrays with different lengths or shapes) is deprecated. If you meant to do this, you must specify 'dtype=object' when creating the ndarray\n",
      "  globals()['G{}_c{}_w_layer{}'.format(global_epoch, num_c_w, layer_index)] = globals()['G{}_c{}_w_layer{}'.format(global_epoch, num_c_w, layer_index)] + np.array(globals()['L{}_layer{}_w_c'.format(i,layer_index)])   # 일반 클러스터링\n"
     ]
    },
    {
     "name": "stdout",
     "output_type": "stream",
     "text": [
      "Layer :  7   클러스터 갯수 정해짐!  갯수 :  2 0\n",
      "\n",
      "\n",
      "====================================================== One Global Epoch =====================================================================\n",
      "\n",
      "\n",
      "19  번째 global_epoch 데이터 랜덤하게 준비!!\n"
     ]
    },
    {
     "name": "stderr",
     "output_type": "stream",
     "text": [
      "<ipython-input-10-506962b8e734>:141: VisibleDeprecationWarning: Creating an ndarray from ragged nested sequences (which is a list-or-tuple of lists-or-tuples-or ndarrays with different lengths or shapes) is deprecated. If you meant to do this, you must specify 'dtype=object' when creating the ndarray\n",
      "  globals()['G{}_c{}_w_layer{}'.format(global_epoch, num_c_w, layer_index)] = globals()['G{}_c{}_w_layer{}'.format(global_epoch, num_c_w, layer_index)] + np.array(globals()['L{}_layer{}_w_c'.format(i,layer_index)])   # 일반 클러스터링\n"
     ]
    },
    {
     "name": "stdout",
     "output_type": "stream",
     "text": [
      "19  번째 global_epoch 데이터 랜덤 준비완료!!\n",
      "\n",
      "\n",
      "19  번째 global epoch에서 로컬 클라이언트 들 학습시작!\n",
      "\n",
      "학습 중 ...\n",
      "\n",
      "16/16 - 0s - loss: 0.6498 - accuracy: 0.8660\n",
      "16/16 - 0s - loss: 0.8142 - accuracy: 0.8480\n",
      "16/16 - 0s - loss: 0.4895 - accuracy: 0.8960\n",
      "16/16 - 0s - loss: 0.7679 - accuracy: 0.8580\n",
      "16/16 - 0s - loss: 0.6981 - accuracy: 0.8760\n",
      "16/16 - 0s - loss: 0.4999 - accuracy: 0.9060\n",
      "16/16 - 0s - loss: 0.7281 - accuracy: 0.8540\n",
      "16/16 - 0s - loss: 0.5725 - accuracy: 0.8760\n",
      "16/16 - 0s - loss: 0.6469 - accuracy: 0.8620\n",
      "16/16 - 0s - loss: 0.7581 - accuracy: 0.8600\n",
      "16/16 - 0s - loss: 0.6481 - accuracy: 0.8720\n",
      "16/16 - 0s - loss: 0.7903 - accuracy: 0.8660\n",
      "16/16 - 0s - loss: 0.6440 - accuracy: 0.8520\n",
      "16/16 - 0s - loss: 0.6505 - accuracy: 0.8740\n",
      "16/16 - 0s - loss: 0.4863 - accuracy: 0.9000\n",
      "16/16 - 0s - loss: 0.8006 - accuracy: 0.8840\n",
      "16/16 - 0s - loss: 0.7225 - accuracy: 0.8520\n",
      "16/16 - 0s - loss: 0.5373 - accuracy: 0.8880\n",
      "16/16 - 0s - loss: 0.5379 - accuracy: 0.8760\n",
      "16/16 - 0s - loss: 0.6674 - accuracy: 0.8800\n",
      "------------    19  번째 global epoch < Clustering > 로컬 클라이언트 학습 완료!,  Total Training time :  418.24882078170776 ---------------------------\n",
      "\n",
      "\n",
      "Layer :  0   클러스터 갯수 정해짐!  갯수 :  7 5\n"
     ]
    },
    {
     "name": "stderr",
     "output_type": "stream",
     "text": [
      "<ipython-input-10-506962b8e734>:141: VisibleDeprecationWarning: Creating an ndarray from ragged nested sequences (which is a list-or-tuple of lists-or-tuples-or ndarrays with different lengths or shapes) is deprecated. If you meant to do this, you must specify 'dtype=object' when creating the ndarray\n",
      "  globals()['G{}_c{}_w_layer{}'.format(global_epoch, num_c_w, layer_index)] = globals()['G{}_c{}_w_layer{}'.format(global_epoch, num_c_w, layer_index)] + np.array(globals()['L{}_layer{}_w_c'.format(i,layer_index)])   # 일반 클러스터링\n"
     ]
    },
    {
     "name": "stdout",
     "output_type": "stream",
     "text": [
      "Layer :  2   클러스터 갯수 정해짐!  갯수 :  2 0\n"
     ]
    },
    {
     "name": "stderr",
     "output_type": "stream",
     "text": [
      "<ipython-input-10-506962b8e734>:141: VisibleDeprecationWarning: Creating an ndarray from ragged nested sequences (which is a list-or-tuple of lists-or-tuples-or ndarrays with different lengths or shapes) is deprecated. If you meant to do this, you must specify 'dtype=object' when creating the ndarray\n",
      "  globals()['G{}_c{}_w_layer{}'.format(global_epoch, num_c_w, layer_index)] = globals()['G{}_c{}_w_layer{}'.format(global_epoch, num_c_w, layer_index)] + np.array(globals()['L{}_layer{}_w_c'.format(i,layer_index)])   # 일반 클러스터링\n"
     ]
    },
    {
     "name": "stdout",
     "output_type": "stream",
     "text": [
      "Layer :  4   클러스터 갯수 정해짐!  갯수 :  2 0\n"
     ]
    },
    {
     "name": "stderr",
     "output_type": "stream",
     "text": [
      "<ipython-input-10-506962b8e734>:141: VisibleDeprecationWarning: Creating an ndarray from ragged nested sequences (which is a list-or-tuple of lists-or-tuples-or ndarrays with different lengths or shapes) is deprecated. If you meant to do this, you must specify 'dtype=object' when creating the ndarray\n",
      "  globals()['G{}_c{}_w_layer{}'.format(global_epoch, num_c_w, layer_index)] = globals()['G{}_c{}_w_layer{}'.format(global_epoch, num_c_w, layer_index)] + np.array(globals()['L{}_layer{}_w_c'.format(i,layer_index)])   # 일반 클러스터링\n"
     ]
    },
    {
     "name": "stdout",
     "output_type": "stream",
     "text": [
      "Layer :  6   클러스터 갯수 정해짐!  갯수 :  2 0\n"
     ]
    },
    {
     "name": "stderr",
     "output_type": "stream",
     "text": [
      "<ipython-input-10-506962b8e734>:141: VisibleDeprecationWarning: Creating an ndarray from ragged nested sequences (which is a list-or-tuple of lists-or-tuples-or ndarrays with different lengths or shapes) is deprecated. If you meant to do this, you must specify 'dtype=object' when creating the ndarray\n",
      "  globals()['G{}_c{}_w_layer{}'.format(global_epoch, num_c_w, layer_index)] = globals()['G{}_c{}_w_layer{}'.format(global_epoch, num_c_w, layer_index)] + np.array(globals()['L{}_layer{}_w_c'.format(i,layer_index)])   # 일반 클러스터링\n"
     ]
    },
    {
     "name": "stdout",
     "output_type": "stream",
     "text": [
      "Layer :  7   클러스터 갯수 정해짐!  갯수 :  2 0\n",
      "\n",
      "\n",
      "====================================================== One Global Epoch =====================================================================\n",
      "\n",
      "\n",
      "20  번째 global_epoch 데이터 랜덤하게 준비!!\n"
     ]
    },
    {
     "name": "stderr",
     "output_type": "stream",
     "text": [
      "<ipython-input-10-506962b8e734>:141: VisibleDeprecationWarning: Creating an ndarray from ragged nested sequences (which is a list-or-tuple of lists-or-tuples-or ndarrays with different lengths or shapes) is deprecated. If you meant to do this, you must specify 'dtype=object' when creating the ndarray\n",
      "  globals()['G{}_c{}_w_layer{}'.format(global_epoch, num_c_w, layer_index)] = globals()['G{}_c{}_w_layer{}'.format(global_epoch, num_c_w, layer_index)] + np.array(globals()['L{}_layer{}_w_c'.format(i,layer_index)])   # 일반 클러스터링\n"
     ]
    },
    {
     "name": "stdout",
     "output_type": "stream",
     "text": [
      "20  번째 global_epoch 데이터 랜덤 준비완료!!\n",
      "\n",
      "\n",
      "20  번째 global epoch에서 로컬 클라이언트 들 학습시작!\n",
      "\n",
      "학습 중 ...\n",
      "\n",
      "16/16 - 0s - loss: 0.4879 - accuracy: 0.8920\n",
      "16/16 - 0s - loss: 0.5926 - accuracy: 0.8740\n",
      "16/16 - 0s - loss: 0.5766 - accuracy: 0.8840\n",
      "16/16 - 0s - loss: 0.5378 - accuracy: 0.8800\n",
      "16/16 - 0s - loss: 0.6743 - accuracy: 0.8820\n",
      "16/16 - 0s - loss: 0.6598 - accuracy: 0.8680\n",
      "16/16 - 0s - loss: 0.5255 - accuracy: 0.8740\n",
      "16/16 - 0s - loss: 0.6756 - accuracy: 0.8760\n",
      "16/16 - 0s - loss: 0.6058 - accuracy: 0.8920\n",
      "16/16 - 0s - loss: 0.4339 - accuracy: 0.8880\n",
      "16/16 - 0s - loss: 0.5812 - accuracy: 0.8820\n",
      "16/16 - 0s - loss: 0.4981 - accuracy: 0.9160\n",
      "16/16 - 0s - loss: 0.8175 - accuracy: 0.8620\n",
      "16/16 - 0s - loss: 0.5148 - accuracy: 0.8940\n",
      "16/16 - 0s - loss: 0.6308 - accuracy: 0.8740\n",
      "16/16 - 0s - loss: 0.5496 - accuracy: 0.8800\n",
      "16/16 - 0s - loss: 0.6677 - accuracy: 0.8780\n",
      "16/16 - 0s - loss: 0.8156 - accuracy: 0.8800\n",
      "16/16 - 0s - loss: 0.5387 - accuracy: 0.8640\n",
      "16/16 - 0s - loss: 0.7993 - accuracy: 0.8560\n",
      "------------    20  번째 global epoch < Clustering > 로컬 클라이언트 학습 완료!,  Total Training time :  441.292062997818 ---------------------------\n",
      "\n",
      "\n",
      "Layer :  0   클러스터 갯수 정해짐!  갯수 :  7 5\n"
     ]
    },
    {
     "name": "stderr",
     "output_type": "stream",
     "text": [
      "<ipython-input-10-506962b8e734>:141: VisibleDeprecationWarning: Creating an ndarray from ragged nested sequences (which is a list-or-tuple of lists-or-tuples-or ndarrays with different lengths or shapes) is deprecated. If you meant to do this, you must specify 'dtype=object' when creating the ndarray\n",
      "  globals()['G{}_c{}_w_layer{}'.format(global_epoch, num_c_w, layer_index)] = globals()['G{}_c{}_w_layer{}'.format(global_epoch, num_c_w, layer_index)] + np.array(globals()['L{}_layer{}_w_c'.format(i,layer_index)])   # 일반 클러스터링\n"
     ]
    },
    {
     "name": "stdout",
     "output_type": "stream",
     "text": [
      "Layer :  2   클러스터 갯수 정해짐!  갯수 :  2 0\n"
     ]
    },
    {
     "name": "stderr",
     "output_type": "stream",
     "text": [
      "<ipython-input-10-506962b8e734>:141: VisibleDeprecationWarning: Creating an ndarray from ragged nested sequences (which is a list-or-tuple of lists-or-tuples-or ndarrays with different lengths or shapes) is deprecated. If you meant to do this, you must specify 'dtype=object' when creating the ndarray\n",
      "  globals()['G{}_c{}_w_layer{}'.format(global_epoch, num_c_w, layer_index)] = globals()['G{}_c{}_w_layer{}'.format(global_epoch, num_c_w, layer_index)] + np.array(globals()['L{}_layer{}_w_c'.format(i,layer_index)])   # 일반 클러스터링\n"
     ]
    },
    {
     "name": "stdout",
     "output_type": "stream",
     "text": [
      "Layer :  4   클러스터 갯수 정해짐!  갯수 :  2 0\n"
     ]
    },
    {
     "name": "stderr",
     "output_type": "stream",
     "text": [
      "<ipython-input-10-506962b8e734>:141: VisibleDeprecationWarning: Creating an ndarray from ragged nested sequences (which is a list-or-tuple of lists-or-tuples-or ndarrays with different lengths or shapes) is deprecated. If you meant to do this, you must specify 'dtype=object' when creating the ndarray\n",
      "  globals()['G{}_c{}_w_layer{}'.format(global_epoch, num_c_w, layer_index)] = globals()['G{}_c{}_w_layer{}'.format(global_epoch, num_c_w, layer_index)] + np.array(globals()['L{}_layer{}_w_c'.format(i,layer_index)])   # 일반 클러스터링\n"
     ]
    },
    {
     "name": "stdout",
     "output_type": "stream",
     "text": [
      "Layer :  6   클러스터 갯수 정해짐!  갯수 :  2 0\n"
     ]
    },
    {
     "name": "stderr",
     "output_type": "stream",
     "text": [
      "<ipython-input-10-506962b8e734>:141: VisibleDeprecationWarning: Creating an ndarray from ragged nested sequences (which is a list-or-tuple of lists-or-tuples-or ndarrays with different lengths or shapes) is deprecated. If you meant to do this, you must specify 'dtype=object' when creating the ndarray\n",
      "  globals()['G{}_c{}_w_layer{}'.format(global_epoch, num_c_w, layer_index)] = globals()['G{}_c{}_w_layer{}'.format(global_epoch, num_c_w, layer_index)] + np.array(globals()['L{}_layer{}_w_c'.format(i,layer_index)])   # 일반 클러스터링\n"
     ]
    },
    {
     "name": "stdout",
     "output_type": "stream",
     "text": [
      "Layer :  7   클러스터 갯수 정해짐!  갯수 :  2 0\n",
      "\n",
      "\n",
      "====================================================== One Global Epoch =====================================================================\n",
      "\n",
      "\n",
      "21  번째 global_epoch 데이터 랜덤하게 준비!!\n"
     ]
    },
    {
     "name": "stderr",
     "output_type": "stream",
     "text": [
      "<ipython-input-10-506962b8e734>:141: VisibleDeprecationWarning: Creating an ndarray from ragged nested sequences (which is a list-or-tuple of lists-or-tuples-or ndarrays with different lengths or shapes) is deprecated. If you meant to do this, you must specify 'dtype=object' when creating the ndarray\n",
      "  globals()['G{}_c{}_w_layer{}'.format(global_epoch, num_c_w, layer_index)] = globals()['G{}_c{}_w_layer{}'.format(global_epoch, num_c_w, layer_index)] + np.array(globals()['L{}_layer{}_w_c'.format(i,layer_index)])   # 일반 클러스터링\n"
     ]
    },
    {
     "name": "stdout",
     "output_type": "stream",
     "text": [
      "21  번째 global_epoch 데이터 랜덤 준비완료!!\n",
      "\n",
      "\n",
      "21  번째 global epoch에서 로컬 클라이언트 들 학습시작!\n",
      "\n",
      "학습 중 ...\n",
      "\n",
      "16/16 - 0s - loss: 0.5033 - accuracy: 0.9000\n",
      "16/16 - 0s - loss: 0.5731 - accuracy: 0.8920\n",
      "16/16 - 0s - loss: 0.8991 - accuracy: 0.8580\n",
      "16/16 - 0s - loss: 0.5768 - accuracy: 0.8700\n",
      "16/16 - 0s - loss: 0.5749 - accuracy: 0.8800\n",
      "16/16 - 0s - loss: 0.5352 - accuracy: 0.8940\n",
      "16/16 - 0s - loss: 0.6589 - accuracy: 0.8700\n",
      "16/16 - 0s - loss: 0.4381 - accuracy: 0.8860\n",
      "16/16 - 0s - loss: 0.5931 - accuracy: 0.8800\n",
      "16/16 - 0s - loss: 0.7634 - accuracy: 0.8540\n",
      "16/16 - 0s - loss: 0.6256 - accuracy: 0.8680\n",
      "16/16 - 0s - loss: 0.5900 - accuracy: 0.8880\n",
      "16/16 - 0s - loss: 0.6101 - accuracy: 0.8740\n",
      "16/16 - 0s - loss: 0.7241 - accuracy: 0.8860\n",
      "16/16 - 0s - loss: 0.5901 - accuracy: 0.8840\n",
      "16/16 - 0s - loss: 0.8236 - accuracy: 0.8400\n",
      "16/16 - 0s - loss: 0.5484 - accuracy: 0.8800\n",
      "16/16 - 0s - loss: 0.6968 - accuracy: 0.8740\n",
      "16/16 - 0s - loss: 0.6936 - accuracy: 0.8600\n",
      "16/16 - 0s - loss: 0.7331 - accuracy: 0.8680\n",
      "------------    21  번째 global epoch < Clustering > 로컬 클라이언트 학습 완료!,  Total Training time :  477.3190903663635 ---------------------------\n",
      "\n",
      "\n",
      "Layer :  0   클러스터 갯수 정해짐!  갯수 :  7 5\n"
     ]
    },
    {
     "name": "stderr",
     "output_type": "stream",
     "text": [
      "<ipython-input-10-506962b8e734>:141: VisibleDeprecationWarning: Creating an ndarray from ragged nested sequences (which is a list-or-tuple of lists-or-tuples-or ndarrays with different lengths or shapes) is deprecated. If you meant to do this, you must specify 'dtype=object' when creating the ndarray\n",
      "  globals()['G{}_c{}_w_layer{}'.format(global_epoch, num_c_w, layer_index)] = globals()['G{}_c{}_w_layer{}'.format(global_epoch, num_c_w, layer_index)] + np.array(globals()['L{}_layer{}_w_c'.format(i,layer_index)])   # 일반 클러스터링\n"
     ]
    },
    {
     "name": "stdout",
     "output_type": "stream",
     "text": [
      "Layer :  2   클러스터 갯수 정해짐!  갯수 :  2 0\n"
     ]
    },
    {
     "name": "stderr",
     "output_type": "stream",
     "text": [
      "<ipython-input-10-506962b8e734>:141: VisibleDeprecationWarning: Creating an ndarray from ragged nested sequences (which is a list-or-tuple of lists-or-tuples-or ndarrays with different lengths or shapes) is deprecated. If you meant to do this, you must specify 'dtype=object' when creating the ndarray\n",
      "  globals()['G{}_c{}_w_layer{}'.format(global_epoch, num_c_w, layer_index)] = globals()['G{}_c{}_w_layer{}'.format(global_epoch, num_c_w, layer_index)] + np.array(globals()['L{}_layer{}_w_c'.format(i,layer_index)])   # 일반 클러스터링\n"
     ]
    },
    {
     "name": "stdout",
     "output_type": "stream",
     "text": [
      "Layer :  4   클러스터 갯수 정해짐!  갯수 :  2 0\n"
     ]
    },
    {
     "name": "stderr",
     "output_type": "stream",
     "text": [
      "<ipython-input-10-506962b8e734>:141: VisibleDeprecationWarning: Creating an ndarray from ragged nested sequences (which is a list-or-tuple of lists-or-tuples-or ndarrays with different lengths or shapes) is deprecated. If you meant to do this, you must specify 'dtype=object' when creating the ndarray\n",
      "  globals()['G{}_c{}_w_layer{}'.format(global_epoch, num_c_w, layer_index)] = globals()['G{}_c{}_w_layer{}'.format(global_epoch, num_c_w, layer_index)] + np.array(globals()['L{}_layer{}_w_c'.format(i,layer_index)])   # 일반 클러스터링\n"
     ]
    },
    {
     "name": "stdout",
     "output_type": "stream",
     "text": [
      "Layer :  6   클러스터 갯수 정해짐!  갯수 :  2 0\n"
     ]
    },
    {
     "name": "stderr",
     "output_type": "stream",
     "text": [
      "<ipython-input-10-506962b8e734>:141: VisibleDeprecationWarning: Creating an ndarray from ragged nested sequences (which is a list-or-tuple of lists-or-tuples-or ndarrays with different lengths or shapes) is deprecated. If you meant to do this, you must specify 'dtype=object' when creating the ndarray\n",
      "  globals()['G{}_c{}_w_layer{}'.format(global_epoch, num_c_w, layer_index)] = globals()['G{}_c{}_w_layer{}'.format(global_epoch, num_c_w, layer_index)] + np.array(globals()['L{}_layer{}_w_c'.format(i,layer_index)])   # 일반 클러스터링\n"
     ]
    },
    {
     "name": "stdout",
     "output_type": "stream",
     "text": [
      "Layer :  7   클러스터 갯수 정해짐!  갯수 :  2 0\n",
      "\n",
      "\n",
      "====================================================== One Global Epoch =====================================================================\n",
      "\n",
      "\n",
      "22  번째 global_epoch 데이터 랜덤하게 준비!!\n"
     ]
    },
    {
     "name": "stderr",
     "output_type": "stream",
     "text": [
      "<ipython-input-10-506962b8e734>:141: VisibleDeprecationWarning: Creating an ndarray from ragged nested sequences (which is a list-or-tuple of lists-or-tuples-or ndarrays with different lengths or shapes) is deprecated. If you meant to do this, you must specify 'dtype=object' when creating the ndarray\n",
      "  globals()['G{}_c{}_w_layer{}'.format(global_epoch, num_c_w, layer_index)] = globals()['G{}_c{}_w_layer{}'.format(global_epoch, num_c_w, layer_index)] + np.array(globals()['L{}_layer{}_w_c'.format(i,layer_index)])   # 일반 클러스터링\n"
     ]
    },
    {
     "name": "stdout",
     "output_type": "stream",
     "text": [
      "22  번째 global_epoch 데이터 랜덤 준비완료!!\n",
      "\n",
      "\n",
      "22  번째 global epoch에서 로컬 클라이언트 들 학습시작!\n",
      "\n",
      "학습 중 ...\n",
      "\n",
      "16/16 - 0s - loss: 0.7491 - accuracy: 0.8760\n",
      "16/16 - 0s - loss: 0.6746 - accuracy: 0.8620\n",
      "16/16 - 0s - loss: 0.6744 - accuracy: 0.8720\n",
      "16/16 - 0s - loss: 0.8170 - accuracy: 0.8660\n",
      "16/16 - 0s - loss: 0.7456 - accuracy: 0.8780\n",
      "16/16 - 0s - loss: 0.6249 - accuracy: 0.8780\n",
      "16/16 - 0s - loss: 0.6420 - accuracy: 0.8680\n",
      "16/16 - 0s - loss: 0.7614 - accuracy: 0.8620\n",
      "16/16 - 0s - loss: 0.5246 - accuracy: 0.8980\n",
      "16/16 - 0s - loss: 0.5858 - accuracy: 0.8760\n",
      "16/16 - 0s - loss: 0.6767 - accuracy: 0.8780\n",
      "16/16 - 0s - loss: 0.8859 - accuracy: 0.8440\n",
      "16/16 - 0s - loss: 0.8287 - accuracy: 0.8520\n",
      "16/16 - 0s - loss: 0.6787 - accuracy: 0.8740\n",
      "16/16 - 0s - loss: 0.6264 - accuracy: 0.8880\n",
      "16/16 - 0s - loss: 0.6291 - accuracy: 0.8660\n",
      "16/16 - 0s - loss: 0.6814 - accuracy: 0.8620\n",
      "16/16 - 0s - loss: 0.7696 - accuracy: 0.8600\n",
      "16/16 - 0s - loss: 0.9309 - accuracy: 0.8700\n",
      "16/16 - 0s - loss: 0.5755 - accuracy: 0.8760\n",
      "------------    22  번째 global epoch < Clustering > 로컬 클라이언트 학습 완료!,  Total Training time :  510.698739528656 ---------------------------\n",
      "\n",
      "\n",
      "Layer :  0   클러스터 갯수 정해짐!  갯수 :  7 5\n"
     ]
    },
    {
     "name": "stderr",
     "output_type": "stream",
     "text": [
      "<ipython-input-10-506962b8e734>:141: VisibleDeprecationWarning: Creating an ndarray from ragged nested sequences (which is a list-or-tuple of lists-or-tuples-or ndarrays with different lengths or shapes) is deprecated. If you meant to do this, you must specify 'dtype=object' when creating the ndarray\n",
      "  globals()['G{}_c{}_w_layer{}'.format(global_epoch, num_c_w, layer_index)] = globals()['G{}_c{}_w_layer{}'.format(global_epoch, num_c_w, layer_index)] + np.array(globals()['L{}_layer{}_w_c'.format(i,layer_index)])   # 일반 클러스터링\n"
     ]
    },
    {
     "name": "stdout",
     "output_type": "stream",
     "text": [
      "Layer :  2   클러스터 갯수 정해짐!  갯수 :  2 0\n"
     ]
    },
    {
     "name": "stderr",
     "output_type": "stream",
     "text": [
      "<ipython-input-10-506962b8e734>:141: VisibleDeprecationWarning: Creating an ndarray from ragged nested sequences (which is a list-or-tuple of lists-or-tuples-or ndarrays with different lengths or shapes) is deprecated. If you meant to do this, you must specify 'dtype=object' when creating the ndarray\n",
      "  globals()['G{}_c{}_w_layer{}'.format(global_epoch, num_c_w, layer_index)] = globals()['G{}_c{}_w_layer{}'.format(global_epoch, num_c_w, layer_index)] + np.array(globals()['L{}_layer{}_w_c'.format(i,layer_index)])   # 일반 클러스터링\n"
     ]
    },
    {
     "name": "stdout",
     "output_type": "stream",
     "text": [
      "Layer :  4   클러스터 갯수 정해짐!  갯수 :  2 0\n"
     ]
    },
    {
     "name": "stderr",
     "output_type": "stream",
     "text": [
      "<ipython-input-10-506962b8e734>:141: VisibleDeprecationWarning: Creating an ndarray from ragged nested sequences (which is a list-or-tuple of lists-or-tuples-or ndarrays with different lengths or shapes) is deprecated. If you meant to do this, you must specify 'dtype=object' when creating the ndarray\n",
      "  globals()['G{}_c{}_w_layer{}'.format(global_epoch, num_c_w, layer_index)] = globals()['G{}_c{}_w_layer{}'.format(global_epoch, num_c_w, layer_index)] + np.array(globals()['L{}_layer{}_w_c'.format(i,layer_index)])   # 일반 클러스터링\n"
     ]
    },
    {
     "name": "stdout",
     "output_type": "stream",
     "text": [
      "Layer :  6   클러스터 갯수 정해짐!  갯수 :  2 0\n"
     ]
    },
    {
     "name": "stderr",
     "output_type": "stream",
     "text": [
      "<ipython-input-10-506962b8e734>:141: VisibleDeprecationWarning: Creating an ndarray from ragged nested sequences (which is a list-or-tuple of lists-or-tuples-or ndarrays with different lengths or shapes) is deprecated. If you meant to do this, you must specify 'dtype=object' when creating the ndarray\n",
      "  globals()['G{}_c{}_w_layer{}'.format(global_epoch, num_c_w, layer_index)] = globals()['G{}_c{}_w_layer{}'.format(global_epoch, num_c_w, layer_index)] + np.array(globals()['L{}_layer{}_w_c'.format(i,layer_index)])   # 일반 클러스터링\n"
     ]
    },
    {
     "name": "stdout",
     "output_type": "stream",
     "text": [
      "Layer :  7   클러스터 갯수 정해짐!  갯수 :  2 0\n",
      "\n",
      "\n",
      "====================================================== One Global Epoch =====================================================================\n",
      "\n",
      "\n",
      "23  번째 global_epoch 데이터 랜덤하게 준비!!\n"
     ]
    },
    {
     "name": "stderr",
     "output_type": "stream",
     "text": [
      "<ipython-input-10-506962b8e734>:141: VisibleDeprecationWarning: Creating an ndarray from ragged nested sequences (which is a list-or-tuple of lists-or-tuples-or ndarrays with different lengths or shapes) is deprecated. If you meant to do this, you must specify 'dtype=object' when creating the ndarray\n",
      "  globals()['G{}_c{}_w_layer{}'.format(global_epoch, num_c_w, layer_index)] = globals()['G{}_c{}_w_layer{}'.format(global_epoch, num_c_w, layer_index)] + np.array(globals()['L{}_layer{}_w_c'.format(i,layer_index)])   # 일반 클러스터링\n"
     ]
    },
    {
     "name": "stdout",
     "output_type": "stream",
     "text": [
      "23  번째 global_epoch 데이터 랜덤 준비완료!!\n",
      "\n",
      "\n",
      "23  번째 global epoch에서 로컬 클라이언트 들 학습시작!\n",
      "\n",
      "학습 중 ...\n",
      "\n",
      "16/16 - 0s - loss: 0.5951 - accuracy: 0.8860\n",
      "16/16 - 0s - loss: 0.5924 - accuracy: 0.8880\n",
      "16/16 - 0s - loss: 0.5140 - accuracy: 0.8820\n",
      "16/16 - 0s - loss: 0.7182 - accuracy: 0.8720\n",
      "16/16 - 0s - loss: 0.7512 - accuracy: 0.8620\n",
      "16/16 - 0s - loss: 0.7456 - accuracy: 0.8640\n",
      "16/16 - 0s - loss: 0.6023 - accuracy: 0.8860\n",
      "16/16 - 0s - loss: 0.4843 - accuracy: 0.9080\n",
      "16/16 - 0s - loss: 0.5760 - accuracy: 0.8680\n",
      "16/16 - 0s - loss: 0.5531 - accuracy: 0.8860\n",
      "16/16 - 0s - loss: 0.5287 - accuracy: 0.8940\n",
      "16/16 - 0s - loss: 0.6348 - accuracy: 0.8760\n",
      "16/16 - 0s - loss: 0.7267 - accuracy: 0.8500\n",
      "16/16 - 0s - loss: 0.6257 - accuracy: 0.8780\n",
      "16/16 - 0s - loss: 0.6969 - accuracy: 0.8820\n",
      "16/16 - 0s - loss: 0.6741 - accuracy: 0.8800\n",
      "16/16 - 0s - loss: 0.9886 - accuracy: 0.8360\n",
      "16/16 - 0s - loss: 0.5404 - accuracy: 0.8840\n",
      "16/16 - 0s - loss: 0.7015 - accuracy: 0.8740\n",
      "16/16 - 0s - loss: 0.5238 - accuracy: 0.8800\n",
      "------------    23  번째 global epoch < Clustering > 로컬 클라이언트 학습 완료!,  Total Training time :  544.2210726737976 ---------------------------\n",
      "\n",
      "\n",
      "Layer :  0   클러스터 갯수 정해짐!  갯수 :  7 5\n"
     ]
    },
    {
     "name": "stderr",
     "output_type": "stream",
     "text": [
      "<ipython-input-10-506962b8e734>:141: VisibleDeprecationWarning: Creating an ndarray from ragged nested sequences (which is a list-or-tuple of lists-or-tuples-or ndarrays with different lengths or shapes) is deprecated. If you meant to do this, you must specify 'dtype=object' when creating the ndarray\n",
      "  globals()['G{}_c{}_w_layer{}'.format(global_epoch, num_c_w, layer_index)] = globals()['G{}_c{}_w_layer{}'.format(global_epoch, num_c_w, layer_index)] + np.array(globals()['L{}_layer{}_w_c'.format(i,layer_index)])   # 일반 클러스터링\n"
     ]
    },
    {
     "name": "stdout",
     "output_type": "stream",
     "text": [
      "Layer :  2   클러스터 갯수 정해짐!  갯수 :  2 0\n"
     ]
    },
    {
     "name": "stderr",
     "output_type": "stream",
     "text": [
      "<ipython-input-10-506962b8e734>:141: VisibleDeprecationWarning: Creating an ndarray from ragged nested sequences (which is a list-or-tuple of lists-or-tuples-or ndarrays with different lengths or shapes) is deprecated. If you meant to do this, you must specify 'dtype=object' when creating the ndarray\n",
      "  globals()['G{}_c{}_w_layer{}'.format(global_epoch, num_c_w, layer_index)] = globals()['G{}_c{}_w_layer{}'.format(global_epoch, num_c_w, layer_index)] + np.array(globals()['L{}_layer{}_w_c'.format(i,layer_index)])   # 일반 클러스터링\n"
     ]
    },
    {
     "name": "stdout",
     "output_type": "stream",
     "text": [
      "Layer :  4   클러스터 갯수 정해짐!  갯수 :  2 0\n"
     ]
    },
    {
     "name": "stderr",
     "output_type": "stream",
     "text": [
      "<ipython-input-10-506962b8e734>:141: VisibleDeprecationWarning: Creating an ndarray from ragged nested sequences (which is a list-or-tuple of lists-or-tuples-or ndarrays with different lengths or shapes) is deprecated. If you meant to do this, you must specify 'dtype=object' when creating the ndarray\n",
      "  globals()['G{}_c{}_w_layer{}'.format(global_epoch, num_c_w, layer_index)] = globals()['G{}_c{}_w_layer{}'.format(global_epoch, num_c_w, layer_index)] + np.array(globals()['L{}_layer{}_w_c'.format(i,layer_index)])   # 일반 클러스터링\n"
     ]
    },
    {
     "name": "stdout",
     "output_type": "stream",
     "text": [
      "Layer :  6   클러스터 갯수 정해짐!  갯수 :  2 0\n"
     ]
    },
    {
     "name": "stderr",
     "output_type": "stream",
     "text": [
      "<ipython-input-10-506962b8e734>:141: VisibleDeprecationWarning: Creating an ndarray from ragged nested sequences (which is a list-or-tuple of lists-or-tuples-or ndarrays with different lengths or shapes) is deprecated. If you meant to do this, you must specify 'dtype=object' when creating the ndarray\n",
      "  globals()['G{}_c{}_w_layer{}'.format(global_epoch, num_c_w, layer_index)] = globals()['G{}_c{}_w_layer{}'.format(global_epoch, num_c_w, layer_index)] + np.array(globals()['L{}_layer{}_w_c'.format(i,layer_index)])   # 일반 클러스터링\n"
     ]
    },
    {
     "name": "stdout",
     "output_type": "stream",
     "text": [
      "Layer :  7   클러스터 갯수 정해짐!  갯수 :  2 0\n",
      "\n",
      "\n",
      "====================================================== One Global Epoch =====================================================================\n",
      "\n",
      "\n",
      "24  번째 global_epoch 데이터 랜덤하게 준비!!\n"
     ]
    },
    {
     "name": "stderr",
     "output_type": "stream",
     "text": [
      "<ipython-input-10-506962b8e734>:141: VisibleDeprecationWarning: Creating an ndarray from ragged nested sequences (which is a list-or-tuple of lists-or-tuples-or ndarrays with different lengths or shapes) is deprecated. If you meant to do this, you must specify 'dtype=object' when creating the ndarray\n",
      "  globals()['G{}_c{}_w_layer{}'.format(global_epoch, num_c_w, layer_index)] = globals()['G{}_c{}_w_layer{}'.format(global_epoch, num_c_w, layer_index)] + np.array(globals()['L{}_layer{}_w_c'.format(i,layer_index)])   # 일반 클러스터링\n"
     ]
    },
    {
     "name": "stdout",
     "output_type": "stream",
     "text": [
      "24  번째 global_epoch 데이터 랜덤 준비완료!!\n",
      "\n",
      "\n",
      "24  번째 global epoch에서 로컬 클라이언트 들 학습시작!\n",
      "\n",
      "학습 중 ...\n",
      "\n",
      "16/16 - 0s - loss: 0.3397 - accuracy: 0.9140\n",
      "16/16 - 0s - loss: 0.8736 - accuracy: 0.8560\n",
      "16/16 - 0s - loss: 0.7680 - accuracy: 0.8360\n",
      "16/16 - 0s - loss: 0.5425 - accuracy: 0.8860\n",
      "16/16 - 0s - loss: 0.5471 - accuracy: 0.8740\n",
      "16/16 - 0s - loss: 0.7225 - accuracy: 0.8780\n",
      "16/16 - 0s - loss: 0.8487 - accuracy: 0.8580\n",
      "16/16 - 0s - loss: 0.6209 - accuracy: 0.9020\n",
      "16/16 - 0s - loss: 0.5853 - accuracy: 0.8860\n",
      "16/16 - 0s - loss: 0.5209 - accuracy: 0.8820\n",
      "16/16 - 0s - loss: 0.5447 - accuracy: 0.8980\n",
      "16/16 - 0s - loss: 0.6521 - accuracy: 0.8640\n",
      "16/16 - 0s - loss: 0.5687 - accuracy: 0.8920\n",
      "16/16 - 0s - loss: 0.6082 - accuracy: 0.8940\n",
      "16/16 - 0s - loss: 0.7582 - accuracy: 0.8680\n",
      "16/16 - 0s - loss: 0.6732 - accuracy: 0.8920\n",
      "16/16 - 0s - loss: 0.7634 - accuracy: 0.8680\n",
      "16/16 - 0s - loss: 0.7135 - accuracy: 0.8780\n",
      "16/16 - 0s - loss: 0.5737 - accuracy: 0.8860\n",
      "16/16 - 0s - loss: 0.8324 - accuracy: 0.8800\n",
      "------------    24  번째 global epoch < Clustering > 로컬 클라이언트 학습 완료!,  Total Training time :  570.9453723430634 ---------------------------\n",
      "\n",
      "\n",
      "Layer :  0   클러스터 갯수 정해짐!  갯수 :  7 5\n"
     ]
    },
    {
     "name": "stderr",
     "output_type": "stream",
     "text": [
      "<ipython-input-10-506962b8e734>:141: VisibleDeprecationWarning: Creating an ndarray from ragged nested sequences (which is a list-or-tuple of lists-or-tuples-or ndarrays with different lengths or shapes) is deprecated. If you meant to do this, you must specify 'dtype=object' when creating the ndarray\n",
      "  globals()['G{}_c{}_w_layer{}'.format(global_epoch, num_c_w, layer_index)] = globals()['G{}_c{}_w_layer{}'.format(global_epoch, num_c_w, layer_index)] + np.array(globals()['L{}_layer{}_w_c'.format(i,layer_index)])   # 일반 클러스터링\n"
     ]
    },
    {
     "name": "stdout",
     "output_type": "stream",
     "text": [
      "Layer :  2   클러스터 갯수 정해짐!  갯수 :  2 0\n"
     ]
    },
    {
     "name": "stderr",
     "output_type": "stream",
     "text": [
      "<ipython-input-10-506962b8e734>:141: VisibleDeprecationWarning: Creating an ndarray from ragged nested sequences (which is a list-or-tuple of lists-or-tuples-or ndarrays with different lengths or shapes) is deprecated. If you meant to do this, you must specify 'dtype=object' when creating the ndarray\n",
      "  globals()['G{}_c{}_w_layer{}'.format(global_epoch, num_c_w, layer_index)] = globals()['G{}_c{}_w_layer{}'.format(global_epoch, num_c_w, layer_index)] + np.array(globals()['L{}_layer{}_w_c'.format(i,layer_index)])   # 일반 클러스터링\n"
     ]
    },
    {
     "name": "stdout",
     "output_type": "stream",
     "text": [
      "Layer :  4   클러스터 갯수 정해짐!  갯수 :  2 0\n"
     ]
    },
    {
     "name": "stderr",
     "output_type": "stream",
     "text": [
      "<ipython-input-10-506962b8e734>:141: VisibleDeprecationWarning: Creating an ndarray from ragged nested sequences (which is a list-or-tuple of lists-or-tuples-or ndarrays with different lengths or shapes) is deprecated. If you meant to do this, you must specify 'dtype=object' when creating the ndarray\n",
      "  globals()['G{}_c{}_w_layer{}'.format(global_epoch, num_c_w, layer_index)] = globals()['G{}_c{}_w_layer{}'.format(global_epoch, num_c_w, layer_index)] + np.array(globals()['L{}_layer{}_w_c'.format(i,layer_index)])   # 일반 클러스터링\n"
     ]
    },
    {
     "name": "stdout",
     "output_type": "stream",
     "text": [
      "Layer :  6   클러스터 갯수 정해짐!  갯수 :  2 0\n"
     ]
    },
    {
     "name": "stderr",
     "output_type": "stream",
     "text": [
      "<ipython-input-10-506962b8e734>:141: VisibleDeprecationWarning: Creating an ndarray from ragged nested sequences (which is a list-or-tuple of lists-or-tuples-or ndarrays with different lengths or shapes) is deprecated. If you meant to do this, you must specify 'dtype=object' when creating the ndarray\n",
      "  globals()['G{}_c{}_w_layer{}'.format(global_epoch, num_c_w, layer_index)] = globals()['G{}_c{}_w_layer{}'.format(global_epoch, num_c_w, layer_index)] + np.array(globals()['L{}_layer{}_w_c'.format(i,layer_index)])   # 일반 클러스터링\n"
     ]
    },
    {
     "name": "stdout",
     "output_type": "stream",
     "text": [
      "Layer :  7   클러스터 갯수 정해짐!  갯수 :  2 0\n",
      "\n",
      "\n",
      "====================================================== One Global Epoch =====================================================================\n",
      "\n",
      "\n",
      "25  번째 global_epoch 데이터 랜덤하게 준비!!\n"
     ]
    },
    {
     "name": "stderr",
     "output_type": "stream",
     "text": [
      "<ipython-input-10-506962b8e734>:141: VisibleDeprecationWarning: Creating an ndarray from ragged nested sequences (which is a list-or-tuple of lists-or-tuples-or ndarrays with different lengths or shapes) is deprecated. If you meant to do this, you must specify 'dtype=object' when creating the ndarray\n",
      "  globals()['G{}_c{}_w_layer{}'.format(global_epoch, num_c_w, layer_index)] = globals()['G{}_c{}_w_layer{}'.format(global_epoch, num_c_w, layer_index)] + np.array(globals()['L{}_layer{}_w_c'.format(i,layer_index)])   # 일반 클러스터링\n"
     ]
    },
    {
     "name": "stdout",
     "output_type": "stream",
     "text": [
      "25  번째 global_epoch 데이터 랜덤 준비완료!!\n",
      "\n",
      "\n",
      "25  번째 global epoch에서 로컬 클라이언트 들 학습시작!\n",
      "\n",
      "학습 중 ...\n",
      "\n",
      "16/16 - 0s - loss: 0.5049 - accuracy: 0.9080\n",
      "16/16 - 0s - loss: 0.7011 - accuracy: 0.8580\n",
      "16/16 - 0s - loss: 0.8329 - accuracy: 0.8700\n",
      "16/16 - 0s - loss: 0.6707 - accuracy: 0.8680\n",
      "16/16 - 0s - loss: 0.6887 - accuracy: 0.8820\n",
      "16/16 - 0s - loss: 0.6792 - accuracy: 0.8840\n",
      "16/16 - 0s - loss: 0.7181 - accuracy: 0.8600\n",
      "16/16 - 0s - loss: 0.6999 - accuracy: 0.8800\n",
      "16/16 - 0s - loss: 0.5136 - accuracy: 0.8980\n",
      "16/16 - 0s - loss: 0.6091 - accuracy: 0.8760\n",
      "16/16 - 0s - loss: 0.5910 - accuracy: 0.8980\n",
      "16/16 - 0s - loss: 0.5002 - accuracy: 0.8820\n",
      "16/16 - 0s - loss: 0.6435 - accuracy: 0.8660\n",
      "16/16 - 0s - loss: 0.6641 - accuracy: 0.8880\n",
      "16/16 - 0s - loss: 0.6448 - accuracy: 0.8740\n",
      "16/16 - 0s - loss: 0.6456 - accuracy: 0.8620\n",
      "16/16 - 0s - loss: 0.5633 - accuracy: 0.8900\n",
      "16/16 - 0s - loss: 0.4855 - accuracy: 0.9120\n",
      "16/16 - 0s - loss: 0.6701 - accuracy: 0.8640\n",
      "16/16 - 0s - loss: 0.7893 - accuracy: 0.8900\n",
      "------------    25  번째 global epoch < Clustering > 로컬 클라이언트 학습 완료!,  Total Training time :  601.0590658187866 ---------------------------\n",
      "\n",
      "\n",
      "Layer :  0   클러스터 갯수 정해짐!  갯수 :  7 5\n"
     ]
    },
    {
     "name": "stderr",
     "output_type": "stream",
     "text": [
      "<ipython-input-10-506962b8e734>:141: VisibleDeprecationWarning: Creating an ndarray from ragged nested sequences (which is a list-or-tuple of lists-or-tuples-or ndarrays with different lengths or shapes) is deprecated. If you meant to do this, you must specify 'dtype=object' when creating the ndarray\n",
      "  globals()['G{}_c{}_w_layer{}'.format(global_epoch, num_c_w, layer_index)] = globals()['G{}_c{}_w_layer{}'.format(global_epoch, num_c_w, layer_index)] + np.array(globals()['L{}_layer{}_w_c'.format(i,layer_index)])   # 일반 클러스터링\n"
     ]
    },
    {
     "name": "stdout",
     "output_type": "stream",
     "text": [
      "Layer :  2   클러스터 갯수 정해짐!  갯수 :  2 0\n"
     ]
    },
    {
     "name": "stderr",
     "output_type": "stream",
     "text": [
      "<ipython-input-10-506962b8e734>:141: VisibleDeprecationWarning: Creating an ndarray from ragged nested sequences (which is a list-or-tuple of lists-or-tuples-or ndarrays with different lengths or shapes) is deprecated. If you meant to do this, you must specify 'dtype=object' when creating the ndarray\n",
      "  globals()['G{}_c{}_w_layer{}'.format(global_epoch, num_c_w, layer_index)] = globals()['G{}_c{}_w_layer{}'.format(global_epoch, num_c_w, layer_index)] + np.array(globals()['L{}_layer{}_w_c'.format(i,layer_index)])   # 일반 클러스터링\n"
     ]
    },
    {
     "name": "stdout",
     "output_type": "stream",
     "text": [
      "Layer :  4   클러스터 갯수 정해짐!  갯수 :  2 0\n"
     ]
    },
    {
     "name": "stderr",
     "output_type": "stream",
     "text": [
      "<ipython-input-10-506962b8e734>:141: VisibleDeprecationWarning: Creating an ndarray from ragged nested sequences (which is a list-or-tuple of lists-or-tuples-or ndarrays with different lengths or shapes) is deprecated. If you meant to do this, you must specify 'dtype=object' when creating the ndarray\n",
      "  globals()['G{}_c{}_w_layer{}'.format(global_epoch, num_c_w, layer_index)] = globals()['G{}_c{}_w_layer{}'.format(global_epoch, num_c_w, layer_index)] + np.array(globals()['L{}_layer{}_w_c'.format(i,layer_index)])   # 일반 클러스터링\n"
     ]
    },
    {
     "name": "stdout",
     "output_type": "stream",
     "text": [
      "Layer :  6   클러스터 갯수 정해짐!  갯수 :  2 0\n"
     ]
    },
    {
     "name": "stderr",
     "output_type": "stream",
     "text": [
      "<ipython-input-10-506962b8e734>:141: VisibleDeprecationWarning: Creating an ndarray from ragged nested sequences (which is a list-or-tuple of lists-or-tuples-or ndarrays with different lengths or shapes) is deprecated. If you meant to do this, you must specify 'dtype=object' when creating the ndarray\n",
      "  globals()['G{}_c{}_w_layer{}'.format(global_epoch, num_c_w, layer_index)] = globals()['G{}_c{}_w_layer{}'.format(global_epoch, num_c_w, layer_index)] + np.array(globals()['L{}_layer{}_w_c'.format(i,layer_index)])   # 일반 클러스터링\n"
     ]
    },
    {
     "name": "stdout",
     "output_type": "stream",
     "text": [
      "Layer :  7   클러스터 갯수 정해짐!  갯수 :  2 0\n",
      "\n",
      "\n",
      "====================================================== One Global Epoch =====================================================================\n",
      "\n",
      "\n",
      "26  번째 global_epoch 데이터 랜덤하게 준비!!\n"
     ]
    },
    {
     "name": "stderr",
     "output_type": "stream",
     "text": [
      "<ipython-input-10-506962b8e734>:141: VisibleDeprecationWarning: Creating an ndarray from ragged nested sequences (which is a list-or-tuple of lists-or-tuples-or ndarrays with different lengths or shapes) is deprecated. If you meant to do this, you must specify 'dtype=object' when creating the ndarray\n",
      "  globals()['G{}_c{}_w_layer{}'.format(global_epoch, num_c_w, layer_index)] = globals()['G{}_c{}_w_layer{}'.format(global_epoch, num_c_w, layer_index)] + np.array(globals()['L{}_layer{}_w_c'.format(i,layer_index)])   # 일반 클러스터링\n"
     ]
    },
    {
     "name": "stdout",
     "output_type": "stream",
     "text": [
      "26  번째 global_epoch 데이터 랜덤 준비완료!!\n",
      "\n",
      "\n",
      "26  번째 global epoch에서 로컬 클라이언트 들 학습시작!\n",
      "\n",
      "학습 중 ...\n",
      "\n",
      "16/16 - 0s - loss: 0.6189 - accuracy: 0.8600\n",
      "16/16 - 0s - loss: 0.6171 - accuracy: 0.8760\n",
      "16/16 - 0s - loss: 0.6767 - accuracy: 0.8860\n",
      "16/16 - 0s - loss: 0.7675 - accuracy: 0.8720\n",
      "16/16 - 0s - loss: 0.6495 - accuracy: 0.8940\n",
      "16/16 - 0s - loss: 0.7723 - accuracy: 0.8880\n",
      "16/16 - 0s - loss: 0.4680 - accuracy: 0.8960\n",
      "16/16 - 0s - loss: 0.6197 - accuracy: 0.8940\n",
      "16/16 - 0s - loss: 0.6324 - accuracy: 0.8820\n",
      "16/16 - 0s - loss: 0.6542 - accuracy: 0.8740\n",
      "16/16 - 0s - loss: 0.7003 - accuracy: 0.8640\n",
      "16/16 - 0s - loss: 0.5384 - accuracy: 0.8860\n",
      "16/16 - 0s - loss: 0.5960 - accuracy: 0.8880\n",
      "16/16 - 0s - loss: 0.6464 - accuracy: 0.8660\n",
      "16/16 - 0s - loss: 0.7606 - accuracy: 0.8600\n",
      "16/16 - 0s - loss: 0.8033 - accuracy: 0.8760\n",
      "16/16 - 0s - loss: 0.6766 - accuracy: 0.8680\n",
      "16/16 - 0s - loss: 0.7757 - accuracy: 0.8980\n",
      "16/16 - 0s - loss: 0.5496 - accuracy: 0.9060\n",
      "16/16 - 0s - loss: 0.6802 - accuracy: 0.8680\n",
      "------------    26  번째 global epoch < Clustering > 로컬 클라이언트 학습 완료!,  Total Training time :  617.0259659290314 ---------------------------\n",
      "\n",
      "\n",
      "Layer :  0   클러스터 갯수 정해짐!  갯수 :  7 5\n"
     ]
    },
    {
     "name": "stderr",
     "output_type": "stream",
     "text": [
      "<ipython-input-10-506962b8e734>:141: VisibleDeprecationWarning: Creating an ndarray from ragged nested sequences (which is a list-or-tuple of lists-or-tuples-or ndarrays with different lengths or shapes) is deprecated. If you meant to do this, you must specify 'dtype=object' when creating the ndarray\n",
      "  globals()['G{}_c{}_w_layer{}'.format(global_epoch, num_c_w, layer_index)] = globals()['G{}_c{}_w_layer{}'.format(global_epoch, num_c_w, layer_index)] + np.array(globals()['L{}_layer{}_w_c'.format(i,layer_index)])   # 일반 클러스터링\n"
     ]
    },
    {
     "name": "stdout",
     "output_type": "stream",
     "text": [
      "Layer :  2   클러스터 갯수 정해짐!  갯수 :  2 0\n"
     ]
    },
    {
     "name": "stderr",
     "output_type": "stream",
     "text": [
      "<ipython-input-10-506962b8e734>:141: VisibleDeprecationWarning: Creating an ndarray from ragged nested sequences (which is a list-or-tuple of lists-or-tuples-or ndarrays with different lengths or shapes) is deprecated. If you meant to do this, you must specify 'dtype=object' when creating the ndarray\n",
      "  globals()['G{}_c{}_w_layer{}'.format(global_epoch, num_c_w, layer_index)] = globals()['G{}_c{}_w_layer{}'.format(global_epoch, num_c_w, layer_index)] + np.array(globals()['L{}_layer{}_w_c'.format(i,layer_index)])   # 일반 클러스터링\n"
     ]
    },
    {
     "name": "stdout",
     "output_type": "stream",
     "text": [
      "Layer :  4   클러스터 갯수 정해짐!  갯수 :  2 0\n"
     ]
    },
    {
     "name": "stderr",
     "output_type": "stream",
     "text": [
      "<ipython-input-10-506962b8e734>:141: VisibleDeprecationWarning: Creating an ndarray from ragged nested sequences (which is a list-or-tuple of lists-or-tuples-or ndarrays with different lengths or shapes) is deprecated. If you meant to do this, you must specify 'dtype=object' when creating the ndarray\n",
      "  globals()['G{}_c{}_w_layer{}'.format(global_epoch, num_c_w, layer_index)] = globals()['G{}_c{}_w_layer{}'.format(global_epoch, num_c_w, layer_index)] + np.array(globals()['L{}_layer{}_w_c'.format(i,layer_index)])   # 일반 클러스터링\n"
     ]
    },
    {
     "name": "stdout",
     "output_type": "stream",
     "text": [
      "Layer :  6   클러스터 갯수 정해짐!  갯수 :  2 0\n"
     ]
    },
    {
     "name": "stderr",
     "output_type": "stream",
     "text": [
      "<ipython-input-10-506962b8e734>:141: VisibleDeprecationWarning: Creating an ndarray from ragged nested sequences (which is a list-or-tuple of lists-or-tuples-or ndarrays with different lengths or shapes) is deprecated. If you meant to do this, you must specify 'dtype=object' when creating the ndarray\n",
      "  globals()['G{}_c{}_w_layer{}'.format(global_epoch, num_c_w, layer_index)] = globals()['G{}_c{}_w_layer{}'.format(global_epoch, num_c_w, layer_index)] + np.array(globals()['L{}_layer{}_w_c'.format(i,layer_index)])   # 일반 클러스터링\n"
     ]
    },
    {
     "name": "stdout",
     "output_type": "stream",
     "text": [
      "Layer :  7   클러스터 갯수 정해짐!  갯수 :  2 0\n",
      "\n",
      "\n",
      "====================================================== One Global Epoch =====================================================================\n",
      "\n",
      "\n",
      "27  번째 global_epoch 데이터 랜덤하게 준비!!\n"
     ]
    },
    {
     "name": "stderr",
     "output_type": "stream",
     "text": [
      "<ipython-input-10-506962b8e734>:141: VisibleDeprecationWarning: Creating an ndarray from ragged nested sequences (which is a list-or-tuple of lists-or-tuples-or ndarrays with different lengths or shapes) is deprecated. If you meant to do this, you must specify 'dtype=object' when creating the ndarray\n",
      "  globals()['G{}_c{}_w_layer{}'.format(global_epoch, num_c_w, layer_index)] = globals()['G{}_c{}_w_layer{}'.format(global_epoch, num_c_w, layer_index)] + np.array(globals()['L{}_layer{}_w_c'.format(i,layer_index)])   # 일반 클러스터링\n"
     ]
    },
    {
     "name": "stdout",
     "output_type": "stream",
     "text": [
      "27  번째 global_epoch 데이터 랜덤 준비완료!!\n",
      "\n",
      "\n",
      "27  번째 global epoch에서 로컬 클라이언트 들 학습시작!\n",
      "\n",
      "학습 중 ...\n",
      "\n",
      "16/16 - 0s - loss: 0.8581 - accuracy: 0.8780\n",
      "16/16 - 0s - loss: 0.6392 - accuracy: 0.8820\n",
      "16/16 - 0s - loss: 0.5819 - accuracy: 0.8800\n",
      "16/16 - 0s - loss: 0.7175 - accuracy: 0.8880\n",
      "16/16 - 0s - loss: 0.7048 - accuracy: 0.8920\n",
      "16/16 - 0s - loss: 0.5782 - accuracy: 0.8840\n",
      "16/16 - 0s - loss: 0.5392 - accuracy: 0.8900\n",
      "16/16 - 0s - loss: 0.7693 - accuracy: 0.8760\n",
      "16/16 - 0s - loss: 0.5439 - accuracy: 0.8840\n",
      "16/16 - 0s - loss: 0.7471 - accuracy: 0.8680\n",
      "16/16 - 0s - loss: 0.8285 - accuracy: 0.8540\n",
      "16/16 - 0s - loss: 0.8369 - accuracy: 0.8840\n",
      "16/16 - 0s - loss: 0.6062 - accuracy: 0.8920\n",
      "16/16 - 0s - loss: 0.5408 - accuracy: 0.9220\n",
      "16/16 - 0s - loss: 0.7076 - accuracy: 0.8820\n",
      "16/16 - 0s - loss: 0.5726 - accuracy: 0.8880\n",
      "16/16 - 0s - loss: 0.8366 - accuracy: 0.8420\n",
      "16/16 - 0s - loss: 0.7796 - accuracy: 0.8840\n",
      "16/16 - 0s - loss: 0.7065 - accuracy: 0.8820\n",
      "16/16 - 0s - loss: 0.5737 - accuracy: 0.8900\n",
      "------------    27  번째 global epoch < Clustering > 로컬 클라이언트 학습 완료!,  Total Training time :  643.8902564048767 ---------------------------\n",
      "\n",
      "\n",
      "Layer :  0   클러스터 갯수 정해짐!  갯수 :  7 5\n"
     ]
    },
    {
     "name": "stderr",
     "output_type": "stream",
     "text": [
      "<ipython-input-10-506962b8e734>:141: VisibleDeprecationWarning: Creating an ndarray from ragged nested sequences (which is a list-or-tuple of lists-or-tuples-or ndarrays with different lengths or shapes) is deprecated. If you meant to do this, you must specify 'dtype=object' when creating the ndarray\n",
      "  globals()['G{}_c{}_w_layer{}'.format(global_epoch, num_c_w, layer_index)] = globals()['G{}_c{}_w_layer{}'.format(global_epoch, num_c_w, layer_index)] + np.array(globals()['L{}_layer{}_w_c'.format(i,layer_index)])   # 일반 클러스터링\n"
     ]
    },
    {
     "name": "stdout",
     "output_type": "stream",
     "text": [
      "Layer :  2   클러스터 갯수 정해짐!  갯수 :  2 0\n"
     ]
    },
    {
     "name": "stderr",
     "output_type": "stream",
     "text": [
      "<ipython-input-10-506962b8e734>:141: VisibleDeprecationWarning: Creating an ndarray from ragged nested sequences (which is a list-or-tuple of lists-or-tuples-or ndarrays with different lengths or shapes) is deprecated. If you meant to do this, you must specify 'dtype=object' when creating the ndarray\n",
      "  globals()['G{}_c{}_w_layer{}'.format(global_epoch, num_c_w, layer_index)] = globals()['G{}_c{}_w_layer{}'.format(global_epoch, num_c_w, layer_index)] + np.array(globals()['L{}_layer{}_w_c'.format(i,layer_index)])   # 일반 클러스터링\n"
     ]
    },
    {
     "name": "stdout",
     "output_type": "stream",
     "text": [
      "Layer :  4   클러스터 갯수 정해짐!  갯수 :  2 0\n"
     ]
    },
    {
     "name": "stderr",
     "output_type": "stream",
     "text": [
      "<ipython-input-10-506962b8e734>:141: VisibleDeprecationWarning: Creating an ndarray from ragged nested sequences (which is a list-or-tuple of lists-or-tuples-or ndarrays with different lengths or shapes) is deprecated. If you meant to do this, you must specify 'dtype=object' when creating the ndarray\n",
      "  globals()['G{}_c{}_w_layer{}'.format(global_epoch, num_c_w, layer_index)] = globals()['G{}_c{}_w_layer{}'.format(global_epoch, num_c_w, layer_index)] + np.array(globals()['L{}_layer{}_w_c'.format(i,layer_index)])   # 일반 클러스터링\n"
     ]
    },
    {
     "name": "stdout",
     "output_type": "stream",
     "text": [
      "Layer :  6   클러스터 갯수 정해짐!  갯수 :  2 0\n"
     ]
    },
    {
     "name": "stderr",
     "output_type": "stream",
     "text": [
      "<ipython-input-10-506962b8e734>:141: VisibleDeprecationWarning: Creating an ndarray from ragged nested sequences (which is a list-or-tuple of lists-or-tuples-or ndarrays with different lengths or shapes) is deprecated. If you meant to do this, you must specify 'dtype=object' when creating the ndarray\n",
      "  globals()['G{}_c{}_w_layer{}'.format(global_epoch, num_c_w, layer_index)] = globals()['G{}_c{}_w_layer{}'.format(global_epoch, num_c_w, layer_index)] + np.array(globals()['L{}_layer{}_w_c'.format(i,layer_index)])   # 일반 클러스터링\n"
     ]
    },
    {
     "name": "stdout",
     "output_type": "stream",
     "text": [
      "Layer :  7   클러스터 갯수 정해짐!  갯수 :  2 0\n",
      "\n",
      "\n",
      "====================================================== One Global Epoch =====================================================================\n",
      "\n",
      "\n",
      "28  번째 global_epoch 데이터 랜덤하게 준비!!\n"
     ]
    },
    {
     "name": "stderr",
     "output_type": "stream",
     "text": [
      "<ipython-input-10-506962b8e734>:141: VisibleDeprecationWarning: Creating an ndarray from ragged nested sequences (which is a list-or-tuple of lists-or-tuples-or ndarrays with different lengths or shapes) is deprecated. If you meant to do this, you must specify 'dtype=object' when creating the ndarray\n",
      "  globals()['G{}_c{}_w_layer{}'.format(global_epoch, num_c_w, layer_index)] = globals()['G{}_c{}_w_layer{}'.format(global_epoch, num_c_w, layer_index)] + np.array(globals()['L{}_layer{}_w_c'.format(i,layer_index)])   # 일반 클러스터링\n"
     ]
    },
    {
     "name": "stdout",
     "output_type": "stream",
     "text": [
      "28  번째 global_epoch 데이터 랜덤 준비완료!!\n",
      "\n",
      "\n",
      "28  번째 global epoch에서 로컬 클라이언트 들 학습시작!\n",
      "\n",
      "학습 중 ...\n",
      "\n",
      "16/16 - 0s - loss: 0.8961 - accuracy: 0.8760\n",
      "16/16 - 0s - loss: 0.6232 - accuracy: 0.8940\n",
      "16/16 - 0s - loss: 0.6686 - accuracy: 0.8920\n",
      "16/16 - 0s - loss: 0.5896 - accuracy: 0.8760\n",
      "16/16 - 0s - loss: 0.6208 - accuracy: 0.8880\n",
      "16/16 - 0s - loss: 0.7843 - accuracy: 0.8740\n",
      "16/16 - 0s - loss: 0.5829 - accuracy: 0.8880\n",
      "16/16 - 0s - loss: 0.8091 - accuracy: 0.8640\n",
      "16/16 - 0s - loss: 0.4621 - accuracy: 0.8940\n",
      "16/16 - 0s - loss: 0.6458 - accuracy: 0.8780\n",
      "16/16 - 0s - loss: 0.7396 - accuracy: 0.8740\n",
      "16/16 - 0s - loss: 0.4545 - accuracy: 0.9200\n",
      "16/16 - 0s - loss: 0.7090 - accuracy: 0.8840\n",
      "16/16 - 0s - loss: 0.6565 - accuracy: 0.8980\n",
      "16/16 - 0s - loss: 0.6188 - accuracy: 0.8900\n",
      "16/16 - 0s - loss: 0.7727 - accuracy: 0.8620\n",
      "16/16 - 0s - loss: 0.6472 - accuracy: 0.8720\n",
      "16/16 - 0s - loss: 0.6224 - accuracy: 0.8840\n",
      "16/16 - 0s - loss: 0.7633 - accuracy: 0.8940\n",
      "16/16 - 0s - loss: 0.4149 - accuracy: 0.8960\n",
      "------------    28  번째 global epoch < Clustering > 로컬 클라이언트 학습 완료!,  Total Training time :  668.1404800415039 ---------------------------\n",
      "\n",
      "\n",
      "Layer :  0   클러스터 갯수 정해짐!  갯수 :  7 5\n"
     ]
    },
    {
     "name": "stderr",
     "output_type": "stream",
     "text": [
      "<ipython-input-10-506962b8e734>:141: VisibleDeprecationWarning: Creating an ndarray from ragged nested sequences (which is a list-or-tuple of lists-or-tuples-or ndarrays with different lengths or shapes) is deprecated. If you meant to do this, you must specify 'dtype=object' when creating the ndarray\n",
      "  globals()['G{}_c{}_w_layer{}'.format(global_epoch, num_c_w, layer_index)] = globals()['G{}_c{}_w_layer{}'.format(global_epoch, num_c_w, layer_index)] + np.array(globals()['L{}_layer{}_w_c'.format(i,layer_index)])   # 일반 클러스터링\n"
     ]
    },
    {
     "name": "stdout",
     "output_type": "stream",
     "text": [
      "Layer :  2   클러스터 갯수 정해짐!  갯수 :  2 0\n"
     ]
    },
    {
     "name": "stderr",
     "output_type": "stream",
     "text": [
      "<ipython-input-10-506962b8e734>:141: VisibleDeprecationWarning: Creating an ndarray from ragged nested sequences (which is a list-or-tuple of lists-or-tuples-or ndarrays with different lengths or shapes) is deprecated. If you meant to do this, you must specify 'dtype=object' when creating the ndarray\n",
      "  globals()['G{}_c{}_w_layer{}'.format(global_epoch, num_c_w, layer_index)] = globals()['G{}_c{}_w_layer{}'.format(global_epoch, num_c_w, layer_index)] + np.array(globals()['L{}_layer{}_w_c'.format(i,layer_index)])   # 일반 클러스터링\n"
     ]
    },
    {
     "name": "stdout",
     "output_type": "stream",
     "text": [
      "Layer :  4   클러스터 갯수 정해짐!  갯수 :  2 0\n"
     ]
    },
    {
     "name": "stderr",
     "output_type": "stream",
     "text": [
      "<ipython-input-10-506962b8e734>:141: VisibleDeprecationWarning: Creating an ndarray from ragged nested sequences (which is a list-or-tuple of lists-or-tuples-or ndarrays with different lengths or shapes) is deprecated. If you meant to do this, you must specify 'dtype=object' when creating the ndarray\n",
      "  globals()['G{}_c{}_w_layer{}'.format(global_epoch, num_c_w, layer_index)] = globals()['G{}_c{}_w_layer{}'.format(global_epoch, num_c_w, layer_index)] + np.array(globals()['L{}_layer{}_w_c'.format(i,layer_index)])   # 일반 클러스터링\n"
     ]
    },
    {
     "name": "stdout",
     "output_type": "stream",
     "text": [
      "Layer :  6   클러스터 갯수 정해짐!  갯수 :  2 0\n"
     ]
    },
    {
     "name": "stderr",
     "output_type": "stream",
     "text": [
      "<ipython-input-10-506962b8e734>:141: VisibleDeprecationWarning: Creating an ndarray from ragged nested sequences (which is a list-or-tuple of lists-or-tuples-or ndarrays with different lengths or shapes) is deprecated. If you meant to do this, you must specify 'dtype=object' when creating the ndarray\n",
      "  globals()['G{}_c{}_w_layer{}'.format(global_epoch, num_c_w, layer_index)] = globals()['G{}_c{}_w_layer{}'.format(global_epoch, num_c_w, layer_index)] + np.array(globals()['L{}_layer{}_w_c'.format(i,layer_index)])   # 일반 클러스터링\n"
     ]
    },
    {
     "name": "stdout",
     "output_type": "stream",
     "text": [
      "Layer :  7   클러스터 갯수 정해짐!  갯수 :  2 0\n",
      "\n",
      "\n",
      "====================================================== One Global Epoch =====================================================================\n",
      "\n",
      "\n",
      "29  번째 global_epoch 데이터 랜덤하게 준비!!\n"
     ]
    },
    {
     "name": "stderr",
     "output_type": "stream",
     "text": [
      "<ipython-input-10-506962b8e734>:141: VisibleDeprecationWarning: Creating an ndarray from ragged nested sequences (which is a list-or-tuple of lists-or-tuples-or ndarrays with different lengths or shapes) is deprecated. If you meant to do this, you must specify 'dtype=object' when creating the ndarray\n",
      "  globals()['G{}_c{}_w_layer{}'.format(global_epoch, num_c_w, layer_index)] = globals()['G{}_c{}_w_layer{}'.format(global_epoch, num_c_w, layer_index)] + np.array(globals()['L{}_layer{}_w_c'.format(i,layer_index)])   # 일반 클러스터링\n"
     ]
    },
    {
     "name": "stdout",
     "output_type": "stream",
     "text": [
      "29  번째 global_epoch 데이터 랜덤 준비완료!!\n",
      "\n",
      "\n",
      "29  번째 global epoch에서 로컬 클라이언트 들 학습시작!\n",
      "\n",
      "학습 중 ...\n",
      "\n",
      "16/16 - 0s - loss: 0.6214 - accuracy: 0.9080\n",
      "16/16 - 0s - loss: 0.7263 - accuracy: 0.8660\n",
      "16/16 - 0s - loss: 0.6402 - accuracy: 0.8940\n",
      "16/16 - 0s - loss: 0.7925 - accuracy: 0.8720\n",
      "16/16 - 0s - loss: 0.5394 - accuracy: 0.9080\n",
      "16/16 - 0s - loss: 0.7677 - accuracy: 0.8840\n",
      "16/16 - 0s - loss: 0.6001 - accuracy: 0.8860\n",
      "16/16 - 0s - loss: 0.6574 - accuracy: 0.8760\n",
      "16/16 - 0s - loss: 0.7146 - accuracy: 0.8660\n",
      "16/16 - 0s - loss: 0.6040 - accuracy: 0.8800\n",
      "16/16 - 0s - loss: 0.7636 - accuracy: 0.8840\n",
      "16/16 - 0s - loss: 0.7123 - accuracy: 0.8980\n",
      "16/16 - 0s - loss: 0.7496 - accuracy: 0.8840\n",
      "16/16 - 0s - loss: 0.8376 - accuracy: 0.8500\n",
      "16/16 - 0s - loss: 0.5863 - accuracy: 0.8720\n",
      "16/16 - 0s - loss: 0.5353 - accuracy: 0.8780\n",
      "16/16 - 0s - loss: 0.5723 - accuracy: 0.8620\n",
      "16/16 - 0s - loss: 0.4592 - accuracy: 0.9100\n",
      "16/16 - 0s - loss: 0.7849 - accuracy: 0.8800\n",
      "16/16 - 0s - loss: 0.6521 - accuracy: 0.8780\n",
      "------------    29  번째 global epoch < Clustering > 로컬 클라이언트 학습 완료!,  Total Training time :  691.796044588089 ---------------------------\n",
      "\n",
      "\n",
      "Layer :  0   클러스터 갯수 정해짐!  갯수 :  7 5\n"
     ]
    },
    {
     "name": "stderr",
     "output_type": "stream",
     "text": [
      "<ipython-input-10-506962b8e734>:141: VisibleDeprecationWarning: Creating an ndarray from ragged nested sequences (which is a list-or-tuple of lists-or-tuples-or ndarrays with different lengths or shapes) is deprecated. If you meant to do this, you must specify 'dtype=object' when creating the ndarray\n",
      "  globals()['G{}_c{}_w_layer{}'.format(global_epoch, num_c_w, layer_index)] = globals()['G{}_c{}_w_layer{}'.format(global_epoch, num_c_w, layer_index)] + np.array(globals()['L{}_layer{}_w_c'.format(i,layer_index)])   # 일반 클러스터링\n"
     ]
    },
    {
     "name": "stdout",
     "output_type": "stream",
     "text": [
      "Layer :  2   클러스터 갯수 정해짐!  갯수 :  2 0\n"
     ]
    },
    {
     "name": "stderr",
     "output_type": "stream",
     "text": [
      "<ipython-input-10-506962b8e734>:141: VisibleDeprecationWarning: Creating an ndarray from ragged nested sequences (which is a list-or-tuple of lists-or-tuples-or ndarrays with different lengths or shapes) is deprecated. If you meant to do this, you must specify 'dtype=object' when creating the ndarray\n",
      "  globals()['G{}_c{}_w_layer{}'.format(global_epoch, num_c_w, layer_index)] = globals()['G{}_c{}_w_layer{}'.format(global_epoch, num_c_w, layer_index)] + np.array(globals()['L{}_layer{}_w_c'.format(i,layer_index)])   # 일반 클러스터링\n"
     ]
    },
    {
     "name": "stdout",
     "output_type": "stream",
     "text": [
      "Layer :  4   클러스터 갯수 정해짐!  갯수 :  2 0\n"
     ]
    },
    {
     "name": "stderr",
     "output_type": "stream",
     "text": [
      "<ipython-input-10-506962b8e734>:141: VisibleDeprecationWarning: Creating an ndarray from ragged nested sequences (which is a list-or-tuple of lists-or-tuples-or ndarrays with different lengths or shapes) is deprecated. If you meant to do this, you must specify 'dtype=object' when creating the ndarray\n",
      "  globals()['G{}_c{}_w_layer{}'.format(global_epoch, num_c_w, layer_index)] = globals()['G{}_c{}_w_layer{}'.format(global_epoch, num_c_w, layer_index)] + np.array(globals()['L{}_layer{}_w_c'.format(i,layer_index)])   # 일반 클러스터링\n"
     ]
    },
    {
     "name": "stdout",
     "output_type": "stream",
     "text": [
      "Layer :  6   클러스터 갯수 정해짐!  갯수 :  2 0\n"
     ]
    },
    {
     "name": "stderr",
     "output_type": "stream",
     "text": [
      "<ipython-input-10-506962b8e734>:141: VisibleDeprecationWarning: Creating an ndarray from ragged nested sequences (which is a list-or-tuple of lists-or-tuples-or ndarrays with different lengths or shapes) is deprecated. If you meant to do this, you must specify 'dtype=object' when creating the ndarray\n",
      "  globals()['G{}_c{}_w_layer{}'.format(global_epoch, num_c_w, layer_index)] = globals()['G{}_c{}_w_layer{}'.format(global_epoch, num_c_w, layer_index)] + np.array(globals()['L{}_layer{}_w_c'.format(i,layer_index)])   # 일반 클러스터링\n"
     ]
    },
    {
     "name": "stdout",
     "output_type": "stream",
     "text": [
      "Layer :  7   클러스터 갯수 정해짐!  갯수 :  2 0\n",
      "\n",
      "\n",
      "====================================================== One Global Epoch =====================================================================\n",
      "\n",
      "\n",
      "30  번째 global_epoch 데이터 랜덤하게 준비!!\n"
     ]
    },
    {
     "name": "stderr",
     "output_type": "stream",
     "text": [
      "<ipython-input-10-506962b8e734>:141: VisibleDeprecationWarning: Creating an ndarray from ragged nested sequences (which is a list-or-tuple of lists-or-tuples-or ndarrays with different lengths or shapes) is deprecated. If you meant to do this, you must specify 'dtype=object' when creating the ndarray\n",
      "  globals()['G{}_c{}_w_layer{}'.format(global_epoch, num_c_w, layer_index)] = globals()['G{}_c{}_w_layer{}'.format(global_epoch, num_c_w, layer_index)] + np.array(globals()['L{}_layer{}_w_c'.format(i,layer_index)])   # 일반 클러스터링\n"
     ]
    },
    {
     "name": "stdout",
     "output_type": "stream",
     "text": [
      "30  번째 global_epoch 데이터 랜덤 준비완료!!\n",
      "\n",
      "\n",
      "30  번째 global epoch에서 로컬 클라이언트 들 학습시작!\n",
      "\n",
      "학습 중 ...\n",
      "\n",
      "16/16 - 0s - loss: 0.7725 - accuracy: 0.8760\n",
      "16/16 - 0s - loss: 0.8553 - accuracy: 0.8620\n",
      "16/16 - 0s - loss: 0.6402 - accuracy: 0.8980\n",
      "16/16 - 0s - loss: 0.6460 - accuracy: 0.8920\n",
      "16/16 - 0s - loss: 0.6182 - accuracy: 0.8980\n",
      "16/16 - 0s - loss: 0.7573 - accuracy: 0.8720\n",
      "16/16 - 0s - loss: 0.7008 - accuracy: 0.8860\n",
      "16/16 - 0s - loss: 0.6914 - accuracy: 0.8740\n",
      "16/16 - 0s - loss: 0.5538 - accuracy: 0.8860\n",
      "16/16 - 0s - loss: 0.7425 - accuracy: 0.8660\n",
      "16/16 - 0s - loss: 0.5409 - accuracy: 0.8920\n",
      "16/16 - 0s - loss: 0.5925 - accuracy: 0.9000\n",
      "16/16 - 0s - loss: 0.5673 - accuracy: 0.8960\n",
      "16/16 - 0s - loss: 0.7173 - accuracy: 0.8860\n",
      "16/16 - 0s - loss: 0.7862 - accuracy: 0.8700\n",
      "16/16 - 0s - loss: 0.5553 - accuracy: 0.8940\n",
      "16/16 - 0s - loss: 0.6154 - accuracy: 0.8740\n",
      "16/16 - 0s - loss: 0.5747 - accuracy: 0.9000\n",
      "16/16 - 0s - loss: 0.7371 - accuracy: 0.8860\n",
      "16/16 - 0s - loss: 0.7852 - accuracy: 0.8640\n",
      "------------    30  번째 global epoch < Clustering > 로컬 클라이언트 학습 완료!,  Total Training time :  718.0390434265137 ---------------------------\n",
      "\n",
      "\n",
      "Layer :  0   클러스터 갯수 정해짐!  갯수 :  7 5\n"
     ]
    },
    {
     "name": "stderr",
     "output_type": "stream",
     "text": [
      "<ipython-input-10-506962b8e734>:141: VisibleDeprecationWarning: Creating an ndarray from ragged nested sequences (which is a list-or-tuple of lists-or-tuples-or ndarrays with different lengths or shapes) is deprecated. If you meant to do this, you must specify 'dtype=object' when creating the ndarray\n",
      "  globals()['G{}_c{}_w_layer{}'.format(global_epoch, num_c_w, layer_index)] = globals()['G{}_c{}_w_layer{}'.format(global_epoch, num_c_w, layer_index)] + np.array(globals()['L{}_layer{}_w_c'.format(i,layer_index)])   # 일반 클러스터링\n"
     ]
    },
    {
     "name": "stdout",
     "output_type": "stream",
     "text": [
      "Layer :  2   클러스터 갯수 정해짐!  갯수 :  2 0\n"
     ]
    },
    {
     "name": "stderr",
     "output_type": "stream",
     "text": [
      "<ipython-input-10-506962b8e734>:141: VisibleDeprecationWarning: Creating an ndarray from ragged nested sequences (which is a list-or-tuple of lists-or-tuples-or ndarrays with different lengths or shapes) is deprecated. If you meant to do this, you must specify 'dtype=object' when creating the ndarray\n",
      "  globals()['G{}_c{}_w_layer{}'.format(global_epoch, num_c_w, layer_index)] = globals()['G{}_c{}_w_layer{}'.format(global_epoch, num_c_w, layer_index)] + np.array(globals()['L{}_layer{}_w_c'.format(i,layer_index)])   # 일반 클러스터링\n"
     ]
    },
    {
     "name": "stdout",
     "output_type": "stream",
     "text": [
      "Layer :  4   클러스터 갯수 정해짐!  갯수 :  2 0\n"
     ]
    },
    {
     "name": "stderr",
     "output_type": "stream",
     "text": [
      "<ipython-input-10-506962b8e734>:141: VisibleDeprecationWarning: Creating an ndarray from ragged nested sequences (which is a list-or-tuple of lists-or-tuples-or ndarrays with different lengths or shapes) is deprecated. If you meant to do this, you must specify 'dtype=object' when creating the ndarray\n",
      "  globals()['G{}_c{}_w_layer{}'.format(global_epoch, num_c_w, layer_index)] = globals()['G{}_c{}_w_layer{}'.format(global_epoch, num_c_w, layer_index)] + np.array(globals()['L{}_layer{}_w_c'.format(i,layer_index)])   # 일반 클러스터링\n"
     ]
    },
    {
     "name": "stdout",
     "output_type": "stream",
     "text": [
      "Layer :  6   클러스터 갯수 정해짐!  갯수 :  2 0\n"
     ]
    },
    {
     "name": "stderr",
     "output_type": "stream",
     "text": [
      "<ipython-input-10-506962b8e734>:141: VisibleDeprecationWarning: Creating an ndarray from ragged nested sequences (which is a list-or-tuple of lists-or-tuples-or ndarrays with different lengths or shapes) is deprecated. If you meant to do this, you must specify 'dtype=object' when creating the ndarray\n",
      "  globals()['G{}_c{}_w_layer{}'.format(global_epoch, num_c_w, layer_index)] = globals()['G{}_c{}_w_layer{}'.format(global_epoch, num_c_w, layer_index)] + np.array(globals()['L{}_layer{}_w_c'.format(i,layer_index)])   # 일반 클러스터링\n"
     ]
    },
    {
     "name": "stdout",
     "output_type": "stream",
     "text": [
      "Layer :  7   클러스터 갯수 정해짐!  갯수 :  2 0\n",
      "\n",
      "\n",
      "====================================================== One Global Epoch =====================================================================\n",
      "\n",
      "\n",
      "31  번째 global_epoch 데이터 랜덤하게 준비!!\n"
     ]
    },
    {
     "name": "stderr",
     "output_type": "stream",
     "text": [
      "<ipython-input-10-506962b8e734>:141: VisibleDeprecationWarning: Creating an ndarray from ragged nested sequences (which is a list-or-tuple of lists-or-tuples-or ndarrays with different lengths or shapes) is deprecated. If you meant to do this, you must specify 'dtype=object' when creating the ndarray\n",
      "  globals()['G{}_c{}_w_layer{}'.format(global_epoch, num_c_w, layer_index)] = globals()['G{}_c{}_w_layer{}'.format(global_epoch, num_c_w, layer_index)] + np.array(globals()['L{}_layer{}_w_c'.format(i,layer_index)])   # 일반 클러스터링\n"
     ]
    },
    {
     "name": "stdout",
     "output_type": "stream",
     "text": [
      "31  번째 global_epoch 데이터 랜덤 준비완료!!\n",
      "\n",
      "\n",
      "31  번째 global epoch에서 로컬 클라이언트 들 학습시작!\n",
      "\n",
      "학습 중 ...\n",
      "\n",
      "16/16 - 0s - loss: 0.7122 - accuracy: 0.8640\n",
      "16/16 - 0s - loss: 0.6158 - accuracy: 0.8740\n",
      "16/16 - 0s - loss: 0.7260 - accuracy: 0.8720\n",
      "16/16 - 0s - loss: 0.6927 - accuracy: 0.8800\n",
      "16/16 - 0s - loss: 0.6447 - accuracy: 0.8740\n",
      "16/16 - 0s - loss: 0.7809 - accuracy: 0.8700\n",
      "16/16 - 0s - loss: 0.5779 - accuracy: 0.8960\n",
      "16/16 - 0s - loss: 0.5483 - accuracy: 0.9060\n",
      "16/16 - 0s - loss: 0.7072 - accuracy: 0.8620\n",
      "16/16 - 0s - loss: 0.6891 - accuracy: 0.8880\n",
      "16/16 - 0s - loss: 0.5015 - accuracy: 0.9080\n",
      "16/16 - 0s - loss: 0.5468 - accuracy: 0.9140\n",
      "16/16 - 0s - loss: 0.6960 - accuracy: 0.8980\n",
      "16/16 - 0s - loss: 0.6298 - accuracy: 0.8960\n",
      "16/16 - 0s - loss: 0.7793 - accuracy: 0.8320\n",
      "16/16 - 0s - loss: 0.7627 - accuracy: 0.8760\n",
      "16/16 - 0s - loss: 0.6740 - accuracy: 0.8900\n",
      "16/16 - 0s - loss: 0.6502 - accuracy: 0.8780\n",
      "16/16 - 0s - loss: 0.5126 - accuracy: 0.8880\n",
      "16/16 - 0s - loss: 0.4560 - accuracy: 0.9080\n",
      "------------    31  번째 global epoch < Clustering > 로컬 클라이언트 학습 완료!,  Total Training time :  743.820638179779 ---------------------------\n",
      "\n",
      "\n",
      "Layer :  0   클러스터 갯수 정해짐!  갯수 :  7 5\n"
     ]
    },
    {
     "name": "stderr",
     "output_type": "stream",
     "text": [
      "<ipython-input-10-506962b8e734>:141: VisibleDeprecationWarning: Creating an ndarray from ragged nested sequences (which is a list-or-tuple of lists-or-tuples-or ndarrays with different lengths or shapes) is deprecated. If you meant to do this, you must specify 'dtype=object' when creating the ndarray\n",
      "  globals()['G{}_c{}_w_layer{}'.format(global_epoch, num_c_w, layer_index)] = globals()['G{}_c{}_w_layer{}'.format(global_epoch, num_c_w, layer_index)] + np.array(globals()['L{}_layer{}_w_c'.format(i,layer_index)])   # 일반 클러스터링\n"
     ]
    },
    {
     "name": "stdout",
     "output_type": "stream",
     "text": [
      "Layer :  2   클러스터 갯수 정해짐!  갯수 :  2 0\n"
     ]
    },
    {
     "name": "stderr",
     "output_type": "stream",
     "text": [
      "<ipython-input-10-506962b8e734>:141: VisibleDeprecationWarning: Creating an ndarray from ragged nested sequences (which is a list-or-tuple of lists-or-tuples-or ndarrays with different lengths or shapes) is deprecated. If you meant to do this, you must specify 'dtype=object' when creating the ndarray\n",
      "  globals()['G{}_c{}_w_layer{}'.format(global_epoch, num_c_w, layer_index)] = globals()['G{}_c{}_w_layer{}'.format(global_epoch, num_c_w, layer_index)] + np.array(globals()['L{}_layer{}_w_c'.format(i,layer_index)])   # 일반 클러스터링\n"
     ]
    },
    {
     "name": "stdout",
     "output_type": "stream",
     "text": [
      "Layer :  4   클러스터 갯수 정해짐!  갯수 :  2 0\n"
     ]
    },
    {
     "name": "stderr",
     "output_type": "stream",
     "text": [
      "<ipython-input-10-506962b8e734>:141: VisibleDeprecationWarning: Creating an ndarray from ragged nested sequences (which is a list-or-tuple of lists-or-tuples-or ndarrays with different lengths or shapes) is deprecated. If you meant to do this, you must specify 'dtype=object' when creating the ndarray\n",
      "  globals()['G{}_c{}_w_layer{}'.format(global_epoch, num_c_w, layer_index)] = globals()['G{}_c{}_w_layer{}'.format(global_epoch, num_c_w, layer_index)] + np.array(globals()['L{}_layer{}_w_c'.format(i,layer_index)])   # 일반 클러스터링\n"
     ]
    },
    {
     "name": "stdout",
     "output_type": "stream",
     "text": [
      "Layer :  6   클러스터 갯수 정해짐!  갯수 :  2 0\n"
     ]
    },
    {
     "name": "stderr",
     "output_type": "stream",
     "text": [
      "<ipython-input-10-506962b8e734>:141: VisibleDeprecationWarning: Creating an ndarray from ragged nested sequences (which is a list-or-tuple of lists-or-tuples-or ndarrays with different lengths or shapes) is deprecated. If you meant to do this, you must specify 'dtype=object' when creating the ndarray\n",
      "  globals()['G{}_c{}_w_layer{}'.format(global_epoch, num_c_w, layer_index)] = globals()['G{}_c{}_w_layer{}'.format(global_epoch, num_c_w, layer_index)] + np.array(globals()['L{}_layer{}_w_c'.format(i,layer_index)])   # 일반 클러스터링\n"
     ]
    },
    {
     "name": "stdout",
     "output_type": "stream",
     "text": [
      "Layer :  7   클러스터 갯수 정해짐!  갯수 :  2 0\n",
      "\n",
      "\n",
      "====================================================== One Global Epoch =====================================================================\n",
      "\n",
      "\n",
      "32  번째 global_epoch 데이터 랜덤하게 준비!!\n"
     ]
    },
    {
     "name": "stderr",
     "output_type": "stream",
     "text": [
      "<ipython-input-10-506962b8e734>:141: VisibleDeprecationWarning: Creating an ndarray from ragged nested sequences (which is a list-or-tuple of lists-or-tuples-or ndarrays with different lengths or shapes) is deprecated. If you meant to do this, you must specify 'dtype=object' when creating the ndarray\n",
      "  globals()['G{}_c{}_w_layer{}'.format(global_epoch, num_c_w, layer_index)] = globals()['G{}_c{}_w_layer{}'.format(global_epoch, num_c_w, layer_index)] + np.array(globals()['L{}_layer{}_w_c'.format(i,layer_index)])   # 일반 클러스터링\n"
     ]
    },
    {
     "name": "stdout",
     "output_type": "stream",
     "text": [
      "32  번째 global_epoch 데이터 랜덤 준비완료!!\n",
      "\n",
      "\n",
      "32  번째 global epoch에서 로컬 클라이언트 들 학습시작!\n",
      "\n",
      "학습 중 ...\n",
      "\n",
      "16/16 - 0s - loss: 0.7107 - accuracy: 0.8780\n",
      "16/16 - 0s - loss: 0.7935 - accuracy: 0.8680\n",
      "16/16 - 0s - loss: 0.7165 - accuracy: 0.8920\n",
      "16/16 - 0s - loss: 0.5277 - accuracy: 0.8960\n",
      "16/16 - 0s - loss: 0.6382 - accuracy: 0.8740\n",
      "16/16 - 0s - loss: 0.7484 - accuracy: 0.8860\n",
      "16/16 - 0s - loss: 0.8984 - accuracy: 0.8700\n",
      "16/16 - 0s - loss: 0.5654 - accuracy: 0.8940\n",
      "16/16 - 0s - loss: 0.6309 - accuracy: 0.8880\n",
      "16/16 - 0s - loss: 0.7796 - accuracy: 0.8840\n",
      "16/16 - 0s - loss: 0.4799 - accuracy: 0.8920\n",
      "16/16 - 0s - loss: 0.5288 - accuracy: 0.9060\n",
      "16/16 - 0s - loss: 0.7582 - accuracy: 0.8740\n",
      "16/16 - 0s - loss: 0.5473 - accuracy: 0.8920\n",
      "16/16 - 0s - loss: 0.7646 - accuracy: 0.8740\n",
      "16/16 - 0s - loss: 0.5396 - accuracy: 0.8960\n",
      "16/16 - 0s - loss: 0.7199 - accuracy: 0.8660\n",
      "16/16 - 0s - loss: 0.7459 - accuracy: 0.8920\n",
      "16/16 - 0s - loss: 0.5011 - accuracy: 0.9020\n",
      "16/16 - 0s - loss: 0.7235 - accuracy: 0.8820\n",
      "------------    32  번째 global epoch < Clustering > 로컬 클라이언트 학습 완료!,  Total Training time :  802.1599309444427 ---------------------------\n",
      "\n",
      "\n",
      "Layer :  0   클러스터 갯수 정해짐!  갯수 :  7 5\n"
     ]
    },
    {
     "name": "stderr",
     "output_type": "stream",
     "text": [
      "<ipython-input-10-506962b8e734>:141: VisibleDeprecationWarning: Creating an ndarray from ragged nested sequences (which is a list-or-tuple of lists-or-tuples-or ndarrays with different lengths or shapes) is deprecated. If you meant to do this, you must specify 'dtype=object' when creating the ndarray\n",
      "  globals()['G{}_c{}_w_layer{}'.format(global_epoch, num_c_w, layer_index)] = globals()['G{}_c{}_w_layer{}'.format(global_epoch, num_c_w, layer_index)] + np.array(globals()['L{}_layer{}_w_c'.format(i,layer_index)])   # 일반 클러스터링\n"
     ]
    },
    {
     "name": "stdout",
     "output_type": "stream",
     "text": [
      "Layer :  2   클러스터 갯수 정해짐!  갯수 :  2 0\n"
     ]
    },
    {
     "name": "stderr",
     "output_type": "stream",
     "text": [
      "<ipython-input-10-506962b8e734>:141: VisibleDeprecationWarning: Creating an ndarray from ragged nested sequences (which is a list-or-tuple of lists-or-tuples-or ndarrays with different lengths or shapes) is deprecated. If you meant to do this, you must specify 'dtype=object' when creating the ndarray\n",
      "  globals()['G{}_c{}_w_layer{}'.format(global_epoch, num_c_w, layer_index)] = globals()['G{}_c{}_w_layer{}'.format(global_epoch, num_c_w, layer_index)] + np.array(globals()['L{}_layer{}_w_c'.format(i,layer_index)])   # 일반 클러스터링\n"
     ]
    },
    {
     "name": "stdout",
     "output_type": "stream",
     "text": [
      "Layer :  4   클러스터 갯수 정해짐!  갯수 :  2 0\n"
     ]
    },
    {
     "name": "stderr",
     "output_type": "stream",
     "text": [
      "<ipython-input-10-506962b8e734>:141: VisibleDeprecationWarning: Creating an ndarray from ragged nested sequences (which is a list-or-tuple of lists-or-tuples-or ndarrays with different lengths or shapes) is deprecated. If you meant to do this, you must specify 'dtype=object' when creating the ndarray\n",
      "  globals()['G{}_c{}_w_layer{}'.format(global_epoch, num_c_w, layer_index)] = globals()['G{}_c{}_w_layer{}'.format(global_epoch, num_c_w, layer_index)] + np.array(globals()['L{}_layer{}_w_c'.format(i,layer_index)])   # 일반 클러스터링\n"
     ]
    },
    {
     "name": "stdout",
     "output_type": "stream",
     "text": [
      "Layer :  6   클러스터 갯수 정해짐!  갯수 :  2 0\n"
     ]
    },
    {
     "name": "stderr",
     "output_type": "stream",
     "text": [
      "<ipython-input-10-506962b8e734>:141: VisibleDeprecationWarning: Creating an ndarray from ragged nested sequences (which is a list-or-tuple of lists-or-tuples-or ndarrays with different lengths or shapes) is deprecated. If you meant to do this, you must specify 'dtype=object' when creating the ndarray\n",
      "  globals()['G{}_c{}_w_layer{}'.format(global_epoch, num_c_w, layer_index)] = globals()['G{}_c{}_w_layer{}'.format(global_epoch, num_c_w, layer_index)] + np.array(globals()['L{}_layer{}_w_c'.format(i,layer_index)])   # 일반 클러스터링\n"
     ]
    },
    {
     "name": "stdout",
     "output_type": "stream",
     "text": [
      "Layer :  7   클러스터 갯수 정해짐!  갯수 :  2 0\n",
      "\n",
      "\n",
      "====================================================== One Global Epoch =====================================================================\n",
      "\n",
      "\n",
      "33  번째 global_epoch 데이터 랜덤하게 준비!!\n"
     ]
    },
    {
     "name": "stderr",
     "output_type": "stream",
     "text": [
      "<ipython-input-10-506962b8e734>:141: VisibleDeprecationWarning: Creating an ndarray from ragged nested sequences (which is a list-or-tuple of lists-or-tuples-or ndarrays with different lengths or shapes) is deprecated. If you meant to do this, you must specify 'dtype=object' when creating the ndarray\n",
      "  globals()['G{}_c{}_w_layer{}'.format(global_epoch, num_c_w, layer_index)] = globals()['G{}_c{}_w_layer{}'.format(global_epoch, num_c_w, layer_index)] + np.array(globals()['L{}_layer{}_w_c'.format(i,layer_index)])   # 일반 클러스터링\n"
     ]
    },
    {
     "name": "stdout",
     "output_type": "stream",
     "text": [
      "33  번째 global_epoch 데이터 랜덤 준비완료!!\n",
      "\n",
      "\n",
      "33  번째 global epoch에서 로컬 클라이언트 들 학습시작!\n",
      "\n",
      "학습 중 ...\n",
      "\n",
      "16/16 - 0s - loss: 0.7683 - accuracy: 0.8880\n",
      "16/16 - 0s - loss: 0.8312 - accuracy: 0.8620\n",
      "16/16 - 0s - loss: 0.6274 - accuracy: 0.8960\n",
      "16/16 - 0s - loss: 0.5978 - accuracy: 0.8920\n",
      "16/16 - 0s - loss: 0.5251 - accuracy: 0.9100\n",
      "16/16 - 0s - loss: 0.7476 - accuracy: 0.8800\n",
      "16/16 - 0s - loss: 0.7044 - accuracy: 0.8940\n",
      "16/16 - 0s - loss: 0.5586 - accuracy: 0.8660\n",
      "16/16 - 0s - loss: 0.7277 - accuracy: 0.8760\n",
      "16/16 - 0s - loss: 0.5361 - accuracy: 0.8940\n",
      "16/16 - 0s - loss: 0.6790 - accuracy: 0.9040\n",
      "16/16 - 0s - loss: 0.4506 - accuracy: 0.9000\n",
      "16/16 - 0s - loss: 0.6748 - accuracy: 0.8880\n",
      "16/16 - 0s - loss: 0.4466 - accuracy: 0.9160\n",
      "16/16 - 0s - loss: 0.6689 - accuracy: 0.9060\n",
      "16/16 - 0s - loss: 0.7603 - accuracy: 0.8640\n",
      "16/16 - 0s - loss: 0.8246 - accuracy: 0.8620\n",
      "16/16 - 0s - loss: 0.9053 - accuracy: 0.8500\n",
      "16/16 - 0s - loss: 0.7413 - accuracy: 0.8680\n",
      "16/16 - 1s - loss: 0.7477 - accuracy: 0.8820\n",
      "------------    33  번째 global epoch < Clustering > 로컬 클라이언트 학습 완료!,  Total Training time :  850.8269293308258 ---------------------------\n",
      "\n",
      "\n",
      "Layer :  0   클러스터 갯수 정해짐!  갯수 :  7 5\n"
     ]
    },
    {
     "name": "stderr",
     "output_type": "stream",
     "text": [
      "<ipython-input-10-506962b8e734>:141: VisibleDeprecationWarning: Creating an ndarray from ragged nested sequences (which is a list-or-tuple of lists-or-tuples-or ndarrays with different lengths or shapes) is deprecated. If you meant to do this, you must specify 'dtype=object' when creating the ndarray\n",
      "  globals()['G{}_c{}_w_layer{}'.format(global_epoch, num_c_w, layer_index)] = globals()['G{}_c{}_w_layer{}'.format(global_epoch, num_c_w, layer_index)] + np.array(globals()['L{}_layer{}_w_c'.format(i,layer_index)])   # 일반 클러스터링\n"
     ]
    },
    {
     "name": "stdout",
     "output_type": "stream",
     "text": [
      "Layer :  2   클러스터 갯수 정해짐!  갯수 :  2 0\n"
     ]
    },
    {
     "name": "stderr",
     "output_type": "stream",
     "text": [
      "<ipython-input-10-506962b8e734>:141: VisibleDeprecationWarning: Creating an ndarray from ragged nested sequences (which is a list-or-tuple of lists-or-tuples-or ndarrays with different lengths or shapes) is deprecated. If you meant to do this, you must specify 'dtype=object' when creating the ndarray\n",
      "  globals()['G{}_c{}_w_layer{}'.format(global_epoch, num_c_w, layer_index)] = globals()['G{}_c{}_w_layer{}'.format(global_epoch, num_c_w, layer_index)] + np.array(globals()['L{}_layer{}_w_c'.format(i,layer_index)])   # 일반 클러스터링\n"
     ]
    },
    {
     "name": "stdout",
     "output_type": "stream",
     "text": [
      "Layer :  4   클러스터 갯수 정해짐!  갯수 :  2 0\n"
     ]
    },
    {
     "name": "stderr",
     "output_type": "stream",
     "text": [
      "<ipython-input-10-506962b8e734>:141: VisibleDeprecationWarning: Creating an ndarray from ragged nested sequences (which is a list-or-tuple of lists-or-tuples-or ndarrays with different lengths or shapes) is deprecated. If you meant to do this, you must specify 'dtype=object' when creating the ndarray\n",
      "  globals()['G{}_c{}_w_layer{}'.format(global_epoch, num_c_w, layer_index)] = globals()['G{}_c{}_w_layer{}'.format(global_epoch, num_c_w, layer_index)] + np.array(globals()['L{}_layer{}_w_c'.format(i,layer_index)])   # 일반 클러스터링\n"
     ]
    },
    {
     "name": "stdout",
     "output_type": "stream",
     "text": [
      "Layer :  6   클러스터 갯수 정해짐!  갯수 :  2 0\n"
     ]
    },
    {
     "name": "stderr",
     "output_type": "stream",
     "text": [
      "<ipython-input-10-506962b8e734>:141: VisibleDeprecationWarning: Creating an ndarray from ragged nested sequences (which is a list-or-tuple of lists-or-tuples-or ndarrays with different lengths or shapes) is deprecated. If you meant to do this, you must specify 'dtype=object' when creating the ndarray\n",
      "  globals()['G{}_c{}_w_layer{}'.format(global_epoch, num_c_w, layer_index)] = globals()['G{}_c{}_w_layer{}'.format(global_epoch, num_c_w, layer_index)] + np.array(globals()['L{}_layer{}_w_c'.format(i,layer_index)])   # 일반 클러스터링\n"
     ]
    },
    {
     "name": "stdout",
     "output_type": "stream",
     "text": [
      "Layer :  7   클러스터 갯수 정해짐!  갯수 :  2 0\n",
      "\n",
      "\n",
      "====================================================== One Global Epoch =====================================================================\n",
      "\n",
      "\n",
      "34  번째 global_epoch 데이터 랜덤하게 준비!!\n"
     ]
    },
    {
     "name": "stderr",
     "output_type": "stream",
     "text": [
      "<ipython-input-10-506962b8e734>:141: VisibleDeprecationWarning: Creating an ndarray from ragged nested sequences (which is a list-or-tuple of lists-or-tuples-or ndarrays with different lengths or shapes) is deprecated. If you meant to do this, you must specify 'dtype=object' when creating the ndarray\n",
      "  globals()['G{}_c{}_w_layer{}'.format(global_epoch, num_c_w, layer_index)] = globals()['G{}_c{}_w_layer{}'.format(global_epoch, num_c_w, layer_index)] + np.array(globals()['L{}_layer{}_w_c'.format(i,layer_index)])   # 일반 클러스터링\n"
     ]
    },
    {
     "name": "stdout",
     "output_type": "stream",
     "text": [
      "34  번째 global_epoch 데이터 랜덤 준비완료!!\n",
      "\n",
      "\n",
      "34  번째 global epoch에서 로컬 클라이언트 들 학습시작!\n",
      "\n",
      "학습 중 ...\n",
      "\n",
      "16/16 - 0s - loss: 0.6243 - accuracy: 0.8860\n",
      "16/16 - 0s - loss: 0.6407 - accuracy: 0.8900\n",
      "16/16 - 0s - loss: 0.7080 - accuracy: 0.8940\n",
      "16/16 - 0s - loss: 0.7315 - accuracy: 0.9000\n",
      "16/16 - 0s - loss: 0.5372 - accuracy: 0.8840\n",
      "16/16 - 0s - loss: 0.8545 - accuracy: 0.8900\n",
      "16/16 - 0s - loss: 0.8176 - accuracy: 0.9060\n",
      "16/16 - 0s - loss: 0.7492 - accuracy: 0.8840\n",
      "16/16 - 0s - loss: 0.5726 - accuracy: 0.9020\n",
      "16/16 - 0s - loss: 0.6282 - accuracy: 0.8940\n",
      "16/16 - 0s - loss: 0.7788 - accuracy: 0.8820\n",
      "16/16 - 0s - loss: 0.6264 - accuracy: 0.9020\n",
      "16/16 - 0s - loss: 0.8734 - accuracy: 0.8620\n",
      "16/16 - 0s - loss: 0.7301 - accuracy: 0.8740\n",
      "16/16 - 0s - loss: 0.7108 - accuracy: 0.8900\n",
      "16/16 - 0s - loss: 0.6296 - accuracy: 0.8720\n",
      "16/16 - 1s - loss: 0.5960 - accuracy: 0.8980\n",
      "16/16 - 0s - loss: 0.8197 - accuracy: 0.8780\n",
      "16/16 - 0s - loss: 0.7788 - accuracy: 0.8880\n",
      "16/16 - 1s - loss: 0.8816 - accuracy: 0.8980\n",
      "------------    34  번째 global epoch < Clustering > 로컬 클라이언트 학습 완료!,  Total Training time :  898.3480215072632 ---------------------------\n",
      "\n",
      "\n",
      "Layer :  0   클러스터 갯수 정해짐!  갯수 :  7 5\n"
     ]
    },
    {
     "name": "stderr",
     "output_type": "stream",
     "text": [
      "<ipython-input-10-506962b8e734>:141: VisibleDeprecationWarning: Creating an ndarray from ragged nested sequences (which is a list-or-tuple of lists-or-tuples-or ndarrays with different lengths or shapes) is deprecated. If you meant to do this, you must specify 'dtype=object' when creating the ndarray\n",
      "  globals()['G{}_c{}_w_layer{}'.format(global_epoch, num_c_w, layer_index)] = globals()['G{}_c{}_w_layer{}'.format(global_epoch, num_c_w, layer_index)] + np.array(globals()['L{}_layer{}_w_c'.format(i,layer_index)])   # 일반 클러스터링\n"
     ]
    },
    {
     "name": "stdout",
     "output_type": "stream",
     "text": [
      "Layer :  2   클러스터 갯수 정해짐!  갯수 :  2 0\n"
     ]
    },
    {
     "name": "stderr",
     "output_type": "stream",
     "text": [
      "<ipython-input-10-506962b8e734>:141: VisibleDeprecationWarning: Creating an ndarray from ragged nested sequences (which is a list-or-tuple of lists-or-tuples-or ndarrays with different lengths or shapes) is deprecated. If you meant to do this, you must specify 'dtype=object' when creating the ndarray\n",
      "  globals()['G{}_c{}_w_layer{}'.format(global_epoch, num_c_w, layer_index)] = globals()['G{}_c{}_w_layer{}'.format(global_epoch, num_c_w, layer_index)] + np.array(globals()['L{}_layer{}_w_c'.format(i,layer_index)])   # 일반 클러스터링\n"
     ]
    },
    {
     "name": "stdout",
     "output_type": "stream",
     "text": [
      "Layer :  4   클러스터 갯수 정해짐!  갯수 :  2 0\n"
     ]
    },
    {
     "name": "stderr",
     "output_type": "stream",
     "text": [
      "<ipython-input-10-506962b8e734>:141: VisibleDeprecationWarning: Creating an ndarray from ragged nested sequences (which is a list-or-tuple of lists-or-tuples-or ndarrays with different lengths or shapes) is deprecated. If you meant to do this, you must specify 'dtype=object' when creating the ndarray\n",
      "  globals()['G{}_c{}_w_layer{}'.format(global_epoch, num_c_w, layer_index)] = globals()['G{}_c{}_w_layer{}'.format(global_epoch, num_c_w, layer_index)] + np.array(globals()['L{}_layer{}_w_c'.format(i,layer_index)])   # 일반 클러스터링\n"
     ]
    },
    {
     "name": "stdout",
     "output_type": "stream",
     "text": [
      "Layer :  6   클러스터 갯수 정해짐!  갯수 :  2 0\n"
     ]
    },
    {
     "name": "stderr",
     "output_type": "stream",
     "text": [
      "<ipython-input-10-506962b8e734>:141: VisibleDeprecationWarning: Creating an ndarray from ragged nested sequences (which is a list-or-tuple of lists-or-tuples-or ndarrays with different lengths or shapes) is deprecated. If you meant to do this, you must specify 'dtype=object' when creating the ndarray\n",
      "  globals()['G{}_c{}_w_layer{}'.format(global_epoch, num_c_w, layer_index)] = globals()['G{}_c{}_w_layer{}'.format(global_epoch, num_c_w, layer_index)] + np.array(globals()['L{}_layer{}_w_c'.format(i,layer_index)])   # 일반 클러스터링\n"
     ]
    },
    {
     "name": "stdout",
     "output_type": "stream",
     "text": [
      "Layer :  7   클러스터 갯수 정해짐!  갯수 :  2 0\n",
      "\n",
      "\n",
      "====================================================== One Global Epoch =====================================================================\n",
      "\n",
      "\n",
      "35  번째 global_epoch 데이터 랜덤하게 준비!!\n"
     ]
    },
    {
     "name": "stderr",
     "output_type": "stream",
     "text": [
      "<ipython-input-10-506962b8e734>:141: VisibleDeprecationWarning: Creating an ndarray from ragged nested sequences (which is a list-or-tuple of lists-or-tuples-or ndarrays with different lengths or shapes) is deprecated. If you meant to do this, you must specify 'dtype=object' when creating the ndarray\n",
      "  globals()['G{}_c{}_w_layer{}'.format(global_epoch, num_c_w, layer_index)] = globals()['G{}_c{}_w_layer{}'.format(global_epoch, num_c_w, layer_index)] + np.array(globals()['L{}_layer{}_w_c'.format(i,layer_index)])   # 일반 클러스터링\n"
     ]
    },
    {
     "name": "stdout",
     "output_type": "stream",
     "text": [
      "35  번째 global_epoch 데이터 랜덤 준비완료!!\n",
      "\n",
      "\n",
      "35  번째 global epoch에서 로컬 클라이언트 들 학습시작!\n",
      "\n",
      "학습 중 ...\n",
      "\n",
      "16/16 - 0s - loss: 0.6277 - accuracy: 0.9180\n",
      "16/16 - 0s - loss: 0.8439 - accuracy: 0.8620\n",
      "16/16 - 0s - loss: 0.7558 - accuracy: 0.8700\n",
      "16/16 - 0s - loss: 0.7704 - accuracy: 0.8900\n",
      "16/16 - 0s - loss: 0.8748 - accuracy: 0.8820\n",
      "16/16 - 0s - loss: 0.5649 - accuracy: 0.8960\n",
      "16/16 - 0s - loss: 0.6566 - accuracy: 0.8940\n",
      "16/16 - 0s - loss: 0.8991 - accuracy: 0.8740\n",
      "16/16 - 0s - loss: 0.5262 - accuracy: 0.9100\n",
      "16/16 - 0s - loss: 0.5501 - accuracy: 0.8780\n",
      "16/16 - 0s - loss: 1.0021 - accuracy: 0.8680\n",
      "16/16 - 0s - loss: 0.4280 - accuracy: 0.9000\n",
      "16/16 - 1s - loss: 0.7383 - accuracy: 0.8860\n",
      "16/16 - 1s - loss: 0.6273 - accuracy: 0.8840\n",
      "16/16 - 0s - loss: 0.5965 - accuracy: 0.8900\n",
      "16/16 - 1s - loss: 0.6314 - accuracy: 0.8900\n",
      "16/16 - 0s - loss: 0.8409 - accuracy: 0.8780\n",
      "16/16 - 0s - loss: 0.8700 - accuracy: 0.8800\n",
      "16/16 - 0s - loss: 0.8281 - accuracy: 0.8560\n",
      "16/16 - 0s - loss: 0.8096 - accuracy: 0.8880\n",
      "------------    35  번째 global epoch < Clustering > 로컬 클라이언트 학습 완료!,  Total Training time :  971.0344812870026 ---------------------------\n",
      "\n",
      "\n",
      "Layer :  0   클러스터 갯수 정해짐!  갯수 :  7 5\n"
     ]
    },
    {
     "name": "stderr",
     "output_type": "stream",
     "text": [
      "<ipython-input-10-506962b8e734>:141: VisibleDeprecationWarning: Creating an ndarray from ragged nested sequences (which is a list-or-tuple of lists-or-tuples-or ndarrays with different lengths or shapes) is deprecated. If you meant to do this, you must specify 'dtype=object' when creating the ndarray\n",
      "  globals()['G{}_c{}_w_layer{}'.format(global_epoch, num_c_w, layer_index)] = globals()['G{}_c{}_w_layer{}'.format(global_epoch, num_c_w, layer_index)] + np.array(globals()['L{}_layer{}_w_c'.format(i,layer_index)])   # 일반 클러스터링\n"
     ]
    },
    {
     "name": "stdout",
     "output_type": "stream",
     "text": [
      "Layer :  2   클러스터 갯수 정해짐!  갯수 :  2 0\n"
     ]
    },
    {
     "name": "stderr",
     "output_type": "stream",
     "text": [
      "<ipython-input-10-506962b8e734>:141: VisibleDeprecationWarning: Creating an ndarray from ragged nested sequences (which is a list-or-tuple of lists-or-tuples-or ndarrays with different lengths or shapes) is deprecated. If you meant to do this, you must specify 'dtype=object' when creating the ndarray\n",
      "  globals()['G{}_c{}_w_layer{}'.format(global_epoch, num_c_w, layer_index)] = globals()['G{}_c{}_w_layer{}'.format(global_epoch, num_c_w, layer_index)] + np.array(globals()['L{}_layer{}_w_c'.format(i,layer_index)])   # 일반 클러스터링\n"
     ]
    },
    {
     "name": "stdout",
     "output_type": "stream",
     "text": [
      "Layer :  4   클러스터 갯수 정해짐!  갯수 :  2 0\n"
     ]
    },
    {
     "name": "stderr",
     "output_type": "stream",
     "text": [
      "<ipython-input-10-506962b8e734>:141: VisibleDeprecationWarning: Creating an ndarray from ragged nested sequences (which is a list-or-tuple of lists-or-tuples-or ndarrays with different lengths or shapes) is deprecated. If you meant to do this, you must specify 'dtype=object' when creating the ndarray\n",
      "  globals()['G{}_c{}_w_layer{}'.format(global_epoch, num_c_w, layer_index)] = globals()['G{}_c{}_w_layer{}'.format(global_epoch, num_c_w, layer_index)] + np.array(globals()['L{}_layer{}_w_c'.format(i,layer_index)])   # 일반 클러스터링\n"
     ]
    },
    {
     "name": "stdout",
     "output_type": "stream",
     "text": [
      "Layer :  6   클러스터 갯수 정해짐!  갯수 :  2 0\n"
     ]
    },
    {
     "name": "stderr",
     "output_type": "stream",
     "text": [
      "<ipython-input-10-506962b8e734>:141: VisibleDeprecationWarning: Creating an ndarray from ragged nested sequences (which is a list-or-tuple of lists-or-tuples-or ndarrays with different lengths or shapes) is deprecated. If you meant to do this, you must specify 'dtype=object' when creating the ndarray\n",
      "  globals()['G{}_c{}_w_layer{}'.format(global_epoch, num_c_w, layer_index)] = globals()['G{}_c{}_w_layer{}'.format(global_epoch, num_c_w, layer_index)] + np.array(globals()['L{}_layer{}_w_c'.format(i,layer_index)])   # 일반 클러스터링\n"
     ]
    },
    {
     "name": "stdout",
     "output_type": "stream",
     "text": [
      "Layer :  7   클러스터 갯수 정해짐!  갯수 :  2 0\n",
      "\n",
      "\n",
      "====================================================== One Global Epoch =====================================================================\n",
      "\n",
      "\n",
      "36  번째 global_epoch 데이터 랜덤하게 준비!!\n"
     ]
    },
    {
     "name": "stderr",
     "output_type": "stream",
     "text": [
      "<ipython-input-10-506962b8e734>:141: VisibleDeprecationWarning: Creating an ndarray from ragged nested sequences (which is a list-or-tuple of lists-or-tuples-or ndarrays with different lengths or shapes) is deprecated. If you meant to do this, you must specify 'dtype=object' when creating the ndarray\n",
      "  globals()['G{}_c{}_w_layer{}'.format(global_epoch, num_c_w, layer_index)] = globals()['G{}_c{}_w_layer{}'.format(global_epoch, num_c_w, layer_index)] + np.array(globals()['L{}_layer{}_w_c'.format(i,layer_index)])   # 일반 클러스터링\n"
     ]
    },
    {
     "name": "stdout",
     "output_type": "stream",
     "text": [
      "36  번째 global_epoch 데이터 랜덤 준비완료!!\n",
      "\n",
      "\n",
      "36  번째 global epoch에서 로컬 클라이언트 들 학습시작!\n",
      "\n",
      "학습 중 ...\n",
      "\n",
      "16/16 - 0s - loss: 0.8383 - accuracy: 0.8400\n",
      "16/16 - 0s - loss: 0.6631 - accuracy: 0.8920\n",
      "16/16 - 0s - loss: 0.7099 - accuracy: 0.9120\n",
      "16/16 - 0s - loss: 0.7379 - accuracy: 0.8740\n",
      "16/16 - 0s - loss: 0.5790 - accuracy: 0.8820\n",
      "16/16 - 0s - loss: 0.6211 - accuracy: 0.9000\n",
      "16/16 - 0s - loss: 0.5397 - accuracy: 0.9100\n",
      "16/16 - 0s - loss: 0.5934 - accuracy: 0.8760\n",
      "16/16 - 0s - loss: 0.4814 - accuracy: 0.9060\n",
      "16/16 - 0s - loss: 0.6203 - accuracy: 0.9080\n",
      "16/16 - 0s - loss: 0.9071 - accuracy: 0.8820\n",
      "16/16 - 0s - loss: 0.6131 - accuracy: 0.8920\n",
      "16/16 - 0s - loss: 0.6866 - accuracy: 0.8940\n",
      "16/16 - 0s - loss: 0.6684 - accuracy: 0.8940\n",
      "16/16 - 0s - loss: 0.4372 - accuracy: 0.9100\n",
      "16/16 - 0s - loss: 0.9073 - accuracy: 0.8580\n",
      "16/16 - 1s - loss: 0.6714 - accuracy: 0.8700\n",
      "16/16 - 0s - loss: 0.5802 - accuracy: 0.8960\n",
      "16/16 - 1s - loss: 0.6473 - accuracy: 0.8940\n",
      "16/16 - 0s - loss: 0.6993 - accuracy: 0.8820\n",
      "------------    36  번째 global epoch < Clustering > 로컬 클라이언트 학습 완료!,  Total Training time :  1080.4905190467834 ---------------------------\n",
      "\n",
      "\n",
      "Layer :  0   클러스터 갯수 정해짐!  갯수 :  7 5\n"
     ]
    },
    {
     "name": "stderr",
     "output_type": "stream",
     "text": [
      "<ipython-input-10-506962b8e734>:141: VisibleDeprecationWarning: Creating an ndarray from ragged nested sequences (which is a list-or-tuple of lists-or-tuples-or ndarrays with different lengths or shapes) is deprecated. If you meant to do this, you must specify 'dtype=object' when creating the ndarray\n",
      "  globals()['G{}_c{}_w_layer{}'.format(global_epoch, num_c_w, layer_index)] = globals()['G{}_c{}_w_layer{}'.format(global_epoch, num_c_w, layer_index)] + np.array(globals()['L{}_layer{}_w_c'.format(i,layer_index)])   # 일반 클러스터링\n"
     ]
    },
    {
     "name": "stdout",
     "output_type": "stream",
     "text": [
      "Layer :  2   클러스터 갯수 정해짐!  갯수 :  2 0\n"
     ]
    },
    {
     "name": "stderr",
     "output_type": "stream",
     "text": [
      "<ipython-input-10-506962b8e734>:141: VisibleDeprecationWarning: Creating an ndarray from ragged nested sequences (which is a list-or-tuple of lists-or-tuples-or ndarrays with different lengths or shapes) is deprecated. If you meant to do this, you must specify 'dtype=object' when creating the ndarray\n",
      "  globals()['G{}_c{}_w_layer{}'.format(global_epoch, num_c_w, layer_index)] = globals()['G{}_c{}_w_layer{}'.format(global_epoch, num_c_w, layer_index)] + np.array(globals()['L{}_layer{}_w_c'.format(i,layer_index)])   # 일반 클러스터링\n"
     ]
    },
    {
     "name": "stdout",
     "output_type": "stream",
     "text": [
      "Layer :  4   클러스터 갯수 정해짐!  갯수 :  2 0\n"
     ]
    },
    {
     "name": "stderr",
     "output_type": "stream",
     "text": [
      "<ipython-input-10-506962b8e734>:141: VisibleDeprecationWarning: Creating an ndarray from ragged nested sequences (which is a list-or-tuple of lists-or-tuples-or ndarrays with different lengths or shapes) is deprecated. If you meant to do this, you must specify 'dtype=object' when creating the ndarray\n",
      "  globals()['G{}_c{}_w_layer{}'.format(global_epoch, num_c_w, layer_index)] = globals()['G{}_c{}_w_layer{}'.format(global_epoch, num_c_w, layer_index)] + np.array(globals()['L{}_layer{}_w_c'.format(i,layer_index)])   # 일반 클러스터링\n"
     ]
    },
    {
     "name": "stdout",
     "output_type": "stream",
     "text": [
      "Layer :  6   클러스터 갯수 정해짐!  갯수 :  2 0\n"
     ]
    },
    {
     "name": "stderr",
     "output_type": "stream",
     "text": [
      "<ipython-input-10-506962b8e734>:141: VisibleDeprecationWarning: Creating an ndarray from ragged nested sequences (which is a list-or-tuple of lists-or-tuples-or ndarrays with different lengths or shapes) is deprecated. If you meant to do this, you must specify 'dtype=object' when creating the ndarray\n",
      "  globals()['G{}_c{}_w_layer{}'.format(global_epoch, num_c_w, layer_index)] = globals()['G{}_c{}_w_layer{}'.format(global_epoch, num_c_w, layer_index)] + np.array(globals()['L{}_layer{}_w_c'.format(i,layer_index)])   # 일반 클러스터링\n"
     ]
    },
    {
     "name": "stdout",
     "output_type": "stream",
     "text": [
      "Layer :  7   클러스터 갯수 정해짐!  갯수 :  2 0\n",
      "\n",
      "\n",
      "====================================================== One Global Epoch =====================================================================\n",
      "\n",
      "\n",
      "37  번째 global_epoch 데이터 랜덤하게 준비!!\n"
     ]
    },
    {
     "name": "stderr",
     "output_type": "stream",
     "text": [
      "<ipython-input-10-506962b8e734>:141: VisibleDeprecationWarning: Creating an ndarray from ragged nested sequences (which is a list-or-tuple of lists-or-tuples-or ndarrays with different lengths or shapes) is deprecated. If you meant to do this, you must specify 'dtype=object' when creating the ndarray\n",
      "  globals()['G{}_c{}_w_layer{}'.format(global_epoch, num_c_w, layer_index)] = globals()['G{}_c{}_w_layer{}'.format(global_epoch, num_c_w, layer_index)] + np.array(globals()['L{}_layer{}_w_c'.format(i,layer_index)])   # 일반 클러스터링\n"
     ]
    },
    {
     "name": "stdout",
     "output_type": "stream",
     "text": [
      "37  번째 global_epoch 데이터 랜덤 준비완료!!\n",
      "\n",
      "\n",
      "37  번째 global epoch에서 로컬 클라이언트 들 학습시작!\n",
      "\n",
      "학습 중 ...\n",
      "\n",
      "16/16 - 0s - loss: 0.7725 - accuracy: 0.8860\n",
      "16/16 - 0s - loss: 0.7659 - accuracy: 0.8640\n",
      "16/16 - 0s - loss: 0.4335 - accuracy: 0.8800\n",
      "16/16 - 0s - loss: 0.7287 - accuracy: 0.8660\n",
      "16/16 - 0s - loss: 0.5714 - accuracy: 0.9180\n",
      "16/16 - 0s - loss: 0.5822 - accuracy: 0.8980\n",
      "16/16 - 1s - loss: 0.6897 - accuracy: 0.9100\n",
      "16/16 - 1s - loss: 0.5830 - accuracy: 0.8980\n",
      "16/16 - 0s - loss: 0.5636 - accuracy: 0.8860\n",
      "16/16 - 0s - loss: 0.6567 - accuracy: 0.8920\n",
      "16/16 - 0s - loss: 0.6859 - accuracy: 0.8840\n",
      "16/16 - 0s - loss: 0.7293 - accuracy: 0.8800\n",
      "16/16 - 0s - loss: 0.5553 - accuracy: 0.8840\n",
      "16/16 - 0s - loss: 0.6594 - accuracy: 0.9000\n",
      "16/16 - 0s - loss: 0.7338 - accuracy: 0.8820\n",
      "16/16 - 0s - loss: 0.7094 - accuracy: 0.8820\n",
      "16/16 - 0s - loss: 0.7445 - accuracy: 0.8660\n",
      "16/16 - 0s - loss: 0.6197 - accuracy: 0.8940\n",
      "16/16 - 0s - loss: 0.7154 - accuracy: 0.8960\n",
      "16/16 - 0s - loss: 0.7854 - accuracy: 0.9020\n",
      "------------    37  번째 global epoch < Clustering > 로컬 클라이언트 학습 완료!,  Total Training time :  1324.7011020183563 ---------------------------\n",
      "\n",
      "\n",
      "Layer :  0   클러스터 갯수 정해짐!  갯수 :  7 5\n"
     ]
    },
    {
     "name": "stderr",
     "output_type": "stream",
     "text": [
      "<ipython-input-10-506962b8e734>:141: VisibleDeprecationWarning: Creating an ndarray from ragged nested sequences (which is a list-or-tuple of lists-or-tuples-or ndarrays with different lengths or shapes) is deprecated. If you meant to do this, you must specify 'dtype=object' when creating the ndarray\n",
      "  globals()['G{}_c{}_w_layer{}'.format(global_epoch, num_c_w, layer_index)] = globals()['G{}_c{}_w_layer{}'.format(global_epoch, num_c_w, layer_index)] + np.array(globals()['L{}_layer{}_w_c'.format(i,layer_index)])   # 일반 클러스터링\n"
     ]
    },
    {
     "name": "stdout",
     "output_type": "stream",
     "text": [
      "Layer :  2   클러스터 갯수 정해짐!  갯수 :  2 0\n"
     ]
    },
    {
     "name": "stderr",
     "output_type": "stream",
     "text": [
      "<ipython-input-10-506962b8e734>:141: VisibleDeprecationWarning: Creating an ndarray from ragged nested sequences (which is a list-or-tuple of lists-or-tuples-or ndarrays with different lengths or shapes) is deprecated. If you meant to do this, you must specify 'dtype=object' when creating the ndarray\n",
      "  globals()['G{}_c{}_w_layer{}'.format(global_epoch, num_c_w, layer_index)] = globals()['G{}_c{}_w_layer{}'.format(global_epoch, num_c_w, layer_index)] + np.array(globals()['L{}_layer{}_w_c'.format(i,layer_index)])   # 일반 클러스터링\n"
     ]
    },
    {
     "name": "stdout",
     "output_type": "stream",
     "text": [
      "Layer :  4   클러스터 갯수 정해짐!  갯수 :  2 0\n"
     ]
    },
    {
     "name": "stderr",
     "output_type": "stream",
     "text": [
      "<ipython-input-10-506962b8e734>:141: VisibleDeprecationWarning: Creating an ndarray from ragged nested sequences (which is a list-or-tuple of lists-or-tuples-or ndarrays with different lengths or shapes) is deprecated. If you meant to do this, you must specify 'dtype=object' when creating the ndarray\n",
      "  globals()['G{}_c{}_w_layer{}'.format(global_epoch, num_c_w, layer_index)] = globals()['G{}_c{}_w_layer{}'.format(global_epoch, num_c_w, layer_index)] + np.array(globals()['L{}_layer{}_w_c'.format(i,layer_index)])   # 일반 클러스터링\n"
     ]
    },
    {
     "name": "stdout",
     "output_type": "stream",
     "text": [
      "Layer :  6   클러스터 갯수 정해짐!  갯수 :  2 0\n"
     ]
    },
    {
     "name": "stderr",
     "output_type": "stream",
     "text": [
      "<ipython-input-10-506962b8e734>:141: VisibleDeprecationWarning: Creating an ndarray from ragged nested sequences (which is a list-or-tuple of lists-or-tuples-or ndarrays with different lengths or shapes) is deprecated. If you meant to do this, you must specify 'dtype=object' when creating the ndarray\n",
      "  globals()['G{}_c{}_w_layer{}'.format(global_epoch, num_c_w, layer_index)] = globals()['G{}_c{}_w_layer{}'.format(global_epoch, num_c_w, layer_index)] + np.array(globals()['L{}_layer{}_w_c'.format(i,layer_index)])   # 일반 클러스터링\n"
     ]
    },
    {
     "name": "stdout",
     "output_type": "stream",
     "text": [
      "Layer :  7   클러스터 갯수 정해짐!  갯수 :  2 0\n",
      "\n",
      "\n",
      "====================================================== One Global Epoch =====================================================================\n",
      "\n",
      "\n",
      "38  번째 global_epoch 데이터 랜덤하게 준비!!\n"
     ]
    },
    {
     "name": "stderr",
     "output_type": "stream",
     "text": [
      "<ipython-input-10-506962b8e734>:141: VisibleDeprecationWarning: Creating an ndarray from ragged nested sequences (which is a list-or-tuple of lists-or-tuples-or ndarrays with different lengths or shapes) is deprecated. If you meant to do this, you must specify 'dtype=object' when creating the ndarray\n",
      "  globals()['G{}_c{}_w_layer{}'.format(global_epoch, num_c_w, layer_index)] = globals()['G{}_c{}_w_layer{}'.format(global_epoch, num_c_w, layer_index)] + np.array(globals()['L{}_layer{}_w_c'.format(i,layer_index)])   # 일반 클러스터링\n"
     ]
    },
    {
     "name": "stdout",
     "output_type": "stream",
     "text": [
      "38  번째 global_epoch 데이터 랜덤 준비완료!!\n",
      "\n",
      "\n",
      "38  번째 global epoch에서 로컬 클라이언트 들 학습시작!\n",
      "\n",
      "학습 중 ...\n",
      "\n",
      "16/16 - 1s - loss: 0.5869 - accuracy: 0.8980\n",
      "16/16 - 0s - loss: 0.8374 - accuracy: 0.8540\n",
      "16/16 - 1s - loss: 0.5497 - accuracy: 0.9040\n",
      "16/16 - 1s - loss: 0.4724 - accuracy: 0.9100\n",
      "16/16 - 0s - loss: 0.7034 - accuracy: 0.8880\n",
      "16/16 - 0s - loss: 0.6717 - accuracy: 0.9020\n",
      "16/16 - 0s - loss: 0.7514 - accuracy: 0.8880\n",
      "16/16 - 0s - loss: 0.8239 - accuracy: 0.8600\n",
      "16/16 - 1s - loss: 0.6511 - accuracy: 0.8860\n",
      "16/16 - 0s - loss: 0.7078 - accuracy: 0.8820\n",
      "16/16 - 1s - loss: 0.6802 - accuracy: 0.8980\n",
      "16/16 - 0s - loss: 0.6589 - accuracy: 0.8680\n",
      "16/16 - 1s - loss: 0.8681 - accuracy: 0.8740\n",
      "16/16 - 0s - loss: 0.8368 - accuracy: 0.8760\n",
      "16/16 - 1s - loss: 0.7871 - accuracy: 0.8700\n",
      "16/16 - 1s - loss: 0.5308 - accuracy: 0.9020\n",
      "16/16 - 1s - loss: 0.4521 - accuracy: 0.9080\n",
      "16/16 - 1s - loss: 0.5436 - accuracy: 0.9040\n",
      "16/16 - 0s - loss: 0.7785 - accuracy: 0.8840\n",
      "16/16 - 1s - loss: 0.7011 - accuracy: 0.8980\n",
      "------------    38  번째 global epoch < Clustering > 로컬 클라이언트 학습 완료!,  Total Training time :  1594.4231672286987 ---------------------------\n",
      "\n",
      "\n",
      "Layer :  0   클러스터 갯수 정해짐!  갯수 :  7 5\n"
     ]
    },
    {
     "name": "stderr",
     "output_type": "stream",
     "text": [
      "<ipython-input-10-506962b8e734>:141: VisibleDeprecationWarning: Creating an ndarray from ragged nested sequences (which is a list-or-tuple of lists-or-tuples-or ndarrays with different lengths or shapes) is deprecated. If you meant to do this, you must specify 'dtype=object' when creating the ndarray\n",
      "  globals()['G{}_c{}_w_layer{}'.format(global_epoch, num_c_w, layer_index)] = globals()['G{}_c{}_w_layer{}'.format(global_epoch, num_c_w, layer_index)] + np.array(globals()['L{}_layer{}_w_c'.format(i,layer_index)])   # 일반 클러스터링\n"
     ]
    },
    {
     "name": "stdout",
     "output_type": "stream",
     "text": [
      "Layer :  2   클러스터 갯수 정해짐!  갯수 :  2 0\n"
     ]
    },
    {
     "name": "stderr",
     "output_type": "stream",
     "text": [
      "<ipython-input-10-506962b8e734>:141: VisibleDeprecationWarning: Creating an ndarray from ragged nested sequences (which is a list-or-tuple of lists-or-tuples-or ndarrays with different lengths or shapes) is deprecated. If you meant to do this, you must specify 'dtype=object' when creating the ndarray\n",
      "  globals()['G{}_c{}_w_layer{}'.format(global_epoch, num_c_w, layer_index)] = globals()['G{}_c{}_w_layer{}'.format(global_epoch, num_c_w, layer_index)] + np.array(globals()['L{}_layer{}_w_c'.format(i,layer_index)])   # 일반 클러스터링\n"
     ]
    },
    {
     "name": "stdout",
     "output_type": "stream",
     "text": [
      "Layer :  4   클러스터 갯수 정해짐!  갯수 :  2 0\n"
     ]
    },
    {
     "name": "stderr",
     "output_type": "stream",
     "text": [
      "<ipython-input-10-506962b8e734>:141: VisibleDeprecationWarning: Creating an ndarray from ragged nested sequences (which is a list-or-tuple of lists-or-tuples-or ndarrays with different lengths or shapes) is deprecated. If you meant to do this, you must specify 'dtype=object' when creating the ndarray\n",
      "  globals()['G{}_c{}_w_layer{}'.format(global_epoch, num_c_w, layer_index)] = globals()['G{}_c{}_w_layer{}'.format(global_epoch, num_c_w, layer_index)] + np.array(globals()['L{}_layer{}_w_c'.format(i,layer_index)])   # 일반 클러스터링\n"
     ]
    },
    {
     "name": "stdout",
     "output_type": "stream",
     "text": [
      "Layer :  6   클러스터 갯수 정해짐!  갯수 :  2 0\n"
     ]
    },
    {
     "name": "stderr",
     "output_type": "stream",
     "text": [
      "<ipython-input-10-506962b8e734>:141: VisibleDeprecationWarning: Creating an ndarray from ragged nested sequences (which is a list-or-tuple of lists-or-tuples-or ndarrays with different lengths or shapes) is deprecated. If you meant to do this, you must specify 'dtype=object' when creating the ndarray\n",
      "  globals()['G{}_c{}_w_layer{}'.format(global_epoch, num_c_w, layer_index)] = globals()['G{}_c{}_w_layer{}'.format(global_epoch, num_c_w, layer_index)] + np.array(globals()['L{}_layer{}_w_c'.format(i,layer_index)])   # 일반 클러스터링\n"
     ]
    },
    {
     "name": "stdout",
     "output_type": "stream",
     "text": [
      "Layer :  7   클러스터 갯수 정해짐!  갯수 :  2 0\n",
      "\n",
      "\n",
      "====================================================== One Global Epoch =====================================================================\n",
      "\n",
      "\n",
      "39  번째 global_epoch 데이터 랜덤하게 준비!!\n"
     ]
    },
    {
     "name": "stderr",
     "output_type": "stream",
     "text": [
      "<ipython-input-10-506962b8e734>:141: VisibleDeprecationWarning: Creating an ndarray from ragged nested sequences (which is a list-or-tuple of lists-or-tuples-or ndarrays with different lengths or shapes) is deprecated. If you meant to do this, you must specify 'dtype=object' when creating the ndarray\n",
      "  globals()['G{}_c{}_w_layer{}'.format(global_epoch, num_c_w, layer_index)] = globals()['G{}_c{}_w_layer{}'.format(global_epoch, num_c_w, layer_index)] + np.array(globals()['L{}_layer{}_w_c'.format(i,layer_index)])   # 일반 클러스터링\n"
     ]
    },
    {
     "name": "stdout",
     "output_type": "stream",
     "text": [
      "39  번째 global_epoch 데이터 랜덤 준비완료!!\n",
      "\n",
      "\n",
      "39  번째 global epoch에서 로컬 클라이언트 들 학습시작!\n",
      "\n",
      "학습 중 ...\n",
      "\n",
      "16/16 - 0s - loss: 0.7018 - accuracy: 0.8920\n",
      "16/16 - 0s - loss: 0.9809 - accuracy: 0.8780\n",
      "16/16 - 1s - loss: 0.4998 - accuracy: 0.9040\n",
      "16/16 - 0s - loss: 0.7414 - accuracy: 0.8660\n",
      "16/16 - 1s - loss: 0.5758 - accuracy: 0.9180\n",
      "16/16 - 0s - loss: 0.7957 - accuracy: 0.8760\n",
      "16/16 - 1s - loss: 0.5764 - accuracy: 0.8960\n",
      "16/16 - 1s - loss: 0.6230 - accuracy: 0.8760\n",
      "16/16 - 0s - loss: 0.7586 - accuracy: 0.8780\n",
      "16/16 - 1s - loss: 0.8081 - accuracy: 0.8860\n",
      "16/16 - 0s - loss: 0.8135 - accuracy: 0.8780\n",
      "16/16 - 1s - loss: 0.7649 - accuracy: 0.8900\n",
      "16/16 - 1s - loss: 0.8796 - accuracy: 0.8900\n",
      "16/16 - 1s - loss: 0.8460 - accuracy: 0.8820\n",
      "16/16 - 0s - loss: 0.6379 - accuracy: 0.9020\n",
      "16/16 - 1s - loss: 0.7226 - accuracy: 0.8780\n",
      "16/16 - 0s - loss: 0.5736 - accuracy: 0.8960\n",
      "16/16 - 1s - loss: 0.7212 - accuracy: 0.8780\n",
      "16/16 - 0s - loss: 0.4914 - accuracy: 0.9120\n",
      "16/16 - 1s - loss: 0.5505 - accuracy: 0.9080\n",
      "------------    39  번째 global epoch < Clustering > 로컬 클라이언트 학습 완료!,  Total Training time :  1914.2179431915283 ---------------------------\n",
      "\n",
      "\n",
      "Layer :  0   클러스터 갯수 정해짐!  갯수 :  7 5\n"
     ]
    },
    {
     "name": "stderr",
     "output_type": "stream",
     "text": [
      "<ipython-input-10-506962b8e734>:141: VisibleDeprecationWarning: Creating an ndarray from ragged nested sequences (which is a list-or-tuple of lists-or-tuples-or ndarrays with different lengths or shapes) is deprecated. If you meant to do this, you must specify 'dtype=object' when creating the ndarray\n",
      "  globals()['G{}_c{}_w_layer{}'.format(global_epoch, num_c_w, layer_index)] = globals()['G{}_c{}_w_layer{}'.format(global_epoch, num_c_w, layer_index)] + np.array(globals()['L{}_layer{}_w_c'.format(i,layer_index)])   # 일반 클러스터링\n"
     ]
    },
    {
     "name": "stdout",
     "output_type": "stream",
     "text": [
      "Layer :  2   클러스터 갯수 정해짐!  갯수 :  2 0\n"
     ]
    },
    {
     "name": "stderr",
     "output_type": "stream",
     "text": [
      "<ipython-input-10-506962b8e734>:141: VisibleDeprecationWarning: Creating an ndarray from ragged nested sequences (which is a list-or-tuple of lists-or-tuples-or ndarrays with different lengths or shapes) is deprecated. If you meant to do this, you must specify 'dtype=object' when creating the ndarray\n",
      "  globals()['G{}_c{}_w_layer{}'.format(global_epoch, num_c_w, layer_index)] = globals()['G{}_c{}_w_layer{}'.format(global_epoch, num_c_w, layer_index)] + np.array(globals()['L{}_layer{}_w_c'.format(i,layer_index)])   # 일반 클러스터링\n"
     ]
    },
    {
     "name": "stdout",
     "output_type": "stream",
     "text": [
      "Layer :  4   클러스터 갯수 정해짐!  갯수 :  2 0\n"
     ]
    },
    {
     "name": "stderr",
     "output_type": "stream",
     "text": [
      "<ipython-input-10-506962b8e734>:141: VisibleDeprecationWarning: Creating an ndarray from ragged nested sequences (which is a list-or-tuple of lists-or-tuples-or ndarrays with different lengths or shapes) is deprecated. If you meant to do this, you must specify 'dtype=object' when creating the ndarray\n",
      "  globals()['G{}_c{}_w_layer{}'.format(global_epoch, num_c_w, layer_index)] = globals()['G{}_c{}_w_layer{}'.format(global_epoch, num_c_w, layer_index)] + np.array(globals()['L{}_layer{}_w_c'.format(i,layer_index)])   # 일반 클러스터링\n"
     ]
    },
    {
     "name": "stdout",
     "output_type": "stream",
     "text": [
      "Layer :  6   클러스터 갯수 정해짐!  갯수 :  2 0\n"
     ]
    },
    {
     "name": "stderr",
     "output_type": "stream",
     "text": [
      "<ipython-input-10-506962b8e734>:141: VisibleDeprecationWarning: Creating an ndarray from ragged nested sequences (which is a list-or-tuple of lists-or-tuples-or ndarrays with different lengths or shapes) is deprecated. If you meant to do this, you must specify 'dtype=object' when creating the ndarray\n",
      "  globals()['G{}_c{}_w_layer{}'.format(global_epoch, num_c_w, layer_index)] = globals()['G{}_c{}_w_layer{}'.format(global_epoch, num_c_w, layer_index)] + np.array(globals()['L{}_layer{}_w_c'.format(i,layer_index)])   # 일반 클러스터링\n"
     ]
    },
    {
     "name": "stdout",
     "output_type": "stream",
     "text": [
      "Layer :  7   클러스터 갯수 정해짐!  갯수 :  2 0\n",
      "\n",
      "\n",
      "====================================================== One Global Epoch =====================================================================\n",
      "\n",
      "\n",
      "40  번째 global_epoch 데이터 랜덤하게 준비!!\n"
     ]
    },
    {
     "name": "stderr",
     "output_type": "stream",
     "text": [
      "<ipython-input-10-506962b8e734>:141: VisibleDeprecationWarning: Creating an ndarray from ragged nested sequences (which is a list-or-tuple of lists-or-tuples-or ndarrays with different lengths or shapes) is deprecated. If you meant to do this, you must specify 'dtype=object' when creating the ndarray\n",
      "  globals()['G{}_c{}_w_layer{}'.format(global_epoch, num_c_w, layer_index)] = globals()['G{}_c{}_w_layer{}'.format(global_epoch, num_c_w, layer_index)] + np.array(globals()['L{}_layer{}_w_c'.format(i,layer_index)])   # 일반 클러스터링\n"
     ]
    },
    {
     "name": "stdout",
     "output_type": "stream",
     "text": [
      "40  번째 global_epoch 데이터 랜덤 준비완료!!\n",
      "\n",
      "\n",
      "40  번째 global epoch에서 로컬 클라이언트 들 학습시작!\n",
      "\n",
      "학습 중 ...\n",
      "\n",
      "16/16 - 0s - loss: 0.5349 - accuracy: 0.8960\n",
      "16/16 - 1s - loss: 0.7832 - accuracy: 0.8900\n",
      "16/16 - 0s - loss: 0.6900 - accuracy: 0.8760\n",
      "16/16 - 1s - loss: 0.5968 - accuracy: 0.8900\n",
      "16/16 - 1s - loss: 0.6041 - accuracy: 0.8900\n",
      "16/16 - 1s - loss: 0.6199 - accuracy: 0.8940\n",
      "16/16 - 0s - loss: 0.7859 - accuracy: 0.8880\n",
      "16/16 - 1s - loss: 0.6027 - accuracy: 0.9080\n",
      "16/16 - 1s - loss: 0.8684 - accuracy: 0.8600\n",
      "16/16 - 0s - loss: 0.6526 - accuracy: 0.9100\n",
      "16/16 - 1s - loss: 0.7918 - accuracy: 0.8860\n",
      "16/16 - 1s - loss: 0.8274 - accuracy: 0.8660\n",
      "16/16 - 1s - loss: 0.7448 - accuracy: 0.8820\n",
      "16/16 - 1s - loss: 0.6585 - accuracy: 0.8980\n",
      "16/16 - 1s - loss: 0.6691 - accuracy: 0.8860\n",
      "16/16 - 1s - loss: 0.8352 - accuracy: 0.8540\n",
      "16/16 - 1s - loss: 0.7964 - accuracy: 0.8800\n",
      "16/16 - 1s - loss: 0.5535 - accuracy: 0.9080\n",
      "16/16 - 1s - loss: 0.7815 - accuracy: 0.8660\n",
      "16/16 - 1s - loss: 0.6082 - accuracy: 0.8860\n",
      "------------    40  번째 global epoch < Clustering > 로컬 클라이언트 학습 완료!,  Total Training time :  2006.4478390216827 ---------------------------\n",
      "\n",
      "\n",
      "Layer :  0   클러스터 갯수 정해짐!  갯수 :  7 5\n"
     ]
    },
    {
     "name": "stderr",
     "output_type": "stream",
     "text": [
      "<ipython-input-10-506962b8e734>:141: VisibleDeprecationWarning: Creating an ndarray from ragged nested sequences (which is a list-or-tuple of lists-or-tuples-or ndarrays with different lengths or shapes) is deprecated. If you meant to do this, you must specify 'dtype=object' when creating the ndarray\n",
      "  globals()['G{}_c{}_w_layer{}'.format(global_epoch, num_c_w, layer_index)] = globals()['G{}_c{}_w_layer{}'.format(global_epoch, num_c_w, layer_index)] + np.array(globals()['L{}_layer{}_w_c'.format(i,layer_index)])   # 일반 클러스터링\n"
     ]
    },
    {
     "name": "stdout",
     "output_type": "stream",
     "text": [
      "Layer :  2   클러스터 갯수 정해짐!  갯수 :  2 0\n"
     ]
    },
    {
     "name": "stderr",
     "output_type": "stream",
     "text": [
      "<ipython-input-10-506962b8e734>:141: VisibleDeprecationWarning: Creating an ndarray from ragged nested sequences (which is a list-or-tuple of lists-or-tuples-or ndarrays with different lengths or shapes) is deprecated. If you meant to do this, you must specify 'dtype=object' when creating the ndarray\n",
      "  globals()['G{}_c{}_w_layer{}'.format(global_epoch, num_c_w, layer_index)] = globals()['G{}_c{}_w_layer{}'.format(global_epoch, num_c_w, layer_index)] + np.array(globals()['L{}_layer{}_w_c'.format(i,layer_index)])   # 일반 클러스터링\n"
     ]
    },
    {
     "name": "stdout",
     "output_type": "stream",
     "text": [
      "Layer :  4   클러스터 갯수 정해짐!  갯수 :  2 0\n"
     ]
    },
    {
     "name": "stderr",
     "output_type": "stream",
     "text": [
      "<ipython-input-10-506962b8e734>:141: VisibleDeprecationWarning: Creating an ndarray from ragged nested sequences (which is a list-or-tuple of lists-or-tuples-or ndarrays with different lengths or shapes) is deprecated. If you meant to do this, you must specify 'dtype=object' when creating the ndarray\n",
      "  globals()['G{}_c{}_w_layer{}'.format(global_epoch, num_c_w, layer_index)] = globals()['G{}_c{}_w_layer{}'.format(global_epoch, num_c_w, layer_index)] + np.array(globals()['L{}_layer{}_w_c'.format(i,layer_index)])   # 일반 클러스터링\n"
     ]
    },
    {
     "name": "stdout",
     "output_type": "stream",
     "text": [
      "Layer :  6   클러스터 갯수 정해짐!  갯수 :  2 0\n"
     ]
    },
    {
     "name": "stderr",
     "output_type": "stream",
     "text": [
      "<ipython-input-10-506962b8e734>:141: VisibleDeprecationWarning: Creating an ndarray from ragged nested sequences (which is a list-or-tuple of lists-or-tuples-or ndarrays with different lengths or shapes) is deprecated. If you meant to do this, you must specify 'dtype=object' when creating the ndarray\n",
      "  globals()['G{}_c{}_w_layer{}'.format(global_epoch, num_c_w, layer_index)] = globals()['G{}_c{}_w_layer{}'.format(global_epoch, num_c_w, layer_index)] + np.array(globals()['L{}_layer{}_w_c'.format(i,layer_index)])   # 일반 클러스터링\n"
     ]
    },
    {
     "name": "stdout",
     "output_type": "stream",
     "text": [
      "Layer :  7   클러스터 갯수 정해짐!  갯수 :  2 0\n",
      "\n",
      "\n",
      "====================================================== One Global Epoch =====================================================================\n",
      "\n",
      "\n",
      "41  번째 global_epoch 데이터 랜덤하게 준비!!\n"
     ]
    },
    {
     "name": "stderr",
     "output_type": "stream",
     "text": [
      "<ipython-input-10-506962b8e734>:141: VisibleDeprecationWarning: Creating an ndarray from ragged nested sequences (which is a list-or-tuple of lists-or-tuples-or ndarrays with different lengths or shapes) is deprecated. If you meant to do this, you must specify 'dtype=object' when creating the ndarray\n",
      "  globals()['G{}_c{}_w_layer{}'.format(global_epoch, num_c_w, layer_index)] = globals()['G{}_c{}_w_layer{}'.format(global_epoch, num_c_w, layer_index)] + np.array(globals()['L{}_layer{}_w_c'.format(i,layer_index)])   # 일반 클러스터링\n"
     ]
    },
    {
     "name": "stdout",
     "output_type": "stream",
     "text": [
      "41  번째 global_epoch 데이터 랜덤 준비완료!!\n",
      "\n",
      "\n",
      "41  번째 global epoch에서 로컬 클라이언트 들 학습시작!\n",
      "\n",
      "학습 중 ...\n",
      "\n",
      "16/16 - 1s - loss: 0.6148 - accuracy: 0.9020\n",
      "16/16 - 1s - loss: 0.7572 - accuracy: 0.8880\n",
      "16/16 - 1s - loss: 0.6079 - accuracy: 0.9040\n",
      "16/16 - 1s - loss: 0.7529 - accuracy: 0.8560\n",
      "16/16 - 1s - loss: 0.5468 - accuracy: 0.9060\n",
      "16/16 - 1s - loss: 0.7880 - accuracy: 0.8620\n",
      "16/16 - 1s - loss: 0.7383 - accuracy: 0.9040\n",
      "16/16 - 1s - loss: 0.7675 - accuracy: 0.8960\n",
      "16/16 - 1s - loss: 0.7958 - accuracy: 0.8920\n",
      "16/16 - 1s - loss: 0.9026 - accuracy: 0.8640\n",
      "16/16 - 1s - loss: 0.6123 - accuracy: 0.9000\n",
      "16/16 - 1s - loss: 0.6224 - accuracy: 0.8800\n",
      "16/16 - 1s - loss: 0.6588 - accuracy: 0.9040\n",
      "16/16 - 1s - loss: 0.6010 - accuracy: 0.8800\n",
      "16/16 - 1s - loss: 0.5973 - accuracy: 0.8800\n",
      "16/16 - 1s - loss: 0.4943 - accuracy: 0.9100\n",
      "16/16 - 1s - loss: 0.6966 - accuracy: 0.8700\n",
      "16/16 - 1s - loss: 1.0631 - accuracy: 0.8780\n",
      "16/16 - 1s - loss: 0.8144 - accuracy: 0.8760\n",
      "16/16 - 1s - loss: 0.8265 - accuracy: 0.8800\n",
      "------------    41  번째 global epoch < Clustering > 로컬 클라이언트 학습 완료!,  Total Training time :  1990.970162153244 ---------------------------\n",
      "\n",
      "\n",
      "Layer :  0   클러스터 갯수 정해짐!  갯수 :  7 5\n"
     ]
    },
    {
     "name": "stderr",
     "output_type": "stream",
     "text": [
      "<ipython-input-10-506962b8e734>:141: VisibleDeprecationWarning: Creating an ndarray from ragged nested sequences (which is a list-or-tuple of lists-or-tuples-or ndarrays with different lengths or shapes) is deprecated. If you meant to do this, you must specify 'dtype=object' when creating the ndarray\n",
      "  globals()['G{}_c{}_w_layer{}'.format(global_epoch, num_c_w, layer_index)] = globals()['G{}_c{}_w_layer{}'.format(global_epoch, num_c_w, layer_index)] + np.array(globals()['L{}_layer{}_w_c'.format(i,layer_index)])   # 일반 클러스터링\n"
     ]
    },
    {
     "name": "stdout",
     "output_type": "stream",
     "text": [
      "Layer :  2   클러스터 갯수 정해짐!  갯수 :  2 0\n"
     ]
    },
    {
     "name": "stderr",
     "output_type": "stream",
     "text": [
      "<ipython-input-10-506962b8e734>:141: VisibleDeprecationWarning: Creating an ndarray from ragged nested sequences (which is a list-or-tuple of lists-or-tuples-or ndarrays with different lengths or shapes) is deprecated. If you meant to do this, you must specify 'dtype=object' when creating the ndarray\n",
      "  globals()['G{}_c{}_w_layer{}'.format(global_epoch, num_c_w, layer_index)] = globals()['G{}_c{}_w_layer{}'.format(global_epoch, num_c_w, layer_index)] + np.array(globals()['L{}_layer{}_w_c'.format(i,layer_index)])   # 일반 클러스터링\n"
     ]
    },
    {
     "name": "stdout",
     "output_type": "stream",
     "text": [
      "Layer :  4   클러스터 갯수 정해짐!  갯수 :  2 0\n"
     ]
    },
    {
     "name": "stderr",
     "output_type": "stream",
     "text": [
      "<ipython-input-10-506962b8e734>:141: VisibleDeprecationWarning: Creating an ndarray from ragged nested sequences (which is a list-or-tuple of lists-or-tuples-or ndarrays with different lengths or shapes) is deprecated. If you meant to do this, you must specify 'dtype=object' when creating the ndarray\n",
      "  globals()['G{}_c{}_w_layer{}'.format(global_epoch, num_c_w, layer_index)] = globals()['G{}_c{}_w_layer{}'.format(global_epoch, num_c_w, layer_index)] + np.array(globals()['L{}_layer{}_w_c'.format(i,layer_index)])   # 일반 클러스터링\n"
     ]
    },
    {
     "name": "stdout",
     "output_type": "stream",
     "text": [
      "Layer :  6   클러스터 갯수 정해짐!  갯수 :  2 0\n"
     ]
    },
    {
     "name": "stderr",
     "output_type": "stream",
     "text": [
      "<ipython-input-10-506962b8e734>:141: VisibleDeprecationWarning: Creating an ndarray from ragged nested sequences (which is a list-or-tuple of lists-or-tuples-or ndarrays with different lengths or shapes) is deprecated. If you meant to do this, you must specify 'dtype=object' when creating the ndarray\n",
      "  globals()['G{}_c{}_w_layer{}'.format(global_epoch, num_c_w, layer_index)] = globals()['G{}_c{}_w_layer{}'.format(global_epoch, num_c_w, layer_index)] + np.array(globals()['L{}_layer{}_w_c'.format(i,layer_index)])   # 일반 클러스터링\n"
     ]
    },
    {
     "name": "stdout",
     "output_type": "stream",
     "text": [
      "Layer :  7   클러스터 갯수 정해짐!  갯수 :  2 0\n",
      "\n",
      "\n",
      "====================================================== One Global Epoch =====================================================================\n",
      "\n",
      "\n",
      "42  번째 global_epoch 데이터 랜덤하게 준비!!\n"
     ]
    },
    {
     "name": "stderr",
     "output_type": "stream",
     "text": [
      "<ipython-input-10-506962b8e734>:141: VisibleDeprecationWarning: Creating an ndarray from ragged nested sequences (which is a list-or-tuple of lists-or-tuples-or ndarrays with different lengths or shapes) is deprecated. If you meant to do this, you must specify 'dtype=object' when creating the ndarray\n",
      "  globals()['G{}_c{}_w_layer{}'.format(global_epoch, num_c_w, layer_index)] = globals()['G{}_c{}_w_layer{}'.format(global_epoch, num_c_w, layer_index)] + np.array(globals()['L{}_layer{}_w_c'.format(i,layer_index)])   # 일반 클러스터링\n"
     ]
    },
    {
     "name": "stdout",
     "output_type": "stream",
     "text": [
      "42  번째 global_epoch 데이터 랜덤 준비완료!!\n",
      "\n",
      "\n",
      "42  번째 global epoch에서 로컬 클라이언트 들 학습시작!\n",
      "\n",
      "학습 중 ...\n",
      "\n",
      "16/16 - 1s - loss: 0.6887 - accuracy: 0.9040\n",
      "16/16 - 1s - loss: 0.8685 - accuracy: 0.8700\n",
      "16/16 - 1s - loss: 0.7732 - accuracy: 0.8740\n",
      "16/16 - 1s - loss: 0.6789 - accuracy: 0.9000\n",
      "16/16 - 1s - loss: 0.6791 - accuracy: 0.8860\n",
      "16/16 - 1s - loss: 0.5889 - accuracy: 0.9100\n",
      "16/16 - 1s - loss: 0.7488 - accuracy: 0.9020\n",
      "16/16 - 1s - loss: 0.8423 - accuracy: 0.8780\n",
      "16/16 - 1s - loss: 0.6677 - accuracy: 0.9040\n",
      "16/16 - 1s - loss: 0.6625 - accuracy: 0.9100\n",
      "16/16 - 1s - loss: 0.5499 - accuracy: 0.9140\n",
      "16/16 - 1s - loss: 0.5140 - accuracy: 0.8860\n",
      "16/16 - 1s - loss: 0.6622 - accuracy: 0.8840\n",
      "16/16 - 1s - loss: 0.6996 - accuracy: 0.8860\n",
      "16/16 - 0s - loss: 0.9048 - accuracy: 0.8720\n",
      "16/16 - 1s - loss: 0.5802 - accuracy: 0.8900\n",
      "16/16 - 1s - loss: 0.9108 - accuracy: 0.8580\n",
      "16/16 - 1s - loss: 0.6559 - accuracy: 0.8960\n",
      "16/16 - 1s - loss: 0.5475 - accuracy: 0.9180\n",
      "16/16 - 1s - loss: 0.9185 - accuracy: 0.8840\n",
      "------------    42  번째 global epoch < Clustering > 로컬 클라이언트 학습 완료!,  Total Training time :  1943.3045949935913 ---------------------------\n",
      "\n",
      "\n",
      "Layer :  0   클러스터 갯수 정해짐!  갯수 :  7 5\n"
     ]
    },
    {
     "name": "stderr",
     "output_type": "stream",
     "text": [
      "<ipython-input-10-506962b8e734>:141: VisibleDeprecationWarning: Creating an ndarray from ragged nested sequences (which is a list-or-tuple of lists-or-tuples-or ndarrays with different lengths or shapes) is deprecated. If you meant to do this, you must specify 'dtype=object' when creating the ndarray\n",
      "  globals()['G{}_c{}_w_layer{}'.format(global_epoch, num_c_w, layer_index)] = globals()['G{}_c{}_w_layer{}'.format(global_epoch, num_c_w, layer_index)] + np.array(globals()['L{}_layer{}_w_c'.format(i,layer_index)])   # 일반 클러스터링\n"
     ]
    },
    {
     "name": "stdout",
     "output_type": "stream",
     "text": [
      "Layer :  2   클러스터 갯수 정해짐!  갯수 :  2 0\n"
     ]
    },
    {
     "name": "stderr",
     "output_type": "stream",
     "text": [
      "<ipython-input-10-506962b8e734>:141: VisibleDeprecationWarning: Creating an ndarray from ragged nested sequences (which is a list-or-tuple of lists-or-tuples-or ndarrays with different lengths or shapes) is deprecated. If you meant to do this, you must specify 'dtype=object' when creating the ndarray\n",
      "  globals()['G{}_c{}_w_layer{}'.format(global_epoch, num_c_w, layer_index)] = globals()['G{}_c{}_w_layer{}'.format(global_epoch, num_c_w, layer_index)] + np.array(globals()['L{}_layer{}_w_c'.format(i,layer_index)])   # 일반 클러스터링\n"
     ]
    },
    {
     "name": "stdout",
     "output_type": "stream",
     "text": [
      "Layer :  4   클러스터 갯수 정해짐!  갯수 :  2 0\n"
     ]
    },
    {
     "name": "stderr",
     "output_type": "stream",
     "text": [
      "<ipython-input-10-506962b8e734>:141: VisibleDeprecationWarning: Creating an ndarray from ragged nested sequences (which is a list-or-tuple of lists-or-tuples-or ndarrays with different lengths or shapes) is deprecated. If you meant to do this, you must specify 'dtype=object' when creating the ndarray\n",
      "  globals()['G{}_c{}_w_layer{}'.format(global_epoch, num_c_w, layer_index)] = globals()['G{}_c{}_w_layer{}'.format(global_epoch, num_c_w, layer_index)] + np.array(globals()['L{}_layer{}_w_c'.format(i,layer_index)])   # 일반 클러스터링\n"
     ]
    },
    {
     "name": "stdout",
     "output_type": "stream",
     "text": [
      "Layer :  6   클러스터 갯수 정해짐!  갯수 :  2 0\n"
     ]
    },
    {
     "name": "stderr",
     "output_type": "stream",
     "text": [
      "<ipython-input-10-506962b8e734>:141: VisibleDeprecationWarning: Creating an ndarray from ragged nested sequences (which is a list-or-tuple of lists-or-tuples-or ndarrays with different lengths or shapes) is deprecated. If you meant to do this, you must specify 'dtype=object' when creating the ndarray\n",
      "  globals()['G{}_c{}_w_layer{}'.format(global_epoch, num_c_w, layer_index)] = globals()['G{}_c{}_w_layer{}'.format(global_epoch, num_c_w, layer_index)] + np.array(globals()['L{}_layer{}_w_c'.format(i,layer_index)])   # 일반 클러스터링\n"
     ]
    },
    {
     "name": "stdout",
     "output_type": "stream",
     "text": [
      "Layer :  7   클러스터 갯수 정해짐!  갯수 :  2 0\n",
      "\n",
      "\n",
      "====================================================== One Global Epoch =====================================================================\n",
      "\n",
      "\n",
      "43  번째 global_epoch 데이터 랜덤하게 준비!!\n"
     ]
    },
    {
     "name": "stderr",
     "output_type": "stream",
     "text": [
      "<ipython-input-10-506962b8e734>:141: VisibleDeprecationWarning: Creating an ndarray from ragged nested sequences (which is a list-or-tuple of lists-or-tuples-or ndarrays with different lengths or shapes) is deprecated. If you meant to do this, you must specify 'dtype=object' when creating the ndarray\n",
      "  globals()['G{}_c{}_w_layer{}'.format(global_epoch, num_c_w, layer_index)] = globals()['G{}_c{}_w_layer{}'.format(global_epoch, num_c_w, layer_index)] + np.array(globals()['L{}_layer{}_w_c'.format(i,layer_index)])   # 일반 클러스터링\n"
     ]
    },
    {
     "name": "stdout",
     "output_type": "stream",
     "text": [
      "43  번째 global_epoch 데이터 랜덤 준비완료!!\n",
      "\n",
      "\n",
      "43  번째 global epoch에서 로컬 클라이언트 들 학습시작!\n",
      "\n",
      "학습 중 ...\n",
      "\n",
      "16/16 - 1s - loss: 0.7808 - accuracy: 0.8740\n",
      "16/16 - 1s - loss: 0.7278 - accuracy: 0.8840\n",
      "16/16 - 1s - loss: 0.6454 - accuracy: 0.8920\n",
      "16/16 - 1s - loss: 0.6947 - accuracy: 0.8840\n",
      "16/16 - 1s - loss: 0.5888 - accuracy: 0.9020\n",
      "16/16 - 1s - loss: 0.7848 - accuracy: 0.8860\n",
      "16/16 - 1s - loss: 0.6349 - accuracy: 0.8860\n",
      "16/16 - 1s - loss: 0.6847 - accuracy: 0.9040\n",
      "16/16 - 1s - loss: 0.6490 - accuracy: 0.8940\n",
      "16/16 - 1s - loss: 0.5485 - accuracy: 0.8920\n",
      "16/16 - 1s - loss: 0.8853 - accuracy: 0.8760\n",
      "16/16 - 1s - loss: 0.6216 - accuracy: 0.9020\n",
      "16/16 - 1s - loss: 0.8820 - accuracy: 0.8760\n",
      "16/16 - 1s - loss: 0.8117 - accuracy: 0.8740\n",
      "16/16 - 1s - loss: 0.8003 - accuracy: 0.8700\n",
      "16/16 - 1s - loss: 0.7047 - accuracy: 0.8720\n",
      "16/16 - 1s - loss: 0.8435 - accuracy: 0.8700\n",
      "16/16 - 1s - loss: 0.8531 - accuracy: 0.8940\n",
      "16/16 - 1s - loss: 0.6712 - accuracy: 0.9000\n",
      "16/16 - 1s - loss: 0.6003 - accuracy: 0.8960\n",
      "------------    43  번째 global epoch < Clustering > 로컬 클라이언트 학습 완료!,  Total Training time :  2018.484103679657 ---------------------------\n",
      "\n",
      "\n",
      "Layer :  0   클러스터 갯수 정해짐!  갯수 :  7 5\n"
     ]
    },
    {
     "name": "stderr",
     "output_type": "stream",
     "text": [
      "<ipython-input-10-506962b8e734>:141: VisibleDeprecationWarning: Creating an ndarray from ragged nested sequences (which is a list-or-tuple of lists-or-tuples-or ndarrays with different lengths or shapes) is deprecated. If you meant to do this, you must specify 'dtype=object' when creating the ndarray\n",
      "  globals()['G{}_c{}_w_layer{}'.format(global_epoch, num_c_w, layer_index)] = globals()['G{}_c{}_w_layer{}'.format(global_epoch, num_c_w, layer_index)] + np.array(globals()['L{}_layer{}_w_c'.format(i,layer_index)])   # 일반 클러스터링\n"
     ]
    },
    {
     "name": "stdout",
     "output_type": "stream",
     "text": [
      "Layer :  2   클러스터 갯수 정해짐!  갯수 :  2 0\n"
     ]
    },
    {
     "name": "stderr",
     "output_type": "stream",
     "text": [
      "<ipython-input-10-506962b8e734>:141: VisibleDeprecationWarning: Creating an ndarray from ragged nested sequences (which is a list-or-tuple of lists-or-tuples-or ndarrays with different lengths or shapes) is deprecated. If you meant to do this, you must specify 'dtype=object' when creating the ndarray\n",
      "  globals()['G{}_c{}_w_layer{}'.format(global_epoch, num_c_w, layer_index)] = globals()['G{}_c{}_w_layer{}'.format(global_epoch, num_c_w, layer_index)] + np.array(globals()['L{}_layer{}_w_c'.format(i,layer_index)])   # 일반 클러스터링\n"
     ]
    },
    {
     "name": "stdout",
     "output_type": "stream",
     "text": [
      "Layer :  4   클러스터 갯수 정해짐!  갯수 :  2 0\n"
     ]
    },
    {
     "name": "stderr",
     "output_type": "stream",
     "text": [
      "<ipython-input-10-506962b8e734>:141: VisibleDeprecationWarning: Creating an ndarray from ragged nested sequences (which is a list-or-tuple of lists-or-tuples-or ndarrays with different lengths or shapes) is deprecated. If you meant to do this, you must specify 'dtype=object' when creating the ndarray\n",
      "  globals()['G{}_c{}_w_layer{}'.format(global_epoch, num_c_w, layer_index)] = globals()['G{}_c{}_w_layer{}'.format(global_epoch, num_c_w, layer_index)] + np.array(globals()['L{}_layer{}_w_c'.format(i,layer_index)])   # 일반 클러스터링\n"
     ]
    },
    {
     "name": "stdout",
     "output_type": "stream",
     "text": [
      "Layer :  6   클러스터 갯수 정해짐!  갯수 :  2 0\n"
     ]
    },
    {
     "name": "stderr",
     "output_type": "stream",
     "text": [
      "<ipython-input-10-506962b8e734>:141: VisibleDeprecationWarning: Creating an ndarray from ragged nested sequences (which is a list-or-tuple of lists-or-tuples-or ndarrays with different lengths or shapes) is deprecated. If you meant to do this, you must specify 'dtype=object' when creating the ndarray\n",
      "  globals()['G{}_c{}_w_layer{}'.format(global_epoch, num_c_w, layer_index)] = globals()['G{}_c{}_w_layer{}'.format(global_epoch, num_c_w, layer_index)] + np.array(globals()['L{}_layer{}_w_c'.format(i,layer_index)])   # 일반 클러스터링\n"
     ]
    },
    {
     "name": "stdout",
     "output_type": "stream",
     "text": [
      "Layer :  7   클러스터 갯수 정해짐!  갯수 :  2 0\n",
      "\n",
      "\n",
      "====================================================== One Global Epoch =====================================================================\n",
      "\n",
      "\n"
     ]
    },
    {
     "name": "stderr",
     "output_type": "stream",
     "text": [
      "<ipython-input-10-506962b8e734>:141: VisibleDeprecationWarning: Creating an ndarray from ragged nested sequences (which is a list-or-tuple of lists-or-tuples-or ndarrays with different lengths or shapes) is deprecated. If you meant to do this, you must specify 'dtype=object' when creating the ndarray\n",
      "  globals()['G{}_c{}_w_layer{}'.format(global_epoch, num_c_w, layer_index)] = globals()['G{}_c{}_w_layer{}'.format(global_epoch, num_c_w, layer_index)] + np.array(globals()['L{}_layer{}_w_c'.format(i,layer_index)])   # 일반 클러스터링\n"
     ]
    },
    {
     "name": "stdout",
     "output_type": "stream",
     "text": [
      "44  번째 global_epoch 데이터 랜덤하게 준비!!\n",
      "44  번째 global_epoch 데이터 랜덤 준비완료!!\n",
      "\n",
      "\n",
      "44  번째 global epoch에서 로컬 클라이언트 들 학습시작!\n",
      "\n",
      "학습 중 ...\n",
      "\n",
      "16/16 - 1s - loss: 0.6433 - accuracy: 0.9020\n",
      "16/16 - 1s - loss: 0.6184 - accuracy: 0.8920\n",
      "16/16 - 1s - loss: 0.4864 - accuracy: 0.9040\n",
      "16/16 - 1s - loss: 0.6044 - accuracy: 0.9040\n",
      "16/16 - 1s - loss: 0.7541 - accuracy: 0.9000\n",
      "16/16 - 1s - loss: 0.6776 - accuracy: 0.9080\n",
      "16/16 - 1s - loss: 0.6838 - accuracy: 0.8960\n",
      "16/16 - 1s - loss: 0.5124 - accuracy: 0.9240\n",
      "16/16 - 1s - loss: 0.6911 - accuracy: 0.9100\n",
      "16/16 - 1s - loss: 0.6863 - accuracy: 0.8860\n",
      "16/16 - 1s - loss: 0.6996 - accuracy: 0.8960\n",
      "16/16 - 1s - loss: 0.8468 - accuracy: 0.8940\n",
      "16/16 - 1s - loss: 0.6269 - accuracy: 0.8840\n",
      "16/16 - 1s - loss: 0.7430 - accuracy: 0.9000\n",
      "16/16 - 1s - loss: 0.7792 - accuracy: 0.8980\n",
      "16/16 - 1s - loss: 0.6764 - accuracy: 0.8760\n",
      "16/16 - 1s - loss: 0.7186 - accuracy: 0.8580\n",
      "16/16 - 1s - loss: 0.6744 - accuracy: 0.8980\n",
      "16/16 - 1s - loss: 0.5850 - accuracy: 0.8800\n",
      "16/16 - 1s - loss: 0.5912 - accuracy: 0.8900\n",
      "------------    44  번째 global epoch < Clustering > 로컬 클라이언트 학습 완료!,  Total Training time :  2036.6128301620483 ---------------------------\n",
      "\n",
      "\n",
      "Layer :  0   클러스터 갯수 정해짐!  갯수 :  7 5\n"
     ]
    },
    {
     "name": "stderr",
     "output_type": "stream",
     "text": [
      "<ipython-input-10-506962b8e734>:141: VisibleDeprecationWarning: Creating an ndarray from ragged nested sequences (which is a list-or-tuple of lists-or-tuples-or ndarrays with different lengths or shapes) is deprecated. If you meant to do this, you must specify 'dtype=object' when creating the ndarray\n",
      "  globals()['G{}_c{}_w_layer{}'.format(global_epoch, num_c_w, layer_index)] = globals()['G{}_c{}_w_layer{}'.format(global_epoch, num_c_w, layer_index)] + np.array(globals()['L{}_layer{}_w_c'.format(i,layer_index)])   # 일반 클러스터링\n"
     ]
    },
    {
     "name": "stdout",
     "output_type": "stream",
     "text": [
      "Layer :  2   클러스터 갯수 정해짐!  갯수 :  2 0\n"
     ]
    },
    {
     "name": "stderr",
     "output_type": "stream",
     "text": [
      "<ipython-input-10-506962b8e734>:141: VisibleDeprecationWarning: Creating an ndarray from ragged nested sequences (which is a list-or-tuple of lists-or-tuples-or ndarrays with different lengths or shapes) is deprecated. If you meant to do this, you must specify 'dtype=object' when creating the ndarray\n",
      "  globals()['G{}_c{}_w_layer{}'.format(global_epoch, num_c_w, layer_index)] = globals()['G{}_c{}_w_layer{}'.format(global_epoch, num_c_w, layer_index)] + np.array(globals()['L{}_layer{}_w_c'.format(i,layer_index)])   # 일반 클러스터링\n"
     ]
    },
    {
     "name": "stdout",
     "output_type": "stream",
     "text": [
      "Layer :  4   클러스터 갯수 정해짐!  갯수 :  2 0\n"
     ]
    },
    {
     "name": "stderr",
     "output_type": "stream",
     "text": [
      "<ipython-input-10-506962b8e734>:141: VisibleDeprecationWarning: Creating an ndarray from ragged nested sequences (which is a list-or-tuple of lists-or-tuples-or ndarrays with different lengths or shapes) is deprecated. If you meant to do this, you must specify 'dtype=object' when creating the ndarray\n",
      "  globals()['G{}_c{}_w_layer{}'.format(global_epoch, num_c_w, layer_index)] = globals()['G{}_c{}_w_layer{}'.format(global_epoch, num_c_w, layer_index)] + np.array(globals()['L{}_layer{}_w_c'.format(i,layer_index)])   # 일반 클러스터링\n"
     ]
    },
    {
     "name": "stdout",
     "output_type": "stream",
     "text": [
      "Layer :  6   클러스터 갯수 정해짐!  갯수 :  2 0\n"
     ]
    },
    {
     "name": "stderr",
     "output_type": "stream",
     "text": [
      "<ipython-input-10-506962b8e734>:141: VisibleDeprecationWarning: Creating an ndarray from ragged nested sequences (which is a list-or-tuple of lists-or-tuples-or ndarrays with different lengths or shapes) is deprecated. If you meant to do this, you must specify 'dtype=object' when creating the ndarray\n",
      "  globals()['G{}_c{}_w_layer{}'.format(global_epoch, num_c_w, layer_index)] = globals()['G{}_c{}_w_layer{}'.format(global_epoch, num_c_w, layer_index)] + np.array(globals()['L{}_layer{}_w_c'.format(i,layer_index)])   # 일반 클러스터링\n"
     ]
    },
    {
     "name": "stdout",
     "output_type": "stream",
     "text": [
      "Layer :  7   클러스터 갯수 정해짐!  갯수 :  2 0\n",
      "\n",
      "\n",
      "====================================================== One Global Epoch =====================================================================\n",
      "\n",
      "\n",
      "45  번째 global_epoch 데이터 랜덤하게 준비!!\n"
     ]
    },
    {
     "name": "stderr",
     "output_type": "stream",
     "text": [
      "<ipython-input-10-506962b8e734>:141: VisibleDeprecationWarning: Creating an ndarray from ragged nested sequences (which is a list-or-tuple of lists-or-tuples-or ndarrays with different lengths or shapes) is deprecated. If you meant to do this, you must specify 'dtype=object' when creating the ndarray\n",
      "  globals()['G{}_c{}_w_layer{}'.format(global_epoch, num_c_w, layer_index)] = globals()['G{}_c{}_w_layer{}'.format(global_epoch, num_c_w, layer_index)] + np.array(globals()['L{}_layer{}_w_c'.format(i,layer_index)])   # 일반 클러스터링\n"
     ]
    },
    {
     "name": "stdout",
     "output_type": "stream",
     "text": [
      "45  번째 global_epoch 데이터 랜덤 준비완료!!\n",
      "\n",
      "\n",
      "45  번째 global epoch에서 로컬 클라이언트 들 학습시작!\n",
      "\n",
      "학습 중 ...\n",
      "\n",
      "16/16 - 1s - loss: 0.5011 - accuracy: 0.9120\n",
      "16/16 - 1s - loss: 0.7950 - accuracy: 0.8740\n",
      "16/16 - 1s - loss: 0.6533 - accuracy: 0.8780\n",
      "16/16 - 1s - loss: 0.7025 - accuracy: 0.8900\n",
      "16/16 - 1s - loss: 0.9977 - accuracy: 0.8780\n",
      "16/16 - 1s - loss: 0.6461 - accuracy: 0.9060\n",
      "16/16 - 1s - loss: 0.6755 - accuracy: 0.8840\n",
      "16/16 - 1s - loss: 0.9422 - accuracy: 0.8600\n",
      "16/16 - 1s - loss: 0.8634 - accuracy: 0.8780\n",
      "16/16 - 1s - loss: 0.4646 - accuracy: 0.8940\n",
      "16/16 - 1s - loss: 0.7853 - accuracy: 0.8840\n",
      "16/16 - 1s - loss: 0.8435 - accuracy: 0.8640\n",
      "16/16 - 1s - loss: 0.6851 - accuracy: 0.8980\n",
      "16/16 - 1s - loss: 0.6186 - accuracy: 0.8980\n",
      "16/16 - 1s - loss: 0.6676 - accuracy: 0.9040\n",
      "16/16 - 1s - loss: 0.6440 - accuracy: 0.8760\n",
      "16/16 - 1s - loss: 0.6555 - accuracy: 0.8760\n",
      "16/16 - 1s - loss: 0.7584 - accuracy: 0.8920\n",
      "16/16 - 1s - loss: 0.6118 - accuracy: 0.8860\n",
      "16/16 - 1s - loss: 0.8333 - accuracy: 0.8920\n",
      "------------    45  번째 global epoch < Clustering > 로컬 클라이언트 학습 완료!,  Total Training time :  2008.8193049430847 ---------------------------\n",
      "\n",
      "\n",
      "Layer :  0   클러스터 갯수 정해짐!  갯수 :  7 5\n"
     ]
    },
    {
     "name": "stderr",
     "output_type": "stream",
     "text": [
      "<ipython-input-10-506962b8e734>:141: VisibleDeprecationWarning: Creating an ndarray from ragged nested sequences (which is a list-or-tuple of lists-or-tuples-or ndarrays with different lengths or shapes) is deprecated. If you meant to do this, you must specify 'dtype=object' when creating the ndarray\n",
      "  globals()['G{}_c{}_w_layer{}'.format(global_epoch, num_c_w, layer_index)] = globals()['G{}_c{}_w_layer{}'.format(global_epoch, num_c_w, layer_index)] + np.array(globals()['L{}_layer{}_w_c'.format(i,layer_index)])   # 일반 클러스터링\n"
     ]
    },
    {
     "name": "stdout",
     "output_type": "stream",
     "text": [
      "Layer :  2   클러스터 갯수 정해짐!  갯수 :  2 0\n"
     ]
    },
    {
     "name": "stderr",
     "output_type": "stream",
     "text": [
      "<ipython-input-10-506962b8e734>:141: VisibleDeprecationWarning: Creating an ndarray from ragged nested sequences (which is a list-or-tuple of lists-or-tuples-or ndarrays with different lengths or shapes) is deprecated. If you meant to do this, you must specify 'dtype=object' when creating the ndarray\n",
      "  globals()['G{}_c{}_w_layer{}'.format(global_epoch, num_c_w, layer_index)] = globals()['G{}_c{}_w_layer{}'.format(global_epoch, num_c_w, layer_index)] + np.array(globals()['L{}_layer{}_w_c'.format(i,layer_index)])   # 일반 클러스터링\n"
     ]
    },
    {
     "name": "stdout",
     "output_type": "stream",
     "text": [
      "Layer :  4   클러스터 갯수 정해짐!  갯수 :  2 0\n"
     ]
    },
    {
     "name": "stderr",
     "output_type": "stream",
     "text": [
      "<ipython-input-10-506962b8e734>:141: VisibleDeprecationWarning: Creating an ndarray from ragged nested sequences (which is a list-or-tuple of lists-or-tuples-or ndarrays with different lengths or shapes) is deprecated. If you meant to do this, you must specify 'dtype=object' when creating the ndarray\n",
      "  globals()['G{}_c{}_w_layer{}'.format(global_epoch, num_c_w, layer_index)] = globals()['G{}_c{}_w_layer{}'.format(global_epoch, num_c_w, layer_index)] + np.array(globals()['L{}_layer{}_w_c'.format(i,layer_index)])   # 일반 클러스터링\n"
     ]
    },
    {
     "name": "stdout",
     "output_type": "stream",
     "text": [
      "Layer :  6   클러스터 갯수 정해짐!  갯수 :  2 0\n"
     ]
    },
    {
     "name": "stderr",
     "output_type": "stream",
     "text": [
      "<ipython-input-10-506962b8e734>:141: VisibleDeprecationWarning: Creating an ndarray from ragged nested sequences (which is a list-or-tuple of lists-or-tuples-or ndarrays with different lengths or shapes) is deprecated. If you meant to do this, you must specify 'dtype=object' when creating the ndarray\n",
      "  globals()['G{}_c{}_w_layer{}'.format(global_epoch, num_c_w, layer_index)] = globals()['G{}_c{}_w_layer{}'.format(global_epoch, num_c_w, layer_index)] + np.array(globals()['L{}_layer{}_w_c'.format(i,layer_index)])   # 일반 클러스터링\n"
     ]
    },
    {
     "name": "stdout",
     "output_type": "stream",
     "text": [
      "Layer :  7   클러스터 갯수 정해짐!  갯수 :  2 0\n",
      "\n",
      "\n",
      "====================================================== One Global Epoch =====================================================================\n",
      "\n",
      "\n",
      "46  번째 global_epoch 데이터 랜덤하게 준비!!\n"
     ]
    },
    {
     "name": "stderr",
     "output_type": "stream",
     "text": [
      "<ipython-input-10-506962b8e734>:141: VisibleDeprecationWarning: Creating an ndarray from ragged nested sequences (which is a list-or-tuple of lists-or-tuples-or ndarrays with different lengths or shapes) is deprecated. If you meant to do this, you must specify 'dtype=object' when creating the ndarray\n",
      "  globals()['G{}_c{}_w_layer{}'.format(global_epoch, num_c_w, layer_index)] = globals()['G{}_c{}_w_layer{}'.format(global_epoch, num_c_w, layer_index)] + np.array(globals()['L{}_layer{}_w_c'.format(i,layer_index)])   # 일반 클러스터링\n"
     ]
    },
    {
     "name": "stdout",
     "output_type": "stream",
     "text": [
      "46  번째 global_epoch 데이터 랜덤 준비완료!!\n",
      "\n",
      "\n",
      "46  번째 global epoch에서 로컬 클라이언트 들 학습시작!\n",
      "\n",
      "학습 중 ...\n",
      "\n",
      "16/16 - 1s - loss: 0.6700 - accuracy: 0.8880\n",
      "16/16 - 1s - loss: 0.7435 - accuracy: 0.8960\n",
      "16/16 - 1s - loss: 0.6483 - accuracy: 0.8740\n",
      "16/16 - 1s - loss: 0.5874 - accuracy: 0.8820\n",
      "16/16 - 1s - loss: 0.8766 - accuracy: 0.8780\n",
      "16/16 - 1s - loss: 0.8468 - accuracy: 0.8900\n",
      "16/16 - 1s - loss: 0.4238 - accuracy: 0.9260\n",
      "16/16 - 1s - loss: 0.5743 - accuracy: 0.9080\n",
      "16/16 - 1s - loss: 0.7698 - accuracy: 0.8820\n",
      "16/16 - 1s - loss: 0.8100 - accuracy: 0.8680\n",
      "16/16 - 1s - loss: 0.7841 - accuracy: 0.8800\n",
      "16/16 - 1s - loss: 0.4797 - accuracy: 0.8940\n",
      "16/16 - 1s - loss: 0.7486 - accuracy: 0.8680\n",
      "16/16 - 1s - loss: 0.6150 - accuracy: 0.8960\n",
      "16/16 - 1s - loss: 0.8631 - accuracy: 0.8920\n",
      "16/16 - 1s - loss: 0.6624 - accuracy: 0.8980\n",
      "16/16 - 1s - loss: 0.7893 - accuracy: 0.8800\n",
      "16/16 - 1s - loss: 0.7151 - accuracy: 0.8760\n",
      "16/16 - 1s - loss: 0.4890 - accuracy: 0.8900\n",
      "16/16 - 1s - loss: 0.6840 - accuracy: 0.8940\n",
      "------------    46  번째 global epoch < Clustering > 로컬 클라이언트 학습 완료!,  Total Training time :  2073.133463382721 ---------------------------\n",
      "\n",
      "\n",
      "Layer :  0   클러스터 갯수 정해짐!  갯수 :  7 5\n"
     ]
    },
    {
     "name": "stderr",
     "output_type": "stream",
     "text": [
      "<ipython-input-10-506962b8e734>:141: VisibleDeprecationWarning: Creating an ndarray from ragged nested sequences (which is a list-or-tuple of lists-or-tuples-or ndarrays with different lengths or shapes) is deprecated. If you meant to do this, you must specify 'dtype=object' when creating the ndarray\n",
      "  globals()['G{}_c{}_w_layer{}'.format(global_epoch, num_c_w, layer_index)] = globals()['G{}_c{}_w_layer{}'.format(global_epoch, num_c_w, layer_index)] + np.array(globals()['L{}_layer{}_w_c'.format(i,layer_index)])   # 일반 클러스터링\n"
     ]
    },
    {
     "name": "stdout",
     "output_type": "stream",
     "text": [
      "Layer :  2   클러스터 갯수 정해짐!  갯수 :  2 0\n"
     ]
    },
    {
     "name": "stderr",
     "output_type": "stream",
     "text": [
      "<ipython-input-10-506962b8e734>:141: VisibleDeprecationWarning: Creating an ndarray from ragged nested sequences (which is a list-or-tuple of lists-or-tuples-or ndarrays with different lengths or shapes) is deprecated. If you meant to do this, you must specify 'dtype=object' when creating the ndarray\n",
      "  globals()['G{}_c{}_w_layer{}'.format(global_epoch, num_c_w, layer_index)] = globals()['G{}_c{}_w_layer{}'.format(global_epoch, num_c_w, layer_index)] + np.array(globals()['L{}_layer{}_w_c'.format(i,layer_index)])   # 일반 클러스터링\n"
     ]
    },
    {
     "name": "stdout",
     "output_type": "stream",
     "text": [
      "Layer :  4   클러스터 갯수 정해짐!  갯수 :  2 0\n"
     ]
    },
    {
     "name": "stderr",
     "output_type": "stream",
     "text": [
      "<ipython-input-10-506962b8e734>:141: VisibleDeprecationWarning: Creating an ndarray from ragged nested sequences (which is a list-or-tuple of lists-or-tuples-or ndarrays with different lengths or shapes) is deprecated. If you meant to do this, you must specify 'dtype=object' when creating the ndarray\n",
      "  globals()['G{}_c{}_w_layer{}'.format(global_epoch, num_c_w, layer_index)] = globals()['G{}_c{}_w_layer{}'.format(global_epoch, num_c_w, layer_index)] + np.array(globals()['L{}_layer{}_w_c'.format(i,layer_index)])   # 일반 클러스터링\n"
     ]
    },
    {
     "name": "stdout",
     "output_type": "stream",
     "text": [
      "Layer :  6   클러스터 갯수 정해짐!  갯수 :  2 0\n"
     ]
    },
    {
     "name": "stderr",
     "output_type": "stream",
     "text": [
      "<ipython-input-10-506962b8e734>:141: VisibleDeprecationWarning: Creating an ndarray from ragged nested sequences (which is a list-or-tuple of lists-or-tuples-or ndarrays with different lengths or shapes) is deprecated. If you meant to do this, you must specify 'dtype=object' when creating the ndarray\n",
      "  globals()['G{}_c{}_w_layer{}'.format(global_epoch, num_c_w, layer_index)] = globals()['G{}_c{}_w_layer{}'.format(global_epoch, num_c_w, layer_index)] + np.array(globals()['L{}_layer{}_w_c'.format(i,layer_index)])   # 일반 클러스터링\n"
     ]
    },
    {
     "name": "stdout",
     "output_type": "stream",
     "text": [
      "Layer :  7   클러스터 갯수 정해짐!  갯수 :  2 0\n",
      "\n",
      "\n",
      "====================================================== One Global Epoch =====================================================================\n",
      "\n",
      "\n",
      "47  번째 global_epoch 데이터 랜덤하게 준비!!\n"
     ]
    },
    {
     "name": "stderr",
     "output_type": "stream",
     "text": [
      "<ipython-input-10-506962b8e734>:141: VisibleDeprecationWarning: Creating an ndarray from ragged nested sequences (which is a list-or-tuple of lists-or-tuples-or ndarrays with different lengths or shapes) is deprecated. If you meant to do this, you must specify 'dtype=object' when creating the ndarray\n",
      "  globals()['G{}_c{}_w_layer{}'.format(global_epoch, num_c_w, layer_index)] = globals()['G{}_c{}_w_layer{}'.format(global_epoch, num_c_w, layer_index)] + np.array(globals()['L{}_layer{}_w_c'.format(i,layer_index)])   # 일반 클러스터링\n"
     ]
    },
    {
     "name": "stdout",
     "output_type": "stream",
     "text": [
      "47  번째 global_epoch 데이터 랜덤 준비완료!!\n",
      "\n",
      "\n",
      "47  번째 global epoch에서 로컬 클라이언트 들 학습시작!\n",
      "\n",
      "학습 중 ...\n",
      "\n",
      "16/16 - 1s - loss: 0.6840 - accuracy: 0.8880\n",
      "16/16 - 1s - loss: 0.6244 - accuracy: 0.8960\n",
      "16/16 - 1s - loss: 0.5953 - accuracy: 0.9060\n",
      "16/16 - 1s - loss: 0.8156 - accuracy: 0.8860\n",
      "16/16 - 1s - loss: 0.9599 - accuracy: 0.8580\n",
      "16/16 - 1s - loss: 0.6993 - accuracy: 0.8900\n",
      "16/16 - 1s - loss: 0.6731 - accuracy: 0.8980\n",
      "16/16 - 1s - loss: 0.6088 - accuracy: 0.9000\n",
      "16/16 - 1s - loss: 0.5892 - accuracy: 0.9020\n",
      "16/16 - 1s - loss: 0.8518 - accuracy: 0.8840\n",
      "16/16 - 1s - loss: 0.6940 - accuracy: 0.9060\n",
      "16/16 - 1s - loss: 0.8906 - accuracy: 0.8940\n",
      "16/16 - 1s - loss: 0.5373 - accuracy: 0.9040\n",
      "16/16 - 1s - loss: 0.7167 - accuracy: 0.8680\n",
      "16/16 - 1s - loss: 0.6759 - accuracy: 0.8800\n",
      "16/16 - 1s - loss: 0.8215 - accuracy: 0.8800\n",
      "16/16 - 1s - loss: 0.5944 - accuracy: 0.8720\n",
      "16/16 - 1s - loss: 0.8203 - accuracy: 0.8940\n",
      "16/16 - 1s - loss: 0.4887 - accuracy: 0.9120\n",
      "16/16 - 1s - loss: 0.8178 - accuracy: 0.8920\n",
      "------------    47  번째 global epoch < Clustering > 로컬 클라이언트 학습 완료!,  Total Training time :  2227.462181329727 ---------------------------\n",
      "\n",
      "\n",
      "Layer :  0   클러스터 갯수 정해짐!  갯수 :  7 5\n"
     ]
    },
    {
     "name": "stderr",
     "output_type": "stream",
     "text": [
      "<ipython-input-10-506962b8e734>:141: VisibleDeprecationWarning: Creating an ndarray from ragged nested sequences (which is a list-or-tuple of lists-or-tuples-or ndarrays with different lengths or shapes) is deprecated. If you meant to do this, you must specify 'dtype=object' when creating the ndarray\n",
      "  globals()['G{}_c{}_w_layer{}'.format(global_epoch, num_c_w, layer_index)] = globals()['G{}_c{}_w_layer{}'.format(global_epoch, num_c_w, layer_index)] + np.array(globals()['L{}_layer{}_w_c'.format(i,layer_index)])   # 일반 클러스터링\n"
     ]
    },
    {
     "name": "stdout",
     "output_type": "stream",
     "text": [
      "Layer :  2   클러스터 갯수 정해짐!  갯수 :  2 0\n"
     ]
    },
    {
     "name": "stderr",
     "output_type": "stream",
     "text": [
      "<ipython-input-10-506962b8e734>:141: VisibleDeprecationWarning: Creating an ndarray from ragged nested sequences (which is a list-or-tuple of lists-or-tuples-or ndarrays with different lengths or shapes) is deprecated. If you meant to do this, you must specify 'dtype=object' when creating the ndarray\n",
      "  globals()['G{}_c{}_w_layer{}'.format(global_epoch, num_c_w, layer_index)] = globals()['G{}_c{}_w_layer{}'.format(global_epoch, num_c_w, layer_index)] + np.array(globals()['L{}_layer{}_w_c'.format(i,layer_index)])   # 일반 클러스터링\n"
     ]
    },
    {
     "name": "stdout",
     "output_type": "stream",
     "text": [
      "Layer :  4   클러스터 갯수 정해짐!  갯수 :  2 0\n"
     ]
    },
    {
     "name": "stderr",
     "output_type": "stream",
     "text": [
      "<ipython-input-10-506962b8e734>:141: VisibleDeprecationWarning: Creating an ndarray from ragged nested sequences (which is a list-or-tuple of lists-or-tuples-or ndarrays with different lengths or shapes) is deprecated. If you meant to do this, you must specify 'dtype=object' when creating the ndarray\n",
      "  globals()['G{}_c{}_w_layer{}'.format(global_epoch, num_c_w, layer_index)] = globals()['G{}_c{}_w_layer{}'.format(global_epoch, num_c_w, layer_index)] + np.array(globals()['L{}_layer{}_w_c'.format(i,layer_index)])   # 일반 클러스터링\n"
     ]
    },
    {
     "name": "stdout",
     "output_type": "stream",
     "text": [
      "Layer :  6   클러스터 갯수 정해짐!  갯수 :  2 0\n"
     ]
    },
    {
     "name": "stderr",
     "output_type": "stream",
     "text": [
      "<ipython-input-10-506962b8e734>:141: VisibleDeprecationWarning: Creating an ndarray from ragged nested sequences (which is a list-or-tuple of lists-or-tuples-or ndarrays with different lengths or shapes) is deprecated. If you meant to do this, you must specify 'dtype=object' when creating the ndarray\n",
      "  globals()['G{}_c{}_w_layer{}'.format(global_epoch, num_c_w, layer_index)] = globals()['G{}_c{}_w_layer{}'.format(global_epoch, num_c_w, layer_index)] + np.array(globals()['L{}_layer{}_w_c'.format(i,layer_index)])   # 일반 클러스터링\n"
     ]
    },
    {
     "name": "stdout",
     "output_type": "stream",
     "text": [
      "Layer :  7   클러스터 갯수 정해짐!  갯수 :  2 0\n",
      "\n",
      "\n",
      "====================================================== One Global Epoch =====================================================================\n",
      "\n",
      "\n",
      "48  번째 global_epoch 데이터 랜덤하게 준비!!\n"
     ]
    },
    {
     "name": "stderr",
     "output_type": "stream",
     "text": [
      "<ipython-input-10-506962b8e734>:141: VisibleDeprecationWarning: Creating an ndarray from ragged nested sequences (which is a list-or-tuple of lists-or-tuples-or ndarrays with different lengths or shapes) is deprecated. If you meant to do this, you must specify 'dtype=object' when creating the ndarray\n",
      "  globals()['G{}_c{}_w_layer{}'.format(global_epoch, num_c_w, layer_index)] = globals()['G{}_c{}_w_layer{}'.format(global_epoch, num_c_w, layer_index)] + np.array(globals()['L{}_layer{}_w_c'.format(i,layer_index)])   # 일반 클러스터링\n"
     ]
    },
    {
     "name": "stdout",
     "output_type": "stream",
     "text": [
      "48  번째 global_epoch 데이터 랜덤 준비완료!!\n",
      "\n",
      "\n",
      "48  번째 global epoch에서 로컬 클라이언트 들 학습시작!\n",
      "\n",
      "학습 중 ...\n",
      "\n",
      "16/16 - 1s - loss: 0.6224 - accuracy: 0.8780\n",
      "16/16 - 1s - loss: 0.6243 - accuracy: 0.8940\n",
      "16/16 - 1s - loss: 0.8247 - accuracy: 0.8880\n",
      "16/16 - 1s - loss: 0.6528 - accuracy: 0.8920\n",
      "16/16 - 1s - loss: 0.6770 - accuracy: 0.8960\n",
      "16/16 - 1s - loss: 0.7293 - accuracy: 0.8920\n",
      "16/16 - 1s - loss: 0.7164 - accuracy: 0.8960\n",
      "16/16 - 1s - loss: 0.4748 - accuracy: 0.9260\n",
      "16/16 - 1s - loss: 0.6215 - accuracy: 0.8760\n",
      "16/16 - 1s - loss: 0.7025 - accuracy: 0.8820\n",
      "16/16 - 1s - loss: 0.9043 - accuracy: 0.8700\n",
      "16/16 - 1s - loss: 0.7912 - accuracy: 0.8960\n",
      "16/16 - 1s - loss: 0.5600 - accuracy: 0.9060\n",
      "16/16 - 1s - loss: 0.6896 - accuracy: 0.9000\n",
      "16/16 - 1s - loss: 0.6725 - accuracy: 0.8840\n",
      "16/16 - 1s - loss: 0.7576 - accuracy: 0.8840\n",
      "16/16 - 1s - loss: 0.9579 - accuracy: 0.8660\n",
      "16/16 - 1s - loss: 0.9353 - accuracy: 0.8740\n",
      "16/16 - 1s - loss: 0.6516 - accuracy: 0.8920\n",
      "16/16 - 1s - loss: 0.6232 - accuracy: 0.8900\n",
      "------------    48  번째 global epoch < Clustering > 로컬 클라이언트 학습 완료!,  Total Training time :  2867.1490824222565 ---------------------------\n",
      "\n",
      "\n",
      "Layer :  0   클러스터 갯수 정해짐!  갯수 :  7 5\n"
     ]
    },
    {
     "name": "stderr",
     "output_type": "stream",
     "text": [
      "<ipython-input-10-506962b8e734>:141: VisibleDeprecationWarning: Creating an ndarray from ragged nested sequences (which is a list-or-tuple of lists-or-tuples-or ndarrays with different lengths or shapes) is deprecated. If you meant to do this, you must specify 'dtype=object' when creating the ndarray\n",
      "  globals()['G{}_c{}_w_layer{}'.format(global_epoch, num_c_w, layer_index)] = globals()['G{}_c{}_w_layer{}'.format(global_epoch, num_c_w, layer_index)] + np.array(globals()['L{}_layer{}_w_c'.format(i,layer_index)])   # 일반 클러스터링\n"
     ]
    },
    {
     "name": "stdout",
     "output_type": "stream",
     "text": [
      "Layer :  2   클러스터 갯수 정해짐!  갯수 :  2 0\n"
     ]
    },
    {
     "name": "stderr",
     "output_type": "stream",
     "text": [
      "<ipython-input-10-506962b8e734>:141: VisibleDeprecationWarning: Creating an ndarray from ragged nested sequences (which is a list-or-tuple of lists-or-tuples-or ndarrays with different lengths or shapes) is deprecated. If you meant to do this, you must specify 'dtype=object' when creating the ndarray\n",
      "  globals()['G{}_c{}_w_layer{}'.format(global_epoch, num_c_w, layer_index)] = globals()['G{}_c{}_w_layer{}'.format(global_epoch, num_c_w, layer_index)] + np.array(globals()['L{}_layer{}_w_c'.format(i,layer_index)])   # 일반 클러스터링\n"
     ]
    },
    {
     "name": "stdout",
     "output_type": "stream",
     "text": [
      "Layer :  4   클러스터 갯수 정해짐!  갯수 :  2 0\n"
     ]
    },
    {
     "name": "stderr",
     "output_type": "stream",
     "text": [
      "<ipython-input-10-506962b8e734>:141: VisibleDeprecationWarning: Creating an ndarray from ragged nested sequences (which is a list-or-tuple of lists-or-tuples-or ndarrays with different lengths or shapes) is deprecated. If you meant to do this, you must specify 'dtype=object' when creating the ndarray\n",
      "  globals()['G{}_c{}_w_layer{}'.format(global_epoch, num_c_w, layer_index)] = globals()['G{}_c{}_w_layer{}'.format(global_epoch, num_c_w, layer_index)] + np.array(globals()['L{}_layer{}_w_c'.format(i,layer_index)])   # 일반 클러스터링\n"
     ]
    },
    {
     "name": "stdout",
     "output_type": "stream",
     "text": [
      "Layer :  6   클러스터 갯수 정해짐!  갯수 :  2 0\n"
     ]
    },
    {
     "name": "stderr",
     "output_type": "stream",
     "text": [
      "<ipython-input-10-506962b8e734>:141: VisibleDeprecationWarning: Creating an ndarray from ragged nested sequences (which is a list-or-tuple of lists-or-tuples-or ndarrays with different lengths or shapes) is deprecated. If you meant to do this, you must specify 'dtype=object' when creating the ndarray\n",
      "  globals()['G{}_c{}_w_layer{}'.format(global_epoch, num_c_w, layer_index)] = globals()['G{}_c{}_w_layer{}'.format(global_epoch, num_c_w, layer_index)] + np.array(globals()['L{}_layer{}_w_c'.format(i,layer_index)])   # 일반 클러스터링\n"
     ]
    },
    {
     "name": "stdout",
     "output_type": "stream",
     "text": [
      "Layer :  7   클러스터 갯수 정해짐!  갯수 :  2 0\n",
      "\n",
      "\n",
      "====================================================== One Global Epoch =====================================================================\n",
      "\n",
      "\n",
      "49  번째 global_epoch 데이터 랜덤하게 준비!!\n"
     ]
    },
    {
     "name": "stderr",
     "output_type": "stream",
     "text": [
      "<ipython-input-10-506962b8e734>:141: VisibleDeprecationWarning: Creating an ndarray from ragged nested sequences (which is a list-or-tuple of lists-or-tuples-or ndarrays with different lengths or shapes) is deprecated. If you meant to do this, you must specify 'dtype=object' when creating the ndarray\n",
      "  globals()['G{}_c{}_w_layer{}'.format(global_epoch, num_c_w, layer_index)] = globals()['G{}_c{}_w_layer{}'.format(global_epoch, num_c_w, layer_index)] + np.array(globals()['L{}_layer{}_w_c'.format(i,layer_index)])   # 일반 클러스터링\n"
     ]
    },
    {
     "name": "stdout",
     "output_type": "stream",
     "text": [
      "49  번째 global_epoch 데이터 랜덤 준비완료!!\n",
      "\n",
      "\n",
      "49  번째 global epoch에서 로컬 클라이언트 들 학습시작!\n",
      "\n",
      "학습 중 ...\n",
      "\n",
      "16/16 - 1s - loss: 0.7219 - accuracy: 0.8960\n",
      "16/16 - 1s - loss: 0.8294 - accuracy: 0.8680\n",
      "16/16 - 1s - loss: 0.9600 - accuracy: 0.8520\n",
      "16/16 - 1s - loss: 0.6192 - accuracy: 0.9020\n",
      "16/16 - 2s - loss: 0.5394 - accuracy: 0.9260\n",
      "16/16 - 1s - loss: 0.5354 - accuracy: 0.8980\n",
      "16/16 - 1s - loss: 0.5690 - accuracy: 0.9140\n",
      "16/16 - 1s - loss: 0.5911 - accuracy: 0.9000\n",
      "16/16 - 1s - loss: 0.5934 - accuracy: 0.9040\n",
      "16/16 - 1s - loss: 0.5876 - accuracy: 0.9060\n",
      "16/16 - 1s - loss: 0.7955 - accuracy: 0.8980\n",
      "16/16 - 1s - loss: 0.8288 - accuracy: 0.8760\n",
      "16/16 - 1s - loss: 0.5589 - accuracy: 0.8840\n",
      "16/16 - 1s - loss: 0.8344 - accuracy: 0.8820\n",
      "16/16 - 1s - loss: 0.6568 - accuracy: 0.9000\n",
      "16/16 - 1s - loss: 0.7000 - accuracy: 0.8920\n",
      "16/16 - 1s - loss: 0.6963 - accuracy: 0.8960\n",
      "16/16 - 1s - loss: 0.5203 - accuracy: 0.9180\n",
      "16/16 - 1s - loss: 0.5273 - accuracy: 0.9160\n",
      "16/16 - 1s - loss: 0.8028 - accuracy: 0.8880\n",
      "------------    49  번째 global epoch < Clustering > 로컬 클라이언트 학습 완료!,  Total Training time :  2351.5261855125427 ---------------------------\n",
      "\n",
      "\n",
      "Layer :  0   클러스터 갯수 정해짐!  갯수 :  7 5\n"
     ]
    },
    {
     "name": "stderr",
     "output_type": "stream",
     "text": [
      "<ipython-input-10-506962b8e734>:141: VisibleDeprecationWarning: Creating an ndarray from ragged nested sequences (which is a list-or-tuple of lists-or-tuples-or ndarrays with different lengths or shapes) is deprecated. If you meant to do this, you must specify 'dtype=object' when creating the ndarray\n",
      "  globals()['G{}_c{}_w_layer{}'.format(global_epoch, num_c_w, layer_index)] = globals()['G{}_c{}_w_layer{}'.format(global_epoch, num_c_w, layer_index)] + np.array(globals()['L{}_layer{}_w_c'.format(i,layer_index)])   # 일반 클러스터링\n"
     ]
    },
    {
     "name": "stdout",
     "output_type": "stream",
     "text": [
      "Layer :  2   클러스터 갯수 정해짐!  갯수 :  2 0\n"
     ]
    },
    {
     "name": "stderr",
     "output_type": "stream",
     "text": [
      "<ipython-input-10-506962b8e734>:141: VisibleDeprecationWarning: Creating an ndarray from ragged nested sequences (which is a list-or-tuple of lists-or-tuples-or ndarrays with different lengths or shapes) is deprecated. If you meant to do this, you must specify 'dtype=object' when creating the ndarray\n",
      "  globals()['G{}_c{}_w_layer{}'.format(global_epoch, num_c_w, layer_index)] = globals()['G{}_c{}_w_layer{}'.format(global_epoch, num_c_w, layer_index)] + np.array(globals()['L{}_layer{}_w_c'.format(i,layer_index)])   # 일반 클러스터링\n"
     ]
    },
    {
     "name": "stdout",
     "output_type": "stream",
     "text": [
      "Layer :  4   클러스터 갯수 정해짐!  갯수 :  2 0\n"
     ]
    },
    {
     "name": "stderr",
     "output_type": "stream",
     "text": [
      "<ipython-input-10-506962b8e734>:141: VisibleDeprecationWarning: Creating an ndarray from ragged nested sequences (which is a list-or-tuple of lists-or-tuples-or ndarrays with different lengths or shapes) is deprecated. If you meant to do this, you must specify 'dtype=object' when creating the ndarray\n",
      "  globals()['G{}_c{}_w_layer{}'.format(global_epoch, num_c_w, layer_index)] = globals()['G{}_c{}_w_layer{}'.format(global_epoch, num_c_w, layer_index)] + np.array(globals()['L{}_layer{}_w_c'.format(i,layer_index)])   # 일반 클러스터링\n"
     ]
    },
    {
     "name": "stdout",
     "output_type": "stream",
     "text": [
      "Layer :  6   클러스터 갯수 정해짐!  갯수 :  2 0\n"
     ]
    },
    {
     "name": "stderr",
     "output_type": "stream",
     "text": [
      "<ipython-input-10-506962b8e734>:141: VisibleDeprecationWarning: Creating an ndarray from ragged nested sequences (which is a list-or-tuple of lists-or-tuples-or ndarrays with different lengths or shapes) is deprecated. If you meant to do this, you must specify 'dtype=object' when creating the ndarray\n",
      "  globals()['G{}_c{}_w_layer{}'.format(global_epoch, num_c_w, layer_index)] = globals()['G{}_c{}_w_layer{}'.format(global_epoch, num_c_w, layer_index)] + np.array(globals()['L{}_layer{}_w_c'.format(i,layer_index)])   # 일반 클러스터링\n"
     ]
    },
    {
     "name": "stdout",
     "output_type": "stream",
     "text": [
      "Layer :  7   클러스터 갯수 정해짐!  갯수 :  2 0\n",
      "\n",
      "\n",
      "====================================================== One Global Epoch =====================================================================\n",
      "\n",
      "\n",
      "50  번째 global_epoch 데이터 랜덤하게 준비!!\n"
     ]
    },
    {
     "name": "stderr",
     "output_type": "stream",
     "text": [
      "<ipython-input-10-506962b8e734>:141: VisibleDeprecationWarning: Creating an ndarray from ragged nested sequences (which is a list-or-tuple of lists-or-tuples-or ndarrays with different lengths or shapes) is deprecated. If you meant to do this, you must specify 'dtype=object' when creating the ndarray\n",
      "  globals()['G{}_c{}_w_layer{}'.format(global_epoch, num_c_w, layer_index)] = globals()['G{}_c{}_w_layer{}'.format(global_epoch, num_c_w, layer_index)] + np.array(globals()['L{}_layer{}_w_c'.format(i,layer_index)])   # 일반 클러스터링\n"
     ]
    },
    {
     "name": "stdout",
     "output_type": "stream",
     "text": [
      "50  번째 global_epoch 데이터 랜덤 준비완료!!\n",
      "\n",
      "\n",
      "50  번째 global epoch에서 로컬 클라이언트 들 학습시작!\n",
      "\n",
      "학습 중 ...\n",
      "\n",
      "16/16 - 1s - loss: 0.6990 - accuracy: 0.8620\n",
      "16/16 - 1s - loss: 0.6430 - accuracy: 0.8880\n",
      "16/16 - 1s - loss: 0.7208 - accuracy: 0.8820\n",
      "16/16 - 1s - loss: 0.9037 - accuracy: 0.8760\n",
      "16/16 - 1s - loss: 0.6022 - accuracy: 0.8940\n",
      "16/16 - 1s - loss: 0.7184 - accuracy: 0.8940\n",
      "16/16 - 1s - loss: 0.6394 - accuracy: 0.8960\n",
      "16/16 - 1s - loss: 0.4974 - accuracy: 0.9220\n",
      "16/16 - 1s - loss: 0.7151 - accuracy: 0.9100\n",
      "16/16 - 1s - loss: 0.6378 - accuracy: 0.8900\n",
      "16/16 - 1s - loss: 0.7921 - accuracy: 0.8800\n",
      "16/16 - 1s - loss: 0.5230 - accuracy: 0.8880\n",
      "16/16 - 1s - loss: 0.8429 - accuracy: 0.8680\n",
      "16/16 - 1s - loss: 0.7743 - accuracy: 0.8560\n",
      "16/16 - 1s - loss: 0.5476 - accuracy: 0.8880\n",
      "16/16 - 1s - loss: 0.6208 - accuracy: 0.8880\n",
      "16/16 - 1s - loss: 0.7369 - accuracy: 0.8820\n",
      "16/16 - 1s - loss: 0.7114 - accuracy: 0.8840\n",
      "16/16 - 1s - loss: 0.5315 - accuracy: 0.9100\n",
      "16/16 - 1s - loss: 0.7771 - accuracy: 0.8920\n",
      "------------    50  번째 global epoch < Clustering > 로컬 클라이언트 학습 완료!,  Total Training time :  2323.8911004066467 ---------------------------\n",
      "\n",
      "\n",
      "Layer :  0   클러스터 갯수 정해짐!  갯수 :  7 5\n"
     ]
    },
    {
     "name": "stderr",
     "output_type": "stream",
     "text": [
      "<ipython-input-10-506962b8e734>:141: VisibleDeprecationWarning: Creating an ndarray from ragged nested sequences (which is a list-or-tuple of lists-or-tuples-or ndarrays with different lengths or shapes) is deprecated. If you meant to do this, you must specify 'dtype=object' when creating the ndarray\n",
      "  globals()['G{}_c{}_w_layer{}'.format(global_epoch, num_c_w, layer_index)] = globals()['G{}_c{}_w_layer{}'.format(global_epoch, num_c_w, layer_index)] + np.array(globals()['L{}_layer{}_w_c'.format(i,layer_index)])   # 일반 클러스터링\n"
     ]
    },
    {
     "name": "stdout",
     "output_type": "stream",
     "text": [
      "Layer :  2   클러스터 갯수 정해짐!  갯수 :  2 0\n"
     ]
    },
    {
     "name": "stderr",
     "output_type": "stream",
     "text": [
      "<ipython-input-10-506962b8e734>:141: VisibleDeprecationWarning: Creating an ndarray from ragged nested sequences (which is a list-or-tuple of lists-or-tuples-or ndarrays with different lengths or shapes) is deprecated. If you meant to do this, you must specify 'dtype=object' when creating the ndarray\n",
      "  globals()['G{}_c{}_w_layer{}'.format(global_epoch, num_c_w, layer_index)] = globals()['G{}_c{}_w_layer{}'.format(global_epoch, num_c_w, layer_index)] + np.array(globals()['L{}_layer{}_w_c'.format(i,layer_index)])   # 일반 클러스터링\n"
     ]
    },
    {
     "name": "stdout",
     "output_type": "stream",
     "text": [
      "Layer :  4   클러스터 갯수 정해짐!  갯수 :  2 0\n"
     ]
    },
    {
     "name": "stderr",
     "output_type": "stream",
     "text": [
      "<ipython-input-10-506962b8e734>:141: VisibleDeprecationWarning: Creating an ndarray from ragged nested sequences (which is a list-or-tuple of lists-or-tuples-or ndarrays with different lengths or shapes) is deprecated. If you meant to do this, you must specify 'dtype=object' when creating the ndarray\n",
      "  globals()['G{}_c{}_w_layer{}'.format(global_epoch, num_c_w, layer_index)] = globals()['G{}_c{}_w_layer{}'.format(global_epoch, num_c_w, layer_index)] + np.array(globals()['L{}_layer{}_w_c'.format(i,layer_index)])   # 일반 클러스터링\n"
     ]
    },
    {
     "name": "stdout",
     "output_type": "stream",
     "text": [
      "Layer :  6   클러스터 갯수 정해짐!  갯수 :  2 0\n"
     ]
    },
    {
     "name": "stderr",
     "output_type": "stream",
     "text": [
      "<ipython-input-10-506962b8e734>:141: VisibleDeprecationWarning: Creating an ndarray from ragged nested sequences (which is a list-or-tuple of lists-or-tuples-or ndarrays with different lengths or shapes) is deprecated. If you meant to do this, you must specify 'dtype=object' when creating the ndarray\n",
      "  globals()['G{}_c{}_w_layer{}'.format(global_epoch, num_c_w, layer_index)] = globals()['G{}_c{}_w_layer{}'.format(global_epoch, num_c_w, layer_index)] + np.array(globals()['L{}_layer{}_w_c'.format(i,layer_index)])   # 일반 클러스터링\n"
     ]
    },
    {
     "name": "stdout",
     "output_type": "stream",
     "text": [
      "Layer :  7   클러스터 갯수 정해짐!  갯수 :  2 0\n",
      "\n",
      "\n",
      "====================================================== One Global Epoch =====================================================================\n",
      "\n",
      "\n"
     ]
    },
    {
     "name": "stderr",
     "output_type": "stream",
     "text": [
      "<ipython-input-10-506962b8e734>:141: VisibleDeprecationWarning: Creating an ndarray from ragged nested sequences (which is a list-or-tuple of lists-or-tuples-or ndarrays with different lengths or shapes) is deprecated. If you meant to do this, you must specify 'dtype=object' when creating the ndarray\n",
      "  globals()['G{}_c{}_w_layer{}'.format(global_epoch, num_c_w, layer_index)] = globals()['G{}_c{}_w_layer{}'.format(global_epoch, num_c_w, layer_index)] + np.array(globals()['L{}_layer{}_w_c'.format(i,layer_index)])   # 일반 클러스터링\n"
     ]
    }
   ],
   "source": [
    "G_epoch = 51\n",
    "\n",
    "for global_epoch in range(1, G_epoch):\n",
    "\n",
    "    for i in range(1, local):\n",
    "        if global_epoch == 1:\n",
    "            globals()['G{}_c_L{}_model'.format(global_epoch, i)] = globals()['FedAvg_L{}_iter{}_model'.format(i,global_epoch-1)]   #모델 넣어줌 (우리는 구조만 필요한 것)\n",
    "        else:\n",
    "            globals()['G{}_c_L{}_model'.format(global_epoch, i)] = globals()['G{}_c_L{}_model'.format(global_epoch-1, i)]   #모델 넣어줌 (우리는 구조만 필요한 것)\n",
    "\n",
    "        for layer_index in num_layers_list: \n",
    "            num_c = globals()['G{}_num_clusters_in_layer{}_w'.format(global_epoch-1, layer_index)]   \n",
    "    \n",
    "            for ccc in range(num_c):\n",
    "                if globals()['w_layer{}_label'.format(layer_index)][i-1] == ccc:    #현재 로컬 레이어의 군집 결과 == ccc\n",
    "                    globals()['G{}_c_L{}_model'.format(global_epoch, i)].layers[layer_index].set_weights(globals()['G{}_c{}_w_layer{}'.format(global_epoch-1, ccc, layer_index) ])  # 클러스터용 로컬 모델 선언\n",
    "                    \n",
    "                  \n",
    "        \n",
    "\n",
    "    #----------------------------------------------------------------데이터 새로 준비----------------------------------------------------------------------------------\n",
    "    print(global_epoch, \" 번째 global_epoch 데이터 랜덤하게 준비!!\")\n",
    "\n",
    "\n",
    "    for i in range(1,local):\n",
    "        globals()['L{}_x_train'.format(i)], globals()['L{}_x_test'.format(i)] = [], []\n",
    "        globals()['L{}_y_train'.format(i)], globals()['L{}_y_test'.format(i)] = [], []  \n",
    "        \n",
    "    x_train_range = list(np.arange(0,len(x_train)))  #0~59,999\n",
    "    x_test_range = list(np.arange(0,len(x_test)))  #0~9,999\n",
    "\n",
    "    for n in range(1,local): #Data_x_train_range, 잘 작동함 => 확인 완료\n",
    "        tmp, tmp2 = [], []\n",
    "        tmp = random.sample(list(x_train_range), int(num_train/(local-1)))  #1/10개 만큼 인덱스 랜덤 비복원 추출 => 랜덤으로 해야함\n",
    "        tmp2 = random.sample(list(x_test_range), int(num_test/(local-1)))\n",
    "\n",
    "        for i in range(len(tmp)):\n",
    "            globals()['L{}_x_train'.format(n)].append(x_train[tmp[i]])  #n번째 Cluster에 분할한 실제 x_train 데이터 저장\n",
    "            globals()['L{}_y_train'.format(n)].append(y_train[tmp[i]]) \n",
    "            #x_train_range.remove(tmp[i])  #랜덤 하게 뽑힌 원소 6000개 추출했으니 안에서 삭제 = 복원추출\n",
    "\n",
    "        for j in range(len(tmp2)):\n",
    "            globals()['L{}_x_test'.format(n)].append(x_test[tmp2[j]])\n",
    "            globals()['L{}_y_test'.format(n)].append(y_test[tmp2[j]])\n",
    "            #x_test_range.remove(tmp2[j])  #랜덤 하게 뽑힌 원소 6000개 추출했으니 안에서 삭제\n",
    "\n",
    "    for i in range(1,local):\n",
    "        globals()['L{}_x_train'.format(i)] = np.array(globals()['L{}_x_train'.format(i)])\n",
    "        globals()['L{}_x_test'.format(i)] = np.array(globals()['L{}_x_test'.format(i)])\n",
    "        globals()['L{}_y_train'.format(i)] = np.array(globals()['L{}_y_train'.format(i)])\n",
    "        globals()['L{}_y_test'.format(i)] = np.array(globals()['L{}_y_test'.format(i)])\n",
    "\n",
    "\n",
    "    print(global_epoch, \" 번째 global_epoch 데이터 랜덤 준비완료!!\\n\\n\")\n",
    "\n",
    "    print(global_epoch, \" 번째 global epoch에서 로컬 클라이언트 들 학습시작!\\n\\n학습 중 ...\\n\")\n",
    "    \n",
    "\n",
    "    #-------------------------------------------------------------------여기가 핵심, 알고리즘 3개 따로 학습시켜야 함--------------------------------------------------------------------\n",
    "\n",
    "\n",
    "    #======================================================================== Cluster  ========================================================================  같이 했음. 왜냐면 cluster 하고 나서 activation 을 씌우는 거라 cluster까지는 같음\n",
    "\n",
    "    cluster_acc, cluster_loss, cluster_act_acc, cluster_act_loss, now = [], [], [], [], time.time()\n",
    "    \n",
    "    for i in range(1, local):\n",
    "        globals()['G{}_c_L{}_model'.format(global_epoch, i)].compile(loss=\"categorical_crossentropy\", optimizer=\"adam\", metrics=[\"accuracy\"])  #Cluster => 알맞는 클러스터에 넣기\n",
    "        globals()['G{}_c_L{}_model'.format(global_epoch, i)].fit(globals()['L{}_x_train'.format(i)], globals()['L{}_y_train'.format(i)], batch_size=batch_size, epochs=epochs, validation_split=0.1, verbose=0)\n",
    "        loss, acc = globals()['G{}_c_L{}_model'.format(global_epoch, i)].evaluate(globals()['L{}_x_test'.format(i)], globals()['L{}_y_test'.format(i)], verbose=2)\n",
    "        \n",
    "        cluster_acc.append(acc)  #acc 넣기\n",
    "        cluster_loss.append(loss)  #loss 넣기\n",
    "\n",
    "    print(\"------------   \", global_epoch, \" 번째 global epoch < Clustering > 로컬 클라이언트 학습 완료!,  Total Training time : \", time.time()-now,\"---------------------------\\n\\n\")\n",
    "\n",
    "\n",
    "# 로컬 모델들 학습 완료, 로컬모델에서 weight, bias 추출 -------------------------------------------------------------------------------------\n",
    "\n",
    "\n",
    "    for i in range(1, local):        \n",
    "        for layer_index in num_layers_list:\n",
    "            \n",
    "            globals()['L{}_layer{}_w_c'.format(i,layer_index)]   = globals()['G{}_c_L{}_model'.format(global_epoch, i)].layers[layer_index].get_weights() # Clustering \n",
    "            globals()['L{}_layer{}_w_c_tmp'.format(i,layer_index)]   = globals()['G{}_c_L{}_model'.format(global_epoch, i)].layers[layer_index].get_weights() # Clustering \n",
    "\n",
    "    #------------------------------------------------ 클러스터링만 한 값들 Clustering --------------------------------------------------------\n",
    "    for layer_index in num_layers_list:\n",
    "        best_Sil_score_c = []\n",
    "        globals()['layer{}_W_c_tmp'.format(layer_index)] = []\n",
    "        \n",
    "        globals()['var_list_layer{}_w'.format(layer_index)] = []\n",
    "        globals()['var_list_layer{}_b'.format(layer_index)] = []\n",
    "            \n",
    "        for i in range(1, local):\n",
    "            TMP_w = list(np.array(globals()['L{}_layer{}_w_c_tmp'.format(i,layer_index)][0]).reshape(-1))\n",
    "            TMP_b = list(np.array(globals()['L{}_layer{}_w_c_tmp'.format(i,layer_index)][1]).reshape(-1))\n",
    "            \n",
    "            TMP_w.extend(TMP_b) ##append 말고 더해야함..\n",
    "\n",
    "            TMP_w = np.array(TMP_w)\n",
    "            TMP_w = list(TMP_w.reshape(-1))\n",
    "            globals()['layer{}_W_c_tmp'.format(layer_index)].append(TMP_w)  #클러스터링 용도\n",
    "\n",
    "        #---------------------------------------------------- 실루엣 기반 클러스터링 실시 -------------------------------------------------------------\n",
    "        silhoutte_score_w = []\n",
    "        transformed = globals()['layer{}_W_c_tmp'.format(layer_index)]\n",
    "\n",
    "        for clusters in range((int(local/2)-1)):       ####=>  이 범위 : 클러스터 갯수, 밑에 보면 cluster+2 있음 = 총 10개 => (0,11) = 10\n",
    "            globals()['w_layer{}_label'.format(layer_index)] = 0\n",
    "                                                            \n",
    "            kmeans_model_w = KMeans(n_clusters=clusters+2)   # 0, 1은 silhouette 에 안먹힘  \n",
    "\n",
    "            kmeans_model_w.fit(transformed)       #레이블 정의 \n",
    "\n",
    "            silhoutte_score_w.append(silhouette_score(globals()['layer{}_W_tmp'.format(layer_index)], kmeans_model_w.labels_, metric='euclidean'))  \n",
    "            \n",
    "        num_clusters_for_w = np.argmax(silhoutte_score_w)  \n",
    "        best_Sil_score_c.append(silhoutte_score_w[num_clusters_for_w])\n",
    " \n",
    "        kmeans_model_w = KMeans(n_clusters=num_clusters_for_w+2)   # 0, 1은 silhouette 에 안먹힘  \n",
    "\n",
    "        globals()['w_layer{}_label'.format(layer_index)] = kmeans_model_w.fit_predict(transformed)       # 가장 적합한 클러스터로 레이어에 속한 로컬들 레이블 정의 \n",
    "        label_list.append(globals()['w_layer{}_label'.format(layer_index)])\n",
    "\n",
    "        globals()['G{}_num_clusters_in_layer{}_w'.format(global_epoch, layer_index)] = num_clusters_for_w + 2  #나중에 몇개로 나뉘었는지 알아야 함 = num_clusters_for_w이거 그대로 하면 밑에 저게 쓸일이 많아서 global 쓰면 코딩이 너무 번잡해짐;; \n",
    "        print(\"Layer : \", layer_index, \"  클러스터 갯수 정해짐!  갯수 : \", globals()['G{}_num_clusters_in_layer{}_w'.format(global_epoch, layer_index)], num_clusters_for_w) ########################################################******************************************\n",
    "\n",
    "\n",
    "        #----------------------------------------------- 스케일링 및 업데이트 ---------------------------------------------------------------------\n",
    "        for num_c_w in range(num_clusters_for_w+2): #클러스터 갯수 (num_clusters_for_w) 만큼 클러스터용 = 클러스터 갯수가 3이 나왔으면 3개를 만들어야 함\n",
    "            globals()['G{}_c{}_w_layer{}'.format(global_epoch, num_c_w, layer_index)] = 0 \n",
    "            \n",
    "            globals()['w_scaler_c{}_sum'.format(num_c_w)], globals()['int_c{}_w'.format(num_c_w)] = 0, 0 #초기화\n",
    "        \n",
    "            for i in range(1, local):\n",
    "\n",
    "                if globals()['w_layer{}_label'.format(layer_index)][i-1] == num_c_w  : # 클러스터 레이블에 맞게 (0 or 1 or 2 ..) \n",
    "                    #print(\"클러스터 레이블 check : ====== \", num_c_w)\n",
    "                    globals()['w_scaler_c{}_sum'.format(num_c_w)] = globals()['w_scaler_c{}_sum'.format(num_c_w)] + len(globals()['L{}_x_train'.format(i)])\n",
    "\n",
    "                    globals()['G{}_c{}_w_layer{}'.format(global_epoch, num_c_w, layer_index)] = globals()['G{}_c{}_w_layer{}'.format(global_epoch, num_c_w, layer_index)] + np.array(globals()['L{}_layer{}_w_c'.format(i,layer_index)])   # 일반 클러스터링\n",
    "                  \n",
    "                    globals()['int_c{}_w'.format(num_c_w)] = globals()['int_c{}_w'.format(num_c_w)] + 1\n",
    "\n",
    "            globals()['w_scaler{}'.format(num_c_w)] = len(globals()['L{}_x_train'.format(i)]) / globals()['w_scaler_c{}_sum'.format(num_c_w)]\n",
    "            globals()['G{}_c{}_w_layer{}'.format(global_epoch, num_c_w, layer_index)] = globals()['G{}_c{}_w_layer{}'.format(global_epoch, num_c_w, layer_index)] / globals()['int_c{}_w'.format(num_c_w)] #레이어 별 클러스터 자기 갯수만큼 나눠주기=평균\n",
    "\n",
    "        \n",
    "        sum_for_var_w,sum_for_var_b = 0, 0\n",
    "        for sps in range(num_clusters_for_w+2):\n",
    "            sum_for_var_w = sum_for_var_w + globals()['G{}_c{}_w_layer{}'.format(global_epoch, 0, layer_index)][0]\n",
    "            sum_for_var_b = sum_for_var_b + globals()['G{}_c{}_w_layer{}'.format(global_epoch, 0, layer_index)][1] \n",
    "        \n",
    "        sum_for_var_w = sum_for_var_w/(num_clusters_for_w+2)\n",
    "        sum_for_var_b = sum_for_var_b/(num_clusters_for_w+2)\n",
    "\n",
    "        for i in range(1, local):\n",
    "            globals()['var_list_layer{}_w'.format(layer_index)].append(np.var(sum_for_var_w))\n",
    "            globals()['var_list_layer{}_b'.format(layer_index)].append(np.var(sum_for_var_b))\n",
    "  \n",
    "\n",
    "        VAR_final_list_w.append(globals()['var_list_layer{}_w'.format(layer_index)])\n",
    "        VAR_final_list_b.append(globals()['var_list_layer{}_b'.format(layer_index)])\n",
    "\n",
    "\n",
    "    Cluster_ACC.append(cluster_acc)\n",
    "    Cluster_LOSS.append(cluster_loss)\n",
    "    Silhouette_sc_c.append(best_Sil_score_c)\n",
    "\n",
    "\n",
    "    print(\"\\n\\n====================================================== One Global Epoch =====================================================================\\n\\n\")\n"
   ]
  },
  {
   "cell_type": "markdown",
   "metadata": {},
   "source": [
    "# working? yep:)"
   ]
  },
  {
   "cell_type": "code",
   "execution_count": 11,
   "metadata": {
    "colab": {
     "base_uri": "https://localhost:8080/"
    },
    "executionInfo": {
     "elapsed": 239,
     "status": "ok",
     "timestamp": 1627598233970,
     "user": {
      "displayName": "이훈민",
      "photoUrl": "",
      "userId": "00157268181097362793"
     },
     "user_tz": 240
    },
    "id": "w2XKazZ-4dgs",
    "outputId": "4f023b47-dd78-43b9-bdab-9a0bc7195aa5"
   },
   "outputs": [],
   "source": [
    "#클러스터 레이어들끼리 weight 확이 => 똑같지는 않은지 확인"
   ]
  },
  {
   "cell_type": "code",
   "execution_count": 12,
   "metadata": {
    "colab": {
     "base_uri": "https://localhost:8080/"
    },
    "executionInfo": {
     "elapsed": 282,
     "status": "ok",
     "timestamp": 1627663392403,
     "user": {
      "displayName": "이훈민",
      "photoUrl": "",
      "userId": "00157268181097362793"
     },
     "user_tz": 240
    },
    "id": "DGhQbiXaEUfJ",
    "outputId": "e7f4f01c-9b72-4b6e-f3ed-6859fc0a3587"
   },
   "outputs": [
    {
     "name": "stdout",
     "output_type": "stream",
     "text": [
      "Layer 0  ==> label 0, 1, 2 갯수 :  192 212 178\n",
      "Layer 2  ==> label 0, 1, 2 갯수 :  529 484 6\n",
      "Layer 4  ==> label 0, 1, 2 갯수 :  915 105 0\n",
      "Layer 6  ==> label 0, 1, 2 갯수 :  886 134 0\n",
      "Layer 7  ==> label 0, 1, 2 갯수 :  517 503 0\n"
     ]
    }
   ],
   "source": [
    "L0_label0, L0_label1, L0_label2 = 0, 0, 0 \n",
    "L1_label0, L1_label1, L1_label2 = 0, 0, 0 \n",
    "L2_label0, L2_label1, L2_label2 = 0, 0, 0 \n",
    "L3_label0, L3_label1, L3_label2 = 0, 0, 0 \n",
    "L4_label0, L4_label1, L4_label2 = 0, 0, 0 \n",
    "\n",
    "\n",
    "for i in range(int(len(label_list)/5)):\n",
    "    for k in range(5):\n",
    "        for j in range(len(label_list[0])):\n",
    "            if label_list[i*5 + k][j] == 0:\n",
    "                  globals()['L{}_label0'.format(k)] = globals()['L{}_label0'.format(k)] + 1 \n",
    "\n",
    "            elif label_list[i*5 + k][j] == 1:\n",
    "                globals()['L{}_label1'.format(k)] = globals()['L{}_label1'.format(k)] + 1\n",
    "\n",
    "            elif label_list[i*5 + k][j] == 2:\n",
    "                globals()['L{}_label2'.format(k)] = globals()['L{}_label2'.format(k)] + 1\n",
    "\n",
    "\n",
    "print(\"Layer 0  ==> label 0, 1, 2 갯수 : \", L0_label0, L0_label1, L0_label2)\n",
    "print(\"Layer 2  ==> label 0, 1, 2 갯수 : \", L1_label0, L1_label1, L1_label2)\n",
    "print(\"Layer 4  ==> label 0, 1, 2 갯수 : \", L2_label0, L2_label1, L2_label2)\n",
    "print(\"Layer 6  ==> label 0, 1, 2 갯수 : \", L3_label0, L3_label1, L3_label2)\n",
    "print(\"Layer 7  ==> label 0, 1, 2 갯수 : \", L4_label0, L4_label1, L4_label2)"
   ]
  },
  {
   "cell_type": "code",
   "execution_count": null,
   "metadata": {
    "id": "m4Zb_JoiIf2c"
   },
   "outputs": [],
   "source": []
  },
  {
   "cell_type": "code",
   "execution_count": 14,
   "metadata": {
    "colab": {
     "base_uri": "https://localhost:8080/",
     "height": 1000
    },
    "executionInfo": {
     "elapsed": 1102,
     "status": "ok",
     "timestamp": 1627663393500,
     "user": {
      "displayName": "이훈민",
      "photoUrl": "",
      "userId": "00157268181097362793"
     },
     "user_tz": 240
    },
    "id": "3mk4C9N2ADYL",
    "outputId": "dd709555-dac1-41ab-dbf9-7902ded192f0"
   },
   "outputs": [
    {
     "name": "stdout",
     "output_type": "stream",
     "text": [
      "Variance Accumulate Layer 0,2,4,6,7\n",
      "--------------------------------------------------------------------------------------------------\n",
      "\n",
      "\n",
      "Var Accumulate Weight\n",
      "--------------------------------------\n",
      "[0.0008569592, 0.002297841, 0.0044375733, 0.006896923, 0.00949737, 0.012008635, 0.014189657, 0.016365906, 0.01870568, 0.020879678, 0.022817006, 0.024752852, 0.026731579, 0.028387308, 0.029913856, 0.031281915, 0.032683782, 0.03400566, 0.03526382, 0.036475915, 0.03758113, 0.03859378, 0.03965853, 0.040405825, 0.04134639, 0.041995116, 0.042920753, 0.043603063, 0.044215236, 0.045003865, 0.045588937, 0.04612991, 0.04667655, 0.04741777, 0.04813201, 0.048654515, 0.049206104, 0.04992125, 0.050392434, 0.05091899, 0.05143277, 0.051820233, 0.052156508, 0.0525198, 0.052986927, 0.05338385, 0.05379023, 0.05418554, 0.054620445, 0.05488042]\n",
      "[0.00078937155, 0.0007464007, 0.0015851733, 0.0024236562, 0.0032404833, 0.004031538, 0.0048536505, 0.0056503885, 0.0063906815, 0.0071139503, 0.007854455, 0.008538746, 0.009207196, 0.009840578, 0.010463689, 0.011056502, 0.011593585, 0.012099562, 0.012550604, 0.013044033, 0.013496358, 0.013896603, 0.014339318, 0.014742883, 0.015139416, 0.015509955, 0.015822344, 0.016153155, 0.01647091, 0.016738731, 0.017020574, 0.017286442, 0.017576454, 0.017832775, 0.018105822, 0.018359335, 0.018618992, 0.018864587, 0.019138383, 0.019389315, 0.019597756, 0.019820444, 0.020069947, 0.020287408, 0.02049196, 0.020683922, 0.020927813, 0.021114744, 0.021308359, 0.021534316]\n",
      "[0.00088058715, 0.0013265262, 0.001767262, 0.0023169266, 0.0028918453, 0.0034588485, 0.0040005306, 0.004503003, 0.0049855546, 0.0054607205, 0.005941336, 0.0063581974, 0.006778625, 0.0071530887, 0.0075085834, 0.007869167, 0.008185416, 0.008462467, 0.008725741, 0.008987005, 0.009257985, 0.009494977, 0.009751454, 0.00999792, 0.010276592, 0.010516097, 0.0107468, 0.010980502, 0.0111924745, 0.011415368, 0.011670886, 0.011859585, 0.012096102, 0.012240563, 0.012421595, 0.012616591, 0.012818181, 0.013001961, 0.013180565, 0.013347466, 0.0134883225, 0.013707452, 0.013898265, 0.014064614, 0.014229962, 0.014381713, 0.014669874, 0.014912733, 0.015072448, 0.015250108]\n",
      "[0.0005539424, 0.00065936096, 0.00082412775, 0.0010362234, 0.0012820299, 0.001561756, 0.001839913, 0.0021210876, 0.002389756, 0.0026610277, 0.0029165142, 0.003181489, 0.0034299754, 0.0036728568, 0.0038898704, 0.004097297, 0.004292896, 0.004474087, 0.004641277, 0.0047946093, 0.0049463287, 0.0050959345, 0.005235282, 0.0053816084, 0.00552079, 0.0056653116, 0.0057876427, 0.0059142876, 0.0060484153, 0.006172235, 0.006292561, 0.0064016078, 0.0065208455, 0.0066317497, 0.006759403, 0.006869029, 0.007010339, 0.007150055, 0.0072716344, 0.0074054725, 0.0075405687, 0.0076742056, 0.0078031025, 0.007936013, 0.0080648465, 0.008177992, 0.008314037, 0.008448615, 0.008577615, 0.008715684]\n",
      "[0.0016003767, 0.0023309216, 0.0036875978, 0.005620072, 0.008235815, 0.011466426, 0.015136069, 0.019285861, 0.023660585, 0.028082555, 0.032814987, 0.037418485, 0.042122137, 0.04663958, 0.051147174, 0.05571314, 0.060119115, 0.06434612, 0.06816467, 0.07250638, 0.07669847, 0.080410644, 0.084487535, 0.088501, 0.092601016, 0.09638858, 0.10007393, 0.10368434, 0.10751333, 0.11093823, 0.11468361, 0.11835195, 0.12204876, 0.12582651, 0.12958539, 0.13307312, 0.13672432, 0.14047608, 0.14412396, 0.14792597, 0.15167418, 0.15531293, 0.15896885, 0.16215807, 0.16545336, 0.16876452, 0.17217308, 0.17583652, 0.17941196, 0.18318361]\n",
      "\n",
      "Var Accumulate Bias\n",
      "--------------------------------------\n",
      "[5.5442306e-05, 0.00013402196, 0.00025772926, 0.00048684614, 0.00074370473, 0.0011322863, 0.0015415805, 0.0019039072, 0.002317469, 0.0026999442, 0.002956462, 0.0034229408, 0.0037789093, 0.00402906, 0.004193321, 0.004342186, 0.0046008285, 0.0049309433, 0.005243809, 0.005674381, 0.005861882, 0.006209807, 0.006322835, 0.0065278984, 0.006815904, 0.007041927, 0.0072257863, 0.00738453, 0.0076573878, 0.0077573783, 0.007860703, 0.007916203, 0.008130481, 0.008164063, 0.008256733, 0.008221301, 0.008497015, 0.008707952, 0.008924639, 0.00899806, 0.009113964, 0.009245988, 0.009337632, 0.009536989, 0.009628717, 0.009745931, 0.009772068, 0.009814698, 0.009879061, 0.009977326]\n",
      "[7.064135e-05, 9.782195e-05, 0.00040484103, 0.0008487428, 0.0013486505, 0.0018867464, 0.002458871, 0.0031063934, 0.003844357, 0.0045681885, 0.0053316625, 0.006101099, 0.006927708, 0.0077359416, 0.008562405, 0.009346779, 0.010256803, 0.011025745, 0.011671873, 0.012480689, 0.013239998, 0.0138832545, 0.0146576315, 0.015249854, 0.01579911, 0.016301824, 0.016815074, 0.017365577, 0.017889034, 0.018369239, 0.018793194, 0.019351982, 0.019890282, 0.020314328, 0.020851012, 0.021140719, 0.02156381, 0.022103049, 0.022620197, 0.022967251, 0.023374662, 0.023929076, 0.024460223, 0.024777561, 0.024956003, 0.025341608, 0.02570714, 0.025955468, 0.026262436, 0.026555467]\n",
      "[9.629279e-05, 0.000309346, 0.00063586363, 0.001001147, 0.0015644694, 0.0018947427, 0.0022994843, 0.0025740531, 0.002850263, 0.0032029469, 0.00340727, 0.0036498972, 0.0037884526, 0.0040593594, 0.0041790362, 0.004522382, 0.0046905885, 0.004995104, 0.0052258875, 0.005273947, 0.0054423064, 0.005666245, 0.0058740554, 0.0058514765, 0.0059912866, 0.0059774956, 0.006175751, 0.0062814644, 0.006337137, 0.0065499563, 0.0066519976, 0.0069204806, 0.006949007, 0.0070774313, 0.0073775426, 0.007364285, 0.007446633, 0.0075898515, 0.007710635, 0.007786461, 0.0077289287, 0.0078042317, 0.007877689, 0.008042943, 0.008113588, 0.008228729, 0.008382371, 0.008554721, 0.008452995, 0.008536994]\n",
      "[4.245356e-05, 0.0003612198, 0.0009590252, 0.0016720144, 0.0023024622, 0.002944461, 0.0034834067, 0.0038898943, 0.0043072323, 0.0048524737, 0.0052940454, 0.005654571, 0.005728143, 0.005991159, 0.0062654293, 0.0065792333, 0.00667456, 0.0068233595, 0.0068629785, 0.006897337, 0.0070417654, 0.007303123, 0.0076793064, 0.007687664, 0.007848911, 0.008080669, 0.007985081, 0.0080263335, 0.008429756, 0.008675422, 0.00885972, 0.008795076, 0.008774392, 0.008738071, 0.008854119, 0.0089120455, 0.008967038, 0.009034162, 0.009292066, 0.009419998, 0.009437387, 0.009703565, 0.009836761, 0.009996032, 0.010167016, 0.010072837, 0.010143092, 0.010208139, 0.010392189, 0.010613328]\n",
      "[0.00035858882, 0.0016039808, 0.0033338186, 0.005493764, 0.0076740785, 0.009388151, 0.011248439, 0.0126935225, 0.01417422, 0.015374789, 0.016526273, 0.017455863, 0.017902445, 0.018640682, 0.019225901, 0.0197942, 0.020554455, 0.021090945, 0.021510698, 0.021856347, 0.022529224, 0.022704136, 0.023141343, 0.023417236, 0.024016844, 0.024588156, 0.024513891, 0.02530327, 0.025659095, 0.025899276, 0.026742717, 0.027675072, 0.02796562, 0.028379599, 0.02890554, 0.029683167, 0.030280834, 0.03084014, 0.031409673, 0.031717137, 0.032225173, 0.0325387, 0.032548215, 0.03339457, 0.034289446, 0.034882404, 0.03563909, 0.036195513, 0.036706522, 0.037753493]\n",
      "\n",
      "\n",
      "Variance Change Layer 0,2,4,6,7\n",
      "--------------------------------------------------------------------------------------------------\n",
      "\n",
      "\n",
      "Var Changes Weight\n",
      "--------------------------------------\n",
      "[0.0008569592, 0.002297841, 0.0044375733, 0.006896923, 0.00949737, 0.012008635, 0.014189657, 0.016365906, 0.01870568, 0.020879678, 0.022817006, 0.024752852, 0.026731579, 0.028387308, 0.029913856, 0.031281915, 0.032683782, 0.03400566, 0.03526382, 0.036475915, 0.03758113, 0.03859378, 0.03965853, 0.040405825, 0.04134639, 0.041995116, 0.042920753, 0.043603063, 0.044215236, 0.045003865, 0.045588937, 0.04612991, 0.04667655, 0.04741777, 0.04813201, 0.048654515, 0.049206104, 0.04992125, 0.050392434, 0.05091899, 0.05143277, 0.051820233, 0.052156508, 0.0525198, 0.052986927, 0.05338385, 0.05379023, 0.05418554, 0.054620445, 0.05488042]\n",
      "[0.00078937155, 0.0007464007, 0.0015851733, 0.0024236562, 0.0032404833, 0.004031538, 0.0048536505, 0.0056503885, 0.0063906815, 0.0071139503, 0.007854455, 0.008538746, 0.009207196, 0.009840578, 0.010463689, 0.011056502, 0.011593585, 0.012099562, 0.012550604, 0.013044033, 0.013496358, 0.013896603, 0.014339318, 0.014742883, 0.015139416, 0.015509955, 0.015822344, 0.016153155, 0.01647091, 0.016738731, 0.017020574, 0.017286442, 0.017576454, 0.017832775, 0.018105822, 0.018359335, 0.018618992, 0.018864587, 0.019138383, 0.019389315, 0.019597756, 0.019820444, 0.020069947, 0.020287408, 0.02049196, 0.020683922, 0.020927813, 0.021114744, 0.021308359, 0.021534316]\n",
      "[0.00088058715, 0.0013265262, 0.001767262, 0.0023169266, 0.0028918453, 0.0034588485, 0.0040005306, 0.004503003, 0.0049855546, 0.0054607205, 0.005941336, 0.0063581974, 0.006778625, 0.0071530887, 0.0075085834, 0.007869167, 0.008185416, 0.008462467, 0.008725741, 0.008987005, 0.009257985, 0.009494977, 0.009751454, 0.00999792, 0.010276592, 0.010516097, 0.0107468, 0.010980502, 0.0111924745, 0.011415368, 0.011670886, 0.011859585, 0.012096102, 0.012240563, 0.012421595, 0.012616591, 0.012818181, 0.013001961, 0.013180565, 0.013347466, 0.0134883225, 0.013707452, 0.013898265, 0.014064614, 0.014229962, 0.014381713, 0.014669874, 0.014912733, 0.015072448, 0.015250108]\n",
      "[0.0005539424, 0.00065936096, 0.00082412775, 0.0010362234, 0.0012820299, 0.001561756, 0.001839913, 0.0021210876, 0.002389756, 0.0026610277, 0.0029165142, 0.003181489, 0.0034299754, 0.0036728568, 0.0038898704, 0.004097297, 0.004292896, 0.004474087, 0.004641277, 0.0047946093, 0.0049463287, 0.0050959345, 0.005235282, 0.0053816084, 0.00552079, 0.0056653116, 0.0057876427, 0.0059142876, 0.0060484153, 0.006172235, 0.006292561, 0.0064016078, 0.0065208455, 0.0066317497, 0.006759403, 0.006869029, 0.007010339, 0.007150055, 0.0072716344, 0.0074054725, 0.0075405687, 0.0076742056, 0.0078031025, 0.007936013, 0.0080648465, 0.008177992, 0.008314037, 0.008448615, 0.008577615, 0.008715684]\n",
      "[0.0016003767, 0.0023309216, 0.0036875978, 0.005620072, 0.008235815, 0.011466426, 0.015136069, 0.019285861, 0.023660585, 0.028082555, 0.032814987, 0.037418485, 0.042122137, 0.04663958, 0.051147174, 0.05571314, 0.060119115, 0.06434612, 0.06816467, 0.07250638, 0.07669847, 0.080410644, 0.084487535, 0.088501, 0.092601016, 0.09638858, 0.10007393, 0.10368434, 0.10751333, 0.11093823, 0.11468361, 0.11835195, 0.12204876, 0.12582651, 0.12958539, 0.13307312, 0.13672432, 0.14047608, 0.14412396, 0.14792597, 0.15167418, 0.15531293, 0.15896885, 0.16215807, 0.16545336, 0.16876452, 0.17217308, 0.17583652, 0.17941196, 0.18318361]\n",
      "\n",
      "Var Changes Bias\n",
      "--------------------------------------\n",
      "[7.857966e-05, 0.0001237073, 0.00022911688, 0.0002568586, 0.00038858154, 0.00040929427, 0.00036232662, 0.00041356194, 0.0003824751, 0.0002565179, 0.00046647876, 0.00035596848, 0.00025015045, 0.00016426109, 0.00014886493, 0.0002586427, 0.00033011474, 0.0003128657, 0.00043057185, 0.00018750131, 0.00034792488, 0.0001130281, 0.00020506326, 0.00028800545, 0.00022602314, 0.00018385937, 0.00015874347, 0.00027285796, 9.999052e-05, 0.00010332512, 5.5499375e-05, 0.00021427777, 3.358256e-05, 9.267032e-05, -3.5432167e-05, 0.0002757134, 0.00021093711, 0.0002166871, 7.3420815e-05, 0.000115904026, 0.00013202429, 9.1644004e-05, 0.00019935705, 9.172782e-05, 0.0001172144, 2.6136637e-05, 4.263036e-05, 6.436277e-05, 9.8264776e-05]\n",
      "[2.7180598e-05, 0.0003070191, 0.00044390175, 0.00049990776, 0.00053809583, 0.0005721247, 0.0006475223, 0.0007379637, 0.00072383136, 0.00076347403, 0.00076943636, 0.0008266093, 0.0008082334, 0.0008264631, 0.0007843748, 0.0009100232, 0.00076894276, 0.0006461274, 0.0008088164, 0.00075930916, 0.0006432561, 0.000774377, 0.00059222244, 0.0005492568, 0.000502713, 0.00051325, 0.0005505029, 0.0005234573, 0.00048020482, 0.0004239548, 0.00055878796, 0.0005383007, 0.00042404607, 0.00053668395, 0.0002897065, 0.00042309053, 0.0005392395, 0.0005171485, 0.00034705363, 0.0004074108, 0.00055441447, 0.0005311463, 0.00031733885, 0.0001784414, 0.0003856048, 0.00036553293, 0.00024832785, 0.00030696765, 0.00029303133]\n",
      "[0.00021305322, 0.00032651762, 0.00036528334, 0.00056332245, 0.0003302733, 0.00040474162, 0.0002745688, 0.0002762098, 0.00035268394, 0.00020432309, 0.00024262723, 0.00013855542, 0.00027090684, 0.00011967681, 0.00034334557, 0.00016820664, 0.00030451547, 0.0002307836, 4.8059504e-05, 0.00016835937, 0.00022393838, 0.00020781066, -2.2578984e-05, 0.00013981014, -1.3791025e-05, 0.0001982553, 0.000105713494, 5.56726e-05, 0.00021281932, 0.00010204129, 0.00026848307, 2.852641e-05, 0.00012842426, 0.00030011125, -1.3257377e-05, 8.234801e-05, 0.00014321832, 0.00012078369, 7.5825956e-05, -5.7532452e-05, 7.530302e-05, 7.345714e-05, 0.00016525388, 7.0645474e-05, 0.00011514034, 0.00015364215, 0.00017235056, -0.0001017265, 8.399971e-05]\n",
      "[0.00031876625, 0.00059780537, 0.0007129892, 0.0006304479, 0.00064199883, 0.00053894566, 0.0004064876, 0.000417338, 0.0005452414, 0.0004415717, 0.00036052568, 7.357169e-05, 0.0002630162, 0.0002742703, 0.00031380402, 9.532645e-05, 0.00014879974, 3.9618928e-05, 3.4358352e-05, 0.00014442857, 0.00026135752, 0.00037618354, 8.357689e-06, 0.00016124686, 0.00023175776, -9.5588155e-05, 4.1252933e-05, 0.00040342286, 0.0002456652, 0.0001842985, -6.464403e-05, -2.0683743e-05, -3.632158e-05, 0.00011604838, 5.79264e-05, 5.4992735e-05, 6.712414e-05, 0.0002579037, 0.00012793206, 1.7388724e-05, 0.0002661785, 0.00013319589, 0.00015927106, 0.00017098337, -9.4179064e-05, 7.025525e-05, 6.5047294e-05, 0.00018404983, 0.00022113882]\n",
      "[0.001245392, 0.0017298379, 0.0021599452, 0.0021803146, 0.0017140722, 0.001860288, 0.0014450839, 0.0014806977, 0.0012005689, 0.0011514835, 0.0009295903, 0.0004465822, 0.00073823705, 0.0005852189, 0.0005682986, 0.0007602554, 0.00053649023, 0.00041975267, 0.0003456492, 0.00067287683, 0.0001749117, 0.00043720752, 0.00027589314, 0.0005996078, 0.0005713124, -7.4265525e-05, 0.0007893797, 0.00035582483, 0.00024018064, 0.0008434411, 0.0009323545, 0.00029054843, 0.00041397847, 0.0005259421, 0.0007776264, 0.00059766695, 0.0005593058, 0.00056953356, 0.0003074631, 0.00050803646, 0.00031352788, 9.514391e-06, 0.00084635615, 0.00089487433, 0.0005929582, 0.0007566847, 0.00055642426, 0.00051100925, 0.0010469705]\n",
      "\n",
      "Now Check the graph\n",
      "\n"
     ]
    },
    {
     "data": {
      "image/png": "[encoded data removed]",
      "text/plain": [
       "<Figure size 360x216 with 1 Axes>"
      ]
     },
     "metadata": {
      "needs_background": "light"
     },
     "output_type": "display_data"
    },
    {
     "data": {
      "image/png": "[encoded data removed]",
      "text/plain": [
       "<Figure size 360x216 with 1 Axes>"
      ]
     },
     "metadata": {
      "needs_background": "light"
     },
     "output_type": "display_data"
    },
    {
     "data": {
      "image/png": "[encoded data removed]",
      "text/plain": [
       "<Figure size 360x216 with 1 Axes>"
      ]
     },
     "metadata": {
      "needs_background": "light"
     },
     "output_type": "display_data"
    },
    {
     "data": {
      "image/png": "[encoded data removed]",
      "text/plain": [
       "<Figure size 360x216 with 1 Axes>"
      ]
     },
     "metadata": {
      "needs_background": "light"
     },
     "output_type": "display_data"
    }
   ],
   "source": [
    "var_changes_L0_w, var_changes_L2_w, var_changes_L4_w, var_changes_L6_w, var_changes_L7_w = [], [], [], [], [] \n",
    "var_accumulate_L0_w, var_accumulate_L2_w, var_accumulate_L4_w, var_accumulate_L6_w, var_accumulate_L7_w = [], [], [], [], [] \n",
    "\n",
    "var_changes_L0_b, var_changes_L2_b, var_changes_L4_b, var_changes_L6_b, var_changes_L7_b = [], [], [], [], [] \n",
    "var_accumulate_L0_b, var_accumulate_L2_b, var_accumulate_L4_b, var_accumulate_L6_b, var_accumulate_L7_b = [], [], [], [], [] \n",
    "\n",
    "\n",
    "for global_epoch in range(G_epoch-1):\n",
    "    for layer_index in num_layers_list:\n",
    "        sumss_w, sumss_b = 0, 0\n",
    "        for sks in range(globals()['G{}_num_clusters_in_layer{}_w'.format(global_epoch, layer_index)]):\n",
    "            sumss_w = sumss_w + globals()['G{}_c{}_w_layer{}'.format(global_epoch, sks, layer_index)][0] \n",
    "            sumss_b = sumss_b + globals()['G{}_c{}_w_layer{}'.format(global_epoch, sks, layer_index)][1]\n",
    "\n",
    "        sumss_w = sumss_w/globals()['G{}_num_clusters_in_layer{}_w'.format(global_epoch, layer_index)]\n",
    "        sumss_b = sumss_b/globals()['G{}_num_clusters_in_layer{}_w'.format(global_epoch, layer_index)]\n",
    "\n",
    "        globals()['var_accumulate_L{}_w'.format(layer_index)].append(np.var( sumss_w ))\n",
    "        \n",
    "        globals()['var_accumulate_L{}_b'.format(layer_index)].append(np.var( sumss_b ))\n",
    "        \n",
    "        \n",
    "\n",
    "for layer_index in num_layers_list:\n",
    "    for tmp_int in range(len(globals()['var_accumulate_L{}_w'.format(layer_index)])-1):\n",
    "        minus_w = globals()['var_accumulate_L{}_w'.format(layer_index)][tmp_int + 1] - globals()['var_accumulate_L{}_w'.format(layer_index)][tmp_int]\n",
    "        minus_b = globals()['var_accumulate_L{}_b'.format(layer_index)][tmp_int + 1] - globals()['var_accumulate_L{}_b'.format(layer_index)][tmp_int]        \n",
    "        globals()['var_changes_L{}_w'.format(layer_index)].append( minus_w )\n",
    "        globals()['var_changes_L{}_b'.format(layer_index)].append( minus_b )\n",
    "        \n",
    "\n",
    "print(\"Variance Accumulate Layer 0,2,4,6,7\\n--------------------------------------------------------------------------------------------------\\n\")\n",
    "\n",
    "print(\"\\nVar Accumulate Weight\\n--------------------------------------\")\n",
    "for j in num_layers_list:\n",
    "    print(globals()['var_accumulate_L{}_w'.format(j)])\n",
    "\n",
    "print(\"\\nVar Accumulate Bias\\n--------------------------------------\")\n",
    "for j in num_layers_list:\n",
    "    print(globals()['var_accumulate_L{}_b'.format(j)])\n",
    "\n",
    "print(\"\\n\\nVariance Change Layer 0,2,4,6,7\\n--------------------------------------------------------------------------------------------------\\n\")\n",
    "\n",
    "print(\"\\nVar Changes Weight\\n--------------------------------------\")\n",
    "for j in num_layers_list:\n",
    "    print(globals()['var_accumulate_L{}_w'.format(j)])\n",
    "\n",
    "print(\"\\nVar Changes Bias\\n--------------------------------------\")\n",
    "for j in num_layers_list:\n",
    "    print(globals()['var_changes_L{}_b'.format(j)])\n",
    "\n",
    "\n",
    "\n",
    "print(\"\\nNow Check the graph\\n\")\n",
    "\n",
    "plt.figure(figsize=(5,3))\n",
    "for j in num_layers_list:\n",
    "    plt.plot(globals()['var_accumulate_L{}_w'.format(j)])\n",
    "\n",
    "plt.figure(figsize=(5,3))\n",
    "for j in num_layers_list:\n",
    "    plt.plot(globals()['var_accumulate_L{}_b'.format(j)])\n",
    "\n",
    "plt.figure(figsize=(5,3))\n",
    "for j in num_layers_list:\n",
    "    plt.plot(globals()['var_changes_L{}_b'.format(j)])\n",
    "\n",
    "plt.figure(figsize=(5,3))\n",
    "for j in num_layers_list:\n",
    "    plt.plot(globals()['var_changes_L{}_b'.format(j)])\n"
   ]
  },
  {
   "cell_type": "code",
   "execution_count": null,
   "metadata": {
    "id": "PhcQRPgvMwlT"
   },
   "outputs": [],
   "source": []
  },
  {
   "cell_type": "code",
   "execution_count": 15,
   "metadata": {
    "colab": {
     "base_uri": "https://localhost:8080/",
     "height": 442
    },
    "executionInfo": {
     "elapsed": 6,
     "status": "ok",
     "timestamp": 1627663393501,
     "user": {
      "displayName": "이훈민",
      "photoUrl": "",
      "userId": "00157268181097362793"
     },
     "user_tz": 240
    },
    "id": "3Z0FOMEdHTVi",
    "outputId": "514d47d9-13cb-493b-e1e0-9267c208a77c"
   },
   "outputs": [
    {
     "name": "stdout",
     "output_type": "stream",
     "text": [
      "Distance Layer 0,2,4,6,7\n",
      "--------------------------------------------------------------------------------------------------\n",
      "[0.03130309, 0.056833513, 0.068564646, 0.078190975, 0.088966735, 0.09878622, 0.10709018, 0.1145734, 0.12235519, 0.12930435, 0.13461739, 0.14079334, 0.14655325, 0.15099727, 0.15455869, 0.15799354, 0.16160688, 0.16526392, 0.16864365, 0.17245051, 0.17511815, 0.17794785, 0.18017936, 0.18204723, 0.18431857, 0.18607391, 0.18805212, 0.18960923, 0.19133928, 0.19278815, 0.19398414, 0.19503964, 0.19651596, 0.19785488, 0.19915803, 0.19995373, 0.20155318, 0.20315117, 0.204335, 0.20524727, 0.20626667, 0.20723435, 0.2081982, 0.20938997, 0.21032484, 0.21115592, 0.21181478, 0.21263613, 0.2133283, 0.21396387]\n",
      "[0.026198063, 0.033673473, 0.042264797, 0.050847664, 0.059294, 0.067126796, 0.07463689, 0.08194, 0.088802814, 0.095062405, 0.10128847, 0.10684642, 0.11241572, 0.11743411, 0.12240565, 0.12673451, 0.13130072, 0.13512146, 0.13841414, 0.14222276, 0.14557076, 0.14840727, 0.15180272, 0.154239, 0.15667221, 0.15883629, 0.16087829, 0.16297367, 0.16499297, 0.1667244, 0.16812867, 0.1701563, 0.17203426, 0.1736109, 0.17539442, 0.17645286, 0.17811507, 0.18006653, 0.18182912, 0.1831114, 0.18451412, 0.18610835, 0.18782102, 0.1889744, 0.18963997, 0.19088931, 0.19221157, 0.19311962, 0.19406739, 0.19495377]\n",
      "[0.027566584, 0.03837562, 0.048093095, 0.059156008, 0.07003059, 0.07683846, 0.08438938, 0.088896126, 0.09365268, 0.097997695, 0.10008509, 0.103146516, 0.10544726, 0.10846081, 0.110318184, 0.11271919, 0.11479214, 0.11683222, 0.11849938, 0.120372266, 0.12176016, 0.12350246, 0.12507622, 0.12551446, 0.12644492, 0.12726036, 0.1290418, 0.12940185, 0.13040377, 0.1317707, 0.13262527, 0.13487656, 0.13576718, 0.13679044, 0.137758, 0.13822782, 0.13899554, 0.13998434, 0.14073609, 0.1415201, 0.14157611, 0.14238398, 0.143379, 0.14414343, 0.1449181, 0.14517142, 0.1452481, 0.14569241, 0.14621532, 0.14687967]\n",
      "[0.021031296, 0.028479394, 0.03771469, 0.046155557, 0.053051777, 0.059750047, 0.06506303, 0.06958053, 0.074412815, 0.078977674, 0.082683764, 0.0857167, 0.08730899, 0.08982347, 0.09225301, 0.09443083, 0.09591845, 0.096906334, 0.09794651, 0.09842409, 0.099511735, 0.10053784, 0.10191979, 0.10254523, 0.10350015, 0.10469541, 0.10449451, 0.10453718, 0.106165096, 0.106963485, 0.10787161, 0.10778251, 0.10797874, 0.107988745, 0.10841873, 0.10877332, 0.109162316, 0.10982594, 0.11104748, 0.111848556, 0.1123709, 0.11369327, 0.11444504, 0.11514265, 0.11603142, 0.11620034, 0.11675289, 0.11747767, 0.11834582, 0.119703755]\n",
      "[0.039473813, 0.059022684, 0.07949414, 0.099549875, 0.11872814, 0.13564938, 0.15237243, 0.16728947, 0.18176112, 0.19467129, 0.2072041, 0.21811417, 0.22763371, 0.23709111, 0.24627867, 0.25507632, 0.26369745, 0.27138048, 0.27804717, 0.28490335, 0.2923375, 0.29800606, 0.3043092, 0.31024885, 0.31666058, 0.32266998, 0.32733673, 0.33305794, 0.33826867, 0.34290138, 0.34869185, 0.354556, 0.35923153, 0.36413902, 0.36898786, 0.37415773, 0.37896258, 0.38405347, 0.3889017, 0.3931909, 0.39778727, 0.4019429, 0.40565425, 0.4103202, 0.41511187, 0.4193965, 0.42370147, 0.42800397, 0.4321553, 0.4371589] \n",
      "\n",
      "Check the graph\n",
      "\n"
     ]
    },
    {
     "data": {
      "image/png": "[encoded data removed]",
      "text/plain": [
       "<Figure size 432x288 with 1 Axes>"
      ]
     },
     "metadata": {
      "needs_background": "light"
     },
     "output_type": "display_data"
    }
   ],
   "source": [
    "from scipy.spatial import distance\n",
    "\n",
    "dist_0, dist_2, dist_4, dist_6, dist_7  = [], [], [], [], []\n",
    "\n",
    "for global_epoch in range(G_epoch): #1이 맞음 = 바꾸지 말기\n",
    "    for layer_index in num_layers_list:\n",
    "        globals()['G{}_w_layer{}'.format(global_epoch, layer_index)] = 0    \n",
    "\n",
    "\n",
    "for global_epoch in range(G_epoch-1):    #2가 맞음 = 바꾸지 말기\n",
    "    for layer_index in num_layers_list:\n",
    "        var_w = 0\n",
    "        for sks in range(globals()['G{}_num_clusters_in_layer{}_w'.format(global_epoch, layer_index)]):\n",
    "            var_w = var_w + globals()['G{}_c{}_w_layer{}'.format(global_epoch, sks, layer_index)]\n",
    "\n",
    "        var_w = var_w/globals()['G{}_num_clusters_in_layer{}_w'.format(global_epoch, layer_index)]\n",
    "\n",
    "        globals()['G{}_w_layer{}'.format(global_epoch, layer_index)] = var_w\n",
    "        globals()['dist_{}'.format(layer_index)].append(np.mean(distance.euclidean(globals()['G{}_w_layer{}'.format(global_epoch, layer_index)], globals()['G{}_w_layer{}'.format(global_epoch+1, layer_index)])))\n",
    "\n",
    "print(\"Distance Layer 0,2,4,6,7\\n--------------------------------------------------------------------------------------------------\")\n",
    "print(dist_0)\n",
    "print(dist_2)\n",
    "print(dist_4)\n",
    "print(dist_6)\n",
    "print(dist_7, \"\\n\\nCheck the graph\\n\")\n",
    "\n",
    "plt.plot(dist_0)\n",
    "plt.plot(dist_2)\n",
    "plt.plot(dist_4)\n",
    "plt.plot(dist_6)\n",
    "plt.plot(dist_7)\n",
    "\n",
    "plt.show()"
   ]
  },
  {
   "cell_type": "code",
   "execution_count": 16,
   "metadata": {
    "colab": {
     "base_uri": "https://localhost:8080/",
     "height": 483
    },
    "executionInfo": {
     "elapsed": 281,
     "status": "ok",
     "timestamp": 1627663393778,
     "user": {
      "displayName": "이훈민",
      "photoUrl": "",
      "userId": "00157268181097362793"
     },
     "user_tz": 240
    },
    "id": "4vSuPXEKhOVJ",
    "outputId": "63be1f9c-a0aa-4a2d-e582-008d021662f2"
   },
   "outputs": [
    {
     "name": "stdout",
     "output_type": "stream",
     "text": [
      "[[0.8119999766349792, 0.8259999752044678, 0.8159999847412109, 0.8479999899864197, 0.8040000200271606, 0.8180000185966492, 0.8140000104904175, 0.8180000185966492, 0.8220000267028809, 0.828000009059906, 0.8080000281333923, 0.8240000009536743, 0.8019999861717224, 0.843999981880188, 0.8360000252723694, 0.8240000009536743, 0.8100000023841858, 0.7960000038146973, 0.828000009059906, 0.8220000267028809], [0.8220000267028809, 0.7940000295639038, 0.7860000133514404, 0.7620000243186951, 0.777999997138977, 0.8080000281333923, 0.7540000081062317, 0.7379999756813049, 0.7379999756813049, 0.7519999742507935, 0.7839999794960022, 0.8379999995231628, 0.7879999876022339, 0.8539999723434448, 0.8080000281333923, 0.7739999890327454, 0.7879999876022339, 0.8080000281333923, 0.7639999985694885, 0.7979999780654907], [0.7900000214576721, 0.7760000228881836, 0.7919999957084656, 0.8019999861717224, 0.8100000023841858, 0.800000011920929, 0.8100000023841858, 0.8059999942779541, 0.8059999942779541, 0.7960000038146973, 0.8040000200271606, 0.7820000052452087, 0.8180000185966492, 0.8180000185966492, 0.8199999928474426, 0.8019999861717224, 0.8180000185966492, 0.8140000104904175, 0.7960000038146973, 0.8140000104904175], [0.8460000157356262, 0.8040000200271606, 0.8299999833106995, 0.8019999861717224, 0.7860000133514404, 0.8080000281333923, 0.8019999861717224, 0.8339999914169312, 0.8220000267028809, 0.7979999780654907, 0.7960000038146973, 0.7979999780654907, 0.8140000104904175, 0.8379999995231628, 0.800000011920929, 0.8180000185966492, 0.7860000133514404, 0.828000009059906, 0.7900000214576721, 0.7960000038146973], [0.8220000267028809, 0.8579999804496765, 0.843999981880188, 0.8180000185966492, 0.8539999723434448, 0.8360000252723694, 0.7940000295639038, 0.8259999752044678, 0.843999981880188, 0.8100000023841858, 0.828000009059906, 0.8299999833106995, 0.843999981880188, 0.8299999833106995, 0.8240000009536743, 0.8100000023841858, 0.8320000171661377, 0.8159999847412109, 0.828000009059906, 0.8220000267028809], [0.8399999737739563, 0.8460000157356262, 0.8159999847412109, 0.8579999804496765, 0.8339999914169312, 0.8379999995231628, 0.8640000224113464, 0.843999981880188, 0.8539999723434448, 0.843999981880188, 0.8500000238418579, 0.8180000185966492, 0.8519999980926514, 0.8539999723434448, 0.8259999752044678, 0.8379999995231628, 0.828000009059906, 0.8339999914169312, 0.8519999980926514, 0.8199999928474426], [0.8539999723434448, 0.8180000185966492, 0.8460000157356262, 0.8420000076293945, 0.8379999995231628, 0.8500000238418579, 0.8619999885559082, 0.8339999914169312, 0.8500000238418579, 0.8560000061988831, 0.8579999804496765, 0.8299999833106995, 0.8479999899864197, 0.8500000238418579, 0.8420000076293945, 0.8379999995231628, 0.8379999995231628, 0.8379999995231628, 0.8159999847412109, 0.8399999737739563], [0.8539999723434448, 0.8299999833106995, 0.8560000061988831, 0.8379999995231628, 0.8579999804496765, 0.8379999995231628, 0.8740000128746033, 0.8519999980926514, 0.8199999928474426, 0.8399999737739563, 0.8659999966621399, 0.8560000061988831, 0.8519999980926514, 0.8579999804496765, 0.8500000238418579, 0.8500000238418579, 0.8360000252723694, 0.8740000128746033, 0.8299999833106995, 0.8479999899864197], [0.8679999709129333, 0.843999981880188, 0.8600000143051147, 0.843999981880188, 0.8759999871253967, 0.8640000224113464, 0.8339999914169312, 0.8560000061988831, 0.8840000033378601, 0.878000020980835, 0.8600000143051147, 0.8379999995231628, 0.8579999804496765, 0.8360000252723694, 0.8399999737739563, 0.8259999752044678, 0.8220000267028809, 0.8640000224113464, 0.8479999899864197, 0.8259999752044678], [0.8619999885559082, 0.8399999737739563, 0.878000020980835, 0.8820000290870667, 0.8479999899864197, 0.8740000128746033, 0.8460000157356262, 0.8640000224113464, 0.828000009059906, 0.828000009059906, 0.8199999928474426, 0.8560000061988831, 0.8679999709129333, 0.8619999885559082, 0.843999981880188, 0.8460000157356262, 0.8320000171661377, 0.8619999885559082, 0.8679999709129333, 0.8460000157356262], [0.8539999723434448, 0.8519999980926514, 0.8399999737739563, 0.8679999709129333, 0.8320000171661377, 0.8899999856948853, 0.8700000047683716, 0.8679999709129333, 0.8659999966621399, 0.8560000061988831, 0.8679999709129333, 0.878000020980835, 0.8640000224113464, 0.8700000047683716, 0.8920000195503235, 0.8360000252723694, 0.8360000252723694, 0.8820000290870667, 0.8659999966621399, 0.8880000114440918], [0.8579999804496765, 0.828000009059906, 0.8640000224113464, 0.8659999966621399, 0.871999979019165, 0.878000020980835, 0.8579999804496765, 0.843999981880188, 0.8240000009536743, 0.8740000128746033, 0.8759999871253967, 0.8659999966621399, 0.8600000143051147, 0.8740000128746033, 0.8799999952316284, 0.8700000047683716, 0.8700000047683716, 0.8479999899864197, 0.8740000128746033, 0.8519999980926514], [0.8640000224113464, 0.843999981880188, 0.8479999899864197, 0.871999979019165, 0.871999979019165, 0.8700000047683716, 0.8679999709129333, 0.8659999966621399, 0.871999979019165, 0.8619999885559082, 0.8740000128746033, 0.871999979019165, 0.8820000290870667, 0.8679999709129333, 0.8579999804496765, 0.8519999980926514, 0.871999979019165, 0.8679999709129333, 0.8859999775886536, 0.8600000143051147], [0.871999979019165, 0.8700000047683716, 0.8659999966621399, 0.8679999709129333, 0.871999979019165, 0.8939999938011169, 0.8700000047683716, 0.8880000114440918, 0.8159999847412109, 0.8600000143051147, 0.8679999709129333, 0.8980000019073486, 0.8640000224113464, 0.8360000252723694, 0.8579999804496765, 0.8679999709129333, 0.8360000252723694, 0.8339999914169312, 0.8640000224113464, 0.8560000061988831], [0.878000020980835, 0.8539999723434448, 0.8960000276565552, 0.8619999885559082, 0.8759999871253967, 0.8700000047683716, 0.8700000047683716, 0.878000020980835, 0.8519999980926514, 0.871999979019165, 0.9039999842643738, 0.8659999966621399, 0.8619999885559082, 0.8820000290870667, 0.8840000033378601, 0.8659999966621399, 0.8199999928474426, 0.8500000238418579, 0.8539999723434448, 0.8700000047683716], [0.8519999980926514, 0.8579999804496765, 0.8659999966621399, 0.8640000224113464, 0.8640000224113464, 0.8920000195503235, 0.8840000033378601, 0.8679999709129333, 0.8640000224113464, 0.8700000047683716, 0.8519999980926514, 0.8679999709129333, 0.8980000019073486, 0.8759999871253967, 0.8500000238418579, 0.8659999966621399, 0.8399999737739563, 0.8759999871253967, 0.8679999709129333, 0.8659999966621399], [0.8840000033378601, 0.8420000076293945, 0.8840000033378601, 0.8640000224113464, 0.8960000276565552, 0.8659999966621399, 0.8799999952316284, 0.8659999966621399, 0.8920000195503235, 0.8560000061988831, 0.8799999952316284, 0.8980000019073486, 0.843999981880188, 0.8740000128746033, 0.8899999856948853, 0.8640000224113464, 0.8600000143051147, 0.878000020980835, 0.871999979019165, 0.8579999804496765], [0.8960000276565552, 0.8740000128746033, 0.8920000195503235, 0.8700000047683716, 0.8999999761581421, 0.8640000224113464, 0.8880000114440918, 0.8740000128746033, 0.878000020980835, 0.8679999709129333, 0.9100000262260437, 0.8500000238418579, 0.8679999709129333, 0.8679999709129333, 0.8579999804496765, 0.8859999775886536, 0.8539999723434448, 0.8880000114440918, 0.8640000224113464, 0.8659999966621399], [0.8820000290870667, 0.8619999885559082, 0.8579999804496765, 0.8560000061988831, 0.871999979019165, 0.8500000238418579, 0.8759999871253967, 0.8679999709129333, 0.8920000195503235, 0.8679999709129333, 0.9079999923706055, 0.8740000128746033, 0.8640000224113464, 0.8999999761581421, 0.8880000114440918, 0.8640000224113464, 0.8799999952316284, 0.8799999952316284, 0.8759999871253967, 0.8939999938011169], [0.8659999966621399, 0.8479999899864197, 0.8960000276565552, 0.8579999804496765, 0.8759999871253967, 0.906000018119812, 0.8539999723434448, 0.8759999871253967, 0.8619999885559082, 0.8600000143051147, 0.871999979019165, 0.8659999966621399, 0.8519999980926514, 0.8740000128746033, 0.8999999761581421, 0.8840000033378601, 0.8519999980926514, 0.8880000114440918, 0.8759999871253967, 0.8799999952316284], [0.8920000195503235, 0.8740000128746033, 0.8840000033378601, 0.8799999952316284, 0.8820000290870667, 0.8679999709129333, 0.8740000128746033, 0.8759999871253967, 0.8920000195503235, 0.8880000114440918, 0.8820000290870667, 0.9160000085830688, 0.8619999885559082, 0.8939999938011169, 0.8740000128746033, 0.8799999952316284, 0.878000020980835, 0.8799999952316284, 0.8640000224113464, 0.8560000061988831], [0.8999999761581421, 0.8920000195503235, 0.8579999804496765, 0.8700000047683716, 0.8799999952316284, 0.8939999938011169, 0.8700000047683716, 0.8859999775886536, 0.8799999952316284, 0.8539999723434448, 0.8679999709129333, 0.8880000114440918, 0.8740000128746033, 0.8859999775886536, 0.8840000033378601, 0.8399999737739563, 0.8799999952316284, 0.8740000128746033, 0.8600000143051147, 0.8679999709129333], [0.8759999871253967, 0.8619999885559082, 0.871999979019165, 0.8659999966621399, 0.878000020980835, 0.878000020980835, 0.8679999709129333, 0.8619999885559082, 0.8980000019073486, 0.8759999871253967, 0.878000020980835, 0.843999981880188, 0.8519999980926514, 0.8740000128746033, 0.8880000114440918, 0.8659999966621399, 0.8619999885559082, 0.8600000143051147, 0.8700000047683716, 0.8759999871253967], [0.8859999775886536, 0.8880000114440918, 0.8820000290870667, 0.871999979019165, 0.8619999885559082, 0.8640000224113464, 0.8859999775886536, 0.9079999923706055, 0.8679999709129333, 0.8859999775886536, 0.8939999938011169, 0.8759999871253967, 0.8500000238418579, 0.878000020980835, 0.8820000290870667, 0.8799999952316284, 0.8360000252723694, 0.8840000033378601, 0.8740000128746033, 0.8799999952316284], [0.9139999747276306, 0.8560000061988831, 0.8360000252723694, 0.8859999775886536, 0.8740000128746033, 0.878000020980835, 0.8579999804496765, 0.9020000100135803, 0.8859999775886536, 0.8820000290870667, 0.8980000019073486, 0.8640000224113464, 0.8920000195503235, 0.8939999938011169, 0.8679999709129333, 0.8920000195503235, 0.8679999709129333, 0.878000020980835, 0.8859999775886536, 0.8799999952316284], [0.9079999923706055, 0.8579999804496765, 0.8700000047683716, 0.8679999709129333, 0.8820000290870667, 0.8840000033378601, 0.8600000143051147, 0.8799999952316284, 0.8980000019073486, 0.8759999871253967, 0.8980000019073486, 0.8820000290870667, 0.8659999966621399, 0.8880000114440918, 0.8740000128746033, 0.8619999885559082, 0.8899999856948853, 0.9120000004768372, 0.8640000224113464, 0.8899999856948853], [0.8600000143051147, 0.8759999871253967, 0.8859999775886536, 0.871999979019165, 0.8939999938011169, 0.8880000114440918, 0.8960000276565552, 0.8939999938011169, 0.8820000290870667, 0.8740000128746033, 0.8640000224113464, 0.8859999775886536, 0.8880000114440918, 0.8659999966621399, 0.8600000143051147, 0.8759999871253967, 0.8679999709129333, 0.8980000019073486, 0.906000018119812, 0.8679999709129333], [0.878000020980835, 0.8820000290870667, 0.8799999952316284, 0.8880000114440918, 0.8920000195503235, 0.8840000033378601, 0.8899999856948853, 0.8759999871253967, 0.8840000033378601, 0.8679999709129333, 0.8539999723434448, 0.8840000033378601, 0.8920000195503235, 0.921999990940094, 0.8820000290870667, 0.8880000114440918, 0.8420000076293945, 0.8840000033378601, 0.8820000290870667, 0.8899999856948853], [0.8759999871253967, 0.8939999938011169, 0.8920000195503235, 0.8759999871253967, 0.8880000114440918, 0.8740000128746033, 0.8880000114440918, 0.8640000224113464, 0.8939999938011169, 0.878000020980835, 0.8740000128746033, 0.9200000166893005, 0.8840000033378601, 0.8980000019073486, 0.8899999856948853, 0.8619999885559082, 0.871999979019165, 0.8840000033378601, 0.8939999938011169, 0.8960000276565552], [0.9079999923706055, 0.8659999966621399, 0.8939999938011169, 0.871999979019165, 0.9079999923706055, 0.8840000033378601, 0.8859999775886536, 0.8759999871253967, 0.8659999966621399, 0.8799999952316284, 0.8840000033378601, 0.8980000019073486, 0.8840000033378601, 0.8500000238418579, 0.871999979019165, 0.878000020980835, 0.8619999885559082, 0.9100000262260437, 0.8799999952316284, 0.878000020980835], [0.8759999871253967, 0.8619999885559082, 0.8980000019073486, 0.8920000195503235, 0.8980000019073486, 0.871999979019165, 0.8859999775886536, 0.8740000128746033, 0.8859999775886536, 0.8659999966621399, 0.8920000195503235, 0.8999999761581421, 0.8960000276565552, 0.8859999775886536, 0.8700000047683716, 0.8939999938011169, 0.8740000128746033, 0.8999999761581421, 0.8859999775886536, 0.8640000224113464], [0.8640000224113464, 0.8740000128746033, 0.871999979019165, 0.8799999952316284, 0.8740000128746033, 0.8700000047683716, 0.8960000276565552, 0.906000018119812, 0.8619999885559082, 0.8880000114440918, 0.9079999923706055, 0.9139999747276306, 0.8980000019073486, 0.8960000276565552, 0.8320000171661377, 0.8759999871253967, 0.8899999856948853, 0.878000020980835, 0.8880000114440918, 0.9079999923706055], [0.878000020980835, 0.8679999709129333, 0.8920000195503235, 0.8960000276565552, 0.8740000128746033, 0.8859999775886536, 0.8700000047683716, 0.8939999938011169, 0.8880000114440918, 0.8840000033378601, 0.8920000195503235, 0.906000018119812, 0.8740000128746033, 0.8920000195503235, 0.8740000128746033, 0.8960000276565552, 0.8659999966621399, 0.8920000195503235, 0.9020000100135803, 0.8820000290870667], [0.8880000114440918, 0.8619999885559082, 0.8960000276565552, 0.8920000195503235, 0.9100000262260437, 0.8799999952316284, 0.8939999938011169, 0.8659999966621399, 0.8759999871253967, 0.8939999938011169, 0.9039999842643738, 0.8999999761581421, 0.8880000114440918, 0.9160000085830688, 0.906000018119812, 0.8640000224113464, 0.8619999885559082, 0.8500000238418579, 0.8679999709129333, 0.8820000290870667], [0.8859999775886536, 0.8899999856948853, 0.8939999938011169, 0.8999999761581421, 0.8840000033378601, 0.8899999856948853, 0.906000018119812, 0.8840000033378601, 0.9020000100135803, 0.8939999938011169, 0.8820000290870667, 0.9020000100135803, 0.8619999885559082, 0.8740000128746033, 0.8899999856948853, 0.871999979019165, 0.8980000019073486, 0.878000020980835, 0.8880000114440918, 0.8980000019073486], [0.9179999828338623, 0.8619999885559082, 0.8700000047683716, 0.8899999856948853, 0.8820000290870667, 0.8960000276565552, 0.8939999938011169, 0.8740000128746033, 0.9100000262260437, 0.878000020980835, 0.8679999709129333, 0.8999999761581421, 0.8859999775886536, 0.8840000033378601, 0.8899999856948853, 0.8899999856948853, 0.878000020980835, 0.8799999952316284, 0.8560000061988831, 0.8880000114440918], [0.8399999737739563, 0.8920000195503235, 0.9120000004768372, 0.8740000128746033, 0.8820000290870667, 0.8999999761581421, 0.9100000262260437, 0.8759999871253967, 0.906000018119812, 0.9079999923706055, 0.8820000290870667, 0.8920000195503235, 0.8939999938011169, 0.8939999938011169, 0.9100000262260437, 0.8579999804496765, 0.8700000047683716, 0.8960000276565552, 0.8939999938011169, 0.8820000290870667], [0.8859999775886536, 0.8640000224113464, 0.8799999952316284, 0.8659999966621399, 0.9179999828338623, 0.8980000019073486, 0.9100000262260437, 0.8980000019073486, 0.8859999775886536, 0.8920000195503235, 0.8840000033378601, 0.8799999952316284, 0.8840000033378601, 0.8999999761581421, 0.8820000290870667, 0.8820000290870667, 0.8659999966621399, 0.8939999938011169, 0.8960000276565552, 0.9020000100135803], [0.8980000019073486, 0.8539999723434448, 0.9039999842643738, 0.9100000262260437, 0.8880000114440918, 0.9020000100135803, 0.8880000114440918, 0.8600000143051147, 0.8859999775886536, 0.8820000290870667, 0.8980000019073486, 0.8679999709129333, 0.8740000128746033, 0.8759999871253967, 0.8700000047683716, 0.9020000100135803, 0.9079999923706055, 0.9039999842643738, 0.8840000033378601, 0.8980000019073486], [0.8920000195503235, 0.878000020980835, 0.9039999842643738, 0.8659999966621399, 0.9179999828338623, 0.8759999871253967, 0.8960000276565552, 0.8759999871253967, 0.878000020980835, 0.8859999775886536, 0.878000020980835, 0.8899999856948853, 0.8899999856948853, 0.8820000290870667, 0.9020000100135803, 0.878000020980835, 0.8960000276565552, 0.878000020980835, 0.9120000004768372, 0.9079999923706055], [0.8960000276565552, 0.8899999856948853, 0.8759999871253967, 0.8899999856948853, 0.8899999856948853, 0.8939999938011169, 0.8880000114440918, 0.9079999923706055, 0.8600000143051147, 0.9100000262260437, 0.8859999775886536, 0.8659999966621399, 0.8820000290870667, 0.8980000019073486, 0.8859999775886536, 0.8539999723434448, 0.8799999952316284, 0.9079999923706055, 0.8659999966621399, 0.8859999775886536], [0.9020000100135803, 0.8880000114440918, 0.9039999842643738, 0.8560000061988831, 0.906000018119812, 0.8619999885559082, 0.9039999842643738, 0.8960000276565552, 0.8920000195503235, 0.8640000224113464, 0.8999999761581421, 0.8799999952316284, 0.9039999842643738, 0.8799999952316284, 0.8799999952316284, 0.9100000262260437, 0.8700000047683716, 0.878000020980835, 0.8759999871253967, 0.8799999952316284], [0.9039999842643738, 0.8700000047683716, 0.8740000128746033, 0.8999999761581421, 0.8859999775886536, 0.9100000262260437, 0.9020000100135803, 0.878000020980835, 0.9039999842643738, 0.9100000262260437, 0.9139999747276306, 0.8859999775886536, 0.8840000033378601, 0.8859999775886536, 0.871999979019165, 0.8899999856948853, 0.8579999804496765, 0.8960000276565552, 0.9179999828338623, 0.8840000033378601], [0.8740000128746033, 0.8840000033378601, 0.8920000195503235, 0.8840000033378601, 0.9020000100135803, 0.8859999775886536, 0.8859999775886536, 0.9039999842643738, 0.8939999938011169, 0.8920000195503235, 0.8759999871253967, 0.9020000100135803, 0.8759999871253967, 0.8740000128746033, 0.8700000047683716, 0.871999979019165, 0.8700000047683716, 0.8939999938011169, 0.8999999761581421, 0.8960000276565552], [0.9020000100135803, 0.8920000195503235, 0.9039999842643738, 0.9039999842643738, 0.8999999761581421, 0.9079999923706055, 0.8960000276565552, 0.9240000247955322, 0.9100000262260437, 0.8859999775886536, 0.8960000276565552, 0.8939999938011169, 0.8840000033378601, 0.8999999761581421, 0.8980000019073486, 0.8759999871253967, 0.8579999804496765, 0.8980000019073486, 0.8799999952316284, 0.8899999856948853], [0.9120000004768372, 0.8740000128746033, 0.878000020980835, 0.8899999856948853, 0.878000020980835, 0.906000018119812, 0.8840000033378601, 0.8600000143051147, 0.878000020980835, 0.8939999938011169, 0.8840000033378601, 0.8640000224113464, 0.8980000019073486, 0.8980000019073486, 0.9039999842643738, 0.8759999871253967, 0.8759999871253967, 0.8920000195503235, 0.8859999775886536, 0.8920000195503235], [0.8880000114440918, 0.8960000276565552, 0.8740000128746033, 0.8820000290870667, 0.878000020980835, 0.8899999856948853, 0.9259999990463257, 0.9079999923706055, 0.8820000290870667, 0.8679999709129333, 0.8799999952316284, 0.8939999938011169, 0.8679999709129333, 0.8960000276565552, 0.8920000195503235, 0.8980000019073486, 0.8799999952316284, 0.8759999871253967, 0.8899999856948853, 0.8939999938011169], [0.8880000114440918, 0.8960000276565552, 0.906000018119812, 0.8859999775886536, 0.8579999804496765, 0.8899999856948853, 0.8980000019073486, 0.8999999761581421, 0.9020000100135803, 0.8840000033378601, 0.906000018119812, 0.8939999938011169, 0.9039999842643738, 0.8679999709129333, 0.8799999952316284, 0.8799999952316284, 0.871999979019165, 0.8939999938011169, 0.9120000004768372, 0.8920000195503235], [0.878000020980835, 0.8939999938011169, 0.8880000114440918, 0.8920000195503235, 0.8960000276565552, 0.8920000195503235, 0.8960000276565552, 0.9259999990463257, 0.8759999871253967, 0.8820000290870667, 0.8700000047683716, 0.8960000276565552, 0.906000018119812, 0.8999999761581421, 0.8840000033378601, 0.8840000033378601, 0.8659999966621399, 0.8740000128746033, 0.8920000195503235, 0.8899999856948853], [0.8960000276565552, 0.8679999709129333, 0.8519999980926514, 0.9020000100135803, 0.9259999990463257, 0.8980000019073486, 0.9139999747276306, 0.8999999761581421, 0.9039999842643738, 0.906000018119812, 0.8980000019073486, 0.8759999871253967, 0.8840000033378601, 0.8820000290870667, 0.8999999761581421, 0.8920000195503235, 0.8960000276565552, 0.9179999828338623, 0.9160000085830688, 0.8880000114440918], [0.8619999885559082, 0.8880000114440918, 0.8820000290870667, 0.8759999871253967, 0.8939999938011169, 0.8939999938011169, 0.8960000276565552, 0.921999990940094, 0.9100000262260437, 0.8899999856948853, 0.8799999952316284, 0.8880000114440918, 0.8679999709129333, 0.8560000061988831, 0.8880000114440918, 0.8880000114440918, 0.8820000290870667, 0.8840000033378601, 0.9100000262260437, 0.8920000195503235]]\n",
      "[[0.5150269865989685, 0.4675908088684082, 0.5397048592567444, 0.46354904770851135, 0.46991726756095886, 0.5202000737190247, 0.5272961258888245, 0.4872649610042572, 0.5230341553688049, 0.48824113607406616, 0.520457923412323, 0.490463525056839, 0.5371631979942322, 0.39194023609161377, 0.46359875798225403, 0.4966096580028534, 0.5642387270927429, 0.5652657747268677, 0.5114829540252686, 0.45208317041397095], [0.5146192908287048, 0.5889303088188171, 0.5952247977256775, 0.5677974820137024, 0.679804801940918, 0.5296046733856201, 0.6823199987411499, 0.6695066094398499, 0.6762076616287231, 0.6461384296417236, 0.5419350862503052, 0.4592059552669525, 0.5769162774085999, 0.38141149282455444, 0.5216909050941467, 0.5844876766204834, 0.5637081861495972, 0.553581714630127, 0.6328681707382202, 0.6047101616859436], [0.5786174535751343, 0.6407214999198914, 0.5719487071037292, 0.5557159781455994, 0.590194821357727, 0.5454203486442566, 0.5180869698524475, 0.516202986240387, 0.5234987735748291, 0.5527707934379578, 0.5257521867752075, 0.6363979578018188, 0.45878833532333374, 0.5437542200088501, 0.5369943976402283, 0.5170862078666687, 0.5011019110679626, 0.5032578110694885, 0.5237098336219788, 0.520595908164978], [0.44502028822898865, 0.5067023038864136, 0.48199623823165894, 0.5328521728515625, 0.5177028775215149, 0.5123389363288879, 0.5610256195068359, 0.4841555655002594, 0.4749322533607483, 0.5759230852127075, 0.6404955387115479, 0.5590322017669678, 0.5659221410751343, 0.4804568290710449, 0.5779945850372314, 0.5696609020233154, 0.6376356482505798, 0.46222448348999023, 0.5698357820510864, 0.6273966431617737], [0.5181679129600525, 0.4843423664569855, 0.45271849632263184, 0.5805131196975708, 0.4297749698162079, 0.4636342227458954, 0.5812835693359375, 0.5379561185836792, 0.5779522657394409, 0.5379190444946289, 0.5568346977233887, 0.46726176142692566, 0.5087613463401794, 0.5672582387924194, 0.5310593843460083, 0.5477830767631531, 0.505260705947876, 0.588196873664856, 0.5266698598861694, 0.5010802149772644], [0.5592650175094604, 0.5283409953117371, 0.5650783777236938, 0.5240293145179749, 0.5326979160308838, 0.47321954369544983, 0.3308585286140442, 0.40497881174087524, 0.46217596530914307, 0.4631306529045105, 0.5216140747070312, 0.5869787931442261, 0.4602484107017517, 0.5335006713867188, 0.504554271697998, 0.4719652533531189, 0.5965349674224854, 0.5299021601676941, 0.4680490493774414, 0.5766460299491882], [0.5124679207801819, 0.6078287363052368, 0.46859508752822876, 0.5617480278015137, 0.517143726348877, 0.5233906507492065, 0.43717488646507263, 0.5989218950271606, 0.48397043347358704, 0.46122127771377563, 0.470150887966156, 0.614120364189148, 0.46858716011047363, 0.5561510324478149, 0.5777841806411743, 0.5134633779525757, 0.5408949255943298, 0.4873162806034088, 0.5947517156600952, 0.5751516819000244], [0.5093342065811157, 0.5520409941673279, 0.4849705398082733, 0.5838704705238342, 0.5109401345252991, 0.6430791020393372, 0.45385217666625977, 0.6084079146385193, 0.7235742807388306, 0.5745547413825989, 0.4457576870918274, 0.4679456353187561, 0.6024138927459717, 0.40725600719451904, 0.4865458011627197, 0.47836634516716003, 0.6583223342895508, 0.4894953668117523, 0.5993193984031677, 0.5309353470802307], [0.5294429063796997, 0.5946537852287292, 0.5482653379440308, 0.5390296578407288, 0.5298479199409485, 0.5361024141311646, 0.5630659461021423, 0.49642789363861084, 0.40898025035858154, 0.4317798316478729, 0.5219196677207947, 0.5719090700149536, 0.5980179309844971, 0.6613671183586121, 0.5371476411819458, 0.5321072340011597, 0.6487540602684021, 0.5855560302734375, 0.5634543299674988, 0.6037099361419678], [0.4522753357887268, 0.5438949465751648, 0.47148439288139343, 0.5048990249633789, 0.6796799898147583, 0.5085709095001221, 0.6066661477088928, 0.44411757588386536, 0.6856691241264343, 0.6450254917144775, 0.7997307777404785, 0.4844215512275696, 0.4641774594783783, 0.5767835378646851, 0.625285267829895, 0.4599151611328125, 0.6662851572036743, 0.5625547766685486, 0.4057510495185852, 0.5377913117408752], [0.6465409994125366, 0.5328991413116455, 0.7170425653457642, 0.5614117980003357, 0.6672273278236389, 0.47321102023124695, 0.536331832408905, 0.6059243679046631, 0.5538042187690735, 0.5197253227233887, 0.6645349264144897, 0.45674073696136475, 0.5519092679023743, 0.6759331226348877, 0.34419482946395874, 0.5654255151748657, 0.652726411819458, 0.4758410155773163, 0.6184550523757935, 0.4835454225540161], [0.5330008268356323, 0.7022249698638916, 0.5397225618362427, 0.5026612877845764, 0.5731533169746399, 0.5256160497665405, 0.6199085712432861, 0.5046325922012329, 0.7678675055503845, 0.5533417463302612, 0.636268138885498, 0.6510724425315857, 0.48894578218460083, 0.47690248489379883, 0.472312867641449, 0.5196776986122131, 0.5293161273002625, 0.5995264053344727, 0.5407575964927673, 0.6857812404632568], [0.5070083141326904, 0.6740964651107788, 0.5456973910331726, 0.6507801413536072, 0.588346004486084, 0.6602799296379089, 0.7698389291763306, 0.5194247364997864, 0.5329872965812683, 0.48812341690063477, 0.6729874014854431, 0.6446877121925354, 0.4639134407043457, 0.4985935688018799, 0.7057107090950012, 0.6252263188362122, 0.518403172492981, 0.5223801732063293, 0.42217931151390076, 0.6149613261222839], [0.63605797290802, 0.554906964302063, 0.6714434027671814, 0.6831913590431213, 0.5218389630317688, 0.5128141045570374, 0.6278335452079773, 0.5649312734603882, 0.7731236219406128, 0.5244920253753662, 0.5864725708961487, 0.43794381618499756, 0.5513936281204224, 0.7585042715072632, 0.6260876059532166, 0.5763678550720215, 0.7722433805465698, 0.7591676115989685, 0.6219182014465332, 0.591610848903656], [0.5956440567970276, 0.6300624012947083, 0.47195959091186523, 0.6568127870559692, 0.524822473526001, 0.5543238520622253, 0.5906592607498169, 0.540795087814331, 0.7254970073699951, 0.546893835067749, 0.5820229649543762, 0.7324833869934082, 0.5606337785720825, 0.578561007976532, 0.5872694849967957, 0.7011503577232361, 0.807595431804657, 0.6175746321678162, 0.5968552231788635, 0.6868802309036255], [0.645878791809082, 0.6591691374778748, 0.6131216287612915, 0.6209925413131714, 0.5821607112884521, 0.484548419713974, 0.5313084125518799, 0.6037607789039612, 0.6961621046066284, 0.5744035840034485, 0.5454846024513245, 0.6576429605484009, 0.5058223009109497, 0.5199533104896545, 0.633656919002533, 0.6597305536270142, 0.7652828097343445, 0.655570387840271, 0.6870951056480408, 0.6707726120948792], [0.6378247737884521, 0.7292279005050659, 0.5599027872085571, 0.688927173614502, 0.5245931148529053, 0.6425310373306274, 0.5436300039291382, 0.5390167236328125, 0.4895375669002533, 0.7572255730628967, 0.6359918117523193, 0.5540107488632202, 0.8096210956573486, 0.5494632124900818, 0.5408661961555481, 0.7074633240699768, 0.6664095520973206, 0.6044951677322388, 0.7002919316291809, 0.7663639783859253], [0.42663905024528503, 0.6536452770233154, 0.6009433269500732, 0.597644031047821, 0.4523583948612213, 0.6174206733703613, 0.6594612002372742, 0.5937643647193909, 0.5788264870643616, 0.5926454067230225, 0.4772862195968628, 0.6479524970054626, 0.7113853096961975, 0.6101738214492798, 0.7609453201293945, 0.4601028263568878, 0.6451486945152283, 0.5321356058120728, 0.7768413424491882, 0.7016234993934631], [0.5656111240386963, 0.7795788645744324, 0.9214682579040527, 0.6792401075363159, 0.8302041292190552, 0.8415528535842896, 0.6573895812034607, 0.67900151014328, 0.5384945273399353, 0.704279899597168, 0.48182836174964905, 0.7033587098121643, 0.5821543335914612, 0.4766070544719696, 0.4724467992782593, 0.7277891635894775, 0.5936487317085266, 0.6352766156196594, 0.7629067301750183, 0.5264203548431396], [0.6497513651847839, 0.8141728043556213, 0.4894675314426422, 0.7678708434104919, 0.6980770826339722, 0.4998771846294403, 0.728144645690918, 0.5724990963935852, 0.6469354629516602, 0.7580980062484741, 0.6480551958084106, 0.7902624011039734, 0.6439732909202576, 0.6504721641540527, 0.4863438010215759, 0.8006418347358704, 0.7224692106246948, 0.5372900366783142, 0.5378685593605042, 0.6673961281776428], [0.4878760278224945, 0.5926175117492676, 0.5765817761421204, 0.5377755165100098, 0.674297571182251, 0.6598191261291504, 0.5255423188209534, 0.6755757331848145, 0.6057535409927368, 0.4339281916618347, 0.5812203884124756, 0.4980544149875641, 0.8175019025802612, 0.5147510766983032, 0.6308393478393555, 0.5495953559875488, 0.6676649451255798, 0.8156455159187317, 0.5386683940887451, 0.79925137758255], [0.5033107399940491, 0.5730813145637512, 0.8990642428398132, 0.576827347278595, 0.5749174356460571, 0.5351696610450745, 0.6589157581329346, 0.43812981247901917, 0.5930849313735962, 0.7633564472198486, 0.625599205493927, 0.589966893196106, 0.6100726127624512, 0.7240755558013916, 0.5900909304618835, 0.8235788941383362, 0.5484261512756348, 0.696831226348877, 0.6936195492744446, 0.733142077922821], [0.7491053342819214, 0.6745553612709045, 0.6744213700294495, 0.8169971108436584, 0.7455729246139526, 0.6249333024024963, 0.6420345902442932, 0.761439859867096, 0.5245891213417053, 0.5857808589935303, 0.6766563057899475, 0.885918378829956, 0.8287089467048645, 0.6786612868309021, 0.6263988614082336, 0.6290591359138489, 0.6814409494400024, 0.7696000933647156, 0.9308823943138123, 0.5754644274711609], [0.5951276421546936, 0.5924031734466553, 0.5139591693878174, 0.7181815505027771, 0.7511611580848694, 0.7455781102180481, 0.6022731065750122, 0.48425742983818054, 0.5759862065315247, 0.5531139969825745, 0.5286768078804016, 0.634761393070221, 0.7267472743988037, 0.6257125735282898, 0.696874737739563, 0.6741185784339905, 0.9886263012886047, 0.5404168367385864, 0.7014678716659546, 0.5237658023834229], [0.3397328853607178, 0.8735795617103577, 0.7680116295814514, 0.5424582362174988, 0.5470983386039734, 0.7224552631378174, 0.8486888408660889, 0.6208855509757996, 0.5853005051612854, 0.5209212899208069, 0.5446569323539734, 0.6521223187446594, 0.5687052607536316, 0.6081976294517517, 0.7581651210784912, 0.6731544733047485, 0.763405442237854, 0.7134909629821777, 0.5736516714096069, 0.8323764801025391], [0.5048922896385193, 0.7010797262191772, 0.8328752517700195, 0.670723021030426, 0.6886559128761292, 0.6791609525680542, 0.7181003093719482, 0.6998819708824158, 0.5136340856552124, 0.6090558767318726, 0.5909876227378845, 0.5002273321151733, 0.6434792280197144, 0.6640872955322266, 0.6447834968566895, 0.6456153988838196, 0.5633168816566467, 0.485519677400589, 0.6701470613479614, 0.7893438339233398], [0.6188620924949646, 0.6170651316642761, 0.6766674518585205, 0.7674586176872253, 0.6494851112365723, 0.7723476886749268, 0.4679848551750183, 0.6196929216384888, 0.6323723196983337, 0.6542387008666992, 0.7002829313278198, 0.5383843183517456, 0.5959569811820984, 0.6463569402694702, 0.7606431245803833, 0.8033164143562317, 0.6766294240951538, 0.7757290005683899, 0.5496033430099487, 0.6802487373352051], [0.8580880761146545, 0.6391933560371399, 0.5818698406219482, 0.7174546122550964, 0.704826831817627, 0.5782308578491211, 0.5392061471939087, 0.7693170309066772, 0.5439150929450989, 0.7471442222595215, 0.8285034894943237, 0.8369129300117493, 0.606217622756958, 0.5408286452293396, 0.7076027393341064, 0.572589099407196, 0.8366034030914307, 0.7796463370323181, 0.7065047025680542, 0.5736891031265259], [0.8961094617843628, 0.6231662034988403, 0.6685857176780701, 0.5895836353302002, 0.6207970380783081, 0.7842602133750916, 0.5829412937164307, 0.8091201782226562, 0.4621124565601349, 0.6457918286323547, 0.7395647168159485, 0.4544786512851715, 0.7089570164680481, 0.6565306186676025, 0.6188010573387146, 0.7726967334747314, 0.6472203135490417, 0.6224111318588257, 0.7633307576179504, 0.4148555397987366], [0.6213709115982056, 0.7262994647026062, 0.6402161121368408, 0.7924554347991943, 0.5394006371498108, 0.7676576375961304, 0.6001190543174744, 0.6574310064315796, 0.7146153450012207, 0.6039889454841614, 0.763618528842926, 0.712311863899231, 0.7495881915092468, 0.8376479744911194, 0.5862607359886169, 0.5353438854217529, 0.5723149180412292, 0.4591558575630188, 0.7848653793334961, 0.652072548866272], [0.7724684476852417, 0.8552602529525757, 0.6401714086532593, 0.6460291743278503, 0.6181853413581848, 0.7572763562202454, 0.7008042335510254, 0.6914037466049194, 0.5537908673286438, 0.742509663105011, 0.5408664345741272, 0.5925019383430481, 0.5672662854194641, 0.7173089385032654, 0.7861514091491699, 0.5552961230278015, 0.6154295802116394, 0.5747033357620239, 0.7370660305023193, 0.7852045297622681], [0.7122371792793274, 0.61577308177948, 0.7260430455207825, 0.692707359790802, 0.6447112560272217, 0.7809353470802307, 0.5779262185096741, 0.5483371019363403, 0.7072239518165588, 0.6891425848007202, 0.5014670491218567, 0.5468369126319885, 0.6960083246231079, 0.6298341155052185, 0.7793287038803101, 0.7626940011978149, 0.674034059047699, 0.6502131223678589, 0.5126085877418518, 0.4560268521308899], [0.7106614112854004, 0.7935152649879456, 0.7165371775627136, 0.5277146697044373, 0.6381666660308838, 0.7484292387962341, 0.8984454870223999, 0.5654163360595703, 0.6308508515357971, 0.7796327471733093, 0.4798937737941742, 0.5287609696388245, 0.7582199573516846, 0.5473465323448181, 0.7646138668060303, 0.5396075248718262, 0.7198637127876282, 0.7458864450454712, 0.501067042350769, 0.7234997153282166], [0.7682849168777466, 0.8311744928359985, 0.6273880004882812, 0.5977664589881897, 0.5251495242118835, 0.747592031955719, 0.7043681740760803, 0.5585689544677734, 0.7276867628097534, 0.5361248850822449, 0.6789625883102417, 0.4506435692310333, 0.6748061776161194, 0.4466478228569031, 0.6688531637191772, 0.7602675557136536, 0.824566125869751, 0.9052678346633911, 0.7413440346717834, 0.7476887702941895], [0.6242608428001404, 0.6407269835472107, 0.7080150246620178, 0.7315168976783752, 0.5371622443199158, 0.854463517665863, 0.8176280856132507, 0.7492164969444275, 0.5726236701011658, 0.6281967163085938, 0.778773844242096, 0.6263948678970337, 0.873362123966217, 0.7300673723220825, 0.7108376622200012, 0.6295529007911682, 0.5959508419036865, 0.819718062877655, 0.7788099050521851, 0.8815934658050537], [0.627733588218689, 0.8439130187034607, 0.7558229565620422, 0.7703874707221985, 0.8748196363449097, 0.5648586750030518, 0.6565974950790405, 0.8990519046783447, 0.5261663198471069, 0.5501307249069214, 1.002077341079712, 0.42795854806900024, 0.7383127212524414, 0.6273078322410583, 0.5964616537094116, 0.631355345249176, 0.8409482836723328, 0.8700302839279175, 0.8281142115592957, 0.8095662593841553], [0.8382531404495239, 0.6631474494934082, 0.7098793387413025, 0.737917423248291, 0.5789780616760254, 0.6210739016532898, 0.5397291779518127, 0.5933704972267151, 0.4814150929450989, 0.6202511191368103, 0.9070616364479065, 0.6131079196929932, 0.6865591406822205, 0.6684104800224304, 0.43716877698898315, 0.9072719812393188, 0.6713516712188721, 0.5802077651023865, 0.6472539901733398, 0.6993448734283447], [0.7724899649620056, 0.7659468054771423, 0.43351006507873535, 0.7286524772644043, 0.5714294910430908, 0.5821694731712341, 0.6896799206733704, 0.5830022096633911, 0.5635689496994019, 0.6567283272743225, 0.6859305500984192, 0.7292897701263428, 0.5553078055381775, 0.6593754887580872, 0.7337701320648193, 0.7094063758850098, 0.7444719076156616, 0.6196750998497009, 0.7154322862625122, 0.7854197025299072], [0.5869171619415283, 0.8374279737472534, 0.5497053265571594, 0.47240185737609863, 0.7033737897872925, 0.6716907620429993, 0.7514128088951111, 0.8238890767097473, 0.6511148810386658, 0.707843542098999, 0.6801762580871582, 0.6588774919509888, 0.8680791854858398, 0.8368093371391296, 0.7871170043945312, 0.5307504534721375, 0.4521220028400421, 0.5435817837715149, 0.7784900665283203, 0.701068103313446], [0.7017554640769958, 0.9809130430221558, 0.49976491928100586, 0.741362988948822, 0.5757868885993958, 0.7957061529159546, 0.5763845443725586, 0.6229584813117981, 0.7585630416870117, 0.8080520629882812, 0.8135437965393066, 0.7648707032203674, 0.8795900940895081, 0.8459833860397339, 0.6378512382507324, 0.7225806713104248, 0.5735648274421692, 0.7211952805519104, 0.4913804531097412, 0.5504683256149292], [0.5349110960960388, 0.7832320332527161, 0.6900452971458435, 0.5967919826507568, 0.6040593981742859, 0.619853675365448, 0.7858564257621765, 0.6027206182479858, 0.8683892488479614, 0.6525941491127014, 0.7917906045913696, 0.827384352684021, 0.7448387742042542, 0.6585169434547424, 0.6690727472305298, 0.8352445960044861, 0.7963820695877075, 0.5535129308700562, 0.7814707159996033, 0.608209490776062], [0.6148367524147034, 0.7571569085121155, 0.6078884601593018, 0.7528961300849915, 0.546831488609314, 0.788020670413971, 0.7382650971412659, 0.7674530148506165, 0.7958481907844543, 0.9025865793228149, 0.6122792363166809, 0.6224060654640198, 0.6588491201400757, 0.6010222434997559, 0.597310483455658, 0.49429240822792053, 0.6965857148170471, 1.0630731582641602, 0.8144122958183289, 0.8264885544776917], [0.6887052059173584, 0.8685057759284973, 0.7731950283050537, 0.6788865923881531, 0.6790921092033386, 0.5889222025871277, 0.7487854957580566, 0.8422799706459045, 0.6676674485206604, 0.6625024676322937, 0.5498723387718201, 0.5140156149864197, 0.662219226360321, 0.6996213793754578, 0.9047936201095581, 0.5801716446876526, 0.9108425974845886, 0.655925452709198, 0.5474717617034912, 0.9185203313827515], [0.7808322310447693, 0.7278189659118652, 0.6453914642333984, 0.6947428584098816, 0.5888062119483948, 0.7848166227340698, 0.6349091529846191, 0.6846640110015869, 0.6489630937576294, 0.5485124588012695, 0.8853441476821899, 0.6215945482254028, 0.8819725513458252, 0.8117278218269348, 0.8002861738204956, 0.7046911120414734, 0.843511700630188, 0.8530914187431335, 0.6711646914482117, 0.6003270149230957], [0.6432990431785583, 0.6183740496635437, 0.48638641834259033, 0.6043943762779236, 0.7541146278381348, 0.677585244178772, 0.6837559342384338, 0.5124313831329346, 0.6911178231239319, 0.6863427758216858, 0.6995614171028137, 0.8467607498168945, 0.6268793940544128, 0.7430109977722168, 0.7792394161224365, 0.6764316558837891, 0.7186450362205505, 0.674365222454071, 0.585001528263092, 0.5912455916404724], [0.5010928511619568, 0.7949756383895874, 0.6532824635505676, 0.7024751901626587, 0.9977312684059143, 0.6460995674133301, 0.675518810749054, 0.9422057867050171, 0.8633924722671509, 0.4646148979663849, 0.7852609157562256, 0.8434631824493408, 0.6851399540901184, 0.6186119318008423, 0.6675845980644226, 0.644033670425415, 0.6554943323135376, 0.7584421038627625, 0.6118358373641968, 0.8332828283309937], [0.6700149178504944, 0.7434642910957336, 0.6482952237129211, 0.5874159932136536, 0.8766481876373291, 0.8468009233474731, 0.4237944781780243, 0.5743040442466736, 0.7697991132736206, 0.8100176453590393, 0.7840961813926697, 0.4796558916568756, 0.748638927936554, 0.6149613857269287, 0.8630759716033936, 0.6624248027801514, 0.7893239259719849, 0.7150679230690002, 0.4889598786830902, 0.6840465068817139], [0.6839950084686279, 0.6243876814842224, 0.5952543616294861, 0.8156176805496216, 0.9598597288131714, 0.6993034482002258, 0.6730820536613464, 0.6088475584983826, 0.589194655418396, 0.8517592549324036, 0.6940219402313232, 0.8905884623527527, 0.5372688174247742, 0.7166599631309509, 0.675941526889801, 0.8214531540870667, 0.5944303870201111, 0.8203032612800598, 0.48872485756874084, 0.8178200721740723], [0.622382402420044, 0.6243041753768921, 0.8247360587120056, 0.6527959704399109, 0.6770325303077698, 0.7293289303779602, 0.7163937091827393, 0.47475695610046387, 0.6214897632598877, 0.7024648189544678, 0.9042764902114868, 0.7912375926971436, 0.5600327849388123, 0.6895878911018372, 0.672498345375061, 0.7576044797897339, 0.9578607082366943, 0.93531334400177, 0.6515746116638184, 0.6231598258018494], [0.7218620181083679, 0.8294330835342407, 0.9599966406822205, 0.6192242503166199, 0.5394226312637329, 0.5353867411613464, 0.5689694881439209, 0.5911243557929993, 0.5933799147605896, 0.587550163269043, 0.7955259680747986, 0.8288261890411377, 0.5589147806167603, 0.8344438672065735, 0.6567564606666565, 0.6999767422676086, 0.6963130831718445, 0.5203230381011963, 0.5272822976112366, 0.802761435508728], [0.698966920375824, 0.6430259346961975, 0.7208165526390076, 0.9037367701530457, 0.6021721959114075, 0.7184056043624878, 0.639369010925293, 0.4974258244037628, 0.7150706648826599, 0.6377520561218262, 0.7921173572540283, 0.5229706764221191, 0.8429000973701477, 0.7743160128593445, 0.5476426482200623, 0.6208337545394897, 0.7369038462638855, 0.7114223837852478, 0.5314711332321167, 0.7770528197288513]]\n"
     ]
    },
    {
     "data": {
      "image/png": "[encoded data removed]",
      "text/plain": [
       "<Figure size 1152x576 with 1 Axes>"
      ]
     },
     "metadata": {
      "needs_background": "light"
     },
     "output_type": "display_data"
    }
   ],
   "source": [
    "average_acc_cluster_list, average_loss_cluster_list = [], []\n",
    "\n",
    "\n",
    "for i in range(len(Cluster_ACC)):    \n",
    "    average_acc_cluster_list.append(np.mean(Cluster_ACC[i]))\n",
    "    average_loss_cluster_list.append(np.mean(Cluster_LOSS[i]))\n",
    "\n",
    "    \n",
    "plt.figure(figsize=(16,8))\n",
    "plt.plot(average_acc_cluster_list, label='Cluster Acc')\n",
    "print(Cluster_ACC)\n",
    "print(Cluster_LOSS)\n",
    "plt.plot(average_loss_cluster_list, label='Cluster Loss')\n",
    "\n",
    "plt.grid(True)\n",
    "plt.legend()\n",
    "plt.show()\n"
   ]
  },
  {
   "cell_type": "code",
   "execution_count": null,
   "metadata": {
    "id": "7afw9VS7PwPX"
   },
   "outputs": [],
   "source": []
  }
 ],
 "metadata": {
  "colab": {
   "authorship_tag": "ABX9TyM706Cwuwf90ucbkvXVEEaX",
   "collapsed_sections": [],
   "name": "Test1_paper_Clustering.ipynb",
   "provenance": []
  },
  "kernelspec": {
   "display_name": "Python 3",
   "language": "python",
   "name": "python3"
  },
  "language_info": {
   "codemirror_mode": {
    "name": "ipython",
    "version": 3
   },
   "file_extension": ".py",
   "mimetype": "text/x-python",
   "name": "python",
   "nbconvert_exporter": "python",
   "pygments_lexer": "ipython3",
   "version": "3.8.8"
  }
 },
 "nbformat": 4,
 "nbformat_minor": 1
}
