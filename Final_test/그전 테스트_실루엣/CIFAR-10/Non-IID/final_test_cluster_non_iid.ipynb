{
 "cells": [
  {
   "cell_type": "code",
   "execution_count": 1,
   "metadata": {
    "executionInfo": {
     "elapsed": 3787,
     "status": "ok",
     "timestamp": 1627658864261,
     "user": {
      "displayName": "이훈민",
      "photoUrl": "",
      "userId": "00157268181097362793"
     },
     "user_tz": 240
    },
    "id": "cg7gm5FVyA3r"
   },
   "outputs": [],
   "source": [
    "import numpy as np\n",
    "import tensorflow as tf\n",
    "import matplotlib.pyplot as plt\n",
    "import sys\n",
    "import time\n",
    "import math\n",
    "import random\n",
    "import copy\n",
    "import warnings\n",
    "warnings.simplefilter(action='ignore', category=FutureWarning)\n",
    "\n",
    "import keras\n",
    "from tensorflow import keras\n",
    "from keras.models import Sequential\n",
    "from keras.layers import Dense, Dropout, Flatten\n",
    "from tensorflow.keras import datasets, layers, models\n",
    "from keras.layers.convolutional import Conv2D, MaxPooling2D\n",
    "from keras.layers import Dense, Activation, Flatten, Conv2D, MaxPooling2D\n",
    "from keras.utils.np_utils import to_categorical\n",
    "from sklearn.cluster import KMeans, AgglomerativeClustering\n",
    "from tensorflow.keras.datasets import cifar10 \n",
    "from keras.datasets import fashion_mnist \n",
    "from sklearn.metrics import silhouette_samples, silhouette_score\n",
    "\n",
    "mod = sys.modules[__name__]"
   ]
  },
  {
   "cell_type": "code",
   "execution_count": 2,
   "metadata": {
    "executionInfo": {
     "elapsed": 29,
     "status": "ok",
     "timestamp": 1627658864287,
     "user": {
      "displayName": "이훈민",
      "photoUrl": "",
      "userId": "00157268181097362793"
     },
     "user_tz": 240
    },
    "id": "-gn3HoNnyGdo"
   },
   "outputs": [],
   "source": [
    "def distribution_check(dataset):\n",
    "        #분포가 다름;\n",
    "    one,two,three,four,five,six,seven,eight,nine,ten=0,0,0,0,0,0,0,0,0,0\n",
    "\n",
    "    for i in range(len(dataset)):\n",
    "        if(dataset[i]==1):    one+=1\n",
    "        elif(dataset[i]==2):  two+=1\n",
    "        elif(dataset[i]==3):  three+=1\n",
    "        elif(dataset[i]==4):  four+=1\n",
    "        elif(dataset[i]==5):  five+=1\n",
    "        elif(dataset[i]==6):  six+=1\n",
    "        elif(dataset[i]==7):  seven+=1\n",
    "        elif(dataset[i]==8):  eight+=1\n",
    "        elif(dataset[i]==9):  nine+=1\n",
    "        elif(dataset[i]==0):  ten+=1\n",
    "\n",
    "    #print(one,two,three,four,five,six,seven,eight,nine,ten)\n",
    "    #print(\"Sum : \", one+two+three+four+five+six+seven+eight+nine+ten)\n",
    "    sums = one+two+three+four+five+six+seven+eight+nine+ten\n",
    "    for_graph=[one,two,three,four,five,six,seven,eight,nine,ten]\n",
    "    \n",
    "    return for_graph, sums\n",
    "\n",
    "def local_model_generate(model): #초기 모델 생성\n",
    "    model = models.Sequential()\n",
    "    model.add(layers.Conv2D(32, (3, 3), activation='relu', input_shape=(28, 28, 1)))\n",
    "    model.add(layers.MaxPooling2D((2, 2)))\n",
    "    model.add(layers.Conv2D(64, (3, 3), activation='relu'))\n",
    "    model.add(layers.MaxPooling2D((2, 2)))\n",
    "    model.add(layers.Conv2D(64, (3, 3), activation='relu'))\n",
    "    model.add(layers.Flatten())\n",
    "    model.add(layers.Dense(64, activation='relu'))\n",
    "    model.add(layers.Dense(10, activation='softmax'))\n",
    "    \n",
    "    return model\n",
    "\n",
    "def step_function(data):\n",
    "    if data > 0:\n",
    "        return 1\n",
    "    else:\n",
    "        return 0\n",
    "\n",
    "def sigmoid(data):\n",
    "    return 1/(1+np.exp(-data))\n",
    "\n",
    "def relu(data):\n",
    "    return np.maximum(0,data)\n",
    "\n",
    "def random_check(local, train_data, test_data):\n",
    "    check_distribution_train_data, check_distribution_test_data, y_train_tmp, y_test_tmp = [], [], [], []\n",
    "    sum1, sum2, data_index = 0,0, np.arange(0,10)\n",
    "\n",
    "    for j in range(len(train_data)):\n",
    "        y_train_tmp.append(np.argmax(train_data[j])) #원핫인코딩에서 다시 0~9 레이블로 변환\n",
    "\n",
    "    for j in range(len(test_data)):\n",
    "        y_test_tmp.append(np.argmax(test_data[j]))\n",
    "\n",
    "    check_distribution_train_data, sum_train = distribution_check(y_train_tmp) #한번 밖에 실행 못함\n",
    "    check_distribution_test_data, sum_test = distribution_check(y_test_tmp)\n",
    "    sum1, sum2 = (sum1 + sum_train), (sum2 + sum_test)\n",
    "    \n",
    "    return check_distribution_train_data, check_distribution_test_data\n"
   ]
  },
  {
   "cell_type": "code",
   "execution_count": 3,
   "metadata": {
    "colab": {
     "base_uri": "https://localhost:8080/"
    },
    "executionInfo": {
     "elapsed": 1990,
     "status": "ok",
     "timestamp": 1627658866249,
     "user": {
      "displayName": "이훈민",
      "photoUrl": "",
      "userId": "00157268181097362793"
     },
     "user_tz": 240
    },
    "id": "CSRQl-noyHx9",
    "outputId": "caa9e16f-3624-4192-907b-6a4530663e7e"
   },
   "outputs": [
    {
     "name": "stdout",
     "output_type": "stream",
     "text": [
      "(60000, 28, 28) (10000, 28, 28)\n"
     ]
    }
   ],
   "source": [
    "(x_train, y_train), (x_test, y_test) = fashion_mnist.load_data()\n",
    "print(x_train.shape, x_test.shape)\n",
    "num_train, num_test = len(x_train),  len(x_test) "
   ]
  },
  {
   "cell_type": "code",
   "execution_count": 4,
   "metadata": {
    "executionInfo": {
     "elapsed": 6,
     "status": "ok",
     "timestamp": 1627658866250,
     "user": {
      "displayName": "이훈민",
      "photoUrl": "",
      "userId": "00157268181097362793"
     },
     "user_tz": 240
    },
    "id": "YvgMHy1ByI7c"
   },
   "outputs": [],
   "source": [
    "local = 21 # 10개 : 1~10 => 11은 포함 안됨\n",
    "batch_size, epochs = 32, 10\n",
    "global_epoch = 0\n",
    "num_layers = 8"
   ]
  },
  {
   "cell_type": "code",
   "execution_count": 5,
   "metadata": {
    "colab": {
     "base_uri": "https://localhost:8080/"
    },
    "executionInfo": {
     "elapsed": 5,
     "status": "ok",
     "timestamp": 1627658866250,
     "user": {
      "displayName": "이훈민",
      "photoUrl": "",
      "userId": "00157268181097362793"
     },
     "user_tz": 240
    },
    "id": "NtlWlG2EyKwJ",
    "outputId": "13d78e48-942e-469a-b62b-408c864761b2"
   },
   "outputs": [
    {
     "name": "stdout",
     "output_type": "stream",
     "text": [
      "Step 1 x_train shape: (60000, 28, 28)\n",
      "Step 2 x_train shape: (60000, 28, 28, 1)\n",
      "60000 train samples\n",
      "10000 test samples\n"
     ]
    }
   ],
   "source": [
    "# Model / data parameters\n",
    "num_classes = 10\n",
    "input_shape = (28, 28, 1)\n",
    "\n",
    "# Scale images to the [0, 1] range\n",
    "x_train = x_train.astype(\"float32\") / 255\n",
    "x_test = x_test.astype(\"float32\") / 255\n",
    "\n",
    "print(\"Step 1 x_train shape:\", x_train.shape)\n",
    "\n",
    "x_train = x_train.reshape((num_train, 28, 28, 1))\n",
    "x_test = x_test.reshape((num_test, 28, 28, 1))\n",
    "\n",
    "print(\"Step 2 x_train shape:\", x_train.shape)\n",
    "print(x_train.shape[0], \"train samples\")\n",
    "print(x_test.shape[0], \"test samples\")\n",
    "# convert class vectors to binary class matrices => one hot encoding 지금은 [3,6,2,5,4,8..] 섞여있음 \n",
    "\n",
    "y_train = keras.utils.to_categorical(y_train, num_classes)\n",
    "y_test = keras.utils.to_categorical(y_test, num_classes)"
   ]
  },
  {
   "cell_type": "code",
   "execution_count": 8,
   "metadata": {
    "colab": {
     "base_uri": "https://localhost:8080/"
    },
    "executionInfo": {
     "elapsed": 966,
     "status": "ok",
     "timestamp": 1627662382510,
     "user": {
      "displayName": "이훈민",
      "photoUrl": "",
      "userId": "00157268181097362793"
     },
     "user_tz": 240
    },
    "id": "I2uyTUGiyaSd",
    "outputId": "9701b3af-beec-4180-ce33-198e018376bd"
   },
   "outputs": [
    {
     "name": "stdout",
     "output_type": "stream",
     "text": [
      "0  번째 global_epoch 데이터 랜덤하게 준비!!\n",
      "check=>: should be 0 ==  60000\n",
      "0  번째 global_epoch 데이터 랜덤 준비완료!!\n"
     ]
    }
   ],
   "source": [
    "global_epoch = 0\n",
    "\n",
    "print(global_epoch, \" 번째 global_epoch 데이터 랜덤하게 준비!!\")\n",
    "\n",
    "for i in range(1,local): #데이터 변수 선언, 빈 리스트로 초기화\n",
    "    globals()['L{}_x_train'.format(i)], globals()['L{}_x_test'.format(i)] = [],[]  \n",
    "    globals()['L{}_y_train'.format(i)], globals()['L{}_y_test'.format(i)] = [],[]  \n",
    "\n",
    "\n",
    "for n in range(1,local): #x_train_range, 잘 작동함 => 확인 완료\n",
    "\n",
    "    x_train_range = list(np.arange(0,len(x_train)))  #0~59,999\n",
    "    x_test_range = list(np.arange(0,len(x_test)))  #0~9,999\n",
    "\n",
    "    tmp, tmp2 = [], []\n",
    "\n",
    "    num_pick = random.randint(1000, 5000 ) #변동 사항 #int(len(list(x_train_range))/local)\n",
    "    num_pick2 = int(len(x_test_range)/local) #test 데이터는 원래대로 항상 일정한 비율로 주면 될듯 => 어느정도 분량 이상 있어야 함\n",
    "    \n",
    "    tmp = random.sample(list(x_train_range), num_pick)  #1/10개 만큼 인덱스 랜덤 비복원 추출 => 랜덤으로 해야함\n",
    "    tmp2 = random.sample(list(x_test_range), num_pick2)\n",
    "\n",
    "    for i in range(len(tmp)):\n",
    "        globals()['L{}_x_train'.format(n)].append(x_train[tmp[i]])  #n번째 Cluster에 분할한 실제 x_train 데이터 저장\n",
    "        globals()['L{}_y_train'.format(n)].append(y_train[tmp[i]]) \n",
    "        #x_train_range.remove(tmp[i])  #랜덤 하게 뽑힌 원소갯수들 추출했으니 안에서 삭제  => 오래걸림\n",
    "\n",
    "    for j in range(len(tmp2)):\n",
    "        globals()['L{}_x_test'.format(n)].append(x_test[tmp2[j]])\n",
    "        globals()['L{}_y_test'.format(n)].append(y_test[tmp2[j]])\n",
    "        #x_test_range.remove(tmp2[j])  #랜덤 하게 뽑힌 원소 1000개 추출했으니 안에서 삭제  => 오래걸림\n",
    "    \n",
    "    print(\"CHECK :\", n,\" 번째 로컬 클라이언트 Number of Training sets : \", len(globals()['L{}_x_train'.format(n)]), \"   Number of Training sets : \", len(globals()['L{}_x_test'.format(n)]))\n",
    "\n",
    "print(\"check=>: should be 0 == \", len(x_train_range))  #원소 하나도 없어야 함. 확인.\n",
    "print(global_epoch, \" 번째 global_epoch 데이터 랜덤 준비완료!!\")"
   ]
  },
  {
   "cell_type": "code",
   "execution_count": 9,
   "metadata": {
    "colab": {
     "base_uri": "https://localhost:8080/"
    },
    "executionInfo": {
     "elapsed": 24199,
     "status": "ok",
     "timestamp": 1627662407910,
     "user": {
      "displayName": "이훈민",
      "photoUrl": "",
      "userId": "00157268181097362793"
     },
     "user_tz": 240
    },
    "id": "LztCjgrY1OxS",
    "outputId": "cb761dc5-55c2-4118-93b3-7833cd8f4629",
    "scrolled": true
   },
   "outputs": [
    {
     "name": "stdout",
     "output_type": "stream",
     "text": [
      "\n",
      "\n",
      " 0 번째 global epoch에서 로컬 클라이언트 학습시작!\n",
      "\n",
      "학습 중 ...\n",
      "\n",
      "16/16 - 0s - loss: 0.5150 - accuracy: 0.8120\n",
      "16/16 - 0s - loss: 0.4676 - accuracy: 0.8260\n",
      "16/16 - 0s - loss: 0.5397 - accuracy: 0.8160\n",
      "16/16 - 0s - loss: 0.4635 - accuracy: 0.8480\n",
      "16/16 - 0s - loss: 0.4699 - accuracy: 0.8040\n",
      "16/16 - 0s - loss: 0.5202 - accuracy: 0.8180\n",
      "16/16 - 0s - loss: 0.5273 - accuracy: 0.8140\n",
      "16/16 - 0s - loss: 0.4873 - accuracy: 0.8180\n",
      "16/16 - 0s - loss: 0.5230 - accuracy: 0.8220\n",
      "16/16 - 0s - loss: 0.4882 - accuracy: 0.8280\n",
      "16/16 - 0s - loss: 0.5205 - accuracy: 0.8080\n",
      "16/16 - 0s - loss: 0.4905 - accuracy: 0.8240\n",
      "16/16 - 0s - loss: 0.5372 - accuracy: 0.8020\n",
      "16/16 - 0s - loss: 0.3919 - accuracy: 0.8440\n",
      "16/16 - 0s - loss: 0.4636 - accuracy: 0.8360\n",
      "16/16 - 0s - loss: 0.4966 - accuracy: 0.8240\n",
      "16/16 - 0s - loss: 0.5642 - accuracy: 0.8100\n",
      "16/16 - 0s - loss: 0.5653 - accuracy: 0.7960\n",
      "16/16 - 0s - loss: 0.5115 - accuracy: 0.8280\n",
      "16/16 - 0s - loss: 0.4521 - accuracy: 0.8220\n",
      "0 번째 global epoch 로컬 클라이언트 학습완료!,  Total Training time :  192.0716826915741 \n",
      "\n",
      "\n",
      "Layer :  0   클러스터 갯수 정해짐!  갯수 :  9 7\n"
     ]
    },
    {
     "name": "stderr",
     "output_type": "stream",
     "text": [
      "<ipython-input-9-32b596a4692c>:108: VisibleDeprecationWarning: Creating an ndarray from ragged nested sequences (which is a list-or-tuple of lists-or-tuples-or ndarrays with different lengths or shapes) is deprecated. If you meant to do this, you must specify 'dtype=object' when creating the ndarray\n",
      "  globals()['G{}_c{}_w_layer{}'.format(global_epoch, num_c_w, layer_index)] = globals()['G{}_c{}_w_layer{}'.format(global_epoch, num_c_w, layer_index)] + np.array(globals()['L{}_layer{}_w'.format(i,layer_index)])          # 일반 클러스터링\n"
     ]
    },
    {
     "name": "stdout",
     "output_type": "stream",
     "text": [
      "Layer :  2   클러스터 갯수 정해짐!  갯수 :  4 2\n"
     ]
    },
    {
     "name": "stderr",
     "output_type": "stream",
     "text": [
      "<ipython-input-9-32b596a4692c>:108: VisibleDeprecationWarning: Creating an ndarray from ragged nested sequences (which is a list-or-tuple of lists-or-tuples-or ndarrays with different lengths or shapes) is deprecated. If you meant to do this, you must specify 'dtype=object' when creating the ndarray\n",
      "  globals()['G{}_c{}_w_layer{}'.format(global_epoch, num_c_w, layer_index)] = globals()['G{}_c{}_w_layer{}'.format(global_epoch, num_c_w, layer_index)] + np.array(globals()['L{}_layer{}_w'.format(i,layer_index)])          # 일반 클러스터링\n"
     ]
    },
    {
     "name": "stdout",
     "output_type": "stream",
     "text": [
      "Layer :  4   클러스터 갯수 정해짐!  갯수 :  2 0\n"
     ]
    },
    {
     "name": "stderr",
     "output_type": "stream",
     "text": [
      "<ipython-input-9-32b596a4692c>:108: VisibleDeprecationWarning: Creating an ndarray from ragged nested sequences (which is a list-or-tuple of lists-or-tuples-or ndarrays with different lengths or shapes) is deprecated. If you meant to do this, you must specify 'dtype=object' when creating the ndarray\n",
      "  globals()['G{}_c{}_w_layer{}'.format(global_epoch, num_c_w, layer_index)] = globals()['G{}_c{}_w_layer{}'.format(global_epoch, num_c_w, layer_index)] + np.array(globals()['L{}_layer{}_w'.format(i,layer_index)])          # 일반 클러스터링\n"
     ]
    },
    {
     "name": "stdout",
     "output_type": "stream",
     "text": [
      "Layer :  6   클러스터 갯수 정해짐!  갯수 :  2 0\n"
     ]
    },
    {
     "name": "stderr",
     "output_type": "stream",
     "text": [
      "<ipython-input-9-32b596a4692c>:108: VisibleDeprecationWarning: Creating an ndarray from ragged nested sequences (which is a list-or-tuple of lists-or-tuples-or ndarrays with different lengths or shapes) is deprecated. If you meant to do this, you must specify 'dtype=object' when creating the ndarray\n",
      "  globals()['G{}_c{}_w_layer{}'.format(global_epoch, num_c_w, layer_index)] = globals()['G{}_c{}_w_layer{}'.format(global_epoch, num_c_w, layer_index)] + np.array(globals()['L{}_layer{}_w'.format(i,layer_index)])          # 일반 클러스터링\n"
     ]
    },
    {
     "name": "stdout",
     "output_type": "stream",
     "text": [
      "Layer :  7   클러스터 갯수 정해짐!  갯수 :  2 0\n"
     ]
    },
    {
     "name": "stderr",
     "output_type": "stream",
     "text": [
      "<ipython-input-9-32b596a4692c>:108: VisibleDeprecationWarning: Creating an ndarray from ragged nested sequences (which is a list-or-tuple of lists-or-tuples-or ndarrays with different lengths or shapes) is deprecated. If you meant to do this, you must specify 'dtype=object' when creating the ndarray\n",
      "  globals()['G{}_c{}_w_layer{}'.format(global_epoch, num_c_w, layer_index)] = globals()['G{}_c{}_w_layer{}'.format(global_epoch, num_c_w, layer_index)] + np.array(globals()['L{}_layer{}_w'.format(i,layer_index)])          # 일반 클러스터링\n"
     ]
    }
   ],
   "source": [
    "#준비된 데이터 (IID / NON-IID) np.array로\n",
    "\n",
    "local = 21\n",
    "best_Sil_score_c = []\n",
    "Silhouette_sc_c = []\n",
    "\n",
    "global_epoch = 0\n",
    "acc, loss = 0, 0\n",
    "cluster_acc, cluster_loss, Cluster_ACC, Cluster_LOSS = [], [], [], [] \n",
    "num_layers_list = [0,2,4,6,7]\n",
    "label_list = []\n",
    "VAR_final_list_w, VAR_final_list_b = [], []\n",
    "\n",
    "\n",
    "for i in range(1,local):\n",
    "    globals()['L{}_x_train'.format(i)] = np.array(globals()['L{}_x_train'.format(i)])\n",
    "    globals()['L{}_x_test'.format(i)] = np.array(globals()['L{}_x_test'.format(i)])\n",
    "    globals()['L{}_y_train'.format(i)] = np.array(globals()['L{}_y_train'.format(i)])\n",
    "    globals()['L{}_y_test'.format(i)] = np.array(globals()['L{}_y_test'.format(i)])\n",
    "\n",
    "\n",
    "print(\"\\n\\n\",global_epoch, \"번째 global epoch에서 로컬 클라이언트 학습시작!\\n\\n학습 중 ...\\n\")\n",
    "now = time.time()\n",
    "\n",
    "for i in range(1,local):\n",
    "    globals()['FedAvg_L{}_iter{}_model'.format(i, global_epoch)] = models.Sequential()  ##!!!!!!! 이게 글로벌 epoch에서는 2번째 부터 들어가면 안됨\n",
    "    globals()['FedAvg_L{}_iter{}_model'.format(i, global_epoch)] = local_model_generate(globals()['FedAvg_L{}_iter{}_model'.format(i, global_epoch)])      # initialize 필요 => 모델 프레임 구축\n",
    "\n",
    "    globals()['FedAvg_L{}_iter{}_model'.format(i, global_epoch)].compile(loss=\"categorical_crossentropy\", optimizer=\"adam\", metrics=[\"accuracy\"])\n",
    "\n",
    "    globals()['FedAvg_L{}_iter{}_model'.format(i, global_epoch)].fit(globals()['L{}_x_train'.format(i)], globals()['L{}_y_train'.format(i)], batch_size=batch_size, epochs=epochs, validation_split=0.1, verbose=0)\n",
    "\n",
    "    loss, acc = globals()['FedAvg_L{}_iter{}_model'.format(i, global_epoch)].evaluate(globals()['L{}_x_test'.format(i,global_epoch)], globals()['L{}_y_test'.format(i)], verbose=2)\n",
    "    \n",
    "    cluster_acc.append(acc)  #acc 넣기\n",
    "    cluster_loss.append(loss)  #loss 넣기\n",
    "\n",
    "\n",
    "print(global_epoch, \"번째 global epoch 로컬 클라이언트 학습완료!,  Total Training time : \", time.time()-now,\"\\n\\n\")\n",
    "\n",
    "# 로컬 모델들 학습 완료하였고 로컬모델에서 weight, bias 추출 -------------------------------------------------------------------------------------\n",
    "\n",
    "for i in range(1, local):\n",
    "    for layer_index in num_layers_list:\n",
    "        w = globals()['FedAvg_L{}_iter{}_model'.format(i, global_epoch)].layers[layer_index].get_weights() #get_weights = w[0],b[1]로 구성\n",
    "\n",
    "        globals()['L{}_layer{}_w_tmp'.format(i,layer_index)] = w      # 클러스터링 용도\n",
    "        globals()['L{}_layer{}_w'.format(i,layer_index)] = w          # weight aggregation 용도\n",
    "            \n",
    "# 클러스터에 넣을 변수 선언\n",
    "\n",
    "for layer_index in num_layers_list:\n",
    "\n",
    "    globals()['layer{}_W_tmp'.format(layer_index)] = []\n",
    "    globals()['var_list_layer{}_w'.format(layer_index)] = []\n",
    "    globals()['var_list_layer{}_b'.format(layer_index)] = []\n",
    "  \n",
    "    for i in range(1, local):\n",
    "        globals()['var_list_layer{}_w'.format(layer_index)].append(np.var(globals()['L{}_layer{}_w'.format(i,layer_index)][0]))\n",
    "        globals()['var_list_layer{}_b'.format(layer_index)].append(np.var(globals()['L{}_layer{}_w'.format(i,layer_index)][1]))\n",
    "      \n",
    "        TMP_w = list(np.array(globals()['L{}_layer{}_w_tmp'.format(i,layer_index)][0]).reshape(-1))\n",
    "        TMP_b = list(np.array(globals()['L{}_layer{}_w_tmp'.format(i,layer_index)][1]).reshape(-1))\n",
    "        \n",
    "        TMP_w.extend(TMP_b) ##append 말고 더해야함..\n",
    "\n",
    "        TMP_w = np.array(TMP_w)\n",
    "        TMP_w = list(TMP_w.reshape(-1))\n",
    "        globals()['layer{}_W_tmp'.format(layer_index)].append(TMP_w)  #클러스터링 용도\n",
    "  \n",
    "\n",
    "    #----------------------------------------------------클러스터링 실시 -------------------------------------------------------------\n",
    "    silhoutte_score_w = []\n",
    "    transformed = globals()['layer{}_W_tmp'.format(layer_index)]\n",
    "\n",
    "    for clusters in range((int(local/2)-1)):       ####=>  이 범위 : 클러스터 갯수, 밑에 보면 cluster+2 있음 = 총 10개 => (0,11) = 10                                                       \n",
    "        kmeans_model_w = KMeans(n_clusters=clusters+2)   # 0, 1은 silhouette 에 안먹힘  \n",
    "\n",
    "        kmeans_model_w.fit(transformed)       #레이블 정의 \n",
    "\n",
    "        silhoutte_score_w.append(silhouette_score(globals()['layer{}_W_tmp'.format(layer_index)], kmeans_model_w.labels_, metric='euclidean'))  \n",
    "\n",
    "    num_clusters_for_w = np.argmax(silhoutte_score_w) \n",
    "    best_Sil_score_c.append(silhoutte_score_w[num_clusters_for_w])  # 처음에는 둘 다 넣어줌\n",
    "\n",
    "    kmeans_model_w = KMeans(n_clusters=num_clusters_for_w+2)   # 0, 1은 silhouette 에 안먹힘  \n",
    "\n",
    "    globals()['w_layer{}_label'.format(layer_index)] = kmeans_model_w.fit_predict(transformed)       # 가장 적합한 클러스터로 레이어에 속한 로컬들 레이블 정의 \n",
    "\n",
    "    globals()['G{}_num_clusters_in_layer{}_w'.format(global_epoch, layer_index)] = num_clusters_for_w + 2  #나중에 몇개로 나뉘었는지 알아야 함 = num_clusters_for_w이거 그대로 하면 밑에 저게 쓸일이 많아서 global 쓰면 코딩이 너무 번잡해짐;; \n",
    "    \n",
    "    label_list.append(globals()['w_layer{}_label'.format(layer_index)])                 \n",
    "    print(\"Layer : \", layer_index, \"  클러스터 갯수 정해짐!  갯수 : \", globals()['G{}_num_clusters_in_layer{}_w'.format(global_epoch, layer_index)], num_clusters_for_w) ########################################################******************************************\n",
    "\n",
    "    # ==========> 클러스터 갯수 정해짐\n",
    "\n",
    "\n",
    "    #----------------------------------------------- 스케일링  ---------------------------------------------------------------------\n",
    "    for num_c_w in range(num_clusters_for_w+2): #클러스터 갯수 (num_clusters_for_w) 만큼 클러스터용 = 클러스터 갯수가 3이 나왔으면 3개를 만들어야 함\n",
    "        globals()['G{}_c{}_w_layer{}'.format(global_epoch, num_c_w, layer_index)] = 0  #각각 cluster, Act+cluster 용도  \n",
    "        \n",
    "        globals()['w_scaler_c{}_sum'.format(num_c_w)], globals()['int_c{}_w'.format(num_c_w)] = 0, 0 #초기화\n",
    "    \n",
    "        for i in range(1, local):\n",
    "            if globals()['w_layer{}_label'.format(layer_index)][i-1] == num_c_w  : # 클러스터 레이블에 맞게 (0 or 1 or 2 ..) \n",
    "                globals()['w_scaler_c{}_sum'.format(num_c_w)] = globals()['w_scaler_c{}_sum'.format(num_c_w)] + len(globals()['L{}_x_train'.format(i)])\n",
    "\n",
    "                globals()['G{}_c{}_w_layer{}'.format(global_epoch, num_c_w, layer_index)] = globals()['G{}_c{}_w_layer{}'.format(global_epoch, num_c_w, layer_index)] + np.array(globals()['L{}_layer{}_w'.format(i,layer_index)])          # 일반 클러스터링\n",
    "                \n",
    "                globals()['int_c{}_w'.format(num_c_w)] = globals()['int_c{}_w'.format(num_c_w)] + 1\n",
    "\n",
    "        globals()['w_scaler{}'.format(num_c_w)] = len(globals()['L{}_x_train'.format(i)]) / globals()['w_scaler_c{}_sum'.format(num_c_w)]\n",
    "        globals()['G{}_c{}_w_layer{}'.format(global_epoch, num_c_w, layer_index)] = globals()['G{}_c{}_w_layer{}'.format(global_epoch, num_c_w, layer_index)] / globals()['int_c{}_w'.format(num_c_w)] #레이어 별 클러스터 자기 갯수만큼 나눠주기=평균\n",
    "\n",
    "    \n",
    "    VAR_final_list_w.append(globals()['var_list_layer{}_w'.format(layer_index)])\n",
    "    VAR_final_list_b.append(globals()['var_list_layer{}_b'.format(layer_index)])\n",
    "\n",
    "#---------------------------------------------------------메모리 삭제-------------------------------------------------------------------\n",
    "\n",
    "transformed = 0\n",
    "Silhouette_sc_c.append(best_Sil_score_c)\n",
    "Cluster_ACC.append(cluster_acc)\n",
    "Cluster_LOSS.append(cluster_loss)\n",
    "\n",
    "## G{}_num_clusters_in_layer{}_w 에 속하는 거 말고 삭제 = 메모리 낭비\n",
    "\n",
    "# Weight, bias 합친 것\n",
    " # FedAvg                   :  G{}_w_layer\n",
    " # 일반 클러스터링          :  G{}_c{}_w_layer{}               클러스터 갯수 파악 : G{}_num_clusters_in_layer{}_w\n",
    " # Actiavtion + 클러스터링  :  G{}_c{}_w_layer{}_Act           클러스터 갯수 파악 : G{}_num_clusters_in_layer{}_w_c_a"
   ]
  },
  {
   "cell_type": "code",
   "execution_count": null,
   "metadata": {
    "colab": {
     "base_uri": "https://localhost:8080/"
    },
    "executionInfo": {
     "elapsed": 984240,
     "status": "ok",
     "timestamp": 1627663392148,
     "user": {
      "displayName": "이훈민",
      "photoUrl": "",
      "userId": "00157268181097362793"
     },
     "user_tz": 240
    },
    "id": "T6GDN301TefI",
    "outputId": "b41f1360-a8db-4f78-9d68-708195e50031",
    "scrolled": true
   },
   "outputs": [
    {
     "name": "stdout",
     "output_type": "stream",
     "text": [
      "1  번째 global_epoch 데이터 랜덤하게 준비!!\n",
      "1  번째 global_epoch 데이터 랜덤 준비완료!!\n",
      "\n",
      "\n",
      "1  번째 global epoch에서 로컬 클라이언트 들 학습시작!\n",
      "\n",
      "학습 중 ...\n",
      "\n",
      "16/16 - 0s - loss: 0.5146 - accuracy: 0.8220\n",
      "16/16 - 0s - loss: 0.5889 - accuracy: 0.7940\n",
      "16/16 - 0s - loss: 0.5952 - accuracy: 0.7860\n",
      "16/16 - 0s - loss: 0.5678 - accuracy: 0.7620\n",
      "16/16 - 0s - loss: 0.6798 - accuracy: 0.7780\n",
      "16/16 - 0s - loss: 0.5296 - accuracy: 0.8080\n",
      "16/16 - 0s - loss: 0.6823 - accuracy: 0.7540\n",
      "16/16 - 0s - loss: 0.6695 - accuracy: 0.7380\n",
      "16/16 - 0s - loss: 0.6762 - accuracy: 0.7380\n",
      "16/16 - 0s - loss: 0.6461 - accuracy: 0.7520\n",
      "16/16 - 0s - loss: 0.5419 - accuracy: 0.7840\n",
      "16/16 - 0s - loss: 0.4592 - accuracy: 0.8380\n",
      "16/16 - 0s - loss: 0.5769 - accuracy: 0.7880\n",
      "16/16 - 0s - loss: 0.3814 - accuracy: 0.8540\n",
      "16/16 - 0s - loss: 0.5217 - accuracy: 0.8080\n",
      "16/16 - 0s - loss: 0.5845 - accuracy: 0.7740\n",
      "16/16 - 0s - loss: 0.5637 - accuracy: 0.7880\n",
      "16/16 - 0s - loss: 0.5536 - accuracy: 0.8080\n",
      "16/16 - 0s - loss: 0.6329 - accuracy: 0.7640\n",
      "16/16 - 0s - loss: 0.6047 - accuracy: 0.7980\n",
      "------------    1  번째 global epoch < Clustering > 로컬 클라이언트 학습 완료!,  Total Training time :  193.00333881378174 ---------------------------\n",
      "\n",
      "\n",
      "Layer :  0   클러스터 갯수 정해짐!  갯수 :  7 5\n"
     ]
    },
    {
     "name": "stderr",
     "output_type": "stream",
     "text": [
      "<ipython-input-10-506962b8e734>:141: VisibleDeprecationWarning: Creating an ndarray from ragged nested sequences (which is a list-or-tuple of lists-or-tuples-or ndarrays with different lengths or shapes) is deprecated. If you meant to do this, you must specify 'dtype=object' when creating the ndarray\n",
      "  globals()['G{}_c{}_w_layer{}'.format(global_epoch, num_c_w, layer_index)] = globals()['G{}_c{}_w_layer{}'.format(global_epoch, num_c_w, layer_index)] + np.array(globals()['L{}_layer{}_w_c'.format(i,layer_index)])   # 일반 클러스터링\n"
     ]
    },
    {
     "name": "stdout",
     "output_type": "stream",
     "text": [
      "Layer :  2   클러스터 갯수 정해짐!  갯수 :  2 0\n"
     ]
    },
    {
     "name": "stderr",
     "output_type": "stream",
     "text": [
      "<ipython-input-10-506962b8e734>:141: VisibleDeprecationWarning: Creating an ndarray from ragged nested sequences (which is a list-or-tuple of lists-or-tuples-or ndarrays with different lengths or shapes) is deprecated. If you meant to do this, you must specify 'dtype=object' when creating the ndarray\n",
      "  globals()['G{}_c{}_w_layer{}'.format(global_epoch, num_c_w, layer_index)] = globals()['G{}_c{}_w_layer{}'.format(global_epoch, num_c_w, layer_index)] + np.array(globals()['L{}_layer{}_w_c'.format(i,layer_index)])   # 일반 클러스터링\n"
     ]
    },
    {
     "name": "stdout",
     "output_type": "stream",
     "text": [
      "Layer :  4   클러스터 갯수 정해짐!  갯수 :  2 0\n"
     ]
    },
    {
     "name": "stderr",
     "output_type": "stream",
     "text": [
      "<ipython-input-10-506962b8e734>:141: VisibleDeprecationWarning: Creating an ndarray from ragged nested sequences (which is a list-or-tuple of lists-or-tuples-or ndarrays with different lengths or shapes) is deprecated. If you meant to do this, you must specify 'dtype=object' when creating the ndarray\n",
      "  globals()['G{}_c{}_w_layer{}'.format(global_epoch, num_c_w, layer_index)] = globals()['G{}_c{}_w_layer{}'.format(global_epoch, num_c_w, layer_index)] + np.array(globals()['L{}_layer{}_w_c'.format(i,layer_index)])   # 일반 클러스터링\n"
     ]
    },
    {
     "name": "stdout",
     "output_type": "stream",
     "text": [
      "Layer :  6   클러스터 갯수 정해짐!  갯수 :  2 0\n"
     ]
    },
    {
     "name": "stderr",
     "output_type": "stream",
     "text": [
      "<ipython-input-10-506962b8e734>:141: VisibleDeprecationWarning: Creating an ndarray from ragged nested sequences (which is a list-or-tuple of lists-or-tuples-or ndarrays with different lengths or shapes) is deprecated. If you meant to do this, you must specify 'dtype=object' when creating the ndarray\n",
      "  globals()['G{}_c{}_w_layer{}'.format(global_epoch, num_c_w, layer_index)] = globals()['G{}_c{}_w_layer{}'.format(global_epoch, num_c_w, layer_index)] + np.array(globals()['L{}_layer{}_w_c'.format(i,layer_index)])   # 일반 클러스터링\n"
     ]
    },
    {
     "name": "stdout",
     "output_type": "stream",
     "text": [
      "Layer :  7   클러스터 갯수 정해짐!  갯수 :  2 0\n",
      "\n",
      "\n",
      "====================================================== One Global Epoch =====================================================================\n",
      "\n",
      "\n",
      "2  번째 global_epoch 데이터 랜덤하게 준비!!\n"
     ]
    },
    {
     "name": "stderr",
     "output_type": "stream",
     "text": [
      "<ipython-input-10-506962b8e734>:141: VisibleDeprecationWarning: Creating an ndarray from ragged nested sequences (which is a list-or-tuple of lists-or-tuples-or ndarrays with different lengths or shapes) is deprecated. If you meant to do this, you must specify 'dtype=object' when creating the ndarray\n",
      "  globals()['G{}_c{}_w_layer{}'.format(global_epoch, num_c_w, layer_index)] = globals()['G{}_c{}_w_layer{}'.format(global_epoch, num_c_w, layer_index)] + np.array(globals()['L{}_layer{}_w_c'.format(i,layer_index)])   # 일반 클러스터링\n"
     ]
    },
    {
     "name": "stdout",
     "output_type": "stream",
     "text": [
      "2  번째 global_epoch 데이터 랜덤 준비완료!!\n",
      "\n",
      "\n",
      "2  번째 global epoch에서 로컬 클라이언트 들 학습시작!\n",
      "\n",
      "학습 중 ...\n",
      "\n",
      "16/16 - 0s - loss: 0.5786 - accuracy: 0.7900\n",
      "16/16 - 0s - loss: 0.6407 - accuracy: 0.7760\n",
      "16/16 - 0s - loss: 0.5719 - accuracy: 0.7920\n",
      "16/16 - 0s - loss: 0.5557 - accuracy: 0.8020\n",
      "16/16 - 0s - loss: 0.5902 - accuracy: 0.8100\n",
      "16/16 - 0s - loss: 0.5454 - accuracy: 0.8000\n",
      "16/16 - 0s - loss: 0.5181 - accuracy: 0.8100\n",
      "16/16 - 0s - loss: 0.5162 - accuracy: 0.8060\n",
      "16/16 - 0s - loss: 0.5235 - accuracy: 0.8060\n",
      "16/16 - 0s - loss: 0.5528 - accuracy: 0.7960\n",
      "16/16 - 0s - loss: 0.5258 - accuracy: 0.8040\n",
      "16/16 - 0s - loss: 0.6364 - accuracy: 0.7820\n",
      "16/16 - 0s - loss: 0.4588 - accuracy: 0.8180\n",
      "16/16 - 0s - loss: 0.5438 - accuracy: 0.8180\n",
      "16/16 - 0s - loss: 0.5370 - accuracy: 0.8200\n",
      "16/16 - 0s - loss: 0.5171 - accuracy: 0.8020\n",
      "16/16 - 0s - loss: 0.5011 - accuracy: 0.8180\n",
      "16/16 - 0s - loss: 0.5033 - accuracy: 0.8140\n",
      "16/16 - 0s - loss: 0.5237 - accuracy: 0.7960\n",
      "16/16 - 0s - loss: 0.5206 - accuracy: 0.8140\n",
      "------------    2  번째 global epoch < Clustering > 로컬 클라이언트 학습 완료!,  Total Training time :  194.3542242050171 ---------------------------\n",
      "\n",
      "\n",
      "Layer :  0   클러스터 갯수 정해짐!  갯수 :  7 5\n"
     ]
    },
    {
     "name": "stderr",
     "output_type": "stream",
     "text": [
      "<ipython-input-10-506962b8e734>:141: VisibleDeprecationWarning: Creating an ndarray from ragged nested sequences (which is a list-or-tuple of lists-or-tuples-or ndarrays with different lengths or shapes) is deprecated. If you meant to do this, you must specify 'dtype=object' when creating the ndarray\n",
      "  globals()['G{}_c{}_w_layer{}'.format(global_epoch, num_c_w, layer_index)] = globals()['G{}_c{}_w_layer{}'.format(global_epoch, num_c_w, layer_index)] + np.array(globals()['L{}_layer{}_w_c'.format(i,layer_index)])   # 일반 클러스터링\n"
     ]
    },
    {
     "name": "stdout",
     "output_type": "stream",
     "text": [
      "Layer :  2   클러스터 갯수 정해짐!  갯수 :  2 0\n"
     ]
    },
    {
     "name": "stderr",
     "output_type": "stream",
     "text": [
      "<ipython-input-10-506962b8e734>:141: VisibleDeprecationWarning: Creating an ndarray from ragged nested sequences (which is a list-or-tuple of lists-or-tuples-or ndarrays with different lengths or shapes) is deprecated. If you meant to do this, you must specify 'dtype=object' when creating the ndarray\n",
      "  globals()['G{}_c{}_w_layer{}'.format(global_epoch, num_c_w, layer_index)] = globals()['G{}_c{}_w_layer{}'.format(global_epoch, num_c_w, layer_index)] + np.array(globals()['L{}_layer{}_w_c'.format(i,layer_index)])   # 일반 클러스터링\n"
     ]
    },
    {
     "name": "stdout",
     "output_type": "stream",
     "text": [
      "Layer :  4   클러스터 갯수 정해짐!  갯수 :  2 0\n"
     ]
    },
    {
     "name": "stderr",
     "output_type": "stream",
     "text": [
      "<ipython-input-10-506962b8e734>:141: VisibleDeprecationWarning: Creating an ndarray from ragged nested sequences (which is a list-or-tuple of lists-or-tuples-or ndarrays with different lengths or shapes) is deprecated. If you meant to do this, you must specify 'dtype=object' when creating the ndarray\n",
      "  globals()['G{}_c{}_w_layer{}'.format(global_epoch, num_c_w, layer_index)] = globals()['G{}_c{}_w_layer{}'.format(global_epoch, num_c_w, layer_index)] + np.array(globals()['L{}_layer{}_w_c'.format(i,layer_index)])   # 일반 클러스터링\n"
     ]
    },
    {
     "name": "stdout",
     "output_type": "stream",
     "text": [
      "Layer :  6   클러스터 갯수 정해짐!  갯수 :  2 0\n"
     ]
    },
    {
     "name": "stderr",
     "output_type": "stream",
     "text": [
      "<ipython-input-10-506962b8e734>:141: VisibleDeprecationWarning: Creating an ndarray from ragged nested sequences (which is a list-or-tuple of lists-or-tuples-or ndarrays with different lengths or shapes) is deprecated. If you meant to do this, you must specify 'dtype=object' when creating the ndarray\n",
      "  globals()['G{}_c{}_w_layer{}'.format(global_epoch, num_c_w, layer_index)] = globals()['G{}_c{}_w_layer{}'.format(global_epoch, num_c_w, layer_index)] + np.array(globals()['L{}_layer{}_w_c'.format(i,layer_index)])   # 일반 클러스터링\n"
     ]
    },
    {
     "name": "stdout",
     "output_type": "stream",
     "text": [
      "Layer :  7   클러스터 갯수 정해짐!  갯수 :  2 0\n",
      "\n",
      "\n",
      "====================================================== One Global Epoch =====================================================================\n",
      "\n",
      "\n",
      "3  번째 global_epoch 데이터 랜덤하게 준비!!\n"
     ]
    },
    {
     "name": "stderr",
     "output_type": "stream",
     "text": [
      "<ipython-input-10-506962b8e734>:141: VisibleDeprecationWarning: Creating an ndarray from ragged nested sequences (which is a list-or-tuple of lists-or-tuples-or ndarrays with different lengths or shapes) is deprecated. If you meant to do this, you must specify 'dtype=object' when creating the ndarray\n",
      "  globals()['G{}_c{}_w_layer{}'.format(global_epoch, num_c_w, layer_index)] = globals()['G{}_c{}_w_layer{}'.format(global_epoch, num_c_w, layer_index)] + np.array(globals()['L{}_layer{}_w_c'.format(i,layer_index)])   # 일반 클러스터링\n"
     ]
    },
    {
     "name": "stdout",
     "output_type": "stream",
     "text": [
      "3  번째 global_epoch 데이터 랜덤 준비완료!!\n",
      "\n",
      "\n",
      "3  번째 global epoch에서 로컬 클라이언트 들 학습시작!\n",
      "\n",
      "학습 중 ...\n",
      "\n",
      "16/16 - 0s - loss: 0.4450 - accuracy: 0.8460\n",
      "16/16 - 0s - loss: 0.5067 - accuracy: 0.8040\n",
      "16/16 - 0s - loss: 0.4820 - accuracy: 0.8300\n",
      "16/16 - 0s - loss: 0.5329 - accuracy: 0.8020\n",
      "16/16 - 0s - loss: 0.5177 - accuracy: 0.7860\n",
      "16/16 - 0s - loss: 0.5123 - accuracy: 0.8080\n",
      "16/16 - 0s - loss: 0.5610 - accuracy: 0.8020\n",
      "16/16 - 0s - loss: 0.4842 - accuracy: 0.8340\n",
      "16/16 - 0s - loss: 0.4749 - accuracy: 0.8220\n",
      "16/16 - 0s - loss: 0.5759 - accuracy: 0.7980\n",
      "16/16 - 0s - loss: 0.6405 - accuracy: 0.7960\n",
      "16/16 - 0s - loss: 0.5590 - accuracy: 0.7980\n",
      "16/16 - 0s - loss: 0.5659 - accuracy: 0.8140\n",
      "16/16 - 0s - loss: 0.4805 - accuracy: 0.8380\n",
      "16/16 - 0s - loss: 0.5780 - accuracy: 0.8000\n",
      "16/16 - 0s - loss: 0.5697 - accuracy: 0.8180\n",
      "16/16 - 0s - loss: 0.6376 - accuracy: 0.7860\n",
      "16/16 - 0s - loss: 0.4622 - accuracy: 0.8280\n",
      "16/16 - 0s - loss: 0.5698 - accuracy: 0.7900\n",
      "16/16 - 0s - loss: 0.6274 - accuracy: 0.7960\n",
      "------------    3  번째 global epoch < Clustering > 로컬 클라이언트 학습 완료!,  Total Training time :  194.62190127372742 ---------------------------\n",
      "\n",
      "\n",
      "Layer :  0   클러스터 갯수 정해짐!  갯수 :  7 5\n"
     ]
    },
    {
     "name": "stderr",
     "output_type": "stream",
     "text": [
      "<ipython-input-10-506962b8e734>:141: VisibleDeprecationWarning: Creating an ndarray from ragged nested sequences (which is a list-or-tuple of lists-or-tuples-or ndarrays with different lengths or shapes) is deprecated. If you meant to do this, you must specify 'dtype=object' when creating the ndarray\n",
      "  globals()['G{}_c{}_w_layer{}'.format(global_epoch, num_c_w, layer_index)] = globals()['G{}_c{}_w_layer{}'.format(global_epoch, num_c_w, layer_index)] + np.array(globals()['L{}_layer{}_w_c'.format(i,layer_index)])   # 일반 클러스터링\n"
     ]
    },
    {
     "name": "stdout",
     "output_type": "stream",
     "text": [
      "Layer :  2   클러스터 갯수 정해짐!  갯수 :  2 0\n"
     ]
    },
    {
     "name": "stderr",
     "output_type": "stream",
     "text": [
      "<ipython-input-10-506962b8e734>:141: VisibleDeprecationWarning: Creating an ndarray from ragged nested sequences (which is a list-or-tuple of lists-or-tuples-or ndarrays with different lengths or shapes) is deprecated. If you meant to do this, you must specify 'dtype=object' when creating the ndarray\n",
      "  globals()['G{}_c{}_w_layer{}'.format(global_epoch, num_c_w, layer_index)] = globals()['G{}_c{}_w_layer{}'.format(global_epoch, num_c_w, layer_index)] + np.array(globals()['L{}_layer{}_w_c'.format(i,layer_index)])   # 일반 클러스터링\n"
     ]
    },
    {
     "name": "stdout",
     "output_type": "stream",
     "text": [
      "Layer :  4   클러스터 갯수 정해짐!  갯수 :  2 0\n"
     ]
    },
    {
     "name": "stderr",
     "output_type": "stream",
     "text": [
      "<ipython-input-10-506962b8e734>:141: VisibleDeprecationWarning: Creating an ndarray from ragged nested sequences (which is a list-or-tuple of lists-or-tuples-or ndarrays with different lengths or shapes) is deprecated. If you meant to do this, you must specify 'dtype=object' when creating the ndarray\n",
      "  globals()['G{}_c{}_w_layer{}'.format(global_epoch, num_c_w, layer_index)] = globals()['G{}_c{}_w_layer{}'.format(global_epoch, num_c_w, layer_index)] + np.array(globals()['L{}_layer{}_w_c'.format(i,layer_index)])   # 일반 클러스터링\n"
     ]
    },
    {
     "name": "stdout",
     "output_type": "stream",
     "text": [
      "Layer :  6   클러스터 갯수 정해짐!  갯수 :  2 0\n"
     ]
    },
    {
     "name": "stderr",
     "output_type": "stream",
     "text": [
      "<ipython-input-10-506962b8e734>:141: VisibleDeprecationWarning: Creating an ndarray from ragged nested sequences (which is a list-or-tuple of lists-or-tuples-or ndarrays with different lengths or shapes) is deprecated. If you meant to do this, you must specify 'dtype=object' when creating the ndarray\n",
      "  globals()['G{}_c{}_w_layer{}'.format(global_epoch, num_c_w, layer_index)] = globals()['G{}_c{}_w_layer{}'.format(global_epoch, num_c_w, layer_index)] + np.array(globals()['L{}_layer{}_w_c'.format(i,layer_index)])   # 일반 클러스터링\n"
     ]
    },
    {
     "name": "stdout",
     "output_type": "stream",
     "text": [
      "Layer :  7   클러스터 갯수 정해짐!  갯수 :  2 0\n",
      "\n",
      "\n",
      "====================================================== One Global Epoch =====================================================================\n",
      "\n",
      "\n",
      "4  번째 global_epoch 데이터 랜덤하게 준비!!\n"
     ]
    },
    {
     "name": "stderr",
     "output_type": "stream",
     "text": [
      "<ipython-input-10-506962b8e734>:141: VisibleDeprecationWarning: Creating an ndarray from ragged nested sequences (which is a list-or-tuple of lists-or-tuples-or ndarrays with different lengths or shapes) is deprecated. If you meant to do this, you must specify 'dtype=object' when creating the ndarray\n",
      "  globals()['G{}_c{}_w_layer{}'.format(global_epoch, num_c_w, layer_index)] = globals()['G{}_c{}_w_layer{}'.format(global_epoch, num_c_w, layer_index)] + np.array(globals()['L{}_layer{}_w_c'.format(i,layer_index)])   # 일반 클러스터링\n"
     ]
    },
    {
     "name": "stdout",
     "output_type": "stream",
     "text": [
      "4  번째 global_epoch 데이터 랜덤 준비완료!!\n",
      "\n",
      "\n",
      "4  번째 global epoch에서 로컬 클라이언트 들 학습시작!\n",
      "\n",
      "학습 중 ...\n",
      "\n",
      "16/16 - 0s - loss: 0.5182 - accuracy: 0.8220\n",
      "16/16 - 0s - loss: 0.4843 - accuracy: 0.8580\n",
      "16/16 - 0s - loss: 0.4527 - accuracy: 0.8440\n",
      "16/16 - 0s - loss: 0.5805 - accuracy: 0.8180\n",
      "16/16 - 0s - loss: 0.4298 - accuracy: 0.8540\n",
      "16/16 - 0s - loss: 0.4636 - accuracy: 0.8360\n",
      "16/16 - 0s - loss: 0.5813 - accuracy: 0.7940\n",
      "16/16 - 0s - loss: 0.5380 - accuracy: 0.8260\n",
      "16/16 - 0s - loss: 0.5780 - accuracy: 0.8440\n",
      "16/16 - 0s - loss: 0.5379 - accuracy: 0.8100\n",
      "16/16 - 0s - loss: 0.5568 - accuracy: 0.8280\n",
      "16/16 - 0s - loss: 0.4673 - accuracy: 0.8300\n",
      "16/16 - 0s - loss: 0.5088 - accuracy: 0.8440\n",
      "16/16 - 0s - loss: 0.5673 - accuracy: 0.8300\n",
      "16/16 - 0s - loss: 0.5311 - accuracy: 0.8240\n",
      "16/16 - 0s - loss: 0.5478 - accuracy: 0.8100\n",
      "16/16 - 0s - loss: 0.5053 - accuracy: 0.8320\n",
      "16/16 - 0s - loss: 0.5882 - accuracy: 0.8160\n",
      "16/16 - 0s - loss: 0.5267 - accuracy: 0.8280\n",
      "16/16 - 0s - loss: 0.5011 - accuracy: 0.8220\n",
      "------------    4  번째 global epoch < Clustering > 로컬 클라이언트 학습 완료!,  Total Training time :  196.84181571006775 ---------------------------\n",
      "\n",
      "\n",
      "Layer :  0   클러스터 갯수 정해짐!  갯수 :  7 5\n"
     ]
    },
    {
     "name": "stderr",
     "output_type": "stream",
     "text": [
      "<ipython-input-10-506962b8e734>:141: VisibleDeprecationWarning: Creating an ndarray from ragged nested sequences (which is a list-or-tuple of lists-or-tuples-or ndarrays with different lengths or shapes) is deprecated. If you meant to do this, you must specify 'dtype=object' when creating the ndarray\n",
      "  globals()['G{}_c{}_w_layer{}'.format(global_epoch, num_c_w, layer_index)] = globals()['G{}_c{}_w_layer{}'.format(global_epoch, num_c_w, layer_index)] + np.array(globals()['L{}_layer{}_w_c'.format(i,layer_index)])   # 일반 클러스터링\n"
     ]
    },
    {
     "name": "stdout",
     "output_type": "stream",
     "text": [
      "Layer :  2   클러스터 갯수 정해짐!  갯수 :  2 0\n"
     ]
    },
    {
     "name": "stderr",
     "output_type": "stream",
     "text": [
      "<ipython-input-10-506962b8e734>:141: VisibleDeprecationWarning: Creating an ndarray from ragged nested sequences (which is a list-or-tuple of lists-or-tuples-or ndarrays with different lengths or shapes) is deprecated. If you meant to do this, you must specify 'dtype=object' when creating the ndarray\n",
      "  globals()['G{}_c{}_w_layer{}'.format(global_epoch, num_c_w, layer_index)] = globals()['G{}_c{}_w_layer{}'.format(global_epoch, num_c_w, layer_index)] + np.array(globals()['L{}_layer{}_w_c'.format(i,layer_index)])   # 일반 클러스터링\n"
     ]
    },
    {
     "name": "stdout",
     "output_type": "stream",
     "text": [
      "Layer :  4   클러스터 갯수 정해짐!  갯수 :  2 0\n"
     ]
    },
    {
     "name": "stderr",
     "output_type": "stream",
     "text": [
      "<ipython-input-10-506962b8e734>:141: VisibleDeprecationWarning: Creating an ndarray from ragged nested sequences (which is a list-or-tuple of lists-or-tuples-or ndarrays with different lengths or shapes) is deprecated. If you meant to do this, you must specify 'dtype=object' when creating the ndarray\n",
      "  globals()['G{}_c{}_w_layer{}'.format(global_epoch, num_c_w, layer_index)] = globals()['G{}_c{}_w_layer{}'.format(global_epoch, num_c_w, layer_index)] + np.array(globals()['L{}_layer{}_w_c'.format(i,layer_index)])   # 일반 클러스터링\n"
     ]
    },
    {
     "name": "stdout",
     "output_type": "stream",
     "text": [
      "Layer :  6   클러스터 갯수 정해짐!  갯수 :  2 0\n"
     ]
    },
    {
     "name": "stderr",
     "output_type": "stream",
     "text": [
      "<ipython-input-10-506962b8e734>:141: VisibleDeprecationWarning: Creating an ndarray from ragged nested sequences (which is a list-or-tuple of lists-or-tuples-or ndarrays with different lengths or shapes) is deprecated. If you meant to do this, you must specify 'dtype=object' when creating the ndarray\n",
      "  globals()['G{}_c{}_w_layer{}'.format(global_epoch, num_c_w, layer_index)] = globals()['G{}_c{}_w_layer{}'.format(global_epoch, num_c_w, layer_index)] + np.array(globals()['L{}_layer{}_w_c'.format(i,layer_index)])   # 일반 클러스터링\n"
     ]
    },
    {
     "name": "stdout",
     "output_type": "stream",
     "text": [
      "Layer :  7   클러스터 갯수 정해짐!  갯수 :  2 0\n",
      "\n",
      "\n",
      "====================================================== One Global Epoch =====================================================================\n",
      "\n",
      "\n",
      "5  번째 global_epoch 데이터 랜덤하게 준비!!\n"
     ]
    },
    {
     "name": "stderr",
     "output_type": "stream",
     "text": [
      "<ipython-input-10-506962b8e734>:141: VisibleDeprecationWarning: Creating an ndarray from ragged nested sequences (which is a list-or-tuple of lists-or-tuples-or ndarrays with different lengths or shapes) is deprecated. If you meant to do this, you must specify 'dtype=object' when creating the ndarray\n",
      "  globals()['G{}_c{}_w_layer{}'.format(global_epoch, num_c_w, layer_index)] = globals()['G{}_c{}_w_layer{}'.format(global_epoch, num_c_w, layer_index)] + np.array(globals()['L{}_layer{}_w_c'.format(i,layer_index)])   # 일반 클러스터링\n"
     ]
    },
    {
     "name": "stdout",
     "output_type": "stream",
     "text": [
      "5  번째 global_epoch 데이터 랜덤 준비완료!!\n",
      "\n",
      "\n",
      "5  번째 global epoch에서 로컬 클라이언트 들 학습시작!\n",
      "\n",
      "학습 중 ...\n",
      "\n",
      "16/16 - 0s - loss: 0.5593 - accuracy: 0.8400\n",
      "16/16 - 0s - loss: 0.5283 - accuracy: 0.8460\n",
      "16/16 - 0s - loss: 0.5651 - accuracy: 0.8160\n",
      "16/16 - 0s - loss: 0.5240 - accuracy: 0.8580\n",
      "16/16 - 0s - loss: 0.5327 - accuracy: 0.8340\n",
      "16/16 - 0s - loss: 0.4732 - accuracy: 0.8380\n",
      "16/16 - 0s - loss: 0.3309 - accuracy: 0.8640\n",
      "16/16 - 0s - loss: 0.4050 - accuracy: 0.8440\n",
      "16/16 - 0s - loss: 0.4622 - accuracy: 0.8540\n",
      "16/16 - 0s - loss: 0.4631 - accuracy: 0.8440\n",
      "16/16 - 0s - loss: 0.5216 - accuracy: 0.8500\n",
      "16/16 - 0s - loss: 0.5870 - accuracy: 0.8180\n",
      "16/16 - 0s - loss: 0.4602 - accuracy: 0.8520\n",
      "16/16 - 0s - loss: 0.5335 - accuracy: 0.8540\n",
      "16/16 - 0s - loss: 0.5046 - accuracy: 0.8260\n",
      "16/16 - 0s - loss: 0.4720 - accuracy: 0.8380\n",
      "16/16 - 0s - loss: 0.5965 - accuracy: 0.8280\n",
      "16/16 - 0s - loss: 0.5299 - accuracy: 0.8340\n",
      "16/16 - 0s - loss: 0.4680 - accuracy: 0.8520\n",
      "16/16 - 0s - loss: 0.5766 - accuracy: 0.8200\n",
      "------------    5  번째 global epoch < Clustering > 로컬 클라이언트 학습 완료!,  Total Training time :  201.05786395072937 ---------------------------\n",
      "\n",
      "\n",
      "Layer :  0   클러스터 갯수 정해짐!  갯수 :  7 5\n"
     ]
    },
    {
     "name": "stderr",
     "output_type": "stream",
     "text": [
      "<ipython-input-10-506962b8e734>:141: VisibleDeprecationWarning: Creating an ndarray from ragged nested sequences (which is a list-or-tuple of lists-or-tuples-or ndarrays with different lengths or shapes) is deprecated. If you meant to do this, you must specify 'dtype=object' when creating the ndarray\n",
      "  globals()['G{}_c{}_w_layer{}'.format(global_epoch, num_c_w, layer_index)] = globals()['G{}_c{}_w_layer{}'.format(global_epoch, num_c_w, layer_index)] + np.array(globals()['L{}_layer{}_w_c'.format(i,layer_index)])   # 일반 클러스터링\n"
     ]
    },
    {
     "name": "stdout",
     "output_type": "stream",
     "text": [
      "Layer :  2   클러스터 갯수 정해짐!  갯수 :  2 0\n"
     ]
    },
    {
     "name": "stderr",
     "output_type": "stream",
     "text": [
      "<ipython-input-10-506962b8e734>:141: VisibleDeprecationWarning: Creating an ndarray from ragged nested sequences (which is a list-or-tuple of lists-or-tuples-or ndarrays with different lengths or shapes) is deprecated. If you meant to do this, you must specify 'dtype=object' when creating the ndarray\n",
      "  globals()['G{}_c{}_w_layer{}'.format(global_epoch, num_c_w, layer_index)] = globals()['G{}_c{}_w_layer{}'.format(global_epoch, num_c_w, layer_index)] + np.array(globals()['L{}_layer{}_w_c'.format(i,layer_index)])   # 일반 클러스터링\n"
     ]
    },
    {
     "name": "stdout",
     "output_type": "stream",
     "text": [
      "Layer :  4   클러스터 갯수 정해짐!  갯수 :  2 0\n"
     ]
    },
    {
     "name": "stderr",
     "output_type": "stream",
     "text": [
      "<ipython-input-10-506962b8e734>:141: VisibleDeprecationWarning: Creating an ndarray from ragged nested sequences (which is a list-or-tuple of lists-or-tuples-or ndarrays with different lengths or shapes) is deprecated. If you meant to do this, you must specify 'dtype=object' when creating the ndarray\n",
      "  globals()['G{}_c{}_w_layer{}'.format(global_epoch, num_c_w, layer_index)] = globals()['G{}_c{}_w_layer{}'.format(global_epoch, num_c_w, layer_index)] + np.array(globals()['L{}_layer{}_w_c'.format(i,layer_index)])   # 일반 클러스터링\n"
     ]
    },
    {
     "name": "stdout",
     "output_type": "stream",
     "text": [
      "Layer :  6   클러스터 갯수 정해짐!  갯수 :  2 0\n"
     ]
    },
    {
     "name": "stderr",
     "output_type": "stream",
     "text": [
      "<ipython-input-10-506962b8e734>:141: VisibleDeprecationWarning: Creating an ndarray from ragged nested sequences (which is a list-or-tuple of lists-or-tuples-or ndarrays with different lengths or shapes) is deprecated. If you meant to do this, you must specify 'dtype=object' when creating the ndarray\n",
      "  globals()['G{}_c{}_w_layer{}'.format(global_epoch, num_c_w, layer_index)] = globals()['G{}_c{}_w_layer{}'.format(global_epoch, num_c_w, layer_index)] + np.array(globals()['L{}_layer{}_w_c'.format(i,layer_index)])   # 일반 클러스터링\n"
     ]
    },
    {
     "name": "stdout",
     "output_type": "stream",
     "text": [
      "Layer :  7   클러스터 갯수 정해짐!  갯수 :  2 0\n",
      "\n",
      "\n",
      "====================================================== One Global Epoch =====================================================================\n",
      "\n",
      "\n",
      "6  번째 global_epoch 데이터 랜덤하게 준비!!\n"
     ]
    },
    {
     "name": "stderr",
     "output_type": "stream",
     "text": [
      "<ipython-input-10-506962b8e734>:141: VisibleDeprecationWarning: Creating an ndarray from ragged nested sequences (which is a list-or-tuple of lists-or-tuples-or ndarrays with different lengths or shapes) is deprecated. If you meant to do this, you must specify 'dtype=object' when creating the ndarray\n",
      "  globals()['G{}_c{}_w_layer{}'.format(global_epoch, num_c_w, layer_index)] = globals()['G{}_c{}_w_layer{}'.format(global_epoch, num_c_w, layer_index)] + np.array(globals()['L{}_layer{}_w_c'.format(i,layer_index)])   # 일반 클러스터링\n"
     ]
    },
    {
     "name": "stdout",
     "output_type": "stream",
     "text": [
      "6  번째 global_epoch 데이터 랜덤 준비완료!!\n",
      "\n",
      "\n",
      "6  번째 global epoch에서 로컬 클라이언트 들 학습시작!\n",
      "\n",
      "학습 중 ...\n",
      "\n",
      "16/16 - 0s - loss: 0.5125 - accuracy: 0.8540\n",
      "16/16 - 0s - loss: 0.6078 - accuracy: 0.8180\n",
      "16/16 - 0s - loss: 0.4686 - accuracy: 0.8460\n",
      "16/16 - 0s - loss: 0.5617 - accuracy: 0.8420\n",
      "16/16 - 0s - loss: 0.5171 - accuracy: 0.8380\n",
      "16/16 - 0s - loss: 0.5234 - accuracy: 0.8500\n",
      "16/16 - 0s - loss: 0.4372 - accuracy: 0.8620\n",
      "16/16 - 0s - loss: 0.5989 - accuracy: 0.8340\n",
      "16/16 - 0s - loss: 0.4840 - accuracy: 0.8500\n",
      "16/16 - 0s - loss: 0.4612 - accuracy: 0.8560\n",
      "16/16 - 0s - loss: 0.4702 - accuracy: 0.8580\n",
      "16/16 - 0s - loss: 0.6141 - accuracy: 0.8300\n",
      "16/16 - 0s - loss: 0.4686 - accuracy: 0.8480\n",
      "16/16 - 0s - loss: 0.5562 - accuracy: 0.8500\n",
      "16/16 - 0s - loss: 0.5778 - accuracy: 0.8420\n",
      "16/16 - 0s - loss: 0.5135 - accuracy: 0.8380\n",
      "16/16 - 0s - loss: 0.5409 - accuracy: 0.8380\n",
      "16/16 - 0s - loss: 0.4873 - accuracy: 0.8380\n",
      "16/16 - 0s - loss: 0.5948 - accuracy: 0.8160\n",
      "16/16 - 0s - loss: 0.5752 - accuracy: 0.8400\n",
      "------------    6  번째 global epoch < Clustering > 로컬 클라이언트 학습 완료!,  Total Training time :  207.59031701087952 ---------------------------\n",
      "\n",
      "\n",
      "Layer :  0   클러스터 갯수 정해짐!  갯수 :  7 5\n"
     ]
    },
    {
     "name": "stderr",
     "output_type": "stream",
     "text": [
      "<ipython-input-10-506962b8e734>:141: VisibleDeprecationWarning: Creating an ndarray from ragged nested sequences (which is a list-or-tuple of lists-or-tuples-or ndarrays with different lengths or shapes) is deprecated. If you meant to do this, you must specify 'dtype=object' when creating the ndarray\n",
      "  globals()['G{}_c{}_w_layer{}'.format(global_epoch, num_c_w, layer_index)] = globals()['G{}_c{}_w_layer{}'.format(global_epoch, num_c_w, layer_index)] + np.array(globals()['L{}_layer{}_w_c'.format(i,layer_index)])   # 일반 클러스터링\n"
     ]
    },
    {
     "name": "stdout",
     "output_type": "stream",
     "text": [
      "Layer :  2   클러스터 갯수 정해짐!  갯수 :  2 0\n"
     ]
    },
    {
     "name": "stderr",
     "output_type": "stream",
     "text": [
      "<ipython-input-10-506962b8e734>:141: VisibleDeprecationWarning: Creating an ndarray from ragged nested sequences (which is a list-or-tuple of lists-or-tuples-or ndarrays with different lengths or shapes) is deprecated. If you meant to do this, you must specify 'dtype=object' when creating the ndarray\n",
      "  globals()['G{}_c{}_w_layer{}'.format(global_epoch, num_c_w, layer_index)] = globals()['G{}_c{}_w_layer{}'.format(global_epoch, num_c_w, layer_index)] + np.array(globals()['L{}_layer{}_w_c'.format(i,layer_index)])   # 일반 클러스터링\n"
     ]
    },
    {
     "name": "stdout",
     "output_type": "stream",
     "text": [
      "Layer :  4   클러스터 갯수 정해짐!  갯수 :  2 0\n"
     ]
    },
    {
     "name": "stderr",
     "output_type": "stream",
     "text": [
      "<ipython-input-10-506962b8e734>:141: VisibleDeprecationWarning: Creating an ndarray from ragged nested sequences (which is a list-or-tuple of lists-or-tuples-or ndarrays with different lengths or shapes) is deprecated. If you meant to do this, you must specify 'dtype=object' when creating the ndarray\n",
      "  globals()['G{}_c{}_w_layer{}'.format(global_epoch, num_c_w, layer_index)] = globals()['G{}_c{}_w_layer{}'.format(global_epoch, num_c_w, layer_index)] + np.array(globals()['L{}_layer{}_w_c'.format(i,layer_index)])   # 일반 클러스터링\n"
     ]
    },
    {
     "name": "stdout",
     "output_type": "stream",
     "text": [
      "Layer :  6   클러스터 갯수 정해짐!  갯수 :  2 0\n"
     ]
    },
    {
     "name": "stderr",
     "output_type": "stream",
     "text": [
      "<ipython-input-10-506962b8e734>:141: VisibleDeprecationWarning: Creating an ndarray from ragged nested sequences (which is a list-or-tuple of lists-or-tuples-or ndarrays with different lengths or shapes) is deprecated. If you meant to do this, you must specify 'dtype=object' when creating the ndarray\n",
      "  globals()['G{}_c{}_w_layer{}'.format(global_epoch, num_c_w, layer_index)] = globals()['G{}_c{}_w_layer{}'.format(global_epoch, num_c_w, layer_index)] + np.array(globals()['L{}_layer{}_w_c'.format(i,layer_index)])   # 일반 클러스터링\n"
     ]
    },
    {
     "name": "stdout",
     "output_type": "stream",
     "text": [
      "Layer :  7   클러스터 갯수 정해짐!  갯수 :  2 0\n",
      "\n",
      "\n",
      "====================================================== One Global Epoch =====================================================================\n",
      "\n",
      "\n",
      "7  번째 global_epoch 데이터 랜덤하게 준비!!\n"
     ]
    },
    {
     "name": "stderr",
     "output_type": "stream",
     "text": [
      "<ipython-input-10-506962b8e734>:141: VisibleDeprecationWarning: Creating an ndarray from ragged nested sequences (which is a list-or-tuple of lists-or-tuples-or ndarrays with different lengths or shapes) is deprecated. If you meant to do this, you must specify 'dtype=object' when creating the ndarray\n",
      "  globals()['G{}_c{}_w_layer{}'.format(global_epoch, num_c_w, layer_index)] = globals()['G{}_c{}_w_layer{}'.format(global_epoch, num_c_w, layer_index)] + np.array(globals()['L{}_layer{}_w_c'.format(i,layer_index)])   # 일반 클러스터링\n"
     ]
    },
    {
     "name": "stdout",
     "output_type": "stream",
     "text": [
      "7  번째 global_epoch 데이터 랜덤 준비완료!!\n",
      "\n",
      "\n",
      "7  번째 global epoch에서 로컬 클라이언트 들 학습시작!\n",
      "\n",
      "학습 중 ...\n",
      "\n",
      "16/16 - 0s - loss: 0.5093 - accuracy: 0.8540\n",
      "16/16 - 0s - loss: 0.5520 - accuracy: 0.8300\n",
      "16/16 - 0s - loss: 0.4850 - accuracy: 0.8560\n",
      "16/16 - 0s - loss: 0.5839 - accuracy: 0.8380\n",
      "16/16 - 0s - loss: 0.5109 - accuracy: 0.8580\n",
      "16/16 - 0s - loss: 0.6431 - accuracy: 0.8380\n",
      "16/16 - 0s - loss: 0.4539 - accuracy: 0.8740\n",
      "16/16 - 0s - loss: 0.6084 - accuracy: 0.8520\n",
      "16/16 - 0s - loss: 0.7236 - accuracy: 0.8200\n",
      "16/16 - 0s - loss: 0.5746 - accuracy: 0.8400\n",
      "16/16 - 0s - loss: 0.4458 - accuracy: 0.8660\n",
      "16/16 - 0s - loss: 0.4679 - accuracy: 0.8560\n",
      "16/16 - 0s - loss: 0.6024 - accuracy: 0.8520\n",
      "16/16 - 0s - loss: 0.4073 - accuracy: 0.8580\n",
      "16/16 - 0s - loss: 0.4865 - accuracy: 0.8500\n",
      "16/16 - 0s - loss: 0.4784 - accuracy: 0.8500\n",
      "16/16 - 0s - loss: 0.6583 - accuracy: 0.8360\n",
      "16/16 - 0s - loss: 0.4895 - accuracy: 0.8740\n",
      "16/16 - 0s - loss: 0.5993 - accuracy: 0.8300\n",
      "16/16 - 0s - loss: 0.5309 - accuracy: 0.8480\n",
      "------------    7  번째 global epoch < Clustering > 로컬 클라이언트 학습 완료!,  Total Training time :  216.56927347183228 ---------------------------\n",
      "\n",
      "\n",
      "Layer :  0   클러스터 갯수 정해짐!  갯수 :  7 5\n"
     ]
    },
    {
     "name": "stderr",
     "output_type": "stream",
     "text": [
      "<ipython-input-10-506962b8e734>:141: VisibleDeprecationWarning: Creating an ndarray from ragged nested sequences (which is a list-or-tuple of lists-or-tuples-or ndarrays with different lengths or shapes) is deprecated. If you meant to do this, you must specify 'dtype=object' when creating the ndarray\n",
      "  globals()['G{}_c{}_w_layer{}'.format(global_epoch, num_c_w, layer_index)] = globals()['G{}_c{}_w_layer{}'.format(global_epoch, num_c_w, layer_index)] + np.array(globals()['L{}_layer{}_w_c'.format(i,layer_index)])   # 일반 클러스터링\n"
     ]
    },
    {
     "name": "stdout",
     "output_type": "stream",
     "text": [
      "Layer :  2   클러스터 갯수 정해짐!  갯수 :  2 0\n"
     ]
    },
    {
     "name": "stderr",
     "output_type": "stream",
     "text": [
      "<ipython-input-10-506962b8e734>:141: VisibleDeprecationWarning: Creating an ndarray from ragged nested sequences (which is a list-or-tuple of lists-or-tuples-or ndarrays with different lengths or shapes) is deprecated. If you meant to do this, you must specify 'dtype=object' when creating the ndarray\n",
      "  globals()['G{}_c{}_w_layer{}'.format(global_epoch, num_c_w, layer_index)] = globals()['G{}_c{}_w_layer{}'.format(global_epoch, num_c_w, layer_index)] + np.array(globals()['L{}_layer{}_w_c'.format(i,layer_index)])   # 일반 클러스터링\n"
     ]
    },
    {
     "name": "stdout",
     "output_type": "stream",
     "text": [
      "Layer :  4   클러스터 갯수 정해짐!  갯수 :  2 0\n"
     ]
    },
    {
     "name": "stderr",
     "output_type": "stream",
     "text": [
      "<ipython-input-10-506962b8e734>:141: VisibleDeprecationWarning: Creating an ndarray from ragged nested sequences (which is a list-or-tuple of lists-or-tuples-or ndarrays with different lengths or shapes) is deprecated. If you meant to do this, you must specify 'dtype=object' when creating the ndarray\n",
      "  globals()['G{}_c{}_w_layer{}'.format(global_epoch, num_c_w, layer_index)] = globals()['G{}_c{}_w_layer{}'.format(global_epoch, num_c_w, layer_index)] + np.array(globals()['L{}_layer{}_w_c'.format(i,layer_index)])   # 일반 클러스터링\n"
     ]
    },
    {
     "name": "stdout",
     "output_type": "stream",
     "text": [
      "Layer :  6   클러스터 갯수 정해짐!  갯수 :  2 0\n"
     ]
    },
    {
     "name": "stderr",
     "output_type": "stream",
     "text": [
      "<ipython-input-10-506962b8e734>:141: VisibleDeprecationWarning: Creating an ndarray from ragged nested sequences (which is a list-or-tuple of lists-or-tuples-or ndarrays with different lengths or shapes) is deprecated. If you meant to do this, you must specify 'dtype=object' when creating the ndarray\n",
      "  globals()['G{}_c{}_w_layer{}'.format(global_epoch, num_c_w, layer_index)] = globals()['G{}_c{}_w_layer{}'.format(global_epoch, num_c_w, layer_index)] + np.array(globals()['L{}_layer{}_w_c'.format(i,layer_index)])   # 일반 클러스터링\n"
     ]
    },
    {
     "name": "stdout",
     "output_type": "stream",
     "text": [
      "Layer :  7   클러스터 갯수 정해짐!  갯수 :  2 0\n",
      "\n",
      "\n",
      "====================================================== One Global Epoch =====================================================================\n",
      "\n",
      "\n",
      "8  번째 global_epoch 데이터 랜덤하게 준비!!\n"
     ]
    },
    {
     "name": "stderr",
     "output_type": "stream",
     "text": [
      "<ipython-input-10-506962b8e734>:141: VisibleDeprecationWarning: Creating an ndarray from ragged nested sequences (which is a list-or-tuple of lists-or-tuples-or ndarrays with different lengths or shapes) is deprecated. If you meant to do this, you must specify 'dtype=object' when creating the ndarray\n",
      "  globals()['G{}_c{}_w_layer{}'.format(global_epoch, num_c_w, layer_index)] = globals()['G{}_c{}_w_layer{}'.format(global_epoch, num_c_w, layer_index)] + np.array(globals()['L{}_layer{}_w_c'.format(i,layer_index)])   # 일반 클러스터링\n"
     ]
    },
    {
     "name": "stdout",
     "output_type": "stream",
     "text": [
      "8  번째 global_epoch 데이터 랜덤 준비완료!!\n",
      "\n",
      "\n",
      "8  번째 global epoch에서 로컬 클라이언트 들 학습시작!\n",
      "\n",
      "학습 중 ...\n",
      "\n",
      "16/16 - 0s - loss: 0.5294 - accuracy: 0.8680\n",
      "16/16 - 0s - loss: 0.5947 - accuracy: 0.8440\n",
      "16/16 - 0s - loss: 0.5483 - accuracy: 0.8600\n",
      "16/16 - 0s - loss: 0.5390 - accuracy: 0.8440\n",
      "16/16 - 0s - loss: 0.5298 - accuracy: 0.8760\n",
      "16/16 - 0s - loss: 0.5361 - accuracy: 0.8640\n",
      "16/16 - 0s - loss: 0.5631 - accuracy: 0.8340\n",
      "16/16 - 0s - loss: 0.4964 - accuracy: 0.8560\n",
      "16/16 - 0s - loss: 0.4090 - accuracy: 0.8840\n",
      "16/16 - 0s - loss: 0.4318 - accuracy: 0.8780\n",
      "16/16 - 0s - loss: 0.5219 - accuracy: 0.8600\n",
      "16/16 - 0s - loss: 0.5719 - accuracy: 0.8380\n",
      "16/16 - 0s - loss: 0.5980 - accuracy: 0.8580\n",
      "16/16 - 0s - loss: 0.6614 - accuracy: 0.8360\n",
      "16/16 - 0s - loss: 0.5371 - accuracy: 0.8400\n",
      "16/16 - 0s - loss: 0.5321 - accuracy: 0.8260\n",
      "16/16 - 0s - loss: 0.6488 - accuracy: 0.8220\n",
      "16/16 - 0s - loss: 0.5856 - accuracy: 0.8640\n",
      "16/16 - 0s - loss: 0.5635 - accuracy: 0.8480\n",
      "16/16 - 0s - loss: 0.6037 - accuracy: 0.8260\n",
      "------------    8  번째 global epoch < Clustering > 로컬 클라이언트 학습 완료!,  Total Training time :  223.79867339134216 ---------------------------\n",
      "\n",
      "\n",
      "Layer :  0   클러스터 갯수 정해짐!  갯수 :  7 5\n"
     ]
    },
    {
     "name": "stderr",
     "output_type": "stream",
     "text": [
      "<ipython-input-10-506962b8e734>:141: VisibleDeprecationWarning: Creating an ndarray from ragged nested sequences (which is a list-or-tuple of lists-or-tuples-or ndarrays with different lengths or shapes) is deprecated. If you meant to do this, you must specify 'dtype=object' when creating the ndarray\n",
      "  globals()['G{}_c{}_w_layer{}'.format(global_epoch, num_c_w, layer_index)] = globals()['G{}_c{}_w_layer{}'.format(global_epoch, num_c_w, layer_index)] + np.array(globals()['L{}_layer{}_w_c'.format(i,layer_index)])   # 일반 클러스터링\n"
     ]
    },
    {
     "name": "stdout",
     "output_type": "stream",
     "text": [
      "Layer :  2   클러스터 갯수 정해짐!  갯수 :  2 0\n"
     ]
    },
    {
     "name": "stderr",
     "output_type": "stream",
     "text": [
      "<ipython-input-10-506962b8e734>:141: VisibleDeprecationWarning: Creating an ndarray from ragged nested sequences (which is a list-or-tuple of lists-or-tuples-or ndarrays with different lengths or shapes) is deprecated. If you meant to do this, you must specify 'dtype=object' when creating the ndarray\n",
      "  globals()['G{}_c{}_w_layer{}'.format(global_epoch, num_c_w, layer_index)] = globals()['G{}_c{}_w_layer{}'.format(global_epoch, num_c_w, layer_index)] + np.array(globals()['L{}_layer{}_w_c'.format(i,layer_index)])   # 일반 클러스터링\n"
     ]
    },
    {
     "name": "stdout",
     "output_type": "stream",
     "text": [
      "Layer :  4   클러스터 갯수 정해짐!  갯수 :  2 0\n"
     ]
    },
    {
     "name": "stderr",
     "output_type": "stream",
     "text": [
      "<ipython-input-10-506962b8e734>:141: VisibleDeprecationWarning: Creating an ndarray from ragged nested sequences (which is a list-or-tuple of lists-or-tuples-or ndarrays with different lengths or shapes) is deprecated. If you meant to do this, you must specify 'dtype=object' when creating the ndarray\n",
      "  globals()['G{}_c{}_w_layer{}'.format(global_epoch, num_c_w, layer_index)] = globals()['G{}_c{}_w_layer{}'.format(global_epoch, num_c_w, layer_index)] + np.array(globals()['L{}_layer{}_w_c'.format(i,layer_index)])   # 일반 클러스터링\n"
     ]
    },
    {
     "name": "stdout",
     "output_type": "stream",
     "text": [
      "Layer :  6   클러스터 갯수 정해짐!  갯수 :  2 0\n"
     ]
    },
    {
     "name": "stderr",
     "output_type": "stream",
     "text": [
      "<ipython-input-10-506962b8e734>:141: VisibleDeprecationWarning: Creating an ndarray from ragged nested sequences (which is a list-or-tuple of lists-or-tuples-or ndarrays with different lengths or shapes) is deprecated. If you meant to do this, you must specify 'dtype=object' when creating the ndarray\n",
      "  globals()['G{}_c{}_w_layer{}'.format(global_epoch, num_c_w, layer_index)] = globals()['G{}_c{}_w_layer{}'.format(global_epoch, num_c_w, layer_index)] + np.array(globals()['L{}_layer{}_w_c'.format(i,layer_index)])   # 일반 클러스터링\n"
     ]
    },
    {
     "name": "stdout",
     "output_type": "stream",
     "text": [
      "Layer :  7   클러스터 갯수 정해짐!  갯수 :  2 0\n",
      "\n",
      "\n",
      "====================================================== One Global Epoch =====================================================================\n",
      "\n",
      "\n",
      "9  번째 global_epoch 데이터 랜덤하게 준비!!\n"
     ]
    },
    {
     "name": "stderr",
     "output_type": "stream",
     "text": [
      "<ipython-input-10-506962b8e734>:141: VisibleDeprecationWarning: Creating an ndarray from ragged nested sequences (which is a list-or-tuple of lists-or-tuples-or ndarrays with different lengths or shapes) is deprecated. If you meant to do this, you must specify 'dtype=object' when creating the ndarray\n",
      "  globals()['G{}_c{}_w_layer{}'.format(global_epoch, num_c_w, layer_index)] = globals()['G{}_c{}_w_layer{}'.format(global_epoch, num_c_w, layer_index)] + np.array(globals()['L{}_layer{}_w_c'.format(i,layer_index)])   # 일반 클러스터링\n"
     ]
    },
    {
     "name": "stdout",
     "output_type": "stream",
     "text": [
      "9  번째 global_epoch 데이터 랜덤 준비완료!!\n",
      "\n",
      "\n",
      "9  번째 global epoch에서 로컬 클라이언트 들 학습시작!\n",
      "\n",
      "학습 중 ...\n",
      "\n",
      "16/16 - 0s - loss: 0.4523 - accuracy: 0.8620\n",
      "16/16 - 0s - loss: 0.5439 - accuracy: 0.8400\n",
      "16/16 - 0s - loss: 0.4715 - accuracy: 0.8780\n",
      "16/16 - 0s - loss: 0.5049 - accuracy: 0.8820\n",
      "16/16 - 0s - loss: 0.6797 - accuracy: 0.8480\n",
      "16/16 - 0s - loss: 0.5086 - accuracy: 0.8740\n",
      "16/16 - 0s - loss: 0.6067 - accuracy: 0.8460\n",
      "16/16 - 0s - loss: 0.4441 - accuracy: 0.8640\n",
      "16/16 - 0s - loss: 0.6857 - accuracy: 0.8280\n",
      "16/16 - 0s - loss: 0.6450 - accuracy: 0.8280\n",
      "16/16 - 0s - loss: 0.7997 - accuracy: 0.8200\n",
      "16/16 - 0s - loss: 0.4844 - accuracy: 0.8560\n",
      "16/16 - 0s - loss: 0.4642 - accuracy: 0.8680\n",
      "16/16 - 0s - loss: 0.5768 - accuracy: 0.8620\n",
      "16/16 - 0s - loss: 0.6253 - accuracy: 0.8440\n",
      "16/16 - 0s - loss: 0.4599 - accuracy: 0.8460\n",
      "16/16 - 0s - loss: 0.6663 - accuracy: 0.8320\n",
      "16/16 - 0s - loss: 0.5626 - accuracy: 0.8620\n",
      "16/16 - 0s - loss: 0.4058 - accuracy: 0.8680\n",
      "16/16 - 0s - loss: 0.5378 - accuracy: 0.8460\n",
      "------------    9  번째 global epoch < Clustering > 로컬 클라이언트 학습 완료!,  Total Training time :  233.4269757270813 ---------------------------\n",
      "\n",
      "\n",
      "Layer :  0   클러스터 갯수 정해짐!  갯수 :  7 5\n"
     ]
    },
    {
     "name": "stderr",
     "output_type": "stream",
     "text": [
      "<ipython-input-10-506962b8e734>:141: VisibleDeprecationWarning: Creating an ndarray from ragged nested sequences (which is a list-or-tuple of lists-or-tuples-or ndarrays with different lengths or shapes) is deprecated. If you meant to do this, you must specify 'dtype=object' when creating the ndarray\n",
      "  globals()['G{}_c{}_w_layer{}'.format(global_epoch, num_c_w, layer_index)] = globals()['G{}_c{}_w_layer{}'.format(global_epoch, num_c_w, layer_index)] + np.array(globals()['L{}_layer{}_w_c'.format(i,layer_index)])   # 일반 클러스터링\n"
     ]
    },
    {
     "name": "stdout",
     "output_type": "stream",
     "text": [
      "Layer :  2   클러스터 갯수 정해짐!  갯수 :  2 0\n"
     ]
    },
    {
     "name": "stderr",
     "output_type": "stream",
     "text": [
      "<ipython-input-10-506962b8e734>:141: VisibleDeprecationWarning: Creating an ndarray from ragged nested sequences (which is a list-or-tuple of lists-or-tuples-or ndarrays with different lengths or shapes) is deprecated. If you meant to do this, you must specify 'dtype=object' when creating the ndarray\n",
      "  globals()['G{}_c{}_w_layer{}'.format(global_epoch, num_c_w, layer_index)] = globals()['G{}_c{}_w_layer{}'.format(global_epoch, num_c_w, layer_index)] + np.array(globals()['L{}_layer{}_w_c'.format(i,layer_index)])   # 일반 클러스터링\n"
     ]
    },
    {
     "name": "stdout",
     "output_type": "stream",
     "text": [
      "Layer :  4   클러스터 갯수 정해짐!  갯수 :  2 0\n"
     ]
    },
    {
     "name": "stderr",
     "output_type": "stream",
     "text": [
      "<ipython-input-10-506962b8e734>:141: VisibleDeprecationWarning: Creating an ndarray from ragged nested sequences (which is a list-or-tuple of lists-or-tuples-or ndarrays with different lengths or shapes) is deprecated. If you meant to do this, you must specify 'dtype=object' when creating the ndarray\n",
      "  globals()['G{}_c{}_w_layer{}'.format(global_epoch, num_c_w, layer_index)] = globals()['G{}_c{}_w_layer{}'.format(global_epoch, num_c_w, layer_index)] + np.array(globals()['L{}_layer{}_w_c'.format(i,layer_index)])   # 일반 클러스터링\n"
     ]
    },
    {
     "name": "stdout",
     "output_type": "stream",
     "text": [
      "Layer :  6   클러스터 갯수 정해짐!  갯수 :  2 0\n"
     ]
    },
    {
     "name": "stderr",
     "output_type": "stream",
     "text": [
      "<ipython-input-10-506962b8e734>:141: VisibleDeprecationWarning: Creating an ndarray from ragged nested sequences (which is a list-or-tuple of lists-or-tuples-or ndarrays with different lengths or shapes) is deprecated. If you meant to do this, you must specify 'dtype=object' when creating the ndarray\n",
      "  globals()['G{}_c{}_w_layer{}'.format(global_epoch, num_c_w, layer_index)] = globals()['G{}_c{}_w_layer{}'.format(global_epoch, num_c_w, layer_index)] + np.array(globals()['L{}_layer{}_w_c'.format(i,layer_index)])   # 일반 클러스터링\n"
     ]
    },
    {
     "name": "stdout",
     "output_type": "stream",
     "text": [
      "Layer :  7   클러스터 갯수 정해짐!  갯수 :  2 0\n",
      "\n",
      "\n",
      "====================================================== One Global Epoch =====================================================================\n",
      "\n",
      "\n",
      "10  번째 global_epoch 데이터 랜덤하게 준비!!\n"
     ]
    },
    {
     "name": "stderr",
     "output_type": "stream",
     "text": [
      "<ipython-input-10-506962b8e734>:141: VisibleDeprecationWarning: Creating an ndarray from ragged nested sequences (which is a list-or-tuple of lists-or-tuples-or ndarrays with different lengths or shapes) is deprecated. If you meant to do this, you must specify 'dtype=object' when creating the ndarray\n",
      "  globals()['G{}_c{}_w_layer{}'.format(global_epoch, num_c_w, layer_index)] = globals()['G{}_c{}_w_layer{}'.format(global_epoch, num_c_w, layer_index)] + np.array(globals()['L{}_layer{}_w_c'.format(i,layer_index)])   # 일반 클러스터링\n"
     ]
    },
    {
     "name": "stdout",
     "output_type": "stream",
     "text": [
      "10  번째 global_epoch 데이터 랜덤 준비완료!!\n",
      "\n",
      "\n",
      "10  번째 global epoch에서 로컬 클라이언트 들 학습시작!\n",
      "\n",
      "학습 중 ...\n",
      "\n",
      "16/16 - 0s - loss: 0.6465 - accuracy: 0.8540\n",
      "16/16 - 0s - loss: 0.5329 - accuracy: 0.8520\n",
      "16/16 - 0s - loss: 0.7170 - accuracy: 0.8400\n",
      "16/16 - 0s - loss: 0.5614 - accuracy: 0.8680\n",
      "16/16 - 0s - loss: 0.6672 - accuracy: 0.8320\n",
      "16/16 - 0s - loss: 0.4732 - accuracy: 0.8900\n",
      "16/16 - 0s - loss: 0.5363 - accuracy: 0.8700\n",
      "16/16 - 0s - loss: 0.6059 - accuracy: 0.8680\n",
      "16/16 - 0s - loss: 0.5538 - accuracy: 0.8660\n",
      "16/16 - 0s - loss: 0.5197 - accuracy: 0.8560\n",
      "16/16 - 0s - loss: 0.6645 - accuracy: 0.8680\n",
      "16/16 - 0s - loss: 0.4567 - accuracy: 0.8780\n",
      "16/16 - 0s - loss: 0.5519 - accuracy: 0.8640\n",
      "16/16 - 0s - loss: 0.6759 - accuracy: 0.8700\n",
      "16/16 - 0s - loss: 0.3442 - accuracy: 0.8920\n",
      "16/16 - 0s - loss: 0.5654 - accuracy: 0.8360\n",
      "16/16 - 0s - loss: 0.6527 - accuracy: 0.8360\n",
      "16/16 - 0s - loss: 0.4758 - accuracy: 0.8820\n",
      "16/16 - 0s - loss: 0.6185 - accuracy: 0.8660\n",
      "16/16 - 0s - loss: 0.4835 - accuracy: 0.8880\n",
      "------------    10  번째 global epoch < Clustering > 로컬 클라이언트 학습 완료!,  Total Training time :  258.6060540676117 ---------------------------\n",
      "\n",
      "\n",
      "Layer :  0   클러스터 갯수 정해짐!  갯수 :  7 5\n"
     ]
    },
    {
     "name": "stderr",
     "output_type": "stream",
     "text": [
      "<ipython-input-10-506962b8e734>:141: VisibleDeprecationWarning: Creating an ndarray from ragged nested sequences (which is a list-or-tuple of lists-or-tuples-or ndarrays with different lengths or shapes) is deprecated. If you meant to do this, you must specify 'dtype=object' when creating the ndarray\n",
      "  globals()['G{}_c{}_w_layer{}'.format(global_epoch, num_c_w, layer_index)] = globals()['G{}_c{}_w_layer{}'.format(global_epoch, num_c_w, layer_index)] + np.array(globals()['L{}_layer{}_w_c'.format(i,layer_index)])   # 일반 클러스터링\n"
     ]
    },
    {
     "name": "stdout",
     "output_type": "stream",
     "text": [
      "Layer :  2   클러스터 갯수 정해짐!  갯수 :  2 0\n"
     ]
    },
    {
     "name": "stderr",
     "output_type": "stream",
     "text": [
      "<ipython-input-10-506962b8e734>:141: VisibleDeprecationWarning: Creating an ndarray from ragged nested sequences (which is a list-or-tuple of lists-or-tuples-or ndarrays with different lengths or shapes) is deprecated. If you meant to do this, you must specify 'dtype=object' when creating the ndarray\n",
      "  globals()['G{}_c{}_w_layer{}'.format(global_epoch, num_c_w, layer_index)] = globals()['G{}_c{}_w_layer{}'.format(global_epoch, num_c_w, layer_index)] + np.array(globals()['L{}_layer{}_w_c'.format(i,layer_index)])   # 일반 클러스터링\n"
     ]
    },
    {
     "name": "stdout",
     "output_type": "stream",
     "text": [
      "Layer :  4   클러스터 갯수 정해짐!  갯수 :  2 0\n"
     ]
    },
    {
     "name": "stderr",
     "output_type": "stream",
     "text": [
      "<ipython-input-10-506962b8e734>:141: VisibleDeprecationWarning: Creating an ndarray from ragged nested sequences (which is a list-or-tuple of lists-or-tuples-or ndarrays with different lengths or shapes) is deprecated. If you meant to do this, you must specify 'dtype=object' when creating the ndarray\n",
      "  globals()['G{}_c{}_w_layer{}'.format(global_epoch, num_c_w, layer_index)] = globals()['G{}_c{}_w_layer{}'.format(global_epoch, num_c_w, layer_index)] + np.array(globals()['L{}_layer{}_w_c'.format(i,layer_index)])   # 일반 클러스터링\n"
     ]
    },
    {
     "name": "stdout",
     "output_type": "stream",
     "text": [
      "Layer :  6   클러스터 갯수 정해짐!  갯수 :  2 0\n"
     ]
    },
    {
     "name": "stderr",
     "output_type": "stream",
     "text": [
      "<ipython-input-10-506962b8e734>:141: VisibleDeprecationWarning: Creating an ndarray from ragged nested sequences (which is a list-or-tuple of lists-or-tuples-or ndarrays with different lengths or shapes) is deprecated. If you meant to do this, you must specify 'dtype=object' when creating the ndarray\n",
      "  globals()['G{}_c{}_w_layer{}'.format(global_epoch, num_c_w, layer_index)] = globals()['G{}_c{}_w_layer{}'.format(global_epoch, num_c_w, layer_index)] + np.array(globals()['L{}_layer{}_w_c'.format(i,layer_index)])   # 일반 클러스터링\n"
     ]
    },
    {
     "name": "stdout",
     "output_type": "stream",
     "text": [
      "Layer :  7   클러스터 갯수 정해짐!  갯수 :  2 0\n",
      "\n",
      "\n",
      "====================================================== One Global Epoch =====================================================================\n",
      "\n",
      "\n",
      "11  번째 global_epoch 데이터 랜덤하게 준비!!\n"
     ]
    },
    {
     "name": "stderr",
     "output_type": "stream",
     "text": [
      "<ipython-input-10-506962b8e734>:141: VisibleDeprecationWarning: Creating an ndarray from ragged nested sequences (which is a list-or-tuple of lists-or-tuples-or ndarrays with different lengths or shapes) is deprecated. If you meant to do this, you must specify 'dtype=object' when creating the ndarray\n",
      "  globals()['G{}_c{}_w_layer{}'.format(global_epoch, num_c_w, layer_index)] = globals()['G{}_c{}_w_layer{}'.format(global_epoch, num_c_w, layer_index)] + np.array(globals()['L{}_layer{}_w_c'.format(i,layer_index)])   # 일반 클러스터링\n"
     ]
    },
    {
     "name": "stdout",
     "output_type": "stream",
     "text": [
      "11  번째 global_epoch 데이터 랜덤 준비완료!!\n",
      "\n",
      "\n",
      "11  번째 global epoch에서 로컬 클라이언트 들 학습시작!\n",
      "\n",
      "학습 중 ...\n",
      "\n",
      "16/16 - 0s - loss: 0.5330 - accuracy: 0.8580\n",
      "16/16 - 0s - loss: 0.7022 - accuracy: 0.8280\n",
      "16/16 - 0s - loss: 0.5397 - accuracy: 0.8640\n",
      "16/16 - 0s - loss: 0.5027 - accuracy: 0.8660\n",
      "16/16 - 0s - loss: 0.5732 - accuracy: 0.8720\n",
      "16/16 - 0s - loss: 0.5256 - accuracy: 0.8780\n",
      "16/16 - 0s - loss: 0.6199 - accuracy: 0.8580\n",
      "16/16 - 0s - loss: 0.5046 - accuracy: 0.8440\n",
      "16/16 - 0s - loss: 0.7679 - accuracy: 0.8240\n",
      "16/16 - 0s - loss: 0.5533 - accuracy: 0.8740\n",
      "16/16 - 0s - loss: 0.6363 - accuracy: 0.8760\n",
      "16/16 - 0s - loss: 0.6511 - accuracy: 0.8660\n",
      "16/16 - 0s - loss: 0.4889 - accuracy: 0.8600\n",
      "16/16 - 0s - loss: 0.4769 - accuracy: 0.8740\n",
      "16/16 - 0s - loss: 0.4723 - accuracy: 0.8800\n",
      "16/16 - 0s - loss: 0.5197 - accuracy: 0.8700\n",
      "16/16 - 0s - loss: 0.5293 - accuracy: 0.8700\n",
      "16/16 - 0s - loss: 0.5995 - accuracy: 0.8480\n",
      "16/16 - 0s - loss: 0.5408 - accuracy: 0.8740\n",
      "16/16 - 0s - loss: 0.6858 - accuracy: 0.8520\n",
      "------------    11  번째 global epoch < Clustering > 로컬 클라이언트 학습 완료!,  Total Training time :  291.47425985336304 ---------------------------\n",
      "\n",
      "\n",
      "Layer :  0   클러스터 갯수 정해짐!  갯수 :  7 5\n"
     ]
    },
    {
     "name": "stderr",
     "output_type": "stream",
     "text": [
      "<ipython-input-10-506962b8e734>:141: VisibleDeprecationWarning: Creating an ndarray from ragged nested sequences (which is a list-or-tuple of lists-or-tuples-or ndarrays with different lengths or shapes) is deprecated. If you meant to do this, you must specify 'dtype=object' when creating the ndarray\n",
      "  globals()['G{}_c{}_w_layer{}'.format(global_epoch, num_c_w, layer_index)] = globals()['G{}_c{}_w_layer{}'.format(global_epoch, num_c_w, layer_index)] + np.array(globals()['L{}_layer{}_w_c'.format(i,layer_index)])   # 일반 클러스터링\n"
     ]
    },
    {
     "name": "stdout",
     "output_type": "stream",
     "text": [
      "Layer :  2   클러스터 갯수 정해짐!  갯수 :  2 0\n"
     ]
    },
    {
     "name": "stderr",
     "output_type": "stream",
     "text": [
      "<ipython-input-10-506962b8e734>:141: VisibleDeprecationWarning: Creating an ndarray from ragged nested sequences (which is a list-or-tuple of lists-or-tuples-or ndarrays with different lengths or shapes) is deprecated. If you meant to do this, you must specify 'dtype=object' when creating the ndarray\n",
      "  globals()['G{}_c{}_w_layer{}'.format(global_epoch, num_c_w, layer_index)] = globals()['G{}_c{}_w_layer{}'.format(global_epoch, num_c_w, layer_index)] + np.array(globals()['L{}_layer{}_w_c'.format(i,layer_index)])   # 일반 클러스터링\n"
     ]
    },
    {
     "name": "stdout",
     "output_type": "stream",
     "text": [
      "Layer :  4   클러스터 갯수 정해짐!  갯수 :  2 0\n"
     ]
    },
    {
     "name": "stderr",
     "output_type": "stream",
     "text": [
      "<ipython-input-10-506962b8e734>:141: VisibleDeprecationWarning: Creating an ndarray from ragged nested sequences (which is a list-or-tuple of lists-or-tuples-or ndarrays with different lengths or shapes) is deprecated. If you meant to do this, you must specify 'dtype=object' when creating the ndarray\n",
      "  globals()['G{}_c{}_w_layer{}'.format(global_epoch, num_c_w, layer_index)] = globals()['G{}_c{}_w_layer{}'.format(global_epoch, num_c_w, layer_index)] + np.array(globals()['L{}_layer{}_w_c'.format(i,layer_index)])   # 일반 클러스터링\n"
     ]
    },
    {
     "name": "stdout",
     "output_type": "stream",
     "text": [
      "Layer :  6   클러스터 갯수 정해짐!  갯수 :  2 0\n"
     ]
    },
    {
     "name": "stderr",
     "output_type": "stream",
     "text": [
      "<ipython-input-10-506962b8e734>:141: VisibleDeprecationWarning: Creating an ndarray from ragged nested sequences (which is a list-or-tuple of lists-or-tuples-or ndarrays with different lengths or shapes) is deprecated. If you meant to do this, you must specify 'dtype=object' when creating the ndarray\n",
      "  globals()['G{}_c{}_w_layer{}'.format(global_epoch, num_c_w, layer_index)] = globals()['G{}_c{}_w_layer{}'.format(global_epoch, num_c_w, layer_index)] + np.array(globals()['L{}_layer{}_w_c'.format(i,layer_index)])   # 일반 클러스터링\n"
     ]
    },
    {
     "name": "stdout",
     "output_type": "stream",
     "text": [
      "Layer :  7   클러스터 갯수 정해짐!  갯수 :  2 0\n",
      "\n",
      "\n",
      "====================================================== One Global Epoch =====================================================================\n",
      "\n",
      "\n",
      "12  번째 global_epoch 데이터 랜덤하게 준비!!\n"
     ]
    },
    {
     "name": "stderr",
     "output_type": "stream",
     "text": [
      "<ipython-input-10-506962b8e734>:141: VisibleDeprecationWarning: Creating an ndarray from ragged nested sequences (which is a list-or-tuple of lists-or-tuples-or ndarrays with different lengths or shapes) is deprecated. If you meant to do this, you must specify 'dtype=object' when creating the ndarray\n",
      "  globals()['G{}_c{}_w_layer{}'.format(global_epoch, num_c_w, layer_index)] = globals()['G{}_c{}_w_layer{}'.format(global_epoch, num_c_w, layer_index)] + np.array(globals()['L{}_layer{}_w_c'.format(i,layer_index)])   # 일반 클러스터링\n"
     ]
    },
    {
     "name": "stdout",
     "output_type": "stream",
     "text": [
      "12  번째 global_epoch 데이터 랜덤 준비완료!!\n",
      "\n",
      "\n",
      "12  번째 global epoch에서 로컬 클라이언트 들 학습시작!\n",
      "\n",
      "학습 중 ...\n",
      "\n",
      "16/16 - 0s - loss: 0.5070 - accuracy: 0.8640\n",
      "16/16 - 0s - loss: 0.6741 - accuracy: 0.8440\n",
      "16/16 - 0s - loss: 0.5457 - accuracy: 0.8480\n",
      "16/16 - 0s - loss: 0.6508 - accuracy: 0.8720\n",
      "16/16 - 0s - loss: 0.5883 - accuracy: 0.8720\n",
      "16/16 - 0s - loss: 0.6603 - accuracy: 0.8700\n",
      "16/16 - 0s - loss: 0.7698 - accuracy: 0.8680\n",
      "16/16 - 0s - loss: 0.5194 - accuracy: 0.8660\n",
      "16/16 - 0s - loss: 0.5330 - accuracy: 0.8720\n",
      "16/16 - 0s - loss: 0.4881 - accuracy: 0.8620\n",
      "16/16 - 0s - loss: 0.6730 - accuracy: 0.8740\n",
      "16/16 - 0s - loss: 0.6447 - accuracy: 0.8720\n",
      "16/16 - 0s - loss: 0.4639 - accuracy: 0.8820\n",
      "16/16 - 0s - loss: 0.4986 - accuracy: 0.8680\n",
      "16/16 - 0s - loss: 0.7057 - accuracy: 0.8580\n",
      "16/16 - 0s - loss: 0.6252 - accuracy: 0.8520\n",
      "16/16 - 0s - loss: 0.5184 - accuracy: 0.8720\n",
      "16/16 - 0s - loss: 0.5224 - accuracy: 0.8680\n",
      "16/16 - 0s - loss: 0.4222 - accuracy: 0.8860\n",
      "16/16 - 0s - loss: 0.6150 - accuracy: 0.8600\n",
      "------------    12  번째 global epoch < Clustering > 로컬 클라이언트 학습 완료!,  Total Training time :  315.7346827983856 ---------------------------\n",
      "\n",
      "\n",
      "Layer :  0   클러스터 갯수 정해짐!  갯수 :  7 5\n"
     ]
    },
    {
     "name": "stderr",
     "output_type": "stream",
     "text": [
      "<ipython-input-10-506962b8e734>:141: VisibleDeprecationWarning: Creating an ndarray from ragged nested sequences (which is a list-or-tuple of lists-or-tuples-or ndarrays with different lengths or shapes) is deprecated. If you meant to do this, you must specify 'dtype=object' when creating the ndarray\n",
      "  globals()['G{}_c{}_w_layer{}'.format(global_epoch, num_c_w, layer_index)] = globals()['G{}_c{}_w_layer{}'.format(global_epoch, num_c_w, layer_index)] + np.array(globals()['L{}_layer{}_w_c'.format(i,layer_index)])   # 일반 클러스터링\n"
     ]
    },
    {
     "name": "stdout",
     "output_type": "stream",
     "text": [
      "Layer :  2   클러스터 갯수 정해짐!  갯수 :  2 0\n"
     ]
    },
    {
     "name": "stderr",
     "output_type": "stream",
     "text": [
      "<ipython-input-10-506962b8e734>:141: VisibleDeprecationWarning: Creating an ndarray from ragged nested sequences (which is a list-or-tuple of lists-or-tuples-or ndarrays with different lengths or shapes) is deprecated. If you meant to do this, you must specify 'dtype=object' when creating the ndarray\n",
      "  globals()['G{}_c{}_w_layer{}'.format(global_epoch, num_c_w, layer_index)] = globals()['G{}_c{}_w_layer{}'.format(global_epoch, num_c_w, layer_index)] + np.array(globals()['L{}_layer{}_w_c'.format(i,layer_index)])   # 일반 클러스터링\n"
     ]
    },
    {
     "name": "stdout",
     "output_type": "stream",
     "text": [
      "Layer :  4   클러스터 갯수 정해짐!  갯수 :  2 0\n"
     ]
    },
    {
     "name": "stderr",
     "output_type": "stream",
     "text": [
      "<ipython-input-10-506962b8e734>:141: VisibleDeprecationWarning: Creating an ndarray from ragged nested sequences (which is a list-or-tuple of lists-or-tuples-or ndarrays with different lengths or shapes) is deprecated. If you meant to do this, you must specify 'dtype=object' when creating the ndarray\n",
      "  globals()['G{}_c{}_w_layer{}'.format(global_epoch, num_c_w, layer_index)] = globals()['G{}_c{}_w_layer{}'.format(global_epoch, num_c_w, layer_index)] + np.array(globals()['L{}_layer{}_w_c'.format(i,layer_index)])   # 일반 클러스터링\n"
     ]
    },
    {
     "name": "stdout",
     "output_type": "stream",
     "text": [
      "Layer :  6   클러스터 갯수 정해짐!  갯수 :  2 0\n"
     ]
    },
    {
     "name": "stderr",
     "output_type": "stream",
     "text": [
      "<ipython-input-10-506962b8e734>:141: VisibleDeprecationWarning: Creating an ndarray from ragged nested sequences (which is a list-or-tuple of lists-or-tuples-or ndarrays with different lengths or shapes) is deprecated. If you meant to do this, you must specify 'dtype=object' when creating the ndarray\n",
      "  globals()['G{}_c{}_w_layer{}'.format(global_epoch, num_c_w, layer_index)] = globals()['G{}_c{}_w_layer{}'.format(global_epoch, num_c_w, layer_index)] + np.array(globals()['L{}_layer{}_w_c'.format(i,layer_index)])   # 일반 클러스터링\n"
     ]
    },
    {
     "name": "stdout",
     "output_type": "stream",
     "text": [
      "Layer :  7   클러스터 갯수 정해짐!  갯수 :  2 0\n",
      "\n",
      "\n",
      "====================================================== One Global Epoch =====================================================================\n",
      "\n",
      "\n",
      "13  번째 global_epoch 데이터 랜덤하게 준비!!\n"
     ]
    },
    {
     "name": "stderr",
     "output_type": "stream",
     "text": [
      "<ipython-input-10-506962b8e734>:141: VisibleDeprecationWarning: Creating an ndarray from ragged nested sequences (which is a list-or-tuple of lists-or-tuples-or ndarrays with different lengths or shapes) is deprecated. If you meant to do this, you must specify 'dtype=object' when creating the ndarray\n",
      "  globals()['G{}_c{}_w_layer{}'.format(global_epoch, num_c_w, layer_index)] = globals()['G{}_c{}_w_layer{}'.format(global_epoch, num_c_w, layer_index)] + np.array(globals()['L{}_layer{}_w_c'.format(i,layer_index)])   # 일반 클러스터링\n"
     ]
    },
    {
     "name": "stdout",
     "output_type": "stream",
     "text": [
      "13  번째 global_epoch 데이터 랜덤 준비완료!!\n",
      "\n",
      "\n",
      "13  번째 global epoch에서 로컬 클라이언트 들 학습시작!\n",
      "\n",
      "학습 중 ...\n",
      "\n",
      "16/16 - 0s - loss: 0.6361 - accuracy: 0.8720\n",
      "16/16 - 0s - loss: 0.5549 - accuracy: 0.8700\n",
      "16/16 - 0s - loss: 0.6714 - accuracy: 0.8660\n",
      "16/16 - 0s - loss: 0.6832 - accuracy: 0.8680\n",
      "16/16 - 0s - loss: 0.5218 - accuracy: 0.8720\n",
      "16/16 - 0s - loss: 0.5128 - accuracy: 0.8940\n",
      "16/16 - 0s - loss: 0.6278 - accuracy: 0.8700\n",
      "16/16 - 0s - loss: 0.5649 - accuracy: 0.8880\n",
      "16/16 - 0s - loss: 0.7731 - accuracy: 0.8160\n",
      "16/16 - 0s - loss: 0.5245 - accuracy: 0.8600\n",
      "16/16 - 0s - loss: 0.5865 - accuracy: 0.8680\n",
      "16/16 - 0s - loss: 0.4379 - accuracy: 0.8980\n",
      "16/16 - 0s - loss: 0.5514 - accuracy: 0.8640\n",
      "16/16 - 0s - loss: 0.7585 - accuracy: 0.8360\n",
      "16/16 - 0s - loss: 0.6261 - accuracy: 0.8580\n",
      "16/16 - 0s - loss: 0.5764 - accuracy: 0.8680\n",
      "16/16 - 0s - loss: 0.7722 - accuracy: 0.8360\n",
      "16/16 - 0s - loss: 0.7592 - accuracy: 0.8340\n",
      "16/16 - 0s - loss: 0.6219 - accuracy: 0.8640\n",
      "16/16 - 0s - loss: 0.5916 - accuracy: 0.8560\n",
      "------------    13  번째 global epoch < Clustering > 로컬 클라이언트 학습 완료!,  Total Training time :  315.04486656188965 ---------------------------\n",
      "\n",
      "\n",
      "Layer :  0   클러스터 갯수 정해짐!  갯수 :  7 5\n"
     ]
    },
    {
     "name": "stderr",
     "output_type": "stream",
     "text": [
      "<ipython-input-10-506962b8e734>:141: VisibleDeprecationWarning: Creating an ndarray from ragged nested sequences (which is a list-or-tuple of lists-or-tuples-or ndarrays with different lengths or shapes) is deprecated. If you meant to do this, you must specify 'dtype=object' when creating the ndarray\n",
      "  globals()['G{}_c{}_w_layer{}'.format(global_epoch, num_c_w, layer_index)] = globals()['G{}_c{}_w_layer{}'.format(global_epoch, num_c_w, layer_index)] + np.array(globals()['L{}_layer{}_w_c'.format(i,layer_index)])   # 일반 클러스터링\n"
     ]
    },
    {
     "name": "stdout",
     "output_type": "stream",
     "text": [
      "Layer :  2   클러스터 갯수 정해짐!  갯수 :  2 0\n"
     ]
    },
    {
     "name": "stderr",
     "output_type": "stream",
     "text": [
      "<ipython-input-10-506962b8e734>:141: VisibleDeprecationWarning: Creating an ndarray from ragged nested sequences (which is a list-or-tuple of lists-or-tuples-or ndarrays with different lengths or shapes) is deprecated. If you meant to do this, you must specify 'dtype=object' when creating the ndarray\n",
      "  globals()['G{}_c{}_w_layer{}'.format(global_epoch, num_c_w, layer_index)] = globals()['G{}_c{}_w_layer{}'.format(global_epoch, num_c_w, layer_index)] + np.array(globals()['L{}_layer{}_w_c'.format(i,layer_index)])   # 일반 클러스터링\n"
     ]
    },
    {
     "name": "stdout",
     "output_type": "stream",
     "text": [
      "Layer :  4   클러스터 갯수 정해짐!  갯수 :  2 0\n"
     ]
    },
    {
     "name": "stderr",
     "output_type": "stream",
     "text": [
      "<ipython-input-10-506962b8e734>:141: VisibleDeprecationWarning: Creating an ndarray from ragged nested sequences (which is a list-or-tuple of lists-or-tuples-or ndarrays with different lengths or shapes) is deprecated. If you meant to do this, you must specify 'dtype=object' when creating the ndarray\n",
      "  globals()['G{}_c{}_w_layer{}'.format(global_epoch, num_c_w, layer_index)] = globals()['G{}_c{}_w_layer{}'.format(global_epoch, num_c_w, layer_index)] + np.array(globals()['L{}_layer{}_w_c'.format(i,layer_index)])   # 일반 클러스터링\n"
     ]
    },
    {
     "name": "stdout",
     "output_type": "stream",
     "text": [
      "Layer :  6   클러스터 갯수 정해짐!  갯수 :  2 0\n"
     ]
    },
    {
     "name": "stderr",
     "output_type": "stream",
     "text": [
      "<ipython-input-10-506962b8e734>:141: VisibleDeprecationWarning: Creating an ndarray from ragged nested sequences (which is a list-or-tuple of lists-or-tuples-or ndarrays with different lengths or shapes) is deprecated. If you meant to do this, you must specify 'dtype=object' when creating the ndarray\n",
      "  globals()['G{}_c{}_w_layer{}'.format(global_epoch, num_c_w, layer_index)] = globals()['G{}_c{}_w_layer{}'.format(global_epoch, num_c_w, layer_index)] + np.array(globals()['L{}_layer{}_w_c'.format(i,layer_index)])   # 일반 클러스터링\n"
     ]
    },
    {
     "name": "stdout",
     "output_type": "stream",
     "text": [
      "Layer :  7   클러스터 갯수 정해짐!  갯수 :  2 0\n",
      "\n",
      "\n",
      "====================================================== One Global Epoch =====================================================================\n",
      "\n",
      "\n",
      "14  번째 global_epoch 데이터 랜덤하게 준비!!\n"
     ]
    },
    {
     "name": "stderr",
     "output_type": "stream",
     "text": [
      "<ipython-input-10-506962b8e734>:141: VisibleDeprecationWarning: Creating an ndarray from ragged nested sequences (which is a list-or-tuple of lists-or-tuples-or ndarrays with different lengths or shapes) is deprecated. If you meant to do this, you must specify 'dtype=object' when creating the ndarray\n",
      "  globals()['G{}_c{}_w_layer{}'.format(global_epoch, num_c_w, layer_index)] = globals()['G{}_c{}_w_layer{}'.format(global_epoch, num_c_w, layer_index)] + np.array(globals()['L{}_layer{}_w_c'.format(i,layer_index)])   # 일반 클러스터링\n"
     ]
    },
    {
     "name": "stdout",
     "output_type": "stream",
     "text": [
      "14  번째 global_epoch 데이터 랜덤 준비완료!!\n",
      "\n",
      "\n",
      "14  번째 global epoch에서 로컬 클라이언트 들 학습시작!\n",
      "\n",
      "학습 중 ...\n",
      "\n",
      "16/16 - 0s - loss: 0.5956 - accuracy: 0.8780\n",
      "16/16 - 0s - loss: 0.6301 - accuracy: 0.8540\n",
      "16/16 - 0s - loss: 0.4720 - accuracy: 0.8960\n",
      "16/16 - 0s - loss: 0.6568 - accuracy: 0.8620\n",
      "16/16 - 0s - loss: 0.5248 - accuracy: 0.8760\n",
      "16/16 - 0s - loss: 0.5543 - accuracy: 0.8700\n",
      "16/16 - 0s - loss: 0.5907 - accuracy: 0.8700\n",
      "16/16 - 0s - loss: 0.5408 - accuracy: 0.8780\n",
      "16/16 - 0s - loss: 0.7255 - accuracy: 0.8520\n",
      "16/16 - 0s - loss: 0.5469 - accuracy: 0.8720\n",
      "16/16 - 0s - loss: 0.5820 - accuracy: 0.9040\n",
      "16/16 - 0s - loss: 0.7325 - accuracy: 0.8660\n",
      "16/16 - 0s - loss: 0.5606 - accuracy: 0.8620\n",
      "16/16 - 0s - loss: 0.5786 - accuracy: 0.8820\n",
      "16/16 - 0s - loss: 0.5873 - accuracy: 0.8840\n",
      "16/16 - 0s - loss: 0.7012 - accuracy: 0.8660\n",
      "16/16 - 0s - loss: 0.8076 - accuracy: 0.8200\n",
      "16/16 - 0s - loss: 0.6176 - accuracy: 0.8500\n",
      "16/16 - 0s - loss: 0.5969 - accuracy: 0.8540\n",
      "16/16 - 0s - loss: 0.6869 - accuracy: 0.8700\n",
      "------------    14  번째 global epoch < Clustering > 로컬 클라이언트 학습 완료!,  Total Training time :  335.5345711708069 ---------------------------\n",
      "\n",
      "\n",
      "Layer :  0   클러스터 갯수 정해짐!  갯수 :  7 5\n"
     ]
    },
    {
     "name": "stderr",
     "output_type": "stream",
     "text": [
      "<ipython-input-10-506962b8e734>:141: VisibleDeprecationWarning: Creating an ndarray from ragged nested sequences (which is a list-or-tuple of lists-or-tuples-or ndarrays with different lengths or shapes) is deprecated. If you meant to do this, you must specify 'dtype=object' when creating the ndarray\n",
      "  globals()['G{}_c{}_w_layer{}'.format(global_epoch, num_c_w, layer_index)] = globals()['G{}_c{}_w_layer{}'.format(global_epoch, num_c_w, layer_index)] + np.array(globals()['L{}_layer{}_w_c'.format(i,layer_index)])   # 일반 클러스터링\n"
     ]
    },
    {
     "name": "stdout",
     "output_type": "stream",
     "text": [
      "Layer :  2   클러스터 갯수 정해짐!  갯수 :  2 0\n"
     ]
    },
    {
     "name": "stderr",
     "output_type": "stream",
     "text": [
      "<ipython-input-10-506962b8e734>:141: VisibleDeprecationWarning: Creating an ndarray from ragged nested sequences (which is a list-or-tuple of lists-or-tuples-or ndarrays with different lengths or shapes) is deprecated. If you meant to do this, you must specify 'dtype=object' when creating the ndarray\n",
      "  globals()['G{}_c{}_w_layer{}'.format(global_epoch, num_c_w, layer_index)] = globals()['G{}_c{}_w_layer{}'.format(global_epoch, num_c_w, layer_index)] + np.array(globals()['L{}_layer{}_w_c'.format(i,layer_index)])   # 일반 클러스터링\n"
     ]
    },
    {
     "name": "stdout",
     "output_type": "stream",
     "text": [
      "Layer :  4   클러스터 갯수 정해짐!  갯수 :  2 0\n"
     ]
    },
    {
     "name": "stderr",
     "output_type": "stream",
     "text": [
      "<ipython-input-10-506962b8e734>:141: VisibleDeprecationWarning: Creating an ndarray from ragged nested sequences (which is a list-or-tuple of lists-or-tuples-or ndarrays with different lengths or shapes) is deprecated. If you meant to do this, you must specify 'dtype=object' when creating the ndarray\n",
      "  globals()['G{}_c{}_w_layer{}'.format(global_epoch, num_c_w, layer_index)] = globals()['G{}_c{}_w_layer{}'.format(global_epoch, num_c_w, layer_index)] + np.array(globals()['L{}_layer{}_w_c'.format(i,layer_index)])   # 일반 클러스터링\n"
     ]
    },
    {
     "name": "stdout",
     "output_type": "stream",
     "text": [
      "Layer :  6   클러스터 갯수 정해짐!  갯수 :  2 0\n"
     ]
    },
    {
     "name": "stderr",
     "output_type": "stream",
     "text": [
      "<ipython-input-10-506962b8e734>:141: VisibleDeprecationWarning: Creating an ndarray from ragged nested sequences (which is a list-or-tuple of lists-or-tuples-or ndarrays with different lengths or shapes) is deprecated. If you meant to do this, you must specify 'dtype=object' when creating the ndarray\n",
      "  globals()['G{}_c{}_w_layer{}'.format(global_epoch, num_c_w, layer_index)] = globals()['G{}_c{}_w_layer{}'.format(global_epoch, num_c_w, layer_index)] + np.array(globals()['L{}_layer{}_w_c'.format(i,layer_index)])   # 일반 클러스터링\n"
     ]
    },
    {
     "name": "stdout",
     "output_type": "stream",
     "text": [
      "Layer :  7   클러스터 갯수 정해짐!  갯수 :  2 0\n",
      "\n",
      "\n",
      "====================================================== One Global Epoch =====================================================================\n",
      "\n",
      "\n",
      "15  번째 global_epoch 데이터 랜덤하게 준비!!\n"
     ]
    },
    {
     "name": "stderr",
     "output_type": "stream",
     "text": [
      "<ipython-input-10-506962b8e734>:141: VisibleDeprecationWarning: Creating an ndarray from ragged nested sequences (which is a list-or-tuple of lists-or-tuples-or ndarrays with different lengths or shapes) is deprecated. If you meant to do this, you must specify 'dtype=object' when creating the ndarray\n",
      "  globals()['G{}_c{}_w_layer{}'.format(global_epoch, num_c_w, layer_index)] = globals()['G{}_c{}_w_layer{}'.format(global_epoch, num_c_w, layer_index)] + np.array(globals()['L{}_layer{}_w_c'.format(i,layer_index)])   # 일반 클러스터링\n"
     ]
    },
    {
     "name": "stdout",
     "output_type": "stream",
     "text": [
      "15  번째 global_epoch 데이터 랜덤 준비완료!!\n",
      "\n",
      "\n",
      "15  번째 global epoch에서 로컬 클라이언트 들 학습시작!\n",
      "\n",
      "학습 중 ...\n",
      "\n",
      "16/16 - 0s - loss: 0.6459 - accuracy: 0.8520\n",
      "16/16 - 0s - loss: 0.6592 - accuracy: 0.8580\n",
      "16/16 - 0s - loss: 0.6131 - accuracy: 0.8660\n",
      "16/16 - 0s - loss: 0.6210 - accuracy: 0.8640\n",
      "16/16 - 0s - loss: 0.5822 - accuracy: 0.8640\n",
      "16/16 - 0s - loss: 0.4845 - accuracy: 0.8920\n",
      "16/16 - 0s - loss: 0.5313 - accuracy: 0.8840\n",
      "16/16 - 0s - loss: 0.6038 - accuracy: 0.8680\n",
      "16/16 - 0s - loss: 0.6962 - accuracy: 0.8640\n",
      "16/16 - 0s - loss: 0.5744 - accuracy: 0.8700\n",
      "16/16 - 0s - loss: 0.5455 - accuracy: 0.8520\n",
      "16/16 - 0s - loss: 0.6576 - accuracy: 0.8680\n",
      "16/16 - 0s - loss: 0.5058 - accuracy: 0.8980\n",
      "16/16 - 0s - loss: 0.5200 - accuracy: 0.8760\n",
      "16/16 - 0s - loss: 0.6337 - accuracy: 0.8500\n",
      "16/16 - 0s - loss: 0.6597 - accuracy: 0.8660\n",
      "16/16 - 0s - loss: 0.7653 - accuracy: 0.8400\n",
      "16/16 - 0s - loss: 0.6556 - accuracy: 0.8760\n",
      "16/16 - 0s - loss: 0.6871 - accuracy: 0.8680\n",
      "16/16 - 0s - loss: 0.6708 - accuracy: 0.8660\n",
      "------------    15  번째 global epoch < Clustering > 로컬 클라이언트 학습 완료!,  Total Training time :  362.35549998283386 ---------------------------\n",
      "\n",
      "\n",
      "Layer :  0   클러스터 갯수 정해짐!  갯수 :  7 5\n"
     ]
    },
    {
     "name": "stderr",
     "output_type": "stream",
     "text": [
      "<ipython-input-10-506962b8e734>:141: VisibleDeprecationWarning: Creating an ndarray from ragged nested sequences (which is a list-or-tuple of lists-or-tuples-or ndarrays with different lengths or shapes) is deprecated. If you meant to do this, you must specify 'dtype=object' when creating the ndarray\n",
      "  globals()['G{}_c{}_w_layer{}'.format(global_epoch, num_c_w, layer_index)] = globals()['G{}_c{}_w_layer{}'.format(global_epoch, num_c_w, layer_index)] + np.array(globals()['L{}_layer{}_w_c'.format(i,layer_index)])   # 일반 클러스터링\n"
     ]
    },
    {
     "name": "stdout",
     "output_type": "stream",
     "text": [
      "Layer :  2   클러스터 갯수 정해짐!  갯수 :  2 0\n"
     ]
    },
    {
     "name": "stderr",
     "output_type": "stream",
     "text": [
      "<ipython-input-10-506962b8e734>:141: VisibleDeprecationWarning: Creating an ndarray from ragged nested sequences (which is a list-or-tuple of lists-or-tuples-or ndarrays with different lengths or shapes) is deprecated. If you meant to do this, you must specify 'dtype=object' when creating the ndarray\n",
      "  globals()['G{}_c{}_w_layer{}'.format(global_epoch, num_c_w, layer_index)] = globals()['G{}_c{}_w_layer{}'.format(global_epoch, num_c_w, layer_index)] + np.array(globals()['L{}_layer{}_w_c'.format(i,layer_index)])   # 일반 클러스터링\n"
     ]
    },
    {
     "name": "stdout",
     "output_type": "stream",
     "text": [
      "Layer :  4   클러스터 갯수 정해짐!  갯수 :  2 0\n"
     ]
    },
    {
     "name": "stderr",
     "output_type": "stream",
     "text": [
      "<ipython-input-10-506962b8e734>:141: VisibleDeprecationWarning: Creating an ndarray from ragged nested sequences (which is a list-or-tuple of lists-or-tuples-or ndarrays with different lengths or shapes) is deprecated. If you meant to do this, you must specify 'dtype=object' when creating the ndarray\n",
      "  globals()['G{}_c{}_w_layer{}'.format(global_epoch, num_c_w, layer_index)] = globals()['G{}_c{}_w_layer{}'.format(global_epoch, num_c_w, layer_index)] + np.array(globals()['L{}_layer{}_w_c'.format(i,layer_index)])   # 일반 클러스터링\n"
     ]
    },
    {
     "name": "stdout",
     "output_type": "stream",
     "text": [
      "Layer :  6   클러스터 갯수 정해짐!  갯수 :  2 0\n"
     ]
    },
    {
     "name": "stderr",
     "output_type": "stream",
     "text": [
      "<ipython-input-10-506962b8e734>:141: VisibleDeprecationWarning: Creating an ndarray from ragged nested sequences (which is a list-or-tuple of lists-or-tuples-or ndarrays with different lengths or shapes) is deprecated. If you meant to do this, you must specify 'dtype=object' when creating the ndarray\n",
      "  globals()['G{}_c{}_w_layer{}'.format(global_epoch, num_c_w, layer_index)] = globals()['G{}_c{}_w_layer{}'.format(global_epoch, num_c_w, layer_index)] + np.array(globals()['L{}_layer{}_w_c'.format(i,layer_index)])   # 일반 클러스터링\n"
     ]
    },
    {
     "name": "stdout",
     "output_type": "stream",
     "text": [
      "Layer :  7   클러스터 갯수 정해짐!  갯수 :  2 0\n",
      "\n",
      "\n",
      "====================================================== One Global Epoch =====================================================================\n",
      "\n",
      "\n",
      "16  번째 global_epoch 데이터 랜덤하게 준비!!\n"
     ]
    },
    {
     "name": "stderr",
     "output_type": "stream",
     "text": [
      "<ipython-input-10-506962b8e734>:141: VisibleDeprecationWarning: Creating an ndarray from ragged nested sequences (which is a list-or-tuple of lists-or-tuples-or ndarrays with different lengths or shapes) is deprecated. If you meant to do this, you must specify 'dtype=object' when creating the ndarray\n",
      "  globals()['G{}_c{}_w_layer{}'.format(global_epoch, num_c_w, layer_index)] = globals()['G{}_c{}_w_layer{}'.format(global_epoch, num_c_w, layer_index)] + np.array(globals()['L{}_layer{}_w_c'.format(i,layer_index)])   # 일반 클러스터링\n"
     ]
    },
    {
     "name": "stdout",
     "output_type": "stream",
     "text": [
      "16  번째 global_epoch 데이터 랜덤 준비완료!!\n",
      "\n",
      "\n",
      "16  번째 global epoch에서 로컬 클라이언트 들 학습시작!\n",
      "\n",
      "학습 중 ...\n",
      "\n",
      "16/16 - 0s - loss: 0.6378 - accuracy: 0.8840\n",
      "16/16 - 0s - loss: 0.7292 - accuracy: 0.8420\n",
      "16/16 - 0s - loss: 0.5599 - accuracy: 0.8840\n",
      "16/16 - 0s - loss: 0.6889 - accuracy: 0.8640\n",
      "16/16 - 0s - loss: 0.5246 - accuracy: 0.8960\n",
      "16/16 - 0s - loss: 0.6425 - accuracy: 0.8660\n",
      "16/16 - 0s - loss: 0.5436 - accuracy: 0.8800\n",
      "16/16 - 0s - loss: 0.5390 - accuracy: 0.8660\n",
      "16/16 - 0s - loss: 0.4895 - accuracy: 0.8920\n",
      "16/16 - 0s - loss: 0.7572 - accuracy: 0.8560\n",
      "16/16 - 0s - loss: 0.6360 - accuracy: 0.8800\n",
      "16/16 - 0s - loss: 0.5540 - accuracy: 0.8980\n",
      "16/16 - 0s - loss: 0.8096 - accuracy: 0.8440\n",
      "16/16 - 0s - loss: 0.5495 - accuracy: 0.8740\n",
      "16/16 - 0s - loss: 0.5409 - accuracy: 0.8900\n",
      "16/16 - 0s - loss: 0.7075 - accuracy: 0.8640\n",
      "16/16 - 0s - loss: 0.6664 - accuracy: 0.8600\n",
      "16/16 - 0s - loss: 0.6045 - accuracy: 0.8780\n",
      "16/16 - 0s - loss: 0.7003 - accuracy: 0.8720\n",
      "16/16 - 0s - loss: 0.7664 - accuracy: 0.8580\n",
      "------------    16  번째 global epoch < Clustering > 로컬 클라이언트 학습 완료!,  Total Training time :  366.5447723865509 ---------------------------\n",
      "\n",
      "\n",
      "Layer :  0   클러스터 갯수 정해짐!  갯수 :  7 5\n"
     ]
    },
    {
     "name": "stderr",
     "output_type": "stream",
     "text": [
      "<ipython-input-10-506962b8e734>:141: VisibleDeprecationWarning: Creating an ndarray from ragged nested sequences (which is a list-or-tuple of lists-or-tuples-or ndarrays with different lengths or shapes) is deprecated. If you meant to do this, you must specify 'dtype=object' when creating the ndarray\n",
      "  globals()['G{}_c{}_w_layer{}'.format(global_epoch, num_c_w, layer_index)] = globals()['G{}_c{}_w_layer{}'.format(global_epoch, num_c_w, layer_index)] + np.array(globals()['L{}_layer{}_w_c'.format(i,layer_index)])   # 일반 클러스터링\n"
     ]
    },
    {
     "name": "stdout",
     "output_type": "stream",
     "text": [
      "Layer :  2   클러스터 갯수 정해짐!  갯수 :  2 0\n"
     ]
    },
    {
     "name": "stderr",
     "output_type": "stream",
     "text": [
      "<ipython-input-10-506962b8e734>:141: VisibleDeprecationWarning: Creating an ndarray from ragged nested sequences (which is a list-or-tuple of lists-or-tuples-or ndarrays with different lengths or shapes) is deprecated. If you meant to do this, you must specify 'dtype=object' when creating the ndarray\n",
      "  globals()['G{}_c{}_w_layer{}'.format(global_epoch, num_c_w, layer_index)] = globals()['G{}_c{}_w_layer{}'.format(global_epoch, num_c_w, layer_index)] + np.array(globals()['L{}_layer{}_w_c'.format(i,layer_index)])   # 일반 클러스터링\n"
     ]
    },
    {
     "name": "stdout",
     "output_type": "stream",
     "text": [
      "Layer :  4   클러스터 갯수 정해짐!  갯수 :  2 0\n"
     ]
    },
    {
     "name": "stderr",
     "output_type": "stream",
     "text": [
      "<ipython-input-10-506962b8e734>:141: VisibleDeprecationWarning: Creating an ndarray from ragged nested sequences (which is a list-or-tuple of lists-or-tuples-or ndarrays with different lengths or shapes) is deprecated. If you meant to do this, you must specify 'dtype=object' when creating the ndarray\n",
      "  globals()['G{}_c{}_w_layer{}'.format(global_epoch, num_c_w, layer_index)] = globals()['G{}_c{}_w_layer{}'.format(global_epoch, num_c_w, layer_index)] + np.array(globals()['L{}_layer{}_w_c'.format(i,layer_index)])   # 일반 클러스터링\n"
     ]
    },
    {
     "name": "stdout",
     "output_type": "stream",
     "text": [
      "Layer :  6   클러스터 갯수 정해짐!  갯수 :  2 0\n"
     ]
    },
    {
     "name": "stderr",
     "output_type": "stream",
     "text": [
      "<ipython-input-10-506962b8e734>:141: VisibleDeprecationWarning: Creating an ndarray from ragged nested sequences (which is a list-or-tuple of lists-or-tuples-or ndarrays with different lengths or shapes) is deprecated. If you meant to do this, you must specify 'dtype=object' when creating the ndarray\n",
      "  globals()['G{}_c{}_w_layer{}'.format(global_epoch, num_c_w, layer_index)] = globals()['G{}_c{}_w_layer{}'.format(global_epoch, num_c_w, layer_index)] + np.array(globals()['L{}_layer{}_w_c'.format(i,layer_index)])   # 일반 클러스터링\n"
     ]
    },
    {
     "name": "stdout",
     "output_type": "stream",
     "text": [
      "Layer :  7   클러스터 갯수 정해짐!  갯수 :  2 0\n",
      "\n",
      "\n",
      "====================================================== One Global Epoch =====================================================================\n",
      "\n",
      "\n",
      "17  번째 global_epoch 데이터 랜덤하게 준비!!\n"
     ]
    },
    {
     "name": "stderr",
     "output_type": "stream",
     "text": [
      "<ipython-input-10-506962b8e734>:141: VisibleDeprecationWarning: Creating an ndarray from ragged nested sequences (which is a list-or-tuple of lists-or-tuples-or ndarrays with different lengths or shapes) is deprecated. If you meant to do this, you must specify 'dtype=object' when creating the ndarray\n",
      "  globals()['G{}_c{}_w_layer{}'.format(global_epoch, num_c_w, layer_index)] = globals()['G{}_c{}_w_layer{}'.format(global_epoch, num_c_w, layer_index)] + np.array(globals()['L{}_layer{}_w_c'.format(i,layer_index)])   # 일반 클러스터링\n"
     ]
    },
    {
     "name": "stdout",
     "output_type": "stream",
     "text": [
      "17  번째 global_epoch 데이터 랜덤 준비완료!!\n",
      "\n",
      "\n",
      "17  번째 global epoch에서 로컬 클라이언트 들 학습시작!\n",
      "\n",
      "학습 중 ...\n",
      "\n",
      "16/16 - 0s - loss: 0.4266 - accuracy: 0.8960\n",
      "16/16 - 0s - loss: 0.6536 - accuracy: 0.8740\n",
      "16/16 - 0s - loss: 0.6009 - accuracy: 0.8920\n",
      "16/16 - 0s - loss: 0.5976 - accuracy: 0.8700\n",
      "16/16 - 0s - loss: 0.4524 - accuracy: 0.9000\n",
      "16/16 - 0s - loss: 0.6174 - accuracy: 0.8640\n",
      "16/16 - 0s - loss: 0.6595 - accuracy: 0.8880\n",
      "16/16 - 0s - loss: 0.5938 - accuracy: 0.8740\n",
      "16/16 - 0s - loss: 0.5788 - accuracy: 0.8780\n"
     ]
    }
   ],
   "source": [
    "G_epoch = 51\n",
    "\n",
    "for global_epoch in range(1, G_epoch):\n",
    "\n",
    "    for i in range(1, local):\n",
    "        if global_epoch == 1:\n",
    "            globals()['G{}_c_L{}_model'.format(global_epoch, i)] = globals()['FedAvg_L{}_iter{}_model'.format(i,global_epoch-1)]   #모델 넣어줌 (우리는 구조만 필요한 것)\n",
    "        else:\n",
    "            globals()['G{}_c_L{}_model'.format(global_epoch, i)] = globals()['G{}_c_L{}_model'.format(global_epoch-1, i)]   #모델 넣어줌 (우리는 구조만 필요한 것)\n",
    "\n",
    "        for layer_index in num_layers_list: \n",
    "            num_c = globals()['G{}_num_clusters_in_layer{}_w'.format(global_epoch-1, layer_index)]   \n",
    "    \n",
    "            for ccc in range(num_c):\n",
    "                if globals()['w_layer{}_label'.format(layer_index)][i-1] == ccc:    #현재 로컬 레이어의 군집 결과 == ccc\n",
    "                    globals()['G{}_c_L{}_model'.format(global_epoch, i)].layers[layer_index].set_weights(globals()['G{}_c{}_w_layer{}'.format(global_epoch-1, ccc, layer_index) ])  # 클러스터용 로컬 모델 선언\n",
    "                    \n",
    "                  \n",
    "    #----------------------------------------------------------------데이터 새로 준비----------------------------------------------------------------------------------\n",
    "    print(global_epoch, \" 번째 global_epoch 데이터 랜덤하게 준비!!\")\n",
    "\n",
    "\n",
    "    for i in range(1,local):\n",
    "        globals()['L{}_x_train'.format(i)], globals()['L{}_x_test'.format(i)] = [], []\n",
    "        globals()['L{}_y_train'.format(i)], globals()['L{}_y_test'.format(i)] = [], []  \n",
    "        \n",
    "    for n in range(1,local): #x_train_range, 잘 작동함 => 확인 완료\n",
    "\n",
    "        x_train_range = list(np.arange(0,len(x_train)))  #0~59,999\n",
    "        x_test_range = list(np.arange(0,len(x_test)))  #0~9,999\n",
    "\n",
    "        tmp, tmp2 = [], []\n",
    "\n",
    "        num_pick = random.randint(1000, int(len(list(x_train_range))/local) ) #변동 사항\n",
    "        num_pick2 = int(len(x_test_range)/local) #test 데이터는 원래대로 항상 일정한 비율로 주면 될듯 => 어느정도 분량 이상 있어야 함\n",
    "\n",
    "        tmp = random.sample(list(x_train_range), num_pick)  #1/10개 만큼 인덱스 랜덤 비복원 추출 => 랜덤으로 해야함\n",
    "        tmp2 = random.sample(list(x_test_range), num_pick2)\n",
    "\n",
    "        for i in range(len(tmp)):\n",
    "            globals()['L{}_x_train'.format(n)].append(x_train[tmp[i]])  #n번째 Cluster에 분할한 실제 x_train 데이터 저장\n",
    "            globals()['L{}_y_train'.format(n)].append(y_train[tmp[i]]) \n",
    "            #x_train_range.remove(tmp[i])  #랜덤 하게 뽑힌 원소갯수들 추출했으니 안에서 삭제  => 오래걸림\n",
    "\n",
    "        for j in range(len(tmp2)):\n",
    "            globals()['L{}_x_test'.format(n)].append(x_test[tmp2[j]])\n",
    "            globals()['L{}_y_test'.format(n)].append(y_test[tmp2[j]])\n",
    "            #x_test_range.remove(tmp2[j])  #랜덤 하게 뽑힌 원소 1000개 추출했으니 안에서 삭제  => 오래걸림\n",
    "\n",
    "    for i in range(1,local):\n",
    "        globals()['L{}_x_train'.format(i)] = np.array(globals()['L{}_x_train'.format(i)])\n",
    "        globals()['L{}_x_test'.format(i)] = np.array(globals()['L{}_x_test'.format(i)])\n",
    "        globals()['L{}_y_train'.format(i)] = np.array(globals()['L{}_y_train'.format(i)])\n",
    "        globals()['L{}_y_test'.format(i)] = np.array(globals()['L{}_y_test'.format(i)])\n",
    "\n",
    "\n",
    "    print(global_epoch, \" 번째 global_epoch 데이터 랜덤 준비완료!!\\n\\n\")\n",
    "\n",
    "    print(global_epoch, \" 번째 global epoch에서 로컬 클라이언트 들 학습시작!\\n\\n학습 중 ...\\n\")\n",
    "    \n",
    "\n",
    "    #-------------------------------------------------------------------여기가 핵심, 알고리즘 3개 따로 학습시켜야 함--------------------------------------------------------------------\n",
    "\n",
    "\n",
    "    #======================================================================== Cluster  ========================================================================  같이 했음. 왜냐면 cluster 하고 나서 activation 을 씌우는 거라 cluster까지는 같음\n",
    "\n",
    "    cluster_acc, cluster_loss, cluster_act_acc, cluster_act_loss, now = [], [], [], [], time.time()\n",
    "    \n",
    "    for i in range(1, local):\n",
    "        globals()['G{}_c_L{}_model'.format(global_epoch, i)].compile(loss=\"categorical_crossentropy\", optimizer=\"adam\", metrics=[\"accuracy\"])  #Cluster => 알맞는 클러스터에 넣기\n",
    "        globals()['G{}_c_L{}_model'.format(global_epoch, i)].fit(globals()['L{}_x_train'.format(i)], globals()['L{}_y_train'.format(i)], batch_size=batch_size, epochs=epochs, validation_split=0.1, verbose=0)\n",
    "        loss, acc = globals()['G{}_c_L{}_model'.format(global_epoch, i)].evaluate(globals()['L{}_x_test'.format(i)], globals()['L{}_y_test'.format(i)], verbose=2)\n",
    "        \n",
    "        cluster_acc.append(acc)  #acc 넣기\n",
    "        cluster_loss.append(loss)  #loss 넣기\n",
    "\n",
    "    print(\"------------   \", global_epoch, \" 번째 global epoch < Clustering > 로컬 클라이언트 학습 완료!,  Total Training time : \", time.time()-now,\"---------------------------\\n\\n\")\n",
    "\n",
    "\n",
    "# 로컬 모델들 학습 완료, 로컬모델에서 weight, bias 추출 -------------------------------------------------------------------------------------\n",
    "\n",
    "\n",
    "    for i in range(1, local):        \n",
    "        for layer_index in num_layers_list:\n",
    "            \n",
    "            globals()['L{}_layer{}_w_c'.format(i,layer_index)]   = globals()['G{}_c_L{}_model'.format(global_epoch, i)].layers[layer_index].get_weights() # Clustering \n",
    "            globals()['L{}_layer{}_w_c_tmp'.format(i,layer_index)]   = globals()['G{}_c_L{}_model'.format(global_epoch, i)].layers[layer_index].get_weights() # Clustering \n",
    "\n",
    "    #------------------------------------------------ 클러스터링만 한 값들 Clustering --------------------------------------------------------\n",
    "    for layer_index in num_layers_list:\n",
    "        best_Sil_score_c = []\n",
    "        globals()['layer{}_W_c_tmp'.format(layer_index)] = []\n",
    "        \n",
    "        globals()['var_list_layer{}_w'.format(layer_index)] = []\n",
    "        globals()['var_list_layer{}_b'.format(layer_index)] = []\n",
    "            \n",
    "        for i in range(1, local):\n",
    "            TMP_w = list(np.array(globals()['L{}_layer{}_w_c_tmp'.format(i,layer_index)][0]).reshape(-1))\n",
    "            TMP_b = list(np.array(globals()['L{}_layer{}_w_c_tmp'.format(i,layer_index)][1]).reshape(-1))\n",
    "            \n",
    "            TMP_w.extend(TMP_b) ##append 말고 더해야함..\n",
    "\n",
    "            TMP_w = np.array(TMP_w)\n",
    "            TMP_w = list(TMP_w.reshape(-1))\n",
    "            globals()['layer{}_W_c_tmp'.format(layer_index)].append(TMP_w)  #클러스터링 용도\n",
    "\n",
    "        #---------------------------------------------------- 실루엣 기반 클러스터링 실시 -------------------------------------------------------------\n",
    "        silhoutte_score_w = []\n",
    "        transformed = globals()['layer{}_W_c_tmp'.format(layer_index)]\n",
    "\n",
    "        for clusters in range((int(local/2)-1)):       ####=>  이 범위 : 클러스터 갯수, 밑에 보면 cluster+2 있음 = 총 10개 => (0,11) = 10\n",
    "            globals()['w_layer{}_label'.format(layer_index)] = 0\n",
    "                                                            \n",
    "            kmeans_model_w = KMeans(n_clusters=clusters+2)   # 0, 1은 silhouette 에 안먹힘  \n",
    "\n",
    "            kmeans_model_w.fit(transformed)       #레이블 정의 \n",
    "\n",
    "            silhoutte_score_w.append(silhouette_score(globals()['layer{}_W_tmp'.format(layer_index)], kmeans_model_w.labels_, metric='euclidean'))  \n",
    "            \n",
    "        num_clusters_for_w = np.argmax(silhoutte_score_w)  \n",
    "        best_Sil_score_c.append(silhoutte_score_w[num_clusters_for_w])\n",
    " \n",
    "        kmeans_model_w = KMeans(n_clusters=num_clusters_for_w+2)   # 0, 1은 silhouette 에 안먹힘  \n",
    "\n",
    "        globals()['w_layer{}_label'.format(layer_index)] = kmeans_model_w.fit_predict(transformed)       # 가장 적합한 클러스터로 레이어에 속한 로컬들 레이블 정의 \n",
    "        label_list.append(globals()['w_layer{}_label'.format(layer_index)])\n",
    "\n",
    "        globals()['G{}_num_clusters_in_layer{}_w'.format(global_epoch, layer_index)] = num_clusters_for_w + 2  #나중에 몇개로 나뉘었는지 알아야 함 = num_clusters_for_w이거 그대로 하면 밑에 저게 쓸일이 많아서 global 쓰면 코딩이 너무 번잡해짐;; \n",
    "        print(\"Layer : \", layer_index, \"  클러스터 갯수 정해짐!  갯수 : \", globals()['G{}_num_clusters_in_layer{}_w'.format(global_epoch, layer_index)], num_clusters_for_w) ########################################################******************************************\n",
    "\n",
    "\n",
    "        #----------------------------------------------- 스케일링 및 업데이트 ---------------------------------------------------------------------\n",
    "        for num_c_w in range(num_clusters_for_w+2): #클러스터 갯수 (num_clusters_for_w) 만큼 클러스터용 = 클러스터 갯수가 3이 나왔으면 3개를 만들어야 함\n",
    "            globals()['G{}_c{}_w_layer{}'.format(global_epoch, num_c_w, layer_index)] = 0 \n",
    "            \n",
    "            globals()['w_scaler_c{}_sum'.format(num_c_w)], globals()['int_c{}_w'.format(num_c_w)] = 0, 0 #초기화\n",
    "        \n",
    "            for i in range(1, local):\n",
    "\n",
    "                if globals()['w_layer{}_label'.format(layer_index)][i-1] == num_c_w  : # 클러스터 레이블에 맞게 (0 or 1 or 2 ..) \n",
    "                    globals()['w_scaler_c{}_sum'.format(num_c_w)] = globals()['w_scaler_c{}_sum'.format(num_c_w)] + len(globals()['L{}_x_train'.format(i)])\n",
    "\n",
    "                    globals()['G{}_c{}_w_layer{}'.format(global_epoch, num_c_w, layer_index)] = globals()['G{}_c{}_w_layer{}'.format(global_epoch, num_c_w, layer_index)] + np.array(globals()['L{}_layer{}_w_c'.format(i,layer_index)])   # 일반 클러스터링\n",
    "                  \n",
    "                    globals()['int_c{}_w'.format(num_c_w)] = globals()['int_c{}_w'.format(num_c_w)] + 1\n",
    "\n",
    "            globals()['w_scaler{}'.format(num_c_w)] = len(globals()['L{}_x_train'.format(i)]) / globals()['w_scaler_c{}_sum'.format(num_c_w)]\n",
    "            globals()['G{}_c{}_w_layer{}'.format(global_epoch, num_c_w, layer_index)] = globals()['G{}_c{}_w_layer{}'.format(global_epoch, num_c_w, layer_index)] / globals()['int_c{}_w'.format(num_c_w)] #레이어 별 클러스터 자기 갯수만큼 나눠주기=평균\n",
    "\n",
    "        \n",
    "        sum_for_var_w,sum_for_var_b = 0, 0\n",
    "        for sps in range(num_clusters_for_w+2):\n",
    "            sum_for_var_w = sum_for_var_w + globals()['G{}_c{}_w_layer{}'.format(global_epoch, 0, layer_index)][0]\n",
    "            sum_for_var_b = sum_for_var_b + globals()['G{}_c{}_w_layer{}'.format(global_epoch, 0, layer_index)][1] \n",
    "        \n",
    "        sum_for_var_w = sum_for_var_w/(num_clusters_for_w+2)\n",
    "        sum_for_var_b = sum_for_var_b/(num_clusters_for_w+2)\n",
    "\n",
    "        for i in range(1, local):\n",
    "            globals()['var_list_layer{}_w'.format(layer_index)].append(np.var(sum_for_var_w))\n",
    "            globals()['var_list_layer{}_b'.format(layer_index)].append(np.var(sum_for_var_b))\n",
    "  \n",
    "\n",
    "        VAR_final_list_w.append(globals()['var_list_layer{}_w'.format(layer_index)])\n",
    "        VAR_final_list_b.append(globals()['var_list_layer{}_b'.format(layer_index)])\n",
    "\n",
    "\n",
    "    Cluster_ACC.append(cluster_acc)\n",
    "    Cluster_LOSS.append(cluster_loss)\n",
    "    Silhouette_sc_c.append(best_Sil_score_c)\n",
    "\n",
    "\n",
    "    print(\"\\n\\n====================================================== One Global Epoch =====================================================================\\n\\n\")\n"
   ]
  },
  {
   "cell_type": "code",
   "execution_count": null,
   "metadata": {
    "colab": {
     "base_uri": "https://localhost:8080/"
    },
    "executionInfo": {
     "elapsed": 239,
     "status": "ok",
     "timestamp": 1627598233970,
     "user": {
      "displayName": "이훈민",
      "photoUrl": "",
      "userId": "00157268181097362793"
     },
     "user_tz": 240
    },
    "id": "w2XKazZ-4dgs",
    "outputId": "4f023b47-dd78-43b9-bdab-9a0bc7195aa5"
   },
   "outputs": [],
   "source": [
    "#클러스터 레이어들끼리 weight 확이 => 똑같지는 않은지 확인"
   ]
  },
  {
   "cell_type": "code",
   "execution_count": null,
   "metadata": {
    "colab": {
     "base_uri": "https://localhost:8080/"
    },
    "executionInfo": {
     "elapsed": 282,
     "status": "ok",
     "timestamp": 1627663392403,
     "user": {
      "displayName": "이훈민",
      "photoUrl": "",
      "userId": "00157268181097362793"
     },
     "user_tz": 240
    },
    "id": "DGhQbiXaEUfJ",
    "outputId": "e7f4f01c-9b72-4b6e-f3ed-6859fc0a3587"
   },
   "outputs": [],
   "source": [
    "L0_label0, L0_label1, L0_label2 = 0, 0, 0 \n",
    "L1_label0, L1_label1, L1_label2 = 0, 0, 0 \n",
    "L2_label0, L2_label1, L2_label2 = 0, 0, 0 \n",
    "L3_label0, L3_label1, L3_label2 = 0, 0, 0 \n",
    "L4_label0, L4_label1, L4_label2 = 0, 0, 0 \n",
    "\n",
    "\n",
    "for i in range(int(len(label_list)/5)):\n",
    "    for k in range(5):\n",
    "        for j in range(len(label_list[0])):\n",
    "            if label_list[i*5 + k][j] == 0:\n",
    "                  globals()['L{}_label0'.format(k)] = globals()['L{}_label0'.format(k)] + 1 \n",
    "\n",
    "            elif label_list[i*5 + k][j] == 1:\n",
    "                globals()['L{}_label1'.format(k)] = globals()['L{}_label1'.format(k)] + 1\n",
    "\n",
    "            elif label_list[i*5 + k][j] == 2:\n",
    "                globals()['L{}_label2'.format(k)] = globals()['L{}_label2'.format(k)] + 1\n",
    "\n",
    "\n",
    "print(\"Layer 0  ==> label 0, 1, 2 갯수 : \", L0_label0, L0_label1, L0_label2)\n",
    "print(\"Layer 2  ==> label 0, 1, 2 갯수 : \", L1_label0, L1_label1, L1_label2)\n",
    "print(\"Layer 4  ==> label 0, 1, 2 갯수 : \", L2_label0, L2_label1, L2_label2)\n",
    "print(\"Layer 6  ==> label 0, 1, 2 갯수 : \", L3_label0, L3_label1, L3_label2)\n",
    "print(\"Layer 7  ==> label 0, 1, 2 갯수 : \", L4_label0, L4_label1, L4_label2)"
   ]
  },
  {
   "cell_type": "code",
   "execution_count": null,
   "metadata": {
    "id": "m4Zb_JoiIf2c"
   },
   "outputs": [],
   "source": []
  },
  {
   "cell_type": "code",
   "execution_count": null,
   "metadata": {
    "colab": {
     "base_uri": "https://localhost:8080/",
     "height": 1000
    },
    "executionInfo": {
     "elapsed": 1102,
     "status": "ok",
     "timestamp": 1627663393500,
     "user": {
      "displayName": "이훈민",
      "photoUrl": "",
      "userId": "00157268181097362793"
     },
     "user_tz": 240
    },
    "id": "3mk4C9N2ADYL",
    "outputId": "dd709555-dac1-41ab-dbf9-7902ded192f0"
   },
   "outputs": [],
   "source": [
    "var_changes_L0_w, var_changes_L2_w, var_changes_L4_w, var_changes_L6_w, var_changes_L7_w = [], [], [], [], [] \n",
    "var_accumulate_L0_w, var_accumulate_L2_w, var_accumulate_L4_w, var_accumulate_L6_w, var_accumulate_L7_w = [], [], [], [], [] \n",
    "\n",
    "var_changes_L0_b, var_changes_L2_b, var_changes_L4_b, var_changes_L6_b, var_changes_L7_b = [], [], [], [], [] \n",
    "var_accumulate_L0_b, var_accumulate_L2_b, var_accumulate_L4_b, var_accumulate_L6_b, var_accumulate_L7_b = [], [], [], [], [] \n",
    "\n",
    "\n",
    "for global_epoch in range(G_epoch-1):\n",
    "    for layer_index in num_layers_list:\n",
    "        sumss_w = (globals()['G{}_c{}_w_layer{}'.format(global_epoch, 0, layer_index)][0] + globals()['G{}_c{}_w_layer{}'.format(global_epoch, 1, layer_index)][0] + globals()['G{}_c{}_w_layer{}'.format(global_epoch, 2, layer_index)][0])/3\n",
    "        globals()['var_accumulate_L{}_w'.format(layer_index)].append(np.var( sumss_w ))\n",
    "        \n",
    "        sumss_b = (globals()['G{}_c{}_w_layer{}'.format(global_epoch, 0, layer_index)][1] + globals()['G{}_c{}_w_layer{}'.format(global_epoch, 1, layer_index)][1] + globals()['G{}_c{}_w_layer{}'.format(global_epoch, 2, layer_index)][1])/3\n",
    "        globals()['var_accumulate_L{}_b'.format(layer_index)].append(np.var( sumss_b ))\n",
    "        \n",
    "        \n",
    "\n",
    "for layer_index in num_layers_list:\n",
    "    for tmp_int in range(len(globals()['var_accumulate_L{}_w'.format(layer_index)])-1):\n",
    "        minus_w = globals()['var_accumulate_L{}_w'.format(layer_index)][tmp_int + 1] - globals()['var_accumulate_L{}_w'.format(layer_index)][tmp_int]\n",
    "        minus_b = globals()['var_accumulate_L{}_b'.format(layer_index)][tmp_int + 1] - globals()['var_accumulate_L{}_b'.format(layer_index)][tmp_int]        \n",
    "        globals()['var_changes_L{}_w'.format(layer_index)].append( minus_w )\n",
    "        globals()['var_changes_L{}_b'.format(layer_index)].append( minus_b )\n",
    "        \n",
    "\n",
    "print(\"Variance Accumulate Layer 0,2,4,6,7\\n--------------------------------------------------------------------------------------------------\\n\")\n",
    "\n",
    "print(\"\\nVar Accumulate Weight\\n--------------------------------------\")\n",
    "for j in num_layers_list:\n",
    "    print(globals()['var_accumulate_L{}_w'.format(j)])\n",
    "\n",
    "print(\"\\nVar Accumulate Bias\\n--------------------------------------\")\n",
    "for j in num_layers_list:\n",
    "    print(globals()['var_accumulate_L{}_b'.format(j)])\n",
    "\n",
    "print(\"\\n\\nVariance Change Layer 0,2,4,6,7\\n--------------------------------------------------------------------------------------------------\\n\")\n",
    "\n",
    "print(\"\\nVar Changes Weight\\n--------------------------------------\")\n",
    "for j in num_layers_list:\n",
    "    print(globals()['var_accumulate_L{}_w'.format(j)])\n",
    "\n",
    "print(\"\\nVar Changes Bias\\n--------------------------------------\")\n",
    "for j in num_layers_list:\n",
    "    print(globals()['var_changes_L{}_b'.format(j)])\n",
    "\n",
    "\n",
    "\n",
    "print(\"\\nNow Check the graph\\n\")\n",
    "\n",
    "plt.figure(figsize=(5,3))\n",
    "for j in num_layers_list:\n",
    "    plt.plot(globals()['var_accumulate_L{}_w'.format(j)])\n",
    "\n",
    "plt.figure(figsize=(5,3))\n",
    "for j in num_layers_list:\n",
    "    plt.plot(globals()['var_accumulate_L{}_b'.format(j)])\n",
    "\n",
    "plt.figure(figsize=(5,3))\n",
    "for j in num_layers_list:\n",
    "    plt.plot(globals()['var_changes_L{}_b'.format(j)])\n",
    "\n",
    "plt.figure(figsize=(5,3))\n",
    "for j in num_layers_list:\n",
    "    plt.plot(globals()['var_changes_L{}_b'.format(j)])\n"
   ]
  },
  {
   "cell_type": "code",
   "execution_count": null,
   "metadata": {
    "id": "PhcQRPgvMwlT"
   },
   "outputs": [],
   "source": []
  },
  {
   "cell_type": "code",
   "execution_count": null,
   "metadata": {
    "colab": {
     "base_uri": "https://localhost:8080/",
     "height": 442
    },
    "executionInfo": {
     "elapsed": 6,
     "status": "ok",
     "timestamp": 1627663393501,
     "user": {
      "displayName": "이훈민",
      "photoUrl": "",
      "userId": "00157268181097362793"
     },
     "user_tz": 240
    },
    "id": "3Z0FOMEdHTVi",
    "outputId": "514d47d9-13cb-493b-e1e0-9267c208a77c"
   },
   "outputs": [],
   "source": [
    "from scipy.spatial import distance\n",
    "\n",
    "dist_0, dist_2, dist_4, dist_6, dist_7  = [], [], [], [], []\n",
    "\n",
    "for global_epoch in range(G_epoch): #1이 맞음 = 바꾸지 말기\n",
    "    for layer_index in num_layers_list:\n",
    "        globals()['G{}_w_layer{}'.format(global_epoch, layer_index)] = 0    \n",
    "\n",
    "\n",
    "for global_epoch in range(G_epoch-1):    #2가 맞음 = 바꾸지 말기\n",
    "    for layer_index in num_layers_list:\n",
    "        globals()['G{}_w_layer{}'.format(global_epoch, layer_index)] = (globals()['G{}_c{}_w_layer{}'.format(global_epoch, 0, layer_index)] + globals()['G{}_c{}_w_layer{}'.format(global_epoch, 1, layer_index)] + globals()['G{}_c{}_w_layer{}'.format(global_epoch, 2, layer_index)])/3\n",
    "        globals()['dist_{}'.format(layer_index)].append(np.mean(distance.euclidean(globals()['G{}_w_layer{}'.format(global_epoch, layer_index)], globals()['G{}_w_layer{}'.format(global_epoch+1, layer_index)])))\n",
    "\n",
    "print(\"Distance Layer 0,2,4,6,7\\n--------------------------------------------------------------------------------------------------\")\n",
    "print(dist_0)\n",
    "print(dist_2)\n",
    "print(dist_4)\n",
    "print(dist_6)\n",
    "print(dist_7, \"\\n\\nCheck the graph\\n\")\n",
    "\n",
    "plt.plot(dist_0)\n",
    "plt.plot(dist_2)\n",
    "plt.plot(dist_4)\n",
    "plt.plot(dist_6)\n",
    "plt.plot(dist_7)\n",
    "\n",
    "plt.show()"
   ]
  },
  {
   "cell_type": "code",
   "execution_count": null,
   "metadata": {
    "colab": {
     "base_uri": "https://localhost:8080/",
     "height": 483
    },
    "executionInfo": {
     "elapsed": 281,
     "status": "ok",
     "timestamp": 1627663393778,
     "user": {
      "displayName": "이훈민",
      "photoUrl": "",
      "userId": "00157268181097362793"
     },
     "user_tz": 240
    },
    "id": "4vSuPXEKhOVJ",
    "outputId": "63be1f9c-a0aa-4a2d-e582-008d021662f2"
   },
   "outputs": [],
   "source": [
    "average_acc_cluster_list, average_loss_cluster_list = [], []\n",
    "\n",
    "\n",
    "for i in range(len(Cluster_ACC)):    \n",
    "    average_acc_cluster_list.append(np.mean(Cluster_ACC[i]))\n",
    "    average_loss_cluster_list.append(np.mean(Cluster_LOSS[i]))\n",
    "\n",
    "    \n",
    "plt.figure(figsize=(16,8))\n",
    "plt.plot(average_acc_cluster_list, label='Cluster Acc')\n",
    "print(Cluster_ACC)\n",
    "print(Cluster_LOSS)\n",
    "plt.plot(average_loss_cluster_list, label='Cluster Loss')\n",
    "\n",
    "plt.grid(True)\n",
    "plt.legend()\n",
    "plt.show()\n"
   ]
  },
  {
   "cell_type": "code",
   "execution_count": null,
   "metadata": {
    "id": "7afw9VS7PwPX"
   },
   "outputs": [],
   "source": []
  }
 ],
 "metadata": {
  "colab": {
   "authorship_tag": "ABX9TyM706Cwuwf90ucbkvXVEEaX",
   "collapsed_sections": [],
   "name": "Test1_paper_Clustering.ipynb",
   "provenance": []
  },
  "kernelspec": {
   "display_name": "Python 3",
   "language": "python",
   "name": "python3"
  },
  "language_info": {
   "codemirror_mode": {
    "name": "ipython",
    "version": 3
   },
   "file_extension": ".py",
   "mimetype": "text/x-python",
   "name": "python",
   "nbconvert_exporter": "python",
   "pygments_lexer": "ipython3",
   "version": "3.8.8"
  }
 },
 "nbformat": 4,
 "nbformat_minor": 1
}
