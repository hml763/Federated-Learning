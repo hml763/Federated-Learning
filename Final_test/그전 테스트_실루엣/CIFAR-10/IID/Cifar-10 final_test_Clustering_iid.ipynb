{
 "cells": [
  {
   "cell_type": "code",
   "execution_count": 1,
   "metadata": {
    "executionInfo": {
     "elapsed": 3787,
     "status": "ok",
     "timestamp": 1627658864261,
     "user": {
      "displayName": "이훈민",
      "photoUrl": "",
      "userId": "00157268181097362793"
     },
     "user_tz": 240
    },
    "id": "cg7gm5FVyA3r"
   },
   "outputs": [],
   "source": [
    "import numpy as np\n",
    "import tensorflow as tf\n",
    "import matplotlib.pyplot as plt\n",
    "import sys\n",
    "import time\n",
    "import math\n",
    "import random\n",
    "import copy\n",
    "import warnings\n",
    "warnings.simplefilter(action='ignore', category=FutureWarning)\n",
    "\n",
    "import keras\n",
    "from tensorflow import keras\n",
    "from keras.models import Sequential\n",
    "from keras.layers import Dense, Dropout, Flatten\n",
    "from tensorflow.keras import datasets, layers, models\n",
    "from keras.layers.convolutional import Conv2D, MaxPooling2D\n",
    "from keras.layers import Dense, Activation, Flatten, Conv2D, MaxPooling2D\n",
    "from keras.utils.np_utils import to_categorical\n",
    "from sklearn.cluster import KMeans, AgglomerativeClustering\n",
    "from tensorflow.keras.datasets import cifar10 \n",
    "from sklearn.metrics import silhouette_samples, silhouette_score\n",
    "\n",
    "mod = sys.modules[__name__]"
   ]
  },
  {
   "cell_type": "code",
   "execution_count": 2,
   "metadata": {
    "executionInfo": {
     "elapsed": 29,
     "status": "ok",
     "timestamp": 1627658864287,
     "user": {
      "displayName": "이훈민",
      "photoUrl": "",
      "userId": "00157268181097362793"
     },
     "user_tz": 240
    },
    "id": "-gn3HoNnyGdo"
   },
   "outputs": [],
   "source": [
    "def distribution_check(dataset):\n",
    "        #분포가 다름;\n",
    "    one,two,three,four,five,six,seven,eight,nine,ten=0,0,0,0,0,0,0,0,0,0\n",
    "\n",
    "    for i in range(len(dataset)):\n",
    "        if(dataset[i]==1):    one+=1\n",
    "        elif(dataset[i]==2):  two+=1\n",
    "        elif(dataset[i]==3):  three+=1\n",
    "        elif(dataset[i]==4):  four+=1\n",
    "        elif(dataset[i]==5):  five+=1\n",
    "        elif(dataset[i]==6):  six+=1\n",
    "        elif(dataset[i]==7):  seven+=1\n",
    "        elif(dataset[i]==8):  eight+=1\n",
    "        elif(dataset[i]==9):  nine+=1\n",
    "        elif(dataset[i]==0):  ten+=1\n",
    "\n",
    "    #print(one,two,three,four,five,six,seven,eight,nine,ten)\n",
    "    #print(\"Sum : \", one+two+three+four+five+six+seven+eight+nine+ten)\n",
    "    sums = one+two+three+four+five+six+seven+eight+nine+ten\n",
    "    for_graph=[one,two,three,four,five,six,seven,eight,nine,ten]\n",
    "    \n",
    "    return for_graph, sums\n",
    "\n",
    "def local_model_generate(model): #초기 모델 생성\n",
    "    model = models.Sequential()\n",
    "    model.add(layers.Conv2D(32, (3, 3), activation='relu', input_shape=(32, 32, 3)))\n",
    "    model.add(layers.MaxPooling2D((2, 2)))\n",
    "    model.add(layers.Conv2D(64, (3, 3), activation='relu'))\n",
    "    model.add(layers.MaxPooling2D((2, 2)))\n",
    "    model.add(layers.Conv2D(64, (3, 3), activation='relu'))\n",
    "    model.add(layers.Flatten())\n",
    "    model.add(layers.Dense(64, activation='relu'))\n",
    "    model.add(layers.Dense(10, activation='softmax'))\n",
    "    \n",
    "    return model\n",
    "\n",
    "def step_function(data):\n",
    "    if data > 0:\n",
    "        return 1\n",
    "    else:\n",
    "        return 0\n",
    "\n",
    "def sigmoid(data):\n",
    "    return 1/(1+np.exp(-data))\n",
    "\n",
    "def relu(data):\n",
    "    return np.maximum(0,data)\n",
    "\n",
    "def random_check(local, train_data, test_data):\n",
    "    check_distribution_train_data, check_distribution_test_data, y_train_tmp, y_test_tmp = [], [], [], []\n",
    "    sum1, sum2, data_index = 0,0, np.arange(0,10)\n",
    "\n",
    "    for j in range(len(train_data)):\n",
    "        y_train_tmp.append(np.argmax(train_data[j])) #원핫인코딩에서 다시 0~9 레이블로 변환\n",
    "\n",
    "    for j in range(len(test_data)):\n",
    "        y_test_tmp.append(np.argmax(test_data[j]))\n",
    "\n",
    "    check_distribution_train_data, sum_train = distribution_check(y_train_tmp) #한번 밖에 실행 못함\n",
    "    check_distribution_test_data, sum_test = distribution_check(y_test_tmp)\n",
    "    sum1, sum2 = (sum1 + sum_train), (sum2 + sum_test)\n",
    "    \n",
    "    return check_distribution_train_data, check_distribution_test_data\n"
   ]
  },
  {
   "cell_type": "code",
   "execution_count": 3,
   "metadata": {
    "colab": {
     "base_uri": "https://localhost:8080/"
    },
    "executionInfo": {
     "elapsed": 1990,
     "status": "ok",
     "timestamp": 1627658866249,
     "user": {
      "displayName": "이훈민",
      "photoUrl": "",
      "userId": "00157268181097362793"
     },
     "user_tz": 240
    },
    "id": "CSRQl-noyHx9",
    "outputId": "caa9e16f-3624-4192-907b-6a4530663e7e"
   },
   "outputs": [
    {
     "name": "stdout",
     "output_type": "stream",
     "text": [
      "Downloading data from https://www.cs.toronto.edu/~kriz/cifar-10-python.tar.gz\n",
      "170500096/170498071 [==============================] - 3s 0us/step\n",
      "(50000, 32, 32, 3) (10000, 32, 32, 3)\n"
     ]
    }
   ],
   "source": [
    "(x_train, y_train), (x_test, y_test) = cifar10.load_data()\n",
    "print(x_train.shape, x_test.shape)\n",
    "num_train, num_test = len(x_train),  len(x_test) "
   ]
  },
  {
   "cell_type": "code",
   "execution_count": 4,
   "metadata": {
    "executionInfo": {
     "elapsed": 6,
     "status": "ok",
     "timestamp": 1627658866250,
     "user": {
      "displayName": "이훈민",
      "photoUrl": "",
      "userId": "00157268181097362793"
     },
     "user_tz": 240
    },
    "id": "YvgMHy1ByI7c"
   },
   "outputs": [],
   "source": [
    "batch_size, epochs = 32, 10\n",
    "global_epoch = 0\n",
    "num_layers = 8"
   ]
  },
  {
   "cell_type": "code",
   "execution_count": 5,
   "metadata": {
    "colab": {
     "base_uri": "https://localhost:8080/"
    },
    "executionInfo": {
     "elapsed": 5,
     "status": "ok",
     "timestamp": 1627658866250,
     "user": {
      "displayName": "이훈민",
      "photoUrl": "",
      "userId": "00157268181097362793"
     },
     "user_tz": 240
    },
    "id": "NtlWlG2EyKwJ",
    "outputId": "13d78e48-942e-469a-b62b-408c864761b2"
   },
   "outputs": [
    {
     "name": "stdout",
     "output_type": "stream",
     "text": [
      "Step 1 x_train shape: (50000, 32, 32, 3)\n",
      "Step 2 x_train shape: (50000, 32, 32, 3)\n",
      "50000 train samples\n",
      "10000 test samples\n"
     ]
    }
   ],
   "source": [
    "# Model / data parameters\n",
    "num_classes = 10\n",
    "input_shape = (32, 32, 3)\n",
    "\n",
    "# Scale images to the [0, 1] range\n",
    "x_train = x_train.astype(\"float32\") / 255\n",
    "x_test = x_test.astype(\"float32\") / 255\n",
    "\n",
    "print(\"Step 1 x_train shape:\", x_train.shape)\n",
    "\n",
    "#x_train = x_train.reshape((num_train, 28, 28, 1))\n",
    "#x_test = x_test.reshape((num_test, 28, 28, 1))\n",
    "\n",
    "print(\"Step 2 x_train shape:\", x_train.shape)\n",
    "print(x_train.shape[0], \"train samples\")\n",
    "print(x_test.shape[0], \"test samples\")\n",
    "# convert class vectors to binary class matrices => one hot encoding 지금은 [3,6,2,5,4,8..] 섞여있음 \n",
    "\n",
    "y_train = keras.utils.to_categorical(y_train, num_classes)\n",
    "y_test = keras.utils.to_categorical(y_test, num_classes)"
   ]
  },
  {
   "cell_type": "code",
   "execution_count": 6,
   "metadata": {
    "colab": {
     "base_uri": "https://localhost:8080/"
    },
    "executionInfo": {
     "elapsed": 966,
     "status": "ok",
     "timestamp": 1627662382510,
     "user": {
      "displayName": "이훈민",
      "photoUrl": "",
      "userId": "00157268181097362793"
     },
     "user_tz": 240
    },
    "id": "I2uyTUGiyaSd",
    "outputId": "9701b3af-beec-4180-ce33-198e018376bd"
   },
   "outputs": [
    {
     "name": "stdout",
     "output_type": "stream",
     "text": [
      "0  번째 global_epoch 데이터 랜덤하게 준비!!\n",
      "check=>: should be 0 ==  50000\n",
      "0  번째 global_epoch 데이터 랜덤 준비완료!!\n"
     ]
    }
   ],
   "source": [
    "#랜덤 비복원추출, 동등하게 10% 씩 =  로컬 데이터 추출 ------------------------------------------------------------------------------\n",
    "\n",
    "global_epoch = 0\n",
    "local = 21\n",
    "\n",
    "print(global_epoch, \" 번째 global_epoch 데이터 랜덤하게 준비!!\")\n",
    "\n",
    "for i in range(1,local): #데이터 변수 선언, 빈 리스트로 초기화\n",
    "    globals()['L{}_x_train'.format(i)], globals()['L{}_x_test'.format(i)] = [], []  \n",
    "    globals()['L{}_y_train'.format(i)], globals()['L{}_y_test'.format(i)] = [], []  \n",
    "\n",
    "x_train_range = list(np.arange(0,len(x_train)))  #0~59,999\n",
    "x_test_range = list(np.arange(0,len(x_test)))  #0~9,999\n",
    "\n",
    "for n in range(1,local): #Data_x_train_range, 잘 작동함 => 확인 완료\n",
    "    tmp, tmp2 = [], []\n",
    "    tmp = random.sample(list(x_train_range), int(num_train/(local-1)))  #1/10개 만큼 인덱스 랜덤 비복원 추출 => 랜덤으로 해야함\n",
    "    tmp2 = random.sample(list(x_test_range), int(num_test/(local-1)))\n",
    "\n",
    "    for i in range(len(tmp)):\n",
    "        globals()['L{}_x_train'.format(n)].append(x_train[tmp[i]])  #n번째 Cluster에 분할한 실제 x_train 데이터 저장\n",
    "        globals()['L{}_y_train'.format(n)].append(y_train[tmp[i]]) \n",
    "        #x_train_range.remove(tmp[i])  #랜덤 하게 뽑힌 원소 6000개 추출했으니 안에서 삭제 => 비복원 추출\n",
    "\n",
    "    for j in range(len(tmp2)):\n",
    "        globals()['L{}_x_test'.format(n)].append(x_test[tmp2[j]])\n",
    "        globals()['L{}_y_test'.format(n)].append(y_test[tmp2[j]])\n",
    "        #x_test_range.remove(tmp2[j])  #랜덤 하게 뽑힌 원소 6000개 추출했으니 안에서 삭제 => 비복원 추출\n",
    "\n",
    "print(\"check=>: should be 0 == \", len(x_train_range))  #원소 하나도 없어야 함. 확인.\n",
    "\n",
    "print(global_epoch, \" 번째 global_epoch 데이터 랜덤 준비완료!!\")"
   ]
  },
  {
   "cell_type": "code",
   "execution_count": 7,
   "metadata": {
    "colab": {
     "base_uri": "https://localhost:8080/"
    },
    "executionInfo": {
     "elapsed": 24199,
     "status": "ok",
     "timestamp": 1627662407910,
     "user": {
      "displayName": "이훈민",
      "photoUrl": "",
      "userId": "00157268181097362793"
     },
     "user_tz": 240
    },
    "id": "LztCjgrY1OxS",
    "outputId": "cb761dc5-55c2-4118-93b3-7833cd8f4629",
    "scrolled": true
   },
   "outputs": [
    {
     "name": "stdout",
     "output_type": "stream",
     "text": [
      "\n",
      "\n",
      " 0 번째 global epoch에서 로컬 클라이언트 학습시작!\n",
      "\n",
      "학습 중 ...\n",
      "\n",
      "16/16 - 0s - loss: 1.4381 - accuracy: 0.5060\n",
      "16/16 - 0s - loss: 1.4029 - accuracy: 0.5020\n",
      "16/16 - 0s - loss: 1.5664 - accuracy: 0.4280\n",
      "16/16 - 0s - loss: 1.5582 - accuracy: 0.4520\n",
      "16/16 - 0s - loss: 1.4937 - accuracy: 0.4940\n",
      "16/16 - 0s - loss: 1.5132 - accuracy: 0.4300\n",
      "16/16 - 0s - loss: 1.5147 - accuracy: 0.4740\n",
      "16/16 - 0s - loss: 1.6817 - accuracy: 0.4340\n",
      "16/16 - 0s - loss: 1.6091 - accuracy: 0.4420\n",
      "16/16 - 0s - loss: 1.4321 - accuracy: 0.4980\n",
      "16/16 - 0s - loss: 1.5093 - accuracy: 0.4500\n",
      "16/16 - 0s - loss: 1.5828 - accuracy: 0.4420\n",
      "16/16 - 0s - loss: 1.4732 - accuracy: 0.4520\n",
      "16/16 - 0s - loss: 1.4822 - accuracy: 0.4860\n",
      "16/16 - 0s - loss: 1.4832 - accuracy: 0.4320\n",
      "16/16 - 0s - loss: 1.4825 - accuracy: 0.4960\n",
      "16/16 - 0s - loss: 1.4682 - accuracy: 0.4560\n",
      "16/16 - 0s - loss: 1.6320 - accuracy: 0.4240\n",
      "16/16 - 0s - loss: 1.5680 - accuracy: 0.4340\n",
      "16/16 - 0s - loss: 1.5606 - accuracy: 0.4260\n",
      "0 번째 global epoch 로컬 클라이언트 학습완료!,  Total Training time :  224.17967772483826 \n",
      "\n",
      "\n",
      "Layer :  0   클러스터 갯수 정해짐!  갯수 :  8 6\n"
     ]
    },
    {
     "name": "stderr",
     "output_type": "stream",
     "text": [
      "<ipython-input-7-de0d05814e6e>:107: VisibleDeprecationWarning: Creating an ndarray from ragged nested sequences (which is a list-or-tuple of lists-or-tuples-or ndarrays with different lengths or shapes) is deprecated. If you meant to do this, you must specify 'dtype=object' when creating the ndarray\n",
      "  globals()['G{}_c{}_w_layer{}'.format(global_epoch, num_c_w, layer_index)] = globals()['G{}_c{}_w_layer{}'.format(global_epoch, num_c_w, layer_index)] + np.array(globals()['L{}_layer{}_w'.format(i,layer_index)])          # 일반 클러스터링\n"
     ]
    },
    {
     "name": "stdout",
     "output_type": "stream",
     "text": [
      "Layer :  2   클러스터 갯수 정해짐!  갯수 :  2 0\n"
     ]
    },
    {
     "name": "stderr",
     "output_type": "stream",
     "text": [
      "<ipython-input-7-de0d05814e6e>:107: VisibleDeprecationWarning: Creating an ndarray from ragged nested sequences (which is a list-or-tuple of lists-or-tuples-or ndarrays with different lengths or shapes) is deprecated. If you meant to do this, you must specify 'dtype=object' when creating the ndarray\n",
      "  globals()['G{}_c{}_w_layer{}'.format(global_epoch, num_c_w, layer_index)] = globals()['G{}_c{}_w_layer{}'.format(global_epoch, num_c_w, layer_index)] + np.array(globals()['L{}_layer{}_w'.format(i,layer_index)])          # 일반 클러스터링\n"
     ]
    },
    {
     "name": "stdout",
     "output_type": "stream",
     "text": [
      "Layer :  4   클러스터 갯수 정해짐!  갯수 :  2 0\n"
     ]
    },
    {
     "name": "stderr",
     "output_type": "stream",
     "text": [
      "<ipython-input-7-de0d05814e6e>:107: VisibleDeprecationWarning: Creating an ndarray from ragged nested sequences (which is a list-or-tuple of lists-or-tuples-or ndarrays with different lengths or shapes) is deprecated. If you meant to do this, you must specify 'dtype=object' when creating the ndarray\n",
      "  globals()['G{}_c{}_w_layer{}'.format(global_epoch, num_c_w, layer_index)] = globals()['G{}_c{}_w_layer{}'.format(global_epoch, num_c_w, layer_index)] + np.array(globals()['L{}_layer{}_w'.format(i,layer_index)])          # 일반 클러스터링\n"
     ]
    },
    {
     "name": "stdout",
     "output_type": "stream",
     "text": [
      "Layer :  6   클러스터 갯수 정해짐!  갯수 :  2 0\n"
     ]
    },
    {
     "name": "stderr",
     "output_type": "stream",
     "text": [
      "<ipython-input-7-de0d05814e6e>:107: VisibleDeprecationWarning: Creating an ndarray from ragged nested sequences (which is a list-or-tuple of lists-or-tuples-or ndarrays with different lengths or shapes) is deprecated. If you meant to do this, you must specify 'dtype=object' when creating the ndarray\n",
      "  globals()['G{}_c{}_w_layer{}'.format(global_epoch, num_c_w, layer_index)] = globals()['G{}_c{}_w_layer{}'.format(global_epoch, num_c_w, layer_index)] + np.array(globals()['L{}_layer{}_w'.format(i,layer_index)])          # 일반 클러스터링\n"
     ]
    },
    {
     "name": "stdout",
     "output_type": "stream",
     "text": [
      "Layer :  7   클러스터 갯수 정해짐!  갯수 :  2 0\n"
     ]
    },
    {
     "name": "stderr",
     "output_type": "stream",
     "text": [
      "<ipython-input-7-de0d05814e6e>:107: VisibleDeprecationWarning: Creating an ndarray from ragged nested sequences (which is a list-or-tuple of lists-or-tuples-or ndarrays with different lengths or shapes) is deprecated. If you meant to do this, you must specify 'dtype=object' when creating the ndarray\n",
      "  globals()['G{}_c{}_w_layer{}'.format(global_epoch, num_c_w, layer_index)] = globals()['G{}_c{}_w_layer{}'.format(global_epoch, num_c_w, layer_index)] + np.array(globals()['L{}_layer{}_w'.format(i,layer_index)])          # 일반 클러스터링\n"
     ]
    }
   ],
   "source": [
    "#준비된 데이터 (IID / NON-IID) np.array로\n",
    "\n",
    "best_Sil_score_c = []\n",
    "Silhouette_sc_c = []\n",
    "\n",
    "global_epoch = 0\n",
    "acc, loss = 0, 0\n",
    "cluster_acc, cluster_loss, Cluster_ACC, Cluster_LOSS = [], [], [], [] \n",
    "num_layers_list = [0,2,4,6,7]\n",
    "label_list = []\n",
    "VAR_final_list_w, VAR_final_list_b = [], []\n",
    "\n",
    "\n",
    "for i in range(1,local):\n",
    "    globals()['L{}_x_train'.format(i)] = np.array(globals()['L{}_x_train'.format(i)])\n",
    "    globals()['L{}_x_test'.format(i)] = np.array(globals()['L{}_x_test'.format(i)])\n",
    "    globals()['L{}_y_train'.format(i)] = np.array(globals()['L{}_y_train'.format(i)])\n",
    "    globals()['L{}_y_test'.format(i)] = np.array(globals()['L{}_y_test'.format(i)])\n",
    "\n",
    "\n",
    "print(\"\\n\\n\",global_epoch, \"번째 global epoch에서 로컬 클라이언트 학습시작!\\n\\n학습 중 ...\\n\")\n",
    "now = time.time()\n",
    "\n",
    "for i in range(1,local):\n",
    "    globals()['FedAvg_L{}_iter{}_model'.format(i, global_epoch)] = models.Sequential()  ##!!!!!!! 이게 글로벌 epoch에서는 2번째 부터 들어가면 안됨\n",
    "    globals()['FedAvg_L{}_iter{}_model'.format(i, global_epoch)] = local_model_generate(globals()['FedAvg_L{}_iter{}_model'.format(i, global_epoch)])      # initialize 필요 => 모델 프레임 구축\n",
    "\n",
    "    globals()['FedAvg_L{}_iter{}_model'.format(i, global_epoch)].compile(loss=\"categorical_crossentropy\", optimizer=\"adam\", metrics=[\"accuracy\"])\n",
    "\n",
    "    globals()['FedAvg_L{}_iter{}_model'.format(i, global_epoch)].fit(globals()['L{}_x_train'.format(i)], globals()['L{}_y_train'.format(i)], batch_size=batch_size, epochs=epochs, validation_split=0.1, verbose=0)\n",
    "\n",
    "    loss, acc = globals()['FedAvg_L{}_iter{}_model'.format(i, global_epoch)].evaluate(globals()['L{}_x_test'.format(i,global_epoch)], globals()['L{}_y_test'.format(i)], verbose=2)\n",
    "    \n",
    "    cluster_acc.append(acc)  #acc 넣기\n",
    "    cluster_loss.append(loss)  #loss 넣기\n",
    "\n",
    "\n",
    "print(global_epoch, \"번째 global epoch 로컬 클라이언트 학습완료!,  Total Training time : \", time.time()-now,\"\\n\\n\")\n",
    "\n",
    "# 로컬 모델들 학습 완료하였고 로컬모델에서 weight, bias 추출 -------------------------------------------------------------------------------------\n",
    "\n",
    "for i in range(1, local):\n",
    "    for layer_index in num_layers_list:\n",
    "        w = globals()['FedAvg_L{}_iter{}_model'.format(i, global_epoch)].layers[layer_index].get_weights() #get_weights = w[0],b[1]로 구성\n",
    "\n",
    "        globals()['L{}_layer{}_w_tmp'.format(i,layer_index)] = w      # 클러스터링 용도\n",
    "        globals()['L{}_layer{}_w'.format(i,layer_index)] = w          # weight aggregation 용도\n",
    "            \n",
    "# 클러스터에 넣을 변수 선언\n",
    "\n",
    "for layer_index in num_layers_list:\n",
    "\n",
    "    globals()['layer{}_W_tmp'.format(layer_index)] = []\n",
    "    globals()['var_list_layer{}_w'.format(layer_index)] = []\n",
    "    globals()['var_list_layer{}_b'.format(layer_index)] = []\n",
    "  \n",
    "    for i in range(1, local):\n",
    "        globals()['var_list_layer{}_w'.format(layer_index)].append(np.var(globals()['L{}_layer{}_w'.format(i,layer_index)][0]))\n",
    "        globals()['var_list_layer{}_b'.format(layer_index)].append(np.var(globals()['L{}_layer{}_w'.format(i,layer_index)][1]))\n",
    "      \n",
    "        TMP_w = list(np.array(globals()['L{}_layer{}_w_tmp'.format(i,layer_index)][0]).reshape(-1))\n",
    "        TMP_b = list(np.array(globals()['L{}_layer{}_w_tmp'.format(i,layer_index)][1]).reshape(-1))\n",
    "        \n",
    "        TMP_w.extend(TMP_b) ##append 말고 더해야함..\n",
    "\n",
    "        TMP_w = np.array(TMP_w)\n",
    "        TMP_w = list(TMP_w.reshape(-1))\n",
    "        globals()['layer{}_W_tmp'.format(layer_index)].append(TMP_w)  #클러스터링 용도\n",
    "  \n",
    "\n",
    "    #----------------------------------------------------클러스터링 실시 -------------------------------------------------------------\n",
    "    silhoutte_score_w = []\n",
    "    transformed = globals()['layer{}_W_tmp'.format(layer_index)]\n",
    "\n",
    "    for clusters in range((int(local/2)-1)):       ####=>  이 범위 : 클러스터 갯수, 밑에 보면 cluster+2 있음 = 총 10개 => (0,11) = 10                                                       \n",
    "        kmeans_model_w = KMeans(n_clusters=clusters+2)   # 0, 1은 silhouette 에 안먹힘  \n",
    "\n",
    "        kmeans_model_w.fit(transformed)       #레이블 정의 \n",
    "\n",
    "        silhoutte_score_w.append(silhouette_score(globals()['layer{}_W_tmp'.format(layer_index)], kmeans_model_w.labels_, metric='euclidean'))  \n",
    "\n",
    "    num_clusters_for_w = np.argmax(silhoutte_score_w) \n",
    "    best_Sil_score_c.append(silhoutte_score_w[num_clusters_for_w])  # 처음에는 둘 다 넣어줌\n",
    "\n",
    "    kmeans_model_w = KMeans(n_clusters=num_clusters_for_w+2)   # 0, 1은 silhouette 에 안먹힘  \n",
    "\n",
    "    globals()['w_layer{}_label'.format(layer_index)] = kmeans_model_w.fit_predict(transformed)       # 가장 적합한 클러스터로 레이어에 속한 로컬들 레이블 정의 \n",
    "\n",
    "    globals()['G{}_num_clusters_in_layer{}_w'.format(global_epoch, layer_index)] = num_clusters_for_w + 2  #나중에 몇개로 나뉘었는지 알아야 함 = num_clusters_for_w이거 그대로 하면 밑에 저게 쓸일이 많아서 global 쓰면 코딩이 너무 번잡해짐;; \n",
    "    \n",
    "    label_list.append(globals()['w_layer{}_label'.format(layer_index)])                 \n",
    "    print(\"Layer : \", layer_index, \"  클러스터 갯수 정해짐!  갯수 : \", globals()['G{}_num_clusters_in_layer{}_w'.format(global_epoch, layer_index)], num_clusters_for_w) ########################################################******************************************\n",
    "\n",
    "    # ==========> 클러스터 갯수 정해짐\n",
    "\n",
    "\n",
    "    #----------------------------------------------- 스케일링  ---------------------------------------------------------------------\n",
    "    for num_c_w in range(num_clusters_for_w+2): #클러스터 갯수 (num_clusters_for_w) 만큼 클러스터용 = 클러스터 갯수가 3이 나왔으면 3개를 만들어야 함\n",
    "        globals()['G{}_c{}_w_layer{}'.format(global_epoch, num_c_w, layer_index)] = 0  #각각 cluster, Act+cluster 용도  \n",
    "        \n",
    "        globals()['w_scaler_c{}_sum'.format(num_c_w)], globals()['int_c{}_w'.format(num_c_w)] = 0, 0 #초기화\n",
    "    \n",
    "        for i in range(1, local):\n",
    "            if globals()['w_layer{}_label'.format(layer_index)][i-1] == num_c_w  : # 클러스터 레이블에 맞게 (0 or 1 or 2 ..) \n",
    "                globals()['w_scaler_c{}_sum'.format(num_c_w)] = globals()['w_scaler_c{}_sum'.format(num_c_w)] + len(globals()['L{}_x_train'.format(i)])\n",
    "\n",
    "                globals()['G{}_c{}_w_layer{}'.format(global_epoch, num_c_w, layer_index)] = globals()['G{}_c{}_w_layer{}'.format(global_epoch, num_c_w, layer_index)] + np.array(globals()['L{}_layer{}_w'.format(i,layer_index)])          # 일반 클러스터링\n",
    "                \n",
    "                globals()['int_c{}_w'.format(num_c_w)] = globals()['int_c{}_w'.format(num_c_w)] + 1\n",
    "\n",
    "        globals()['w_scaler{}'.format(num_c_w)] = len(globals()['L{}_x_train'.format(i)]) / globals()['w_scaler_c{}_sum'.format(num_c_w)]\n",
    "        globals()['G{}_c{}_w_layer{}'.format(global_epoch, num_c_w, layer_index)] = globals()['G{}_c{}_w_layer{}'.format(global_epoch, num_c_w, layer_index)] / globals()['int_c{}_w'.format(num_c_w)] #레이어 별 클러스터 자기 갯수만큼 나눠주기=평균\n",
    "\n",
    "    \n",
    "    VAR_final_list_w.append(globals()['var_list_layer{}_w'.format(layer_index)])\n",
    "    VAR_final_list_b.append(globals()['var_list_layer{}_b'.format(layer_index)])\n",
    "\n",
    "#---------------------------------------------------------메모리 삭제-------------------------------------------------------------------\n",
    "\n",
    "transformed = 0\n",
    "Silhouette_sc_c.append(best_Sil_score_c)\n",
    "Cluster_ACC.append(cluster_acc)\n",
    "Cluster_LOSS.append(cluster_loss)\n"
   ]
  },
  {
   "cell_type": "code",
   "execution_count": 8,
   "metadata": {
    "colab": {
     "base_uri": "https://localhost:8080/"
    },
    "executionInfo": {
     "elapsed": 984240,
     "status": "ok",
     "timestamp": 1627663392148,
     "user": {
      "displayName": "이훈민",
      "photoUrl": "",
      "userId": "00157268181097362793"
     },
     "user_tz": 240
    },
    "id": "T6GDN301TefI",
    "outputId": "b41f1360-a8db-4f78-9d68-708195e50031",
    "scrolled": true
   },
   "outputs": [
    {
     "name": "stdout",
     "output_type": "stream",
     "text": [
      "1  번째 global_epoch 데이터 랜덤하게 준비!!\n",
      "1  번째 global_epoch 데이터 랜덤 준비완료!!\n",
      "\n",
      "\n",
      "1  번째 global epoch에서 로컬 클라이언트 들 학습시작!\n",
      "\n",
      "학습 중 ...\n",
      "\n",
      "16/16 - 0s - loss: 1.6520 - accuracy: 0.3740\n",
      "16/16 - 0s - loss: 1.7293 - accuracy: 0.3060\n",
      "16/16 - 0s - loss: 1.6897 - accuracy: 0.3920\n",
      "16/16 - 0s - loss: 1.6443 - accuracy: 0.4220\n",
      "16/16 - 0s - loss: 1.6869 - accuracy: 0.3660\n",
      "16/16 - 0s - loss: 1.4989 - accuracy: 0.4560\n",
      "16/16 - 0s - loss: 1.7140 - accuracy: 0.3580\n",
      "16/16 - 0s - loss: 1.6454 - accuracy: 0.3740\n",
      "16/16 - 0s - loss: 1.6819 - accuracy: 0.3960\n",
      "16/16 - 0s - loss: 1.7296 - accuracy: 0.3660\n",
      "16/16 - 0s - loss: 1.6980 - accuracy: 0.3780\n",
      "16/16 - 0s - loss: 1.6806 - accuracy: 0.3900\n",
      "16/16 - 0s - loss: 1.6927 - accuracy: 0.3560\n",
      "16/16 - 0s - loss: 1.7508 - accuracy: 0.3240\n",
      "16/16 - 0s - loss: 1.6659 - accuracy: 0.3480\n",
      "16/16 - 0s - loss: 1.6864 - accuracy: 0.3720\n",
      "16/16 - 0s - loss: 1.6785 - accuracy: 0.4020\n",
      "16/16 - 0s - loss: 1.6268 - accuracy: 0.3880\n",
      "16/16 - 0s - loss: 1.6764 - accuracy: 0.3880\n",
      "16/16 - 0s - loss: 1.6842 - accuracy: 0.3540\n",
      "------------    1  번째 global epoch < Clustering > 로컬 클라이언트 학습 완료!,  Total Training time :  219.19058847427368 ---------------------------\n",
      "\n",
      "\n",
      "Layer :  0   클러스터 갯수 정해짐!  갯수 :  2 0\n"
     ]
    },
    {
     "name": "stderr",
     "output_type": "stream",
     "text": [
      "<ipython-input-8-506962b8e734>:141: VisibleDeprecationWarning: Creating an ndarray from ragged nested sequences (which is a list-or-tuple of lists-or-tuples-or ndarrays with different lengths or shapes) is deprecated. If you meant to do this, you must specify 'dtype=object' when creating the ndarray\n",
      "  globals()['G{}_c{}_w_layer{}'.format(global_epoch, num_c_w, layer_index)] = globals()['G{}_c{}_w_layer{}'.format(global_epoch, num_c_w, layer_index)] + np.array(globals()['L{}_layer{}_w_c'.format(i,layer_index)])   # 일반 클러스터링\n"
     ]
    },
    {
     "name": "stdout",
     "output_type": "stream",
     "text": [
      "Layer :  2   클러스터 갯수 정해짐!  갯수 :  2 0\n"
     ]
    },
    {
     "name": "stderr",
     "output_type": "stream",
     "text": [
      "<ipython-input-8-506962b8e734>:141: VisibleDeprecationWarning: Creating an ndarray from ragged nested sequences (which is a list-or-tuple of lists-or-tuples-or ndarrays with different lengths or shapes) is deprecated. If you meant to do this, you must specify 'dtype=object' when creating the ndarray\n",
      "  globals()['G{}_c{}_w_layer{}'.format(global_epoch, num_c_w, layer_index)] = globals()['G{}_c{}_w_layer{}'.format(global_epoch, num_c_w, layer_index)] + np.array(globals()['L{}_layer{}_w_c'.format(i,layer_index)])   # 일반 클러스터링\n"
     ]
    },
    {
     "name": "stdout",
     "output_type": "stream",
     "text": [
      "Layer :  4   클러스터 갯수 정해짐!  갯수 :  2 0\n"
     ]
    },
    {
     "name": "stderr",
     "output_type": "stream",
     "text": [
      "<ipython-input-8-506962b8e734>:141: VisibleDeprecationWarning: Creating an ndarray from ragged nested sequences (which is a list-or-tuple of lists-or-tuples-or ndarrays with different lengths or shapes) is deprecated. If you meant to do this, you must specify 'dtype=object' when creating the ndarray\n",
      "  globals()['G{}_c{}_w_layer{}'.format(global_epoch, num_c_w, layer_index)] = globals()['G{}_c{}_w_layer{}'.format(global_epoch, num_c_w, layer_index)] + np.array(globals()['L{}_layer{}_w_c'.format(i,layer_index)])   # 일반 클러스터링\n"
     ]
    },
    {
     "name": "stdout",
     "output_type": "stream",
     "text": [
      "Layer :  6   클러스터 갯수 정해짐!  갯수 :  2 0\n"
     ]
    },
    {
     "name": "stderr",
     "output_type": "stream",
     "text": [
      "<ipython-input-8-506962b8e734>:141: VisibleDeprecationWarning: Creating an ndarray from ragged nested sequences (which is a list-or-tuple of lists-or-tuples-or ndarrays with different lengths or shapes) is deprecated. If you meant to do this, you must specify 'dtype=object' when creating the ndarray\n",
      "  globals()['G{}_c{}_w_layer{}'.format(global_epoch, num_c_w, layer_index)] = globals()['G{}_c{}_w_layer{}'.format(global_epoch, num_c_w, layer_index)] + np.array(globals()['L{}_layer{}_w_c'.format(i,layer_index)])   # 일반 클러스터링\n"
     ]
    },
    {
     "name": "stdout",
     "output_type": "stream",
     "text": [
      "Layer :  7   클러스터 갯수 정해짐!  갯수 :  2 0\n",
      "\n",
      "\n",
      "====================================================== One Global Epoch =====================================================================\n",
      "\n",
      "\n",
      "2  번째 global_epoch 데이터 랜덤하게 준비!!\n"
     ]
    },
    {
     "name": "stderr",
     "output_type": "stream",
     "text": [
      "<ipython-input-8-506962b8e734>:141: VisibleDeprecationWarning: Creating an ndarray from ragged nested sequences (which is a list-or-tuple of lists-or-tuples-or ndarrays with different lengths or shapes) is deprecated. If you meant to do this, you must specify 'dtype=object' when creating the ndarray\n",
      "  globals()['G{}_c{}_w_layer{}'.format(global_epoch, num_c_w, layer_index)] = globals()['G{}_c{}_w_layer{}'.format(global_epoch, num_c_w, layer_index)] + np.array(globals()['L{}_layer{}_w_c'.format(i,layer_index)])   # 일반 클러스터링\n"
     ]
    },
    {
     "name": "stdout",
     "output_type": "stream",
     "text": [
      "2  번째 global_epoch 데이터 랜덤 준비완료!!\n",
      "\n",
      "\n",
      "2  번째 global epoch에서 로컬 클라이언트 들 학습시작!\n",
      "\n",
      "학습 중 ...\n",
      "\n",
      "16/16 - 0s - loss: 1.5727 - accuracy: 0.4040\n",
      "16/16 - 0s - loss: 1.7628 - accuracy: 0.3780\n",
      "16/16 - 0s - loss: 1.6955 - accuracy: 0.4180\n",
      "16/16 - 0s - loss: 1.6803 - accuracy: 0.3580\n",
      "16/16 - 0s - loss: 1.5794 - accuracy: 0.3920\n",
      "16/16 - 0s - loss: 1.4414 - accuracy: 0.4720\n",
      "16/16 - 0s - loss: 1.6464 - accuracy: 0.4020\n",
      "16/16 - 0s - loss: 1.5171 - accuracy: 0.4220\n",
      "16/16 - 0s - loss: 1.7954 - accuracy: 0.3300\n",
      "16/16 - 0s - loss: 1.6136 - accuracy: 0.4260\n",
      "16/16 - 0s - loss: 1.6075 - accuracy: 0.4080\n",
      "16/16 - 0s - loss: 1.6469 - accuracy: 0.4000\n",
      "16/16 - 0s - loss: 1.5644 - accuracy: 0.4140\n",
      "16/16 - 0s - loss: 1.5777 - accuracy: 0.4380\n",
      "16/16 - 0s - loss: 1.5707 - accuracy: 0.4500\n",
      "16/16 - 0s - loss: 1.6208 - accuracy: 0.4140\n",
      "16/16 - 0s - loss: 1.7324 - accuracy: 0.3520\n",
      "16/16 - 0s - loss: 1.5938 - accuracy: 0.4140\n",
      "16/16 - 0s - loss: 1.5427 - accuracy: 0.4360\n",
      "16/16 - 0s - loss: 1.7006 - accuracy: 0.3960\n",
      "------------    2  번째 global epoch < Clustering > 로컬 클라이언트 학습 완료!,  Total Training time :  211.23114228248596 ---------------------------\n",
      "\n",
      "\n",
      "Layer :  0   클러스터 갯수 정해짐!  갯수 :  2 0\n"
     ]
    },
    {
     "name": "stderr",
     "output_type": "stream",
     "text": [
      "<ipython-input-8-506962b8e734>:141: VisibleDeprecationWarning: Creating an ndarray from ragged nested sequences (which is a list-or-tuple of lists-or-tuples-or ndarrays with different lengths or shapes) is deprecated. If you meant to do this, you must specify 'dtype=object' when creating the ndarray\n",
      "  globals()['G{}_c{}_w_layer{}'.format(global_epoch, num_c_w, layer_index)] = globals()['G{}_c{}_w_layer{}'.format(global_epoch, num_c_w, layer_index)] + np.array(globals()['L{}_layer{}_w_c'.format(i,layer_index)])   # 일반 클러스터링\n"
     ]
    },
    {
     "name": "stdout",
     "output_type": "stream",
     "text": [
      "Layer :  2   클러스터 갯수 정해짐!  갯수 :  2 0\n"
     ]
    },
    {
     "name": "stderr",
     "output_type": "stream",
     "text": [
      "<ipython-input-8-506962b8e734>:141: VisibleDeprecationWarning: Creating an ndarray from ragged nested sequences (which is a list-or-tuple of lists-or-tuples-or ndarrays with different lengths or shapes) is deprecated. If you meant to do this, you must specify 'dtype=object' when creating the ndarray\n",
      "  globals()['G{}_c{}_w_layer{}'.format(global_epoch, num_c_w, layer_index)] = globals()['G{}_c{}_w_layer{}'.format(global_epoch, num_c_w, layer_index)] + np.array(globals()['L{}_layer{}_w_c'.format(i,layer_index)])   # 일반 클러스터링\n"
     ]
    },
    {
     "name": "stdout",
     "output_type": "stream",
     "text": [
      "Layer :  4   클러스터 갯수 정해짐!  갯수 :  2 0\n"
     ]
    },
    {
     "name": "stderr",
     "output_type": "stream",
     "text": [
      "<ipython-input-8-506962b8e734>:141: VisibleDeprecationWarning: Creating an ndarray from ragged nested sequences (which is a list-or-tuple of lists-or-tuples-or ndarrays with different lengths or shapes) is deprecated. If you meant to do this, you must specify 'dtype=object' when creating the ndarray\n",
      "  globals()['G{}_c{}_w_layer{}'.format(global_epoch, num_c_w, layer_index)] = globals()['G{}_c{}_w_layer{}'.format(global_epoch, num_c_w, layer_index)] + np.array(globals()['L{}_layer{}_w_c'.format(i,layer_index)])   # 일반 클러스터링\n"
     ]
    },
    {
     "name": "stdout",
     "output_type": "stream",
     "text": [
      "Layer :  6   클러스터 갯수 정해짐!  갯수 :  2 0\n"
     ]
    },
    {
     "name": "stderr",
     "output_type": "stream",
     "text": [
      "<ipython-input-8-506962b8e734>:141: VisibleDeprecationWarning: Creating an ndarray from ragged nested sequences (which is a list-or-tuple of lists-or-tuples-or ndarrays with different lengths or shapes) is deprecated. If you meant to do this, you must specify 'dtype=object' when creating the ndarray\n",
      "  globals()['G{}_c{}_w_layer{}'.format(global_epoch, num_c_w, layer_index)] = globals()['G{}_c{}_w_layer{}'.format(global_epoch, num_c_w, layer_index)] + np.array(globals()['L{}_layer{}_w_c'.format(i,layer_index)])   # 일반 클러스터링\n"
     ]
    },
    {
     "name": "stdout",
     "output_type": "stream",
     "text": [
      "Layer :  7   클러스터 갯수 정해짐!  갯수 :  2 0\n",
      "\n",
      "\n",
      "====================================================== One Global Epoch =====================================================================\n",
      "\n",
      "\n",
      "3  번째 global_epoch 데이터 랜덤하게 준비!!\n"
     ]
    },
    {
     "name": "stderr",
     "output_type": "stream",
     "text": [
      "<ipython-input-8-506962b8e734>:141: VisibleDeprecationWarning: Creating an ndarray from ragged nested sequences (which is a list-or-tuple of lists-or-tuples-or ndarrays with different lengths or shapes) is deprecated. If you meant to do this, you must specify 'dtype=object' when creating the ndarray\n",
      "  globals()['G{}_c{}_w_layer{}'.format(global_epoch, num_c_w, layer_index)] = globals()['G{}_c{}_w_layer{}'.format(global_epoch, num_c_w, layer_index)] + np.array(globals()['L{}_layer{}_w_c'.format(i,layer_index)])   # 일반 클러스터링\n"
     ]
    },
    {
     "name": "stdout",
     "output_type": "stream",
     "text": [
      "3  번째 global_epoch 데이터 랜덤 준비완료!!\n",
      "\n",
      "\n",
      "3  번째 global epoch에서 로컬 클라이언트 들 학습시작!\n",
      "\n",
      "학습 중 ...\n",
      "\n",
      "16/16 - 0s - loss: 1.5087 - accuracy: 0.4760\n",
      "16/16 - 0s - loss: 1.5044 - accuracy: 0.4520\n",
      "16/16 - 0s - loss: 1.5147 - accuracy: 0.4600\n",
      "16/16 - 0s - loss: 1.4436 - accuracy: 0.4640\n",
      "16/16 - 0s - loss: 1.4764 - accuracy: 0.4600\n",
      "16/16 - 0s - loss: 1.6397 - accuracy: 0.4100\n",
      "16/16 - 0s - loss: 1.6451 - accuracy: 0.4140\n",
      "16/16 - 0s - loss: 1.4187 - accuracy: 0.4740\n",
      "16/16 - 0s - loss: 1.5723 - accuracy: 0.4460\n",
      "16/16 - 0s - loss: 1.5545 - accuracy: 0.4420\n",
      "16/16 - 0s - loss: 1.5718 - accuracy: 0.4180\n",
      "16/16 - 0s - loss: 1.4103 - accuracy: 0.4820\n",
      "16/16 - 0s - loss: 1.4480 - accuracy: 0.4480\n",
      "16/16 - 0s - loss: 1.4797 - accuracy: 0.4620\n",
      "16/16 - 0s - loss: 1.4447 - accuracy: 0.4540\n",
      "16/16 - 0s - loss: 1.4896 - accuracy: 0.4660\n",
      "16/16 - 0s - loss: 1.5680 - accuracy: 0.4240\n",
      "16/16 - 0s - loss: 1.5429 - accuracy: 0.4360\n",
      "16/16 - 0s - loss: 1.5902 - accuracy: 0.4060\n",
      "16/16 - 0s - loss: 1.4799 - accuracy: 0.4880\n",
      "------------    3  번째 global epoch < Clustering > 로컬 클라이언트 학습 완료!,  Total Training time :  220.16100001335144 ---------------------------\n",
      "\n",
      "\n",
      "Layer :  0   클러스터 갯수 정해짐!  갯수 :  2 0\n"
     ]
    },
    {
     "name": "stderr",
     "output_type": "stream",
     "text": [
      "<ipython-input-8-506962b8e734>:141: VisibleDeprecationWarning: Creating an ndarray from ragged nested sequences (which is a list-or-tuple of lists-or-tuples-or ndarrays with different lengths or shapes) is deprecated. If you meant to do this, you must specify 'dtype=object' when creating the ndarray\n",
      "  globals()['G{}_c{}_w_layer{}'.format(global_epoch, num_c_w, layer_index)] = globals()['G{}_c{}_w_layer{}'.format(global_epoch, num_c_w, layer_index)] + np.array(globals()['L{}_layer{}_w_c'.format(i,layer_index)])   # 일반 클러스터링\n"
     ]
    },
    {
     "name": "stdout",
     "output_type": "stream",
     "text": [
      "Layer :  2   클러스터 갯수 정해짐!  갯수 :  2 0\n"
     ]
    },
    {
     "name": "stderr",
     "output_type": "stream",
     "text": [
      "<ipython-input-8-506962b8e734>:141: VisibleDeprecationWarning: Creating an ndarray from ragged nested sequences (which is a list-or-tuple of lists-or-tuples-or ndarrays with different lengths or shapes) is deprecated. If you meant to do this, you must specify 'dtype=object' when creating the ndarray\n",
      "  globals()['G{}_c{}_w_layer{}'.format(global_epoch, num_c_w, layer_index)] = globals()['G{}_c{}_w_layer{}'.format(global_epoch, num_c_w, layer_index)] + np.array(globals()['L{}_layer{}_w_c'.format(i,layer_index)])   # 일반 클러스터링\n"
     ]
    },
    {
     "name": "stdout",
     "output_type": "stream",
     "text": [
      "Layer :  4   클러스터 갯수 정해짐!  갯수 :  2 0\n"
     ]
    },
    {
     "name": "stderr",
     "output_type": "stream",
     "text": [
      "<ipython-input-8-506962b8e734>:141: VisibleDeprecationWarning: Creating an ndarray from ragged nested sequences (which is a list-or-tuple of lists-or-tuples-or ndarrays with different lengths or shapes) is deprecated. If you meant to do this, you must specify 'dtype=object' when creating the ndarray\n",
      "  globals()['G{}_c{}_w_layer{}'.format(global_epoch, num_c_w, layer_index)] = globals()['G{}_c{}_w_layer{}'.format(global_epoch, num_c_w, layer_index)] + np.array(globals()['L{}_layer{}_w_c'.format(i,layer_index)])   # 일반 클러스터링\n"
     ]
    },
    {
     "name": "stdout",
     "output_type": "stream",
     "text": [
      "Layer :  6   클러스터 갯수 정해짐!  갯수 :  2 0\n"
     ]
    },
    {
     "name": "stderr",
     "output_type": "stream",
     "text": [
      "<ipython-input-8-506962b8e734>:141: VisibleDeprecationWarning: Creating an ndarray from ragged nested sequences (which is a list-or-tuple of lists-or-tuples-or ndarrays with different lengths or shapes) is deprecated. If you meant to do this, you must specify 'dtype=object' when creating the ndarray\n",
      "  globals()['G{}_c{}_w_layer{}'.format(global_epoch, num_c_w, layer_index)] = globals()['G{}_c{}_w_layer{}'.format(global_epoch, num_c_w, layer_index)] + np.array(globals()['L{}_layer{}_w_c'.format(i,layer_index)])   # 일반 클러스터링\n"
     ]
    },
    {
     "name": "stdout",
     "output_type": "stream",
     "text": [
      "Layer :  7   클러스터 갯수 정해짐!  갯수 :  2 0\n",
      "\n",
      "\n",
      "====================================================== One Global Epoch =====================================================================\n",
      "\n",
      "\n",
      "4  번째 global_epoch 데이터 랜덤하게 준비!!\n"
     ]
    },
    {
     "name": "stderr",
     "output_type": "stream",
     "text": [
      "<ipython-input-8-506962b8e734>:141: VisibleDeprecationWarning: Creating an ndarray from ragged nested sequences (which is a list-or-tuple of lists-or-tuples-or ndarrays with different lengths or shapes) is deprecated. If you meant to do this, you must specify 'dtype=object' when creating the ndarray\n",
      "  globals()['G{}_c{}_w_layer{}'.format(global_epoch, num_c_w, layer_index)] = globals()['G{}_c{}_w_layer{}'.format(global_epoch, num_c_w, layer_index)] + np.array(globals()['L{}_layer{}_w_c'.format(i,layer_index)])   # 일반 클러스터링\n"
     ]
    },
    {
     "name": "stdout",
     "output_type": "stream",
     "text": [
      "4  번째 global_epoch 데이터 랜덤 준비완료!!\n",
      "\n",
      "\n",
      "4  번째 global epoch에서 로컬 클라이언트 들 학습시작!\n",
      "\n",
      "학습 중 ...\n",
      "\n",
      "16/16 - 0s - loss: 1.4176 - accuracy: 0.5020\n",
      "16/16 - 0s - loss: 1.4039 - accuracy: 0.4860\n",
      "16/16 - 0s - loss: 1.5035 - accuracy: 0.4460\n",
      "16/16 - 0s - loss: 1.5023 - accuracy: 0.4920\n",
      "16/16 - 0s - loss: 1.3991 - accuracy: 0.5040\n",
      "16/16 - 0s - loss: 1.3738 - accuracy: 0.5100\n",
      "16/16 - 0s - loss: 1.4606 - accuracy: 0.4680\n",
      "16/16 - 0s - loss: 1.5036 - accuracy: 0.4820\n",
      "16/16 - 0s - loss: 1.5105 - accuracy: 0.4600\n",
      "16/16 - 0s - loss: 1.4369 - accuracy: 0.5040\n",
      "16/16 - 0s - loss: 1.4258 - accuracy: 0.4920\n",
      "16/16 - 0s - loss: 1.4611 - accuracy: 0.4920\n",
      "16/16 - 0s - loss: 1.5449 - accuracy: 0.4540\n",
      "16/16 - 0s - loss: 1.6216 - accuracy: 0.4260\n",
      "16/16 - 0s - loss: 1.4475 - accuracy: 0.4800\n",
      "16/16 - 0s - loss: 1.3442 - accuracy: 0.5000\n",
      "16/16 - 0s - loss: 1.6856 - accuracy: 0.4440\n",
      "16/16 - 0s - loss: 1.4387 - accuracy: 0.5020\n",
      "16/16 - 0s - loss: 1.4984 - accuracy: 0.4520\n",
      "16/16 - 0s - loss: 1.4937 - accuracy: 0.4740\n",
      "------------    4  번째 global epoch < Clustering > 로컬 클라이언트 학습 완료!,  Total Training time :  224.61870408058167 ---------------------------\n",
      "\n",
      "\n",
      "Layer :  0   클러스터 갯수 정해짐!  갯수 :  2 0\n"
     ]
    },
    {
     "name": "stderr",
     "output_type": "stream",
     "text": [
      "<ipython-input-8-506962b8e734>:141: VisibleDeprecationWarning: Creating an ndarray from ragged nested sequences (which is a list-or-tuple of lists-or-tuples-or ndarrays with different lengths or shapes) is deprecated. If you meant to do this, you must specify 'dtype=object' when creating the ndarray\n",
      "  globals()['G{}_c{}_w_layer{}'.format(global_epoch, num_c_w, layer_index)] = globals()['G{}_c{}_w_layer{}'.format(global_epoch, num_c_w, layer_index)] + np.array(globals()['L{}_layer{}_w_c'.format(i,layer_index)])   # 일반 클러스터링\n"
     ]
    },
    {
     "name": "stdout",
     "output_type": "stream",
     "text": [
      "Layer :  2   클러스터 갯수 정해짐!  갯수 :  2 0\n"
     ]
    },
    {
     "name": "stderr",
     "output_type": "stream",
     "text": [
      "<ipython-input-8-506962b8e734>:141: VisibleDeprecationWarning: Creating an ndarray from ragged nested sequences (which is a list-or-tuple of lists-or-tuples-or ndarrays with different lengths or shapes) is deprecated. If you meant to do this, you must specify 'dtype=object' when creating the ndarray\n",
      "  globals()['G{}_c{}_w_layer{}'.format(global_epoch, num_c_w, layer_index)] = globals()['G{}_c{}_w_layer{}'.format(global_epoch, num_c_w, layer_index)] + np.array(globals()['L{}_layer{}_w_c'.format(i,layer_index)])   # 일반 클러스터링\n"
     ]
    },
    {
     "name": "stdout",
     "output_type": "stream",
     "text": [
      "Layer :  4   클러스터 갯수 정해짐!  갯수 :  2 0\n"
     ]
    },
    {
     "name": "stderr",
     "output_type": "stream",
     "text": [
      "<ipython-input-8-506962b8e734>:141: VisibleDeprecationWarning: Creating an ndarray from ragged nested sequences (which is a list-or-tuple of lists-or-tuples-or ndarrays with different lengths or shapes) is deprecated. If you meant to do this, you must specify 'dtype=object' when creating the ndarray\n",
      "  globals()['G{}_c{}_w_layer{}'.format(global_epoch, num_c_w, layer_index)] = globals()['G{}_c{}_w_layer{}'.format(global_epoch, num_c_w, layer_index)] + np.array(globals()['L{}_layer{}_w_c'.format(i,layer_index)])   # 일반 클러스터링\n"
     ]
    },
    {
     "name": "stdout",
     "output_type": "stream",
     "text": [
      "Layer :  6   클러스터 갯수 정해짐!  갯수 :  2 0\n"
     ]
    },
    {
     "name": "stderr",
     "output_type": "stream",
     "text": [
      "<ipython-input-8-506962b8e734>:141: VisibleDeprecationWarning: Creating an ndarray from ragged nested sequences (which is a list-or-tuple of lists-or-tuples-or ndarrays with different lengths or shapes) is deprecated. If you meant to do this, you must specify 'dtype=object' when creating the ndarray\n",
      "  globals()['G{}_c{}_w_layer{}'.format(global_epoch, num_c_w, layer_index)] = globals()['G{}_c{}_w_layer{}'.format(global_epoch, num_c_w, layer_index)] + np.array(globals()['L{}_layer{}_w_c'.format(i,layer_index)])   # 일반 클러스터링\n"
     ]
    },
    {
     "name": "stdout",
     "output_type": "stream",
     "text": [
      "Layer :  7   클러스터 갯수 정해짐!  갯수 :  2 0\n",
      "\n",
      "\n",
      "====================================================== One Global Epoch =====================================================================\n",
      "\n",
      "\n",
      "5  번째 global_epoch 데이터 랜덤하게 준비!!\n"
     ]
    },
    {
     "name": "stderr",
     "output_type": "stream",
     "text": [
      "<ipython-input-8-506962b8e734>:141: VisibleDeprecationWarning: Creating an ndarray from ragged nested sequences (which is a list-or-tuple of lists-or-tuples-or ndarrays with different lengths or shapes) is deprecated. If you meant to do this, you must specify 'dtype=object' when creating the ndarray\n",
      "  globals()['G{}_c{}_w_layer{}'.format(global_epoch, num_c_w, layer_index)] = globals()['G{}_c{}_w_layer{}'.format(global_epoch, num_c_w, layer_index)] + np.array(globals()['L{}_layer{}_w_c'.format(i,layer_index)])   # 일반 클러스터링\n"
     ]
    },
    {
     "name": "stdout",
     "output_type": "stream",
     "text": [
      "5  번째 global_epoch 데이터 랜덤 준비완료!!\n",
      "\n",
      "\n",
      "5  번째 global epoch에서 로컬 클라이언트 들 학습시작!\n",
      "\n",
      "학습 중 ...\n",
      "\n",
      "16/16 - 0s - loss: 1.6329 - accuracy: 0.4960\n",
      "16/16 - 0s - loss: 1.2979 - accuracy: 0.5300\n",
      "16/16 - 0s - loss: 1.2953 - accuracy: 0.5420\n",
      "16/16 - 0s - loss: 1.4069 - accuracy: 0.4980\n",
      "16/16 - 0s - loss: 1.5239 - accuracy: 0.4940\n",
      "16/16 - 0s - loss: 1.3763 - accuracy: 0.5160\n",
      "16/16 - 0s - loss: 1.4969 - accuracy: 0.5060\n",
      "16/16 - 0s - loss: 1.4133 - accuracy: 0.5340\n",
      "16/16 - 0s - loss: 1.4797 - accuracy: 0.5080\n",
      "16/16 - 0s - loss: 1.4593 - accuracy: 0.5240\n",
      "16/16 - 0s - loss: 1.3583 - accuracy: 0.5320\n",
      "16/16 - 0s - loss: 1.3926 - accuracy: 0.4900\n",
      "16/16 - 0s - loss: 1.3789 - accuracy: 0.5100\n",
      "16/16 - 0s - loss: 1.3360 - accuracy: 0.5720\n",
      "16/16 - 0s - loss: 1.4531 - accuracy: 0.5160\n",
      "16/16 - 0s - loss: 1.5442 - accuracy: 0.5080\n",
      "16/16 - 0s - loss: 1.2687 - accuracy: 0.5400\n",
      "16/16 - 0s - loss: 1.4687 - accuracy: 0.5000\n",
      "16/16 - 0s - loss: 1.4819 - accuracy: 0.5140\n",
      "16/16 - 0s - loss: 1.5725 - accuracy: 0.4860\n",
      "------------    5  번째 global epoch < Clustering > 로컬 클라이언트 학습 완료!,  Total Training time :  227.04052305221558 ---------------------------\n",
      "\n",
      "\n",
      "Layer :  0   클러스터 갯수 정해짐!  갯수 :  2 0\n"
     ]
    },
    {
     "name": "stderr",
     "output_type": "stream",
     "text": [
      "<ipython-input-8-506962b8e734>:141: VisibleDeprecationWarning: Creating an ndarray from ragged nested sequences (which is a list-or-tuple of lists-or-tuples-or ndarrays with different lengths or shapes) is deprecated. If you meant to do this, you must specify 'dtype=object' when creating the ndarray\n",
      "  globals()['G{}_c{}_w_layer{}'.format(global_epoch, num_c_w, layer_index)] = globals()['G{}_c{}_w_layer{}'.format(global_epoch, num_c_w, layer_index)] + np.array(globals()['L{}_layer{}_w_c'.format(i,layer_index)])   # 일반 클러스터링\n"
     ]
    },
    {
     "name": "stdout",
     "output_type": "stream",
     "text": [
      "Layer :  2   클러스터 갯수 정해짐!  갯수 :  2 0\n"
     ]
    },
    {
     "name": "stderr",
     "output_type": "stream",
     "text": [
      "<ipython-input-8-506962b8e734>:141: VisibleDeprecationWarning: Creating an ndarray from ragged nested sequences (which is a list-or-tuple of lists-or-tuples-or ndarrays with different lengths or shapes) is deprecated. If you meant to do this, you must specify 'dtype=object' when creating the ndarray\n",
      "  globals()['G{}_c{}_w_layer{}'.format(global_epoch, num_c_w, layer_index)] = globals()['G{}_c{}_w_layer{}'.format(global_epoch, num_c_w, layer_index)] + np.array(globals()['L{}_layer{}_w_c'.format(i,layer_index)])   # 일반 클러스터링\n"
     ]
    },
    {
     "name": "stdout",
     "output_type": "stream",
     "text": [
      "Layer :  4   클러스터 갯수 정해짐!  갯수 :  2 0\n"
     ]
    },
    {
     "name": "stderr",
     "output_type": "stream",
     "text": [
      "<ipython-input-8-506962b8e734>:141: VisibleDeprecationWarning: Creating an ndarray from ragged nested sequences (which is a list-or-tuple of lists-or-tuples-or ndarrays with different lengths or shapes) is deprecated. If you meant to do this, you must specify 'dtype=object' when creating the ndarray\n",
      "  globals()['G{}_c{}_w_layer{}'.format(global_epoch, num_c_w, layer_index)] = globals()['G{}_c{}_w_layer{}'.format(global_epoch, num_c_w, layer_index)] + np.array(globals()['L{}_layer{}_w_c'.format(i,layer_index)])   # 일반 클러스터링\n"
     ]
    },
    {
     "name": "stdout",
     "output_type": "stream",
     "text": [
      "Layer :  6   클러스터 갯수 정해짐!  갯수 :  2 0\n"
     ]
    },
    {
     "name": "stderr",
     "output_type": "stream",
     "text": [
      "<ipython-input-8-506962b8e734>:141: VisibleDeprecationWarning: Creating an ndarray from ragged nested sequences (which is a list-or-tuple of lists-or-tuples-or ndarrays with different lengths or shapes) is deprecated. If you meant to do this, you must specify 'dtype=object' when creating the ndarray\n",
      "  globals()['G{}_c{}_w_layer{}'.format(global_epoch, num_c_w, layer_index)] = globals()['G{}_c{}_w_layer{}'.format(global_epoch, num_c_w, layer_index)] + np.array(globals()['L{}_layer{}_w_c'.format(i,layer_index)])   # 일반 클러스터링\n"
     ]
    },
    {
     "name": "stdout",
     "output_type": "stream",
     "text": [
      "Layer :  7   클러스터 갯수 정해짐!  갯수 :  2 0\n",
      "\n",
      "\n",
      "====================================================== One Global Epoch =====================================================================\n",
      "\n",
      "\n",
      "6  번째 global_epoch 데이터 랜덤하게 준비!!\n"
     ]
    },
    {
     "name": "stderr",
     "output_type": "stream",
     "text": [
      "<ipython-input-8-506962b8e734>:141: VisibleDeprecationWarning: Creating an ndarray from ragged nested sequences (which is a list-or-tuple of lists-or-tuples-or ndarrays with different lengths or shapes) is deprecated. If you meant to do this, you must specify 'dtype=object' when creating the ndarray\n",
      "  globals()['G{}_c{}_w_layer{}'.format(global_epoch, num_c_w, layer_index)] = globals()['G{}_c{}_w_layer{}'.format(global_epoch, num_c_w, layer_index)] + np.array(globals()['L{}_layer{}_w_c'.format(i,layer_index)])   # 일반 클러스터링\n"
     ]
    },
    {
     "name": "stdout",
     "output_type": "stream",
     "text": [
      "6  번째 global_epoch 데이터 랜덤 준비완료!!\n",
      "\n",
      "\n",
      "6  번째 global epoch에서 로컬 클라이언트 들 학습시작!\n",
      "\n",
      "학습 중 ...\n",
      "\n",
      "16/16 - 0s - loss: 1.4424 - accuracy: 0.5400\n",
      "16/16 - 0s - loss: 1.4798 - accuracy: 0.5380\n",
      "16/16 - 0s - loss: 1.5158 - accuracy: 0.5120\n",
      "16/16 - 0s - loss: 1.4665 - accuracy: 0.4900\n",
      "16/16 - 0s - loss: 1.3403 - accuracy: 0.5680\n",
      "16/16 - 0s - loss: 1.5629 - accuracy: 0.5340\n",
      "16/16 - 0s - loss: 1.4595 - accuracy: 0.5360\n",
      "16/16 - 0s - loss: 1.3586 - accuracy: 0.5420\n",
      "16/16 - 0s - loss: 1.5167 - accuracy: 0.4960\n",
      "16/16 - 0s - loss: 1.3836 - accuracy: 0.5380\n",
      "16/16 - 0s - loss: 1.5553 - accuracy: 0.5020\n",
      "16/16 - 0s - loss: 1.4872 - accuracy: 0.4720\n",
      "16/16 - 0s - loss: 1.2481 - accuracy: 0.5800\n",
      "16/16 - 0s - loss: 1.3332 - accuracy: 0.5720\n",
      "16/16 - 0s - loss: 1.4176 - accuracy: 0.5160\n",
      "16/16 - 0s - loss: 1.3944 - accuracy: 0.5200\n",
      "16/16 - 0s - loss: 1.3713 - accuracy: 0.5580\n",
      "16/16 - 0s - loss: 1.4459 - accuracy: 0.5340\n",
      "16/16 - 0s - loss: 1.4699 - accuracy: 0.5280\n",
      "16/16 - 0s - loss: 1.4754 - accuracy: 0.5100\n",
      "------------    6  번째 global epoch < Clustering > 로컬 클라이언트 학습 완료!,  Total Training time :  233.12120532989502 ---------------------------\n",
      "\n",
      "\n",
      "Layer :  0   클러스터 갯수 정해짐!  갯수 :  2 0\n"
     ]
    },
    {
     "name": "stderr",
     "output_type": "stream",
     "text": [
      "<ipython-input-8-506962b8e734>:141: VisibleDeprecationWarning: Creating an ndarray from ragged nested sequences (which is a list-or-tuple of lists-or-tuples-or ndarrays with different lengths or shapes) is deprecated. If you meant to do this, you must specify 'dtype=object' when creating the ndarray\n",
      "  globals()['G{}_c{}_w_layer{}'.format(global_epoch, num_c_w, layer_index)] = globals()['G{}_c{}_w_layer{}'.format(global_epoch, num_c_w, layer_index)] + np.array(globals()['L{}_layer{}_w_c'.format(i,layer_index)])   # 일반 클러스터링\n"
     ]
    },
    {
     "name": "stdout",
     "output_type": "stream",
     "text": [
      "Layer :  2   클러스터 갯수 정해짐!  갯수 :  2 0\n"
     ]
    },
    {
     "name": "stderr",
     "output_type": "stream",
     "text": [
      "<ipython-input-8-506962b8e734>:141: VisibleDeprecationWarning: Creating an ndarray from ragged nested sequences (which is a list-or-tuple of lists-or-tuples-or ndarrays with different lengths or shapes) is deprecated. If you meant to do this, you must specify 'dtype=object' when creating the ndarray\n",
      "  globals()['G{}_c{}_w_layer{}'.format(global_epoch, num_c_w, layer_index)] = globals()['G{}_c{}_w_layer{}'.format(global_epoch, num_c_w, layer_index)] + np.array(globals()['L{}_layer{}_w_c'.format(i,layer_index)])   # 일반 클러스터링\n"
     ]
    },
    {
     "name": "stdout",
     "output_type": "stream",
     "text": [
      "Layer :  4   클러스터 갯수 정해짐!  갯수 :  2 0\n"
     ]
    },
    {
     "name": "stderr",
     "output_type": "stream",
     "text": [
      "<ipython-input-8-506962b8e734>:141: VisibleDeprecationWarning: Creating an ndarray from ragged nested sequences (which is a list-or-tuple of lists-or-tuples-or ndarrays with different lengths or shapes) is deprecated. If you meant to do this, you must specify 'dtype=object' when creating the ndarray\n",
      "  globals()['G{}_c{}_w_layer{}'.format(global_epoch, num_c_w, layer_index)] = globals()['G{}_c{}_w_layer{}'.format(global_epoch, num_c_w, layer_index)] + np.array(globals()['L{}_layer{}_w_c'.format(i,layer_index)])   # 일반 클러스터링\n"
     ]
    },
    {
     "name": "stdout",
     "output_type": "stream",
     "text": [
      "Layer :  6   클러스터 갯수 정해짐!  갯수 :  2 0\n"
     ]
    },
    {
     "name": "stderr",
     "output_type": "stream",
     "text": [
      "<ipython-input-8-506962b8e734>:141: VisibleDeprecationWarning: Creating an ndarray from ragged nested sequences (which is a list-or-tuple of lists-or-tuples-or ndarrays with different lengths or shapes) is deprecated. If you meant to do this, you must specify 'dtype=object' when creating the ndarray\n",
      "  globals()['G{}_c{}_w_layer{}'.format(global_epoch, num_c_w, layer_index)] = globals()['G{}_c{}_w_layer{}'.format(global_epoch, num_c_w, layer_index)] + np.array(globals()['L{}_layer{}_w_c'.format(i,layer_index)])   # 일반 클러스터링\n"
     ]
    },
    {
     "name": "stdout",
     "output_type": "stream",
     "text": [
      "Layer :  7   클러스터 갯수 정해짐!  갯수 :  2 0\n",
      "\n",
      "\n",
      "====================================================== One Global Epoch =====================================================================\n",
      "\n",
      "\n",
      "7  번째 global_epoch 데이터 랜덤하게 준비!!\n"
     ]
    },
    {
     "name": "stderr",
     "output_type": "stream",
     "text": [
      "<ipython-input-8-506962b8e734>:141: VisibleDeprecationWarning: Creating an ndarray from ragged nested sequences (which is a list-or-tuple of lists-or-tuples-or ndarrays with different lengths or shapes) is deprecated. If you meant to do this, you must specify 'dtype=object' when creating the ndarray\n",
      "  globals()['G{}_c{}_w_layer{}'.format(global_epoch, num_c_w, layer_index)] = globals()['G{}_c{}_w_layer{}'.format(global_epoch, num_c_w, layer_index)] + np.array(globals()['L{}_layer{}_w_c'.format(i,layer_index)])   # 일반 클러스터링\n"
     ]
    },
    {
     "name": "stdout",
     "output_type": "stream",
     "text": [
      "7  번째 global_epoch 데이터 랜덤 준비완료!!\n",
      "\n",
      "\n",
      "7  번째 global epoch에서 로컬 클라이언트 들 학습시작!\n",
      "\n",
      "학습 중 ...\n",
      "\n",
      "16/16 - 0s - loss: 1.4430 - accuracy: 0.5440\n",
      "16/16 - 0s - loss: 1.4335 - accuracy: 0.5660\n",
      "16/16 - 0s - loss: 1.5626 - accuracy: 0.5640\n",
      "16/16 - 0s - loss: 1.3684 - accuracy: 0.5540\n",
      "16/16 - 0s - loss: 1.4314 - accuracy: 0.5460\n",
      "16/16 - 0s - loss: 1.6159 - accuracy: 0.5260\n",
      "16/16 - 0s - loss: 1.5919 - accuracy: 0.5340\n",
      "16/16 - 0s - loss: 1.3544 - accuracy: 0.5720\n",
      "16/16 - 0s - loss: 1.4608 - accuracy: 0.5440\n",
      "16/16 - 0s - loss: 1.4474 - accuracy: 0.5580\n",
      "16/16 - 0s - loss: 1.4579 - accuracy: 0.5500\n",
      "16/16 - 0s - loss: 1.5137 - accuracy: 0.5240\n",
      "16/16 - 0s - loss: 1.5120 - accuracy: 0.5280\n",
      "16/16 - 0s - loss: 1.6152 - accuracy: 0.5160\n",
      "16/16 - 0s - loss: 1.6615 - accuracy: 0.5020\n",
      "16/16 - 0s - loss: 1.3245 - accuracy: 0.5660\n",
      "16/16 - 0s - loss: 1.4175 - accuracy: 0.5520\n",
      "16/16 - 0s - loss: 1.5978 - accuracy: 0.5360\n",
      "16/16 - 0s - loss: 1.4162 - accuracy: 0.5180\n",
      "16/16 - 0s - loss: 1.4502 - accuracy: 0.5540\n",
      "------------    7  번째 global epoch < Clustering > 로컬 클라이언트 학습 완료!,  Total Training time :  244.48533248901367 ---------------------------\n",
      "\n",
      "\n",
      "Layer :  0   클러스터 갯수 정해짐!  갯수 :  2 0\n"
     ]
    },
    {
     "name": "stderr",
     "output_type": "stream",
     "text": [
      "<ipython-input-8-506962b8e734>:141: VisibleDeprecationWarning: Creating an ndarray from ragged nested sequences (which is a list-or-tuple of lists-or-tuples-or ndarrays with different lengths or shapes) is deprecated. If you meant to do this, you must specify 'dtype=object' when creating the ndarray\n",
      "  globals()['G{}_c{}_w_layer{}'.format(global_epoch, num_c_w, layer_index)] = globals()['G{}_c{}_w_layer{}'.format(global_epoch, num_c_w, layer_index)] + np.array(globals()['L{}_layer{}_w_c'.format(i,layer_index)])   # 일반 클러스터링\n"
     ]
    },
    {
     "name": "stdout",
     "output_type": "stream",
     "text": [
      "Layer :  2   클러스터 갯수 정해짐!  갯수 :  2 0\n"
     ]
    },
    {
     "name": "stderr",
     "output_type": "stream",
     "text": [
      "<ipython-input-8-506962b8e734>:141: VisibleDeprecationWarning: Creating an ndarray from ragged nested sequences (which is a list-or-tuple of lists-or-tuples-or ndarrays with different lengths or shapes) is deprecated. If you meant to do this, you must specify 'dtype=object' when creating the ndarray\n",
      "  globals()['G{}_c{}_w_layer{}'.format(global_epoch, num_c_w, layer_index)] = globals()['G{}_c{}_w_layer{}'.format(global_epoch, num_c_w, layer_index)] + np.array(globals()['L{}_layer{}_w_c'.format(i,layer_index)])   # 일반 클러스터링\n"
     ]
    },
    {
     "name": "stdout",
     "output_type": "stream",
     "text": [
      "Layer :  4   클러스터 갯수 정해짐!  갯수 :  2 0\n"
     ]
    },
    {
     "name": "stderr",
     "output_type": "stream",
     "text": [
      "<ipython-input-8-506962b8e734>:141: VisibleDeprecationWarning: Creating an ndarray from ragged nested sequences (which is a list-or-tuple of lists-or-tuples-or ndarrays with different lengths or shapes) is deprecated. If you meant to do this, you must specify 'dtype=object' when creating the ndarray\n",
      "  globals()['G{}_c{}_w_layer{}'.format(global_epoch, num_c_w, layer_index)] = globals()['G{}_c{}_w_layer{}'.format(global_epoch, num_c_w, layer_index)] + np.array(globals()['L{}_layer{}_w_c'.format(i,layer_index)])   # 일반 클러스터링\n"
     ]
    },
    {
     "name": "stdout",
     "output_type": "stream",
     "text": [
      "Layer :  6   클러스터 갯수 정해짐!  갯수 :  2 0\n"
     ]
    },
    {
     "name": "stderr",
     "output_type": "stream",
     "text": [
      "<ipython-input-8-506962b8e734>:141: VisibleDeprecationWarning: Creating an ndarray from ragged nested sequences (which is a list-or-tuple of lists-or-tuples-or ndarrays with different lengths or shapes) is deprecated. If you meant to do this, you must specify 'dtype=object' when creating the ndarray\n",
      "  globals()['G{}_c{}_w_layer{}'.format(global_epoch, num_c_w, layer_index)] = globals()['G{}_c{}_w_layer{}'.format(global_epoch, num_c_w, layer_index)] + np.array(globals()['L{}_layer{}_w_c'.format(i,layer_index)])   # 일반 클러스터링\n"
     ]
    },
    {
     "name": "stdout",
     "output_type": "stream",
     "text": [
      "Layer :  7   클러스터 갯수 정해짐!  갯수 :  2 0\n",
      "\n",
      "\n",
      "====================================================== One Global Epoch =====================================================================\n",
      "\n",
      "\n",
      "8  번째 global_epoch 데이터 랜덤하게 준비!!\n"
     ]
    },
    {
     "name": "stderr",
     "output_type": "stream",
     "text": [
      "<ipython-input-8-506962b8e734>:141: VisibleDeprecationWarning: Creating an ndarray from ragged nested sequences (which is a list-or-tuple of lists-or-tuples-or ndarrays with different lengths or shapes) is deprecated. If you meant to do this, you must specify 'dtype=object' when creating the ndarray\n",
      "  globals()['G{}_c{}_w_layer{}'.format(global_epoch, num_c_w, layer_index)] = globals()['G{}_c{}_w_layer{}'.format(global_epoch, num_c_w, layer_index)] + np.array(globals()['L{}_layer{}_w_c'.format(i,layer_index)])   # 일반 클러스터링\n"
     ]
    },
    {
     "name": "stdout",
     "output_type": "stream",
     "text": [
      "8  번째 global_epoch 데이터 랜덤 준비완료!!\n",
      "\n",
      "\n",
      "8  번째 global epoch에서 로컬 클라이언트 들 학습시작!\n",
      "\n",
      "학습 중 ...\n",
      "\n",
      "16/16 - 0s - loss: 1.6150 - accuracy: 0.5240\n",
      "16/16 - 0s - loss: 1.7377 - accuracy: 0.5320\n",
      "16/16 - 0s - loss: 1.5355 - accuracy: 0.5460\n",
      "16/16 - 0s - loss: 1.6580 - accuracy: 0.5420\n",
      "16/16 - 0s - loss: 1.7026 - accuracy: 0.5420\n",
      "16/16 - 0s - loss: 1.7015 - accuracy: 0.5680\n",
      "16/16 - 0s - loss: 1.5104 - accuracy: 0.5700\n",
      "16/16 - 0s - loss: 1.4434 - accuracy: 0.5560\n",
      "16/16 - 0s - loss: 1.5740 - accuracy: 0.5460\n",
      "16/16 - 0s - loss: 1.6734 - accuracy: 0.5460\n",
      "16/16 - 0s - loss: 1.5080 - accuracy: 0.5520\n",
      "16/16 - 0s - loss: 1.6300 - accuracy: 0.4780\n",
      "16/16 - 0s - loss: 1.4692 - accuracy: 0.5460\n",
      "16/16 - 0s - loss: 1.5089 - accuracy: 0.5740\n",
      "16/16 - 0s - loss: 1.7133 - accuracy: 0.5360\n",
      "16/16 - 0s - loss: 1.3155 - accuracy: 0.6240\n",
      "16/16 - 0s - loss: 1.3889 - accuracy: 0.5900\n",
      "16/16 - 0s - loss: 1.6038 - accuracy: 0.5340\n",
      "16/16 - 0s - loss: 1.5538 - accuracy: 0.4900\n",
      "16/16 - 0s - loss: 1.5110 - accuracy: 0.5620\n",
      "------------    8  번째 global epoch < Clustering > 로컬 클라이언트 학습 완료!,  Total Training time :  308.43398904800415 ---------------------------\n",
      "\n",
      "\n",
      "Layer :  0   클러스터 갯수 정해짐!  갯수 :  2 0\n"
     ]
    },
    {
     "name": "stderr",
     "output_type": "stream",
     "text": [
      "<ipython-input-8-506962b8e734>:141: VisibleDeprecationWarning: Creating an ndarray from ragged nested sequences (which is a list-or-tuple of lists-or-tuples-or ndarrays with different lengths or shapes) is deprecated. If you meant to do this, you must specify 'dtype=object' when creating the ndarray\n",
      "  globals()['G{}_c{}_w_layer{}'.format(global_epoch, num_c_w, layer_index)] = globals()['G{}_c{}_w_layer{}'.format(global_epoch, num_c_w, layer_index)] + np.array(globals()['L{}_layer{}_w_c'.format(i,layer_index)])   # 일반 클러스터링\n"
     ]
    },
    {
     "name": "stdout",
     "output_type": "stream",
     "text": [
      "Layer :  2   클러스터 갯수 정해짐!  갯수 :  2 0\n"
     ]
    },
    {
     "name": "stderr",
     "output_type": "stream",
     "text": [
      "<ipython-input-8-506962b8e734>:141: VisibleDeprecationWarning: Creating an ndarray from ragged nested sequences (which is a list-or-tuple of lists-or-tuples-or ndarrays with different lengths or shapes) is deprecated. If you meant to do this, you must specify 'dtype=object' when creating the ndarray\n",
      "  globals()['G{}_c{}_w_layer{}'.format(global_epoch, num_c_w, layer_index)] = globals()['G{}_c{}_w_layer{}'.format(global_epoch, num_c_w, layer_index)] + np.array(globals()['L{}_layer{}_w_c'.format(i,layer_index)])   # 일반 클러스터링\n"
     ]
    },
    {
     "name": "stdout",
     "output_type": "stream",
     "text": [
      "Layer :  4   클러스터 갯수 정해짐!  갯수 :  2 0\n"
     ]
    },
    {
     "name": "stderr",
     "output_type": "stream",
     "text": [
      "<ipython-input-8-506962b8e734>:141: VisibleDeprecationWarning: Creating an ndarray from ragged nested sequences (which is a list-or-tuple of lists-or-tuples-or ndarrays with different lengths or shapes) is deprecated. If you meant to do this, you must specify 'dtype=object' when creating the ndarray\n",
      "  globals()['G{}_c{}_w_layer{}'.format(global_epoch, num_c_w, layer_index)] = globals()['G{}_c{}_w_layer{}'.format(global_epoch, num_c_w, layer_index)] + np.array(globals()['L{}_layer{}_w_c'.format(i,layer_index)])   # 일반 클러스터링\n"
     ]
    },
    {
     "name": "stdout",
     "output_type": "stream",
     "text": [
      "Layer :  6   클러스터 갯수 정해짐!  갯수 :  2 0\n"
     ]
    },
    {
     "name": "stderr",
     "output_type": "stream",
     "text": [
      "<ipython-input-8-506962b8e734>:141: VisibleDeprecationWarning: Creating an ndarray from ragged nested sequences (which is a list-or-tuple of lists-or-tuples-or ndarrays with different lengths or shapes) is deprecated. If you meant to do this, you must specify 'dtype=object' when creating the ndarray\n",
      "  globals()['G{}_c{}_w_layer{}'.format(global_epoch, num_c_w, layer_index)] = globals()['G{}_c{}_w_layer{}'.format(global_epoch, num_c_w, layer_index)] + np.array(globals()['L{}_layer{}_w_c'.format(i,layer_index)])   # 일반 클러스터링\n"
     ]
    },
    {
     "name": "stdout",
     "output_type": "stream",
     "text": [
      "Layer :  7   클러스터 갯수 정해짐!  갯수 :  2 0\n",
      "\n",
      "\n",
      "====================================================== One Global Epoch =====================================================================\n",
      "\n",
      "\n",
      "9  번째 global_epoch 데이터 랜덤하게 준비!!\n"
     ]
    },
    {
     "name": "stderr",
     "output_type": "stream",
     "text": [
      "<ipython-input-8-506962b8e734>:141: VisibleDeprecationWarning: Creating an ndarray from ragged nested sequences (which is a list-or-tuple of lists-or-tuples-or ndarrays with different lengths or shapes) is deprecated. If you meant to do this, you must specify 'dtype=object' when creating the ndarray\n",
      "  globals()['G{}_c{}_w_layer{}'.format(global_epoch, num_c_w, layer_index)] = globals()['G{}_c{}_w_layer{}'.format(global_epoch, num_c_w, layer_index)] + np.array(globals()['L{}_layer{}_w_c'.format(i,layer_index)])   # 일반 클러스터링\n"
     ]
    },
    {
     "name": "stdout",
     "output_type": "stream",
     "text": [
      "9  번째 global_epoch 데이터 랜덤 준비완료!!\n",
      "\n",
      "\n",
      "9  번째 global epoch에서 로컬 클라이언트 들 학습시작!\n",
      "\n",
      "학습 중 ...\n",
      "\n",
      "16/16 - 0s - loss: 1.5747 - accuracy: 0.5780\n",
      "16/16 - 0s - loss: 1.5816 - accuracy: 0.5660\n",
      "16/16 - 0s - loss: 1.6944 - accuracy: 0.5800\n",
      "16/16 - 0s - loss: 1.7070 - accuracy: 0.5420\n",
      "16/16 - 0s - loss: 1.4496 - accuracy: 0.5960\n",
      "16/16 - 0s - loss: 1.8870 - accuracy: 0.5720\n",
      "16/16 - 0s - loss: 1.6835 - accuracy: 0.5140\n",
      "16/16 - 0s - loss: 1.5250 - accuracy: 0.5840\n",
      "16/16 - 0s - loss: 1.6165 - accuracy: 0.5760\n",
      "16/16 - 0s - loss: 1.6061 - accuracy: 0.5560\n",
      "16/16 - 0s - loss: 1.5666 - accuracy: 0.5920\n",
      "16/16 - 0s - loss: 1.6277 - accuracy: 0.5340\n",
      "16/16 - 0s - loss: 1.6498 - accuracy: 0.5600\n",
      "16/16 - 0s - loss: 1.8709 - accuracy: 0.5600\n",
      "16/16 - 0s - loss: 1.6109 - accuracy: 0.5440\n",
      "16/16 - 0s - loss: 1.6526 - accuracy: 0.5540\n",
      "16/16 - 0s - loss: 1.6543 - accuracy: 0.5280\n",
      "16/16 - 0s - loss: 1.7463 - accuracy: 0.5440\n",
      "16/16 - 0s - loss: 1.6593 - accuracy: 0.5040\n",
      "16/16 - 0s - loss: 1.6074 - accuracy: 0.6000\n",
      "------------    9  번째 global epoch < Clustering > 로컬 클라이언트 학습 완료!,  Total Training time :  336.5055339336395 ---------------------------\n",
      "\n",
      "\n",
      "Layer :  0   클러스터 갯수 정해짐!  갯수 :  2 0\n"
     ]
    },
    {
     "name": "stderr",
     "output_type": "stream",
     "text": [
      "<ipython-input-8-506962b8e734>:141: VisibleDeprecationWarning: Creating an ndarray from ragged nested sequences (which is a list-or-tuple of lists-or-tuples-or ndarrays with different lengths or shapes) is deprecated. If you meant to do this, you must specify 'dtype=object' when creating the ndarray\n",
      "  globals()['G{}_c{}_w_layer{}'.format(global_epoch, num_c_w, layer_index)] = globals()['G{}_c{}_w_layer{}'.format(global_epoch, num_c_w, layer_index)] + np.array(globals()['L{}_layer{}_w_c'.format(i,layer_index)])   # 일반 클러스터링\n"
     ]
    },
    {
     "name": "stdout",
     "output_type": "stream",
     "text": [
      "Layer :  2   클러스터 갯수 정해짐!  갯수 :  2 0\n"
     ]
    },
    {
     "name": "stderr",
     "output_type": "stream",
     "text": [
      "<ipython-input-8-506962b8e734>:141: VisibleDeprecationWarning: Creating an ndarray from ragged nested sequences (which is a list-or-tuple of lists-or-tuples-or ndarrays with different lengths or shapes) is deprecated. If you meant to do this, you must specify 'dtype=object' when creating the ndarray\n",
      "  globals()['G{}_c{}_w_layer{}'.format(global_epoch, num_c_w, layer_index)] = globals()['G{}_c{}_w_layer{}'.format(global_epoch, num_c_w, layer_index)] + np.array(globals()['L{}_layer{}_w_c'.format(i,layer_index)])   # 일반 클러스터링\n"
     ]
    },
    {
     "name": "stdout",
     "output_type": "stream",
     "text": [
      "Layer :  4   클러스터 갯수 정해짐!  갯수 :  2 0\n"
     ]
    },
    {
     "name": "stderr",
     "output_type": "stream",
     "text": [
      "<ipython-input-8-506962b8e734>:141: VisibleDeprecationWarning: Creating an ndarray from ragged nested sequences (which is a list-or-tuple of lists-or-tuples-or ndarrays with different lengths or shapes) is deprecated. If you meant to do this, you must specify 'dtype=object' when creating the ndarray\n",
      "  globals()['G{}_c{}_w_layer{}'.format(global_epoch, num_c_w, layer_index)] = globals()['G{}_c{}_w_layer{}'.format(global_epoch, num_c_w, layer_index)] + np.array(globals()['L{}_layer{}_w_c'.format(i,layer_index)])   # 일반 클러스터링\n"
     ]
    },
    {
     "name": "stdout",
     "output_type": "stream",
     "text": [
      "Layer :  6   클러스터 갯수 정해짐!  갯수 :  2 0\n"
     ]
    },
    {
     "name": "stderr",
     "output_type": "stream",
     "text": [
      "<ipython-input-8-506962b8e734>:141: VisibleDeprecationWarning: Creating an ndarray from ragged nested sequences (which is a list-or-tuple of lists-or-tuples-or ndarrays with different lengths or shapes) is deprecated. If you meant to do this, you must specify 'dtype=object' when creating the ndarray\n",
      "  globals()['G{}_c{}_w_layer{}'.format(global_epoch, num_c_w, layer_index)] = globals()['G{}_c{}_w_layer{}'.format(global_epoch, num_c_w, layer_index)] + np.array(globals()['L{}_layer{}_w_c'.format(i,layer_index)])   # 일반 클러스터링\n"
     ]
    },
    {
     "name": "stdout",
     "output_type": "stream",
     "text": [
      "Layer :  7   클러스터 갯수 정해짐!  갯수 :  2 0\n",
      "\n",
      "\n",
      "====================================================== One Global Epoch =====================================================================\n",
      "\n",
      "\n",
      "10  번째 global_epoch 데이터 랜덤하게 준비!!\n"
     ]
    },
    {
     "name": "stderr",
     "output_type": "stream",
     "text": [
      "<ipython-input-8-506962b8e734>:141: VisibleDeprecationWarning: Creating an ndarray from ragged nested sequences (which is a list-or-tuple of lists-or-tuples-or ndarrays with different lengths or shapes) is deprecated. If you meant to do this, you must specify 'dtype=object' when creating the ndarray\n",
      "  globals()['G{}_c{}_w_layer{}'.format(global_epoch, num_c_w, layer_index)] = globals()['G{}_c{}_w_layer{}'.format(global_epoch, num_c_w, layer_index)] + np.array(globals()['L{}_layer{}_w_c'.format(i,layer_index)])   # 일반 클러스터링\n"
     ]
    },
    {
     "name": "stdout",
     "output_type": "stream",
     "text": [
      "10  번째 global_epoch 데이터 랜덤 준비완료!!\n",
      "\n",
      "\n",
      "10  번째 global epoch에서 로컬 클라이언트 들 학습시작!\n",
      "\n",
      "학습 중 ...\n",
      "\n",
      "16/16 - 0s - loss: 1.7452 - accuracy: 0.5620\n",
      "16/16 - 0s - loss: 1.7208 - accuracy: 0.5760\n",
      "16/16 - 0s - loss: 1.8038 - accuracy: 0.5940\n",
      "16/16 - 0s - loss: 1.9021 - accuracy: 0.5760\n",
      "16/16 - 0s - loss: 1.5219 - accuracy: 0.5880\n",
      "16/16 - 0s - loss: 2.0923 - accuracy: 0.5400\n",
      "16/16 - 0s - loss: 2.0411 - accuracy: 0.5500\n",
      "16/16 - 0s - loss: 1.9223 - accuracy: 0.5520\n",
      "16/16 - 0s - loss: 1.8009 - accuracy: 0.5400\n",
      "16/16 - 0s - loss: 1.6608 - accuracy: 0.5820\n",
      "16/16 - 0s - loss: 1.7280 - accuracy: 0.6000\n",
      "16/16 - 0s - loss: 1.7933 - accuracy: 0.5360\n",
      "16/16 - 0s - loss: 2.0490 - accuracy: 0.5520\n",
      "16/16 - 0s - loss: 1.7629 - accuracy: 0.5620\n",
      "16/16 - 0s - loss: 1.7584 - accuracy: 0.5400\n",
      "16/16 - 0s - loss: 1.8059 - accuracy: 0.5640\n",
      "16/16 - 0s - loss: 1.8099 - accuracy: 0.5600\n",
      "16/16 - 0s - loss: 1.9696 - accuracy: 0.5480\n",
      "16/16 - 0s - loss: 1.6178 - accuracy: 0.5680\n",
      "16/16 - 0s - loss: 1.8552 - accuracy: 0.5800\n",
      "------------    10  번째 global epoch < Clustering > 로컬 클라이언트 학습 완료!,  Total Training time :  368.8320746421814 ---------------------------\n",
      "\n",
      "\n",
      "Layer :  0   클러스터 갯수 정해짐!  갯수 :  2 0\n"
     ]
    },
    {
     "name": "stderr",
     "output_type": "stream",
     "text": [
      "<ipython-input-8-506962b8e734>:141: VisibleDeprecationWarning: Creating an ndarray from ragged nested sequences (which is a list-or-tuple of lists-or-tuples-or ndarrays with different lengths or shapes) is deprecated. If you meant to do this, you must specify 'dtype=object' when creating the ndarray\n",
      "  globals()['G{}_c{}_w_layer{}'.format(global_epoch, num_c_w, layer_index)] = globals()['G{}_c{}_w_layer{}'.format(global_epoch, num_c_w, layer_index)] + np.array(globals()['L{}_layer{}_w_c'.format(i,layer_index)])   # 일반 클러스터링\n"
     ]
    },
    {
     "name": "stdout",
     "output_type": "stream",
     "text": [
      "Layer :  2   클러스터 갯수 정해짐!  갯수 :  2 0\n"
     ]
    },
    {
     "name": "stderr",
     "output_type": "stream",
     "text": [
      "<ipython-input-8-506962b8e734>:141: VisibleDeprecationWarning: Creating an ndarray from ragged nested sequences (which is a list-or-tuple of lists-or-tuples-or ndarrays with different lengths or shapes) is deprecated. If you meant to do this, you must specify 'dtype=object' when creating the ndarray\n",
      "  globals()['G{}_c{}_w_layer{}'.format(global_epoch, num_c_w, layer_index)] = globals()['G{}_c{}_w_layer{}'.format(global_epoch, num_c_w, layer_index)] + np.array(globals()['L{}_layer{}_w_c'.format(i,layer_index)])   # 일반 클러스터링\n"
     ]
    },
    {
     "name": "stdout",
     "output_type": "stream",
     "text": [
      "Layer :  4   클러스터 갯수 정해짐!  갯수 :  2 0\n"
     ]
    },
    {
     "name": "stderr",
     "output_type": "stream",
     "text": [
      "<ipython-input-8-506962b8e734>:141: VisibleDeprecationWarning: Creating an ndarray from ragged nested sequences (which is a list-or-tuple of lists-or-tuples-or ndarrays with different lengths or shapes) is deprecated. If you meant to do this, you must specify 'dtype=object' when creating the ndarray\n",
      "  globals()['G{}_c{}_w_layer{}'.format(global_epoch, num_c_w, layer_index)] = globals()['G{}_c{}_w_layer{}'.format(global_epoch, num_c_w, layer_index)] + np.array(globals()['L{}_layer{}_w_c'.format(i,layer_index)])   # 일반 클러스터링\n"
     ]
    },
    {
     "name": "stdout",
     "output_type": "stream",
     "text": [
      "Layer :  6   클러스터 갯수 정해짐!  갯수 :  2 0\n"
     ]
    },
    {
     "name": "stderr",
     "output_type": "stream",
     "text": [
      "<ipython-input-8-506962b8e734>:141: VisibleDeprecationWarning: Creating an ndarray from ragged nested sequences (which is a list-or-tuple of lists-or-tuples-or ndarrays with different lengths or shapes) is deprecated. If you meant to do this, you must specify 'dtype=object' when creating the ndarray\n",
      "  globals()['G{}_c{}_w_layer{}'.format(global_epoch, num_c_w, layer_index)] = globals()['G{}_c{}_w_layer{}'.format(global_epoch, num_c_w, layer_index)] + np.array(globals()['L{}_layer{}_w_c'.format(i,layer_index)])   # 일반 클러스터링\n"
     ]
    },
    {
     "name": "stdout",
     "output_type": "stream",
     "text": [
      "Layer :  7   클러스터 갯수 정해짐!  갯수 :  2 0\n",
      "\n",
      "\n",
      "====================================================== One Global Epoch =====================================================================\n",
      "\n",
      "\n",
      "11  번째 global_epoch 데이터 랜덤하게 준비!!\n"
     ]
    },
    {
     "name": "stderr",
     "output_type": "stream",
     "text": [
      "<ipython-input-8-506962b8e734>:141: VisibleDeprecationWarning: Creating an ndarray from ragged nested sequences (which is a list-or-tuple of lists-or-tuples-or ndarrays with different lengths or shapes) is deprecated. If you meant to do this, you must specify 'dtype=object' when creating the ndarray\n",
      "  globals()['G{}_c{}_w_layer{}'.format(global_epoch, num_c_w, layer_index)] = globals()['G{}_c{}_w_layer{}'.format(global_epoch, num_c_w, layer_index)] + np.array(globals()['L{}_layer{}_w_c'.format(i,layer_index)])   # 일반 클러스터링\n"
     ]
    },
    {
     "name": "stdout",
     "output_type": "stream",
     "text": [
      "11  번째 global_epoch 데이터 랜덤 준비완료!!\n",
      "\n",
      "\n",
      "11  번째 global epoch에서 로컬 클라이언트 들 학습시작!\n",
      "\n",
      "학습 중 ...\n",
      "\n",
      "16/16 - 0s - loss: 1.5899 - accuracy: 0.6120\n",
      "16/16 - 0s - loss: 1.7429 - accuracy: 0.5740\n",
      "16/16 - 0s - loss: 1.8298 - accuracy: 0.5780\n",
      "16/16 - 0s - loss: 1.7358 - accuracy: 0.5960\n",
      "16/16 - 0s - loss: 1.7883 - accuracy: 0.5600\n",
      "16/16 - 0s - loss: 2.5855 - accuracy: 0.4980\n",
      "16/16 - 0s - loss: 1.6694 - accuracy: 0.6140\n",
      "16/16 - 0s - loss: 1.7510 - accuracy: 0.5700\n",
      "16/16 - 0s - loss: 1.8249 - accuracy: 0.5800\n",
      "16/16 - 0s - loss: 1.7063 - accuracy: 0.6260\n",
      "16/16 - 0s - loss: 2.1196 - accuracy: 0.5740\n",
      "16/16 - 0s - loss: 1.9261 - accuracy: 0.5820\n",
      "16/16 - 0s - loss: 1.6990 - accuracy: 0.6040\n",
      "16/16 - 0s - loss: 1.8388 - accuracy: 0.5620\n",
      "16/16 - 0s - loss: 1.6626 - accuracy: 0.6020\n",
      "16/16 - 0s - loss: 1.8273 - accuracy: 0.5780\n",
      "16/16 - 0s - loss: 1.9690 - accuracy: 0.5680\n",
      "16/16 - 0s - loss: 1.6974 - accuracy: 0.5960\n",
      "16/16 - 0s - loss: 1.7379 - accuracy: 0.5760\n",
      "16/16 - 0s - loss: 1.8777 - accuracy: 0.5740\n",
      "------------    11  번째 global epoch < Clustering > 로컬 클라이언트 학습 완료!,  Total Training time :  400.78589701652527 ---------------------------\n",
      "\n",
      "\n",
      "Layer :  0   클러스터 갯수 정해짐!  갯수 :  2 0\n"
     ]
    },
    {
     "name": "stderr",
     "output_type": "stream",
     "text": [
      "<ipython-input-8-506962b8e734>:141: VisibleDeprecationWarning: Creating an ndarray from ragged nested sequences (which is a list-or-tuple of lists-or-tuples-or ndarrays with different lengths or shapes) is deprecated. If you meant to do this, you must specify 'dtype=object' when creating the ndarray\n",
      "  globals()['G{}_c{}_w_layer{}'.format(global_epoch, num_c_w, layer_index)] = globals()['G{}_c{}_w_layer{}'.format(global_epoch, num_c_w, layer_index)] + np.array(globals()['L{}_layer{}_w_c'.format(i,layer_index)])   # 일반 클러스터링\n"
     ]
    },
    {
     "name": "stdout",
     "output_type": "stream",
     "text": [
      "Layer :  2   클러스터 갯수 정해짐!  갯수 :  2 0\n"
     ]
    },
    {
     "name": "stderr",
     "output_type": "stream",
     "text": [
      "<ipython-input-8-506962b8e734>:141: VisibleDeprecationWarning: Creating an ndarray from ragged nested sequences (which is a list-or-tuple of lists-or-tuples-or ndarrays with different lengths or shapes) is deprecated. If you meant to do this, you must specify 'dtype=object' when creating the ndarray\n",
      "  globals()['G{}_c{}_w_layer{}'.format(global_epoch, num_c_w, layer_index)] = globals()['G{}_c{}_w_layer{}'.format(global_epoch, num_c_w, layer_index)] + np.array(globals()['L{}_layer{}_w_c'.format(i,layer_index)])   # 일반 클러스터링\n"
     ]
    },
    {
     "name": "stdout",
     "output_type": "stream",
     "text": [
      "Layer :  4   클러스터 갯수 정해짐!  갯수 :  2 0\n"
     ]
    },
    {
     "name": "stderr",
     "output_type": "stream",
     "text": [
      "<ipython-input-8-506962b8e734>:141: VisibleDeprecationWarning: Creating an ndarray from ragged nested sequences (which is a list-or-tuple of lists-or-tuples-or ndarrays with different lengths or shapes) is deprecated. If you meant to do this, you must specify 'dtype=object' when creating the ndarray\n",
      "  globals()['G{}_c{}_w_layer{}'.format(global_epoch, num_c_w, layer_index)] = globals()['G{}_c{}_w_layer{}'.format(global_epoch, num_c_w, layer_index)] + np.array(globals()['L{}_layer{}_w_c'.format(i,layer_index)])   # 일반 클러스터링\n"
     ]
    },
    {
     "name": "stdout",
     "output_type": "stream",
     "text": [
      "Layer :  6   클러스터 갯수 정해짐!  갯수 :  2 0\n"
     ]
    },
    {
     "name": "stderr",
     "output_type": "stream",
     "text": [
      "<ipython-input-8-506962b8e734>:141: VisibleDeprecationWarning: Creating an ndarray from ragged nested sequences (which is a list-or-tuple of lists-or-tuples-or ndarrays with different lengths or shapes) is deprecated. If you meant to do this, you must specify 'dtype=object' when creating the ndarray\n",
      "  globals()['G{}_c{}_w_layer{}'.format(global_epoch, num_c_w, layer_index)] = globals()['G{}_c{}_w_layer{}'.format(global_epoch, num_c_w, layer_index)] + np.array(globals()['L{}_layer{}_w_c'.format(i,layer_index)])   # 일반 클러스터링\n"
     ]
    },
    {
     "name": "stdout",
     "output_type": "stream",
     "text": [
      "Layer :  7   클러스터 갯수 정해짐!  갯수 :  2 0\n",
      "\n",
      "\n",
      "====================================================== One Global Epoch =====================================================================\n",
      "\n",
      "\n",
      "12  번째 global_epoch 데이터 랜덤하게 준비!!\n"
     ]
    },
    {
     "name": "stderr",
     "output_type": "stream",
     "text": [
      "<ipython-input-8-506962b8e734>:141: VisibleDeprecationWarning: Creating an ndarray from ragged nested sequences (which is a list-or-tuple of lists-or-tuples-or ndarrays with different lengths or shapes) is deprecated. If you meant to do this, you must specify 'dtype=object' when creating the ndarray\n",
      "  globals()['G{}_c{}_w_layer{}'.format(global_epoch, num_c_w, layer_index)] = globals()['G{}_c{}_w_layer{}'.format(global_epoch, num_c_w, layer_index)] + np.array(globals()['L{}_layer{}_w_c'.format(i,layer_index)])   # 일반 클러스터링\n"
     ]
    },
    {
     "name": "stdout",
     "output_type": "stream",
     "text": [
      "12  번째 global_epoch 데이터 랜덤 준비완료!!\n",
      "\n",
      "\n",
      "12  번째 global epoch에서 로컬 클라이언트 들 학습시작!\n",
      "\n",
      "학습 중 ...\n",
      "\n",
      "16/16 - 0s - loss: 1.8689 - accuracy: 0.5620\n",
      "16/16 - 0s - loss: 1.8828 - accuracy: 0.5520\n",
      "16/16 - 0s - loss: 1.9153 - accuracy: 0.5900\n",
      "16/16 - 0s - loss: 2.0198 - accuracy: 0.5640\n",
      "16/16 - 0s - loss: 1.9897 - accuracy: 0.5960\n",
      "16/16 - 0s - loss: 2.2867 - accuracy: 0.5600\n",
      "16/16 - 0s - loss: 2.1031 - accuracy: 0.5460\n",
      "16/16 - 0s - loss: 1.8368 - accuracy: 0.5720\n",
      "16/16 - 0s - loss: 1.8324 - accuracy: 0.5840\n",
      "16/16 - 0s - loss: 1.8146 - accuracy: 0.6080\n",
      "16/16 - 0s - loss: 1.8774 - accuracy: 0.6040\n",
      "16/16 - 0s - loss: 1.6770 - accuracy: 0.5720\n",
      "16/16 - 0s - loss: 2.0675 - accuracy: 0.5660\n",
      "16/16 - 0s - loss: 2.0876 - accuracy: 0.5120\n",
      "16/16 - 0s - loss: 2.0115 - accuracy: 0.5780\n",
      "16/16 - 0s - loss: 2.1414 - accuracy: 0.5420\n",
      "16/16 - 0s - loss: 1.8784 - accuracy: 0.6020\n",
      "16/16 - 0s - loss: 1.8225 - accuracy: 0.6100\n",
      "16/16 - 0s - loss: 2.0650 - accuracy: 0.5540\n",
      "16/16 - 0s - loss: 1.9676 - accuracy: 0.5860\n",
      "------------    12  번째 global epoch < Clustering > 로컬 클라이언트 학습 완료!,  Total Training time :  429.72276520729065 ---------------------------\n",
      "\n",
      "\n",
      "Layer :  0   클러스터 갯수 정해짐!  갯수 :  2 0\n"
     ]
    },
    {
     "name": "stderr",
     "output_type": "stream",
     "text": [
      "<ipython-input-8-506962b8e734>:141: VisibleDeprecationWarning: Creating an ndarray from ragged nested sequences (which is a list-or-tuple of lists-or-tuples-or ndarrays with different lengths or shapes) is deprecated. If you meant to do this, you must specify 'dtype=object' when creating the ndarray\n",
      "  globals()['G{}_c{}_w_layer{}'.format(global_epoch, num_c_w, layer_index)] = globals()['G{}_c{}_w_layer{}'.format(global_epoch, num_c_w, layer_index)] + np.array(globals()['L{}_layer{}_w_c'.format(i,layer_index)])   # 일반 클러스터링\n"
     ]
    },
    {
     "name": "stdout",
     "output_type": "stream",
     "text": [
      "Layer :  2   클러스터 갯수 정해짐!  갯수 :  2 0\n"
     ]
    },
    {
     "name": "stderr",
     "output_type": "stream",
     "text": [
      "<ipython-input-8-506962b8e734>:141: VisibleDeprecationWarning: Creating an ndarray from ragged nested sequences (which is a list-or-tuple of lists-or-tuples-or ndarrays with different lengths or shapes) is deprecated. If you meant to do this, you must specify 'dtype=object' when creating the ndarray\n",
      "  globals()['G{}_c{}_w_layer{}'.format(global_epoch, num_c_w, layer_index)] = globals()['G{}_c{}_w_layer{}'.format(global_epoch, num_c_w, layer_index)] + np.array(globals()['L{}_layer{}_w_c'.format(i,layer_index)])   # 일반 클러스터링\n"
     ]
    },
    {
     "name": "stdout",
     "output_type": "stream",
     "text": [
      "Layer :  4   클러스터 갯수 정해짐!  갯수 :  2 0\n"
     ]
    },
    {
     "name": "stderr",
     "output_type": "stream",
     "text": [
      "<ipython-input-8-506962b8e734>:141: VisibleDeprecationWarning: Creating an ndarray from ragged nested sequences (which is a list-or-tuple of lists-or-tuples-or ndarrays with different lengths or shapes) is deprecated. If you meant to do this, you must specify 'dtype=object' when creating the ndarray\n",
      "  globals()['G{}_c{}_w_layer{}'.format(global_epoch, num_c_w, layer_index)] = globals()['G{}_c{}_w_layer{}'.format(global_epoch, num_c_w, layer_index)] + np.array(globals()['L{}_layer{}_w_c'.format(i,layer_index)])   # 일반 클러스터링\n"
     ]
    },
    {
     "name": "stdout",
     "output_type": "stream",
     "text": [
      "Layer :  6   클러스터 갯수 정해짐!  갯수 :  2 0\n"
     ]
    },
    {
     "name": "stderr",
     "output_type": "stream",
     "text": [
      "<ipython-input-8-506962b8e734>:141: VisibleDeprecationWarning: Creating an ndarray from ragged nested sequences (which is a list-or-tuple of lists-or-tuples-or ndarrays with different lengths or shapes) is deprecated. If you meant to do this, you must specify 'dtype=object' when creating the ndarray\n",
      "  globals()['G{}_c{}_w_layer{}'.format(global_epoch, num_c_w, layer_index)] = globals()['G{}_c{}_w_layer{}'.format(global_epoch, num_c_w, layer_index)] + np.array(globals()['L{}_layer{}_w_c'.format(i,layer_index)])   # 일반 클러스터링\n"
     ]
    },
    {
     "name": "stdout",
     "output_type": "stream",
     "text": [
      "Layer :  7   클러스터 갯수 정해짐!  갯수 :  2 0\n",
      "\n",
      "\n",
      "====================================================== One Global Epoch =====================================================================\n",
      "\n",
      "\n",
      "13  번째 global_epoch 데이터 랜덤하게 준비!!\n"
     ]
    },
    {
     "name": "stderr",
     "output_type": "stream",
     "text": [
      "<ipython-input-8-506962b8e734>:141: VisibleDeprecationWarning: Creating an ndarray from ragged nested sequences (which is a list-or-tuple of lists-or-tuples-or ndarrays with different lengths or shapes) is deprecated. If you meant to do this, you must specify 'dtype=object' when creating the ndarray\n",
      "  globals()['G{}_c{}_w_layer{}'.format(global_epoch, num_c_w, layer_index)] = globals()['G{}_c{}_w_layer{}'.format(global_epoch, num_c_w, layer_index)] + np.array(globals()['L{}_layer{}_w_c'.format(i,layer_index)])   # 일반 클러스터링\n"
     ]
    },
    {
     "name": "stdout",
     "output_type": "stream",
     "text": [
      "13  번째 global_epoch 데이터 랜덤 준비완료!!\n",
      "\n",
      "\n",
      "13  번째 global epoch에서 로컬 클라이언트 들 학습시작!\n",
      "\n",
      "학습 중 ...\n",
      "\n",
      "16/16 - 0s - loss: 1.8669 - accuracy: 0.5660\n",
      "16/16 - 0s - loss: 1.8848 - accuracy: 0.5760\n",
      "16/16 - 0s - loss: 1.8415 - accuracy: 0.6120\n",
      "16/16 - 0s - loss: 1.8122 - accuracy: 0.6220\n",
      "16/16 - 0s - loss: 2.0754 - accuracy: 0.5680\n",
      "16/16 - 0s - loss: 2.4057 - accuracy: 0.5580\n",
      "16/16 - 0s - loss: 1.8216 - accuracy: 0.6080\n",
      "16/16 - 0s - loss: 1.9046 - accuracy: 0.6000\n",
      "16/16 - 0s - loss: 1.7108 - accuracy: 0.6340\n",
      "16/16 - 0s - loss: 2.0676 - accuracy: 0.5680\n",
      "16/16 - 0s - loss: 1.9564 - accuracy: 0.6240\n",
      "16/16 - 0s - loss: 1.6977 - accuracy: 0.6040\n",
      "16/16 - 0s - loss: 1.9976 - accuracy: 0.5960\n",
      "16/16 - 0s - loss: 2.1859 - accuracy: 0.5660\n",
      "16/16 - 0s - loss: 1.9537 - accuracy: 0.5840\n",
      "16/16 - 0s - loss: 2.1358 - accuracy: 0.5800\n",
      "16/16 - 0s - loss: 1.8855 - accuracy: 0.6160\n",
      "16/16 - 0s - loss: 1.7123 - accuracy: 0.6180\n",
      "16/16 - 0s - loss: 1.7500 - accuracy: 0.5840\n",
      "16/16 - 0s - loss: 2.0416 - accuracy: 0.5820\n",
      "------------    13  번째 global epoch < Clustering > 로컬 클라이언트 학습 완료!,  Total Training time :  437.4476742744446 ---------------------------\n",
      "\n",
      "\n",
      "Layer :  0   클러스터 갯수 정해짐!  갯수 :  2 0\n"
     ]
    },
    {
     "name": "stderr",
     "output_type": "stream",
     "text": [
      "<ipython-input-8-506962b8e734>:141: VisibleDeprecationWarning: Creating an ndarray from ragged nested sequences (which is a list-or-tuple of lists-or-tuples-or ndarrays with different lengths or shapes) is deprecated. If you meant to do this, you must specify 'dtype=object' when creating the ndarray\n",
      "  globals()['G{}_c{}_w_layer{}'.format(global_epoch, num_c_w, layer_index)] = globals()['G{}_c{}_w_layer{}'.format(global_epoch, num_c_w, layer_index)] + np.array(globals()['L{}_layer{}_w_c'.format(i,layer_index)])   # 일반 클러스터링\n"
     ]
    },
    {
     "name": "stdout",
     "output_type": "stream",
     "text": [
      "Layer :  2   클러스터 갯수 정해짐!  갯수 :  2 0\n"
     ]
    },
    {
     "name": "stderr",
     "output_type": "stream",
     "text": [
      "<ipython-input-8-506962b8e734>:141: VisibleDeprecationWarning: Creating an ndarray from ragged nested sequences (which is a list-or-tuple of lists-or-tuples-or ndarrays with different lengths or shapes) is deprecated. If you meant to do this, you must specify 'dtype=object' when creating the ndarray\n",
      "  globals()['G{}_c{}_w_layer{}'.format(global_epoch, num_c_w, layer_index)] = globals()['G{}_c{}_w_layer{}'.format(global_epoch, num_c_w, layer_index)] + np.array(globals()['L{}_layer{}_w_c'.format(i,layer_index)])   # 일반 클러스터링\n"
     ]
    },
    {
     "name": "stdout",
     "output_type": "stream",
     "text": [
      "Layer :  4   클러스터 갯수 정해짐!  갯수 :  2 0\n"
     ]
    },
    {
     "name": "stderr",
     "output_type": "stream",
     "text": [
      "<ipython-input-8-506962b8e734>:141: VisibleDeprecationWarning: Creating an ndarray from ragged nested sequences (which is a list-or-tuple of lists-or-tuples-or ndarrays with different lengths or shapes) is deprecated. If you meant to do this, you must specify 'dtype=object' when creating the ndarray\n",
      "  globals()['G{}_c{}_w_layer{}'.format(global_epoch, num_c_w, layer_index)] = globals()['G{}_c{}_w_layer{}'.format(global_epoch, num_c_w, layer_index)] + np.array(globals()['L{}_layer{}_w_c'.format(i,layer_index)])   # 일반 클러스터링\n"
     ]
    },
    {
     "name": "stdout",
     "output_type": "stream",
     "text": [
      "Layer :  6   클러스터 갯수 정해짐!  갯수 :  2 0\n"
     ]
    },
    {
     "name": "stderr",
     "output_type": "stream",
     "text": [
      "<ipython-input-8-506962b8e734>:141: VisibleDeprecationWarning: Creating an ndarray from ragged nested sequences (which is a list-or-tuple of lists-or-tuples-or ndarrays with different lengths or shapes) is deprecated. If you meant to do this, you must specify 'dtype=object' when creating the ndarray\n",
      "  globals()['G{}_c{}_w_layer{}'.format(global_epoch, num_c_w, layer_index)] = globals()['G{}_c{}_w_layer{}'.format(global_epoch, num_c_w, layer_index)] + np.array(globals()['L{}_layer{}_w_c'.format(i,layer_index)])   # 일반 클러스터링\n"
     ]
    },
    {
     "name": "stdout",
     "output_type": "stream",
     "text": [
      "Layer :  7   클러스터 갯수 정해짐!  갯수 :  2 0\n",
      "\n",
      "\n",
      "====================================================== One Global Epoch =====================================================================\n",
      "\n",
      "\n",
      "14  번째 global_epoch 데이터 랜덤하게 준비!!\n"
     ]
    },
    {
     "name": "stderr",
     "output_type": "stream",
     "text": [
      "<ipython-input-8-506962b8e734>:141: VisibleDeprecationWarning: Creating an ndarray from ragged nested sequences (which is a list-or-tuple of lists-or-tuples-or ndarrays with different lengths or shapes) is deprecated. If you meant to do this, you must specify 'dtype=object' when creating the ndarray\n",
      "  globals()['G{}_c{}_w_layer{}'.format(global_epoch, num_c_w, layer_index)] = globals()['G{}_c{}_w_layer{}'.format(global_epoch, num_c_w, layer_index)] + np.array(globals()['L{}_layer{}_w_c'.format(i,layer_index)])   # 일반 클러스터링\n"
     ]
    },
    {
     "name": "stdout",
     "output_type": "stream",
     "text": [
      "14  번째 global_epoch 데이터 랜덤 준비완료!!\n",
      "\n",
      "\n",
      "14  번째 global epoch에서 로컬 클라이언트 들 학습시작!\n",
      "\n",
      "학습 중 ...\n",
      "\n",
      "16/16 - 0s - loss: 2.1740 - accuracy: 0.5640\n",
      "16/16 - 0s - loss: 1.9945 - accuracy: 0.5800\n",
      "16/16 - 0s - loss: 1.8033 - accuracy: 0.6160\n",
      "16/16 - 0s - loss: 1.9574 - accuracy: 0.6040\n",
      "16/16 - 0s - loss: 1.8612 - accuracy: 0.6380\n",
      "16/16 - 0s - loss: 2.2045 - accuracy: 0.5880\n",
      "16/16 - 0s - loss: 1.8560 - accuracy: 0.6200\n",
      "16/16 - 0s - loss: 1.7749 - accuracy: 0.6280\n",
      "16/16 - 0s - loss: 1.8043 - accuracy: 0.5840\n",
      "16/16 - 0s - loss: 2.0720 - accuracy: 0.6320\n",
      "16/16 - 0s - loss: 2.1724 - accuracy: 0.5680\n",
      "16/16 - 0s - loss: 1.8741 - accuracy: 0.5700\n",
      "16/16 - 0s - loss: 2.0131 - accuracy: 0.5980\n",
      "16/16 - 0s - loss: 2.3199 - accuracy: 0.5520\n",
      "16/16 - 0s - loss: 2.1256 - accuracy: 0.5800\n",
      "16/16 - 0s - loss: 2.4759 - accuracy: 0.5500\n",
      "16/16 - 0s - loss: 2.1262 - accuracy: 0.6120\n",
      "16/16 - 0s - loss: 2.1252 - accuracy: 0.6100\n",
      "16/16 - 0s - loss: 1.9673 - accuracy: 0.5840\n",
      "16/16 - 0s - loss: 1.9820 - accuracy: 0.5860\n",
      "------------    14  번째 global epoch < Clustering > 로컬 클라이언트 학습 완료!,  Total Training time :  478.91085171699524 ---------------------------\n",
      "\n",
      "\n",
      "Layer :  0   클러스터 갯수 정해짐!  갯수 :  2 0\n"
     ]
    },
    {
     "name": "stderr",
     "output_type": "stream",
     "text": [
      "<ipython-input-8-506962b8e734>:141: VisibleDeprecationWarning: Creating an ndarray from ragged nested sequences (which is a list-or-tuple of lists-or-tuples-or ndarrays with different lengths or shapes) is deprecated. If you meant to do this, you must specify 'dtype=object' when creating the ndarray\n",
      "  globals()['G{}_c{}_w_layer{}'.format(global_epoch, num_c_w, layer_index)] = globals()['G{}_c{}_w_layer{}'.format(global_epoch, num_c_w, layer_index)] + np.array(globals()['L{}_layer{}_w_c'.format(i,layer_index)])   # 일반 클러스터링\n"
     ]
    },
    {
     "name": "stdout",
     "output_type": "stream",
     "text": [
      "Layer :  2   클러스터 갯수 정해짐!  갯수 :  2 0\n"
     ]
    },
    {
     "name": "stderr",
     "output_type": "stream",
     "text": [
      "<ipython-input-8-506962b8e734>:141: VisibleDeprecationWarning: Creating an ndarray from ragged nested sequences (which is a list-or-tuple of lists-or-tuples-or ndarrays with different lengths or shapes) is deprecated. If you meant to do this, you must specify 'dtype=object' when creating the ndarray\n",
      "  globals()['G{}_c{}_w_layer{}'.format(global_epoch, num_c_w, layer_index)] = globals()['G{}_c{}_w_layer{}'.format(global_epoch, num_c_w, layer_index)] + np.array(globals()['L{}_layer{}_w_c'.format(i,layer_index)])   # 일반 클러스터링\n"
     ]
    },
    {
     "name": "stdout",
     "output_type": "stream",
     "text": [
      "Layer :  4   클러스터 갯수 정해짐!  갯수 :  2 0\n"
     ]
    },
    {
     "name": "stderr",
     "output_type": "stream",
     "text": [
      "<ipython-input-8-506962b8e734>:141: VisibleDeprecationWarning: Creating an ndarray from ragged nested sequences (which is a list-or-tuple of lists-or-tuples-or ndarrays with different lengths or shapes) is deprecated. If you meant to do this, you must specify 'dtype=object' when creating the ndarray\n",
      "  globals()['G{}_c{}_w_layer{}'.format(global_epoch, num_c_w, layer_index)] = globals()['G{}_c{}_w_layer{}'.format(global_epoch, num_c_w, layer_index)] + np.array(globals()['L{}_layer{}_w_c'.format(i,layer_index)])   # 일반 클러스터링\n"
     ]
    },
    {
     "name": "stdout",
     "output_type": "stream",
     "text": [
      "Layer :  6   클러스터 갯수 정해짐!  갯수 :  2 0\n"
     ]
    },
    {
     "name": "stderr",
     "output_type": "stream",
     "text": [
      "<ipython-input-8-506962b8e734>:141: VisibleDeprecationWarning: Creating an ndarray from ragged nested sequences (which is a list-or-tuple of lists-or-tuples-or ndarrays with different lengths or shapes) is deprecated. If you meant to do this, you must specify 'dtype=object' when creating the ndarray\n",
      "  globals()['G{}_c{}_w_layer{}'.format(global_epoch, num_c_w, layer_index)] = globals()['G{}_c{}_w_layer{}'.format(global_epoch, num_c_w, layer_index)] + np.array(globals()['L{}_layer{}_w_c'.format(i,layer_index)])   # 일반 클러스터링\n"
     ]
    },
    {
     "name": "stdout",
     "output_type": "stream",
     "text": [
      "Layer :  7   클러스터 갯수 정해짐!  갯수 :  2 0\n",
      "\n",
      "\n",
      "====================================================== One Global Epoch =====================================================================\n",
      "\n",
      "\n",
      "15  번째 global_epoch 데이터 랜덤하게 준비!!\n"
     ]
    },
    {
     "name": "stderr",
     "output_type": "stream",
     "text": [
      "<ipython-input-8-506962b8e734>:141: VisibleDeprecationWarning: Creating an ndarray from ragged nested sequences (which is a list-or-tuple of lists-or-tuples-or ndarrays with different lengths or shapes) is deprecated. If you meant to do this, you must specify 'dtype=object' when creating the ndarray\n",
      "  globals()['G{}_c{}_w_layer{}'.format(global_epoch, num_c_w, layer_index)] = globals()['G{}_c{}_w_layer{}'.format(global_epoch, num_c_w, layer_index)] + np.array(globals()['L{}_layer{}_w_c'.format(i,layer_index)])   # 일반 클러스터링\n"
     ]
    },
    {
     "name": "stdout",
     "output_type": "stream",
     "text": [
      "15  번째 global_epoch 데이터 랜덤 준비완료!!\n",
      "\n",
      "\n",
      "15  번째 global epoch에서 로컬 클라이언트 들 학습시작!\n",
      "\n",
      "학습 중 ...\n",
      "\n",
      "16/16 - 0s - loss: 1.8993 - accuracy: 0.5920\n",
      "16/16 - 0s - loss: 2.0925 - accuracy: 0.5820\n",
      "16/16 - 0s - loss: 2.1068 - accuracy: 0.6140\n",
      "16/16 - 0s - loss: 2.1814 - accuracy: 0.5880\n",
      "16/16 - 0s - loss: 2.0835 - accuracy: 0.6040\n",
      "16/16 - 0s - loss: 2.7112 - accuracy: 0.5240\n",
      "16/16 - 0s - loss: 1.9950 - accuracy: 0.6180\n",
      "16/16 - 0s - loss: 1.7672 - accuracy: 0.6300\n",
      "16/16 - 0s - loss: 2.1927 - accuracy: 0.5860\n",
      "16/16 - 0s - loss: 1.9143 - accuracy: 0.6220\n",
      "16/16 - 0s - loss: 1.9200 - accuracy: 0.6060\n",
      "16/16 - 0s - loss: 2.3778 - accuracy: 0.5400\n",
      "16/16 - 0s - loss: 1.9825 - accuracy: 0.5880\n",
      "16/16 - 0s - loss: 2.3705 - accuracy: 0.5700\n",
      "16/16 - 0s - loss: 1.8793 - accuracy: 0.6020\n",
      "16/16 - 0s - loss: 2.2492 - accuracy: 0.6000\n",
      "16/16 - 0s - loss: 1.7971 - accuracy: 0.6300\n",
      "16/16 - 0s - loss: 2.1132 - accuracy: 0.5840\n",
      "16/16 - 0s - loss: 1.8636 - accuracy: 0.5980\n",
      "16/16 - 0s - loss: 2.0470 - accuracy: 0.5980\n",
      "------------    15  번째 global epoch < Clustering > 로컬 클라이언트 학습 완료!,  Total Training time :  503.15156531333923 ---------------------------\n",
      "\n",
      "\n",
      "Layer :  0   클러스터 갯수 정해짐!  갯수 :  2 0\n"
     ]
    },
    {
     "name": "stderr",
     "output_type": "stream",
     "text": [
      "<ipython-input-8-506962b8e734>:141: VisibleDeprecationWarning: Creating an ndarray from ragged nested sequences (which is a list-or-tuple of lists-or-tuples-or ndarrays with different lengths or shapes) is deprecated. If you meant to do this, you must specify 'dtype=object' when creating the ndarray\n",
      "  globals()['G{}_c{}_w_layer{}'.format(global_epoch, num_c_w, layer_index)] = globals()['G{}_c{}_w_layer{}'.format(global_epoch, num_c_w, layer_index)] + np.array(globals()['L{}_layer{}_w_c'.format(i,layer_index)])   # 일반 클러스터링\n"
     ]
    },
    {
     "name": "stdout",
     "output_type": "stream",
     "text": [
      "Layer :  2   클러스터 갯수 정해짐!  갯수 :  2 0\n"
     ]
    },
    {
     "name": "stderr",
     "output_type": "stream",
     "text": [
      "<ipython-input-8-506962b8e734>:141: VisibleDeprecationWarning: Creating an ndarray from ragged nested sequences (which is a list-or-tuple of lists-or-tuples-or ndarrays with different lengths or shapes) is deprecated. If you meant to do this, you must specify 'dtype=object' when creating the ndarray\n",
      "  globals()['G{}_c{}_w_layer{}'.format(global_epoch, num_c_w, layer_index)] = globals()['G{}_c{}_w_layer{}'.format(global_epoch, num_c_w, layer_index)] + np.array(globals()['L{}_layer{}_w_c'.format(i,layer_index)])   # 일반 클러스터링\n"
     ]
    },
    {
     "name": "stdout",
     "output_type": "stream",
     "text": [
      "Layer :  4   클러스터 갯수 정해짐!  갯수 :  2 0\n"
     ]
    },
    {
     "name": "stderr",
     "output_type": "stream",
     "text": [
      "<ipython-input-8-506962b8e734>:141: VisibleDeprecationWarning: Creating an ndarray from ragged nested sequences (which is a list-or-tuple of lists-or-tuples-or ndarrays with different lengths or shapes) is deprecated. If you meant to do this, you must specify 'dtype=object' when creating the ndarray\n",
      "  globals()['G{}_c{}_w_layer{}'.format(global_epoch, num_c_w, layer_index)] = globals()['G{}_c{}_w_layer{}'.format(global_epoch, num_c_w, layer_index)] + np.array(globals()['L{}_layer{}_w_c'.format(i,layer_index)])   # 일반 클러스터링\n"
     ]
    },
    {
     "name": "stdout",
     "output_type": "stream",
     "text": [
      "Layer :  6   클러스터 갯수 정해짐!  갯수 :  2 0\n"
     ]
    },
    {
     "name": "stderr",
     "output_type": "stream",
     "text": [
      "<ipython-input-8-506962b8e734>:141: VisibleDeprecationWarning: Creating an ndarray from ragged nested sequences (which is a list-or-tuple of lists-or-tuples-or ndarrays with different lengths or shapes) is deprecated. If you meant to do this, you must specify 'dtype=object' when creating the ndarray\n",
      "  globals()['G{}_c{}_w_layer{}'.format(global_epoch, num_c_w, layer_index)] = globals()['G{}_c{}_w_layer{}'.format(global_epoch, num_c_w, layer_index)] + np.array(globals()['L{}_layer{}_w_c'.format(i,layer_index)])   # 일반 클러스터링\n"
     ]
    },
    {
     "name": "stdout",
     "output_type": "stream",
     "text": [
      "Layer :  7   클러스터 갯수 정해짐!  갯수 :  2 0\n",
      "\n",
      "\n",
      "====================================================== One Global Epoch =====================================================================\n",
      "\n",
      "\n",
      "16  번째 global_epoch 데이터 랜덤하게 준비!!\n"
     ]
    },
    {
     "name": "stderr",
     "output_type": "stream",
     "text": [
      "<ipython-input-8-506962b8e734>:141: VisibleDeprecationWarning: Creating an ndarray from ragged nested sequences (which is a list-or-tuple of lists-or-tuples-or ndarrays with different lengths or shapes) is deprecated. If you meant to do this, you must specify 'dtype=object' when creating the ndarray\n",
      "  globals()['G{}_c{}_w_layer{}'.format(global_epoch, num_c_w, layer_index)] = globals()['G{}_c{}_w_layer{}'.format(global_epoch, num_c_w, layer_index)] + np.array(globals()['L{}_layer{}_w_c'.format(i,layer_index)])   # 일반 클러스터링\n"
     ]
    },
    {
     "name": "stdout",
     "output_type": "stream",
     "text": [
      "16  번째 global_epoch 데이터 랜덤 준비완료!!\n",
      "\n",
      "\n",
      "16  번째 global epoch에서 로컬 클라이언트 들 학습시작!\n",
      "\n",
      "학습 중 ...\n",
      "\n",
      "16/16 - 0s - loss: 1.9767 - accuracy: 0.6140\n",
      "16/16 - 0s - loss: 2.1368 - accuracy: 0.5540\n",
      "16/16 - 0s - loss: 2.1638 - accuracy: 0.5860\n",
      "16/16 - 0s - loss: 2.2392 - accuracy: 0.6020\n",
      "16/16 - 0s - loss: 2.2788 - accuracy: 0.5920\n",
      "16/16 - 0s - loss: 2.3284 - accuracy: 0.5800\n",
      "16/16 - 0s - loss: 2.0365 - accuracy: 0.5720\n",
      "16/16 - 0s - loss: 2.3628 - accuracy: 0.5600\n",
      "16/16 - 0s - loss: 2.0939 - accuracy: 0.5820\n",
      "16/16 - 0s - loss: 2.3316 - accuracy: 0.5920\n",
      "16/16 - 0s - loss: 2.0317 - accuracy: 0.6220\n",
      "16/16 - 0s - loss: 2.0140 - accuracy: 0.5860\n",
      "16/16 - 0s - loss: 2.2037 - accuracy: 0.5840\n",
      "16/16 - 0s - loss: 2.4560 - accuracy: 0.5560\n",
      "16/16 - 0s - loss: 2.0164 - accuracy: 0.6240\n",
      "16/16 - 0s - loss: 2.1445 - accuracy: 0.6240\n",
      "16/16 - 0s - loss: 2.0635 - accuracy: 0.6200\n",
      "16/16 - 0s - loss: 2.4267 - accuracy: 0.5680\n",
      "16/16 - 0s - loss: 1.9843 - accuracy: 0.5920\n",
      "16/16 - 0s - loss: 2.1699 - accuracy: 0.5860\n",
      "------------    16  번째 global epoch < Clustering > 로컬 클라이언트 학습 완료!,  Total Training time :  548.7821867465973 ---------------------------\n",
      "\n",
      "\n",
      "Layer :  0   클러스터 갯수 정해짐!  갯수 :  2 0\n"
     ]
    },
    {
     "name": "stderr",
     "output_type": "stream",
     "text": [
      "<ipython-input-8-506962b8e734>:141: VisibleDeprecationWarning: Creating an ndarray from ragged nested sequences (which is a list-or-tuple of lists-or-tuples-or ndarrays with different lengths or shapes) is deprecated. If you meant to do this, you must specify 'dtype=object' when creating the ndarray\n",
      "  globals()['G{}_c{}_w_layer{}'.format(global_epoch, num_c_w, layer_index)] = globals()['G{}_c{}_w_layer{}'.format(global_epoch, num_c_w, layer_index)] + np.array(globals()['L{}_layer{}_w_c'.format(i,layer_index)])   # 일반 클러스터링\n"
     ]
    },
    {
     "name": "stdout",
     "output_type": "stream",
     "text": [
      "Layer :  2   클러스터 갯수 정해짐!  갯수 :  2 0\n"
     ]
    },
    {
     "name": "stderr",
     "output_type": "stream",
     "text": [
      "<ipython-input-8-506962b8e734>:141: VisibleDeprecationWarning: Creating an ndarray from ragged nested sequences (which is a list-or-tuple of lists-or-tuples-or ndarrays with different lengths or shapes) is deprecated. If you meant to do this, you must specify 'dtype=object' when creating the ndarray\n",
      "  globals()['G{}_c{}_w_layer{}'.format(global_epoch, num_c_w, layer_index)] = globals()['G{}_c{}_w_layer{}'.format(global_epoch, num_c_w, layer_index)] + np.array(globals()['L{}_layer{}_w_c'.format(i,layer_index)])   # 일반 클러스터링\n"
     ]
    },
    {
     "name": "stdout",
     "output_type": "stream",
     "text": [
      "Layer :  4   클러스터 갯수 정해짐!  갯수 :  3 1\n"
     ]
    },
    {
     "name": "stderr",
     "output_type": "stream",
     "text": [
      "<ipython-input-8-506962b8e734>:141: VisibleDeprecationWarning: Creating an ndarray from ragged nested sequences (which is a list-or-tuple of lists-or-tuples-or ndarrays with different lengths or shapes) is deprecated. If you meant to do this, you must specify 'dtype=object' when creating the ndarray\n",
      "  globals()['G{}_c{}_w_layer{}'.format(global_epoch, num_c_w, layer_index)] = globals()['G{}_c{}_w_layer{}'.format(global_epoch, num_c_w, layer_index)] + np.array(globals()['L{}_layer{}_w_c'.format(i,layer_index)])   # 일반 클러스터링\n"
     ]
    },
    {
     "name": "stdout",
     "output_type": "stream",
     "text": [
      "Layer :  6   클러스터 갯수 정해짐!  갯수 :  2 0\n"
     ]
    },
    {
     "name": "stderr",
     "output_type": "stream",
     "text": [
      "<ipython-input-8-506962b8e734>:141: VisibleDeprecationWarning: Creating an ndarray from ragged nested sequences (which is a list-or-tuple of lists-or-tuples-or ndarrays with different lengths or shapes) is deprecated. If you meant to do this, you must specify 'dtype=object' when creating the ndarray\n",
      "  globals()['G{}_c{}_w_layer{}'.format(global_epoch, num_c_w, layer_index)] = globals()['G{}_c{}_w_layer{}'.format(global_epoch, num_c_w, layer_index)] + np.array(globals()['L{}_layer{}_w_c'.format(i,layer_index)])   # 일반 클러스터링\n"
     ]
    },
    {
     "name": "stdout",
     "output_type": "stream",
     "text": [
      "Layer :  7   클러스터 갯수 정해짐!  갯수 :  2 0\n",
      "\n",
      "\n",
      "====================================================== One Global Epoch =====================================================================\n",
      "\n",
      "\n",
      "17  번째 global_epoch 데이터 랜덤하게 준비!!\n"
     ]
    },
    {
     "name": "stderr",
     "output_type": "stream",
     "text": [
      "<ipython-input-8-506962b8e734>:141: VisibleDeprecationWarning: Creating an ndarray from ragged nested sequences (which is a list-or-tuple of lists-or-tuples-or ndarrays with different lengths or shapes) is deprecated. If you meant to do this, you must specify 'dtype=object' when creating the ndarray\n",
      "  globals()['G{}_c{}_w_layer{}'.format(global_epoch, num_c_w, layer_index)] = globals()['G{}_c{}_w_layer{}'.format(global_epoch, num_c_w, layer_index)] + np.array(globals()['L{}_layer{}_w_c'.format(i,layer_index)])   # 일반 클러스터링\n"
     ]
    },
    {
     "name": "stdout",
     "output_type": "stream",
     "text": [
      "17  번째 global_epoch 데이터 랜덤 준비완료!!\n",
      "\n",
      "\n",
      "17  번째 global epoch에서 로컬 클라이언트 들 학습시작!\n",
      "\n",
      "학습 중 ...\n",
      "\n",
      "16/16 - 0s - loss: 2.0372 - accuracy: 0.6240\n",
      "16/16 - 0s - loss: 1.8966 - accuracy: 0.6200\n",
      "16/16 - 0s - loss: 2.0569 - accuracy: 0.6280\n",
      "16/16 - 0s - loss: 2.0328 - accuracy: 0.6040\n",
      "16/16 - 0s - loss: 1.9962 - accuracy: 0.6240\n",
      "16/16 - 0s - loss: 2.3367 - accuracy: 0.5620\n",
      "16/16 - 0s - loss: 2.2399 - accuracy: 0.5980\n",
      "16/16 - 0s - loss: 2.1291 - accuracy: 0.5880\n",
      "16/16 - 0s - loss: 2.2587 - accuracy: 0.6080\n",
      "16/16 - 0s - loss: 2.0636 - accuracy: 0.6200\n",
      "16/16 - 0s - loss: 1.9583 - accuracy: 0.6380\n",
      "16/16 - 0s - loss: 2.0870 - accuracy: 0.5780\n",
      "16/16 - 0s - loss: 2.0206 - accuracy: 0.5820\n",
      "16/16 - 0s - loss: 2.4447 - accuracy: 0.5980\n",
      "16/16 - 0s - loss: 1.9179 - accuracy: 0.6380\n",
      "16/16 - 0s - loss: 2.1111 - accuracy: 0.6280\n",
      "16/16 - 0s - loss: 2.2846 - accuracy: 0.6080\n",
      "16/16 - 0s - loss: 2.3360 - accuracy: 0.5920\n",
      "16/16 - 0s - loss: 2.0400 - accuracy: 0.6020\n",
      "16/16 - 0s - loss: 2.1504 - accuracy: 0.6200\n",
      "------------    17  번째 global epoch < Clustering > 로컬 클라이언트 학습 완료!,  Total Training time :  571.648768901825 ---------------------------\n",
      "\n",
      "\n",
      "Layer :  0   클러스터 갯수 정해짐!  갯수 :  2 0\n"
     ]
    },
    {
     "name": "stderr",
     "output_type": "stream",
     "text": [
      "<ipython-input-8-506962b8e734>:141: VisibleDeprecationWarning: Creating an ndarray from ragged nested sequences (which is a list-or-tuple of lists-or-tuples-or ndarrays with different lengths or shapes) is deprecated. If you meant to do this, you must specify 'dtype=object' when creating the ndarray\n",
      "  globals()['G{}_c{}_w_layer{}'.format(global_epoch, num_c_w, layer_index)] = globals()['G{}_c{}_w_layer{}'.format(global_epoch, num_c_w, layer_index)] + np.array(globals()['L{}_layer{}_w_c'.format(i,layer_index)])   # 일반 클러스터링\n"
     ]
    },
    {
     "name": "stdout",
     "output_type": "stream",
     "text": [
      "Layer :  2   클러스터 갯수 정해짐!  갯수 :  2 0\n"
     ]
    },
    {
     "name": "stderr",
     "output_type": "stream",
     "text": [
      "<ipython-input-8-506962b8e734>:141: VisibleDeprecationWarning: Creating an ndarray from ragged nested sequences (which is a list-or-tuple of lists-or-tuples-or ndarrays with different lengths or shapes) is deprecated. If you meant to do this, you must specify 'dtype=object' when creating the ndarray\n",
      "  globals()['G{}_c{}_w_layer{}'.format(global_epoch, num_c_w, layer_index)] = globals()['G{}_c{}_w_layer{}'.format(global_epoch, num_c_w, layer_index)] + np.array(globals()['L{}_layer{}_w_c'.format(i,layer_index)])   # 일반 클러스터링\n"
     ]
    },
    {
     "name": "stdout",
     "output_type": "stream",
     "text": [
      "Layer :  4   클러스터 갯수 정해짐!  갯수 :  2 0\n"
     ]
    },
    {
     "name": "stderr",
     "output_type": "stream",
     "text": [
      "<ipython-input-8-506962b8e734>:141: VisibleDeprecationWarning: Creating an ndarray from ragged nested sequences (which is a list-or-tuple of lists-or-tuples-or ndarrays with different lengths or shapes) is deprecated. If you meant to do this, you must specify 'dtype=object' when creating the ndarray\n",
      "  globals()['G{}_c{}_w_layer{}'.format(global_epoch, num_c_w, layer_index)] = globals()['G{}_c{}_w_layer{}'.format(global_epoch, num_c_w, layer_index)] + np.array(globals()['L{}_layer{}_w_c'.format(i,layer_index)])   # 일반 클러스터링\n"
     ]
    },
    {
     "name": "stdout",
     "output_type": "stream",
     "text": [
      "Layer :  6   클러스터 갯수 정해짐!  갯수 :  2 0\n"
     ]
    },
    {
     "name": "stderr",
     "output_type": "stream",
     "text": [
      "<ipython-input-8-506962b8e734>:141: VisibleDeprecationWarning: Creating an ndarray from ragged nested sequences (which is a list-or-tuple of lists-or-tuples-or ndarrays with different lengths or shapes) is deprecated. If you meant to do this, you must specify 'dtype=object' when creating the ndarray\n",
      "  globals()['G{}_c{}_w_layer{}'.format(global_epoch, num_c_w, layer_index)] = globals()['G{}_c{}_w_layer{}'.format(global_epoch, num_c_w, layer_index)] + np.array(globals()['L{}_layer{}_w_c'.format(i,layer_index)])   # 일반 클러스터링\n"
     ]
    },
    {
     "name": "stdout",
     "output_type": "stream",
     "text": [
      "Layer :  7   클러스터 갯수 정해짐!  갯수 :  2 0\n",
      "\n",
      "\n",
      "====================================================== One Global Epoch =====================================================================\n",
      "\n",
      "\n",
      "18  번째 global_epoch 데이터 랜덤하게 준비!!\n"
     ]
    },
    {
     "name": "stderr",
     "output_type": "stream",
     "text": [
      "<ipython-input-8-506962b8e734>:141: VisibleDeprecationWarning: Creating an ndarray from ragged nested sequences (which is a list-or-tuple of lists-or-tuples-or ndarrays with different lengths or shapes) is deprecated. If you meant to do this, you must specify 'dtype=object' when creating the ndarray\n",
      "  globals()['G{}_c{}_w_layer{}'.format(global_epoch, num_c_w, layer_index)] = globals()['G{}_c{}_w_layer{}'.format(global_epoch, num_c_w, layer_index)] + np.array(globals()['L{}_layer{}_w_c'.format(i,layer_index)])   # 일반 클러스터링\n"
     ]
    },
    {
     "name": "stdout",
     "output_type": "stream",
     "text": [
      "18  번째 global_epoch 데이터 랜덤 준비완료!!\n",
      "\n",
      "\n",
      "18  번째 global epoch에서 로컬 클라이언트 들 학습시작!\n",
      "\n",
      "학습 중 ...\n",
      "\n",
      "16/16 - 0s - loss: 1.9786 - accuracy: 0.5940\n",
      "16/16 - 0s - loss: 2.3269 - accuracy: 0.5880\n",
      "16/16 - 0s - loss: 2.2971 - accuracy: 0.6040\n",
      "16/16 - 0s - loss: 2.1598 - accuracy: 0.6140\n",
      "16/16 - 0s - loss: 2.1659 - accuracy: 0.5660\n",
      "16/16 - 0s - loss: 2.4580 - accuracy: 0.5840\n",
      "16/16 - 0s - loss: 2.2733 - accuracy: 0.5900\n",
      "16/16 - 0s - loss: 2.0548 - accuracy: 0.6260\n",
      "16/16 - 0s - loss: 2.1573 - accuracy: 0.6040\n",
      "16/16 - 0s - loss: 1.9199 - accuracy: 0.6560\n",
      "16/16 - 0s - loss: 2.0124 - accuracy: 0.6140\n",
      "16/16 - 0s - loss: 2.1673 - accuracy: 0.5860\n",
      "16/16 - 0s - loss: 2.3250 - accuracy: 0.6300\n",
      "16/16 - 0s - loss: 2.4580 - accuracy: 0.5600\n",
      "16/16 - 0s - loss: 2.3084 - accuracy: 0.5920\n",
      "16/16 - 0s - loss: 2.2123 - accuracy: 0.6100\n",
      "16/16 - 0s - loss: 2.0402 - accuracy: 0.6340\n",
      "16/16 - 0s - loss: 1.9910 - accuracy: 0.6360\n",
      "16/16 - 0s - loss: 2.3487 - accuracy: 0.5800\n",
      "16/16 - 0s - loss: 2.2235 - accuracy: 0.6300\n",
      "------------    18  번째 global epoch < Clustering > 로컬 클라이언트 학습 완료!,  Total Training time :  592.7906303405762 ---------------------------\n",
      "\n",
      "\n",
      "Layer :  0   클러스터 갯수 정해짐!  갯수 :  2 0\n"
     ]
    },
    {
     "name": "stderr",
     "output_type": "stream",
     "text": [
      "<ipython-input-8-506962b8e734>:141: VisibleDeprecationWarning: Creating an ndarray from ragged nested sequences (which is a list-or-tuple of lists-or-tuples-or ndarrays with different lengths or shapes) is deprecated. If you meant to do this, you must specify 'dtype=object' when creating the ndarray\n",
      "  globals()['G{}_c{}_w_layer{}'.format(global_epoch, num_c_w, layer_index)] = globals()['G{}_c{}_w_layer{}'.format(global_epoch, num_c_w, layer_index)] + np.array(globals()['L{}_layer{}_w_c'.format(i,layer_index)])   # 일반 클러스터링\n"
     ]
    },
    {
     "name": "stdout",
     "output_type": "stream",
     "text": [
      "Layer :  2   클러스터 갯수 정해짐!  갯수 :  2 0\n"
     ]
    },
    {
     "name": "stderr",
     "output_type": "stream",
     "text": [
      "<ipython-input-8-506962b8e734>:141: VisibleDeprecationWarning: Creating an ndarray from ragged nested sequences (which is a list-or-tuple of lists-or-tuples-or ndarrays with different lengths or shapes) is deprecated. If you meant to do this, you must specify 'dtype=object' when creating the ndarray\n",
      "  globals()['G{}_c{}_w_layer{}'.format(global_epoch, num_c_w, layer_index)] = globals()['G{}_c{}_w_layer{}'.format(global_epoch, num_c_w, layer_index)] + np.array(globals()['L{}_layer{}_w_c'.format(i,layer_index)])   # 일반 클러스터링\n"
     ]
    },
    {
     "name": "stdout",
     "output_type": "stream",
     "text": [
      "Layer :  4   클러스터 갯수 정해짐!  갯수 :  3 1\n"
     ]
    },
    {
     "name": "stderr",
     "output_type": "stream",
     "text": [
      "<ipython-input-8-506962b8e734>:141: VisibleDeprecationWarning: Creating an ndarray from ragged nested sequences (which is a list-or-tuple of lists-or-tuples-or ndarrays with different lengths or shapes) is deprecated. If you meant to do this, you must specify 'dtype=object' when creating the ndarray\n",
      "  globals()['G{}_c{}_w_layer{}'.format(global_epoch, num_c_w, layer_index)] = globals()['G{}_c{}_w_layer{}'.format(global_epoch, num_c_w, layer_index)] + np.array(globals()['L{}_layer{}_w_c'.format(i,layer_index)])   # 일반 클러스터링\n"
     ]
    },
    {
     "name": "stdout",
     "output_type": "stream",
     "text": [
      "Layer :  6   클러스터 갯수 정해짐!  갯수 :  2 0\n"
     ]
    },
    {
     "name": "stderr",
     "output_type": "stream",
     "text": [
      "<ipython-input-8-506962b8e734>:141: VisibleDeprecationWarning: Creating an ndarray from ragged nested sequences (which is a list-or-tuple of lists-or-tuples-or ndarrays with different lengths or shapes) is deprecated. If you meant to do this, you must specify 'dtype=object' when creating the ndarray\n",
      "  globals()['G{}_c{}_w_layer{}'.format(global_epoch, num_c_w, layer_index)] = globals()['G{}_c{}_w_layer{}'.format(global_epoch, num_c_w, layer_index)] + np.array(globals()['L{}_layer{}_w_c'.format(i,layer_index)])   # 일반 클러스터링\n"
     ]
    },
    {
     "name": "stdout",
     "output_type": "stream",
     "text": [
      "Layer :  7   클러스터 갯수 정해짐!  갯수 :  2 0\n",
      "\n",
      "\n",
      "====================================================== One Global Epoch =====================================================================\n",
      "\n",
      "\n",
      "19  번째 global_epoch 데이터 랜덤하게 준비!!\n"
     ]
    },
    {
     "name": "stderr",
     "output_type": "stream",
     "text": [
      "<ipython-input-8-506962b8e734>:141: VisibleDeprecationWarning: Creating an ndarray from ragged nested sequences (which is a list-or-tuple of lists-or-tuples-or ndarrays with different lengths or shapes) is deprecated. If you meant to do this, you must specify 'dtype=object' when creating the ndarray\n",
      "  globals()['G{}_c{}_w_layer{}'.format(global_epoch, num_c_w, layer_index)] = globals()['G{}_c{}_w_layer{}'.format(global_epoch, num_c_w, layer_index)] + np.array(globals()['L{}_layer{}_w_c'.format(i,layer_index)])   # 일반 클러스터링\n"
     ]
    },
    {
     "name": "stdout",
     "output_type": "stream",
     "text": [
      "19  번째 global_epoch 데이터 랜덤 준비완료!!\n",
      "\n",
      "\n",
      "19  번째 global epoch에서 로컬 클라이언트 들 학습시작!\n",
      "\n",
      "학습 중 ...\n",
      "\n",
      "16/16 - 0s - loss: 2.0051 - accuracy: 0.6360\n",
      "16/16 - 0s - loss: 2.4187 - accuracy: 0.5820\n",
      "16/16 - 0s - loss: 1.8102 - accuracy: 0.6300\n",
      "16/16 - 0s - loss: 2.1785 - accuracy: 0.6260\n",
      "16/16 - 0s - loss: 1.8395 - accuracy: 0.6240\n",
      "16/16 - 0s - loss: 2.9540 - accuracy: 0.5240\n",
      "16/16 - 0s - loss: 2.0239 - accuracy: 0.6600\n",
      "16/16 - 0s - loss: 2.6307 - accuracy: 0.5840\n",
      "16/16 - 0s - loss: 2.3458 - accuracy: 0.6220\n",
      "16/16 - 0s - loss: 2.1757 - accuracy: 0.6200\n",
      "16/16 - 0s - loss: 1.8889 - accuracy: 0.6440\n",
      "16/16 - 0s - loss: 2.0378 - accuracy: 0.5840\n",
      "16/16 - 0s - loss: 2.3688 - accuracy: 0.6060\n",
      "16/16 - 0s - loss: 2.3973 - accuracy: 0.5980\n",
      "16/16 - 0s - loss: 1.8950 - accuracy: 0.6160\n",
      "16/16 - 0s - loss: 2.5701 - accuracy: 0.5840\n",
      "16/16 - 0s - loss: 2.1378 - accuracy: 0.6060\n",
      "16/16 - 0s - loss: 2.0529 - accuracy: 0.6320\n",
      "16/16 - 0s - loss: 2.0028 - accuracy: 0.5980\n",
      "16/16 - 0s - loss: 2.3806 - accuracy: 0.6120\n",
      "------------    19  번째 global epoch < Clustering > 로컬 클라이언트 학습 완료!,  Total Training time :  616.5436882972717 ---------------------------\n",
      "\n",
      "\n",
      "Layer :  0   클러스터 갯수 정해짐!  갯수 :  2 0\n"
     ]
    },
    {
     "name": "stderr",
     "output_type": "stream",
     "text": [
      "<ipython-input-8-506962b8e734>:141: VisibleDeprecationWarning: Creating an ndarray from ragged nested sequences (which is a list-or-tuple of lists-or-tuples-or ndarrays with different lengths or shapes) is deprecated. If you meant to do this, you must specify 'dtype=object' when creating the ndarray\n",
      "  globals()['G{}_c{}_w_layer{}'.format(global_epoch, num_c_w, layer_index)] = globals()['G{}_c{}_w_layer{}'.format(global_epoch, num_c_w, layer_index)] + np.array(globals()['L{}_layer{}_w_c'.format(i,layer_index)])   # 일반 클러스터링\n"
     ]
    },
    {
     "name": "stdout",
     "output_type": "stream",
     "text": [
      "Layer :  2   클러스터 갯수 정해짐!  갯수 :  2 0\n"
     ]
    },
    {
     "name": "stderr",
     "output_type": "stream",
     "text": [
      "<ipython-input-8-506962b8e734>:141: VisibleDeprecationWarning: Creating an ndarray from ragged nested sequences (which is a list-or-tuple of lists-or-tuples-or ndarrays with different lengths or shapes) is deprecated. If you meant to do this, you must specify 'dtype=object' when creating the ndarray\n",
      "  globals()['G{}_c{}_w_layer{}'.format(global_epoch, num_c_w, layer_index)] = globals()['G{}_c{}_w_layer{}'.format(global_epoch, num_c_w, layer_index)] + np.array(globals()['L{}_layer{}_w_c'.format(i,layer_index)])   # 일반 클러스터링\n"
     ]
    },
    {
     "name": "stdout",
     "output_type": "stream",
     "text": [
      "Layer :  4   클러스터 갯수 정해짐!  갯수 :  2 0\n"
     ]
    },
    {
     "name": "stderr",
     "output_type": "stream",
     "text": [
      "<ipython-input-8-506962b8e734>:141: VisibleDeprecationWarning: Creating an ndarray from ragged nested sequences (which is a list-or-tuple of lists-or-tuples-or ndarrays with different lengths or shapes) is deprecated. If you meant to do this, you must specify 'dtype=object' when creating the ndarray\n",
      "  globals()['G{}_c{}_w_layer{}'.format(global_epoch, num_c_w, layer_index)] = globals()['G{}_c{}_w_layer{}'.format(global_epoch, num_c_w, layer_index)] + np.array(globals()['L{}_layer{}_w_c'.format(i,layer_index)])   # 일반 클러스터링\n"
     ]
    },
    {
     "name": "stdout",
     "output_type": "stream",
     "text": [
      "Layer :  6   클러스터 갯수 정해짐!  갯수 :  2 0\n"
     ]
    },
    {
     "name": "stderr",
     "output_type": "stream",
     "text": [
      "<ipython-input-8-506962b8e734>:141: VisibleDeprecationWarning: Creating an ndarray from ragged nested sequences (which is a list-or-tuple of lists-or-tuples-or ndarrays with different lengths or shapes) is deprecated. If you meant to do this, you must specify 'dtype=object' when creating the ndarray\n",
      "  globals()['G{}_c{}_w_layer{}'.format(global_epoch, num_c_w, layer_index)] = globals()['G{}_c{}_w_layer{}'.format(global_epoch, num_c_w, layer_index)] + np.array(globals()['L{}_layer{}_w_c'.format(i,layer_index)])   # 일반 클러스터링\n"
     ]
    },
    {
     "name": "stdout",
     "output_type": "stream",
     "text": [
      "Layer :  7   클러스터 갯수 정해짐!  갯수 :  2 0\n",
      "\n",
      "\n",
      "====================================================== One Global Epoch =====================================================================\n",
      "\n",
      "\n",
      "20  번째 global_epoch 데이터 랜덤하게 준비!!\n"
     ]
    },
    {
     "name": "stderr",
     "output_type": "stream",
     "text": [
      "<ipython-input-8-506962b8e734>:141: VisibleDeprecationWarning: Creating an ndarray from ragged nested sequences (which is a list-or-tuple of lists-or-tuples-or ndarrays with different lengths or shapes) is deprecated. If you meant to do this, you must specify 'dtype=object' when creating the ndarray\n",
      "  globals()['G{}_c{}_w_layer{}'.format(global_epoch, num_c_w, layer_index)] = globals()['G{}_c{}_w_layer{}'.format(global_epoch, num_c_w, layer_index)] + np.array(globals()['L{}_layer{}_w_c'.format(i,layer_index)])   # 일반 클러스터링\n"
     ]
    },
    {
     "name": "stdout",
     "output_type": "stream",
     "text": [
      "20  번째 global_epoch 데이터 랜덤 준비완료!!\n",
      "\n",
      "\n",
      "20  번째 global epoch에서 로컬 클라이언트 들 학습시작!\n",
      "\n",
      "학습 중 ...\n",
      "\n",
      "16/16 - 0s - loss: 2.0011 - accuracy: 0.6180\n",
      "16/16 - 0s - loss: 1.9454 - accuracy: 0.6020\n",
      "16/16 - 0s - loss: 2.3374 - accuracy: 0.5900\n",
      "16/16 - 0s - loss: 2.7042 - accuracy: 0.5940\n",
      "16/16 - 0s - loss: 2.0495 - accuracy: 0.6340\n",
      "16/16 - 0s - loss: 2.3728 - accuracy: 0.5840\n",
      "16/16 - 0s - loss: 2.0784 - accuracy: 0.6360\n",
      "16/16 - 0s - loss: 2.7213 - accuracy: 0.5740\n",
      "16/16 - 0s - loss: 2.1678 - accuracy: 0.6320\n",
      "16/16 - 0s - loss: 2.0766 - accuracy: 0.6360\n",
      "16/16 - 0s - loss: 1.9852 - accuracy: 0.6260\n",
      "16/16 - 0s - loss: 2.3714 - accuracy: 0.5840\n",
      "16/16 - 0s - loss: 2.2308 - accuracy: 0.6160\n",
      "16/16 - 0s - loss: 2.3858 - accuracy: 0.5840\n",
      "16/16 - 0s - loss: 1.9867 - accuracy: 0.6400\n",
      "16/16 - 0s - loss: 1.8090 - accuracy: 0.6560\n",
      "16/16 - 0s - loss: 2.4101 - accuracy: 0.5880\n",
      "16/16 - 0s - loss: 2.0423 - accuracy: 0.6440\n",
      "16/16 - 0s - loss: 2.1090 - accuracy: 0.5780\n",
      "16/16 - 0s - loss: 2.0643 - accuracy: 0.6540\n",
      "------------    20  번째 global epoch < Clustering > 로컬 클라이언트 학습 완료!,  Total Training time :  619.6022365093231 ---------------------------\n",
      "\n",
      "\n",
      "Layer :  0   클러스터 갯수 정해짐!  갯수 :  2 0\n"
     ]
    },
    {
     "name": "stderr",
     "output_type": "stream",
     "text": [
      "<ipython-input-8-506962b8e734>:141: VisibleDeprecationWarning: Creating an ndarray from ragged nested sequences (which is a list-or-tuple of lists-or-tuples-or ndarrays with different lengths or shapes) is deprecated. If you meant to do this, you must specify 'dtype=object' when creating the ndarray\n",
      "  globals()['G{}_c{}_w_layer{}'.format(global_epoch, num_c_w, layer_index)] = globals()['G{}_c{}_w_layer{}'.format(global_epoch, num_c_w, layer_index)] + np.array(globals()['L{}_layer{}_w_c'.format(i,layer_index)])   # 일반 클러스터링\n"
     ]
    },
    {
     "name": "stdout",
     "output_type": "stream",
     "text": [
      "Layer :  2   클러스터 갯수 정해짐!  갯수 :  2 0\n"
     ]
    },
    {
     "name": "stderr",
     "output_type": "stream",
     "text": [
      "<ipython-input-8-506962b8e734>:141: VisibleDeprecationWarning: Creating an ndarray from ragged nested sequences (which is a list-or-tuple of lists-or-tuples-or ndarrays with different lengths or shapes) is deprecated. If you meant to do this, you must specify 'dtype=object' when creating the ndarray\n",
      "  globals()['G{}_c{}_w_layer{}'.format(global_epoch, num_c_w, layer_index)] = globals()['G{}_c{}_w_layer{}'.format(global_epoch, num_c_w, layer_index)] + np.array(globals()['L{}_layer{}_w_c'.format(i,layer_index)])   # 일반 클러스터링\n"
     ]
    },
    {
     "name": "stdout",
     "output_type": "stream",
     "text": [
      "Layer :  4   클러스터 갯수 정해짐!  갯수 :  2 0\n"
     ]
    },
    {
     "name": "stderr",
     "output_type": "stream",
     "text": [
      "<ipython-input-8-506962b8e734>:141: VisibleDeprecationWarning: Creating an ndarray from ragged nested sequences (which is a list-or-tuple of lists-or-tuples-or ndarrays with different lengths or shapes) is deprecated. If you meant to do this, you must specify 'dtype=object' when creating the ndarray\n",
      "  globals()['G{}_c{}_w_layer{}'.format(global_epoch, num_c_w, layer_index)] = globals()['G{}_c{}_w_layer{}'.format(global_epoch, num_c_w, layer_index)] + np.array(globals()['L{}_layer{}_w_c'.format(i,layer_index)])   # 일반 클러스터링\n"
     ]
    },
    {
     "name": "stdout",
     "output_type": "stream",
     "text": [
      "Layer :  6   클러스터 갯수 정해짐!  갯수 :  2 0\n"
     ]
    },
    {
     "name": "stderr",
     "output_type": "stream",
     "text": [
      "<ipython-input-8-506962b8e734>:141: VisibleDeprecationWarning: Creating an ndarray from ragged nested sequences (which is a list-or-tuple of lists-or-tuples-or ndarrays with different lengths or shapes) is deprecated. If you meant to do this, you must specify 'dtype=object' when creating the ndarray\n",
      "  globals()['G{}_c{}_w_layer{}'.format(global_epoch, num_c_w, layer_index)] = globals()['G{}_c{}_w_layer{}'.format(global_epoch, num_c_w, layer_index)] + np.array(globals()['L{}_layer{}_w_c'.format(i,layer_index)])   # 일반 클러스터링\n"
     ]
    },
    {
     "name": "stdout",
     "output_type": "stream",
     "text": [
      "Layer :  7   클러스터 갯수 정해짐!  갯수 :  2 0\n",
      "\n",
      "\n",
      "====================================================== One Global Epoch =====================================================================\n",
      "\n",
      "\n",
      "21  번째 global_epoch 데이터 랜덤하게 준비!!\n"
     ]
    },
    {
     "name": "stderr",
     "output_type": "stream",
     "text": [
      "<ipython-input-8-506962b8e734>:141: VisibleDeprecationWarning: Creating an ndarray from ragged nested sequences (which is a list-or-tuple of lists-or-tuples-or ndarrays with different lengths or shapes) is deprecated. If you meant to do this, you must specify 'dtype=object' when creating the ndarray\n",
      "  globals()['G{}_c{}_w_layer{}'.format(global_epoch, num_c_w, layer_index)] = globals()['G{}_c{}_w_layer{}'.format(global_epoch, num_c_w, layer_index)] + np.array(globals()['L{}_layer{}_w_c'.format(i,layer_index)])   # 일반 클러스터링\n"
     ]
    },
    {
     "name": "stdout",
     "output_type": "stream",
     "text": [
      "21  번째 global_epoch 데이터 랜덤 준비완료!!\n",
      "\n",
      "\n",
      "21  번째 global epoch에서 로컬 클라이언트 들 학습시작!\n",
      "\n",
      "학습 중 ...\n",
      "\n",
      "16/16 - 0s - loss: 2.1624 - accuracy: 0.6040\n",
      "16/16 - 0s - loss: 2.4055 - accuracy: 0.5900\n",
      "16/16 - 0s - loss: 2.1365 - accuracy: 0.6340\n",
      "16/16 - 0s - loss: 2.0386 - accuracy: 0.6060\n",
      "16/16 - 0s - loss: 2.2967 - accuracy: 0.5960\n",
      "16/16 - 0s - loss: 2.6248 - accuracy: 0.5700\n",
      "16/16 - 0s - loss: 2.4188 - accuracy: 0.5920\n",
      "16/16 - 0s - loss: 2.2714 - accuracy: 0.6320\n",
      "16/16 - 0s - loss: 2.1518 - accuracy: 0.6480\n",
      "16/16 - 0s - loss: 2.2446 - accuracy: 0.6040\n",
      "16/16 - 0s - loss: 2.0360 - accuracy: 0.6540\n",
      "16/16 - 0s - loss: 2.0647 - accuracy: 0.6120\n",
      "16/16 - 0s - loss: 2.4332 - accuracy: 0.6080\n",
      "16/16 - 0s - loss: 1.9798 - accuracy: 0.6380\n",
      "16/16 - 0s - loss: 2.0905 - accuracy: 0.6380\n",
      "16/16 - 0s - loss: 2.7128 - accuracy: 0.5700\n",
      "16/16 - 0s - loss: 2.0547 - accuracy: 0.6320\n",
      "16/16 - 0s - loss: 2.1433 - accuracy: 0.6020\n",
      "16/16 - 0s - loss: 2.1034 - accuracy: 0.6080\n",
      "16/16 - 0s - loss: 1.9594 - accuracy: 0.6140\n",
      "------------    21  번째 global epoch < Clustering > 로컬 클라이언트 학습 완료!,  Total Training time :  660.2282185554504 ---------------------------\n",
      "\n",
      "\n",
      "Layer :  0   클러스터 갯수 정해짐!  갯수 :  2 0\n"
     ]
    },
    {
     "name": "stderr",
     "output_type": "stream",
     "text": [
      "<ipython-input-8-506962b8e734>:141: VisibleDeprecationWarning: Creating an ndarray from ragged nested sequences (which is a list-or-tuple of lists-or-tuples-or ndarrays with different lengths or shapes) is deprecated. If you meant to do this, you must specify 'dtype=object' when creating the ndarray\n",
      "  globals()['G{}_c{}_w_layer{}'.format(global_epoch, num_c_w, layer_index)] = globals()['G{}_c{}_w_layer{}'.format(global_epoch, num_c_w, layer_index)] + np.array(globals()['L{}_layer{}_w_c'.format(i,layer_index)])   # 일반 클러스터링\n"
     ]
    },
    {
     "name": "stdout",
     "output_type": "stream",
     "text": [
      "Layer :  2   클러스터 갯수 정해짐!  갯수 :  2 0\n"
     ]
    },
    {
     "name": "stderr",
     "output_type": "stream",
     "text": [
      "<ipython-input-8-506962b8e734>:141: VisibleDeprecationWarning: Creating an ndarray from ragged nested sequences (which is a list-or-tuple of lists-or-tuples-or ndarrays with different lengths or shapes) is deprecated. If you meant to do this, you must specify 'dtype=object' when creating the ndarray\n",
      "  globals()['G{}_c{}_w_layer{}'.format(global_epoch, num_c_w, layer_index)] = globals()['G{}_c{}_w_layer{}'.format(global_epoch, num_c_w, layer_index)] + np.array(globals()['L{}_layer{}_w_c'.format(i,layer_index)])   # 일반 클러스터링\n"
     ]
    },
    {
     "name": "stdout",
     "output_type": "stream",
     "text": [
      "Layer :  4   클러스터 갯수 정해짐!  갯수 :  3 1\n"
     ]
    },
    {
     "name": "stderr",
     "output_type": "stream",
     "text": [
      "<ipython-input-8-506962b8e734>:141: VisibleDeprecationWarning: Creating an ndarray from ragged nested sequences (which is a list-or-tuple of lists-or-tuples-or ndarrays with different lengths or shapes) is deprecated. If you meant to do this, you must specify 'dtype=object' when creating the ndarray\n",
      "  globals()['G{}_c{}_w_layer{}'.format(global_epoch, num_c_w, layer_index)] = globals()['G{}_c{}_w_layer{}'.format(global_epoch, num_c_w, layer_index)] + np.array(globals()['L{}_layer{}_w_c'.format(i,layer_index)])   # 일반 클러스터링\n"
     ]
    },
    {
     "name": "stdout",
     "output_type": "stream",
     "text": [
      "Layer :  6   클러스터 갯수 정해짐!  갯수 :  2 0\n"
     ]
    },
    {
     "name": "stderr",
     "output_type": "stream",
     "text": [
      "<ipython-input-8-506962b8e734>:141: VisibleDeprecationWarning: Creating an ndarray from ragged nested sequences (which is a list-or-tuple of lists-or-tuples-or ndarrays with different lengths or shapes) is deprecated. If you meant to do this, you must specify 'dtype=object' when creating the ndarray\n",
      "  globals()['G{}_c{}_w_layer{}'.format(global_epoch, num_c_w, layer_index)] = globals()['G{}_c{}_w_layer{}'.format(global_epoch, num_c_w, layer_index)] + np.array(globals()['L{}_layer{}_w_c'.format(i,layer_index)])   # 일반 클러스터링\n"
     ]
    },
    {
     "name": "stdout",
     "output_type": "stream",
     "text": [
      "Layer :  7   클러스터 갯수 정해짐!  갯수 :  2 0\n",
      "\n",
      "\n",
      "====================================================== One Global Epoch =====================================================================\n",
      "\n",
      "\n",
      "22  번째 global_epoch 데이터 랜덤하게 준비!!\n"
     ]
    },
    {
     "name": "stderr",
     "output_type": "stream",
     "text": [
      "<ipython-input-8-506962b8e734>:141: VisibleDeprecationWarning: Creating an ndarray from ragged nested sequences (which is a list-or-tuple of lists-or-tuples-or ndarrays with different lengths or shapes) is deprecated. If you meant to do this, you must specify 'dtype=object' when creating the ndarray\n",
      "  globals()['G{}_c{}_w_layer{}'.format(global_epoch, num_c_w, layer_index)] = globals()['G{}_c{}_w_layer{}'.format(global_epoch, num_c_w, layer_index)] + np.array(globals()['L{}_layer{}_w_c'.format(i,layer_index)])   # 일반 클러스터링\n"
     ]
    },
    {
     "name": "stdout",
     "output_type": "stream",
     "text": [
      "22  번째 global_epoch 데이터 랜덤 준비완료!!\n",
      "\n",
      "\n",
      "22  번째 global epoch에서 로컬 클라이언트 들 학습시작!\n",
      "\n",
      "학습 중 ...\n",
      "\n",
      "16/16 - 0s - loss: 1.8953 - accuracy: 0.6240\n",
      "16/16 - 0s - loss: 2.6426 - accuracy: 0.5960\n",
      "16/16 - 0s - loss: 2.4745 - accuracy: 0.6000\n",
      "16/16 - 0s - loss: 2.1690 - accuracy: 0.6340\n",
      "16/16 - 0s - loss: 2.2560 - accuracy: 0.5940\n",
      "16/16 - 0s - loss: 2.7471 - accuracy: 0.5580\n",
      "16/16 - 0s - loss: 2.2329 - accuracy: 0.6120\n",
      "16/16 - 0s - loss: 2.1759 - accuracy: 0.6500\n",
      "16/16 - 0s - loss: 2.6495 - accuracy: 0.5700\n",
      "16/16 - 0s - loss: 1.9817 - accuracy: 0.6260\n",
      "16/16 - 0s - loss: 1.9938 - accuracy: 0.6300\n",
      "16/16 - 0s - loss: 2.2379 - accuracy: 0.6040\n",
      "16/16 - 0s - loss: 2.0997 - accuracy: 0.6320\n",
      "16/16 - 0s - loss: 2.0703 - accuracy: 0.6120\n",
      "16/16 - 0s - loss: 1.9253 - accuracy: 0.6400\n",
      "16/16 - 0s - loss: 2.5249 - accuracy: 0.6200\n",
      "16/16 - 0s - loss: 2.0358 - accuracy: 0.6420\n",
      "16/16 - 0s - loss: 2.3858 - accuracy: 0.6200\n",
      "16/16 - 0s - loss: 2.2327 - accuracy: 0.6300\n",
      "16/16 - 0s - loss: 2.4072 - accuracy: 0.6180\n",
      "------------    22  번째 global epoch < Clustering > 로컬 클라이언트 학습 완료!,  Total Training time :  705.6313655376434 ---------------------------\n",
      "\n",
      "\n",
      "Layer :  0   클러스터 갯수 정해짐!  갯수 :  2 0\n"
     ]
    },
    {
     "name": "stderr",
     "output_type": "stream",
     "text": [
      "<ipython-input-8-506962b8e734>:141: VisibleDeprecationWarning: Creating an ndarray from ragged nested sequences (which is a list-or-tuple of lists-or-tuples-or ndarrays with different lengths or shapes) is deprecated. If you meant to do this, you must specify 'dtype=object' when creating the ndarray\n",
      "  globals()['G{}_c{}_w_layer{}'.format(global_epoch, num_c_w, layer_index)] = globals()['G{}_c{}_w_layer{}'.format(global_epoch, num_c_w, layer_index)] + np.array(globals()['L{}_layer{}_w_c'.format(i,layer_index)])   # 일반 클러스터링\n"
     ]
    },
    {
     "name": "stdout",
     "output_type": "stream",
     "text": [
      "Layer :  2   클러스터 갯수 정해짐!  갯수 :  2 0\n"
     ]
    },
    {
     "name": "stderr",
     "output_type": "stream",
     "text": [
      "<ipython-input-8-506962b8e734>:141: VisibleDeprecationWarning: Creating an ndarray from ragged nested sequences (which is a list-or-tuple of lists-or-tuples-or ndarrays with different lengths or shapes) is deprecated. If you meant to do this, you must specify 'dtype=object' when creating the ndarray\n",
      "  globals()['G{}_c{}_w_layer{}'.format(global_epoch, num_c_w, layer_index)] = globals()['G{}_c{}_w_layer{}'.format(global_epoch, num_c_w, layer_index)] + np.array(globals()['L{}_layer{}_w_c'.format(i,layer_index)])   # 일반 클러스터링\n"
     ]
    },
    {
     "name": "stdout",
     "output_type": "stream",
     "text": [
      "Layer :  4   클러스터 갯수 정해짐!  갯수 :  3 1\n"
     ]
    },
    {
     "name": "stderr",
     "output_type": "stream",
     "text": [
      "<ipython-input-8-506962b8e734>:141: VisibleDeprecationWarning: Creating an ndarray from ragged nested sequences (which is a list-or-tuple of lists-or-tuples-or ndarrays with different lengths or shapes) is deprecated. If you meant to do this, you must specify 'dtype=object' when creating the ndarray\n",
      "  globals()['G{}_c{}_w_layer{}'.format(global_epoch, num_c_w, layer_index)] = globals()['G{}_c{}_w_layer{}'.format(global_epoch, num_c_w, layer_index)] + np.array(globals()['L{}_layer{}_w_c'.format(i,layer_index)])   # 일반 클러스터링\n"
     ]
    },
    {
     "name": "stdout",
     "output_type": "stream",
     "text": [
      "Layer :  6   클러스터 갯수 정해짐!  갯수 :  2 0\n"
     ]
    },
    {
     "name": "stderr",
     "output_type": "stream",
     "text": [
      "<ipython-input-8-506962b8e734>:141: VisibleDeprecationWarning: Creating an ndarray from ragged nested sequences (which is a list-or-tuple of lists-or-tuples-or ndarrays with different lengths or shapes) is deprecated. If you meant to do this, you must specify 'dtype=object' when creating the ndarray\n",
      "  globals()['G{}_c{}_w_layer{}'.format(global_epoch, num_c_w, layer_index)] = globals()['G{}_c{}_w_layer{}'.format(global_epoch, num_c_w, layer_index)] + np.array(globals()['L{}_layer{}_w_c'.format(i,layer_index)])   # 일반 클러스터링\n"
     ]
    },
    {
     "name": "stdout",
     "output_type": "stream",
     "text": [
      "Layer :  7   클러스터 갯수 정해짐!  갯수 :  2 0\n",
      "\n",
      "\n",
      "====================================================== One Global Epoch =====================================================================\n",
      "\n",
      "\n",
      "23  번째 global_epoch 데이터 랜덤하게 준비!!\n"
     ]
    },
    {
     "name": "stderr",
     "output_type": "stream",
     "text": [
      "<ipython-input-8-506962b8e734>:141: VisibleDeprecationWarning: Creating an ndarray from ragged nested sequences (which is a list-or-tuple of lists-or-tuples-or ndarrays with different lengths or shapes) is deprecated. If you meant to do this, you must specify 'dtype=object' when creating the ndarray\n",
      "  globals()['G{}_c{}_w_layer{}'.format(global_epoch, num_c_w, layer_index)] = globals()['G{}_c{}_w_layer{}'.format(global_epoch, num_c_w, layer_index)] + np.array(globals()['L{}_layer{}_w_c'.format(i,layer_index)])   # 일반 클러스터링\n"
     ]
    },
    {
     "name": "stdout",
     "output_type": "stream",
     "text": [
      "23  번째 global_epoch 데이터 랜덤 준비완료!!\n",
      "\n",
      "\n",
      "23  번째 global epoch에서 로컬 클라이언트 들 학습시작!\n",
      "\n",
      "학습 중 ...\n",
      "\n",
      "16/16 - 0s - loss: 2.5725 - accuracy: 0.6180\n",
      "16/16 - 0s - loss: 2.0122 - accuracy: 0.6360\n",
      "16/16 - 0s - loss: 2.2766 - accuracy: 0.6420\n",
      "16/16 - 0s - loss: 2.4164 - accuracy: 0.6280\n",
      "16/16 - 0s - loss: 2.6044 - accuracy: 0.5920\n",
      "16/16 - 0s - loss: 2.2278 - accuracy: 0.6160\n",
      "16/16 - 0s - loss: 2.6641 - accuracy: 0.6000\n",
      "16/16 - 0s - loss: 2.2067 - accuracy: 0.5860\n",
      "16/16 - 0s - loss: 2.0520 - accuracy: 0.6220\n",
      "16/16 - 0s - loss: 2.0637 - accuracy: 0.6200\n",
      "16/16 - 0s - loss: 2.1162 - accuracy: 0.6260\n",
      "16/16 - 0s - loss: 2.3015 - accuracy: 0.5680\n",
      "16/16 - 0s - loss: 2.0861 - accuracy: 0.6360\n",
      "16/16 - 0s - loss: 2.2106 - accuracy: 0.6520\n",
      "16/16 - 0s - loss: 2.6130 - accuracy: 0.6000\n",
      "16/16 - 0s - loss: 2.0653 - accuracy: 0.6440\n",
      "16/16 - 0s - loss: 2.4183 - accuracy: 0.6460\n",
      "16/16 - 0s - loss: 2.1199 - accuracy: 0.6000\n",
      "16/16 - 0s - loss: 2.1694 - accuracy: 0.6260\n",
      "16/16 - 0s - loss: 2.1887 - accuracy: 0.6300\n",
      "------------    23  번째 global epoch < Clustering > 로컬 클라이언트 학습 완료!,  Total Training time :  726.3090233802795 ---------------------------\n",
      "\n",
      "\n",
      "Layer :  0   클러스터 갯수 정해짐!  갯수 :  2 0\n"
     ]
    },
    {
     "name": "stderr",
     "output_type": "stream",
     "text": [
      "<ipython-input-8-506962b8e734>:141: VisibleDeprecationWarning: Creating an ndarray from ragged nested sequences (which is a list-or-tuple of lists-or-tuples-or ndarrays with different lengths or shapes) is deprecated. If you meant to do this, you must specify 'dtype=object' when creating the ndarray\n",
      "  globals()['G{}_c{}_w_layer{}'.format(global_epoch, num_c_w, layer_index)] = globals()['G{}_c{}_w_layer{}'.format(global_epoch, num_c_w, layer_index)] + np.array(globals()['L{}_layer{}_w_c'.format(i,layer_index)])   # 일반 클러스터링\n"
     ]
    },
    {
     "name": "stdout",
     "output_type": "stream",
     "text": [
      "Layer :  2   클러스터 갯수 정해짐!  갯수 :  2 0\n"
     ]
    },
    {
     "name": "stderr",
     "output_type": "stream",
     "text": [
      "<ipython-input-8-506962b8e734>:141: VisibleDeprecationWarning: Creating an ndarray from ragged nested sequences (which is a list-or-tuple of lists-or-tuples-or ndarrays with different lengths or shapes) is deprecated. If you meant to do this, you must specify 'dtype=object' when creating the ndarray\n",
      "  globals()['G{}_c{}_w_layer{}'.format(global_epoch, num_c_w, layer_index)] = globals()['G{}_c{}_w_layer{}'.format(global_epoch, num_c_w, layer_index)] + np.array(globals()['L{}_layer{}_w_c'.format(i,layer_index)])   # 일반 클러스터링\n"
     ]
    },
    {
     "name": "stdout",
     "output_type": "stream",
     "text": [
      "Layer :  4   클러스터 갯수 정해짐!  갯수 :  3 1\n"
     ]
    },
    {
     "name": "stderr",
     "output_type": "stream",
     "text": [
      "<ipython-input-8-506962b8e734>:141: VisibleDeprecationWarning: Creating an ndarray from ragged nested sequences (which is a list-or-tuple of lists-or-tuples-or ndarrays with different lengths or shapes) is deprecated. If you meant to do this, you must specify 'dtype=object' when creating the ndarray\n",
      "  globals()['G{}_c{}_w_layer{}'.format(global_epoch, num_c_w, layer_index)] = globals()['G{}_c{}_w_layer{}'.format(global_epoch, num_c_w, layer_index)] + np.array(globals()['L{}_layer{}_w_c'.format(i,layer_index)])   # 일반 클러스터링\n"
     ]
    },
    {
     "name": "stdout",
     "output_type": "stream",
     "text": [
      "Layer :  6   클러스터 갯수 정해짐!  갯수 :  2 0\n"
     ]
    },
    {
     "name": "stderr",
     "output_type": "stream",
     "text": [
      "<ipython-input-8-506962b8e734>:141: VisibleDeprecationWarning: Creating an ndarray from ragged nested sequences (which is a list-or-tuple of lists-or-tuples-or ndarrays with different lengths or shapes) is deprecated. If you meant to do this, you must specify 'dtype=object' when creating the ndarray\n",
      "  globals()['G{}_c{}_w_layer{}'.format(global_epoch, num_c_w, layer_index)] = globals()['G{}_c{}_w_layer{}'.format(global_epoch, num_c_w, layer_index)] + np.array(globals()['L{}_layer{}_w_c'.format(i,layer_index)])   # 일반 클러스터링\n"
     ]
    },
    {
     "name": "stdout",
     "output_type": "stream",
     "text": [
      "Layer :  7   클러스터 갯수 정해짐!  갯수 :  2 0\n",
      "\n",
      "\n",
      "====================================================== One Global Epoch =====================================================================\n",
      "\n",
      "\n",
      "24  번째 global_epoch 데이터 랜덤하게 준비!!\n"
     ]
    },
    {
     "name": "stderr",
     "output_type": "stream",
     "text": [
      "<ipython-input-8-506962b8e734>:141: VisibleDeprecationWarning: Creating an ndarray from ragged nested sequences (which is a list-or-tuple of lists-or-tuples-or ndarrays with different lengths or shapes) is deprecated. If you meant to do this, you must specify 'dtype=object' when creating the ndarray\n",
      "  globals()['G{}_c{}_w_layer{}'.format(global_epoch, num_c_w, layer_index)] = globals()['G{}_c{}_w_layer{}'.format(global_epoch, num_c_w, layer_index)] + np.array(globals()['L{}_layer{}_w_c'.format(i,layer_index)])   # 일반 클러스터링\n"
     ]
    },
    {
     "name": "stdout",
     "output_type": "stream",
     "text": [
      "24  번째 global_epoch 데이터 랜덤 준비완료!!\n",
      "\n",
      "\n",
      "24  번째 global epoch에서 로컬 클라이언트 들 학습시작!\n",
      "\n",
      "학습 중 ...\n",
      "\n",
      "16/16 - 0s - loss: 2.2762 - accuracy: 0.5980\n",
      "16/16 - 0s - loss: 1.9587 - accuracy: 0.6520\n",
      "16/16 - 0s - loss: 2.2233 - accuracy: 0.6020\n",
      "16/16 - 0s - loss: 2.4781 - accuracy: 0.6060\n",
      "16/16 - 0s - loss: 2.2478 - accuracy: 0.5880\n",
      "16/16 - 0s - loss: 2.7872 - accuracy: 0.5640\n",
      "16/16 - 0s - loss: 2.4906 - accuracy: 0.5820\n",
      "16/16 - 0s - loss: 2.2421 - accuracy: 0.6280\n",
      "16/16 - 0s - loss: 2.2816 - accuracy: 0.6160\n",
      "16/16 - 0s - loss: 2.3172 - accuracy: 0.6220\n",
      "16/16 - 0s - loss: 2.0872 - accuracy: 0.6500\n",
      "16/16 - 0s - loss: 2.6005 - accuracy: 0.5540\n",
      "16/16 - 0s - loss: 1.9478 - accuracy: 0.6580\n",
      "16/16 - 0s - loss: 1.9118 - accuracy: 0.6820\n",
      "16/16 - 0s - loss: 2.6949 - accuracy: 0.5740\n",
      "16/16 - 0s - loss: 2.1947 - accuracy: 0.6000\n",
      "16/16 - 0s - loss: 2.1118 - accuracy: 0.6180\n",
      "16/16 - 0s - loss: 2.4066 - accuracy: 0.6240\n",
      "16/16 - 0s - loss: 2.1392 - accuracy: 0.6240\n",
      "16/16 - 0s - loss: 2.6036 - accuracy: 0.5440\n",
      "------------    24  번째 global epoch < Clustering > 로컬 클라이언트 학습 완료!,  Total Training time :  746.3060009479523 ---------------------------\n",
      "\n",
      "\n",
      "Layer :  0   클러스터 갯수 정해짐!  갯수 :  2 0\n"
     ]
    },
    {
     "name": "stderr",
     "output_type": "stream",
     "text": [
      "<ipython-input-8-506962b8e734>:141: VisibleDeprecationWarning: Creating an ndarray from ragged nested sequences (which is a list-or-tuple of lists-or-tuples-or ndarrays with different lengths or shapes) is deprecated. If you meant to do this, you must specify 'dtype=object' when creating the ndarray\n",
      "  globals()['G{}_c{}_w_layer{}'.format(global_epoch, num_c_w, layer_index)] = globals()['G{}_c{}_w_layer{}'.format(global_epoch, num_c_w, layer_index)] + np.array(globals()['L{}_layer{}_w_c'.format(i,layer_index)])   # 일반 클러스터링\n"
     ]
    },
    {
     "name": "stdout",
     "output_type": "stream",
     "text": [
      "Layer :  2   클러스터 갯수 정해짐!  갯수 :  2 0\n"
     ]
    },
    {
     "name": "stderr",
     "output_type": "stream",
     "text": [
      "<ipython-input-8-506962b8e734>:141: VisibleDeprecationWarning: Creating an ndarray from ragged nested sequences (which is a list-or-tuple of lists-or-tuples-or ndarrays with different lengths or shapes) is deprecated. If you meant to do this, you must specify 'dtype=object' when creating the ndarray\n",
      "  globals()['G{}_c{}_w_layer{}'.format(global_epoch, num_c_w, layer_index)] = globals()['G{}_c{}_w_layer{}'.format(global_epoch, num_c_w, layer_index)] + np.array(globals()['L{}_layer{}_w_c'.format(i,layer_index)])   # 일반 클러스터링\n"
     ]
    },
    {
     "name": "stdout",
     "output_type": "stream",
     "text": [
      "Layer :  4   클러스터 갯수 정해짐!  갯수 :  3 1\n"
     ]
    },
    {
     "name": "stderr",
     "output_type": "stream",
     "text": [
      "<ipython-input-8-506962b8e734>:141: VisibleDeprecationWarning: Creating an ndarray from ragged nested sequences (which is a list-or-tuple of lists-or-tuples-or ndarrays with different lengths or shapes) is deprecated. If you meant to do this, you must specify 'dtype=object' when creating the ndarray\n",
      "  globals()['G{}_c{}_w_layer{}'.format(global_epoch, num_c_w, layer_index)] = globals()['G{}_c{}_w_layer{}'.format(global_epoch, num_c_w, layer_index)] + np.array(globals()['L{}_layer{}_w_c'.format(i,layer_index)])   # 일반 클러스터링\n"
     ]
    },
    {
     "name": "stdout",
     "output_type": "stream",
     "text": [
      "Layer :  6   클러스터 갯수 정해짐!  갯수 :  2 0\n"
     ]
    },
    {
     "name": "stderr",
     "output_type": "stream",
     "text": [
      "<ipython-input-8-506962b8e734>:141: VisibleDeprecationWarning: Creating an ndarray from ragged nested sequences (which is a list-or-tuple of lists-or-tuples-or ndarrays with different lengths or shapes) is deprecated. If you meant to do this, you must specify 'dtype=object' when creating the ndarray\n",
      "  globals()['G{}_c{}_w_layer{}'.format(global_epoch, num_c_w, layer_index)] = globals()['G{}_c{}_w_layer{}'.format(global_epoch, num_c_w, layer_index)] + np.array(globals()['L{}_layer{}_w_c'.format(i,layer_index)])   # 일반 클러스터링\n"
     ]
    },
    {
     "name": "stdout",
     "output_type": "stream",
     "text": [
      "Layer :  7   클러스터 갯수 정해짐!  갯수 :  2 0\n",
      "\n",
      "\n",
      "====================================================== One Global Epoch =====================================================================\n",
      "\n",
      "\n",
      "25  번째 global_epoch 데이터 랜덤하게 준비!!\n"
     ]
    },
    {
     "name": "stderr",
     "output_type": "stream",
     "text": [
      "<ipython-input-8-506962b8e734>:141: VisibleDeprecationWarning: Creating an ndarray from ragged nested sequences (which is a list-or-tuple of lists-or-tuples-or ndarrays with different lengths or shapes) is deprecated. If you meant to do this, you must specify 'dtype=object' when creating the ndarray\n",
      "  globals()['G{}_c{}_w_layer{}'.format(global_epoch, num_c_w, layer_index)] = globals()['G{}_c{}_w_layer{}'.format(global_epoch, num_c_w, layer_index)] + np.array(globals()['L{}_layer{}_w_c'.format(i,layer_index)])   # 일반 클러스터링\n"
     ]
    },
    {
     "name": "stdout",
     "output_type": "stream",
     "text": [
      "25  번째 global_epoch 데이터 랜덤 준비완료!!\n",
      "\n",
      "\n",
      "25  번째 global epoch에서 로컬 클라이언트 들 학습시작!\n",
      "\n",
      "학습 중 ...\n",
      "\n",
      "16/16 - 0s - loss: 2.1978 - accuracy: 0.6120\n",
      "16/16 - 0s - loss: 2.2685 - accuracy: 0.6460\n",
      "16/16 - 0s - loss: 2.2523 - accuracy: 0.6380\n",
      "16/16 - 0s - loss: 2.3311 - accuracy: 0.6260\n",
      "16/16 - 0s - loss: 2.3805 - accuracy: 0.6360\n",
      "16/16 - 0s - loss: 2.1406 - accuracy: 0.6400\n",
      "16/16 - 0s - loss: 2.3884 - accuracy: 0.6180\n",
      "16/16 - 0s - loss: 2.3110 - accuracy: 0.5940\n",
      "16/16 - 0s - loss: 2.0210 - accuracy: 0.6560\n",
      "16/16 - 0s - loss: 2.5077 - accuracy: 0.5880\n",
      "16/16 - 0s - loss: 1.9824 - accuracy: 0.6700\n",
      "16/16 - 0s - loss: 2.3485 - accuracy: 0.5960\n",
      "16/16 - 0s - loss: 2.6825 - accuracy: 0.5760\n",
      "16/16 - 0s - loss: 2.4255 - accuracy: 0.6220\n",
      "16/16 - 0s - loss: 2.3821 - accuracy: 0.5760\n",
      "16/16 - 0s - loss: 2.1255 - accuracy: 0.6660\n",
      "16/16 - 0s - loss: 2.0088 - accuracy: 0.6320\n",
      "16/16 - 0s - loss: 2.2397 - accuracy: 0.6400\n",
      "16/16 - 0s - loss: 2.2759 - accuracy: 0.6300\n",
      "16/16 - 0s - loss: 2.0778 - accuracy: 0.6540\n",
      "------------    25  번째 global epoch < Clustering > 로컬 클라이언트 학습 완료!,  Total Training time :  783.7953155040741 ---------------------------\n",
      "\n",
      "\n",
      "Layer :  0   클러스터 갯수 정해짐!  갯수 :  2 0\n"
     ]
    },
    {
     "name": "stderr",
     "output_type": "stream",
     "text": [
      "<ipython-input-8-506962b8e734>:141: VisibleDeprecationWarning: Creating an ndarray from ragged nested sequences (which is a list-or-tuple of lists-or-tuples-or ndarrays with different lengths or shapes) is deprecated. If you meant to do this, you must specify 'dtype=object' when creating the ndarray\n",
      "  globals()['G{}_c{}_w_layer{}'.format(global_epoch, num_c_w, layer_index)] = globals()['G{}_c{}_w_layer{}'.format(global_epoch, num_c_w, layer_index)] + np.array(globals()['L{}_layer{}_w_c'.format(i,layer_index)])   # 일반 클러스터링\n"
     ]
    },
    {
     "name": "stdout",
     "output_type": "stream",
     "text": [
      "Layer :  2   클러스터 갯수 정해짐!  갯수 :  2 0\n"
     ]
    },
    {
     "name": "stderr",
     "output_type": "stream",
     "text": [
      "<ipython-input-8-506962b8e734>:141: VisibleDeprecationWarning: Creating an ndarray from ragged nested sequences (which is a list-or-tuple of lists-or-tuples-or ndarrays with different lengths or shapes) is deprecated. If you meant to do this, you must specify 'dtype=object' when creating the ndarray\n",
      "  globals()['G{}_c{}_w_layer{}'.format(global_epoch, num_c_w, layer_index)] = globals()['G{}_c{}_w_layer{}'.format(global_epoch, num_c_w, layer_index)] + np.array(globals()['L{}_layer{}_w_c'.format(i,layer_index)])   # 일반 클러스터링\n"
     ]
    },
    {
     "name": "stdout",
     "output_type": "stream",
     "text": [
      "Layer :  4   클러스터 갯수 정해짐!  갯수 :  3 1\n"
     ]
    },
    {
     "name": "stderr",
     "output_type": "stream",
     "text": [
      "<ipython-input-8-506962b8e734>:141: VisibleDeprecationWarning: Creating an ndarray from ragged nested sequences (which is a list-or-tuple of lists-or-tuples-or ndarrays with different lengths or shapes) is deprecated. If you meant to do this, you must specify 'dtype=object' when creating the ndarray\n",
      "  globals()['G{}_c{}_w_layer{}'.format(global_epoch, num_c_w, layer_index)] = globals()['G{}_c{}_w_layer{}'.format(global_epoch, num_c_w, layer_index)] + np.array(globals()['L{}_layer{}_w_c'.format(i,layer_index)])   # 일반 클러스터링\n"
     ]
    },
    {
     "name": "stdout",
     "output_type": "stream",
     "text": [
      "Layer :  6   클러스터 갯수 정해짐!  갯수 :  2 0\n"
     ]
    },
    {
     "name": "stderr",
     "output_type": "stream",
     "text": [
      "<ipython-input-8-506962b8e734>:141: VisibleDeprecationWarning: Creating an ndarray from ragged nested sequences (which is a list-or-tuple of lists-or-tuples-or ndarrays with different lengths or shapes) is deprecated. If you meant to do this, you must specify 'dtype=object' when creating the ndarray\n",
      "  globals()['G{}_c{}_w_layer{}'.format(global_epoch, num_c_w, layer_index)] = globals()['G{}_c{}_w_layer{}'.format(global_epoch, num_c_w, layer_index)] + np.array(globals()['L{}_layer{}_w_c'.format(i,layer_index)])   # 일반 클러스터링\n"
     ]
    },
    {
     "name": "stdout",
     "output_type": "stream",
     "text": [
      "Layer :  7   클러스터 갯수 정해짐!  갯수 :  2 0\n",
      "\n",
      "\n",
      "====================================================== One Global Epoch =====================================================================\n",
      "\n",
      "\n",
      "26  번째 global_epoch 데이터 랜덤하게 준비!!\n"
     ]
    },
    {
     "name": "stderr",
     "output_type": "stream",
     "text": [
      "<ipython-input-8-506962b8e734>:141: VisibleDeprecationWarning: Creating an ndarray from ragged nested sequences (which is a list-or-tuple of lists-or-tuples-or ndarrays with different lengths or shapes) is deprecated. If you meant to do this, you must specify 'dtype=object' when creating the ndarray\n",
      "  globals()['G{}_c{}_w_layer{}'.format(global_epoch, num_c_w, layer_index)] = globals()['G{}_c{}_w_layer{}'.format(global_epoch, num_c_w, layer_index)] + np.array(globals()['L{}_layer{}_w_c'.format(i,layer_index)])   # 일반 클러스터링\n"
     ]
    },
    {
     "name": "stdout",
     "output_type": "stream",
     "text": [
      "26  번째 global_epoch 데이터 랜덤 준비완료!!\n",
      "\n",
      "\n",
      "26  번째 global epoch에서 로컬 클라이언트 들 학습시작!\n",
      "\n",
      "학습 중 ...\n",
      "\n",
      "16/16 - 0s - loss: 2.2018 - accuracy: 0.6300\n",
      "16/16 - 0s - loss: 2.3268 - accuracy: 0.6500\n",
      "16/16 - 0s - loss: 2.3169 - accuracy: 0.6300\n",
      "16/16 - 0s - loss: 2.2880 - accuracy: 0.6500\n",
      "16/16 - 0s - loss: 2.0985 - accuracy: 0.6160\n",
      "16/16 - 0s - loss: 3.2232 - accuracy: 0.5540\n",
      "16/16 - 0s - loss: 1.7475 - accuracy: 0.6780\n",
      "16/16 - 0s - loss: 2.2735 - accuracy: 0.6040\n",
      "16/16 - 0s - loss: 1.9743 - accuracy: 0.6180\n",
      "16/16 - 0s - loss: 2.1123 - accuracy: 0.6240\n",
      "16/16 - 0s - loss: 2.2002 - accuracy: 0.6600\n",
      "16/16 - 0s - loss: 2.2956 - accuracy: 0.6160\n",
      "16/16 - 0s - loss: 1.8846 - accuracy: 0.6620\n",
      "16/16 - 0s - loss: 2.2581 - accuracy: 0.6220\n",
      "16/16 - 0s - loss: 1.9292 - accuracy: 0.6220\n",
      "16/16 - 0s - loss: 1.9355 - accuracy: 0.6480\n",
      "16/16 - 0s - loss: 1.9629 - accuracy: 0.6540\n",
      "16/16 - 0s - loss: 2.7079 - accuracy: 0.5980\n",
      "16/16 - 0s - loss: 2.2489 - accuracy: 0.6220\n",
      "16/16 - 0s - loss: 2.0245 - accuracy: 0.6400\n",
      "------------    26  번째 global epoch < Clustering > 로컬 클라이언트 학습 완료!,  Total Training time :  833.7875413894653 ---------------------------\n",
      "\n",
      "\n",
      "Layer :  0   클러스터 갯수 정해짐!  갯수 :  2 0\n"
     ]
    },
    {
     "name": "stderr",
     "output_type": "stream",
     "text": [
      "<ipython-input-8-506962b8e734>:141: VisibleDeprecationWarning: Creating an ndarray from ragged nested sequences (which is a list-or-tuple of lists-or-tuples-or ndarrays with different lengths or shapes) is deprecated. If you meant to do this, you must specify 'dtype=object' when creating the ndarray\n",
      "  globals()['G{}_c{}_w_layer{}'.format(global_epoch, num_c_w, layer_index)] = globals()['G{}_c{}_w_layer{}'.format(global_epoch, num_c_w, layer_index)] + np.array(globals()['L{}_layer{}_w_c'.format(i,layer_index)])   # 일반 클러스터링\n"
     ]
    },
    {
     "name": "stdout",
     "output_type": "stream",
     "text": [
      "Layer :  2   클러스터 갯수 정해짐!  갯수 :  2 0\n"
     ]
    },
    {
     "name": "stderr",
     "output_type": "stream",
     "text": [
      "<ipython-input-8-506962b8e734>:141: VisibleDeprecationWarning: Creating an ndarray from ragged nested sequences (which is a list-or-tuple of lists-or-tuples-or ndarrays with different lengths or shapes) is deprecated. If you meant to do this, you must specify 'dtype=object' when creating the ndarray\n",
      "  globals()['G{}_c{}_w_layer{}'.format(global_epoch, num_c_w, layer_index)] = globals()['G{}_c{}_w_layer{}'.format(global_epoch, num_c_w, layer_index)] + np.array(globals()['L{}_layer{}_w_c'.format(i,layer_index)])   # 일반 클러스터링\n"
     ]
    },
    {
     "name": "stdout",
     "output_type": "stream",
     "text": [
      "Layer :  4   클러스터 갯수 정해짐!  갯수 :  3 1\n"
     ]
    },
    {
     "name": "stderr",
     "output_type": "stream",
     "text": [
      "<ipython-input-8-506962b8e734>:141: VisibleDeprecationWarning: Creating an ndarray from ragged nested sequences (which is a list-or-tuple of lists-or-tuples-or ndarrays with different lengths or shapes) is deprecated. If you meant to do this, you must specify 'dtype=object' when creating the ndarray\n",
      "  globals()['G{}_c{}_w_layer{}'.format(global_epoch, num_c_w, layer_index)] = globals()['G{}_c{}_w_layer{}'.format(global_epoch, num_c_w, layer_index)] + np.array(globals()['L{}_layer{}_w_c'.format(i,layer_index)])   # 일반 클러스터링\n"
     ]
    },
    {
     "name": "stdout",
     "output_type": "stream",
     "text": [
      "Layer :  6   클러스터 갯수 정해짐!  갯수 :  2 0\n"
     ]
    },
    {
     "name": "stderr",
     "output_type": "stream",
     "text": [
      "<ipython-input-8-506962b8e734>:141: VisibleDeprecationWarning: Creating an ndarray from ragged nested sequences (which is a list-or-tuple of lists-or-tuples-or ndarrays with different lengths or shapes) is deprecated. If you meant to do this, you must specify 'dtype=object' when creating the ndarray\n",
      "  globals()['G{}_c{}_w_layer{}'.format(global_epoch, num_c_w, layer_index)] = globals()['G{}_c{}_w_layer{}'.format(global_epoch, num_c_w, layer_index)] + np.array(globals()['L{}_layer{}_w_c'.format(i,layer_index)])   # 일반 클러스터링\n"
     ]
    },
    {
     "name": "stdout",
     "output_type": "stream",
     "text": [
      "Layer :  7   클러스터 갯수 정해짐!  갯수 :  2 0\n",
      "\n",
      "\n",
      "====================================================== One Global Epoch =====================================================================\n",
      "\n",
      "\n",
      "27  번째 global_epoch 데이터 랜덤하게 준비!!\n"
     ]
    },
    {
     "name": "stderr",
     "output_type": "stream",
     "text": [
      "<ipython-input-8-506962b8e734>:141: VisibleDeprecationWarning: Creating an ndarray from ragged nested sequences (which is a list-or-tuple of lists-or-tuples-or ndarrays with different lengths or shapes) is deprecated. If you meant to do this, you must specify 'dtype=object' when creating the ndarray\n",
      "  globals()['G{}_c{}_w_layer{}'.format(global_epoch, num_c_w, layer_index)] = globals()['G{}_c{}_w_layer{}'.format(global_epoch, num_c_w, layer_index)] + np.array(globals()['L{}_layer{}_w_c'.format(i,layer_index)])   # 일반 클러스터링\n"
     ]
    },
    {
     "name": "stdout",
     "output_type": "stream",
     "text": [
      "27  번째 global_epoch 데이터 랜덤 준비완료!!\n",
      "\n",
      "\n",
      "27  번째 global epoch에서 로컬 클라이언트 들 학습시작!\n",
      "\n",
      "학습 중 ...\n",
      "\n",
      "16/16 - 0s - loss: 2.1509 - accuracy: 0.6140\n",
      "16/16 - 0s - loss: 1.9674 - accuracy: 0.6480\n",
      "16/16 - 0s - loss: 2.3617 - accuracy: 0.6360\n",
      "16/16 - 0s - loss: 2.3264 - accuracy: 0.5980\n",
      "16/16 - 0s - loss: 2.7685 - accuracy: 0.5760\n",
      "16/16 - 0s - loss: 2.2039 - accuracy: 0.5780\n",
      "16/16 - 0s - loss: 2.6142 - accuracy: 0.6020\n",
      "16/16 - 0s - loss: 2.0178 - accuracy: 0.6140\n",
      "16/16 - 0s - loss: 2.2225 - accuracy: 0.6660\n",
      "16/16 - 0s - loss: 2.3109 - accuracy: 0.6160\n",
      "16/16 - 0s - loss: 1.9942 - accuracy: 0.6680\n",
      "16/16 - 0s - loss: 2.3793 - accuracy: 0.5500\n",
      "16/16 - 0s - loss: 2.1673 - accuracy: 0.6040\n",
      "16/16 - 0s - loss: 2.4336 - accuracy: 0.6160\n",
      "16/16 - 0s - loss: 2.3986 - accuracy: 0.6020\n",
      "16/16 - 0s - loss: 1.9847 - accuracy: 0.6520\n",
      "16/16 - 0s - loss: 2.0029 - accuracy: 0.6500\n",
      "16/16 - 0s - loss: 2.3076 - accuracy: 0.6320\n",
      "16/16 - 0s - loss: 2.2457 - accuracy: 0.6360\n",
      "16/16 - 0s - loss: 2.4849 - accuracy: 0.6240\n",
      "------------    27  번째 global epoch < Clustering > 로컬 클라이언트 학습 완료!,  Total Training time :  878.4579133987427 ---------------------------\n",
      "\n",
      "\n",
      "Layer :  0   클러스터 갯수 정해짐!  갯수 :  2 0\n"
     ]
    },
    {
     "name": "stderr",
     "output_type": "stream",
     "text": [
      "<ipython-input-8-506962b8e734>:141: VisibleDeprecationWarning: Creating an ndarray from ragged nested sequences (which is a list-or-tuple of lists-or-tuples-or ndarrays with different lengths or shapes) is deprecated. If you meant to do this, you must specify 'dtype=object' when creating the ndarray\n",
      "  globals()['G{}_c{}_w_layer{}'.format(global_epoch, num_c_w, layer_index)] = globals()['G{}_c{}_w_layer{}'.format(global_epoch, num_c_w, layer_index)] + np.array(globals()['L{}_layer{}_w_c'.format(i,layer_index)])   # 일반 클러스터링\n"
     ]
    },
    {
     "name": "stdout",
     "output_type": "stream",
     "text": [
      "Layer :  2   클러스터 갯수 정해짐!  갯수 :  2 0\n"
     ]
    },
    {
     "name": "stderr",
     "output_type": "stream",
     "text": [
      "<ipython-input-8-506962b8e734>:141: VisibleDeprecationWarning: Creating an ndarray from ragged nested sequences (which is a list-or-tuple of lists-or-tuples-or ndarrays with different lengths or shapes) is deprecated. If you meant to do this, you must specify 'dtype=object' when creating the ndarray\n",
      "  globals()['G{}_c{}_w_layer{}'.format(global_epoch, num_c_w, layer_index)] = globals()['G{}_c{}_w_layer{}'.format(global_epoch, num_c_w, layer_index)] + np.array(globals()['L{}_layer{}_w_c'.format(i,layer_index)])   # 일반 클러스터링\n"
     ]
    },
    {
     "name": "stdout",
     "output_type": "stream",
     "text": [
      "Layer :  4   클러스터 갯수 정해짐!  갯수 :  3 1\n"
     ]
    },
    {
     "name": "stderr",
     "output_type": "stream",
     "text": [
      "<ipython-input-8-506962b8e734>:141: VisibleDeprecationWarning: Creating an ndarray from ragged nested sequences (which is a list-or-tuple of lists-or-tuples-or ndarrays with different lengths or shapes) is deprecated. If you meant to do this, you must specify 'dtype=object' when creating the ndarray\n",
      "  globals()['G{}_c{}_w_layer{}'.format(global_epoch, num_c_w, layer_index)] = globals()['G{}_c{}_w_layer{}'.format(global_epoch, num_c_w, layer_index)] + np.array(globals()['L{}_layer{}_w_c'.format(i,layer_index)])   # 일반 클러스터링\n"
     ]
    },
    {
     "name": "stdout",
     "output_type": "stream",
     "text": [
      "Layer :  6   클러스터 갯수 정해짐!  갯수 :  2 0\n"
     ]
    },
    {
     "name": "stderr",
     "output_type": "stream",
     "text": [
      "<ipython-input-8-506962b8e734>:141: VisibleDeprecationWarning: Creating an ndarray from ragged nested sequences (which is a list-or-tuple of lists-or-tuples-or ndarrays with different lengths or shapes) is deprecated. If you meant to do this, you must specify 'dtype=object' when creating the ndarray\n",
      "  globals()['G{}_c{}_w_layer{}'.format(global_epoch, num_c_w, layer_index)] = globals()['G{}_c{}_w_layer{}'.format(global_epoch, num_c_w, layer_index)] + np.array(globals()['L{}_layer{}_w_c'.format(i,layer_index)])   # 일반 클러스터링\n"
     ]
    },
    {
     "name": "stdout",
     "output_type": "stream",
     "text": [
      "Layer :  7   클러스터 갯수 정해짐!  갯수 :  2 0\n",
      "\n",
      "\n",
      "====================================================== One Global Epoch =====================================================================\n",
      "\n",
      "\n",
      "28  번째 global_epoch 데이터 랜덤하게 준비!!\n"
     ]
    },
    {
     "name": "stderr",
     "output_type": "stream",
     "text": [
      "<ipython-input-8-506962b8e734>:141: VisibleDeprecationWarning: Creating an ndarray from ragged nested sequences (which is a list-or-tuple of lists-or-tuples-or ndarrays with different lengths or shapes) is deprecated. If you meant to do this, you must specify 'dtype=object' when creating the ndarray\n",
      "  globals()['G{}_c{}_w_layer{}'.format(global_epoch, num_c_w, layer_index)] = globals()['G{}_c{}_w_layer{}'.format(global_epoch, num_c_w, layer_index)] + np.array(globals()['L{}_layer{}_w_c'.format(i,layer_index)])   # 일반 클러스터링\n"
     ]
    },
    {
     "name": "stdout",
     "output_type": "stream",
     "text": [
      "28  번째 global_epoch 데이터 랜덤 준비완료!!\n",
      "\n",
      "\n",
      "28  번째 global epoch에서 로컬 클라이언트 들 학습시작!\n",
      "\n",
      "학습 중 ...\n",
      "\n",
      "16/16 - 0s - loss: 2.0048 - accuracy: 0.6760\n",
      "16/16 - 0s - loss: 2.0900 - accuracy: 0.6560\n",
      "16/16 - 0s - loss: 2.2690 - accuracy: 0.6180\n",
      "16/16 - 0s - loss: 2.1526 - accuracy: 0.6420\n",
      "16/16 - 0s - loss: 2.0789 - accuracy: 0.6240\n",
      "16/16 - 0s - loss: 2.8628 - accuracy: 0.5700\n",
      "16/16 - 0s - loss: 2.2842 - accuracy: 0.6380\n",
      "16/16 - 0s - loss: 2.3764 - accuracy: 0.6040\n",
      "16/16 - 0s - loss: 2.2200 - accuracy: 0.6260\n",
      "16/16 - 0s - loss: 2.6041 - accuracy: 0.6000\n",
      "16/16 - 0s - loss: 2.3480 - accuracy: 0.5940\n",
      "16/16 - 0s - loss: 2.1878 - accuracy: 0.6020\n",
      "16/16 - 0s - loss: 2.0477 - accuracy: 0.6400\n",
      "16/16 - 0s - loss: 2.4668 - accuracy: 0.6280\n",
      "16/16 - 0s - loss: 2.0179 - accuracy: 0.6540\n",
      "16/16 - 0s - loss: 2.5224 - accuracy: 0.6100\n",
      "16/16 - 0s - loss: 2.2148 - accuracy: 0.6000\n",
      "16/16 - 0s - loss: 2.2803 - accuracy: 0.6160\n",
      "16/16 - 0s - loss: 2.3485 - accuracy: 0.6300\n",
      "16/16 - 0s - loss: 1.8293 - accuracy: 0.6420\n",
      "------------    28  번째 global epoch < Clustering > 로컬 클라이언트 학습 완료!,  Total Training time :  912.099860906601 ---------------------------\n",
      "\n",
      "\n",
      "Layer :  0   클러스터 갯수 정해짐!  갯수 :  2 0\n"
     ]
    },
    {
     "name": "stderr",
     "output_type": "stream",
     "text": [
      "<ipython-input-8-506962b8e734>:141: VisibleDeprecationWarning: Creating an ndarray from ragged nested sequences (which is a list-or-tuple of lists-or-tuples-or ndarrays with different lengths or shapes) is deprecated. If you meant to do this, you must specify 'dtype=object' when creating the ndarray\n",
      "  globals()['G{}_c{}_w_layer{}'.format(global_epoch, num_c_w, layer_index)] = globals()['G{}_c{}_w_layer{}'.format(global_epoch, num_c_w, layer_index)] + np.array(globals()['L{}_layer{}_w_c'.format(i,layer_index)])   # 일반 클러스터링\n"
     ]
    },
    {
     "name": "stdout",
     "output_type": "stream",
     "text": [
      "Layer :  2   클러스터 갯수 정해짐!  갯수 :  2 0\n"
     ]
    },
    {
     "name": "stderr",
     "output_type": "stream",
     "text": [
      "<ipython-input-8-506962b8e734>:141: VisibleDeprecationWarning: Creating an ndarray from ragged nested sequences (which is a list-or-tuple of lists-or-tuples-or ndarrays with different lengths or shapes) is deprecated. If you meant to do this, you must specify 'dtype=object' when creating the ndarray\n",
      "  globals()['G{}_c{}_w_layer{}'.format(global_epoch, num_c_w, layer_index)] = globals()['G{}_c{}_w_layer{}'.format(global_epoch, num_c_w, layer_index)] + np.array(globals()['L{}_layer{}_w_c'.format(i,layer_index)])   # 일반 클러스터링\n"
     ]
    },
    {
     "name": "stdout",
     "output_type": "stream",
     "text": [
      "Layer :  4   클러스터 갯수 정해짐!  갯수 :  3 1\n"
     ]
    },
    {
     "name": "stderr",
     "output_type": "stream",
     "text": [
      "<ipython-input-8-506962b8e734>:141: VisibleDeprecationWarning: Creating an ndarray from ragged nested sequences (which is a list-or-tuple of lists-or-tuples-or ndarrays with different lengths or shapes) is deprecated. If you meant to do this, you must specify 'dtype=object' when creating the ndarray\n",
      "  globals()['G{}_c{}_w_layer{}'.format(global_epoch, num_c_w, layer_index)] = globals()['G{}_c{}_w_layer{}'.format(global_epoch, num_c_w, layer_index)] + np.array(globals()['L{}_layer{}_w_c'.format(i,layer_index)])   # 일반 클러스터링\n"
     ]
    },
    {
     "name": "stdout",
     "output_type": "stream",
     "text": [
      "Layer :  6   클러스터 갯수 정해짐!  갯수 :  2 0\n"
     ]
    },
    {
     "name": "stderr",
     "output_type": "stream",
     "text": [
      "<ipython-input-8-506962b8e734>:141: VisibleDeprecationWarning: Creating an ndarray from ragged nested sequences (which is a list-or-tuple of lists-or-tuples-or ndarrays with different lengths or shapes) is deprecated. If you meant to do this, you must specify 'dtype=object' when creating the ndarray\n",
      "  globals()['G{}_c{}_w_layer{}'.format(global_epoch, num_c_w, layer_index)] = globals()['G{}_c{}_w_layer{}'.format(global_epoch, num_c_w, layer_index)] + np.array(globals()['L{}_layer{}_w_c'.format(i,layer_index)])   # 일반 클러스터링\n"
     ]
    },
    {
     "name": "stdout",
     "output_type": "stream",
     "text": [
      "Layer :  7   클러스터 갯수 정해짐!  갯수 :  2 0\n",
      "\n",
      "\n",
      "====================================================== One Global Epoch =====================================================================\n",
      "\n",
      "\n",
      "29  번째 global_epoch 데이터 랜덤하게 준비!!\n"
     ]
    },
    {
     "name": "stderr",
     "output_type": "stream",
     "text": [
      "<ipython-input-8-506962b8e734>:141: VisibleDeprecationWarning: Creating an ndarray from ragged nested sequences (which is a list-or-tuple of lists-or-tuples-or ndarrays with different lengths or shapes) is deprecated. If you meant to do this, you must specify 'dtype=object' when creating the ndarray\n",
      "  globals()['G{}_c{}_w_layer{}'.format(global_epoch, num_c_w, layer_index)] = globals()['G{}_c{}_w_layer{}'.format(global_epoch, num_c_w, layer_index)] + np.array(globals()['L{}_layer{}_w_c'.format(i,layer_index)])   # 일반 클러스터링\n"
     ]
    },
    {
     "name": "stdout",
     "output_type": "stream",
     "text": [
      "29  번째 global_epoch 데이터 랜덤 준비완료!!\n",
      "\n",
      "\n",
      "29  번째 global epoch에서 로컬 클라이언트 들 학습시작!\n",
      "\n",
      "학습 중 ...\n",
      "\n",
      "16/16 - 0s - loss: 2.3851 - accuracy: 0.6080\n",
      "16/16 - 0s - loss: 2.2904 - accuracy: 0.6160\n",
      "16/16 - 0s - loss: 2.2516 - accuracy: 0.6400\n",
      "16/16 - 0s - loss: 2.3174 - accuracy: 0.6100\n",
      "16/16 - 0s - loss: 2.0896 - accuracy: 0.6420\n",
      "16/16 - 0s - loss: 2.5659 - accuracy: 0.6120\n",
      "16/16 - 0s - loss: 1.9038 - accuracy: 0.6760\n",
      "16/16 - 0s - loss: 2.1311 - accuracy: 0.6480\n",
      "16/16 - 0s - loss: 2.0007 - accuracy: 0.6220\n",
      "16/16 - 0s - loss: 2.1399 - accuracy: 0.6220\n",
      "16/16 - 0s - loss: 2.2084 - accuracy: 0.6380\n",
      "16/16 - 0s - loss: 2.6247 - accuracy: 0.5340\n",
      "16/16 - 0s - loss: 2.2813 - accuracy: 0.6320\n",
      "16/16 - 0s - loss: 2.2478 - accuracy: 0.6140\n",
      "16/16 - 0s - loss: 2.4895 - accuracy: 0.5920\n",
      "16/16 - 0s - loss: 2.4307 - accuracy: 0.6400\n",
      "16/16 - 0s - loss: 2.5104 - accuracy: 0.6240\n",
      "16/16 - 0s - loss: 2.2572 - accuracy: 0.6500\n",
      "16/16 - 0s - loss: 2.2265 - accuracy: 0.6360\n",
      "16/16 - 0s - loss: 2.4380 - accuracy: 0.6180\n",
      "------------    29  번째 global epoch < Clustering > 로컬 클라이언트 학습 완료!,  Total Training time :  938.3624684810638 ---------------------------\n",
      "\n",
      "\n",
      "Layer :  0   클러스터 갯수 정해짐!  갯수 :  2 0\n"
     ]
    },
    {
     "name": "stderr",
     "output_type": "stream",
     "text": [
      "<ipython-input-8-506962b8e734>:141: VisibleDeprecationWarning: Creating an ndarray from ragged nested sequences (which is a list-or-tuple of lists-or-tuples-or ndarrays with different lengths or shapes) is deprecated. If you meant to do this, you must specify 'dtype=object' when creating the ndarray\n",
      "  globals()['G{}_c{}_w_layer{}'.format(global_epoch, num_c_w, layer_index)] = globals()['G{}_c{}_w_layer{}'.format(global_epoch, num_c_w, layer_index)] + np.array(globals()['L{}_layer{}_w_c'.format(i,layer_index)])   # 일반 클러스터링\n"
     ]
    },
    {
     "name": "stdout",
     "output_type": "stream",
     "text": [
      "Layer :  2   클러스터 갯수 정해짐!  갯수 :  2 0\n"
     ]
    },
    {
     "name": "stderr",
     "output_type": "stream",
     "text": [
      "<ipython-input-8-506962b8e734>:141: VisibleDeprecationWarning: Creating an ndarray from ragged nested sequences (which is a list-or-tuple of lists-or-tuples-or ndarrays with different lengths or shapes) is deprecated. If you meant to do this, you must specify 'dtype=object' when creating the ndarray\n",
      "  globals()['G{}_c{}_w_layer{}'.format(global_epoch, num_c_w, layer_index)] = globals()['G{}_c{}_w_layer{}'.format(global_epoch, num_c_w, layer_index)] + np.array(globals()['L{}_layer{}_w_c'.format(i,layer_index)])   # 일반 클러스터링\n"
     ]
    },
    {
     "name": "stdout",
     "output_type": "stream",
     "text": [
      "Layer :  4   클러스터 갯수 정해짐!  갯수 :  3 1\n"
     ]
    },
    {
     "name": "stderr",
     "output_type": "stream",
     "text": [
      "<ipython-input-8-506962b8e734>:141: VisibleDeprecationWarning: Creating an ndarray from ragged nested sequences (which is a list-or-tuple of lists-or-tuples-or ndarrays with different lengths or shapes) is deprecated. If you meant to do this, you must specify 'dtype=object' when creating the ndarray\n",
      "  globals()['G{}_c{}_w_layer{}'.format(global_epoch, num_c_w, layer_index)] = globals()['G{}_c{}_w_layer{}'.format(global_epoch, num_c_w, layer_index)] + np.array(globals()['L{}_layer{}_w_c'.format(i,layer_index)])   # 일반 클러스터링\n"
     ]
    },
    {
     "name": "stdout",
     "output_type": "stream",
     "text": [
      "Layer :  6   클러스터 갯수 정해짐!  갯수 :  2 0\n"
     ]
    },
    {
     "name": "stderr",
     "output_type": "stream",
     "text": [
      "<ipython-input-8-506962b8e734>:141: VisibleDeprecationWarning: Creating an ndarray from ragged nested sequences (which is a list-or-tuple of lists-or-tuples-or ndarrays with different lengths or shapes) is deprecated. If you meant to do this, you must specify 'dtype=object' when creating the ndarray\n",
      "  globals()['G{}_c{}_w_layer{}'.format(global_epoch, num_c_w, layer_index)] = globals()['G{}_c{}_w_layer{}'.format(global_epoch, num_c_w, layer_index)] + np.array(globals()['L{}_layer{}_w_c'.format(i,layer_index)])   # 일반 클러스터링\n"
     ]
    },
    {
     "name": "stdout",
     "output_type": "stream",
     "text": [
      "Layer :  7   클러스터 갯수 정해짐!  갯수 :  2 0\n",
      "\n",
      "\n",
      "====================================================== One Global Epoch =====================================================================\n",
      "\n",
      "\n",
      "30  번째 global_epoch 데이터 랜덤하게 준비!!\n"
     ]
    },
    {
     "name": "stderr",
     "output_type": "stream",
     "text": [
      "<ipython-input-8-506962b8e734>:141: VisibleDeprecationWarning: Creating an ndarray from ragged nested sequences (which is a list-or-tuple of lists-or-tuples-or ndarrays with different lengths or shapes) is deprecated. If you meant to do this, you must specify 'dtype=object' when creating the ndarray\n",
      "  globals()['G{}_c{}_w_layer{}'.format(global_epoch, num_c_w, layer_index)] = globals()['G{}_c{}_w_layer{}'.format(global_epoch, num_c_w, layer_index)] + np.array(globals()['L{}_layer{}_w_c'.format(i,layer_index)])   # 일반 클러스터링\n"
     ]
    },
    {
     "name": "stdout",
     "output_type": "stream",
     "text": [
      "30  번째 global_epoch 데이터 랜덤 준비완료!!\n",
      "\n",
      "\n",
      "30  번째 global epoch에서 로컬 클라이언트 들 학습시작!\n",
      "\n",
      "학습 중 ...\n",
      "\n",
      "16/16 - 0s - loss: 2.2144 - accuracy: 0.6420\n",
      "16/16 - 0s - loss: 2.1217 - accuracy: 0.6360\n",
      "16/16 - 0s - loss: 2.1922 - accuracy: 0.6540\n",
      "16/16 - 0s - loss: 2.2439 - accuracy: 0.6560\n",
      "16/16 - 0s - loss: 2.1839 - accuracy: 0.6300\n",
      "16/16 - 0s - loss: 2.4717 - accuracy: 0.5860\n",
      "16/16 - 0s - loss: 2.6975 - accuracy: 0.5960\n",
      "16/16 - 0s - loss: 2.1782 - accuracy: 0.6280\n",
      "16/16 - 0s - loss: 2.3600 - accuracy: 0.6460\n",
      "16/16 - 0s - loss: 2.2061 - accuracy: 0.6540\n",
      "16/16 - 0s - loss: 2.2742 - accuracy: 0.6320\n",
      "16/16 - 0s - loss: 2.1095 - accuracy: 0.5980\n",
      "16/16 - 0s - loss: 2.4041 - accuracy: 0.6060\n",
      "16/16 - 0s - loss: 2.2202 - accuracy: 0.6420\n",
      "16/16 - 0s - loss: 2.0335 - accuracy: 0.6400\n",
      "16/16 - 0s - loss: 2.2311 - accuracy: 0.6520\n",
      "16/16 - 0s - loss: 1.9535 - accuracy: 0.6600\n",
      "16/16 - 0s - loss: 2.1364 - accuracy: 0.6440\n",
      "16/16 - 0s - loss: 2.4206 - accuracy: 0.6060\n",
      "16/16 - 0s - loss: 2.2816 - accuracy: 0.6220\n",
      "------------    30  번째 global epoch < Clustering > 로컬 클라이언트 학습 완료!,  Total Training time :  965.9690041542053 ---------------------------\n",
      "\n",
      "\n",
      "Layer :  0   클러스터 갯수 정해짐!  갯수 :  2 0\n"
     ]
    },
    {
     "name": "stderr",
     "output_type": "stream",
     "text": [
      "<ipython-input-8-506962b8e734>:141: VisibleDeprecationWarning: Creating an ndarray from ragged nested sequences (which is a list-or-tuple of lists-or-tuples-or ndarrays with different lengths or shapes) is deprecated. If you meant to do this, you must specify 'dtype=object' when creating the ndarray\n",
      "  globals()['G{}_c{}_w_layer{}'.format(global_epoch, num_c_w, layer_index)] = globals()['G{}_c{}_w_layer{}'.format(global_epoch, num_c_w, layer_index)] + np.array(globals()['L{}_layer{}_w_c'.format(i,layer_index)])   # 일반 클러스터링\n"
     ]
    },
    {
     "name": "stdout",
     "output_type": "stream",
     "text": [
      "Layer :  2   클러스터 갯수 정해짐!  갯수 :  2 0\n"
     ]
    },
    {
     "name": "stderr",
     "output_type": "stream",
     "text": [
      "<ipython-input-8-506962b8e734>:141: VisibleDeprecationWarning: Creating an ndarray from ragged nested sequences (which is a list-or-tuple of lists-or-tuples-or ndarrays with different lengths or shapes) is deprecated. If you meant to do this, you must specify 'dtype=object' when creating the ndarray\n",
      "  globals()['G{}_c{}_w_layer{}'.format(global_epoch, num_c_w, layer_index)] = globals()['G{}_c{}_w_layer{}'.format(global_epoch, num_c_w, layer_index)] + np.array(globals()['L{}_layer{}_w_c'.format(i,layer_index)])   # 일반 클러스터링\n"
     ]
    },
    {
     "name": "stdout",
     "output_type": "stream",
     "text": [
      "Layer :  4   클러스터 갯수 정해짐!  갯수 :  3 1\n"
     ]
    },
    {
     "name": "stderr",
     "output_type": "stream",
     "text": [
      "<ipython-input-8-506962b8e734>:141: VisibleDeprecationWarning: Creating an ndarray from ragged nested sequences (which is a list-or-tuple of lists-or-tuples-or ndarrays with different lengths or shapes) is deprecated. If you meant to do this, you must specify 'dtype=object' when creating the ndarray\n",
      "  globals()['G{}_c{}_w_layer{}'.format(global_epoch, num_c_w, layer_index)] = globals()['G{}_c{}_w_layer{}'.format(global_epoch, num_c_w, layer_index)] + np.array(globals()['L{}_layer{}_w_c'.format(i,layer_index)])   # 일반 클러스터링\n"
     ]
    },
    {
     "name": "stdout",
     "output_type": "stream",
     "text": [
      "Layer :  6   클러스터 갯수 정해짐!  갯수 :  2 0\n"
     ]
    },
    {
     "name": "stderr",
     "output_type": "stream",
     "text": [
      "<ipython-input-8-506962b8e734>:141: VisibleDeprecationWarning: Creating an ndarray from ragged nested sequences (which is a list-or-tuple of lists-or-tuples-or ndarrays with different lengths or shapes) is deprecated. If you meant to do this, you must specify 'dtype=object' when creating the ndarray\n",
      "  globals()['G{}_c{}_w_layer{}'.format(global_epoch, num_c_w, layer_index)] = globals()['G{}_c{}_w_layer{}'.format(global_epoch, num_c_w, layer_index)] + np.array(globals()['L{}_layer{}_w_c'.format(i,layer_index)])   # 일반 클러스터링\n"
     ]
    },
    {
     "name": "stdout",
     "output_type": "stream",
     "text": [
      "Layer :  7   클러스터 갯수 정해짐!  갯수 :  2 0\n",
      "\n",
      "\n",
      "====================================================== One Global Epoch =====================================================================\n",
      "\n",
      "\n",
      "31  번째 global_epoch 데이터 랜덤하게 준비!!\n"
     ]
    },
    {
     "name": "stderr",
     "output_type": "stream",
     "text": [
      "<ipython-input-8-506962b8e734>:141: VisibleDeprecationWarning: Creating an ndarray from ragged nested sequences (which is a list-or-tuple of lists-or-tuples-or ndarrays with different lengths or shapes) is deprecated. If you meant to do this, you must specify 'dtype=object' when creating the ndarray\n",
      "  globals()['G{}_c{}_w_layer{}'.format(global_epoch, num_c_w, layer_index)] = globals()['G{}_c{}_w_layer{}'.format(global_epoch, num_c_w, layer_index)] + np.array(globals()['L{}_layer{}_w_c'.format(i,layer_index)])   # 일반 클러스터링\n"
     ]
    },
    {
     "name": "stdout",
     "output_type": "stream",
     "text": [
      "31  번째 global_epoch 데이터 랜덤 준비완료!!\n",
      "\n",
      "\n",
      "31  번째 global epoch에서 로컬 클라이언트 들 학습시작!\n",
      "\n",
      "학습 중 ...\n",
      "\n",
      "16/16 - 0s - loss: 2.1157 - accuracy: 0.6400\n",
      "16/16 - 0s - loss: 2.1732 - accuracy: 0.6200\n",
      "16/16 - 0s - loss: 2.0861 - accuracy: 0.6700\n",
      "16/16 - 0s - loss: 2.2990 - accuracy: 0.6320\n",
      "16/16 - 0s - loss: 2.4321 - accuracy: 0.6340\n",
      "16/16 - 0s - loss: 2.9083 - accuracy: 0.5640\n",
      "16/16 - 0s - loss: 2.1641 - accuracy: 0.6420\n",
      "16/16 - 0s - loss: 2.7273 - accuracy: 0.5960\n",
      "16/16 - 0s - loss: 2.1884 - accuracy: 0.6600\n",
      "16/16 - 0s - loss: 2.0524 - accuracy: 0.6480\n",
      "16/16 - 0s - loss: 2.4532 - accuracy: 0.6040\n",
      "16/16 - 0s - loss: 2.2012 - accuracy: 0.6100\n",
      "16/16 - 0s - loss: 2.3677 - accuracy: 0.6480\n",
      "16/16 - 0s - loss: 2.0746 - accuracy: 0.6320\n",
      "16/16 - 0s - loss: 2.4220 - accuracy: 0.6240\n",
      "16/16 - 0s - loss: 2.2985 - accuracy: 0.6400\n",
      "16/16 - 0s - loss: 2.4576 - accuracy: 0.6360\n",
      "16/16 - 0s - loss: 2.4340 - accuracy: 0.6420\n",
      "16/16 - 0s - loss: 2.2352 - accuracy: 0.6300\n",
      "16/16 - 0s - loss: 2.2538 - accuracy: 0.6220\n",
      "------------    31  번째 global epoch < Clustering > 로컬 클라이언트 학습 완료!,  Total Training time :  989.4126017093658 ---------------------------\n",
      "\n",
      "\n",
      "Layer :  0   클러스터 갯수 정해짐!  갯수 :  2 0\n"
     ]
    },
    {
     "name": "stderr",
     "output_type": "stream",
     "text": [
      "<ipython-input-8-506962b8e734>:141: VisibleDeprecationWarning: Creating an ndarray from ragged nested sequences (which is a list-or-tuple of lists-or-tuples-or ndarrays with different lengths or shapes) is deprecated. If you meant to do this, you must specify 'dtype=object' when creating the ndarray\n",
      "  globals()['G{}_c{}_w_layer{}'.format(global_epoch, num_c_w, layer_index)] = globals()['G{}_c{}_w_layer{}'.format(global_epoch, num_c_w, layer_index)] + np.array(globals()['L{}_layer{}_w_c'.format(i,layer_index)])   # 일반 클러스터링\n"
     ]
    },
    {
     "name": "stdout",
     "output_type": "stream",
     "text": [
      "Layer :  2   클러스터 갯수 정해짐!  갯수 :  2 0\n"
     ]
    },
    {
     "name": "stderr",
     "output_type": "stream",
     "text": [
      "<ipython-input-8-506962b8e734>:141: VisibleDeprecationWarning: Creating an ndarray from ragged nested sequences (which is a list-or-tuple of lists-or-tuples-or ndarrays with different lengths or shapes) is deprecated. If you meant to do this, you must specify 'dtype=object' when creating the ndarray\n",
      "  globals()['G{}_c{}_w_layer{}'.format(global_epoch, num_c_w, layer_index)] = globals()['G{}_c{}_w_layer{}'.format(global_epoch, num_c_w, layer_index)] + np.array(globals()['L{}_layer{}_w_c'.format(i,layer_index)])   # 일반 클러스터링\n"
     ]
    },
    {
     "name": "stdout",
     "output_type": "stream",
     "text": [
      "Layer :  4   클러스터 갯수 정해짐!  갯수 :  3 1\n"
     ]
    },
    {
     "name": "stderr",
     "output_type": "stream",
     "text": [
      "<ipython-input-8-506962b8e734>:141: VisibleDeprecationWarning: Creating an ndarray from ragged nested sequences (which is a list-or-tuple of lists-or-tuples-or ndarrays with different lengths or shapes) is deprecated. If you meant to do this, you must specify 'dtype=object' when creating the ndarray\n",
      "  globals()['G{}_c{}_w_layer{}'.format(global_epoch, num_c_w, layer_index)] = globals()['G{}_c{}_w_layer{}'.format(global_epoch, num_c_w, layer_index)] + np.array(globals()['L{}_layer{}_w_c'.format(i,layer_index)])   # 일반 클러스터링\n"
     ]
    },
    {
     "name": "stdout",
     "output_type": "stream",
     "text": [
      "Layer :  6   클러스터 갯수 정해짐!  갯수 :  2 0\n"
     ]
    },
    {
     "name": "stderr",
     "output_type": "stream",
     "text": [
      "<ipython-input-8-506962b8e734>:141: VisibleDeprecationWarning: Creating an ndarray from ragged nested sequences (which is a list-or-tuple of lists-or-tuples-or ndarrays with different lengths or shapes) is deprecated. If you meant to do this, you must specify 'dtype=object' when creating the ndarray\n",
      "  globals()['G{}_c{}_w_layer{}'.format(global_epoch, num_c_w, layer_index)] = globals()['G{}_c{}_w_layer{}'.format(global_epoch, num_c_w, layer_index)] + np.array(globals()['L{}_layer{}_w_c'.format(i,layer_index)])   # 일반 클러스터링\n"
     ]
    },
    {
     "name": "stdout",
     "output_type": "stream",
     "text": [
      "Layer :  7   클러스터 갯수 정해짐!  갯수 :  2 0\n",
      "\n",
      "\n",
      "====================================================== One Global Epoch =====================================================================\n",
      "\n",
      "\n",
      "32  번째 global_epoch 데이터 랜덤하게 준비!!\n"
     ]
    },
    {
     "name": "stderr",
     "output_type": "stream",
     "text": [
      "<ipython-input-8-506962b8e734>:141: VisibleDeprecationWarning: Creating an ndarray from ragged nested sequences (which is a list-or-tuple of lists-or-tuples-or ndarrays with different lengths or shapes) is deprecated. If you meant to do this, you must specify 'dtype=object' when creating the ndarray\n",
      "  globals()['G{}_c{}_w_layer{}'.format(global_epoch, num_c_w, layer_index)] = globals()['G{}_c{}_w_layer{}'.format(global_epoch, num_c_w, layer_index)] + np.array(globals()['L{}_layer{}_w_c'.format(i,layer_index)])   # 일반 클러스터링\n"
     ]
    },
    {
     "name": "stdout",
     "output_type": "stream",
     "text": [
      "32  번째 global_epoch 데이터 랜덤 준비완료!!\n",
      "\n",
      "\n",
      "32  번째 global epoch에서 로컬 클라이언트 들 학습시작!\n",
      "\n",
      "학습 중 ...\n",
      "\n",
      "16/16 - 0s - loss: 2.1217 - accuracy: 0.6440\n",
      "16/16 - 0s - loss: 2.5423 - accuracy: 0.6200\n",
      "16/16 - 0s - loss: 2.1758 - accuracy: 0.6620\n",
      "16/16 - 0s - loss: 2.1229 - accuracy: 0.6260\n",
      "16/16 - 0s - loss: 2.3515 - accuracy: 0.6220\n",
      "16/16 - 0s - loss: 2.6097 - accuracy: 0.5920\n",
      "16/16 - 0s - loss: 2.2861 - accuracy: 0.6440\n",
      "16/16 - 0s - loss: 2.0077 - accuracy: 0.6620\n",
      "16/16 - 0s - loss: 2.5320 - accuracy: 0.6120\n",
      "16/16 - 0s - loss: 2.5662 - accuracy: 0.6140\n",
      "16/16 - 0s - loss: 2.1607 - accuracy: 0.6480\n",
      "16/16 - 0s - loss: 2.4061 - accuracy: 0.6040\n",
      "16/16 - 0s - loss: 2.1293 - accuracy: 0.6440\n",
      "16/16 - 0s - loss: 2.1895 - accuracy: 0.6320\n",
      "16/16 - 0s - loss: 1.9210 - accuracy: 0.6740\n",
      "16/16 - 0s - loss: 2.3049 - accuracy: 0.6460\n",
      "16/16 - 0s - loss: 2.4003 - accuracy: 0.6460\n",
      "16/16 - 0s - loss: 2.4793 - accuracy: 0.6420\n",
      "16/16 - 0s - loss: 2.2854 - accuracy: 0.6520\n",
      "16/16 - 0s - loss: 2.4597 - accuracy: 0.6420\n",
      "------------    32  번째 global epoch < Clustering > 로컬 클라이언트 학습 완료!,  Total Training time :  1013.3438746929169 ---------------------------\n",
      "\n",
      "\n",
      "Layer :  0   클러스터 갯수 정해짐!  갯수 :  2 0\n"
     ]
    },
    {
     "name": "stderr",
     "output_type": "stream",
     "text": [
      "<ipython-input-8-506962b8e734>:141: VisibleDeprecationWarning: Creating an ndarray from ragged nested sequences (which is a list-or-tuple of lists-or-tuples-or ndarrays with different lengths or shapes) is deprecated. If you meant to do this, you must specify 'dtype=object' when creating the ndarray\n",
      "  globals()['G{}_c{}_w_layer{}'.format(global_epoch, num_c_w, layer_index)] = globals()['G{}_c{}_w_layer{}'.format(global_epoch, num_c_w, layer_index)] + np.array(globals()['L{}_layer{}_w_c'.format(i,layer_index)])   # 일반 클러스터링\n"
     ]
    },
    {
     "name": "stdout",
     "output_type": "stream",
     "text": [
      "Layer :  2   클러스터 갯수 정해짐!  갯수 :  2 0\n"
     ]
    },
    {
     "name": "stderr",
     "output_type": "stream",
     "text": [
      "<ipython-input-8-506962b8e734>:141: VisibleDeprecationWarning: Creating an ndarray from ragged nested sequences (which is a list-or-tuple of lists-or-tuples-or ndarrays with different lengths or shapes) is deprecated. If you meant to do this, you must specify 'dtype=object' when creating the ndarray\n",
      "  globals()['G{}_c{}_w_layer{}'.format(global_epoch, num_c_w, layer_index)] = globals()['G{}_c{}_w_layer{}'.format(global_epoch, num_c_w, layer_index)] + np.array(globals()['L{}_layer{}_w_c'.format(i,layer_index)])   # 일반 클러스터링\n"
     ]
    },
    {
     "name": "stdout",
     "output_type": "stream",
     "text": [
      "Layer :  4   클러스터 갯수 정해짐!  갯수 :  3 1\n"
     ]
    },
    {
     "name": "stderr",
     "output_type": "stream",
     "text": [
      "<ipython-input-8-506962b8e734>:141: VisibleDeprecationWarning: Creating an ndarray from ragged nested sequences (which is a list-or-tuple of lists-or-tuples-or ndarrays with different lengths or shapes) is deprecated. If you meant to do this, you must specify 'dtype=object' when creating the ndarray\n",
      "  globals()['G{}_c{}_w_layer{}'.format(global_epoch, num_c_w, layer_index)] = globals()['G{}_c{}_w_layer{}'.format(global_epoch, num_c_w, layer_index)] + np.array(globals()['L{}_layer{}_w_c'.format(i,layer_index)])   # 일반 클러스터링\n"
     ]
    },
    {
     "name": "stdout",
     "output_type": "stream",
     "text": [
      "Layer :  6   클러스터 갯수 정해짐!  갯수 :  2 0\n"
     ]
    },
    {
     "name": "stderr",
     "output_type": "stream",
     "text": [
      "<ipython-input-8-506962b8e734>:141: VisibleDeprecationWarning: Creating an ndarray from ragged nested sequences (which is a list-or-tuple of lists-or-tuples-or ndarrays with different lengths or shapes) is deprecated. If you meant to do this, you must specify 'dtype=object' when creating the ndarray\n",
      "  globals()['G{}_c{}_w_layer{}'.format(global_epoch, num_c_w, layer_index)] = globals()['G{}_c{}_w_layer{}'.format(global_epoch, num_c_w, layer_index)] + np.array(globals()['L{}_layer{}_w_c'.format(i,layer_index)])   # 일반 클러스터링\n"
     ]
    },
    {
     "name": "stdout",
     "output_type": "stream",
     "text": [
      "Layer :  7   클러스터 갯수 정해짐!  갯수 :  2 0\n",
      "\n",
      "\n",
      "====================================================== One Global Epoch =====================================================================\n",
      "\n",
      "\n",
      "33  번째 global_epoch 데이터 랜덤하게 준비!!\n"
     ]
    },
    {
     "name": "stderr",
     "output_type": "stream",
     "text": [
      "<ipython-input-8-506962b8e734>:141: VisibleDeprecationWarning: Creating an ndarray from ragged nested sequences (which is a list-or-tuple of lists-or-tuples-or ndarrays with different lengths or shapes) is deprecated. If you meant to do this, you must specify 'dtype=object' when creating the ndarray\n",
      "  globals()['G{}_c{}_w_layer{}'.format(global_epoch, num_c_w, layer_index)] = globals()['G{}_c{}_w_layer{}'.format(global_epoch, num_c_w, layer_index)] + np.array(globals()['L{}_layer{}_w_c'.format(i,layer_index)])   # 일반 클러스터링\n"
     ]
    },
    {
     "name": "stdout",
     "output_type": "stream",
     "text": [
      "33  번째 global_epoch 데이터 랜덤 준비완료!!\n",
      "\n",
      "\n",
      "33  번째 global epoch에서 로컬 클라이언트 들 학습시작!\n",
      "\n",
      "학습 중 ...\n",
      "\n",
      "16/16 - 0s - loss: 2.1762 - accuracy: 0.6180\n",
      "16/16 - 0s - loss: 1.9254 - accuracy: 0.6940\n",
      "16/16 - 0s - loss: 2.6164 - accuracy: 0.6180\n",
      "16/16 - 0s - loss: 2.3505 - accuracy: 0.6320\n",
      "16/16 - 0s - loss: 2.3755 - accuracy: 0.6500\n",
      "16/16 - 0s - loss: 2.9140 - accuracy: 0.5840\n",
      "16/16 - 0s - loss: 2.3941 - accuracy: 0.6280\n",
      "16/16 - 0s - loss: 2.6251 - accuracy: 0.6040\n",
      "16/16 - 0s - loss: 1.9234 - accuracy: 0.6680\n",
      "16/16 - 0s - loss: 2.2522 - accuracy: 0.6180\n",
      "16/16 - 0s - loss: 2.3069 - accuracy: 0.6560\n",
      "16/16 - 0s - loss: 2.1338 - accuracy: 0.5900\n",
      "16/16 - 0s - loss: 2.3055 - accuracy: 0.6700\n",
      "16/16 - 0s - loss: 2.2150 - accuracy: 0.6400\n",
      "16/16 - 0s - loss: 2.1750 - accuracy: 0.6240\n",
      "16/16 - 0s - loss: 1.9715 - accuracy: 0.6960\n",
      "16/16 - 0s - loss: 2.2931 - accuracy: 0.6500\n",
      "16/16 - 0s - loss: 2.2654 - accuracy: 0.6540\n",
      "16/16 - 0s - loss: 2.6160 - accuracy: 0.6380\n",
      "16/16 - 0s - loss: 2.3982 - accuracy: 0.6480\n",
      "------------    33  번째 global epoch < Clustering > 로컬 클라이언트 학습 완료!,  Total Training time :  1034.8447313308716 ---------------------------\n",
      "\n",
      "\n",
      "Layer :  0   클러스터 갯수 정해짐!  갯수 :  2 0\n"
     ]
    },
    {
     "name": "stderr",
     "output_type": "stream",
     "text": [
      "<ipython-input-8-506962b8e734>:141: VisibleDeprecationWarning: Creating an ndarray from ragged nested sequences (which is a list-or-tuple of lists-or-tuples-or ndarrays with different lengths or shapes) is deprecated. If you meant to do this, you must specify 'dtype=object' when creating the ndarray\n",
      "  globals()['G{}_c{}_w_layer{}'.format(global_epoch, num_c_w, layer_index)] = globals()['G{}_c{}_w_layer{}'.format(global_epoch, num_c_w, layer_index)] + np.array(globals()['L{}_layer{}_w_c'.format(i,layer_index)])   # 일반 클러스터링\n"
     ]
    },
    {
     "name": "stdout",
     "output_type": "stream",
     "text": [
      "Layer :  2   클러스터 갯수 정해짐!  갯수 :  2 0\n"
     ]
    },
    {
     "name": "stderr",
     "output_type": "stream",
     "text": [
      "<ipython-input-8-506962b8e734>:141: VisibleDeprecationWarning: Creating an ndarray from ragged nested sequences (which is a list-or-tuple of lists-or-tuples-or ndarrays with different lengths or shapes) is deprecated. If you meant to do this, you must specify 'dtype=object' when creating the ndarray\n",
      "  globals()['G{}_c{}_w_layer{}'.format(global_epoch, num_c_w, layer_index)] = globals()['G{}_c{}_w_layer{}'.format(global_epoch, num_c_w, layer_index)] + np.array(globals()['L{}_layer{}_w_c'.format(i,layer_index)])   # 일반 클러스터링\n"
     ]
    },
    {
     "name": "stdout",
     "output_type": "stream",
     "text": [
      "Layer :  4   클러스터 갯수 정해짐!  갯수 :  3 1\n"
     ]
    },
    {
     "name": "stderr",
     "output_type": "stream",
     "text": [
      "<ipython-input-8-506962b8e734>:141: VisibleDeprecationWarning: Creating an ndarray from ragged nested sequences (which is a list-or-tuple of lists-or-tuples-or ndarrays with different lengths or shapes) is deprecated. If you meant to do this, you must specify 'dtype=object' when creating the ndarray\n",
      "  globals()['G{}_c{}_w_layer{}'.format(global_epoch, num_c_w, layer_index)] = globals()['G{}_c{}_w_layer{}'.format(global_epoch, num_c_w, layer_index)] + np.array(globals()['L{}_layer{}_w_c'.format(i,layer_index)])   # 일반 클러스터링\n"
     ]
    },
    {
     "name": "stdout",
     "output_type": "stream",
     "text": [
      "Layer :  6   클러스터 갯수 정해짐!  갯수 :  2 0\n"
     ]
    },
    {
     "name": "stderr",
     "output_type": "stream",
     "text": [
      "<ipython-input-8-506962b8e734>:141: VisibleDeprecationWarning: Creating an ndarray from ragged nested sequences (which is a list-or-tuple of lists-or-tuples-or ndarrays with different lengths or shapes) is deprecated. If you meant to do this, you must specify 'dtype=object' when creating the ndarray\n",
      "  globals()['G{}_c{}_w_layer{}'.format(global_epoch, num_c_w, layer_index)] = globals()['G{}_c{}_w_layer{}'.format(global_epoch, num_c_w, layer_index)] + np.array(globals()['L{}_layer{}_w_c'.format(i,layer_index)])   # 일반 클러스터링\n"
     ]
    },
    {
     "name": "stdout",
     "output_type": "stream",
     "text": [
      "Layer :  7   클러스터 갯수 정해짐!  갯수 :  2 0\n",
      "\n",
      "\n",
      "====================================================== One Global Epoch =====================================================================\n",
      "\n",
      "\n",
      "34  번째 global_epoch 데이터 랜덤하게 준비!!\n"
     ]
    },
    {
     "name": "stderr",
     "output_type": "stream",
     "text": [
      "<ipython-input-8-506962b8e734>:141: VisibleDeprecationWarning: Creating an ndarray from ragged nested sequences (which is a list-or-tuple of lists-or-tuples-or ndarrays with different lengths or shapes) is deprecated. If you meant to do this, you must specify 'dtype=object' when creating the ndarray\n",
      "  globals()['G{}_c{}_w_layer{}'.format(global_epoch, num_c_w, layer_index)] = globals()['G{}_c{}_w_layer{}'.format(global_epoch, num_c_w, layer_index)] + np.array(globals()['L{}_layer{}_w_c'.format(i,layer_index)])   # 일반 클러스터링\n"
     ]
    },
    {
     "name": "stdout",
     "output_type": "stream",
     "text": [
      "34  번째 global_epoch 데이터 랜덤 준비완료!!\n",
      "\n",
      "\n",
      "34  번째 global epoch에서 로컬 클라이언트 들 학습시작!\n",
      "\n",
      "학습 중 ...\n",
      "\n",
      "16/16 - 0s - loss: 2.0274 - accuracy: 0.6620\n",
      "16/16 - 0s - loss: 2.3816 - accuracy: 0.6320\n",
      "16/16 - 0s - loss: 2.4080 - accuracy: 0.6220\n",
      "16/16 - 0s - loss: 2.1257 - accuracy: 0.6700\n",
      "16/16 - 0s - loss: 2.2554 - accuracy: 0.6500\n",
      "16/16 - 0s - loss: 2.7919 - accuracy: 0.5840\n",
      "16/16 - 0s - loss: 2.3253 - accuracy: 0.6540\n",
      "16/16 - 0s - loss: 2.2183 - accuracy: 0.6200\n",
      "16/16 - 0s - loss: 2.2853 - accuracy: 0.6740\n",
      "16/16 - 0s - loss: 2.0596 - accuracy: 0.6440\n",
      "16/16 - 0s - loss: 2.2264 - accuracy: 0.6360\n",
      "16/16 - 0s - loss: 2.1918 - accuracy: 0.5840\n",
      "16/16 - 0s - loss: 2.5886 - accuracy: 0.6300\n",
      "16/16 - 0s - loss: 2.1437 - accuracy: 0.6480\n",
      "16/16 - 0s - loss: 2.3941 - accuracy: 0.6200\n",
      "16/16 - 0s - loss: 2.1046 - accuracy: 0.6660\n",
      "16/16 - 0s - loss: 2.6371 - accuracy: 0.6260\n",
      "16/16 - 0s - loss: 2.1813 - accuracy: 0.6180\n",
      "16/16 - 0s - loss: 2.1740 - accuracy: 0.6480\n",
      "16/16 - 0s - loss: 1.9908 - accuracy: 0.6820\n",
      "------------    34  번째 global epoch < Clustering > 로컬 클라이언트 학습 완료!,  Total Training time :  1083.6069326400757 ---------------------------\n",
      "\n",
      "\n",
      "Layer :  0   클러스터 갯수 정해짐!  갯수 :  2 0\n"
     ]
    },
    {
     "name": "stderr",
     "output_type": "stream",
     "text": [
      "<ipython-input-8-506962b8e734>:141: VisibleDeprecationWarning: Creating an ndarray from ragged nested sequences (which is a list-or-tuple of lists-or-tuples-or ndarrays with different lengths or shapes) is deprecated. If you meant to do this, you must specify 'dtype=object' when creating the ndarray\n",
      "  globals()['G{}_c{}_w_layer{}'.format(global_epoch, num_c_w, layer_index)] = globals()['G{}_c{}_w_layer{}'.format(global_epoch, num_c_w, layer_index)] + np.array(globals()['L{}_layer{}_w_c'.format(i,layer_index)])   # 일반 클러스터링\n"
     ]
    },
    {
     "name": "stdout",
     "output_type": "stream",
     "text": [
      "Layer :  2   클러스터 갯수 정해짐!  갯수 :  2 0\n"
     ]
    },
    {
     "name": "stderr",
     "output_type": "stream",
     "text": [
      "<ipython-input-8-506962b8e734>:141: VisibleDeprecationWarning: Creating an ndarray from ragged nested sequences (which is a list-or-tuple of lists-or-tuples-or ndarrays with different lengths or shapes) is deprecated. If you meant to do this, you must specify 'dtype=object' when creating the ndarray\n",
      "  globals()['G{}_c{}_w_layer{}'.format(global_epoch, num_c_w, layer_index)] = globals()['G{}_c{}_w_layer{}'.format(global_epoch, num_c_w, layer_index)] + np.array(globals()['L{}_layer{}_w_c'.format(i,layer_index)])   # 일반 클러스터링\n"
     ]
    },
    {
     "name": "stdout",
     "output_type": "stream",
     "text": [
      "Layer :  4   클러스터 갯수 정해짐!  갯수 :  3 1\n"
     ]
    },
    {
     "name": "stderr",
     "output_type": "stream",
     "text": [
      "<ipython-input-8-506962b8e734>:141: VisibleDeprecationWarning: Creating an ndarray from ragged nested sequences (which is a list-or-tuple of lists-or-tuples-or ndarrays with different lengths or shapes) is deprecated. If you meant to do this, you must specify 'dtype=object' when creating the ndarray\n",
      "  globals()['G{}_c{}_w_layer{}'.format(global_epoch, num_c_w, layer_index)] = globals()['G{}_c{}_w_layer{}'.format(global_epoch, num_c_w, layer_index)] + np.array(globals()['L{}_layer{}_w_c'.format(i,layer_index)])   # 일반 클러스터링\n"
     ]
    },
    {
     "name": "stdout",
     "output_type": "stream",
     "text": [
      "Layer :  6   클러스터 갯수 정해짐!  갯수 :  2 0\n"
     ]
    },
    {
     "name": "stderr",
     "output_type": "stream",
     "text": [
      "<ipython-input-8-506962b8e734>:141: VisibleDeprecationWarning: Creating an ndarray from ragged nested sequences (which is a list-or-tuple of lists-or-tuples-or ndarrays with different lengths or shapes) is deprecated. If you meant to do this, you must specify 'dtype=object' when creating the ndarray\n",
      "  globals()['G{}_c{}_w_layer{}'.format(global_epoch, num_c_w, layer_index)] = globals()['G{}_c{}_w_layer{}'.format(global_epoch, num_c_w, layer_index)] + np.array(globals()['L{}_layer{}_w_c'.format(i,layer_index)])   # 일반 클러스터링\n"
     ]
    },
    {
     "name": "stdout",
     "output_type": "stream",
     "text": [
      "Layer :  7   클러스터 갯수 정해짐!  갯수 :  2 0\n",
      "\n",
      "\n",
      "====================================================== One Global Epoch =====================================================================\n",
      "\n",
      "\n",
      "35  번째 global_epoch 데이터 랜덤하게 준비!!\n"
     ]
    },
    {
     "name": "stderr",
     "output_type": "stream",
     "text": [
      "<ipython-input-8-506962b8e734>:141: VisibleDeprecationWarning: Creating an ndarray from ragged nested sequences (which is a list-or-tuple of lists-or-tuples-or ndarrays with different lengths or shapes) is deprecated. If you meant to do this, you must specify 'dtype=object' when creating the ndarray\n",
      "  globals()['G{}_c{}_w_layer{}'.format(global_epoch, num_c_w, layer_index)] = globals()['G{}_c{}_w_layer{}'.format(global_epoch, num_c_w, layer_index)] + np.array(globals()['L{}_layer{}_w_c'.format(i,layer_index)])   # 일반 클러스터링\n"
     ]
    },
    {
     "name": "stdout",
     "output_type": "stream",
     "text": [
      "35  번째 global_epoch 데이터 랜덤 준비완료!!\n",
      "\n",
      "\n",
      "35  번째 global epoch에서 로컬 클라이언트 들 학습시작!\n",
      "\n",
      "학습 중 ...\n",
      "\n",
      "16/16 - 0s - loss: 2.3387 - accuracy: 0.6200\n",
      "16/16 - 0s - loss: 2.6389 - accuracy: 0.6200\n",
      "16/16 - 0s - loss: 2.3602 - accuracy: 0.6380\n",
      "16/16 - 0s - loss: 2.1264 - accuracy: 0.6560\n",
      "16/16 - 0s - loss: 2.2887 - accuracy: 0.6540\n",
      "16/16 - 0s - loss: 2.7775 - accuracy: 0.5920\n",
      "16/16 - 0s - loss: 2.0740 - accuracy: 0.6620\n",
      "16/16 - 0s - loss: 2.1893 - accuracy: 0.6240\n",
      "16/16 - 0s - loss: 2.4647 - accuracy: 0.6680\n",
      "16/16 - 0s - loss: 2.1048 - accuracy: 0.6720\n",
      "16/16 - 0s - loss: 2.4019 - accuracy: 0.6560\n",
      "16/16 - 0s - loss: 2.0113 - accuracy: 0.6320\n",
      "16/16 - 0s - loss: 2.1363 - accuracy: 0.6720\n",
      "16/16 - 0s - loss: 2.7122 - accuracy: 0.6100\n",
      "16/16 - 0s - loss: 2.0787 - accuracy: 0.6740\n",
      "16/16 - 0s - loss: 2.1188 - accuracy: 0.6620\n",
      "16/16 - 0s - loss: 2.1765 - accuracy: 0.6420\n",
      "16/16 - 0s - loss: 2.1069 - accuracy: 0.6580\n",
      "16/16 - 0s - loss: 2.1312 - accuracy: 0.6340\n",
      "16/16 - 0s - loss: 2.6751 - accuracy: 0.6100\n",
      "------------    35  번째 global epoch < Clustering > 로컬 클라이언트 학습 완료!,  Total Training time :  1122.232875585556 ---------------------------\n",
      "\n",
      "\n",
      "Layer :  0   클러스터 갯수 정해짐!  갯수 :  2 0\n"
     ]
    },
    {
     "name": "stderr",
     "output_type": "stream",
     "text": [
      "<ipython-input-8-506962b8e734>:141: VisibleDeprecationWarning: Creating an ndarray from ragged nested sequences (which is a list-or-tuple of lists-or-tuples-or ndarrays with different lengths or shapes) is deprecated. If you meant to do this, you must specify 'dtype=object' when creating the ndarray\n",
      "  globals()['G{}_c{}_w_layer{}'.format(global_epoch, num_c_w, layer_index)] = globals()['G{}_c{}_w_layer{}'.format(global_epoch, num_c_w, layer_index)] + np.array(globals()['L{}_layer{}_w_c'.format(i,layer_index)])   # 일반 클러스터링\n"
     ]
    },
    {
     "name": "stdout",
     "output_type": "stream",
     "text": [
      "Layer :  2   클러스터 갯수 정해짐!  갯수 :  2 0\n"
     ]
    },
    {
     "name": "stderr",
     "output_type": "stream",
     "text": [
      "<ipython-input-8-506962b8e734>:141: VisibleDeprecationWarning: Creating an ndarray from ragged nested sequences (which is a list-or-tuple of lists-or-tuples-or ndarrays with different lengths or shapes) is deprecated. If you meant to do this, you must specify 'dtype=object' when creating the ndarray\n",
      "  globals()['G{}_c{}_w_layer{}'.format(global_epoch, num_c_w, layer_index)] = globals()['G{}_c{}_w_layer{}'.format(global_epoch, num_c_w, layer_index)] + np.array(globals()['L{}_layer{}_w_c'.format(i,layer_index)])   # 일반 클러스터링\n"
     ]
    },
    {
     "name": "stdout",
     "output_type": "stream",
     "text": [
      "Layer :  4   클러스터 갯수 정해짐!  갯수 :  3 1\n"
     ]
    },
    {
     "name": "stderr",
     "output_type": "stream",
     "text": [
      "<ipython-input-8-506962b8e734>:141: VisibleDeprecationWarning: Creating an ndarray from ragged nested sequences (which is a list-or-tuple of lists-or-tuples-or ndarrays with different lengths or shapes) is deprecated. If you meant to do this, you must specify 'dtype=object' when creating the ndarray\n",
      "  globals()['G{}_c{}_w_layer{}'.format(global_epoch, num_c_w, layer_index)] = globals()['G{}_c{}_w_layer{}'.format(global_epoch, num_c_w, layer_index)] + np.array(globals()['L{}_layer{}_w_c'.format(i,layer_index)])   # 일반 클러스터링\n"
     ]
    },
    {
     "name": "stdout",
     "output_type": "stream",
     "text": [
      "Layer :  6   클러스터 갯수 정해짐!  갯수 :  2 0\n"
     ]
    },
    {
     "name": "stderr",
     "output_type": "stream",
     "text": [
      "<ipython-input-8-506962b8e734>:141: VisibleDeprecationWarning: Creating an ndarray from ragged nested sequences (which is a list-or-tuple of lists-or-tuples-or ndarrays with different lengths or shapes) is deprecated. If you meant to do this, you must specify 'dtype=object' when creating the ndarray\n",
      "  globals()['G{}_c{}_w_layer{}'.format(global_epoch, num_c_w, layer_index)] = globals()['G{}_c{}_w_layer{}'.format(global_epoch, num_c_w, layer_index)] + np.array(globals()['L{}_layer{}_w_c'.format(i,layer_index)])   # 일반 클러스터링\n"
     ]
    },
    {
     "name": "stdout",
     "output_type": "stream",
     "text": [
      "Layer :  7   클러스터 갯수 정해짐!  갯수 :  2 0\n",
      "\n",
      "\n",
      "====================================================== One Global Epoch =====================================================================\n",
      "\n",
      "\n",
      "36  번째 global_epoch 데이터 랜덤하게 준비!!\n"
     ]
    },
    {
     "name": "stderr",
     "output_type": "stream",
     "text": [
      "<ipython-input-8-506962b8e734>:141: VisibleDeprecationWarning: Creating an ndarray from ragged nested sequences (which is a list-or-tuple of lists-or-tuples-or ndarrays with different lengths or shapes) is deprecated. If you meant to do this, you must specify 'dtype=object' when creating the ndarray\n",
      "  globals()['G{}_c{}_w_layer{}'.format(global_epoch, num_c_w, layer_index)] = globals()['G{}_c{}_w_layer{}'.format(global_epoch, num_c_w, layer_index)] + np.array(globals()['L{}_layer{}_w_c'.format(i,layer_index)])   # 일반 클러스터링\n"
     ]
    },
    {
     "name": "stdout",
     "output_type": "stream",
     "text": [
      "36  번째 global_epoch 데이터 랜덤 준비완료!!\n",
      "\n",
      "\n",
      "36  번째 global epoch에서 로컬 클라이언트 들 학습시작!\n",
      "\n",
      "학습 중 ...\n",
      "\n",
      "16/16 - 0s - loss: 2.1020 - accuracy: 0.6240\n",
      "16/16 - 0s - loss: 2.5003 - accuracy: 0.6420\n",
      "16/16 - 0s - loss: 2.4609 - accuracy: 0.6300\n",
      "16/16 - 0s - loss: 2.4851 - accuracy: 0.6320\n",
      "16/16 - 0s - loss: 2.4278 - accuracy: 0.6300\n",
      "16/16 - 0s - loss: 2.5658 - accuracy: 0.6240\n",
      "16/16 - 0s - loss: 2.2737 - accuracy: 0.6320\n",
      "16/16 - 0s - loss: 2.3004 - accuracy: 0.6420\n",
      "16/16 - 0s - loss: 2.1520 - accuracy: 0.6520\n",
      "16/16 - 0s - loss: 2.4199 - accuracy: 0.6180\n",
      "16/16 - 0s - loss: 2.1280 - accuracy: 0.6720\n",
      "16/16 - 0s - loss: 2.5121 - accuracy: 0.5560\n",
      "16/16 - 0s - loss: 2.2805 - accuracy: 0.6500\n",
      "16/16 - 0s - loss: 2.3138 - accuracy: 0.6520\n",
      "16/16 - 0s - loss: 2.1591 - accuracy: 0.6400\n",
      "16/16 - 0s - loss: 2.5373 - accuracy: 0.6200\n",
      "16/16 - 0s - loss: 2.5003 - accuracy: 0.6340\n",
      "16/16 - 0s - loss: 2.3968 - accuracy: 0.6280\n",
      "16/16 - 0s - loss: 2.3548 - accuracy: 0.6300\n",
      "16/16 - 0s - loss: 2.3443 - accuracy: 0.6480\n",
      "------------    36  번째 global epoch < Clustering > 로컬 클라이언트 학습 완료!,  Total Training time :  1167.372309923172 ---------------------------\n",
      "\n",
      "\n",
      "Layer :  0   클러스터 갯수 정해짐!  갯수 :  2 0\n"
     ]
    },
    {
     "name": "stderr",
     "output_type": "stream",
     "text": [
      "<ipython-input-8-506962b8e734>:141: VisibleDeprecationWarning: Creating an ndarray from ragged nested sequences (which is a list-or-tuple of lists-or-tuples-or ndarrays with different lengths or shapes) is deprecated. If you meant to do this, you must specify 'dtype=object' when creating the ndarray\n",
      "  globals()['G{}_c{}_w_layer{}'.format(global_epoch, num_c_w, layer_index)] = globals()['G{}_c{}_w_layer{}'.format(global_epoch, num_c_w, layer_index)] + np.array(globals()['L{}_layer{}_w_c'.format(i,layer_index)])   # 일반 클러스터링\n"
     ]
    },
    {
     "name": "stdout",
     "output_type": "stream",
     "text": [
      "Layer :  2   클러스터 갯수 정해짐!  갯수 :  2 0\n"
     ]
    },
    {
     "name": "stderr",
     "output_type": "stream",
     "text": [
      "<ipython-input-8-506962b8e734>:141: VisibleDeprecationWarning: Creating an ndarray from ragged nested sequences (which is a list-or-tuple of lists-or-tuples-or ndarrays with different lengths or shapes) is deprecated. If you meant to do this, you must specify 'dtype=object' when creating the ndarray\n",
      "  globals()['G{}_c{}_w_layer{}'.format(global_epoch, num_c_w, layer_index)] = globals()['G{}_c{}_w_layer{}'.format(global_epoch, num_c_w, layer_index)] + np.array(globals()['L{}_layer{}_w_c'.format(i,layer_index)])   # 일반 클러스터링\n"
     ]
    },
    {
     "name": "stdout",
     "output_type": "stream",
     "text": [
      "Layer :  4   클러스터 갯수 정해짐!  갯수 :  3 1\n"
     ]
    },
    {
     "name": "stderr",
     "output_type": "stream",
     "text": [
      "<ipython-input-8-506962b8e734>:141: VisibleDeprecationWarning: Creating an ndarray from ragged nested sequences (which is a list-or-tuple of lists-or-tuples-or ndarrays with different lengths or shapes) is deprecated. If you meant to do this, you must specify 'dtype=object' when creating the ndarray\n",
      "  globals()['G{}_c{}_w_layer{}'.format(global_epoch, num_c_w, layer_index)] = globals()['G{}_c{}_w_layer{}'.format(global_epoch, num_c_w, layer_index)] + np.array(globals()['L{}_layer{}_w_c'.format(i,layer_index)])   # 일반 클러스터링\n"
     ]
    },
    {
     "name": "stdout",
     "output_type": "stream",
     "text": [
      "Layer :  6   클러스터 갯수 정해짐!  갯수 :  2 0\n"
     ]
    },
    {
     "name": "stderr",
     "output_type": "stream",
     "text": [
      "<ipython-input-8-506962b8e734>:141: VisibleDeprecationWarning: Creating an ndarray from ragged nested sequences (which is a list-or-tuple of lists-or-tuples-or ndarrays with different lengths or shapes) is deprecated. If you meant to do this, you must specify 'dtype=object' when creating the ndarray\n",
      "  globals()['G{}_c{}_w_layer{}'.format(global_epoch, num_c_w, layer_index)] = globals()['G{}_c{}_w_layer{}'.format(global_epoch, num_c_w, layer_index)] + np.array(globals()['L{}_layer{}_w_c'.format(i,layer_index)])   # 일반 클러스터링\n"
     ]
    },
    {
     "name": "stdout",
     "output_type": "stream",
     "text": [
      "Layer :  7   클러스터 갯수 정해짐!  갯수 :  2 0\n",
      "\n",
      "\n",
      "====================================================== One Global Epoch =====================================================================\n",
      "\n",
      "\n",
      "37  번째 global_epoch 데이터 랜덤하게 준비!!\n"
     ]
    },
    {
     "name": "stderr",
     "output_type": "stream",
     "text": [
      "<ipython-input-8-506962b8e734>:141: VisibleDeprecationWarning: Creating an ndarray from ragged nested sequences (which is a list-or-tuple of lists-or-tuples-or ndarrays with different lengths or shapes) is deprecated. If you meant to do this, you must specify 'dtype=object' when creating the ndarray\n",
      "  globals()['G{}_c{}_w_layer{}'.format(global_epoch, num_c_w, layer_index)] = globals()['G{}_c{}_w_layer{}'.format(global_epoch, num_c_w, layer_index)] + np.array(globals()['L{}_layer{}_w_c'.format(i,layer_index)])   # 일반 클러스터링\n"
     ]
    },
    {
     "name": "stdout",
     "output_type": "stream",
     "text": [
      "37  번째 global_epoch 데이터 랜덤 준비완료!!\n",
      "\n",
      "\n",
      "37  번째 global epoch에서 로컬 클라이언트 들 학습시작!\n",
      "\n",
      "학습 중 ...\n",
      "\n",
      "16/16 - 0s - loss: 2.7331 - accuracy: 0.6080\n",
      "16/16 - 0s - loss: 2.4023 - accuracy: 0.6260\n",
      "16/16 - 0s - loss: 2.1032 - accuracy: 0.6140\n",
      "16/16 - 0s - loss: 2.5273 - accuracy: 0.6160\n",
      "16/16 - 0s - loss: 2.3810 - accuracy: 0.6300\n",
      "16/16 - 0s - loss: 2.3889 - accuracy: 0.6180\n",
      "16/16 - 0s - loss: 2.4730 - accuracy: 0.6560\n",
      "16/16 - 0s - loss: 2.4131 - accuracy: 0.6060\n",
      "16/16 - 0s - loss: 2.4224 - accuracy: 0.6420\n",
      "16/16 - 0s - loss: 2.3527 - accuracy: 0.6200\n",
      "16/16 - 0s - loss: 2.5852 - accuracy: 0.6380\n",
      "16/16 - 0s - loss: 2.0161 - accuracy: 0.5960\n",
      "16/16 - 0s - loss: 2.4645 - accuracy: 0.6220\n",
      "16/16 - 0s - loss: 2.4004 - accuracy: 0.6280\n",
      "16/16 - 0s - loss: 2.3129 - accuracy: 0.6220\n",
      "16/16 - 0s - loss: 2.1495 - accuracy: 0.6280\n",
      "16/16 - 0s - loss: 2.1425 - accuracy: 0.6580\n",
      "16/16 - 0s - loss: 2.5170 - accuracy: 0.6240\n",
      "16/16 - 0s - loss: 2.4357 - accuracy: 0.6180\n",
      "16/16 - 0s - loss: 2.8522 - accuracy: 0.5840\n",
      "------------    37  번째 global epoch < Clustering > 로컬 클라이언트 학습 완료!,  Total Training time :  1226.7308580875397 ---------------------------\n",
      "\n",
      "\n",
      "Layer :  0   클러스터 갯수 정해짐!  갯수 :  2 0\n"
     ]
    },
    {
     "name": "stderr",
     "output_type": "stream",
     "text": [
      "<ipython-input-8-506962b8e734>:141: VisibleDeprecationWarning: Creating an ndarray from ragged nested sequences (which is a list-or-tuple of lists-or-tuples-or ndarrays with different lengths or shapes) is deprecated. If you meant to do this, you must specify 'dtype=object' when creating the ndarray\n",
      "  globals()['G{}_c{}_w_layer{}'.format(global_epoch, num_c_w, layer_index)] = globals()['G{}_c{}_w_layer{}'.format(global_epoch, num_c_w, layer_index)] + np.array(globals()['L{}_layer{}_w_c'.format(i,layer_index)])   # 일반 클러스터링\n"
     ]
    },
    {
     "name": "stdout",
     "output_type": "stream",
     "text": [
      "Layer :  2   클러스터 갯수 정해짐!  갯수 :  2 0\n"
     ]
    },
    {
     "name": "stderr",
     "output_type": "stream",
     "text": [
      "<ipython-input-8-506962b8e734>:141: VisibleDeprecationWarning: Creating an ndarray from ragged nested sequences (which is a list-or-tuple of lists-or-tuples-or ndarrays with different lengths or shapes) is deprecated. If you meant to do this, you must specify 'dtype=object' when creating the ndarray\n",
      "  globals()['G{}_c{}_w_layer{}'.format(global_epoch, num_c_w, layer_index)] = globals()['G{}_c{}_w_layer{}'.format(global_epoch, num_c_w, layer_index)] + np.array(globals()['L{}_layer{}_w_c'.format(i,layer_index)])   # 일반 클러스터링\n"
     ]
    },
    {
     "name": "stdout",
     "output_type": "stream",
     "text": [
      "Layer :  4   클러스터 갯수 정해짐!  갯수 :  3 1\n"
     ]
    },
    {
     "name": "stderr",
     "output_type": "stream",
     "text": [
      "<ipython-input-8-506962b8e734>:141: VisibleDeprecationWarning: Creating an ndarray from ragged nested sequences (which is a list-or-tuple of lists-or-tuples-or ndarrays with different lengths or shapes) is deprecated. If you meant to do this, you must specify 'dtype=object' when creating the ndarray\n",
      "  globals()['G{}_c{}_w_layer{}'.format(global_epoch, num_c_w, layer_index)] = globals()['G{}_c{}_w_layer{}'.format(global_epoch, num_c_w, layer_index)] + np.array(globals()['L{}_layer{}_w_c'.format(i,layer_index)])   # 일반 클러스터링\n"
     ]
    },
    {
     "name": "stdout",
     "output_type": "stream",
     "text": [
      "Layer :  6   클러스터 갯수 정해짐!  갯수 :  2 0\n"
     ]
    },
    {
     "name": "stderr",
     "output_type": "stream",
     "text": [
      "<ipython-input-8-506962b8e734>:141: VisibleDeprecationWarning: Creating an ndarray from ragged nested sequences (which is a list-or-tuple of lists-or-tuples-or ndarrays with different lengths or shapes) is deprecated. If you meant to do this, you must specify 'dtype=object' when creating the ndarray\n",
      "  globals()['G{}_c{}_w_layer{}'.format(global_epoch, num_c_w, layer_index)] = globals()['G{}_c{}_w_layer{}'.format(global_epoch, num_c_w, layer_index)] + np.array(globals()['L{}_layer{}_w_c'.format(i,layer_index)])   # 일반 클러스터링\n"
     ]
    },
    {
     "name": "stdout",
     "output_type": "stream",
     "text": [
      "Layer :  7   클러스터 갯수 정해짐!  갯수 :  2 0\n",
      "\n",
      "\n",
      "====================================================== One Global Epoch =====================================================================\n",
      "\n",
      "\n",
      "38  번째 global_epoch 데이터 랜덤하게 준비!!\n"
     ]
    },
    {
     "name": "stderr",
     "output_type": "stream",
     "text": [
      "<ipython-input-8-506962b8e734>:141: VisibleDeprecationWarning: Creating an ndarray from ragged nested sequences (which is a list-or-tuple of lists-or-tuples-or ndarrays with different lengths or shapes) is deprecated. If you meant to do this, you must specify 'dtype=object' when creating the ndarray\n",
      "  globals()['G{}_c{}_w_layer{}'.format(global_epoch, num_c_w, layer_index)] = globals()['G{}_c{}_w_layer{}'.format(global_epoch, num_c_w, layer_index)] + np.array(globals()['L{}_layer{}_w_c'.format(i,layer_index)])   # 일반 클러스터링\n"
     ]
    },
    {
     "name": "stdout",
     "output_type": "stream",
     "text": [
      "38  번째 global_epoch 데이터 랜덤 준비완료!!\n",
      "\n",
      "\n",
      "38  번째 global epoch에서 로컬 클라이언트 들 학습시작!\n",
      "\n",
      "학습 중 ...\n",
      "\n",
      "16/16 - 0s - loss: 2.6748 - accuracy: 0.5780\n",
      "16/16 - 0s - loss: 2.4160 - accuracy: 0.6400\n",
      "16/16 - 0s - loss: 2.3106 - accuracy: 0.6640\n",
      "16/16 - 0s - loss: 2.1822 - accuracy: 0.6240\n",
      "16/16 - 0s - loss: 2.5803 - accuracy: 0.6340\n",
      "16/16 - 0s - loss: 2.8413 - accuracy: 0.5800\n",
      "16/16 - 0s - loss: 2.3831 - accuracy: 0.6660\n",
      "16/16 - 0s - loss: 2.5038 - accuracy: 0.6180\n",
      "16/16 - 0s - loss: 2.1608 - accuracy: 0.6480\n",
      "16/16 - 0s - loss: 2.1828 - accuracy: 0.6240\n",
      "16/16 - 0s - loss: 2.2542 - accuracy: 0.6320\n",
      "16/16 - 0s - loss: 2.2512 - accuracy: 0.5700\n",
      "16/16 - 0s - loss: 2.0386 - accuracy: 0.6600\n",
      "16/16 - 0s - loss: 2.5755 - accuracy: 0.6500\n",
      "16/16 - 0s - loss: 2.7372 - accuracy: 0.6220\n",
      "16/16 - 0s - loss: 2.4936 - accuracy: 0.6200\n",
      "16/16 - 0s - loss: 2.2471 - accuracy: 0.6540\n",
      "16/16 - 0s - loss: 2.4384 - accuracy: 0.6380\n",
      "16/16 - 0s - loss: 2.1087 - accuracy: 0.6160\n",
      "16/16 - 0s - loss: 2.7610 - accuracy: 0.5860\n",
      "------------    38  번째 global epoch < Clustering > 로컬 클라이언트 학습 완료!,  Total Training time :  1297.2806000709534 ---------------------------\n",
      "\n",
      "\n",
      "Layer :  0   클러스터 갯수 정해짐!  갯수 :  2 0\n"
     ]
    },
    {
     "name": "stderr",
     "output_type": "stream",
     "text": [
      "<ipython-input-8-506962b8e734>:141: VisibleDeprecationWarning: Creating an ndarray from ragged nested sequences (which is a list-or-tuple of lists-or-tuples-or ndarrays with different lengths or shapes) is deprecated. If you meant to do this, you must specify 'dtype=object' when creating the ndarray\n",
      "  globals()['G{}_c{}_w_layer{}'.format(global_epoch, num_c_w, layer_index)] = globals()['G{}_c{}_w_layer{}'.format(global_epoch, num_c_w, layer_index)] + np.array(globals()['L{}_layer{}_w_c'.format(i,layer_index)])   # 일반 클러스터링\n"
     ]
    },
    {
     "name": "stdout",
     "output_type": "stream",
     "text": [
      "Layer :  2   클러스터 갯수 정해짐!  갯수 :  2 0\n"
     ]
    },
    {
     "name": "stderr",
     "output_type": "stream",
     "text": [
      "<ipython-input-8-506962b8e734>:141: VisibleDeprecationWarning: Creating an ndarray from ragged nested sequences (which is a list-or-tuple of lists-or-tuples-or ndarrays with different lengths or shapes) is deprecated. If you meant to do this, you must specify 'dtype=object' when creating the ndarray\n",
      "  globals()['G{}_c{}_w_layer{}'.format(global_epoch, num_c_w, layer_index)] = globals()['G{}_c{}_w_layer{}'.format(global_epoch, num_c_w, layer_index)] + np.array(globals()['L{}_layer{}_w_c'.format(i,layer_index)])   # 일반 클러스터링\n"
     ]
    },
    {
     "name": "stdout",
     "output_type": "stream",
     "text": [
      "Layer :  4   클러스터 갯수 정해짐!  갯수 :  3 1\n"
     ]
    },
    {
     "name": "stderr",
     "output_type": "stream",
     "text": [
      "<ipython-input-8-506962b8e734>:141: VisibleDeprecationWarning: Creating an ndarray from ragged nested sequences (which is a list-or-tuple of lists-or-tuples-or ndarrays with different lengths or shapes) is deprecated. If you meant to do this, you must specify 'dtype=object' when creating the ndarray\n",
      "  globals()['G{}_c{}_w_layer{}'.format(global_epoch, num_c_w, layer_index)] = globals()['G{}_c{}_w_layer{}'.format(global_epoch, num_c_w, layer_index)] + np.array(globals()['L{}_layer{}_w_c'.format(i,layer_index)])   # 일반 클러스터링\n"
     ]
    },
    {
     "name": "stdout",
     "output_type": "stream",
     "text": [
      "Layer :  6   클러스터 갯수 정해짐!  갯수 :  2 0\n"
     ]
    },
    {
     "name": "stderr",
     "output_type": "stream",
     "text": [
      "<ipython-input-8-506962b8e734>:141: VisibleDeprecationWarning: Creating an ndarray from ragged nested sequences (which is a list-or-tuple of lists-or-tuples-or ndarrays with different lengths or shapes) is deprecated. If you meant to do this, you must specify 'dtype=object' when creating the ndarray\n",
      "  globals()['G{}_c{}_w_layer{}'.format(global_epoch, num_c_w, layer_index)] = globals()['G{}_c{}_w_layer{}'.format(global_epoch, num_c_w, layer_index)] + np.array(globals()['L{}_layer{}_w_c'.format(i,layer_index)])   # 일반 클러스터링\n"
     ]
    },
    {
     "name": "stdout",
     "output_type": "stream",
     "text": [
      "Layer :  7   클러스터 갯수 정해짐!  갯수 :  2 0\n",
      "\n",
      "\n",
      "====================================================== One Global Epoch =====================================================================\n",
      "\n",
      "\n",
      "39  번째 global_epoch 데이터 랜덤하게 준비!!\n"
     ]
    },
    {
     "name": "stderr",
     "output_type": "stream",
     "text": [
      "<ipython-input-8-506962b8e734>:141: VisibleDeprecationWarning: Creating an ndarray from ragged nested sequences (which is a list-or-tuple of lists-or-tuples-or ndarrays with different lengths or shapes) is deprecated. If you meant to do this, you must specify 'dtype=object' when creating the ndarray\n",
      "  globals()['G{}_c{}_w_layer{}'.format(global_epoch, num_c_w, layer_index)] = globals()['G{}_c{}_w_layer{}'.format(global_epoch, num_c_w, layer_index)] + np.array(globals()['L{}_layer{}_w_c'.format(i,layer_index)])   # 일반 클러스터링\n"
     ]
    },
    {
     "name": "stdout",
     "output_type": "stream",
     "text": [
      "39  번째 global_epoch 데이터 랜덤 준비완료!!\n",
      "\n",
      "\n",
      "39  번째 global epoch에서 로컬 클라이언트 들 학습시작!\n",
      "\n",
      "학습 중 ...\n",
      "\n",
      "16/16 - 0s - loss: 2.1401 - accuracy: 0.6540\n",
      "16/16 - 0s - loss: 2.1005 - accuracy: 0.6640\n",
      "16/16 - 0s - loss: 2.3599 - accuracy: 0.6440\n",
      "16/16 - 0s - loss: 2.1958 - accuracy: 0.6440\n",
      "16/16 - 0s - loss: 2.5401 - accuracy: 0.6020\n",
      "16/16 - 0s - loss: 2.7711 - accuracy: 0.5620\n",
      "16/16 - 0s - loss: 2.3455 - accuracy: 0.6480\n",
      "16/16 - 0s - loss: 2.4661 - accuracy: 0.6260\n",
      "16/16 - 1s - loss: 2.8080 - accuracy: 0.6040\n",
      "16/16 - 1s - loss: 2.2317 - accuracy: 0.6680\n",
      "16/16 - 1s - loss: 2.4828 - accuracy: 0.6260\n",
      "16/16 - 0s - loss: 2.1398 - accuracy: 0.6180\n",
      "16/16 - 0s - loss: 2.1871 - accuracy: 0.6460\n",
      "16/16 - 0s - loss: 2.3883 - accuracy: 0.6260\n",
      "16/16 - 0s - loss: 2.0067 - accuracy: 0.6540\n",
      "16/16 - 0s - loss: 2.2494 - accuracy: 0.6280\n",
      "16/16 - 0s - loss: 2.2004 - accuracy: 0.6620\n",
      "16/16 - 0s - loss: 2.5538 - accuracy: 0.6400\n",
      "16/16 - 0s - loss: 2.2582 - accuracy: 0.6540\n",
      "16/16 - 0s - loss: 2.4015 - accuracy: 0.6300\n",
      "------------    39  번째 global epoch < Clustering > 로컬 클라이언트 학습 완료!,  Total Training time :  1346.8894083499908 ---------------------------\n",
      "\n",
      "\n",
      "Layer :  0   클러스터 갯수 정해짐!  갯수 :  2 0\n"
     ]
    },
    {
     "name": "stderr",
     "output_type": "stream",
     "text": [
      "<ipython-input-8-506962b8e734>:141: VisibleDeprecationWarning: Creating an ndarray from ragged nested sequences (which is a list-or-tuple of lists-or-tuples-or ndarrays with different lengths or shapes) is deprecated. If you meant to do this, you must specify 'dtype=object' when creating the ndarray\n",
      "  globals()['G{}_c{}_w_layer{}'.format(global_epoch, num_c_w, layer_index)] = globals()['G{}_c{}_w_layer{}'.format(global_epoch, num_c_w, layer_index)] + np.array(globals()['L{}_layer{}_w_c'.format(i,layer_index)])   # 일반 클러스터링\n"
     ]
    },
    {
     "name": "stdout",
     "output_type": "stream",
     "text": [
      "Layer :  2   클러스터 갯수 정해짐!  갯수 :  2 0\n"
     ]
    },
    {
     "name": "stderr",
     "output_type": "stream",
     "text": [
      "<ipython-input-8-506962b8e734>:141: VisibleDeprecationWarning: Creating an ndarray from ragged nested sequences (which is a list-or-tuple of lists-or-tuples-or ndarrays with different lengths or shapes) is deprecated. If you meant to do this, you must specify 'dtype=object' when creating the ndarray\n",
      "  globals()['G{}_c{}_w_layer{}'.format(global_epoch, num_c_w, layer_index)] = globals()['G{}_c{}_w_layer{}'.format(global_epoch, num_c_w, layer_index)] + np.array(globals()['L{}_layer{}_w_c'.format(i,layer_index)])   # 일반 클러스터링\n"
     ]
    },
    {
     "name": "stdout",
     "output_type": "stream",
     "text": [
      "Layer :  4   클러스터 갯수 정해짐!  갯수 :  3 1\n"
     ]
    },
    {
     "name": "stderr",
     "output_type": "stream",
     "text": [
      "<ipython-input-8-506962b8e734>:141: VisibleDeprecationWarning: Creating an ndarray from ragged nested sequences (which is a list-or-tuple of lists-or-tuples-or ndarrays with different lengths or shapes) is deprecated. If you meant to do this, you must specify 'dtype=object' when creating the ndarray\n",
      "  globals()['G{}_c{}_w_layer{}'.format(global_epoch, num_c_w, layer_index)] = globals()['G{}_c{}_w_layer{}'.format(global_epoch, num_c_w, layer_index)] + np.array(globals()['L{}_layer{}_w_c'.format(i,layer_index)])   # 일반 클러스터링\n"
     ]
    },
    {
     "name": "stdout",
     "output_type": "stream",
     "text": [
      "Layer :  6   클러스터 갯수 정해짐!  갯수 :  2 0\n"
     ]
    },
    {
     "name": "stderr",
     "output_type": "stream",
     "text": [
      "<ipython-input-8-506962b8e734>:141: VisibleDeprecationWarning: Creating an ndarray from ragged nested sequences (which is a list-or-tuple of lists-or-tuples-or ndarrays with different lengths or shapes) is deprecated. If you meant to do this, you must specify 'dtype=object' when creating the ndarray\n",
      "  globals()['G{}_c{}_w_layer{}'.format(global_epoch, num_c_w, layer_index)] = globals()['G{}_c{}_w_layer{}'.format(global_epoch, num_c_w, layer_index)] + np.array(globals()['L{}_layer{}_w_c'.format(i,layer_index)])   # 일반 클러스터링\n"
     ]
    },
    {
     "name": "stdout",
     "output_type": "stream",
     "text": [
      "Layer :  7   클러스터 갯수 정해짐!  갯수 :  2 0\n",
      "\n",
      "\n",
      "====================================================== One Global Epoch =====================================================================\n",
      "\n",
      "\n",
      "40  번째 global_epoch 데이터 랜덤하게 준비!!\n"
     ]
    },
    {
     "name": "stderr",
     "output_type": "stream",
     "text": [
      "<ipython-input-8-506962b8e734>:141: VisibleDeprecationWarning: Creating an ndarray from ragged nested sequences (which is a list-or-tuple of lists-or-tuples-or ndarrays with different lengths or shapes) is deprecated. If you meant to do this, you must specify 'dtype=object' when creating the ndarray\n",
      "  globals()['G{}_c{}_w_layer{}'.format(global_epoch, num_c_w, layer_index)] = globals()['G{}_c{}_w_layer{}'.format(global_epoch, num_c_w, layer_index)] + np.array(globals()['L{}_layer{}_w_c'.format(i,layer_index)])   # 일반 클러스터링\n"
     ]
    },
    {
     "name": "stdout",
     "output_type": "stream",
     "text": [
      "40  번째 global_epoch 데이터 랜덤 준비완료!!\n",
      "\n",
      "\n",
      "40  번째 global epoch에서 로컬 클라이언트 들 학습시작!\n",
      "\n",
      "학습 중 ...\n",
      "\n",
      "16/16 - 0s - loss: 2.4873 - accuracy: 0.6140\n",
      "16/16 - 0s - loss: 2.3995 - accuracy: 0.6520\n",
      "16/16 - 0s - loss: 2.3179 - accuracy: 0.6360\n",
      "16/16 - 0s - loss: 2.3269 - accuracy: 0.6580\n",
      "16/16 - 0s - loss: 2.3403 - accuracy: 0.6580\n",
      "16/16 - 0s - loss: 2.6521 - accuracy: 0.5760\n",
      "16/16 - 0s - loss: 2.3466 - accuracy: 0.6300\n",
      "16/16 - 0s - loss: 1.9076 - accuracy: 0.6640\n",
      "16/16 - 0s - loss: 2.1526 - accuracy: 0.6360\n",
      "16/16 - 0s - loss: 2.4380 - accuracy: 0.6200\n",
      "16/16 - 0s - loss: 2.2355 - accuracy: 0.6440\n",
      "16/16 - 0s - loss: 2.3021 - accuracy: 0.5320\n",
      "16/16 - 1s - loss: 2.2412 - accuracy: 0.6560\n",
      "16/16 - 0s - loss: 2.4000 - accuracy: 0.6640\n",
      "16/16 - 0s - loss: 2.3130 - accuracy: 0.6620\n",
      "16/16 - 1s - loss: 1.9369 - accuracy: 0.6780\n",
      "16/16 - 1s - loss: 1.8961 - accuracy: 0.6840\n",
      "16/16 - 0s - loss: 2.1921 - accuracy: 0.6560\n",
      "16/16 - 1s - loss: 2.3303 - accuracy: 0.6740\n",
      "16/16 - 0s - loss: 2.5960 - accuracy: 0.6380\n",
      "------------    40  번째 global epoch < Clustering > 로컬 클라이언트 학습 완료!,  Total Training time :  1384.2502450942993 ---------------------------\n",
      "\n",
      "\n",
      "Layer :  0   클러스터 갯수 정해짐!  갯수 :  2 0\n"
     ]
    },
    {
     "name": "stderr",
     "output_type": "stream",
     "text": [
      "<ipython-input-8-506962b8e734>:141: VisibleDeprecationWarning: Creating an ndarray from ragged nested sequences (which is a list-or-tuple of lists-or-tuples-or ndarrays with different lengths or shapes) is deprecated. If you meant to do this, you must specify 'dtype=object' when creating the ndarray\n",
      "  globals()['G{}_c{}_w_layer{}'.format(global_epoch, num_c_w, layer_index)] = globals()['G{}_c{}_w_layer{}'.format(global_epoch, num_c_w, layer_index)] + np.array(globals()['L{}_layer{}_w_c'.format(i,layer_index)])   # 일반 클러스터링\n"
     ]
    },
    {
     "name": "stdout",
     "output_type": "stream",
     "text": [
      "Layer :  2   클러스터 갯수 정해짐!  갯수 :  2 0\n"
     ]
    },
    {
     "name": "stderr",
     "output_type": "stream",
     "text": [
      "<ipython-input-8-506962b8e734>:141: VisibleDeprecationWarning: Creating an ndarray from ragged nested sequences (which is a list-or-tuple of lists-or-tuples-or ndarrays with different lengths or shapes) is deprecated. If you meant to do this, you must specify 'dtype=object' when creating the ndarray\n",
      "  globals()['G{}_c{}_w_layer{}'.format(global_epoch, num_c_w, layer_index)] = globals()['G{}_c{}_w_layer{}'.format(global_epoch, num_c_w, layer_index)] + np.array(globals()['L{}_layer{}_w_c'.format(i,layer_index)])   # 일반 클러스터링\n"
     ]
    },
    {
     "name": "stdout",
     "output_type": "stream",
     "text": [
      "Layer :  4   클러스터 갯수 정해짐!  갯수 :  3 1\n"
     ]
    },
    {
     "name": "stderr",
     "output_type": "stream",
     "text": [
      "<ipython-input-8-506962b8e734>:141: VisibleDeprecationWarning: Creating an ndarray from ragged nested sequences (which is a list-or-tuple of lists-or-tuples-or ndarrays with different lengths or shapes) is deprecated. If you meant to do this, you must specify 'dtype=object' when creating the ndarray\n",
      "  globals()['G{}_c{}_w_layer{}'.format(global_epoch, num_c_w, layer_index)] = globals()['G{}_c{}_w_layer{}'.format(global_epoch, num_c_w, layer_index)] + np.array(globals()['L{}_layer{}_w_c'.format(i,layer_index)])   # 일반 클러스터링\n"
     ]
    },
    {
     "name": "stdout",
     "output_type": "stream",
     "text": [
      "Layer :  6   클러스터 갯수 정해짐!  갯수 :  2 0\n"
     ]
    },
    {
     "name": "stderr",
     "output_type": "stream",
     "text": [
      "<ipython-input-8-506962b8e734>:141: VisibleDeprecationWarning: Creating an ndarray from ragged nested sequences (which is a list-or-tuple of lists-or-tuples-or ndarrays with different lengths or shapes) is deprecated. If you meant to do this, you must specify 'dtype=object' when creating the ndarray\n",
      "  globals()['G{}_c{}_w_layer{}'.format(global_epoch, num_c_w, layer_index)] = globals()['G{}_c{}_w_layer{}'.format(global_epoch, num_c_w, layer_index)] + np.array(globals()['L{}_layer{}_w_c'.format(i,layer_index)])   # 일반 클러스터링\n"
     ]
    },
    {
     "name": "stdout",
     "output_type": "stream",
     "text": [
      "Layer :  7   클러스터 갯수 정해짐!  갯수 :  2 0\n",
      "\n",
      "\n",
      "====================================================== One Global Epoch =====================================================================\n",
      "\n",
      "\n",
      "41  번째 global_epoch 데이터 랜덤하게 준비!!\n"
     ]
    },
    {
     "name": "stderr",
     "output_type": "stream",
     "text": [
      "<ipython-input-8-506962b8e734>:141: VisibleDeprecationWarning: Creating an ndarray from ragged nested sequences (which is a list-or-tuple of lists-or-tuples-or ndarrays with different lengths or shapes) is deprecated. If you meant to do this, you must specify 'dtype=object' when creating the ndarray\n",
      "  globals()['G{}_c{}_w_layer{}'.format(global_epoch, num_c_w, layer_index)] = globals()['G{}_c{}_w_layer{}'.format(global_epoch, num_c_w, layer_index)] + np.array(globals()['L{}_layer{}_w_c'.format(i,layer_index)])   # 일반 클러스터링\n"
     ]
    },
    {
     "name": "stdout",
     "output_type": "stream",
     "text": [
      "41  번째 global_epoch 데이터 랜덤 준비완료!!\n",
      "\n",
      "\n",
      "41  번째 global epoch에서 로컬 클라이언트 들 학습시작!\n",
      "\n",
      "학습 중 ...\n",
      "\n",
      "16/16 - 1s - loss: 2.4383 - accuracy: 0.6500\n",
      "16/16 - 0s - loss: 2.2190 - accuracy: 0.6740\n",
      "16/16 - 1s - loss: 2.5424 - accuracy: 0.6500\n",
      "16/16 - 0s - loss: 2.1044 - accuracy: 0.6320\n",
      "16/16 - 1s - loss: 2.4873 - accuracy: 0.6100\n",
      "16/16 - 1s - loss: 2.4718 - accuracy: 0.6280\n",
      "16/16 - 1s - loss: 2.2845 - accuracy: 0.6600\n",
      "16/16 - 1s - loss: 2.1924 - accuracy: 0.6500\n",
      "16/16 - 1s - loss: 2.3226 - accuracy: 0.6580\n",
      "16/16 - 1s - loss: 2.1270 - accuracy: 0.6500\n",
      "16/16 - 0s - loss: 2.5773 - accuracy: 0.6220\n",
      "16/16 - 1s - loss: 2.3044 - accuracy: 0.5960\n",
      "16/16 - 1s - loss: 2.4303 - accuracy: 0.6580\n",
      "16/16 - 1s - loss: 2.6922 - accuracy: 0.6040\n",
      "16/16 - 1s - loss: 2.4767 - accuracy: 0.6040\n",
      "16/16 - 1s - loss: 2.3839 - accuracy: 0.6260\n",
      "16/16 - 1s - loss: 2.4218 - accuracy: 0.6260\n",
      "16/16 - 1s - loss: 2.2501 - accuracy: 0.6500\n",
      "16/16 - 1s - loss: 2.3898 - accuracy: 0.6380\n",
      "16/16 - 1s - loss: 2.4678 - accuracy: 0.6620\n",
      "------------    41  번째 global epoch < Clustering > 로컬 클라이언트 학습 완료!,  Total Training time :  1440.6727108955383 ---------------------------\n",
      "\n",
      "\n",
      "Layer :  0   클러스터 갯수 정해짐!  갯수 :  2 0\n"
     ]
    },
    {
     "name": "stderr",
     "output_type": "stream",
     "text": [
      "<ipython-input-8-506962b8e734>:141: VisibleDeprecationWarning: Creating an ndarray from ragged nested sequences (which is a list-or-tuple of lists-or-tuples-or ndarrays with different lengths or shapes) is deprecated. If you meant to do this, you must specify 'dtype=object' when creating the ndarray\n",
      "  globals()['G{}_c{}_w_layer{}'.format(global_epoch, num_c_w, layer_index)] = globals()['G{}_c{}_w_layer{}'.format(global_epoch, num_c_w, layer_index)] + np.array(globals()['L{}_layer{}_w_c'.format(i,layer_index)])   # 일반 클러스터링\n"
     ]
    },
    {
     "name": "stdout",
     "output_type": "stream",
     "text": [
      "Layer :  2   클러스터 갯수 정해짐!  갯수 :  2 0\n"
     ]
    },
    {
     "name": "stderr",
     "output_type": "stream",
     "text": [
      "<ipython-input-8-506962b8e734>:141: VisibleDeprecationWarning: Creating an ndarray from ragged nested sequences (which is a list-or-tuple of lists-or-tuples-or ndarrays with different lengths or shapes) is deprecated. If you meant to do this, you must specify 'dtype=object' when creating the ndarray\n",
      "  globals()['G{}_c{}_w_layer{}'.format(global_epoch, num_c_w, layer_index)] = globals()['G{}_c{}_w_layer{}'.format(global_epoch, num_c_w, layer_index)] + np.array(globals()['L{}_layer{}_w_c'.format(i,layer_index)])   # 일반 클러스터링\n"
     ]
    },
    {
     "name": "stdout",
     "output_type": "stream",
     "text": [
      "Layer :  4   클러스터 갯수 정해짐!  갯수 :  3 1\n"
     ]
    },
    {
     "name": "stderr",
     "output_type": "stream",
     "text": [
      "<ipython-input-8-506962b8e734>:141: VisibleDeprecationWarning: Creating an ndarray from ragged nested sequences (which is a list-or-tuple of lists-or-tuples-or ndarrays with different lengths or shapes) is deprecated. If you meant to do this, you must specify 'dtype=object' when creating the ndarray\n",
      "  globals()['G{}_c{}_w_layer{}'.format(global_epoch, num_c_w, layer_index)] = globals()['G{}_c{}_w_layer{}'.format(global_epoch, num_c_w, layer_index)] + np.array(globals()['L{}_layer{}_w_c'.format(i,layer_index)])   # 일반 클러스터링\n"
     ]
    },
    {
     "name": "stdout",
     "output_type": "stream",
     "text": [
      "Layer :  6   클러스터 갯수 정해짐!  갯수 :  2 0\n"
     ]
    },
    {
     "name": "stderr",
     "output_type": "stream",
     "text": [
      "<ipython-input-8-506962b8e734>:141: VisibleDeprecationWarning: Creating an ndarray from ragged nested sequences (which is a list-or-tuple of lists-or-tuples-or ndarrays with different lengths or shapes) is deprecated. If you meant to do this, you must specify 'dtype=object' when creating the ndarray\n",
      "  globals()['G{}_c{}_w_layer{}'.format(global_epoch, num_c_w, layer_index)] = globals()['G{}_c{}_w_layer{}'.format(global_epoch, num_c_w, layer_index)] + np.array(globals()['L{}_layer{}_w_c'.format(i,layer_index)])   # 일반 클러스터링\n"
     ]
    },
    {
     "name": "stdout",
     "output_type": "stream",
     "text": [
      "Layer :  7   클러스터 갯수 정해짐!  갯수 :  2 0\n",
      "\n",
      "\n",
      "====================================================== One Global Epoch =====================================================================\n",
      "\n",
      "\n",
      "42  번째 global_epoch 데이터 랜덤하게 준비!!\n"
     ]
    },
    {
     "name": "stderr",
     "output_type": "stream",
     "text": [
      "<ipython-input-8-506962b8e734>:141: VisibleDeprecationWarning: Creating an ndarray from ragged nested sequences (which is a list-or-tuple of lists-or-tuples-or ndarrays with different lengths or shapes) is deprecated. If you meant to do this, you must specify 'dtype=object' when creating the ndarray\n",
      "  globals()['G{}_c{}_w_layer{}'.format(global_epoch, num_c_w, layer_index)] = globals()['G{}_c{}_w_layer{}'.format(global_epoch, num_c_w, layer_index)] + np.array(globals()['L{}_layer{}_w_c'.format(i,layer_index)])   # 일반 클러스터링\n"
     ]
    },
    {
     "name": "stdout",
     "output_type": "stream",
     "text": [
      "42  번째 global_epoch 데이터 랜덤 준비완료!!\n",
      "\n",
      "\n",
      "42  번째 global epoch에서 로컬 클라이언트 들 학습시작!\n",
      "\n",
      "학습 중 ...\n",
      "\n",
      "16/16 - 1s - loss: 2.2832 - accuracy: 0.6600\n",
      "16/16 - 1s - loss: 2.3961 - accuracy: 0.6180\n",
      "16/16 - 1s - loss: 2.4790 - accuracy: 0.6560\n",
      "16/16 - 1s - loss: 2.1978 - accuracy: 0.6580\n",
      "16/16 - 1s - loss: 2.4548 - accuracy: 0.6620\n",
      "16/16 - 1s - loss: 2.8934 - accuracy: 0.5940\n",
      "16/16 - 1s - loss: 2.9283 - accuracy: 0.5980\n",
      "16/16 - 1s - loss: 2.4275 - accuracy: 0.6020\n",
      "16/16 - 1s - loss: 2.2243 - accuracy: 0.6520\n",
      "16/16 - 1s - loss: 2.3075 - accuracy: 0.6500\n",
      "16/16 - 1s - loss: 2.2827 - accuracy: 0.6480\n",
      "16/16 - 1s - loss: 2.5788 - accuracy: 0.5520\n",
      "16/16 - 1s - loss: 2.4006 - accuracy: 0.6340\n",
      "16/16 - 1s - loss: 2.3269 - accuracy: 0.6240\n",
      "16/16 - 1s - loss: 2.5786 - accuracy: 0.6160\n",
      "16/16 - 1s - loss: 2.0401 - accuracy: 0.6620\n",
      "16/16 - 1s - loss: 2.1972 - accuracy: 0.6540\n",
      "16/16 - 1s - loss: 2.3949 - accuracy: 0.6400\n",
      "16/16 - 1s - loss: 2.3691 - accuracy: 0.6500\n",
      "16/16 - 1s - loss: 2.5237 - accuracy: 0.6540\n",
      "------------    42  번째 global epoch < Clustering > 로컬 클라이언트 학습 완료!,  Total Training time :  1518.2234802246094 ---------------------------\n",
      "\n",
      "\n",
      "Layer :  0   클러스터 갯수 정해짐!  갯수 :  2 0\n"
     ]
    },
    {
     "name": "stderr",
     "output_type": "stream",
     "text": [
      "<ipython-input-8-506962b8e734>:141: VisibleDeprecationWarning: Creating an ndarray from ragged nested sequences (which is a list-or-tuple of lists-or-tuples-or ndarrays with different lengths or shapes) is deprecated. If you meant to do this, you must specify 'dtype=object' when creating the ndarray\n",
      "  globals()['G{}_c{}_w_layer{}'.format(global_epoch, num_c_w, layer_index)] = globals()['G{}_c{}_w_layer{}'.format(global_epoch, num_c_w, layer_index)] + np.array(globals()['L{}_layer{}_w_c'.format(i,layer_index)])   # 일반 클러스터링\n"
     ]
    },
    {
     "name": "stdout",
     "output_type": "stream",
     "text": [
      "Layer :  2   클러스터 갯수 정해짐!  갯수 :  2 0\n"
     ]
    },
    {
     "name": "stderr",
     "output_type": "stream",
     "text": [
      "<ipython-input-8-506962b8e734>:141: VisibleDeprecationWarning: Creating an ndarray from ragged nested sequences (which is a list-or-tuple of lists-or-tuples-or ndarrays with different lengths or shapes) is deprecated. If you meant to do this, you must specify 'dtype=object' when creating the ndarray\n",
      "  globals()['G{}_c{}_w_layer{}'.format(global_epoch, num_c_w, layer_index)] = globals()['G{}_c{}_w_layer{}'.format(global_epoch, num_c_w, layer_index)] + np.array(globals()['L{}_layer{}_w_c'.format(i,layer_index)])   # 일반 클러스터링\n"
     ]
    },
    {
     "name": "stdout",
     "output_type": "stream",
     "text": [
      "Layer :  4   클러스터 갯수 정해짐!  갯수 :  3 1\n"
     ]
    },
    {
     "name": "stderr",
     "output_type": "stream",
     "text": [
      "<ipython-input-8-506962b8e734>:141: VisibleDeprecationWarning: Creating an ndarray from ragged nested sequences (which is a list-or-tuple of lists-or-tuples-or ndarrays with different lengths or shapes) is deprecated. If you meant to do this, you must specify 'dtype=object' when creating the ndarray\n",
      "  globals()['G{}_c{}_w_layer{}'.format(global_epoch, num_c_w, layer_index)] = globals()['G{}_c{}_w_layer{}'.format(global_epoch, num_c_w, layer_index)] + np.array(globals()['L{}_layer{}_w_c'.format(i,layer_index)])   # 일반 클러스터링\n"
     ]
    },
    {
     "name": "stdout",
     "output_type": "stream",
     "text": [
      "Layer :  6   클러스터 갯수 정해짐!  갯수 :  2 0\n"
     ]
    },
    {
     "name": "stderr",
     "output_type": "stream",
     "text": [
      "<ipython-input-8-506962b8e734>:141: VisibleDeprecationWarning: Creating an ndarray from ragged nested sequences (which is a list-or-tuple of lists-or-tuples-or ndarrays with different lengths or shapes) is deprecated. If you meant to do this, you must specify 'dtype=object' when creating the ndarray\n",
      "  globals()['G{}_c{}_w_layer{}'.format(global_epoch, num_c_w, layer_index)] = globals()['G{}_c{}_w_layer{}'.format(global_epoch, num_c_w, layer_index)] + np.array(globals()['L{}_layer{}_w_c'.format(i,layer_index)])   # 일반 클러스터링\n"
     ]
    },
    {
     "name": "stdout",
     "output_type": "stream",
     "text": [
      "Layer :  7   클러스터 갯수 정해짐!  갯수 :  2 0\n",
      "\n",
      "\n",
      "====================================================== One Global Epoch =====================================================================\n",
      "\n",
      "\n",
      "43  번째 global_epoch 데이터 랜덤하게 준비!!\n"
     ]
    },
    {
     "name": "stderr",
     "output_type": "stream",
     "text": [
      "<ipython-input-8-506962b8e734>:141: VisibleDeprecationWarning: Creating an ndarray from ragged nested sequences (which is a list-or-tuple of lists-or-tuples-or ndarrays with different lengths or shapes) is deprecated. If you meant to do this, you must specify 'dtype=object' when creating the ndarray\n",
      "  globals()['G{}_c{}_w_layer{}'.format(global_epoch, num_c_w, layer_index)] = globals()['G{}_c{}_w_layer{}'.format(global_epoch, num_c_w, layer_index)] + np.array(globals()['L{}_layer{}_w_c'.format(i,layer_index)])   # 일반 클러스터링\n"
     ]
    },
    {
     "name": "stdout",
     "output_type": "stream",
     "text": [
      "43  번째 global_epoch 데이터 랜덤 준비완료!!\n",
      "\n",
      "\n",
      "43  번째 global epoch에서 로컬 클라이언트 들 학습시작!\n",
      "\n",
      "학습 중 ...\n",
      "\n",
      "16/16 - 1s - loss: 2.6329 - accuracy: 0.6180\n",
      "16/16 - 1s - loss: 2.1885 - accuracy: 0.6600\n",
      "16/16 - 1s - loss: 2.1618 - accuracy: 0.6700\n",
      "16/16 - 1s - loss: 2.1680 - accuracy: 0.6840\n",
      "16/16 - 1s - loss: 2.2549 - accuracy: 0.6400\n",
      "16/16 - 1s - loss: 2.3732 - accuracy: 0.6020\n",
      "16/16 - 1s - loss: 2.3283 - accuracy: 0.6200\n",
      "16/16 - 1s - loss: 2.6723 - accuracy: 0.6080\n",
      "16/16 - 1s - loss: 2.6865 - accuracy: 0.6300\n",
      "16/16 - 1s - loss: 2.2071 - accuracy: 0.6400\n",
      "16/16 - 1s - loss: 2.6710 - accuracy: 0.6300\n",
      "16/16 - 1s - loss: 2.2517 - accuracy: 0.6200\n",
      "16/16 - 1s - loss: 2.3134 - accuracy: 0.6840\n",
      "16/16 - 1s - loss: 2.2611 - accuracy: 0.6700\n",
      "16/16 - 1s - loss: 2.3912 - accuracy: 0.6220\n",
      "16/16 - 1s - loss: 2.1920 - accuracy: 0.6440\n",
      "16/16 - 1s - loss: 2.1956 - accuracy: 0.6340\n",
      "16/16 - 1s - loss: 2.1903 - accuracy: 0.6560\n",
      "16/16 - 1s - loss: 2.4039 - accuracy: 0.6300\n",
      "16/16 - 1s - loss: 2.0943 - accuracy: 0.6720\n",
      "------------    43  번째 global epoch < Clustering > 로컬 클라이언트 학습 완료!,  Total Training time :  1592.865406036377 ---------------------------\n",
      "\n",
      "\n",
      "Layer :  0   클러스터 갯수 정해짐!  갯수 :  2 0\n"
     ]
    },
    {
     "name": "stderr",
     "output_type": "stream",
     "text": [
      "<ipython-input-8-506962b8e734>:141: VisibleDeprecationWarning: Creating an ndarray from ragged nested sequences (which is a list-or-tuple of lists-or-tuples-or ndarrays with different lengths or shapes) is deprecated. If you meant to do this, you must specify 'dtype=object' when creating the ndarray\n",
      "  globals()['G{}_c{}_w_layer{}'.format(global_epoch, num_c_w, layer_index)] = globals()['G{}_c{}_w_layer{}'.format(global_epoch, num_c_w, layer_index)] + np.array(globals()['L{}_layer{}_w_c'.format(i,layer_index)])   # 일반 클러스터링\n"
     ]
    },
    {
     "name": "stdout",
     "output_type": "stream",
     "text": [
      "Layer :  2   클러스터 갯수 정해짐!  갯수 :  2 0\n"
     ]
    },
    {
     "name": "stderr",
     "output_type": "stream",
     "text": [
      "<ipython-input-8-506962b8e734>:141: VisibleDeprecationWarning: Creating an ndarray from ragged nested sequences (which is a list-or-tuple of lists-or-tuples-or ndarrays with different lengths or shapes) is deprecated. If you meant to do this, you must specify 'dtype=object' when creating the ndarray\n",
      "  globals()['G{}_c{}_w_layer{}'.format(global_epoch, num_c_w, layer_index)] = globals()['G{}_c{}_w_layer{}'.format(global_epoch, num_c_w, layer_index)] + np.array(globals()['L{}_layer{}_w_c'.format(i,layer_index)])   # 일반 클러스터링\n"
     ]
    },
    {
     "name": "stdout",
     "output_type": "stream",
     "text": [
      "Layer :  4   클러스터 갯수 정해짐!  갯수 :  3 1\n"
     ]
    },
    {
     "name": "stderr",
     "output_type": "stream",
     "text": [
      "<ipython-input-8-506962b8e734>:141: VisibleDeprecationWarning: Creating an ndarray from ragged nested sequences (which is a list-or-tuple of lists-or-tuples-or ndarrays with different lengths or shapes) is deprecated. If you meant to do this, you must specify 'dtype=object' when creating the ndarray\n",
      "  globals()['G{}_c{}_w_layer{}'.format(global_epoch, num_c_w, layer_index)] = globals()['G{}_c{}_w_layer{}'.format(global_epoch, num_c_w, layer_index)] + np.array(globals()['L{}_layer{}_w_c'.format(i,layer_index)])   # 일반 클러스터링\n"
     ]
    },
    {
     "name": "stdout",
     "output_type": "stream",
     "text": [
      "Layer :  6   클러스터 갯수 정해짐!  갯수 :  2 0\n"
     ]
    },
    {
     "name": "stderr",
     "output_type": "stream",
     "text": [
      "<ipython-input-8-506962b8e734>:141: VisibleDeprecationWarning: Creating an ndarray from ragged nested sequences (which is a list-or-tuple of lists-or-tuples-or ndarrays with different lengths or shapes) is deprecated. If you meant to do this, you must specify 'dtype=object' when creating the ndarray\n",
      "  globals()['G{}_c{}_w_layer{}'.format(global_epoch, num_c_w, layer_index)] = globals()['G{}_c{}_w_layer{}'.format(global_epoch, num_c_w, layer_index)] + np.array(globals()['L{}_layer{}_w_c'.format(i,layer_index)])   # 일반 클러스터링\n"
     ]
    },
    {
     "name": "stdout",
     "output_type": "stream",
     "text": [
      "Layer :  7   클러스터 갯수 정해짐!  갯수 :  2 0\n",
      "\n",
      "\n",
      "====================================================== One Global Epoch =====================================================================\n",
      "\n",
      "\n",
      "44  번째 global_epoch 데이터 랜덤하게 준비!!\n"
     ]
    },
    {
     "name": "stderr",
     "output_type": "stream",
     "text": [
      "<ipython-input-8-506962b8e734>:141: VisibleDeprecationWarning: Creating an ndarray from ragged nested sequences (which is a list-or-tuple of lists-or-tuples-or ndarrays with different lengths or shapes) is deprecated. If you meant to do this, you must specify 'dtype=object' when creating the ndarray\n",
      "  globals()['G{}_c{}_w_layer{}'.format(global_epoch, num_c_w, layer_index)] = globals()['G{}_c{}_w_layer{}'.format(global_epoch, num_c_w, layer_index)] + np.array(globals()['L{}_layer{}_w_c'.format(i,layer_index)])   # 일반 클러스터링\n"
     ]
    },
    {
     "name": "stdout",
     "output_type": "stream",
     "text": [
      "44  번째 global_epoch 데이터 랜덤 준비완료!!\n",
      "\n",
      "\n",
      "44  번째 global epoch에서 로컬 클라이언트 들 학습시작!\n",
      "\n",
      "학습 중 ...\n",
      "\n",
      "16/16 - 1s - loss: 2.1162 - accuracy: 0.6760\n",
      "16/16 - 1s - loss: 2.2504 - accuracy: 0.6560\n",
      "16/16 - 1s - loss: 2.6014 - accuracy: 0.6500\n",
      "16/16 - 1s - loss: 2.2010 - accuracy: 0.6620\n",
      "16/16 - 1s - loss: 2.5009 - accuracy: 0.6620\n",
      "16/16 - 1s - loss: 2.5508 - accuracy: 0.6180\n",
      "16/16 - 1s - loss: 2.5842 - accuracy: 0.6420\n",
      "16/16 - 1s - loss: 2.1959 - accuracy: 0.6600\n",
      "16/16 - 1s - loss: 2.0722 - accuracy: 0.6740\n",
      "16/16 - 1s - loss: 2.2154 - accuracy: 0.6760\n",
      "16/16 - 1s - loss: 2.4564 - accuracy: 0.6440\n",
      "16/16 - 1s - loss: 2.1642 - accuracy: 0.6140\n",
      "16/16 - 1s - loss: 2.5169 - accuracy: 0.6200\n",
      "16/16 - 1s - loss: 2.4780 - accuracy: 0.6280\n",
      "16/16 - 1s - loss: 2.3380 - accuracy: 0.6140\n",
      "16/16 - 1s - loss: 2.1558 - accuracy: 0.6420\n",
      "16/16 - 1s - loss: 2.3069 - accuracy: 0.6340\n",
      "16/16 - 1s - loss: 2.4183 - accuracy: 0.6540\n",
      "16/16 - 1s - loss: 2.3832 - accuracy: 0.6280\n",
      "16/16 - 1s - loss: 1.8124 - accuracy: 0.6980\n",
      "------------    44  번째 global epoch < Clustering > 로컬 클라이언트 학습 완료!,  Total Training time :  1631.1563065052032 ---------------------------\n",
      "\n",
      "\n",
      "Layer :  0   클러스터 갯수 정해짐!  갯수 :  2 0\n"
     ]
    },
    {
     "name": "stderr",
     "output_type": "stream",
     "text": [
      "<ipython-input-8-506962b8e734>:141: VisibleDeprecationWarning: Creating an ndarray from ragged nested sequences (which is a list-or-tuple of lists-or-tuples-or ndarrays with different lengths or shapes) is deprecated. If you meant to do this, you must specify 'dtype=object' when creating the ndarray\n",
      "  globals()['G{}_c{}_w_layer{}'.format(global_epoch, num_c_w, layer_index)] = globals()['G{}_c{}_w_layer{}'.format(global_epoch, num_c_w, layer_index)] + np.array(globals()['L{}_layer{}_w_c'.format(i,layer_index)])   # 일반 클러스터링\n"
     ]
    },
    {
     "name": "stdout",
     "output_type": "stream",
     "text": [
      "Layer :  2   클러스터 갯수 정해짐!  갯수 :  2 0\n"
     ]
    },
    {
     "name": "stderr",
     "output_type": "stream",
     "text": [
      "<ipython-input-8-506962b8e734>:141: VisibleDeprecationWarning: Creating an ndarray from ragged nested sequences (which is a list-or-tuple of lists-or-tuples-or ndarrays with different lengths or shapes) is deprecated. If you meant to do this, you must specify 'dtype=object' when creating the ndarray\n",
      "  globals()['G{}_c{}_w_layer{}'.format(global_epoch, num_c_w, layer_index)] = globals()['G{}_c{}_w_layer{}'.format(global_epoch, num_c_w, layer_index)] + np.array(globals()['L{}_layer{}_w_c'.format(i,layer_index)])   # 일반 클러스터링\n"
     ]
    },
    {
     "name": "stdout",
     "output_type": "stream",
     "text": [
      "Layer :  4   클러스터 갯수 정해짐!  갯수 :  3 1\n"
     ]
    },
    {
     "name": "stderr",
     "output_type": "stream",
     "text": [
      "<ipython-input-8-506962b8e734>:141: VisibleDeprecationWarning: Creating an ndarray from ragged nested sequences (which is a list-or-tuple of lists-or-tuples-or ndarrays with different lengths or shapes) is deprecated. If you meant to do this, you must specify 'dtype=object' when creating the ndarray\n",
      "  globals()['G{}_c{}_w_layer{}'.format(global_epoch, num_c_w, layer_index)] = globals()['G{}_c{}_w_layer{}'.format(global_epoch, num_c_w, layer_index)] + np.array(globals()['L{}_layer{}_w_c'.format(i,layer_index)])   # 일반 클러스터링\n"
     ]
    },
    {
     "name": "stdout",
     "output_type": "stream",
     "text": [
      "Layer :  6   클러스터 갯수 정해짐!  갯수 :  2 0\n"
     ]
    },
    {
     "name": "stderr",
     "output_type": "stream",
     "text": [
      "<ipython-input-8-506962b8e734>:141: VisibleDeprecationWarning: Creating an ndarray from ragged nested sequences (which is a list-or-tuple of lists-or-tuples-or ndarrays with different lengths or shapes) is deprecated. If you meant to do this, you must specify 'dtype=object' when creating the ndarray\n",
      "  globals()['G{}_c{}_w_layer{}'.format(global_epoch, num_c_w, layer_index)] = globals()['G{}_c{}_w_layer{}'.format(global_epoch, num_c_w, layer_index)] + np.array(globals()['L{}_layer{}_w_c'.format(i,layer_index)])   # 일반 클러스터링\n"
     ]
    },
    {
     "name": "stdout",
     "output_type": "stream",
     "text": [
      "Layer :  7   클러스터 갯수 정해짐!  갯수 :  2 0\n",
      "\n",
      "\n",
      "====================================================== One Global Epoch =====================================================================\n",
      "\n",
      "\n",
      "45  번째 global_epoch 데이터 랜덤하게 준비!!\n"
     ]
    },
    {
     "name": "stderr",
     "output_type": "stream",
     "text": [
      "<ipython-input-8-506962b8e734>:141: VisibleDeprecationWarning: Creating an ndarray from ragged nested sequences (which is a list-or-tuple of lists-or-tuples-or ndarrays with different lengths or shapes) is deprecated. If you meant to do this, you must specify 'dtype=object' when creating the ndarray\n",
      "  globals()['G{}_c{}_w_layer{}'.format(global_epoch, num_c_w, layer_index)] = globals()['G{}_c{}_w_layer{}'.format(global_epoch, num_c_w, layer_index)] + np.array(globals()['L{}_layer{}_w_c'.format(i,layer_index)])   # 일반 클러스터링\n"
     ]
    },
    {
     "name": "stdout",
     "output_type": "stream",
     "text": [
      "45  번째 global_epoch 데이터 랜덤 준비완료!!\n",
      "\n",
      "\n",
      "45  번째 global epoch에서 로컬 클라이언트 들 학습시작!\n",
      "\n",
      "학습 중 ...\n",
      "\n",
      "16/16 - 1s - loss: 2.1297 - accuracy: 0.6200\n",
      "16/16 - 1s - loss: 2.5106 - accuracy: 0.6380\n",
      "16/16 - 1s - loss: 2.5189 - accuracy: 0.6720\n",
      "16/16 - 1s - loss: 2.1784 - accuracy: 0.6900\n",
      "16/16 - 1s - loss: 2.2173 - accuracy: 0.6880\n",
      "16/16 - 1s - loss: 2.8335 - accuracy: 0.5540\n",
      "16/16 - 1s - loss: 2.3030 - accuracy: 0.6180\n",
      "16/16 - 1s - loss: 2.3296 - accuracy: 0.6520\n",
      "16/16 - 1s - loss: 2.5752 - accuracy: 0.6160\n",
      "16/16 - 1s - loss: 2.5894 - accuracy: 0.6480\n",
      "16/16 - 1s - loss: 2.4761 - accuracy: 0.6300\n",
      "16/16 - 1s - loss: 2.0897 - accuracy: 0.6360\n",
      "16/16 - 1s - loss: 2.4087 - accuracy: 0.6240\n",
      "16/16 - 1s - loss: 2.4896 - accuracy: 0.6280\n",
      "16/16 - 1s - loss: 2.2620 - accuracy: 0.6560\n",
      "16/16 - 1s - loss: 2.5415 - accuracy: 0.6340\n",
      "16/16 - 1s - loss: 1.9988 - accuracy: 0.6540\n",
      "16/16 - 1s - loss: 2.5055 - accuracy: 0.6540\n",
      "16/16 - 1s - loss: 2.0952 - accuracy: 0.6560\n",
      "16/16 - 1s - loss: 2.6440 - accuracy: 0.6160\n",
      "------------    45  번째 global epoch < Clustering > 로컬 클라이언트 학습 완료!,  Total Training time :  1718.296273946762 ---------------------------\n",
      "\n",
      "\n",
      "Layer :  0   클러스터 갯수 정해짐!  갯수 :  2 0\n"
     ]
    },
    {
     "name": "stderr",
     "output_type": "stream",
     "text": [
      "<ipython-input-8-506962b8e734>:141: VisibleDeprecationWarning: Creating an ndarray from ragged nested sequences (which is a list-or-tuple of lists-or-tuples-or ndarrays with different lengths or shapes) is deprecated. If you meant to do this, you must specify 'dtype=object' when creating the ndarray\n",
      "  globals()['G{}_c{}_w_layer{}'.format(global_epoch, num_c_w, layer_index)] = globals()['G{}_c{}_w_layer{}'.format(global_epoch, num_c_w, layer_index)] + np.array(globals()['L{}_layer{}_w_c'.format(i,layer_index)])   # 일반 클러스터링\n"
     ]
    },
    {
     "name": "stdout",
     "output_type": "stream",
     "text": [
      "Layer :  2   클러스터 갯수 정해짐!  갯수 :  2 0\n"
     ]
    },
    {
     "name": "stderr",
     "output_type": "stream",
     "text": [
      "<ipython-input-8-506962b8e734>:141: VisibleDeprecationWarning: Creating an ndarray from ragged nested sequences (which is a list-or-tuple of lists-or-tuples-or ndarrays with different lengths or shapes) is deprecated. If you meant to do this, you must specify 'dtype=object' when creating the ndarray\n",
      "  globals()['G{}_c{}_w_layer{}'.format(global_epoch, num_c_w, layer_index)] = globals()['G{}_c{}_w_layer{}'.format(global_epoch, num_c_w, layer_index)] + np.array(globals()['L{}_layer{}_w_c'.format(i,layer_index)])   # 일반 클러스터링\n"
     ]
    },
    {
     "name": "stdout",
     "output_type": "stream",
     "text": [
      "Layer :  4   클러스터 갯수 정해짐!  갯수 :  3 1\n"
     ]
    },
    {
     "name": "stderr",
     "output_type": "stream",
     "text": [
      "<ipython-input-8-506962b8e734>:141: VisibleDeprecationWarning: Creating an ndarray from ragged nested sequences (which is a list-or-tuple of lists-or-tuples-or ndarrays with different lengths or shapes) is deprecated. If you meant to do this, you must specify 'dtype=object' when creating the ndarray\n",
      "  globals()['G{}_c{}_w_layer{}'.format(global_epoch, num_c_w, layer_index)] = globals()['G{}_c{}_w_layer{}'.format(global_epoch, num_c_w, layer_index)] + np.array(globals()['L{}_layer{}_w_c'.format(i,layer_index)])   # 일반 클러스터링\n"
     ]
    },
    {
     "name": "stdout",
     "output_type": "stream",
     "text": [
      "Layer :  6   클러스터 갯수 정해짐!  갯수 :  2 0\n"
     ]
    },
    {
     "name": "stderr",
     "output_type": "stream",
     "text": [
      "<ipython-input-8-506962b8e734>:141: VisibleDeprecationWarning: Creating an ndarray from ragged nested sequences (which is a list-or-tuple of lists-or-tuples-or ndarrays with different lengths or shapes) is deprecated. If you meant to do this, you must specify 'dtype=object' when creating the ndarray\n",
      "  globals()['G{}_c{}_w_layer{}'.format(global_epoch, num_c_w, layer_index)] = globals()['G{}_c{}_w_layer{}'.format(global_epoch, num_c_w, layer_index)] + np.array(globals()['L{}_layer{}_w_c'.format(i,layer_index)])   # 일반 클러스터링\n"
     ]
    },
    {
     "name": "stdout",
     "output_type": "stream",
     "text": [
      "Layer :  7   클러스터 갯수 정해짐!  갯수 :  2 0\n",
      "\n",
      "\n",
      "====================================================== One Global Epoch =====================================================================\n",
      "\n",
      "\n",
      "46  번째 global_epoch 데이터 랜덤하게 준비!!\n"
     ]
    },
    {
     "name": "stderr",
     "output_type": "stream",
     "text": [
      "<ipython-input-8-506962b8e734>:141: VisibleDeprecationWarning: Creating an ndarray from ragged nested sequences (which is a list-or-tuple of lists-or-tuples-or ndarrays with different lengths or shapes) is deprecated. If you meant to do this, you must specify 'dtype=object' when creating the ndarray\n",
      "  globals()['G{}_c{}_w_layer{}'.format(global_epoch, num_c_w, layer_index)] = globals()['G{}_c{}_w_layer{}'.format(global_epoch, num_c_w, layer_index)] + np.array(globals()['L{}_layer{}_w_c'.format(i,layer_index)])   # 일반 클러스터링\n"
     ]
    },
    {
     "name": "stdout",
     "output_type": "stream",
     "text": [
      "46  번째 global_epoch 데이터 랜덤 준비완료!!\n",
      "\n",
      "\n",
      "46  번째 global epoch에서 로컬 클라이언트 들 학습시작!\n",
      "\n",
      "학습 중 ...\n",
      "\n",
      "16/16 - 1s - loss: 2.5004 - accuracy: 0.6500\n",
      "16/16 - 1s - loss: 2.4112 - accuracy: 0.6380\n",
      "16/16 - 1s - loss: 2.3498 - accuracy: 0.6660\n",
      "16/16 - 1s - loss: 2.6477 - accuracy: 0.5920\n",
      "16/16 - 1s - loss: 2.7073 - accuracy: 0.6260\n",
      "16/16 - 1s - loss: 2.7104 - accuracy: 0.5920\n",
      "16/16 - 1s - loss: 2.1822 - accuracy: 0.6720\n",
      "16/16 - 1s - loss: 2.1556 - accuracy: 0.6600\n",
      "16/16 - 1s - loss: 2.3387 - accuracy: 0.6200\n",
      "16/16 - 1s - loss: 2.2585 - accuracy: 0.6660\n",
      "16/16 - 1s - loss: 2.5367 - accuracy: 0.6120\n",
      "16/16 - 1s - loss: 2.2801 - accuracy: 0.6100\n",
      "16/16 - 1s - loss: 2.7799 - accuracy: 0.6320\n",
      "16/16 - 1s - loss: 2.6751 - accuracy: 0.6200\n",
      "16/16 - 1s - loss: 2.0288 - accuracy: 0.6560\n",
      "16/16 - 1s - loss: 2.7622 - accuracy: 0.5960\n",
      "16/16 - 1s - loss: 2.5819 - accuracy: 0.6300\n",
      "16/16 - 1s - loss: 2.6170 - accuracy: 0.6340\n",
      "16/16 - 1s - loss: 2.2307 - accuracy: 0.6540\n",
      "16/16 - 1s - loss: 2.1440 - accuracy: 0.6480\n",
      "------------    46  번째 global epoch < Clustering > 로컬 클라이언트 학습 완료!,  Total Training time :  1768.4318752288818 ---------------------------\n",
      "\n",
      "\n",
      "Layer :  0   클러스터 갯수 정해짐!  갯수 :  2 0\n"
     ]
    },
    {
     "name": "stderr",
     "output_type": "stream",
     "text": [
      "<ipython-input-8-506962b8e734>:141: VisibleDeprecationWarning: Creating an ndarray from ragged nested sequences (which is a list-or-tuple of lists-or-tuples-or ndarrays with different lengths or shapes) is deprecated. If you meant to do this, you must specify 'dtype=object' when creating the ndarray\n",
      "  globals()['G{}_c{}_w_layer{}'.format(global_epoch, num_c_w, layer_index)] = globals()['G{}_c{}_w_layer{}'.format(global_epoch, num_c_w, layer_index)] + np.array(globals()['L{}_layer{}_w_c'.format(i,layer_index)])   # 일반 클러스터링\n"
     ]
    },
    {
     "name": "stdout",
     "output_type": "stream",
     "text": [
      "Layer :  2   클러스터 갯수 정해짐!  갯수 :  2 0\n"
     ]
    },
    {
     "name": "stderr",
     "output_type": "stream",
     "text": [
      "<ipython-input-8-506962b8e734>:141: VisibleDeprecationWarning: Creating an ndarray from ragged nested sequences (which is a list-or-tuple of lists-or-tuples-or ndarrays with different lengths or shapes) is deprecated. If you meant to do this, you must specify 'dtype=object' when creating the ndarray\n",
      "  globals()['G{}_c{}_w_layer{}'.format(global_epoch, num_c_w, layer_index)] = globals()['G{}_c{}_w_layer{}'.format(global_epoch, num_c_w, layer_index)] + np.array(globals()['L{}_layer{}_w_c'.format(i,layer_index)])   # 일반 클러스터링\n"
     ]
    },
    {
     "name": "stdout",
     "output_type": "stream",
     "text": [
      "Layer :  4   클러스터 갯수 정해짐!  갯수 :  3 1\n"
     ]
    },
    {
     "name": "stderr",
     "output_type": "stream",
     "text": [
      "<ipython-input-8-506962b8e734>:141: VisibleDeprecationWarning: Creating an ndarray from ragged nested sequences (which is a list-or-tuple of lists-or-tuples-or ndarrays with different lengths or shapes) is deprecated. If you meant to do this, you must specify 'dtype=object' when creating the ndarray\n",
      "  globals()['G{}_c{}_w_layer{}'.format(global_epoch, num_c_w, layer_index)] = globals()['G{}_c{}_w_layer{}'.format(global_epoch, num_c_w, layer_index)] + np.array(globals()['L{}_layer{}_w_c'.format(i,layer_index)])   # 일반 클러스터링\n"
     ]
    },
    {
     "name": "stdout",
     "output_type": "stream",
     "text": [
      "Layer :  6   클러스터 갯수 정해짐!  갯수 :  2 0\n"
     ]
    },
    {
     "name": "stderr",
     "output_type": "stream",
     "text": [
      "<ipython-input-8-506962b8e734>:141: VisibleDeprecationWarning: Creating an ndarray from ragged nested sequences (which is a list-or-tuple of lists-or-tuples-or ndarrays with different lengths or shapes) is deprecated. If you meant to do this, you must specify 'dtype=object' when creating the ndarray\n",
      "  globals()['G{}_c{}_w_layer{}'.format(global_epoch, num_c_w, layer_index)] = globals()['G{}_c{}_w_layer{}'.format(global_epoch, num_c_w, layer_index)] + np.array(globals()['L{}_layer{}_w_c'.format(i,layer_index)])   # 일반 클러스터링\n"
     ]
    },
    {
     "name": "stdout",
     "output_type": "stream",
     "text": [
      "Layer :  7   클러스터 갯수 정해짐!  갯수 :  2 0\n",
      "\n",
      "\n",
      "====================================================== One Global Epoch =====================================================================\n",
      "\n",
      "\n",
      "47  번째 global_epoch 데이터 랜덤하게 준비!!\n"
     ]
    },
    {
     "name": "stderr",
     "output_type": "stream",
     "text": [
      "<ipython-input-8-506962b8e734>:141: VisibleDeprecationWarning: Creating an ndarray from ragged nested sequences (which is a list-or-tuple of lists-or-tuples-or ndarrays with different lengths or shapes) is deprecated. If you meant to do this, you must specify 'dtype=object' when creating the ndarray\n",
      "  globals()['G{}_c{}_w_layer{}'.format(global_epoch, num_c_w, layer_index)] = globals()['G{}_c{}_w_layer{}'.format(global_epoch, num_c_w, layer_index)] + np.array(globals()['L{}_layer{}_w_c'.format(i,layer_index)])   # 일반 클러스터링\n"
     ]
    },
    {
     "name": "stdout",
     "output_type": "stream",
     "text": [
      "47  번째 global_epoch 데이터 랜덤 준비완료!!\n",
      "\n",
      "\n",
      "47  번째 global epoch에서 로컬 클라이언트 들 학습시작!\n",
      "\n",
      "학습 중 ...\n",
      "\n",
      "16/16 - 1s - loss: 2.2969 - accuracy: 0.6260\n",
      "16/16 - 1s - loss: 2.1644 - accuracy: 0.6560\n",
      "16/16 - 1s - loss: 2.1592 - accuracy: 0.6780\n",
      "16/16 - 1s - loss: 2.2743 - accuracy: 0.6500\n",
      "16/16 - 1s - loss: 2.5314 - accuracy: 0.6140\n",
      "16/16 - 1s - loss: 2.6748 - accuracy: 0.6200\n",
      "16/16 - 1s - loss: 2.3261 - accuracy: 0.6680\n",
      "16/16 - 1s - loss: 2.6164 - accuracy: 0.6240\n",
      "16/16 - 1s - loss: 2.3466 - accuracy: 0.6360\n",
      "16/16 - 1s - loss: 2.4811 - accuracy: 0.6740\n",
      "16/16 - 1s - loss: 2.4964 - accuracy: 0.6400\n",
      "16/16 - 1s - loss: 2.3449 - accuracy: 0.6040\n",
      "16/16 - 1s - loss: 2.6068 - accuracy: 0.6360\n",
      "16/16 - 1s - loss: 2.2605 - accuracy: 0.6440\n",
      "16/16 - 1s - loss: 2.5214 - accuracy: 0.6400\n",
      "16/16 - 1s - loss: 2.3593 - accuracy: 0.6320\n",
      "16/16 - 1s - loss: 2.1485 - accuracy: 0.6620\n",
      "16/16 - 1s - loss: 2.1738 - accuracy: 0.6460\n",
      "16/16 - 1s - loss: 2.4519 - accuracy: 0.6640\n",
      "16/16 - 1s - loss: 2.2721 - accuracy: 0.6280\n",
      "------------    47  번째 global epoch < Clustering > 로컬 클라이언트 학습 완료!,  Total Training time :  1815.1798770427704 ---------------------------\n",
      "\n",
      "\n",
      "Layer :  0   클러스터 갯수 정해짐!  갯수 :  2 0\n"
     ]
    },
    {
     "name": "stderr",
     "output_type": "stream",
     "text": [
      "<ipython-input-8-506962b8e734>:141: VisibleDeprecationWarning: Creating an ndarray from ragged nested sequences (which is a list-or-tuple of lists-or-tuples-or ndarrays with different lengths or shapes) is deprecated. If you meant to do this, you must specify 'dtype=object' when creating the ndarray\n",
      "  globals()['G{}_c{}_w_layer{}'.format(global_epoch, num_c_w, layer_index)] = globals()['G{}_c{}_w_layer{}'.format(global_epoch, num_c_w, layer_index)] + np.array(globals()['L{}_layer{}_w_c'.format(i,layer_index)])   # 일반 클러스터링\n"
     ]
    },
    {
     "name": "stdout",
     "output_type": "stream",
     "text": [
      "Layer :  2   클러스터 갯수 정해짐!  갯수 :  2 0\n"
     ]
    },
    {
     "name": "stderr",
     "output_type": "stream",
     "text": [
      "<ipython-input-8-506962b8e734>:141: VisibleDeprecationWarning: Creating an ndarray from ragged nested sequences (which is a list-or-tuple of lists-or-tuples-or ndarrays with different lengths or shapes) is deprecated. If you meant to do this, you must specify 'dtype=object' when creating the ndarray\n",
      "  globals()['G{}_c{}_w_layer{}'.format(global_epoch, num_c_w, layer_index)] = globals()['G{}_c{}_w_layer{}'.format(global_epoch, num_c_w, layer_index)] + np.array(globals()['L{}_layer{}_w_c'.format(i,layer_index)])   # 일반 클러스터링\n"
     ]
    },
    {
     "name": "stdout",
     "output_type": "stream",
     "text": [
      "Layer :  4   클러스터 갯수 정해짐!  갯수 :  3 1\n"
     ]
    },
    {
     "name": "stderr",
     "output_type": "stream",
     "text": [
      "<ipython-input-8-506962b8e734>:141: VisibleDeprecationWarning: Creating an ndarray from ragged nested sequences (which is a list-or-tuple of lists-or-tuples-or ndarrays with different lengths or shapes) is deprecated. If you meant to do this, you must specify 'dtype=object' when creating the ndarray\n",
      "  globals()['G{}_c{}_w_layer{}'.format(global_epoch, num_c_w, layer_index)] = globals()['G{}_c{}_w_layer{}'.format(global_epoch, num_c_w, layer_index)] + np.array(globals()['L{}_layer{}_w_c'.format(i,layer_index)])   # 일반 클러스터링\n"
     ]
    },
    {
     "name": "stdout",
     "output_type": "stream",
     "text": [
      "Layer :  6   클러스터 갯수 정해짐!  갯수 :  2 0\n"
     ]
    },
    {
     "name": "stderr",
     "output_type": "stream",
     "text": [
      "<ipython-input-8-506962b8e734>:141: VisibleDeprecationWarning: Creating an ndarray from ragged nested sequences (which is a list-or-tuple of lists-or-tuples-or ndarrays with different lengths or shapes) is deprecated. If you meant to do this, you must specify 'dtype=object' when creating the ndarray\n",
      "  globals()['G{}_c{}_w_layer{}'.format(global_epoch, num_c_w, layer_index)] = globals()['G{}_c{}_w_layer{}'.format(global_epoch, num_c_w, layer_index)] + np.array(globals()['L{}_layer{}_w_c'.format(i,layer_index)])   # 일반 클러스터링\n"
     ]
    },
    {
     "name": "stdout",
     "output_type": "stream",
     "text": [
      "Layer :  7   클러스터 갯수 정해짐!  갯수 :  2 0\n",
      "\n",
      "\n",
      "====================================================== One Global Epoch =====================================================================\n",
      "\n",
      "\n",
      "48  번째 global_epoch 데이터 랜덤하게 준비!!\n"
     ]
    },
    {
     "name": "stderr",
     "output_type": "stream",
     "text": [
      "<ipython-input-8-506962b8e734>:141: VisibleDeprecationWarning: Creating an ndarray from ragged nested sequences (which is a list-or-tuple of lists-or-tuples-or ndarrays with different lengths or shapes) is deprecated. If you meant to do this, you must specify 'dtype=object' when creating the ndarray\n",
      "  globals()['G{}_c{}_w_layer{}'.format(global_epoch, num_c_w, layer_index)] = globals()['G{}_c{}_w_layer{}'.format(global_epoch, num_c_w, layer_index)] + np.array(globals()['L{}_layer{}_w_c'.format(i,layer_index)])   # 일반 클러스터링\n"
     ]
    },
    {
     "name": "stdout",
     "output_type": "stream",
     "text": [
      "48  번째 global_epoch 데이터 랜덤 준비완료!!\n",
      "\n",
      "\n",
      "48  번째 global epoch에서 로컬 클라이언트 들 학습시작!\n",
      "\n",
      "학습 중 ...\n",
      "\n",
      "16/16 - 1s - loss: 2.5897 - accuracy: 0.6160\n",
      "16/16 - 1s - loss: 2.5505 - accuracy: 0.6320\n",
      "16/16 - 1s - loss: 2.0565 - accuracy: 0.6920\n",
      "16/16 - 1s - loss: 2.2090 - accuracy: 0.6720\n",
      "16/16 - 1s - loss: 2.2621 - accuracy: 0.6660\n",
      "16/16 - 1s - loss: 2.5860 - accuracy: 0.6080\n",
      "16/16 - 1s - loss: 2.0148 - accuracy: 0.6740\n",
      "16/16 - 1s - loss: 2.1032 - accuracy: 0.6680\n",
      "16/16 - 1s - loss: 2.2699 - accuracy: 0.6320\n",
      "16/16 - 1s - loss: 2.3040 - accuracy: 0.6500\n",
      "16/16 - 1s - loss: 2.1170 - accuracy: 0.6620\n",
      "16/16 - 1s - loss: 2.2794 - accuracy: 0.6060\n",
      "16/16 - 1s - loss: 2.5882 - accuracy: 0.6340\n",
      "16/16 - 1s - loss: 2.4556 - accuracy: 0.6520\n",
      "16/16 - 1s - loss: 2.8731 - accuracy: 0.6200\n",
      "16/16 - 1s - loss: 2.4404 - accuracy: 0.6640\n",
      "16/16 - 1s - loss: 2.5114 - accuracy: 0.6100\n",
      "16/16 - 1s - loss: 2.0870 - accuracy: 0.6460\n",
      "16/16 - 1s - loss: 2.1280 - accuracy: 0.6480\n",
      "16/16 - 1s - loss: 2.4648 - accuracy: 0.6400\n",
      "------------    48  번째 global epoch < Clustering > 로컬 클라이언트 학습 완료!,  Total Training time :  1880.76575922966 ---------------------------\n",
      "\n",
      "\n",
      "Layer :  0   클러스터 갯수 정해짐!  갯수 :  2 0\n"
     ]
    },
    {
     "name": "stderr",
     "output_type": "stream",
     "text": [
      "<ipython-input-8-506962b8e734>:141: VisibleDeprecationWarning: Creating an ndarray from ragged nested sequences (which is a list-or-tuple of lists-or-tuples-or ndarrays with different lengths or shapes) is deprecated. If you meant to do this, you must specify 'dtype=object' when creating the ndarray\n",
      "  globals()['G{}_c{}_w_layer{}'.format(global_epoch, num_c_w, layer_index)] = globals()['G{}_c{}_w_layer{}'.format(global_epoch, num_c_w, layer_index)] + np.array(globals()['L{}_layer{}_w_c'.format(i,layer_index)])   # 일반 클러스터링\n"
     ]
    },
    {
     "name": "stdout",
     "output_type": "stream",
     "text": [
      "Layer :  2   클러스터 갯수 정해짐!  갯수 :  2 0\n"
     ]
    },
    {
     "name": "stderr",
     "output_type": "stream",
     "text": [
      "<ipython-input-8-506962b8e734>:141: VisibleDeprecationWarning: Creating an ndarray from ragged nested sequences (which is a list-or-tuple of lists-or-tuples-or ndarrays with different lengths or shapes) is deprecated. If you meant to do this, you must specify 'dtype=object' when creating the ndarray\n",
      "  globals()['G{}_c{}_w_layer{}'.format(global_epoch, num_c_w, layer_index)] = globals()['G{}_c{}_w_layer{}'.format(global_epoch, num_c_w, layer_index)] + np.array(globals()['L{}_layer{}_w_c'.format(i,layer_index)])   # 일반 클러스터링\n"
     ]
    },
    {
     "name": "stdout",
     "output_type": "stream",
     "text": [
      "Layer :  4   클러스터 갯수 정해짐!  갯수 :  3 1\n"
     ]
    },
    {
     "name": "stderr",
     "output_type": "stream",
     "text": [
      "<ipython-input-8-506962b8e734>:141: VisibleDeprecationWarning: Creating an ndarray from ragged nested sequences (which is a list-or-tuple of lists-or-tuples-or ndarrays with different lengths or shapes) is deprecated. If you meant to do this, you must specify 'dtype=object' when creating the ndarray\n",
      "  globals()['G{}_c{}_w_layer{}'.format(global_epoch, num_c_w, layer_index)] = globals()['G{}_c{}_w_layer{}'.format(global_epoch, num_c_w, layer_index)] + np.array(globals()['L{}_layer{}_w_c'.format(i,layer_index)])   # 일반 클러스터링\n"
     ]
    },
    {
     "name": "stdout",
     "output_type": "stream",
     "text": [
      "Layer :  6   클러스터 갯수 정해짐!  갯수 :  2 0\n"
     ]
    },
    {
     "name": "stderr",
     "output_type": "stream",
     "text": [
      "<ipython-input-8-506962b8e734>:141: VisibleDeprecationWarning: Creating an ndarray from ragged nested sequences (which is a list-or-tuple of lists-or-tuples-or ndarrays with different lengths or shapes) is deprecated. If you meant to do this, you must specify 'dtype=object' when creating the ndarray\n",
      "  globals()['G{}_c{}_w_layer{}'.format(global_epoch, num_c_w, layer_index)] = globals()['G{}_c{}_w_layer{}'.format(global_epoch, num_c_w, layer_index)] + np.array(globals()['L{}_layer{}_w_c'.format(i,layer_index)])   # 일반 클러스터링\n"
     ]
    },
    {
     "name": "stdout",
     "output_type": "stream",
     "text": [
      "Layer :  7   클러스터 갯수 정해짐!  갯수 :  2 0\n",
      "\n",
      "\n",
      "====================================================== One Global Epoch =====================================================================\n",
      "\n",
      "\n",
      "49  번째 global_epoch 데이터 랜덤하게 준비!!\n"
     ]
    },
    {
     "name": "stderr",
     "output_type": "stream",
     "text": [
      "<ipython-input-8-506962b8e734>:141: VisibleDeprecationWarning: Creating an ndarray from ragged nested sequences (which is a list-or-tuple of lists-or-tuples-or ndarrays with different lengths or shapes) is deprecated. If you meant to do this, you must specify 'dtype=object' when creating the ndarray\n",
      "  globals()['G{}_c{}_w_layer{}'.format(global_epoch, num_c_w, layer_index)] = globals()['G{}_c{}_w_layer{}'.format(global_epoch, num_c_w, layer_index)] + np.array(globals()['L{}_layer{}_w_c'.format(i,layer_index)])   # 일반 클러스터링\n"
     ]
    },
    {
     "name": "stdout",
     "output_type": "stream",
     "text": [
      "49  번째 global_epoch 데이터 랜덤 준비완료!!\n",
      "\n",
      "\n",
      "49  번째 global epoch에서 로컬 클라이언트 들 학습시작!\n",
      "\n",
      "학습 중 ...\n",
      "\n",
      "16/16 - 1s - loss: 2.8524 - accuracy: 0.6160\n",
      "16/16 - 1s - loss: 2.3585 - accuracy: 0.6620\n",
      "16/16 - 1s - loss: 2.6413 - accuracy: 0.6280\n",
      "16/16 - 1s - loss: 2.4093 - accuracy: 0.6260\n",
      "16/16 - 1s - loss: 1.9117 - accuracy: 0.6880\n",
      "16/16 - 1s - loss: 2.5792 - accuracy: 0.5800\n",
      "16/16 - 1s - loss: 2.2201 - accuracy: 0.6780\n",
      "16/16 - 1s - loss: 2.3353 - accuracy: 0.6340\n",
      "16/16 - 1s - loss: 2.4345 - accuracy: 0.6540\n",
      "16/16 - 1s - loss: 2.5357 - accuracy: 0.6420\n",
      "16/16 - 1s - loss: 2.5258 - accuracy: 0.6460\n",
      "16/16 - 1s - loss: 1.9495 - accuracy: 0.5960\n",
      "16/16 - 1s - loss: 2.5197 - accuracy: 0.6560\n",
      "16/16 - 1s - loss: 2.5458 - accuracy: 0.6180\n",
      "16/16 - 1s - loss: 2.7297 - accuracy: 0.6020\n",
      "16/16 - 1s - loss: 1.9592 - accuracy: 0.6660\n",
      "16/16 - 1s - loss: 2.3677 - accuracy: 0.6400\n",
      "16/16 - 1s - loss: 2.6965 - accuracy: 0.6400\n",
      "16/16 - 1s - loss: 2.4900 - accuracy: 0.6340\n",
      "16/16 - 1s - loss: 2.2459 - accuracy: 0.6700\n",
      "------------    49  번째 global epoch < Clustering > 로컬 클라이언트 학습 완료!,  Total Training time :  1932.133023262024 ---------------------------\n",
      "\n",
      "\n",
      "Layer :  0   클러스터 갯수 정해짐!  갯수 :  2 0\n"
     ]
    },
    {
     "name": "stderr",
     "output_type": "stream",
     "text": [
      "<ipython-input-8-506962b8e734>:141: VisibleDeprecationWarning: Creating an ndarray from ragged nested sequences (which is a list-or-tuple of lists-or-tuples-or ndarrays with different lengths or shapes) is deprecated. If you meant to do this, you must specify 'dtype=object' when creating the ndarray\n",
      "  globals()['G{}_c{}_w_layer{}'.format(global_epoch, num_c_w, layer_index)] = globals()['G{}_c{}_w_layer{}'.format(global_epoch, num_c_w, layer_index)] + np.array(globals()['L{}_layer{}_w_c'.format(i,layer_index)])   # 일반 클러스터링\n"
     ]
    },
    {
     "name": "stdout",
     "output_type": "stream",
     "text": [
      "Layer :  2   클러스터 갯수 정해짐!  갯수 :  2 0\n"
     ]
    },
    {
     "name": "stderr",
     "output_type": "stream",
     "text": [
      "<ipython-input-8-506962b8e734>:141: VisibleDeprecationWarning: Creating an ndarray from ragged nested sequences (which is a list-or-tuple of lists-or-tuples-or ndarrays with different lengths or shapes) is deprecated. If you meant to do this, you must specify 'dtype=object' when creating the ndarray\n",
      "  globals()['G{}_c{}_w_layer{}'.format(global_epoch, num_c_w, layer_index)] = globals()['G{}_c{}_w_layer{}'.format(global_epoch, num_c_w, layer_index)] + np.array(globals()['L{}_layer{}_w_c'.format(i,layer_index)])   # 일반 클러스터링\n"
     ]
    },
    {
     "name": "stdout",
     "output_type": "stream",
     "text": [
      "Layer :  4   클러스터 갯수 정해짐!  갯수 :  3 1\n"
     ]
    },
    {
     "name": "stderr",
     "output_type": "stream",
     "text": [
      "<ipython-input-8-506962b8e734>:141: VisibleDeprecationWarning: Creating an ndarray from ragged nested sequences (which is a list-or-tuple of lists-or-tuples-or ndarrays with different lengths or shapes) is deprecated. If you meant to do this, you must specify 'dtype=object' when creating the ndarray\n",
      "  globals()['G{}_c{}_w_layer{}'.format(global_epoch, num_c_w, layer_index)] = globals()['G{}_c{}_w_layer{}'.format(global_epoch, num_c_w, layer_index)] + np.array(globals()['L{}_layer{}_w_c'.format(i,layer_index)])   # 일반 클러스터링\n"
     ]
    },
    {
     "name": "stdout",
     "output_type": "stream",
     "text": [
      "Layer :  6   클러스터 갯수 정해짐!  갯수 :  2 0\n"
     ]
    },
    {
     "name": "stderr",
     "output_type": "stream",
     "text": [
      "<ipython-input-8-506962b8e734>:141: VisibleDeprecationWarning: Creating an ndarray from ragged nested sequences (which is a list-or-tuple of lists-or-tuples-or ndarrays with different lengths or shapes) is deprecated. If you meant to do this, you must specify 'dtype=object' when creating the ndarray\n",
      "  globals()['G{}_c{}_w_layer{}'.format(global_epoch, num_c_w, layer_index)] = globals()['G{}_c{}_w_layer{}'.format(global_epoch, num_c_w, layer_index)] + np.array(globals()['L{}_layer{}_w_c'.format(i,layer_index)])   # 일반 클러스터링\n"
     ]
    },
    {
     "name": "stdout",
     "output_type": "stream",
     "text": [
      "Layer :  7   클러스터 갯수 정해짐!  갯수 :  2 0\n",
      "\n",
      "\n",
      "====================================================== One Global Epoch =====================================================================\n",
      "\n",
      "\n",
      "50  번째 global_epoch 데이터 랜덤하게 준비!!\n"
     ]
    },
    {
     "name": "stderr",
     "output_type": "stream",
     "text": [
      "<ipython-input-8-506962b8e734>:141: VisibleDeprecationWarning: Creating an ndarray from ragged nested sequences (which is a list-or-tuple of lists-or-tuples-or ndarrays with different lengths or shapes) is deprecated. If you meant to do this, you must specify 'dtype=object' when creating the ndarray\n",
      "  globals()['G{}_c{}_w_layer{}'.format(global_epoch, num_c_w, layer_index)] = globals()['G{}_c{}_w_layer{}'.format(global_epoch, num_c_w, layer_index)] + np.array(globals()['L{}_layer{}_w_c'.format(i,layer_index)])   # 일반 클러스터링\n"
     ]
    },
    {
     "name": "stdout",
     "output_type": "stream",
     "text": [
      "50  번째 global_epoch 데이터 랜덤 준비완료!!\n",
      "\n",
      "\n",
      "50  번째 global epoch에서 로컬 클라이언트 들 학습시작!\n",
      "\n",
      "학습 중 ...\n",
      "\n",
      "16/16 - 1s - loss: 2.4090 - accuracy: 0.6640\n",
      "16/16 - 1s - loss: 2.2166 - accuracy: 0.6500\n",
      "16/16 - 1s - loss: 1.8907 - accuracy: 0.7100\n",
      "16/16 - 1s - loss: 2.3482 - accuracy: 0.6540\n",
      "16/16 - 1s - loss: 2.5175 - accuracy: 0.6520\n",
      "16/16 - 1s - loss: 2.4589 - accuracy: 0.5940\n",
      "16/16 - 1s - loss: 2.2073 - accuracy: 0.6820\n",
      "16/16 - 1s - loss: 2.5028 - accuracy: 0.6480\n",
      "16/16 - 1s - loss: 2.5414 - accuracy: 0.6600\n",
      "16/16 - 1s - loss: 2.3001 - accuracy: 0.6360\n",
      "16/16 - 1s - loss: 2.3325 - accuracy: 0.6440\n",
      "16/16 - 1s - loss: 2.0852 - accuracy: 0.6180\n",
      "16/16 - 1s - loss: 1.9580 - accuracy: 0.6880\n",
      "16/16 - 1s - loss: 2.5088 - accuracy: 0.6600\n",
      "16/16 - 1s - loss: 2.4265 - accuracy: 0.6300\n",
      "16/16 - 1s - loss: 2.4933 - accuracy: 0.6460\n",
      "16/16 - 1s - loss: 2.5996 - accuracy: 0.6060\n",
      "16/16 - 1s - loss: 2.1225 - accuracy: 0.6640\n",
      "16/16 - 1s - loss: 2.4649 - accuracy: 0.6360\n",
      "16/16 - 1s - loss: 2.4421 - accuracy: 0.6780\n",
      "------------    50  번째 global epoch < Clustering > 로컬 클라이언트 학습 완료!,  Total Training time :  1969.3876094818115 ---------------------------\n",
      "\n",
      "\n",
      "Layer :  0   클러스터 갯수 정해짐!  갯수 :  2 0\n"
     ]
    },
    {
     "name": "stderr",
     "output_type": "stream",
     "text": [
      "<ipython-input-8-506962b8e734>:141: VisibleDeprecationWarning: Creating an ndarray from ragged nested sequences (which is a list-or-tuple of lists-or-tuples-or ndarrays with different lengths or shapes) is deprecated. If you meant to do this, you must specify 'dtype=object' when creating the ndarray\n",
      "  globals()['G{}_c{}_w_layer{}'.format(global_epoch, num_c_w, layer_index)] = globals()['G{}_c{}_w_layer{}'.format(global_epoch, num_c_w, layer_index)] + np.array(globals()['L{}_layer{}_w_c'.format(i,layer_index)])   # 일반 클러스터링\n"
     ]
    },
    {
     "name": "stdout",
     "output_type": "stream",
     "text": [
      "Layer :  2   클러스터 갯수 정해짐!  갯수 :  2 0\n"
     ]
    },
    {
     "name": "stderr",
     "output_type": "stream",
     "text": [
      "<ipython-input-8-506962b8e734>:141: VisibleDeprecationWarning: Creating an ndarray from ragged nested sequences (which is a list-or-tuple of lists-or-tuples-or ndarrays with different lengths or shapes) is deprecated. If you meant to do this, you must specify 'dtype=object' when creating the ndarray\n",
      "  globals()['G{}_c{}_w_layer{}'.format(global_epoch, num_c_w, layer_index)] = globals()['G{}_c{}_w_layer{}'.format(global_epoch, num_c_w, layer_index)] + np.array(globals()['L{}_layer{}_w_c'.format(i,layer_index)])   # 일반 클러스터링\n"
     ]
    },
    {
     "name": "stdout",
     "output_type": "stream",
     "text": [
      "Layer :  4   클러스터 갯수 정해짐!  갯수 :  3 1\n"
     ]
    },
    {
     "name": "stderr",
     "output_type": "stream",
     "text": [
      "<ipython-input-8-506962b8e734>:141: VisibleDeprecationWarning: Creating an ndarray from ragged nested sequences (which is a list-or-tuple of lists-or-tuples-or ndarrays with different lengths or shapes) is deprecated. If you meant to do this, you must specify 'dtype=object' when creating the ndarray\n",
      "  globals()['G{}_c{}_w_layer{}'.format(global_epoch, num_c_w, layer_index)] = globals()['G{}_c{}_w_layer{}'.format(global_epoch, num_c_w, layer_index)] + np.array(globals()['L{}_layer{}_w_c'.format(i,layer_index)])   # 일반 클러스터링\n"
     ]
    },
    {
     "name": "stdout",
     "output_type": "stream",
     "text": [
      "Layer :  6   클러스터 갯수 정해짐!  갯수 :  2 0\n"
     ]
    },
    {
     "name": "stderr",
     "output_type": "stream",
     "text": [
      "<ipython-input-8-506962b8e734>:141: VisibleDeprecationWarning: Creating an ndarray from ragged nested sequences (which is a list-or-tuple of lists-or-tuples-or ndarrays with different lengths or shapes) is deprecated. If you meant to do this, you must specify 'dtype=object' when creating the ndarray\n",
      "  globals()['G{}_c{}_w_layer{}'.format(global_epoch, num_c_w, layer_index)] = globals()['G{}_c{}_w_layer{}'.format(global_epoch, num_c_w, layer_index)] + np.array(globals()['L{}_layer{}_w_c'.format(i,layer_index)])   # 일반 클러스터링\n"
     ]
    },
    {
     "name": "stdout",
     "output_type": "stream",
     "text": [
      "Layer :  7   클러스터 갯수 정해짐!  갯수 :  2 0\n",
      "\n",
      "\n",
      "====================================================== One Global Epoch =====================================================================\n",
      "\n",
      "\n"
     ]
    },
    {
     "name": "stderr",
     "output_type": "stream",
     "text": [
      "<ipython-input-8-506962b8e734>:141: VisibleDeprecationWarning: Creating an ndarray from ragged nested sequences (which is a list-or-tuple of lists-or-tuples-or ndarrays with different lengths or shapes) is deprecated. If you meant to do this, you must specify 'dtype=object' when creating the ndarray\n",
      "  globals()['G{}_c{}_w_layer{}'.format(global_epoch, num_c_w, layer_index)] = globals()['G{}_c{}_w_layer{}'.format(global_epoch, num_c_w, layer_index)] + np.array(globals()['L{}_layer{}_w_c'.format(i,layer_index)])   # 일반 클러스터링\n"
     ]
    }
   ],
   "source": [
    "G_epoch = 51\n",
    "\n",
    "for global_epoch in range(1, G_epoch):\n",
    "\n",
    "    for i in range(1, local):\n",
    "        if global_epoch == 1:\n",
    "            globals()['G{}_c_L{}_model'.format(global_epoch, i)] = globals()['FedAvg_L{}_iter{}_model'.format(i,global_epoch-1)]   #모델 넣어줌 (우리는 구조만 필요한 것)\n",
    "        else:\n",
    "            globals()['G{}_c_L{}_model'.format(global_epoch, i)] = globals()['G{}_c_L{}_model'.format(global_epoch-1, i)]   #모델 넣어줌 (우리는 구조만 필요한 것)\n",
    "\n",
    "        for layer_index in num_layers_list: \n",
    "            num_c = globals()['G{}_num_clusters_in_layer{}_w'.format(global_epoch-1, layer_index)]   \n",
    "    \n",
    "            for ccc in range(num_c):\n",
    "                if globals()['w_layer{}_label'.format(layer_index)][i-1] == ccc:    #현재 로컬 레이어의 군집 결과 == ccc\n",
    "                    globals()['G{}_c_L{}_model'.format(global_epoch, i)].layers[layer_index].set_weights(globals()['G{}_c{}_w_layer{}'.format(global_epoch-1, ccc, layer_index) ])  # 클러스터용 로컬 모델 선언\n",
    "                    \n",
    "                  \n",
    "        \n",
    "\n",
    "    #----------------------------------------------------------------데이터 새로 준비----------------------------------------------------------------------------------\n",
    "    print(global_epoch, \" 번째 global_epoch 데이터 랜덤하게 준비!!\")\n",
    "\n",
    "\n",
    "    for i in range(1,local):\n",
    "        globals()['L{}_x_train'.format(i)], globals()['L{}_x_test'.format(i)] = [], []\n",
    "        globals()['L{}_y_train'.format(i)], globals()['L{}_y_test'.format(i)] = [], []  \n",
    "        \n",
    "    x_train_range = list(np.arange(0,len(x_train)))  #0~59,999\n",
    "    x_test_range = list(np.arange(0,len(x_test)))  #0~9,999\n",
    "\n",
    "    for n in range(1,local): #Data_x_train_range, 잘 작동함 => 확인 완료\n",
    "        tmp, tmp2 = [], []\n",
    "        tmp = random.sample(list(x_train_range), int(num_train/(local-1)))  #1/10개 만큼 인덱스 랜덤 비복원 추출 => 랜덤으로 해야함\n",
    "        tmp2 = random.sample(list(x_test_range), int(num_test/(local-1)))\n",
    "\n",
    "        for i in range(len(tmp)):\n",
    "            globals()['L{}_x_train'.format(n)].append(x_train[tmp[i]])  #n번째 Cluster에 분할한 실제 x_train 데이터 저장\n",
    "            globals()['L{}_y_train'.format(n)].append(y_train[tmp[i]]) \n",
    "            #x_train_range.remove(tmp[i])  #랜덤 하게 뽑힌 원소 6000개 추출했으니 안에서 삭제 = 복원추출\n",
    "\n",
    "        for j in range(len(tmp2)):\n",
    "            globals()['L{}_x_test'.format(n)].append(x_test[tmp2[j]])\n",
    "            globals()['L{}_y_test'.format(n)].append(y_test[tmp2[j]])\n",
    "            #x_test_range.remove(tmp2[j])  #랜덤 하게 뽑힌 원소 6000개 추출했으니 안에서 삭제\n",
    "\n",
    "    for i in range(1,local):\n",
    "        globals()['L{}_x_train'.format(i)] = np.array(globals()['L{}_x_train'.format(i)])\n",
    "        globals()['L{}_x_test'.format(i)] = np.array(globals()['L{}_x_test'.format(i)])\n",
    "        globals()['L{}_y_train'.format(i)] = np.array(globals()['L{}_y_train'.format(i)])\n",
    "        globals()['L{}_y_test'.format(i)] = np.array(globals()['L{}_y_test'.format(i)])\n",
    "\n",
    "\n",
    "    print(global_epoch, \" 번째 global_epoch 데이터 랜덤 준비완료!!\\n\\n\")\n",
    "\n",
    "    print(global_epoch, \" 번째 global epoch에서 로컬 클라이언트 들 학습시작!\\n\\n학습 중 ...\\n\")\n",
    "    \n",
    "\n",
    "    #-------------------------------------------------------------------여기가 핵심, 알고리즘 3개 따로 학습시켜야 함--------------------------------------------------------------------\n",
    "\n",
    "\n",
    "    #======================================================================== Cluster  ========================================================================  같이 했음. 왜냐면 cluster 하고 나서 activation 을 씌우는 거라 cluster까지는 같음\n",
    "\n",
    "    cluster_acc, cluster_loss, cluster_act_acc, cluster_act_loss, now = [], [], [], [], time.time()\n",
    "    \n",
    "    for i in range(1, local):\n",
    "        globals()['G{}_c_L{}_model'.format(global_epoch, i)].compile(loss=\"categorical_crossentropy\", optimizer=\"adam\", metrics=[\"accuracy\"])  #Cluster => 알맞는 클러스터에 넣기\n",
    "        globals()['G{}_c_L{}_model'.format(global_epoch, i)].fit(globals()['L{}_x_train'.format(i)], globals()['L{}_y_train'.format(i)], batch_size=batch_size, epochs=epochs, validation_split=0.1, verbose=0)\n",
    "        loss, acc = globals()['G{}_c_L{}_model'.format(global_epoch, i)].evaluate(globals()['L{}_x_test'.format(i)], globals()['L{}_y_test'.format(i)], verbose=2)\n",
    "        \n",
    "        cluster_acc.append(acc)  #acc 넣기\n",
    "        cluster_loss.append(loss)  #loss 넣기\n",
    "\n",
    "    print(\"------------   \", global_epoch, \" 번째 global epoch < Clustering > 로컬 클라이언트 학습 완료!,  Total Training time : \", time.time()-now,\"---------------------------\\n\\n\")\n",
    "\n",
    "\n",
    "# 로컬 모델들 학습 완료, 로컬모델에서 weight, bias 추출 -------------------------------------------------------------------------------------\n",
    "\n",
    "\n",
    "    for i in range(1, local):        \n",
    "        for layer_index in num_layers_list:\n",
    "            \n",
    "            globals()['L{}_layer{}_w_c'.format(i,layer_index)]   = globals()['G{}_c_L{}_model'.format(global_epoch, i)].layers[layer_index].get_weights() # Clustering \n",
    "            globals()['L{}_layer{}_w_c_tmp'.format(i,layer_index)]   = globals()['G{}_c_L{}_model'.format(global_epoch, i)].layers[layer_index].get_weights() # Clustering \n",
    "\n",
    "    #------------------------------------------------ 클러스터링만 한 값들 Clustering --------------------------------------------------------\n",
    "    for layer_index in num_layers_list:\n",
    "        best_Sil_score_c = []\n",
    "        globals()['layer{}_W_c_tmp'.format(layer_index)] = []\n",
    "        \n",
    "        globals()['var_list_layer{}_w'.format(layer_index)] = []\n",
    "        globals()['var_list_layer{}_b'.format(layer_index)] = []\n",
    "            \n",
    "        for i in range(1, local):\n",
    "            TMP_w = list(np.array(globals()['L{}_layer{}_w_c_tmp'.format(i,layer_index)][0]).reshape(-1))\n",
    "            TMP_b = list(np.array(globals()['L{}_layer{}_w_c_tmp'.format(i,layer_index)][1]).reshape(-1))\n",
    "            \n",
    "            TMP_w.extend(TMP_b) ##append 말고 더해야함..\n",
    "\n",
    "            TMP_w = np.array(TMP_w)\n",
    "            TMP_w = list(TMP_w.reshape(-1))\n",
    "            globals()['layer{}_W_c_tmp'.format(layer_index)].append(TMP_w)  #클러스터링 용도\n",
    "\n",
    "        #---------------------------------------------------- 실루엣 기반 클러스터링 실시 -------------------------------------------------------------\n",
    "        silhoutte_score_w = []\n",
    "        transformed = globals()['layer{}_W_c_tmp'.format(layer_index)]\n",
    "\n",
    "        for clusters in range((int(local/2)-1)):       ####=>  이 범위 : 클러스터 갯수, 밑에 보면 cluster+2 있음 = 총 10개 => (0,11) = 10\n",
    "            globals()['w_layer{}_label'.format(layer_index)] = 0\n",
    "                                                            \n",
    "            kmeans_model_w = KMeans(n_clusters=clusters+2)   # 0, 1은 silhouette 에 안먹힘  \n",
    "\n",
    "            kmeans_model_w.fit(transformed)       #레이블 정의 \n",
    "\n",
    "            silhoutte_score_w.append(silhouette_score(globals()['layer{}_W_tmp'.format(layer_index)], kmeans_model_w.labels_, metric='euclidean'))  \n",
    "            \n",
    "        num_clusters_for_w = np.argmax(silhoutte_score_w)  \n",
    "        best_Sil_score_c.append(silhoutte_score_w[num_clusters_for_w])\n",
    " \n",
    "        kmeans_model_w = KMeans(n_clusters=num_clusters_for_w+2)   # 0, 1은 silhouette 에 안먹힘  \n",
    "\n",
    "        globals()['w_layer{}_label'.format(layer_index)] = kmeans_model_w.fit_predict(transformed)       # 가장 적합한 클러스터로 레이어에 속한 로컬들 레이블 정의 \n",
    "        label_list.append(globals()['w_layer{}_label'.format(layer_index)])\n",
    "\n",
    "        globals()['G{}_num_clusters_in_layer{}_w'.format(global_epoch, layer_index)] = num_clusters_for_w + 2  #나중에 몇개로 나뉘었는지 알아야 함 = num_clusters_for_w이거 그대로 하면 밑에 저게 쓸일이 많아서 global 쓰면 코딩이 너무 번잡해짐;; \n",
    "        print(\"Layer : \", layer_index, \"  클러스터 갯수 정해짐!  갯수 : \", globals()['G{}_num_clusters_in_layer{}_w'.format(global_epoch, layer_index)], num_clusters_for_w) ########################################################******************************************\n",
    "\n",
    "\n",
    "        #----------------------------------------------- 스케일링 및 업데이트 ---------------------------------------------------------------------\n",
    "        for num_c_w in range(num_clusters_for_w+2): #클러스터 갯수 (num_clusters_for_w) 만큼 클러스터용 = 클러스터 갯수가 3이 나왔으면 3개를 만들어야 함\n",
    "            globals()['G{}_c{}_w_layer{}'.format(global_epoch, num_c_w, layer_index)] = 0 \n",
    "            \n",
    "            globals()['w_scaler_c{}_sum'.format(num_c_w)], globals()['int_c{}_w'.format(num_c_w)] = 0, 0 #초기화\n",
    "        \n",
    "            for i in range(1, local):\n",
    "\n",
    "                if globals()['w_layer{}_label'.format(layer_index)][i-1] == num_c_w  : # 클러스터 레이블에 맞게 (0 or 1 or 2 ..) \n",
    "                    #print(\"클러스터 레이블 check : ====== \", num_c_w)\n",
    "                    globals()['w_scaler_c{}_sum'.format(num_c_w)] = globals()['w_scaler_c{}_sum'.format(num_c_w)] + len(globals()['L{}_x_train'.format(i)])\n",
    "\n",
    "                    globals()['G{}_c{}_w_layer{}'.format(global_epoch, num_c_w, layer_index)] = globals()['G{}_c{}_w_layer{}'.format(global_epoch, num_c_w, layer_index)] + np.array(globals()['L{}_layer{}_w_c'.format(i,layer_index)])   # 일반 클러스터링\n",
    "                  \n",
    "                    globals()['int_c{}_w'.format(num_c_w)] = globals()['int_c{}_w'.format(num_c_w)] + 1\n",
    "\n",
    "            globals()['w_scaler{}'.format(num_c_w)] = len(globals()['L{}_x_train'.format(i)]) / globals()['w_scaler_c{}_sum'.format(num_c_w)]\n",
    "            globals()['G{}_c{}_w_layer{}'.format(global_epoch, num_c_w, layer_index)] = globals()['G{}_c{}_w_layer{}'.format(global_epoch, num_c_w, layer_index)] / globals()['int_c{}_w'.format(num_c_w)] #레이어 별 클러스터 자기 갯수만큼 나눠주기=평균\n",
    "\n",
    "        \n",
    "        sum_for_var_w,sum_for_var_b = 0, 0\n",
    "        for sps in range(num_clusters_for_w+2):\n",
    "            sum_for_var_w = sum_for_var_w + globals()['G{}_c{}_w_layer{}'.format(global_epoch, 0, layer_index)][0]\n",
    "            sum_for_var_b = sum_for_var_b + globals()['G{}_c{}_w_layer{}'.format(global_epoch, 0, layer_index)][1] \n",
    "        \n",
    "        sum_for_var_w = sum_for_var_w/(num_clusters_for_w+2)\n",
    "        sum_for_var_b = sum_for_var_b/(num_clusters_for_w+2)\n",
    "\n",
    "        for i in range(1, local):\n",
    "            globals()['var_list_layer{}_w'.format(layer_index)].append(np.var(sum_for_var_w))\n",
    "            globals()['var_list_layer{}_b'.format(layer_index)].append(np.var(sum_for_var_b))\n",
    "  \n",
    "\n",
    "        VAR_final_list_w.append(globals()['var_list_layer{}_w'.format(layer_index)])\n",
    "        VAR_final_list_b.append(globals()['var_list_layer{}_b'.format(layer_index)])\n",
    "\n",
    "\n",
    "    Cluster_ACC.append(cluster_acc)\n",
    "    Cluster_LOSS.append(cluster_loss)\n",
    "    Silhouette_sc_c.append(best_Sil_score_c)\n",
    "\n",
    "\n",
    "    print(\"\\n\\n====================================================== One Global Epoch =====================================================================\\n\\n\")\n"
   ]
  },
  {
   "cell_type": "code",
   "execution_count": 9,
   "metadata": {
    "colab": {
     "base_uri": "https://localhost:8080/"
    },
    "executionInfo": {
     "elapsed": 239,
     "status": "ok",
     "timestamp": 1627598233970,
     "user": {
      "displayName": "이훈민",
      "photoUrl": "",
      "userId": "00157268181097362793"
     },
     "user_tz": 240
    },
    "id": "w2XKazZ-4dgs",
    "outputId": "4f023b47-dd78-43b9-bdab-9a0bc7195aa5"
   },
   "outputs": [],
   "source": [
    "#클러스터 레이어들끼리 weight 확이 => 똑같지는 않은지 확인"
   ]
  },
  {
   "cell_type": "code",
   "execution_count": 10,
   "metadata": {
    "colab": {
     "base_uri": "https://localhost:8080/"
    },
    "executionInfo": {
     "elapsed": 282,
     "status": "ok",
     "timestamp": 1627663392403,
     "user": {
      "displayName": "이훈민",
      "photoUrl": "",
      "userId": "00157268181097362793"
     },
     "user_tz": 240
    },
    "id": "DGhQbiXaEUfJ",
    "outputId": "e7f4f01c-9b72-4b6e-f3ed-6859fc0a3587"
   },
   "outputs": [
    {
     "name": "stdout",
     "output_type": "stream",
     "text": [
      "Layer 0  ==> label 0, 1, 2 갯수 :  517 486 5\n",
      "Layer 2  ==> label 0, 1, 2 갯수 :  933 87 0\n",
      "Layer 4  ==> label 0, 1, 2 갯수 :  794 122 104\n",
      "Layer 6  ==> label 0, 1, 2 갯수 :  915 105 0\n",
      "Layer 7  ==> label 0, 1, 2 갯수 :  511 509 0\n"
     ]
    }
   ],
   "source": [
    "L0_label0, L0_label1, L0_label2 = 0, 0, 0 \n",
    "L1_label0, L1_label1, L1_label2 = 0, 0, 0 \n",
    "L2_label0, L2_label1, L2_label2 = 0, 0, 0 \n",
    "L3_label0, L3_label1, L3_label2 = 0, 0, 0 \n",
    "L4_label0, L4_label1, L4_label2 = 0, 0, 0 \n",
    "\n",
    "\n",
    "for i in range(int(len(label_list)/5)):\n",
    "    for k in range(5):\n",
    "        for j in range(len(label_list[0])):\n",
    "            if label_list[i*5 + k][j] == 0:\n",
    "                  globals()['L{}_label0'.format(k)] = globals()['L{}_label0'.format(k)] + 1 \n",
    "\n",
    "            elif label_list[i*5 + k][j] == 1:\n",
    "                globals()['L{}_label1'.format(k)] = globals()['L{}_label1'.format(k)] + 1\n",
    "\n",
    "            elif label_list[i*5 + k][j] == 2:\n",
    "                globals()['L{}_label2'.format(k)] = globals()['L{}_label2'.format(k)] + 1\n",
    "\n",
    "\n",
    "print(\"Layer 0  ==> label 0, 1, 2 갯수 : \", L0_label0, L0_label1, L0_label2)\n",
    "print(\"Layer 2  ==> label 0, 1, 2 갯수 : \", L1_label0, L1_label1, L1_label2)\n",
    "print(\"Layer 4  ==> label 0, 1, 2 갯수 : \", L2_label0, L2_label1, L2_label2)\n",
    "print(\"Layer 6  ==> label 0, 1, 2 갯수 : \", L3_label0, L3_label1, L3_label2)\n",
    "print(\"Layer 7  ==> label 0, 1, 2 갯수 : \", L4_label0, L4_label1, L4_label2)"
   ]
  },
  {
   "cell_type": "code",
   "execution_count": null,
   "metadata": {
    "id": "m4Zb_JoiIf2c"
   },
   "outputs": [],
   "source": []
  },
  {
   "cell_type": "code",
   "execution_count": 13,
   "metadata": {
    "colab": {
     "base_uri": "https://localhost:8080/",
     "height": 1000
    },
    "executionInfo": {
     "elapsed": 1102,
     "status": "ok",
     "timestamp": 1627663393500,
     "user": {
      "displayName": "이훈민",
      "photoUrl": "",
      "userId": "00157268181097362793"
     },
     "user_tz": 240
    },
    "id": "3mk4C9N2ADYL",
    "outputId": "dd709555-dac1-41ab-dbf9-7902ded192f0"
   },
   "outputs": [
    {
     "name": "stdout",
     "output_type": "stream",
     "text": [
      "Variance Accumulate Layer 0,2,4,6,7\n",
      "--------------------------------------------------------------------------------------------------\n",
      "\n",
      "\n",
      "Var Accumulate Weight\n",
      "--------------------------------------\n",
      "[0.00049165374, 0.00061466655, 0.0009265871, 0.0013323508, 0.0018309127, 0.002442254, 0.0031250808, 0.00388705, 0.004726717, 0.005617008, 0.006508914, 0.007416213, 0.008279679, 0.009120571, 0.0099287275, 0.010710458, 0.011438595, 0.012149781, 0.012799419, 0.013368635, 0.013952405, 0.014497745, 0.015005253, 0.0154893, 0.01593627, 0.016372118, 0.016794786, 0.017182568, 0.017589377, 0.017945545, 0.018282458, 0.018598756, 0.018908024, 0.019235134, 0.019509446, 0.019800792, 0.020051034, 0.020327507, 0.020580873, 0.02083461, 0.021083696, 0.02130398, 0.021506237, 0.021748872, 0.021938361, 0.022151109, 0.022360886, 0.02253759, 0.022720924, 0.022895588]\n",
      "[0.0012583238, 0.001908317, 0.002565707, 0.0033124145, 0.0040999507, 0.0051111276, 0.006110313, 0.0071201078, 0.008070568, 0.009075685, 0.010062777, 0.010958809, 0.01183733, 0.012721137, 0.013457505, 0.014102974, 0.014794078, 0.015296211, 0.015830325, 0.016313976, 0.016780749, 0.017212262, 0.017708339, 0.018087557, 0.01849868, 0.018849187, 0.019198142, 0.019565782, 0.019919617, 0.020230912, 0.020527858, 0.020845925, 0.021156026, 0.021414869, 0.02168637, 0.021990145, 0.02219048, 0.02240606, 0.022629432, 0.02286413, 0.023049088, 0.02328282, 0.023475302, 0.023736645, 0.023946185, 0.02416988, 0.024359705, 0.024573185, 0.024729865, 0.024932258]\n",
      "[0.0008743231, 0.0012001218, 0.0015619034, 0.0020405299, 0.0026604603, 0.0032934027, 0.0039513004, 0.0045739673, 0.005186258, 0.005773972, 0.006323034, 0.0068243085, 0.007272432, 0.0076753413, 0.008040846, 0.008347457, 0.006140906, 0.0089807855, 0.0066034473, 0.009504821, 0.009724588, 0.007109638, 0.0072789574, 0.007418477, 0.0075697834, 0.007718662, 0.007864283, 0.008009533, 0.008150055, 0.008296008, 0.008435921, 0.008582623, 0.00872383, 0.008869318, 0.009000037, 0.009131074, 0.009256921, 0.009361525, 0.009475619, 0.009606528, 0.009730521, 0.00982849, 0.00994367, 0.010074254, 0.010174698, 0.010276607, 0.010368563, 0.010464411, 0.010565312, 0.010670003]\n",
      "[0.0007127547, 0.00079844054, 0.0009330367, 0.0011359545, 0.0013335944, 0.0015670387, 0.0017943985, 0.0020230664, 0.002225318, 0.0024281486, 0.0026166597, 0.0027669044, 0.0029011772, 0.003014739, 0.0031318692, 0.0032250825, 0.003320722, 0.0034092022, 0.003493438, 0.003567828, 0.003646776, 0.0037169144, 0.0038007018, 0.003876215, 0.0039559463, 0.004034016, 0.004115388, 0.004210497, 0.004304083, 0.0043976614, 0.004519612, 0.0046277093, 0.0047305315, 0.0048413877, 0.004951252, 0.00506721, 0.005185089, 0.005290715, 0.00541983, 0.0055394466, 0.0056727733, 0.0058100694, 0.005948067, 0.0060988073, 0.00623491, 0.006370547, 0.0065250173, 0.0066700717, 0.0068117245, 0.0069761686]\n",
      "[0.0014285089, 0.002049985, 0.0030694515, 0.0044769044, 0.006240746, 0.008573534, 0.011575162, 0.015225187, 0.01917422, 0.023708563, 0.028497929, 0.033654124, 0.03899395, 0.04444155, 0.049823556, 0.05499897, 0.06043697, 0.06571799, 0.07073472, 0.075628735, 0.08076507, 0.085441634, 0.09020601, 0.095019266, 0.09978044, 0.10425433, 0.10874107, 0.11297436, 0.11749549, 0.12170925, 0.12580463, 0.12994543, 0.1340528, 0.13819261, 0.14205384, 0.14575072, 0.14940894, 0.15313092, 0.15658633, 0.16011856, 0.16373412, 0.1671693, 0.17050032, 0.1738667, 0.17710154, 0.18007496, 0.18320678, 0.18612365, 0.18904853, 0.191871]\n",
      "\n",
      "Var Accumulate Bias\n",
      "--------------------------------------\n",
      "[9.695697e-05, 0.0001980658, 0.00030689093, 0.00042502652, 0.0006157095, 0.0008940822, 0.0012778477, 0.0017985761, 0.0024203288, 0.00294304, 0.00349065, 0.0040786685, 0.0046950406, 0.005222506, 0.0057134586, 0.0061264383, 0.0065799905, 0.0069788117, 0.0071917702, 0.007568307, 0.007782258, 0.0081659295, 0.008419445, 0.008602767, 0.0088079255, 0.009060858, 0.009286414, 0.009493089, 0.009675756, 0.009947368, 0.010065284, 0.010239575, 0.010475251, 0.01064723, 0.010804283, 0.010897851, 0.011034241, 0.011149462, 0.011245647, 0.0114252195, 0.011612505, 0.011834368, 0.012000363, 0.012054395, 0.0121768415, 0.012203655, 0.012309482, 0.012421354, 0.012541558, 0.012640686]\n",
      "[0.0001889469, 0.00032113888, 0.0005813303, 0.0011471056, 0.0017448557, 0.0025009895, 0.003388777, 0.0046182703, 0.0056281453, 0.0067070266, 0.007819068, 0.009018478, 0.010026737, 0.010824583, 0.01186713, 0.012631484, 0.013303667, 0.014050817, 0.015138637, 0.015876403, 0.01668121, 0.01716801, 0.017918728, 0.018470317, 0.01935422, 0.019896625, 0.020655748, 0.02127454, 0.021929912, 0.022703156, 0.023365641, 0.023873419, 0.024558425, 0.025201086, 0.025723599, 0.026310025, 0.026682258, 0.027253095, 0.027818048, 0.028290916, 0.028726436, 0.029226832, 0.029877141, 0.030346071, 0.030589959, 0.03121636, 0.031273957, 0.03186746, 0.032451846, 0.03276664]\n",
      "[0.00018674982, 0.0007679501, 0.0014874621, 0.0022399921, 0.0028412116, 0.0034244768, 0.0042227376, 0.0049448297, 0.0056845043, 0.0065183025, 0.0072997613, 0.008050296, 0.00867739, 0.009197607, 0.009948103, 0.010772854, 0.009303675, 0.01171715, 0.010383138, 0.012810573, 0.01338845, 0.0117090875, 0.012129366, 0.012353849, 0.012897126, 0.013324317, 0.014055401, 0.014386086, 0.014874308, 0.015332667, 0.015715934, 0.016118394, 0.016388107, 0.016758807, 0.01724616, 0.017552288, 0.018052012, 0.018540405, 0.018883519, 0.019228674, 0.019464552, 0.019737964, 0.02041452, 0.020768616, 0.021152405, 0.021329965, 0.021798057, 0.021984816, 0.022280216, 0.022585884]\n",
      "[0.00013793983, 0.0005103862, 0.0014637976, 0.0020877975, 0.0025923592, 0.00323012, 0.0038855695, 0.0048327236, 0.005956555, 0.0067425487, 0.007436529, 0.007836718, 0.00808301, 0.00842124, 0.009132739, 0.009677714, 0.009787094, 0.010385668, 0.010761412, 0.011290936, 0.011774401, 0.012216438, 0.01231288, 0.012880076, 0.0131681245, 0.013434275, 0.013707787, 0.014173025, 0.01458044, 0.014858443, 0.0152677065, 0.01576756, 0.015905447, 0.016362388, 0.017036494, 0.017668068, 0.017715737, 0.017989222, 0.018499378, 0.019176342, 0.019556096, 0.020171583, 0.020502876, 0.021153009, 0.021545919, 0.0218712, 0.022772498, 0.022972502, 0.023157613, 0.023371076]\n",
      "[0.000862596, 0.0026781256, 0.0055264607, 0.008081393, 0.01041784, 0.012830205, 0.015665296, 0.018839765, 0.021513829, 0.024198527, 0.026676813, 0.02806044, 0.029643262, 0.030869076, 0.032492958, 0.03288675, 0.033575602, 0.035164006, 0.036036093, 0.03667266, 0.037051655, 0.037595134, 0.03849054, 0.03885572, 0.039570566, 0.03957108, 0.040168, 0.03971099, 0.039872825, 0.039723635, 0.040150862, 0.04101304, 0.040866308, 0.040971365, 0.040847085, 0.041277952, 0.04189168, 0.04125288, 0.041197125, 0.04106457, 0.04120422, 0.04117153, 0.041611195, 0.041418742, 0.04170204, 0.041900523, 0.042146835, 0.042857654, 0.04279731, 0.042732976]\n",
      "\n",
      "\n",
      "Variance Change Layer 0,2,4,6,7\n",
      "--------------------------------------------------------------------------------------------------\n",
      "\n",
      "\n",
      "Var Changes Weight\n",
      "--------------------------------------\n",
      "[0.00049165374, 0.00061466655, 0.0009265871, 0.0013323508, 0.0018309127, 0.002442254, 0.0031250808, 0.00388705, 0.004726717, 0.005617008, 0.006508914, 0.007416213, 0.008279679, 0.009120571, 0.0099287275, 0.010710458, 0.011438595, 0.012149781, 0.012799419, 0.013368635, 0.013952405, 0.014497745, 0.015005253, 0.0154893, 0.01593627, 0.016372118, 0.016794786, 0.017182568, 0.017589377, 0.017945545, 0.018282458, 0.018598756, 0.018908024, 0.019235134, 0.019509446, 0.019800792, 0.020051034, 0.020327507, 0.020580873, 0.02083461, 0.021083696, 0.02130398, 0.021506237, 0.021748872, 0.021938361, 0.022151109, 0.022360886, 0.02253759, 0.022720924, 0.022895588]\n",
      "[0.0012583238, 0.001908317, 0.002565707, 0.0033124145, 0.0040999507, 0.0051111276, 0.006110313, 0.0071201078, 0.008070568, 0.009075685, 0.010062777, 0.010958809, 0.01183733, 0.012721137, 0.013457505, 0.014102974, 0.014794078, 0.015296211, 0.015830325, 0.016313976, 0.016780749, 0.017212262, 0.017708339, 0.018087557, 0.01849868, 0.018849187, 0.019198142, 0.019565782, 0.019919617, 0.020230912, 0.020527858, 0.020845925, 0.021156026, 0.021414869, 0.02168637, 0.021990145, 0.02219048, 0.02240606, 0.022629432, 0.02286413, 0.023049088, 0.02328282, 0.023475302, 0.023736645, 0.023946185, 0.02416988, 0.024359705, 0.024573185, 0.024729865, 0.024932258]\n",
      "[0.0008743231, 0.0012001218, 0.0015619034, 0.0020405299, 0.0026604603, 0.0032934027, 0.0039513004, 0.0045739673, 0.005186258, 0.005773972, 0.006323034, 0.0068243085, 0.007272432, 0.0076753413, 0.008040846, 0.008347457, 0.006140906, 0.0089807855, 0.0066034473, 0.009504821, 0.009724588, 0.007109638, 0.0072789574, 0.007418477, 0.0075697834, 0.007718662, 0.007864283, 0.008009533, 0.008150055, 0.008296008, 0.008435921, 0.008582623, 0.00872383, 0.008869318, 0.009000037, 0.009131074, 0.009256921, 0.009361525, 0.009475619, 0.009606528, 0.009730521, 0.00982849, 0.00994367, 0.010074254, 0.010174698, 0.010276607, 0.010368563, 0.010464411, 0.010565312, 0.010670003]\n",
      "[0.0007127547, 0.00079844054, 0.0009330367, 0.0011359545, 0.0013335944, 0.0015670387, 0.0017943985, 0.0020230664, 0.002225318, 0.0024281486, 0.0026166597, 0.0027669044, 0.0029011772, 0.003014739, 0.0031318692, 0.0032250825, 0.003320722, 0.0034092022, 0.003493438, 0.003567828, 0.003646776, 0.0037169144, 0.0038007018, 0.003876215, 0.0039559463, 0.004034016, 0.004115388, 0.004210497, 0.004304083, 0.0043976614, 0.004519612, 0.0046277093, 0.0047305315, 0.0048413877, 0.004951252, 0.00506721, 0.005185089, 0.005290715, 0.00541983, 0.0055394466, 0.0056727733, 0.0058100694, 0.005948067, 0.0060988073, 0.00623491, 0.006370547, 0.0065250173, 0.0066700717, 0.0068117245, 0.0069761686]\n",
      "[0.0014285089, 0.002049985, 0.0030694515, 0.0044769044, 0.006240746, 0.008573534, 0.011575162, 0.015225187, 0.01917422, 0.023708563, 0.028497929, 0.033654124, 0.03899395, 0.04444155, 0.049823556, 0.05499897, 0.06043697, 0.06571799, 0.07073472, 0.075628735, 0.08076507, 0.085441634, 0.09020601, 0.095019266, 0.09978044, 0.10425433, 0.10874107, 0.11297436, 0.11749549, 0.12170925, 0.12580463, 0.12994543, 0.1340528, 0.13819261, 0.14205384, 0.14575072, 0.14940894, 0.15313092, 0.15658633, 0.16011856, 0.16373412, 0.1671693, 0.17050032, 0.1738667, 0.17710154, 0.18007496, 0.18320678, 0.18612365, 0.18904853, 0.191871]\n",
      "\n",
      "Var Changes Bias\n",
      "--------------------------------------\n",
      "[0.00010110883, 0.00010882513, 0.00011813559, 0.000190683, 0.00027837267, 0.0003837655, 0.0005207284, 0.0006217527, 0.0005227113, 0.00054761, 0.00058801845, 0.0006163721, 0.00052746525, 0.00049095275, 0.00041297963, 0.00045355223, 0.0003988212, 0.00021295855, 0.00037653698, 0.00021395087, 0.00038367137, 0.00025351532, 0.00018332247, 0.00020515826, 0.0002529323, 0.00022555608, 0.00020667538, 0.00018266682, 0.00027161185, 0.00011791568, 0.00017429143, 0.00023567583, 0.00017197896, 0.00015705358, 9.3567185e-05, 0.00013639033, 0.000115221366, 9.618513e-05, 0.00017957203, 0.00018728524, 0.00022186339, 0.00016599521, 5.403161e-05, 0.00012244657, 2.6813708e-05, 0.000105827115, 0.0001118714, 0.00012020394, 9.912811e-05]\n",
      "[0.00013219198, 0.00026019145, 0.00056577526, 0.00059775007, 0.0007561338, 0.00088778744, 0.0012294934, 0.001009875, 0.0010788813, 0.0011120411, 0.0011994103, 0.0010082591, 0.0007978454, 0.0010425476, 0.00076435413, 0.000672183, 0.0007471498, 0.0010878202, 0.0007377658, 0.0008048061, 0.00048680045, 0.00075071864, 0.00055158883, 0.00088390335, 0.00054240413, 0.0007591229, 0.00061879307, 0.0006553717, 0.0007732436, 0.00066248514, 0.00050777756, 0.0006850064, 0.000642661, 0.00052251294, 0.0005864259, 0.00037223287, 0.0005708374, 0.0005649533, 0.00047286786, 0.00043551996, 0.0005003959, 0.000650309, 0.00046893023, 0.0002438873, 0.000626402, 5.7596713e-05, 0.0005935021, 0.0005843863, 0.00031479448]\n",
      "[0.00058120023, 0.000719512, 0.00075253006, 0.0006012195, 0.0005832652, 0.0007982608, 0.0007220921, 0.00073967455, 0.0008337982, 0.0007814588, 0.00075053517, 0.00062709395, 0.0005202163, 0.00075049605, 0.00082475133, -0.001469179, 0.002413475, -0.0013340116, 0.0024274345, 0.0005778773, -0.0016793627, 0.00042027887, 0.00022448227, 0.0005432777, 0.0004271902, 0.0007310845, 0.0003306847, 0.00048822258, 0.0004583588, 0.00038326718, 0.00040245987, 0.00026971288, 0.0003706999, 0.00048735365, 0.0003061276, 0.0004997235, 0.000488393, 0.00034311414, 0.0003451556, 0.00023587793, 0.0002734121, 0.00067655556, 0.0003540963, 0.00038378872, 0.00017756037, 0.00046809204, 0.00018675812, 0.00029540062, 0.00030566752]\n",
      "[0.00037244637, 0.00095341145, 0.00062399986, 0.0005045617, 0.00063776085, 0.00065544946, 0.0009471541, 0.0011238311, 0.0007859939, 0.00069398014, 0.0004001893, 0.00024629198, 0.00033823028, 0.0007114988, 0.0005449746, 0.00010938011, 0.00059857406, 0.00037574396, 0.00052952394, 0.00048346538, 0.00044203643, 9.644218e-05, 0.00056719594, 0.00028804876, 0.00026615057, 0.00027351175, 0.00046523847, 0.0004074145, 0.0002780035, 0.0004092632, 0.00049985293, 0.0001378879, 0.00045694038, 0.0006741062, 0.00063157454, 4.7668815e-05, 0.00027348474, 0.00051015615, 0.0006769635, 0.00037975423, 0.0006154869, 0.0003312938, 0.0006501321, 0.0003929101, 0.00032528117, 0.0009012986, 0.00020000339, 0.00018511154, 0.00021346286]\n",
      "[0.0018155297, 0.002848335, 0.0025549326, 0.0023364471, 0.0024123648, 0.0028350912, 0.0031744689, 0.0026740637, 0.0026846975, 0.0024782866, 0.0013836268, 0.0015828218, 0.0012258142, 0.001623882, 0.000393793, 0.0006888509, 0.0015884042, 0.00087208673, 0.00063656643, 0.00037899613, 0.0005434789, 0.00089540705, 0.00036517903, 0.00071484596, 5.1409006e-07, 0.00059691817, -0.00045700744, 0.00016183406, -0.00014919043, 0.00042722747, 0.00086217746, -0.00014673173, 0.00010505691, -0.00012427941, 0.00043086708, 0.0006137267, -0.0006387979, -5.575642e-05, -0.00013255328, 0.00013964996, -3.2693148e-05, 0.0004396662, -0.00019245222, 0.00028329715, 0.00019848347, 0.00024631247, 0.0007108189, -6.0345978e-05, -6.433204e-05]\n",
      "\n",
      "Now Check the graph\n",
      "\n"
     ]
    },
    {
     "data": {
      "image/png": "[encoded data removed]",
      "text/plain": [
       "<Figure size 360x216 with 1 Axes>"
      ]
     },
     "metadata": {
      "needs_background": "light"
     },
     "output_type": "display_data"
    },
    {
     "data": {
      "image/png": "[encoded data removed]",
      "text/plain": [
       "<Figure size 360x216 with 1 Axes>"
      ]
     },
     "metadata": {
      "needs_background": "light"
     },
     "output_type": "display_data"
    },
    {
     "data": {
      "image/png": "[encoded data removed]",
      "text/plain": [
       "<Figure size 360x216 with 1 Axes>"
      ]
     },
     "metadata": {
      "needs_background": "light"
     },
     "output_type": "display_data"
    },
    {
     "data": {
      "image/png": "[encoded data removed]",
      "text/plain": [
       "<Figure size 360x216 with 1 Axes>"
      ]
     },
     "metadata": {
      "needs_background": "light"
     },
     "output_type": "display_data"
    }
   ],
   "source": [
    "var_changes_L0_w, var_changes_L2_w, var_changes_L4_w, var_changes_L6_w, var_changes_L7_w = [], [], [], [], [] \n",
    "var_accumulate_L0_w, var_accumulate_L2_w, var_accumulate_L4_w, var_accumulate_L6_w, var_accumulate_L7_w = [], [], [], [], [] \n",
    "\n",
    "var_changes_L0_b, var_changes_L2_b, var_changes_L4_b, var_changes_L6_b, var_changes_L7_b = [], [], [], [], [] \n",
    "var_accumulate_L0_b, var_accumulate_L2_b, var_accumulate_L4_b, var_accumulate_L6_b, var_accumulate_L7_b = [], [], [], [], [] \n",
    "\n",
    "\n",
    "for global_epoch in range(G_epoch-1):\n",
    "    for layer_index in num_layers_list:\n",
    "        sumss_w, sumss_b = 0, 0\n",
    "        for sks in range(globals()['G{}_num_clusters_in_layer{}_w'.format(global_epoch, layer_index)]):\n",
    "            sumss_w = sumss_w + globals()['G{}_c{}_w_layer{}'.format(global_epoch, sks, layer_index)][0] \n",
    "            sumss_b = sumss_b + globals()['G{}_c{}_w_layer{}'.format(global_epoch, sks, layer_index)][1]\n",
    "\n",
    "        sumss_w = sumss_w/globals()['G{}_num_clusters_in_layer{}_w'.format(global_epoch, layer_index)]\n",
    "        sumss_b = sumss_b/globals()['G{}_num_clusters_in_layer{}_w'.format(global_epoch, layer_index)]\n",
    "\n",
    "        globals()['var_accumulate_L{}_w'.format(layer_index)].append(np.var( sumss_w ))\n",
    "        \n",
    "        globals()['var_accumulate_L{}_b'.format(layer_index)].append(np.var( sumss_b ))\n",
    "        \n",
    "        \n",
    "\n",
    "for layer_index in num_layers_list:\n",
    "    for tmp_int in range(len(globals()['var_accumulate_L{}_w'.format(layer_index)])-1):\n",
    "        minus_w = globals()['var_accumulate_L{}_w'.format(layer_index)][tmp_int + 1] - globals()['var_accumulate_L{}_w'.format(layer_index)][tmp_int]\n",
    "        minus_b = globals()['var_accumulate_L{}_b'.format(layer_index)][tmp_int + 1] - globals()['var_accumulate_L{}_b'.format(layer_index)][tmp_int]        \n",
    "        globals()['var_changes_L{}_w'.format(layer_index)].append( minus_w )\n",
    "        globals()['var_changes_L{}_b'.format(layer_index)].append( minus_b )\n",
    "        \n",
    "\n",
    "print(\"Variance Accumulate Layer 0,2,4,6,7\\n--------------------------------------------------------------------------------------------------\\n\")\n",
    "\n",
    "print(\"\\nVar Accumulate Weight\\n--------------------------------------\")\n",
    "for j in num_layers_list:\n",
    "    print(globals()['var_accumulate_L{}_w'.format(j)])\n",
    "\n",
    "print(\"\\nVar Accumulate Bias\\n--------------------------------------\")\n",
    "for j in num_layers_list:\n",
    "    print(globals()['var_accumulate_L{}_b'.format(j)])\n",
    "\n",
    "print(\"\\n\\nVariance Change Layer 0,2,4,6,7\\n--------------------------------------------------------------------------------------------------\\n\")\n",
    "\n",
    "print(\"\\nVar Changes Weight\\n--------------------------------------\")\n",
    "for j in num_layers_list:\n",
    "    print(globals()['var_accumulate_L{}_w'.format(j)])\n",
    "\n",
    "print(\"\\nVar Changes Bias\\n--------------------------------------\")\n",
    "for j in num_layers_list:\n",
    "    print(globals()['var_changes_L{}_b'.format(j)])\n",
    "\n",
    "\n",
    "\n",
    "print(\"\\nNow Check the graph\\n\")\n",
    "\n",
    "plt.figure(figsize=(5,3))\n",
    "for j in num_layers_list:\n",
    "    plt.plot(globals()['var_accumulate_L{}_w'.format(j)])\n",
    "\n",
    "plt.figure(figsize=(5,3))\n",
    "for j in num_layers_list:\n",
    "    plt.plot(globals()['var_accumulate_L{}_b'.format(j)])\n",
    "\n",
    "plt.figure(figsize=(5,3))\n",
    "for j in num_layers_list:\n",
    "    plt.plot(globals()['var_changes_L{}_b'.format(j)])\n",
    "\n",
    "plt.figure(figsize=(5,3))\n",
    "for j in num_layers_list:\n",
    "    plt.plot(globals()['var_changes_L{}_b'.format(j)])\n"
   ]
  },
  {
   "cell_type": "code",
   "execution_count": 14,
   "metadata": {
    "colab": {
     "base_uri": "https://localhost:8080/",
     "height": 442
    },
    "executionInfo": {
     "elapsed": 6,
     "status": "ok",
     "timestamp": 1627663393501,
     "user": {
      "displayName": "이훈민",
      "photoUrl": "",
      "userId": "00157268181097362793"
     },
     "user_tz": 240
    },
    "id": "3Z0FOMEdHTVi",
    "outputId": "514d47d9-13cb-493b-e1e0-9267c208a77c"
   },
   "outputs": [
    {
     "name": "stdout",
     "output_type": "stream",
     "text": [
      "Distance Layer 0,2,4,6,7\n",
      "--------------------------------------------------------------------------------------------------\n",
      "[0.020669414, 0.02496186, 0.031098949, 0.03729205, 0.043891545, 0.051078543, 0.05837657, 0.06608114, 0.07399087, 0.080861814, 0.08739174, 0.0937263, 0.09961095, 0.10494703, 0.109437115, 0.11352717, 0.11730693, 0.12106108, 0.12369968, 0.12654044, 0.12882715, 0.13139066, 0.13348295, 0.13520254, 0.13692085, 0.13871881, 0.14048162, 0.14195253, 0.14349174, 0.1451256, 0.14621, 0.14754324, 0.1488415, 0.15008672, 0.15109514, 0.15196532, 0.15287548, 0.15375726, 0.15453589, 0.15560903, 0.1564708, 0.15756398, 0.15835181, 0.15904611, 0.1597412, 0.1602625, 0.16096565, 0.16158634, 0.16224211, 0.16278268]\n",
      "[0.03289616, 0.04048995, 0.048241142, 0.057819016, 0.06607442, 0.075667575, 0.08455141, 0.09407225, 0.101636015, 0.10928597, 0.116070956, 0.12267346, 0.12820889, 0.13307318, 0.13808353, 0.14174207, 0.14518939, 0.14839911, 0.15251273, 0.15513478, 0.15815297, 0.16000098, 0.16285574, 0.16506054, 0.16791359, 0.16989978, 0.17226829, 0.17451066, 0.17663248, 0.17870283, 0.18078464, 0.18238707, 0.18428643, 0.18617354, 0.1878957, 0.1895931, 0.19090234, 0.1924319, 0.19394745, 0.19528623, 0.19640881, 0.1975848, 0.19910684, 0.2003981, 0.20126253, 0.20264827, 0.20302486, 0.2045667, 0.20586598, 0.20663616]\n",
      "[0.028079437, 0.038078144, 0.046580806, 0.055024598, 0.06252295, 0.06938487, 0.07664345, 0.08286748, 0.08871215, 0.094581895, 0.099603355, 0.10460169, 0.10839833, 0.11148392, 0.11515876, 0.11872193, 0.10714539, 0.123647384, 0.11251232, 0.12866364, 0.13094205, 0.11817726, 0.11968914, 0.12089106, 0.122914515, 0.12438497, 0.12672988, 0.1281462, 0.13001603, 0.13138364, 0.1326504, 0.13407809, 0.13513324, 0.13641262, 0.1379933, 0.13913396, 0.14040893, 0.14155558, 0.14270987, 0.14392543, 0.1448791, 0.14548427, 0.14746578, 0.14844503, 0.14949602, 0.14998521, 0.15086561, 0.15135443, 0.15208645, 0.15318093]\n",
      "[0.025315316, 0.031677816, 0.041976195, 0.048253972, 0.052843165, 0.058527336, 0.0635778, 0.06940458, 0.07562049, 0.07955175, 0.08295701, 0.08572112, 0.08730443, 0.0891358, 0.091699824, 0.09366011, 0.094411716, 0.0972715, 0.09891385, 0.10075172, 0.102927916, 0.10434281, 0.10546487, 0.10753903, 0.10862792, 0.10971542, 0.11064488, 0.11237719, 0.114540204, 0.11579197, 0.116797626, 0.11844852, 0.11934964, 0.12086729, 0.12269597, 0.124823034, 0.12549408, 0.12612866, 0.1273277, 0.12933438, 0.13094375, 0.13270764, 0.13355935, 0.13523547, 0.13683152, 0.13782132, 0.14033104, 0.14139235, 0.14217493, 0.14280716]\n",
      "[0.045211017, 0.06664089, 0.089913905, 0.10797105, 0.1233608, 0.13838765, 0.15444323, 0.17118154, 0.18599465, 0.20103951, 0.21541658, 0.22753818, 0.23991537, 0.25123382, 0.2629432, 0.27177015, 0.28127542, 0.29195276, 0.3009808, 0.3090586, 0.3166078, 0.32389602, 0.3316065, 0.33864045, 0.34583053, 0.351319, 0.357732, 0.3623351, 0.36808938, 0.37315384, 0.37867412, 0.38498893, 0.38972884, 0.39488703, 0.3994415, 0.40448284, 0.40989667, 0.41352162, 0.41780606, 0.4219798, 0.4267488, 0.43081403, 0.43540344, 0.4393751, 0.44342843, 0.44720927, 0.45128632, 0.4559985, 0.45964336, 0.46311674] \n",
      "\n",
      "Check the graph\n",
      "\n"
     ]
    },
    {
     "data": {
      "image/png": "[encoded data removed]",
      "text/plain": [
       "<Figure size 432x288 with 1 Axes>"
      ]
     },
     "metadata": {
      "needs_background": "light"
     },
     "output_type": "display_data"
    }
   ],
   "source": [
    "from scipy.spatial import distance\n",
    "\n",
    "dist_0, dist_2, dist_4, dist_6, dist_7  = [], [], [], [], []\n",
    "\n",
    "for global_epoch in range(G_epoch): #1이 맞음 = 바꾸지 말기\n",
    "    for layer_index in num_layers_list:\n",
    "        globals()['G{}_w_layer{}'.format(global_epoch, layer_index)] = 0    \n",
    "\n",
    "\n",
    "for global_epoch in range(G_epoch-1):    #2가 맞음 = 바꾸지 말기\n",
    "    for layer_index in num_layers_list:\n",
    "        var_w = 0\n",
    "        for sks in range(globals()['G{}_num_clusters_in_layer{}_w'.format(global_epoch, layer_index)]):\n",
    "            var_w = var_w + globals()['G{}_c{}_w_layer{}'.format(global_epoch, sks, layer_index)]\n",
    "\n",
    "        var_w = var_w/globals()['G{}_num_clusters_in_layer{}_w'.format(global_epoch, layer_index)]\n",
    "\n",
    "        globals()['G{}_w_layer{}'.format(global_epoch, layer_index)] = var_w\n",
    "        globals()['dist_{}'.format(layer_index)].append(np.mean(distance.euclidean(globals()['G{}_w_layer{}'.format(global_epoch, layer_index)], globals()['G{}_w_layer{}'.format(global_epoch+1, layer_index)])))\n",
    "\n",
    "print(\"Distance Layer 0,2,4,6,7\\n--------------------------------------------------------------------------------------------------\")\n",
    "print(dist_0)\n",
    "print(dist_2)\n",
    "print(dist_4)\n",
    "print(dist_6)\n",
    "print(dist_7, \"\\n\\nCheck the graph\\n\")\n",
    "\n",
    "plt.plot(dist_0)\n",
    "plt.plot(dist_2)\n",
    "plt.plot(dist_4)\n",
    "plt.plot(dist_6)\n",
    "plt.plot(dist_7)\n",
    "\n",
    "plt.show()"
   ]
  },
  {
   "cell_type": "code",
   "execution_count": 15,
   "metadata": {
    "colab": {
     "base_uri": "https://localhost:8080/",
     "height": 483
    },
    "executionInfo": {
     "elapsed": 281,
     "status": "ok",
     "timestamp": 1627663393778,
     "user": {
      "displayName": "이훈민",
      "photoUrl": "",
      "userId": "00157268181097362793"
     },
     "user_tz": 240
    },
    "id": "4vSuPXEKhOVJ",
    "outputId": "63be1f9c-a0aa-4a2d-e582-008d021662f2"
   },
   "outputs": [
    {
     "name": "stdout",
     "output_type": "stream",
     "text": [
      "[[0.5059999823570251, 0.5019999742507935, 0.42800000309944153, 0.4519999921321869, 0.49399998784065247, 0.4300000071525574, 0.4740000069141388, 0.4339999854564667, 0.44200000166893005, 0.49799999594688416, 0.44999998807907104, 0.44200000166893005, 0.4519999921321869, 0.4860000014305115, 0.4320000112056732, 0.4959999918937683, 0.4560000002384186, 0.42399999499320984, 0.4339999854564667, 0.4259999990463257], [0.37400001287460327, 0.3059999942779541, 0.3919999897480011, 0.421999990940094, 0.3659999966621399, 0.4560000002384186, 0.3580000102519989, 0.37400001287460327, 0.3959999978542328, 0.3659999966621399, 0.3779999911785126, 0.38999998569488525, 0.35600000619888306, 0.3240000009536743, 0.3479999899864197, 0.3720000088214874, 0.4020000100135803, 0.3880000114440918, 0.3880000114440918, 0.3540000021457672], [0.40400001406669617, 0.3779999911785126, 0.4180000126361847, 0.3580000102519989, 0.3919999897480011, 0.47200000286102295, 0.4020000100135803, 0.421999990940094, 0.33000001311302185, 0.4259999990463257, 0.40799999237060547, 0.4000000059604645, 0.414000004529953, 0.43799999356269836, 0.44999998807907104, 0.414000004529953, 0.35199999809265137, 0.414000004529953, 0.4359999895095825, 0.3959999978542328], [0.47600001096725464, 0.4519999921321869, 0.46000000834465027, 0.46399998664855957, 0.46000000834465027, 0.4099999964237213, 0.414000004529953, 0.4740000069141388, 0.44600000977516174, 0.44200000166893005, 0.4180000126361847, 0.4819999933242798, 0.4480000138282776, 0.4620000123977661, 0.45399999618530273, 0.4659999907016754, 0.42399999499320984, 0.4359999895095825, 0.4059999883174896, 0.4880000054836273], [0.5019999742507935, 0.4860000014305115, 0.44600000977516174, 0.492000013589859, 0.5040000081062317, 0.5099999904632568, 0.46799999475479126, 0.4819999933242798, 0.46000000834465027, 0.5040000081062317, 0.492000013589859, 0.492000013589859, 0.45399999618530273, 0.4259999990463257, 0.47999998927116394, 0.5, 0.4440000057220459, 0.5019999742507935, 0.4519999921321869, 0.4740000069141388], [0.4959999918937683, 0.5299999713897705, 0.5419999957084656, 0.49799999594688416, 0.49399998784065247, 0.515999972820282, 0.5059999823570251, 0.5339999794960022, 0.5080000162124634, 0.5239999890327454, 0.5320000052452087, 0.49000000953674316, 0.5099999904632568, 0.5720000267028809, 0.515999972820282, 0.5080000162124634, 0.5400000214576721, 0.5, 0.5139999985694885, 0.4860000014305115], [0.5400000214576721, 0.5379999876022339, 0.5120000243186951, 0.49000000953674316, 0.5680000185966492, 0.5339999794960022, 0.5360000133514404, 0.5419999957084656, 0.4959999918937683, 0.5379999876022339, 0.5019999742507935, 0.47200000286102295, 0.5799999833106995, 0.5720000267028809, 0.515999972820282, 0.5199999809265137, 0.5580000281333923, 0.5339999794960022, 0.527999997138977, 0.5099999904632568], [0.5440000295639038, 0.5659999847412109, 0.5640000104904175, 0.5540000200271606, 0.5460000038146973, 0.5260000228881836, 0.5339999794960022, 0.5720000267028809, 0.5440000295639038, 0.5580000281333923, 0.550000011920929, 0.5239999890327454, 0.527999997138977, 0.515999972820282, 0.5019999742507935, 0.5659999847412109, 0.5519999861717224, 0.5360000133514404, 0.5180000066757202, 0.5540000200271606], [0.5239999890327454, 0.5320000052452087, 0.5460000038146973, 0.5419999957084656, 0.5419999957084656, 0.5680000185966492, 0.5699999928474426, 0.5559999942779541, 0.5460000038146973, 0.5460000038146973, 0.5519999861717224, 0.4779999852180481, 0.5460000038146973, 0.5740000009536743, 0.5360000133514404, 0.6240000128746033, 0.5899999737739563, 0.5339999794960022, 0.49000000953674316, 0.5619999766349792], [0.578000009059906, 0.5659999847412109, 0.5799999833106995, 0.5419999957084656, 0.5960000157356262, 0.5720000267028809, 0.5139999985694885, 0.5839999914169312, 0.5759999752044678, 0.5559999942779541, 0.5920000076293945, 0.5339999794960022, 0.5600000023841858, 0.5600000023841858, 0.5440000295639038, 0.5540000200271606, 0.527999997138977, 0.5440000295639038, 0.5040000081062317, 0.6000000238418579], [0.5619999766349792, 0.5759999752044678, 0.593999981880188, 0.5759999752044678, 0.5879999995231628, 0.5400000214576721, 0.550000011920929, 0.5519999861717224, 0.5400000214576721, 0.5820000171661377, 0.6000000238418579, 0.5360000133514404, 0.5519999861717224, 0.5619999766349792, 0.5400000214576721, 0.5640000104904175, 0.5600000023841858, 0.5479999780654907, 0.5680000185966492, 0.5799999833106995], [0.6119999885559082, 0.5740000009536743, 0.578000009059906, 0.5960000157356262, 0.5600000023841858, 0.49799999594688416, 0.6140000224113464, 0.5699999928474426, 0.5799999833106995, 0.6259999871253967, 0.5740000009536743, 0.5820000171661377, 0.6039999723434448, 0.5619999766349792, 0.6019999980926514, 0.578000009059906, 0.5680000185966492, 0.5960000157356262, 0.5759999752044678, 0.5740000009536743], [0.5619999766349792, 0.5519999861717224, 0.5899999737739563, 0.5640000104904175, 0.5960000157356262, 0.5600000023841858, 0.5460000038146973, 0.5720000267028809, 0.5839999914169312, 0.6079999804496765, 0.6039999723434448, 0.5720000267028809, 0.5659999847412109, 0.5120000243186951, 0.578000009059906, 0.5419999957084656, 0.6019999980926514, 0.6100000143051147, 0.5540000200271606, 0.5860000252723694], [0.5659999847412109, 0.5759999752044678, 0.6119999885559082, 0.621999979019165, 0.5680000185966492, 0.5580000281333923, 0.6079999804496765, 0.6000000238418579, 0.6340000033378601, 0.5680000185966492, 0.6240000128746033, 0.6039999723434448, 0.5960000157356262, 0.5659999847412109, 0.5839999914169312, 0.5799999833106995, 0.6159999966621399, 0.6179999709129333, 0.5839999914169312, 0.5820000171661377], [0.5640000104904175, 0.5799999833106995, 0.6159999966621399, 0.6039999723434448, 0.6380000114440918, 0.5879999995231628, 0.6200000047683716, 0.628000020980835, 0.5839999914169312, 0.6320000290870667, 0.5680000185966492, 0.5699999928474426, 0.5979999899864197, 0.5519999861717224, 0.5799999833106995, 0.550000011920929, 0.6119999885559082, 0.6100000143051147, 0.5839999914169312, 0.5860000252723694], [0.5920000076293945, 0.5820000171661377, 0.6140000224113464, 0.5879999995231628, 0.6039999723434448, 0.5239999890327454, 0.6179999709129333, 0.6299999952316284, 0.5860000252723694, 0.621999979019165, 0.6060000061988831, 0.5400000214576721, 0.5879999995231628, 0.5699999928474426, 0.6019999980926514, 0.6000000238418579, 0.6299999952316284, 0.5839999914169312, 0.5979999899864197, 0.5979999899864197], [0.6140000224113464, 0.5540000200271606, 0.5860000252723694, 0.6019999980926514, 0.5920000076293945, 0.5799999833106995, 0.5720000267028809, 0.5600000023841858, 0.5820000171661377, 0.5920000076293945, 0.621999979019165, 0.5860000252723694, 0.5839999914169312, 0.5559999942779541, 0.6240000128746033, 0.6240000128746033, 0.6200000047683716, 0.5680000185966492, 0.5920000076293945, 0.5860000252723694], [0.6240000128746033, 0.6200000047683716, 0.628000020980835, 0.6039999723434448, 0.6240000128746033, 0.5619999766349792, 0.5979999899864197, 0.5879999995231628, 0.6079999804496765, 0.6200000047683716, 0.6380000114440918, 0.578000009059906, 0.5820000171661377, 0.5979999899864197, 0.6380000114440918, 0.628000020980835, 0.6079999804496765, 0.5920000076293945, 0.6019999980926514, 0.6200000047683716], [0.593999981880188, 0.5879999995231628, 0.6039999723434448, 0.6140000224113464, 0.5659999847412109, 0.5839999914169312, 0.5899999737739563, 0.6259999871253967, 0.6039999723434448, 0.656000018119812, 0.6140000224113464, 0.5860000252723694, 0.6299999952316284, 0.5600000023841858, 0.5920000076293945, 0.6100000143051147, 0.6340000033378601, 0.6359999775886536, 0.5799999833106995, 0.6299999952316284], [0.6359999775886536, 0.5820000171661377, 0.6299999952316284, 0.6259999871253967, 0.6240000128746033, 0.5239999890327454, 0.6600000262260437, 0.5839999914169312, 0.621999979019165, 0.6200000047683716, 0.6439999938011169, 0.5839999914169312, 0.6060000061988831, 0.5979999899864197, 0.6159999966621399, 0.5839999914169312, 0.6060000061988831, 0.6320000290870667, 0.5979999899864197, 0.6119999885559082], [0.6179999709129333, 0.6019999980926514, 0.5899999737739563, 0.593999981880188, 0.6340000033378601, 0.5839999914169312, 0.6359999775886536, 0.5740000009536743, 0.6320000290870667, 0.6359999775886536, 0.6259999871253967, 0.5839999914169312, 0.6159999966621399, 0.5839999914169312, 0.6399999856948853, 0.656000018119812, 0.5879999995231628, 0.6439999938011169, 0.578000009059906, 0.6539999842643738], [0.6039999723434448, 0.5899999737739563, 0.6340000033378601, 0.6060000061988831, 0.5960000157356262, 0.5699999928474426, 0.5920000076293945, 0.6320000290870667, 0.6480000019073486, 0.6039999723434448, 0.6539999842643738, 0.6119999885559082, 0.6079999804496765, 0.6380000114440918, 0.6380000114440918, 0.5699999928474426, 0.6320000290870667, 0.6019999980926514, 0.6079999804496765, 0.6140000224113464], [0.6240000128746033, 0.5960000157356262, 0.6000000238418579, 0.6340000033378601, 0.593999981880188, 0.5580000281333923, 0.6119999885559082, 0.6499999761581421, 0.5699999928474426, 0.6259999871253967, 0.6299999952316284, 0.6039999723434448, 0.6320000290870667, 0.6119999885559082, 0.6399999856948853, 0.6200000047683716, 0.6420000195503235, 0.6200000047683716, 0.6299999952316284, 0.6179999709129333], [0.6179999709129333, 0.6359999775886536, 0.6420000195503235, 0.628000020980835, 0.5920000076293945, 0.6159999966621399, 0.6000000238418579, 0.5860000252723694, 0.621999979019165, 0.6200000047683716, 0.6259999871253967, 0.5680000185966492, 0.6359999775886536, 0.6520000100135803, 0.6000000238418579, 0.6439999938011169, 0.6460000276565552, 0.6000000238418579, 0.6259999871253967, 0.6299999952316284], [0.5979999899864197, 0.6520000100135803, 0.6019999980926514, 0.6060000061988831, 0.5879999995231628, 0.5640000104904175, 0.5820000171661377, 0.628000020980835, 0.6159999966621399, 0.621999979019165, 0.6499999761581421, 0.5540000200271606, 0.6579999923706055, 0.6819999814033508, 0.5740000009536743, 0.6000000238418579, 0.6179999709129333, 0.6240000128746033, 0.6240000128746033, 0.5440000295639038], [0.6119999885559082, 0.6460000276565552, 0.6380000114440918, 0.6259999871253967, 0.6359999775886536, 0.6399999856948853, 0.6179999709129333, 0.593999981880188, 0.656000018119812, 0.5879999995231628, 0.6700000166893005, 0.5960000157356262, 0.5759999752044678, 0.621999979019165, 0.5759999752044678, 0.6660000085830688, 0.6320000290870667, 0.6399999856948853, 0.6299999952316284, 0.6539999842643738], [0.6299999952316284, 0.6499999761581421, 0.6299999952316284, 0.6499999761581421, 0.6159999966621399, 0.5540000200271606, 0.6779999732971191, 0.6039999723434448, 0.6179999709129333, 0.6240000128746033, 0.6600000262260437, 0.6159999966621399, 0.6620000004768372, 0.621999979019165, 0.621999979019165, 0.6480000019073486, 0.6539999842643738, 0.5979999899864197, 0.621999979019165, 0.6399999856948853], [0.6140000224113464, 0.6480000019073486, 0.6359999775886536, 0.5979999899864197, 0.5759999752044678, 0.578000009059906, 0.6019999980926514, 0.6140000224113464, 0.6660000085830688, 0.6159999966621399, 0.6679999828338623, 0.550000011920929, 0.6039999723434448, 0.6159999966621399, 0.6019999980926514, 0.6520000100135803, 0.6499999761581421, 0.6320000290870667, 0.6359999775886536, 0.6240000128746033], [0.6759999990463257, 0.656000018119812, 0.6179999709129333, 0.6420000195503235, 0.6240000128746033, 0.5699999928474426, 0.6380000114440918, 0.6039999723434448, 0.6259999871253967, 0.6000000238418579, 0.593999981880188, 0.6019999980926514, 0.6399999856948853, 0.628000020980835, 0.6539999842643738, 0.6100000143051147, 0.6000000238418579, 0.6159999966621399, 0.6299999952316284, 0.6420000195503235], [0.6079999804496765, 0.6159999966621399, 0.6399999856948853, 0.6100000143051147, 0.6420000195503235, 0.6119999885559082, 0.6759999990463257, 0.6480000019073486, 0.621999979019165, 0.621999979019165, 0.6380000114440918, 0.5339999794960022, 0.6320000290870667, 0.6140000224113464, 0.5920000076293945, 0.6399999856948853, 0.6240000128746033, 0.6499999761581421, 0.6359999775886536, 0.6179999709129333], [0.6420000195503235, 0.6359999775886536, 0.6539999842643738, 0.656000018119812, 0.6299999952316284, 0.5860000252723694, 0.5960000157356262, 0.628000020980835, 0.6460000276565552, 0.6539999842643738, 0.6320000290870667, 0.5979999899864197, 0.6060000061988831, 0.6420000195503235, 0.6399999856948853, 0.6520000100135803, 0.6600000262260437, 0.6439999938011169, 0.6060000061988831, 0.621999979019165], [0.6399999856948853, 0.6200000047683716, 0.6700000166893005, 0.6320000290870667, 0.6340000033378601, 0.5640000104904175, 0.6420000195503235, 0.5960000157356262, 0.6600000262260437, 0.6480000019073486, 0.6039999723434448, 0.6100000143051147, 0.6480000019073486, 0.6320000290870667, 0.6240000128746033, 0.6399999856948853, 0.6359999775886536, 0.6420000195503235, 0.6299999952316284, 0.621999979019165], [0.6439999938011169, 0.6200000047683716, 0.6620000004768372, 0.6259999871253967, 0.621999979019165, 0.5920000076293945, 0.6439999938011169, 0.6620000004768372, 0.6119999885559082, 0.6140000224113464, 0.6480000019073486, 0.6039999723434448, 0.6439999938011169, 0.6320000290870667, 0.6740000247955322, 0.6460000276565552, 0.6460000276565552, 0.6420000195503235, 0.6520000100135803, 0.6420000195503235], [0.6179999709129333, 0.6940000057220459, 0.6179999709129333, 0.6320000290870667, 0.6499999761581421, 0.5839999914169312, 0.628000020980835, 0.6039999723434448, 0.6679999828338623, 0.6179999709129333, 0.656000018119812, 0.5899999737739563, 0.6700000166893005, 0.6399999856948853, 0.6240000128746033, 0.6959999799728394, 0.6499999761581421, 0.6539999842643738, 0.6380000114440918, 0.6480000019073486], [0.6620000004768372, 0.6320000290870667, 0.621999979019165, 0.6700000166893005, 0.6499999761581421, 0.5839999914169312, 0.6539999842643738, 0.6200000047683716, 0.6740000247955322, 0.6439999938011169, 0.6359999775886536, 0.5839999914169312, 0.6299999952316284, 0.6480000019073486, 0.6200000047683716, 0.6660000085830688, 0.6259999871253967, 0.6179999709129333, 0.6480000019073486, 0.6819999814033508], [0.6200000047683716, 0.6200000047683716, 0.6380000114440918, 0.656000018119812, 0.6539999842643738, 0.5920000076293945, 0.6620000004768372, 0.6240000128746033, 0.6679999828338623, 0.671999990940094, 0.656000018119812, 0.6320000290870667, 0.671999990940094, 0.6100000143051147, 0.6740000247955322, 0.6620000004768372, 0.6420000195503235, 0.6579999923706055, 0.6340000033378601, 0.6100000143051147], [0.6240000128746033, 0.6420000195503235, 0.6299999952316284, 0.6320000290870667, 0.6299999952316284, 0.6240000128746033, 0.6320000290870667, 0.6420000195503235, 0.6520000100135803, 0.6179999709129333, 0.671999990940094, 0.5559999942779541, 0.6499999761581421, 0.6520000100135803, 0.6399999856948853, 0.6200000047683716, 0.6340000033378601, 0.628000020980835, 0.6299999952316284, 0.6480000019073486], [0.6079999804496765, 0.6259999871253967, 0.6140000224113464, 0.6159999966621399, 0.6299999952316284, 0.6179999709129333, 0.656000018119812, 0.6060000061988831, 0.6420000195503235, 0.6200000047683716, 0.6380000114440918, 0.5960000157356262, 0.621999979019165, 0.628000020980835, 0.621999979019165, 0.628000020980835, 0.6579999923706055, 0.6240000128746033, 0.6179999709129333, 0.5839999914169312], [0.578000009059906, 0.6399999856948853, 0.6639999747276306, 0.6240000128746033, 0.6340000033378601, 0.5799999833106995, 0.6660000085830688, 0.6179999709129333, 0.6480000019073486, 0.6240000128746033, 0.6320000290870667, 0.5699999928474426, 0.6600000262260437, 0.6499999761581421, 0.621999979019165, 0.6200000047683716, 0.6539999842643738, 0.6380000114440918, 0.6159999966621399, 0.5860000252723694], [0.6539999842643738, 0.6639999747276306, 0.6439999938011169, 0.6439999938011169, 0.6019999980926514, 0.5619999766349792, 0.6480000019073486, 0.6259999871253967, 0.6039999723434448, 0.6679999828338623, 0.6259999871253967, 0.6179999709129333, 0.6460000276565552, 0.6259999871253967, 0.6539999842643738, 0.628000020980835, 0.6620000004768372, 0.6399999856948853, 0.6539999842643738, 0.6299999952316284], [0.6140000224113464, 0.6520000100135803, 0.6359999775886536, 0.6579999923706055, 0.6579999923706055, 0.5759999752044678, 0.6299999952316284, 0.6639999747276306, 0.6359999775886536, 0.6200000047683716, 0.6439999938011169, 0.5320000052452087, 0.656000018119812, 0.6639999747276306, 0.6620000004768372, 0.6779999732971191, 0.6840000152587891, 0.656000018119812, 0.6740000247955322, 0.6380000114440918], [0.6499999761581421, 0.6740000247955322, 0.6499999761581421, 0.6320000290870667, 0.6100000143051147, 0.628000020980835, 0.6600000262260437, 0.6499999761581421, 0.6579999923706055, 0.6499999761581421, 0.621999979019165, 0.5960000157356262, 0.6579999923706055, 0.6039999723434448, 0.6039999723434448, 0.6259999871253967, 0.6259999871253967, 0.6499999761581421, 0.6380000114440918, 0.6620000004768372], [0.6600000262260437, 0.6179999709129333, 0.656000018119812, 0.6579999923706055, 0.6620000004768372, 0.593999981880188, 0.5979999899864197, 0.6019999980926514, 0.6520000100135803, 0.6499999761581421, 0.6480000019073486, 0.5519999861717224, 0.6340000033378601, 0.6240000128746033, 0.6159999966621399, 0.6620000004768372, 0.6539999842643738, 0.6399999856948853, 0.6499999761581421, 0.6539999842643738], [0.6179999709129333, 0.6600000262260437, 0.6700000166893005, 0.6840000152587891, 0.6399999856948853, 0.6019999980926514, 0.6200000047683716, 0.6079999804496765, 0.6299999952316284, 0.6399999856948853, 0.6299999952316284, 0.6200000047683716, 0.6840000152587891, 0.6700000166893005, 0.621999979019165, 0.6439999938011169, 0.6340000033378601, 0.656000018119812, 0.6299999952316284, 0.671999990940094], [0.6759999990463257, 0.656000018119812, 0.6499999761581421, 0.6620000004768372, 0.6620000004768372, 0.6179999709129333, 0.6420000195503235, 0.6600000262260437, 0.6740000247955322, 0.6759999990463257, 0.6439999938011169, 0.6140000224113464, 0.6200000047683716, 0.628000020980835, 0.6140000224113464, 0.6420000195503235, 0.6340000033378601, 0.6539999842643738, 0.628000020980835, 0.6980000138282776], [0.6200000047683716, 0.6380000114440918, 0.671999990940094, 0.6899999976158142, 0.6880000233650208, 0.5540000200271606, 0.6179999709129333, 0.6520000100135803, 0.6159999966621399, 0.6480000019073486, 0.6299999952316284, 0.6359999775886536, 0.6240000128746033, 0.628000020980835, 0.656000018119812, 0.6340000033378601, 0.6539999842643738, 0.6539999842643738, 0.656000018119812, 0.6159999966621399], [0.6499999761581421, 0.6380000114440918, 0.6660000085830688, 0.5920000076293945, 0.6259999871253967, 0.5920000076293945, 0.671999990940094, 0.6600000262260437, 0.6200000047683716, 0.6660000085830688, 0.6119999885559082, 0.6100000143051147, 0.6320000290870667, 0.6200000047683716, 0.656000018119812, 0.5960000157356262, 0.6299999952316284, 0.6340000033378601, 0.6539999842643738, 0.6480000019073486], [0.6259999871253967, 0.656000018119812, 0.6779999732971191, 0.6499999761581421, 0.6140000224113464, 0.6200000047683716, 0.6679999828338623, 0.6240000128746033, 0.6359999775886536, 0.6740000247955322, 0.6399999856948853, 0.6039999723434448, 0.6359999775886536, 0.6439999938011169, 0.6399999856948853, 0.6320000290870667, 0.6620000004768372, 0.6460000276565552, 0.6639999747276306, 0.628000020980835], [0.6159999966621399, 0.6320000290870667, 0.6919999718666077, 0.671999990940094, 0.6660000085830688, 0.6079999804496765, 0.6740000247955322, 0.6679999828338623, 0.6320000290870667, 0.6499999761581421, 0.6620000004768372, 0.6060000061988831, 0.6340000033378601, 0.6520000100135803, 0.6200000047683716, 0.6639999747276306, 0.6100000143051147, 0.6460000276565552, 0.6480000019073486, 0.6399999856948853], [0.6159999966621399, 0.6620000004768372, 0.628000020980835, 0.6259999871253967, 0.6880000233650208, 0.5799999833106995, 0.6779999732971191, 0.6340000033378601, 0.6539999842643738, 0.6420000195503235, 0.6460000276565552, 0.5960000157356262, 0.656000018119812, 0.6179999709129333, 0.6019999980926514, 0.6660000085830688, 0.6399999856948853, 0.6399999856948853, 0.6340000033378601, 0.6700000166893005], [0.6639999747276306, 0.6499999761581421, 0.7099999785423279, 0.6539999842643738, 0.6520000100135803, 0.593999981880188, 0.6819999814033508, 0.6480000019073486, 0.6600000262260437, 0.6359999775886536, 0.6439999938011169, 0.6179999709129333, 0.6880000233650208, 0.6600000262260437, 0.6299999952316284, 0.6460000276565552, 0.6060000061988831, 0.6639999747276306, 0.6359999775886536, 0.6779999732971191]]\n",
      "[[1.438122272491455, 1.40289306640625, 1.5663870573043823, 1.558241605758667, 1.4936566352844238, 1.5132097005844116, 1.5147439241409302, 1.6816574335098267, 1.6090543270111084, 1.4320589303970337, 1.50931978225708, 1.5828202962875366, 1.473228931427002, 1.4822440147399902, 1.4832122325897217, 1.4825166463851929, 1.468234658241272, 1.6319708824157715, 1.5680153369903564, 1.5606188774108887], [1.6519978046417236, 1.7292553186416626, 1.6896930932998657, 1.6442779302597046, 1.6868929862976074, 1.4989451169967651, 1.714027762413025, 1.6453584432601929, 1.6818766593933105, 1.7295725345611572, 1.698035717010498, 1.680648684501648, 1.692671537399292, 1.7508070468902588, 1.6658556461334229, 1.6863547563552856, 1.678536057472229, 1.6268467903137207, 1.6764085292816162, 1.6841686964035034], [1.5727235078811646, 1.76283860206604, 1.6955302953720093, 1.6803420782089233, 1.5793733596801758, 1.441377878189087, 1.646352767944336, 1.5170693397521973, 1.7953853607177734, 1.6136071681976318, 1.607509970664978, 1.6468619108200073, 1.5644224882125854, 1.577692985534668, 1.5707118511199951, 1.6207853555679321, 1.7324159145355225, 1.593778133392334, 1.5427062511444092, 1.700583815574646], [1.508694052696228, 1.5043727159500122, 1.51467764377594, 1.443607211112976, 1.4764214754104614, 1.6396726369857788, 1.6450599431991577, 1.4186807870864868, 1.57232666015625, 1.5544558763504028, 1.5718019008636475, 1.4102636575698853, 1.4479620456695557, 1.4796640872955322, 1.4446529150009155, 1.4895974397659302, 1.5679545402526855, 1.5428760051727295, 1.5902221202850342, 1.4798675775527954], [1.4176208972930908, 1.4039061069488525, 1.5034507513046265, 1.5022655725479126, 1.3990670442581177, 1.3738160133361816, 1.4605591297149658, 1.5035821199417114, 1.5104740858078003, 1.436887502670288, 1.4257951974868774, 1.4611331224441528, 1.5449016094207764, 1.6216310262680054, 1.4475078582763672, 1.344167709350586, 1.6856387853622437, 1.4387365579605103, 1.498447299003601, 1.4936857223510742], [1.6328542232513428, 1.2978602647781372, 1.2952862977981567, 1.4068522453308105, 1.5239498615264893, 1.3762825727462769, 1.4968868494033813, 1.4133470058441162, 1.479732632637024, 1.4592852592468262, 1.3582502603530884, 1.3926453590393066, 1.3789151906967163, 1.3359870910644531, 1.4531302452087402, 1.5442218780517578, 1.2686601877212524, 1.4686517715454102, 1.4819188117980957, 1.5724653005599976], [1.442421555519104, 1.4798139333724976, 1.5158159732818604, 1.4664520025253296, 1.3403249979019165, 1.5628588199615479, 1.4594553709030151, 1.3586221933364868, 1.5167492628097534, 1.3836168050765991, 1.5552982091903687, 1.4872132539749146, 1.248097538948059, 1.3331738710403442, 1.4175665378570557, 1.3943874835968018, 1.371274709701538, 1.4458755254745483, 1.4699097871780396, 1.4753681421279907], [1.4429584741592407, 1.433510184288025, 1.5626213550567627, 1.368404507637024, 1.4313784837722778, 1.6159383058547974, 1.5919259786605835, 1.3544315099716187, 1.460802435874939, 1.4473572969436646, 1.4578964710235596, 1.513708472251892, 1.5119980573654175, 1.6152219772338867, 1.6615480184555054, 1.3245002031326294, 1.4174883365631104, 1.5977909564971924, 1.4161782264709473, 1.4501793384552002], [1.6149876117706299, 1.7377498149871826, 1.535515546798706, 1.657968282699585, 1.7026121616363525, 1.701540231704712, 1.5103931427001953, 1.4434213638305664, 1.5739505290985107, 1.6733976602554321, 1.5079753398895264, 1.6299850940704346, 1.4691978693008423, 1.5089068412780762, 1.71334969997406, 1.3155437707901, 1.3888850212097168, 1.6037808656692505, 1.553821325302124, 1.51103675365448], [1.5747464895248413, 1.5816196203231812, 1.6943843364715576, 1.706958532333374, 1.4495797157287598, 1.8870207071304321, 1.6835362911224365, 1.5249817371368408, 1.6165494918823242, 1.6061049699783325, 1.5665909051895142, 1.6277127265930176, 1.6497929096221924, 1.870928168296814, 1.6109161376953125, 1.6525800228118896, 1.654286503791809, 1.7463266849517822, 1.6592645645141602, 1.6073637008666992], [1.7452445030212402, 1.7207584381103516, 1.8037545680999756, 1.9021308422088623, 1.521857500076294, 2.0923216342926025, 2.0411248207092285, 1.9222887754440308, 1.800917625427246, 1.6607621908187866, 1.7280232906341553, 1.7933071851730347, 2.049039840698242, 1.7629001140594482, 1.758420467376709, 1.8058850765228271, 1.8099043369293213, 1.9696274995803833, 1.6178032159805298, 1.8552111387252808], [1.589907169342041, 1.7428686618804932, 1.8298237323760986, 1.7358014583587646, 1.7883142232894897, 2.585501194000244, 1.6694303750991821, 1.7509796619415283, 1.8249238729476929, 1.7063109874725342, 2.1195645332336426, 1.9260891675949097, 1.6989777088165283, 1.838808536529541, 1.662587285041809, 1.8273426294326782, 1.9690388441085815, 1.697361707687378, 1.7379348278045654, 1.8776580095291138], [1.8689286708831787, 1.8828078508377075, 1.915305733680725, 2.019817352294922, 1.9897124767303467, 2.2866673469543457, 2.1031112670898438, 1.8367990255355835, 1.832374930381775, 1.8146172761917114, 1.8774110078811646, 1.6770418882369995, 2.067528486251831, 2.0876476764678955, 2.0115416049957275, 2.1413919925689697, 1.8784199953079224, 1.8225493431091309, 2.0649545192718506, 1.9675620794296265], [1.866868495941162, 1.8847532272338867, 1.8415237665176392, 1.8121540546417236, 2.0754008293151855, 2.4056501388549805, 1.821649193763733, 1.9045923948287964, 1.7108107805252075, 2.0676379203796387, 1.9564142227172852, 1.6976925134658813, 1.997568130493164, 2.1858670711517334, 1.953736662864685, 2.1357734203338623, 1.8855239152908325, 1.7123377323150635, 1.7499945163726807, 2.041579008102417], [2.1739912033081055, 1.994485855102539, 1.8032586574554443, 1.9573638439178467, 1.8611541986465454, 2.204463005065918, 1.855971097946167, 1.7749114036560059, 1.804283857345581, 2.071976900100708, 2.1723766326904297, 1.874064564704895, 2.0131397247314453, 2.3199193477630615, 2.1256353855133057, 2.4758994579315186, 2.126244068145752, 2.125223398208618, 1.9672576189041138, 1.9819960594177246], [1.899316430091858, 2.0924575328826904, 2.1067867279052734, 2.181441068649292, 2.083528757095337, 2.7111785411834717, 1.9950125217437744, 1.76717209815979, 2.1926920413970947, 1.9142628908157349, 1.9199591875076294, 2.3777925968170166, 1.982528805732727, 2.3705430030822754, 1.8792880773544312, 2.249190092086792, 1.7971476316452026, 2.1132094860076904, 1.8635637760162354, 2.0470244884490967], [1.9766548871994019, 2.1367948055267334, 2.1637885570526123, 2.239243984222412, 2.2787814140319824, 2.3284008502960205, 2.036454916000366, 2.3627681732177734, 2.0939011573791504, 2.3316285610198975, 2.0317018032073975, 2.0139670372009277, 2.2037227153778076, 2.4560413360595703, 2.0163943767547607, 2.1444780826568604, 2.0635321140289307, 2.4266974925994873, 1.9843120574951172, 2.1698973178863525], [2.0372231006622314, 1.8966364860534668, 2.0568647384643555, 2.0328292846679688, 1.996188998222351, 2.3367433547973633, 2.2398576736450195, 2.1290829181671143, 2.258747100830078, 2.0636322498321533, 1.9583343267440796, 2.0869908332824707, 2.020583152770996, 2.4446582794189453, 1.9178946018218994, 2.1110739707946777, 2.2845983505249023, 2.3359508514404297, 2.0399656295776367, 2.1504077911376953], [1.9785810708999634, 2.3269264698028564, 2.2971134185791016, 2.1597514152526855, 2.165902853012085, 2.4579875469207764, 2.273314952850342, 2.054833173751831, 2.1573429107666016, 1.919906497001648, 2.0123684406280518, 2.167253017425537, 2.3249945640563965, 2.4579906463623047, 2.3084092140197754, 2.2122533321380615, 2.0402097702026367, 1.991048812866211, 2.348707437515259, 2.2235476970672607], [2.0051445960998535, 2.418728828430176, 1.810249924659729, 2.178520441055298, 1.8395440578460693, 2.9539926052093506, 2.023850440979004, 2.6307005882263184, 2.3458261489868164, 2.1756672859191895, 1.8889464139938354, 2.037808656692505, 2.368805408477783, 2.3972673416137695, 1.8950400352478027, 2.5700650215148926, 2.137838125228882, 2.0528628826141357, 2.0027527809143066, 2.3805925846099854], [2.0010576248168945, 1.94540536403656, 2.33743953704834, 2.704200029373169, 2.049473524093628, 2.372812271118164, 2.0783705711364746, 2.7212817668914795, 2.1678030490875244, 2.07663893699646, 1.9852432012557983, 2.3714332580566406, 2.230771541595459, 2.3857619762420654, 1.9866820573806763, 1.808963656425476, 2.410109281539917, 2.042314052581787, 2.1089725494384766, 2.0643343925476074], [2.1623663902282715, 2.4055097103118896, 2.1365458965301514, 2.038559913635254, 2.2967395782470703, 2.624798059463501, 2.4187917709350586, 2.2714486122131348, 2.151806354522705, 2.2446398735046387, 2.0359601974487305, 2.064727544784546, 2.433180570602417, 1.979769229888916, 2.090501308441162, 2.712841033935547, 2.0546512603759766, 2.1432924270629883, 2.1034092903137207, 1.9593652486801147], [1.895263433456421, 2.6425833702087402, 2.474527359008789, 2.1689631938934326, 2.256049156188965, 2.747121572494507, 2.23286771774292, 2.175947904586792, 2.649535655975342, 1.9816722869873047, 1.993808627128601, 2.2378838062286377, 2.0997061729431152, 2.0703272819519043, 1.9253021478652954, 2.5249366760253906, 2.035820484161377, 2.385786771774292, 2.2326974868774414, 2.407186508178711], [2.5724587440490723, 2.012179374694824, 2.2765889167785645, 2.416443347930908, 2.6044228076934814, 2.227750301361084, 2.6640894412994385, 2.2066681385040283, 2.052011013031006, 2.0636980533599854, 2.1162238121032715, 2.301528215408325, 2.0861170291900635, 2.2105700969696045, 2.613036870956421, 2.065265655517578, 2.418339729309082, 2.119882822036743, 2.1694302558898926, 2.188713550567627], [2.276181697845459, 1.9587024450302124, 2.2233119010925293, 2.478086471557617, 2.247828960418701, 2.787180185317993, 2.4906203746795654, 2.242091178894043, 2.2816102504730225, 2.3171803951263428, 2.0871684551239014, 2.600508213043213, 1.9477927684783936, 1.911779522895813, 2.694941759109497, 2.1947216987609863, 2.1118125915527344, 2.406625747680664, 2.139246940612793, 2.603598117828369], [2.1978399753570557, 2.268516778945923, 2.2522690296173096, 2.331106424331665, 2.3805201053619385, 2.1406261920928955, 2.388413190841675, 2.310969829559326, 2.0209622383117676, 2.5077033042907715, 1.9824285507202148, 2.3485140800476074, 2.682527780532837, 2.4255118370056152, 2.382077693939209, 2.1254630088806152, 2.0087530612945557, 2.2397258281707764, 2.2758994102478027, 2.0778491497039795], [2.2017529010772705, 2.3268449306488037, 2.316884994506836, 2.288038730621338, 2.0984585285186768, 3.223201274871826, 1.7474713325500488, 2.273529529571533, 1.97428297996521, 2.1123247146606445, 2.2001659870147705, 2.295640468597412, 1.8846068382263184, 2.2581026554107666, 1.929199457168579, 1.9354705810546875, 1.962868332862854, 2.7079036235809326, 2.2488796710968018, 2.0244977474212646], [2.150947332382202, 1.967360496520996, 2.3616693019866943, 2.3263633251190186, 2.768503427505493, 2.2039363384246826, 2.6142406463623047, 2.0177881717681885, 2.2225232124328613, 2.3109047412872314, 1.994170904159546, 2.3793416023254395, 2.1673059463500977, 2.433558464050293, 2.398611307144165, 1.9846527576446533, 2.002930164337158, 2.3076257705688477, 2.2457165718078613, 2.4849064350128174], [2.0047898292541504, 2.0899953842163086, 2.269012689590454, 2.152559280395508, 2.0788614749908447, 2.8627891540527344, 2.284181594848633, 2.3764488697052, 2.2199809551239014, 2.6041131019592285, 2.347985029220581, 2.1877777576446533, 2.0477094650268555, 2.4668116569519043, 2.017857074737549, 2.522381544113159, 2.2148423194885254, 2.280330181121826, 2.348522424697876, 1.8293386697769165], [2.3851048946380615, 2.2903714179992676, 2.251559257507324, 2.317437171936035, 2.0895724296569824, 2.5659236907958984, 1.9037928581237793, 2.131091356277466, 2.000675916671753, 2.139939069747925, 2.2084007263183594, 2.6246814727783203, 2.2812867164611816, 2.247786521911621, 2.489523410797119, 2.430704116821289, 2.5103511810302734, 2.2571916580200195, 2.226486921310425, 2.438004732131958], [2.214444637298584, 2.1216795444488525, 2.1921796798706055, 2.2439088821411133, 2.1839241981506348, 2.471740484237671, 2.697549819946289, 2.1782145500183105, 2.360015630722046, 2.206056833267212, 2.274150848388672, 2.1094775199890137, 2.404111862182617, 2.220184564590454, 2.0334866046905518, 2.231090784072876, 1.953506350517273, 2.1363508701324463, 2.4206135272979736, 2.2815866470336914], [2.115694999694824, 2.173222303390503, 2.0861237049102783, 2.298978090286255, 2.4320785999298096, 2.908344268798828, 2.164069890975952, 2.7273221015930176, 2.1884076595306396, 2.0523552894592285, 2.453169107437134, 2.2012343406677246, 2.367704153060913, 2.074585437774658, 2.4219677448272705, 2.298499822616577, 2.4575562477111816, 2.4339888095855713, 2.2352490425109863, 2.253814697265625], [2.1216518878936768, 2.5423336029052734, 2.175797939300537, 2.1228981018066406, 2.351529359817505, 2.6097426414489746, 2.2860629558563232, 2.007727861404419, 2.532001256942749, 2.5662317276000977, 2.1607019901275635, 2.4061038494110107, 2.129257917404175, 2.189544916152954, 1.9209516048431396, 2.3048949241638184, 2.4002773761749268, 2.4792590141296387, 2.285386800765991, 2.4596540927886963], [2.1761581897735596, 1.9254090785980225, 2.616427183151245, 2.3504951000213623, 2.375485420227051, 2.9140381813049316, 2.394123077392578, 2.6250884532928467, 1.923414707183838, 2.2522165775299072, 2.306884527206421, 2.1338112354278564, 2.30547833442688, 2.2150142192840576, 2.1749610900878906, 1.9715425968170166, 2.2931244373321533, 2.2654225826263428, 2.6159651279449463, 2.398247003555298], [2.027362108230591, 2.3816075325012207, 2.4080374240875244, 2.1257104873657227, 2.2554030418395996, 2.7918851375579834, 2.3253140449523926, 2.218270778656006, 2.2853493690490723, 2.0596425533294678, 2.2264397144317627, 2.1917927265167236, 2.588575601577759, 2.1436917781829834, 2.394071340560913, 2.1046152114868164, 2.6371214389801025, 2.1813340187072754, 2.174025058746338, 1.9908121824264526], [2.338655471801758, 2.638925313949585, 2.3602371215820312, 2.126433849334717, 2.2886648178100586, 2.777517080307007, 2.0740227699279785, 2.1892783641815186, 2.4647347927093506, 2.1047661304473877, 2.4019150733947754, 2.0113465785980225, 2.1363441944122314, 2.712156295776367, 2.0787277221679688, 2.1187667846679688, 2.176542043685913, 2.1068735122680664, 2.1311686038970947, 2.675121545791626], [2.101991891860962, 2.5003480911254883, 2.460947036743164, 2.4851179122924805, 2.4278483390808105, 2.5657958984375, 2.27368426322937, 2.3004250526428223, 2.1519908905029297, 2.419921636581421, 2.127973794937134, 2.512096643447876, 2.2804994583129883, 2.313802719116211, 2.159122943878174, 2.537332773208618, 2.5003151893615723, 2.3967883586883545, 2.354809522628784, 2.3442611694335938], [2.7331080436706543, 2.402310848236084, 2.1031997203826904, 2.52731990814209, 2.3809735774993896, 2.3889052867889404, 2.47300386428833, 2.4130756855010986, 2.4223716259002686, 2.352686882019043, 2.585211753845215, 2.016099452972412, 2.4644930362701416, 2.4003827571868896, 2.312878370285034, 2.1494882106781006, 2.1424925327301025, 2.5169596672058105, 2.4357078075408936, 2.852201223373413], [2.674807071685791, 2.4159762859344482, 2.3106377124786377, 2.182218074798584, 2.5802736282348633, 2.8413496017456055, 2.3831422328948975, 2.5037622451782227, 2.160757541656494, 2.182814121246338, 2.2541723251342773, 2.251220226287842, 2.0386312007904053, 2.5754778385162354, 2.737169027328491, 2.4935507774353027, 2.247073173522949, 2.4384047985076904, 2.108729600906372, 2.7610349655151367], [2.1400625705718994, 2.10052490234375, 2.359865665435791, 2.195823907852173, 2.540121555328369, 2.7710630893707275, 2.345505714416504, 2.4660937786102295, 2.8080153465270996, 2.2317070960998535, 2.4827535152435303, 2.1398396492004395, 2.1871354579925537, 2.388288736343384, 2.0066604614257812, 2.249389886856079, 2.2003884315490723, 2.5537970066070557, 2.2582144737243652, 2.401463031768799], [2.487316608428955, 2.39945125579834, 2.3179352283477783, 2.3268842697143555, 2.3403139114379883, 2.6521146297454834, 2.3466460704803467, 1.9075746536254883, 2.1526436805725098, 2.4380125999450684, 2.2355496883392334, 2.3021254539489746, 2.24116587638855, 2.4000422954559326, 2.3130061626434326, 1.9369269609451294, 1.896100640296936, 2.1920738220214844, 2.33028244972229, 2.596048355102539], [2.4383347034454346, 2.2190096378326416, 2.5424225330352783, 2.104353904724121, 2.4872708320617676, 2.471785545349121, 2.284525156021118, 2.192354917526245, 2.3225815296173096, 2.1270499229431152, 2.5772650241851807, 2.304377555847168, 2.4302685260772705, 2.692164421081543, 2.476707696914673, 2.383941888809204, 2.4218130111694336, 2.2501306533813477, 2.389796257019043, 2.4678118228912354], [2.2831904888153076, 2.3961181640625, 2.479036331176758, 2.197796106338501, 2.454813241958618, 2.893411636352539, 2.9282968044281006, 2.427532434463501, 2.224276065826416, 2.30753231048584, 2.2826876640319824, 2.5787625312805176, 2.40061092376709, 2.3268916606903076, 2.578568696975708, 2.0400640964508057, 2.197234630584717, 2.3948795795440674, 2.3691189289093018, 2.5236732959747314], [2.6329054832458496, 2.1884543895721436, 2.1617634296417236, 2.1680078506469727, 2.254880428314209, 2.3732080459594727, 2.3282713890075684, 2.672299861907959, 2.6864585876464844, 2.2070560455322266, 2.6710205078125, 2.25167179107666, 2.313377618789673, 2.2610974311828613, 2.39119029045105, 2.1920063495635986, 2.1956422328948975, 2.190328598022461, 2.4038820266723633, 2.0943286418914795], [2.116185188293457, 2.2504096031188965, 2.601428508758545, 2.200960159301758, 2.500887870788574, 2.550834894180298, 2.5841660499572754, 2.1959474086761475, 2.0722310543060303, 2.2154006958007812, 2.456385612487793, 2.1642298698425293, 2.516869306564331, 2.4780209064483643, 2.3380391597747803, 2.1557610034942627, 2.306941509246826, 2.418306827545166, 2.3832287788391113, 1.8124070167541504], [2.129657745361328, 2.510585308074951, 2.518867015838623, 2.1783759593963623, 2.217283010482788, 2.833500862121582, 2.3030076026916504, 2.3296234607696533, 2.5752315521240234, 2.5893807411193848, 2.4760642051696777, 2.089658498764038, 2.4087464809417725, 2.4895575046539307, 2.2620136737823486, 2.541504383087158, 1.9988224506378174, 2.505545139312744, 2.095180034637451, 2.643951654434204], [2.5004312992095947, 2.4112277030944824, 2.3497848510742188, 2.647681713104248, 2.707329273223877, 2.7103891372680664, 2.182219982147217, 2.155566453933716, 2.338711977005005, 2.258544683456421, 2.536663770675659, 2.2800590991973877, 2.779909610748291, 2.6750991344451904, 2.0288095474243164, 2.762152671813965, 2.5819430351257324, 2.617011308670044, 2.23071551322937, 2.1440250873565674], [2.2968764305114746, 2.1643614768981934, 2.15921950340271, 2.274284601211548, 2.531414270401001, 2.674849510192871, 2.32607364654541, 2.616448402404785, 2.346578359603882, 2.48114275932312, 2.4963698387145996, 2.344914197921753, 2.606764793395996, 2.2605390548706055, 2.5213656425476074, 2.359290361404419, 2.148519992828369, 2.1738171577453613, 2.451850175857544, 2.272141695022583], [2.5896992683410645, 2.5504841804504395, 2.0564584732055664, 2.2090187072753906, 2.2620809078216553, 2.586000919342041, 2.014817953109741, 2.1031687259674072, 2.2698514461517334, 2.304042100906372, 2.117032051086426, 2.2793898582458496, 2.5881595611572266, 2.4556362628936768, 2.8731017112731934, 2.440396547317505, 2.511422634124756, 2.0870373249053955, 2.1279916763305664, 2.4648377895355225], [2.8524258136749268, 2.3584723472595215, 2.641345739364624, 2.4092705249786377, 1.9117252826690674, 2.5791945457458496, 2.2201058864593506, 2.3352739810943604, 2.4344642162323, 2.53568434715271, 2.5258030891418457, 1.949460506439209, 2.519699811935425, 2.5458030700683594, 2.729659080505371, 1.9591792821884155, 2.367717742919922, 2.696518659591675, 2.49001145362854, 2.245863199234009], [2.4090211391448975, 2.2166073322296143, 1.890727162361145, 2.3482260704040527, 2.517526388168335, 2.4589343070983887, 2.2072908878326416, 2.5028181076049805, 2.5414397716522217, 2.30008864402771, 2.3324551582336426, 2.0852322578430176, 1.9580028057098389, 2.508762836456299, 2.426492214202881, 2.493299961090088, 2.5996057987213135, 2.1225082874298096, 2.464893102645874, 2.4420645236968994]] \n",
      "\n",
      "\n",
      "\n"
     ]
    },
    {
     "data": {
      "image/png": "[encoded data removed]",
      "text/plain": [
       "<Figure size 1152x576 with 1 Axes>"
      ]
     },
     "metadata": {
      "needs_background": "light"
     },
     "output_type": "display_data"
    }
   ],
   "source": [
    "average_acc_cluster_list, average_loss_cluster_list = [], []\n",
    "\n",
    "\n",
    "for i in range(len(Cluster_ACC)):    \n",
    "    average_acc_cluster_list.append(np.mean(Cluster_ACC[i]))\n",
    "    average_loss_cluster_list.append(np.mean(Cluster_LOSS[i]))\n",
    "\n",
    "    \n",
    "plt.figure(figsize=(16,8))\n",
    "plt.plot(average_acc_cluster_list, label='Cluster Acc')\n",
    "print(Cluster_ACC)\n",
    "print(Cluster_LOSS,\"\\n\\n\\n\")\n",
    "plt.plot(average_loss_cluster_list, label='Cluster Loss')\n",
    "\n",
    "plt.grid(True)\n",
    "plt.legend()\n",
    "plt.show()\n"
   ]
  },
  {
   "cell_type": "code",
   "execution_count": null,
   "metadata": {
    "id": "7afw9VS7PwPX"
   },
   "outputs": [],
   "source": []
  }
 ],
 "metadata": {
  "colab": {
   "authorship_tag": "ABX9TyM706Cwuwf90ucbkvXVEEaX",
   "collapsed_sections": [],
   "name": "Test1_paper_Clustering.ipynb",
   "provenance": []
  },
  "kernelspec": {
   "display_name": "Python 3",
   "language": "python",
   "name": "python3"
  },
  "language_info": {
   "codemirror_mode": {
    "name": "ipython",
    "version": 3
   },
   "file_extension": ".py",
   "mimetype": "text/x-python",
   "name": "python",
   "nbconvert_exporter": "python",
   "pygments_lexer": "ipython3",
   "version": "3.8.8"
  }
 },
 "nbformat": 4,
 "nbformat_minor": 1
}
