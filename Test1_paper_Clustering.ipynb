{
 "cells": [
  {
   "cell_type": "code",
   "execution_count": 4,
   "metadata": {
    "executionInfo": {
     "elapsed": 3787,
     "status": "ok",
     "timestamp": 1627658864261,
     "user": {
      "displayName": "이훈민",
      "photoUrl": "",
      "userId": "00157268181097362793"
     },
     "user_tz": 240
    },
    "id": "cg7gm5FVyA3r"
   },
   "outputs": [],
   "source": [
    "import numpy as np\n",
    "import tensorflow as tf\n",
    "import matplotlib.pyplot as plt\n",
    "import sys\n",
    "import time\n",
    "import math\n",
    "import random\n",
    "import copy\n",
    "import warnings\n",
    "warnings.simplefilter(action='ignore', category=FutureWarning)\n",
    "\n",
    "import keras\n",
    "from tensorflow import keras\n",
    "from keras.models import Sequential\n",
    "from keras.layers import Dense, Dropout, Flatten\n",
    "from tensorflow.keras import datasets, layers, models\n",
    "from keras.layers.convolutional import Conv2D, MaxPooling2D\n",
    "from keras.layers import Dense, Activation, Flatten, Conv2D, MaxPooling2D\n",
    "from keras.utils.np_utils import to_categorical\n",
    "from sklearn.cluster import KMeans, AgglomerativeClustering\n",
    "#from tensorflow.keras.datasets import cifar10 \n",
    "from keras.datasets import fashion_mnist \n",
    "#from sklearn.metrics import silhouette_samples, silhouette_score\n",
    "\n",
    "mod = sys.modules[__name__]"
   ]
  },
  {
   "cell_type": "code",
   "execution_count": 2,
   "metadata": {
    "executionInfo": {
     "elapsed": 29,
     "status": "ok",
     "timestamp": 1627658864287,
     "user": {
      "displayName": "이훈민",
      "photoUrl": "",
      "userId": "00157268181097362793"
     },
     "user_tz": 240
    },
    "id": "-gn3HoNnyGdo"
   },
   "outputs": [],
   "source": [
    "def distribution_check(dataset):\n",
    "        #분포가 다름;\n",
    "    one,two,three,four,five,six,seven,eight,nine,ten=0,0,0,0,0,0,0,0,0,0\n",
    "\n",
    "    for i in range(len(dataset)):\n",
    "        if(dataset[i]==1):    one+=1\n",
    "        elif(dataset[i]==2):  two+=1\n",
    "        elif(dataset[i]==3):  three+=1\n",
    "        elif(dataset[i]==4):  four+=1\n",
    "        elif(dataset[i]==5):  five+=1\n",
    "        elif(dataset[i]==6):  six+=1\n",
    "        elif(dataset[i]==7):  seven+=1\n",
    "        elif(dataset[i]==8):  eight+=1\n",
    "        elif(dataset[i]==9):  nine+=1\n",
    "        elif(dataset[i]==0):  ten+=1\n",
    "\n",
    "    #print(one,two,three,four,five,six,seven,eight,nine,ten)\n",
    "    #print(\"Sum : \", one+two+three+four+five+six+seven+eight+nine+ten)\n",
    "    sums = one+two+three+four+five+six+seven+eight+nine+ten\n",
    "    for_graph=[one,two,three,four,five,six,seven,eight,nine,ten]\n",
    "    \n",
    "    return for_graph, sums\n",
    "\n",
    "def local_model_generate(model): #초기 모델 생성\n",
    "    model = models.Sequential()\n",
    "    model.add(layers.Conv2D(32, (3, 3), activation='relu', input_shape=(28, 28, 1)))\n",
    "    model.add(layers.MaxPooling2D((2, 2)))\n",
    "    model.add(layers.Conv2D(64, (3, 3), activation='relu'))\n",
    "    model.add(layers.MaxPooling2D((2, 2)))\n",
    "    model.add(layers.Conv2D(64, (3, 3), activation='relu'))\n",
    "    model.add(layers.Flatten())\n",
    "    model.add(layers.Dense(64, activation='relu'))\n",
    "    model.add(layers.Dense(10, activation='softmax'))\n",
    "    \n",
    "    return model\n",
    "\n",
    "def step_function(data):\n",
    "    if data > 0:\n",
    "        return 1\n",
    "    else:\n",
    "        return 0\n",
    "\n",
    "def sigmoid(data):\n",
    "    return 1/(1+np.exp(-data))\n",
    "\n",
    "def relu(data):\n",
    "    return np.maximum(0,data)\n",
    "\n",
    "def random_check(local, train_data, test_data):\n",
    "    check_distribution_train_data, check_distribution_test_data, y_train_tmp, y_test_tmp = [], [], [], []\n",
    "    sum1, sum2, data_index = 0,0, np.arange(0,10)\n",
    "\n",
    "    for j in range(len(train_data)):\n",
    "        y_train_tmp.append(np.argmax(train_data[j])) #원핫인코딩에서 다시 0~9 레이블로 변환\n",
    "\n",
    "    for j in range(len(test_data)):\n",
    "        y_test_tmp.append(np.argmax(test_data[j]))\n",
    "\n",
    "    check_distribution_train_data, sum_train = distribution_check(y_train_tmp) #한번 밖에 실행 못함\n",
    "    check_distribution_test_data, sum_test = distribution_check(y_test_tmp)\n",
    "    sum1, sum2 = (sum1 + sum_train), (sum2 + sum_test)\n",
    "    \n",
    "    return check_distribution_train_data, check_distribution_test_data\n"
   ]
  },
  {
   "cell_type": "code",
   "execution_count": 5,
   "metadata": {
    "colab": {
     "base_uri": "https://localhost:8080/"
    },
    "executionInfo": {
     "elapsed": 1990,
     "status": "ok",
     "timestamp": 1627658866249,
     "user": {
      "displayName": "이훈민",
      "photoUrl": "",
      "userId": "00157268181097362793"
     },
     "user_tz": 240
    },
    "id": "CSRQl-noyHx9",
    "outputId": "caa9e16f-3624-4192-907b-6a4530663e7e"
   },
   "outputs": [
    {
     "name": "stdout",
     "output_type": "stream",
     "text": [
      "(60000, 28, 28) (10000, 28, 28)\n"
     ]
    }
   ],
   "source": [
    "(x_train, y_train), (x_test, y_test) = fashion_mnist.load_data()\n",
    "print(x_train.shape, x_test.shape)\n",
    "num_train, num_test = len(x_train),  len(x_test) "
   ]
  },
  {
   "cell_type": "code",
   "execution_count": 6,
   "metadata": {},
   "outputs": [],
   "source": [
    "#원래 로컬 21, 에폭 4"
   ]
  },
  {
   "cell_type": "code",
   "execution_count": 9,
   "metadata": {
    "executionInfo": {
     "elapsed": 6,
     "status": "ok",
     "timestamp": 1627658866250,
     "user": {
      "displayName": "이훈민",
      "photoUrl": "",
      "userId": "00157268181097362793"
     },
     "user_tz": 240
    },
    "id": "YvgMHy1ByI7c"
   },
   "outputs": [],
   "source": [
    "local = 10 # 10개 : 1~10 => 11은 포함 안됨\n",
    "batch_size, epochs = 32, 5\n",
    "global_epoch = 0\n",
    "num_layers = 8"
   ]
  },
  {
   "cell_type": "code",
   "execution_count": 7,
   "metadata": {
    "colab": {
     "base_uri": "https://localhost:8080/"
    },
    "executionInfo": {
     "elapsed": 5,
     "status": "ok",
     "timestamp": 1627658866250,
     "user": {
      "displayName": "이훈민",
      "photoUrl": "",
      "userId": "00157268181097362793"
     },
     "user_tz": 240
    },
    "id": "NtlWlG2EyKwJ",
    "outputId": "13d78e48-942e-469a-b62b-408c864761b2"
   },
   "outputs": [
    {
     "name": "stdout",
     "output_type": "stream",
     "text": [
      "Step 1 x_train shape: (60000, 28, 28)\n",
      "Step 2 x_train shape: (60000, 28, 28, 1)\n",
      "60000 train samples\n",
      "10000 test samples\n"
     ]
    }
   ],
   "source": [
    "# Model / data parameters\n",
    "num_classes = 10\n",
    "input_shape = (28, 28, 1)\n",
    "\n",
    "# Scale images to the [0, 1] range\n",
    "x_train = x_train.astype(\"float32\") / 255\n",
    "x_test = x_test.astype(\"float32\") / 255\n",
    "\n",
    "print(\"Step 1 x_train shape:\", x_train.shape)\n",
    "\n",
    "x_train = x_train.reshape((num_train, 28, 28, 1))\n",
    "x_test = x_test.reshape((num_test, 28, 28, 1))\n",
    "\n",
    "print(\"Step 2 x_train shape:\", x_train.shape)\n",
    "print(x_train.shape[0], \"train samples\")\n",
    "print(x_test.shape[0], \"test samples\")\n",
    "# convert class vectors to binary class matrices => one hot encoding 지금은 [3,6,2,5,4,8..] 섞여있음 \n",
    "\n",
    "y_train = keras.utils.to_categorical(y_train, num_classes)\n",
    "y_test = keras.utils.to_categorical(y_test, num_classes)"
   ]
  },
  {
   "cell_type": "code",
   "execution_count": 10,
   "metadata": {
    "colab": {
     "base_uri": "https://localhost:8080/"
    },
    "executionInfo": {
     "elapsed": 966,
     "status": "ok",
     "timestamp": 1627662382510,
     "user": {
      "displayName": "이훈민",
      "photoUrl": "",
      "userId": "00157268181097362793"
     },
     "user_tz": 240
    },
    "id": "I2uyTUGiyaSd",
    "outputId": "9701b3af-beec-4180-ce33-198e018376bd"
   },
   "outputs": [
    {
     "name": "stdout",
     "output_type": "stream",
     "text": [
      "0  번째 global_epoch 데이터 랜덤하게 준비!!\n",
      "0  번째 global_epoch 데이터 랜덤 준비완료!!\n"
     ]
    }
   ],
   "source": [
    "#랜덤 비복원추출, 동등하게 10% 씩 =  로컬 데이터 추출 ------------------------------------------------------------------------------\n",
    "\n",
    "global_epoch = 0\n",
    "\n",
    "print(global_epoch, \" 번째 global_epoch 데이터 랜덤하게 준비!!\")\n",
    "\n",
    "for i in range(1,local): #데이터 변수 선언, 빈 리스트로 초기화\n",
    "    globals()['L{}_x_train'.format(i)], globals()['L{}_x_test'.format(i)] = [], []  \n",
    "    globals()['L{}_y_train'.format(i)], globals()['L{}_y_test'.format(i)] = [], []  \n",
    "\n",
    "x_train_range = list(np.arange(0,len(x_train)))  #0~59,999\n",
    "x_test_range = list(np.arange(0,len(x_test)))  #0~9,999\n",
    "\n",
    "for n in range(1,local): #Data_x_train_range, 잘 작동함 => 확인 완료\n",
    "    tmp, tmp2 = [], []\n",
    "    tmp = random.sample(list(x_train_range), int(num_train/(local-1)))  #1/10개 만큼 인덱스 랜덤 비복원 추출 => 랜덤으로 해야함\n",
    "    tmp2 = random.sample(list(x_test_range), int(num_test/(local-1)))\n",
    "\n",
    "    for i in range(len(tmp)):\n",
    "        globals()['L{}_x_train'.format(n)].append(x_train[tmp[i]])  #n번째 Cluster에 분할한 실제 x_train 데이터 저장\n",
    "        globals()['L{}_y_train'.format(n)].append(y_train[tmp[i]]) \n",
    "        #x_train_range.remove(tmp[i])  #랜덤 하게 뽑힌 원소 6000개 추출했으니 안에서 삭제 => 비복원 추출\n",
    "\n",
    "    for j in range(len(tmp2)):\n",
    "        globals()['L{}_x_test'.format(n)].append(x_test[tmp2[j]])\n",
    "        globals()['L{}_y_test'.format(n)].append(y_test[tmp2[j]])\n",
    "        #x_test_range.remove(tmp2[j])  #랜덤 하게 뽑힌 원소 6000개 추출했으니 안에서 삭제 => 비복원 추출\n",
    "\n",
    "print(global_epoch, \" 번째 global_epoch 데이터 랜덤 준비완료!!\")"
   ]
  },
  {
   "cell_type": "code",
   "execution_count": 12,
   "metadata": {
    "colab": {
     "base_uri": "https://localhost:8080/"
    },
    "executionInfo": {
     "elapsed": 24199,
     "status": "ok",
     "timestamp": 1627662407910,
     "user": {
      "displayName": "이훈민",
      "photoUrl": "",
      "userId": "00157268181097362793"
     },
     "user_tz": 240
    },
    "id": "LztCjgrY1OxS",
    "outputId": "cb761dc5-55c2-4118-93b3-7833cd8f4629"
   },
   "outputs": [
    {
     "name": "stdout",
     "output_type": "stream",
     "text": [
      "\n",
      "\n",
      " 0 번째 global epoch에서 로컬 클라이언트 학습시작!\n",
      "\n",
      "학습 중 ...\n",
      "\n",
      "35/35 - 0s - loss: 0.5101 - accuracy: 0.8101\n",
      "35/35 - 0s - loss: 0.4095 - accuracy: 0.8425\n",
      "35/35 - 0s - loss: 0.4507 - accuracy: 0.8380\n",
      "35/35 - 0s - loss: 0.4520 - accuracy: 0.8389\n",
      "35/35 - 0s - loss: 0.5486 - accuracy: 0.8083\n",
      "35/35 - 0s - loss: 0.4411 - accuracy: 0.8434\n",
      "35/35 - 0s - loss: 0.4761 - accuracy: 0.8200\n",
      "35/35 - 0s - loss: 0.4431 - accuracy: 0.8371\n",
      "35/35 - 0s - loss: 0.4642 - accuracy: 0.8263\n",
      "0 번째 global epoch 로컬 클라이언트 학습완료!,  Total Training time :  110.21860194206238 \n",
      "\n",
      "\n"
     ]
    },
    {
     "name": "stderr",
     "output_type": "stream",
     "text": [
      "<ipython-input-12-5ccc8fde199e>:95: VisibleDeprecationWarning: Creating an ndarray from ragged nested sequences (which is a list-or-tuple of lists-or-tuples-or ndarrays with different lengths or shapes) is deprecated. If you meant to do this, you must specify 'dtype=object' when creating the ndarray\n",
      "  globals()['G{}_c{}_w_layer{}'.format(global_epoch, num_c_w, layer_index)] = globals()['G{}_c{}_w_layer{}'.format(global_epoch, num_c_w, layer_index)] + np.array(globals()['L{}_layer{}_w'.format(i,layer_index)])          # 일반 클러스터링\n",
      "<ipython-input-12-5ccc8fde199e>:95: VisibleDeprecationWarning: Creating an ndarray from ragged nested sequences (which is a list-or-tuple of lists-or-tuples-or ndarrays with different lengths or shapes) is deprecated. If you meant to do this, you must specify 'dtype=object' when creating the ndarray\n",
      "  globals()['G{}_c{}_w_layer{}'.format(global_epoch, num_c_w, layer_index)] = globals()['G{}_c{}_w_layer{}'.format(global_epoch, num_c_w, layer_index)] + np.array(globals()['L{}_layer{}_w'.format(i,layer_index)])          # 일반 클러스터링\n",
      "<ipython-input-12-5ccc8fde199e>:95: VisibleDeprecationWarning: Creating an ndarray from ragged nested sequences (which is a list-or-tuple of lists-or-tuples-or ndarrays with different lengths or shapes) is deprecated. If you meant to do this, you must specify 'dtype=object' when creating the ndarray\n",
      "  globals()['G{}_c{}_w_layer{}'.format(global_epoch, num_c_w, layer_index)] = globals()['G{}_c{}_w_layer{}'.format(global_epoch, num_c_w, layer_index)] + np.array(globals()['L{}_layer{}_w'.format(i,layer_index)])          # 일반 클러스터링\n",
      "<ipython-input-12-5ccc8fde199e>:95: VisibleDeprecationWarning: Creating an ndarray from ragged nested sequences (which is a list-or-tuple of lists-or-tuples-or ndarrays with different lengths or shapes) is deprecated. If you meant to do this, you must specify 'dtype=object' when creating the ndarray\n",
      "  globals()['G{}_c{}_w_layer{}'.format(global_epoch, num_c_w, layer_index)] = globals()['G{}_c{}_w_layer{}'.format(global_epoch, num_c_w, layer_index)] + np.array(globals()['L{}_layer{}_w'.format(i,layer_index)])          # 일반 클러스터링\n",
      "<ipython-input-12-5ccc8fde199e>:95: VisibleDeprecationWarning: Creating an ndarray from ragged nested sequences (which is a list-or-tuple of lists-or-tuples-or ndarrays with different lengths or shapes) is deprecated. If you meant to do this, you must specify 'dtype=object' when creating the ndarray\n",
      "  globals()['G{}_c{}_w_layer{}'.format(global_epoch, num_c_w, layer_index)] = globals()['G{}_c{}_w_layer{}'.format(global_epoch, num_c_w, layer_index)] + np.array(globals()['L{}_layer{}_w'.format(i,layer_index)])          # 일반 클러스터링\n"
     ]
    }
   ],
   "source": [
    "#준비된 데이터 (IID / NON-IID) np.array로\n",
    "\n",
    "local = 10\n",
    "\n",
    "global_epoch = 0\n",
    "acc, loss = 0, 0\n",
    "cluster_acc, cluster_loss, Cluster_ACC, Cluster_LOSS = [], [], [], [] \n",
    "num_layers_list = [0,2,4,6,7]\n",
    "label_list = []\n",
    "VAR_final_list_w, VAR_final_list_b = [], []\n",
    "\n",
    "\n",
    "for i in range(1,local):\n",
    "    globals()['L{}_x_train'.format(i)] = np.array(globals()['L{}_x_train'.format(i)])\n",
    "    globals()['L{}_x_test'.format(i)] = np.array(globals()['L{}_x_test'.format(i)])\n",
    "    globals()['L{}_y_train'.format(i)] = np.array(globals()['L{}_y_train'.format(i)])\n",
    "    globals()['L{}_y_test'.format(i)] = np.array(globals()['L{}_y_test'.format(i)])\n",
    "\n",
    "\n",
    "print(\"\\n\\n\",global_epoch, \"번째 global epoch에서 로컬 클라이언트 학습시작!\\n\\n학습 중 ...\\n\")\n",
    "now = time.time()\n",
    "\n",
    "for i in range(1,local):\n",
    "    globals()['FedAvg_L{}_iter{}_model'.format(i, global_epoch)] = models.Sequential()  ##!!!!!!! 이게 글로벌 epoch에서는 2번째 부터 들어가면 안됨\n",
    "    globals()['FedAvg_L{}_iter{}_model'.format(i, global_epoch)] = local_model_generate(globals()['FedAvg_L{}_iter{}_model'.format(i, global_epoch)])      # initialize 필요 => 모델 프레임 구축\n",
    "\n",
    "    globals()['FedAvg_L{}_iter{}_model'.format(i, global_epoch)].compile(loss=\"categorical_crossentropy\", optimizer=\"adam\", metrics=[\"accuracy\"])\n",
    "\n",
    "    globals()['FedAvg_L{}_iter{}_model'.format(i, global_epoch)].fit(globals()['L{}_x_train'.format(i)], globals()['L{}_y_train'.format(i)], batch_size=batch_size, epochs=epochs, validation_split=0.1, verbose=0)\n",
    "\n",
    "    loss, acc = globals()['FedAvg_L{}_iter{}_model'.format(i, global_epoch)].evaluate(globals()['L{}_x_test'.format(i,global_epoch)], globals()['L{}_y_test'.format(i)], verbose=2)\n",
    "    \n",
    "    cluster_acc.append(acc)  #acc 넣기\n",
    "    cluster_loss.append(loss)  #loss 넣기\n",
    "\n",
    "\n",
    "print(global_epoch, \"번째 global epoch 로컬 클라이언트 학습완료!,  Total Training time : \", time.time()-now,\"\\n\\n\")\n",
    "\n",
    "# 로컬 모델들 학습 완료하였고 로컬모델에서 weight, bias 추출 -------------------------------------------------------------------------------------\n",
    "\n",
    "for i in range(1, local):\n",
    "    for layer_index in num_layers_list:\n",
    "        w = globals()['FedAvg_L{}_iter{}_model'.format(i, global_epoch)].layers[layer_index].get_weights() #get_weights = w[0],b[1]로 구성\n",
    "\n",
    "        globals()['L{}_layer{}_w_tmp'.format(i,layer_index)] = w      # 클러스터링 용도\n",
    "        globals()['L{}_layer{}_w'.format(i,layer_index)] = w          # weight aggregation 용도\n",
    "            \n",
    "# 클러스터에 넣을 변수 선언\n",
    "\n",
    "for layer_index in num_layers_list:\n",
    "\n",
    "    globals()['layer{}_W_tmp'.format(layer_index)] = []\n",
    "    globals()['var_list_layer{}_w'.format(layer_index)] = []\n",
    "    globals()['var_list_layer{}_b'.format(layer_index)] = []\n",
    "  \n",
    "    for i in range(1, local):\n",
    "        globals()['var_list_layer{}_w'.format(layer_index)].append(np.var(globals()['L{}_layer{}_w'.format(i,layer_index)][0]))\n",
    "        globals()['var_list_layer{}_b'.format(layer_index)].append(np.var(globals()['L{}_layer{}_w'.format(i,layer_index)][1]))\n",
    "      \n",
    "        TMP_w = list(np.array(globals()['L{}_layer{}_w_tmp'.format(i,layer_index)][0]).reshape(-1))\n",
    "        TMP_b = list(np.array(globals()['L{}_layer{}_w_tmp'.format(i,layer_index)][1]).reshape(-1))\n",
    "        \n",
    "        TMP_w.extend(TMP_b) ##append 말고 더해야함..\n",
    "\n",
    "        TMP_w = np.array(TMP_w)\n",
    "        TMP_w = list(TMP_w.reshape(-1))\n",
    "        globals()['layer{}_W_tmp'.format(layer_index)].append(TMP_w)  #클러스터링 용도\n",
    "  \n",
    "\n",
    "    #----------------------------------------------------클러스터링 실시 -------------------------------------------------------------\n",
    "    silhoutte_score_w = []\n",
    "    transformed = globals()['layer{}_W_tmp'.format(layer_index)]\n",
    "\n",
    "    kmeans_model_w = KMeans(n_clusters=3)   # 0, 1은 silhouette 에 안먹힘      \n",
    "\n",
    "    globals()['w_layer{}_label'.format(layer_index)] = kmeans_model_w.fit_predict(transformed)       # 가장 적합한 클러스터로 레이어에 속한 로컬들 레이블 정의 \n",
    "\n",
    "    globals()['G{}_num_clusters_in_layer{}_w'.format(global_epoch, layer_index)] = 3 \n",
    "    \n",
    "    label_list.append(globals()['w_layer{}_label'.format(layer_index)])                 \n",
    "\n",
    "    # ==========> 클러스터 갯수 정해짐\n",
    "\n",
    "\n",
    "    #----------------------------------------------- 스케일링  ---------------------------------------------------------------------\n",
    "    for num_c_w in range(3): #클러스터 갯수 (num_clusters_for_w) 만큼 클러스터용 = 클러스터 갯수가 3이 나왔으면 3개를 만들어야 함\n",
    "        globals()['G{}_c{}_w_layer{}'.format(global_epoch, num_c_w, layer_index)] = 0  #각각 cluster, Act+cluster 용도  \n",
    "        \n",
    "        globals()['w_scaler_c{}_sum'.format(num_c_w)], globals()['int_c{}_w'.format(num_c_w)] = 0, 0 #초기화\n",
    "    \n",
    "        for i in range(1, local):\n",
    "            if globals()['w_layer{}_label'.format(layer_index)][i-1] == num_c_w  : # 클러스터 레이블에 맞게 (0 or 1 or 2 ..) \n",
    "                globals()['w_scaler_c{}_sum'.format(num_c_w)] = globals()['w_scaler_c{}_sum'.format(num_c_w)] + len(globals()['L{}_x_train'.format(i)])\n",
    "\n",
    "                globals()['G{}_c{}_w_layer{}'.format(global_epoch, num_c_w, layer_index)] = globals()['G{}_c{}_w_layer{}'.format(global_epoch, num_c_w, layer_index)] + np.array(globals()['L{}_layer{}_w'.format(i,layer_index)])          # 일반 클러스터링\n",
    "                \n",
    "                globals()['int_c{}_w'.format(num_c_w)] = globals()['int_c{}_w'.format(num_c_w)] + 1\n",
    "\n",
    "        globals()['w_scaler{}'.format(num_c_w)] = len(globals()['L{}_x_train'.format(i)]) / globals()['w_scaler_c{}_sum'.format(num_c_w)]\n",
    "        globals()['G{}_c{}_w_layer{}'.format(global_epoch, num_c_w, layer_index)] = globals()['G{}_c{}_w_layer{}'.format(global_epoch, num_c_w, layer_index)] / globals()['int_c{}_w'.format(num_c_w)] #레이어 별 클러스터 자기 갯수만큼 나눠주기=평균\n",
    "\n",
    "    \n",
    "    VAR_final_list_w.append(globals()['var_list_layer{}_w'.format(layer_index)])\n",
    "    VAR_final_list_b.append(globals()['var_list_layer{}_b'.format(layer_index)])\n",
    "\n",
    "#---------------------------------------------------------메모리 삭제-------------------------------------------------------------------\n",
    "\n",
    "transformed = 0\n",
    "\n",
    "Cluster_ACC.append(cluster_acc)\n",
    "Cluster_LOSS.append(cluster_loss)\n",
    "\n",
    "## G{}_num_clusters_in_layer{}_w 에 속하는 거 말고 삭제 = 메모리 낭비\n",
    "\n",
    "# Weight, bias 합친 것\n",
    " # FedAvg                   :  G{}_w_layer\n",
    " # 일반 클러스터링          :  G{}_c{}_w_layer{}               클러스터 갯수 파악 : G{}_num_clusters_in_layer{}_w\n",
    " # Actiavtion + 클러스터링  :  G{}_c{}_w_layer{}_Act           클러스터 갯수 파악 : G{}_num_clusters_in_layer{}_w_c_a"
   ]
  },
  {
   "cell_type": "code",
   "execution_count": 13,
   "metadata": {
    "colab": {
     "base_uri": "https://localhost:8080/"
    },
    "executionInfo": {
     "elapsed": 984240,
     "status": "ok",
     "timestamp": 1627663392148,
     "user": {
      "displayName": "이훈민",
      "photoUrl": "",
      "userId": "00157268181097362793"
     },
     "user_tz": 240
    },
    "id": "T6GDN301TefI",
    "outputId": "b41f1360-a8db-4f78-9d68-708195e50031",
    "scrolled": true
   },
   "outputs": [
    {
     "name": "stdout",
     "output_type": "stream",
     "text": [
      "1  번째 global_epoch 데이터 랜덤하게 준비!!\n",
      "1  번째 global_epoch 데이터 랜덤 준비완료!!\n",
      "\n",
      "\n",
      "1  번째 global epoch에서 로컬 클라이언트 들 학습시작!\n",
      "\n",
      "학습 중 ...\n",
      "\n",
      "35/35 - 0s - loss: 0.4318 - accuracy: 0.8479\n",
      "35/35 - 0s - loss: 0.5264 - accuracy: 0.8065\n",
      "35/35 - 0s - loss: 0.4861 - accuracy: 0.8146\n",
      "35/35 - 0s - loss: 0.4540 - accuracy: 0.8335\n",
      "35/35 - 0s - loss: 0.4269 - accuracy: 0.8362\n",
      "35/35 - 0s - loss: 0.4633 - accuracy: 0.8362\n",
      "35/35 - 0s - loss: 0.4747 - accuracy: 0.8326\n",
      "35/35 - 0s - loss: 0.5177 - accuracy: 0.7957\n",
      "35/35 - 0s - loss: 0.5202 - accuracy: 0.8029\n",
      "------------    1  번째 global epoch < Clustering > 로컬 클라이언트 학습 완료!,  Total Training time :  103.69141387939453 ---------------------------\n",
      "\n",
      "\n"
     ]
    },
    {
     "name": "stderr",
     "output_type": "stream",
     "text": [
      "<ipython-input-13-db1016e4f35a>:127: VisibleDeprecationWarning: Creating an ndarray from ragged nested sequences (which is a list-or-tuple of lists-or-tuples-or ndarrays with different lengths or shapes) is deprecated. If you meant to do this, you must specify 'dtype=object' when creating the ndarray\n",
      "  globals()['G{}_c{}_w_layer{}'.format(global_epoch, num_c_w, layer_index)] = globals()['G{}_c{}_w_layer{}'.format(global_epoch, num_c_w, layer_index)] + np.array(globals()['L{}_layer{}_w_c'.format(i,layer_index)])   # 일반 클러스터링\n",
      "<ipython-input-13-db1016e4f35a>:127: VisibleDeprecationWarning: Creating an ndarray from ragged nested sequences (which is a list-or-tuple of lists-or-tuples-or ndarrays with different lengths or shapes) is deprecated. If you meant to do this, you must specify 'dtype=object' when creating the ndarray\n",
      "  globals()['G{}_c{}_w_layer{}'.format(global_epoch, num_c_w, layer_index)] = globals()['G{}_c{}_w_layer{}'.format(global_epoch, num_c_w, layer_index)] + np.array(globals()['L{}_layer{}_w_c'.format(i,layer_index)])   # 일반 클러스터링\n",
      "<ipython-input-13-db1016e4f35a>:127: VisibleDeprecationWarning: Creating an ndarray from ragged nested sequences (which is a list-or-tuple of lists-or-tuples-or ndarrays with different lengths or shapes) is deprecated. If you meant to do this, you must specify 'dtype=object' when creating the ndarray\n",
      "  globals()['G{}_c{}_w_layer{}'.format(global_epoch, num_c_w, layer_index)] = globals()['G{}_c{}_w_layer{}'.format(global_epoch, num_c_w, layer_index)] + np.array(globals()['L{}_layer{}_w_c'.format(i,layer_index)])   # 일반 클러스터링\n",
      "<ipython-input-13-db1016e4f35a>:127: VisibleDeprecationWarning: Creating an ndarray from ragged nested sequences (which is a list-or-tuple of lists-or-tuples-or ndarrays with different lengths or shapes) is deprecated. If you meant to do this, you must specify 'dtype=object' when creating the ndarray\n",
      "  globals()['G{}_c{}_w_layer{}'.format(global_epoch, num_c_w, layer_index)] = globals()['G{}_c{}_w_layer{}'.format(global_epoch, num_c_w, layer_index)] + np.array(globals()['L{}_layer{}_w_c'.format(i,layer_index)])   # 일반 클러스터링\n",
      "<ipython-input-13-db1016e4f35a>:127: VisibleDeprecationWarning: Creating an ndarray from ragged nested sequences (which is a list-or-tuple of lists-or-tuples-or ndarrays with different lengths or shapes) is deprecated. If you meant to do this, you must specify 'dtype=object' when creating the ndarray\n",
      "  globals()['G{}_c{}_w_layer{}'.format(global_epoch, num_c_w, layer_index)] = globals()['G{}_c{}_w_layer{}'.format(global_epoch, num_c_w, layer_index)] + np.array(globals()['L{}_layer{}_w_c'.format(i,layer_index)])   # 일반 클러스터링\n"
     ]
    },
    {
     "name": "stdout",
     "output_type": "stream",
     "text": [
      "\n",
      "\n",
      "====================================================== One Global Epoch =====================================================================\n",
      "\n",
      "\n",
      "2  번째 global_epoch 데이터 랜덤하게 준비!!\n",
      "2  번째 global_epoch 데이터 랜덤 준비완료!!\n",
      "\n",
      "\n",
      "2  번째 global epoch에서 로컬 클라이언트 들 학습시작!\n",
      "\n",
      "학습 중 ...\n",
      "\n",
      "35/35 - 0s - loss: 0.3787 - accuracy: 0.8605\n",
      "35/35 - 0s - loss: 0.4736 - accuracy: 0.8497\n",
      "35/35 - 0s - loss: 0.4037 - accuracy: 0.8506\n",
      "35/35 - 0s - loss: 0.4246 - accuracy: 0.8506\n",
      "35/35 - 0s - loss: 0.3954 - accuracy: 0.8452\n",
      "35/35 - 0s - loss: 0.4091 - accuracy: 0.8470\n",
      "35/35 - 0s - loss: 0.5005 - accuracy: 0.8218\n",
      "35/35 - 0s - loss: 0.4872 - accuracy: 0.8254\n",
      "35/35 - 0s - loss: 0.5110 - accuracy: 0.8173\n",
      "------------    2  번째 global epoch < Clustering > 로컬 클라이언트 학습 완료!,  Total Training time :  105.03412246704102 ---------------------------\n",
      "\n",
      "\n"
     ]
    },
    {
     "name": "stderr",
     "output_type": "stream",
     "text": [
      "<ipython-input-13-db1016e4f35a>:127: VisibleDeprecationWarning: Creating an ndarray from ragged nested sequences (which is a list-or-tuple of lists-or-tuples-or ndarrays with different lengths or shapes) is deprecated. If you meant to do this, you must specify 'dtype=object' when creating the ndarray\n",
      "  globals()['G{}_c{}_w_layer{}'.format(global_epoch, num_c_w, layer_index)] = globals()['G{}_c{}_w_layer{}'.format(global_epoch, num_c_w, layer_index)] + np.array(globals()['L{}_layer{}_w_c'.format(i,layer_index)])   # 일반 클러스터링\n",
      "<ipython-input-13-db1016e4f35a>:127: VisibleDeprecationWarning: Creating an ndarray from ragged nested sequences (which is a list-or-tuple of lists-or-tuples-or ndarrays with different lengths or shapes) is deprecated. If you meant to do this, you must specify 'dtype=object' when creating the ndarray\n",
      "  globals()['G{}_c{}_w_layer{}'.format(global_epoch, num_c_w, layer_index)] = globals()['G{}_c{}_w_layer{}'.format(global_epoch, num_c_w, layer_index)] + np.array(globals()['L{}_layer{}_w_c'.format(i,layer_index)])   # 일반 클러스터링\n",
      "<ipython-input-13-db1016e4f35a>:127: VisibleDeprecationWarning: Creating an ndarray from ragged nested sequences (which is a list-or-tuple of lists-or-tuples-or ndarrays with different lengths or shapes) is deprecated. If you meant to do this, you must specify 'dtype=object' when creating the ndarray\n",
      "  globals()['G{}_c{}_w_layer{}'.format(global_epoch, num_c_w, layer_index)] = globals()['G{}_c{}_w_layer{}'.format(global_epoch, num_c_w, layer_index)] + np.array(globals()['L{}_layer{}_w_c'.format(i,layer_index)])   # 일반 클러스터링\n",
      "<ipython-input-13-db1016e4f35a>:127: VisibleDeprecationWarning: Creating an ndarray from ragged nested sequences (which is a list-or-tuple of lists-or-tuples-or ndarrays with different lengths or shapes) is deprecated. If you meant to do this, you must specify 'dtype=object' when creating the ndarray\n",
      "  globals()['G{}_c{}_w_layer{}'.format(global_epoch, num_c_w, layer_index)] = globals()['G{}_c{}_w_layer{}'.format(global_epoch, num_c_w, layer_index)] + np.array(globals()['L{}_layer{}_w_c'.format(i,layer_index)])   # 일반 클러스터링\n",
      "<ipython-input-13-db1016e4f35a>:127: VisibleDeprecationWarning: Creating an ndarray from ragged nested sequences (which is a list-or-tuple of lists-or-tuples-or ndarrays with different lengths or shapes) is deprecated. If you meant to do this, you must specify 'dtype=object' when creating the ndarray\n",
      "  globals()['G{}_c{}_w_layer{}'.format(global_epoch, num_c_w, layer_index)] = globals()['G{}_c{}_w_layer{}'.format(global_epoch, num_c_w, layer_index)] + np.array(globals()['L{}_layer{}_w_c'.format(i,layer_index)])   # 일반 클러스터링\n"
     ]
    },
    {
     "name": "stdout",
     "output_type": "stream",
     "text": [
      "\n",
      "\n",
      "====================================================== One Global Epoch =====================================================================\n",
      "\n",
      "\n",
      "3  번째 global_epoch 데이터 랜덤하게 준비!!\n",
      "3  번째 global_epoch 데이터 랜덤 준비완료!!\n",
      "\n",
      "\n",
      "3  번째 global epoch에서 로컬 클라이언트 들 학습시작!\n",
      "\n",
      "학습 중 ...\n",
      "\n",
      "35/35 - 0s - loss: 0.4300 - accuracy: 0.8434\n",
      "35/35 - 0s - loss: 0.4243 - accuracy: 0.8569\n",
      "35/35 - 0s - loss: 0.4150 - accuracy: 0.8497\n",
      "35/35 - 0s - loss: 0.3970 - accuracy: 0.8461\n",
      "35/35 - 0s - loss: 0.3541 - accuracy: 0.8605\n",
      "35/35 - 0s - loss: 0.3889 - accuracy: 0.8614\n",
      "35/35 - 0s - loss: 0.4123 - accuracy: 0.8623\n",
      "35/35 - 0s - loss: 0.4427 - accuracy: 0.8506\n",
      "35/35 - 0s - loss: 0.3909 - accuracy: 0.8632\n",
      "------------    3  번째 global epoch < Clustering > 로컬 클라이언트 학습 완료!,  Total Training time :  107.86150407791138 ---------------------------\n",
      "\n",
      "\n"
     ]
    },
    {
     "name": "stderr",
     "output_type": "stream",
     "text": [
      "<ipython-input-13-db1016e4f35a>:127: VisibleDeprecationWarning: Creating an ndarray from ragged nested sequences (which is a list-or-tuple of lists-or-tuples-or ndarrays with different lengths or shapes) is deprecated. If you meant to do this, you must specify 'dtype=object' when creating the ndarray\n",
      "  globals()['G{}_c{}_w_layer{}'.format(global_epoch, num_c_w, layer_index)] = globals()['G{}_c{}_w_layer{}'.format(global_epoch, num_c_w, layer_index)] + np.array(globals()['L{}_layer{}_w_c'.format(i,layer_index)])   # 일반 클러스터링\n",
      "<ipython-input-13-db1016e4f35a>:127: VisibleDeprecationWarning: Creating an ndarray from ragged nested sequences (which is a list-or-tuple of lists-or-tuples-or ndarrays with different lengths or shapes) is deprecated. If you meant to do this, you must specify 'dtype=object' when creating the ndarray\n",
      "  globals()['G{}_c{}_w_layer{}'.format(global_epoch, num_c_w, layer_index)] = globals()['G{}_c{}_w_layer{}'.format(global_epoch, num_c_w, layer_index)] + np.array(globals()['L{}_layer{}_w_c'.format(i,layer_index)])   # 일반 클러스터링\n",
      "<ipython-input-13-db1016e4f35a>:127: VisibleDeprecationWarning: Creating an ndarray from ragged nested sequences (which is a list-or-tuple of lists-or-tuples-or ndarrays with different lengths or shapes) is deprecated. If you meant to do this, you must specify 'dtype=object' when creating the ndarray\n",
      "  globals()['G{}_c{}_w_layer{}'.format(global_epoch, num_c_w, layer_index)] = globals()['G{}_c{}_w_layer{}'.format(global_epoch, num_c_w, layer_index)] + np.array(globals()['L{}_layer{}_w_c'.format(i,layer_index)])   # 일반 클러스터링\n",
      "<ipython-input-13-db1016e4f35a>:127: VisibleDeprecationWarning: Creating an ndarray from ragged nested sequences (which is a list-or-tuple of lists-or-tuples-or ndarrays with different lengths or shapes) is deprecated. If you meant to do this, you must specify 'dtype=object' when creating the ndarray\n",
      "  globals()['G{}_c{}_w_layer{}'.format(global_epoch, num_c_w, layer_index)] = globals()['G{}_c{}_w_layer{}'.format(global_epoch, num_c_w, layer_index)] + np.array(globals()['L{}_layer{}_w_c'.format(i,layer_index)])   # 일반 클러스터링\n",
      "<ipython-input-13-db1016e4f35a>:127: VisibleDeprecationWarning: Creating an ndarray from ragged nested sequences (which is a list-or-tuple of lists-or-tuples-or ndarrays with different lengths or shapes) is deprecated. If you meant to do this, you must specify 'dtype=object' when creating the ndarray\n",
      "  globals()['G{}_c{}_w_layer{}'.format(global_epoch, num_c_w, layer_index)] = globals()['G{}_c{}_w_layer{}'.format(global_epoch, num_c_w, layer_index)] + np.array(globals()['L{}_layer{}_w_c'.format(i,layer_index)])   # 일반 클러스터링\n"
     ]
    },
    {
     "name": "stdout",
     "output_type": "stream",
     "text": [
      "\n",
      "\n",
      "====================================================== One Global Epoch =====================================================================\n",
      "\n",
      "\n",
      "4  번째 global_epoch 데이터 랜덤하게 준비!!\n",
      "4  번째 global_epoch 데이터 랜덤 준비완료!!\n",
      "\n",
      "\n",
      "4  번째 global epoch에서 로컬 클라이언트 들 학습시작!\n",
      "\n",
      "학습 중 ...\n",
      "\n",
      "35/35 - 0s - loss: 0.3891 - accuracy: 0.8668\n",
      "35/35 - 0s - loss: 0.4075 - accuracy: 0.8479\n",
      "35/35 - 0s - loss: 0.3687 - accuracy: 0.8704\n",
      "35/35 - 0s - loss: 0.3588 - accuracy: 0.8713\n",
      "35/35 - 0s - loss: 0.4899 - accuracy: 0.8416\n",
      "35/35 - 0s - loss: 0.3853 - accuracy: 0.8569\n",
      "35/35 - 0s - loss: 0.3707 - accuracy: 0.8641\n",
      "35/35 - 0s - loss: 0.4414 - accuracy: 0.8398\n",
      "35/35 - 0s - loss: 0.3603 - accuracy: 0.8794\n",
      "------------    4  번째 global epoch < Clustering > 로컬 클라이언트 학습 완료!,  Total Training time :  115.04673862457275 ---------------------------\n",
      "\n",
      "\n"
     ]
    },
    {
     "name": "stderr",
     "output_type": "stream",
     "text": [
      "<ipython-input-13-db1016e4f35a>:127: VisibleDeprecationWarning: Creating an ndarray from ragged nested sequences (which is a list-or-tuple of lists-or-tuples-or ndarrays with different lengths or shapes) is deprecated. If you meant to do this, you must specify 'dtype=object' when creating the ndarray\n",
      "  globals()['G{}_c{}_w_layer{}'.format(global_epoch, num_c_w, layer_index)] = globals()['G{}_c{}_w_layer{}'.format(global_epoch, num_c_w, layer_index)] + np.array(globals()['L{}_layer{}_w_c'.format(i,layer_index)])   # 일반 클러스터링\n",
      "<ipython-input-13-db1016e4f35a>:127: VisibleDeprecationWarning: Creating an ndarray from ragged nested sequences (which is a list-or-tuple of lists-or-tuples-or ndarrays with different lengths or shapes) is deprecated. If you meant to do this, you must specify 'dtype=object' when creating the ndarray\n",
      "  globals()['G{}_c{}_w_layer{}'.format(global_epoch, num_c_w, layer_index)] = globals()['G{}_c{}_w_layer{}'.format(global_epoch, num_c_w, layer_index)] + np.array(globals()['L{}_layer{}_w_c'.format(i,layer_index)])   # 일반 클러스터링\n",
      "<ipython-input-13-db1016e4f35a>:127: VisibleDeprecationWarning: Creating an ndarray from ragged nested sequences (which is a list-or-tuple of lists-or-tuples-or ndarrays with different lengths or shapes) is deprecated. If you meant to do this, you must specify 'dtype=object' when creating the ndarray\n",
      "  globals()['G{}_c{}_w_layer{}'.format(global_epoch, num_c_w, layer_index)] = globals()['G{}_c{}_w_layer{}'.format(global_epoch, num_c_w, layer_index)] + np.array(globals()['L{}_layer{}_w_c'.format(i,layer_index)])   # 일반 클러스터링\n",
      "<ipython-input-13-db1016e4f35a>:127: VisibleDeprecationWarning: Creating an ndarray from ragged nested sequences (which is a list-or-tuple of lists-or-tuples-or ndarrays with different lengths or shapes) is deprecated. If you meant to do this, you must specify 'dtype=object' when creating the ndarray\n",
      "  globals()['G{}_c{}_w_layer{}'.format(global_epoch, num_c_w, layer_index)] = globals()['G{}_c{}_w_layer{}'.format(global_epoch, num_c_w, layer_index)] + np.array(globals()['L{}_layer{}_w_c'.format(i,layer_index)])   # 일반 클러스터링\n",
      "<ipython-input-13-db1016e4f35a>:127: VisibleDeprecationWarning: Creating an ndarray from ragged nested sequences (which is a list-or-tuple of lists-or-tuples-or ndarrays with different lengths or shapes) is deprecated. If you meant to do this, you must specify 'dtype=object' when creating the ndarray\n",
      "  globals()['G{}_c{}_w_layer{}'.format(global_epoch, num_c_w, layer_index)] = globals()['G{}_c{}_w_layer{}'.format(global_epoch, num_c_w, layer_index)] + np.array(globals()['L{}_layer{}_w_c'.format(i,layer_index)])   # 일반 클러스터링\n"
     ]
    },
    {
     "name": "stdout",
     "output_type": "stream",
     "text": [
      "\n",
      "\n",
      "====================================================== One Global Epoch =====================================================================\n",
      "\n",
      "\n",
      "5  번째 global_epoch 데이터 랜덤하게 준비!!\n",
      "5  번째 global_epoch 데이터 랜덤 준비완료!!\n",
      "\n",
      "\n",
      "5  번째 global epoch에서 로컬 클라이언트 들 학습시작!\n",
      "\n",
      "학습 중 ...\n",
      "\n",
      "35/35 - 0s - loss: 0.4217 - accuracy: 0.8650\n",
      "35/35 - 0s - loss: 0.4302 - accuracy: 0.8596\n",
      "35/35 - 0s - loss: 0.3636 - accuracy: 0.8794\n",
      "35/35 - 0s - loss: 0.4319 - accuracy: 0.8479\n",
      "35/35 - 0s - loss: 0.4310 - accuracy: 0.8551\n",
      "35/35 - 0s - loss: 0.3444 - accuracy: 0.8839\n",
      "35/35 - 0s - loss: 0.4048 - accuracy: 0.8596\n",
      "35/35 - 0s - loss: 0.4010 - accuracy: 0.8515\n",
      "35/35 - 0s - loss: 0.4108 - accuracy: 0.8632\n",
      "------------    5  번째 global epoch < Clustering > 로컬 클라이언트 학습 완료!,  Total Training time :  114.90326809883118 ---------------------------\n",
      "\n",
      "\n"
     ]
    },
    {
     "name": "stderr",
     "output_type": "stream",
     "text": [
      "<ipython-input-13-db1016e4f35a>:127: VisibleDeprecationWarning: Creating an ndarray from ragged nested sequences (which is a list-or-tuple of lists-or-tuples-or ndarrays with different lengths or shapes) is deprecated. If you meant to do this, you must specify 'dtype=object' when creating the ndarray\n",
      "  globals()['G{}_c{}_w_layer{}'.format(global_epoch, num_c_w, layer_index)] = globals()['G{}_c{}_w_layer{}'.format(global_epoch, num_c_w, layer_index)] + np.array(globals()['L{}_layer{}_w_c'.format(i,layer_index)])   # 일반 클러스터링\n",
      "<ipython-input-13-db1016e4f35a>:127: VisibleDeprecationWarning: Creating an ndarray from ragged nested sequences (which is a list-or-tuple of lists-or-tuples-or ndarrays with different lengths or shapes) is deprecated. If you meant to do this, you must specify 'dtype=object' when creating the ndarray\n",
      "  globals()['G{}_c{}_w_layer{}'.format(global_epoch, num_c_w, layer_index)] = globals()['G{}_c{}_w_layer{}'.format(global_epoch, num_c_w, layer_index)] + np.array(globals()['L{}_layer{}_w_c'.format(i,layer_index)])   # 일반 클러스터링\n",
      "<ipython-input-13-db1016e4f35a>:127: VisibleDeprecationWarning: Creating an ndarray from ragged nested sequences (which is a list-or-tuple of lists-or-tuples-or ndarrays with different lengths or shapes) is deprecated. If you meant to do this, you must specify 'dtype=object' when creating the ndarray\n",
      "  globals()['G{}_c{}_w_layer{}'.format(global_epoch, num_c_w, layer_index)] = globals()['G{}_c{}_w_layer{}'.format(global_epoch, num_c_w, layer_index)] + np.array(globals()['L{}_layer{}_w_c'.format(i,layer_index)])   # 일반 클러스터링\n",
      "<ipython-input-13-db1016e4f35a>:127: VisibleDeprecationWarning: Creating an ndarray from ragged nested sequences (which is a list-or-tuple of lists-or-tuples-or ndarrays with different lengths or shapes) is deprecated. If you meant to do this, you must specify 'dtype=object' when creating the ndarray\n",
      "  globals()['G{}_c{}_w_layer{}'.format(global_epoch, num_c_w, layer_index)] = globals()['G{}_c{}_w_layer{}'.format(global_epoch, num_c_w, layer_index)] + np.array(globals()['L{}_layer{}_w_c'.format(i,layer_index)])   # 일반 클러스터링\n",
      "<ipython-input-13-db1016e4f35a>:127: VisibleDeprecationWarning: Creating an ndarray from ragged nested sequences (which is a list-or-tuple of lists-or-tuples-or ndarrays with different lengths or shapes) is deprecated. If you meant to do this, you must specify 'dtype=object' when creating the ndarray\n",
      "  globals()['G{}_c{}_w_layer{}'.format(global_epoch, num_c_w, layer_index)] = globals()['G{}_c{}_w_layer{}'.format(global_epoch, num_c_w, layer_index)] + np.array(globals()['L{}_layer{}_w_c'.format(i,layer_index)])   # 일반 클러스터링\n"
     ]
    },
    {
     "name": "stdout",
     "output_type": "stream",
     "text": [
      "\n",
      "\n",
      "====================================================== One Global Epoch =====================================================================\n",
      "\n",
      "\n",
      "6  번째 global_epoch 데이터 랜덤하게 준비!!\n",
      "6  번째 global_epoch 데이터 랜덤 준비완료!!\n",
      "\n",
      "\n",
      "6  번째 global epoch에서 로컬 클라이언트 들 학습시작!\n",
      "\n",
      "학습 중 ...\n",
      "\n",
      "35/35 - 0s - loss: 0.3801 - accuracy: 0.8803\n",
      "35/35 - 0s - loss: 0.4010 - accuracy: 0.8578\n",
      "35/35 - 0s - loss: 0.3617 - accuracy: 0.8767\n",
      "35/35 - 0s - loss: 0.3496 - accuracy: 0.8848\n",
      "35/35 - 0s - loss: 0.4001 - accuracy: 0.8731\n",
      "35/35 - 0s - loss: 0.3609 - accuracy: 0.8659\n",
      "35/35 - 0s - loss: 0.3699 - accuracy: 0.8659\n",
      "35/35 - 0s - loss: 0.3749 - accuracy: 0.8587\n",
      "35/35 - 0s - loss: 0.3609 - accuracy: 0.8776\n",
      "------------    6  번째 global epoch < Clustering > 로컬 클라이언트 학습 완료!,  Total Training time :  114.20901322364807 ---------------------------\n",
      "\n",
      "\n"
     ]
    },
    {
     "name": "stderr",
     "output_type": "stream",
     "text": [
      "<ipython-input-13-db1016e4f35a>:127: VisibleDeprecationWarning: Creating an ndarray from ragged nested sequences (which is a list-or-tuple of lists-or-tuples-or ndarrays with different lengths or shapes) is deprecated. If you meant to do this, you must specify 'dtype=object' when creating the ndarray\n",
      "  globals()['G{}_c{}_w_layer{}'.format(global_epoch, num_c_w, layer_index)] = globals()['G{}_c{}_w_layer{}'.format(global_epoch, num_c_w, layer_index)] + np.array(globals()['L{}_layer{}_w_c'.format(i,layer_index)])   # 일반 클러스터링\n",
      "<ipython-input-13-db1016e4f35a>:127: VisibleDeprecationWarning: Creating an ndarray from ragged nested sequences (which is a list-or-tuple of lists-or-tuples-or ndarrays with different lengths or shapes) is deprecated. If you meant to do this, you must specify 'dtype=object' when creating the ndarray\n",
      "  globals()['G{}_c{}_w_layer{}'.format(global_epoch, num_c_w, layer_index)] = globals()['G{}_c{}_w_layer{}'.format(global_epoch, num_c_w, layer_index)] + np.array(globals()['L{}_layer{}_w_c'.format(i,layer_index)])   # 일반 클러스터링\n",
      "<ipython-input-13-db1016e4f35a>:127: VisibleDeprecationWarning: Creating an ndarray from ragged nested sequences (which is a list-or-tuple of lists-or-tuples-or ndarrays with different lengths or shapes) is deprecated. If you meant to do this, you must specify 'dtype=object' when creating the ndarray\n",
      "  globals()['G{}_c{}_w_layer{}'.format(global_epoch, num_c_w, layer_index)] = globals()['G{}_c{}_w_layer{}'.format(global_epoch, num_c_w, layer_index)] + np.array(globals()['L{}_layer{}_w_c'.format(i,layer_index)])   # 일반 클러스터링\n",
      "<ipython-input-13-db1016e4f35a>:127: VisibleDeprecationWarning: Creating an ndarray from ragged nested sequences (which is a list-or-tuple of lists-or-tuples-or ndarrays with different lengths or shapes) is deprecated. If you meant to do this, you must specify 'dtype=object' when creating the ndarray\n",
      "  globals()['G{}_c{}_w_layer{}'.format(global_epoch, num_c_w, layer_index)] = globals()['G{}_c{}_w_layer{}'.format(global_epoch, num_c_w, layer_index)] + np.array(globals()['L{}_layer{}_w_c'.format(i,layer_index)])   # 일반 클러스터링\n",
      "<ipython-input-13-db1016e4f35a>:127: VisibleDeprecationWarning: Creating an ndarray from ragged nested sequences (which is a list-or-tuple of lists-or-tuples-or ndarrays with different lengths or shapes) is deprecated. If you meant to do this, you must specify 'dtype=object' when creating the ndarray\n",
      "  globals()['G{}_c{}_w_layer{}'.format(global_epoch, num_c_w, layer_index)] = globals()['G{}_c{}_w_layer{}'.format(global_epoch, num_c_w, layer_index)] + np.array(globals()['L{}_layer{}_w_c'.format(i,layer_index)])   # 일반 클러스터링\n"
     ]
    },
    {
     "name": "stdout",
     "output_type": "stream",
     "text": [
      "\n",
      "\n",
      "====================================================== One Global Epoch =====================================================================\n",
      "\n",
      "\n",
      "7  번째 global_epoch 데이터 랜덤하게 준비!!\n",
      "7  번째 global_epoch 데이터 랜덤 준비완료!!\n",
      "\n",
      "\n",
      "7  번째 global epoch에서 로컬 클라이언트 들 학습시작!\n",
      "\n",
      "학습 중 ...\n",
      "\n",
      "35/35 - 0s - loss: 0.3927 - accuracy: 0.8812\n",
      "35/35 - 0s - loss: 0.3360 - accuracy: 0.8902\n",
      "35/35 - 0s - loss: 0.3704 - accuracy: 0.8731\n",
      "35/35 - 0s - loss: 0.4054 - accuracy: 0.8641\n",
      "35/35 - 0s - loss: 0.3909 - accuracy: 0.8758\n",
      "35/35 - 0s - loss: 0.3416 - accuracy: 0.8830\n",
      "35/35 - 0s - loss: 0.3783 - accuracy: 0.8740\n",
      "35/35 - 0s - loss: 0.4121 - accuracy: 0.8650\n",
      "35/35 - 0s - loss: 0.3600 - accuracy: 0.8623\n",
      "------------    7  번째 global epoch < Clustering > 로컬 클라이언트 학습 완료!,  Total Training time :  120.85881495475769 ---------------------------\n",
      "\n",
      "\n"
     ]
    },
    {
     "name": "stderr",
     "output_type": "stream",
     "text": [
      "<ipython-input-13-db1016e4f35a>:127: VisibleDeprecationWarning: Creating an ndarray from ragged nested sequences (which is a list-or-tuple of lists-or-tuples-or ndarrays with different lengths or shapes) is deprecated. If you meant to do this, you must specify 'dtype=object' when creating the ndarray\n",
      "  globals()['G{}_c{}_w_layer{}'.format(global_epoch, num_c_w, layer_index)] = globals()['G{}_c{}_w_layer{}'.format(global_epoch, num_c_w, layer_index)] + np.array(globals()['L{}_layer{}_w_c'.format(i,layer_index)])   # 일반 클러스터링\n",
      "<ipython-input-13-db1016e4f35a>:127: VisibleDeprecationWarning: Creating an ndarray from ragged nested sequences (which is a list-or-tuple of lists-or-tuples-or ndarrays with different lengths or shapes) is deprecated. If you meant to do this, you must specify 'dtype=object' when creating the ndarray\n",
      "  globals()['G{}_c{}_w_layer{}'.format(global_epoch, num_c_w, layer_index)] = globals()['G{}_c{}_w_layer{}'.format(global_epoch, num_c_w, layer_index)] + np.array(globals()['L{}_layer{}_w_c'.format(i,layer_index)])   # 일반 클러스터링\n",
      "<ipython-input-13-db1016e4f35a>:127: VisibleDeprecationWarning: Creating an ndarray from ragged nested sequences (which is a list-or-tuple of lists-or-tuples-or ndarrays with different lengths or shapes) is deprecated. If you meant to do this, you must specify 'dtype=object' when creating the ndarray\n",
      "  globals()['G{}_c{}_w_layer{}'.format(global_epoch, num_c_w, layer_index)] = globals()['G{}_c{}_w_layer{}'.format(global_epoch, num_c_w, layer_index)] + np.array(globals()['L{}_layer{}_w_c'.format(i,layer_index)])   # 일반 클러스터링\n",
      "<ipython-input-13-db1016e4f35a>:127: VisibleDeprecationWarning: Creating an ndarray from ragged nested sequences (which is a list-or-tuple of lists-or-tuples-or ndarrays with different lengths or shapes) is deprecated. If you meant to do this, you must specify 'dtype=object' when creating the ndarray\n",
      "  globals()['G{}_c{}_w_layer{}'.format(global_epoch, num_c_w, layer_index)] = globals()['G{}_c{}_w_layer{}'.format(global_epoch, num_c_w, layer_index)] + np.array(globals()['L{}_layer{}_w_c'.format(i,layer_index)])   # 일반 클러스터링\n",
      "<ipython-input-13-db1016e4f35a>:127: VisibleDeprecationWarning: Creating an ndarray from ragged nested sequences (which is a list-or-tuple of lists-or-tuples-or ndarrays with different lengths or shapes) is deprecated. If you meant to do this, you must specify 'dtype=object' when creating the ndarray\n",
      "  globals()['G{}_c{}_w_layer{}'.format(global_epoch, num_c_w, layer_index)] = globals()['G{}_c{}_w_layer{}'.format(global_epoch, num_c_w, layer_index)] + np.array(globals()['L{}_layer{}_w_c'.format(i,layer_index)])   # 일반 클러스터링\n"
     ]
    },
    {
     "name": "stdout",
     "output_type": "stream",
     "text": [
      "\n",
      "\n",
      "====================================================== One Global Epoch =====================================================================\n",
      "\n",
      "\n",
      "8  번째 global_epoch 데이터 랜덤하게 준비!!\n",
      "8  번째 global_epoch 데이터 랜덤 준비완료!!\n",
      "\n",
      "\n",
      "8  번째 global epoch에서 로컬 클라이언트 들 학습시작!\n",
      "\n",
      "학습 중 ...\n",
      "\n",
      "35/35 - 0s - loss: 0.3554 - accuracy: 0.8821\n",
      "35/35 - 0s - loss: 0.4005 - accuracy: 0.8713\n",
      "35/35 - 0s - loss: 0.3732 - accuracy: 0.8776\n",
      "35/35 - 0s - loss: 0.3356 - accuracy: 0.8758\n",
      "35/35 - 0s - loss: 0.4300 - accuracy: 0.8704\n",
      "35/35 - 0s - loss: 0.3792 - accuracy: 0.8686\n",
      "35/35 - 0s - loss: 0.3904 - accuracy: 0.8794\n",
      "35/35 - 0s - loss: 0.3212 - accuracy: 0.8893\n",
      "35/35 - 0s - loss: 0.4142 - accuracy: 0.8614\n",
      "------------    8  번째 global epoch < Clustering > 로컬 클라이언트 학습 완료!,  Total Training time :  112.08827090263367 ---------------------------\n",
      "\n",
      "\n"
     ]
    },
    {
     "name": "stderr",
     "output_type": "stream",
     "text": [
      "<ipython-input-13-db1016e4f35a>:127: VisibleDeprecationWarning: Creating an ndarray from ragged nested sequences (which is a list-or-tuple of lists-or-tuples-or ndarrays with different lengths or shapes) is deprecated. If you meant to do this, you must specify 'dtype=object' when creating the ndarray\n",
      "  globals()['G{}_c{}_w_layer{}'.format(global_epoch, num_c_w, layer_index)] = globals()['G{}_c{}_w_layer{}'.format(global_epoch, num_c_w, layer_index)] + np.array(globals()['L{}_layer{}_w_c'.format(i,layer_index)])   # 일반 클러스터링\n",
      "<ipython-input-13-db1016e4f35a>:127: VisibleDeprecationWarning: Creating an ndarray from ragged nested sequences (which is a list-or-tuple of lists-or-tuples-or ndarrays with different lengths or shapes) is deprecated. If you meant to do this, you must specify 'dtype=object' when creating the ndarray\n",
      "  globals()['G{}_c{}_w_layer{}'.format(global_epoch, num_c_w, layer_index)] = globals()['G{}_c{}_w_layer{}'.format(global_epoch, num_c_w, layer_index)] + np.array(globals()['L{}_layer{}_w_c'.format(i,layer_index)])   # 일반 클러스터링\n",
      "<ipython-input-13-db1016e4f35a>:127: VisibleDeprecationWarning: Creating an ndarray from ragged nested sequences (which is a list-or-tuple of lists-or-tuples-or ndarrays with different lengths or shapes) is deprecated. If you meant to do this, you must specify 'dtype=object' when creating the ndarray\n",
      "  globals()['G{}_c{}_w_layer{}'.format(global_epoch, num_c_w, layer_index)] = globals()['G{}_c{}_w_layer{}'.format(global_epoch, num_c_w, layer_index)] + np.array(globals()['L{}_layer{}_w_c'.format(i,layer_index)])   # 일반 클러스터링\n",
      "<ipython-input-13-db1016e4f35a>:127: VisibleDeprecationWarning: Creating an ndarray from ragged nested sequences (which is a list-or-tuple of lists-or-tuples-or ndarrays with different lengths or shapes) is deprecated. If you meant to do this, you must specify 'dtype=object' when creating the ndarray\n",
      "  globals()['G{}_c{}_w_layer{}'.format(global_epoch, num_c_w, layer_index)] = globals()['G{}_c{}_w_layer{}'.format(global_epoch, num_c_w, layer_index)] + np.array(globals()['L{}_layer{}_w_c'.format(i,layer_index)])   # 일반 클러스터링\n",
      "<ipython-input-13-db1016e4f35a>:127: VisibleDeprecationWarning: Creating an ndarray from ragged nested sequences (which is a list-or-tuple of lists-or-tuples-or ndarrays with different lengths or shapes) is deprecated. If you meant to do this, you must specify 'dtype=object' when creating the ndarray\n",
      "  globals()['G{}_c{}_w_layer{}'.format(global_epoch, num_c_w, layer_index)] = globals()['G{}_c{}_w_layer{}'.format(global_epoch, num_c_w, layer_index)] + np.array(globals()['L{}_layer{}_w_c'.format(i,layer_index)])   # 일반 클러스터링\n"
     ]
    },
    {
     "name": "stdout",
     "output_type": "stream",
     "text": [
      "\n",
      "\n",
      "====================================================== One Global Epoch =====================================================================\n",
      "\n",
      "\n",
      "9  번째 global_epoch 데이터 랜덤하게 준비!!\n",
      "9  번째 global_epoch 데이터 랜덤 준비완료!!\n",
      "\n",
      "\n",
      "9  번째 global epoch에서 로컬 클라이언트 들 학습시작!\n",
      "\n",
      "학습 중 ...\n",
      "\n",
      "35/35 - 0s - loss: 0.3811 - accuracy: 0.8866\n",
      "35/35 - 0s - loss: 0.3623 - accuracy: 0.8857\n",
      "35/35 - 0s - loss: 0.4078 - accuracy: 0.8794\n",
      "35/35 - 0s - loss: 0.4571 - accuracy: 0.8488\n",
      "35/35 - 0s - loss: 0.3607 - accuracy: 0.8830\n",
      "35/35 - 0s - loss: 0.3508 - accuracy: 0.8758\n",
      "35/35 - 0s - loss: 0.3283 - accuracy: 0.8983\n",
      "35/35 - 0s - loss: 0.3319 - accuracy: 0.8812\n",
      "35/35 - 0s - loss: 0.3652 - accuracy: 0.8722\n",
      "------------    9  번째 global epoch < Clustering > 로컬 클라이언트 학습 완료!,  Total Training time :  111.80419325828552 ---------------------------\n",
      "\n",
      "\n"
     ]
    },
    {
     "name": "stderr",
     "output_type": "stream",
     "text": [
      "<ipython-input-13-db1016e4f35a>:127: VisibleDeprecationWarning: Creating an ndarray from ragged nested sequences (which is a list-or-tuple of lists-or-tuples-or ndarrays with different lengths or shapes) is deprecated. If you meant to do this, you must specify 'dtype=object' when creating the ndarray\n",
      "  globals()['G{}_c{}_w_layer{}'.format(global_epoch, num_c_w, layer_index)] = globals()['G{}_c{}_w_layer{}'.format(global_epoch, num_c_w, layer_index)] + np.array(globals()['L{}_layer{}_w_c'.format(i,layer_index)])   # 일반 클러스터링\n",
      "<ipython-input-13-db1016e4f35a>:127: VisibleDeprecationWarning: Creating an ndarray from ragged nested sequences (which is a list-or-tuple of lists-or-tuples-or ndarrays with different lengths or shapes) is deprecated. If you meant to do this, you must specify 'dtype=object' when creating the ndarray\n",
      "  globals()['G{}_c{}_w_layer{}'.format(global_epoch, num_c_w, layer_index)] = globals()['G{}_c{}_w_layer{}'.format(global_epoch, num_c_w, layer_index)] + np.array(globals()['L{}_layer{}_w_c'.format(i,layer_index)])   # 일반 클러스터링\n",
      "<ipython-input-13-db1016e4f35a>:127: VisibleDeprecationWarning: Creating an ndarray from ragged nested sequences (which is a list-or-tuple of lists-or-tuples-or ndarrays with different lengths or shapes) is deprecated. If you meant to do this, you must specify 'dtype=object' when creating the ndarray\n",
      "  globals()['G{}_c{}_w_layer{}'.format(global_epoch, num_c_w, layer_index)] = globals()['G{}_c{}_w_layer{}'.format(global_epoch, num_c_w, layer_index)] + np.array(globals()['L{}_layer{}_w_c'.format(i,layer_index)])   # 일반 클러스터링\n",
      "<ipython-input-13-db1016e4f35a>:127: VisibleDeprecationWarning: Creating an ndarray from ragged nested sequences (which is a list-or-tuple of lists-or-tuples-or ndarrays with different lengths or shapes) is deprecated. If you meant to do this, you must specify 'dtype=object' when creating the ndarray\n",
      "  globals()['G{}_c{}_w_layer{}'.format(global_epoch, num_c_w, layer_index)] = globals()['G{}_c{}_w_layer{}'.format(global_epoch, num_c_w, layer_index)] + np.array(globals()['L{}_layer{}_w_c'.format(i,layer_index)])   # 일반 클러스터링\n",
      "<ipython-input-13-db1016e4f35a>:127: VisibleDeprecationWarning: Creating an ndarray from ragged nested sequences (which is a list-or-tuple of lists-or-tuples-or ndarrays with different lengths or shapes) is deprecated. If you meant to do this, you must specify 'dtype=object' when creating the ndarray\n",
      "  globals()['G{}_c{}_w_layer{}'.format(global_epoch, num_c_w, layer_index)] = globals()['G{}_c{}_w_layer{}'.format(global_epoch, num_c_w, layer_index)] + np.array(globals()['L{}_layer{}_w_c'.format(i,layer_index)])   # 일반 클러스터링\n"
     ]
    },
    {
     "name": "stdout",
     "output_type": "stream",
     "text": [
      "\n",
      "\n",
      "====================================================== One Global Epoch =====================================================================\n",
      "\n",
      "\n",
      "10  번째 global_epoch 데이터 랜덤하게 준비!!\n",
      "10  번째 global_epoch 데이터 랜덤 준비완료!!\n",
      "\n",
      "\n",
      "10  번째 global epoch에서 로컬 클라이언트 들 학습시작!\n",
      "\n",
      "학습 중 ...\n",
      "\n",
      "35/35 - 0s - loss: 0.4145 - accuracy: 0.8839\n",
      "35/35 - 0s - loss: 0.3760 - accuracy: 0.8776\n",
      "35/35 - 0s - loss: 0.4393 - accuracy: 0.8749\n",
      "35/35 - 0s - loss: 0.3891 - accuracy: 0.8677\n",
      "35/35 - 0s - loss: 0.4653 - accuracy: 0.8641\n",
      "35/35 - 0s - loss: 0.3600 - accuracy: 0.8812\n",
      "35/35 - 0s - loss: 0.3182 - accuracy: 0.8920\n",
      "35/35 - 0s - loss: 0.3905 - accuracy: 0.8749\n",
      "35/35 - 0s - loss: 0.3815 - accuracy: 0.8677\n",
      "------------    10  번째 global epoch < Clustering > 로컬 클라이언트 학습 완료!,  Total Training time :  112.56827783584595 ---------------------------\n",
      "\n",
      "\n"
     ]
    },
    {
     "name": "stderr",
     "output_type": "stream",
     "text": [
      "<ipython-input-13-db1016e4f35a>:127: VisibleDeprecationWarning: Creating an ndarray from ragged nested sequences (which is a list-or-tuple of lists-or-tuples-or ndarrays with different lengths or shapes) is deprecated. If you meant to do this, you must specify 'dtype=object' when creating the ndarray\n",
      "  globals()['G{}_c{}_w_layer{}'.format(global_epoch, num_c_w, layer_index)] = globals()['G{}_c{}_w_layer{}'.format(global_epoch, num_c_w, layer_index)] + np.array(globals()['L{}_layer{}_w_c'.format(i,layer_index)])   # 일반 클러스터링\n",
      "<ipython-input-13-db1016e4f35a>:127: VisibleDeprecationWarning: Creating an ndarray from ragged nested sequences (which is a list-or-tuple of lists-or-tuples-or ndarrays with different lengths or shapes) is deprecated. If you meant to do this, you must specify 'dtype=object' when creating the ndarray\n",
      "  globals()['G{}_c{}_w_layer{}'.format(global_epoch, num_c_w, layer_index)] = globals()['G{}_c{}_w_layer{}'.format(global_epoch, num_c_w, layer_index)] + np.array(globals()['L{}_layer{}_w_c'.format(i,layer_index)])   # 일반 클러스터링\n",
      "<ipython-input-13-db1016e4f35a>:127: VisibleDeprecationWarning: Creating an ndarray from ragged nested sequences (which is a list-or-tuple of lists-or-tuples-or ndarrays with different lengths or shapes) is deprecated. If you meant to do this, you must specify 'dtype=object' when creating the ndarray\n",
      "  globals()['G{}_c{}_w_layer{}'.format(global_epoch, num_c_w, layer_index)] = globals()['G{}_c{}_w_layer{}'.format(global_epoch, num_c_w, layer_index)] + np.array(globals()['L{}_layer{}_w_c'.format(i,layer_index)])   # 일반 클러스터링\n"
     ]
    },
    {
     "name": "stdout",
     "output_type": "stream",
     "text": [
      "\n",
      "\n",
      "====================================================== One Global Epoch =====================================================================\n",
      "\n",
      "\n"
     ]
    },
    {
     "name": "stderr",
     "output_type": "stream",
     "text": [
      "<ipython-input-13-db1016e4f35a>:127: VisibleDeprecationWarning: Creating an ndarray from ragged nested sequences (which is a list-or-tuple of lists-or-tuples-or ndarrays with different lengths or shapes) is deprecated. If you meant to do this, you must specify 'dtype=object' when creating the ndarray\n",
      "  globals()['G{}_c{}_w_layer{}'.format(global_epoch, num_c_w, layer_index)] = globals()['G{}_c{}_w_layer{}'.format(global_epoch, num_c_w, layer_index)] + np.array(globals()['L{}_layer{}_w_c'.format(i,layer_index)])   # 일반 클러스터링\n",
      "<ipython-input-13-db1016e4f35a>:127: VisibleDeprecationWarning: Creating an ndarray from ragged nested sequences (which is a list-or-tuple of lists-or-tuples-or ndarrays with different lengths or shapes) is deprecated. If you meant to do this, you must specify 'dtype=object' when creating the ndarray\n",
      "  globals()['G{}_c{}_w_layer{}'.format(global_epoch, num_c_w, layer_index)] = globals()['G{}_c{}_w_layer{}'.format(global_epoch, num_c_w, layer_index)] + np.array(globals()['L{}_layer{}_w_c'.format(i,layer_index)])   # 일반 클러스터링\n"
     ]
    }
   ],
   "source": [
    "G_epoch = 11\n",
    "\n",
    "for global_epoch in range(1, G_epoch):\n",
    "\n",
    "    for i in range(1, local):\n",
    "        if global_epoch == 1:\n",
    "            globals()['G{}_c_L{}_model'.format(global_epoch, i)] = globals()['FedAvg_L{}_iter{}_model'.format(i,global_epoch-1)]   #모델 넣어줌 (우리는 구조만 필요한 것)\n",
    "        else:\n",
    "            globals()['G{}_c_L{}_model'.format(global_epoch, i)] = globals()['G{}_c_L{}_model'.format(global_epoch-1, i)]   #모델 넣어줌 (우리는 구조만 필요한 것)\n",
    "\n",
    "        for layer_index in num_layers_list: \n",
    "            num_c = globals()['G{}_num_clusters_in_layer{}_w'.format(global_epoch-1, layer_index)]   \n",
    "    \n",
    "            for ccc in range(num_c):\n",
    "                if globals()['w_layer{}_label'.format(layer_index)][i-1] == ccc:    #현재 로컬 레이어의 군집 결과 == ccc\n",
    "                    globals()['G{}_c_L{}_model'.format(global_epoch, i)].layers[layer_index].set_weights(globals()['G{}_c{}_w_layer{}'.format(global_epoch-1, ccc, layer_index) ])  # 클러스터용 로컬 모델 선언\n",
    "                    \n",
    "                  \n",
    "        \n",
    "\n",
    "    #----------------------------------------------------------------데이터 새로 준비----------------------------------------------------------------------------------\n",
    "    print(global_epoch, \" 번째 global_epoch 데이터 랜덤하게 준비!!\")\n",
    "\n",
    "\n",
    "    for i in range(1,local):\n",
    "        globals()['L{}_x_train'.format(i)], globals()['L{}_x_test'.format(i)] = [], []\n",
    "        globals()['L{}_y_train'.format(i)], globals()['L{}_y_test'.format(i)] = [], []  \n",
    "        \n",
    "    x_train_range = list(np.arange(0,len(x_train)))  #0~59,999\n",
    "    x_test_range = list(np.arange(0,len(x_test)))  #0~9,999\n",
    "\n",
    "    for n in range(1,local): #Data_x_train_range, 잘 작동함 => 확인 완료\n",
    "        tmp, tmp2 = [], []\n",
    "        tmp = random.sample(list(x_train_range), int(num_train/(local-1)))  #1/10개 만큼 인덱스 랜덤 비복원 추출 => 랜덤으로 해야함\n",
    "        tmp2 = random.sample(list(x_test_range), int(num_test/(local-1)))\n",
    "\n",
    "        for i in range(len(tmp)):\n",
    "            globals()['L{}_x_train'.format(n)].append(x_train[tmp[i]])  #n번째 Cluster에 분할한 실제 x_train 데이터 저장\n",
    "            globals()['L{}_y_train'.format(n)].append(y_train[tmp[i]]) \n",
    "            #x_train_range.remove(tmp[i])  #랜덤 하게 뽑힌 원소 6000개 추출했으니 안에서 삭제 = 복원추출\n",
    "\n",
    "        for j in range(len(tmp2)):\n",
    "            globals()['L{}_x_test'.format(n)].append(x_test[tmp2[j]])\n",
    "            globals()['L{}_y_test'.format(n)].append(y_test[tmp2[j]])\n",
    "            #x_test_range.remove(tmp2[j])  #랜덤 하게 뽑힌 원소 6000개 추출했으니 안에서 삭제\n",
    "\n",
    "    for i in range(1,local):\n",
    "        globals()['L{}_x_train'.format(i)] = np.array(globals()['L{}_x_train'.format(i)])\n",
    "        globals()['L{}_x_test'.format(i)] = np.array(globals()['L{}_x_test'.format(i)])\n",
    "        globals()['L{}_y_train'.format(i)] = np.array(globals()['L{}_y_train'.format(i)])\n",
    "        globals()['L{}_y_test'.format(i)] = np.array(globals()['L{}_y_test'.format(i)])\n",
    "\n",
    "\n",
    "    print(global_epoch, \" 번째 global_epoch 데이터 랜덤 준비완료!!\\n\\n\")\n",
    "\n",
    "    print(global_epoch, \" 번째 global epoch에서 로컬 클라이언트 들 학습시작!\\n\\n학습 중 ...\\n\")\n",
    "    \n",
    "\n",
    "    #-------------------------------------------------------------------여기가 핵심, 알고리즘 3개 따로 학습시켜야 함--------------------------------------------------------------------\n",
    "\n",
    "\n",
    "    #======================================================================== Cluster  ========================================================================  같이 했음. 왜냐면 cluster 하고 나서 activation 을 씌우는 거라 cluster까지는 같음\n",
    "\n",
    "    cluster_acc, cluster_loss, cluster_act_acc, cluster_act_loss, now = [], [], [], [], time.time()\n",
    "    \n",
    "    for i in range(1, local):\n",
    "        globals()['G{}_c_L{}_model'.format(global_epoch, i)].compile(loss=\"categorical_crossentropy\", optimizer=\"adam\", metrics=[\"accuracy\"])  #Cluster => 알맞는 클러스터에 넣기\n",
    "        globals()['G{}_c_L{}_model'.format(global_epoch, i)].fit(globals()['L{}_x_train'.format(i)], globals()['L{}_y_train'.format(i)], batch_size=batch_size, epochs=epochs, validation_split=0.1, verbose=0)\n",
    "        loss, acc = globals()['G{}_c_L{}_model'.format(global_epoch, i)].evaluate(globals()['L{}_x_test'.format(i)], globals()['L{}_y_test'.format(i)], verbose=2)\n",
    "        \n",
    "        cluster_acc.append(acc)  #acc 넣기\n",
    "        cluster_loss.append(loss)  #loss 넣기\n",
    "\n",
    "    print(\"------------   \", global_epoch, \" 번째 global epoch < Clustering > 로컬 클라이언트 학습 완료!,  Total Training time : \", time.time()-now,\"---------------------------\\n\\n\")\n",
    "\n",
    "\n",
    "# 로컬 모델들 학습 완료, 로컬모델에서 weight, bias 추출 -------------------------------------------------------------------------------------\n",
    "\n",
    "\n",
    "    for i in range(1, local):        \n",
    "        for layer_index in num_layers_list:\n",
    "            \n",
    "            globals()['L{}_layer{}_w_c'.format(i,layer_index)]   = globals()['G{}_c_L{}_model'.format(global_epoch, i)].layers[layer_index].get_weights() # Clustering \n",
    "            globals()['L{}_layer{}_w_c_tmp'.format(i,layer_index)]   = globals()['G{}_c_L{}_model'.format(global_epoch, i)].layers[layer_index].get_weights() # Clustering \n",
    "\n",
    "    #------------------------------------------------ 클러스터링만 한 값들 Clustering --------------------------------------------------------\n",
    "    for layer_index in num_layers_list:\n",
    "        globals()['layer{}_W_c_tmp'.format(layer_index)] = []\n",
    "        \n",
    "        globals()['var_list_layer{}_w'.format(layer_index)] = []\n",
    "        globals()['var_list_layer{}_b'.format(layer_index)] = []\n",
    "            \n",
    "        for i in range(1, local):\n",
    "            TMP_w = list(np.array(globals()['L{}_layer{}_w_c_tmp'.format(i,layer_index)][0]).reshape(-1))\n",
    "            TMP_b = list(np.array(globals()['L{}_layer{}_w_c_tmp'.format(i,layer_index)][1]).reshape(-1))\n",
    "            \n",
    "            TMP_w.extend(TMP_b) ##append 말고 더해야함..\n",
    "\n",
    "            TMP_w = np.array(TMP_w)\n",
    "            TMP_w = list(TMP_w.reshape(-1))\n",
    "            globals()['layer{}_W_c_tmp'.format(layer_index)].append(TMP_w)  #클러스터링 용도\n",
    "\n",
    "        #---------------------------------------------------- 실루엣 기반 클러스터링 실시 -------------------------------------------------------------\n",
    "        transformed = globals()['layer{}_W_c_tmp'.format(layer_index)]\n",
    "\n",
    "        globals()['w_layer{}_label'.format(layer_index)] = 0\n",
    "                                                                  \n",
    "        kmeans_model_w = KMeans(n_clusters=3)   # 0, 1은 silhouette 에 안먹힘  \n",
    "\n",
    "        globals()['w_layer{}_label'.format(layer_index)] = kmeans_model_w.fit_predict(transformed)       # 가장 적합한 클러스터로 레이어에 속한 로컬들 레이블 정의 \n",
    "        label_list.append(globals()['w_layer{}_label'.format(layer_index)])\n",
    "\n",
    "        globals()['G{}_num_clusters_in_layer{}_w'.format(global_epoch, layer_index)] = 3\n",
    "\n",
    "\n",
    "        #----------------------------------------------- 스케일링 및 업데이트 ---------------------------------------------------------------------\n",
    "        for num_c_w in range(3): #클러스터 갯수 (num_clusters_for_w) 만큼 클러스터용 = 클러스터 갯수가 3이 나왔으면 3개를 만들어야 함\n",
    "            globals()['G{}_c{}_w_layer{}'.format(global_epoch, num_c_w, layer_index)] = 0 \n",
    "            \n",
    "            globals()['w_scaler_c{}_sum'.format(num_c_w)], globals()['int_c{}_w'.format(num_c_w)] = 0, 0 #초기화\n",
    "        \n",
    "            for i in range(1, local):\n",
    "\n",
    "                if globals()['w_layer{}_label'.format(layer_index)][i-1] == num_c_w  : # 클러스터 레이블에 맞게 (0 or 1 or 2 ..) \n",
    "                    globals()['w_scaler_c{}_sum'.format(num_c_w)] = globals()['w_scaler_c{}_sum'.format(num_c_w)] + len(globals()['L{}_x_train'.format(i)])\n",
    "\n",
    "                    globals()['G{}_c{}_w_layer{}'.format(global_epoch, num_c_w, layer_index)] = globals()['G{}_c{}_w_layer{}'.format(global_epoch, num_c_w, layer_index)] + np.array(globals()['L{}_layer{}_w_c'.format(i,layer_index)])   # 일반 클러스터링\n",
    "                  \n",
    "                    globals()['int_c{}_w'.format(num_c_w)] = globals()['int_c{}_w'.format(num_c_w)] + 1\n",
    "\n",
    "            globals()['w_scaler{}'.format(num_c_w)] = len(globals()['L{}_x_train'.format(i)]) / globals()['w_scaler_c{}_sum'.format(num_c_w)]\n",
    "            globals()['G{}_c{}_w_layer{}'.format(global_epoch, num_c_w, layer_index)] = globals()['G{}_c{}_w_layer{}'.format(global_epoch, num_c_w, layer_index)] / globals()['int_c{}_w'.format(num_c_w)] #레이어 별 클러스터 자기 갯수만큼 나눠주기=평균\n",
    "\n",
    "        \n",
    "        sum_for_var_w,sum_for_var_b = 0,0\n",
    "        sum_for_var_w = (globals()['G{}_c{}_w_layer{}'.format(global_epoch, 0, layer_index)][0] + globals()['G{}_c{}_w_layer{}'.format(global_epoch, 1, layer_index)][0] + globals()['G{}_c{}_w_layer{}'.format(global_epoch, 2, layer_index)][0])/3\n",
    "        sum_for_var_b = (globals()['G{}_c{}_w_layer{}'.format(global_epoch, 0, layer_index)][1] + globals()['G{}_c{}_w_layer{}'.format(global_epoch, 1, layer_index)][1] + globals()['G{}_c{}_w_layer{}'.format(global_epoch, 2, layer_index)][1])/3\n",
    "        \n",
    "\n",
    "        for i in range(1, local):\n",
    "            globals()['var_list_layer{}_w'.format(layer_index)].append(np.var(sum_for_var_w))\n",
    "            globals()['var_list_layer{}_b'.format(layer_index)].append(np.var(sum_for_var_b))\n",
    "  \n",
    "\n",
    "        VAR_final_list_w.append(globals()['var_list_layer{}_w'.format(layer_index)])\n",
    "        VAR_final_list_b.append(globals()['var_list_layer{}_b'.format(layer_index)])\n",
    "\n",
    "\n",
    "    Cluster_ACC.append(cluster_acc)\n",
    "    Cluster_LOSS.append(cluster_loss)\n",
    "\n",
    "\n",
    "    print(\"\\n\\n====================================================== One Global Epoch =====================================================================\\n\\n\")\n"
   ]
  },
  {
   "cell_type": "code",
   "execution_count": 11,
   "metadata": {
    "colab": {
     "base_uri": "https://localhost:8080/"
    },
    "executionInfo": {
     "elapsed": 239,
     "status": "ok",
     "timestamp": 1627598233970,
     "user": {
      "displayName": "이훈민",
      "photoUrl": "",
      "userId": "00157268181097362793"
     },
     "user_tz": 240
    },
    "id": "w2XKazZ-4dgs",
    "outputId": "4f023b47-dd78-43b9-bdab-9a0bc7195aa5"
   },
   "outputs": [],
   "source": [
    "#클러스터 레이어들끼리 weight 확이 => 똑같지는 않은지 확인"
   ]
  },
  {
   "cell_type": "code",
   "execution_count": 12,
   "metadata": {
    "colab": {
     "base_uri": "https://localhost:8080/"
    },
    "executionInfo": {
     "elapsed": 282,
     "status": "ok",
     "timestamp": 1627663392403,
     "user": {
      "displayName": "이훈민",
      "photoUrl": "",
      "userId": "00157268181097362793"
     },
     "user_tz": 240
    },
    "id": "DGhQbiXaEUfJ",
    "outputId": "e7f4f01c-9b72-4b6e-f3ed-6859fc0a3587"
   },
   "outputs": [
    {
     "name": "stdout",
     "output_type": "stream",
     "text": [
      "Layer 0  ==> label 0, 1, 2 갯수 :  146 134 140\n",
      "Layer 2  ==> label 0, 1, 2 갯수 :  177 161 82\n",
      "Layer 4  ==> label 0, 1, 2 갯수 :  310 55 55\n",
      "Layer 6  ==> label 0, 1, 2 갯수 :  192 160 68\n",
      "Layer 7  ==> label 0, 1, 2 갯수 :  146 152 122\n"
     ]
    }
   ],
   "source": [
    "L0_label0, L0_label1, L0_label2 = 0, 0, 0 \n",
    "L1_label0, L1_label1, L1_label2 = 0, 0, 0 \n",
    "L2_label0, L2_label1, L2_label2 = 0, 0, 0 \n",
    "L3_label0, L3_label1, L3_label2 = 0, 0, 0 \n",
    "L4_label0, L4_label1, L4_label2 = 0, 0, 0 \n",
    "\n",
    "\n",
    "for i in range(int(len(label_list)/5)):\n",
    "    for k in range(5):\n",
    "        for j in range(len(label_list[0])):\n",
    "            if label_list[i*5 + k][j] == 0:\n",
    "                  globals()['L{}_label0'.format(k)] = globals()['L{}_label0'.format(k)] + 1 \n",
    "\n",
    "            elif label_list[i*5 + k][j] == 1:\n",
    "                globals()['L{}_label1'.format(k)] = globals()['L{}_label1'.format(k)] + 1\n",
    "\n",
    "            elif label_list[i*5 + k][j] == 2:\n",
    "                globals()['L{}_label2'.format(k)] = globals()['L{}_label2'.format(k)] + 1\n",
    "\n",
    "\n",
    "print(\"Layer 0  ==> label 0, 1, 2 갯수 : \", L0_label0, L0_label1, L0_label2)\n",
    "print(\"Layer 2  ==> label 0, 1, 2 갯수 : \", L1_label0, L1_label1, L1_label2)\n",
    "print(\"Layer 4  ==> label 0, 1, 2 갯수 : \", L2_label0, L2_label1, L2_label2)\n",
    "print(\"Layer 6  ==> label 0, 1, 2 갯수 : \", L3_label0, L3_label1, L3_label2)\n",
    "print(\"Layer 7  ==> label 0, 1, 2 갯수 : \", L4_label0, L4_label1, L4_label2)"
   ]
  },
  {
   "cell_type": "code",
   "execution_count": null,
   "metadata": {
    "id": "m4Zb_JoiIf2c"
   },
   "outputs": [],
   "source": []
  },
  {
   "cell_type": "code",
   "execution_count": 14,
   "metadata": {
    "colab": {
     "base_uri": "https://localhost:8080/",
     "height": 1000
    },
    "executionInfo": {
     "elapsed": 1102,
     "status": "ok",
     "timestamp": 1627663393500,
     "user": {
      "displayName": "이훈민",
      "photoUrl": "",
      "userId": "00157268181097362793"
     },
     "user_tz": 240
    },
    "id": "3mk4C9N2ADYL",
    "outputId": "dd709555-dac1-41ab-dbf9-7902ded192f0"
   },
   "outputs": [
    {
     "name": "stdout",
     "output_type": "stream",
     "text": [
      "Variance Accumulate Layer 0,2,4,6,7\n",
      "--------------------------------------------------------------------------------------------------\n",
      "\n",
      "\n",
      "Var Accumulate Weight\n",
      "--------------------------------------\n",
      "[0.0022793536, 0.006360366, 0.0120136095, 0.01773243, 0.023031201, 0.027469154, 0.0315365, 0.035241332, 0.038443297, 0.04109861]\n",
      "[0.0014470166, 0.002780065, 0.0040043453, 0.0050040185, 0.0058326786, 0.0065606604, 0.00723733, 0.007820669, 0.008433814, 0.009015899]\n",
      "[0.0007516574, 0.001127391, 0.0014581765, 0.0017732196, 0.0020912003, 0.0023990942, 0.0027157315, 0.0030309334, 0.003334336, 0.0036354049]\n",
      "[0.00067347713, 0.0007892817, 0.0009177716, 0.0010739055, 0.0012593709, 0.0014436115, 0.0016385547, 0.0018309974, 0.0020228433, 0.002221825]\n",
      "[0.0034028522, 0.0041247597, 0.0051259906, 0.006359623, 0.007907248, 0.009585094, 0.011398843, 0.013456961, 0.0155353965, 0.017828468]\n",
      "\n",
      "Var Accumulate Bias\n",
      "--------------------------------------\n",
      "[0.00024293811, 0.00091531425, 0.0017564278, 0.002654052, 0.0033071907, 0.003979219, 0.004435853, 0.004913026, 0.0053795865, 0.0057451464]\n",
      "[0.00014718239, 0.00048944936, 0.0011116688, 0.0018289534, 0.0025733588, 0.0034983698, 0.004501296, 0.0054697637, 0.0063160667, 0.007015959]\n",
      "[0.00011925311, 0.0004043822, 0.0008697887, 0.0012494528, 0.0016779378, 0.0019349712, 0.0022263005, 0.0024402281, 0.0027977068, 0.002996042]\n",
      "[7.4280004e-05, 0.000338701, 0.00079339347, 0.0012709396, 0.001637645, 0.0019014254, 0.002264219, 0.0024975967, 0.0025362726, 0.0027172356]\n",
      "[0.0005264703, 0.002067273, 0.004172449, 0.006178434, 0.0081354715, 0.009647328, 0.011382399, 0.012568432, 0.013865547, 0.0153599605]\n",
      "\n",
      "\n",
      "Variance Change Layer 0,2,4,6,7\n",
      "--------------------------------------------------------------------------------------------------\n",
      "\n",
      "\n",
      "Var Changes Weight\n",
      "--------------------------------------\n",
      "[0.0022793536, 0.006360366, 0.0120136095, 0.01773243, 0.023031201, 0.027469154, 0.0315365, 0.035241332, 0.038443297, 0.04109861]\n",
      "[0.0014470166, 0.002780065, 0.0040043453, 0.0050040185, 0.0058326786, 0.0065606604, 0.00723733, 0.007820669, 0.008433814, 0.009015899]\n",
      "[0.0007516574, 0.001127391, 0.0014581765, 0.0017732196, 0.0020912003, 0.0023990942, 0.0027157315, 0.0030309334, 0.003334336, 0.0036354049]\n",
      "[0.00067347713, 0.0007892817, 0.0009177716, 0.0010739055, 0.0012593709, 0.0014436115, 0.0016385547, 0.0018309974, 0.0020228433, 0.002221825]\n",
      "[0.0034028522, 0.0041247597, 0.0051259906, 0.006359623, 0.007907248, 0.009585094, 0.011398843, 0.013456961, 0.0155353965, 0.017828468]\n",
      "\n",
      "Var Changes Bias\n",
      "--------------------------------------\n",
      "[0.00067237613, 0.00084111356, 0.0008976243, 0.0006531386, 0.0006720284, 0.00045663398, 0.0004771729, 0.00046656048, 0.00036555994]\n",
      "[0.00034226698, 0.0006222194, 0.0007172846, 0.00074440544, 0.000925011, 0.0010029264, 0.00096846744, 0.00084630307, 0.0006998922]\n",
      "[0.0002851291, 0.00046540648, 0.00037966412, 0.000428485, 0.0002570334, 0.00029132934, 0.00021392759, 0.00035747862, 0.00019833515]\n",
      "[0.000264421, 0.00045469246, 0.00047754613, 0.00036670535, 0.00026378047, 0.00036279368, 0.00023337756, 3.8675964e-05, 0.00018096296]\n",
      "[0.0015408027, 0.002105176, 0.002005985, 0.0019570375, 0.0015118569, 0.0017350707, 0.0011860328, 0.0012971153, 0.0014944132]\n",
      "\n",
      "Now Check the graph\n",
      "\n"
     ]
    },
    {
     "data": {
      "image/png": "[encoded data removed]",
      "text/plain": [
       "<Figure size 360x216 with 1 Axes>"
      ]
     },
     "metadata": {
      "needs_background": "light"
     },
     "output_type": "display_data"
    },
    {
     "data": {
      "image/png": "[encoded data removed]",
      "text/plain": [
       "<Figure size 360x216 with 1 Axes>"
      ]
     },
     "metadata": {
      "needs_background": "light"
     },
     "output_type": "display_data"
    },
    {
     "data": {
      "image/png": "[encoded data removed]",
      "text/plain": [
       "<Figure size 360x216 with 1 Axes>"
      ]
     },
     "metadata": {
      "needs_background": "light"
     },
     "output_type": "display_data"
    },
    {
     "data": {
      "image/png": "[encoded data removed]",
      "text/plain": [
       "<Figure size 360x216 with 1 Axes>"
      ]
     },
     "metadata": {
      "needs_background": "light"
     },
     "output_type": "display_data"
    }
   ],
   "source": [
    "var_changes_L0_w, var_changes_L2_w, var_changes_L4_w, var_changes_L6_w, var_changes_L7_w = [], [], [], [], [] \n",
    "var_accumulate_L0_w, var_accumulate_L2_w, var_accumulate_L4_w, var_accumulate_L6_w, var_accumulate_L7_w = [], [], [], [], [] \n",
    "\n",
    "var_changes_L0_b, var_changes_L2_b, var_changes_L4_b, var_changes_L6_b, var_changes_L7_b = [], [], [], [], [] \n",
    "var_accumulate_L0_b, var_accumulate_L2_b, var_accumulate_L4_b, var_accumulate_L6_b, var_accumulate_L7_b = [], [], [], [], [] \n",
    "\n",
    "\n",
    "for global_epoch in range(G_epoch-1):\n",
    "    for layer_index in num_layers_list:\n",
    "        sumss_w = (globals()['G{}_c{}_w_layer{}'.format(global_epoch, 0, layer_index)][0] + globals()['G{}_c{}_w_layer{}'.format(global_epoch, 1, layer_index)][0] + globals()['G{}_c{}_w_layer{}'.format(global_epoch, 2, layer_index)][0])/3\n",
    "        globals()['var_accumulate_L{}_w'.format(layer_index)].append(np.var( sumss_w ))\n",
    "        \n",
    "        sumss_b = (globals()['G{}_c{}_w_layer{}'.format(global_epoch, 0, layer_index)][1] + globals()['G{}_c{}_w_layer{}'.format(global_epoch, 1, layer_index)][1] + globals()['G{}_c{}_w_layer{}'.format(global_epoch, 2, layer_index)][1])/3\n",
    "        globals()['var_accumulate_L{}_b'.format(layer_index)].append(np.var( sumss_b ))\n",
    "        \n",
    "        \n",
    "\n",
    "for layer_index in num_layers_list:\n",
    "    for tmp_int in range(len(globals()['var_accumulate_L{}_w'.format(layer_index)])-1):\n",
    "        minus_w = globals()['var_accumulate_L{}_w'.format(layer_index)][tmp_int + 1] - globals()['var_accumulate_L{}_w'.format(layer_index)][tmp_int]\n",
    "        minus_b = globals()['var_accumulate_L{}_b'.format(layer_index)][tmp_int + 1] - globals()['var_accumulate_L{}_b'.format(layer_index)][tmp_int]        \n",
    "        globals()['var_changes_L{}_w'.format(layer_index)].append( minus_w )\n",
    "        globals()['var_changes_L{}_b'.format(layer_index)].append( minus_b )\n",
    "        \n",
    "\n",
    "print(\"Variance Accumulate Layer 0,2,4,6,7\\n--------------------------------------------------------------------------------------------------\\n\")\n",
    "\n",
    "print(\"\\nVar Accumulate Weight\\n--------------------------------------\")\n",
    "for j in num_layers_list:\n",
    "    print(globals()['var_accumulate_L{}_w'.format(j)])\n",
    "\n",
    "print(\"\\nVar Accumulate Bias\\n--------------------------------------\")\n",
    "for j in num_layers_list:\n",
    "    print(globals()['var_accumulate_L{}_b'.format(j)])\n",
    "\n",
    "print(\"\\n\\nVariance Change Layer 0,2,4,6,7\\n--------------------------------------------------------------------------------------------------\\n\")\n",
    "\n",
    "print(\"\\nVar Changes Weight\\n--------------------------------------\")\n",
    "for j in num_layers_list:\n",
    "    print(globals()['var_accumulate_L{}_w'.format(j)])\n",
    "\n",
    "print(\"\\nVar Changes Bias\\n--------------------------------------\")\n",
    "for j in num_layers_list:\n",
    "    print(globals()['var_changes_L{}_b'.format(j)])\n",
    "\n",
    "\n",
    "\n",
    "print(\"\\nNow Check the graph\\n\")\n",
    "\n",
    "plt.figure(figsize=(5,3))\n",
    "for j in num_layers_list:\n",
    "    plt.plot(globals()['var_accumulate_L{}_w'.format(j)])\n",
    "\n",
    "plt.figure(figsize=(5,3))\n",
    "for j in num_layers_list:\n",
    "    plt.plot(globals()['var_accumulate_L{}_b'.format(j)])\n",
    "\n",
    "plt.figure(figsize=(5,3))\n",
    "for j in num_layers_list:\n",
    "    plt.plot(globals()['var_changes_L{}_b'.format(j)])\n",
    "\n",
    "plt.figure(figsize=(5,3))\n",
    "for j in num_layers_list:\n",
    "    plt.plot(globals()['var_changes_L{}_b'.format(j)])\n"
   ]
  },
  {
   "cell_type": "code",
   "execution_count": null,
   "metadata": {
    "id": "PhcQRPgvMwlT"
   },
   "outputs": [],
   "source": []
  },
  {
   "cell_type": "code",
   "execution_count": 14,
   "metadata": {
    "colab": {
     "base_uri": "https://localhost:8080/",
     "height": 442
    },
    "executionInfo": {
     "elapsed": 6,
     "status": "ok",
     "timestamp": 1627663393501,
     "user": {
      "displayName": "이훈민",
      "photoUrl": "",
      "userId": "00157268181097362793"
     },
     "user_tz": 240
    },
    "id": "3Z0FOMEdHTVi",
    "outputId": "514d47d9-13cb-493b-e1e0-9267c208a77c"
   },
   "outputs": [
    {
     "name": "stdout",
     "output_type": "stream",
     "text": [
      "Distance Layer 0,2,4,6,7\n",
      "--------------------------------------------------------------------------------------------------\n",
      "[0.02511188, 0.04763558, 0.06508798, 0.07176663, 0.07516146, 0.07710164, 0.08028719, 0.08274022, 0.08582613, 0.08913031, 0.09274561, 0.09553892, 0.09820725, 0.10128682, 0.10355726, 0.10657245, 0.10864929, 0.11125898, 0.11274973, 0.11459693]\n",
      "[0.023285441, 0.024472483, 0.03626648, 0.04337701, 0.049321614, 0.055740952, 0.062155426, 0.06880543, 0.07606859, 0.08338216, 0.08968973, 0.09490115, 0.099456936, 0.10341654, 0.106405824, 0.10943126, 0.11245455, 0.11574042, 0.1180042, 0.12057243]\n",
      "[0.020784916, 0.02632572, 0.03625812, 0.04300832, 0.04810465, 0.052977696, 0.058603883, 0.063246496, 0.06820431, 0.07185962, 0.075323865, 0.07801071, 0.080854505, 0.082688436, 0.08460581, 0.08561559, 0.08730352, 0.08834083, 0.08931523, 0.090386786]\n",
      "[0.014882886, 0.018844211, 0.025733411, 0.030052224, 0.034159545, 0.03816857, 0.042060442, 0.045571283, 0.049816765, 0.053394027, 0.05667236, 0.05955702, 0.06219416, 0.06435338, 0.06647417, 0.06850991, 0.07064795, 0.07247697, 0.0737849, 0.07485827]\n",
      "[0.03367328, 0.051046114, 0.07041558, 0.08030671, 0.087875605, 0.09576532, 0.10480466, 0.11422882, 0.12369327, 0.13245013, 0.14129098, 0.14987046, 0.1574556, 0.16557366, 0.17232457, 0.1788742, 0.18543497, 0.19187129, 0.1977254, 0.20412993] \n",
      "\n",
      "Check the graph\n",
      "\n"
     ]
    },
    {
     "data": {
      "image/png": "[encoded data removed]",
      "text/plain": [
       "<Figure size 432x288 with 1 Axes>"
      ]
     },
     "metadata": {
      "needs_background": "light"
     },
     "output_type": "display_data"
    }
   ],
   "source": [
    "from scipy.spatial import distance\n",
    "\n",
    "dist_0, dist_2, dist_4, dist_6, dist_7  = [], [], [], [], []\n",
    "\n",
    "for global_epoch in range(G_epoch): #1이 맞음 = 바꾸지 말기\n",
    "    for layer_index in num_layers_list:\n",
    "        globals()['G{}_w_layer{}'.format(global_epoch, layer_index)] = 0    \n",
    "\n",
    "\n",
    "for global_epoch in range(G_epoch-1):    #2가 맞음 = 바꾸지 말기\n",
    "    for layer_index in num_layers_list:\n",
    "        globals()['G{}_w_layer{}'.format(global_epoch, layer_index)] = (globals()['G{}_c{}_w_layer{}'.format(global_epoch, 0, layer_index)] + globals()['G{}_c{}_w_layer{}'.format(global_epoch, 1, layer_index)] + globals()['G{}_c{}_w_layer{}'.format(global_epoch, 2, layer_index)])/3\n",
    "        globals()['dist_{}'.format(layer_index)].append(np.mean(distance.euclidean(globals()['G{}_w_layer{}'.format(global_epoch, layer_index)], globals()['G{}_w_layer{}'.format(global_epoch+1, layer_index)])))\n",
    "\n",
    "print(\"Distance Layer 0,2,4,6,7\\n--------------------------------------------------------------------------------------------------\")\n",
    "print(dist_0)\n",
    "print(dist_2)\n",
    "print(dist_4)\n",
    "print(dist_6)\n",
    "print(dist_7, \"\\n\\nCheck the graph\\n\")\n",
    "\n",
    "plt.plot(dist_0)\n",
    "plt.plot(dist_2)\n",
    "plt.plot(dist_4)\n",
    "plt.plot(dist_6)\n",
    "plt.plot(dist_7)\n",
    "\n",
    "plt.show()"
   ]
  },
  {
   "cell_type": "code",
   "execution_count": 15,
   "metadata": {
    "colab": {
     "base_uri": "https://localhost:8080/",
     "height": 483
    },
    "executionInfo": {
     "elapsed": 281,
     "status": "ok",
     "timestamp": 1627663393778,
     "user": {
      "displayName": "이훈민",
      "photoUrl": "",
      "userId": "00157268181097362793"
     },
     "user_tz": 240
    },
    "id": "4vSuPXEKhOVJ",
    "outputId": "63be1f9c-a0aa-4a2d-e582-008d021662f2"
   },
   "outputs": [
    {
     "name": "stdout",
     "output_type": "stream",
     "text": [
      "[[0.7639999985694885, 0.7620000243186951, 0.7739999890327454, 0.7839999794960022, 0.7979999780654907, 0.7879999876022339, 0.7699999809265137, 0.800000011920929, 0.777999997138977, 0.7940000295639038, 0.7760000228881836, 0.7979999780654907, 0.8080000281333923, 0.7900000214576721, 0.7739999890327454, 0.7599999904632568, 0.7900000214576721, 0.7919999957084656, 0.7900000214576721, 0.7979999780654907], [0.7599999904632568, 0.6819999814033508, 0.7139999866485596, 0.7599999904632568, 0.7620000243186951, 0.7120000123977661, 0.7480000257492065, 0.6940000057220459, 0.7039999961853027, 0.656000018119812, 0.6759999990463257, 0.7120000123977661, 0.6980000138282776, 0.7039999961853027, 0.7379999756813049, 0.7300000190734863, 0.6919999718666077, 0.7260000109672546, 0.7879999876022339, 0.6299999952316284], [0.7599999904632568, 0.7039999961853027, 0.7559999823570251, 0.7120000123977661, 0.7559999823570251, 0.7099999785423279, 0.765999972820282, 0.7739999890327454, 0.7639999985694885, 0.7400000095367432, 0.734000027179718, 0.7160000205039978, 0.7360000014305115, 0.6759999990463257, 0.7720000147819519, 0.7480000257492065, 0.6740000247955322, 0.7559999823570251, 0.7519999742507935, 0.6819999814033508], [0.765999972820282, 0.7739999890327454, 0.7300000190734863, 0.7559999823570251, 0.7400000095367432, 0.7940000295639038, 0.7599999904632568, 0.765999972820282, 0.7400000095367432, 0.7760000228881836, 0.7580000162124634, 0.777999997138977, 0.7860000133514404, 0.7620000243186951, 0.800000011920929, 0.7419999837875366, 0.7379999756813049, 0.7979999780654907, 0.8080000281333923, 0.7699999809265137], [0.7960000038146973, 0.8040000200271606, 0.7760000228881836, 0.7879999876022339, 0.7839999794960022, 0.7379999756813049, 0.777999997138977, 0.7559999823570251, 0.7839999794960022, 0.7979999780654907, 0.7459999918937683, 0.7680000066757202, 0.7940000295639038, 0.7900000214576721, 0.7820000052452087, 0.7839999794960022, 0.7839999794960022, 0.7540000081062317, 0.8040000200271606, 0.777999997138977], [0.7940000295639038, 0.7760000228881836, 0.7639999985694885, 0.7940000295639038, 0.8240000009536743, 0.8140000104904175, 0.8059999942779541, 0.7760000228881836, 0.7699999809265137, 0.7760000228881836, 0.8199999928474426, 0.7979999780654907, 0.8180000185966492, 0.7620000243186951, 0.800000011920929, 0.7559999823570251, 0.7979999780654907, 0.7699999809265137, 0.7480000257492065, 0.7879999876022339], [0.7979999780654907, 0.7839999794960022, 0.7879999876022339, 0.8080000281333923, 0.8140000104904175, 0.7919999957084656, 0.7940000295639038, 0.7820000052452087, 0.7919999957084656, 0.7960000038146973, 0.8019999861717224, 0.8059999942779541, 0.7820000052452087, 0.8040000200271606, 0.8019999861717224, 0.8019999861717224, 0.8180000185966492, 0.8159999847412109, 0.8080000281333923, 0.8040000200271606], [0.8299999833106995, 0.8360000252723694, 0.7860000133514404, 0.8040000200271606, 0.7960000038146973, 0.7540000081062317, 0.7919999957084656, 0.8040000200271606, 0.8100000023841858, 0.8240000009536743, 0.8220000267028809, 0.8159999847412109, 0.8059999942779541, 0.8339999914169312, 0.8040000200271606, 0.8159999847412109, 0.7979999780654907, 0.8140000104904175, 0.800000011920929, 0.8299999833106995], [0.8420000076293945, 0.828000009059906, 0.8080000281333923, 0.8159999847412109, 0.8339999914169312, 0.7979999780654907, 0.7900000214576721, 0.8299999833106995, 0.8500000238418579, 0.8220000267028809, 0.8320000171661377, 0.8080000281333923, 0.8399999737739563, 0.800000011920929, 0.8379999995231628, 0.828000009059906, 0.800000011920929, 0.8159999847412109, 0.8460000157356262, 0.8059999942779541], [0.8379999995231628, 0.8259999752044678, 0.8140000104904175, 0.8500000238418579, 0.8220000267028809, 0.8339999914169312, 0.8360000252723694, 0.8840000033378601, 0.8259999752044678, 0.8320000171661377, 0.8240000009536743, 0.8299999833106995, 0.8560000061988831, 0.8140000104904175, 0.8220000267028809, 0.8479999899864197, 0.8100000023841858, 0.8259999752044678, 0.8259999752044678, 0.8299999833106995], [0.8100000023841858, 0.8759999871253967, 0.8199999928474426, 0.8240000009536743, 0.7979999780654907, 0.8460000157356262, 0.8479999899864197, 0.8159999847412109, 0.8220000267028809, 0.8220000267028809, 0.8539999723434448, 0.8199999928474426, 0.8399999737739563, 0.8420000076293945, 0.8259999752044678, 0.8579999804496765, 0.8299999833106995, 0.8320000171661377, 0.8399999737739563, 0.8460000157356262], [0.843999981880188, 0.8220000267028809, 0.8240000009536743, 0.8619999885559082, 0.8500000238418579, 0.8740000128746033, 0.8579999804496765, 0.828000009059906, 0.871999979019165, 0.8199999928474426, 0.8500000238418579, 0.8399999737739563, 0.8040000200271606, 0.8479999899864197, 0.8339999914169312, 0.8379999995231628, 0.8519999980926514, 0.8399999737739563, 0.8420000076293945, 0.8299999833106995], [0.843999981880188, 0.8379999995231628, 0.8640000224113464, 0.8619999885559082, 0.8840000033378601, 0.871999979019165, 0.8379999995231628, 0.8539999723434448, 0.8579999804496765, 0.8600000143051147, 0.8659999966621399, 0.8379999995231628, 0.828000009059906, 0.8640000224113464, 0.8199999928474426, 0.8600000143051147, 0.843999981880188, 0.8700000047683716, 0.8460000157356262, 0.8579999804496765], [0.878000020980835, 0.8259999752044678, 0.8500000238418579, 0.8539999723434448, 0.8460000157356262, 0.8579999804496765, 0.8460000157356262, 0.8339999914169312, 0.8600000143051147, 0.8759999871253967, 0.828000009059906, 0.8240000009536743, 0.871999979019165, 0.8619999885559082, 0.8579999804496765, 0.8799999952316284, 0.8560000061988831, 0.8159999847412109, 0.7900000214576721, 0.8299999833106995], [0.8420000076293945, 0.8539999723434448, 0.8700000047683716, 0.8600000143051147, 0.8519999980926514, 0.8600000143051147, 0.8600000143051147, 0.8479999899864197, 0.8399999737739563, 0.8519999980926514, 0.8600000143051147, 0.8259999752044678, 0.8619999885559082, 0.8320000171661377, 0.8339999914169312, 0.8539999723434448, 0.8519999980926514, 0.8640000224113464, 0.8420000076293945, 0.8339999914169312], [0.8759999871253967, 0.8379999995231628, 0.8740000128746033, 0.8479999899864197, 0.8619999885559082, 0.8679999709129333, 0.8479999899864197, 0.8880000114440918, 0.8519999980926514, 0.8600000143051147, 0.8600000143051147, 0.8500000238418579, 0.8500000238418579, 0.8560000061988831, 0.8740000128746033, 0.8560000061988831, 0.8579999804496765, 0.8560000061988831, 0.8240000009536743, 0.843999981880188], [0.8700000047683716, 0.8339999914169312, 0.8740000128746033, 0.8619999885559082, 0.843999981880188, 0.871999979019165, 0.8519999980926514, 0.8659999966621399, 0.8339999914169312, 0.8619999885559082, 0.8100000023841858, 0.8659999966621399, 0.8759999871253967, 0.8659999966621399, 0.8500000238418579, 0.8640000224113464, 0.8759999871253967, 0.8539999723434448, 0.8659999966621399, 0.8640000224113464], [0.878000020980835, 0.871999979019165, 0.8999999761581421, 0.8519999980926514, 0.828000009059906, 0.8560000061988831, 0.8679999709129333, 0.878000020980835, 0.8360000252723694, 0.8859999775886536, 0.843999981880188, 0.8379999995231628, 0.8399999737739563, 0.871999979019165, 0.8519999980926514, 0.8679999709129333, 0.843999981880188, 0.8460000157356262, 0.8579999804496765, 0.8420000076293945], [0.9179999828338623, 0.828000009059906, 0.8759999871253967, 0.8519999980926514, 0.8640000224113464, 0.8859999775886536, 0.8539999723434448, 0.8619999885559082, 0.8840000033378601, 0.878000020980835, 0.8519999980926514, 0.8920000195503235, 0.8560000061988831, 0.8399999737739563, 0.8600000143051147, 0.8539999723434448, 0.8820000290870667, 0.8799999952316284, 0.8659999966621399, 0.8479999899864197], [0.871999979019165, 0.8999999761581421, 0.8679999709129333, 0.8640000224113464, 0.8659999966621399, 0.8820000290870667, 0.8640000224113464, 0.8500000238418579, 0.8980000019073486, 0.8700000047683716, 0.8500000238418579, 0.8700000047683716, 0.8420000076293945, 0.878000020980835, 0.8759999871253967, 0.8579999804496765, 0.878000020980835, 0.8619999885559082, 0.8539999723434448, 0.8659999966621399], [0.8700000047683716, 0.8920000195503235, 0.8420000076293945, 0.8560000061988831, 0.8740000128746033, 0.8679999709129333, 0.871999979019165, 0.8700000047683716, 0.871999979019165, 0.8840000033378601, 0.8640000224113464, 0.8960000276565552, 0.8679999709129333, 0.8360000252723694, 0.8600000143051147, 0.8619999885559082, 0.8740000128746033, 0.8679999709129333, 0.8799999952316284, 0.8700000047683716]]\n",
      "[[0.5602492690086365, 0.6078835725784302, 0.6564731001853943, 0.5969076156616211, 0.5452553033828735, 0.5915877819061279, 0.561091959476471, 0.5105577111244202, 0.5943976044654846, 0.5303263664245605, 0.560311496257782, 0.5463445782661438, 0.5674669742584229, 0.6053977608680725, 0.6681221723556519, 0.5788570046424866, 0.539954423904419, 0.5927503108978271, 0.5619626045227051, 0.5439379215240479], [0.6988604068756104, 0.8481400609016418, 0.8139760494232178, 0.6477786302566528, 0.6559446454048157, 0.759428858757019, 0.6500222682952881, 0.8323985934257507, 0.832662045955658, 0.9630008339881897, 0.7796781063079834, 0.8226848840713501, 0.8506886959075928, 0.7885753512382507, 0.6761839389801025, 0.7711583971977234, 0.7793038487434387, 0.6792088150978088, 0.5916317701339722, 0.8927856087684631], [0.6367550492286682, 0.7072671055793762, 0.7186551690101624, 0.7517345547676086, 0.676251232624054, 0.738852858543396, 0.6334519386291504, 0.684715747833252, 0.6586980819702148, 0.6472631692886353, 0.6593019366264343, 0.7519842982292175, 0.7057192325592041, 0.7421266436576843, 0.6166972517967224, 0.6947226524353027, 0.8156887888908386, 0.6698810458183289, 0.6425939798355103, 0.8085557222366333], [0.608962893486023, 0.64985191822052, 0.6102708578109741, 0.7084900736808777, 0.6596037149429321, 0.6157683730125427, 0.653914749622345, 0.5987367033958435, 0.6402353644371033, 0.6030324697494507, 0.588872492313385, 0.6111204028129578, 0.5871226191520691, 0.6628540754318237, 0.5292990207672119, 0.7617889642715454, 0.6664556264877319, 0.5567367076873779, 0.5530748963356018, 0.6464285254478455], [0.56138014793396, 0.5265392065048218, 0.6048380136489868, 0.6212010383605957, 0.5798761248588562, 0.6016339659690857, 0.5968153476715088, 0.7313798666000366, 0.6357828378677368, 0.586445152759552, 0.7123043537139893, 0.5726782083511353, 0.5187549591064453, 0.5939391851425171, 0.5278962254524231, 0.5627434253692627, 0.6410614848136902, 0.6774669289588928, 0.5510877966880798, 0.5637226700782776], [0.5715610980987549, 0.5994243621826172, 0.587681233882904, 0.5363940000534058, 0.5139907598495483, 0.5096863508224487, 0.5528632402420044, 0.5931258797645569, 0.5959701538085938, 0.5656789541244507, 0.4853617548942566, 0.5106137990951538, 0.4877280294895172, 0.5674285888671875, 0.5718513131141663, 0.6678870916366577, 0.5406783223152161, 0.6034476161003113, 0.6632751226425171, 0.5254377126693726], [0.5600309371948242, 0.6112610697746277, 0.5750467777252197, 0.5267175436019897, 0.5302055478096008, 0.5330260396003723, 0.523105800151825, 0.5460829138755798, 0.4766339957714081, 0.5597251653671265, 0.5147860050201416, 0.5129404664039612, 0.5556196570396423, 0.5432282090187073, 0.5978821516036987, 0.5847490429878235, 0.5029489994049072, 0.4976373314857483, 0.5355679392814636, 0.5424486398696899], [0.5045313835144043, 0.42361539602279663, 0.5508233904838562, 0.5261921286582947, 0.5404861569404602, 0.6251929402351379, 0.5601272583007812, 0.5330397486686707, 0.5076985359191895, 0.5065582394599915, 0.5293222069740295, 0.5039494037628174, 0.4588482677936554, 0.4880848228931427, 0.5114074945449829, 0.5140752196311951, 0.5594079494476318, 0.5178431272506714, 0.5214492082595825, 0.5153061151504517], [0.4279766380786896, 0.4833446443080902, 0.5386006236076355, 0.5058473348617554, 0.42352569103240967, 0.5408316254615784, 0.5281193852424622, 0.5027554035186768, 0.40448641777038574, 0.47411876916885376, 0.46515482664108276, 0.5137102603912354, 0.4443458616733551, 0.5811086893081665, 0.45780524611473083, 0.4694320559501648, 0.5446329712867737, 0.506912350654602, 0.4445192515850067, 0.514423668384552], [0.47231271862983704, 0.47089749574661255, 0.49514734745025635, 0.4328708052635193, 0.49109145998954773, 0.45583105087280273, 0.45663967728614807, 0.3781517446041107, 0.5192936658859253, 0.5011827945709229, 0.4950181543827057, 0.47690829634666443, 0.38541924953460693, 0.49810126423835754, 0.514257550239563, 0.4186563193798065, 0.47377079725265503, 0.48235177993774414, 0.5168191194534302, 0.48609665036201477], [0.5516768097877502, 0.36121174693107605, 0.5080448389053345, 0.4563855230808258, 0.58378666639328, 0.4166299104690552, 0.45398184657096863, 0.5627490282058716, 0.531859815120697, 0.48941919207572937, 0.43171077966690063, 0.5170544981956482, 0.4403549134731293, 0.4665187895298004, 0.49350354075431824, 0.40237268805503845, 0.4354606568813324, 0.4794929027557373, 0.4037542939186096, 0.4508756697177887], [0.42605698108673096, 0.5575307607650757, 0.46796759963035583, 0.38464775681495667, 0.42390525341033936, 0.42197203636169434, 0.43003779649734497, 0.43863049149513245, 0.3703978359699249, 0.48507601022720337, 0.49767380952835083, 0.4579109251499176, 0.5841751098632812, 0.4712095260620117, 0.45239493250846863, 0.48990771174430847, 0.4219895601272583, 0.5025128722190857, 0.4337996244430542, 0.4706469774246216], [0.4494580626487732, 0.44141584634780884, 0.4312020540237427, 0.3748835325241089, 0.3683878183364868, 0.36324256658554077, 0.4700825810432434, 0.4652858376502991, 0.37907251715660095, 0.4064787030220032, 0.42654335498809814, 0.43630513548851013, 0.48263680934906006, 0.3997296094894409, 0.5478779673576355, 0.3913220167160034, 0.5176341533660889, 0.35537153482437134, 0.4143151640892029, 0.3717603385448456], [0.3797529637813568, 0.47348278760910034, 0.44772210717201233, 0.43258219957351685, 0.4090530276298523, 0.4017275869846344, 0.4325483441352844, 0.48226815462112427, 0.42100298404693604, 0.3759519159793854, 0.44721749424934387, 0.4681869447231293, 0.40108710527420044, 0.3678213357925415, 0.4092903137207031, 0.36336302757263184, 0.41824018955230713, 0.5024833083152771, 0.6033239960670471, 0.44731470942497253], [0.4187551438808441, 0.4390854239463806, 0.4079994261264801, 0.38818567991256714, 0.44623252749443054, 0.4178014099597931, 0.43270400166511536, 0.46071505546569824, 0.442557692527771, 0.43299567699432373, 0.39751842617988586, 0.49101266264915466, 0.3880261778831482, 0.4531330168247223, 0.5157492756843567, 0.3671160638332367, 0.4211968183517456, 0.41091108322143555, 0.47007811069488525, 0.47905707359313965], [0.40921497344970703, 0.43234917521476746, 0.3384436070919037, 0.46314889192581177, 0.39621472358703613, 0.33983418345451355, 0.4680493175983429, 0.3512551784515381, 0.42528170347213745, 0.3633663058280945, 0.3970354497432709, 0.40408000349998474, 0.40023282170295715, 0.3491900861263275, 0.3990153670310974, 0.41632694005966187, 0.3911387026309967, 0.46276330947875977, 0.44073277711868286, 0.37497061491012573], [0.38712385296821594, 0.4971768260002136, 0.40866488218307495, 0.4294576942920685, 0.4941445291042328, 0.3932237923145294, 0.49984753131866455, 0.5037977695465088, 0.47458505630493164, 0.4321569502353668, 0.4909498691558838, 0.3917419910430908, 0.3336282968521118, 0.38913893699645996, 0.41616055369377136, 0.4591158330440521, 0.34681934118270874, 0.37189632654190063, 0.39345067739486694, 0.4729728102684021], [0.40210115909576416, 0.4024161696434021, 0.30280187726020813, 0.4442853033542633, 0.5268696546554565, 0.44412872195243835, 0.42999112606048584, 0.3906376361846924, 0.455865740776062, 0.32139521837234497, 0.4095935523509979, 0.5285996198654175, 0.49112117290496826, 0.3515809178352356, 0.3719728887081146, 0.4315689206123352, 0.40182095766067505, 0.4862169027328491, 0.44191354513168335, 0.41348668932914734], [0.2849196195602417, 0.42598819732666016, 0.3416699469089508, 0.4684794247150421, 0.4406881034374237, 0.31370753049850464, 0.4180010259151459, 0.42949026823043823, 0.3410387933254242, 0.3427923619747162, 0.41090670228004456, 0.31987419724464417, 0.4091987609863281, 0.49750494956970215, 0.4249404966831207, 0.42837652564048767, 0.373321533203125, 0.4562082886695862, 0.4172069728374481, 0.39247632026672363], [0.37522605061531067, 0.3199150860309601, 0.5351687073707581, 0.4470973014831543, 0.4434897303581238, 0.36363983154296875, 0.41281673312187195, 0.5262537002563477, 0.32412055134773254, 0.37941595911979675, 0.4860301613807678, 0.36454153060913086, 0.514728307723999, 0.3264612555503845, 0.45319318771362305, 0.4305347800254822, 0.3671451807022095, 0.38181304931640625, 0.4421503245830536, 0.4401699900627136], [0.3699515461921692, 0.35960981249809265, 0.4387188255786896, 0.4055127501487732, 0.39682215452194214, 0.4065389931201935, 0.3840409815311432, 0.42728033661842346, 0.3108338415622711, 0.3919997811317444, 0.4169892370700836, 0.33203163743019104, 0.41535693407058716, 0.48846757411956787, 0.4146635830402374, 0.3987257778644562, 0.3803965151309967, 0.46829041838645935, 0.3674636781215668, 0.419572651386261]]\n"
     ]
    },
    {
     "data": {
      "image/png": "[encoded data removed]",
      "text/plain": [
       "<Figure size 1152x576 with 1 Axes>"
      ]
     },
     "metadata": {
      "needs_background": "light"
     },
     "output_type": "display_data"
    }
   ],
   "source": [
    "average_acc_cluster_list, average_loss_cluster_list = [], []\n",
    "\n",
    "\n",
    "for i in range(len(Cluster_ACC)):    \n",
    "    average_acc_cluster_list.append(np.mean(Cluster_ACC[i]))\n",
    "    average_loss_cluster_list.append(np.mean(Cluster_LOSS[i]))\n",
    "\n",
    "    \n",
    "plt.figure(figsize=(16,8))\n",
    "plt.plot(average_acc_cluster_list, label='Cluster Acc')\n",
    "print(Cluster_ACC)\n",
    "print(Cluster_LOSS)\n",
    "plt.plot(average_loss_cluster_list, label='Cluster Loss')\n",
    "\n",
    "plt.grid(True)\n",
    "plt.legend()\n",
    "plt.show()\n"
   ]
  },
  {
   "cell_type": "code",
   "execution_count": null,
   "metadata": {
    "id": "7afw9VS7PwPX"
   },
   "outputs": [],
   "source": []
  },
  {
   "cell_type": "code",
   "execution_count": null,
   "metadata": {},
   "outputs": [],
   "source": []
  },
  {
   "cell_type": "code",
   "execution_count": null,
   "metadata": {},
   "outputs": [],
   "source": []
  },
  {
   "cell_type": "code",
   "execution_count": 18,
   "metadata": {},
   "outputs": [
    {
     "data": {
      "image/png": "[encoded data removed]",
      "text/plain": [
       "<Figure size 432x288 with 1 Axes>"
      ]
     },
     "metadata": {
      "needs_background": "light"
     },
     "output_type": "display_data"
    }
   ],
   "source": [
    "s0=[9.308111e-05, 0.00034088234, 0.0008528993, 0.0013933093, 0.0017501966, 0.0019712853, 0.002158287, 0.002343431, 0.0024497996, 0.0024948868, 0.0026377835, 0.0029411395, 0.002965647, 0.0031095543, 0.0035136, 0.0035712342, 0.0037800423, 0.0040662047, 0.0043715434, 0.0045852778]\n",
    "s1=[9.957033e-05, 0.00034173572, 0.00079512194, 0.001271609, 0.0016652627, 0.002222647, 0.0027084183, 0.0032530625, 0.0038580676, 0.0045036436, 0.0049464386, 0.005421996, 0.0062861526, 0.0065663233, 0.006910245, 0.007308207, 0.007829885, 0.008244578, 0.008658637, 0.009015758]\n",
    "s2=[0.00011779755, 0.00031647427, 0.0005854015, 0.0009166725, 0.0011046706, 0.0014024298, 0.0016471136, 0.0018031407, 0.0019084022, 0.002006122, 0.0021634114, 0.002223527, 0.0023691123, 0.002419827, 0.0026476826, 0.0027118002, 0.0028405814, 0.0029301066, 0.00298904, 0.003124178]\n",
    "s3=[0.00011958438, 0.00029523773, 0.00055393076, 0.00080076954, 0.0010004715, 0.0011635075, 0.0013973177, 0.0015297381, 0.0016865039, 0.0016872123, 0.0019969228, 0.002071788, 0.0022651723, 0.0024075233, 0.0026439938, 0.0027861046, 0.00288809, 0.0030612336, 0.0031183406, 0.003167307]\n",
    "s4=[0.0005055879, 0.0017465472, 0.003136263, 0.004497133, 0.0058788685, 0.0070724348, 0.00865697, 0.009636545, 0.010753294, 0.011651971, 0.013181863, 0.014309366, 0.015316541, 0.016230872, 0.017489877, 0.018710513, 0.01908454, 0.020383982, 0.0215252, 0.022195445]\n",
    "\n",
    "s = 0 \n",
    "\n",
    "for i in range(5):\n",
    "    tmp_change_w = []\n",
    "\n",
    "    for j in range(19):\n",
    "        tmp_change_w.append(globals()['s{}'.format(i)][j+1] - globals()['s{}'.format(i)][j])\n",
    "        \n",
    "    s = s + np.array(tmp_change_w)\n",
    "    plt.plot(tmp_change_w)\n",
    "s = s/5"
   ]
  },
  {
   "cell_type": "code",
   "execution_count": null,
   "metadata": {},
   "outputs": [],
   "source": []
  }
 ],
 "metadata": {
  "colab": {
   "authorship_tag": "ABX9TyM706Cwuwf90ucbkvXVEEaX",
   "collapsed_sections": [],
   "name": "Test1_paper_Clustering.ipynb",
   "provenance": []
  },
  "kernelspec": {
   "display_name": "Python 3",
   "language": "python",
   "name": "python3"
  },
  "language_info": {
   "codemirror_mode": {
    "name": "ipython",
    "version": 3
   },
   "file_extension": ".py",
   "mimetype": "text/x-python",
   "name": "python",
   "nbconvert_exporter": "python",
   "pygments_lexer": "ipython3",
   "version": "3.8.8"
  }
 },
 "nbformat": 4,
 "nbformat_minor": 1
}
